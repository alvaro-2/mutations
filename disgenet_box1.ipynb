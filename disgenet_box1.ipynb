{
 "metadata": {
  "language_info": {
   "codemirror_mode": {
    "name": "ipython",
    "version": 3
   },
   "file_extension": ".py",
   "mimetype": "text/x-python",
   "name": "python",
   "nbconvert_exporter": "python",
   "pygments_lexer": "ipython3",
   "version": "3.9.1"
  },
  "orig_nbformat": 2,
  "kernelspec": {
   "name": "python3",
   "display_name": "Python 3.9.1 64-bit",
   "metadata": {
    "interpreter": {
     "hash": "2647ea34e536f865ab67ff9ddee7fd78773d956cec0cab53c79b32cd10da5d83"
    }
   }
  }
 },
 "nbformat": 4,
 "nbformat_minor": 2,
 "cells": [
  {
   "cell_type": "code",
   "execution_count": 2,
   "metadata": {},
   "outputs": [],
   "source": [
    "import pandas as pd\n",
    "import numpy as np\n",
    "import re"
   ]
  },
  {
   "source": [
    "## Cargar datasets"
   ],
   "cell_type": "markdown",
   "metadata": {}
  },
  {
   "cell_type": "code",
   "execution_count": 4,
   "metadata": {},
   "outputs": [
    {
     "output_type": "execute_result",
     "data": {
      "text/plain": [
       "  uniprot      organism                           mlo     hgnc_id  length  \\\n",
       "0  O15527  Homo sapiens               nuclear speckle   HGNC:8125     345   \n",
       "1  O43663  Homo sapiens                      pcg body   HGNC:9341     620   \n",
       "2  O75494  Homo sapiens               nuclear speckle  HGNC:16713     262   \n",
       "3  O95613  Homo sapiens  centrosome/spindle pole body  HGNC:16068    3336   \n",
       "4  P08047  Homo sapiens  centrosome/spindle pole body  HGNC:11205     785   \n",
       "\n",
       "                                            sequence  \n",
       "0  MPARALLPRRMGHRTLASTPALWASIPCPRSELRLDLVLPSGQSFR...  \n",
       "1  MRRSEVLAEESIVCLQKALNHLREIWELIGIPEDQRLQRTEVVKKH...  \n",
       "2  MSRYLRPPNTSLFVRNVADDTRSEDLRREFGRYGPIVDVYVPLDFY...  \n",
       "3  MEVEQEQRRRKVEAGRTKLAHFRQRKTKGDSSHSEKKTAKRKGSAV...  \n",
       "4  MSDQDHSMDEMTAVVKIEKGVGGNNGGNGNGGGAFSQARSSSTGSS...  "
      ],
      "text/html": "<div>\n<style scoped>\n    .dataframe tbody tr th:only-of-type {\n        vertical-align: middle;\n    }\n\n    .dataframe tbody tr th {\n        vertical-align: top;\n    }\n\n    .dataframe thead th {\n        text-align: right;\n    }\n</style>\n<table border=\"1\" class=\"dataframe\">\n  <thead>\n    <tr style=\"text-align: right;\">\n      <th></th>\n      <th>uniprot</th>\n      <th>organism</th>\n      <th>mlo</th>\n      <th>hgnc_id</th>\n      <th>length</th>\n      <th>sequence</th>\n    </tr>\n  </thead>\n  <tbody>\n    <tr>\n      <th>0</th>\n      <td>O15527</td>\n      <td>Homo sapiens</td>\n      <td>nuclear speckle</td>\n      <td>HGNC:8125</td>\n      <td>345</td>\n      <td>MPARALLPRRMGHRTLASTPALWASIPCPRSELRLDLVLPSGQSFR...</td>\n    </tr>\n    <tr>\n      <th>1</th>\n      <td>O43663</td>\n      <td>Homo sapiens</td>\n      <td>pcg body</td>\n      <td>HGNC:9341</td>\n      <td>620</td>\n      <td>MRRSEVLAEESIVCLQKALNHLREIWELIGIPEDQRLQRTEVVKKH...</td>\n    </tr>\n    <tr>\n      <th>2</th>\n      <td>O75494</td>\n      <td>Homo sapiens</td>\n      <td>nuclear speckle</td>\n      <td>HGNC:16713</td>\n      <td>262</td>\n      <td>MSRYLRPPNTSLFVRNVADDTRSEDLRREFGRYGPIVDVYVPLDFY...</td>\n    </tr>\n    <tr>\n      <th>3</th>\n      <td>O95613</td>\n      <td>Homo sapiens</td>\n      <td>centrosome/spindle pole body</td>\n      <td>HGNC:16068</td>\n      <td>3336</td>\n      <td>MEVEQEQRRRKVEAGRTKLAHFRQRKTKGDSSHSEKKTAKRKGSAV...</td>\n    </tr>\n    <tr>\n      <th>4</th>\n      <td>P08047</td>\n      <td>Homo sapiens</td>\n      <td>centrosome/spindle pole body</td>\n      <td>HGNC:11205</td>\n      <td>785</td>\n      <td>MSDQDHSMDEMTAVVKIEKGVGGNNGGNGNGGGAFSQARSSSTGSS...</td>\n    </tr>\n  </tbody>\n</table>\n</div>"
     },
     "metadata": {},
     "execution_count": 4
    }
   ],
   "source": [
    "# Box1 database\n",
    "box = pd.read_csv('box1_proteins.csv')\n",
    "box.head()"
   ]
  },
  {
   "cell_type": "code",
   "execution_count": 11,
   "metadata": {},
   "outputs": [
    {
     "output_type": "execute_result",
     "data": {
      "text/plain": [
       "       gene_stable_id transcript_stable_id gene_name source_of_gene_name  \\\n",
       "0     ENSG00000204272      ENST00000637096      NBDY         HGNC Symbol   \n",
       "1     ENSG00000204272      ENST00000374922      NBDY         HGNC Symbol   \n",
       "2     ENSG00000204272      ENST00000423617      NBDY         HGNC Symbol   \n",
       "3     ENSG00000254726      ENST00000532414     MEX3A         HGNC Symbol   \n",
       "4     ENSG00000178199      ENST00000409806   ZC3H12D         HGNC Symbol   \n",
       "...               ...                  ...       ...                 ...   \n",
       "1745  ENSG00000198492      ENST00000542507    YTHDF2         HGNC Symbol   \n",
       "1746  ENSG00000198492      ENST00000373812    YTHDF2         HGNC Symbol   \n",
       "1747  ENSG00000198492      ENST00000541996    YTHDF2         HGNC Symbol   \n",
       "1748  ENSG00000106723      ENST00000375859     SPIN1         HGNC Symbol   \n",
       "1749  ENSG00000131788      ENST00000393045     PIAS3         HGNC Symbol   \n",
       "\n",
       "      transcript_count     hgnc_id uniprot_isoform     uniprot chromosome  \\\n",
       "0                    4  HGNC:50713             NaN  A0A0U1RRE5          X   \n",
       "1                    4  HGNC:50713             NaN  A0A0U1RRE5          X   \n",
       "2                    4  HGNC:50713             NaN  A0A0U1RRE5          X   \n",
       "3                    2  HGNC:33482             NaN      A1L020          1   \n",
       "4                    5  HGNC:21175        A2A288-1      A2A288          6   \n",
       "...                ...         ...             ...         ...        ...   \n",
       "1745                 9  HGNC:31675        Q9Y5A9-1      Q9Y5A9          1   \n",
       "1746                 9  HGNC:31675        Q9Y5A9-1      Q9Y5A9          1   \n",
       "1747                 9  HGNC:31675        Q9Y5A9-2      Q9Y5A9          1   \n",
       "1748                 6  HGNC:11243             NaN      Q9Y657          9   \n",
       "1749                 9  HGNC:16861             NaN      Q9Y6X2          1   \n",
       "\n",
       "      gene_start_(bp)  gene_end_(bp)  \n",
       "0            56729241       56819179  \n",
       "1            56729241       56819179  \n",
       "2            56729241       56819179  \n",
       "3           156072013      156082465  \n",
       "4           149446795      149485014  \n",
       "...               ...            ...  \n",
       "1745         28736621       28769775  \n",
       "1746         28736621       28769775  \n",
       "1747         28736621       28769775  \n",
       "1748         88388430       88478694  \n",
       "1749        145848522      145859836  \n",
       "\n",
       "[1750 rows x 11 columns]"
      ],
      "text/html": "<div>\n<style scoped>\n    .dataframe tbody tr th:only-of-type {\n        vertical-align: middle;\n    }\n\n    .dataframe tbody tr th {\n        vertical-align: top;\n    }\n\n    .dataframe thead th {\n        text-align: right;\n    }\n</style>\n<table border=\"1\" class=\"dataframe\">\n  <thead>\n    <tr style=\"text-align: right;\">\n      <th></th>\n      <th>gene_stable_id</th>\n      <th>transcript_stable_id</th>\n      <th>gene_name</th>\n      <th>source_of_gene_name</th>\n      <th>transcript_count</th>\n      <th>hgnc_id</th>\n      <th>uniprot_isoform</th>\n      <th>uniprot</th>\n      <th>chromosome</th>\n      <th>gene_start_(bp)</th>\n      <th>gene_end_(bp)</th>\n    </tr>\n  </thead>\n  <tbody>\n    <tr>\n      <th>0</th>\n      <td>ENSG00000204272</td>\n      <td>ENST00000637096</td>\n      <td>NBDY</td>\n      <td>HGNC Symbol</td>\n      <td>4</td>\n      <td>HGNC:50713</td>\n      <td>NaN</td>\n      <td>A0A0U1RRE5</td>\n      <td>X</td>\n      <td>56729241</td>\n      <td>56819179</td>\n    </tr>\n    <tr>\n      <th>1</th>\n      <td>ENSG00000204272</td>\n      <td>ENST00000374922</td>\n      <td>NBDY</td>\n      <td>HGNC Symbol</td>\n      <td>4</td>\n      <td>HGNC:50713</td>\n      <td>NaN</td>\n      <td>A0A0U1RRE5</td>\n      <td>X</td>\n      <td>56729241</td>\n      <td>56819179</td>\n    </tr>\n    <tr>\n      <th>2</th>\n      <td>ENSG00000204272</td>\n      <td>ENST00000423617</td>\n      <td>NBDY</td>\n      <td>HGNC Symbol</td>\n      <td>4</td>\n      <td>HGNC:50713</td>\n      <td>NaN</td>\n      <td>A0A0U1RRE5</td>\n      <td>X</td>\n      <td>56729241</td>\n      <td>56819179</td>\n    </tr>\n    <tr>\n      <th>3</th>\n      <td>ENSG00000254726</td>\n      <td>ENST00000532414</td>\n      <td>MEX3A</td>\n      <td>HGNC Symbol</td>\n      <td>2</td>\n      <td>HGNC:33482</td>\n      <td>NaN</td>\n      <td>A1L020</td>\n      <td>1</td>\n      <td>156072013</td>\n      <td>156082465</td>\n    </tr>\n    <tr>\n      <th>4</th>\n      <td>ENSG00000178199</td>\n      <td>ENST00000409806</td>\n      <td>ZC3H12D</td>\n      <td>HGNC Symbol</td>\n      <td>5</td>\n      <td>HGNC:21175</td>\n      <td>A2A288-1</td>\n      <td>A2A288</td>\n      <td>6</td>\n      <td>149446795</td>\n      <td>149485014</td>\n    </tr>\n    <tr>\n      <th>...</th>\n      <td>...</td>\n      <td>...</td>\n      <td>...</td>\n      <td>...</td>\n      <td>...</td>\n      <td>...</td>\n      <td>...</td>\n      <td>...</td>\n      <td>...</td>\n      <td>...</td>\n      <td>...</td>\n    </tr>\n    <tr>\n      <th>1745</th>\n      <td>ENSG00000198492</td>\n      <td>ENST00000542507</td>\n      <td>YTHDF2</td>\n      <td>HGNC Symbol</td>\n      <td>9</td>\n      <td>HGNC:31675</td>\n      <td>Q9Y5A9-1</td>\n      <td>Q9Y5A9</td>\n      <td>1</td>\n      <td>28736621</td>\n      <td>28769775</td>\n    </tr>\n    <tr>\n      <th>1746</th>\n      <td>ENSG00000198492</td>\n      <td>ENST00000373812</td>\n      <td>YTHDF2</td>\n      <td>HGNC Symbol</td>\n      <td>9</td>\n      <td>HGNC:31675</td>\n      <td>Q9Y5A9-1</td>\n      <td>Q9Y5A9</td>\n      <td>1</td>\n      <td>28736621</td>\n      <td>28769775</td>\n    </tr>\n    <tr>\n      <th>1747</th>\n      <td>ENSG00000198492</td>\n      <td>ENST00000541996</td>\n      <td>YTHDF2</td>\n      <td>HGNC Symbol</td>\n      <td>9</td>\n      <td>HGNC:31675</td>\n      <td>Q9Y5A9-2</td>\n      <td>Q9Y5A9</td>\n      <td>1</td>\n      <td>28736621</td>\n      <td>28769775</td>\n    </tr>\n    <tr>\n      <th>1748</th>\n      <td>ENSG00000106723</td>\n      <td>ENST00000375859</td>\n      <td>SPIN1</td>\n      <td>HGNC Symbol</td>\n      <td>6</td>\n      <td>HGNC:11243</td>\n      <td>NaN</td>\n      <td>Q9Y657</td>\n      <td>9</td>\n      <td>88388430</td>\n      <td>88478694</td>\n    </tr>\n    <tr>\n      <th>1749</th>\n      <td>ENSG00000131788</td>\n      <td>ENST00000393045</td>\n      <td>PIAS3</td>\n      <td>HGNC Symbol</td>\n      <td>9</td>\n      <td>HGNC:16861</td>\n      <td>NaN</td>\n      <td>Q9Y6X2</td>\n      <td>1</td>\n      <td>145848522</td>\n      <td>145859836</td>\n    </tr>\n  </tbody>\n</table>\n<p>1750 rows × 11 columns</p>\n</div>"
     },
     "metadata": {},
     "execution_count": 11
    }
   ],
   "source": [
    "# de Ensembl Biomart genere una tabla con gene_id y los posiblos transcriptos para cada uniprot de box1\n",
    "bm = pd.read_csv('mart_export_uniprotid.tsv.gz', sep='\\t', compression='gzip')\n",
    "bm.columns = bm.columns.str.lower().str.replace(' ',\"_\").str.replace(\"-\",'_').str.replace('/','_')\n",
    "bm = bm.rename(columns={'chromosome_scaffold_name' : 'chromosome', 'uniprotkb_swiss_prot_id': 'uniprot', 'uniprotkb_isoform_id':'uniprot_isoform'})\n",
    "bm"
   ]
  },
  {
   "cell_type": "code",
   "execution_count": 12,
   "metadata": {},
   "outputs": [
    {
     "output_type": "execute_result",
     "data": {
      "text/plain": [
       "       gene_stable_id transcript_stable_id gene_name  transcript_count  \\\n",
       "0     ENSG00000204272      ENST00000637096      NBDY                 4   \n",
       "1     ENSG00000204272      ENST00000374922      NBDY                 4   \n",
       "2     ENSG00000204272      ENST00000423617      NBDY                 4   \n",
       "3     ENSG00000254726      ENST00000532414     MEX3A                 2   \n",
       "4     ENSG00000178199      ENST00000409806   ZC3H12D                 5   \n",
       "...               ...                  ...       ...               ...   \n",
       "1745  ENSG00000198492      ENST00000542507    YTHDF2                 9   \n",
       "1746  ENSG00000198492      ENST00000373812    YTHDF2                 9   \n",
       "1747  ENSG00000198492      ENST00000541996    YTHDF2                 9   \n",
       "1748  ENSG00000106723      ENST00000375859     SPIN1                 6   \n",
       "1749  ENSG00000131788      ENST00000393045     PIAS3                 9   \n",
       "\n",
       "         hgnc_id uniprot_isoform     uniprot chromosome  gene_start_(bp)  \\\n",
       "0     HGNC:50713             NaN  A0A0U1RRE5          X         56729241   \n",
       "1     HGNC:50713             NaN  A0A0U1RRE5          X         56729241   \n",
       "2     HGNC:50713             NaN  A0A0U1RRE5          X         56729241   \n",
       "3     HGNC:33482             NaN      A1L020          1        156072013   \n",
       "4     HGNC:21175        A2A288-1      A2A288          6        149446795   \n",
       "...          ...             ...         ...        ...              ...   \n",
       "1745  HGNC:31675        Q9Y5A9-1      Q9Y5A9          1         28736621   \n",
       "1746  HGNC:31675        Q9Y5A9-1      Q9Y5A9          1         28736621   \n",
       "1747  HGNC:31675        Q9Y5A9-2      Q9Y5A9          1         28736621   \n",
       "1748  HGNC:11243             NaN      Q9Y657          9         88388430   \n",
       "1749  HGNC:16861             NaN      Q9Y6X2          1        145848522   \n",
       "\n",
       "      gene_end_(bp)  \n",
       "0          56819179  \n",
       "1          56819179  \n",
       "2          56819179  \n",
       "3         156082465  \n",
       "4         149485014  \n",
       "...             ...  \n",
       "1745       28769775  \n",
       "1746       28769775  \n",
       "1747       28769775  \n",
       "1748       88478694  \n",
       "1749      145859836  \n",
       "\n",
       "[1606 rows x 10 columns]"
      ],
      "text/html": "<div>\n<style scoped>\n    .dataframe tbody tr th:only-of-type {\n        vertical-align: middle;\n    }\n\n    .dataframe tbody tr th {\n        vertical-align: top;\n    }\n\n    .dataframe thead th {\n        text-align: right;\n    }\n</style>\n<table border=\"1\" class=\"dataframe\">\n  <thead>\n    <tr style=\"text-align: right;\">\n      <th></th>\n      <th>gene_stable_id</th>\n      <th>transcript_stable_id</th>\n      <th>gene_name</th>\n      <th>transcript_count</th>\n      <th>hgnc_id</th>\n      <th>uniprot_isoform</th>\n      <th>uniprot</th>\n      <th>chromosome</th>\n      <th>gene_start_(bp)</th>\n      <th>gene_end_(bp)</th>\n    </tr>\n  </thead>\n  <tbody>\n    <tr>\n      <th>0</th>\n      <td>ENSG00000204272</td>\n      <td>ENST00000637096</td>\n      <td>NBDY</td>\n      <td>4</td>\n      <td>HGNC:50713</td>\n      <td>NaN</td>\n      <td>A0A0U1RRE5</td>\n      <td>X</td>\n      <td>56729241</td>\n      <td>56819179</td>\n    </tr>\n    <tr>\n      <th>1</th>\n      <td>ENSG00000204272</td>\n      <td>ENST00000374922</td>\n      <td>NBDY</td>\n      <td>4</td>\n      <td>HGNC:50713</td>\n      <td>NaN</td>\n      <td>A0A0U1RRE5</td>\n      <td>X</td>\n      <td>56729241</td>\n      <td>56819179</td>\n    </tr>\n    <tr>\n      <th>2</th>\n      <td>ENSG00000204272</td>\n      <td>ENST00000423617</td>\n      <td>NBDY</td>\n      <td>4</td>\n      <td>HGNC:50713</td>\n      <td>NaN</td>\n      <td>A0A0U1RRE5</td>\n      <td>X</td>\n      <td>56729241</td>\n      <td>56819179</td>\n    </tr>\n    <tr>\n      <th>3</th>\n      <td>ENSG00000254726</td>\n      <td>ENST00000532414</td>\n      <td>MEX3A</td>\n      <td>2</td>\n      <td>HGNC:33482</td>\n      <td>NaN</td>\n      <td>A1L020</td>\n      <td>1</td>\n      <td>156072013</td>\n      <td>156082465</td>\n    </tr>\n    <tr>\n      <th>4</th>\n      <td>ENSG00000178199</td>\n      <td>ENST00000409806</td>\n      <td>ZC3H12D</td>\n      <td>5</td>\n      <td>HGNC:21175</td>\n      <td>A2A288-1</td>\n      <td>A2A288</td>\n      <td>6</td>\n      <td>149446795</td>\n      <td>149485014</td>\n    </tr>\n    <tr>\n      <th>...</th>\n      <td>...</td>\n      <td>...</td>\n      <td>...</td>\n      <td>...</td>\n      <td>...</td>\n      <td>...</td>\n      <td>...</td>\n      <td>...</td>\n      <td>...</td>\n      <td>...</td>\n    </tr>\n    <tr>\n      <th>1745</th>\n      <td>ENSG00000198492</td>\n      <td>ENST00000542507</td>\n      <td>YTHDF2</td>\n      <td>9</td>\n      <td>HGNC:31675</td>\n      <td>Q9Y5A9-1</td>\n      <td>Q9Y5A9</td>\n      <td>1</td>\n      <td>28736621</td>\n      <td>28769775</td>\n    </tr>\n    <tr>\n      <th>1746</th>\n      <td>ENSG00000198492</td>\n      <td>ENST00000373812</td>\n      <td>YTHDF2</td>\n      <td>9</td>\n      <td>HGNC:31675</td>\n      <td>Q9Y5A9-1</td>\n      <td>Q9Y5A9</td>\n      <td>1</td>\n      <td>28736621</td>\n      <td>28769775</td>\n    </tr>\n    <tr>\n      <th>1747</th>\n      <td>ENSG00000198492</td>\n      <td>ENST00000541996</td>\n      <td>YTHDF2</td>\n      <td>9</td>\n      <td>HGNC:31675</td>\n      <td>Q9Y5A9-2</td>\n      <td>Q9Y5A9</td>\n      <td>1</td>\n      <td>28736621</td>\n      <td>28769775</td>\n    </tr>\n    <tr>\n      <th>1748</th>\n      <td>ENSG00000106723</td>\n      <td>ENST00000375859</td>\n      <td>SPIN1</td>\n      <td>6</td>\n      <td>HGNC:11243</td>\n      <td>NaN</td>\n      <td>Q9Y657</td>\n      <td>9</td>\n      <td>88388430</td>\n      <td>88478694</td>\n    </tr>\n    <tr>\n      <th>1749</th>\n      <td>ENSG00000131788</td>\n      <td>ENST00000393045</td>\n      <td>PIAS3</td>\n      <td>9</td>\n      <td>HGNC:16861</td>\n      <td>NaN</td>\n      <td>Q9Y6X2</td>\n      <td>1</td>\n      <td>145848522</td>\n      <td>145859836</td>\n    </tr>\n  </tbody>\n</table>\n<p>1606 rows × 10 columns</p>\n</div>"
     },
     "metadata": {},
     "execution_count": 12
    }
   ],
   "source": [
    "bm['chr'] = bm.chromosome.map(lambda x: re.findall('[A-W].*', x)) # busco todos los que no son chr reales\n",
    "bm['chr'] = bm.chr.str[0]\n",
    "bm = bm[bm.chr.isnull()] # los que son nulos en esta col significa que son los reales en chromosome (X, Y, 6, etc)\n",
    "bm = bm.drop(columns= ['chr', 'source_of_gene_name'])\n",
    "bm"
   ]
  },
  {
   "cell_type": "code",
   "execution_count": 13,
   "metadata": {},
   "outputs": [],
   "source": [
    "# creo una serie con las isoformas\n",
    "isoformas = pd.Series((bm[bm.uniprot_isoform.notnull()]).uniprot_isoform.unique()) # no todas las prot tienen isoformas\n",
    "#isoformas.to_csv('isoformas.csv', sep=',', index=False, header=None)"
   ]
  },
  {
   "cell_type": "code",
   "execution_count": 28,
   "metadata": {},
   "outputs": [],
   "source": [
    "nn = bm[bm.uniprot.notnull() & bm.uniprot_isoform.notnull()]"
   ]
  },
  {
   "cell_type": "code",
   "execution_count": 29,
   "metadata": {},
   "outputs": [
    {
     "output_type": "execute_result",
     "data": {
      "text/plain": [
       "       gene_stable_id transcript_stable_id gene_name  transcript_count  \\\n",
       "4     ENSG00000178199      ENST00000409806   ZC3H12D                 5   \n",
       "5     ENSG00000105793      ENST00000257659   GTPBP10                12   \n",
       "6     ENSG00000105793      ENST00000380058   GTPBP10                12   \n",
       "7     ENSG00000105793      ENST00000222511   GTPBP10                12   \n",
       "8     ENSG00000125107      ENST00000317147     CNOT1                23   \n",
       "...               ...                  ...       ...               ...   \n",
       "1741  ENSG00000106355      ENST00000409782      LSM5                10   \n",
       "1742  ENSG00000106355      ENST00000409952      LSM5                10   \n",
       "1745  ENSG00000198492      ENST00000542507    YTHDF2                 9   \n",
       "1746  ENSG00000198492      ENST00000373812    YTHDF2                 9   \n",
       "1747  ENSG00000198492      ENST00000541996    YTHDF2                 9   \n",
       "\n",
       "         hgnc_id uniprot_isoform uniprot chromosome  gene_start_(bp)  \\\n",
       "4     HGNC:21175        A2A288-1  A2A288          6        149446795   \n",
       "5     HGNC:25106        A4D1E9-2  A4D1E9          7         90335223   \n",
       "6     HGNC:25106        A4D1E9-3  A4D1E9          7         90335223   \n",
       "7     HGNC:25106        A4D1E9-1  A4D1E9          7         90335223   \n",
       "8      HGNC:7877        A5YKK6-1  A5YKK6         16         58519951   \n",
       "...          ...             ...     ...        ...              ...   \n",
       "1741  HGNC:17162        Q9Y4Y9-2  Q9Y4Y9          7         32485338   \n",
       "1742  HGNC:17162        Q9Y4Y9-2  Q9Y4Y9          7         32485338   \n",
       "1745  HGNC:31675        Q9Y5A9-1  Q9Y5A9          1         28736621   \n",
       "1746  HGNC:31675        Q9Y5A9-1  Q9Y5A9          1         28736621   \n",
       "1747  HGNC:31675        Q9Y5A9-2  Q9Y5A9          1         28736621   \n",
       "\n",
       "      gene_end_(bp)  \n",
       "4         149485014  \n",
       "5          90391453  \n",
       "6          90391453  \n",
       "7          90391453  \n",
       "8          58629885  \n",
       "...             ...  \n",
       "1741       32495283  \n",
       "1742       32495283  \n",
       "1745       28769775  \n",
       "1746       28769775  \n",
       "1747       28769775  \n",
       "\n",
       "[1283 rows x 10 columns]"
      ],
      "text/html": "<div>\n<style scoped>\n    .dataframe tbody tr th:only-of-type {\n        vertical-align: middle;\n    }\n\n    .dataframe tbody tr th {\n        vertical-align: top;\n    }\n\n    .dataframe thead th {\n        text-align: right;\n    }\n</style>\n<table border=\"1\" class=\"dataframe\">\n  <thead>\n    <tr style=\"text-align: right;\">\n      <th></th>\n      <th>gene_stable_id</th>\n      <th>transcript_stable_id</th>\n      <th>gene_name</th>\n      <th>transcript_count</th>\n      <th>hgnc_id</th>\n      <th>uniprot_isoform</th>\n      <th>uniprot</th>\n      <th>chromosome</th>\n      <th>gene_start_(bp)</th>\n      <th>gene_end_(bp)</th>\n    </tr>\n  </thead>\n  <tbody>\n    <tr>\n      <th>4</th>\n      <td>ENSG00000178199</td>\n      <td>ENST00000409806</td>\n      <td>ZC3H12D</td>\n      <td>5</td>\n      <td>HGNC:21175</td>\n      <td>A2A288-1</td>\n      <td>A2A288</td>\n      <td>6</td>\n      <td>149446795</td>\n      <td>149485014</td>\n    </tr>\n    <tr>\n      <th>5</th>\n      <td>ENSG00000105793</td>\n      <td>ENST00000257659</td>\n      <td>GTPBP10</td>\n      <td>12</td>\n      <td>HGNC:25106</td>\n      <td>A4D1E9-2</td>\n      <td>A4D1E9</td>\n      <td>7</td>\n      <td>90335223</td>\n      <td>90391453</td>\n    </tr>\n    <tr>\n      <th>6</th>\n      <td>ENSG00000105793</td>\n      <td>ENST00000380058</td>\n      <td>GTPBP10</td>\n      <td>12</td>\n      <td>HGNC:25106</td>\n      <td>A4D1E9-3</td>\n      <td>A4D1E9</td>\n      <td>7</td>\n      <td>90335223</td>\n      <td>90391453</td>\n    </tr>\n    <tr>\n      <th>7</th>\n      <td>ENSG00000105793</td>\n      <td>ENST00000222511</td>\n      <td>GTPBP10</td>\n      <td>12</td>\n      <td>HGNC:25106</td>\n      <td>A4D1E9-1</td>\n      <td>A4D1E9</td>\n      <td>7</td>\n      <td>90335223</td>\n      <td>90391453</td>\n    </tr>\n    <tr>\n      <th>8</th>\n      <td>ENSG00000125107</td>\n      <td>ENST00000317147</td>\n      <td>CNOT1</td>\n      <td>23</td>\n      <td>HGNC:7877</td>\n      <td>A5YKK6-1</td>\n      <td>A5YKK6</td>\n      <td>16</td>\n      <td>58519951</td>\n      <td>58629885</td>\n    </tr>\n    <tr>\n      <th>...</th>\n      <td>...</td>\n      <td>...</td>\n      <td>...</td>\n      <td>...</td>\n      <td>...</td>\n      <td>...</td>\n      <td>...</td>\n      <td>...</td>\n      <td>...</td>\n      <td>...</td>\n    </tr>\n    <tr>\n      <th>1741</th>\n      <td>ENSG00000106355</td>\n      <td>ENST00000409782</td>\n      <td>LSM5</td>\n      <td>10</td>\n      <td>HGNC:17162</td>\n      <td>Q9Y4Y9-2</td>\n      <td>Q9Y4Y9</td>\n      <td>7</td>\n      <td>32485338</td>\n      <td>32495283</td>\n    </tr>\n    <tr>\n      <th>1742</th>\n      <td>ENSG00000106355</td>\n      <td>ENST00000409952</td>\n      <td>LSM5</td>\n      <td>10</td>\n      <td>HGNC:17162</td>\n      <td>Q9Y4Y9-2</td>\n      <td>Q9Y4Y9</td>\n      <td>7</td>\n      <td>32485338</td>\n      <td>32495283</td>\n    </tr>\n    <tr>\n      <th>1745</th>\n      <td>ENSG00000198492</td>\n      <td>ENST00000542507</td>\n      <td>YTHDF2</td>\n      <td>9</td>\n      <td>HGNC:31675</td>\n      <td>Q9Y5A9-1</td>\n      <td>Q9Y5A9</td>\n      <td>1</td>\n      <td>28736621</td>\n      <td>28769775</td>\n    </tr>\n    <tr>\n      <th>1746</th>\n      <td>ENSG00000198492</td>\n      <td>ENST00000373812</td>\n      <td>YTHDF2</td>\n      <td>9</td>\n      <td>HGNC:31675</td>\n      <td>Q9Y5A9-1</td>\n      <td>Q9Y5A9</td>\n      <td>1</td>\n      <td>28736621</td>\n      <td>28769775</td>\n    </tr>\n    <tr>\n      <th>1747</th>\n      <td>ENSG00000198492</td>\n      <td>ENST00000541996</td>\n      <td>YTHDF2</td>\n      <td>9</td>\n      <td>HGNC:31675</td>\n      <td>Q9Y5A9-2</td>\n      <td>Q9Y5A9</td>\n      <td>1</td>\n      <td>28736621</td>\n      <td>28769775</td>\n    </tr>\n  </tbody>\n</table>\n<p>1283 rows × 10 columns</p>\n</div>"
     },
     "metadata": {},
     "execution_count": 29
    }
   ],
   "source": [
    "nn"
   ]
  },
  {
   "cell_type": "code",
   "execution_count": 25,
   "metadata": {},
   "outputs": [
    {
     "output_type": "execute_result",
     "data": {
      "text/plain": [
       "582"
      ]
     },
     "metadata": {},
     "execution_count": 25
    }
   ],
   "source": [
    "len(bm.uniprot.unique())"
   ]
  },
  {
   "cell_type": "code",
   "execution_count": 30,
   "metadata": {},
   "outputs": [
    {
     "output_type": "execute_result",
     "data": {
      "text/plain": [
       "388"
      ]
     },
     "metadata": {},
     "execution_count": 30
    }
   ],
   "source": [
    "len(nn.uniprot.unique())"
   ]
  },
  {
   "cell_type": "code",
   "execution_count": 32,
   "metadata": {},
   "outputs": [],
   "source": [
    "m = bm[['uniprot', 'uniprot_isoform']]"
   ]
  },
  {
   "cell_type": "code",
   "execution_count": 33,
   "metadata": {},
   "outputs": [
    {
     "output_type": "execute_result",
     "data": {
      "text/plain": [
       "582"
      ]
     },
     "metadata": {},
     "execution_count": 33
    }
   ],
   "source": [
    "len(m.uniprot.unique())\n"
   ]
  },
  {
   "cell_type": "code",
   "execution_count": 39,
   "metadata": {},
   "outputs": [
    {
     "output_type": "execute_result",
     "data": {
      "text/plain": [
       "         uniprot uniprot_isoform\n",
       "0     A0A0U1RRE5             NaN\n",
       "3         A1L020             NaN\n",
       "4         A2A288        A2A288-1\n",
       "5         A4D1E9        A4D1E9-2\n",
       "6         A4D1E9        A4D1E9-3\n",
       "...          ...             ...\n",
       "1744      Q9Y580             NaN\n",
       "1745      Q9Y5A9        Q9Y5A9-1\n",
       "1747      Q9Y5A9        Q9Y5A9-2\n",
       "1748      Q9Y657             NaN\n",
       "1749      Q9Y6X2             NaN\n",
       "\n",
       "[1220 rows x 2 columns]"
      ],
      "text/html": "<div>\n<style scoped>\n    .dataframe tbody tr th:only-of-type {\n        vertical-align: middle;\n    }\n\n    .dataframe tbody tr th {\n        vertical-align: top;\n    }\n\n    .dataframe thead th {\n        text-align: right;\n    }\n</style>\n<table border=\"1\" class=\"dataframe\">\n  <thead>\n    <tr style=\"text-align: right;\">\n      <th></th>\n      <th>uniprot</th>\n      <th>uniprot_isoform</th>\n    </tr>\n  </thead>\n  <tbody>\n    <tr>\n      <th>0</th>\n      <td>A0A0U1RRE5</td>\n      <td>NaN</td>\n    </tr>\n    <tr>\n      <th>3</th>\n      <td>A1L020</td>\n      <td>NaN</td>\n    </tr>\n    <tr>\n      <th>4</th>\n      <td>A2A288</td>\n      <td>A2A288-1</td>\n    </tr>\n    <tr>\n      <th>5</th>\n      <td>A4D1E9</td>\n      <td>A4D1E9-2</td>\n    </tr>\n    <tr>\n      <th>6</th>\n      <td>A4D1E9</td>\n      <td>A4D1E9-3</td>\n    </tr>\n    <tr>\n      <th>...</th>\n      <td>...</td>\n      <td>...</td>\n    </tr>\n    <tr>\n      <th>1744</th>\n      <td>Q9Y580</td>\n      <td>NaN</td>\n    </tr>\n    <tr>\n      <th>1745</th>\n      <td>Q9Y5A9</td>\n      <td>Q9Y5A9-1</td>\n    </tr>\n    <tr>\n      <th>1747</th>\n      <td>Q9Y5A9</td>\n      <td>Q9Y5A9-2</td>\n    </tr>\n    <tr>\n      <th>1748</th>\n      <td>Q9Y657</td>\n      <td>NaN</td>\n    </tr>\n    <tr>\n      <th>1749</th>\n      <td>Q9Y6X2</td>\n      <td>NaN</td>\n    </tr>\n  </tbody>\n</table>\n<p>1220 rows × 2 columns</p>\n</div>"
     },
     "metadata": {},
     "execution_count": 39
    }
   ],
   "source": [
    "mm = m.drop_duplicates()\n",
    "mm"
   ]
  },
  {
   "cell_type": "code",
   "execution_count": 40,
   "metadata": {},
   "outputs": [
    {
     "output_type": "execute_result",
     "data": {
      "text/plain": [
       "582"
      ]
     },
     "metadata": {},
     "execution_count": 40
    }
   ],
   "source": [
    "len(mm.uniprot.unique())"
   ]
  },
  {
   "source": [
    "# DisGeNET  \n",
    "## variant-disease association dataset"
   ],
   "cell_type": "markdown",
   "metadata": {}
  },
  {
   "cell_type": "code",
   "execution_count": 42,
   "metadata": {},
   "outputs": [],
   "source": [
    "# variant-disease association\n",
    "# este dataset viene de la pagina de downloads\n",
    "vda = pd.read_csv('curated_variant_disease_associations.tsv', sep='\\t')\n",
    "vda.columns = vda.columns.str.lower().str.replace(' ',\"_\").str.replace(\"-\",'_').str.replace('/','_')\n",
    "vda = vda.rename(columns={'snpid':'snp_id'})"
   ]
  },
  {
   "cell_type": "code",
   "execution_count": 43,
   "metadata": {},
   "outputs": [],
   "source": [
    "# Summary of Curated VDAs\n",
    "# este dataset viene de buscar en la web de disgenet y descargarlo completo\n",
    "# lo uso xq tiene mas info que complementa al de arriba\n",
    "sumvda = pd.read_csv('summaryofvdas_CURATED.tsv', sep='\\t')\n",
    "sumvda.columns = sumvda.columns.str.lower().str.replace(' ',\"_\").str.replace(\"-\",'_').str.replace('/','_')\n",
    "sumvda = sumvda.rename(columns={'variant':'snp_id', 'chr':'chromosome', 'gene': 'gene_name'})\n",
    "sumvda = sumvda[['snp_id', 'gene_name', 'gene_id', 'consequence', 'alleles', 'class',\n",
    "        'af_exome', 'alt_ref_exome', 'af_genome', 'alt_ref_genome']]"
   ]
  },
  {
   "cell_type": "code",
   "execution_count": 45,
   "metadata": {},
   "outputs": [
    {
     "output_type": "execute_result",
     "data": {
      "text/plain": [
       "              snp_id chromosome   position    dsi   dpi diseaseid  \\\n",
       "0          rs1000005         21   33060745    NaN   NaN  C0200638   \n",
       "1         rs10000770          4  142693109  1.000  0.04  C0023467   \n",
       "2       rs1000091588         11   68935374  1.000  0.12  C1858517   \n",
       "3          rs1000096          4   38691214    NaN   NaN  C1305855   \n",
       "4         rs10001106          4   10125817  0.925  0.12  C0003868   \n",
       "...              ...        ...        ...    ...   ...       ...   \n",
       "261222     rs9999118          4  123130312  1.000  0.04  C0022104   \n",
       "261223   rs999921351          8   86628939  1.000  0.12  C1849792   \n",
       "261224      rs999943          6   33656956  1.000  0.08  C0028754   \n",
       "261225      rs999944          2   64822719  1.000  0.08  C0520679   \n",
       "261226     rs9999820          4  155197173  0.925  0.08  C0085215   \n",
       "\n",
       "                                              diseasename diseasetype  \\\n",
       "0                              Eosinophil count procedure   phenotype   \n",
       "1                             Leukemia, Myelocytic, Acute     disease   \n",
       "2       SPINAL MUSCULAR ATROPHY WITH RESPIRATORY DISTR...     disease   \n",
       "3                                         Body mass index   phenotype   \n",
       "4                                        Arthritis, Gouty     disease   \n",
       "...                                                   ...         ...   \n",
       "261222                           Irritable Bowel Syndrome     disease   \n",
       "261223                                    Achromatopsia 3     disease   \n",
       "261224                                            Obesity     disease   \n",
       "261225                           Sleep Apnea, Obstructive     disease   \n",
       "261226                         Ovarian Failure, Premature     disease   \n",
       "\n",
       "       diseaseclass   diseasesemantictype  score   ei  yearinitial  yearfinal  \\\n",
       "0               NaN  Laboratory Procedure    0.7  1.0       2016.0     2016.0   \n",
       "1               C04    Neoplastic Process    0.7  1.0       2017.0     2017.0   \n",
       "2       C16;C08;C10   Disease or Syndrome    0.7  1.0       2007.0     2007.0   \n",
       "3               NaN    Clinical Attribute    0.7  1.0       2019.0     2019.0   \n",
       "4       C16;C18;C05   Disease or Syndrome    0.7  1.0       2010.0     2013.0   \n",
       "...             ...                   ...    ...  ...          ...        ...   \n",
       "261222          C06   Disease or Syndrome    0.8  1.0       2014.0     2014.0   \n",
       "261223  C23;C11;C10   Disease or Syndrome    0.7  1.0       2017.0     2017.0   \n",
       "261224      C23;C18   Disease or Syndrome    0.8  1.0       2009.0     2009.0   \n",
       "261225      C08;C10   Disease or Syndrome    0.7  1.0       2016.0     2016.0   \n",
       "261226      C13;C19   Disease or Syndrome    0.7  1.0       2018.0     2018.0   \n",
       "\n",
       "        nofpmids          source  \n",
       "0              1         GWASCAT  \n",
       "1              1         GWASCAT  \n",
       "2              1         CLINVAR  \n",
       "3              1         GWASCAT  \n",
       "4              3          GWASDB  \n",
       "...          ...             ...  \n",
       "261222         1  GWASCAT;GWASDB  \n",
       "261223         1         CLINVAR  \n",
       "261224         1  GWASCAT;GWASDB  \n",
       "261225         1         GWASCAT  \n",
       "261226         1         GWASCAT  \n",
       "\n",
       "[261227 rows x 16 columns]"
      ],
      "text/html": "<div>\n<style scoped>\n    .dataframe tbody tr th:only-of-type {\n        vertical-align: middle;\n    }\n\n    .dataframe tbody tr th {\n        vertical-align: top;\n    }\n\n    .dataframe thead th {\n        text-align: right;\n    }\n</style>\n<table border=\"1\" class=\"dataframe\">\n  <thead>\n    <tr style=\"text-align: right;\">\n      <th></th>\n      <th>snp_id</th>\n      <th>chromosome</th>\n      <th>position</th>\n      <th>dsi</th>\n      <th>dpi</th>\n      <th>diseaseid</th>\n      <th>diseasename</th>\n      <th>diseasetype</th>\n      <th>diseaseclass</th>\n      <th>diseasesemantictype</th>\n      <th>score</th>\n      <th>ei</th>\n      <th>yearinitial</th>\n      <th>yearfinal</th>\n      <th>nofpmids</th>\n      <th>source</th>\n    </tr>\n  </thead>\n  <tbody>\n    <tr>\n      <th>0</th>\n      <td>rs1000005</td>\n      <td>21</td>\n      <td>33060745</td>\n      <td>NaN</td>\n      <td>NaN</td>\n      <td>C0200638</td>\n      <td>Eosinophil count procedure</td>\n      <td>phenotype</td>\n      <td>NaN</td>\n      <td>Laboratory Procedure</td>\n      <td>0.7</td>\n      <td>1.0</td>\n      <td>2016.0</td>\n      <td>2016.0</td>\n      <td>1</td>\n      <td>GWASCAT</td>\n    </tr>\n    <tr>\n      <th>1</th>\n      <td>rs10000770</td>\n      <td>4</td>\n      <td>142693109</td>\n      <td>1.000</td>\n      <td>0.04</td>\n      <td>C0023467</td>\n      <td>Leukemia, Myelocytic, Acute</td>\n      <td>disease</td>\n      <td>C04</td>\n      <td>Neoplastic Process</td>\n      <td>0.7</td>\n      <td>1.0</td>\n      <td>2017.0</td>\n      <td>2017.0</td>\n      <td>1</td>\n      <td>GWASCAT</td>\n    </tr>\n    <tr>\n      <th>2</th>\n      <td>rs1000091588</td>\n      <td>11</td>\n      <td>68935374</td>\n      <td>1.000</td>\n      <td>0.12</td>\n      <td>C1858517</td>\n      <td>SPINAL MUSCULAR ATROPHY WITH RESPIRATORY DISTR...</td>\n      <td>disease</td>\n      <td>C16;C08;C10</td>\n      <td>Disease or Syndrome</td>\n      <td>0.7</td>\n      <td>1.0</td>\n      <td>2007.0</td>\n      <td>2007.0</td>\n      <td>1</td>\n      <td>CLINVAR</td>\n    </tr>\n    <tr>\n      <th>3</th>\n      <td>rs1000096</td>\n      <td>4</td>\n      <td>38691214</td>\n      <td>NaN</td>\n      <td>NaN</td>\n      <td>C1305855</td>\n      <td>Body mass index</td>\n      <td>phenotype</td>\n      <td>NaN</td>\n      <td>Clinical Attribute</td>\n      <td>0.7</td>\n      <td>1.0</td>\n      <td>2019.0</td>\n      <td>2019.0</td>\n      <td>1</td>\n      <td>GWASCAT</td>\n    </tr>\n    <tr>\n      <th>4</th>\n      <td>rs10001106</td>\n      <td>4</td>\n      <td>10125817</td>\n      <td>0.925</td>\n      <td>0.12</td>\n      <td>C0003868</td>\n      <td>Arthritis, Gouty</td>\n      <td>disease</td>\n      <td>C16;C18;C05</td>\n      <td>Disease or Syndrome</td>\n      <td>0.7</td>\n      <td>1.0</td>\n      <td>2010.0</td>\n      <td>2013.0</td>\n      <td>3</td>\n      <td>GWASDB</td>\n    </tr>\n    <tr>\n      <th>...</th>\n      <td>...</td>\n      <td>...</td>\n      <td>...</td>\n      <td>...</td>\n      <td>...</td>\n      <td>...</td>\n      <td>...</td>\n      <td>...</td>\n      <td>...</td>\n      <td>...</td>\n      <td>...</td>\n      <td>...</td>\n      <td>...</td>\n      <td>...</td>\n      <td>...</td>\n      <td>...</td>\n    </tr>\n    <tr>\n      <th>261222</th>\n      <td>rs9999118</td>\n      <td>4</td>\n      <td>123130312</td>\n      <td>1.000</td>\n      <td>0.04</td>\n      <td>C0022104</td>\n      <td>Irritable Bowel Syndrome</td>\n      <td>disease</td>\n      <td>C06</td>\n      <td>Disease or Syndrome</td>\n      <td>0.8</td>\n      <td>1.0</td>\n      <td>2014.0</td>\n      <td>2014.0</td>\n      <td>1</td>\n      <td>GWASCAT;GWASDB</td>\n    </tr>\n    <tr>\n      <th>261223</th>\n      <td>rs999921351</td>\n      <td>8</td>\n      <td>86628939</td>\n      <td>1.000</td>\n      <td>0.12</td>\n      <td>C1849792</td>\n      <td>Achromatopsia 3</td>\n      <td>disease</td>\n      <td>C23;C11;C10</td>\n      <td>Disease or Syndrome</td>\n      <td>0.7</td>\n      <td>1.0</td>\n      <td>2017.0</td>\n      <td>2017.0</td>\n      <td>1</td>\n      <td>CLINVAR</td>\n    </tr>\n    <tr>\n      <th>261224</th>\n      <td>rs999943</td>\n      <td>6</td>\n      <td>33656956</td>\n      <td>1.000</td>\n      <td>0.08</td>\n      <td>C0028754</td>\n      <td>Obesity</td>\n      <td>disease</td>\n      <td>C23;C18</td>\n      <td>Disease or Syndrome</td>\n      <td>0.8</td>\n      <td>1.0</td>\n      <td>2009.0</td>\n      <td>2009.0</td>\n      <td>1</td>\n      <td>GWASCAT;GWASDB</td>\n    </tr>\n    <tr>\n      <th>261225</th>\n      <td>rs999944</td>\n      <td>2</td>\n      <td>64822719</td>\n      <td>1.000</td>\n      <td>0.08</td>\n      <td>C0520679</td>\n      <td>Sleep Apnea, Obstructive</td>\n      <td>disease</td>\n      <td>C08;C10</td>\n      <td>Disease or Syndrome</td>\n      <td>0.7</td>\n      <td>1.0</td>\n      <td>2016.0</td>\n      <td>2016.0</td>\n      <td>1</td>\n      <td>GWASCAT</td>\n    </tr>\n    <tr>\n      <th>261226</th>\n      <td>rs9999820</td>\n      <td>4</td>\n      <td>155197173</td>\n      <td>0.925</td>\n      <td>0.08</td>\n      <td>C0085215</td>\n      <td>Ovarian Failure, Premature</td>\n      <td>disease</td>\n      <td>C13;C19</td>\n      <td>Disease or Syndrome</td>\n      <td>0.7</td>\n      <td>1.0</td>\n      <td>2018.0</td>\n      <td>2018.0</td>\n      <td>1</td>\n      <td>GWASCAT</td>\n    </tr>\n  </tbody>\n</table>\n<p>261227 rows × 16 columns</p>\n</div>"
     },
     "metadata": {},
     "execution_count": 45
    }
   ],
   "source": [
    "vda"
   ]
  },
  {
   "cell_type": "code",
   "execution_count": 44,
   "metadata": {},
   "outputs": [
    {
     "output_type": "execute_result",
     "data": {
      "text/plain": [
       "              snp_id  gene_name    gene_id         consequence alleles class  \\\n",
       "0          rs1000005  LINC00945  101930746      intron variant     G/C   snv   \n",
       "1         rs10000770     INPP4B       8821      intron variant     C/T   snv   \n",
       "2       rs1000091588    IGHMBP2       3508         stop gained     C/T   snv   \n",
       "3          rs1000096       KLF3      51274      intron variant     C/T   snv   \n",
       "4         rs10001106        NaN        NaN  intergenic variant   T/A;C   snv   \n",
       "...              ...        ...        ...                 ...     ...   ...   \n",
       "261222     rs9999118     SPATA5     166378      intron variant     A/G   snv   \n",
       "261223   rs999921351      CNGB3      54714         stop gained     C/T   snv   \n",
       "261224      rs999943      ITPR3       3710      intron variant     A/G   snv   \n",
       "261225      rs999944        NaN        NaN  intergenic variant     A/G   snv   \n",
       "261226     rs9999820      NPY2R       4887      intron variant     A/G   snv   \n",
       "\n",
       "       af_exome alt_ref_exome  af_genome alt_ref_genome  \n",
       "0           NaN           NaN   0.505584            G/C  \n",
       "1           NaN           NaN   0.108425            C/T  \n",
       "2           NaN           NaN   0.000007            C/T  \n",
       "3           NaN           NaN   0.387045            C/T  \n",
       "4           NaN           NaN        NaN            NaN  \n",
       "...         ...           ...        ...            ...  \n",
       "261222      NaN           NaN   0.012246            A/G  \n",
       "261223      NaN           NaN        NaN            NaN  \n",
       "261224      NaN           NaN   0.282840            A/G  \n",
       "261225      NaN           NaN   0.833959            A/G  \n",
       "261226      NaN           NaN   0.664027            A/G  \n",
       "\n",
       "[261227 rows x 10 columns]"
      ],
      "text/html": "<div>\n<style scoped>\n    .dataframe tbody tr th:only-of-type {\n        vertical-align: middle;\n    }\n\n    .dataframe tbody tr th {\n        vertical-align: top;\n    }\n\n    .dataframe thead th {\n        text-align: right;\n    }\n</style>\n<table border=\"1\" class=\"dataframe\">\n  <thead>\n    <tr style=\"text-align: right;\">\n      <th></th>\n      <th>snp_id</th>\n      <th>gene_name</th>\n      <th>gene_id</th>\n      <th>consequence</th>\n      <th>alleles</th>\n      <th>class</th>\n      <th>af_exome</th>\n      <th>alt_ref_exome</th>\n      <th>af_genome</th>\n      <th>alt_ref_genome</th>\n    </tr>\n  </thead>\n  <tbody>\n    <tr>\n      <th>0</th>\n      <td>rs1000005</td>\n      <td>LINC00945</td>\n      <td>101930746</td>\n      <td>intron variant</td>\n      <td>G/C</td>\n      <td>snv</td>\n      <td>NaN</td>\n      <td>NaN</td>\n      <td>0.505584</td>\n      <td>G/C</td>\n    </tr>\n    <tr>\n      <th>1</th>\n      <td>rs10000770</td>\n      <td>INPP4B</td>\n      <td>8821</td>\n      <td>intron variant</td>\n      <td>C/T</td>\n      <td>snv</td>\n      <td>NaN</td>\n      <td>NaN</td>\n      <td>0.108425</td>\n      <td>C/T</td>\n    </tr>\n    <tr>\n      <th>2</th>\n      <td>rs1000091588</td>\n      <td>IGHMBP2</td>\n      <td>3508</td>\n      <td>stop gained</td>\n      <td>C/T</td>\n      <td>snv</td>\n      <td>NaN</td>\n      <td>NaN</td>\n      <td>0.000007</td>\n      <td>C/T</td>\n    </tr>\n    <tr>\n      <th>3</th>\n      <td>rs1000096</td>\n      <td>KLF3</td>\n      <td>51274</td>\n      <td>intron variant</td>\n      <td>C/T</td>\n      <td>snv</td>\n      <td>NaN</td>\n      <td>NaN</td>\n      <td>0.387045</td>\n      <td>C/T</td>\n    </tr>\n    <tr>\n      <th>4</th>\n      <td>rs10001106</td>\n      <td>NaN</td>\n      <td>NaN</td>\n      <td>intergenic variant</td>\n      <td>T/A;C</td>\n      <td>snv</td>\n      <td>NaN</td>\n      <td>NaN</td>\n      <td>NaN</td>\n      <td>NaN</td>\n    </tr>\n    <tr>\n      <th>...</th>\n      <td>...</td>\n      <td>...</td>\n      <td>...</td>\n      <td>...</td>\n      <td>...</td>\n      <td>...</td>\n      <td>...</td>\n      <td>...</td>\n      <td>...</td>\n      <td>...</td>\n    </tr>\n    <tr>\n      <th>261222</th>\n      <td>rs9999118</td>\n      <td>SPATA5</td>\n      <td>166378</td>\n      <td>intron variant</td>\n      <td>A/G</td>\n      <td>snv</td>\n      <td>NaN</td>\n      <td>NaN</td>\n      <td>0.012246</td>\n      <td>A/G</td>\n    </tr>\n    <tr>\n      <th>261223</th>\n      <td>rs999921351</td>\n      <td>CNGB3</td>\n      <td>54714</td>\n      <td>stop gained</td>\n      <td>C/T</td>\n      <td>snv</td>\n      <td>NaN</td>\n      <td>NaN</td>\n      <td>NaN</td>\n      <td>NaN</td>\n    </tr>\n    <tr>\n      <th>261224</th>\n      <td>rs999943</td>\n      <td>ITPR3</td>\n      <td>3710</td>\n      <td>intron variant</td>\n      <td>A/G</td>\n      <td>snv</td>\n      <td>NaN</td>\n      <td>NaN</td>\n      <td>0.282840</td>\n      <td>A/G</td>\n    </tr>\n    <tr>\n      <th>261225</th>\n      <td>rs999944</td>\n      <td>NaN</td>\n      <td>NaN</td>\n      <td>intergenic variant</td>\n      <td>A/G</td>\n      <td>snv</td>\n      <td>NaN</td>\n      <td>NaN</td>\n      <td>0.833959</td>\n      <td>A/G</td>\n    </tr>\n    <tr>\n      <th>261226</th>\n      <td>rs9999820</td>\n      <td>NPY2R</td>\n      <td>4887</td>\n      <td>intron variant</td>\n      <td>A/G</td>\n      <td>snv</td>\n      <td>NaN</td>\n      <td>NaN</td>\n      <td>0.664027</td>\n      <td>A/G</td>\n    </tr>\n  </tbody>\n</table>\n<p>261227 rows × 10 columns</p>\n</div>"
     },
     "metadata": {},
     "execution_count": 44
    }
   ],
   "source": [
    "sumvda"
   ]
  },
  {
   "cell_type": "code",
   "execution_count": 111,
   "metadata": {},
   "outputs": [
    {
     "output_type": "execute_result",
     "data": {
      "text/plain": [
       "              snp_id chromosome   position    dsi   dpi diseaseid  \\\n",
       "0          rs1000005         21   33060745    NaN   NaN  C0200638   \n",
       "1         rs10000770          4  142693109  1.000  0.04  C0023467   \n",
       "2       rs1000091588         11   68935374  1.000  0.12  C1858517   \n",
       "3          rs1000096          4   38691214    NaN   NaN  C1305855   \n",
       "4         rs10001106          4   10125817  0.925  0.12  C0003868   \n",
       "...              ...        ...        ...    ...   ...       ...   \n",
       "261222     rs9999118          4  123130312  1.000  0.04  C0022104   \n",
       "261223   rs999921351          8   86628939  1.000  0.12  C1849792   \n",
       "261224      rs999943          6   33656956  1.000  0.08  C0028754   \n",
       "261225      rs999944          2   64822719  1.000  0.08  C0520679   \n",
       "261226     rs9999820          4  155197173  0.925  0.08  C0085215   \n",
       "\n",
       "                                              diseasename diseasetype  \\\n",
       "0                              Eosinophil count procedure   phenotype   \n",
       "1                             Leukemia, Myelocytic, Acute     disease   \n",
       "2       SPINAL MUSCULAR ATROPHY WITH RESPIRATORY DISTR...     disease   \n",
       "3                                         Body mass index   phenotype   \n",
       "4                                        Arthritis, Gouty     disease   \n",
       "...                                                   ...         ...   \n",
       "261222                           Irritable Bowel Syndrome     disease   \n",
       "261223                                    Achromatopsia 3     disease   \n",
       "261224                                            Obesity     disease   \n",
       "261225                           Sleep Apnea, Obstructive     disease   \n",
       "261226                         Ovarian Failure, Premature     disease   \n",
       "\n",
       "       diseaseclass   diseasesemantictype  ...          source  gene_name  \\\n",
       "0               NaN  Laboratory Procedure  ...         GWASCAT  LINC00945   \n",
       "1               C04    Neoplastic Process  ...         GWASCAT     INPP4B   \n",
       "2       C16;C08;C10   Disease or Syndrome  ...         CLINVAR    IGHMBP2   \n",
       "3               NaN    Clinical Attribute  ...         GWASCAT       KLF3   \n",
       "4       C16;C18;C05   Disease or Syndrome  ...          GWASDB        NaN   \n",
       "...             ...                   ...  ...             ...        ...   \n",
       "261222          C06   Disease or Syndrome  ...  GWASCAT;GWASDB     SPATA5   \n",
       "261223  C23;C11;C10   Disease or Syndrome  ...         CLINVAR      CNGB3   \n",
       "261224      C23;C18   Disease or Syndrome  ...  GWASCAT;GWASDB      ITPR3   \n",
       "261225      C08;C10   Disease or Syndrome  ...         GWASCAT        NaN   \n",
       "261226      C13;C19   Disease or Syndrome  ...         GWASCAT      NPY2R   \n",
       "\n",
       "          gene_id         consequence  alleles class af_exome alt_ref_exome  \\\n",
       "0       101930746      intron variant      G/C   snv      NaN           NaN   \n",
       "1            8821      intron variant      C/T   snv      NaN           NaN   \n",
       "2            3508         stop gained      C/T   snv      NaN           NaN   \n",
       "3           51274      intron variant      C/T   snv      NaN           NaN   \n",
       "4             NaN  intergenic variant    T/A;C   snv      NaN           NaN   \n",
       "...           ...                 ...      ...   ...      ...           ...   \n",
       "261222     166378      intron variant      A/G   snv      NaN           NaN   \n",
       "261223      54714         stop gained      C/T   snv      NaN           NaN   \n",
       "261224       3710      intron variant      A/G   snv      NaN           NaN   \n",
       "261225        NaN  intergenic variant      A/G   snv      NaN           NaN   \n",
       "261226       4887      intron variant      A/G   snv      NaN           NaN   \n",
       "\n",
       "       af_genome alt_ref_genome  \n",
       "0       0.505584            G/C  \n",
       "1       0.108425            C/T  \n",
       "2       0.000007            C/T  \n",
       "3       0.387045            C/T  \n",
       "4            NaN            NaN  \n",
       "...          ...            ...  \n",
       "261222  0.012246            A/G  \n",
       "261223       NaN            NaN  \n",
       "261224  0.282840            A/G  \n",
       "261225  0.833959            A/G  \n",
       "261226  0.664027            A/G  \n",
       "\n",
       "[261227 rows x 25 columns]"
      ],
      "text/html": "<div>\n<style scoped>\n    .dataframe tbody tr th:only-of-type {\n        vertical-align: middle;\n    }\n\n    .dataframe tbody tr th {\n        vertical-align: top;\n    }\n\n    .dataframe thead th {\n        text-align: right;\n    }\n</style>\n<table border=\"1\" class=\"dataframe\">\n  <thead>\n    <tr style=\"text-align: right;\">\n      <th></th>\n      <th>snp_id</th>\n      <th>chromosome</th>\n      <th>position</th>\n      <th>dsi</th>\n      <th>dpi</th>\n      <th>diseaseid</th>\n      <th>diseasename</th>\n      <th>diseasetype</th>\n      <th>diseaseclass</th>\n      <th>diseasesemantictype</th>\n      <th>...</th>\n      <th>source</th>\n      <th>gene_name</th>\n      <th>gene_id</th>\n      <th>consequence</th>\n      <th>alleles</th>\n      <th>class</th>\n      <th>af_exome</th>\n      <th>alt_ref_exome</th>\n      <th>af_genome</th>\n      <th>alt_ref_genome</th>\n    </tr>\n  </thead>\n  <tbody>\n    <tr>\n      <th>0</th>\n      <td>rs1000005</td>\n      <td>21</td>\n      <td>33060745</td>\n      <td>NaN</td>\n      <td>NaN</td>\n      <td>C0200638</td>\n      <td>Eosinophil count procedure</td>\n      <td>phenotype</td>\n      <td>NaN</td>\n      <td>Laboratory Procedure</td>\n      <td>...</td>\n      <td>GWASCAT</td>\n      <td>LINC00945</td>\n      <td>101930746</td>\n      <td>intron variant</td>\n      <td>G/C</td>\n      <td>snv</td>\n      <td>NaN</td>\n      <td>NaN</td>\n      <td>0.505584</td>\n      <td>G/C</td>\n    </tr>\n    <tr>\n      <th>1</th>\n      <td>rs10000770</td>\n      <td>4</td>\n      <td>142693109</td>\n      <td>1.000</td>\n      <td>0.04</td>\n      <td>C0023467</td>\n      <td>Leukemia, Myelocytic, Acute</td>\n      <td>disease</td>\n      <td>C04</td>\n      <td>Neoplastic Process</td>\n      <td>...</td>\n      <td>GWASCAT</td>\n      <td>INPP4B</td>\n      <td>8821</td>\n      <td>intron variant</td>\n      <td>C/T</td>\n      <td>snv</td>\n      <td>NaN</td>\n      <td>NaN</td>\n      <td>0.108425</td>\n      <td>C/T</td>\n    </tr>\n    <tr>\n      <th>2</th>\n      <td>rs1000091588</td>\n      <td>11</td>\n      <td>68935374</td>\n      <td>1.000</td>\n      <td>0.12</td>\n      <td>C1858517</td>\n      <td>SPINAL MUSCULAR ATROPHY WITH RESPIRATORY DISTR...</td>\n      <td>disease</td>\n      <td>C16;C08;C10</td>\n      <td>Disease or Syndrome</td>\n      <td>...</td>\n      <td>CLINVAR</td>\n      <td>IGHMBP2</td>\n      <td>3508</td>\n      <td>stop gained</td>\n      <td>C/T</td>\n      <td>snv</td>\n      <td>NaN</td>\n      <td>NaN</td>\n      <td>0.000007</td>\n      <td>C/T</td>\n    </tr>\n    <tr>\n      <th>3</th>\n      <td>rs1000096</td>\n      <td>4</td>\n      <td>38691214</td>\n      <td>NaN</td>\n      <td>NaN</td>\n      <td>C1305855</td>\n      <td>Body mass index</td>\n      <td>phenotype</td>\n      <td>NaN</td>\n      <td>Clinical Attribute</td>\n      <td>...</td>\n      <td>GWASCAT</td>\n      <td>KLF3</td>\n      <td>51274</td>\n      <td>intron variant</td>\n      <td>C/T</td>\n      <td>snv</td>\n      <td>NaN</td>\n      <td>NaN</td>\n      <td>0.387045</td>\n      <td>C/T</td>\n    </tr>\n    <tr>\n      <th>4</th>\n      <td>rs10001106</td>\n      <td>4</td>\n      <td>10125817</td>\n      <td>0.925</td>\n      <td>0.12</td>\n      <td>C0003868</td>\n      <td>Arthritis, Gouty</td>\n      <td>disease</td>\n      <td>C16;C18;C05</td>\n      <td>Disease or Syndrome</td>\n      <td>...</td>\n      <td>GWASDB</td>\n      <td>NaN</td>\n      <td>NaN</td>\n      <td>intergenic variant</td>\n      <td>T/A;C</td>\n      <td>snv</td>\n      <td>NaN</td>\n      <td>NaN</td>\n      <td>NaN</td>\n      <td>NaN</td>\n    </tr>\n    <tr>\n      <th>...</th>\n      <td>...</td>\n      <td>...</td>\n      <td>...</td>\n      <td>...</td>\n      <td>...</td>\n      <td>...</td>\n      <td>...</td>\n      <td>...</td>\n      <td>...</td>\n      <td>...</td>\n      <td>...</td>\n      <td>...</td>\n      <td>...</td>\n      <td>...</td>\n      <td>...</td>\n      <td>...</td>\n      <td>...</td>\n      <td>...</td>\n      <td>...</td>\n      <td>...</td>\n      <td>...</td>\n    </tr>\n    <tr>\n      <th>261222</th>\n      <td>rs9999118</td>\n      <td>4</td>\n      <td>123130312</td>\n      <td>1.000</td>\n      <td>0.04</td>\n      <td>C0022104</td>\n      <td>Irritable Bowel Syndrome</td>\n      <td>disease</td>\n      <td>C06</td>\n      <td>Disease or Syndrome</td>\n      <td>...</td>\n      <td>GWASCAT;GWASDB</td>\n      <td>SPATA5</td>\n      <td>166378</td>\n      <td>intron variant</td>\n      <td>A/G</td>\n      <td>snv</td>\n      <td>NaN</td>\n      <td>NaN</td>\n      <td>0.012246</td>\n      <td>A/G</td>\n    </tr>\n    <tr>\n      <th>261223</th>\n      <td>rs999921351</td>\n      <td>8</td>\n      <td>86628939</td>\n      <td>1.000</td>\n      <td>0.12</td>\n      <td>C1849792</td>\n      <td>Achromatopsia 3</td>\n      <td>disease</td>\n      <td>C23;C11;C10</td>\n      <td>Disease or Syndrome</td>\n      <td>...</td>\n      <td>CLINVAR</td>\n      <td>CNGB3</td>\n      <td>54714</td>\n      <td>stop gained</td>\n      <td>C/T</td>\n      <td>snv</td>\n      <td>NaN</td>\n      <td>NaN</td>\n      <td>NaN</td>\n      <td>NaN</td>\n    </tr>\n    <tr>\n      <th>261224</th>\n      <td>rs999943</td>\n      <td>6</td>\n      <td>33656956</td>\n      <td>1.000</td>\n      <td>0.08</td>\n      <td>C0028754</td>\n      <td>Obesity</td>\n      <td>disease</td>\n      <td>C23;C18</td>\n      <td>Disease or Syndrome</td>\n      <td>...</td>\n      <td>GWASCAT;GWASDB</td>\n      <td>ITPR3</td>\n      <td>3710</td>\n      <td>intron variant</td>\n      <td>A/G</td>\n      <td>snv</td>\n      <td>NaN</td>\n      <td>NaN</td>\n      <td>0.282840</td>\n      <td>A/G</td>\n    </tr>\n    <tr>\n      <th>261225</th>\n      <td>rs999944</td>\n      <td>2</td>\n      <td>64822719</td>\n      <td>1.000</td>\n      <td>0.08</td>\n      <td>C0520679</td>\n      <td>Sleep Apnea, Obstructive</td>\n      <td>disease</td>\n      <td>C08;C10</td>\n      <td>Disease or Syndrome</td>\n      <td>...</td>\n      <td>GWASCAT</td>\n      <td>NaN</td>\n      <td>NaN</td>\n      <td>intergenic variant</td>\n      <td>A/G</td>\n      <td>snv</td>\n      <td>NaN</td>\n      <td>NaN</td>\n      <td>0.833959</td>\n      <td>A/G</td>\n    </tr>\n    <tr>\n      <th>261226</th>\n      <td>rs9999820</td>\n      <td>4</td>\n      <td>155197173</td>\n      <td>0.925</td>\n      <td>0.08</td>\n      <td>C0085215</td>\n      <td>Ovarian Failure, Premature</td>\n      <td>disease</td>\n      <td>C13;C19</td>\n      <td>Disease or Syndrome</td>\n      <td>...</td>\n      <td>GWASCAT</td>\n      <td>NPY2R</td>\n      <td>4887</td>\n      <td>intron variant</td>\n      <td>A/G</td>\n      <td>snv</td>\n      <td>NaN</td>\n      <td>NaN</td>\n      <td>0.664027</td>\n      <td>A/G</td>\n    </tr>\n  </tbody>\n</table>\n<p>261227 rows × 25 columns</p>\n</div>"
     },
     "metadata": {},
     "execution_count": 111
    }
   ],
   "source": [
    "# uno ambas tablas, axis=1 es por columnas\n",
    "disgenet_vdas = pd.concat([vda, sumvda], axis=1)\n",
    "# Elimino la col duplicada (snp_id, son identicas)\n",
    "disgenet_vdas = disgenet_vdas.loc[:, ~disgenet_vdas.columns.duplicated()]\n",
    "disgenet_vdas"
   ]
  },
  {
   "cell_type": "code",
   "execution_count": 112,
   "metadata": {},
   "outputs": [
    {
     "output_type": "execute_result",
     "data": {
      "text/plain": [
       "False    225675\n",
       "True      35552\n",
       "Name: gene_id, dtype: int64"
      ]
     },
     "metadata": {},
     "execution_count": 112
    }
   ],
   "source": [
    "# hay nans\n",
    "disgenet_vdas.gene_id.isnull().value_counts()"
   ]
  },
  {
   "cell_type": "code",
   "execution_count": 115,
   "metadata": {},
   "outputs": [],
   "source": [
    "# la col gene_id debe ser tipo integer\n",
    "disgenet_vdas.gene_id = disgenet_vdas.gene_id.astype(np.int64, errors='ignore')"
   ]
  },
  {
   "cell_type": "code",
   "execution_count": 118,
   "metadata": {},
   "outputs": [
    {
     "output_type": "execute_result",
     "data": {
      "text/plain": [
       "'91319;6598'"
      ]
     },
     "metadata": {},
     "execution_count": 118
    }
   ],
   "source": [
    "disgenet_vdas.gene_id[9995]"
   ]
  },
  {
   "cell_type": "code",
   "execution_count": 211,
   "metadata": {},
   "outputs": [
    {
     "output_type": "execute_result",
     "data": {
      "text/plain": [
       "1     137361\n",
       "0      78085\n",
       "2      15806\n",
       "3       6570\n",
       "4       3887\n",
       "5       2775\n",
       "20      2598\n",
       "6       2090\n",
       "7       1666\n",
       "8       1273\n",
       "9        974\n",
       "10       904\n",
       "12       852\n",
       "21       736\n",
       "11       705\n",
       "15       614\n",
       "13       577\n",
       "14       518\n",
       "16       411\n",
       "18       383\n",
       "22       350\n",
       "17       348\n",
       "19       307\n",
       "24       180\n",
       "26       165\n",
       "23       164\n",
       "25       159\n",
       "31       110\n",
       "34       100\n",
       "27        83\n",
       "30        78\n",
       "28        77\n",
       "29        62\n",
       "32        45\n",
       "35        32\n",
       "36        27\n",
       "33        26\n",
       "37        25\n",
       "41        15\n",
       "38        14\n",
       "39        14\n",
       "40        12\n",
       "46        11\n",
       "44         5\n",
       "43         5\n",
       "42         5\n",
       "45         4\n",
       "47         4\n",
       "48         3\n",
       "51         3\n",
       "52         3\n",
       "50         2\n",
       "49         1\n",
       "53         1\n",
       "56         1\n",
       "76         1\n",
       "Name: nofpmids, dtype: int64"
      ]
     },
     "metadata": {},
     "execution_count": 211
    }
   ],
   "source": [
    "disgenet_vdas.nofpmids.value_counts()"
   ]
  },
  {
   "cell_type": "code",
   "execution_count": 50,
   "metadata": {},
   "outputs": [
    {
     "output_type": "execute_result",
     "data": {
      "text/plain": [
       "snv       222832\n",
       "delins     29290\n",
       "del         7457\n",
       "ins         1175\n",
       "mnv          473\n",
       "Name: class, dtype: int64"
      ]
     },
     "metadata": {},
     "execution_count": 50
    }
   ],
   "source": [
    "disgenet_vdas['class'].value_counts()"
   ]
  },
  {
   "cell_type": "code",
   "execution_count": 51,
   "metadata": {},
   "outputs": [
    {
     "output_type": "execute_result",
     "data": {
      "text/plain": [
       "CLINVAR                   106710\n",
       "GWASCAT                    83276\n",
       "GWASDB                     41771\n",
       "UNIPROT                    12032\n",
       "CLINVAR;UNIPROT            11259\n",
       "GWASCAT;GWASDB              6164\n",
       "CLINVAR;GWASCAT                7\n",
       "GWASCAT;GWASDB;UNIPROT         4\n",
       "CLINVAR;GWASCAT;GWASDB         2\n",
       "GWASCAT;UNIPROT                1\n",
       "CLINVAR;GWASDB                 1\n",
       "Name: source, dtype: int64"
      ]
     },
     "metadata": {},
     "execution_count": 51
    }
   ],
   "source": [
    "disgenet_vdas['source'].value_counts()"
   ]
  },
  {
   "source": [
    "### Uniprot gene id cross-reference"
   ],
   "cell_type": "markdown",
   "metadata": {}
  },
  {
   "cell_type": "code",
   "execution_count": 119,
   "metadata": {},
   "outputs": [],
   "source": [
    "# Mappings UniProts: uniprots id con entrez gene id (https://www.disgenet.org/downloads, Mappings)\n",
    "uniprots = pd.read_csv('mapa_geneid_4_uniprot_crossref.tsv.gz', sep='\\t', compression='gzip')\n",
    "uniprots = uniprots.rename(columns={'UniProtKB':'uniprot', 'GENEID':'gene_id'})"
   ]
  },
  {
   "source": [
    "### Variant to Gene mappings"
   ],
   "cell_type": "markdown",
   "metadata": {}
  },
  {
   "cell_type": "code",
   "execution_count": 126,
   "metadata": {},
   "outputs": [],
   "source": [
    "# The file contains the mappings of DisGeNET variants (dbSNP Identifiers)\n",
    "# to NCBI Entrez identifiers according to dbSNP database (https://www.disgenet.org/downloads, Variant-Gene Mappings File)\n",
    "variant_gene = pd.read_csv('variant_to_gene_mappings.tsv.gz', sep='\\t', compression='gzip')\n",
    "variant_gene = variant_gene.rename(columns={'snpId':'snp_id', 'geneId':'gene_id', 'geneSymbol': 'gene_name', 'sourceId':'source_id'})\n"
   ]
  },
  {
   "cell_type": "code",
   "execution_count": 127,
   "metadata": {},
   "outputs": [],
   "source": [
    "# agrego los uniprots\n",
    "variant_gene = variant_gene.merge(uniprots)"
   ]
  },
  {
   "cell_type": "code",
   "execution_count": 136,
   "metadata": {},
   "outputs": [
    {
     "output_type": "execute_result",
     "data": {
      "text/plain": [
       "              snp_id chromosome   position    dsi   dpi diseaseid  \\\n",
       "0          rs1000005         21   33060745    NaN   NaN  C0200638   \n",
       "1         rs10000770          4  142693109  1.000  0.04  C0023467   \n",
       "2         rs10000770          4  142693109  1.000  0.04  C0023467   \n",
       "3       rs1000091588         11   68935374  1.000  0.12  C1858517   \n",
       "4       rs1000091588         11   68935374  1.000  0.12  C1858517   \n",
       "...              ...        ...        ...    ...   ...       ...   \n",
       "433635   rs999921351          8   86628939  1.000  0.12  C1849792   \n",
       "433636      rs999943          6   33656956  1.000  0.08  C0028754   \n",
       "433637      rs999943          6   33656956  1.000  0.08  C0028754   \n",
       "433638      rs999944          2   64822719  1.000  0.08  C0520679   \n",
       "433639     rs9999820          4  155197173  0.925  0.08  C0085215   \n",
       "\n",
       "                                              diseasename diseasetype  \\\n",
       "0                              Eosinophil count procedure   phenotype   \n",
       "1                             Leukemia, Myelocytic, Acute     disease   \n",
       "2                             Leukemia, Myelocytic, Acute     disease   \n",
       "3       SPINAL MUSCULAR ATROPHY WITH RESPIRATORY DISTR...     disease   \n",
       "4       SPINAL MUSCULAR ATROPHY WITH RESPIRATORY DISTR...     disease   \n",
       "...                                                   ...         ...   \n",
       "433635                                    Achromatopsia 3     disease   \n",
       "433636                                            Obesity     disease   \n",
       "433637                                            Obesity     disease   \n",
       "433638                           Sleep Apnea, Obstructive     disease   \n",
       "433639                         Ovarian Failure, Premature     disease   \n",
       "\n",
       "       diseaseclass   diseasesemantictype  ...         consequence  alleles  \\\n",
       "0               NaN  Laboratory Procedure  ...      intron variant      G/C   \n",
       "1               C04    Neoplastic Process  ...      intron variant      C/T   \n",
       "2               C04    Neoplastic Process  ...      intron variant      C/T   \n",
       "3       C16;C08;C10   Disease or Syndrome  ...         stop gained      C/T   \n",
       "4       C16;C08;C10   Disease or Syndrome  ...         stop gained      C/T   \n",
       "...             ...                   ...  ...                 ...      ...   \n",
       "433635  C23;C11;C10   Disease or Syndrome  ...         stop gained      C/T   \n",
       "433636      C23;C18   Disease or Syndrome  ...      intron variant      A/G   \n",
       "433637      C23;C18   Disease or Syndrome  ...      intron variant      A/G   \n",
       "433638      C08;C10   Disease or Syndrome  ...  intergenic variant      A/G   \n",
       "433639      C13;C19   Disease or Syndrome  ...      intron variant      A/G   \n",
       "\n",
       "        class  af_exome  alt_ref_exome af_genome alt_ref_genome gene_id_y  \\\n",
       "0         snv       NaN            NaN  0.505584            G/C       NaN   \n",
       "1         snv       NaN            NaN  0.108425            C/T    8821.0   \n",
       "2         snv       NaN            NaN  0.108425            C/T    8821.0   \n",
       "3         snv       NaN            NaN  0.000007            C/T    3508.0   \n",
       "4         snv       NaN            NaN  0.000007            C/T    3508.0   \n",
       "...       ...       ...            ...       ...            ...       ...   \n",
       "433635    snv       NaN            NaN       NaN            NaN   54714.0   \n",
       "433636    snv       NaN            NaN  0.282840            A/G    3710.0   \n",
       "433637    snv       NaN            NaN  0.282840            A/G    3710.0   \n",
       "433638    snv       NaN            NaN  0.833959            A/G       NaN   \n",
       "433639    snv       NaN            NaN  0.664027            A/G    4887.0   \n",
       "\n",
       "       source_id uniprot  \n",
       "0            NaN     NaN  \n",
       "1          DBSNP  O15327  \n",
       "2            VEP  O15327  \n",
       "3            VEP  P38935  \n",
       "4          DBSNP  P38935  \n",
       "...          ...     ...  \n",
       "433635       VEP  Q9NQW8  \n",
       "433636       VEP  Q14573  \n",
       "433637     DBSNP  Q14573  \n",
       "433638       NaN     NaN  \n",
       "433639     DBSNP  P49146  \n",
       "\n",
       "[433640 rows x 28 columns]"
      ],
      "text/html": "<div>\n<style scoped>\n    .dataframe tbody tr th:only-of-type {\n        vertical-align: middle;\n    }\n\n    .dataframe tbody tr th {\n        vertical-align: top;\n    }\n\n    .dataframe thead th {\n        text-align: right;\n    }\n</style>\n<table border=\"1\" class=\"dataframe\">\n  <thead>\n    <tr style=\"text-align: right;\">\n      <th></th>\n      <th>snp_id</th>\n      <th>chromosome</th>\n      <th>position</th>\n      <th>dsi</th>\n      <th>dpi</th>\n      <th>diseaseid</th>\n      <th>diseasename</th>\n      <th>diseasetype</th>\n      <th>diseaseclass</th>\n      <th>diseasesemantictype</th>\n      <th>...</th>\n      <th>consequence</th>\n      <th>alleles</th>\n      <th>class</th>\n      <th>af_exome</th>\n      <th>alt_ref_exome</th>\n      <th>af_genome</th>\n      <th>alt_ref_genome</th>\n      <th>gene_id_y</th>\n      <th>source_id</th>\n      <th>uniprot</th>\n    </tr>\n  </thead>\n  <tbody>\n    <tr>\n      <th>0</th>\n      <td>rs1000005</td>\n      <td>21</td>\n      <td>33060745</td>\n      <td>NaN</td>\n      <td>NaN</td>\n      <td>C0200638</td>\n      <td>Eosinophil count procedure</td>\n      <td>phenotype</td>\n      <td>NaN</td>\n      <td>Laboratory Procedure</td>\n      <td>...</td>\n      <td>intron variant</td>\n      <td>G/C</td>\n      <td>snv</td>\n      <td>NaN</td>\n      <td>NaN</td>\n      <td>0.505584</td>\n      <td>G/C</td>\n      <td>NaN</td>\n      <td>NaN</td>\n      <td>NaN</td>\n    </tr>\n    <tr>\n      <th>1</th>\n      <td>rs10000770</td>\n      <td>4</td>\n      <td>142693109</td>\n      <td>1.000</td>\n      <td>0.04</td>\n      <td>C0023467</td>\n      <td>Leukemia, Myelocytic, Acute</td>\n      <td>disease</td>\n      <td>C04</td>\n      <td>Neoplastic Process</td>\n      <td>...</td>\n      <td>intron variant</td>\n      <td>C/T</td>\n      <td>snv</td>\n      <td>NaN</td>\n      <td>NaN</td>\n      <td>0.108425</td>\n      <td>C/T</td>\n      <td>8821.0</td>\n      <td>DBSNP</td>\n      <td>O15327</td>\n    </tr>\n    <tr>\n      <th>2</th>\n      <td>rs10000770</td>\n      <td>4</td>\n      <td>142693109</td>\n      <td>1.000</td>\n      <td>0.04</td>\n      <td>C0023467</td>\n      <td>Leukemia, Myelocytic, Acute</td>\n      <td>disease</td>\n      <td>C04</td>\n      <td>Neoplastic Process</td>\n      <td>...</td>\n      <td>intron variant</td>\n      <td>C/T</td>\n      <td>snv</td>\n      <td>NaN</td>\n      <td>NaN</td>\n      <td>0.108425</td>\n      <td>C/T</td>\n      <td>8821.0</td>\n      <td>VEP</td>\n      <td>O15327</td>\n    </tr>\n    <tr>\n      <th>3</th>\n      <td>rs1000091588</td>\n      <td>11</td>\n      <td>68935374</td>\n      <td>1.000</td>\n      <td>0.12</td>\n      <td>C1858517</td>\n      <td>SPINAL MUSCULAR ATROPHY WITH RESPIRATORY DISTR...</td>\n      <td>disease</td>\n      <td>C16;C08;C10</td>\n      <td>Disease or Syndrome</td>\n      <td>...</td>\n      <td>stop gained</td>\n      <td>C/T</td>\n      <td>snv</td>\n      <td>NaN</td>\n      <td>NaN</td>\n      <td>0.000007</td>\n      <td>C/T</td>\n      <td>3508.0</td>\n      <td>VEP</td>\n      <td>P38935</td>\n    </tr>\n    <tr>\n      <th>4</th>\n      <td>rs1000091588</td>\n      <td>11</td>\n      <td>68935374</td>\n      <td>1.000</td>\n      <td>0.12</td>\n      <td>C1858517</td>\n      <td>SPINAL MUSCULAR ATROPHY WITH RESPIRATORY DISTR...</td>\n      <td>disease</td>\n      <td>C16;C08;C10</td>\n      <td>Disease or Syndrome</td>\n      <td>...</td>\n      <td>stop gained</td>\n      <td>C/T</td>\n      <td>snv</td>\n      <td>NaN</td>\n      <td>NaN</td>\n      <td>0.000007</td>\n      <td>C/T</td>\n      <td>3508.0</td>\n      <td>DBSNP</td>\n      <td>P38935</td>\n    </tr>\n    <tr>\n      <th>...</th>\n      <td>...</td>\n      <td>...</td>\n      <td>...</td>\n      <td>...</td>\n      <td>...</td>\n      <td>...</td>\n      <td>...</td>\n      <td>...</td>\n      <td>...</td>\n      <td>...</td>\n      <td>...</td>\n      <td>...</td>\n      <td>...</td>\n      <td>...</td>\n      <td>...</td>\n      <td>...</td>\n      <td>...</td>\n      <td>...</td>\n      <td>...</td>\n      <td>...</td>\n      <td>...</td>\n    </tr>\n    <tr>\n      <th>433635</th>\n      <td>rs999921351</td>\n      <td>8</td>\n      <td>86628939</td>\n      <td>1.000</td>\n      <td>0.12</td>\n      <td>C1849792</td>\n      <td>Achromatopsia 3</td>\n      <td>disease</td>\n      <td>C23;C11;C10</td>\n      <td>Disease or Syndrome</td>\n      <td>...</td>\n      <td>stop gained</td>\n      <td>C/T</td>\n      <td>snv</td>\n      <td>NaN</td>\n      <td>NaN</td>\n      <td>NaN</td>\n      <td>NaN</td>\n      <td>54714.0</td>\n      <td>VEP</td>\n      <td>Q9NQW8</td>\n    </tr>\n    <tr>\n      <th>433636</th>\n      <td>rs999943</td>\n      <td>6</td>\n      <td>33656956</td>\n      <td>1.000</td>\n      <td>0.08</td>\n      <td>C0028754</td>\n      <td>Obesity</td>\n      <td>disease</td>\n      <td>C23;C18</td>\n      <td>Disease or Syndrome</td>\n      <td>...</td>\n      <td>intron variant</td>\n      <td>A/G</td>\n      <td>snv</td>\n      <td>NaN</td>\n      <td>NaN</td>\n      <td>0.282840</td>\n      <td>A/G</td>\n      <td>3710.0</td>\n      <td>VEP</td>\n      <td>Q14573</td>\n    </tr>\n    <tr>\n      <th>433637</th>\n      <td>rs999943</td>\n      <td>6</td>\n      <td>33656956</td>\n      <td>1.000</td>\n      <td>0.08</td>\n      <td>C0028754</td>\n      <td>Obesity</td>\n      <td>disease</td>\n      <td>C23;C18</td>\n      <td>Disease or Syndrome</td>\n      <td>...</td>\n      <td>intron variant</td>\n      <td>A/G</td>\n      <td>snv</td>\n      <td>NaN</td>\n      <td>NaN</td>\n      <td>0.282840</td>\n      <td>A/G</td>\n      <td>3710.0</td>\n      <td>DBSNP</td>\n      <td>Q14573</td>\n    </tr>\n    <tr>\n      <th>433638</th>\n      <td>rs999944</td>\n      <td>2</td>\n      <td>64822719</td>\n      <td>1.000</td>\n      <td>0.08</td>\n      <td>C0520679</td>\n      <td>Sleep Apnea, Obstructive</td>\n      <td>disease</td>\n      <td>C08;C10</td>\n      <td>Disease or Syndrome</td>\n      <td>...</td>\n      <td>intergenic variant</td>\n      <td>A/G</td>\n      <td>snv</td>\n      <td>NaN</td>\n      <td>NaN</td>\n      <td>0.833959</td>\n      <td>A/G</td>\n      <td>NaN</td>\n      <td>NaN</td>\n      <td>NaN</td>\n    </tr>\n    <tr>\n      <th>433639</th>\n      <td>rs9999820</td>\n      <td>4</td>\n      <td>155197173</td>\n      <td>0.925</td>\n      <td>0.08</td>\n      <td>C0085215</td>\n      <td>Ovarian Failure, Premature</td>\n      <td>disease</td>\n      <td>C13;C19</td>\n      <td>Disease or Syndrome</td>\n      <td>...</td>\n      <td>intron variant</td>\n      <td>A/G</td>\n      <td>snv</td>\n      <td>NaN</td>\n      <td>NaN</td>\n      <td>0.664027</td>\n      <td>A/G</td>\n      <td>4887.0</td>\n      <td>DBSNP</td>\n      <td>P49146</td>\n    </tr>\n  </tbody>\n</table>\n<p>433640 rows × 28 columns</p>\n</div>"
     },
     "metadata": {},
     "execution_count": 136
    }
   ],
   "source": [
    "disgenet_total = disgenet_vdas.merge(variant_gene, on=['snp_id', 'gene_name'], how='left')\n",
    "disgenet_total"
   ]
  },
  {
   "source": [
    "## Merge box1 con disgenet total"
   ],
   "cell_type": "markdown",
   "metadata": {}
  },
  {
   "cell_type": "code",
   "execution_count": 191,
   "metadata": {},
   "outputs": [],
   "source": [
    "#merge de box con los datos totales de vda de disgenet\n",
    "box_disgenet = box.merge(disgenet_total, on='uniprot', how='left')"
   ]
  },
  {
   "cell_type": "code",
   "execution_count": 192,
   "metadata": {},
   "outputs": [
    {
     "output_type": "execute_result",
     "data": {
      "text/plain": [
       "589"
      ]
     },
     "metadata": {},
     "execution_count": 192
    }
   ],
   "source": [
    "len(box_disgenet.uniprot.unique())"
   ]
  },
  {
   "cell_type": "code",
   "execution_count": 193,
   "metadata": {},
   "outputs": [
    {
     "output_type": "execute_result",
     "data": {
      "text/plain": [
       "False    22743\n",
       "True       245\n",
       "Name: snp_id, dtype: int64"
      ]
     },
     "metadata": {},
     "execution_count": 193
    }
   ],
   "source": [
    "# hay 245 entradas sin snp\n",
    "box_disgenet.snp_id.isnull().value_counts()"
   ]
  },
  {
   "cell_type": "code",
   "execution_count": 194,
   "metadata": {},
   "outputs": [],
   "source": [
    "# elimino las entradas sin snp\n",
    "box_disgenet = box_disgenet.dropna(subset= ['snp_id'])"
   ]
  },
  {
   "cell_type": "code",
   "execution_count": 195,
   "metadata": {},
   "outputs": [
    {
     "output_type": "execute_result",
     "data": {
      "text/plain": [
       "344"
      ]
     },
     "metadata": {},
     "execution_count": 195
    }
   ],
   "source": [
    "len(box_disgenet.uniprot.unique())"
   ]
  },
  {
   "cell_type": "code",
   "execution_count": 196,
   "metadata": {},
   "outputs": [],
   "source": [
    "box_disgenet.gene_id_x = box_disgenet.gene_id_x.apply(int)\n",
    "box_disgenet.gene_id_y = box_disgenet.gene_id_y.apply(int)"
   ]
  },
  {
   "cell_type": "code",
   "execution_count": 197,
   "metadata": {},
   "outputs": [],
   "source": [
    "box_disgenet = box_disgenet.drop_duplicates(subset=['snp_id', 'diseaseid'], keep='first')\n",
    "# hay entradas duplicadas xq source_id puede venir de DBSNP o de VEP"
   ]
  },
  {
   "cell_type": "code",
   "execution_count": 198,
   "metadata": {},
   "outputs": [
    {
     "output_type": "execute_result",
     "data": {
      "text/plain": [
       "11549"
      ]
     },
     "metadata": {},
     "execution_count": 198
    }
   ],
   "source": [
    "len(box_disgenet)"
   ]
  },
  {
   "cell_type": "code",
   "execution_count": 199,
   "metadata": {},
   "outputs": [
    {
     "output_type": "execute_result",
     "data": {
      "text/plain": [
       "5942"
      ]
     },
     "metadata": {},
     "execution_count": 199
    }
   ],
   "source": [
    "len(box_disgenet.snp_id.unique())"
   ]
  },
  {
   "cell_type": "code",
   "execution_count": 200,
   "metadata": {},
   "outputs": [
    {
     "output_type": "execute_result",
     "data": {
      "text/plain": [
       "True    11549\n",
       "dtype: int64"
      ]
     },
     "metadata": {},
     "execution_count": 200
    }
   ],
   "source": [
    "(box_disgenet.gene_id_x ==  box_disgenet.gene_id_y).value_counts() # son todos iguales, elimino una col"
   ]
  },
  {
   "cell_type": "code",
   "execution_count": 201,
   "metadata": {},
   "outputs": [],
   "source": [
    "box_disgenet = box_disgenet.drop(columns=['gene_id_y'])\n",
    "box_disgenet = box_disgenet.rename(columns={'gene_id_x': 'gene_id'})"
   ]
  },
  {
   "cell_type": "code",
   "execution_count": 202,
   "metadata": {},
   "outputs": [
    {
     "output_type": "stream",
     "name": "stdout",
     "text": [
      "<class 'pandas.core.frame.DataFrame'>\nInt64Index: 11549 entries, 0 to 22985\nData columns (total 32 columns):\n #   Column               Non-Null Count  Dtype  \n---  ------               --------------  -----  \n 0   uniprot              11549 non-null  object \n 1   organism             11549 non-null  object \n 2   mlo                  11549 non-null  object \n 3   hgnc_id              11539 non-null  object \n 4   length               11549 non-null  int64  \n 5   sequence             11549 non-null  object \n 6   snp_id               11549 non-null  object \n 7   chromosome           11549 non-null  object \n 8   position             11549 non-null  float64\n 9   dsi                  9917 non-null   float64\n 10  dpi                  9380 non-null   float64\n 11  diseaseid            11549 non-null  object \n 12  diseasename          11549 non-null  object \n 13  diseasetype          11549 non-null  object \n 14  diseaseclass         8812 non-null   object \n 15  diseasesemantictype  11549 non-null  object \n 16  score                11549 non-null  float64\n 17  ei                   7110 non-null   float64\n 18  yearinitial          7110 non-null   float64\n 19  yearfinal            7110 non-null   float64\n 20  nofpmids             11549 non-null  float64\n 21  source               11549 non-null  object \n 22  gene_name            11549 non-null  object \n 23  gene_id              11549 non-null  int64  \n 24  consequence          11549 non-null  object \n 25  alleles              11549 non-null  object \n 26  class                11549 non-null  object \n 27  af_exome             2151 non-null   object \n 28  alt_ref_exome        2151 non-null   object \n 29  af_genome            2783 non-null   float64\n 30  alt_ref_genome       2783 non-null   object \n 31  source_id            11549 non-null  object \ndtypes: float64(9), int64(2), object(21)\nmemory usage: 2.9+ MB\n"
     ]
    }
   ],
   "source": [
    "box_disgenet.info()"
   ]
  },
  {
   "cell_type": "code",
   "execution_count": 203,
   "metadata": {},
   "outputs": [
    {
     "output_type": "execute_result",
     "data": {
      "text/plain": [
       "      uniprot      organism                           mlo     hgnc_id  length  \\\n",
       "0      O15527  Homo sapiens               nuclear speckle   HGNC:8125     345   \n",
       "3      O75494  Homo sapiens               nuclear speckle  HGNC:16713     262   \n",
       "5      O75494  Homo sapiens               nuclear speckle  HGNC:16713     262   \n",
       "7      O95613  Homo sapiens  centrosome/spindle pole body  HGNC:16068    3336   \n",
       "9      O95613  Homo sapiens  centrosome/spindle pole body  HGNC:16068    3336   \n",
       "...       ...           ...                           ...         ...     ...   \n",
       "22977  P26368  Homo sapiens               nuclear speckle  HGNC:23156     475   \n",
       "22979  Q15233  Homo sapiens                   paraspeckle   HGNC:7871     471   \n",
       "22981  Q15233  Homo sapiens                   paraspeckle   HGNC:7871     471   \n",
       "22983  Q15233  Homo sapiens                   paraspeckle   HGNC:7871     471   \n",
       "22985  Q15233  Homo sapiens                   paraspeckle   HGNC:7871     471   \n",
       "\n",
       "                                                sequence        snp_id  \\\n",
       "0      MPARALLPRRMGHRTLASTPALWASIPCPRSELRLDLVLPSGQSFR...   rs104893751   \n",
       "3      MSRYLRPPNTSLFVRNVADDTRSEDLRREFGRYGPIVDVYVPLDFY...    rs35233638   \n",
       "5      MSRYLRPPNTSLFVRNVADDTRSEDLRREFGRYGPIVDVYVPLDFY...    rs35233638   \n",
       "7      MEVEQEQRRRKVEAGRTKLAHFRQRKTKGDSSHSEKKTAKRKGSAV...   rs119479061   \n",
       "9      MEVEQEQRRRKVEAGRTKLAHFRQRKTKGDSSHSEKKTAKRKGSAV...   rs119479062   \n",
       "...                                                  ...           ...   \n",
       "22977  MSDFDEFERQLNENKQERDKENRHRKRSHSRSRSRDRKRRSRSRDR...    rs79546472   \n",
       "22979  MQSNKTFNLEKQNHTPRKHHQHHHQQQHHQQQQQQPPPPPIPANGQ...  rs1114167441   \n",
       "22981  MQSNKTFNLEKQNHTPRKHHQHHHQQQHHQQQQQQPPPPPIPANGQ...   rs869025343   \n",
       "22983  MQSNKTFNLEKQNHTPRKHHQHHHQQQHHQQQQQQPPPPPIPANGQ...   rs869025345   \n",
       "22985  MQSNKTFNLEKQNHTPRKHHQHHHQQQHHQQQQQQPPPPPIPANGQ...   rs876661316   \n",
       "\n",
       "      chromosome    position    dsi  ...  gene_name gene_id  \\\n",
       "0              3   9750423.0  0.882  ...       OGG1    4968   \n",
       "3              1  23968097.0    NaN  ...     SRSF10   10772   \n",
       "5              1  23968097.0    NaN  ...     SRSF10   10772   \n",
       "7             21  46346146.0  1.000  ...       PCNT    5116   \n",
       "9             21  46411840.0  1.000  ...       PCNT    5116   \n",
       "...          ...         ...    ...  ...        ...     ...   \n",
       "22977         19  55662011.0    NaN  ...      U2AF2   11338   \n",
       "22979          X  71298508.0  1.000  ...       NONO    4841   \n",
       "22981          X  71297938.0  1.000  ...       NONO    4841   \n",
       "22983          X  71297900.0  1.000  ...       NONO    4841   \n",
       "22985          X  71298509.0  1.000  ...       NONO    4841   \n",
       "\n",
       "                              consequence alleles class  \\\n",
       "0                        missense variant   G/A;C   snv   \n",
       "3                     3 prime UTR variant     G/A   snv   \n",
       "5                     3 prime UTR variant     G/A   snv   \n",
       "7                             stop gained     G/T   snv   \n",
       "9                             stop gained     C/T   snv   \n",
       "...                                   ...     ...   ...   \n",
       "22977  non coding transcript exon variant   G/A;C   snv   \n",
       "22979                    missense variant     G/T   snv   \n",
       "22981               splice region variant     G/A   snv   \n",
       "22983                         stop gained     C/T   snv   \n",
       "22985                splice donor variant     G/T   snv   \n",
       "\n",
       "                    af_exome  alt_ref_exome  af_genome  alt_ref_genome  \\\n",
       "0      0.0022139;4.00343e-06        G/A;G/C        NaN             NaN   \n",
       "3                        NaN            NaN   0.459401             G/A   \n",
       "5                        NaN            NaN   0.459401             G/A   \n",
       "7                        NaN            NaN        NaN             NaN   \n",
       "9                1.22206e-05            C/T   0.000014             C/T   \n",
       "...                      ...            ...        ...             ...   \n",
       "22977                    NaN            NaN        NaN             NaN   \n",
       "22979                    NaN            NaN        NaN             NaN   \n",
       "22981                    NaN            NaN        NaN             NaN   \n",
       "22983                    NaN            NaN        NaN             NaN   \n",
       "22985                    NaN            NaN        NaN             NaN   \n",
       "\n",
       "       source_id  \n",
       "0          DBSNP  \n",
       "3          DBSNP  \n",
       "5          DBSNP  \n",
       "7          DBSNP  \n",
       "9            VEP  \n",
       "...          ...  \n",
       "22977        VEP  \n",
       "22979        VEP  \n",
       "22981      DBSNP  \n",
       "22983        VEP  \n",
       "22985        VEP  \n",
       "\n",
       "[11549 rows x 32 columns]"
      ],
      "text/html": "<div>\n<style scoped>\n    .dataframe tbody tr th:only-of-type {\n        vertical-align: middle;\n    }\n\n    .dataframe tbody tr th {\n        vertical-align: top;\n    }\n\n    .dataframe thead th {\n        text-align: right;\n    }\n</style>\n<table border=\"1\" class=\"dataframe\">\n  <thead>\n    <tr style=\"text-align: right;\">\n      <th></th>\n      <th>uniprot</th>\n      <th>organism</th>\n      <th>mlo</th>\n      <th>hgnc_id</th>\n      <th>length</th>\n      <th>sequence</th>\n      <th>snp_id</th>\n      <th>chromosome</th>\n      <th>position</th>\n      <th>dsi</th>\n      <th>...</th>\n      <th>gene_name</th>\n      <th>gene_id</th>\n      <th>consequence</th>\n      <th>alleles</th>\n      <th>class</th>\n      <th>af_exome</th>\n      <th>alt_ref_exome</th>\n      <th>af_genome</th>\n      <th>alt_ref_genome</th>\n      <th>source_id</th>\n    </tr>\n  </thead>\n  <tbody>\n    <tr>\n      <th>0</th>\n      <td>O15527</td>\n      <td>Homo sapiens</td>\n      <td>nuclear speckle</td>\n      <td>HGNC:8125</td>\n      <td>345</td>\n      <td>MPARALLPRRMGHRTLASTPALWASIPCPRSELRLDLVLPSGQSFR...</td>\n      <td>rs104893751</td>\n      <td>3</td>\n      <td>9750423.0</td>\n      <td>0.882</td>\n      <td>...</td>\n      <td>OGG1</td>\n      <td>4968</td>\n      <td>missense variant</td>\n      <td>G/A;C</td>\n      <td>snv</td>\n      <td>0.0022139;4.00343e-06</td>\n      <td>G/A;G/C</td>\n      <td>NaN</td>\n      <td>NaN</td>\n      <td>DBSNP</td>\n    </tr>\n    <tr>\n      <th>3</th>\n      <td>O75494</td>\n      <td>Homo sapiens</td>\n      <td>nuclear speckle</td>\n      <td>HGNC:16713</td>\n      <td>262</td>\n      <td>MSRYLRPPNTSLFVRNVADDTRSEDLRREFGRYGPIVDVYVPLDFY...</td>\n      <td>rs35233638</td>\n      <td>1</td>\n      <td>23968097.0</td>\n      <td>NaN</td>\n      <td>...</td>\n      <td>SRSF10</td>\n      <td>10772</td>\n      <td>3 prime UTR variant</td>\n      <td>G/A</td>\n      <td>snv</td>\n      <td>NaN</td>\n      <td>NaN</td>\n      <td>0.459401</td>\n      <td>G/A</td>\n      <td>DBSNP</td>\n    </tr>\n    <tr>\n      <th>5</th>\n      <td>O75494</td>\n      <td>Homo sapiens</td>\n      <td>nuclear speckle</td>\n      <td>HGNC:16713</td>\n      <td>262</td>\n      <td>MSRYLRPPNTSLFVRNVADDTRSEDLRREFGRYGPIVDVYVPLDFY...</td>\n      <td>rs35233638</td>\n      <td>1</td>\n      <td>23968097.0</td>\n      <td>NaN</td>\n      <td>...</td>\n      <td>SRSF10</td>\n      <td>10772</td>\n      <td>3 prime UTR variant</td>\n      <td>G/A</td>\n      <td>snv</td>\n      <td>NaN</td>\n      <td>NaN</td>\n      <td>0.459401</td>\n      <td>G/A</td>\n      <td>DBSNP</td>\n    </tr>\n    <tr>\n      <th>7</th>\n      <td>O95613</td>\n      <td>Homo sapiens</td>\n      <td>centrosome/spindle pole body</td>\n      <td>HGNC:16068</td>\n      <td>3336</td>\n      <td>MEVEQEQRRRKVEAGRTKLAHFRQRKTKGDSSHSEKKTAKRKGSAV...</td>\n      <td>rs119479061</td>\n      <td>21</td>\n      <td>46346146.0</td>\n      <td>1.000</td>\n      <td>...</td>\n      <td>PCNT</td>\n      <td>5116</td>\n      <td>stop gained</td>\n      <td>G/T</td>\n      <td>snv</td>\n      <td>NaN</td>\n      <td>NaN</td>\n      <td>NaN</td>\n      <td>NaN</td>\n      <td>DBSNP</td>\n    </tr>\n    <tr>\n      <th>9</th>\n      <td>O95613</td>\n      <td>Homo sapiens</td>\n      <td>centrosome/spindle pole body</td>\n      <td>HGNC:16068</td>\n      <td>3336</td>\n      <td>MEVEQEQRRRKVEAGRTKLAHFRQRKTKGDSSHSEKKTAKRKGSAV...</td>\n      <td>rs119479062</td>\n      <td>21</td>\n      <td>46411840.0</td>\n      <td>1.000</td>\n      <td>...</td>\n      <td>PCNT</td>\n      <td>5116</td>\n      <td>stop gained</td>\n      <td>C/T</td>\n      <td>snv</td>\n      <td>1.22206e-05</td>\n      <td>C/T</td>\n      <td>0.000014</td>\n      <td>C/T</td>\n      <td>VEP</td>\n    </tr>\n    <tr>\n      <th>...</th>\n      <td>...</td>\n      <td>...</td>\n      <td>...</td>\n      <td>...</td>\n      <td>...</td>\n      <td>...</td>\n      <td>...</td>\n      <td>...</td>\n      <td>...</td>\n      <td>...</td>\n      <td>...</td>\n      <td>...</td>\n      <td>...</td>\n      <td>...</td>\n      <td>...</td>\n      <td>...</td>\n      <td>...</td>\n      <td>...</td>\n      <td>...</td>\n      <td>...</td>\n      <td>...</td>\n    </tr>\n    <tr>\n      <th>22977</th>\n      <td>P26368</td>\n      <td>Homo sapiens</td>\n      <td>nuclear speckle</td>\n      <td>HGNC:23156</td>\n      <td>475</td>\n      <td>MSDFDEFERQLNENKQERDKENRHRKRSHSRSRSRDRKRRSRSRDR...</td>\n      <td>rs79546472</td>\n      <td>19</td>\n      <td>55662011.0</td>\n      <td>NaN</td>\n      <td>...</td>\n      <td>U2AF2</td>\n      <td>11338</td>\n      <td>non coding transcript exon variant</td>\n      <td>G/A;C</td>\n      <td>snv</td>\n      <td>NaN</td>\n      <td>NaN</td>\n      <td>NaN</td>\n      <td>NaN</td>\n      <td>VEP</td>\n    </tr>\n    <tr>\n      <th>22979</th>\n      <td>Q15233</td>\n      <td>Homo sapiens</td>\n      <td>paraspeckle</td>\n      <td>HGNC:7871</td>\n      <td>471</td>\n      <td>MQSNKTFNLEKQNHTPRKHHQHHHQQQHHQQQQQQPPPPPIPANGQ...</td>\n      <td>rs1114167441</td>\n      <td>X</td>\n      <td>71298508.0</td>\n      <td>1.000</td>\n      <td>...</td>\n      <td>NONO</td>\n      <td>4841</td>\n      <td>missense variant</td>\n      <td>G/T</td>\n      <td>snv</td>\n      <td>NaN</td>\n      <td>NaN</td>\n      <td>NaN</td>\n      <td>NaN</td>\n      <td>VEP</td>\n    </tr>\n    <tr>\n      <th>22981</th>\n      <td>Q15233</td>\n      <td>Homo sapiens</td>\n      <td>paraspeckle</td>\n      <td>HGNC:7871</td>\n      <td>471</td>\n      <td>MQSNKTFNLEKQNHTPRKHHQHHHQQQHHQQQQQQPPPPPIPANGQ...</td>\n      <td>rs869025343</td>\n      <td>X</td>\n      <td>71297938.0</td>\n      <td>1.000</td>\n      <td>...</td>\n      <td>NONO</td>\n      <td>4841</td>\n      <td>splice region variant</td>\n      <td>G/A</td>\n      <td>snv</td>\n      <td>NaN</td>\n      <td>NaN</td>\n      <td>NaN</td>\n      <td>NaN</td>\n      <td>DBSNP</td>\n    </tr>\n    <tr>\n      <th>22983</th>\n      <td>Q15233</td>\n      <td>Homo sapiens</td>\n      <td>paraspeckle</td>\n      <td>HGNC:7871</td>\n      <td>471</td>\n      <td>MQSNKTFNLEKQNHTPRKHHQHHHQQQHHQQQQQQPPPPPIPANGQ...</td>\n      <td>rs869025345</td>\n      <td>X</td>\n      <td>71297900.0</td>\n      <td>1.000</td>\n      <td>...</td>\n      <td>NONO</td>\n      <td>4841</td>\n      <td>stop gained</td>\n      <td>C/T</td>\n      <td>snv</td>\n      <td>NaN</td>\n      <td>NaN</td>\n      <td>NaN</td>\n      <td>NaN</td>\n      <td>VEP</td>\n    </tr>\n    <tr>\n      <th>22985</th>\n      <td>Q15233</td>\n      <td>Homo sapiens</td>\n      <td>paraspeckle</td>\n      <td>HGNC:7871</td>\n      <td>471</td>\n      <td>MQSNKTFNLEKQNHTPRKHHQHHHQQQHHQQQQQQPPPPPIPANGQ...</td>\n      <td>rs876661316</td>\n      <td>X</td>\n      <td>71298509.0</td>\n      <td>1.000</td>\n      <td>...</td>\n      <td>NONO</td>\n      <td>4841</td>\n      <td>splice donor variant</td>\n      <td>G/T</td>\n      <td>snv</td>\n      <td>NaN</td>\n      <td>NaN</td>\n      <td>NaN</td>\n      <td>NaN</td>\n      <td>VEP</td>\n    </tr>\n  </tbody>\n</table>\n<p>11549 rows × 32 columns</p>\n</div>"
     },
     "metadata": {},
     "execution_count": 203
    }
   ],
   "source": [
    "box_disgenet"
   ]
  },
  {
   "cell_type": "code",
   "execution_count": 206,
   "metadata": {},
   "outputs": [
    {
     "output_type": "execute_result",
     "data": {
      "text/plain": [
       "snv       9369\n",
       "delins    1681\n",
       "del        413\n",
       "ins         48\n",
       "mnv         38\n",
       "Name: class, dtype: int64"
      ]
     },
     "metadata": {},
     "execution_count": 206
    }
   ],
   "source": [
    "box_disgenet['class'].value_counts()"
   ]
  },
  {
   "cell_type": "code",
   "execution_count": 207,
   "metadata": {},
   "outputs": [
    {
     "output_type": "execute_result",
     "data": {
      "text/plain": [
       "CLINVAR            7720\n",
       "GWASCAT            1774\n",
       "GWASDB              887\n",
       "UNIPROT             513\n",
       "CLINVAR;UNIPROT     498\n",
       "GWASCAT;GWASDB      156\n",
       "CLINVAR;GWASDB        1\n",
       "Name: source, dtype: int64"
      ]
     },
     "metadata": {},
     "execution_count": 207
    }
   ],
   "source": [
    "box_disgenet.source.value_counts()"
   ]
  },
  {
   "cell_type": "code",
   "execution_count": 208,
   "metadata": {},
   "outputs": [
    {
     "output_type": "execute_result",
     "data": {
      "text/plain": [
       "      uniprot      organism                           mlo    hgnc_id  length  \\\n",
       "152    P42858  Homo sapiens  centrosome/spindle pole body  HGNC:4851    3142   \n",
       "162    P46100  Homo sapiens              pml nuclear body   HGNC:886    2492   \n",
       "176    P46100  Homo sapiens              pml nuclear body   HGNC:886    2492   \n",
       "178    P46100  Homo sapiens              pml nuclear body   HGNC:886    2492   \n",
       "180    P46100  Homo sapiens              pml nuclear body   HGNC:886    2492   \n",
       "...       ...           ...                           ...        ...     ...   \n",
       "22812  P04156  Homo sapiens   cytoplasmic protein granule  HGNC:9449     253   \n",
       "22820  P04156  Homo sapiens   cytoplasmic protein granule  HGNC:9449     253   \n",
       "22824  P04156  Homo sapiens   cytoplasmic protein granule  HGNC:9449     253   \n",
       "22830  P04156  Homo sapiens   cytoplasmic protein granule  HGNC:9449     253   \n",
       "22860  P23771  Homo sapiens                  enhanceosome  HGNC:4172     443   \n",
       "\n",
       "                                                sequence        snp_id  \\\n",
       "152    MATLEKLMKAFESLKSFQQQQQQQQQQQQQQQQQQQQQPPPPPPPP...   rs768047421   \n",
       "162    MTAEPMSESKLNTLVQKLHDFLAHSSEESEETSSPPRLAMNQNTDK...  rs1057518708   \n",
       "176    MTAEPMSESKLNTLVQKLHDFLAHSSEESEETSSPPRLAMNQNTDK...   rs122445093   \n",
       "178    MTAEPMSESKLNTLVQKLHDFLAHSSEESEETSSPPRLAMNQNTDK...   rs122445094   \n",
       "180    MTAEPMSESKLNTLVQKLHDFLAHSSEESEETSSPPRLAMNQNTDK...   rs122445095   \n",
       "...                                                  ...           ...   \n",
       "22812  MANLGCWMLVLFVATWSDLGLCKKRPKPGGWNTGGSRYPGQGSPGG...    rs74315408   \n",
       "22820  MANLGCWMLVLFVATWSDLGLCKKRPKPGGWNTGGSRYPGQGSPGG...    rs74315410   \n",
       "22824  MANLGCWMLVLFVATWSDLGLCKKRPKPGGWNTGGSRYPGQGSPGG...    rs74315411   \n",
       "22830  MANLGCWMLVLFVATWSDLGLCKKRPKPGGWNTGGSRYPGQGSPGG...    rs74315413   \n",
       "22860  MEVTADQPRWVSHHHPAVLNGQHPDTHHPGLSHSYMDAAQYPLPEE...   rs104894163   \n",
       "\n",
       "      chromosome    position    dsi  ...  gene_name gene_id       consequence  \\\n",
       "152            4   3131647.0  1.000  ...        HTT    3064  missense variant   \n",
       "162            X  77688843.0  1.000  ...       ATRX     546  missense variant   \n",
       "176            X  77633696.0  1.000  ...       ATRX     546  missense variant   \n",
       "178            X  77633682.0  1.000  ...       ATRX     546  missense variant   \n",
       "180            X  77633572.0  1.000  ...       ATRX     546  missense variant   \n",
       "...          ...         ...    ...  ...        ...     ...               ...   \n",
       "22812         20   4699758.0  0.752  ...       PRNP    5621  missense variant   \n",
       "22820         20   4699612.0  1.000  ...       PRNP    5621  missense variant   \n",
       "22824         20   4699767.0  0.882  ...       PRNP    5621  missense variant   \n",
       "22830         20   4699780.0  0.807  ...       PRNP    5621  missense variant   \n",
       "22860         10   8064037.0  1.000  ...      GATA3    2625  missense variant   \n",
       "\n",
       "      alleles class     af_exome  alt_ref_exome  af_genome  alt_ref_genome  \\\n",
       "152       C/T   snv  8.05529e-05            C/T   0.000035             C/T   \n",
       "162       G/A   snv          NaN            NaN        NaN             NaN   \n",
       "176       T/C   snv          NaN            NaN        NaN             NaN   \n",
       "178       A/G   snv          NaN            NaN        NaN             NaN   \n",
       "180     C/A;T   snv          NaN            NaN        NaN             NaN   \n",
       "...       ...   ...          ...            ...        ...             ...   \n",
       "22812     G/A   snv  6.36264e-05            G/A   0.000042             G/A   \n",
       "22820     G/T   snv  3.97779e-06            G/T        NaN             NaN   \n",
       "22824     A/G   snv          NaN            NaN        NaN             NaN   \n",
       "22830     A/G   snv          NaN            NaN        NaN             NaN   \n",
       "22860     T/A   snv          NaN            NaN        NaN             NaN   \n",
       "\n",
       "       source_id  \n",
       "152        DBSNP  \n",
       "162        DBSNP  \n",
       "176          VEP  \n",
       "178        DBSNP  \n",
       "180          VEP  \n",
       "...          ...  \n",
       "22812      DBSNP  \n",
       "22820      DBSNP  \n",
       "22824      DBSNP  \n",
       "22830      DBSNP  \n",
       "22860      DBSNP  \n",
       "\n",
       "[498 rows x 32 columns]"
      ],
      "text/html": "<div>\n<style scoped>\n    .dataframe tbody tr th:only-of-type {\n        vertical-align: middle;\n    }\n\n    .dataframe tbody tr th {\n        vertical-align: top;\n    }\n\n    .dataframe thead th {\n        text-align: right;\n    }\n</style>\n<table border=\"1\" class=\"dataframe\">\n  <thead>\n    <tr style=\"text-align: right;\">\n      <th></th>\n      <th>uniprot</th>\n      <th>organism</th>\n      <th>mlo</th>\n      <th>hgnc_id</th>\n      <th>length</th>\n      <th>sequence</th>\n      <th>snp_id</th>\n      <th>chromosome</th>\n      <th>position</th>\n      <th>dsi</th>\n      <th>...</th>\n      <th>gene_name</th>\n      <th>gene_id</th>\n      <th>consequence</th>\n      <th>alleles</th>\n      <th>class</th>\n      <th>af_exome</th>\n      <th>alt_ref_exome</th>\n      <th>af_genome</th>\n      <th>alt_ref_genome</th>\n      <th>source_id</th>\n    </tr>\n  </thead>\n  <tbody>\n    <tr>\n      <th>152</th>\n      <td>P42858</td>\n      <td>Homo sapiens</td>\n      <td>centrosome/spindle pole body</td>\n      <td>HGNC:4851</td>\n      <td>3142</td>\n      <td>MATLEKLMKAFESLKSFQQQQQQQQQQQQQQQQQQQQQPPPPPPPP...</td>\n      <td>rs768047421</td>\n      <td>4</td>\n      <td>3131647.0</td>\n      <td>1.000</td>\n      <td>...</td>\n      <td>HTT</td>\n      <td>3064</td>\n      <td>missense variant</td>\n      <td>C/T</td>\n      <td>snv</td>\n      <td>8.05529e-05</td>\n      <td>C/T</td>\n      <td>0.000035</td>\n      <td>C/T</td>\n      <td>DBSNP</td>\n    </tr>\n    <tr>\n      <th>162</th>\n      <td>P46100</td>\n      <td>Homo sapiens</td>\n      <td>pml nuclear body</td>\n      <td>HGNC:886</td>\n      <td>2492</td>\n      <td>MTAEPMSESKLNTLVQKLHDFLAHSSEESEETSSPPRLAMNQNTDK...</td>\n      <td>rs1057518708</td>\n      <td>X</td>\n      <td>77688843.0</td>\n      <td>1.000</td>\n      <td>...</td>\n      <td>ATRX</td>\n      <td>546</td>\n      <td>missense variant</td>\n      <td>G/A</td>\n      <td>snv</td>\n      <td>NaN</td>\n      <td>NaN</td>\n      <td>NaN</td>\n      <td>NaN</td>\n      <td>DBSNP</td>\n    </tr>\n    <tr>\n      <th>176</th>\n      <td>P46100</td>\n      <td>Homo sapiens</td>\n      <td>pml nuclear body</td>\n      <td>HGNC:886</td>\n      <td>2492</td>\n      <td>MTAEPMSESKLNTLVQKLHDFLAHSSEESEETSSPPRLAMNQNTDK...</td>\n      <td>rs122445093</td>\n      <td>X</td>\n      <td>77633696.0</td>\n      <td>1.000</td>\n      <td>...</td>\n      <td>ATRX</td>\n      <td>546</td>\n      <td>missense variant</td>\n      <td>T/C</td>\n      <td>snv</td>\n      <td>NaN</td>\n      <td>NaN</td>\n      <td>NaN</td>\n      <td>NaN</td>\n      <td>VEP</td>\n    </tr>\n    <tr>\n      <th>178</th>\n      <td>P46100</td>\n      <td>Homo sapiens</td>\n      <td>pml nuclear body</td>\n      <td>HGNC:886</td>\n      <td>2492</td>\n      <td>MTAEPMSESKLNTLVQKLHDFLAHSSEESEETSSPPRLAMNQNTDK...</td>\n      <td>rs122445094</td>\n      <td>X</td>\n      <td>77633682.0</td>\n      <td>1.000</td>\n      <td>...</td>\n      <td>ATRX</td>\n      <td>546</td>\n      <td>missense variant</td>\n      <td>A/G</td>\n      <td>snv</td>\n      <td>NaN</td>\n      <td>NaN</td>\n      <td>NaN</td>\n      <td>NaN</td>\n      <td>DBSNP</td>\n    </tr>\n    <tr>\n      <th>180</th>\n      <td>P46100</td>\n      <td>Homo sapiens</td>\n      <td>pml nuclear body</td>\n      <td>HGNC:886</td>\n      <td>2492</td>\n      <td>MTAEPMSESKLNTLVQKLHDFLAHSSEESEETSSPPRLAMNQNTDK...</td>\n      <td>rs122445095</td>\n      <td>X</td>\n      <td>77633572.0</td>\n      <td>1.000</td>\n      <td>...</td>\n      <td>ATRX</td>\n      <td>546</td>\n      <td>missense variant</td>\n      <td>C/A;T</td>\n      <td>snv</td>\n      <td>NaN</td>\n      <td>NaN</td>\n      <td>NaN</td>\n      <td>NaN</td>\n      <td>VEP</td>\n    </tr>\n    <tr>\n      <th>...</th>\n      <td>...</td>\n      <td>...</td>\n      <td>...</td>\n      <td>...</td>\n      <td>...</td>\n      <td>...</td>\n      <td>...</td>\n      <td>...</td>\n      <td>...</td>\n      <td>...</td>\n      <td>...</td>\n      <td>...</td>\n      <td>...</td>\n      <td>...</td>\n      <td>...</td>\n      <td>...</td>\n      <td>...</td>\n      <td>...</td>\n      <td>...</td>\n      <td>...</td>\n      <td>...</td>\n    </tr>\n    <tr>\n      <th>22812</th>\n      <td>P04156</td>\n      <td>Homo sapiens</td>\n      <td>cytoplasmic protein granule</td>\n      <td>HGNC:9449</td>\n      <td>253</td>\n      <td>MANLGCWMLVLFVATWSDLGLCKKRPKPGGWNTGGSRYPGQGSPGG...</td>\n      <td>rs74315408</td>\n      <td>20</td>\n      <td>4699758.0</td>\n      <td>0.752</td>\n      <td>...</td>\n      <td>PRNP</td>\n      <td>5621</td>\n      <td>missense variant</td>\n      <td>G/A</td>\n      <td>snv</td>\n      <td>6.36264e-05</td>\n      <td>G/A</td>\n      <td>0.000042</td>\n      <td>G/A</td>\n      <td>DBSNP</td>\n    </tr>\n    <tr>\n      <th>22820</th>\n      <td>P04156</td>\n      <td>Homo sapiens</td>\n      <td>cytoplasmic protein granule</td>\n      <td>HGNC:9449</td>\n      <td>253</td>\n      <td>MANLGCWMLVLFVATWSDLGLCKKRPKPGGWNTGGSRYPGQGSPGG...</td>\n      <td>rs74315410</td>\n      <td>20</td>\n      <td>4699612.0</td>\n      <td>1.000</td>\n      <td>...</td>\n      <td>PRNP</td>\n      <td>5621</td>\n      <td>missense variant</td>\n      <td>G/T</td>\n      <td>snv</td>\n      <td>3.97779e-06</td>\n      <td>G/T</td>\n      <td>NaN</td>\n      <td>NaN</td>\n      <td>DBSNP</td>\n    </tr>\n    <tr>\n      <th>22824</th>\n      <td>P04156</td>\n      <td>Homo sapiens</td>\n      <td>cytoplasmic protein granule</td>\n      <td>HGNC:9449</td>\n      <td>253</td>\n      <td>MANLGCWMLVLFVATWSDLGLCKKRPKPGGWNTGGSRYPGQGSPGG...</td>\n      <td>rs74315411</td>\n      <td>20</td>\n      <td>4699767.0</td>\n      <td>0.882</td>\n      <td>...</td>\n      <td>PRNP</td>\n      <td>5621</td>\n      <td>missense variant</td>\n      <td>A/G</td>\n      <td>snv</td>\n      <td>NaN</td>\n      <td>NaN</td>\n      <td>NaN</td>\n      <td>NaN</td>\n      <td>DBSNP</td>\n    </tr>\n    <tr>\n      <th>22830</th>\n      <td>P04156</td>\n      <td>Homo sapiens</td>\n      <td>cytoplasmic protein granule</td>\n      <td>HGNC:9449</td>\n      <td>253</td>\n      <td>MANLGCWMLVLFVATWSDLGLCKKRPKPGGWNTGGSRYPGQGSPGG...</td>\n      <td>rs74315413</td>\n      <td>20</td>\n      <td>4699780.0</td>\n      <td>0.807</td>\n      <td>...</td>\n      <td>PRNP</td>\n      <td>5621</td>\n      <td>missense variant</td>\n      <td>A/G</td>\n      <td>snv</td>\n      <td>NaN</td>\n      <td>NaN</td>\n      <td>NaN</td>\n      <td>NaN</td>\n      <td>DBSNP</td>\n    </tr>\n    <tr>\n      <th>22860</th>\n      <td>P23771</td>\n      <td>Homo sapiens</td>\n      <td>enhanceosome</td>\n      <td>HGNC:4172</td>\n      <td>443</td>\n      <td>MEVTADQPRWVSHHHPAVLNGQHPDTHHPGLSHSYMDAAQYPLPEE...</td>\n      <td>rs104894163</td>\n      <td>10</td>\n      <td>8064037.0</td>\n      <td>1.000</td>\n      <td>...</td>\n      <td>GATA3</td>\n      <td>2625</td>\n      <td>missense variant</td>\n      <td>T/A</td>\n      <td>snv</td>\n      <td>NaN</td>\n      <td>NaN</td>\n      <td>NaN</td>\n      <td>NaN</td>\n      <td>DBSNP</td>\n    </tr>\n  </tbody>\n</table>\n<p>498 rows × 32 columns</p>\n</div>"
     },
     "metadata": {},
     "execution_count": 208
    }
   ],
   "source": [
    "box_disgenet[box_disgenet.source == 'CLINVAR;UNIPROT']"
   ]
  },
  {
   "cell_type": "code",
   "execution_count": null,
   "metadata": {},
   "outputs": [],
   "source": []
  }
 ]
}