{
 "cells": [
  {
   "cell_type": "code",
   "execution_count": 1,
   "metadata": {},
   "outputs": [],
   "source": [
    "#%pip install cython\r\n",
    "#%pip install pyranges"
   ]
  },
  {
   "cell_type": "code",
   "execution_count": 1,
   "metadata": {},
   "outputs": [],
   "source": [
    "import pandas as pd\r\n",
    "import numpy as np\r\n",
    "import pyranges as pr"
   ]
  },
  {
   "cell_type": "code",
   "execution_count": 20,
   "metadata": {},
   "outputs": [
    {
     "name": "stdout",
     "output_type": "stream",
     "text": [
      "<class 'pandas.core.frame.DataFrame'>\n",
      "Int64Index: 8182 entries, 0 to 8381\n",
      "Data columns (total 5 columns):\n",
      " #   Column       Non-Null Count  Dtype \n",
      "---  ------       --------------  ----- \n",
      " 0   uniprot_acc  8182 non-null   object\n",
      " 1   organism     8182 non-null   object\n",
      " 2   mlo          7361 non-null   object\n",
      " 3   rol          8182 non-null   object\n",
      " 4   db           8182 non-null   object\n",
      "dtypes: object(5)\n",
      "memory usage: 383.5+ KB\n"
     ]
    }
   ],
   "source": [
    "# Proteins from each LLPS database with their roles, mlos and dataset\r\n",
    "database_entrada = pd.read_csv('database_entrada.csv').drop_duplicates()\r\n",
    "database_entrada.rename(columns= {'uniprot': 'uniprot_acc'}, inplace= True)\r\n",
    "database_entrada.info()"
   ]
  },
  {
   "cell_type": "code",
   "execution_count": 21,
   "metadata": {},
   "outputs": [],
   "source": [
    "database_entrada.drop(columns='organism', inplace= True)"
   ]
  },
  {
   "cell_type": "markdown",
   "metadata": {},
   "source": [
    "# Load proteins, mutations, domains and regions tables"
   ]
  },
  {
   "cell_type": "markdown",
   "metadata": {},
   "source": [
    "## Load the others tables"
   ]
  },
  {
   "cell_type": "code",
   "execution_count": 8,
   "metadata": {},
   "outputs": [],
   "source": [
    "# protein table for our db. Same above but one protein by row\r\n",
    "protein = pd.read_csv('db_tables/protein.tsv', sep='\\t')"
   ]
  },
  {
   "cell_type": "code",
   "execution_count": 9,
   "metadata": {},
   "outputs": [],
   "source": [
    "# DataFrame with unique id_protein col\r\n",
    "id_protein = protein[['id_protein', 'uniprot_acc']].copy()"
   ]
  },
  {
   "cell_type": "code",
   "execution_count": 347,
   "metadata": {},
   "outputs": [
    {
     "name": "stderr",
     "output_type": "stream",
     "text": [
      "C:\\Users\\User\\AppData\\Roaming\\Python\\Python37\\site-packages\\IPython\\core\\interactiveshell.py:3170: DtypeWarning: Columns (2,4,11,15,31) have mixed types.Specify dtype option on import or set low_memory=False.\n",
      "  interactivity=interactivity, compiler=compiler, result=result)\n"
     ]
    }
   ],
   "source": [
    "# only clinvar mutations at the moment\r\n",
    "mutations = pd.read_csv('../datasets/clinvar_all_proteins_mutations_v2.csv.gz', compression='gzip') # comes from parse_clinvar.py"
   ]
  },
  {
   "cell_type": "code",
   "execution_count": 181,
   "metadata": {},
   "outputs": [],
   "source": [
    "disorder = pd.read_csv('disorder_lite.csv').rename(columns={'uniprot': 'uniprot_acc'})\r\n",
    "low_complexity = pd.read_csv('low_complexity.csv').rename(columns={'uniprot': 'uniprot_acc'})\r\n",
    "pfam = pd.read_csv('pfam.csv').rename(columns={'uniprot': 'uniprot_acc'})"
   ]
  },
  {
   "cell_type": "code",
   "execution_count": 182,
   "metadata": {},
   "outputs": [],
   "source": [
    "# Add and unique integer ID fow low_complexity and disorder\n",
    "low_complexity['id_lc'] = range(1, len(low_complexity)+1)\n",
    "disorder['id_idr'] = range(1, len(disorder)+1)"
   ]
  },
  {
   "cell_type": "markdown",
   "metadata": {},
   "source": [
    "---  \r\n",
    "# consequence and source tables"
   ]
  },
  {
   "cell_type": "code",
   "execution_count": 183,
   "metadata": {},
   "outputs": [
    {
     "data": {
      "text/plain": [
       "missense       132500\n",
       "frameshit       18891\n",
       "nonsense        11265\n",
       "deletion         2610\n",
       "insertion        1103\n",
       "delins            763\n",
       "duplication       619\n",
       "Name: consequence, dtype: int64"
      ]
     },
     "execution_count": 183,
     "metadata": {},
     "output_type": "execute_result"
    }
   ],
   "source": [
    "cf = mutations.consequence.value_counts()\n",
    "cf"
   ]
  },
  {
   "cell_type": "code",
   "execution_count": 184,
   "metadata": {},
   "outputs": [
    {
     "data": {
      "text/html": [
       "<div>\n",
       "<style scoped>\n",
       "    .dataframe tbody tr th:only-of-type {\n",
       "        vertical-align: middle;\n",
       "    }\n",
       "\n",
       "    .dataframe tbody tr th {\n",
       "        vertical-align: top;\n",
       "    }\n",
       "\n",
       "    .dataframe thead th {\n",
       "        text-align: right;\n",
       "    }\n",
       "</style>\n",
       "<table border=\"1\" class=\"dataframe\">\n",
       "  <thead>\n",
       "    <tr style=\"text-align: right;\">\n",
       "      <th></th>\n",
       "      <th>id_consequence</th>\n",
       "      <th>consequence</th>\n",
       "    </tr>\n",
       "  </thead>\n",
       "  <tbody>\n",
       "    <tr>\n",
       "      <th>0</th>\n",
       "      <td>1</td>\n",
       "      <td>missense</td>\n",
       "    </tr>\n",
       "    <tr>\n",
       "      <th>1</th>\n",
       "      <td>2</td>\n",
       "      <td>frameshit</td>\n",
       "    </tr>\n",
       "    <tr>\n",
       "      <th>2</th>\n",
       "      <td>3</td>\n",
       "      <td>nonsense</td>\n",
       "    </tr>\n",
       "    <tr>\n",
       "      <th>3</th>\n",
       "      <td>4</td>\n",
       "      <td>deletion</td>\n",
       "    </tr>\n",
       "    <tr>\n",
       "      <th>4</th>\n",
       "      <td>5</td>\n",
       "      <td>insertion</td>\n",
       "    </tr>\n",
       "    <tr>\n",
       "      <th>5</th>\n",
       "      <td>6</td>\n",
       "      <td>delins</td>\n",
       "    </tr>\n",
       "    <tr>\n",
       "      <th>6</th>\n",
       "      <td>7</td>\n",
       "      <td>duplication</td>\n",
       "    </tr>\n",
       "  </tbody>\n",
       "</table>\n",
       "</div>"
      ],
      "text/plain": [
       "   id_consequence  consequence\n",
       "0               1     missense\n",
       "1               2    frameshit\n",
       "2               3     nonsense\n",
       "3               4     deletion\n",
       "4               5    insertion\n",
       "5               6       delins\n",
       "6               7  duplication"
      ]
     },
     "execution_count": 184,
     "metadata": {},
     "output_type": "execute_result"
    }
   ],
   "source": [
    "consequence = pd.DataFrame({'id_consequence': range(1, len(cf)+1), 'consequence': cf.index})\r\n",
    "consequence"
   ]
  },
  {
   "cell_type": "code",
   "execution_count": 185,
   "metadata": {},
   "outputs": [
    {
     "data": {
      "text/plain": [
       "clinvar    167751\n",
       "Name: source, dtype: int64"
      ]
     },
     "execution_count": 185,
     "metadata": {},
     "output_type": "execute_result"
    }
   ],
   "source": [
    "mutations.source.value_counts()"
   ]
  },
  {
   "cell_type": "code",
   "execution_count": 186,
   "metadata": {},
   "outputs": [
    {
     "data": {
      "text/html": [
       "<div>\n",
       "<style scoped>\n",
       "    .dataframe tbody tr th:only-of-type {\n",
       "        vertical-align: middle;\n",
       "    }\n",
       "\n",
       "    .dataframe tbody tr th {\n",
       "        vertical-align: top;\n",
       "    }\n",
       "\n",
       "    .dataframe thead th {\n",
       "        text-align: right;\n",
       "    }\n",
       "</style>\n",
       "<table border=\"1\" class=\"dataframe\">\n",
       "  <thead>\n",
       "    <tr style=\"text-align: right;\">\n",
       "      <th></th>\n",
       "      <th>id_source</th>\n",
       "      <th>source</th>\n",
       "    </tr>\n",
       "  </thead>\n",
       "  <tbody>\n",
       "    <tr>\n",
       "      <th>0</th>\n",
       "      <td>1</td>\n",
       "      <td>clinvar</td>\n",
       "    </tr>\n",
       "    <tr>\n",
       "      <th>1</th>\n",
       "      <td>2</td>\n",
       "      <td>disgenet</td>\n",
       "    </tr>\n",
       "    <tr>\n",
       "      <th>2</th>\n",
       "      <td>3</td>\n",
       "      <td>uniprot</td>\n",
       "    </tr>\n",
       "  </tbody>\n",
       "</table>\n",
       "</div>"
      ],
      "text/plain": [
       "   id_source    source\n",
       "0          1   clinvar\n",
       "1          2  disgenet\n",
       "2          3   uniprot"
      ]
     },
     "execution_count": 186,
     "metadata": {},
     "output_type": "execute_result"
    }
   ],
   "source": [
    "source = pd.DataFrame({'id_source': [1,2,3], 'source': ['clinvar', 'disgenet', 'uniprot']})\r\n",
    "source"
   ]
  },
  {
   "cell_type": "code",
   "execution_count": 187,
   "metadata": {},
   "outputs": [],
   "source": [
    "consequence.to_csv('db_tables/consequence.tsv', sep='\\t', index = False)"
   ]
  },
  {
   "cell_type": "code",
   "execution_count": 188,
   "metadata": {},
   "outputs": [],
   "source": [
    "source.to_csv('db_tables/source.tsv', sep='\\t', index = False)"
   ]
  },
  {
   "cell_type": "markdown",
   "metadata": {},
   "source": [
    "---  \r\n",
    "# mutation table  \r\n",
    "cols: *id_mutation, snp_id, chromosome, start_genomic, end_genomic, start_aa, end_aa, from_aa, to_aa, id_source, id_protein*"
   ]
  },
  {
   "cell_type": "code",
   "execution_count": 189,
   "metadata": {},
   "outputs": [
    {
     "data": {
      "text/html": [
       "<div>\n",
       "<style scoped>\n",
       "    .dataframe tbody tr th:only-of-type {\n",
       "        vertical-align: middle;\n",
       "    }\n",
       "\n",
       "    .dataframe tbody tr th {\n",
       "        vertical-align: top;\n",
       "    }\n",
       "\n",
       "    .dataframe thead th {\n",
       "        text-align: right;\n",
       "    }\n",
       "</style>\n",
       "<table border=\"1\" class=\"dataframe\">\n",
       "  <thead>\n",
       "    <tr style=\"text-align: right;\">\n",
       "      <th></th>\n",
       "      <th>start_aa</th>\n",
       "      <th>end_aa</th>\n",
       "      <th>from</th>\n",
       "      <th>to</th>\n",
       "      <th>consequence</th>\n",
       "      <th>source</th>\n",
       "    </tr>\n",
       "  </thead>\n",
       "  <tbody>\n",
       "    <tr>\n",
       "      <th>5</th>\n",
       "      <td>1755</td>\n",
       "      <td>1757.0</td>\n",
       "      <td>LeuThr</td>\n",
       "      <td>NaN</td>\n",
       "      <td>deletion</td>\n",
       "      <td>clinvar</td>\n",
       "    </tr>\n",
       "    <tr>\n",
       "      <th>13</th>\n",
       "      <td>23</td>\n",
       "      <td>24.0</td>\n",
       "      <td>GlyGlu</td>\n",
       "      <td>NaN</td>\n",
       "      <td>deletion</td>\n",
       "      <td>clinvar</td>\n",
       "    </tr>\n",
       "    <tr>\n",
       "      <th>14</th>\n",
       "      <td>47</td>\n",
       "      <td>54.0</td>\n",
       "      <td>GlyArg</td>\n",
       "      <td>NaN</td>\n",
       "      <td>deletion</td>\n",
       "      <td>clinvar</td>\n",
       "    </tr>\n",
       "    <tr>\n",
       "      <th>16</th>\n",
       "      <td>295</td>\n",
       "      <td>298.0</td>\n",
       "      <td>AspLeu</td>\n",
       "      <td>NaN</td>\n",
       "      <td>deletion</td>\n",
       "      <td>clinvar</td>\n",
       "    </tr>\n",
       "    <tr>\n",
       "      <th>18</th>\n",
       "      <td>116</td>\n",
       "      <td>124.0</td>\n",
       "      <td>GluVal</td>\n",
       "      <td>NaN</td>\n",
       "      <td>deletion</td>\n",
       "      <td>clinvar</td>\n",
       "    </tr>\n",
       "    <tr>\n",
       "      <th>...</th>\n",
       "      <td>...</td>\n",
       "      <td>...</td>\n",
       "      <td>...</td>\n",
       "      <td>...</td>\n",
       "      <td>...</td>\n",
       "      <td>...</td>\n",
       "    </tr>\n",
       "    <tr>\n",
       "      <th>23978</th>\n",
       "      <td>1</td>\n",
       "      <td>2.0</td>\n",
       "      <td>MetGly</td>\n",
       "      <td>Ala</td>\n",
       "      <td>insertion</td>\n",
       "      <td>clinvar</td>\n",
       "    </tr>\n",
       "    <tr>\n",
       "      <th>23979</th>\n",
       "      <td>517</td>\n",
       "      <td>518.0</td>\n",
       "      <td>IleLeu</td>\n",
       "      <td>Ter</td>\n",
       "      <td>insertion</td>\n",
       "      <td>clinvar</td>\n",
       "    </tr>\n",
       "    <tr>\n",
       "      <th>23981</th>\n",
       "      <td>229</td>\n",
       "      <td>230.0</td>\n",
       "      <td>GlyPro</td>\n",
       "      <td>NaN</td>\n",
       "      <td>insertion</td>\n",
       "      <td>clinvar</td>\n",
       "    </tr>\n",
       "    <tr>\n",
       "      <th>23984</th>\n",
       "      <td>1171</td>\n",
       "      <td>1172.0</td>\n",
       "      <td>AspGlu</td>\n",
       "      <td>NaN</td>\n",
       "      <td>insertion</td>\n",
       "      <td>clinvar</td>\n",
       "    </tr>\n",
       "    <tr>\n",
       "      <th>23985</th>\n",
       "      <td>60</td>\n",
       "      <td>67.0</td>\n",
       "      <td>ProHisGlyGlyGlyTrpGlyGln</td>\n",
       "      <td>NaN</td>\n",
       "      <td>insertion</td>\n",
       "      <td>clinvar</td>\n",
       "    </tr>\n",
       "  </tbody>\n",
       "</table>\n",
       "<p>2956 rows × 6 columns</p>\n",
       "</div>"
      ],
      "text/plain": [
       "       start_aa  end_aa                      from   to consequence   source\n",
       "5          1755  1757.0                    LeuThr  NaN    deletion  clinvar\n",
       "13           23    24.0                    GlyGlu  NaN    deletion  clinvar\n",
       "14           47    54.0                    GlyArg  NaN    deletion  clinvar\n",
       "16          295   298.0                    AspLeu  NaN    deletion  clinvar\n",
       "18          116   124.0                    GluVal  NaN    deletion  clinvar\n",
       "...         ...     ...                       ...  ...         ...      ...\n",
       "23978         1     2.0                    MetGly  Ala   insertion  clinvar\n",
       "23979       517   518.0                    IleLeu  Ter   insertion  clinvar\n",
       "23981       229   230.0                    GlyPro  NaN   insertion  clinvar\n",
       "23984      1171  1172.0                    AspGlu  NaN   insertion  clinvar\n",
       "23985        60    67.0  ProHisGlyGlyGlyTrpGlyGln  NaN   insertion  clinvar\n",
       "\n",
       "[2956 rows x 6 columns]"
      ]
     },
     "execution_count": 189,
     "metadata": {},
     "output_type": "execute_result"
    }
   ],
   "source": [
    "mutations[~mutations.end_aa.isnull()][['start_aa',\t'end_aa',\t'from',\t'to',\t'consequence',\t'source']]"
   ]
  },
  {
   "cell_type": "code",
   "execution_count": 324,
   "metadata": {},
   "outputs": [
    {
     "data": {
      "text/plain": [
       "Index(['id_protein', 'uniprot_acc', 'hgnc_id', 'gene_id', 'gene_name',\n",
       "       'length', 'sequence', 'disorder_content', 'alleleid', 'variationid',\n",
       "       'snpid', 'nsv', 'geneid', 'genesymbol', 'chromosomeaccession',\n",
       "       'chromosome', 'start', 'stop', 'type', 'name', 'origin', 'phenotypeids',\n",
       "       'phenotypelist', 'otherids', 'citation_source', 'citation_id',\n",
       "       'nuccore_id', 'cambio', 'start_aa', 'end_aa', 'from', 'to',\n",
       "       'consequence', 'source'],\n",
       "      dtype='object')"
      ]
     },
     "execution_count": 324,
     "metadata": {},
     "output_type": "execute_result"
    }
   ],
   "source": [
    "mutations.columns"
   ]
  },
  {
   "cell_type": "code",
   "execution_count": 362,
   "metadata": {},
   "outputs": [],
   "source": [
    "# Subset by cols to keep for mutation db table\r\n",
    "mutation = mutations[['uniprot_acc', 'snpid', 'chromosome', 'start', 'stop', 'start_aa', 'end_aa', 'from', 'to', 'consequence', 'citation_source', 'citation_id']].copy()\r\n",
    "mutation.rename(columns={'snpid': 'snp_id', 'start': 'start_genomic', 'stop': 'end_genomic', 'from': 'from_aa', 'to': 'to_aa'}, inplace= True)"
   ]
  },
  {
   "cell_type": "code",
   "execution_count": 326,
   "metadata": {},
   "outputs": [
    {
     "data": {
      "text/plain": [
       "Index(['uniprot_acc', 'snp_id', 'chromosome', 'start_genomic', 'end_genomic',\n",
       "       'start_aa', 'end_aa', 'from_aa', 'to_aa', 'consequence',\n",
       "       'citation_source', 'citation_id'],\n",
       "      dtype='object')"
      ]
     },
     "execution_count": 326,
     "metadata": {},
     "output_type": "execute_result"
    }
   ],
   "source": [
    "mutation.columns"
   ]
  },
  {
   "cell_type": "code",
   "execution_count": 363,
   "metadata": {},
   "outputs": [
    {
     "name": "stdout",
     "output_type": "stream",
     "text": [
      "<class 'pandas.core.frame.DataFrame'>\n",
      "RangeIndex: 458111 entries, 0 to 458110\n",
      "Data columns (total 12 columns):\n",
      " #   Column           Non-Null Count   Dtype  \n",
      "---  ------           --------------   -----  \n",
      " 0   uniprot_acc      458111 non-null  object \n",
      " 1   snp_id           389760 non-null  float64\n",
      " 2   chromosome       458111 non-null  object \n",
      " 3   start_genomic    458111 non-null  float64\n",
      " 4   end_genomic      458111 non-null  float64\n",
      " 5   start_aa         458111 non-null  int64  \n",
      " 6   end_aa           8790 non-null    float64\n",
      " 7   from_aa          458111 non-null  object \n",
      " 8   to_aa            396154 non-null  object \n",
      " 9   consequence      458111 non-null  object \n",
      " 10  citation_source  367909 non-null  object \n",
      " 11  citation_id      367909 non-null  object \n",
      "dtypes: float64(4), int64(1), object(7)\n",
      "memory usage: 41.9+ MB\n"
     ]
    }
   ],
   "source": [
    "mutation.info()"
   ]
  },
  {
   "cell_type": "code",
   "execution_count": 330,
   "metadata": {},
   "outputs": [
    {
     "data": {
      "text/plain": [
       "121157"
      ]
     },
     "execution_count": 330,
     "metadata": {},
     "output_type": "execute_result"
    }
   ],
   "source": [
    "len(mutation.snp_id.unique())"
   ]
  },
  {
   "cell_type": "code",
   "execution_count": 364,
   "metadata": {},
   "outputs": [],
   "source": [
    "# Add an unique ID for each mutation, type INT\r\n",
    "mutation['id_mutation'] = range(1, len(mutation)+1)"
   ]
  },
  {
   "cell_type": "code",
   "execution_count": 365,
   "metadata": {},
   "outputs": [],
   "source": [
    "# Fill those mutations containing NaNs in the end_aa col with the start_aa value\r\n",
    "mutation.end_aa = mutation.end_aa.fillna(value= mutation.start_aa).apply(int)"
   ]
  },
  {
   "cell_type": "code",
   "execution_count": 366,
   "metadata": {},
   "outputs": [
    {
     "data": {
      "text/html": [
       "<div>\n",
       "<style scoped>\n",
       "    .dataframe tbody tr th:only-of-type {\n",
       "        vertical-align: middle;\n",
       "    }\n",
       "\n",
       "    .dataframe tbody tr th {\n",
       "        vertical-align: top;\n",
       "    }\n",
       "\n",
       "    .dataframe thead th {\n",
       "        text-align: right;\n",
       "    }\n",
       "</style>\n",
       "<table border=\"1\" class=\"dataframe\">\n",
       "  <thead>\n",
       "    <tr style=\"text-align: right;\">\n",
       "      <th></th>\n",
       "      <th>uniprot_acc</th>\n",
       "      <th>snp_id</th>\n",
       "      <th>chromosome</th>\n",
       "      <th>start_genomic</th>\n",
       "      <th>end_genomic</th>\n",
       "      <th>start_aa</th>\n",
       "      <th>end_aa</th>\n",
       "      <th>from_aa</th>\n",
       "      <th>to_aa</th>\n",
       "      <th>consequence</th>\n",
       "      <th>citation_source</th>\n",
       "      <th>citation_id</th>\n",
       "      <th>id_mutation</th>\n",
       "    </tr>\n",
       "  </thead>\n",
       "  <tbody>\n",
       "    <tr>\n",
       "      <th>0</th>\n",
       "      <td>A6H8Y1</td>\n",
       "      <td>8.792554e+08</td>\n",
       "      <td>5</td>\n",
       "      <td>71512291.0</td>\n",
       "      <td>71512293.0</td>\n",
       "      <td>1371</td>\n",
       "      <td>1371</td>\n",
       "      <td>Arg</td>\n",
       "      <td>NaN</td>\n",
       "      <td>deletion</td>\n",
       "      <td>NaN</td>\n",
       "      <td>NaN</td>\n",
       "      <td>1</td>\n",
       "    </tr>\n",
       "    <tr>\n",
       "      <th>1</th>\n",
       "      <td>A6NHR9</td>\n",
       "      <td>8.860433e+08</td>\n",
       "      <td>18</td>\n",
       "      <td>2700757.0</td>\n",
       "      <td>2700759.0</td>\n",
       "      <td>497</td>\n",
       "      <td>497</td>\n",
       "      <td>Lys</td>\n",
       "      <td>NaN</td>\n",
       "      <td>deletion</td>\n",
       "      <td>NaN</td>\n",
       "      <td>NaN</td>\n",
       "      <td>2</td>\n",
       "    </tr>\n",
       "    <tr>\n",
       "      <th>2</th>\n",
       "      <td>A6NHR9</td>\n",
       "      <td>8.860449e+08</td>\n",
       "      <td>18</td>\n",
       "      <td>2697985.0</td>\n",
       "      <td>2697987.0</td>\n",
       "      <td>430</td>\n",
       "      <td>430</td>\n",
       "      <td>His</td>\n",
       "      <td>NaN</td>\n",
       "      <td>deletion</td>\n",
       "      <td>NaN</td>\n",
       "      <td>NaN</td>\n",
       "      <td>3</td>\n",
       "    </tr>\n",
       "    <tr>\n",
       "      <th>3</th>\n",
       "      <td>A6NHR9</td>\n",
       "      <td>1.598343e+09</td>\n",
       "      <td>18</td>\n",
       "      <td>2705766.0</td>\n",
       "      <td>2705768.0</td>\n",
       "      <td>639</td>\n",
       "      <td>639</td>\n",
       "      <td>Gly</td>\n",
       "      <td>NaN</td>\n",
       "      <td>deletion</td>\n",
       "      <td>PubMed</td>\n",
       "      <td>26467025</td>\n",
       "      <td>4</td>\n",
       "    </tr>\n",
       "    <tr>\n",
       "      <th>4</th>\n",
       "      <td>A6NHR9</td>\n",
       "      <td>1.598294e+09</td>\n",
       "      <td>18</td>\n",
       "      <td>2673343.0</td>\n",
       "      <td>2673345.0</td>\n",
       "      <td>164</td>\n",
       "      <td>164</td>\n",
       "      <td>Arg</td>\n",
       "      <td>NaN</td>\n",
       "      <td>deletion</td>\n",
       "      <td>NaN</td>\n",
       "      <td>NaN</td>\n",
       "      <td>5</td>\n",
       "    </tr>\n",
       "  </tbody>\n",
       "</table>\n",
       "</div>"
      ],
      "text/plain": [
       "  uniprot_acc        snp_id chromosome  start_genomic  end_genomic  start_aa  \\\n",
       "0      A6H8Y1  8.792554e+08          5     71512291.0   71512293.0      1371   \n",
       "1      A6NHR9  8.860433e+08         18      2700757.0    2700759.0       497   \n",
       "2      A6NHR9  8.860449e+08         18      2697985.0    2697987.0       430   \n",
       "3      A6NHR9  1.598343e+09         18      2705766.0    2705768.0       639   \n",
       "4      A6NHR9  1.598294e+09         18      2673343.0    2673345.0       164   \n",
       "\n",
       "   end_aa from_aa to_aa consequence citation_source citation_id  id_mutation  \n",
       "0    1371     Arg   NaN    deletion             NaN         NaN            1  \n",
       "1     497     Lys   NaN    deletion             NaN         NaN            2  \n",
       "2     430     His   NaN    deletion             NaN         NaN            3  \n",
       "3     639     Gly   NaN    deletion          PubMed    26467025            4  \n",
       "4     164     Arg   NaN    deletion             NaN         NaN            5  "
      ]
     },
     "execution_count": 366,
     "metadata": {},
     "output_type": "execute_result"
    }
   ],
   "source": [
    "mutation.head()"
   ]
  },
  {
   "cell_type": "code",
   "execution_count": 367,
   "metadata": {},
   "outputs": [],
   "source": [
    "# Add IDs from protein and consequence\r\n",
    "mutation = mutation.merge(id_protein)\r\n",
    "mutation = mutation.merge(consequence)\r\n",
    "mutation.drop(columns=['uniprot_acc', 'consequence'], inplace= True)"
   ]
  },
  {
   "cell_type": "code",
   "execution_count": 352,
   "metadata": {},
   "outputs": [],
   "source": [
    "def format_snp(df, column):\r\n",
    "    '''\r\n",
    "    format an int snps column in a DataFrame containing -1 values.\r\n",
    "    Returns: the snp column in str format ('rs1580653772' or 'nan')\r\n",
    "    '''\r\n",
    "    #a = df.column.replace(-1, 'nan')\r\n",
    "    a = df[column]\r\n",
    "    a = a.apply(str)\r\n",
    "    a = a.map(lambda x: 'rs' + x if x != 'nan' else x)\r\n",
    "    a = a.replace(['rs-1'], 'nan')\r\n",
    "    df[column] = a"
   ]
  },
  {
   "cell_type": "code",
   "execution_count": 368,
   "metadata": {},
   "outputs": [],
   "source": [
    "# Format snp_id col\r\n",
    "format_snp(mutation, 'snp_id')"
   ]
  },
  {
   "cell_type": "code",
   "execution_count": 369,
   "metadata": {},
   "outputs": [],
   "source": [
    "# Format from_aa and to_aa cols to 1 letter code\r\n",
    "from Bio.SeqUtils import seq1\r\n",
    "mutation['from_aa'] = mutation['from_aa'].map(lambda x: seq1(x))\r\n",
    "mutation['to_aa'] = mutation['to_aa'].apply(str).map(lambda x: seq1(x) if x != 'nan' else x)"
   ]
  },
  {
   "cell_type": "code",
   "execution_count": 370,
   "metadata": {},
   "outputs": [
    {
     "data": {
      "text/plain": [
       "Index(['snp_id', 'chromosome', 'start_genomic', 'end_genomic', 'start_aa',\n",
       "       'end_aa', 'from_aa', 'to_aa', 'citation_source', 'citation_id',\n",
       "       'id_mutation', 'id_protein', 'id_consequence'],\n",
       "      dtype='object')"
      ]
     },
     "execution_count": 370,
     "metadata": {},
     "output_type": "execute_result"
    }
   ],
   "source": [
    "mutation.columns"
   ]
  },
  {
   "cell_type": "code",
   "execution_count": 371,
   "metadata": {},
   "outputs": [
    {
     "data": {
      "text/html": [
       "<div>\n",
       "<style scoped>\n",
       "    .dataframe tbody tr th:only-of-type {\n",
       "        vertical-align: middle;\n",
       "    }\n",
       "\n",
       "    .dataframe tbody tr th {\n",
       "        vertical-align: top;\n",
       "    }\n",
       "\n",
       "    .dataframe thead th {\n",
       "        text-align: right;\n",
       "    }\n",
       "</style>\n",
       "<table border=\"1\" class=\"dataframe\">\n",
       "  <thead>\n",
       "    <tr style=\"text-align: right;\">\n",
       "      <th></th>\n",
       "      <th>id_mutation</th>\n",
       "      <th>snp_id</th>\n",
       "      <th>chromosome</th>\n",
       "      <th>start_genomic</th>\n",
       "      <th>end_genomic</th>\n",
       "      <th>start_aa</th>\n",
       "      <th>end_aa</th>\n",
       "      <th>from_aa</th>\n",
       "      <th>to_aa</th>\n",
       "      <th>id_protein</th>\n",
       "      <th>id_consequence</th>\n",
       "      <th>citation_source</th>\n",
       "      <th>citation_id</th>\n",
       "    </tr>\n",
       "  </thead>\n",
       "  <tbody>\n",
       "    <tr>\n",
       "      <th>0</th>\n",
       "      <td>1</td>\n",
       "      <td>rs879255413.0</td>\n",
       "      <td>5</td>\n",
       "      <td>71512291.0</td>\n",
       "      <td>71512293.0</td>\n",
       "      <td>1371</td>\n",
       "      <td>1371</td>\n",
       "      <td>R</td>\n",
       "      <td>nan</td>\n",
       "      <td>19</td>\n",
       "      <td>4</td>\n",
       "      <td>NaN</td>\n",
       "      <td>NaN</td>\n",
       "    </tr>\n",
       "    <tr>\n",
       "      <th>1</th>\n",
       "      <td>2</td>\n",
       "      <td>rs886043345.0</td>\n",
       "      <td>18</td>\n",
       "      <td>2700757.0</td>\n",
       "      <td>2700759.0</td>\n",
       "      <td>497</td>\n",
       "      <td>497</td>\n",
       "      <td>K</td>\n",
       "      <td>nan</td>\n",
       "      <td>25</td>\n",
       "      <td>4</td>\n",
       "      <td>NaN</td>\n",
       "      <td>NaN</td>\n",
       "    </tr>\n",
       "    <tr>\n",
       "      <th>2</th>\n",
       "      <td>3</td>\n",
       "      <td>rs886044914.0</td>\n",
       "      <td>18</td>\n",
       "      <td>2697985.0</td>\n",
       "      <td>2697987.0</td>\n",
       "      <td>430</td>\n",
       "      <td>430</td>\n",
       "      <td>H</td>\n",
       "      <td>nan</td>\n",
       "      <td>25</td>\n",
       "      <td>4</td>\n",
       "      <td>NaN</td>\n",
       "      <td>NaN</td>\n",
       "    </tr>\n",
       "    <tr>\n",
       "      <th>3</th>\n",
       "      <td>4</td>\n",
       "      <td>rs1598342592.0</td>\n",
       "      <td>18</td>\n",
       "      <td>2705766.0</td>\n",
       "      <td>2705768.0</td>\n",
       "      <td>639</td>\n",
       "      <td>639</td>\n",
       "      <td>G</td>\n",
       "      <td>nan</td>\n",
       "      <td>25</td>\n",
       "      <td>4</td>\n",
       "      <td>PubMed</td>\n",
       "      <td>26467025</td>\n",
       "    </tr>\n",
       "    <tr>\n",
       "      <th>4</th>\n",
       "      <td>5</td>\n",
       "      <td>rs1598293848.0</td>\n",
       "      <td>18</td>\n",
       "      <td>2673343.0</td>\n",
       "      <td>2673345.0</td>\n",
       "      <td>164</td>\n",
       "      <td>164</td>\n",
       "      <td>R</td>\n",
       "      <td>nan</td>\n",
       "      <td>25</td>\n",
       "      <td>4</td>\n",
       "      <td>NaN</td>\n",
       "      <td>NaN</td>\n",
       "    </tr>\n",
       "    <tr>\n",
       "      <th>...</th>\n",
       "      <td>...</td>\n",
       "      <td>...</td>\n",
       "      <td>...</td>\n",
       "      <td>...</td>\n",
       "      <td>...</td>\n",
       "      <td>...</td>\n",
       "      <td>...</td>\n",
       "      <td>...</td>\n",
       "      <td>...</td>\n",
       "      <td>...</td>\n",
       "      <td>...</td>\n",
       "      <td>...</td>\n",
       "      <td>...</td>\n",
       "    </tr>\n",
       "    <tr>\n",
       "      <th>450580</th>\n",
       "      <td>458107</td>\n",
       "      <td>nan</td>\n",
       "      <td>2</td>\n",
       "      <td>49922240.0</td>\n",
       "      <td>49922240.0</td>\n",
       "      <td>1410</td>\n",
       "      <td>1410</td>\n",
       "      <td>R</td>\n",
       "      <td>*</td>\n",
       "      <td>4362</td>\n",
       "      <td>3</td>\n",
       "      <td>PubMed</td>\n",
       "      <td>28492532</td>\n",
       "    </tr>\n",
       "    <tr>\n",
       "      <th>450581</th>\n",
       "      <td>458108</td>\n",
       "      <td>nan</td>\n",
       "      <td>2</td>\n",
       "      <td>50236893.0</td>\n",
       "      <td>50236893.0</td>\n",
       "      <td>1148</td>\n",
       "      <td>1148</td>\n",
       "      <td>R</td>\n",
       "      <td>*</td>\n",
       "      <td>4362</td>\n",
       "      <td>3</td>\n",
       "      <td>PubMed</td>\n",
       "      <td>19896112</td>\n",
       "    </tr>\n",
       "    <tr>\n",
       "      <th>450582</th>\n",
       "      <td>458109</td>\n",
       "      <td>nan</td>\n",
       "      <td>2</td>\n",
       "      <td>50236893.0</td>\n",
       "      <td>50236893.0</td>\n",
       "      <td>1148</td>\n",
       "      <td>1148</td>\n",
       "      <td>R</td>\n",
       "      <td>*</td>\n",
       "      <td>4362</td>\n",
       "      <td>3</td>\n",
       "      <td>PubMed</td>\n",
       "      <td>21964664</td>\n",
       "    </tr>\n",
       "    <tr>\n",
       "      <th>450583</th>\n",
       "      <td>458110</td>\n",
       "      <td>nan</td>\n",
       "      <td>2</td>\n",
       "      <td>50236893.0</td>\n",
       "      <td>50236893.0</td>\n",
       "      <td>1148</td>\n",
       "      <td>1148</td>\n",
       "      <td>R</td>\n",
       "      <td>*</td>\n",
       "      <td>4362</td>\n",
       "      <td>3</td>\n",
       "      <td>PubMed</td>\n",
       "      <td>25149956</td>\n",
       "    </tr>\n",
       "    <tr>\n",
       "      <th>450584</th>\n",
       "      <td>458111</td>\n",
       "      <td>nan</td>\n",
       "      <td>2</td>\n",
       "      <td>50236893.0</td>\n",
       "      <td>50236893.0</td>\n",
       "      <td>1148</td>\n",
       "      <td>1148</td>\n",
       "      <td>R</td>\n",
       "      <td>*</td>\n",
       "      <td>4362</td>\n",
       "      <td>3</td>\n",
       "      <td>PubMed</td>\n",
       "      <td>28492532</td>\n",
       "    </tr>\n",
       "  </tbody>\n",
       "</table>\n",
       "<p>458111 rows × 13 columns</p>\n",
       "</div>"
      ],
      "text/plain": [
       "        id_mutation          snp_id chromosome  start_genomic  end_genomic  \\\n",
       "0                 1   rs879255413.0          5     71512291.0   71512293.0   \n",
       "1                 2   rs886043345.0         18      2700757.0    2700759.0   \n",
       "2                 3   rs886044914.0         18      2697985.0    2697987.0   \n",
       "3                 4  rs1598342592.0         18      2705766.0    2705768.0   \n",
       "4                 5  rs1598293848.0         18      2673343.0    2673345.0   \n",
       "...             ...             ...        ...            ...          ...   \n",
       "450580       458107             nan          2     49922240.0   49922240.0   \n",
       "450581       458108             nan          2     50236893.0   50236893.0   \n",
       "450582       458109             nan          2     50236893.0   50236893.0   \n",
       "450583       458110             nan          2     50236893.0   50236893.0   \n",
       "450584       458111             nan          2     50236893.0   50236893.0   \n",
       "\n",
       "        start_aa  end_aa from_aa to_aa  id_protein  id_consequence  \\\n",
       "0           1371    1371       R   nan          19               4   \n",
       "1            497     497       K   nan          25               4   \n",
       "2            430     430       H   nan          25               4   \n",
       "3            639     639       G   nan          25               4   \n",
       "4            164     164       R   nan          25               4   \n",
       "...          ...     ...     ...   ...         ...             ...   \n",
       "450580      1410    1410       R     *        4362               3   \n",
       "450581      1148    1148       R     *        4362               3   \n",
       "450582      1148    1148       R     *        4362               3   \n",
       "450583      1148    1148       R     *        4362               3   \n",
       "450584      1148    1148       R     *        4362               3   \n",
       "\n",
       "       citation_source citation_id  \n",
       "0                  NaN         NaN  \n",
       "1                  NaN         NaN  \n",
       "2                  NaN         NaN  \n",
       "3               PubMed    26467025  \n",
       "4                  NaN         NaN  \n",
       "...                ...         ...  \n",
       "450580          PubMed    28492532  \n",
       "450581          PubMed    19896112  \n",
       "450582          PubMed    21964664  \n",
       "450583          PubMed    25149956  \n",
       "450584          PubMed    28492532  \n",
       "\n",
       "[458111 rows x 13 columns]"
      ]
     },
     "execution_count": 371,
     "metadata": {},
     "output_type": "execute_result"
    }
   ],
   "source": [
    "mutation = mutation[['id_mutation', 'snp_id', 'chromosome', 'start_genomic', 'end_genomic', 'start_aa','end_aa',\r\n",
    "                    'from_aa', 'to_aa', 'id_protein', 'id_consequence', 'citation_source', 'citation_id']].sort_values('id_mutation')\r\n",
    "mutation"
   ]
  },
  {
   "cell_type": "code",
   "execution_count": 372,
   "metadata": {},
   "outputs": [],
   "source": [
    "mutation.chromosome = mutation.chromosome.apply(str)"
   ]
  },
  {
   "cell_type": "code",
   "execution_count": 373,
   "metadata": {},
   "outputs": [
    {
     "name": "stdout",
     "output_type": "stream",
     "text": [
      "<class 'pandas.core.frame.DataFrame'>\n",
      "Int64Index: 458111 entries, 0 to 450584\n",
      "Data columns (total 13 columns):\n",
      " #   Column           Non-Null Count   Dtype  \n",
      "---  ------           --------------   -----  \n",
      " 0   id_mutation      458111 non-null  int32  \n",
      " 1   snp_id           458111 non-null  object \n",
      " 2   chromosome       458111 non-null  object \n",
      " 3   start_genomic    458111 non-null  float64\n",
      " 4   end_genomic      458111 non-null  float64\n",
      " 5   start_aa         458111 non-null  int64  \n",
      " 6   end_aa           458111 non-null  int64  \n",
      " 7   from_aa          458111 non-null  object \n",
      " 8   to_aa            458111 non-null  object \n",
      " 9   id_protein       458111 non-null  int64  \n",
      " 10  id_consequence   458111 non-null  int64  \n",
      " 11  citation_source  367909 non-null  object \n",
      " 12  citation_id      367909 non-null  object \n",
      "dtypes: float64(2), int32(1), int64(4), object(6)\n",
      "memory usage: 47.2+ MB\n"
     ]
    }
   ],
   "source": [
    "mutation.info()"
   ]
  },
  {
   "cell_type": "code",
   "execution_count": 378,
   "metadata": {},
   "outputs": [
    {
     "data": {
      "text/plain": [
       "False"
      ]
     },
     "execution_count": 378,
     "metadata": {},
     "output_type": "execute_result"
    }
   ],
   "source": [
    "mutation.duplicated().any()"
   ]
  },
  {
   "cell_type": "markdown",
   "metadata": {},
   "source": [
    "## mutation_has_citation"
   ]
  },
  {
   "cell_type": "code",
   "execution_count": 375,
   "metadata": {},
   "outputs": [],
   "source": [
    "mutation_has_pubmed = mutation[['id_mutation', 'citation_source', 'citation_id']].copy()"
   ]
  },
  {
   "cell_type": "code",
   "execution_count": 376,
   "metadata": {},
   "outputs": [
    {
     "data": {
      "text/plain": [
       "PubMed           364303\n",
       "NCBIBookShelf      3460\n",
       "PubMedCentral       146\n",
       "Name: citation_source, dtype: int64"
      ]
     },
     "execution_count": 376,
     "metadata": {},
     "output_type": "execute_result"
    }
   ],
   "source": [
    "mutation_has_pubmed.citation_source.value_counts()"
   ]
  },
  {
   "cell_type": "code",
   "execution_count": 377,
   "metadata": {},
   "outputs": [
    {
     "data": {
      "text/plain": [
       "28492532    115074\n",
       "25741868     58328\n",
       "26467025      8931\n",
       "24728327      7861\n",
       "24033266      7812\n",
       "             ...  \n",
       "15050448         1\n",
       "16476093         1\n",
       "11641390         1\n",
       "15219840         1\n",
       "14576434         1\n",
       "Name: citation_id, Length: 26365, dtype: int64"
      ]
     },
     "execution_count": 377,
     "metadata": {},
     "output_type": "execute_result"
    }
   ],
   "source": [
    "mutation_has_pubmed.citation_id.value_counts()"
   ]
  },
  {
   "cell_type": "code",
   "execution_count": null,
   "metadata": {},
   "outputs": [],
   "source": []
  },
  {
   "cell_type": "code",
   "execution_count": 360,
   "metadata": {},
   "outputs": [],
   "source": [
    "mutation.to_csv('db_tables/mutation.tsv', sep='\\t', index = False)"
   ]
  },
  {
   "cell_type": "markdown",
   "metadata": {},
   "source": [
    "---\n",
    "## Para asignar los rangos debo tener:  \n",
    "- Tabla de mutaciones con id_mutation, *id_protein(Chromosome), start_aa(Start), end_aa(End)*  \n",
    "- Tablas de lc, idr y pfam con id unico "
   ]
  },
  {
   "cell_type": "markdown",
   "metadata": {},
   "source": [
    "---  \n",
    "# Pfam Tables"
   ]
  },
  {
   "cell_type": "code",
   "execution_count": 204,
   "metadata": {},
   "outputs": [
    {
     "data": {
      "text/html": [
       "<div>\n",
       "<style scoped>\n",
       "    .dataframe tbody tr th:only-of-type {\n",
       "        vertical-align: middle;\n",
       "    }\n",
       "\n",
       "    .dataframe tbody tr th {\n",
       "        vertical-align: top;\n",
       "    }\n",
       "\n",
       "    .dataframe thead th {\n",
       "        text-align: right;\n",
       "    }\n",
       "</style>\n",
       "<table border=\"1\" class=\"dataframe\">\n",
       "  <thead>\n",
       "    <tr style=\"text-align: right;\">\n",
       "      <th></th>\n",
       "      <th>uniprot_acc</th>\n",
       "      <th>tipo</th>\n",
       "      <th>start</th>\n",
       "      <th>end</th>\n",
       "    </tr>\n",
       "  </thead>\n",
       "  <tbody>\n",
       "    <tr>\n",
       "      <th>0</th>\n",
       "      <td>O94910</td>\n",
       "      <td>7tm_2</td>\n",
       "      <td>857</td>\n",
       "      <td>1093</td>\n",
       "    </tr>\n",
       "    <tr>\n",
       "      <th>1</th>\n",
       "      <td>Q9HAR2</td>\n",
       "      <td>7tm_2</td>\n",
       "      <td>861</td>\n",
       "      <td>1097</td>\n",
       "    </tr>\n",
       "    <tr>\n",
       "      <th>2</th>\n",
       "      <td>O14514</td>\n",
       "      <td>7tm_2</td>\n",
       "      <td>944</td>\n",
       "      <td>1180</td>\n",
       "    </tr>\n",
       "    <tr>\n",
       "      <th>3</th>\n",
       "      <td>O75899</td>\n",
       "      <td>7tm_3</td>\n",
       "      <td>475</td>\n",
       "      <td>743</td>\n",
       "    </tr>\n",
       "    <tr>\n",
       "      <th>4</th>\n",
       "      <td>Q9NZH0</td>\n",
       "      <td>7tm_3</td>\n",
       "      <td>49</td>\n",
       "      <td>291</td>\n",
       "    </tr>\n",
       "  </tbody>\n",
       "</table>\n",
       "</div>"
      ],
      "text/plain": [
       "  uniprot_acc   tipo  start   end\n",
       "0      O94910  7tm_2    857  1093\n",
       "1      Q9HAR2  7tm_2    861  1097\n",
       "2      O14514  7tm_2    944  1180\n",
       "3      O75899  7tm_3    475   743\n",
       "4      Q9NZH0  7tm_3     49   291"
      ]
     },
     "execution_count": 204,
     "metadata": {},
     "output_type": "execute_result"
    }
   ],
   "source": [
    "pfam.head()"
   ]
  },
  {
   "cell_type": "markdown",
   "metadata": {},
   "source": [
    "## pfam_domain  \r\n",
    "cols: pfam_id, pfam_domain, por ej: PF00003 7tm_3"
   ]
  },
  {
   "cell_type": "code",
   "execution_count": 205,
   "metadata": {},
   "outputs": [],
   "source": [
    "# Array with unique pfam domains\r\n",
    "pf_domain = pfam.tipo.unique() # unique pfam domains (2939 for this set of proteins)"
   ]
  },
  {
   "cell_type": "code",
   "execution_count": 206,
   "metadata": {},
   "outputs": [
    {
     "data": {
      "text/html": [
       "<div>\n",
       "<style scoped>\n",
       "    .dataframe tbody tr th:only-of-type {\n",
       "        vertical-align: middle;\n",
       "    }\n",
       "\n",
       "    .dataframe tbody tr th {\n",
       "        vertical-align: top;\n",
       "    }\n",
       "\n",
       "    .dataframe thead th {\n",
       "        text-align: right;\n",
       "    }\n",
       "</style>\n",
       "<table border=\"1\" class=\"dataframe\">\n",
       "  <thead>\n",
       "    <tr style=\"text-align: right;\">\n",
       "      <th></th>\n",
       "      <th>pfam_domain</th>\n",
       "      <th>id_pfam</th>\n",
       "    </tr>\n",
       "  </thead>\n",
       "  <tbody>\n",
       "    <tr>\n",
       "      <th>0</th>\n",
       "      <td>7tm_2</td>\n",
       "      <td>1</td>\n",
       "    </tr>\n",
       "    <tr>\n",
       "      <th>1</th>\n",
       "      <td>7tm_3</td>\n",
       "      <td>2</td>\n",
       "    </tr>\n",
       "    <tr>\n",
       "      <th>2</th>\n",
       "      <td>ATP-synt_ab</td>\n",
       "      <td>3</td>\n",
       "    </tr>\n",
       "    <tr>\n",
       "      <th>3</th>\n",
       "      <td>GTP_EFTU</td>\n",
       "      <td>4</td>\n",
       "    </tr>\n",
       "    <tr>\n",
       "      <th>4</th>\n",
       "      <td>HLH</td>\n",
       "      <td>5</td>\n",
       "    </tr>\n",
       "    <tr>\n",
       "      <th>...</th>\n",
       "      <td>...</td>\n",
       "      <td>...</td>\n",
       "    </tr>\n",
       "    <tr>\n",
       "      <th>2934</th>\n",
       "      <td>PhoLip_ATPase_C</td>\n",
       "      <td>2935</td>\n",
       "    </tr>\n",
       "    <tr>\n",
       "      <th>2935</th>\n",
       "      <td>HIP1_clath_bdg</td>\n",
       "      <td>2936</td>\n",
       "    </tr>\n",
       "    <tr>\n",
       "      <th>2936</th>\n",
       "      <td>DAO_C</td>\n",
       "      <td>2937</td>\n",
       "    </tr>\n",
       "    <tr>\n",
       "      <th>2937</th>\n",
       "      <td>Armet</td>\n",
       "      <td>2938</td>\n",
       "    </tr>\n",
       "    <tr>\n",
       "      <th>2938</th>\n",
       "      <td>DSPc</td>\n",
       "      <td>2939</td>\n",
       "    </tr>\n",
       "  </tbody>\n",
       "</table>\n",
       "<p>2939 rows × 2 columns</p>\n",
       "</div>"
      ],
      "text/plain": [
       "          pfam_domain  id_pfam\n",
       "0               7tm_2        1\n",
       "1               7tm_3        2\n",
       "2         ATP-synt_ab        3\n",
       "3            GTP_EFTU        4\n",
       "4                 HLH        5\n",
       "...               ...      ...\n",
       "2934  PhoLip_ATPase_C     2935\n",
       "2935   HIP1_clath_bdg     2936\n",
       "2936            DAO_C     2937\n",
       "2937            Armet     2938\n",
       "2938             DSPc     2939\n",
       "\n",
       "[2939 rows x 2 columns]"
      ]
     },
     "execution_count": 206,
     "metadata": {},
     "output_type": "execute_result"
    }
   ],
   "source": [
    "pfam_domain = pd.DataFrame({'pfam_domain': pf_domain, 'id_pfam': range(1, len(pf_domain)+1)})  # luego cambiar el id por los PF000...\r\n",
    "pfam_domain"
   ]
  },
  {
   "cell_type": "code",
   "execution_count": 207,
   "metadata": {},
   "outputs": [],
   "source": [
    "pfam_domain.to_csv('db_tables/pfam_domain.tsv', sep='\\t', index= False)"
   ]
  },
  {
   "cell_type": "markdown",
   "metadata": {},
   "source": [
    "## protein_has_pfam_domain  \r\n",
    "cols: id_protein, id_pfam, start, end, length"
   ]
  },
  {
   "cell_type": "code",
   "execution_count": 208,
   "metadata": {},
   "outputs": [],
   "source": [
    "protein_has_pfam_domain = pfam.merge(id_protein) # agregar col id_protein\r\n",
    "protein_has_pfam_domain['length'] = protein_has_pfam_domain.end - protein_has_pfam_domain.start + 1 # col length"
   ]
  },
  {
   "cell_type": "code",
   "execution_count": 209,
   "metadata": {},
   "outputs": [],
   "source": [
    "protein_has_pfam_domain.rename(columns= {'tipo': 'pfam_domain'}, inplace= True)\r\n",
    "protein_has_pfam_domain = protein_has_pfam_domain.merge(pfam_domain) # to add the col pfam_id"
   ]
  },
  {
   "cell_type": "code",
   "execution_count": 210,
   "metadata": {},
   "outputs": [
    {
     "data": {
      "text/html": [
       "<div>\n",
       "<style scoped>\n",
       "    .dataframe tbody tr th:only-of-type {\n",
       "        vertical-align: middle;\n",
       "    }\n",
       "\n",
       "    .dataframe tbody tr th {\n",
       "        vertical-align: top;\n",
       "    }\n",
       "\n",
       "    .dataframe thead th {\n",
       "        text-align: right;\n",
       "    }\n",
       "</style>\n",
       "<table border=\"1\" class=\"dataframe\">\n",
       "  <thead>\n",
       "    <tr style=\"text-align: right;\">\n",
       "      <th></th>\n",
       "      <th>id_protein</th>\n",
       "      <th>id_pfam</th>\n",
       "      <th>start</th>\n",
       "      <th>end</th>\n",
       "      <th>length</th>\n",
       "    </tr>\n",
       "  </thead>\n",
       "  <tbody>\n",
       "    <tr>\n",
       "      <th>6140</th>\n",
       "      <td>1</td>\n",
       "      <td>171</td>\n",
       "      <td>17</td>\n",
       "      <td>144</td>\n",
       "      <td>128</td>\n",
       "    </tr>\n",
       "    <tr>\n",
       "      <th>9114</th>\n",
       "      <td>2</td>\n",
       "      <td>814</td>\n",
       "      <td>28</td>\n",
       "      <td>91</td>\n",
       "      <td>64</td>\n",
       "    </tr>\n",
       "    <tr>\n",
       "      <th>627</th>\n",
       "      <td>4</td>\n",
       "      <td>50</td>\n",
       "      <td>153</td>\n",
       "      <td>220</td>\n",
       "      <td>68</td>\n",
       "    </tr>\n",
       "    <tr>\n",
       "      <th>626</th>\n",
       "      <td>4</td>\n",
       "      <td>50</td>\n",
       "      <td>248</td>\n",
       "      <td>312</td>\n",
       "      <td>65</td>\n",
       "    </tr>\n",
       "    <tr>\n",
       "      <th>625</th>\n",
       "      <td>4</td>\n",
       "      <td>50</td>\n",
       "      <td>73</td>\n",
       "      <td>141</td>\n",
       "      <td>69</td>\n",
       "    </tr>\n",
       "    <tr>\n",
       "      <th>...</th>\n",
       "      <td>...</td>\n",
       "      <td>...</td>\n",
       "      <td>...</td>\n",
       "      <td>...</td>\n",
       "      <td>...</td>\n",
       "    </tr>\n",
       "    <tr>\n",
       "      <th>1461</th>\n",
       "      <td>4365</td>\n",
       "      <td>784</td>\n",
       "      <td>55</td>\n",
       "      <td>184</td>\n",
       "      <td>130</td>\n",
       "    </tr>\n",
       "    <tr>\n",
       "      <th>1457</th>\n",
       "      <td>4365</td>\n",
       "      <td>784</td>\n",
       "      <td>475</td>\n",
       "      <td>619</td>\n",
       "      <td>145</td>\n",
       "    </tr>\n",
       "    <tr>\n",
       "      <th>5600</th>\n",
       "      <td>4367</td>\n",
       "      <td>2244</td>\n",
       "      <td>160</td>\n",
       "      <td>199</td>\n",
       "      <td>40</td>\n",
       "    </tr>\n",
       "    <tr>\n",
       "      <th>10551</th>\n",
       "      <td>4367</td>\n",
       "      <td>2529</td>\n",
       "      <td>305</td>\n",
       "      <td>369</td>\n",
       "      <td>65</td>\n",
       "    </tr>\n",
       "    <tr>\n",
       "      <th>10240</th>\n",
       "      <td>4368</td>\n",
       "      <td>1817</td>\n",
       "      <td>5</td>\n",
       "      <td>140</td>\n",
       "      <td>136</td>\n",
       "    </tr>\n",
       "  </tbody>\n",
       "</table>\n",
       "<p>10867 rows × 5 columns</p>\n",
       "</div>"
      ],
      "text/plain": [
       "       id_protein  id_pfam  start  end  length\n",
       "6140            1      171     17  144     128\n",
       "9114            2      814     28   91      64\n",
       "627             4       50    153  220      68\n",
       "626             4       50    248  312      65\n",
       "625             4       50     73  141      69\n",
       "...           ...      ...    ...  ...     ...\n",
       "1461         4365      784     55  184     130\n",
       "1457         4365      784    475  619     145\n",
       "5600         4367     2244    160  199      40\n",
       "10551        4367     2529    305  369      65\n",
       "10240        4368     1817      5  140     136\n",
       "\n",
       "[10867 rows x 5 columns]"
      ]
     },
     "execution_count": 210,
     "metadata": {},
     "output_type": "execute_result"
    }
   ],
   "source": [
    "protein_has_pfam_domain = protein_has_pfam_domain[['id_protein', 'id_pfam', 'start', 'end', 'length']].sort_values('id_protein')\r\n",
    "protein_has_pfam_domain"
   ]
  },
  {
   "cell_type": "code",
   "execution_count": 211,
   "metadata": {},
   "outputs": [],
   "source": [
    "protein_has_pfam_domain.to_csv('db_tables/protein_has_pfam_domain.tsv', sep='\\t', index= False)"
   ]
  },
  {
   "cell_type": "markdown",
   "metadata": {},
   "source": [
    "## mutation_has_pfam_domain  \r\n",
    "cols: id_mutation, id_protein, id_pfam, start, end"
   ]
  },
  {
   "cell_type": "markdown",
   "metadata": {},
   "source": [
    "### Pyranges  \r\n",
    "columnas obligatorias: *Chromosome\t Start\tEnd*  \r\n",
    "Chromosome: id_protein    \r\n",
    "otras columnas con ids son opcionales y cualquier nombre  \r\n",
    "  \r\n",
    "por ejemplo df seria tabla de mutaciones  \r\n",
    "df = pr.PyRanges(df.rename(columns={'chromosome':'Chromosome','start_position':'Start','end_position':'End'}))  \r\n",
    "  \r\n",
    "df = pyrange de mutaciones (columnas: Chromosome, Start, End, id_mutacion)  \r\n",
    "low_c = pyrange de low complexity(columnas: Chromosome, Start, End, id_low, id_proteina)  \r\n",
    "data = df.join(low_c, strandedness=False, slack=1).drop(like=\"_b\") # mutaciones lo junto con low_complex  \r\n",
    "strandedness=False no tener en cuenta el Strand  \r\n",
    "slack=1 coincidir los extremos. Importante  \r\n",
    "drop(like=\"_b\") eliminar el Chromosome, Start, End de low_c (en pfam no hacer el drop)  \r\n",
    "data = data.df[[Chromosome, Start, End, id_mutacion, id_low, id_proteina]] # pasa de pyrange a dataframe"
   ]
  },
  {
   "cell_type": "code",
   "execution_count": 212,
   "metadata": {},
   "outputs": [
    {
     "data": {
      "text/html": [
       "<div>\n",
       "<style scoped>\n",
       "    .dataframe tbody tr th:only-of-type {\n",
       "        vertical-align: middle;\n",
       "    }\n",
       "\n",
       "    .dataframe tbody tr th {\n",
       "        vertical-align: top;\n",
       "    }\n",
       "\n",
       "    .dataframe thead th {\n",
       "        text-align: right;\n",
       "    }\n",
       "</style>\n",
       "<table border=\"1\" class=\"dataframe\">\n",
       "  <thead>\n",
       "    <tr style=\"text-align: right;\">\n",
       "      <th></th>\n",
       "      <th>id_mutation</th>\n",
       "      <th>snp_id</th>\n",
       "      <th>chromosome</th>\n",
       "      <th>start_genomic</th>\n",
       "      <th>end_genomic</th>\n",
       "      <th>start_aa</th>\n",
       "      <th>end_aa</th>\n",
       "      <th>from_aa</th>\n",
       "      <th>to_aa</th>\n",
       "      <th>id_protein</th>\n",
       "      <th>id_consequence</th>\n",
       "    </tr>\n",
       "  </thead>\n",
       "  <tbody>\n",
       "    <tr>\n",
       "      <th>0</th>\n",
       "      <td>1</td>\n",
       "      <td>rs879255413</td>\n",
       "      <td>5</td>\n",
       "      <td>71512291</td>\n",
       "      <td>71512293</td>\n",
       "      <td>1371</td>\n",
       "      <td>1371</td>\n",
       "      <td>R</td>\n",
       "      <td>nan</td>\n",
       "      <td>19</td>\n",
       "      <td>4</td>\n",
       "    </tr>\n",
       "    <tr>\n",
       "      <th>1</th>\n",
       "      <td>2</td>\n",
       "      <td>rs886043345</td>\n",
       "      <td>18</td>\n",
       "      <td>2700757</td>\n",
       "      <td>2700759</td>\n",
       "      <td>497</td>\n",
       "      <td>497</td>\n",
       "      <td>K</td>\n",
       "      <td>nan</td>\n",
       "      <td>25</td>\n",
       "      <td>4</td>\n",
       "    </tr>\n",
       "    <tr>\n",
       "      <th>2</th>\n",
       "      <td>3</td>\n",
       "      <td>rs886044914</td>\n",
       "      <td>18</td>\n",
       "      <td>2697985</td>\n",
       "      <td>2697987</td>\n",
       "      <td>430</td>\n",
       "      <td>430</td>\n",
       "      <td>H</td>\n",
       "      <td>nan</td>\n",
       "      <td>25</td>\n",
       "      <td>4</td>\n",
       "    </tr>\n",
       "    <tr>\n",
       "      <th>3</th>\n",
       "      <td>4</td>\n",
       "      <td>rs1598342592</td>\n",
       "      <td>18</td>\n",
       "      <td>2705766</td>\n",
       "      <td>2705768</td>\n",
       "      <td>639</td>\n",
       "      <td>639</td>\n",
       "      <td>G</td>\n",
       "      <td>nan</td>\n",
       "      <td>25</td>\n",
       "      <td>4</td>\n",
       "    </tr>\n",
       "    <tr>\n",
       "      <th>4</th>\n",
       "      <td>5</td>\n",
       "      <td>rs1598293848</td>\n",
       "      <td>18</td>\n",
       "      <td>2673343</td>\n",
       "      <td>2673345</td>\n",
       "      <td>164</td>\n",
       "      <td>164</td>\n",
       "      <td>R</td>\n",
       "      <td>nan</td>\n",
       "      <td>25</td>\n",
       "      <td>4</td>\n",
       "    </tr>\n",
       "  </tbody>\n",
       "</table>\n",
       "</div>"
      ],
      "text/plain": [
       "   id_mutation        snp_id chromosome  start_genomic  end_genomic  start_aa  \\\n",
       "0            1   rs879255413          5       71512291     71512293      1371   \n",
       "1            2   rs886043345         18        2700757      2700759       497   \n",
       "2            3   rs886044914         18        2697985      2697987       430   \n",
       "3            4  rs1598342592         18        2705766      2705768       639   \n",
       "4            5  rs1598293848         18        2673343      2673345       164   \n",
       "\n",
       "   end_aa from_aa to_aa  id_protein  id_consequence  \n",
       "0    1371       R   nan          19               4  \n",
       "1     497       K   nan          25               4  \n",
       "2     430       H   nan          25               4  \n",
       "3     639       G   nan          25               4  \n",
       "4     164       R   nan          25               4  "
      ]
     },
     "execution_count": 212,
     "metadata": {},
     "output_type": "execute_result"
    }
   ],
   "source": [
    "mutation.head()"
   ]
  },
  {
   "cell_type": "code",
   "execution_count": 213,
   "metadata": {},
   "outputs": [],
   "source": [
    "# df has pfam domains data\r\n",
    "df = pfam.rename(columns={'tipo': 'pfam_domain'}).merge(pfam_domain)\r\n",
    "df = df.merge(id_protein)                      # mapping uniprot_acc - id_protein\r\n",
    "df.drop(columns='uniprot_acc', inplace= True)"
   ]
  },
  {
   "cell_type": "code",
   "execution_count": 214,
   "metadata": {},
   "outputs": [
    {
     "data": {
      "text/html": [
       "<div>\n",
       "<style scoped>\n",
       "    .dataframe tbody tr th:only-of-type {\n",
       "        vertical-align: middle;\n",
       "    }\n",
       "\n",
       "    .dataframe tbody tr th {\n",
       "        vertical-align: top;\n",
       "    }\n",
       "\n",
       "    .dataframe thead th {\n",
       "        text-align: right;\n",
       "    }\n",
       "</style>\n",
       "<table border=\"1\" class=\"dataframe\">\n",
       "  <thead>\n",
       "    <tr style=\"text-align: right;\">\n",
       "      <th></th>\n",
       "      <th>pfam_domain</th>\n",
       "      <th>start</th>\n",
       "      <th>end</th>\n",
       "      <th>id_pfam</th>\n",
       "      <th>id_protein</th>\n",
       "    </tr>\n",
       "  </thead>\n",
       "  <tbody>\n",
       "    <tr>\n",
       "      <th>0</th>\n",
       "      <td>7tm_2</td>\n",
       "      <td>857</td>\n",
       "      <td>1093</td>\n",
       "      <td>1</td>\n",
       "      <td>477</td>\n",
       "    </tr>\n",
       "    <tr>\n",
       "      <th>1</th>\n",
       "      <td>GPS</td>\n",
       "      <td>800</td>\n",
       "      <td>844</td>\n",
       "      <td>690</td>\n",
       "      <td>477</td>\n",
       "    </tr>\n",
       "    <tr>\n",
       "      <th>2</th>\n",
       "      <td>Gal_Lectin</td>\n",
       "      <td>48</td>\n",
       "      <td>128</td>\n",
       "      <td>745</td>\n",
       "      <td>477</td>\n",
       "    </tr>\n",
       "    <tr>\n",
       "      <th>3</th>\n",
       "      <td>OLF</td>\n",
       "      <td>144</td>\n",
       "      <td>396</td>\n",
       "      <td>773</td>\n",
       "      <td>477</td>\n",
       "    </tr>\n",
       "    <tr>\n",
       "      <th>4</th>\n",
       "      <td>Latrophilin</td>\n",
       "      <td>1113</td>\n",
       "      <td>1474</td>\n",
       "      <td>818</td>\n",
       "      <td>477</td>\n",
       "    </tr>\n",
       "  </tbody>\n",
       "</table>\n",
       "</div>"
      ],
      "text/plain": [
       "   pfam_domain  start   end  id_pfam  id_protein\n",
       "0        7tm_2    857  1093        1         477\n",
       "1          GPS    800   844      690         477\n",
       "2   Gal_Lectin     48   128      745         477\n",
       "3          OLF    144   396      773         477\n",
       "4  Latrophilin   1113  1474      818         477"
      ]
     },
     "execution_count": 214,
     "metadata": {},
     "output_type": "execute_result"
    }
   ],
   "source": [
    "df.head()"
   ]
  },
  {
   "cell_type": "code",
   "execution_count": 215,
   "metadata": {},
   "outputs": [],
   "source": [
    "df.rename(columns={'id_protein': 'Chromosome', 'start': 'Start', 'end': 'End'}, inplace= True)"
   ]
  },
  {
   "cell_type": "code",
   "execution_count": 216,
   "metadata": {},
   "outputs": [
    {
     "data": {
      "text/html": [
       "<div>\n",
       "<style scoped>\n",
       "    .dataframe tbody tr th:only-of-type {\n",
       "        vertical-align: middle;\n",
       "    }\n",
       "\n",
       "    .dataframe tbody tr th {\n",
       "        vertical-align: top;\n",
       "    }\n",
       "\n",
       "    .dataframe thead th {\n",
       "        text-align: right;\n",
       "    }\n",
       "</style>\n",
       "<table border=\"1\" class=\"dataframe\">\n",
       "  <thead>\n",
       "    <tr style=\"text-align: right;\">\n",
       "      <th></th>\n",
       "      <th>pfam_domain</th>\n",
       "      <th>Start</th>\n",
       "      <th>End</th>\n",
       "      <th>id_pfam</th>\n",
       "      <th>Chromosome</th>\n",
       "    </tr>\n",
       "  </thead>\n",
       "  <tbody>\n",
       "    <tr>\n",
       "      <th>0</th>\n",
       "      <td>7tm_2</td>\n",
       "      <td>857</td>\n",
       "      <td>1093</td>\n",
       "      <td>1</td>\n",
       "      <td>477</td>\n",
       "    </tr>\n",
       "    <tr>\n",
       "      <th>1</th>\n",
       "      <td>GPS</td>\n",
       "      <td>800</td>\n",
       "      <td>844</td>\n",
       "      <td>690</td>\n",
       "      <td>477</td>\n",
       "    </tr>\n",
       "    <tr>\n",
       "      <th>2</th>\n",
       "      <td>Gal_Lectin</td>\n",
       "      <td>48</td>\n",
       "      <td>128</td>\n",
       "      <td>745</td>\n",
       "      <td>477</td>\n",
       "    </tr>\n",
       "    <tr>\n",
       "      <th>3</th>\n",
       "      <td>OLF</td>\n",
       "      <td>144</td>\n",
       "      <td>396</td>\n",
       "      <td>773</td>\n",
       "      <td>477</td>\n",
       "    </tr>\n",
       "    <tr>\n",
       "      <th>4</th>\n",
       "      <td>Latrophilin</td>\n",
       "      <td>1113</td>\n",
       "      <td>1474</td>\n",
       "      <td>818</td>\n",
       "      <td>477</td>\n",
       "    </tr>\n",
       "  </tbody>\n",
       "</table>\n",
       "</div>"
      ],
      "text/plain": [
       "   pfam_domain  Start   End  id_pfam  Chromosome\n",
       "0        7tm_2    857  1093        1         477\n",
       "1          GPS    800   844      690         477\n",
       "2   Gal_Lectin     48   128      745         477\n",
       "3          OLF    144   396      773         477\n",
       "4  Latrophilin   1113  1474      818         477"
      ]
     },
     "execution_count": 216,
     "metadata": {},
     "output_type": "execute_result"
    }
   ],
   "source": [
    "df.head()"
   ]
  },
  {
   "cell_type": "code",
   "execution_count": 217,
   "metadata": {},
   "outputs": [],
   "source": [
    "# Create the pyranges object of pfam domains\n",
    "df_py = pr.PyRanges(df)"
   ]
  },
  {
   "cell_type": "code",
   "execution_count": 218,
   "metadata": {},
   "outputs": [],
   "source": [
    "aux = mutation[['start_aa', 'end_aa', 'id_mutation', 'id_protein']].copy()\r\n",
    "aux.rename(columns={'id_protein': 'Chromosome', 'start_aa': 'Start', 'end_aa': 'End'}, inplace= True)"
   ]
  },
  {
   "cell_type": "code",
   "execution_count": 219,
   "metadata": {},
   "outputs": [
    {
     "data": {
      "text/html": [
       "<div>\n",
       "<style scoped>\n",
       "    .dataframe tbody tr th:only-of-type {\n",
       "        vertical-align: middle;\n",
       "    }\n",
       "\n",
       "    .dataframe tbody tr th {\n",
       "        vertical-align: top;\n",
       "    }\n",
       "\n",
       "    .dataframe thead th {\n",
       "        text-align: right;\n",
       "    }\n",
       "</style>\n",
       "<table border=\"1\" class=\"dataframe\">\n",
       "  <thead>\n",
       "    <tr style=\"text-align: right;\">\n",
       "      <th></th>\n",
       "      <th>Start</th>\n",
       "      <th>End</th>\n",
       "      <th>id_mutation</th>\n",
       "      <th>Chromosome</th>\n",
       "    </tr>\n",
       "  </thead>\n",
       "  <tbody>\n",
       "    <tr>\n",
       "      <th>0</th>\n",
       "      <td>1371</td>\n",
       "      <td>1371</td>\n",
       "      <td>1</td>\n",
       "      <td>19</td>\n",
       "    </tr>\n",
       "    <tr>\n",
       "      <th>1</th>\n",
       "      <td>497</td>\n",
       "      <td>497</td>\n",
       "      <td>2</td>\n",
       "      <td>25</td>\n",
       "    </tr>\n",
       "    <tr>\n",
       "      <th>2</th>\n",
       "      <td>430</td>\n",
       "      <td>430</td>\n",
       "      <td>3</td>\n",
       "      <td>25</td>\n",
       "    </tr>\n",
       "    <tr>\n",
       "      <th>3</th>\n",
       "      <td>639</td>\n",
       "      <td>639</td>\n",
       "      <td>4</td>\n",
       "      <td>25</td>\n",
       "    </tr>\n",
       "    <tr>\n",
       "      <th>4</th>\n",
       "      <td>164</td>\n",
       "      <td>164</td>\n",
       "      <td>5</td>\n",
       "      <td>25</td>\n",
       "    </tr>\n",
       "  </tbody>\n",
       "</table>\n",
       "</div>"
      ],
      "text/plain": [
       "   Start   End  id_mutation  Chromosome\n",
       "0   1371  1371            1          19\n",
       "1    497   497            2          25\n",
       "2    430   430            3          25\n",
       "3    639   639            4          25\n",
       "4    164   164            5          25"
      ]
     },
     "execution_count": 219,
     "metadata": {},
     "output_type": "execute_result"
    }
   ],
   "source": [
    "aux.head()"
   ]
  },
  {
   "cell_type": "code",
   "execution_count": 220,
   "metadata": {},
   "outputs": [],
   "source": [
    "# Pyranges object of mutations\n",
    "aux_py = pr.PyRanges(aux)"
   ]
  },
  {
   "cell_type": "code",
   "execution_count": 221,
   "metadata": {},
   "outputs": [],
   "source": [
    "# Join both pyranges object: this assings mutations to pfam domains\r\n",
    "pfam_py = df_py.join(aux_py, strandedness= False, slack= 1)  # strandedness= False doesnt take count of the chain strand; slack= 1 include bounds"
   ]
  },
  {
   "cell_type": "code",
   "execution_count": 222,
   "metadata": {},
   "outputs": [
    {
     "data": {
      "text/html": [
       "<div>\n",
       "<style scoped>\n",
       "    .dataframe tbody tr th:only-of-type {\n",
       "        vertical-align: middle;\n",
       "    }\n",
       "\n",
       "    .dataframe tbody tr th {\n",
       "        vertical-align: top;\n",
       "    }\n",
       "\n",
       "    .dataframe thead th {\n",
       "        text-align: right;\n",
       "    }\n",
       "</style>\n",
       "<table border=\"1\" class=\"dataframe\">\n",
       "  <thead>\n",
       "    <tr style=\"text-align: right;\">\n",
       "      <th></th>\n",
       "      <th>pfam_domain</th>\n",
       "      <th>Start</th>\n",
       "      <th>End</th>\n",
       "      <th>id_pfam</th>\n",
       "      <th>Chromosome</th>\n",
       "      <th>Start_b</th>\n",
       "      <th>End_b</th>\n",
       "      <th>id_mutation</th>\n",
       "    </tr>\n",
       "  </thead>\n",
       "  <tbody>\n",
       "    <tr>\n",
       "      <th>0</th>\n",
       "      <td>UCR_hinge</td>\n",
       "      <td>28</td>\n",
       "      <td>91</td>\n",
       "      <td>814</td>\n",
       "      <td>2</td>\n",
       "      <td>53</td>\n",
       "      <td>53</td>\n",
       "      <td>23987</td>\n",
       "    </tr>\n",
       "    <tr>\n",
       "      <th>1</th>\n",
       "      <td>An_peroxidase</td>\n",
       "      <td>727</td>\n",
       "      <td>1272</td>\n",
       "      <td>947</td>\n",
       "      <td>9</td>\n",
       "      <td>981</td>\n",
       "      <td>981</td>\n",
       "      <td>23988</td>\n",
       "    </tr>\n",
       "    <tr>\n",
       "      <th>2</th>\n",
       "      <td>An_peroxidase</td>\n",
       "      <td>727</td>\n",
       "      <td>1272</td>\n",
       "      <td>947</td>\n",
       "      <td>9</td>\n",
       "      <td>1039</td>\n",
       "      <td>1039</td>\n",
       "      <td>23994</td>\n",
       "    </tr>\n",
       "    <tr>\n",
       "      <th>3</th>\n",
       "      <td>An_peroxidase</td>\n",
       "      <td>727</td>\n",
       "      <td>1272</td>\n",
       "      <td>947</td>\n",
       "      <td>9</td>\n",
       "      <td>1133</td>\n",
       "      <td>1133</td>\n",
       "      <td>23989</td>\n",
       "    </tr>\n",
       "    <tr>\n",
       "      <th>4</th>\n",
       "      <td>An_peroxidase</td>\n",
       "      <td>727</td>\n",
       "      <td>1272</td>\n",
       "      <td>947</td>\n",
       "      <td>9</td>\n",
       "      <td>1207</td>\n",
       "      <td>1207</td>\n",
       "      <td>23993</td>\n",
       "    </tr>\n",
       "    <tr>\n",
       "      <th>5</th>\n",
       "      <td>LRR_8</td>\n",
       "      <td>50</td>\n",
       "      <td>110</td>\n",
       "      <td>2219</td>\n",
       "      <td>9</td>\n",
       "      <td>65</td>\n",
       "      <td>65</td>\n",
       "      <td>23996</td>\n",
       "    </tr>\n",
       "    <tr>\n",
       "      <th>6</th>\n",
       "      <td>Ig_3</td>\n",
       "      <td>329</td>\n",
       "      <td>402</td>\n",
       "      <td>2246</td>\n",
       "      <td>9</td>\n",
       "      <td>391</td>\n",
       "      <td>391</td>\n",
       "      <td>24000</td>\n",
       "    </tr>\n",
       "    <tr>\n",
       "      <th>7</th>\n",
       "      <td>I-set</td>\n",
       "      <td>511</td>\n",
       "      <td>597</td>\n",
       "      <td>2914</td>\n",
       "      <td>9</td>\n",
       "      <td>538</td>\n",
       "      <td>538</td>\n",
       "      <td>23997</td>\n",
       "    </tr>\n",
       "  </tbody>\n",
       "</table>\n",
       "</div>"
      ],
      "text/plain": [
       "+---------------+-----------+-----------+-----------+--------------+-------+\n",
       "| pfam_domain   |     Start |       End |   id_pfam |   Chromosome | +3    |\n",
       "| (object)      |   (int32) |   (int32) |   (int64) |   (category) | ...   |\n",
       "|---------------+-----------+-----------+-----------+--------------+-------|\n",
       "| UCR_hinge     |        28 |        91 |       814 |            2 | ...   |\n",
       "| An_peroxidase |       727 |      1272 |       947 |            9 | ...   |\n",
       "| An_peroxidase |       727 |      1272 |       947 |            9 | ...   |\n",
       "| An_peroxidase |       727 |      1272 |       947 |            9 | ...   |\n",
       "| An_peroxidase |       727 |      1272 |       947 |            9 | ...   |\n",
       "| LRR_8         |        50 |       110 |      2219 |            9 | ...   |\n",
       "| Ig_3          |       329 |       402 |      2246 |            9 | ...   |\n",
       "| I-set         |       511 |       597 |      2914 |            9 | ...   |\n",
       "+---------------+-----------+-----------+-----------+--------------+-------+\n",
       "Unstranded PyRanges object has 8 rows and 8 columns from 2 chromosomes.\n",
       "For printing, the PyRanges was sorted on Chromosome.\n",
       "3 hidden columns: Start_b, End_b, id_mutation"
      ]
     },
     "execution_count": 222,
     "metadata": {},
     "output_type": "execute_result"
    }
   ],
   "source": [
    "pfam_py.head() # Start and End are from the pfam domain in that protein (a protein may have the same pfam domain repeated at different positions along its sequence).\r\n",
    "                # Start_b and End_b are from the mutation in this case"
   ]
  },
  {
   "cell_type": "code",
   "execution_count": 223,
   "metadata": {},
   "outputs": [],
   "source": [
    "# Pyranges to DataFrame\r\n",
    "mutation_has_pfam_domain = pfam_py.df[['id_mutation', 'Chromosome', 'id_pfam', 'Start', 'End']] # cols to keep"
   ]
  },
  {
   "cell_type": "code",
   "execution_count": 224,
   "metadata": {},
   "outputs": [],
   "source": [
    "mutation_has_pfam_domain.rename(columns={'Chromosome': 'id_protein', 'Start': 'start', 'End': 'end'}, inplace= True)"
   ]
  },
  {
   "cell_type": "code",
   "execution_count": 225,
   "metadata": {},
   "outputs": [
    {
     "data": {
      "text/html": [
       "<div>\n",
       "<style scoped>\n",
       "    .dataframe tbody tr th:only-of-type {\n",
       "        vertical-align: middle;\n",
       "    }\n",
       "\n",
       "    .dataframe tbody tr th {\n",
       "        vertical-align: top;\n",
       "    }\n",
       "\n",
       "    .dataframe thead th {\n",
       "        text-align: right;\n",
       "    }\n",
       "</style>\n",
       "<table border=\"1\" class=\"dataframe\">\n",
       "  <thead>\n",
       "    <tr style=\"text-align: right;\">\n",
       "      <th></th>\n",
       "      <th>id_mutation</th>\n",
       "      <th>id_protein</th>\n",
       "      <th>id_pfam</th>\n",
       "      <th>start</th>\n",
       "      <th>end</th>\n",
       "    </tr>\n",
       "  </thead>\n",
       "  <tbody>\n",
       "    <tr>\n",
       "      <th>0</th>\n",
       "      <td>23987</td>\n",
       "      <td>2</td>\n",
       "      <td>814</td>\n",
       "      <td>28</td>\n",
       "      <td>91</td>\n",
       "    </tr>\n",
       "    <tr>\n",
       "      <th>1</th>\n",
       "      <td>23988</td>\n",
       "      <td>9</td>\n",
       "      <td>947</td>\n",
       "      <td>727</td>\n",
       "      <td>1272</td>\n",
       "    </tr>\n",
       "    <tr>\n",
       "      <th>2</th>\n",
       "      <td>23994</td>\n",
       "      <td>9</td>\n",
       "      <td>947</td>\n",
       "      <td>727</td>\n",
       "      <td>1272</td>\n",
       "    </tr>\n",
       "    <tr>\n",
       "      <th>3</th>\n",
       "      <td>23989</td>\n",
       "      <td>9</td>\n",
       "      <td>947</td>\n",
       "      <td>727</td>\n",
       "      <td>1272</td>\n",
       "    </tr>\n",
       "    <tr>\n",
       "      <th>4</th>\n",
       "      <td>23993</td>\n",
       "      <td>9</td>\n",
       "      <td>947</td>\n",
       "      <td>727</td>\n",
       "      <td>1272</td>\n",
       "    </tr>\n",
       "  </tbody>\n",
       "</table>\n",
       "</div>"
      ],
      "text/plain": [
       "   id_mutation id_protein  id_pfam  start   end\n",
       "0        23987          2      814     28    91\n",
       "1        23988          9      947    727  1272\n",
       "2        23994          9      947    727  1272\n",
       "3        23989          9      947    727  1272\n",
       "4        23993          9      947    727  1272"
      ]
     },
     "execution_count": 225,
     "metadata": {},
     "output_type": "execute_result"
    }
   ],
   "source": [
    "mutation_has_pfam_domain.head()"
   ]
  },
  {
   "cell_type": "code",
   "execution_count": 226,
   "metadata": {},
   "outputs": [
    {
     "data": {
      "text/html": [
       "<div>\n",
       "<style scoped>\n",
       "    .dataframe tbody tr th:only-of-type {\n",
       "        vertical-align: middle;\n",
       "    }\n",
       "\n",
       "    .dataframe tbody tr th {\n",
       "        vertical-align: top;\n",
       "    }\n",
       "\n",
       "    .dataframe thead th {\n",
       "        text-align: right;\n",
       "    }\n",
       "</style>\n",
       "<table border=\"1\" class=\"dataframe\">\n",
       "  <thead>\n",
       "    <tr style=\"text-align: right;\">\n",
       "      <th></th>\n",
       "      <th>id_mutation</th>\n",
       "      <th>snp_id</th>\n",
       "      <th>chromosome</th>\n",
       "      <th>start_genomic</th>\n",
       "      <th>end_genomic</th>\n",
       "      <th>start_aa</th>\n",
       "      <th>end_aa</th>\n",
       "      <th>from_aa</th>\n",
       "      <th>to_aa</th>\n",
       "      <th>id_protein</th>\n",
       "      <th>id_consequence</th>\n",
       "    </tr>\n",
       "  </thead>\n",
       "  <tbody>\n",
       "    <tr>\n",
       "      <th>148020</th>\n",
       "      <td>23987</td>\n",
       "      <td>rs7417535</td>\n",
       "      <td>1</td>\n",
       "      <td>15807492</td>\n",
       "      <td>15807492</td>\n",
       "      <td>53</td>\n",
       "      <td>53</td>\n",
       "      <td>Y</td>\n",
       "      <td>C</td>\n",
       "      <td>2</td>\n",
       "      <td>1</td>\n",
       "    </tr>\n",
       "  </tbody>\n",
       "</table>\n",
       "</div>"
      ],
      "text/plain": [
       "        id_mutation     snp_id chromosome  start_genomic  end_genomic  \\\n",
       "148020        23987  rs7417535          1       15807492     15807492   \n",
       "\n",
       "        start_aa  end_aa from_aa to_aa  id_protein  id_consequence  \n",
       "148020        53      53       Y     C           2               1  "
      ]
     },
     "execution_count": 226,
     "metadata": {},
     "output_type": "execute_result"
    }
   ],
   "source": [
    "# control\r\n",
    "mutation[mutation.id_mutation == 23987]"
   ]
  },
  {
   "cell_type": "code",
   "execution_count": 227,
   "metadata": {},
   "outputs": [
    {
     "data": {
      "text/html": [
       "<div>\n",
       "<style scoped>\n",
       "    .dataframe tbody tr th:only-of-type {\n",
       "        vertical-align: middle;\n",
       "    }\n",
       "\n",
       "    .dataframe tbody tr th {\n",
       "        vertical-align: top;\n",
       "    }\n",
       "\n",
       "    .dataframe thead th {\n",
       "        text-align: right;\n",
       "    }\n",
       "</style>\n",
       "<table border=\"1\" class=\"dataframe\">\n",
       "  <thead>\n",
       "    <tr style=\"text-align: right;\">\n",
       "      <th></th>\n",
       "      <th>pfam_domain</th>\n",
       "      <th>id_pfam</th>\n",
       "    </tr>\n",
       "  </thead>\n",
       "  <tbody>\n",
       "    <tr>\n",
       "      <th>813</th>\n",
       "      <td>UCR_hinge</td>\n",
       "      <td>814</td>\n",
       "    </tr>\n",
       "  </tbody>\n",
       "</table>\n",
       "</div>"
      ],
      "text/plain": [
       "    pfam_domain  id_pfam\n",
       "813   UCR_hinge      814"
      ]
     },
     "execution_count": 227,
     "metadata": {},
     "output_type": "execute_result"
    }
   ],
   "source": [
    "# control\r\n",
    "pfam_domain[pfam_domain.id_pfam == 814] "
   ]
  },
  {
   "cell_type": "code",
   "execution_count": 228,
   "metadata": {},
   "outputs": [
    {
     "data": {
      "text/html": [
       "<div>\n",
       "<style scoped>\n",
       "    .dataframe tbody tr th:only-of-type {\n",
       "        vertical-align: middle;\n",
       "    }\n",
       "\n",
       "    .dataframe tbody tr th {\n",
       "        vertical-align: top;\n",
       "    }\n",
       "\n",
       "    .dataframe thead th {\n",
       "        text-align: right;\n",
       "    }\n",
       "</style>\n",
       "<table border=\"1\" class=\"dataframe\">\n",
       "  <thead>\n",
       "    <tr style=\"text-align: right;\">\n",
       "      <th></th>\n",
       "      <th>id_mutation</th>\n",
       "      <th>id_protein</th>\n",
       "      <th>id_pfam</th>\n",
       "      <th>start</th>\n",
       "      <th>end</th>\n",
       "    </tr>\n",
       "  </thead>\n",
       "  <tbody>\n",
       "    <tr>\n",
       "      <th>0</th>\n",
       "      <td>23987</td>\n",
       "      <td>2</td>\n",
       "      <td>814</td>\n",
       "      <td>28</td>\n",
       "      <td>91</td>\n",
       "    </tr>\n",
       "  </tbody>\n",
       "</table>\n",
       "</div>"
      ],
      "text/plain": [
       "   id_mutation id_protein  id_pfam  start  end\n",
       "0        23987          2      814     28   91"
      ]
     },
     "execution_count": 228,
     "metadata": {},
     "output_type": "execute_result"
    }
   ],
   "source": [
    "mutation_has_pfam_domain[mutation_has_pfam_domain.id_pfam == 814] # ok!"
   ]
  },
  {
   "cell_type": "code",
   "execution_count": 229,
   "metadata": {},
   "outputs": [],
   "source": [
    "mutation_has_pfam_domain.to_csv('db_tables/mutation_has_pfam_domain.tsv', sep='\\t', index= False)"
   ]
  },
  {
   "cell_type": "markdown",
   "metadata": {},
   "source": [
    "---  \r\n",
    "# low-complexity Tables"
   ]
  },
  {
   "cell_type": "markdown",
   "metadata": {},
   "source": [
    "## low_complexity  \r\n",
    "cols: id_lc, start, end, length, id_protein"
   ]
  },
  {
   "cell_type": "code",
   "execution_count": 230,
   "metadata": {},
   "outputs": [
    {
     "data": {
      "text/html": [
       "<div>\n",
       "<style scoped>\n",
       "    .dataframe tbody tr th:only-of-type {\n",
       "        vertical-align: middle;\n",
       "    }\n",
       "\n",
       "    .dataframe tbody tr th {\n",
       "        vertical-align: top;\n",
       "    }\n",
       "\n",
       "    .dataframe thead th {\n",
       "        text-align: right;\n",
       "    }\n",
       "</style>\n",
       "<table border=\"1\" class=\"dataframe\">\n",
       "  <thead>\n",
       "    <tr style=\"text-align: right;\">\n",
       "      <th></th>\n",
       "      <th>uniprot_acc</th>\n",
       "      <th>start</th>\n",
       "      <th>end</th>\n",
       "      <th>id_lc</th>\n",
       "    </tr>\n",
       "  </thead>\n",
       "  <tbody>\n",
       "    <tr>\n",
       "      <th>0</th>\n",
       "      <td>P61981</td>\n",
       "      <td>236</td>\n",
       "      <td>243</td>\n",
       "      <td>1</td>\n",
       "    </tr>\n",
       "    <tr>\n",
       "      <th>1</th>\n",
       "      <td>P31947</td>\n",
       "      <td>235</td>\n",
       "      <td>247</td>\n",
       "      <td>2</td>\n",
       "    </tr>\n",
       "    <tr>\n",
       "      <th>2</th>\n",
       "      <td>P31947</td>\n",
       "      <td>248</td>\n",
       "      <td>247</td>\n",
       "      <td>3</td>\n",
       "    </tr>\n",
       "    <tr>\n",
       "      <th>3</th>\n",
       "      <td>P27348</td>\n",
       "      <td>230</td>\n",
       "      <td>244</td>\n",
       "      <td>4</td>\n",
       "    </tr>\n",
       "    <tr>\n",
       "      <th>4</th>\n",
       "      <td>P27348</td>\n",
       "      <td>245</td>\n",
       "      <td>244</td>\n",
       "      <td>5</td>\n",
       "    </tr>\n",
       "  </tbody>\n",
       "</table>\n",
       "</div>"
      ],
      "text/plain": [
       "  uniprot_acc  start  end  id_lc\n",
       "0      P61981    236  243      1\n",
       "1      P31947    235  247      2\n",
       "2      P31947    248  247      3\n",
       "3      P27348    230  244      4\n",
       "4      P27348    245  244      5"
      ]
     },
     "execution_count": 230,
     "metadata": {},
     "output_type": "execute_result"
    }
   ],
   "source": [
    "low_complexity.head()"
   ]
  },
  {
   "cell_type": "code",
   "execution_count": 231,
   "metadata": {},
   "outputs": [],
   "source": [
    "# Add length col \n",
    "low_complexity['length'] = low_complexity.end - low_complexity.start + 1 "
   ]
  },
  {
   "cell_type": "code",
   "execution_count": 232,
   "metadata": {},
   "outputs": [],
   "source": [
    "# Add id_proteins\r\n",
    "low_complexity.rename(columns={'uniprot': 'uniprot_acc'}, inplace= True)\r\n",
    "low_complexity = low_complexity.merge(id_protein)\r\n",
    "low_complexity.drop(columns='uniprot_acc', inplace= True)"
   ]
  },
  {
   "cell_type": "code",
   "execution_count": 233,
   "metadata": {},
   "outputs": [
    {
     "data": {
      "text/html": [
       "<div>\n",
       "<style scoped>\n",
       "    .dataframe tbody tr th:only-of-type {\n",
       "        vertical-align: middle;\n",
       "    }\n",
       "\n",
       "    .dataframe tbody tr th {\n",
       "        vertical-align: top;\n",
       "    }\n",
       "\n",
       "    .dataframe thead th {\n",
       "        text-align: right;\n",
       "    }\n",
       "</style>\n",
       "<table border=\"1\" class=\"dataframe\">\n",
       "  <thead>\n",
       "    <tr style=\"text-align: right;\">\n",
       "      <th></th>\n",
       "      <th>start</th>\n",
       "      <th>end</th>\n",
       "      <th>id_lc</th>\n",
       "      <th>length</th>\n",
       "      <th>id_protein</th>\n",
       "    </tr>\n",
       "  </thead>\n",
       "  <tbody>\n",
       "    <tr>\n",
       "      <th>0</th>\n",
       "      <td>236</td>\n",
       "      <td>243</td>\n",
       "      <td>1</td>\n",
       "      <td>8</td>\n",
       "      <td>1602</td>\n",
       "    </tr>\n",
       "    <tr>\n",
       "      <th>1</th>\n",
       "      <td>235</td>\n",
       "      <td>247</td>\n",
       "      <td>2</td>\n",
       "      <td>13</td>\n",
       "      <td>1132</td>\n",
       "    </tr>\n",
       "    <tr>\n",
       "      <th>2</th>\n",
       "      <td>248</td>\n",
       "      <td>247</td>\n",
       "      <td>3</td>\n",
       "      <td>0</td>\n",
       "      <td>1132</td>\n",
       "    </tr>\n",
       "    <tr>\n",
       "      <th>3</th>\n",
       "      <td>230</td>\n",
       "      <td>244</td>\n",
       "      <td>4</td>\n",
       "      <td>15</td>\n",
       "      <td>1049</td>\n",
       "    </tr>\n",
       "    <tr>\n",
       "      <th>4</th>\n",
       "      <td>245</td>\n",
       "      <td>244</td>\n",
       "      <td>5</td>\n",
       "      <td>0</td>\n",
       "      <td>1049</td>\n",
       "    </tr>\n",
       "  </tbody>\n",
       "</table>\n",
       "</div>"
      ],
      "text/plain": [
       "   start  end  id_lc  length  id_protein\n",
       "0    236  243      1       8        1602\n",
       "1    235  247      2      13        1132\n",
       "2    248  247      3       0        1132\n",
       "3    230  244      4      15        1049\n",
       "4    245  244      5       0        1049"
      ]
     },
     "execution_count": 233,
     "metadata": {},
     "output_type": "execute_result"
    }
   ],
   "source": [
    "low_complexity.head()"
   ]
  },
  {
   "cell_type": "code",
   "execution_count": 234,
   "metadata": {},
   "outputs": [],
   "source": [
    "low_complexity.to_csv('db_tables/low_complexity.tsv', sep='\\t', index= False)"
   ]
  },
  {
   "cell_type": "markdown",
   "metadata": {},
   "source": [
    "## mutation_has_low_complexity  \r\n",
    "cols: id_mutation, id_lc"
   ]
  },
  {
   "cell_type": "code",
   "execution_count": 235,
   "metadata": {},
   "outputs": [],
   "source": [
    "# Table for LC data\n",
    "lc_has = low_complexity.copy()\n",
    "lc_has.rename(columns={'id_protein': 'Chromosome', 'start': 'Start', 'end': 'End'}, inplace= True)"
   ]
  },
  {
   "cell_type": "code",
   "execution_count": 236,
   "metadata": {},
   "outputs": [],
   "source": [
    "# Auxiliar table for mutations\r\n",
    "aux_lc = mutation[['start_aa', 'end_aa', 'id_mutation', 'id_protein']].copy()\r\n",
    "aux_lc.rename(columns={'id_protein': 'Chromosome', 'start_aa': 'Start', 'end_aa': 'End'}, inplace= True)"
   ]
  },
  {
   "cell_type": "code",
   "execution_count": 237,
   "metadata": {},
   "outputs": [
    {
     "data": {
      "text/html": [
       "<div>\n",
       "<style scoped>\n",
       "    .dataframe tbody tr th:only-of-type {\n",
       "        vertical-align: middle;\n",
       "    }\n",
       "\n",
       "    .dataframe tbody tr th {\n",
       "        vertical-align: top;\n",
       "    }\n",
       "\n",
       "    .dataframe thead th {\n",
       "        text-align: right;\n",
       "    }\n",
       "</style>\n",
       "<table border=\"1\" class=\"dataframe\">\n",
       "  <thead>\n",
       "    <tr style=\"text-align: right;\">\n",
       "      <th></th>\n",
       "      <th>Start</th>\n",
       "      <th>End</th>\n",
       "      <th>id_mutation</th>\n",
       "      <th>Chromosome</th>\n",
       "    </tr>\n",
       "  </thead>\n",
       "  <tbody>\n",
       "    <tr>\n",
       "      <th>0</th>\n",
       "      <td>1371</td>\n",
       "      <td>1371</td>\n",
       "      <td>1</td>\n",
       "      <td>19</td>\n",
       "    </tr>\n",
       "    <tr>\n",
       "      <th>1</th>\n",
       "      <td>497</td>\n",
       "      <td>497</td>\n",
       "      <td>2</td>\n",
       "      <td>25</td>\n",
       "    </tr>\n",
       "    <tr>\n",
       "      <th>2</th>\n",
       "      <td>430</td>\n",
       "      <td>430</td>\n",
       "      <td>3</td>\n",
       "      <td>25</td>\n",
       "    </tr>\n",
       "    <tr>\n",
       "      <th>3</th>\n",
       "      <td>639</td>\n",
       "      <td>639</td>\n",
       "      <td>4</td>\n",
       "      <td>25</td>\n",
       "    </tr>\n",
       "    <tr>\n",
       "      <th>4</th>\n",
       "      <td>164</td>\n",
       "      <td>164</td>\n",
       "      <td>5</td>\n",
       "      <td>25</td>\n",
       "    </tr>\n",
       "  </tbody>\n",
       "</table>\n",
       "</div>"
      ],
      "text/plain": [
       "   Start   End  id_mutation  Chromosome\n",
       "0   1371  1371            1          19\n",
       "1    497   497            2          25\n",
       "2    430   430            3          25\n",
       "3    639   639            4          25\n",
       "4    164   164            5          25"
      ]
     },
     "execution_count": 237,
     "metadata": {},
     "output_type": "execute_result"
    }
   ],
   "source": [
    "aux_lc.head()"
   ]
  },
  {
   "cell_type": "code",
   "execution_count": 238,
   "metadata": {},
   "outputs": [],
   "source": [
    "# Create the Pyranges objects\n",
    "lc_has_py = pr.PyRanges(lc_has)\n",
    "aux_lc_py = pr.PyRanges(aux_lc)"
   ]
  },
  {
   "cell_type": "code",
   "execution_count": 239,
   "metadata": {},
   "outputs": [],
   "source": [
    "# Join both pyranges object: this assings mutations to low-complexity regions\r\n",
    "lc_py = aux_lc_py.join(lc_has_py, strandedness= False, slack=1).drop(like=\"_b\") # strandedness= False doesnt take count of the chain strand;\r\n",
    "                                                                                # slack= 1 include bounds; drop(like=\"_b\"): delete those cols (redudants)"
   ]
  },
  {
   "cell_type": "code",
   "execution_count": 240,
   "metadata": {},
   "outputs": [
    {
     "data": {
      "text/html": [
       "<div>\n",
       "<style scoped>\n",
       "    .dataframe tbody tr th:only-of-type {\n",
       "        vertical-align: middle;\n",
       "    }\n",
       "\n",
       "    .dataframe tbody tr th {\n",
       "        vertical-align: top;\n",
       "    }\n",
       "\n",
       "    .dataframe thead th {\n",
       "        text-align: right;\n",
       "    }\n",
       "</style>\n",
       "<table border=\"1\" class=\"dataframe\">\n",
       "  <thead>\n",
       "    <tr style=\"text-align: right;\">\n",
       "      <th></th>\n",
       "      <th>Start</th>\n",
       "      <th>End</th>\n",
       "      <th>id_mutation</th>\n",
       "      <th>Chromosome</th>\n",
       "      <th>id_lc</th>\n",
       "      <th>length</th>\n",
       "    </tr>\n",
       "  </thead>\n",
       "  <tbody>\n",
       "    <tr>\n",
       "      <th>0</th>\n",
       "      <td>1133</td>\n",
       "      <td>1133</td>\n",
       "      <td>23989</td>\n",
       "      <td>9</td>\n",
       "      <td>5240</td>\n",
       "      <td>12</td>\n",
       "    </tr>\n",
       "    <tr>\n",
       "      <th>1</th>\n",
       "      <td>287</td>\n",
       "      <td>287</td>\n",
       "      <td>3994</td>\n",
       "      <td>16</td>\n",
       "      <td>9733</td>\n",
       "      <td>28</td>\n",
       "    </tr>\n",
       "    <tr>\n",
       "      <th>2</th>\n",
       "      <td>197</td>\n",
       "      <td>197</td>\n",
       "      <td>3995</td>\n",
       "      <td>16</td>\n",
       "      <td>9732</td>\n",
       "      <td>29</td>\n",
       "    </tr>\n",
       "    <tr>\n",
       "      <th>3</th>\n",
       "      <td>336</td>\n",
       "      <td>336</td>\n",
       "      <td>24003</td>\n",
       "      <td>17</td>\n",
       "      <td>5023</td>\n",
       "      <td>26</td>\n",
       "    </tr>\n",
       "    <tr>\n",
       "      <th>4</th>\n",
       "      <td>1038</td>\n",
       "      <td>1038</td>\n",
       "      <td>24009</td>\n",
       "      <td>18</td>\n",
       "      <td>11903</td>\n",
       "      <td>20</td>\n",
       "    </tr>\n",
       "    <tr>\n",
       "      <th>5</th>\n",
       "      <td>1469</td>\n",
       "      <td>1469</td>\n",
       "      <td>24030</td>\n",
       "      <td>19</td>\n",
       "      <td>10455</td>\n",
       "      <td>18</td>\n",
       "    </tr>\n",
       "    <tr>\n",
       "      <th>6</th>\n",
       "      <td>5</td>\n",
       "      <td>5</td>\n",
       "      <td>24048</td>\n",
       "      <td>23</td>\n",
       "      <td>5786</td>\n",
       "      <td>14</td>\n",
       "    </tr>\n",
       "    <tr>\n",
       "      <th>7</th>\n",
       "      <td>7</td>\n",
       "      <td>7</td>\n",
       "      <td>24056</td>\n",
       "      <td>23</td>\n",
       "      <td>5786</td>\n",
       "      <td>14</td>\n",
       "    </tr>\n",
       "  </tbody>\n",
       "</table>\n",
       "</div>"
      ],
      "text/plain": [
       "+-----------+-----------+---------------+--------------+-----------+-----------+\n",
       "|     Start |       End |   id_mutation |   Chromosome |     id_lc |    length |\n",
       "|   (int32) |   (int32) |       (int32) |   (category) |   (int32) |   (int64) |\n",
       "|-----------+-----------+---------------+--------------+-----------+-----------|\n",
       "|      1133 |      1133 |         23989 |            9 |      5240 |        12 |\n",
       "|       287 |       287 |          3994 |           16 |      9733 |        28 |\n",
       "|       197 |       197 |          3995 |           16 |      9732 |        29 |\n",
       "|       336 |       336 |         24003 |           17 |      5023 |        26 |\n",
       "|      1038 |      1038 |         24009 |           18 |     11903 |        20 |\n",
       "|      1469 |      1469 |         24030 |           19 |     10455 |        18 |\n",
       "|         5 |         5 |         24048 |           23 |      5786 |        14 |\n",
       "|         7 |         7 |         24056 |           23 |      5786 |        14 |\n",
       "+-----------+-----------+---------------+--------------+-----------+-----------+\n",
       "Unstranded PyRanges object has 8 rows and 6 columns from 6 chromosomes.\n",
       "For printing, the PyRanges was sorted on Chromosome."
      ]
     },
     "execution_count": 240,
     "metadata": {},
     "output_type": "execute_result"
    }
   ],
   "source": [
    "lc_py.head()"
   ]
  },
  {
   "cell_type": "code",
   "execution_count": 241,
   "metadata": {},
   "outputs": [],
   "source": [
    "# Pyrange to DataFrame\r\n",
    "mutation_has_low_complexity = lc_py.df[['id_mutation', 'id_lc']] # cols to keep"
   ]
  },
  {
   "cell_type": "code",
   "execution_count": 242,
   "metadata": {},
   "outputs": [
    {
     "data": {
      "text/html": [
       "<div>\n",
       "<style scoped>\n",
       "    .dataframe tbody tr th:only-of-type {\n",
       "        vertical-align: middle;\n",
       "    }\n",
       "\n",
       "    .dataframe tbody tr th {\n",
       "        vertical-align: top;\n",
       "    }\n",
       "\n",
       "    .dataframe thead th {\n",
       "        text-align: right;\n",
       "    }\n",
       "</style>\n",
       "<table border=\"1\" class=\"dataframe\">\n",
       "  <thead>\n",
       "    <tr style=\"text-align: right;\">\n",
       "      <th></th>\n",
       "      <th>id_mutation</th>\n",
       "      <th>id_lc</th>\n",
       "    </tr>\n",
       "  </thead>\n",
       "  <tbody>\n",
       "    <tr>\n",
       "      <th>0</th>\n",
       "      <td>23989</td>\n",
       "      <td>5240</td>\n",
       "    </tr>\n",
       "    <tr>\n",
       "      <th>1</th>\n",
       "      <td>3994</td>\n",
       "      <td>9733</td>\n",
       "    </tr>\n",
       "    <tr>\n",
       "      <th>2</th>\n",
       "      <td>3995</td>\n",
       "      <td>9732</td>\n",
       "    </tr>\n",
       "    <tr>\n",
       "      <th>3</th>\n",
       "      <td>24003</td>\n",
       "      <td>5023</td>\n",
       "    </tr>\n",
       "    <tr>\n",
       "      <th>4</th>\n",
       "      <td>24009</td>\n",
       "      <td>11903</td>\n",
       "    </tr>\n",
       "  </tbody>\n",
       "</table>\n",
       "</div>"
      ],
      "text/plain": [
       "   id_mutation  id_lc\n",
       "0        23989   5240\n",
       "1         3994   9733\n",
       "2         3995   9732\n",
       "3        24003   5023\n",
       "4        24009  11903"
      ]
     },
     "execution_count": 242,
     "metadata": {},
     "output_type": "execute_result"
    }
   ],
   "source": [
    "mutation_has_low_complexity.head()"
   ]
  },
  {
   "cell_type": "code",
   "execution_count": 243,
   "metadata": {},
   "outputs": [
    {
     "data": {
      "text/html": [
       "<div>\n",
       "<style scoped>\n",
       "    .dataframe tbody tr th:only-of-type {\n",
       "        vertical-align: middle;\n",
       "    }\n",
       "\n",
       "    .dataframe tbody tr th {\n",
       "        vertical-align: top;\n",
       "    }\n",
       "\n",
       "    .dataframe thead th {\n",
       "        text-align: right;\n",
       "    }\n",
       "</style>\n",
       "<table border=\"1\" class=\"dataframe\">\n",
       "  <thead>\n",
       "    <tr style=\"text-align: right;\">\n",
       "      <th></th>\n",
       "      <th>start</th>\n",
       "      <th>end</th>\n",
       "      <th>id_lc</th>\n",
       "      <th>length</th>\n",
       "      <th>id_protein</th>\n",
       "    </tr>\n",
       "  </thead>\n",
       "  <tbody>\n",
       "    <tr>\n",
       "      <th>5239</th>\n",
       "      <td>1128</td>\n",
       "      <td>1139</td>\n",
       "      <td>5240</td>\n",
       "      <td>12</td>\n",
       "      <td>9</td>\n",
       "    </tr>\n",
       "  </tbody>\n",
       "</table>\n",
       "</div>"
      ],
      "text/plain": [
       "      start   end  id_lc  length  id_protein\n",
       "5239   1128  1139   5240      12           9"
      ]
     },
     "execution_count": 243,
     "metadata": {},
     "output_type": "execute_result"
    }
   ],
   "source": [
    "# Control\r\n",
    "low_complexity[low_complexity.id_lc == 5240]"
   ]
  },
  {
   "cell_type": "code",
   "execution_count": 244,
   "metadata": {},
   "outputs": [
    {
     "data": {
      "text/plain": [
       "id_protein                                                          9\n",
       "uniprot_acc                                                    A1KZ92\n",
       "hgnc_id                                                    HGNC:26359\n",
       "gene_id                                                      137902.0\n",
       "gene_name                                                       PXDNL\n",
       "length                                                           1463\n",
       "sequence            MEPRLFCWTTLFLLAGWCLPGLPCPSRCLCFKSTVRCMHLMLDHIP...\n",
       "disorder_content                                                  NaN\n",
       "Name: 8, dtype: object"
      ]
     },
     "execution_count": 244,
     "metadata": {},
     "output_type": "execute_result"
    }
   ],
   "source": [
    "protein.iloc[8]"
   ]
  },
  {
   "cell_type": "code",
   "execution_count": 245,
   "metadata": {},
   "outputs": [
    {
     "data": {
      "text/html": [
       "<div>\n",
       "<style scoped>\n",
       "    .dataframe tbody tr th:only-of-type {\n",
       "        vertical-align: middle;\n",
       "    }\n",
       "\n",
       "    .dataframe tbody tr th {\n",
       "        vertical-align: top;\n",
       "    }\n",
       "\n",
       "    .dataframe thead th {\n",
       "        text-align: right;\n",
       "    }\n",
       "</style>\n",
       "<table border=\"1\" class=\"dataframe\">\n",
       "  <thead>\n",
       "    <tr style=\"text-align: right;\">\n",
       "      <th></th>\n",
       "      <th>id_mutation</th>\n",
       "      <th>snp_id</th>\n",
       "      <th>chromosome</th>\n",
       "      <th>start_genomic</th>\n",
       "      <th>end_genomic</th>\n",
       "      <th>start_aa</th>\n",
       "      <th>end_aa</th>\n",
       "      <th>from_aa</th>\n",
       "      <th>to_aa</th>\n",
       "      <th>id_protein</th>\n",
       "      <th>id_consequence</th>\n",
       "    </tr>\n",
       "  </thead>\n",
       "  <tbody>\n",
       "    <tr>\n",
       "      <th>138298</th>\n",
       "      <td>23989</td>\n",
       "      <td>rs74731075</td>\n",
       "      <td>8</td>\n",
       "      <td>51408226</td>\n",
       "      <td>51408226</td>\n",
       "      <td>1133</td>\n",
       "      <td>1133</td>\n",
       "      <td>A</td>\n",
       "      <td>V</td>\n",
       "      <td>9</td>\n",
       "      <td>1</td>\n",
       "    </tr>\n",
       "  </tbody>\n",
       "</table>\n",
       "</div>"
      ],
      "text/plain": [
       "        id_mutation      snp_id chromosome  start_genomic  end_genomic  \\\n",
       "138298        23989  rs74731075          8       51408226     51408226   \n",
       "\n",
       "        start_aa  end_aa from_aa to_aa  id_protein  id_consequence  \n",
       "138298      1133    1133       A     V           9               1  "
      ]
     },
     "execution_count": 245,
     "metadata": {},
     "output_type": "execute_result"
    }
   ],
   "source": [
    "mutation[mutation.id_mutation == 23989] # It's allright! Mutation in aa 1133, which belongs to the low-complexity region between 1128 - 1139 in that protein"
   ]
  },
  {
   "cell_type": "code",
   "execution_count": 246,
   "metadata": {},
   "outputs": [],
   "source": [
    "mutation_has_low_complexity.to_csv('db_tables/mutation_has_low_complexity.tsv', sep='\\t', index= False)"
   ]
  },
  {
   "cell_type": "markdown",
   "metadata": {},
   "source": [
    "---  \n",
    "# Disorder Tables"
   ]
  },
  {
   "cell_type": "markdown",
   "metadata": {},
   "source": [
    "## disorder_region  \r\n",
    "cols: id_idr, start, end, length, id_protein"
   ]
  },
  {
   "cell_type": "code",
   "execution_count": 247,
   "metadata": {},
   "outputs": [],
   "source": [
    "# Add length col \n",
    "disorder['length'] = disorder.end - disorder.start + 1 "
   ]
  },
  {
   "cell_type": "code",
   "execution_count": 248,
   "metadata": {},
   "outputs": [
    {
     "data": {
      "text/html": [
       "<div>\n",
       "<style scoped>\n",
       "    .dataframe tbody tr th:only-of-type {\n",
       "        vertical-align: middle;\n",
       "    }\n",
       "\n",
       "    .dataframe tbody tr th {\n",
       "        vertical-align: top;\n",
       "    }\n",
       "\n",
       "    .dataframe thead th {\n",
       "        text-align: right;\n",
       "    }\n",
       "</style>\n",
       "<table border=\"1\" class=\"dataframe\">\n",
       "  <thead>\n",
       "    <tr style=\"text-align: right;\">\n",
       "      <th></th>\n",
       "      <th>start</th>\n",
       "      <th>end</th>\n",
       "      <th>id_idr</th>\n",
       "      <th>length</th>\n",
       "      <th>id_protein</th>\n",
       "    </tr>\n",
       "  </thead>\n",
       "  <tbody>\n",
       "    <tr>\n",
       "      <th>2338</th>\n",
       "      <td>1</td>\n",
       "      <td>30</td>\n",
       "      <td>2339</td>\n",
       "      <td>30</td>\n",
       "      <td>2</td>\n",
       "    </tr>\n",
       "    <tr>\n",
       "      <th>1426</th>\n",
       "      <td>1</td>\n",
       "      <td>68</td>\n",
       "      <td>1427</td>\n",
       "      <td>68</td>\n",
       "      <td>3</td>\n",
       "    </tr>\n",
       "    <tr>\n",
       "      <th>2489</th>\n",
       "      <td>1</td>\n",
       "      <td>25</td>\n",
       "      <td>2490</td>\n",
       "      <td>25</td>\n",
       "      <td>4</td>\n",
       "    </tr>\n",
       "    <tr>\n",
       "      <th>5782</th>\n",
       "      <td>660</td>\n",
       "      <td>754</td>\n",
       "      <td>5783</td>\n",
       "      <td>95</td>\n",
       "      <td>5</td>\n",
       "    </tr>\n",
       "    <tr>\n",
       "      <th>5781</th>\n",
       "      <td>1</td>\n",
       "      <td>103</td>\n",
       "      <td>5782</td>\n",
       "      <td>103</td>\n",
       "      <td>5</td>\n",
       "    </tr>\n",
       "  </tbody>\n",
       "</table>\n",
       "</div>"
      ],
      "text/plain": [
       "      start  end  id_idr  length  id_protein\n",
       "2338      1   30    2339      30           2\n",
       "1426      1   68    1427      68           3\n",
       "2489      1   25    2490      25           4\n",
       "5782    660  754    5783      95           5\n",
       "5781      1  103    5782     103           5"
      ]
     },
     "execution_count": 248,
     "metadata": {},
     "output_type": "execute_result"
    }
   ],
   "source": [
    "disorder_region = disorder.rename(columns={'uniprot': 'uniprot_acc'}).merge(id_protein).sort_values('id_protein')\r\n",
    "disorder_region.drop(columns='uniprot_acc', inplace= True)\r\n",
    "disorder_region.head()"
   ]
  },
  {
   "cell_type": "code",
   "execution_count": 249,
   "metadata": {},
   "outputs": [],
   "source": [
    "disorder_region.to_csv('db_tables/disorder_region.tsv', sep='\\t', index= False)"
   ]
  },
  {
   "cell_type": "markdown",
   "metadata": {},
   "source": [
    "## mutation_has_disorder_region  \r\n",
    "cols: id_mutation, id_idr"
   ]
  },
  {
   "cell_type": "code",
   "execution_count": 250,
   "metadata": {},
   "outputs": [
    {
     "data": {
      "text/html": [
       "<div>\n",
       "<style scoped>\n",
       "    .dataframe tbody tr th:only-of-type {\n",
       "        vertical-align: middle;\n",
       "    }\n",
       "\n",
       "    .dataframe tbody tr th {\n",
       "        vertical-align: top;\n",
       "    }\n",
       "\n",
       "    .dataframe thead th {\n",
       "        text-align: right;\n",
       "    }\n",
       "</style>\n",
       "<table border=\"1\" class=\"dataframe\">\n",
       "  <thead>\n",
       "    <tr style=\"text-align: right;\">\n",
       "      <th></th>\n",
       "      <th>Start</th>\n",
       "      <th>End</th>\n",
       "      <th>id_mutation</th>\n",
       "      <th>Chromosome</th>\n",
       "    </tr>\n",
       "  </thead>\n",
       "  <tbody>\n",
       "    <tr>\n",
       "      <th>0</th>\n",
       "      <td>1371</td>\n",
       "      <td>1371</td>\n",
       "      <td>1</td>\n",
       "      <td>19</td>\n",
       "    </tr>\n",
       "    <tr>\n",
       "      <th>1</th>\n",
       "      <td>497</td>\n",
       "      <td>497</td>\n",
       "      <td>2</td>\n",
       "      <td>25</td>\n",
       "    </tr>\n",
       "    <tr>\n",
       "      <th>2</th>\n",
       "      <td>430</td>\n",
       "      <td>430</td>\n",
       "      <td>3</td>\n",
       "      <td>25</td>\n",
       "    </tr>\n",
       "    <tr>\n",
       "      <th>3</th>\n",
       "      <td>639</td>\n",
       "      <td>639</td>\n",
       "      <td>4</td>\n",
       "      <td>25</td>\n",
       "    </tr>\n",
       "    <tr>\n",
       "      <th>4</th>\n",
       "      <td>164</td>\n",
       "      <td>164</td>\n",
       "      <td>5</td>\n",
       "      <td>25</td>\n",
       "    </tr>\n",
       "  </tbody>\n",
       "</table>\n",
       "</div>"
      ],
      "text/plain": [
       "   Start   End  id_mutation  Chromosome\n",
       "0   1371  1371            1          19\n",
       "1    497   497            2          25\n",
       "2    430   430            3          25\n",
       "3    639   639            4          25\n",
       "4    164   164            5          25"
      ]
     },
     "execution_count": 250,
     "metadata": {},
     "output_type": "execute_result"
    }
   ],
   "source": [
    "# Auxiliar table for mutations from low-complexity is the same for disorder. id-protein, start and end of the mutation\r\n",
    "aux_idr = aux_lc\r\n",
    "aux_idr.head()"
   ]
  },
  {
   "cell_type": "code",
   "execution_count": 251,
   "metadata": {},
   "outputs": [
    {
     "data": {
      "text/html": [
       "<div>\n",
       "<style scoped>\n",
       "    .dataframe tbody tr th:only-of-type {\n",
       "        vertical-align: middle;\n",
       "    }\n",
       "\n",
       "    .dataframe tbody tr th {\n",
       "        vertical-align: top;\n",
       "    }\n",
       "\n",
       "    .dataframe thead th {\n",
       "        text-align: right;\n",
       "    }\n",
       "</style>\n",
       "<table border=\"1\" class=\"dataframe\">\n",
       "  <thead>\n",
       "    <tr style=\"text-align: right;\">\n",
       "      <th></th>\n",
       "      <th>Start</th>\n",
       "      <th>End</th>\n",
       "      <th>id_idr</th>\n",
       "      <th>length</th>\n",
       "      <th>Chromosome</th>\n",
       "    </tr>\n",
       "  </thead>\n",
       "  <tbody>\n",
       "    <tr>\n",
       "      <th>2338</th>\n",
       "      <td>1</td>\n",
       "      <td>30</td>\n",
       "      <td>2339</td>\n",
       "      <td>30</td>\n",
       "      <td>2</td>\n",
       "    </tr>\n",
       "    <tr>\n",
       "      <th>1426</th>\n",
       "      <td>1</td>\n",
       "      <td>68</td>\n",
       "      <td>1427</td>\n",
       "      <td>68</td>\n",
       "      <td>3</td>\n",
       "    </tr>\n",
       "    <tr>\n",
       "      <th>2489</th>\n",
       "      <td>1</td>\n",
       "      <td>25</td>\n",
       "      <td>2490</td>\n",
       "      <td>25</td>\n",
       "      <td>4</td>\n",
       "    </tr>\n",
       "    <tr>\n",
       "      <th>5782</th>\n",
       "      <td>660</td>\n",
       "      <td>754</td>\n",
       "      <td>5783</td>\n",
       "      <td>95</td>\n",
       "      <td>5</td>\n",
       "    </tr>\n",
       "    <tr>\n",
       "      <th>5781</th>\n",
       "      <td>1</td>\n",
       "      <td>103</td>\n",
       "      <td>5782</td>\n",
       "      <td>103</td>\n",
       "      <td>5</td>\n",
       "    </tr>\n",
       "  </tbody>\n",
       "</table>\n",
       "</div>"
      ],
      "text/plain": [
       "      Start  End  id_idr  length  Chromosome\n",
       "2338      1   30    2339      30           2\n",
       "1426      1   68    1427      68           3\n",
       "2489      1   25    2490      25           4\n",
       "5782    660  754    5783      95           5\n",
       "5781      1  103    5782     103           5"
      ]
     },
     "execution_count": 251,
     "metadata": {},
     "output_type": "execute_result"
    }
   ],
   "source": [
    "# Table for IDRs data\r\n",
    "idr_has = disorder_region.copy()\r\n",
    "idr_has.rename(columns={'id_protein': 'Chromosome', 'start': 'Start', 'end': 'End'}, inplace= True)\r\n",
    "idr_has.head()"
   ]
  },
  {
   "cell_type": "code",
   "execution_count": 252,
   "metadata": {},
   "outputs": [],
   "source": [
    "# Create the Pyranges objects\n",
    "idr_has_py = pr.PyRanges(idr_has)\n",
    "aux_idr_py = pr.PyRanges(aux_idr)"
   ]
  },
  {
   "cell_type": "code",
   "execution_count": 253,
   "metadata": {},
   "outputs": [],
   "source": [
    "# Join both pyranges object: this assings mutations to pfam domains\n",
    "idr_py = aux_idr_py.join(idr_has_py, strandedness= False, slack=1).drop(like=\"_b\") # strandedness= False doesnt take count of the chain strand;\n",
    "                                                                                   # slack= 1 include bounds; drop(like=\"_b\"): delete those cols (redudants)"
   ]
  },
  {
   "cell_type": "code",
   "execution_count": 254,
   "metadata": {},
   "outputs": [
    {
     "data": {
      "text/html": [
       "<div>\n",
       "<style scoped>\n",
       "    .dataframe tbody tr th:only-of-type {\n",
       "        vertical-align: middle;\n",
       "    }\n",
       "\n",
       "    .dataframe tbody tr th {\n",
       "        vertical-align: top;\n",
       "    }\n",
       "\n",
       "    .dataframe thead th {\n",
       "        text-align: right;\n",
       "    }\n",
       "</style>\n",
       "<table border=\"1\" class=\"dataframe\">\n",
       "  <thead>\n",
       "    <tr style=\"text-align: right;\">\n",
       "      <th></th>\n",
       "      <th>Start</th>\n",
       "      <th>End</th>\n",
       "      <th>id_mutation</th>\n",
       "      <th>Chromosome</th>\n",
       "      <th>id_idr</th>\n",
       "      <th>length</th>\n",
       "    </tr>\n",
       "  </thead>\n",
       "  <tbody>\n",
       "    <tr>\n",
       "      <th>0</th>\n",
       "      <td>70</td>\n",
       "      <td>70</td>\n",
       "      <td>24001</td>\n",
       "      <td>12</td>\n",
       "      <td>4339</td>\n",
       "      <td>28</td>\n",
       "    </tr>\n",
       "    <tr>\n",
       "      <th>1</th>\n",
       "      <td>287</td>\n",
       "      <td>287</td>\n",
       "      <td>3994</td>\n",
       "      <td>16</td>\n",
       "      <td>4224</td>\n",
       "      <td>129</td>\n",
       "    </tr>\n",
       "    <tr>\n",
       "      <th>2</th>\n",
       "      <td>336</td>\n",
       "      <td>336</td>\n",
       "      <td>24003</td>\n",
       "      <td>17</td>\n",
       "      <td>2225</td>\n",
       "      <td>157</td>\n",
       "    </tr>\n",
       "    <tr>\n",
       "      <th>3</th>\n",
       "      <td>1014</td>\n",
       "      <td>1014</td>\n",
       "      <td>24004</td>\n",
       "      <td>17</td>\n",
       "      <td>2227</td>\n",
       "      <td>49</td>\n",
       "    </tr>\n",
       "    <tr>\n",
       "      <th>4</th>\n",
       "      <td>1371</td>\n",
       "      <td>1371</td>\n",
       "      <td>1</td>\n",
       "      <td>19</td>\n",
       "      <td>4637</td>\n",
       "      <td>76</td>\n",
       "    </tr>\n",
       "    <tr>\n",
       "      <th>5</th>\n",
       "      <td>1180</td>\n",
       "      <td>1180</td>\n",
       "      <td>24014</td>\n",
       "      <td>19</td>\n",
       "      <td>4635</td>\n",
       "      <td>293</td>\n",
       "    </tr>\n",
       "    <tr>\n",
       "      <th>6</th>\n",
       "      <td>2580</td>\n",
       "      <td>2580</td>\n",
       "      <td>24016</td>\n",
       "      <td>19</td>\n",
       "      <td>4645</td>\n",
       "      <td>65</td>\n",
       "    </tr>\n",
       "    <tr>\n",
       "      <th>7</th>\n",
       "      <td>213</td>\n",
       "      <td>213</td>\n",
       "      <td>24021</td>\n",
       "      <td>19</td>\n",
       "      <td>4630</td>\n",
       "      <td>49</td>\n",
       "    </tr>\n",
       "  </tbody>\n",
       "</table>\n",
       "</div>"
      ],
      "text/plain": [
       "+-----------+-----------+---------------+--------------+-----------+-----------+\n",
       "|     Start |       End |   id_mutation |   Chromosome |    id_idr |    length |\n",
       "|   (int32) |   (int32) |       (int32) |   (category) |   (int32) |   (int64) |\n",
       "|-----------+-----------+---------------+--------------+-----------+-----------|\n",
       "|        70 |        70 |         24001 |           12 |      4339 |        28 |\n",
       "|       287 |       287 |          3994 |           16 |      4224 |       129 |\n",
       "|       336 |       336 |         24003 |           17 |      2225 |       157 |\n",
       "|      1014 |      1014 |         24004 |           17 |      2227 |        49 |\n",
       "|      1371 |      1371 |             1 |           19 |      4637 |        76 |\n",
       "|      1180 |      1180 |         24014 |           19 |      4635 |       293 |\n",
       "|      2580 |      2580 |         24016 |           19 |      4645 |        65 |\n",
       "|       213 |       213 |         24021 |           19 |      4630 |        49 |\n",
       "+-----------+-----------+---------------+--------------+-----------+-----------+\n",
       "Unstranded PyRanges object has 8 rows and 6 columns from 4 chromosomes.\n",
       "For printing, the PyRanges was sorted on Chromosome."
      ]
     },
     "execution_count": 254,
     "metadata": {},
     "output_type": "execute_result"
    }
   ],
   "source": [
    "idr_py.head()"
   ]
  },
  {
   "cell_type": "code",
   "execution_count": 255,
   "metadata": {},
   "outputs": [
    {
     "data": {
      "text/html": [
       "<div>\n",
       "<style scoped>\n",
       "    .dataframe tbody tr th:only-of-type {\n",
       "        vertical-align: middle;\n",
       "    }\n",
       "\n",
       "    .dataframe tbody tr th {\n",
       "        vertical-align: top;\n",
       "    }\n",
       "\n",
       "    .dataframe thead th {\n",
       "        text-align: right;\n",
       "    }\n",
       "</style>\n",
       "<table border=\"1\" class=\"dataframe\">\n",
       "  <thead>\n",
       "    <tr style=\"text-align: right;\">\n",
       "      <th></th>\n",
       "      <th>id_mutation</th>\n",
       "      <th>id_idr</th>\n",
       "    </tr>\n",
       "  </thead>\n",
       "  <tbody>\n",
       "    <tr>\n",
       "      <th>0</th>\n",
       "      <td>24001</td>\n",
       "      <td>4339</td>\n",
       "    </tr>\n",
       "    <tr>\n",
       "      <th>1</th>\n",
       "      <td>3994</td>\n",
       "      <td>4224</td>\n",
       "    </tr>\n",
       "    <tr>\n",
       "      <th>2</th>\n",
       "      <td>24003</td>\n",
       "      <td>2225</td>\n",
       "    </tr>\n",
       "    <tr>\n",
       "      <th>3</th>\n",
       "      <td>24004</td>\n",
       "      <td>2227</td>\n",
       "    </tr>\n",
       "    <tr>\n",
       "      <th>4</th>\n",
       "      <td>1</td>\n",
       "      <td>4637</td>\n",
       "    </tr>\n",
       "  </tbody>\n",
       "</table>\n",
       "</div>"
      ],
      "text/plain": [
       "   id_mutation  id_idr\n",
       "0        24001    4339\n",
       "1         3994    4224\n",
       "2        24003    2225\n",
       "3        24004    2227\n",
       "4            1    4637"
      ]
     },
     "execution_count": 255,
     "metadata": {},
     "output_type": "execute_result"
    }
   ],
   "source": [
    "# Pyrange to DataFrame\r\n",
    "mutation_has_disorder_region = idr_py.df[['id_mutation', 'id_idr']] # cols to keep\r\n",
    "mutation_has_disorder_region.head()"
   ]
  },
  {
   "cell_type": "code",
   "execution_count": 256,
   "metadata": {},
   "outputs": [
    {
     "data": {
      "text/html": [
       "<div>\n",
       "<style scoped>\n",
       "    .dataframe tbody tr th:only-of-type {\n",
       "        vertical-align: middle;\n",
       "    }\n",
       "\n",
       "    .dataframe tbody tr th {\n",
       "        vertical-align: top;\n",
       "    }\n",
       "\n",
       "    .dataframe thead th {\n",
       "        text-align: right;\n",
       "    }\n",
       "</style>\n",
       "<table border=\"1\" class=\"dataframe\">\n",
       "  <thead>\n",
       "    <tr style=\"text-align: right;\">\n",
       "      <th></th>\n",
       "      <th>id_mutation</th>\n",
       "      <th>snp_id</th>\n",
       "      <th>chromosome</th>\n",
       "      <th>start_genomic</th>\n",
       "      <th>end_genomic</th>\n",
       "      <th>start_aa</th>\n",
       "      <th>end_aa</th>\n",
       "      <th>from_aa</th>\n",
       "      <th>to_aa</th>\n",
       "      <th>id_protein</th>\n",
       "      <th>id_consequence</th>\n",
       "    </tr>\n",
       "  </thead>\n",
       "  <tbody>\n",
       "    <tr>\n",
       "      <th>148021</th>\n",
       "      <td>24001</td>\n",
       "      <td>rs116340837</td>\n",
       "      <td>6</td>\n",
       "      <td>149474335</td>\n",
       "      <td>149474335</td>\n",
       "      <td>70</td>\n",
       "      <td>70</td>\n",
       "      <td>A</td>\n",
       "      <td>V</td>\n",
       "      <td>12</td>\n",
       "      <td>1</td>\n",
       "    </tr>\n",
       "  </tbody>\n",
       "</table>\n",
       "</div>"
      ],
      "text/plain": [
       "        id_mutation       snp_id chromosome  start_genomic  end_genomic  \\\n",
       "148021        24001  rs116340837          6      149474335    149474335   \n",
       "\n",
       "        start_aa  end_aa from_aa to_aa  id_protein  id_consequence  \n",
       "148021        70      70       A     V          12               1  "
      ]
     },
     "execution_count": 256,
     "metadata": {},
     "output_type": "execute_result"
    }
   ],
   "source": [
    "# Control\r\n",
    "mutation[mutation.id_mutation == 24001]"
   ]
  },
  {
   "cell_type": "code",
   "execution_count": 257,
   "metadata": {},
   "outputs": [
    {
     "data": {
      "text/html": [
       "<div>\n",
       "<style scoped>\n",
       "    .dataframe tbody tr th:only-of-type {\n",
       "        vertical-align: middle;\n",
       "    }\n",
       "\n",
       "    .dataframe tbody tr th {\n",
       "        vertical-align: top;\n",
       "    }\n",
       "\n",
       "    .dataframe thead th {\n",
       "        text-align: right;\n",
       "    }\n",
       "</style>\n",
       "<table border=\"1\" class=\"dataframe\">\n",
       "  <thead>\n",
       "    <tr style=\"text-align: right;\">\n",
       "      <th></th>\n",
       "      <th>id_protein</th>\n",
       "      <th>uniprot_acc</th>\n",
       "    </tr>\n",
       "  </thead>\n",
       "  <tbody>\n",
       "    <tr>\n",
       "      <th>11</th>\n",
       "      <td>12</td>\n",
       "      <td>A2A288</td>\n",
       "    </tr>\n",
       "  </tbody>\n",
       "</table>\n",
       "</div>"
      ],
      "text/plain": [
       "    id_protein uniprot_acc\n",
       "11          12      A2A288"
      ]
     },
     "execution_count": 257,
     "metadata": {},
     "output_type": "execute_result"
    }
   ],
   "source": [
    "id_protein[id_protein.id_protein == 12]"
   ]
  },
  {
   "cell_type": "code",
   "execution_count": 258,
   "metadata": {},
   "outputs": [
    {
     "data": {
      "text/html": [
       "<div>\n",
       "<style scoped>\n",
       "    .dataframe tbody tr th:only-of-type {\n",
       "        vertical-align: middle;\n",
       "    }\n",
       "\n",
       "    .dataframe tbody tr th {\n",
       "        vertical-align: top;\n",
       "    }\n",
       "\n",
       "    .dataframe thead th {\n",
       "        text-align: right;\n",
       "    }\n",
       "</style>\n",
       "<table border=\"1\" class=\"dataframe\">\n",
       "  <thead>\n",
       "    <tr style=\"text-align: right;\">\n",
       "      <th></th>\n",
       "      <th>uniprot_acc</th>\n",
       "      <th>start</th>\n",
       "      <th>end</th>\n",
       "      <th>id_idr</th>\n",
       "      <th>length</th>\n",
       "    </tr>\n",
       "  </thead>\n",
       "  <tbody>\n",
       "    <tr>\n",
       "      <th>4338</th>\n",
       "      <td>A2A288</td>\n",
       "      <td>48</td>\n",
       "      <td>75</td>\n",
       "      <td>4339</td>\n",
       "      <td>28</td>\n",
       "    </tr>\n",
       "  </tbody>\n",
       "</table>\n",
       "</div>"
      ],
      "text/plain": [
       "     uniprot_acc  start  end  id_idr  length\n",
       "4338      A2A288     48   75    4339      28"
      ]
     },
     "execution_count": 258,
     "metadata": {},
     "output_type": "execute_result"
    }
   ],
   "source": [
    "disorder[disorder.id_idr == 4339] # It's Ok. A point mutation in position 70 in the idr region between 48-75"
   ]
  },
  {
   "cell_type": "code",
   "execution_count": 259,
   "metadata": {},
   "outputs": [],
   "source": [
    "mutation_has_disorder_region.to_csv('db_tables/mutation_has_disorder_region.tsv', sep='\\t', index= False)"
   ]
  },
  {
   "cell_type": "markdown",
   "metadata": {},
   "source": [
    "---   \r\n",
    "# Rol table  \r\n",
    "cols: id_rol, rol"
   ]
  },
  {
   "cell_type": "code",
   "execution_count": 10,
   "metadata": {},
   "outputs": [
    {
     "data": {
      "text/plain": [
       "array(['driver', 'unassigned', 'regulator', 'client'], dtype=object)"
      ]
     },
     "execution_count": 10,
     "metadata": {},
     "output_type": "execute_result"
    }
   ],
   "source": [
    "database_entrada.rol.unique()"
   ]
  },
  {
   "cell_type": "code",
   "execution_count": 11,
   "metadata": {},
   "outputs": [
    {
     "data": {
      "text/plain": [
       "client        4138\n",
       "unassigned    2272\n",
       "regulator     1395\n",
       "driver         377\n",
       "Name: rol, dtype: int64"
      ]
     },
     "execution_count": 11,
     "metadata": {},
     "output_type": "execute_result"
    }
   ],
   "source": [
    "database_entrada.rol.value_counts()"
   ]
  },
  {
   "cell_type": "code",
   "execution_count": 12,
   "metadata": {},
   "outputs": [
    {
     "data": {
      "text/html": [
       "<div>\n",
       "<style scoped>\n",
       "    .dataframe tbody tr th:only-of-type {\n",
       "        vertical-align: middle;\n",
       "    }\n",
       "\n",
       "    .dataframe tbody tr th {\n",
       "        vertical-align: top;\n",
       "    }\n",
       "\n",
       "    .dataframe thead th {\n",
       "        text-align: right;\n",
       "    }\n",
       "</style>\n",
       "<table border=\"1\" class=\"dataframe\">\n",
       "  <thead>\n",
       "    <tr style=\"text-align: right;\">\n",
       "      <th></th>\n",
       "      <th>rol</th>\n",
       "      <th>id_rol</th>\n",
       "    </tr>\n",
       "  </thead>\n",
       "  <tbody>\n",
       "    <tr>\n",
       "      <th>0</th>\n",
       "      <td>client</td>\n",
       "      <td>1</td>\n",
       "    </tr>\n",
       "    <tr>\n",
       "      <th>1</th>\n",
       "      <td>unassigned</td>\n",
       "      <td>2</td>\n",
       "    </tr>\n",
       "    <tr>\n",
       "      <th>2</th>\n",
       "      <td>regulator</td>\n",
       "      <td>3</td>\n",
       "    </tr>\n",
       "    <tr>\n",
       "      <th>3</th>\n",
       "      <td>driver</td>\n",
       "      <td>4</td>\n",
       "    </tr>\n",
       "  </tbody>\n",
       "</table>\n",
       "</div>"
      ],
      "text/plain": [
       "          rol  id_rol\n",
       "0      client       1\n",
       "1  unassigned       2\n",
       "2   regulator       3\n",
       "3      driver       4"
      ]
     },
     "execution_count": 12,
     "metadata": {},
     "output_type": "execute_result"
    }
   ],
   "source": [
    "rol = pd.DataFrame({'rol': database_entrada.rol.value_counts().index, 'id_rol': range(1, len(database_entrada.rol.value_counts())+1)})\r\n",
    "rol"
   ]
  },
  {
   "cell_type": "code",
   "execution_count": 13,
   "metadata": {},
   "outputs": [],
   "source": [
    "rol.to_csv('db_tables/rol.tsv', sep='\\t', index= False)"
   ]
  },
  {
   "cell_type": "markdown",
   "metadata": {},
   "source": [
    "---  \r\n",
    "# dataset table  \r\n",
    "cols: id_dataset, dataset"
   ]
  },
  {
   "cell_type": "code",
   "execution_count": 14,
   "metadata": {},
   "outputs": [
    {
     "data": {
      "text/plain": [
       "drllps              5034\n",
       "phasepdb_ht         2346\n",
       "phasepdb_uniprot     384\n",
       "phasepdb_rev         297\n",
       "phasepro             121\n",
       "Name: db, dtype: int64"
      ]
     },
     "execution_count": 14,
     "metadata": {},
     "output_type": "execute_result"
    }
   ],
   "source": [
    "database_entrada.db.value_counts()"
   ]
  },
  {
   "cell_type": "code",
   "execution_count": 15,
   "metadata": {},
   "outputs": [
    {
     "data": {
      "text/html": [
       "<div>\n",
       "<style scoped>\n",
       "    .dataframe tbody tr th:only-of-type {\n",
       "        vertical-align: middle;\n",
       "    }\n",
       "\n",
       "    .dataframe tbody tr th {\n",
       "        vertical-align: top;\n",
       "    }\n",
       "\n",
       "    .dataframe thead th {\n",
       "        text-align: right;\n",
       "    }\n",
       "</style>\n",
       "<table border=\"1\" class=\"dataframe\">\n",
       "  <thead>\n",
       "    <tr style=\"text-align: right;\">\n",
       "      <th></th>\n",
       "      <th>database</th>\n",
       "      <th>id_database</th>\n",
       "    </tr>\n",
       "  </thead>\n",
       "  <tbody>\n",
       "    <tr>\n",
       "      <th>0</th>\n",
       "      <td>drllps</td>\n",
       "      <td>1</td>\n",
       "    </tr>\n",
       "    <tr>\n",
       "      <th>1</th>\n",
       "      <td>phasepdb_ht</td>\n",
       "      <td>2</td>\n",
       "    </tr>\n",
       "    <tr>\n",
       "      <th>2</th>\n",
       "      <td>phasepdb_uniprot</td>\n",
       "      <td>3</td>\n",
       "    </tr>\n",
       "    <tr>\n",
       "      <th>3</th>\n",
       "      <td>phasepdb_rev</td>\n",
       "      <td>4</td>\n",
       "    </tr>\n",
       "    <tr>\n",
       "      <th>4</th>\n",
       "      <td>phasepro</td>\n",
       "      <td>5</td>\n",
       "    </tr>\n",
       "  </tbody>\n",
       "</table>\n",
       "</div>"
      ],
      "text/plain": [
       "           database  id_database\n",
       "0            drllps            1\n",
       "1       phasepdb_ht            2\n",
       "2  phasepdb_uniprot            3\n",
       "3      phasepdb_rev            4\n",
       "4          phasepro            5"
      ]
     },
     "execution_count": 15,
     "metadata": {},
     "output_type": "execute_result"
    }
   ],
   "source": [
    "database = pd.DataFrame({'database': database_entrada.db.value_counts().index, 'id_database': range(1, len(database_entrada.db.value_counts())+1)})\r\n",
    "database"
   ]
  },
  {
   "cell_type": "code",
   "execution_count": 86,
   "metadata": {},
   "outputs": [],
   "source": [
    "database.to_csv('db_tables/dataset.tsv', sep='\\t', index= False)"
   ]
  },
  {
   "cell_type": "markdown",
   "metadata": {},
   "source": [
    "---  \r\n",
    "# MLOs tables  "
   ]
  },
  {
   "cell_type": "code",
   "execution_count": 17,
   "metadata": {},
   "outputs": [
    {
     "name": "stdout",
     "output_type": "stream",
     "text": [
      "<class 'pandas.core.frame.DataFrame'>\n",
      "Int64Index: 8182 entries, 0 to 8381\n",
      "Data columns (total 4 columns):\n",
      " #   Column   Non-Null Count  Dtype \n",
      "---  ------   --------------  ----- \n",
      " 0   uniprot  8182 non-null   object\n",
      " 1   mlo      7361 non-null   object\n",
      " 2   rol      8182 non-null   object\n",
      " 3   db       8182 non-null   object\n",
      "dtypes: object(4)\n",
      "memory usage: 319.6+ KB\n"
     ]
    }
   ],
   "source": [
    "database_entrada.info()"
   ]
  },
  {
   "cell_type": "code",
   "execution_count": 18,
   "metadata": {},
   "outputs": [
    {
     "data": {
      "text/plain": [
       "Nucleolus                       2063\n",
       "Postsynaptic density            1374\n",
       "Stress granule                  1334\n",
       "P-body                           823\n",
       "Centrosome/Spindle pole body     534\n",
       "                                ... \n",
       "inclusion body                     1\n",
       "MORC3-NBs                          1\n",
       "granular component                 1\n",
       "TIS granule                        1\n",
       "extracellular matrix               1\n",
       "Name: mlo, Length: 113, dtype: int64"
      ]
     },
     "execution_count": 18,
     "metadata": {},
     "output_type": "execute_result"
    }
   ],
   "source": [
    "database_entrada.mlo.value_counts()"
   ]
  },
  {
   "cell_type": "code",
   "execution_count": 22,
   "metadata": {},
   "outputs": [
    {
     "data": {
      "text/plain": [
       "4368"
      ]
     },
     "execution_count": 22,
     "metadata": {},
     "output_type": "execute_result"
    }
   ],
   "source": [
    "len(database_entrada.uniprot_acc.unique())"
   ]
  },
  {
   "cell_type": "markdown",
   "metadata": {},
   "source": [
    "## Deal with mlos annotations"
   ]
  },
  {
   "cell_type": "code",
   "execution_count": 27,
   "metadata": {},
   "outputs": [],
   "source": [
    "database_entrada.mlo = database_entrada.mlo.str.strip()"
   ]
  },
  {
   "cell_type": "code",
   "execution_count": 28,
   "metadata": {},
   "outputs": [
    {
     "data": {
      "text/plain": [
       "114"
      ]
     },
     "execution_count": 28,
     "metadata": {},
     "output_type": "execute_result"
    }
   ],
   "source": [
    "len(database_entrada.mlo.unique()) # no blank spaces"
   ]
  },
  {
   "cell_type": "code",
   "execution_count": 29,
   "metadata": {},
   "outputs": [
    {
     "data": {
      "text/plain": [
       "Nucleolus                       2063\n",
       "Postsynaptic density            1374\n",
       "Stress granule                  1334\n",
       "P-body                           823\n",
       "Centrosome/Spindle pole body     534\n",
       "                                ... \n",
       "inclusion body                     1\n",
       "MORC3-NBs                          1\n",
       "granular component                 1\n",
       "TIS granule                        1\n",
       "extracellular matrix               1\n",
       "Name: mlo, Length: 113, dtype: int64"
      ]
     },
     "execution_count": 29,
     "metadata": {},
     "output_type": "execute_result"
    }
   ],
   "source": [
    "database_entrada.mlo.value_counts()"
   ]
  },
  {
   "cell_type": "markdown",
   "metadata": {},
   "source": [
    "### Paraspeckle"
   ]
  },
  {
   "cell_type": "code",
   "execution_count": 30,
   "metadata": {},
   "outputs": [
    {
     "data": {
      "text/plain": [
       "101"
      ]
     },
     "execution_count": 30,
     "metadata": {},
     "output_type": "execute_result"
    }
   ],
   "source": [
    "(database_entrada.mlo == 'Paraspeckle').sum()"
   ]
  },
  {
   "cell_type": "code",
   "execution_count": 31,
   "metadata": {},
   "outputs": [
    {
     "data": {
      "text/plain": [
       "104"
      ]
     },
     "execution_count": 31,
     "metadata": {},
     "output_type": "execute_result"
    }
   ],
   "source": [
    "# Unify paraspeckle with Paraspeckle\r\n",
    "database_entrada.replace('paraspeckle', 'Paraspeckle', inplace= True)\r\n",
    "(database_entrada.mlo == 'Paraspeckle').sum()"
   ]
  },
  {
   "cell_type": "markdown",
   "metadata": {},
   "source": [
    "### Sam68"
   ]
  },
  {
   "cell_type": "code",
   "execution_count": 32,
   "metadata": {},
   "outputs": [
    {
     "data": {
      "text/plain": [
       "11"
      ]
     },
     "execution_count": 32,
     "metadata": {},
     "output_type": "execute_result"
    }
   ],
   "source": [
    "(database_entrada.mlo == 'Sam68 nuclear bodies').sum()"
   ]
  },
  {
   "cell_type": "code",
   "execution_count": 33,
   "metadata": {},
   "outputs": [
    {
     "data": {
      "text/plain": [
       "2"
      ]
     },
     "execution_count": 33,
     "metadata": {},
     "output_type": "execute_result"
    }
   ],
   "source": [
    "(database_entrada.mlo == 'Sam68 nuclear bodies (SNBs)').sum()"
   ]
  },
  {
   "cell_type": "code",
   "execution_count": 34,
   "metadata": {},
   "outputs": [
    {
     "data": {
      "text/plain": [
       "12"
      ]
     },
     "execution_count": 34,
     "metadata": {},
     "output_type": "execute_result"
    }
   ],
   "source": [
    "(database_entrada.mlo == 'Sam68 nuclear body').sum()"
   ]
  },
  {
   "cell_type": "code",
   "execution_count": 35,
   "metadata": {},
   "outputs": [
    {
     "data": {
      "text/plain": [
       "25"
      ]
     },
     "execution_count": 35,
     "metadata": {},
     "output_type": "execute_result"
    }
   ],
   "source": [
    "database_entrada.replace(['Sam68 nuclear bodies', 'Sam68 nuclear bodies (SNBs)'], 'Sam68 nuclear body', inplace= True)\r\n",
    "(database_entrada.mlo == 'Sam68 nuclear body').sum()"
   ]
  },
  {
   "cell_type": "markdown",
   "metadata": {},
   "source": [
    "### PML body  \r\n",
    "**PhaSepDB**: The PML bodies are dynamic nuclear protein aggregates interspersed between chromatin. These punctate nuclear structures are call PML bodies because the PML gene is essential for their formation. are present in most mammalian cell nuclei and typically number 1 to 30 bodies per nucleus.  \r\n",
    "**DrLLPS**: PML nuclear bodies are annotetad in the nucleus. They are matrix-associated domains that recruit an astonishing variety of seemingly unrelated proteins."
   ]
  },
  {
   "cell_type": "code",
   "execution_count": 36,
   "metadata": {},
   "outputs": [
    {
     "data": {
      "text/plain": [
       "97"
      ]
     },
     "execution_count": 36,
     "metadata": {},
     "output_type": "execute_result"
    }
   ],
   "source": [
    "(database_entrada.mlo == 'PML nuclear body').sum()"
   ]
  },
  {
   "cell_type": "code",
   "execution_count": 37,
   "metadata": {},
   "outputs": [
    {
     "data": {
      "text/plain": [
       "77"
      ]
     },
     "execution_count": 37,
     "metadata": {},
     "output_type": "execute_result"
    }
   ],
   "source": [
    "(database_entrada.mlo == 'PML body').sum()"
   ]
  },
  {
   "cell_type": "code",
   "execution_count": 38,
   "metadata": {},
   "outputs": [
    {
     "data": {
      "text/plain": [
       "174"
      ]
     },
     "execution_count": 38,
     "metadata": {},
     "output_type": "execute_result"
    }
   ],
   "source": [
    "database_entrada.replace('PML body', 'PML nuclear body', inplace= True)\r\n",
    "(database_entrada.mlo == 'PML nuclear body').sum()"
   ]
  },
  {
   "cell_type": "markdown",
   "metadata": {},
   "source": [
    "### Polycomb body"
   ]
  },
  {
   "cell_type": "code",
   "execution_count": 39,
   "metadata": {},
   "outputs": [
    {
     "data": {
      "text/plain": [
       "2"
      ]
     },
     "execution_count": 39,
     "metadata": {},
     "output_type": "execute_result"
    }
   ],
   "source": [
    "(database_entrada.mlo == 'Polycomb bodies').sum()"
   ]
  },
  {
   "cell_type": "code",
   "execution_count": 40,
   "metadata": {},
   "outputs": [
    {
     "data": {
      "text/plain": [
       "4"
      ]
     },
     "execution_count": 40,
     "metadata": {},
     "output_type": "execute_result"
    }
   ],
   "source": [
    "database_entrada.replace('Polycomb bodies', 'Polycomb body', inplace= True)\r\n",
    "(database_entrada.mlo == 'Polycomb body').sum()"
   ]
  },
  {
   "cell_type": "markdown",
   "metadata": {},
   "source": [
    "### Pre and postsynaptic density"
   ]
  },
  {
   "cell_type": "code",
   "execution_count": 41,
   "metadata": {},
   "outputs": [
    {
     "data": {
      "text/plain": [
       "8"
      ]
     },
     "execution_count": 41,
     "metadata": {},
     "output_type": "execute_result"
    }
   ],
   "source": [
    "database_entrada.replace('Pre and postsynaptic densities', 'Pre and postsynaptic density', inplace= True)\r\n",
    "(database_entrada.mlo == 'Pre and postsynaptic density').sum()"
   ]
  },
  {
   "cell_type": "markdown",
   "metadata": {},
   "source": [
    "### Nuclear speckle"
   ]
  },
  {
   "cell_type": "code",
   "execution_count": 42,
   "metadata": {},
   "outputs": [
    {
     "data": {
      "text/plain": [
       "115"
      ]
     },
     "execution_count": 42,
     "metadata": {},
     "output_type": "execute_result"
    }
   ],
   "source": [
    "(database_entrada.mlo == 'Nucleus speckles').sum() #phasepdb"
   ]
  },
  {
   "cell_type": "code",
   "execution_count": 43,
   "metadata": {},
   "outputs": [
    {
     "data": {
      "text/plain": [
       "110"
      ]
     },
     "execution_count": 43,
     "metadata": {},
     "output_type": "execute_result"
    }
   ],
   "source": [
    "(database_entrada.mlo == 'Nuclear speckle').sum() # drllps"
   ]
  },
  {
   "cell_type": "code",
   "execution_count": 44,
   "metadata": {},
   "outputs": [
    {
     "data": {
      "text/plain": [
       "24"
      ]
     },
     "execution_count": 44,
     "metadata": {},
     "output_type": "execute_result"
    }
   ],
   "source": [
    "(database_entrada.mlo == 'Nuclear speckles').sum() #phasepdb"
   ]
  },
  {
   "cell_type": "code",
   "execution_count": 45,
   "metadata": {},
   "outputs": [
    {
     "data": {
      "text/plain": [
       "3"
      ]
     },
     "execution_count": 45,
     "metadata": {},
     "output_type": "execute_result"
    }
   ],
   "source": [
    "(database_entrada.mlo == 'nuclear speckle').sum()"
   ]
  },
  {
   "cell_type": "code",
   "execution_count": 46,
   "metadata": {},
   "outputs": [
    {
     "data": {
      "text/plain": [
       "252"
      ]
     },
     "execution_count": 46,
     "metadata": {},
     "output_type": "execute_result"
    }
   ],
   "source": [
    "database_entrada.replace(['Nucleus speckles', 'Nuclear speckles', 'nuclear speckle'], 'Nuclear speckle', inplace= True)\r\n",
    "(database_entrada.mlo == 'Nuclear speckle').sum()"
   ]
  },
  {
   "cell_type": "markdown",
   "metadata": {},
   "source": [
    "### Heterochromatin"
   ]
  },
  {
   "cell_type": "code",
   "execution_count": 47,
   "metadata": {},
   "outputs": [
    {
     "data": {
      "text/plain": [
       "2"
      ]
     },
     "execution_count": 47,
     "metadata": {},
     "output_type": "execute_result"
    }
   ],
   "source": [
    "(database_entrada.mlo == 'heterochromatin').sum()"
   ]
  },
  {
   "cell_type": "code",
   "execution_count": 48,
   "metadata": {},
   "outputs": [
    {
     "data": {
      "text/plain": [
       "3"
      ]
     },
     "execution_count": 48,
     "metadata": {},
     "output_type": "execute_result"
    }
   ],
   "source": [
    "database_entrada.replace('heterochromatin', 'Heterochromatin', inplace= True)\r\n",
    "(database_entrada.mlo == 'Heterochromatin').sum()"
   ]
  },
  {
   "cell_type": "markdown",
   "metadata": {},
   "source": [
    "### Cytoplasmic ribonucleoprotein granule"
   ]
  },
  {
   "cell_type": "code",
   "execution_count": 49,
   "metadata": {},
   "outputs": [
    {
     "data": {
      "text/plain": [
       "5"
      ]
     },
     "execution_count": 49,
     "metadata": {},
     "output_type": "execute_result"
    }
   ],
   "source": [
    "(database_entrada.mlo == 'cytoplasmic ribonucleoprotein granule').sum()\r\n"
   ]
  },
  {
   "cell_type": "code",
   "execution_count": 50,
   "metadata": {},
   "outputs": [],
   "source": [
    "database_entrada.replace('cytoplasmic ribonucleoprotein granule', 'Cytoplasmic ribonucleoprotein granule', inplace= True)"
   ]
  },
  {
   "cell_type": "markdown",
   "metadata": {},
   "source": [
    "### Membrane cluster"
   ]
  },
  {
   "cell_type": "code",
   "execution_count": 51,
   "metadata": {},
   "outputs": [
    {
     "data": {
      "text/plain": [
       "4"
      ]
     },
     "execution_count": 51,
     "metadata": {},
     "output_type": "execute_result"
    }
   ],
   "source": [
    "(database_entrada.mlo == 'Membrane clusters').sum()"
   ]
  },
  {
   "cell_type": "code",
   "execution_count": 52,
   "metadata": {},
   "outputs": [
    {
     "data": {
      "text/plain": [
       "3"
      ]
     },
     "execution_count": 52,
     "metadata": {},
     "output_type": "execute_result"
    }
   ],
   "source": [
    "(database_entrada.mlo == 'membrane cluster').sum()"
   ]
  },
  {
   "cell_type": "code",
   "execution_count": 53,
   "metadata": {},
   "outputs": [
    {
     "data": {
      "text/plain": [
       "7"
      ]
     },
     "execution_count": 53,
     "metadata": {},
     "output_type": "execute_result"
    }
   ],
   "source": [
    "database_entrada.replace(['Membrane clusters', 'membrane cluster'], 'Membrane cluster', inplace= True)\r\n",
    "(database_entrada.mlo == 'Membrane cluster').sum()"
   ]
  },
  {
   "cell_type": "markdown",
   "metadata": {},
   "source": [
    "### Nuclear body"
   ]
  },
  {
   "cell_type": "code",
   "execution_count": 54,
   "metadata": {},
   "outputs": [
    {
     "data": {
      "text/plain": [
       "11"
      ]
     },
     "execution_count": 54,
     "metadata": {},
     "output_type": "execute_result"
    }
   ],
   "source": [
    "database_entrada.replace('nuclear body', 'Nuclear body', inplace= True)\r\n",
    "(database_entrada.mlo == 'Nuclear body').sum()"
   ]
  },
  {
   "cell_type": "markdown",
   "metadata": {},
   "source": [
    "### Nucleolus"
   ]
  },
  {
   "cell_type": "code",
   "execution_count": 55,
   "metadata": {},
   "outputs": [
    {
     "data": {
      "text/plain": [
       "2064"
      ]
     },
     "execution_count": 55,
     "metadata": {},
     "output_type": "execute_result"
    }
   ],
   "source": [
    "database_entrada.replace('nucleolus', 'Nucleolus', inplace= True)\r\n",
    "(database_entrada.mlo == 'Nucleolus').sum()"
   ]
  },
  {
   "cell_type": "code",
   "execution_count": 56,
   "metadata": {},
   "outputs": [
    {
     "data": {
      "text/plain": [
       "534"
      ]
     },
     "execution_count": 56,
     "metadata": {},
     "output_type": "execute_result"
    }
   ],
   "source": [
    "(database_entrada.mlo == 'Centrosome/Spindle pole body').sum() # keep this annotation"
   ]
  },
  {
   "cell_type": "markdown",
   "metadata": {},
   "source": [
    "## OK, now mlo table  \r\n",
    "cols: id_mlo, mlo"
   ]
  },
  {
   "cell_type": "code",
   "execution_count": 57,
   "metadata": {},
   "outputs": [
    {
     "data": {
      "text/plain": [
       "Nucleolus                       2064\n",
       "Postsynaptic density            1374\n",
       "Stress granule                  1334\n",
       "P-body                           823\n",
       "Centrosome/Spindle pole body     534\n",
       "                                ... \n",
       "inclusion body                     1\n",
       "liquid-like DYRK3 speckles         1\n",
       "MORC3-NBs                          1\n",
       "granular component                 1\n",
       "extracellular matrix               1\n",
       "Name: mlo, Length: 99, dtype: int64"
      ]
     },
     "execution_count": 57,
     "metadata": {},
     "output_type": "execute_result"
    }
   ],
   "source": [
    "database_entrada.mlo.value_counts()"
   ]
  },
  {
   "cell_type": "code",
   "execution_count": 66,
   "metadata": {},
   "outputs": [
    {
     "data": {
      "text/html": [
       "<div>\n",
       "<style scoped>\n",
       "    .dataframe tbody tr th:only-of-type {\n",
       "        vertical-align: middle;\n",
       "    }\n",
       "\n",
       "    .dataframe tbody tr th {\n",
       "        vertical-align: top;\n",
       "    }\n",
       "\n",
       "    .dataframe thead th {\n",
       "        text-align: right;\n",
       "    }\n",
       "</style>\n",
       "<table border=\"1\" class=\"dataframe\">\n",
       "  <thead>\n",
       "    <tr style=\"text-align: right;\">\n",
       "      <th></th>\n",
       "      <th>uniprot_acc</th>\n",
       "      <th>mlo</th>\n",
       "      <th>rol</th>\n",
       "      <th>db</th>\n",
       "    </tr>\n",
       "  </thead>\n",
       "  <tbody>\n",
       "    <tr>\n",
       "      <th>0</th>\n",
       "      <td>P35637</td>\n",
       "      <td>cytoplasmic stress granule</td>\n",
       "      <td>driver</td>\n",
       "      <td>phasepro</td>\n",
       "    </tr>\n",
       "    <tr>\n",
       "      <th>1</th>\n",
       "      <td>P35637</td>\n",
       "      <td>Cytoplasmic ribonucleoprotein granule</td>\n",
       "      <td>driver</td>\n",
       "      <td>phasepro</td>\n",
       "    </tr>\n",
       "    <tr>\n",
       "      <th>2</th>\n",
       "      <td>Q06787</td>\n",
       "      <td>cytoplasmic stress granule</td>\n",
       "      <td>driver</td>\n",
       "      <td>phasepro</td>\n",
       "    </tr>\n",
       "    <tr>\n",
       "      <th>3</th>\n",
       "      <td>Q06787</td>\n",
       "      <td>Cytoplasmic ribonucleoprotein granule</td>\n",
       "      <td>driver</td>\n",
       "      <td>phasepro</td>\n",
       "    </tr>\n",
       "    <tr>\n",
       "      <th>4</th>\n",
       "      <td>Q06787</td>\n",
       "      <td>synaptosome</td>\n",
       "      <td>driver</td>\n",
       "      <td>phasepro</td>\n",
       "    </tr>\n",
       "    <tr>\n",
       "      <th>...</th>\n",
       "      <td>...</td>\n",
       "      <td>...</td>\n",
       "      <td>...</td>\n",
       "      <td>...</td>\n",
       "    </tr>\n",
       "    <tr>\n",
       "      <th>8377</th>\n",
       "      <td>O95670</td>\n",
       "      <td>Nucleolus</td>\n",
       "      <td>client</td>\n",
       "      <td>drllps</td>\n",
       "    </tr>\n",
       "    <tr>\n",
       "      <th>8378</th>\n",
       "      <td>O95670</td>\n",
       "      <td>Postsynaptic density</td>\n",
       "      <td>client</td>\n",
       "      <td>drllps</td>\n",
       "    </tr>\n",
       "    <tr>\n",
       "      <th>8379</th>\n",
       "      <td>Q9H269</td>\n",
       "      <td>Postsynaptic density</td>\n",
       "      <td>client</td>\n",
       "      <td>drllps</td>\n",
       "    </tr>\n",
       "    <tr>\n",
       "      <th>8380</th>\n",
       "      <td>Q9Y3D7</td>\n",
       "      <td>Postsynaptic density</td>\n",
       "      <td>client</td>\n",
       "      <td>drllps</td>\n",
       "    </tr>\n",
       "    <tr>\n",
       "      <th>8381</th>\n",
       "      <td>P33778</td>\n",
       "      <td>Nucleolus</td>\n",
       "      <td>client</td>\n",
       "      <td>drllps</td>\n",
       "    </tr>\n",
       "  </tbody>\n",
       "</table>\n",
       "<p>8188 rows × 4 columns</p>\n",
       "</div>"
      ],
      "text/plain": [
       "     uniprot_acc                                    mlo     rol        db\n",
       "0         P35637             cytoplasmic stress granule  driver  phasepro\n",
       "1         P35637  Cytoplasmic ribonucleoprotein granule  driver  phasepro\n",
       "2         Q06787             cytoplasmic stress granule  driver  phasepro\n",
       "3         Q06787  Cytoplasmic ribonucleoprotein granule  driver  phasepro\n",
       "4         Q06787                            synaptosome  driver  phasepro\n",
       "...          ...                                    ...     ...       ...\n",
       "8377      O95670                              Nucleolus  client    drllps\n",
       "8378      O95670                   Postsynaptic density  client    drllps\n",
       "8379      Q9H269                   Postsynaptic density  client    drllps\n",
       "8380      Q9Y3D7                   Postsynaptic density  client    drllps\n",
       "8381      P33778                              Nucleolus  client    drllps\n",
       "\n",
       "[8188 rows x 4 columns]"
      ]
     },
     "execution_count": 66,
     "metadata": {},
     "output_type": "execute_result"
    }
   ],
   "source": [
    "# EXPLODE:\r\n",
    "# P-body, Stress granule\r\n",
    "# P-body, GW body\r\n",
    "# Set mlo col as list-like and explode() to separate list elements into separate rows\r\n",
    "# before: 8266 rows\r\n",
    "database_entrada = database_entrada.assign(mlo= database_entrada.mlo.str.split(',')).explode('mlo')\r\n",
    "database_entrada.mlo = database_entrada.mlo.str.strip()\r\n",
    "database_entrada\r\n",
    "# after: 8272 rows"
   ]
  },
  {
   "cell_type": "code",
   "execution_count": 306,
   "metadata": {},
   "outputs": [
    {
     "data": {
      "text/plain": [
       "3"
      ]
     },
     "execution_count": 306,
     "metadata": {},
     "output_type": "execute_result"
    }
   ],
   "source": [
    "# GW-body\r\n",
    "entrada_dbs.replace('GW body', 'GW-body', inplace= True)\r\n",
    "(entrada_dbs.mlo == 'GW-body').sum()"
   ]
  },
  {
   "cell_type": "code",
   "execution_count": 58,
   "metadata": {},
   "outputs": [
    {
     "data": {
      "text/plain": [
       "1375"
      ]
     },
     "execution_count": 58,
     "metadata": {},
     "output_type": "execute_result"
    }
   ],
   "source": [
    "# Postsynaptic density\r\n",
    "database_entrada.replace('postsynaptic density', 'Postsynaptic density', inplace= True)\r\n",
    "(database_entrada.mlo == 'Postsynaptic density').sum()"
   ]
  },
  {
   "cell_type": "code",
   "execution_count": 59,
   "metadata": {},
   "outputs": [
    {
     "data": {
      "text/plain": [
       "6"
      ]
     },
     "execution_count": 59,
     "metadata": {},
     "output_type": "execute_result"
    }
   ],
   "source": [
    "# Cytoplasmic ribonucleoprotein granule\r\n",
    "database_entrada.replace('cytoplasmic ribonucleoprotein granule', 'Cytoplasmic ribonucleoprotein granule', inplace= True)\r\n",
    "(database_entrada.mlo == 'Cytoplasmic ribonucleoprotein granule').sum()"
   ]
  },
  {
   "cell_type": "code",
   "execution_count": 60,
   "metadata": {},
   "outputs": [
    {
     "data": {
      "text/plain": [
       "16"
      ]
     },
     "execution_count": 60,
     "metadata": {},
     "output_type": "execute_result"
    }
   ],
   "source": [
    "# Histone locus body\r\n",
    "database_entrada.replace('Histone Locus body', 'Histone locus body', inplace= True)\r\n",
    "(database_entrada.mlo == 'Histone locus body').sum()"
   ]
  },
  {
   "cell_type": "code",
   "execution_count": 61,
   "metadata": {},
   "outputs": [
    {
     "data": {
      "text/plain": [
       "1335"
      ]
     },
     "execution_count": 61,
     "metadata": {},
     "output_type": "execute_result"
    }
   ],
   "source": [
    "# Stress granule\r\n",
    "database_entrada.replace('Sress granule', 'Stress granule', inplace= True)\r\n",
    "(database_entrada.mlo == 'Stress granule').sum()"
   ]
  },
  {
   "cell_type": "code",
   "execution_count": 67,
   "metadata": {},
   "outputs": [
    {
     "name": "stdout",
     "output_type": "stream",
     "text": [
      "<class 'pandas.core.frame.DataFrame'>\n",
      "Int64Index: 8188 entries, 0 to 8381\n",
      "Data columns (total 4 columns):\n",
      " #   Column       Non-Null Count  Dtype \n",
      "---  ------       --------------  ----- \n",
      " 0   uniprot_acc  8188 non-null   object\n",
      " 1   mlo          7367 non-null   object\n",
      " 2   rol          8188 non-null   object\n",
      " 3   db           8188 non-null   object\n",
      "dtypes: object(4)\n",
      "memory usage: 319.8+ KB\n"
     ]
    }
   ],
   "source": [
    "database_entrada.info()"
   ]
  },
  {
   "cell_type": "code",
   "execution_count": 68,
   "metadata": {},
   "outputs": [
    {
     "data": {
      "text/plain": [
       "Nucleolus                       2064\n",
       "Postsynaptic density            1375\n",
       "Stress granule                  1338\n",
       "P-body                           827\n",
       "Centrosome/Spindle pole body     534\n",
       "                                ... \n",
       "inclusion body                     1\n",
       "neuron projection                  1\n",
       "MORC3-NBs                          1\n",
       "TIS granule                        1\n",
       "extracellular matrix               1\n",
       "Name: mlo, Length: 97, dtype: int64"
      ]
     },
     "execution_count": 68,
     "metadata": {},
     "output_type": "execute_result"
    }
   ],
   "source": [
    "database_entrada.mlo.value_counts()"
   ]
  },
  {
   "cell_type": "code",
   "execution_count": 72,
   "metadata": {},
   "outputs": [],
   "source": [
    "database_entrada.mlo.replace(np.nan, 'nan', inplace= True)"
   ]
  },
  {
   "cell_type": "code",
   "execution_count": 73,
   "metadata": {},
   "outputs": [
    {
     "data": {
      "text/plain": [
       "Nucleolus               2064\n",
       "Postsynaptic density    1375\n",
       "Stress granule          1338\n",
       "P-body                   827\n",
       "nan                      821\n",
       "                        ... \n",
       "inclusion body             1\n",
       "neuron projection          1\n",
       "MORC3-NBs                  1\n",
       "TIS granule                1\n",
       "extracellular matrix       1\n",
       "Name: mlo, Length: 98, dtype: int64"
      ]
     },
     "execution_count": 73,
     "metadata": {},
     "output_type": "execute_result"
    }
   ],
   "source": [
    "database_entrada.mlo.value_counts()"
   ]
  },
  {
   "cell_type": "code",
   "execution_count": 74,
   "metadata": {},
   "outputs": [
    {
     "data": {
      "text/html": [
       "<div>\n",
       "<style scoped>\n",
       "    .dataframe tbody tr th:only-of-type {\n",
       "        vertical-align: middle;\n",
       "    }\n",
       "\n",
       "    .dataframe tbody tr th {\n",
       "        vertical-align: top;\n",
       "    }\n",
       "\n",
       "    .dataframe thead th {\n",
       "        text-align: right;\n",
       "    }\n",
       "</style>\n",
       "<table border=\"1\" class=\"dataframe\">\n",
       "  <thead>\n",
       "    <tr style=\"text-align: right;\">\n",
       "      <th></th>\n",
       "      <th>mlo</th>\n",
       "      <th>id_mlo</th>\n",
       "    </tr>\n",
       "  </thead>\n",
       "  <tbody>\n",
       "    <tr>\n",
       "      <th>0</th>\n",
       "      <td>Nucleolus</td>\n",
       "      <td>1</td>\n",
       "    </tr>\n",
       "    <tr>\n",
       "      <th>1</th>\n",
       "      <td>Postsynaptic density</td>\n",
       "      <td>2</td>\n",
       "    </tr>\n",
       "    <tr>\n",
       "      <th>2</th>\n",
       "      <td>Stress granule</td>\n",
       "      <td>3</td>\n",
       "    </tr>\n",
       "    <tr>\n",
       "      <th>3</th>\n",
       "      <td>P-body</td>\n",
       "      <td>4</td>\n",
       "    </tr>\n",
       "    <tr>\n",
       "      <th>4</th>\n",
       "      <td>nan</td>\n",
       "      <td>5</td>\n",
       "    </tr>\n",
       "    <tr>\n",
       "      <th>...</th>\n",
       "      <td>...</td>\n",
       "      <td>...</td>\n",
       "    </tr>\n",
       "    <tr>\n",
       "      <th>93</th>\n",
       "      <td>inclusion body</td>\n",
       "      <td>94</td>\n",
       "    </tr>\n",
       "    <tr>\n",
       "      <th>94</th>\n",
       "      <td>neuron projection</td>\n",
       "      <td>95</td>\n",
       "    </tr>\n",
       "    <tr>\n",
       "      <th>95</th>\n",
       "      <td>MORC3-NBs</td>\n",
       "      <td>96</td>\n",
       "    </tr>\n",
       "    <tr>\n",
       "      <th>96</th>\n",
       "      <td>TIS granule</td>\n",
       "      <td>97</td>\n",
       "    </tr>\n",
       "    <tr>\n",
       "      <th>97</th>\n",
       "      <td>extracellular matrix</td>\n",
       "      <td>98</td>\n",
       "    </tr>\n",
       "  </tbody>\n",
       "</table>\n",
       "<p>98 rows × 2 columns</p>\n",
       "</div>"
      ],
      "text/plain": [
       "                     mlo  id_mlo\n",
       "0              Nucleolus       1\n",
       "1   Postsynaptic density       2\n",
       "2         Stress granule       3\n",
       "3                 P-body       4\n",
       "4                    nan       5\n",
       "..                   ...     ...\n",
       "93        inclusion body      94\n",
       "94     neuron projection      95\n",
       "95             MORC3-NBs      96\n",
       "96           TIS granule      97\n",
       "97  extracellular matrix      98\n",
       "\n",
       "[98 rows x 2 columns]"
      ]
     },
     "execution_count": 74,
     "metadata": {},
     "output_type": "execute_result"
    }
   ],
   "source": [
    "mlo = pd.DataFrame({'mlo': database_entrada.mlo.value_counts().index, 'id_mlo': range(1, len(database_entrada.mlo.unique())+1)})\r\n",
    "mlo"
   ]
  },
  {
   "cell_type": "code",
   "execution_count": 75,
   "metadata": {},
   "outputs": [],
   "source": [
    "mlo.to_csv('db_tables/mlo.tsv', sep='\\t', index= False)"
   ]
  },
  {
   "cell_type": "markdown",
   "metadata": {},
   "source": [
    "## protein_has_mlo  \r\n",
    "cols: id_protein, id_mlo, id_rol, id_database"
   ]
  },
  {
   "cell_type": "code",
   "execution_count": 76,
   "metadata": {},
   "outputs": [
    {
     "data": {
      "text/plain": [
       "4368"
      ]
     },
     "execution_count": 76,
     "metadata": {},
     "output_type": "execute_result"
    }
   ],
   "source": [
    "len(database_entrada.uniprot_acc.unique())"
   ]
  },
  {
   "cell_type": "code",
   "execution_count": 77,
   "metadata": {},
   "outputs": [],
   "source": [
    "protein_has_mlo = database_entrada.copy()"
   ]
  },
  {
   "cell_type": "code",
   "execution_count": 78,
   "metadata": {},
   "outputs": [
    {
     "data": {
      "text/html": [
       "<div>\n",
       "<style scoped>\n",
       "    .dataframe tbody tr th:only-of-type {\n",
       "        vertical-align: middle;\n",
       "    }\n",
       "\n",
       "    .dataframe tbody tr th {\n",
       "        vertical-align: top;\n",
       "    }\n",
       "\n",
       "    .dataframe thead th {\n",
       "        text-align: right;\n",
       "    }\n",
       "</style>\n",
       "<table border=\"1\" class=\"dataframe\">\n",
       "  <thead>\n",
       "    <tr style=\"text-align: right;\">\n",
       "      <th></th>\n",
       "      <th>uniprot_acc</th>\n",
       "      <th>mlo</th>\n",
       "      <th>rol</th>\n",
       "      <th>db</th>\n",
       "    </tr>\n",
       "  </thead>\n",
       "  <tbody>\n",
       "    <tr>\n",
       "      <th>0</th>\n",
       "      <td>P35637</td>\n",
       "      <td>cytoplasmic stress granule</td>\n",
       "      <td>driver</td>\n",
       "      <td>phasepro</td>\n",
       "    </tr>\n",
       "    <tr>\n",
       "      <th>1</th>\n",
       "      <td>P35637</td>\n",
       "      <td>Cytoplasmic ribonucleoprotein granule</td>\n",
       "      <td>driver</td>\n",
       "      <td>phasepro</td>\n",
       "    </tr>\n",
       "    <tr>\n",
       "      <th>2</th>\n",
       "      <td>Q06787</td>\n",
       "      <td>cytoplasmic stress granule</td>\n",
       "      <td>driver</td>\n",
       "      <td>phasepro</td>\n",
       "    </tr>\n",
       "    <tr>\n",
       "      <th>3</th>\n",
       "      <td>Q06787</td>\n",
       "      <td>Cytoplasmic ribonucleoprotein granule</td>\n",
       "      <td>driver</td>\n",
       "      <td>phasepro</td>\n",
       "    </tr>\n",
       "    <tr>\n",
       "      <th>4</th>\n",
       "      <td>Q06787</td>\n",
       "      <td>synaptosome</td>\n",
       "      <td>driver</td>\n",
       "      <td>phasepro</td>\n",
       "    </tr>\n",
       "  </tbody>\n",
       "</table>\n",
       "</div>"
      ],
      "text/plain": [
       "  uniprot_acc                                    mlo     rol        db\n",
       "0      P35637             cytoplasmic stress granule  driver  phasepro\n",
       "1      P35637  Cytoplasmic ribonucleoprotein granule  driver  phasepro\n",
       "2      Q06787             cytoplasmic stress granule  driver  phasepro\n",
       "3      Q06787  Cytoplasmic ribonucleoprotein granule  driver  phasepro\n",
       "4      Q06787                            synaptosome  driver  phasepro"
      ]
     },
     "execution_count": 78,
     "metadata": {},
     "output_type": "execute_result"
    }
   ],
   "source": [
    "protein_has_mlo.head()"
   ]
  },
  {
   "cell_type": "code",
   "execution_count": 79,
   "metadata": {},
   "outputs": [],
   "source": [
    "# Add id_protein\r\n",
    "protein_has_mlo = protein_has_mlo.merge(id_protein)\r\n",
    "# Add id_mlo\r\n",
    "protein_has_mlo = protein_has_mlo.merge(mlo)\r\n",
    "# Add id_rol and id_database\r\n",
    "protein_has_mlo = protein_has_mlo.merge(rol)\r\n",
    "protein_has_mlo = protein_has_mlo.rename(columns={'db': 'database'}).merge(database).sort_values('id_protein')"
   ]
  },
  {
   "cell_type": "code",
   "execution_count": 80,
   "metadata": {},
   "outputs": [
    {
     "data": {
      "text/html": [
       "<div>\n",
       "<style scoped>\n",
       "    .dataframe tbody tr th:only-of-type {\n",
       "        vertical-align: middle;\n",
       "    }\n",
       "\n",
       "    .dataframe tbody tr th {\n",
       "        vertical-align: top;\n",
       "    }\n",
       "\n",
       "    .dataframe thead th {\n",
       "        text-align: right;\n",
       "    }\n",
       "</style>\n",
       "<table border=\"1\" class=\"dataframe\">\n",
       "  <thead>\n",
       "    <tr style=\"text-align: right;\">\n",
       "      <th></th>\n",
       "      <th>id_protein</th>\n",
       "      <th>id_mlo</th>\n",
       "      <th>id_rol</th>\n",
       "      <th>id_database</th>\n",
       "    </tr>\n",
       "  </thead>\n",
       "  <tbody>\n",
       "    <tr>\n",
       "      <th>8187</th>\n",
       "      <td>1</td>\n",
       "      <td>5</td>\n",
       "      <td>3</td>\n",
       "      <td>2</td>\n",
       "    </tr>\n",
       "    <tr>\n",
       "      <th>567</th>\n",
       "      <td>2</td>\n",
       "      <td>3</td>\n",
       "      <td>3</td>\n",
       "      <td>1</td>\n",
       "    </tr>\n",
       "    <tr>\n",
       "      <th>1718</th>\n",
       "      <td>3</td>\n",
       "      <td>4</td>\n",
       "      <td>1</td>\n",
       "      <td>1</td>\n",
       "    </tr>\n",
       "    <tr>\n",
       "      <th>5183</th>\n",
       "      <td>3</td>\n",
       "      <td>4</td>\n",
       "      <td>2</td>\n",
       "      <td>3</td>\n",
       "    </tr>\n",
       "    <tr>\n",
       "      <th>1912</th>\n",
       "      <td>4</td>\n",
       "      <td>4</td>\n",
       "      <td>1</td>\n",
       "      <td>1</td>\n",
       "    </tr>\n",
       "    <tr>\n",
       "      <th>...</th>\n",
       "      <td>...</td>\n",
       "      <td>...</td>\n",
       "      <td>...</td>\n",
       "      <td>...</td>\n",
       "    </tr>\n",
       "    <tr>\n",
       "      <th>1946</th>\n",
       "      <td>4366</td>\n",
       "      <td>4</td>\n",
       "      <td>1</td>\n",
       "      <td>1</td>\n",
       "    </tr>\n",
       "    <tr>\n",
       "      <th>5083</th>\n",
       "      <td>4367</td>\n",
       "      <td>19</td>\n",
       "      <td>1</td>\n",
       "      <td>1</td>\n",
       "    </tr>\n",
       "    <tr>\n",
       "      <th>2873</th>\n",
       "      <td>4368</td>\n",
       "      <td>1</td>\n",
       "      <td>1</td>\n",
       "      <td>1</td>\n",
       "    </tr>\n",
       "    <tr>\n",
       "      <th>1935</th>\n",
       "      <td>4368</td>\n",
       "      <td>4</td>\n",
       "      <td>1</td>\n",
       "      <td>1</td>\n",
       "    </tr>\n",
       "    <tr>\n",
       "      <th>1042</th>\n",
       "      <td>4368</td>\n",
       "      <td>10</td>\n",
       "      <td>1</td>\n",
       "      <td>1</td>\n",
       "    </tr>\n",
       "  </tbody>\n",
       "</table>\n",
       "<p>8188 rows × 4 columns</p>\n",
       "</div>"
      ],
      "text/plain": [
       "      id_protein  id_mlo  id_rol  id_database\n",
       "8187           1       5       3            2\n",
       "567            2       3       3            1\n",
       "1718           3       4       1            1\n",
       "5183           3       4       2            3\n",
       "1912           4       4       1            1\n",
       "...          ...     ...     ...          ...\n",
       "1946        4366       4       1            1\n",
       "5083        4367      19       1            1\n",
       "2873        4368       1       1            1\n",
       "1935        4368       4       1            1\n",
       "1042        4368      10       1            1\n",
       "\n",
       "[8188 rows x 4 columns]"
      ]
     },
     "execution_count": 80,
     "metadata": {},
     "output_type": "execute_result"
    }
   ],
   "source": [
    "protein_has_mlo.drop(columns=['uniprot_acc', 'mlo', 'rol', 'database'], inplace= True)\r\n",
    "protein_has_mlo"
   ]
  },
  {
   "cell_type": "code",
   "execution_count": 83,
   "metadata": {},
   "outputs": [
    {
     "data": {
      "text/html": [
       "<div>\n",
       "<style scoped>\n",
       "    .dataframe tbody tr th:only-of-type {\n",
       "        vertical-align: middle;\n",
       "    }\n",
       "\n",
       "    .dataframe tbody tr th {\n",
       "        vertical-align: top;\n",
       "    }\n",
       "\n",
       "    .dataframe thead th {\n",
       "        text-align: right;\n",
       "    }\n",
       "</style>\n",
       "<table border=\"1\" class=\"dataframe\">\n",
       "  <thead>\n",
       "    <tr style=\"text-align: right;\">\n",
       "      <th></th>\n",
       "      <th>id_protein</th>\n",
       "      <th>id_mlo</th>\n",
       "      <th>id_rol</th>\n",
       "      <th>id_database</th>\n",
       "    </tr>\n",
       "  </thead>\n",
       "  <tbody>\n",
       "    <tr>\n",
       "      <th>5656</th>\n",
       "      <td>1183</td>\n",
       "      <td>3</td>\n",
       "      <td>2</td>\n",
       "      <td>4</td>\n",
       "    </tr>\n",
       "    <tr>\n",
       "      <th>5831</th>\n",
       "      <td>2059</td>\n",
       "      <td>18</td>\n",
       "      <td>2</td>\n",
       "      <td>4</td>\n",
       "    </tr>\n",
       "  </tbody>\n",
       "</table>\n",
       "</div>"
      ],
      "text/plain": [
       "      id_protein  id_mlo  id_rol  id_database\n",
       "5656        1183       3       2            4\n",
       "5831        2059      18       2            4"
      ]
     },
     "execution_count": 83,
     "metadata": {},
     "output_type": "execute_result"
    }
   ],
   "source": [
    "# protein_has_mlo[protein_has_mlo.duplicated()] # Ver"
   ]
  },
  {
   "cell_type": "code",
   "execution_count": 85,
   "metadata": {},
   "outputs": [],
   "source": [
    "protein_has_mlo.to_csv('db_tables/protein_has_mlo.tsv', sep='\\t', index= False)"
   ]
  },
  {
   "cell_type": "code",
   "execution_count": 131,
   "metadata": {},
   "outputs": [],
   "source": [
    "#aa = entrada_dbs[['uniprot_acc', 'rol']].drop_duplicates().groupby('uniprot_acc').size().reset_index(name='counts')"
   ]
  },
  {
   "cell_type": "code",
   "execution_count": 134,
   "metadata": {},
   "outputs": [
    {
     "data": {
      "text/plain": [
       "[1, 2, 3, 4]"
      ]
     },
     "execution_count": 134,
     "metadata": {},
     "output_type": "execute_result"
    }
   ],
   "source": [
    "#aa['counts'].unique().tolist()"
   ]
  },
  {
   "cell_type": "code",
   "execution_count": 135,
   "metadata": {},
   "outputs": [
    {
     "data": {
      "text/html": [
       "<div>\n",
       "<style scoped>\n",
       "    .dataframe tbody tr th:only-of-type {\n",
       "        vertical-align: middle;\n",
       "    }\n",
       "\n",
       "    .dataframe tbody tr th {\n",
       "        vertical-align: top;\n",
       "    }\n",
       "\n",
       "    .dataframe thead th {\n",
       "        text-align: right;\n",
       "    }\n",
       "</style>\n",
       "<table border=\"1\" class=\"dataframe\">\n",
       "  <thead>\n",
       "    <tr style=\"text-align: right;\">\n",
       "      <th></th>\n",
       "      <th>uniprot_acc</th>\n",
       "      <th>counts</th>\n",
       "    </tr>\n",
       "  </thead>\n",
       "  <tbody>\n",
       "    <tr>\n",
       "      <th>733</th>\n",
       "      <td>P06748</td>\n",
       "      <td>4</td>\n",
       "    </tr>\n",
       "    <tr>\n",
       "      <th>1160</th>\n",
       "      <td>P29590</td>\n",
       "      <td>4</td>\n",
       "    </tr>\n",
       "    <tr>\n",
       "      <th>1196</th>\n",
       "      <td>P31483</td>\n",
       "      <td>4</td>\n",
       "    </tr>\n",
       "    <tr>\n",
       "      <th>1286</th>\n",
       "      <td>P38432</td>\n",
       "      <td>4</td>\n",
       "    </tr>\n",
       "    <tr>\n",
       "      <th>1353</th>\n",
       "      <td>P43243</td>\n",
       "      <td>4</td>\n",
       "    </tr>\n",
       "  </tbody>\n",
       "</table>\n",
       "</div>"
      ],
      "text/plain": [
       "     uniprot_acc  counts\n",
       "733       P06748       4\n",
       "1160      P29590       4\n",
       "1196      P31483       4\n",
       "1286      P38432       4\n",
       "1353      P43243       4"
      ]
     },
     "execution_count": 135,
     "metadata": {},
     "output_type": "execute_result"
    }
   ],
   "source": [
    "#aa[aa.counts == 4].head()"
   ]
  },
  {
   "cell_type": "code",
   "execution_count": 139,
   "metadata": {},
   "outputs": [
    {
     "data": {
      "text/html": [
       "<div>\n",
       "<style scoped>\n",
       "    .dataframe tbody tr th:only-of-type {\n",
       "        vertical-align: middle;\n",
       "    }\n",
       "\n",
       "    .dataframe tbody tr th {\n",
       "        vertical-align: top;\n",
       "    }\n",
       "\n",
       "    .dataframe thead th {\n",
       "        text-align: right;\n",
       "    }\n",
       "</style>\n",
       "<table border=\"1\" class=\"dataframe\">\n",
       "  <thead>\n",
       "    <tr style=\"text-align: right;\">\n",
       "      <th></th>\n",
       "      <th>uniprot_acc</th>\n",
       "      <th>organism</th>\n",
       "      <th>mlo</th>\n",
       "      <th>rol</th>\n",
       "      <th>db</th>\n",
       "    </tr>\n",
       "  </thead>\n",
       "  <tbody>\n",
       "    <tr>\n",
       "      <th>32</th>\n",
       "      <td>P06748</td>\n",
       "      <td>Homo sapiens</td>\n",
       "      <td>Nucleolus</td>\n",
       "      <td>driver</td>\n",
       "      <td>phasepro</td>\n",
       "    </tr>\n",
       "    <tr>\n",
       "      <th>33</th>\n",
       "      <td>P06748</td>\n",
       "      <td>Homo sapiens</td>\n",
       "      <td>granular component</td>\n",
       "      <td>driver</td>\n",
       "      <td>phasepro</td>\n",
       "    </tr>\n",
       "    <tr>\n",
       "      <th>177</th>\n",
       "      <td>P06748</td>\n",
       "      <td>Homo sapiens</td>\n",
       "      <td>Nucleolus</td>\n",
       "      <td>component</td>\n",
       "      <td>phasepdb_rev</td>\n",
       "    </tr>\n",
       "    <tr>\n",
       "      <th>401</th>\n",
       "      <td>P06748</td>\n",
       "      <td>Homo sapiens</td>\n",
       "      <td>null_phasepdb_rev</td>\n",
       "      <td>component</td>\n",
       "      <td>phasepdb_rev</td>\n",
       "    </tr>\n",
       "    <tr>\n",
       "      <th>1384</th>\n",
       "      <td>P06748</td>\n",
       "      <td>Homo sapiens</td>\n",
       "      <td>Nucleolus</td>\n",
       "      <td>client</td>\n",
       "      <td>phasepdb_ht</td>\n",
       "    </tr>\n",
       "    <tr>\n",
       "      <th>1696</th>\n",
       "      <td>P06748</td>\n",
       "      <td>Homo sapiens</td>\n",
       "      <td>Nucleolus</td>\n",
       "      <td>client</td>\n",
       "      <td>phasepdb_ht</td>\n",
       "    </tr>\n",
       "    <tr>\n",
       "      <th>2398</th>\n",
       "      <td>P06748</td>\n",
       "      <td>Homo sapiens</td>\n",
       "      <td>Stress granule</td>\n",
       "      <td>client</td>\n",
       "      <td>phasepdb_ht</td>\n",
       "    </tr>\n",
       "    <tr>\n",
       "      <th>3076</th>\n",
       "      <td>P06748</td>\n",
       "      <td>Homo sapiens</td>\n",
       "      <td>null_phasepdb_ht</td>\n",
       "      <td>regulator</td>\n",
       "      <td>phasepdb_ht</td>\n",
       "    </tr>\n",
       "    <tr>\n",
       "      <th>3386</th>\n",
       "      <td>P06748</td>\n",
       "      <td>Homo sapiens</td>\n",
       "      <td>Droplet</td>\n",
       "      <td>driver</td>\n",
       "      <td>drllps</td>\n",
       "    </tr>\n",
       "    <tr>\n",
       "      <th>3387</th>\n",
       "      <td>P06748</td>\n",
       "      <td>Homo sapiens</td>\n",
       "      <td>Nucleolus</td>\n",
       "      <td>driver</td>\n",
       "      <td>drllps</td>\n",
       "    </tr>\n",
       "    <tr>\n",
       "      <th>3388</th>\n",
       "      <td>P06748</td>\n",
       "      <td>Homo sapiens</td>\n",
       "      <td>Centrosome/Spindle pole body</td>\n",
       "      <td>driver</td>\n",
       "      <td>drllps</td>\n",
       "    </tr>\n",
       "    <tr>\n",
       "      <th>3389</th>\n",
       "      <td>P06748</td>\n",
       "      <td>Homo sapiens</td>\n",
       "      <td>Stress granule</td>\n",
       "      <td>driver</td>\n",
       "      <td>drllps</td>\n",
       "    </tr>\n",
       "  </tbody>\n",
       "</table>\n",
       "</div>"
      ],
      "text/plain": [
       "     uniprot_acc      organism                           mlo        rol  \\\n",
       "32        P06748  Homo sapiens                     Nucleolus     driver   \n",
       "33        P06748  Homo sapiens            granular component     driver   \n",
       "177       P06748  Homo sapiens                     Nucleolus  component   \n",
       "401       P06748  Homo sapiens             null_phasepdb_rev  component   \n",
       "1384      P06748  Homo sapiens                     Nucleolus     client   \n",
       "1696      P06748  Homo sapiens                     Nucleolus     client   \n",
       "2398      P06748  Homo sapiens                Stress granule     client   \n",
       "3076      P06748  Homo sapiens              null_phasepdb_ht  regulator   \n",
       "3386      P06748  Homo sapiens                       Droplet     driver   \n",
       "3387      P06748  Homo sapiens                     Nucleolus     driver   \n",
       "3388      P06748  Homo sapiens  Centrosome/Spindle pole body     driver   \n",
       "3389      P06748  Homo sapiens                Stress granule     driver   \n",
       "\n",
       "                db  \n",
       "32        phasepro  \n",
       "33        phasepro  \n",
       "177   phasepdb_rev  \n",
       "401   phasepdb_rev  \n",
       "1384   phasepdb_ht  \n",
       "1696   phasepdb_ht  \n",
       "2398   phasepdb_ht  \n",
       "3076   phasepdb_ht  \n",
       "3386        drllps  \n",
       "3387        drllps  \n",
       "3388        drllps  \n",
       "3389        drllps  "
      ]
     },
     "execution_count": 139,
     "metadata": {},
     "output_type": "execute_result"
    }
   ],
   "source": [
    "#entrada_dbs[entrada_dbs.uniprot_acc == 'P06748'] # es el rol en la db"
   ]
  }
 ],
 "metadata": {
  "interpreter": {
   "hash": "9164a3399a70d355c381b62813f30880ed90ca5a6f321bf0d85375640bda7ee5"
  },
  "kernelspec": {
   "display_name": "Python 3.7.9 64-bit",
   "name": "python3"
  },
  "language_info": {
   "codemirror_mode": {
    "name": "ipython",
    "version": 3
   },
   "file_extension": ".py",
   "mimetype": "text/x-python",
   "name": "python",
   "nbconvert_exporter": "python",
   "pygments_lexer": "ipython3",
   "version": "3.7.9"
  },
  "metadata": {
   "interpreter": {
    "hash": "1f8d80d535cfd832283e4e3a1095d2ce45fe6627336684f2622a1965babb2f1c"
   }
  },
  "orig_nbformat": 2
 },
 "nbformat": 4,
 "nbformat_minor": 2
}