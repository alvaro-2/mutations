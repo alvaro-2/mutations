{
 "cells": [
  {
   "cell_type": "code",
   "execution_count": 348,
   "metadata": {},
   "outputs": [],
   "source": [
    "#%pip install cython\r\n",
    "#%pip install pyranges"
   ]
  },
  {
   "cell_type": "code",
   "execution_count": 349,
   "metadata": {},
   "outputs": [],
   "source": [
    "import pandas as pd\r\n",
    "import numpy as np\r\n",
    "import pyranges as pr"
   ]
  },
  {
   "cell_type": "code",
   "execution_count": 350,
   "metadata": {},
   "outputs": [
    {
     "name": "stdout",
     "output_type": "stream",
     "text": [
      "<class 'pandas.core.frame.DataFrame'>\n",
      "Int64Index: 8182 entries, 0 to 8381\n",
      "Data columns (total 4 columns):\n",
      " #   Column       Non-Null Count  Dtype \n",
      "---  ------       --------------  ----- \n",
      " 0   uniprot_acc  8182 non-null   object\n",
      " 1   mlo          7361 non-null   object\n",
      " 2   rol          8182 non-null   object\n",
      " 3   db           8182 non-null   object\n",
      "dtypes: object(4)\n",
      "memory usage: 319.6+ KB\n"
     ]
    }
   ],
   "source": [
    "# Proteins from each LLPS database with their roles, mlos and dataset\r\n",
    "database_entrada = pd.read_csv('database_entrada.csv')\r\n",
    "database_entrada.drop(columns='organism', inplace= True)\r\n",
    "database_entrada.drop_duplicates(inplace = True)\r\n",
    "database_entrada.rename(columns= {'uniprot': 'uniprot_acc'}, inplace= True)\r\n",
    "database_entrada.info()"
   ]
  },
  {
   "cell_type": "markdown",
   "metadata": {},
   "source": [
    "# Load proteins, mutations, domains and regions tables"
   ]
  },
  {
   "cell_type": "markdown",
   "metadata": {},
   "source": [
    "## Load the others tables"
   ]
  },
  {
   "cell_type": "code",
   "execution_count": 351,
   "metadata": {},
   "outputs": [],
   "source": [
    "# protein table for our db. Same above but one protein by row\r\n",
    "protein = pd.read_csv('db_tables/protein.tsv', sep='\\t')"
   ]
  },
  {
   "cell_type": "code",
   "execution_count": 352,
   "metadata": {},
   "outputs": [],
   "source": [
    "# DataFrame with unique id_protein col\r\n",
    "id_protein = protein[['id_protein', 'uniprot_acc']].copy()"
   ]
  },
  {
   "cell_type": "code",
   "execution_count": 353,
   "metadata": {},
   "outputs": [
    {
     "name": "stderr",
     "output_type": "stream",
     "text": [
      "C:\\Users\\User\\AppData\\Roaming\\Python\\Python37\\site-packages\\IPython\\core\\interactiveshell.py:3170: DtypeWarning: Columns (1) have mixed types.Specify dtype option on import or set low_memory=False.\n",
      "  interactivity=interactivity, compiler=compiler, result=result)\n"
     ]
    }
   ],
   "source": [
    "# only clinvar mutations at the moment\r\n",
    "mutations = pd.read_csv('../datasets/mutations.tsv.gz', sep='\\t', compression='gzip') # comes from parse_clinvar.py"
   ]
  },
  {
   "cell_type": "code",
   "execution_count": 354,
   "metadata": {},
   "outputs": [],
   "source": [
    "disorder = pd.read_csv('disorder_lite.csv').rename(columns={'uniprot': 'uniprot_acc'})\r\n",
    "low_complexity = pd.read_csv('low_complexity.csv').rename(columns={'uniprot': 'uniprot_acc'})"
   ]
  },
  {
   "cell_type": "code",
   "execution_count": 355,
   "metadata": {},
   "outputs": [],
   "source": [
    "pfam = pd.read_csv('pfam.csv').rename(columns={'uniprot': 'uniprot_acc', 'tipo': 'pfam_name'})\r\n",
    "pfam_map = pd.read_csv('pfam_map.csv')"
   ]
  },
  {
   "cell_type": "code",
   "execution_count": 356,
   "metadata": {},
   "outputs": [
    {
     "data": {
      "text/plain": [
       "False"
      ]
     },
     "execution_count": 356,
     "metadata": {},
     "output_type": "execute_result"
    }
   ],
   "source": [
    "pfam_map.duplicated().any()"
   ]
  },
  {
   "cell_type": "code",
   "execution_count": 357,
   "metadata": {},
   "outputs": [],
   "source": [
    "pfam = pfam.merge(pfam_map)"
   ]
  },
  {
   "cell_type": "code",
   "execution_count": 358,
   "metadata": {},
   "outputs": [
    {
     "data": {
      "text/plain": [
       "False"
      ]
     },
     "execution_count": 358,
     "metadata": {},
     "output_type": "execute_result"
    }
   ],
   "source": [
    "pfam.duplicated().any()"
   ]
  },
  {
   "cell_type": "code",
   "execution_count": 359,
   "metadata": {},
   "outputs": [],
   "source": [
    "# Add and unique integer ID fow low_complexity and disorder\n",
    "low_complexity['id_lc'] = range(1, len(low_complexity)+1)\n",
    "disorder['id_idr'] = range(1, len(disorder)+1)"
   ]
  },
  {
   "cell_type": "code",
   "execution_count": 360,
   "metadata": {},
   "outputs": [
    {
     "name": "stderr",
     "output_type": "stream",
     "text": [
      "C:\\Users\\User\\AppData\\Roaming\\Python\\Python37\\site-packages\\IPython\\core\\interactiveshell.py:3170: DtypeWarning: Columns (3) have mixed types.Specify dtype option on import or set low_memory=False.\n",
      "  interactivity=interactivity, compiler=compiler, result=result)\n"
     ]
    }
   ],
   "source": [
    "# PMIDs\r\n",
    "pmid = pd.read_csv('var_citations.txt', sep='\\t')"
   ]
  },
  {
   "cell_type": "markdown",
   "metadata": {},
   "source": [
    "---  \r\n",
    "# consequence table"
   ]
  },
  {
   "cell_type": "code",
   "execution_count": 361,
   "metadata": {},
   "outputs": [
    {
     "data": {
      "text/plain": [
       "missense       210190\n",
       "frameshit       28230\n",
       "nonsense        16365\n",
       "deletion         5414\n",
       "insertion        1868\n",
       "duplication      1384\n",
       "delins           1104\n",
       "Name: consequence, dtype: int64"
      ]
     },
     "execution_count": 361,
     "metadata": {},
     "output_type": "execute_result"
    }
   ],
   "source": [
    "cf = mutations.consequence.value_counts()\n",
    "cf"
   ]
  },
  {
   "cell_type": "code",
   "execution_count": 362,
   "metadata": {},
   "outputs": [
    {
     "data": {
      "text/html": [
       "<div>\n",
       "<style scoped>\n",
       "    .dataframe tbody tr th:only-of-type {\n",
       "        vertical-align: middle;\n",
       "    }\n",
       "\n",
       "    .dataframe tbody tr th {\n",
       "        vertical-align: top;\n",
       "    }\n",
       "\n",
       "    .dataframe thead th {\n",
       "        text-align: right;\n",
       "    }\n",
       "</style>\n",
       "<table border=\"1\" class=\"dataframe\">\n",
       "  <thead>\n",
       "    <tr style=\"text-align: right;\">\n",
       "      <th></th>\n",
       "      <th>id_consequence</th>\n",
       "      <th>consequence</th>\n",
       "    </tr>\n",
       "  </thead>\n",
       "  <tbody>\n",
       "    <tr>\n",
       "      <th>0</th>\n",
       "      <td>1</td>\n",
       "      <td>missense</td>\n",
       "    </tr>\n",
       "    <tr>\n",
       "      <th>1</th>\n",
       "      <td>2</td>\n",
       "      <td>frameshit</td>\n",
       "    </tr>\n",
       "    <tr>\n",
       "      <th>2</th>\n",
       "      <td>3</td>\n",
       "      <td>nonsense</td>\n",
       "    </tr>\n",
       "    <tr>\n",
       "      <th>3</th>\n",
       "      <td>4</td>\n",
       "      <td>deletion</td>\n",
       "    </tr>\n",
       "    <tr>\n",
       "      <th>4</th>\n",
       "      <td>5</td>\n",
       "      <td>insertion</td>\n",
       "    </tr>\n",
       "    <tr>\n",
       "      <th>5</th>\n",
       "      <td>6</td>\n",
       "      <td>duplication</td>\n",
       "    </tr>\n",
       "    <tr>\n",
       "      <th>6</th>\n",
       "      <td>7</td>\n",
       "      <td>delins</td>\n",
       "    </tr>\n",
       "  </tbody>\n",
       "</table>\n",
       "</div>"
      ],
      "text/plain": [
       "   id_consequence  consequence\n",
       "0               1     missense\n",
       "1               2    frameshit\n",
       "2               3     nonsense\n",
       "3               4     deletion\n",
       "4               5    insertion\n",
       "5               6  duplication\n",
       "6               7       delins"
      ]
     },
     "execution_count": 362,
     "metadata": {},
     "output_type": "execute_result"
    }
   ],
   "source": [
    "consequence = pd.DataFrame({'id_consequence': range(1, len(cf)+1), 'consequence': cf.index})\r\n",
    "consequence"
   ]
  },
  {
   "cell_type": "code",
   "execution_count": 363,
   "metadata": {},
   "outputs": [],
   "source": [
    "consequence.to_csv('db_tables/consequence.tsv', sep='\\t', index = False)"
   ]
  },
  {
   "cell_type": "markdown",
   "metadata": {},
   "source": [
    "---  \r\n",
    "# mutation table  \r\n",
    "cols: *id_mutation, snp_id, chromosome, start_genomic, end_genomic, start_aa, end_aa, from_aa, to_aa, id_source, id_protein, nt_change*"
   ]
  },
  {
   "cell_type": "code",
   "execution_count": 364,
   "metadata": {},
   "outputs": [
    {
     "data": {
      "text/plain": [
       "Index(['snpid', 'chromosome', 'start', 'stop', 'type', 'cambio', 'cambio_nt',\n",
       "       'id_protein', 'uniprot_acc', 'nuccore_id', 'start_aa', 'end_aa', 'from',\n",
       "       'to', 'consequence', 'id_mutation'],\n",
       "      dtype='object')"
      ]
     },
     "execution_count": 364,
     "metadata": {},
     "output_type": "execute_result"
    }
   ],
   "source": [
    "mutations.columns"
   ]
  },
  {
   "cell_type": "code",
   "execution_count": 365,
   "metadata": {},
   "outputs": [],
   "source": [
    "# Subset by cols to keep for mutation db table\r\n",
    "mutation = mutations[['id_protein', 'id_mutation', 'snpid', 'chromosome', 'start', 'stop', 'start_aa', 'end_aa', 'from', 'to', 'consequence', 'cambio_nt']].copy()\r\n",
    "mutation.rename(columns={'snpid': 'snp_id', 'start': 'start_genomic', 'stop': 'end_genomic', 'from': 'from_aa', 'to': 'to_aa', 'cambio_nt': 'nt_change'}, inplace= True)"
   ]
  },
  {
   "cell_type": "code",
   "execution_count": 366,
   "metadata": {},
   "outputs": [
    {
     "data": {
      "text/plain": [
       "Index(['id_protein', 'id_mutation', 'snp_id', 'chromosome', 'start_genomic',\n",
       "       'end_genomic', 'start_aa', 'end_aa', 'from_aa', 'to_aa', 'consequence',\n",
       "       'nt_change'],\n",
       "      dtype='object')"
      ]
     },
     "execution_count": 366,
     "metadata": {},
     "output_type": "execute_result"
    }
   ],
   "source": [
    "mutation.columns"
   ]
  },
  {
   "cell_type": "code",
   "execution_count": 367,
   "metadata": {},
   "outputs": [
    {
     "name": "stdout",
     "output_type": "stream",
     "text": [
      "<class 'pandas.core.frame.DataFrame'>\n",
      "RangeIndex: 264555 entries, 0 to 264554\n",
      "Data columns (total 12 columns):\n",
      " #   Column         Non-Null Count   Dtype  \n",
      "---  ------         --------------   -----  \n",
      " 0   id_protein     264555 non-null  int64  \n",
      " 1   id_mutation    264555 non-null  int64  \n",
      " 2   snp_id         209437 non-null  float64\n",
      " 3   chromosome     264555 non-null  object \n",
      " 4   start_genomic  264555 non-null  int64  \n",
      " 5   end_genomic    264555 non-null  int64  \n",
      " 6   start_aa       264555 non-null  int64  \n",
      " 7   end_aa         264555 non-null  int64  \n",
      " 8   from_aa        264545 non-null  object \n",
      " 9   to_aa          229506 non-null  object \n",
      " 10  consequence    264555 non-null  object \n",
      " 11  nt_change      264555 non-null  object \n",
      "dtypes: float64(1), int64(6), object(5)\n",
      "memory usage: 24.2+ MB\n"
     ]
    }
   ],
   "source": [
    "mutation.info()"
   ]
  },
  {
   "cell_type": "code",
   "execution_count": 368,
   "metadata": {},
   "outputs": [],
   "source": [
    "# Add IDs from consequence\r\n",
    "mutation = mutation.merge(consequence)\r\n",
    "mutation.drop(columns='consequence', inplace= True)"
   ]
  },
  {
   "cell_type": "code",
   "execution_count": 369,
   "metadata": {},
   "outputs": [],
   "source": [
    "def format_snp(df, column):\r\n",
    "    '''\r\n",
    "    format an int snps column in a DataFrame containing -1 values.\r\n",
    "    Returns: the snp column in str format ('rs1580653772' or 'nan')\r\n",
    "    '''\r\n",
    "    #a = df.column.replace(-1, 'nan')\r\n",
    "    a = df[column]\r\n",
    "    #a = a.apply(str)\r\n",
    "    a = a.map(lambda x: 'rs' + str(int(x)) if not np.isnan(x) else x)\r\n",
    "    df[column] = a"
   ]
  },
  {
   "cell_type": "code",
   "execution_count": 370,
   "metadata": {},
   "outputs": [],
   "source": [
    "# Format snp_id col\r\n",
    "format_snp(mutation, 'snp_id')"
   ]
  },
  {
   "cell_type": "code",
   "execution_count": 371,
   "metadata": {},
   "outputs": [
    {
     "data": {
      "text/html": [
       "<div>\n",
       "<style scoped>\n",
       "    .dataframe tbody tr th:only-of-type {\n",
       "        vertical-align: middle;\n",
       "    }\n",
       "\n",
       "    .dataframe tbody tr th {\n",
       "        vertical-align: top;\n",
       "    }\n",
       "\n",
       "    .dataframe thead th {\n",
       "        text-align: right;\n",
       "    }\n",
       "</style>\n",
       "<table border=\"1\" class=\"dataframe\">\n",
       "  <thead>\n",
       "    <tr style=\"text-align: right;\">\n",
       "      <th></th>\n",
       "      <th>id_protein</th>\n",
       "      <th>id_mutation</th>\n",
       "      <th>snp_id</th>\n",
       "      <th>chromosome</th>\n",
       "      <th>start_genomic</th>\n",
       "      <th>end_genomic</th>\n",
       "      <th>start_aa</th>\n",
       "      <th>end_aa</th>\n",
       "      <th>from_aa</th>\n",
       "      <th>to_aa</th>\n",
       "      <th>nt_change</th>\n",
       "      <th>id_consequence</th>\n",
       "    </tr>\n",
       "  </thead>\n",
       "  <tbody>\n",
       "    <tr>\n",
       "      <th>0</th>\n",
       "      <td>2290</td>\n",
       "      <td>1</td>\n",
       "      <td>rs558080743</td>\n",
       "      <td>2</td>\n",
       "      <td>61826480</td>\n",
       "      <td>61826482</td>\n",
       "      <td>709</td>\n",
       "      <td>709</td>\n",
       "      <td>E</td>\n",
       "      <td>NaN</td>\n",
       "      <td>2121_2123AGA[1]</td>\n",
       "      <td>4</td>\n",
       "    </tr>\n",
       "    <tr>\n",
       "      <th>1</th>\n",
       "      <td>2290</td>\n",
       "      <td>2</td>\n",
       "      <td>NaN</td>\n",
       "      <td>2</td>\n",
       "      <td>61853886</td>\n",
       "      <td>61853888</td>\n",
       "      <td>52</td>\n",
       "      <td>52</td>\n",
       "      <td>E</td>\n",
       "      <td>NaN</td>\n",
       "      <td>148GAG[2]</td>\n",
       "      <td>4</td>\n",
       "    </tr>\n",
       "    <tr>\n",
       "      <th>2</th>\n",
       "      <td>233</td>\n",
       "      <td>3</td>\n",
       "      <td>rs794727435</td>\n",
       "      <td>19</td>\n",
       "      <td>36102785</td>\n",
       "      <td>36102787</td>\n",
       "      <td>1091</td>\n",
       "      <td>1091</td>\n",
       "      <td>H</td>\n",
       "      <td>NaN</td>\n",
       "      <td>3271_3273del</td>\n",
       "      <td>4</td>\n",
       "    </tr>\n",
       "    <tr>\n",
       "      <th>3</th>\n",
       "      <td>233</td>\n",
       "      <td>4</td>\n",
       "      <td>rs1064797236</td>\n",
       "      <td>19</td>\n",
       "      <td>36067889</td>\n",
       "      <td>36067891</td>\n",
       "      <td>255</td>\n",
       "      <td>255</td>\n",
       "      <td>F</td>\n",
       "      <td>NaN</td>\n",
       "      <td>761_763TCT[1]</td>\n",
       "      <td>4</td>\n",
       "    </tr>\n",
       "    <tr>\n",
       "      <th>4</th>\n",
       "      <td>233</td>\n",
       "      <td>5</td>\n",
       "      <td>rs764610550</td>\n",
       "      <td>19</td>\n",
       "      <td>36090471</td>\n",
       "      <td>36090473</td>\n",
       "      <td>664</td>\n",
       "      <td>664</td>\n",
       "      <td>K</td>\n",
       "      <td>NaN</td>\n",
       "      <td>1987_1989AAG[1]</td>\n",
       "      <td>4</td>\n",
       "    </tr>\n",
       "  </tbody>\n",
       "</table>\n",
       "</div>"
      ],
      "text/plain": [
       "   id_protein  id_mutation        snp_id chromosome  start_genomic  \\\n",
       "0        2290            1   rs558080743          2       61826480   \n",
       "1        2290            2           NaN          2       61853886   \n",
       "2         233            3   rs794727435         19       36102785   \n",
       "3         233            4  rs1064797236         19       36067889   \n",
       "4         233            5   rs764610550         19       36090471   \n",
       "\n",
       "   end_genomic  start_aa  end_aa from_aa to_aa         nt_change  \\\n",
       "0     61826482       709     709       E   NaN  2121_2123AGA[1]    \n",
       "1     61853888        52      52       E   NaN        148GAG[2]    \n",
       "2     36102787      1091    1091       H   NaN     3271_3273del    \n",
       "3     36067891       255     255       F   NaN    761_763TCT[1]    \n",
       "4     36090473       664     664       K   NaN  1987_1989AAG[1]    \n",
       "\n",
       "   id_consequence  \n",
       "0               4  \n",
       "1               4  \n",
       "2               4  \n",
       "3               4  \n",
       "4               4  "
      ]
     },
     "execution_count": 371,
     "metadata": {},
     "output_type": "execute_result"
    }
   ],
   "source": [
    "mutation.head()"
   ]
  },
  {
   "cell_type": "code",
   "execution_count": 372,
   "metadata": {},
   "outputs": [
    {
     "data": {
      "text/html": [
       "<div>\n",
       "<style scoped>\n",
       "    .dataframe tbody tr th:only-of-type {\n",
       "        vertical-align: middle;\n",
       "    }\n",
       "\n",
       "    .dataframe tbody tr th {\n",
       "        vertical-align: top;\n",
       "    }\n",
       "\n",
       "    .dataframe thead th {\n",
       "        text-align: right;\n",
       "    }\n",
       "</style>\n",
       "<table border=\"1\" class=\"dataframe\">\n",
       "  <thead>\n",
       "    <tr style=\"text-align: right;\">\n",
       "      <th></th>\n",
       "      <th>id_mutation</th>\n",
       "      <th>snp_id</th>\n",
       "      <th>chromosome</th>\n",
       "      <th>start_genomic</th>\n",
       "      <th>end_genomic</th>\n",
       "      <th>start_aa</th>\n",
       "      <th>end_aa</th>\n",
       "      <th>from_aa</th>\n",
       "      <th>to_aa</th>\n",
       "      <th>id_protein</th>\n",
       "      <th>id_consequence</th>\n",
       "      <th>nt_change</th>\n",
       "    </tr>\n",
       "  </thead>\n",
       "  <tbody>\n",
       "    <tr>\n",
       "      <th>0</th>\n",
       "      <td>1</td>\n",
       "      <td>rs558080743</td>\n",
       "      <td>2</td>\n",
       "      <td>61826480</td>\n",
       "      <td>61826482</td>\n",
       "      <td>709</td>\n",
       "      <td>709</td>\n",
       "      <td>E</td>\n",
       "      <td>NaN</td>\n",
       "      <td>2290</td>\n",
       "      <td>4</td>\n",
       "      <td>2121_2123AGA[1]</td>\n",
       "    </tr>\n",
       "    <tr>\n",
       "      <th>1</th>\n",
       "      <td>2</td>\n",
       "      <td>NaN</td>\n",
       "      <td>2</td>\n",
       "      <td>61853886</td>\n",
       "      <td>61853888</td>\n",
       "      <td>52</td>\n",
       "      <td>52</td>\n",
       "      <td>E</td>\n",
       "      <td>NaN</td>\n",
       "      <td>2290</td>\n",
       "      <td>4</td>\n",
       "      <td>148GAG[2]</td>\n",
       "    </tr>\n",
       "    <tr>\n",
       "      <th>2</th>\n",
       "      <td>3</td>\n",
       "      <td>rs794727435</td>\n",
       "      <td>19</td>\n",
       "      <td>36102785</td>\n",
       "      <td>36102787</td>\n",
       "      <td>1091</td>\n",
       "      <td>1091</td>\n",
       "      <td>H</td>\n",
       "      <td>NaN</td>\n",
       "      <td>233</td>\n",
       "      <td>4</td>\n",
       "      <td>3271_3273del</td>\n",
       "    </tr>\n",
       "    <tr>\n",
       "      <th>3</th>\n",
       "      <td>4</td>\n",
       "      <td>rs1064797236</td>\n",
       "      <td>19</td>\n",
       "      <td>36067889</td>\n",
       "      <td>36067891</td>\n",
       "      <td>255</td>\n",
       "      <td>255</td>\n",
       "      <td>F</td>\n",
       "      <td>NaN</td>\n",
       "      <td>233</td>\n",
       "      <td>4</td>\n",
       "      <td>761_763TCT[1]</td>\n",
       "    </tr>\n",
       "    <tr>\n",
       "      <th>4</th>\n",
       "      <td>5</td>\n",
       "      <td>rs764610550</td>\n",
       "      <td>19</td>\n",
       "      <td>36090471</td>\n",
       "      <td>36090473</td>\n",
       "      <td>664</td>\n",
       "      <td>664</td>\n",
       "      <td>K</td>\n",
       "      <td>NaN</td>\n",
       "      <td>233</td>\n",
       "      <td>4</td>\n",
       "      <td>1987_1989AAG[1]</td>\n",
       "    </tr>\n",
       "    <tr>\n",
       "      <th>...</th>\n",
       "      <td>...</td>\n",
       "      <td>...</td>\n",
       "      <td>...</td>\n",
       "      <td>...</td>\n",
       "      <td>...</td>\n",
       "      <td>...</td>\n",
       "      <td>...</td>\n",
       "      <td>...</td>\n",
       "      <td>...</td>\n",
       "      <td>...</td>\n",
       "      <td>...</td>\n",
       "      <td>...</td>\n",
       "    </tr>\n",
       "    <tr>\n",
       "      <th>264550</th>\n",
       "      <td>264551</td>\n",
       "      <td>NaN</td>\n",
       "      <td>1</td>\n",
       "      <td>35822917</td>\n",
       "      <td>35822917</td>\n",
       "      <td>81</td>\n",
       "      <td>81</td>\n",
       "      <td>Q</td>\n",
       "      <td>*</td>\n",
       "      <td>3658</td>\n",
       "      <td>3</td>\n",
       "      <td>241C&gt;T</td>\n",
       "    </tr>\n",
       "    <tr>\n",
       "      <th>264551</th>\n",
       "      <td>264552</td>\n",
       "      <td>NaN</td>\n",
       "      <td>6</td>\n",
       "      <td>36871796</td>\n",
       "      <td>36871796</td>\n",
       "      <td>45</td>\n",
       "      <td>45</td>\n",
       "      <td>R</td>\n",
       "      <td>*</td>\n",
       "      <td>4162</td>\n",
       "      <td>3</td>\n",
       "      <td>133C&gt;T</td>\n",
       "    </tr>\n",
       "    <tr>\n",
       "      <th>264552</th>\n",
       "      <td>264553</td>\n",
       "      <td>NaN</td>\n",
       "      <td>1</td>\n",
       "      <td>156309285</td>\n",
       "      <td>156309285</td>\n",
       "      <td>518</td>\n",
       "      <td>518</td>\n",
       "      <td>R</td>\n",
       "      <td>*</td>\n",
       "      <td>1342</td>\n",
       "      <td>3</td>\n",
       "      <td>1552C&gt;T</td>\n",
       "    </tr>\n",
       "    <tr>\n",
       "      <th>264553</th>\n",
       "      <td>264554</td>\n",
       "      <td>NaN</td>\n",
       "      <td>1</td>\n",
       "      <td>185301020</td>\n",
       "      <td>185301020</td>\n",
       "      <td>358</td>\n",
       "      <td>358</td>\n",
       "      <td>R</td>\n",
       "      <td>*</td>\n",
       "      <td>4266</td>\n",
       "      <td>3</td>\n",
       "      <td>1072C&gt;T</td>\n",
       "    </tr>\n",
       "    <tr>\n",
       "      <th>264554</th>\n",
       "      <td>264555</td>\n",
       "      <td>NaN</td>\n",
       "      <td>1</td>\n",
       "      <td>185298065</td>\n",
       "      <td>185298065</td>\n",
       "      <td>633</td>\n",
       "      <td>633</td>\n",
       "      <td>W</td>\n",
       "      <td>*</td>\n",
       "      <td>4266</td>\n",
       "      <td>3</td>\n",
       "      <td>1899G&gt;A</td>\n",
       "    </tr>\n",
       "  </tbody>\n",
       "</table>\n",
       "<p>264555 rows × 12 columns</p>\n",
       "</div>"
      ],
      "text/plain": [
       "        id_mutation        snp_id chromosome  start_genomic  end_genomic  \\\n",
       "0                 1   rs558080743          2       61826480     61826482   \n",
       "1                 2           NaN          2       61853886     61853888   \n",
       "2                 3   rs794727435         19       36102785     36102787   \n",
       "3                 4  rs1064797236         19       36067889     36067891   \n",
       "4                 5   rs764610550         19       36090471     36090473   \n",
       "...             ...           ...        ...            ...          ...   \n",
       "264550       264551           NaN          1       35822917     35822917   \n",
       "264551       264552           NaN          6       36871796     36871796   \n",
       "264552       264553           NaN          1      156309285    156309285   \n",
       "264553       264554           NaN          1      185301020    185301020   \n",
       "264554       264555           NaN          1      185298065    185298065   \n",
       "\n",
       "        start_aa  end_aa from_aa to_aa  id_protein  id_consequence  \\\n",
       "0            709     709       E   NaN        2290               4   \n",
       "1             52      52       E   NaN        2290               4   \n",
       "2           1091    1091       H   NaN         233               4   \n",
       "3            255     255       F   NaN         233               4   \n",
       "4            664     664       K   NaN         233               4   \n",
       "...          ...     ...     ...   ...         ...             ...   \n",
       "264550        81      81       Q     *        3658               3   \n",
       "264551        45      45       R     *        4162               3   \n",
       "264552       518     518       R     *        1342               3   \n",
       "264553       358     358       R     *        4266               3   \n",
       "264554       633     633       W     *        4266               3   \n",
       "\n",
       "               nt_change  \n",
       "0       2121_2123AGA[1]   \n",
       "1             148GAG[2]   \n",
       "2          3271_3273del   \n",
       "3         761_763TCT[1]   \n",
       "4       1987_1989AAG[1]   \n",
       "...                  ...  \n",
       "264550           241C>T   \n",
       "264551           133C>T   \n",
       "264552          1552C>T   \n",
       "264553          1072C>T   \n",
       "264554          1899G>A   \n",
       "\n",
       "[264555 rows x 12 columns]"
      ]
     },
     "execution_count": 372,
     "metadata": {},
     "output_type": "execute_result"
    }
   ],
   "source": [
    "mutation = mutation[['id_mutation', 'snp_id', 'chromosome', 'start_genomic', 'end_genomic', 'start_aa','end_aa',\r\n",
    "                    'from_aa', 'to_aa', 'id_protein', 'id_consequence', 'nt_change']].sort_values('id_mutation')\r\n",
    "mutation"
   ]
  },
  {
   "cell_type": "code",
   "execution_count": 373,
   "metadata": {},
   "outputs": [],
   "source": [
    "mutation.chromosome = mutation.chromosome.apply(str)"
   ]
  },
  {
   "cell_type": "code",
   "execution_count": 374,
   "metadata": {},
   "outputs": [
    {
     "name": "stdout",
     "output_type": "stream",
     "text": [
      "<class 'pandas.core.frame.DataFrame'>\n",
      "Int64Index: 264555 entries, 0 to 264554\n",
      "Data columns (total 12 columns):\n",
      " #   Column          Non-Null Count   Dtype \n",
      "---  ------          --------------   ----- \n",
      " 0   id_mutation     264555 non-null  int64 \n",
      " 1   snp_id          209437 non-null  object\n",
      " 2   chromosome      264555 non-null  object\n",
      " 3   start_genomic   264555 non-null  int64 \n",
      " 4   end_genomic     264555 non-null  int64 \n",
      " 5   start_aa        264555 non-null  int64 \n",
      " 6   end_aa          264555 non-null  int64 \n",
      " 7   from_aa         264545 non-null  object\n",
      " 8   to_aa           229506 non-null  object\n",
      " 9   id_protein      264555 non-null  int64 \n",
      " 10  id_consequence  264555 non-null  int64 \n",
      " 11  nt_change       264555 non-null  object\n",
      "dtypes: int64(7), object(5)\n",
      "memory usage: 26.2+ MB\n"
     ]
    }
   ],
   "source": [
    "mutation.info()"
   ]
  },
  {
   "cell_type": "code",
   "execution_count": 375,
   "metadata": {},
   "outputs": [
    {
     "data": {
      "text/plain": [
       "False"
      ]
     },
     "execution_count": 375,
     "metadata": {},
     "output_type": "execute_result"
    }
   ],
   "source": [
    "mutation.duplicated().any()"
   ]
  },
  {
   "cell_type": "code",
   "execution_count": 376,
   "metadata": {},
   "outputs": [
    {
     "data": {
      "text/plain": [
       "292"
      ]
     },
     "execution_count": 376,
     "metadata": {},
     "output_type": "execute_result"
    }
   ],
   "source": [
    "mutation.nt_change.str.len().max()"
   ]
  },
  {
   "cell_type": "code",
   "execution_count": 377,
   "metadata": {},
   "outputs": [],
   "source": [
    "mutation.to_csv('db_tables/mutation.tsv', sep='\\t', index = False)"
   ]
  },
  {
   "cell_type": "markdown",
   "metadata": {},
   "source": [
    "## mutation_has_citation"
   ]
  },
  {
   "cell_type": "code",
   "execution_count": null,
   "metadata": {},
   "outputs": [],
   "source": []
  },
  {
   "cell_type": "code",
   "execution_count": null,
   "metadata": {},
   "outputs": [],
   "source": []
  },
  {
   "cell_type": "markdown",
   "metadata": {},
   "source": [
    "---\n",
    "## Para asignar los rangos debo tener:  \n",
    "- Tabla de mutaciones con id_mutation, *id_protein(Chromosome), start_aa(Start), end_aa(End)*  \n",
    "- Tablas de lc, idr y pfam con id unico "
   ]
  },
  {
   "cell_type": "markdown",
   "metadata": {},
   "source": [
    "---  \n",
    "# Pfam Tables"
   ]
  },
  {
   "cell_type": "code",
   "execution_count": 378,
   "metadata": {},
   "outputs": [
    {
     "data": {
      "text/html": [
       "<div>\n",
       "<style scoped>\n",
       "    .dataframe tbody tr th:only-of-type {\n",
       "        vertical-align: middle;\n",
       "    }\n",
       "\n",
       "    .dataframe tbody tr th {\n",
       "        vertical-align: top;\n",
       "    }\n",
       "\n",
       "    .dataframe thead th {\n",
       "        text-align: right;\n",
       "    }\n",
       "</style>\n",
       "<table border=\"1\" class=\"dataframe\">\n",
       "  <thead>\n",
       "    <tr style=\"text-align: right;\">\n",
       "      <th></th>\n",
       "      <th>uniprot_acc</th>\n",
       "      <th>pfam_name</th>\n",
       "      <th>start</th>\n",
       "      <th>end</th>\n",
       "      <th>pfam_acc</th>\n",
       "    </tr>\n",
       "  </thead>\n",
       "  <tbody>\n",
       "    <tr>\n",
       "      <th>0</th>\n",
       "      <td>O94910</td>\n",
       "      <td>7tm_2</td>\n",
       "      <td>857</td>\n",
       "      <td>1093</td>\n",
       "      <td>PF00002</td>\n",
       "    </tr>\n",
       "    <tr>\n",
       "      <th>1</th>\n",
       "      <td>Q9HAR2</td>\n",
       "      <td>7tm_2</td>\n",
       "      <td>861</td>\n",
       "      <td>1097</td>\n",
       "      <td>PF00002</td>\n",
       "    </tr>\n",
       "    <tr>\n",
       "      <th>2</th>\n",
       "      <td>O14514</td>\n",
       "      <td>7tm_2</td>\n",
       "      <td>944</td>\n",
       "      <td>1180</td>\n",
       "      <td>PF00002</td>\n",
       "    </tr>\n",
       "    <tr>\n",
       "      <th>3</th>\n",
       "      <td>O75899</td>\n",
       "      <td>7tm_3</td>\n",
       "      <td>475</td>\n",
       "      <td>743</td>\n",
       "      <td>PF00003</td>\n",
       "    </tr>\n",
       "    <tr>\n",
       "      <th>4</th>\n",
       "      <td>Q9NZH0</td>\n",
       "      <td>7tm_3</td>\n",
       "      <td>49</td>\n",
       "      <td>291</td>\n",
       "      <td>PF00003</td>\n",
       "    </tr>\n",
       "  </tbody>\n",
       "</table>\n",
       "</div>"
      ],
      "text/plain": [
       "  uniprot_acc pfam_name  start   end pfam_acc\n",
       "0      O94910     7tm_2    857  1093  PF00002\n",
       "1      Q9HAR2     7tm_2    861  1097  PF00002\n",
       "2      O14514     7tm_2    944  1180  PF00002\n",
       "3      O75899     7tm_3    475   743  PF00003\n",
       "4      Q9NZH0     7tm_3     49   291  PF00003"
      ]
     },
     "execution_count": 378,
     "metadata": {},
     "output_type": "execute_result"
    }
   ],
   "source": [
    "pfam.head()"
   ]
  },
  {
   "cell_type": "code",
   "execution_count": 379,
   "metadata": {},
   "outputs": [
    {
     "data": {
      "text/plain": [
       "2939"
      ]
     },
     "execution_count": 379,
     "metadata": {},
     "output_type": "execute_result"
    }
   ],
   "source": [
    "len(pfam.pfam_name.unique())"
   ]
  },
  {
   "cell_type": "code",
   "execution_count": 380,
   "metadata": {},
   "outputs": [
    {
     "data": {
      "text/plain": [
       "2939"
      ]
     },
     "execution_count": 380,
     "metadata": {},
     "output_type": "execute_result"
    }
   ],
   "source": [
    "len(pfam.pfam_acc.unique())"
   ]
  },
  {
   "cell_type": "code",
   "execution_count": 381,
   "metadata": {},
   "outputs": [
    {
     "data": {
      "text/html": [
       "<div>\n",
       "<style scoped>\n",
       "    .dataframe tbody tr th:only-of-type {\n",
       "        vertical-align: middle;\n",
       "    }\n",
       "\n",
       "    .dataframe tbody tr th {\n",
       "        vertical-align: top;\n",
       "    }\n",
       "\n",
       "    .dataframe thead th {\n",
       "        text-align: right;\n",
       "    }\n",
       "</style>\n",
       "<table border=\"1\" class=\"dataframe\">\n",
       "  <thead>\n",
       "    <tr style=\"text-align: right;\">\n",
       "      <th></th>\n",
       "      <th>pfam_name</th>\n",
       "      <th>pfam_acc</th>\n",
       "    </tr>\n",
       "  </thead>\n",
       "  <tbody>\n",
       "    <tr>\n",
       "      <th>0</th>\n",
       "      <td>7tm_2</td>\n",
       "      <td>PF00002</td>\n",
       "    </tr>\n",
       "    <tr>\n",
       "      <th>3</th>\n",
       "      <td>7tm_3</td>\n",
       "      <td>PF00003</td>\n",
       "    </tr>\n",
       "    <tr>\n",
       "      <th>9</th>\n",
       "      <td>ATP-synt_ab</td>\n",
       "      <td>PF00006</td>\n",
       "    </tr>\n",
       "    <tr>\n",
       "      <th>13</th>\n",
       "      <td>GTP_EFTU</td>\n",
       "      <td>PF00009</td>\n",
       "    </tr>\n",
       "    <tr>\n",
       "      <th>24</th>\n",
       "      <td>HLH</td>\n",
       "      <td>PF00010</td>\n",
       "    </tr>\n",
       "    <tr>\n",
       "      <th>...</th>\n",
       "      <td>...</td>\n",
       "      <td>...</td>\n",
       "    </tr>\n",
       "    <tr>\n",
       "      <th>10837</th>\n",
       "      <td>PhoLip_ATPase_C</td>\n",
       "      <td>PF16212</td>\n",
       "    </tr>\n",
       "    <tr>\n",
       "      <th>10840</th>\n",
       "      <td>HIP1_clath_bdg</td>\n",
       "      <td>PF16515</td>\n",
       "    </tr>\n",
       "    <tr>\n",
       "      <th>10842</th>\n",
       "      <td>DAO_C</td>\n",
       "      <td>PF16901</td>\n",
       "    </tr>\n",
       "    <tr>\n",
       "      <th>10843</th>\n",
       "      <td>Armet</td>\n",
       "      <td>PF10208</td>\n",
       "    </tr>\n",
       "    <tr>\n",
       "      <th>10844</th>\n",
       "      <td>DSPc</td>\n",
       "      <td>PF00782</td>\n",
       "    </tr>\n",
       "  </tbody>\n",
       "</table>\n",
       "<p>2939 rows × 2 columns</p>\n",
       "</div>"
      ],
      "text/plain": [
       "             pfam_name pfam_acc\n",
       "0                7tm_2  PF00002\n",
       "3                7tm_3  PF00003\n",
       "9          ATP-synt_ab  PF00006\n",
       "13            GTP_EFTU  PF00009\n",
       "24                 HLH  PF00010\n",
       "...                ...      ...\n",
       "10837  PhoLip_ATPase_C  PF16212\n",
       "10840   HIP1_clath_bdg  PF16515\n",
       "10842            DAO_C  PF16901\n",
       "10843            Armet  PF10208\n",
       "10844             DSPc  PF00782\n",
       "\n",
       "[2939 rows x 2 columns]"
      ]
     },
     "execution_count": 381,
     "metadata": {},
     "output_type": "execute_result"
    }
   ],
   "source": [
    "pfam[['pfam_name', 'pfam_acc']].drop_duplicates()"
   ]
  },
  {
   "cell_type": "markdown",
   "metadata": {},
   "source": [
    "## pfam_domain  \r\n",
    "cols: pfam_id, pfam_domain, por ej: PF00003 7tm_3"
   ]
  },
  {
   "cell_type": "code",
   "execution_count": 382,
   "metadata": {},
   "outputs": [],
   "source": [
    "# Array with unique pfam domains\r\n",
    "pf_domain = pfam.pfam_name.unique() # unique pfam domains (2939 for this set of proteins)"
   ]
  },
  {
   "cell_type": "code",
   "execution_count": 383,
   "metadata": {},
   "outputs": [],
   "source": [
    "pfam_domain = pfam[['pfam_name', 'pfam_acc']].drop_duplicates()\r\n",
    "pfam_domain.rename(columns={'pfam_acc': 'id_pfam', 'pfam_name': 'pfam_domain'}, inplace= True)"
   ]
  },
  {
   "cell_type": "code",
   "execution_count": 384,
   "metadata": {},
   "outputs": [],
   "source": [
    "pfam_domain.to_csv('db_tables/pfam_domain.tsv', sep='\\t', index= False)"
   ]
  },
  {
   "cell_type": "markdown",
   "metadata": {},
   "source": [
    "## protein_has_pfam_domain  \r\n",
    "cols: id_protein, id_pfam, start, end, length"
   ]
  },
  {
   "cell_type": "code",
   "execution_count": 385,
   "metadata": {},
   "outputs": [],
   "source": [
    "protein_has_pfam_domain = pfam.merge(id_protein) # agregar col id_protein\r\n",
    "protein_has_pfam_domain['length'] = protein_has_pfam_domain.end - protein_has_pfam_domain.start + 1 # col length"
   ]
  },
  {
   "cell_type": "code",
   "execution_count": 386,
   "metadata": {},
   "outputs": [
    {
     "data": {
      "text/html": [
       "<div>\n",
       "<style scoped>\n",
       "    .dataframe tbody tr th:only-of-type {\n",
       "        vertical-align: middle;\n",
       "    }\n",
       "\n",
       "    .dataframe tbody tr th {\n",
       "        vertical-align: top;\n",
       "    }\n",
       "\n",
       "    .dataframe thead th {\n",
       "        text-align: right;\n",
       "    }\n",
       "</style>\n",
       "<table border=\"1\" class=\"dataframe\">\n",
       "  <thead>\n",
       "    <tr style=\"text-align: right;\">\n",
       "      <th></th>\n",
       "      <th>uniprot_acc</th>\n",
       "      <th>pfam_name</th>\n",
       "      <th>start</th>\n",
       "      <th>end</th>\n",
       "      <th>pfam_acc</th>\n",
       "      <th>id_protein</th>\n",
       "      <th>length</th>\n",
       "    </tr>\n",
       "  </thead>\n",
       "  <tbody>\n",
       "    <tr>\n",
       "      <th>0</th>\n",
       "      <td>O94910</td>\n",
       "      <td>7tm_2</td>\n",
       "      <td>857</td>\n",
       "      <td>1093</td>\n",
       "      <td>PF00002</td>\n",
       "      <td>477</td>\n",
       "      <td>237</td>\n",
       "    </tr>\n",
       "    <tr>\n",
       "      <th>1</th>\n",
       "      <td>O94910</td>\n",
       "      <td>GPS</td>\n",
       "      <td>800</td>\n",
       "      <td>844</td>\n",
       "      <td>PF01825</td>\n",
       "      <td>477</td>\n",
       "      <td>45</td>\n",
       "    </tr>\n",
       "    <tr>\n",
       "      <th>2</th>\n",
       "      <td>O94910</td>\n",
       "      <td>Gal_Lectin</td>\n",
       "      <td>48</td>\n",
       "      <td>128</td>\n",
       "      <td>PF02140</td>\n",
       "      <td>477</td>\n",
       "      <td>81</td>\n",
       "    </tr>\n",
       "    <tr>\n",
       "      <th>3</th>\n",
       "      <td>O94910</td>\n",
       "      <td>OLF</td>\n",
       "      <td>144</td>\n",
       "      <td>396</td>\n",
       "      <td>PF02191</td>\n",
       "      <td>477</td>\n",
       "      <td>253</td>\n",
       "    </tr>\n",
       "    <tr>\n",
       "      <th>4</th>\n",
       "      <td>O94910</td>\n",
       "      <td>Latrophilin</td>\n",
       "      <td>1113</td>\n",
       "      <td>1474</td>\n",
       "      <td>PF02354</td>\n",
       "      <td>477</td>\n",
       "      <td>362</td>\n",
       "    </tr>\n",
       "    <tr>\n",
       "      <th>...</th>\n",
       "      <td>...</td>\n",
       "      <td>...</td>\n",
       "      <td>...</td>\n",
       "      <td>...</td>\n",
       "      <td>...</td>\n",
       "      <td>...</td>\n",
       "      <td>...</td>\n",
       "    </tr>\n",
       "    <tr>\n",
       "      <th>10862</th>\n",
       "      <td>O95147</td>\n",
       "      <td>DSPc</td>\n",
       "      <td>34</td>\n",
       "      <td>164</td>\n",
       "      <td>PF00782</td>\n",
       "      <td>491</td>\n",
       "      <td>131</td>\n",
       "    </tr>\n",
       "    <tr>\n",
       "      <th>10863</th>\n",
       "      <td>Q9NRW4</td>\n",
       "      <td>DSPc</td>\n",
       "      <td>12</td>\n",
       "      <td>141</td>\n",
       "      <td>PF00782</td>\n",
       "      <td>3737</td>\n",
       "      <td>130</td>\n",
       "    </tr>\n",
       "    <tr>\n",
       "      <th>10864</th>\n",
       "      <td>O75319</td>\n",
       "      <td>DSPc</td>\n",
       "      <td>124</td>\n",
       "      <td>249</td>\n",
       "      <td>PF00782</td>\n",
       "      <td>363</td>\n",
       "      <td>126</td>\n",
       "    </tr>\n",
       "    <tr>\n",
       "      <th>10865</th>\n",
       "      <td>P51452</td>\n",
       "      <td>DSPc</td>\n",
       "      <td>37</td>\n",
       "      <td>176</td>\n",
       "      <td>PF00782</td>\n",
       "      <td>1413</td>\n",
       "      <td>140</td>\n",
       "    </tr>\n",
       "    <tr>\n",
       "      <th>10866</th>\n",
       "      <td>Q9BVJ7</td>\n",
       "      <td>DSPc</td>\n",
       "      <td>26</td>\n",
       "      <td>148</td>\n",
       "      <td>PF00782</td>\n",
       "      <td>3411</td>\n",
       "      <td>123</td>\n",
       "    </tr>\n",
       "  </tbody>\n",
       "</table>\n",
       "<p>10867 rows × 7 columns</p>\n",
       "</div>"
      ],
      "text/plain": [
       "      uniprot_acc    pfam_name  start   end pfam_acc  id_protein  length\n",
       "0          O94910        7tm_2    857  1093  PF00002         477     237\n",
       "1          O94910          GPS    800   844  PF01825         477      45\n",
       "2          O94910   Gal_Lectin     48   128  PF02140         477      81\n",
       "3          O94910          OLF    144   396  PF02191         477     253\n",
       "4          O94910  Latrophilin   1113  1474  PF02354         477     362\n",
       "...           ...          ...    ...   ...      ...         ...     ...\n",
       "10862      O95147         DSPc     34   164  PF00782         491     131\n",
       "10863      Q9NRW4         DSPc     12   141  PF00782        3737     130\n",
       "10864      O75319         DSPc    124   249  PF00782         363     126\n",
       "10865      P51452         DSPc     37   176  PF00782        1413     140\n",
       "10866      Q9BVJ7         DSPc     26   148  PF00782        3411     123\n",
       "\n",
       "[10867 rows x 7 columns]"
      ]
     },
     "execution_count": 386,
     "metadata": {},
     "output_type": "execute_result"
    }
   ],
   "source": [
    "protein_has_pfam_domain"
   ]
  },
  {
   "cell_type": "code",
   "execution_count": null,
   "metadata": {},
   "outputs": [],
   "source": []
  },
  {
   "cell_type": "code",
   "execution_count": 387,
   "metadata": {},
   "outputs": [],
   "source": [
    "protein_has_pfam_domain.drop(columns='pfam_name', inplace= True)\r\n",
    "protein_has_pfam_domain = protein_has_pfam_domain.merge(pfam) # to add the col pfam_id"
   ]
  },
  {
   "cell_type": "code",
   "execution_count": 388,
   "metadata": {},
   "outputs": [],
   "source": [
    "protein_has_pfam_domain.rename(columns={'pfam_acc': 'id_pfam'}, inplace= True)"
   ]
  },
  {
   "cell_type": "code",
   "execution_count": 389,
   "metadata": {},
   "outputs": [
    {
     "data": {
      "text/html": [
       "<div>\n",
       "<style scoped>\n",
       "    .dataframe tbody tr th:only-of-type {\n",
       "        vertical-align: middle;\n",
       "    }\n",
       "\n",
       "    .dataframe tbody tr th {\n",
       "        vertical-align: top;\n",
       "    }\n",
       "\n",
       "    .dataframe thead th {\n",
       "        text-align: right;\n",
       "    }\n",
       "</style>\n",
       "<table border=\"1\" class=\"dataframe\">\n",
       "  <thead>\n",
       "    <tr style=\"text-align: right;\">\n",
       "      <th></th>\n",
       "      <th>id_protein</th>\n",
       "      <th>id_pfam</th>\n",
       "      <th>start</th>\n",
       "      <th>end</th>\n",
       "      <th>length</th>\n",
       "    </tr>\n",
       "  </thead>\n",
       "  <tbody>\n",
       "    <tr>\n",
       "      <th>3996</th>\n",
       "      <td>1</td>\n",
       "      <td>PF00293</td>\n",
       "      <td>17</td>\n",
       "      <td>144</td>\n",
       "      <td>128</td>\n",
       "    </tr>\n",
       "    <tr>\n",
       "      <th>7893</th>\n",
       "      <td>2</td>\n",
       "      <td>PF02320</td>\n",
       "      <td>28</td>\n",
       "      <td>91</td>\n",
       "      <td>64</td>\n",
       "    </tr>\n",
       "    <tr>\n",
       "      <th>2276</th>\n",
       "      <td>4</td>\n",
       "      <td>PF00076</td>\n",
       "      <td>153</td>\n",
       "      <td>220</td>\n",
       "      <td>68</td>\n",
       "    </tr>\n",
       "    <tr>\n",
       "      <th>2275</th>\n",
       "      <td>4</td>\n",
       "      <td>PF00076</td>\n",
       "      <td>248</td>\n",
       "      <td>312</td>\n",
       "      <td>65</td>\n",
       "    </tr>\n",
       "    <tr>\n",
       "      <th>2274</th>\n",
       "      <td>4</td>\n",
       "      <td>PF00076</td>\n",
       "      <td>73</td>\n",
       "      <td>141</td>\n",
       "      <td>69</td>\n",
       "    </tr>\n",
       "    <tr>\n",
       "      <th>...</th>\n",
       "      <td>...</td>\n",
       "      <td>...</td>\n",
       "      <td>...</td>\n",
       "      <td>...</td>\n",
       "      <td>...</td>\n",
       "    </tr>\n",
       "    <tr>\n",
       "      <th>531</th>\n",
       "      <td>4365</td>\n",
       "      <td>PF00008</td>\n",
       "      <td>647</td>\n",
       "      <td>678</td>\n",
       "      <td>32</td>\n",
       "    </tr>\n",
       "    <tr>\n",
       "      <th>536</th>\n",
       "      <td>4365</td>\n",
       "      <td>PF02210</td>\n",
       "      <td>1122</td>\n",
       "      <td>1241</td>\n",
       "      <td>120</td>\n",
       "    </tr>\n",
       "    <tr>\n",
       "      <th>9993</th>\n",
       "      <td>4367</td>\n",
       "      <td>PF13923</td>\n",
       "      <td>160</td>\n",
       "      <td>199</td>\n",
       "      <td>40</td>\n",
       "    </tr>\n",
       "    <tr>\n",
       "      <th>9994</th>\n",
       "      <td>4367</td>\n",
       "      <td>PF16207</td>\n",
       "      <td>305</td>\n",
       "      <td>369</td>\n",
       "      <td>65</td>\n",
       "    </tr>\n",
       "    <tr>\n",
       "      <th>9370</th>\n",
       "      <td>4368</td>\n",
       "      <td>PF09805</td>\n",
       "      <td>5</td>\n",
       "      <td>140</td>\n",
       "      <td>136</td>\n",
       "    </tr>\n",
       "  </tbody>\n",
       "</table>\n",
       "<p>10867 rows × 5 columns</p>\n",
       "</div>"
      ],
      "text/plain": [
       "      id_protein  id_pfam  start   end  length\n",
       "3996           1  PF00293     17   144     128\n",
       "7893           2  PF02320     28    91      64\n",
       "2276           4  PF00076    153   220      68\n",
       "2275           4  PF00076    248   312      65\n",
       "2274           4  PF00076     73   141      69\n",
       "...          ...      ...    ...   ...     ...\n",
       "531         4365  PF00008    647   678      32\n",
       "536         4365  PF02210   1122  1241     120\n",
       "9993        4367  PF13923    160   199      40\n",
       "9994        4367  PF16207    305   369      65\n",
       "9370        4368  PF09805      5   140     136\n",
       "\n",
       "[10867 rows x 5 columns]"
      ]
     },
     "execution_count": 389,
     "metadata": {},
     "output_type": "execute_result"
    }
   ],
   "source": [
    "protein_has_pfam_domain = protein_has_pfam_domain[['id_protein', 'id_pfam', 'start', 'end', 'length']].sort_values('id_protein')\r\n",
    "protein_has_pfam_domain"
   ]
  },
  {
   "cell_type": "code",
   "execution_count": 390,
   "metadata": {},
   "outputs": [
    {
     "data": {
      "text/plain": [
       "False"
      ]
     },
     "execution_count": 390,
     "metadata": {},
     "output_type": "execute_result"
    }
   ],
   "source": [
    "protein_has_pfam_domain.duplicated().any()"
   ]
  },
  {
   "cell_type": "code",
   "execution_count": 391,
   "metadata": {},
   "outputs": [],
   "source": [
    "protein_has_pfam_domain.to_csv('db_tables/protein_has_pfam_domain.tsv', sep='\\t', index= False)"
   ]
  },
  {
   "cell_type": "markdown",
   "metadata": {},
   "source": [
    "## mutation_has_pfam_domain  \r\n",
    "cols: id_mutation, id_protein, id_pfam, start, end"
   ]
  },
  {
   "cell_type": "markdown",
   "metadata": {},
   "source": [
    "### Pyranges  \r\n",
    "columnas obligatorias: *Chromosome\t Start\tEnd*  \r\n",
    "Chromosome: id_protein    \r\n",
    "otras columnas con ids son opcionales y cualquier nombre  \r\n",
    "  \r\n",
    "por ejemplo df seria tabla de mutaciones  \r\n",
    "df = pr.PyRanges(df.rename(columns={'chromosome':'Chromosome','start_position':'Start','end_position':'End'}))  \r\n",
    "  \r\n",
    "df = pyrange de mutaciones (columnas: Chromosome, Start, End, id_mutacion)  \r\n",
    "low_c = pyrange de low complexity(columnas: Chromosome, Start, End, id_low, id_proteina)  \r\n",
    "data = df.join(low_c, strandedness=False, slack=1).drop(like=\"_b\") # mutaciones lo junto con low_complex  \r\n",
    "strandedness=False no tener en cuenta el Strand  \r\n",
    "slack=1 coincidir los extremos. Importante  \r\n",
    "drop(like=\"_b\") eliminar el Chromosome, Start, End de low_c (en pfam no hacer el drop)  \r\n",
    "data = data.df[[Chromosome, Start, End, id_mutacion, id_low, id_proteina]] # pasa de pyrange a dataframe"
   ]
  },
  {
   "cell_type": "code",
   "execution_count": 392,
   "metadata": {},
   "outputs": [
    {
     "data": {
      "text/html": [
       "<div>\n",
       "<style scoped>\n",
       "    .dataframe tbody tr th:only-of-type {\n",
       "        vertical-align: middle;\n",
       "    }\n",
       "\n",
       "    .dataframe tbody tr th {\n",
       "        vertical-align: top;\n",
       "    }\n",
       "\n",
       "    .dataframe thead th {\n",
       "        text-align: right;\n",
       "    }\n",
       "</style>\n",
       "<table border=\"1\" class=\"dataframe\">\n",
       "  <thead>\n",
       "    <tr style=\"text-align: right;\">\n",
       "      <th></th>\n",
       "      <th>id_mutation</th>\n",
       "      <th>snp_id</th>\n",
       "      <th>chromosome</th>\n",
       "      <th>start_genomic</th>\n",
       "      <th>end_genomic</th>\n",
       "      <th>start_aa</th>\n",
       "      <th>end_aa</th>\n",
       "      <th>from_aa</th>\n",
       "      <th>to_aa</th>\n",
       "      <th>id_protein</th>\n",
       "      <th>id_consequence</th>\n",
       "      <th>nt_change</th>\n",
       "    </tr>\n",
       "  </thead>\n",
       "  <tbody>\n",
       "    <tr>\n",
       "      <th>0</th>\n",
       "      <td>1</td>\n",
       "      <td>rs558080743</td>\n",
       "      <td>2</td>\n",
       "      <td>61826480</td>\n",
       "      <td>61826482</td>\n",
       "      <td>709</td>\n",
       "      <td>709</td>\n",
       "      <td>E</td>\n",
       "      <td>NaN</td>\n",
       "      <td>2290</td>\n",
       "      <td>4</td>\n",
       "      <td>2121_2123AGA[1]</td>\n",
       "    </tr>\n",
       "    <tr>\n",
       "      <th>1</th>\n",
       "      <td>2</td>\n",
       "      <td>NaN</td>\n",
       "      <td>2</td>\n",
       "      <td>61853886</td>\n",
       "      <td>61853888</td>\n",
       "      <td>52</td>\n",
       "      <td>52</td>\n",
       "      <td>E</td>\n",
       "      <td>NaN</td>\n",
       "      <td>2290</td>\n",
       "      <td>4</td>\n",
       "      <td>148GAG[2]</td>\n",
       "    </tr>\n",
       "    <tr>\n",
       "      <th>2</th>\n",
       "      <td>3</td>\n",
       "      <td>rs794727435</td>\n",
       "      <td>19</td>\n",
       "      <td>36102785</td>\n",
       "      <td>36102787</td>\n",
       "      <td>1091</td>\n",
       "      <td>1091</td>\n",
       "      <td>H</td>\n",
       "      <td>NaN</td>\n",
       "      <td>233</td>\n",
       "      <td>4</td>\n",
       "      <td>3271_3273del</td>\n",
       "    </tr>\n",
       "    <tr>\n",
       "      <th>3</th>\n",
       "      <td>4</td>\n",
       "      <td>rs1064797236</td>\n",
       "      <td>19</td>\n",
       "      <td>36067889</td>\n",
       "      <td>36067891</td>\n",
       "      <td>255</td>\n",
       "      <td>255</td>\n",
       "      <td>F</td>\n",
       "      <td>NaN</td>\n",
       "      <td>233</td>\n",
       "      <td>4</td>\n",
       "      <td>761_763TCT[1]</td>\n",
       "    </tr>\n",
       "    <tr>\n",
       "      <th>4</th>\n",
       "      <td>5</td>\n",
       "      <td>rs764610550</td>\n",
       "      <td>19</td>\n",
       "      <td>36090471</td>\n",
       "      <td>36090473</td>\n",
       "      <td>664</td>\n",
       "      <td>664</td>\n",
       "      <td>K</td>\n",
       "      <td>NaN</td>\n",
       "      <td>233</td>\n",
       "      <td>4</td>\n",
       "      <td>1987_1989AAG[1]</td>\n",
       "    </tr>\n",
       "  </tbody>\n",
       "</table>\n",
       "</div>"
      ],
      "text/plain": [
       "   id_mutation        snp_id chromosome  start_genomic  end_genomic  start_aa  \\\n",
       "0            1   rs558080743          2       61826480     61826482       709   \n",
       "1            2           NaN          2       61853886     61853888        52   \n",
       "2            3   rs794727435         19       36102785     36102787      1091   \n",
       "3            4  rs1064797236         19       36067889     36067891       255   \n",
       "4            5   rs764610550         19       36090471     36090473       664   \n",
       "\n",
       "   end_aa from_aa to_aa  id_protein  id_consequence         nt_change  \n",
       "0     709       E   NaN        2290               4  2121_2123AGA[1]   \n",
       "1      52       E   NaN        2290               4        148GAG[2]   \n",
       "2    1091       H   NaN         233               4     3271_3273del   \n",
       "3     255       F   NaN         233               4    761_763TCT[1]   \n",
       "4     664       K   NaN         233               4  1987_1989AAG[1]   "
      ]
     },
     "execution_count": 392,
     "metadata": {},
     "output_type": "execute_result"
    }
   ],
   "source": [
    "mutation.head()"
   ]
  },
  {
   "cell_type": "code",
   "execution_count": 394,
   "metadata": {},
   "outputs": [
    {
     "data": {
      "text/plain": [
       "Index(['uniprot_acc', 'pfam_name', 'start', 'end', 'pfam_acc'], dtype='object')"
      ]
     },
     "execution_count": 394,
     "metadata": {},
     "output_type": "execute_result"
    }
   ],
   "source": [
    "pfam.columns"
   ]
  },
  {
   "cell_type": "code",
   "execution_count": 395,
   "metadata": {},
   "outputs": [],
   "source": [
    "# df has pfam domains data\r\n",
    "df = pfam.rename(columns={'pfam_name': 'pfam_domain'}).merge(pfam_domain)\r\n",
    "df = df.merge(id_protein)                      # mapping uniprot_acc - id_protein\r\n",
    "df.drop(columns='uniprot_acc', inplace= True)"
   ]
  },
  {
   "cell_type": "code",
   "execution_count": 396,
   "metadata": {},
   "outputs": [
    {
     "data": {
      "text/html": [
       "<div>\n",
       "<style scoped>\n",
       "    .dataframe tbody tr th:only-of-type {\n",
       "        vertical-align: middle;\n",
       "    }\n",
       "\n",
       "    .dataframe tbody tr th {\n",
       "        vertical-align: top;\n",
       "    }\n",
       "\n",
       "    .dataframe thead th {\n",
       "        text-align: right;\n",
       "    }\n",
       "</style>\n",
       "<table border=\"1\" class=\"dataframe\">\n",
       "  <thead>\n",
       "    <tr style=\"text-align: right;\">\n",
       "      <th></th>\n",
       "      <th>pfam_domain</th>\n",
       "      <th>start</th>\n",
       "      <th>end</th>\n",
       "      <th>pfam_acc</th>\n",
       "      <th>id_pfam</th>\n",
       "      <th>id_protein</th>\n",
       "    </tr>\n",
       "  </thead>\n",
       "  <tbody>\n",
       "    <tr>\n",
       "      <th>0</th>\n",
       "      <td>7tm_2</td>\n",
       "      <td>857</td>\n",
       "      <td>1093</td>\n",
       "      <td>PF00002</td>\n",
       "      <td>PF00002</td>\n",
       "      <td>477</td>\n",
       "    </tr>\n",
       "    <tr>\n",
       "      <th>1</th>\n",
       "      <td>GPS</td>\n",
       "      <td>800</td>\n",
       "      <td>844</td>\n",
       "      <td>PF01825</td>\n",
       "      <td>PF01825</td>\n",
       "      <td>477</td>\n",
       "    </tr>\n",
       "    <tr>\n",
       "      <th>2</th>\n",
       "      <td>Gal_Lectin</td>\n",
       "      <td>48</td>\n",
       "      <td>128</td>\n",
       "      <td>PF02140</td>\n",
       "      <td>PF02140</td>\n",
       "      <td>477</td>\n",
       "    </tr>\n",
       "    <tr>\n",
       "      <th>3</th>\n",
       "      <td>OLF</td>\n",
       "      <td>144</td>\n",
       "      <td>396</td>\n",
       "      <td>PF02191</td>\n",
       "      <td>PF02191</td>\n",
       "      <td>477</td>\n",
       "    </tr>\n",
       "    <tr>\n",
       "      <th>4</th>\n",
       "      <td>Latrophilin</td>\n",
       "      <td>1113</td>\n",
       "      <td>1474</td>\n",
       "      <td>PF02354</td>\n",
       "      <td>PF02354</td>\n",
       "      <td>477</td>\n",
       "    </tr>\n",
       "  </tbody>\n",
       "</table>\n",
       "</div>"
      ],
      "text/plain": [
       "   pfam_domain  start   end pfam_acc  id_pfam  id_protein\n",
       "0        7tm_2    857  1093  PF00002  PF00002         477\n",
       "1          GPS    800   844  PF01825  PF01825         477\n",
       "2   Gal_Lectin     48   128  PF02140  PF02140         477\n",
       "3          OLF    144   396  PF02191  PF02191         477\n",
       "4  Latrophilin   1113  1474  PF02354  PF02354         477"
      ]
     },
     "execution_count": 396,
     "metadata": {},
     "output_type": "execute_result"
    }
   ],
   "source": [
    "df.head()"
   ]
  },
  {
   "cell_type": "code",
   "execution_count": 398,
   "metadata": {},
   "outputs": [],
   "source": [
    "df.rename(columns={'id_protein': 'Chromosome', 'start': 'Start', 'end': 'End'}, inplace= True)"
   ]
  },
  {
   "cell_type": "code",
   "execution_count": 399,
   "metadata": {},
   "outputs": [
    {
     "data": {
      "text/html": [
       "<div>\n",
       "<style scoped>\n",
       "    .dataframe tbody tr th:only-of-type {\n",
       "        vertical-align: middle;\n",
       "    }\n",
       "\n",
       "    .dataframe tbody tr th {\n",
       "        vertical-align: top;\n",
       "    }\n",
       "\n",
       "    .dataframe thead th {\n",
       "        text-align: right;\n",
       "    }\n",
       "</style>\n",
       "<table border=\"1\" class=\"dataframe\">\n",
       "  <thead>\n",
       "    <tr style=\"text-align: right;\">\n",
       "      <th></th>\n",
       "      <th>pfam_domain</th>\n",
       "      <th>Start</th>\n",
       "      <th>End</th>\n",
       "      <th>pfam_acc</th>\n",
       "      <th>id_pfam</th>\n",
       "      <th>Chromosome</th>\n",
       "    </tr>\n",
       "  </thead>\n",
       "  <tbody>\n",
       "    <tr>\n",
       "      <th>0</th>\n",
       "      <td>7tm_2</td>\n",
       "      <td>857</td>\n",
       "      <td>1093</td>\n",
       "      <td>PF00002</td>\n",
       "      <td>PF00002</td>\n",
       "      <td>477</td>\n",
       "    </tr>\n",
       "    <tr>\n",
       "      <th>1</th>\n",
       "      <td>GPS</td>\n",
       "      <td>800</td>\n",
       "      <td>844</td>\n",
       "      <td>PF01825</td>\n",
       "      <td>PF01825</td>\n",
       "      <td>477</td>\n",
       "    </tr>\n",
       "    <tr>\n",
       "      <th>2</th>\n",
       "      <td>Gal_Lectin</td>\n",
       "      <td>48</td>\n",
       "      <td>128</td>\n",
       "      <td>PF02140</td>\n",
       "      <td>PF02140</td>\n",
       "      <td>477</td>\n",
       "    </tr>\n",
       "    <tr>\n",
       "      <th>3</th>\n",
       "      <td>OLF</td>\n",
       "      <td>144</td>\n",
       "      <td>396</td>\n",
       "      <td>PF02191</td>\n",
       "      <td>PF02191</td>\n",
       "      <td>477</td>\n",
       "    </tr>\n",
       "    <tr>\n",
       "      <th>4</th>\n",
       "      <td>Latrophilin</td>\n",
       "      <td>1113</td>\n",
       "      <td>1474</td>\n",
       "      <td>PF02354</td>\n",
       "      <td>PF02354</td>\n",
       "      <td>477</td>\n",
       "    </tr>\n",
       "  </tbody>\n",
       "</table>\n",
       "</div>"
      ],
      "text/plain": [
       "   pfam_domain  Start   End pfam_acc  id_pfam  Chromosome\n",
       "0        7tm_2    857  1093  PF00002  PF00002         477\n",
       "1          GPS    800   844  PF01825  PF01825         477\n",
       "2   Gal_Lectin     48   128  PF02140  PF02140         477\n",
       "3          OLF    144   396  PF02191  PF02191         477\n",
       "4  Latrophilin   1113  1474  PF02354  PF02354         477"
      ]
     },
     "execution_count": 399,
     "metadata": {},
     "output_type": "execute_result"
    }
   ],
   "source": [
    "df.head()"
   ]
  },
  {
   "cell_type": "code",
   "execution_count": 400,
   "metadata": {},
   "outputs": [],
   "source": [
    "# Create the pyranges object of pfam domains\n",
    "df_py = pr.PyRanges(df)"
   ]
  },
  {
   "cell_type": "code",
   "execution_count": 401,
   "metadata": {},
   "outputs": [],
   "source": [
    "aux = mutation[['start_aa', 'end_aa', 'id_mutation', 'id_protein']].copy()\r\n",
    "aux.rename(columns={'id_protein': 'Chromosome', 'start_aa': 'Start', 'end_aa': 'End'}, inplace= True)"
   ]
  },
  {
   "cell_type": "code",
   "execution_count": 402,
   "metadata": {},
   "outputs": [
    {
     "data": {
      "text/html": [
       "<div>\n",
       "<style scoped>\n",
       "    .dataframe tbody tr th:only-of-type {\n",
       "        vertical-align: middle;\n",
       "    }\n",
       "\n",
       "    .dataframe tbody tr th {\n",
       "        vertical-align: top;\n",
       "    }\n",
       "\n",
       "    .dataframe thead th {\n",
       "        text-align: right;\n",
       "    }\n",
       "</style>\n",
       "<table border=\"1\" class=\"dataframe\">\n",
       "  <thead>\n",
       "    <tr style=\"text-align: right;\">\n",
       "      <th></th>\n",
       "      <th>Start</th>\n",
       "      <th>End</th>\n",
       "      <th>id_mutation</th>\n",
       "      <th>Chromosome</th>\n",
       "    </tr>\n",
       "  </thead>\n",
       "  <tbody>\n",
       "    <tr>\n",
       "      <th>0</th>\n",
       "      <td>709</td>\n",
       "      <td>709</td>\n",
       "      <td>1</td>\n",
       "      <td>2290</td>\n",
       "    </tr>\n",
       "    <tr>\n",
       "      <th>1</th>\n",
       "      <td>52</td>\n",
       "      <td>52</td>\n",
       "      <td>2</td>\n",
       "      <td>2290</td>\n",
       "    </tr>\n",
       "    <tr>\n",
       "      <th>2</th>\n",
       "      <td>1091</td>\n",
       "      <td>1091</td>\n",
       "      <td>3</td>\n",
       "      <td>233</td>\n",
       "    </tr>\n",
       "    <tr>\n",
       "      <th>3</th>\n",
       "      <td>255</td>\n",
       "      <td>255</td>\n",
       "      <td>4</td>\n",
       "      <td>233</td>\n",
       "    </tr>\n",
       "    <tr>\n",
       "      <th>4</th>\n",
       "      <td>664</td>\n",
       "      <td>664</td>\n",
       "      <td>5</td>\n",
       "      <td>233</td>\n",
       "    </tr>\n",
       "  </tbody>\n",
       "</table>\n",
       "</div>"
      ],
      "text/plain": [
       "   Start   End  id_mutation  Chromosome\n",
       "0    709   709            1        2290\n",
       "1     52    52            2        2290\n",
       "2   1091  1091            3         233\n",
       "3    255   255            4         233\n",
       "4    664   664            5         233"
      ]
     },
     "execution_count": 402,
     "metadata": {},
     "output_type": "execute_result"
    }
   ],
   "source": [
    "aux.head()"
   ]
  },
  {
   "cell_type": "code",
   "execution_count": 403,
   "metadata": {},
   "outputs": [],
   "source": [
    "# Pyranges object of mutations\n",
    "aux_py = pr.PyRanges(aux)"
   ]
  },
  {
   "cell_type": "code",
   "execution_count": 404,
   "metadata": {},
   "outputs": [],
   "source": [
    "# Join both pyranges object: this assings mutations to pfam domains\r\n",
    "pfam_py = df_py.join(aux_py, strandedness= False, slack= 1)  # strandedness= False doesnt take count of the chain strand; slack= 1 include bounds"
   ]
  },
  {
   "cell_type": "code",
   "execution_count": 405,
   "metadata": {},
   "outputs": [
    {
     "data": {
      "text/html": [
       "<div>\n",
       "<style scoped>\n",
       "    .dataframe tbody tr th:only-of-type {\n",
       "        vertical-align: middle;\n",
       "    }\n",
       "\n",
       "    .dataframe tbody tr th {\n",
       "        vertical-align: top;\n",
       "    }\n",
       "\n",
       "    .dataframe thead th {\n",
       "        text-align: right;\n",
       "    }\n",
       "</style>\n",
       "<table border=\"1\" class=\"dataframe\">\n",
       "  <thead>\n",
       "    <tr style=\"text-align: right;\">\n",
       "      <th></th>\n",
       "      <th>pfam_domain</th>\n",
       "      <th>Start</th>\n",
       "      <th>End</th>\n",
       "      <th>pfam_acc</th>\n",
       "      <th>id_pfam</th>\n",
       "      <th>Chromosome</th>\n",
       "      <th>Start_b</th>\n",
       "      <th>End_b</th>\n",
       "      <th>id_mutation</th>\n",
       "    </tr>\n",
       "  </thead>\n",
       "  <tbody>\n",
       "    <tr>\n",
       "      <th>0</th>\n",
       "      <td>UCR_hinge</td>\n",
       "      <td>28</td>\n",
       "      <td>91</td>\n",
       "      <td>PF02320</td>\n",
       "      <td>PF02320</td>\n",
       "      <td>2</td>\n",
       "      <td>53</td>\n",
       "      <td>53</td>\n",
       "      <td>246674</td>\n",
       "    </tr>\n",
       "    <tr>\n",
       "      <th>1</th>\n",
       "      <td>An_peroxidase</td>\n",
       "      <td>727</td>\n",
       "      <td>1272</td>\n",
       "      <td>PF03098</td>\n",
       "      <td>PF03098</td>\n",
       "      <td>9</td>\n",
       "      <td>981</td>\n",
       "      <td>981</td>\n",
       "      <td>244469</td>\n",
       "    </tr>\n",
       "    <tr>\n",
       "      <th>2</th>\n",
       "      <td>An_peroxidase</td>\n",
       "      <td>727</td>\n",
       "      <td>1272</td>\n",
       "      <td>PF03098</td>\n",
       "      <td>PF03098</td>\n",
       "      <td>9</td>\n",
       "      <td>1039</td>\n",
       "      <td>1039</td>\n",
       "      <td>244475</td>\n",
       "    </tr>\n",
       "    <tr>\n",
       "      <th>3</th>\n",
       "      <td>An_peroxidase</td>\n",
       "      <td>727</td>\n",
       "      <td>1272</td>\n",
       "      <td>PF03098</td>\n",
       "      <td>PF03098</td>\n",
       "      <td>9</td>\n",
       "      <td>1133</td>\n",
       "      <td>1133</td>\n",
       "      <td>244470</td>\n",
       "    </tr>\n",
       "    <tr>\n",
       "      <th>4</th>\n",
       "      <td>An_peroxidase</td>\n",
       "      <td>727</td>\n",
       "      <td>1272</td>\n",
       "      <td>PF03098</td>\n",
       "      <td>PF03098</td>\n",
       "      <td>9</td>\n",
       "      <td>1207</td>\n",
       "      <td>1207</td>\n",
       "      <td>244474</td>\n",
       "    </tr>\n",
       "    <tr>\n",
       "      <th>5</th>\n",
       "      <td>LRR_8</td>\n",
       "      <td>50</td>\n",
       "      <td>110</td>\n",
       "      <td>PF13855</td>\n",
       "      <td>PF13855</td>\n",
       "      <td>9</td>\n",
       "      <td>65</td>\n",
       "      <td>65</td>\n",
       "      <td>244477</td>\n",
       "    </tr>\n",
       "    <tr>\n",
       "      <th>6</th>\n",
       "      <td>Ig_3</td>\n",
       "      <td>329</td>\n",
       "      <td>402</td>\n",
       "      <td>PF13927</td>\n",
       "      <td>PF13927</td>\n",
       "      <td>9</td>\n",
       "      <td>391</td>\n",
       "      <td>391</td>\n",
       "      <td>244481</td>\n",
       "    </tr>\n",
       "    <tr>\n",
       "      <th>7</th>\n",
       "      <td>I-set</td>\n",
       "      <td>511</td>\n",
       "      <td>597</td>\n",
       "      <td>PF07679</td>\n",
       "      <td>PF07679</td>\n",
       "      <td>9</td>\n",
       "      <td>538</td>\n",
       "      <td>538</td>\n",
       "      <td>244478</td>\n",
       "    </tr>\n",
       "  </tbody>\n",
       "</table>\n",
       "</div>"
      ],
      "text/plain": [
       "+---------------+-----------+-----------+------------+------------+-------+\n",
       "| pfam_domain   |     Start |       End | pfam_acc   | id_pfam    | +4    |\n",
       "| (object)      |   (int32) |   (int32) | (object)   | (object)   | ...   |\n",
       "|---------------+-----------+-----------+------------+------------+-------|\n",
       "| UCR_hinge     |        28 |        91 | PF02320    | PF02320    | ...   |\n",
       "| An_peroxidase |       727 |      1272 | PF03098    | PF03098    | ...   |\n",
       "| An_peroxidase |       727 |      1272 | PF03098    | PF03098    | ...   |\n",
       "| An_peroxidase |       727 |      1272 | PF03098    | PF03098    | ...   |\n",
       "| An_peroxidase |       727 |      1272 | PF03098    | PF03098    | ...   |\n",
       "| LRR_8         |        50 |       110 | PF13855    | PF13855    | ...   |\n",
       "| Ig_3          |       329 |       402 | PF13927    | PF13927    | ...   |\n",
       "| I-set         |       511 |       597 | PF07679    | PF07679    | ...   |\n",
       "+---------------+-----------+-----------+------------+------------+-------+\n",
       "Unstranded PyRanges object has 8 rows and 9 columns from 2 chromosomes.\n",
       "For printing, the PyRanges was sorted on Chromosome.\n",
       "4 hidden columns: Chromosome, Start_b, End_b, id_mutation"
      ]
     },
     "execution_count": 405,
     "metadata": {},
     "output_type": "execute_result"
    }
   ],
   "source": [
    "pfam_py.head() # Start and End are from the pfam domain in that protein (a protein may have the same pfam domain repeated at different positions along its sequence).\r\n",
    "                # Start_b and End_b are from the mutation in this case"
   ]
  },
  {
   "cell_type": "code",
   "execution_count": 406,
   "metadata": {},
   "outputs": [],
   "source": [
    "# Pyranges to DataFrame\r\n",
    "mutation_has_pfam_domain = pfam_py.df[['id_mutation', 'Chromosome', 'id_pfam', 'Start', 'End']] # cols to keep"
   ]
  },
  {
   "cell_type": "code",
   "execution_count": 407,
   "metadata": {},
   "outputs": [],
   "source": [
    "mutation_has_pfam_domain.rename(columns={'Chromosome': 'id_protein', 'Start': 'start', 'End': 'end'}, inplace= True)"
   ]
  },
  {
   "cell_type": "code",
   "execution_count": 408,
   "metadata": {},
   "outputs": [
    {
     "data": {
      "text/html": [
       "<div>\n",
       "<style scoped>\n",
       "    .dataframe tbody tr th:only-of-type {\n",
       "        vertical-align: middle;\n",
       "    }\n",
       "\n",
       "    .dataframe tbody tr th {\n",
       "        vertical-align: top;\n",
       "    }\n",
       "\n",
       "    .dataframe thead th {\n",
       "        text-align: right;\n",
       "    }\n",
       "</style>\n",
       "<table border=\"1\" class=\"dataframe\">\n",
       "  <thead>\n",
       "    <tr style=\"text-align: right;\">\n",
       "      <th></th>\n",
       "      <th>id_mutation</th>\n",
       "      <th>id_protein</th>\n",
       "      <th>id_pfam</th>\n",
       "      <th>start</th>\n",
       "      <th>end</th>\n",
       "    </tr>\n",
       "  </thead>\n",
       "  <tbody>\n",
       "    <tr>\n",
       "      <th>0</th>\n",
       "      <td>246674</td>\n",
       "      <td>2</td>\n",
       "      <td>PF02320</td>\n",
       "      <td>28</td>\n",
       "      <td>91</td>\n",
       "    </tr>\n",
       "    <tr>\n",
       "      <th>1</th>\n",
       "      <td>244469</td>\n",
       "      <td>9</td>\n",
       "      <td>PF03098</td>\n",
       "      <td>727</td>\n",
       "      <td>1272</td>\n",
       "    </tr>\n",
       "    <tr>\n",
       "      <th>2</th>\n",
       "      <td>244475</td>\n",
       "      <td>9</td>\n",
       "      <td>PF03098</td>\n",
       "      <td>727</td>\n",
       "      <td>1272</td>\n",
       "    </tr>\n",
       "    <tr>\n",
       "      <th>3</th>\n",
       "      <td>244470</td>\n",
       "      <td>9</td>\n",
       "      <td>PF03098</td>\n",
       "      <td>727</td>\n",
       "      <td>1272</td>\n",
       "    </tr>\n",
       "    <tr>\n",
       "      <th>4</th>\n",
       "      <td>244474</td>\n",
       "      <td>9</td>\n",
       "      <td>PF03098</td>\n",
       "      <td>727</td>\n",
       "      <td>1272</td>\n",
       "    </tr>\n",
       "  </tbody>\n",
       "</table>\n",
       "</div>"
      ],
      "text/plain": [
       "   id_mutation id_protein  id_pfam  start   end\n",
       "0       246674          2  PF02320     28    91\n",
       "1       244469          9  PF03098    727  1272\n",
       "2       244475          9  PF03098    727  1272\n",
       "3       244470          9  PF03098    727  1272\n",
       "4       244474          9  PF03098    727  1272"
      ]
     },
     "execution_count": 408,
     "metadata": {},
     "output_type": "execute_result"
    }
   ],
   "source": [
    "mutation_has_pfam_domain.head()"
   ]
  },
  {
   "cell_type": "code",
   "execution_count": 409,
   "metadata": {},
   "outputs": [
    {
     "data": {
      "text/html": [
       "<div>\n",
       "<style scoped>\n",
       "    .dataframe tbody tr th:only-of-type {\n",
       "        vertical-align: middle;\n",
       "    }\n",
       "\n",
       "    .dataframe tbody tr th {\n",
       "        vertical-align: top;\n",
       "    }\n",
       "\n",
       "    .dataframe thead th {\n",
       "        text-align: right;\n",
       "    }\n",
       "</style>\n",
       "<table border=\"1\" class=\"dataframe\">\n",
       "  <thead>\n",
       "    <tr style=\"text-align: right;\">\n",
       "      <th></th>\n",
       "      <th>id_mutation</th>\n",
       "      <th>snp_id</th>\n",
       "      <th>chromosome</th>\n",
       "      <th>start_genomic</th>\n",
       "      <th>end_genomic</th>\n",
       "      <th>start_aa</th>\n",
       "      <th>end_aa</th>\n",
       "      <th>from_aa</th>\n",
       "      <th>to_aa</th>\n",
       "      <th>id_protein</th>\n",
       "      <th>id_consequence</th>\n",
       "      <th>nt_change</th>\n",
       "    </tr>\n",
       "  </thead>\n",
       "  <tbody>\n",
       "    <tr>\n",
       "      <th>23986</th>\n",
       "      <td>23987</td>\n",
       "      <td>rs1562846257</td>\n",
       "      <td>7</td>\n",
       "      <td>92493045</td>\n",
       "      <td>92493045</td>\n",
       "      <td>1039</td>\n",
       "      <td>1039</td>\n",
       "      <td>T</td>\n",
       "      <td>NaN</td>\n",
       "      <td>281</td>\n",
       "      <td>2</td>\n",
       "      <td>3115del</td>\n",
       "    </tr>\n",
       "  </tbody>\n",
       "</table>\n",
       "</div>"
      ],
      "text/plain": [
       "       id_mutation        snp_id chromosome  start_genomic  end_genomic  \\\n",
       "23986        23987  rs1562846257          7       92493045     92493045   \n",
       "\n",
       "       start_aa  end_aa from_aa to_aa  id_protein  id_consequence nt_change  \n",
       "23986      1039    1039       T   NaN         281               2  3115del   "
      ]
     },
     "execution_count": 409,
     "metadata": {},
     "output_type": "execute_result"
    }
   ],
   "source": [
    "# control\r\n",
    "mutation[mutation.id_mutation == 23987]"
   ]
  },
  {
   "cell_type": "code",
   "execution_count": 410,
   "metadata": {},
   "outputs": [
    {
     "data": {
      "text/html": [
       "<div>\n",
       "<style scoped>\n",
       "    .dataframe tbody tr th:only-of-type {\n",
       "        vertical-align: middle;\n",
       "    }\n",
       "\n",
       "    .dataframe tbody tr th {\n",
       "        vertical-align: top;\n",
       "    }\n",
       "\n",
       "    .dataframe thead th {\n",
       "        text-align: right;\n",
       "    }\n",
       "</style>\n",
       "<table border=\"1\" class=\"dataframe\">\n",
       "  <thead>\n",
       "    <tr style=\"text-align: right;\">\n",
       "      <th></th>\n",
       "      <th>pfam_domain</th>\n",
       "      <th>id_pfam</th>\n",
       "    </tr>\n",
       "  </thead>\n",
       "  <tbody>\n",
       "  </tbody>\n",
       "</table>\n",
       "</div>"
      ],
      "text/plain": [
       "Empty DataFrame\n",
       "Columns: [pfam_domain, id_pfam]\n",
       "Index: []"
      ]
     },
     "execution_count": 410,
     "metadata": {},
     "output_type": "execute_result"
    }
   ],
   "source": [
    "# control\r\n",
    "pfam_domain[pfam_domain.id_pfam == 814] "
   ]
  },
  {
   "cell_type": "code",
   "execution_count": 411,
   "metadata": {},
   "outputs": [
    {
     "data": {
      "text/html": [
       "<div>\n",
       "<style scoped>\n",
       "    .dataframe tbody tr th:only-of-type {\n",
       "        vertical-align: middle;\n",
       "    }\n",
       "\n",
       "    .dataframe tbody tr th {\n",
       "        vertical-align: top;\n",
       "    }\n",
       "\n",
       "    .dataframe thead th {\n",
       "        text-align: right;\n",
       "    }\n",
       "</style>\n",
       "<table border=\"1\" class=\"dataframe\">\n",
       "  <thead>\n",
       "    <tr style=\"text-align: right;\">\n",
       "      <th></th>\n",
       "      <th>id_mutation</th>\n",
       "      <th>id_protein</th>\n",
       "      <th>id_pfam</th>\n",
       "      <th>start</th>\n",
       "      <th>end</th>\n",
       "    </tr>\n",
       "  </thead>\n",
       "  <tbody>\n",
       "  </tbody>\n",
       "</table>\n",
       "</div>"
      ],
      "text/plain": [
       "Empty DataFrame\n",
       "Columns: [id_mutation, id_protein, id_pfam, start, end]\n",
       "Index: []"
      ]
     },
     "execution_count": 411,
     "metadata": {},
     "output_type": "execute_result"
    }
   ],
   "source": [
    "mutation_has_pfam_domain[mutation_has_pfam_domain.id_pfam == 814] # ok!"
   ]
  },
  {
   "cell_type": "code",
   "execution_count": 412,
   "metadata": {},
   "outputs": [],
   "source": [
    "mutation_has_pfam_domain.to_csv('db_tables/mutation_has_pfam_domain.tsv', sep='\\t', index= False)"
   ]
  },
  {
   "cell_type": "markdown",
   "metadata": {},
   "source": [
    "---  \r\n",
    "# low-complexity Tables"
   ]
  },
  {
   "cell_type": "markdown",
   "metadata": {},
   "source": [
    "## low_complexity  \r\n",
    "cols: id_lc, start, end, length, id_protein"
   ]
  },
  {
   "cell_type": "code",
   "execution_count": 413,
   "metadata": {},
   "outputs": [
    {
     "data": {
      "text/html": [
       "<div>\n",
       "<style scoped>\n",
       "    .dataframe tbody tr th:only-of-type {\n",
       "        vertical-align: middle;\n",
       "    }\n",
       "\n",
       "    .dataframe tbody tr th {\n",
       "        vertical-align: top;\n",
       "    }\n",
       "\n",
       "    .dataframe thead th {\n",
       "        text-align: right;\n",
       "    }\n",
       "</style>\n",
       "<table border=\"1\" class=\"dataframe\">\n",
       "  <thead>\n",
       "    <tr style=\"text-align: right;\">\n",
       "      <th></th>\n",
       "      <th>uniprot_acc</th>\n",
       "      <th>start</th>\n",
       "      <th>end</th>\n",
       "      <th>id_lc</th>\n",
       "    </tr>\n",
       "  </thead>\n",
       "  <tbody>\n",
       "    <tr>\n",
       "      <th>0</th>\n",
       "      <td>P61981</td>\n",
       "      <td>236</td>\n",
       "      <td>243</td>\n",
       "      <td>1</td>\n",
       "    </tr>\n",
       "    <tr>\n",
       "      <th>1</th>\n",
       "      <td>P31947</td>\n",
       "      <td>235</td>\n",
       "      <td>247</td>\n",
       "      <td>2</td>\n",
       "    </tr>\n",
       "    <tr>\n",
       "      <th>2</th>\n",
       "      <td>P31947</td>\n",
       "      <td>248</td>\n",
       "      <td>247</td>\n",
       "      <td>3</td>\n",
       "    </tr>\n",
       "    <tr>\n",
       "      <th>3</th>\n",
       "      <td>P27348</td>\n",
       "      <td>230</td>\n",
       "      <td>244</td>\n",
       "      <td>4</td>\n",
       "    </tr>\n",
       "    <tr>\n",
       "      <th>4</th>\n",
       "      <td>P27348</td>\n",
       "      <td>245</td>\n",
       "      <td>244</td>\n",
       "      <td>5</td>\n",
       "    </tr>\n",
       "  </tbody>\n",
       "</table>\n",
       "</div>"
      ],
      "text/plain": [
       "  uniprot_acc  start  end  id_lc\n",
       "0      P61981    236  243      1\n",
       "1      P31947    235  247      2\n",
       "2      P31947    248  247      3\n",
       "3      P27348    230  244      4\n",
       "4      P27348    245  244      5"
      ]
     },
     "execution_count": 413,
     "metadata": {},
     "output_type": "execute_result"
    }
   ],
   "source": [
    "low_complexity.head()"
   ]
  },
  {
   "cell_type": "code",
   "execution_count": 414,
   "metadata": {},
   "outputs": [],
   "source": [
    "# Add length col \n",
    "low_complexity['length'] = low_complexity.end - low_complexity.start + 1 "
   ]
  },
  {
   "cell_type": "code",
   "execution_count": 415,
   "metadata": {},
   "outputs": [],
   "source": [
    "# Add id_proteins\r\n",
    "low_complexity.rename(columns={'uniprot': 'uniprot_acc'}, inplace= True)\r\n",
    "low_complexity = low_complexity.merge(id_protein)\r\n",
    "low_complexity.drop(columns='uniprot_acc', inplace= True)"
   ]
  },
  {
   "cell_type": "code",
   "execution_count": 416,
   "metadata": {},
   "outputs": [
    {
     "data": {
      "text/html": [
       "<div>\n",
       "<style scoped>\n",
       "    .dataframe tbody tr th:only-of-type {\n",
       "        vertical-align: middle;\n",
       "    }\n",
       "\n",
       "    .dataframe tbody tr th {\n",
       "        vertical-align: top;\n",
       "    }\n",
       "\n",
       "    .dataframe thead th {\n",
       "        text-align: right;\n",
       "    }\n",
       "</style>\n",
       "<table border=\"1\" class=\"dataframe\">\n",
       "  <thead>\n",
       "    <tr style=\"text-align: right;\">\n",
       "      <th></th>\n",
       "      <th>start</th>\n",
       "      <th>end</th>\n",
       "      <th>id_lc</th>\n",
       "      <th>length</th>\n",
       "      <th>id_protein</th>\n",
       "    </tr>\n",
       "  </thead>\n",
       "  <tbody>\n",
       "    <tr>\n",
       "      <th>0</th>\n",
       "      <td>236</td>\n",
       "      <td>243</td>\n",
       "      <td>1</td>\n",
       "      <td>8</td>\n",
       "      <td>1602</td>\n",
       "    </tr>\n",
       "    <tr>\n",
       "      <th>1</th>\n",
       "      <td>235</td>\n",
       "      <td>247</td>\n",
       "      <td>2</td>\n",
       "      <td>13</td>\n",
       "      <td>1132</td>\n",
       "    </tr>\n",
       "    <tr>\n",
       "      <th>2</th>\n",
       "      <td>248</td>\n",
       "      <td>247</td>\n",
       "      <td>3</td>\n",
       "      <td>0</td>\n",
       "      <td>1132</td>\n",
       "    </tr>\n",
       "    <tr>\n",
       "      <th>3</th>\n",
       "      <td>230</td>\n",
       "      <td>244</td>\n",
       "      <td>4</td>\n",
       "      <td>15</td>\n",
       "      <td>1049</td>\n",
       "    </tr>\n",
       "    <tr>\n",
       "      <th>4</th>\n",
       "      <td>245</td>\n",
       "      <td>244</td>\n",
       "      <td>5</td>\n",
       "      <td>0</td>\n",
       "      <td>1049</td>\n",
       "    </tr>\n",
       "  </tbody>\n",
       "</table>\n",
       "</div>"
      ],
      "text/plain": [
       "   start  end  id_lc  length  id_protein\n",
       "0    236  243      1       8        1602\n",
       "1    235  247      2      13        1132\n",
       "2    248  247      3       0        1132\n",
       "3    230  244      4      15        1049\n",
       "4    245  244      5       0        1049"
      ]
     },
     "execution_count": 416,
     "metadata": {},
     "output_type": "execute_result"
    }
   ],
   "source": [
    "low_complexity.head()"
   ]
  },
  {
   "cell_type": "code",
   "execution_count": 417,
   "metadata": {},
   "outputs": [],
   "source": [
    "low_complexity.to_csv('db_tables/low_complexity.tsv', sep='\\t', index= False)"
   ]
  },
  {
   "cell_type": "markdown",
   "metadata": {},
   "source": [
    "## mutation_has_low_complexity  \r\n",
    "cols: id_mutation, id_lc"
   ]
  },
  {
   "cell_type": "code",
   "execution_count": 418,
   "metadata": {},
   "outputs": [],
   "source": [
    "# Table for LC data\n",
    "lc_has = low_complexity.copy()\n",
    "lc_has.rename(columns={'id_protein': 'Chromosome', 'start': 'Start', 'end': 'End'}, inplace= True)"
   ]
  },
  {
   "cell_type": "code",
   "execution_count": 419,
   "metadata": {},
   "outputs": [],
   "source": [
    "# Auxiliar table for mutations\r\n",
    "aux_lc = mutation[['start_aa', 'end_aa', 'id_mutation', 'id_protein']].copy()\r\n",
    "aux_lc.rename(columns={'id_protein': 'Chromosome', 'start_aa': 'Start', 'end_aa': 'End'}, inplace= True)"
   ]
  },
  {
   "cell_type": "code",
   "execution_count": 420,
   "metadata": {},
   "outputs": [
    {
     "data": {
      "text/html": [
       "<div>\n",
       "<style scoped>\n",
       "    .dataframe tbody tr th:only-of-type {\n",
       "        vertical-align: middle;\n",
       "    }\n",
       "\n",
       "    .dataframe tbody tr th {\n",
       "        vertical-align: top;\n",
       "    }\n",
       "\n",
       "    .dataframe thead th {\n",
       "        text-align: right;\n",
       "    }\n",
       "</style>\n",
       "<table border=\"1\" class=\"dataframe\">\n",
       "  <thead>\n",
       "    <tr style=\"text-align: right;\">\n",
       "      <th></th>\n",
       "      <th>Start</th>\n",
       "      <th>End</th>\n",
       "      <th>id_mutation</th>\n",
       "      <th>Chromosome</th>\n",
       "    </tr>\n",
       "  </thead>\n",
       "  <tbody>\n",
       "    <tr>\n",
       "      <th>0</th>\n",
       "      <td>709</td>\n",
       "      <td>709</td>\n",
       "      <td>1</td>\n",
       "      <td>2290</td>\n",
       "    </tr>\n",
       "    <tr>\n",
       "      <th>1</th>\n",
       "      <td>52</td>\n",
       "      <td>52</td>\n",
       "      <td>2</td>\n",
       "      <td>2290</td>\n",
       "    </tr>\n",
       "    <tr>\n",
       "      <th>2</th>\n",
       "      <td>1091</td>\n",
       "      <td>1091</td>\n",
       "      <td>3</td>\n",
       "      <td>233</td>\n",
       "    </tr>\n",
       "    <tr>\n",
       "      <th>3</th>\n",
       "      <td>255</td>\n",
       "      <td>255</td>\n",
       "      <td>4</td>\n",
       "      <td>233</td>\n",
       "    </tr>\n",
       "    <tr>\n",
       "      <th>4</th>\n",
       "      <td>664</td>\n",
       "      <td>664</td>\n",
       "      <td>5</td>\n",
       "      <td>233</td>\n",
       "    </tr>\n",
       "  </tbody>\n",
       "</table>\n",
       "</div>"
      ],
      "text/plain": [
       "   Start   End  id_mutation  Chromosome\n",
       "0    709   709            1        2290\n",
       "1     52    52            2        2290\n",
       "2   1091  1091            3         233\n",
       "3    255   255            4         233\n",
       "4    664   664            5         233"
      ]
     },
     "execution_count": 420,
     "metadata": {},
     "output_type": "execute_result"
    }
   ],
   "source": [
    "aux_lc.head()"
   ]
  },
  {
   "cell_type": "code",
   "execution_count": 421,
   "metadata": {},
   "outputs": [],
   "source": [
    "# Create the Pyranges objects\n",
    "lc_has_py = pr.PyRanges(lc_has)\n",
    "aux_lc_py = pr.PyRanges(aux_lc)"
   ]
  },
  {
   "cell_type": "code",
   "execution_count": 422,
   "metadata": {},
   "outputs": [],
   "source": [
    "# Join both pyranges object: this assings mutations to low-complexity regions\r\n",
    "lc_py = aux_lc_py.join(lc_has_py, strandedness= False, slack=1).drop(like=\"_b\") # strandedness= False doesnt take count of the chain strand;\r\n",
    "                                                                                # slack= 1 include bounds; drop(like=\"_b\"): delete those cols (redudants)"
   ]
  },
  {
   "cell_type": "code",
   "execution_count": 423,
   "metadata": {},
   "outputs": [
    {
     "data": {
      "text/html": [
       "<div>\n",
       "<style scoped>\n",
       "    .dataframe tbody tr th:only-of-type {\n",
       "        vertical-align: middle;\n",
       "    }\n",
       "\n",
       "    .dataframe tbody tr th {\n",
       "        vertical-align: top;\n",
       "    }\n",
       "\n",
       "    .dataframe thead th {\n",
       "        text-align: right;\n",
       "    }\n",
       "</style>\n",
       "<table border=\"1\" class=\"dataframe\">\n",
       "  <thead>\n",
       "    <tr style=\"text-align: right;\">\n",
       "      <th></th>\n",
       "      <th>Start</th>\n",
       "      <th>End</th>\n",
       "      <th>id_mutation</th>\n",
       "      <th>Chromosome</th>\n",
       "      <th>id_lc</th>\n",
       "      <th>length</th>\n",
       "    </tr>\n",
       "  </thead>\n",
       "  <tbody>\n",
       "    <tr>\n",
       "      <th>0</th>\n",
       "      <td>1133</td>\n",
       "      <td>1133</td>\n",
       "      <td>244470</td>\n",
       "      <td>9</td>\n",
       "      <td>5240</td>\n",
       "      <td>12</td>\n",
       "    </tr>\n",
       "    <tr>\n",
       "      <th>1</th>\n",
       "      <td>287</td>\n",
       "      <td>287</td>\n",
       "      <td>36058</td>\n",
       "      <td>16</td>\n",
       "      <td>9733</td>\n",
       "      <td>28</td>\n",
       "    </tr>\n",
       "    <tr>\n",
       "      <th>2</th>\n",
       "      <td>197</td>\n",
       "      <td>197</td>\n",
       "      <td>36059</td>\n",
       "      <td>16</td>\n",
       "      <td>9732</td>\n",
       "      <td>29</td>\n",
       "    </tr>\n",
       "    <tr>\n",
       "      <th>3</th>\n",
       "      <td>336</td>\n",
       "      <td>336</td>\n",
       "      <td>247177</td>\n",
       "      <td>17</td>\n",
       "      <td>5023</td>\n",
       "      <td>26</td>\n",
       "    </tr>\n",
       "    <tr>\n",
       "      <th>4</th>\n",
       "      <td>1038</td>\n",
       "      <td>1038</td>\n",
       "      <td>244588</td>\n",
       "      <td>18</td>\n",
       "      <td>11903</td>\n",
       "      <td>20</td>\n",
       "    </tr>\n",
       "    <tr>\n",
       "      <th>5</th>\n",
       "      <td>1469</td>\n",
       "      <td>1469</td>\n",
       "      <td>242383</td>\n",
       "      <td>19</td>\n",
       "      <td>10455</td>\n",
       "      <td>18</td>\n",
       "    </tr>\n",
       "    <tr>\n",
       "      <th>6</th>\n",
       "      <td>5</td>\n",
       "      <td>5</td>\n",
       "      <td>242248</td>\n",
       "      <td>23</td>\n",
       "      <td>5786</td>\n",
       "      <td>14</td>\n",
       "    </tr>\n",
       "    <tr>\n",
       "      <th>7</th>\n",
       "      <td>7</td>\n",
       "      <td>7</td>\n",
       "      <td>242256</td>\n",
       "      <td>23</td>\n",
       "      <td>5786</td>\n",
       "      <td>14</td>\n",
       "    </tr>\n",
       "  </tbody>\n",
       "</table>\n",
       "</div>"
      ],
      "text/plain": [
       "+-----------+-----------+---------------+--------------+-----------+-----------+\n",
       "|     Start |       End |   id_mutation |   Chromosome |     id_lc |    length |\n",
       "|   (int32) |   (int32) |       (int64) |   (category) |   (int32) |   (int64) |\n",
       "|-----------+-----------+---------------+--------------+-----------+-----------|\n",
       "|      1133 |      1133 |        244470 |            9 |      5240 |        12 |\n",
       "|       287 |       287 |         36058 |           16 |      9733 |        28 |\n",
       "|       197 |       197 |         36059 |           16 |      9732 |        29 |\n",
       "|       336 |       336 |        247177 |           17 |      5023 |        26 |\n",
       "|      1038 |      1038 |        244588 |           18 |     11903 |        20 |\n",
       "|      1469 |      1469 |        242383 |           19 |     10455 |        18 |\n",
       "|         5 |         5 |        242248 |           23 |      5786 |        14 |\n",
       "|         7 |         7 |        242256 |           23 |      5786 |        14 |\n",
       "+-----------+-----------+---------------+--------------+-----------+-----------+\n",
       "Unstranded PyRanges object has 8 rows and 6 columns from 6 chromosomes.\n",
       "For printing, the PyRanges was sorted on Chromosome."
      ]
     },
     "execution_count": 423,
     "metadata": {},
     "output_type": "execute_result"
    }
   ],
   "source": [
    "lc_py.head()"
   ]
  },
  {
   "cell_type": "code",
   "execution_count": 424,
   "metadata": {},
   "outputs": [],
   "source": [
    "# Pyrange to DataFrame\r\n",
    "mutation_has_low_complexity = lc_py.df[['id_mutation', 'id_lc']] # cols to keep"
   ]
  },
  {
   "cell_type": "code",
   "execution_count": 425,
   "metadata": {},
   "outputs": [
    {
     "data": {
      "text/html": [
       "<div>\n",
       "<style scoped>\n",
       "    .dataframe tbody tr th:only-of-type {\n",
       "        vertical-align: middle;\n",
       "    }\n",
       "\n",
       "    .dataframe tbody tr th {\n",
       "        vertical-align: top;\n",
       "    }\n",
       "\n",
       "    .dataframe thead th {\n",
       "        text-align: right;\n",
       "    }\n",
       "</style>\n",
       "<table border=\"1\" class=\"dataframe\">\n",
       "  <thead>\n",
       "    <tr style=\"text-align: right;\">\n",
       "      <th></th>\n",
       "      <th>id_mutation</th>\n",
       "      <th>id_lc</th>\n",
       "    </tr>\n",
       "  </thead>\n",
       "  <tbody>\n",
       "    <tr>\n",
       "      <th>0</th>\n",
       "      <td>244470</td>\n",
       "      <td>5240</td>\n",
       "    </tr>\n",
       "    <tr>\n",
       "      <th>1</th>\n",
       "      <td>36058</td>\n",
       "      <td>9733</td>\n",
       "    </tr>\n",
       "    <tr>\n",
       "      <th>2</th>\n",
       "      <td>36059</td>\n",
       "      <td>9732</td>\n",
       "    </tr>\n",
       "    <tr>\n",
       "      <th>3</th>\n",
       "      <td>247177</td>\n",
       "      <td>5023</td>\n",
       "    </tr>\n",
       "    <tr>\n",
       "      <th>4</th>\n",
       "      <td>244588</td>\n",
       "      <td>11903</td>\n",
       "    </tr>\n",
       "  </tbody>\n",
       "</table>\n",
       "</div>"
      ],
      "text/plain": [
       "   id_mutation  id_lc\n",
       "0       244470   5240\n",
       "1        36058   9733\n",
       "2        36059   9732\n",
       "3       247177   5023\n",
       "4       244588  11903"
      ]
     },
     "execution_count": 425,
     "metadata": {},
     "output_type": "execute_result"
    }
   ],
   "source": [
    "mutation_has_low_complexity.head()"
   ]
  },
  {
   "cell_type": "code",
   "execution_count": 426,
   "metadata": {},
   "outputs": [
    {
     "data": {
      "text/html": [
       "<div>\n",
       "<style scoped>\n",
       "    .dataframe tbody tr th:only-of-type {\n",
       "        vertical-align: middle;\n",
       "    }\n",
       "\n",
       "    .dataframe tbody tr th {\n",
       "        vertical-align: top;\n",
       "    }\n",
       "\n",
       "    .dataframe thead th {\n",
       "        text-align: right;\n",
       "    }\n",
       "</style>\n",
       "<table border=\"1\" class=\"dataframe\">\n",
       "  <thead>\n",
       "    <tr style=\"text-align: right;\">\n",
       "      <th></th>\n",
       "      <th>start</th>\n",
       "      <th>end</th>\n",
       "      <th>id_lc</th>\n",
       "      <th>length</th>\n",
       "      <th>id_protein</th>\n",
       "    </tr>\n",
       "  </thead>\n",
       "  <tbody>\n",
       "    <tr>\n",
       "      <th>5239</th>\n",
       "      <td>1128</td>\n",
       "      <td>1139</td>\n",
       "      <td>5240</td>\n",
       "      <td>12</td>\n",
       "      <td>9</td>\n",
       "    </tr>\n",
       "  </tbody>\n",
       "</table>\n",
       "</div>"
      ],
      "text/plain": [
       "      start   end  id_lc  length  id_protein\n",
       "5239   1128  1139   5240      12           9"
      ]
     },
     "execution_count": 426,
     "metadata": {},
     "output_type": "execute_result"
    }
   ],
   "source": [
    "# Control\r\n",
    "low_complexity[low_complexity.id_lc == 5240]"
   ]
  },
  {
   "cell_type": "code",
   "execution_count": 427,
   "metadata": {},
   "outputs": [
    {
     "data": {
      "text/plain": [
       "id_protein                                                          9\n",
       "uniprot_acc                                                    A1KZ92\n",
       "hgnc_id                                                    HGNC:26359\n",
       "gene_id                                                      137902.0\n",
       "gene_name                                                       PXDNL\n",
       "length                                                           1463\n",
       "sequence            MEPRLFCWTTLFLLAGWCLPGLPCPSRCLCFKSTVRCMHLMLDHIP...\n",
       "disorder_content                                                  NaN\n",
       "Name: 8, dtype: object"
      ]
     },
     "execution_count": 427,
     "metadata": {},
     "output_type": "execute_result"
    }
   ],
   "source": [
    "protein.iloc[8]"
   ]
  },
  {
   "cell_type": "code",
   "execution_count": 428,
   "metadata": {},
   "outputs": [
    {
     "data": {
      "text/html": [
       "<div>\n",
       "<style scoped>\n",
       "    .dataframe tbody tr th:only-of-type {\n",
       "        vertical-align: middle;\n",
       "    }\n",
       "\n",
       "    .dataframe tbody tr th {\n",
       "        vertical-align: top;\n",
       "    }\n",
       "\n",
       "    .dataframe thead th {\n",
       "        text-align: right;\n",
       "    }\n",
       "</style>\n",
       "<table border=\"1\" class=\"dataframe\">\n",
       "  <thead>\n",
       "    <tr style=\"text-align: right;\">\n",
       "      <th></th>\n",
       "      <th>id_mutation</th>\n",
       "      <th>snp_id</th>\n",
       "      <th>chromosome</th>\n",
       "      <th>start_genomic</th>\n",
       "      <th>end_genomic</th>\n",
       "      <th>start_aa</th>\n",
       "      <th>end_aa</th>\n",
       "      <th>from_aa</th>\n",
       "      <th>to_aa</th>\n",
       "      <th>id_protein</th>\n",
       "      <th>id_consequence</th>\n",
       "      <th>nt_change</th>\n",
       "    </tr>\n",
       "  </thead>\n",
       "  <tbody>\n",
       "    <tr>\n",
       "      <th>23988</th>\n",
       "      <td>23989</td>\n",
       "      <td>rs766947924</td>\n",
       "      <td>7</td>\n",
       "      <td>92501622</td>\n",
       "      <td>92501622</td>\n",
       "      <td>823</td>\n",
       "      <td>823</td>\n",
       "      <td>P</td>\n",
       "      <td>NaN</td>\n",
       "      <td>281</td>\n",
       "      <td>2</td>\n",
       "      <td>2468del</td>\n",
       "    </tr>\n",
       "  </tbody>\n",
       "</table>\n",
       "</div>"
      ],
      "text/plain": [
       "       id_mutation       snp_id chromosome  start_genomic  end_genomic  \\\n",
       "23988        23989  rs766947924          7       92501622     92501622   \n",
       "\n",
       "       start_aa  end_aa from_aa to_aa  id_protein  id_consequence nt_change  \n",
       "23988       823     823       P   NaN         281               2  2468del   "
      ]
     },
     "execution_count": 428,
     "metadata": {},
     "output_type": "execute_result"
    }
   ],
   "source": [
    "mutation[mutation.id_mutation == 23989] # It's allright! Mutation in aa 1133, which belongs to the low-complexity region between 1128 - 1139 in that protein"
   ]
  },
  {
   "cell_type": "code",
   "execution_count": 429,
   "metadata": {},
   "outputs": [],
   "source": [
    "mutation_has_low_complexity.to_csv('db_tables/mutation_has_low_complexity.tsv', sep='\\t', index= False)"
   ]
  },
  {
   "cell_type": "markdown",
   "metadata": {},
   "source": [
    "---  \n",
    "# Disorder Tables"
   ]
  },
  {
   "cell_type": "markdown",
   "metadata": {},
   "source": [
    "## disorder_region  \r\n",
    "cols: id_idr, start, end, length, id_protein"
   ]
  },
  {
   "cell_type": "code",
   "execution_count": 430,
   "metadata": {},
   "outputs": [],
   "source": [
    "# Add length col \n",
    "disorder['length'] = disorder.end - disorder.start + 1 "
   ]
  },
  {
   "cell_type": "code",
   "execution_count": 431,
   "metadata": {},
   "outputs": [
    {
     "data": {
      "text/html": [
       "<div>\n",
       "<style scoped>\n",
       "    .dataframe tbody tr th:only-of-type {\n",
       "        vertical-align: middle;\n",
       "    }\n",
       "\n",
       "    .dataframe tbody tr th {\n",
       "        vertical-align: top;\n",
       "    }\n",
       "\n",
       "    .dataframe thead th {\n",
       "        text-align: right;\n",
       "    }\n",
       "</style>\n",
       "<table border=\"1\" class=\"dataframe\">\n",
       "  <thead>\n",
       "    <tr style=\"text-align: right;\">\n",
       "      <th></th>\n",
       "      <th>start</th>\n",
       "      <th>end</th>\n",
       "      <th>id_idr</th>\n",
       "      <th>length</th>\n",
       "      <th>id_protein</th>\n",
       "    </tr>\n",
       "  </thead>\n",
       "  <tbody>\n",
       "    <tr>\n",
       "      <th>2338</th>\n",
       "      <td>1</td>\n",
       "      <td>30</td>\n",
       "      <td>2339</td>\n",
       "      <td>30</td>\n",
       "      <td>2</td>\n",
       "    </tr>\n",
       "    <tr>\n",
       "      <th>1426</th>\n",
       "      <td>1</td>\n",
       "      <td>68</td>\n",
       "      <td>1427</td>\n",
       "      <td>68</td>\n",
       "      <td>3</td>\n",
       "    </tr>\n",
       "    <tr>\n",
       "      <th>2489</th>\n",
       "      <td>1</td>\n",
       "      <td>25</td>\n",
       "      <td>2490</td>\n",
       "      <td>25</td>\n",
       "      <td>4</td>\n",
       "    </tr>\n",
       "    <tr>\n",
       "      <th>5782</th>\n",
       "      <td>660</td>\n",
       "      <td>754</td>\n",
       "      <td>5783</td>\n",
       "      <td>95</td>\n",
       "      <td>5</td>\n",
       "    </tr>\n",
       "    <tr>\n",
       "      <th>5781</th>\n",
       "      <td>1</td>\n",
       "      <td>103</td>\n",
       "      <td>5782</td>\n",
       "      <td>103</td>\n",
       "      <td>5</td>\n",
       "    </tr>\n",
       "  </tbody>\n",
       "</table>\n",
       "</div>"
      ],
      "text/plain": [
       "      start  end  id_idr  length  id_protein\n",
       "2338      1   30    2339      30           2\n",
       "1426      1   68    1427      68           3\n",
       "2489      1   25    2490      25           4\n",
       "5782    660  754    5783      95           5\n",
       "5781      1  103    5782     103           5"
      ]
     },
     "execution_count": 431,
     "metadata": {},
     "output_type": "execute_result"
    }
   ],
   "source": [
    "disorder_region = disorder.rename(columns={'uniprot': 'uniprot_acc'}).merge(id_protein).sort_values('id_protein')\r\n",
    "disorder_region.drop(columns='uniprot_acc', inplace= True)\r\n",
    "disorder_region.head()"
   ]
  },
  {
   "cell_type": "code",
   "execution_count": 432,
   "metadata": {},
   "outputs": [],
   "source": [
    "disorder_region.to_csv('db_tables/disorder_region.tsv', sep='\\t', index= False)"
   ]
  },
  {
   "cell_type": "markdown",
   "metadata": {},
   "source": [
    "## mutation_has_disorder_region  \r\n",
    "cols: id_mutation, id_idr"
   ]
  },
  {
   "cell_type": "code",
   "execution_count": 433,
   "metadata": {},
   "outputs": [
    {
     "data": {
      "text/html": [
       "<div>\n",
       "<style scoped>\n",
       "    .dataframe tbody tr th:only-of-type {\n",
       "        vertical-align: middle;\n",
       "    }\n",
       "\n",
       "    .dataframe tbody tr th {\n",
       "        vertical-align: top;\n",
       "    }\n",
       "\n",
       "    .dataframe thead th {\n",
       "        text-align: right;\n",
       "    }\n",
       "</style>\n",
       "<table border=\"1\" class=\"dataframe\">\n",
       "  <thead>\n",
       "    <tr style=\"text-align: right;\">\n",
       "      <th></th>\n",
       "      <th>Start</th>\n",
       "      <th>End</th>\n",
       "      <th>id_mutation</th>\n",
       "      <th>Chromosome</th>\n",
       "    </tr>\n",
       "  </thead>\n",
       "  <tbody>\n",
       "    <tr>\n",
       "      <th>0</th>\n",
       "      <td>709</td>\n",
       "      <td>709</td>\n",
       "      <td>1</td>\n",
       "      <td>2290</td>\n",
       "    </tr>\n",
       "    <tr>\n",
       "      <th>1</th>\n",
       "      <td>52</td>\n",
       "      <td>52</td>\n",
       "      <td>2</td>\n",
       "      <td>2290</td>\n",
       "    </tr>\n",
       "    <tr>\n",
       "      <th>2</th>\n",
       "      <td>1091</td>\n",
       "      <td>1091</td>\n",
       "      <td>3</td>\n",
       "      <td>233</td>\n",
       "    </tr>\n",
       "    <tr>\n",
       "      <th>3</th>\n",
       "      <td>255</td>\n",
       "      <td>255</td>\n",
       "      <td>4</td>\n",
       "      <td>233</td>\n",
       "    </tr>\n",
       "    <tr>\n",
       "      <th>4</th>\n",
       "      <td>664</td>\n",
       "      <td>664</td>\n",
       "      <td>5</td>\n",
       "      <td>233</td>\n",
       "    </tr>\n",
       "  </tbody>\n",
       "</table>\n",
       "</div>"
      ],
      "text/plain": [
       "   Start   End  id_mutation  Chromosome\n",
       "0    709   709            1        2290\n",
       "1     52    52            2        2290\n",
       "2   1091  1091            3         233\n",
       "3    255   255            4         233\n",
       "4    664   664            5         233"
      ]
     },
     "execution_count": 433,
     "metadata": {},
     "output_type": "execute_result"
    }
   ],
   "source": [
    "# Auxiliar table for mutations from low-complexity is the same for disorder. id-protein, start and end of the mutation\r\n",
    "aux_idr = aux_lc\r\n",
    "aux_idr.head()"
   ]
  },
  {
   "cell_type": "code",
   "execution_count": 434,
   "metadata": {},
   "outputs": [
    {
     "data": {
      "text/html": [
       "<div>\n",
       "<style scoped>\n",
       "    .dataframe tbody tr th:only-of-type {\n",
       "        vertical-align: middle;\n",
       "    }\n",
       "\n",
       "    .dataframe tbody tr th {\n",
       "        vertical-align: top;\n",
       "    }\n",
       "\n",
       "    .dataframe thead th {\n",
       "        text-align: right;\n",
       "    }\n",
       "</style>\n",
       "<table border=\"1\" class=\"dataframe\">\n",
       "  <thead>\n",
       "    <tr style=\"text-align: right;\">\n",
       "      <th></th>\n",
       "      <th>Start</th>\n",
       "      <th>End</th>\n",
       "      <th>id_idr</th>\n",
       "      <th>length</th>\n",
       "      <th>Chromosome</th>\n",
       "    </tr>\n",
       "  </thead>\n",
       "  <tbody>\n",
       "    <tr>\n",
       "      <th>2338</th>\n",
       "      <td>1</td>\n",
       "      <td>30</td>\n",
       "      <td>2339</td>\n",
       "      <td>30</td>\n",
       "      <td>2</td>\n",
       "    </tr>\n",
       "    <tr>\n",
       "      <th>1426</th>\n",
       "      <td>1</td>\n",
       "      <td>68</td>\n",
       "      <td>1427</td>\n",
       "      <td>68</td>\n",
       "      <td>3</td>\n",
       "    </tr>\n",
       "    <tr>\n",
       "      <th>2489</th>\n",
       "      <td>1</td>\n",
       "      <td>25</td>\n",
       "      <td>2490</td>\n",
       "      <td>25</td>\n",
       "      <td>4</td>\n",
       "    </tr>\n",
       "    <tr>\n",
       "      <th>5782</th>\n",
       "      <td>660</td>\n",
       "      <td>754</td>\n",
       "      <td>5783</td>\n",
       "      <td>95</td>\n",
       "      <td>5</td>\n",
       "    </tr>\n",
       "    <tr>\n",
       "      <th>5781</th>\n",
       "      <td>1</td>\n",
       "      <td>103</td>\n",
       "      <td>5782</td>\n",
       "      <td>103</td>\n",
       "      <td>5</td>\n",
       "    </tr>\n",
       "  </tbody>\n",
       "</table>\n",
       "</div>"
      ],
      "text/plain": [
       "      Start  End  id_idr  length  Chromosome\n",
       "2338      1   30    2339      30           2\n",
       "1426      1   68    1427      68           3\n",
       "2489      1   25    2490      25           4\n",
       "5782    660  754    5783      95           5\n",
       "5781      1  103    5782     103           5"
      ]
     },
     "execution_count": 434,
     "metadata": {},
     "output_type": "execute_result"
    }
   ],
   "source": [
    "# Table for IDRs data\r\n",
    "idr_has = disorder_region.copy()\r\n",
    "idr_has.rename(columns={'id_protein': 'Chromosome', 'start': 'Start', 'end': 'End'}, inplace= True)\r\n",
    "idr_has.head()"
   ]
  },
  {
   "cell_type": "code",
   "execution_count": 435,
   "metadata": {},
   "outputs": [],
   "source": [
    "# Create the Pyranges objects\n",
    "idr_has_py = pr.PyRanges(idr_has)\n",
    "aux_idr_py = pr.PyRanges(aux_idr)"
   ]
  },
  {
   "cell_type": "code",
   "execution_count": 436,
   "metadata": {},
   "outputs": [],
   "source": [
    "# Join both pyranges object: this assings mutations to pfam domains\n",
    "idr_py = aux_idr_py.join(idr_has_py, strandedness= False, slack=1).drop(like=\"_b\") # strandedness= False doesnt take count of the chain strand;\n",
    "                                                                                   # slack= 1 include bounds; drop(like=\"_b\"): delete those cols (redudants)"
   ]
  },
  {
   "cell_type": "code",
   "execution_count": 437,
   "metadata": {},
   "outputs": [
    {
     "data": {
      "text/html": [
       "<div>\n",
       "<style scoped>\n",
       "    .dataframe tbody tr th:only-of-type {\n",
       "        vertical-align: middle;\n",
       "    }\n",
       "\n",
       "    .dataframe tbody tr th {\n",
       "        vertical-align: top;\n",
       "    }\n",
       "\n",
       "    .dataframe thead th {\n",
       "        text-align: right;\n",
       "    }\n",
       "</style>\n",
       "<table border=\"1\" class=\"dataframe\">\n",
       "  <thead>\n",
       "    <tr style=\"text-align: right;\">\n",
       "      <th></th>\n",
       "      <th>Start</th>\n",
       "      <th>End</th>\n",
       "      <th>id_mutation</th>\n",
       "      <th>Chromosome</th>\n",
       "      <th>id_idr</th>\n",
       "      <th>length</th>\n",
       "    </tr>\n",
       "  </thead>\n",
       "  <tbody>\n",
       "    <tr>\n",
       "      <th>0</th>\n",
       "      <td>70</td>\n",
       "      <td>70</td>\n",
       "      <td>247855</td>\n",
       "      <td>12</td>\n",
       "      <td>4339</td>\n",
       "      <td>28</td>\n",
       "    </tr>\n",
       "    <tr>\n",
       "      <th>1</th>\n",
       "      <td>287</td>\n",
       "      <td>287</td>\n",
       "      <td>36058</td>\n",
       "      <td>16</td>\n",
       "      <td>4224</td>\n",
       "      <td>129</td>\n",
       "    </tr>\n",
       "    <tr>\n",
       "      <th>2</th>\n",
       "      <td>336</td>\n",
       "      <td>336</td>\n",
       "      <td>247177</td>\n",
       "      <td>17</td>\n",
       "      <td>2225</td>\n",
       "      <td>157</td>\n",
       "    </tr>\n",
       "    <tr>\n",
       "      <th>3</th>\n",
       "      <td>1014</td>\n",
       "      <td>1014</td>\n",
       "      <td>247178</td>\n",
       "      <td>17</td>\n",
       "      <td>2227</td>\n",
       "      <td>49</td>\n",
       "    </tr>\n",
       "    <tr>\n",
       "      <th>4</th>\n",
       "      <td>1371</td>\n",
       "      <td>1371</td>\n",
       "      <td>4949</td>\n",
       "      <td>19</td>\n",
       "      <td>4637</td>\n",
       "      <td>76</td>\n",
       "    </tr>\n",
       "    <tr>\n",
       "      <th>5</th>\n",
       "      <td>1180</td>\n",
       "      <td>1180</td>\n",
       "      <td>242367</td>\n",
       "      <td>19</td>\n",
       "      <td>4635</td>\n",
       "      <td>293</td>\n",
       "    </tr>\n",
       "    <tr>\n",
       "      <th>6</th>\n",
       "      <td>2580</td>\n",
       "      <td>2580</td>\n",
       "      <td>242369</td>\n",
       "      <td>19</td>\n",
       "      <td>4645</td>\n",
       "      <td>65</td>\n",
       "    </tr>\n",
       "    <tr>\n",
       "      <th>7</th>\n",
       "      <td>213</td>\n",
       "      <td>213</td>\n",
       "      <td>242374</td>\n",
       "      <td>19</td>\n",
       "      <td>4630</td>\n",
       "      <td>49</td>\n",
       "    </tr>\n",
       "  </tbody>\n",
       "</table>\n",
       "</div>"
      ],
      "text/plain": [
       "+-----------+-----------+---------------+--------------+-----------+-----------+\n",
       "|     Start |       End |   id_mutation |   Chromosome |    id_idr |    length |\n",
       "|   (int32) |   (int32) |       (int64) |   (category) |   (int32) |   (int64) |\n",
       "|-----------+-----------+---------------+--------------+-----------+-----------|\n",
       "|        70 |        70 |        247855 |           12 |      4339 |        28 |\n",
       "|       287 |       287 |         36058 |           16 |      4224 |       129 |\n",
       "|       336 |       336 |        247177 |           17 |      2225 |       157 |\n",
       "|      1014 |      1014 |        247178 |           17 |      2227 |        49 |\n",
       "|      1371 |      1371 |          4949 |           19 |      4637 |        76 |\n",
       "|      1180 |      1180 |        242367 |           19 |      4635 |       293 |\n",
       "|      2580 |      2580 |        242369 |           19 |      4645 |        65 |\n",
       "|       213 |       213 |        242374 |           19 |      4630 |        49 |\n",
       "+-----------+-----------+---------------+--------------+-----------+-----------+\n",
       "Unstranded PyRanges object has 8 rows and 6 columns from 4 chromosomes.\n",
       "For printing, the PyRanges was sorted on Chromosome."
      ]
     },
     "execution_count": 437,
     "metadata": {},
     "output_type": "execute_result"
    }
   ],
   "source": [
    "idr_py.head()"
   ]
  },
  {
   "cell_type": "code",
   "execution_count": 438,
   "metadata": {},
   "outputs": [
    {
     "data": {
      "text/html": [
       "<div>\n",
       "<style scoped>\n",
       "    .dataframe tbody tr th:only-of-type {\n",
       "        vertical-align: middle;\n",
       "    }\n",
       "\n",
       "    .dataframe tbody tr th {\n",
       "        vertical-align: top;\n",
       "    }\n",
       "\n",
       "    .dataframe thead th {\n",
       "        text-align: right;\n",
       "    }\n",
       "</style>\n",
       "<table border=\"1\" class=\"dataframe\">\n",
       "  <thead>\n",
       "    <tr style=\"text-align: right;\">\n",
       "      <th></th>\n",
       "      <th>id_mutation</th>\n",
       "      <th>id_idr</th>\n",
       "    </tr>\n",
       "  </thead>\n",
       "  <tbody>\n",
       "    <tr>\n",
       "      <th>0</th>\n",
       "      <td>247855</td>\n",
       "      <td>4339</td>\n",
       "    </tr>\n",
       "    <tr>\n",
       "      <th>1</th>\n",
       "      <td>36058</td>\n",
       "      <td>4224</td>\n",
       "    </tr>\n",
       "    <tr>\n",
       "      <th>2</th>\n",
       "      <td>247177</td>\n",
       "      <td>2225</td>\n",
       "    </tr>\n",
       "    <tr>\n",
       "      <th>3</th>\n",
       "      <td>247178</td>\n",
       "      <td>2227</td>\n",
       "    </tr>\n",
       "    <tr>\n",
       "      <th>4</th>\n",
       "      <td>4949</td>\n",
       "      <td>4637</td>\n",
       "    </tr>\n",
       "  </tbody>\n",
       "</table>\n",
       "</div>"
      ],
      "text/plain": [
       "   id_mutation  id_idr\n",
       "0       247855    4339\n",
       "1        36058    4224\n",
       "2       247177    2225\n",
       "3       247178    2227\n",
       "4         4949    4637"
      ]
     },
     "execution_count": 438,
     "metadata": {},
     "output_type": "execute_result"
    }
   ],
   "source": [
    "# Pyrange to DataFrame\r\n",
    "mutation_has_disorder_region = idr_py.df[['id_mutation', 'id_idr']] # cols to keep\r\n",
    "mutation_has_disorder_region.head()"
   ]
  },
  {
   "cell_type": "code",
   "execution_count": 439,
   "metadata": {},
   "outputs": [
    {
     "data": {
      "text/html": [
       "<div>\n",
       "<style scoped>\n",
       "    .dataframe tbody tr th:only-of-type {\n",
       "        vertical-align: middle;\n",
       "    }\n",
       "\n",
       "    .dataframe tbody tr th {\n",
       "        vertical-align: top;\n",
       "    }\n",
       "\n",
       "    .dataframe thead th {\n",
       "        text-align: right;\n",
       "    }\n",
       "</style>\n",
       "<table border=\"1\" class=\"dataframe\">\n",
       "  <thead>\n",
       "    <tr style=\"text-align: right;\">\n",
       "      <th></th>\n",
       "      <th>id_mutation</th>\n",
       "      <th>snp_id</th>\n",
       "      <th>chromosome</th>\n",
       "      <th>start_genomic</th>\n",
       "      <th>end_genomic</th>\n",
       "      <th>start_aa</th>\n",
       "      <th>end_aa</th>\n",
       "      <th>from_aa</th>\n",
       "      <th>to_aa</th>\n",
       "      <th>id_protein</th>\n",
       "      <th>id_consequence</th>\n",
       "      <th>nt_change</th>\n",
       "    </tr>\n",
       "  </thead>\n",
       "  <tbody>\n",
       "    <tr>\n",
       "      <th>24000</th>\n",
       "      <td>24001</td>\n",
       "      <td>NaN</td>\n",
       "      <td>7</td>\n",
       "      <td>92522126</td>\n",
       "      <td>92522126</td>\n",
       "      <td>83</td>\n",
       "      <td>83</td>\n",
       "      <td>K</td>\n",
       "      <td>NaN</td>\n",
       "      <td>281</td>\n",
       "      <td>2</td>\n",
       "      <td>249del</td>\n",
       "    </tr>\n",
       "  </tbody>\n",
       "</table>\n",
       "</div>"
      ],
      "text/plain": [
       "       id_mutation snp_id chromosome  start_genomic  end_genomic  start_aa  \\\n",
       "24000        24001    NaN          7       92522126     92522126        83   \n",
       "\n",
       "       end_aa from_aa to_aa  id_protein  id_consequence nt_change  \n",
       "24000      83       K   NaN         281               2   249del   "
      ]
     },
     "execution_count": 439,
     "metadata": {},
     "output_type": "execute_result"
    }
   ],
   "source": [
    "# Control\r\n",
    "mutation[mutation.id_mutation == 24001]"
   ]
  },
  {
   "cell_type": "code",
   "execution_count": 440,
   "metadata": {},
   "outputs": [
    {
     "data": {
      "text/html": [
       "<div>\n",
       "<style scoped>\n",
       "    .dataframe tbody tr th:only-of-type {\n",
       "        vertical-align: middle;\n",
       "    }\n",
       "\n",
       "    .dataframe tbody tr th {\n",
       "        vertical-align: top;\n",
       "    }\n",
       "\n",
       "    .dataframe thead th {\n",
       "        text-align: right;\n",
       "    }\n",
       "</style>\n",
       "<table border=\"1\" class=\"dataframe\">\n",
       "  <thead>\n",
       "    <tr style=\"text-align: right;\">\n",
       "      <th></th>\n",
       "      <th>id_protein</th>\n",
       "      <th>uniprot_acc</th>\n",
       "    </tr>\n",
       "  </thead>\n",
       "  <tbody>\n",
       "    <tr>\n",
       "      <th>11</th>\n",
       "      <td>12</td>\n",
       "      <td>A2A288</td>\n",
       "    </tr>\n",
       "  </tbody>\n",
       "</table>\n",
       "</div>"
      ],
      "text/plain": [
       "    id_protein uniprot_acc\n",
       "11          12      A2A288"
      ]
     },
     "execution_count": 440,
     "metadata": {},
     "output_type": "execute_result"
    }
   ],
   "source": [
    "id_protein[id_protein.id_protein == 12]"
   ]
  },
  {
   "cell_type": "code",
   "execution_count": 441,
   "metadata": {},
   "outputs": [
    {
     "data": {
      "text/html": [
       "<div>\n",
       "<style scoped>\n",
       "    .dataframe tbody tr th:only-of-type {\n",
       "        vertical-align: middle;\n",
       "    }\n",
       "\n",
       "    .dataframe tbody tr th {\n",
       "        vertical-align: top;\n",
       "    }\n",
       "\n",
       "    .dataframe thead th {\n",
       "        text-align: right;\n",
       "    }\n",
       "</style>\n",
       "<table border=\"1\" class=\"dataframe\">\n",
       "  <thead>\n",
       "    <tr style=\"text-align: right;\">\n",
       "      <th></th>\n",
       "      <th>uniprot_acc</th>\n",
       "      <th>start</th>\n",
       "      <th>end</th>\n",
       "      <th>id_idr</th>\n",
       "      <th>length</th>\n",
       "    </tr>\n",
       "  </thead>\n",
       "  <tbody>\n",
       "    <tr>\n",
       "      <th>4338</th>\n",
       "      <td>A2A288</td>\n",
       "      <td>48</td>\n",
       "      <td>75</td>\n",
       "      <td>4339</td>\n",
       "      <td>28</td>\n",
       "    </tr>\n",
       "  </tbody>\n",
       "</table>\n",
       "</div>"
      ],
      "text/plain": [
       "     uniprot_acc  start  end  id_idr  length\n",
       "4338      A2A288     48   75    4339      28"
      ]
     },
     "execution_count": 441,
     "metadata": {},
     "output_type": "execute_result"
    }
   ],
   "source": [
    "disorder[disorder.id_idr == 4339] # It's Ok. A point mutation in position 70 in the idr region between 48-75"
   ]
  },
  {
   "cell_type": "code",
   "execution_count": 442,
   "metadata": {},
   "outputs": [],
   "source": [
    "mutation_has_disorder_region.to_csv('db_tables/mutation_has_disorder_region.tsv', sep='\\t', index= False)"
   ]
  },
  {
   "cell_type": "markdown",
   "metadata": {},
   "source": [
    "---   \r\n",
    "# Rol table  \r\n",
    "cols: id_rol, rol"
   ]
  },
  {
   "cell_type": "code",
   "execution_count": 443,
   "metadata": {},
   "outputs": [
    {
     "data": {
      "text/plain": [
       "array(['driver', 'unassigned', 'regulator', 'client'], dtype=object)"
      ]
     },
     "execution_count": 443,
     "metadata": {},
     "output_type": "execute_result"
    }
   ],
   "source": [
    "database_entrada.rol.unique()"
   ]
  },
  {
   "cell_type": "code",
   "execution_count": 444,
   "metadata": {},
   "outputs": [
    {
     "data": {
      "text/plain": [
       "client        4138\n",
       "unassigned    2272\n",
       "regulator     1395\n",
       "driver         377\n",
       "Name: rol, dtype: int64"
      ]
     },
     "execution_count": 444,
     "metadata": {},
     "output_type": "execute_result"
    }
   ],
   "source": [
    "database_entrada.rol.value_counts()"
   ]
  },
  {
   "cell_type": "code",
   "execution_count": 445,
   "metadata": {},
   "outputs": [
    {
     "data": {
      "text/html": [
       "<div>\n",
       "<style scoped>\n",
       "    .dataframe tbody tr th:only-of-type {\n",
       "        vertical-align: middle;\n",
       "    }\n",
       "\n",
       "    .dataframe tbody tr th {\n",
       "        vertical-align: top;\n",
       "    }\n",
       "\n",
       "    .dataframe thead th {\n",
       "        text-align: right;\n",
       "    }\n",
       "</style>\n",
       "<table border=\"1\" class=\"dataframe\">\n",
       "  <thead>\n",
       "    <tr style=\"text-align: right;\">\n",
       "      <th></th>\n",
       "      <th>rol</th>\n",
       "      <th>id_rol</th>\n",
       "    </tr>\n",
       "  </thead>\n",
       "  <tbody>\n",
       "    <tr>\n",
       "      <th>0</th>\n",
       "      <td>client</td>\n",
       "      <td>1</td>\n",
       "    </tr>\n",
       "    <tr>\n",
       "      <th>1</th>\n",
       "      <td>unassigned</td>\n",
       "      <td>2</td>\n",
       "    </tr>\n",
       "    <tr>\n",
       "      <th>2</th>\n",
       "      <td>regulator</td>\n",
       "      <td>3</td>\n",
       "    </tr>\n",
       "    <tr>\n",
       "      <th>3</th>\n",
       "      <td>driver</td>\n",
       "      <td>4</td>\n",
       "    </tr>\n",
       "  </tbody>\n",
       "</table>\n",
       "</div>"
      ],
      "text/plain": [
       "          rol  id_rol\n",
       "0      client       1\n",
       "1  unassigned       2\n",
       "2   regulator       3\n",
       "3      driver       4"
      ]
     },
     "execution_count": 445,
     "metadata": {},
     "output_type": "execute_result"
    }
   ],
   "source": [
    "rol = pd.DataFrame({'rol': database_entrada.rol.value_counts().index, 'id_rol': range(1, len(database_entrada.rol.value_counts())+1)})\r\n",
    "rol"
   ]
  },
  {
   "cell_type": "code",
   "execution_count": 446,
   "metadata": {},
   "outputs": [],
   "source": [
    "rol.to_csv('db_tables/rol.tsv', sep='\\t', index= False)"
   ]
  },
  {
   "cell_type": "markdown",
   "metadata": {},
   "source": [
    "---  \r\n",
    "# dataset table  \r\n",
    "cols: id_dataset, dataset"
   ]
  },
  {
   "cell_type": "code",
   "execution_count": 447,
   "metadata": {},
   "outputs": [
    {
     "data": {
      "text/plain": [
       "drllps              5034\n",
       "phasepdb_ht         2346\n",
       "phasepdb_uniprot     384\n",
       "phasepdb_rev         297\n",
       "phasepro             121\n",
       "Name: db, dtype: int64"
      ]
     },
     "execution_count": 447,
     "metadata": {},
     "output_type": "execute_result"
    }
   ],
   "source": [
    "database_entrada.db.value_counts()"
   ]
  },
  {
   "cell_type": "code",
   "execution_count": 448,
   "metadata": {},
   "outputs": [
    {
     "data": {
      "text/html": [
       "<div>\n",
       "<style scoped>\n",
       "    .dataframe tbody tr th:only-of-type {\n",
       "        vertical-align: middle;\n",
       "    }\n",
       "\n",
       "    .dataframe tbody tr th {\n",
       "        vertical-align: top;\n",
       "    }\n",
       "\n",
       "    .dataframe thead th {\n",
       "        text-align: right;\n",
       "    }\n",
       "</style>\n",
       "<table border=\"1\" class=\"dataframe\">\n",
       "  <thead>\n",
       "    <tr style=\"text-align: right;\">\n",
       "      <th></th>\n",
       "      <th>dataset</th>\n",
       "      <th>id_dataset</th>\n",
       "    </tr>\n",
       "  </thead>\n",
       "  <tbody>\n",
       "    <tr>\n",
       "      <th>0</th>\n",
       "      <td>drllps</td>\n",
       "      <td>1</td>\n",
       "    </tr>\n",
       "    <tr>\n",
       "      <th>1</th>\n",
       "      <td>phasepdb_ht</td>\n",
       "      <td>2</td>\n",
       "    </tr>\n",
       "    <tr>\n",
       "      <th>2</th>\n",
       "      <td>phasepdb_uniprot</td>\n",
       "      <td>3</td>\n",
       "    </tr>\n",
       "    <tr>\n",
       "      <th>3</th>\n",
       "      <td>phasepdb_rev</td>\n",
       "      <td>4</td>\n",
       "    </tr>\n",
       "    <tr>\n",
       "      <th>4</th>\n",
       "      <td>phasepro</td>\n",
       "      <td>5</td>\n",
       "    </tr>\n",
       "  </tbody>\n",
       "</table>\n",
       "</div>"
      ],
      "text/plain": [
       "            dataset  id_dataset\n",
       "0            drllps           1\n",
       "1       phasepdb_ht           2\n",
       "2  phasepdb_uniprot           3\n",
       "3      phasepdb_rev           4\n",
       "4          phasepro           5"
      ]
     },
     "execution_count": 448,
     "metadata": {},
     "output_type": "execute_result"
    }
   ],
   "source": [
    "database = pd.DataFrame({'dataset': database_entrada.db.value_counts().index, 'id_dataset': range(1, len(database_entrada.db.value_counts())+1)})\r\n",
    "database"
   ]
  },
  {
   "cell_type": "code",
   "execution_count": 449,
   "metadata": {},
   "outputs": [],
   "source": [
    "database.to_csv('db_tables/dataset.tsv', sep='\\t', index= False)"
   ]
  },
  {
   "cell_type": "markdown",
   "metadata": {},
   "source": [
    "---  \r\n",
    "# MLOs tables  "
   ]
  },
  {
   "cell_type": "code",
   "execution_count": 450,
   "metadata": {},
   "outputs": [
    {
     "name": "stdout",
     "output_type": "stream",
     "text": [
      "<class 'pandas.core.frame.DataFrame'>\n",
      "Int64Index: 8182 entries, 0 to 8381\n",
      "Data columns (total 4 columns):\n",
      " #   Column       Non-Null Count  Dtype \n",
      "---  ------       --------------  ----- \n",
      " 0   uniprot_acc  8182 non-null   object\n",
      " 1   mlo          7361 non-null   object\n",
      " 2   rol          8182 non-null   object\n",
      " 3   db           8182 non-null   object\n",
      "dtypes: object(4)\n",
      "memory usage: 319.6+ KB\n"
     ]
    }
   ],
   "source": [
    "database_entrada.info()"
   ]
  },
  {
   "cell_type": "code",
   "execution_count": 451,
   "metadata": {},
   "outputs": [
    {
     "data": {
      "text/plain": [
       "Nucleolus                       2063\n",
       "Postsynaptic density            1374\n",
       "Stress granule                  1334\n",
       "P-body                           823\n",
       "Centrosome/Spindle pole body     534\n",
       "                                ... \n",
       "inclusion body                     1\n",
       "MORC3-NBs                          1\n",
       "granular component                 1\n",
       "TIS granule                        1\n",
       "extracellular matrix               1\n",
       "Name: mlo, Length: 113, dtype: int64"
      ]
     },
     "execution_count": 451,
     "metadata": {},
     "output_type": "execute_result"
    }
   ],
   "source": [
    "database_entrada.mlo.value_counts()"
   ]
  },
  {
   "cell_type": "code",
   "execution_count": 452,
   "metadata": {},
   "outputs": [
    {
     "data": {
      "text/plain": [
       "4368"
      ]
     },
     "execution_count": 452,
     "metadata": {},
     "output_type": "execute_result"
    }
   ],
   "source": [
    "len(database_entrada.uniprot_acc.unique())"
   ]
  },
  {
   "cell_type": "markdown",
   "metadata": {},
   "source": [
    "## Deal with mlos annotations"
   ]
  },
  {
   "cell_type": "code",
   "execution_count": 453,
   "metadata": {},
   "outputs": [],
   "source": [
    "database_entrada.mlo = database_entrada.mlo.str.strip()"
   ]
  },
  {
   "cell_type": "code",
   "execution_count": 454,
   "metadata": {},
   "outputs": [
    {
     "data": {
      "text/plain": [
       "114"
      ]
     },
     "execution_count": 454,
     "metadata": {},
     "output_type": "execute_result"
    }
   ],
   "source": [
    "len(database_entrada.mlo.unique()) # no blank spaces"
   ]
  },
  {
   "cell_type": "code",
   "execution_count": 455,
   "metadata": {},
   "outputs": [
    {
     "data": {
      "text/plain": [
       "Nucleolus                       2063\n",
       "Postsynaptic density            1374\n",
       "Stress granule                  1334\n",
       "P-body                           823\n",
       "Centrosome/Spindle pole body     534\n",
       "                                ... \n",
       "inclusion body                     1\n",
       "MORC3-NBs                          1\n",
       "granular component                 1\n",
       "TIS granule                        1\n",
       "extracellular matrix               1\n",
       "Name: mlo, Length: 113, dtype: int64"
      ]
     },
     "execution_count": 455,
     "metadata": {},
     "output_type": "execute_result"
    }
   ],
   "source": [
    "database_entrada.mlo.value_counts()"
   ]
  },
  {
   "cell_type": "markdown",
   "metadata": {},
   "source": [
    "### Paraspeckle"
   ]
  },
  {
   "cell_type": "code",
   "execution_count": 456,
   "metadata": {},
   "outputs": [
    {
     "data": {
      "text/plain": [
       "101"
      ]
     },
     "execution_count": 456,
     "metadata": {},
     "output_type": "execute_result"
    }
   ],
   "source": [
    "(database_entrada.mlo == 'Paraspeckle').sum()"
   ]
  },
  {
   "cell_type": "code",
   "execution_count": 457,
   "metadata": {},
   "outputs": [
    {
     "data": {
      "text/plain": [
       "104"
      ]
     },
     "execution_count": 457,
     "metadata": {},
     "output_type": "execute_result"
    }
   ],
   "source": [
    "# Unify paraspeckle with Paraspeckle\r\n",
    "database_entrada.replace('paraspeckle', 'Paraspeckle', inplace= True)\r\n",
    "(database_entrada.mlo == 'Paraspeckle').sum()"
   ]
  },
  {
   "cell_type": "markdown",
   "metadata": {},
   "source": [
    "### Sam68"
   ]
  },
  {
   "cell_type": "code",
   "execution_count": 458,
   "metadata": {},
   "outputs": [
    {
     "data": {
      "text/plain": [
       "11"
      ]
     },
     "execution_count": 458,
     "metadata": {},
     "output_type": "execute_result"
    }
   ],
   "source": [
    "(database_entrada.mlo == 'Sam68 nuclear bodies').sum()"
   ]
  },
  {
   "cell_type": "code",
   "execution_count": 459,
   "metadata": {},
   "outputs": [
    {
     "data": {
      "text/plain": [
       "2"
      ]
     },
     "execution_count": 459,
     "metadata": {},
     "output_type": "execute_result"
    }
   ],
   "source": [
    "(database_entrada.mlo == 'Sam68 nuclear bodies (SNBs)').sum()"
   ]
  },
  {
   "cell_type": "code",
   "execution_count": 460,
   "metadata": {},
   "outputs": [
    {
     "data": {
      "text/plain": [
       "12"
      ]
     },
     "execution_count": 460,
     "metadata": {},
     "output_type": "execute_result"
    }
   ],
   "source": [
    "(database_entrada.mlo == 'Sam68 nuclear body').sum()"
   ]
  },
  {
   "cell_type": "code",
   "execution_count": 461,
   "metadata": {},
   "outputs": [
    {
     "data": {
      "text/plain": [
       "25"
      ]
     },
     "execution_count": 461,
     "metadata": {},
     "output_type": "execute_result"
    }
   ],
   "source": [
    "database_entrada.replace(['Sam68 nuclear bodies', 'Sam68 nuclear bodies (SNBs)'], 'Sam68 nuclear body', inplace= True)\r\n",
    "(database_entrada.mlo == 'Sam68 nuclear body').sum()"
   ]
  },
  {
   "cell_type": "markdown",
   "metadata": {},
   "source": [
    "### PML body  \r\n",
    "**PhaSepDB**: The PML bodies are dynamic nuclear protein aggregates interspersed between chromatin. These punctate nuclear structures are call PML bodies because the PML gene is essential for their formation. are present in most mammalian cell nuclei and typically number 1 to 30 bodies per nucleus.  \r\n",
    "**DrLLPS**: PML nuclear bodies are annotetad in the nucleus. They are matrix-associated domains that recruit an astonishing variety of seemingly unrelated proteins."
   ]
  },
  {
   "cell_type": "code",
   "execution_count": 462,
   "metadata": {},
   "outputs": [
    {
     "data": {
      "text/plain": [
       "97"
      ]
     },
     "execution_count": 462,
     "metadata": {},
     "output_type": "execute_result"
    }
   ],
   "source": [
    "(database_entrada.mlo == 'PML nuclear body').sum()"
   ]
  },
  {
   "cell_type": "code",
   "execution_count": 463,
   "metadata": {},
   "outputs": [
    {
     "data": {
      "text/plain": [
       "77"
      ]
     },
     "execution_count": 463,
     "metadata": {},
     "output_type": "execute_result"
    }
   ],
   "source": [
    "(database_entrada.mlo == 'PML body').sum()"
   ]
  },
  {
   "cell_type": "code",
   "execution_count": 464,
   "metadata": {},
   "outputs": [
    {
     "data": {
      "text/plain": [
       "174"
      ]
     },
     "execution_count": 464,
     "metadata": {},
     "output_type": "execute_result"
    }
   ],
   "source": [
    "database_entrada.replace('PML body', 'PML nuclear body', inplace= True)\r\n",
    "(database_entrada.mlo == 'PML nuclear body').sum()"
   ]
  },
  {
   "cell_type": "markdown",
   "metadata": {},
   "source": [
    "### Polycomb body"
   ]
  },
  {
   "cell_type": "code",
   "execution_count": 465,
   "metadata": {},
   "outputs": [
    {
     "data": {
      "text/plain": [
       "2"
      ]
     },
     "execution_count": 465,
     "metadata": {},
     "output_type": "execute_result"
    }
   ],
   "source": [
    "(database_entrada.mlo == 'Polycomb bodies').sum()"
   ]
  },
  {
   "cell_type": "code",
   "execution_count": 466,
   "metadata": {},
   "outputs": [
    {
     "data": {
      "text/plain": [
       "4"
      ]
     },
     "execution_count": 466,
     "metadata": {},
     "output_type": "execute_result"
    }
   ],
   "source": [
    "database_entrada.replace('Polycomb bodies', 'Polycomb body', inplace= True)\r\n",
    "(database_entrada.mlo == 'Polycomb body').sum()"
   ]
  },
  {
   "cell_type": "markdown",
   "metadata": {},
   "source": [
    "### Pre and postsynaptic density"
   ]
  },
  {
   "cell_type": "code",
   "execution_count": 467,
   "metadata": {},
   "outputs": [
    {
     "data": {
      "text/plain": [
       "8"
      ]
     },
     "execution_count": 467,
     "metadata": {},
     "output_type": "execute_result"
    }
   ],
   "source": [
    "database_entrada.replace('Pre and postsynaptic densities', 'Pre and postsynaptic density', inplace= True)\r\n",
    "(database_entrada.mlo == 'Pre and postsynaptic density').sum()"
   ]
  },
  {
   "cell_type": "markdown",
   "metadata": {},
   "source": [
    "### Nuclear speckle"
   ]
  },
  {
   "cell_type": "code",
   "execution_count": 468,
   "metadata": {},
   "outputs": [
    {
     "data": {
      "text/plain": [
       "115"
      ]
     },
     "execution_count": 468,
     "metadata": {},
     "output_type": "execute_result"
    }
   ],
   "source": [
    "(database_entrada.mlo == 'Nucleus speckles').sum() #phasepdb"
   ]
  },
  {
   "cell_type": "code",
   "execution_count": 469,
   "metadata": {},
   "outputs": [
    {
     "data": {
      "text/plain": [
       "110"
      ]
     },
     "execution_count": 469,
     "metadata": {},
     "output_type": "execute_result"
    }
   ],
   "source": [
    "(database_entrada.mlo == 'Nuclear speckle').sum() # drllps"
   ]
  },
  {
   "cell_type": "code",
   "execution_count": 470,
   "metadata": {},
   "outputs": [
    {
     "data": {
      "text/plain": [
       "24"
      ]
     },
     "execution_count": 470,
     "metadata": {},
     "output_type": "execute_result"
    }
   ],
   "source": [
    "(database_entrada.mlo == 'Nuclear speckles').sum() #phasepdb"
   ]
  },
  {
   "cell_type": "code",
   "execution_count": 471,
   "metadata": {},
   "outputs": [
    {
     "data": {
      "text/plain": [
       "3"
      ]
     },
     "execution_count": 471,
     "metadata": {},
     "output_type": "execute_result"
    }
   ],
   "source": [
    "(database_entrada.mlo == 'nuclear speckle').sum()"
   ]
  },
  {
   "cell_type": "code",
   "execution_count": 472,
   "metadata": {},
   "outputs": [
    {
     "data": {
      "text/plain": [
       "252"
      ]
     },
     "execution_count": 472,
     "metadata": {},
     "output_type": "execute_result"
    }
   ],
   "source": [
    "database_entrada.replace(['Nucleus speckles', 'Nuclear speckles', 'nuclear speckle'], 'Nuclear speckle', inplace= True)\r\n",
    "(database_entrada.mlo == 'Nuclear speckle').sum()"
   ]
  },
  {
   "cell_type": "markdown",
   "metadata": {},
   "source": [
    "### Heterochromatin"
   ]
  },
  {
   "cell_type": "code",
   "execution_count": 473,
   "metadata": {},
   "outputs": [
    {
     "data": {
      "text/plain": [
       "2"
      ]
     },
     "execution_count": 473,
     "metadata": {},
     "output_type": "execute_result"
    }
   ],
   "source": [
    "(database_entrada.mlo == 'heterochromatin').sum()"
   ]
  },
  {
   "cell_type": "code",
   "execution_count": 474,
   "metadata": {},
   "outputs": [
    {
     "data": {
      "text/plain": [
       "3"
      ]
     },
     "execution_count": 474,
     "metadata": {},
     "output_type": "execute_result"
    }
   ],
   "source": [
    "database_entrada.replace('heterochromatin', 'Heterochromatin', inplace= True)\r\n",
    "(database_entrada.mlo == 'Heterochromatin').sum()"
   ]
  },
  {
   "cell_type": "markdown",
   "metadata": {},
   "source": [
    "### Cytoplasmic ribonucleoprotein granule"
   ]
  },
  {
   "cell_type": "code",
   "execution_count": 475,
   "metadata": {},
   "outputs": [
    {
     "data": {
      "text/plain": [
       "5"
      ]
     },
     "execution_count": 475,
     "metadata": {},
     "output_type": "execute_result"
    }
   ],
   "source": [
    "(database_entrada.mlo == 'cytoplasmic ribonucleoprotein granule').sum()\r\n"
   ]
  },
  {
   "cell_type": "code",
   "execution_count": 476,
   "metadata": {},
   "outputs": [],
   "source": [
    "database_entrada.replace('cytoplasmic ribonucleoprotein granule', 'Cytoplasmic ribonucleoprotein granule', inplace= True)"
   ]
  },
  {
   "cell_type": "markdown",
   "metadata": {},
   "source": [
    "### Membrane cluster"
   ]
  },
  {
   "cell_type": "code",
   "execution_count": 477,
   "metadata": {},
   "outputs": [
    {
     "data": {
      "text/plain": [
       "4"
      ]
     },
     "execution_count": 477,
     "metadata": {},
     "output_type": "execute_result"
    }
   ],
   "source": [
    "(database_entrada.mlo == 'Membrane clusters').sum()"
   ]
  },
  {
   "cell_type": "code",
   "execution_count": 478,
   "metadata": {},
   "outputs": [
    {
     "data": {
      "text/plain": [
       "3"
      ]
     },
     "execution_count": 478,
     "metadata": {},
     "output_type": "execute_result"
    }
   ],
   "source": [
    "(database_entrada.mlo == 'membrane cluster').sum()"
   ]
  },
  {
   "cell_type": "code",
   "execution_count": 479,
   "metadata": {},
   "outputs": [
    {
     "data": {
      "text/plain": [
       "7"
      ]
     },
     "execution_count": 479,
     "metadata": {},
     "output_type": "execute_result"
    }
   ],
   "source": [
    "database_entrada.replace(['Membrane clusters', 'membrane cluster'], 'Membrane cluster', inplace= True)\r\n",
    "(database_entrada.mlo == 'Membrane cluster').sum()"
   ]
  },
  {
   "cell_type": "markdown",
   "metadata": {},
   "source": [
    "### Nuclear body"
   ]
  },
  {
   "cell_type": "code",
   "execution_count": 480,
   "metadata": {},
   "outputs": [
    {
     "data": {
      "text/plain": [
       "11"
      ]
     },
     "execution_count": 480,
     "metadata": {},
     "output_type": "execute_result"
    }
   ],
   "source": [
    "database_entrada.replace('nuclear body', 'Nuclear body', inplace= True)\r\n",
    "(database_entrada.mlo == 'Nuclear body').sum()"
   ]
  },
  {
   "cell_type": "markdown",
   "metadata": {},
   "source": [
    "### Nucleolus"
   ]
  },
  {
   "cell_type": "code",
   "execution_count": 481,
   "metadata": {},
   "outputs": [
    {
     "data": {
      "text/plain": [
       "2064"
      ]
     },
     "execution_count": 481,
     "metadata": {},
     "output_type": "execute_result"
    }
   ],
   "source": [
    "database_entrada.replace('nucleolus', 'Nucleolus', inplace= True)\r\n",
    "(database_entrada.mlo == 'Nucleolus').sum()"
   ]
  },
  {
   "cell_type": "code",
   "execution_count": 482,
   "metadata": {},
   "outputs": [
    {
     "data": {
      "text/plain": [
       "534"
      ]
     },
     "execution_count": 482,
     "metadata": {},
     "output_type": "execute_result"
    }
   ],
   "source": [
    "(database_entrada.mlo == 'Centrosome/Spindle pole body').sum() # keep this annotation"
   ]
  },
  {
   "cell_type": "markdown",
   "metadata": {},
   "source": [
    "## OK, now mlo table  \r\n",
    "cols: id_mlo, mlo"
   ]
  },
  {
   "cell_type": "code",
   "execution_count": 483,
   "metadata": {},
   "outputs": [
    {
     "data": {
      "text/plain": [
       "Nucleolus                       2064\n",
       "Postsynaptic density            1374\n",
       "Stress granule                  1334\n",
       "P-body                           823\n",
       "Centrosome/Spindle pole body     534\n",
       "                                ... \n",
       "inclusion body                     1\n",
       "liquid-like DYRK3 speckles         1\n",
       "MORC3-NBs                          1\n",
       "granular component                 1\n",
       "extracellular matrix               1\n",
       "Name: mlo, Length: 99, dtype: int64"
      ]
     },
     "execution_count": 483,
     "metadata": {},
     "output_type": "execute_result"
    }
   ],
   "source": [
    "database_entrada.mlo.value_counts()"
   ]
  },
  {
   "cell_type": "code",
   "execution_count": 484,
   "metadata": {},
   "outputs": [
    {
     "data": {
      "text/html": [
       "<div>\n",
       "<style scoped>\n",
       "    .dataframe tbody tr th:only-of-type {\n",
       "        vertical-align: middle;\n",
       "    }\n",
       "\n",
       "    .dataframe tbody tr th {\n",
       "        vertical-align: top;\n",
       "    }\n",
       "\n",
       "    .dataframe thead th {\n",
       "        text-align: right;\n",
       "    }\n",
       "</style>\n",
       "<table border=\"1\" class=\"dataframe\">\n",
       "  <thead>\n",
       "    <tr style=\"text-align: right;\">\n",
       "      <th></th>\n",
       "      <th>uniprot_acc</th>\n",
       "      <th>mlo</th>\n",
       "      <th>rol</th>\n",
       "      <th>db</th>\n",
       "    </tr>\n",
       "  </thead>\n",
       "  <tbody>\n",
       "    <tr>\n",
       "      <th>0</th>\n",
       "      <td>P35637</td>\n",
       "      <td>cytoplasmic stress granule</td>\n",
       "      <td>driver</td>\n",
       "      <td>phasepro</td>\n",
       "    </tr>\n",
       "    <tr>\n",
       "      <th>1</th>\n",
       "      <td>P35637</td>\n",
       "      <td>Cytoplasmic ribonucleoprotein granule</td>\n",
       "      <td>driver</td>\n",
       "      <td>phasepro</td>\n",
       "    </tr>\n",
       "    <tr>\n",
       "      <th>2</th>\n",
       "      <td>Q06787</td>\n",
       "      <td>cytoplasmic stress granule</td>\n",
       "      <td>driver</td>\n",
       "      <td>phasepro</td>\n",
       "    </tr>\n",
       "    <tr>\n",
       "      <th>3</th>\n",
       "      <td>Q06787</td>\n",
       "      <td>Cytoplasmic ribonucleoprotein granule</td>\n",
       "      <td>driver</td>\n",
       "      <td>phasepro</td>\n",
       "    </tr>\n",
       "    <tr>\n",
       "      <th>4</th>\n",
       "      <td>Q06787</td>\n",
       "      <td>synaptosome</td>\n",
       "      <td>driver</td>\n",
       "      <td>phasepro</td>\n",
       "    </tr>\n",
       "    <tr>\n",
       "      <th>...</th>\n",
       "      <td>...</td>\n",
       "      <td>...</td>\n",
       "      <td>...</td>\n",
       "      <td>...</td>\n",
       "    </tr>\n",
       "    <tr>\n",
       "      <th>8377</th>\n",
       "      <td>O95670</td>\n",
       "      <td>Nucleolus</td>\n",
       "      <td>client</td>\n",
       "      <td>drllps</td>\n",
       "    </tr>\n",
       "    <tr>\n",
       "      <th>8378</th>\n",
       "      <td>O95670</td>\n",
       "      <td>Postsynaptic density</td>\n",
       "      <td>client</td>\n",
       "      <td>drllps</td>\n",
       "    </tr>\n",
       "    <tr>\n",
       "      <th>8379</th>\n",
       "      <td>Q9H269</td>\n",
       "      <td>Postsynaptic density</td>\n",
       "      <td>client</td>\n",
       "      <td>drllps</td>\n",
       "    </tr>\n",
       "    <tr>\n",
       "      <th>8380</th>\n",
       "      <td>Q9Y3D7</td>\n",
       "      <td>Postsynaptic density</td>\n",
       "      <td>client</td>\n",
       "      <td>drllps</td>\n",
       "    </tr>\n",
       "    <tr>\n",
       "      <th>8381</th>\n",
       "      <td>P33778</td>\n",
       "      <td>Nucleolus</td>\n",
       "      <td>client</td>\n",
       "      <td>drllps</td>\n",
       "    </tr>\n",
       "  </tbody>\n",
       "</table>\n",
       "<p>8187 rows × 4 columns</p>\n",
       "</div>"
      ],
      "text/plain": [
       "     uniprot_acc                                    mlo     rol        db\n",
       "0         P35637             cytoplasmic stress granule  driver  phasepro\n",
       "1         P35637  Cytoplasmic ribonucleoprotein granule  driver  phasepro\n",
       "2         Q06787             cytoplasmic stress granule  driver  phasepro\n",
       "3         Q06787  Cytoplasmic ribonucleoprotein granule  driver  phasepro\n",
       "4         Q06787                            synaptosome  driver  phasepro\n",
       "...          ...                                    ...     ...       ...\n",
       "8377      O95670                              Nucleolus  client    drllps\n",
       "8378      O95670                   Postsynaptic density  client    drllps\n",
       "8379      Q9H269                   Postsynaptic density  client    drllps\n",
       "8380      Q9Y3D7                   Postsynaptic density  client    drllps\n",
       "8381      P33778                              Nucleolus  client    drllps\n",
       "\n",
       "[8187 rows x 4 columns]"
      ]
     },
     "execution_count": 484,
     "metadata": {},
     "output_type": "execute_result"
    }
   ],
   "source": [
    "# EXPLODE:\r\n",
    "# P-body, Stress granule\r\n",
    "# P-body, GW body\r\n",
    "# Set mlo col as list-like and explode() to separate list elements into separate rows\r\n",
    "# before:  rows\r\n",
    "database_entrada = database_entrada.assign(mlo= database_entrada.mlo.str.split(',')).explode('mlo')\r\n",
    "database_entrada.mlo = database_entrada.mlo.str.strip()\r\n",
    "database_entrada.drop_duplicates(inplace= True)\r\n",
    "database_entrada\r\n",
    "# after: 8187 rows"
   ]
  },
  {
   "cell_type": "code",
   "execution_count": 485,
   "metadata": {},
   "outputs": [
    {
     "data": {
      "text/plain": [
       "3"
      ]
     },
     "execution_count": 485,
     "metadata": {},
     "output_type": "execute_result"
    }
   ],
   "source": [
    "# GW-body\r\n",
    "database_entrada.replace('GW body', 'GW-body', inplace= True)\r\n",
    "(database_entrada.mlo == 'GW-body').sum()"
   ]
  },
  {
   "cell_type": "code",
   "execution_count": 486,
   "metadata": {},
   "outputs": [
    {
     "data": {
      "text/plain": [
       "1375"
      ]
     },
     "execution_count": 486,
     "metadata": {},
     "output_type": "execute_result"
    }
   ],
   "source": [
    "# Postsynaptic density\r\n",
    "database_entrada.replace('postsynaptic density', 'Postsynaptic density', inplace= True)\r\n",
    "(database_entrada.mlo == 'Postsynaptic density').sum()"
   ]
  },
  {
   "cell_type": "code",
   "execution_count": 487,
   "metadata": {},
   "outputs": [
    {
     "data": {
      "text/plain": [
       "6"
      ]
     },
     "execution_count": 487,
     "metadata": {},
     "output_type": "execute_result"
    }
   ],
   "source": [
    "# Cytoplasmic ribonucleoprotein granule\r\n",
    "database_entrada.replace('cytoplasmic ribonucleoprotein granule', 'Cytoplasmic ribonucleoprotein granule', inplace= True)\r\n",
    "(database_entrada.mlo == 'Cytoplasmic ribonucleoprotein granule').sum()"
   ]
  },
  {
   "cell_type": "code",
   "execution_count": 488,
   "metadata": {},
   "outputs": [
    {
     "data": {
      "text/plain": [
       "16"
      ]
     },
     "execution_count": 488,
     "metadata": {},
     "output_type": "execute_result"
    }
   ],
   "source": [
    "# Histone locus body\r\n",
    "database_entrada.replace('Histone Locus body', 'Histone locus body', inplace= True)\r\n",
    "(database_entrada.mlo == 'Histone locus body').sum()"
   ]
  },
  {
   "cell_type": "code",
   "execution_count": 489,
   "metadata": {},
   "outputs": [
    {
     "data": {
      "text/plain": [
       "1337"
      ]
     },
     "execution_count": 489,
     "metadata": {},
     "output_type": "execute_result"
    }
   ],
   "source": [
    "# Stress granule\r\n",
    "database_entrada.replace('Sress granule', 'Stress granule', inplace= True)\r\n",
    "(database_entrada.mlo == 'Stress granule').sum()"
   ]
  },
  {
   "cell_type": "code",
   "execution_count": 490,
   "metadata": {},
   "outputs": [],
   "source": [
    "database_entrada.drop_duplicates(inplace= True)"
   ]
  },
  {
   "cell_type": "code",
   "execution_count": 491,
   "metadata": {},
   "outputs": [
    {
     "name": "stdout",
     "output_type": "stream",
     "text": [
      "<class 'pandas.core.frame.DataFrame'>\n",
      "Int64Index: 8186 entries, 0 to 8381\n",
      "Data columns (total 4 columns):\n",
      " #   Column       Non-Null Count  Dtype \n",
      "---  ------       --------------  ----- \n",
      " 0   uniprot_acc  8186 non-null   object\n",
      " 1   mlo          7365 non-null   object\n",
      " 2   rol          8186 non-null   object\n",
      " 3   db           8186 non-null   object\n",
      "dtypes: object(4)\n",
      "memory usage: 319.8+ KB\n"
     ]
    }
   ],
   "source": [
    "database_entrada.info()"
   ]
  },
  {
   "cell_type": "code",
   "execution_count": 492,
   "metadata": {},
   "outputs": [
    {
     "data": {
      "text/plain": [
       "Nucleolus                       2064\n",
       "Postsynaptic density            1375\n",
       "Stress granule                  1337\n",
       "P-body                           827\n",
       "Centrosome/Spindle pole body     534\n",
       "                                ... \n",
       "inclusion body                     1\n",
       "neuron projection                  1\n",
       "MORC3-NBs                          1\n",
       "TIS granule                        1\n",
       "extracellular matrix               1\n",
       "Name: mlo, Length: 96, dtype: int64"
      ]
     },
     "execution_count": 492,
     "metadata": {},
     "output_type": "execute_result"
    }
   ],
   "source": [
    "database_entrada.mlo.value_counts()"
   ]
  },
  {
   "cell_type": "code",
   "execution_count": 493,
   "metadata": {},
   "outputs": [
    {
     "data": {
      "text/html": [
       "<div>\n",
       "<style scoped>\n",
       "    .dataframe tbody tr th:only-of-type {\n",
       "        vertical-align: middle;\n",
       "    }\n",
       "\n",
       "    .dataframe tbody tr th {\n",
       "        vertical-align: top;\n",
       "    }\n",
       "\n",
       "    .dataframe thead th {\n",
       "        text-align: right;\n",
       "    }\n",
       "</style>\n",
       "<table border=\"1\" class=\"dataframe\">\n",
       "  <thead>\n",
       "    <tr style=\"text-align: right;\">\n",
       "      <th></th>\n",
       "      <th>mlo</th>\n",
       "      <th>id_mlo</th>\n",
       "    </tr>\n",
       "  </thead>\n",
       "  <tbody>\n",
       "    <tr>\n",
       "      <th>0</th>\n",
       "      <td>Nucleolus</td>\n",
       "      <td>1</td>\n",
       "    </tr>\n",
       "    <tr>\n",
       "      <th>1</th>\n",
       "      <td>Postsynaptic density</td>\n",
       "      <td>2</td>\n",
       "    </tr>\n",
       "    <tr>\n",
       "      <th>2</th>\n",
       "      <td>Stress granule</td>\n",
       "      <td>3</td>\n",
       "    </tr>\n",
       "    <tr>\n",
       "      <th>3</th>\n",
       "      <td>P-body</td>\n",
       "      <td>4</td>\n",
       "    </tr>\n",
       "    <tr>\n",
       "      <th>4</th>\n",
       "      <td>Centrosome/Spindle pole body</td>\n",
       "      <td>5</td>\n",
       "    </tr>\n",
       "    <tr>\n",
       "      <th>...</th>\n",
       "      <td>...</td>\n",
       "      <td>...</td>\n",
       "    </tr>\n",
       "    <tr>\n",
       "      <th>91</th>\n",
       "      <td>inclusion body</td>\n",
       "      <td>92</td>\n",
       "    </tr>\n",
       "    <tr>\n",
       "      <th>92</th>\n",
       "      <td>neuron projection</td>\n",
       "      <td>93</td>\n",
       "    </tr>\n",
       "    <tr>\n",
       "      <th>93</th>\n",
       "      <td>MORC3-NBs</td>\n",
       "      <td>94</td>\n",
       "    </tr>\n",
       "    <tr>\n",
       "      <th>94</th>\n",
       "      <td>TIS granule</td>\n",
       "      <td>95</td>\n",
       "    </tr>\n",
       "    <tr>\n",
       "      <th>95</th>\n",
       "      <td>extracellular matrix</td>\n",
       "      <td>96</td>\n",
       "    </tr>\n",
       "  </tbody>\n",
       "</table>\n",
       "<p>96 rows × 2 columns</p>\n",
       "</div>"
      ],
      "text/plain": [
       "                             mlo  id_mlo\n",
       "0                      Nucleolus       1\n",
       "1           Postsynaptic density       2\n",
       "2                 Stress granule       3\n",
       "3                         P-body       4\n",
       "4   Centrosome/Spindle pole body       5\n",
       "..                           ...     ...\n",
       "91                inclusion body      92\n",
       "92             neuron projection      93\n",
       "93                     MORC3-NBs      94\n",
       "94                   TIS granule      95\n",
       "95          extracellular matrix      96\n",
       "\n",
       "[96 rows x 2 columns]"
      ]
     },
     "execution_count": 493,
     "metadata": {},
     "output_type": "execute_result"
    }
   ],
   "source": [
    "mlo = pd.DataFrame({'mlo': database_entrada.mlo.value_counts().index, 'id_mlo': range(1, len(database_entrada.mlo[database_entrada.mlo.notnull()].unique())+1)})\r\n",
    "mlo"
   ]
  },
  {
   "cell_type": "code",
   "execution_count": 494,
   "metadata": {},
   "outputs": [],
   "source": [
    "mlo.to_csv('db_tables/mlo.tsv', sep='\\t', index= False)"
   ]
  },
  {
   "cell_type": "markdown",
   "metadata": {},
   "source": [
    "## protein_has_mlo  \r\n",
    "cols: id_protein, id_mlo, id_rol, id_database"
   ]
  },
  {
   "cell_type": "code",
   "execution_count": 495,
   "metadata": {},
   "outputs": [
    {
     "data": {
      "text/plain": [
       "4368"
      ]
     },
     "execution_count": 495,
     "metadata": {},
     "output_type": "execute_result"
    }
   ],
   "source": [
    "len(database_entrada.uniprot_acc.unique())"
   ]
  },
  {
   "cell_type": "code",
   "execution_count": 496,
   "metadata": {},
   "outputs": [],
   "source": [
    "protein_has_mlo = database_entrada.copy()"
   ]
  },
  {
   "cell_type": "code",
   "execution_count": 497,
   "metadata": {},
   "outputs": [
    {
     "data": {
      "text/html": [
       "<div>\n",
       "<style scoped>\n",
       "    .dataframe tbody tr th:only-of-type {\n",
       "        vertical-align: middle;\n",
       "    }\n",
       "\n",
       "    .dataframe tbody tr th {\n",
       "        vertical-align: top;\n",
       "    }\n",
       "\n",
       "    .dataframe thead th {\n",
       "        text-align: right;\n",
       "    }\n",
       "</style>\n",
       "<table border=\"1\" class=\"dataframe\">\n",
       "  <thead>\n",
       "    <tr style=\"text-align: right;\">\n",
       "      <th></th>\n",
       "      <th>uniprot_acc</th>\n",
       "      <th>mlo</th>\n",
       "      <th>rol</th>\n",
       "      <th>db</th>\n",
       "    </tr>\n",
       "  </thead>\n",
       "  <tbody>\n",
       "    <tr>\n",
       "      <th>0</th>\n",
       "      <td>P35637</td>\n",
       "      <td>cytoplasmic stress granule</td>\n",
       "      <td>driver</td>\n",
       "      <td>phasepro</td>\n",
       "    </tr>\n",
       "    <tr>\n",
       "      <th>1</th>\n",
       "      <td>P35637</td>\n",
       "      <td>Cytoplasmic ribonucleoprotein granule</td>\n",
       "      <td>driver</td>\n",
       "      <td>phasepro</td>\n",
       "    </tr>\n",
       "    <tr>\n",
       "      <th>2</th>\n",
       "      <td>Q06787</td>\n",
       "      <td>cytoplasmic stress granule</td>\n",
       "      <td>driver</td>\n",
       "      <td>phasepro</td>\n",
       "    </tr>\n",
       "    <tr>\n",
       "      <th>3</th>\n",
       "      <td>Q06787</td>\n",
       "      <td>Cytoplasmic ribonucleoprotein granule</td>\n",
       "      <td>driver</td>\n",
       "      <td>phasepro</td>\n",
       "    </tr>\n",
       "    <tr>\n",
       "      <th>4</th>\n",
       "      <td>Q06787</td>\n",
       "      <td>synaptosome</td>\n",
       "      <td>driver</td>\n",
       "      <td>phasepro</td>\n",
       "    </tr>\n",
       "  </tbody>\n",
       "</table>\n",
       "</div>"
      ],
      "text/plain": [
       "  uniprot_acc                                    mlo     rol        db\n",
       "0      P35637             cytoplasmic stress granule  driver  phasepro\n",
       "1      P35637  Cytoplasmic ribonucleoprotein granule  driver  phasepro\n",
       "2      Q06787             cytoplasmic stress granule  driver  phasepro\n",
       "3      Q06787  Cytoplasmic ribonucleoprotein granule  driver  phasepro\n",
       "4      Q06787                            synaptosome  driver  phasepro"
      ]
     },
     "execution_count": 497,
     "metadata": {},
     "output_type": "execute_result"
    }
   ],
   "source": [
    "protein_has_mlo.head()"
   ]
  },
  {
   "cell_type": "code",
   "execution_count": 498,
   "metadata": {},
   "outputs": [],
   "source": [
    "# Add id_protein\r\n",
    "protein_has_mlo = protein_has_mlo.merge(id_protein)\r\n",
    "# Add id_mlo\r\n",
    "protein_has_mlo = protein_has_mlo.merge(mlo, how= 'left')\r\n",
    "# Add id_rol and id_database\r\n",
    "protein_has_mlo = protein_has_mlo.merge(rol)\r\n",
    "protein_has_mlo = protein_has_mlo.rename(columns={'db': 'dataset'}).merge(database).sort_values('id_protein')"
   ]
  },
  {
   "cell_type": "code",
   "execution_count": 499,
   "metadata": {},
   "outputs": [
    {
     "data": {
      "text/html": [
       "<div>\n",
       "<style scoped>\n",
       "    .dataframe tbody tr th:only-of-type {\n",
       "        vertical-align: middle;\n",
       "    }\n",
       "\n",
       "    .dataframe tbody tr th {\n",
       "        vertical-align: top;\n",
       "    }\n",
       "\n",
       "    .dataframe thead th {\n",
       "        text-align: right;\n",
       "    }\n",
       "</style>\n",
       "<table border=\"1\" class=\"dataframe\">\n",
       "  <thead>\n",
       "    <tr style=\"text-align: right;\">\n",
       "      <th></th>\n",
       "      <th>id_protein</th>\n",
       "      <th>id_mlo</th>\n",
       "      <th>id_rol</th>\n",
       "      <th>id_dataset</th>\n",
       "    </tr>\n",
       "  </thead>\n",
       "  <tbody>\n",
       "    <tr>\n",
       "      <th>7800</th>\n",
       "      <td>1</td>\n",
       "      <td>NaN</td>\n",
       "      <td>3</td>\n",
       "      <td>2</td>\n",
       "    </tr>\n",
       "    <tr>\n",
       "      <th>918</th>\n",
       "      <td>2</td>\n",
       "      <td>3.0</td>\n",
       "      <td>3</td>\n",
       "      <td>1</td>\n",
       "    </tr>\n",
       "    <tr>\n",
       "      <th>1162</th>\n",
       "      <td>3</td>\n",
       "      <td>4.0</td>\n",
       "      <td>1</td>\n",
       "      <td>1</td>\n",
       "    </tr>\n",
       "    <tr>\n",
       "      <th>7823</th>\n",
       "      <td>3</td>\n",
       "      <td>4.0</td>\n",
       "      <td>2</td>\n",
       "      <td>3</td>\n",
       "    </tr>\n",
       "    <tr>\n",
       "      <th>2831</th>\n",
       "      <td>4</td>\n",
       "      <td>3.0</td>\n",
       "      <td>1</td>\n",
       "      <td>1</td>\n",
       "    </tr>\n",
       "    <tr>\n",
       "      <th>...</th>\n",
       "      <td>...</td>\n",
       "      <td>...</td>\n",
       "      <td>...</td>\n",
       "      <td>...</td>\n",
       "    </tr>\n",
       "    <tr>\n",
       "      <th>5042</th>\n",
       "      <td>4366</td>\n",
       "      <td>4.0</td>\n",
       "      <td>1</td>\n",
       "      <td>1</td>\n",
       "    </tr>\n",
       "    <tr>\n",
       "      <th>3074</th>\n",
       "      <td>4367</td>\n",
       "      <td>18.0</td>\n",
       "      <td>1</td>\n",
       "      <td>1</td>\n",
       "    </tr>\n",
       "    <tr>\n",
       "      <th>3780</th>\n",
       "      <td>4368</td>\n",
       "      <td>9.0</td>\n",
       "      <td>1</td>\n",
       "      <td>1</td>\n",
       "    </tr>\n",
       "    <tr>\n",
       "      <th>3779</th>\n",
       "      <td>4368</td>\n",
       "      <td>1.0</td>\n",
       "      <td>1</td>\n",
       "      <td>1</td>\n",
       "    </tr>\n",
       "    <tr>\n",
       "      <th>3781</th>\n",
       "      <td>4368</td>\n",
       "      <td>4.0</td>\n",
       "      <td>1</td>\n",
       "      <td>1</td>\n",
       "    </tr>\n",
       "  </tbody>\n",
       "</table>\n",
       "<p>8186 rows × 4 columns</p>\n",
       "</div>"
      ],
      "text/plain": [
       "      id_protein  id_mlo  id_rol  id_dataset\n",
       "7800           1     NaN       3           2\n",
       "918            2     3.0       3           1\n",
       "1162           3     4.0       1           1\n",
       "7823           3     4.0       2           3\n",
       "2831           4     3.0       1           1\n",
       "...          ...     ...     ...         ...\n",
       "5042        4366     4.0       1           1\n",
       "3074        4367    18.0       1           1\n",
       "3780        4368     9.0       1           1\n",
       "3779        4368     1.0       1           1\n",
       "3781        4368     4.0       1           1\n",
       "\n",
       "[8186 rows x 4 columns]"
      ]
     },
     "execution_count": 499,
     "metadata": {},
     "output_type": "execute_result"
    }
   ],
   "source": [
    "protein_has_mlo.drop(columns=['uniprot_acc', 'mlo', 'rol', 'dataset'], inplace= True)\r\n",
    "protein_has_mlo"
   ]
  },
  {
   "cell_type": "code",
   "execution_count": 500,
   "metadata": {},
   "outputs": [
    {
     "data": {
      "text/html": [
       "<div>\n",
       "<style scoped>\n",
       "    .dataframe tbody tr th:only-of-type {\n",
       "        vertical-align: middle;\n",
       "    }\n",
       "\n",
       "    .dataframe tbody tr th {\n",
       "        vertical-align: top;\n",
       "    }\n",
       "\n",
       "    .dataframe thead th {\n",
       "        text-align: right;\n",
       "    }\n",
       "</style>\n",
       "<table border=\"1\" class=\"dataframe\">\n",
       "  <thead>\n",
       "    <tr style=\"text-align: right;\">\n",
       "      <th></th>\n",
       "      <th>id_protein</th>\n",
       "      <th>id_mlo</th>\n",
       "      <th>id_rol</th>\n",
       "      <th>id_dataset</th>\n",
       "    </tr>\n",
       "  </thead>\n",
       "  <tbody>\n",
       "  </tbody>\n",
       "</table>\n",
       "</div>"
      ],
      "text/plain": [
       "Empty DataFrame\n",
       "Columns: [id_protein, id_mlo, id_rol, id_dataset]\n",
       "Index: []"
      ]
     },
     "execution_count": 500,
     "metadata": {},
     "output_type": "execute_result"
    }
   ],
   "source": [
    "protein_has_mlo[protein_has_mlo.duplicated()] # OK"
   ]
  },
  {
   "cell_type": "code",
   "execution_count": 526,
   "metadata": {},
   "outputs": [],
   "source": [
    "protein_has_mlo['id_proteinmlo'] = range(1, len(protein_has_mlo)+1)"
   ]
  },
  {
   "cell_type": "code",
   "execution_count": 527,
   "metadata": {},
   "outputs": [
    {
     "data": {
      "text/html": [
       "<div>\n",
       "<style scoped>\n",
       "    .dataframe tbody tr th:only-of-type {\n",
       "        vertical-align: middle;\n",
       "    }\n",
       "\n",
       "    .dataframe tbody tr th {\n",
       "        vertical-align: top;\n",
       "    }\n",
       "\n",
       "    .dataframe thead th {\n",
       "        text-align: right;\n",
       "    }\n",
       "</style>\n",
       "<table border=\"1\" class=\"dataframe\">\n",
       "  <thead>\n",
       "    <tr style=\"text-align: right;\">\n",
       "      <th></th>\n",
       "      <th>id_protein</th>\n",
       "      <th>id_mlo</th>\n",
       "      <th>id_rol</th>\n",
       "      <th>id_dataset</th>\n",
       "      <th>id_proteinmlo</th>\n",
       "    </tr>\n",
       "  </thead>\n",
       "  <tbody>\n",
       "    <tr>\n",
       "      <th>7800</th>\n",
       "      <td>1</td>\n",
       "      <td>NaN</td>\n",
       "      <td>3</td>\n",
       "      <td>2</td>\n",
       "      <td>1</td>\n",
       "    </tr>\n",
       "    <tr>\n",
       "      <th>918</th>\n",
       "      <td>2</td>\n",
       "      <td>3.0</td>\n",
       "      <td>3</td>\n",
       "      <td>1</td>\n",
       "      <td>2</td>\n",
       "    </tr>\n",
       "    <tr>\n",
       "      <th>1162</th>\n",
       "      <td>3</td>\n",
       "      <td>4.0</td>\n",
       "      <td>1</td>\n",
       "      <td>1</td>\n",
       "      <td>3</td>\n",
       "    </tr>\n",
       "    <tr>\n",
       "      <th>7823</th>\n",
       "      <td>3</td>\n",
       "      <td>4.0</td>\n",
       "      <td>2</td>\n",
       "      <td>3</td>\n",
       "      <td>4</td>\n",
       "    </tr>\n",
       "    <tr>\n",
       "      <th>2831</th>\n",
       "      <td>4</td>\n",
       "      <td>3.0</td>\n",
       "      <td>1</td>\n",
       "      <td>1</td>\n",
       "      <td>5</td>\n",
       "    </tr>\n",
       "    <tr>\n",
       "      <th>...</th>\n",
       "      <td>...</td>\n",
       "      <td>...</td>\n",
       "      <td>...</td>\n",
       "      <td>...</td>\n",
       "      <td>...</td>\n",
       "    </tr>\n",
       "    <tr>\n",
       "      <th>5042</th>\n",
       "      <td>4366</td>\n",
       "      <td>4.0</td>\n",
       "      <td>1</td>\n",
       "      <td>1</td>\n",
       "      <td>8182</td>\n",
       "    </tr>\n",
       "    <tr>\n",
       "      <th>3074</th>\n",
       "      <td>4367</td>\n",
       "      <td>18.0</td>\n",
       "      <td>1</td>\n",
       "      <td>1</td>\n",
       "      <td>8183</td>\n",
       "    </tr>\n",
       "    <tr>\n",
       "      <th>3780</th>\n",
       "      <td>4368</td>\n",
       "      <td>9.0</td>\n",
       "      <td>1</td>\n",
       "      <td>1</td>\n",
       "      <td>8184</td>\n",
       "    </tr>\n",
       "    <tr>\n",
       "      <th>3779</th>\n",
       "      <td>4368</td>\n",
       "      <td>1.0</td>\n",
       "      <td>1</td>\n",
       "      <td>1</td>\n",
       "      <td>8185</td>\n",
       "    </tr>\n",
       "    <tr>\n",
       "      <th>3781</th>\n",
       "      <td>4368</td>\n",
       "      <td>4.0</td>\n",
       "      <td>1</td>\n",
       "      <td>1</td>\n",
       "      <td>8186</td>\n",
       "    </tr>\n",
       "  </tbody>\n",
       "</table>\n",
       "<p>8186 rows × 5 columns</p>\n",
       "</div>"
      ],
      "text/plain": [
       "      id_protein  id_mlo  id_rol  id_dataset  id_proteinmlo\n",
       "7800           1     NaN       3           2              1\n",
       "918            2     3.0       3           1              2\n",
       "1162           3     4.0       1           1              3\n",
       "7823           3     4.0       2           3              4\n",
       "2831           4     3.0       1           1              5\n",
       "...          ...     ...     ...         ...            ...\n",
       "5042        4366     4.0       1           1           8182\n",
       "3074        4367    18.0       1           1           8183\n",
       "3780        4368     9.0       1           1           8184\n",
       "3779        4368     1.0       1           1           8185\n",
       "3781        4368     4.0       1           1           8186\n",
       "\n",
       "[8186 rows x 5 columns]"
      ]
     },
     "execution_count": 527,
     "metadata": {},
     "output_type": "execute_result"
    }
   ],
   "source": [
    "protein_has_mlo"
   ]
  },
  {
   "cell_type": "code",
   "execution_count": 529,
   "metadata": {},
   "outputs": [
    {
     "data": {
      "text/plain": [
       "False"
      ]
     },
     "execution_count": 529,
     "metadata": {},
     "output_type": "execute_result"
    }
   ],
   "source": [
    "protein_has_mlo.duplicated().any()"
   ]
  },
  {
   "cell_type": "code",
   "execution_count": 528,
   "metadata": {},
   "outputs": [],
   "source": [
    "protein_has_mlo.to_csv('db_tables/protein_has_mlo.tsv', sep='\\t', index= False)"
   ]
  },
  {
   "cell_type": "markdown",
   "metadata": {},
   "source": [
    "# source"
   ]
  },
  {
   "cell_type": "code",
   "execution_count": 503,
   "metadata": {},
   "outputs": [],
   "source": [
    "source = pd.DataFrame({'id_source': [1,2,3], 'source': ['clinvar', 'disgenet', 'uniprot']})\r\n",
    "source\r\n",
    "source.to_csv('db_tables/source.tsv', sep='\\t', index = False)"
   ]
  },
  {
   "cell_type": "markdown",
   "metadata": {},
   "source": [
    "# mutation_has_source"
   ]
  },
  {
   "cell_type": "markdown",
   "metadata": {},
   "source": []
  },
  {
   "cell_type": "code",
   "execution_count": 504,
   "metadata": {},
   "outputs": [],
   "source": [
    "mutations_with_source = pd.read_csv('../datasets/mutations_with_source.tsv.gz', sep='\\t', compression='gzip')"
   ]
  },
  {
   "cell_type": "code",
   "execution_count": 505,
   "metadata": {},
   "outputs": [],
   "source": [
    "mutation_has_source = mutations_with_source.copy()"
   ]
  },
  {
   "cell_type": "code",
   "execution_count": 506,
   "metadata": {},
   "outputs": [
    {
     "data": {
      "text/html": [
       "<div>\n",
       "<style scoped>\n",
       "    .dataframe tbody tr th:only-of-type {\n",
       "        vertical-align: middle;\n",
       "    }\n",
       "\n",
       "    .dataframe tbody tr th {\n",
       "        vertical-align: top;\n",
       "    }\n",
       "\n",
       "    .dataframe thead th {\n",
       "        text-align: right;\n",
       "    }\n",
       "</style>\n",
       "<table border=\"1\" class=\"dataframe\">\n",
       "  <thead>\n",
       "    <tr style=\"text-align: right;\">\n",
       "      <th></th>\n",
       "      <th>id_mutation</th>\n",
       "      <th>variationid</th>\n",
       "      <th>source</th>\n",
       "    </tr>\n",
       "  </thead>\n",
       "  <tbody>\n",
       "    <tr>\n",
       "      <th>0</th>\n",
       "      <td>1</td>\n",
       "      <td>553904</td>\n",
       "      <td>clinvar</td>\n",
       "    </tr>\n",
       "    <tr>\n",
       "      <th>1</th>\n",
       "      <td>2</td>\n",
       "      <td>968278</td>\n",
       "      <td>clinvar</td>\n",
       "    </tr>\n",
       "    <tr>\n",
       "      <th>2</th>\n",
       "      <td>3</td>\n",
       "      <td>196011</td>\n",
       "      <td>clinvar</td>\n",
       "    </tr>\n",
       "    <tr>\n",
       "      <th>3</th>\n",
       "      <td>4</td>\n",
       "      <td>425169</td>\n",
       "      <td>clinvar</td>\n",
       "    </tr>\n",
       "    <tr>\n",
       "      <th>4</th>\n",
       "      <td>5</td>\n",
       "      <td>598371</td>\n",
       "      <td>clinvar</td>\n",
       "    </tr>\n",
       "  </tbody>\n",
       "</table>\n",
       "</div>"
      ],
      "text/plain": [
       "   id_mutation  variationid   source\n",
       "0            1       553904  clinvar\n",
       "1            2       968278  clinvar\n",
       "2            3       196011  clinvar\n",
       "3            4       425169  clinvar\n",
       "4            5       598371  clinvar"
      ]
     },
     "execution_count": 506,
     "metadata": {},
     "output_type": "execute_result"
    }
   ],
   "source": [
    "mutation_has_source.head()"
   ]
  },
  {
   "cell_type": "code",
   "execution_count": 507,
   "metadata": {},
   "outputs": [],
   "source": [
    "mutation_has_source.rename(columns={'variationid': 'id_insource'}, inplace= True)"
   ]
  },
  {
   "cell_type": "code",
   "execution_count": 508,
   "metadata": {},
   "outputs": [],
   "source": [
    "mutation_has_source.drop_duplicates(inplace= True)"
   ]
  },
  {
   "cell_type": "code",
   "execution_count": 509,
   "metadata": {},
   "outputs": [],
   "source": [
    "mutation_has_source = mutation_has_source.merge(source).drop(columns='source')"
   ]
  },
  {
   "cell_type": "code",
   "execution_count": 510,
   "metadata": {},
   "outputs": [
    {
     "data": {
      "text/html": [
       "<div>\n",
       "<style scoped>\n",
       "    .dataframe tbody tr th:only-of-type {\n",
       "        vertical-align: middle;\n",
       "    }\n",
       "\n",
       "    .dataframe tbody tr th {\n",
       "        vertical-align: top;\n",
       "    }\n",
       "\n",
       "    .dataframe thead th {\n",
       "        text-align: right;\n",
       "    }\n",
       "</style>\n",
       "<table border=\"1\" class=\"dataframe\">\n",
       "  <thead>\n",
       "    <tr style=\"text-align: right;\">\n",
       "      <th></th>\n",
       "      <th>id_mutation</th>\n",
       "      <th>id_insource</th>\n",
       "      <th>id_source</th>\n",
       "    </tr>\n",
       "  </thead>\n",
       "  <tbody>\n",
       "    <tr>\n",
       "      <th>0</th>\n",
       "      <td>1</td>\n",
       "      <td>553904</td>\n",
       "      <td>1</td>\n",
       "    </tr>\n",
       "    <tr>\n",
       "      <th>1</th>\n",
       "      <td>2</td>\n",
       "      <td>968278</td>\n",
       "      <td>1</td>\n",
       "    </tr>\n",
       "    <tr>\n",
       "      <th>2</th>\n",
       "      <td>3</td>\n",
       "      <td>196011</td>\n",
       "      <td>1</td>\n",
       "    </tr>\n",
       "    <tr>\n",
       "      <th>3</th>\n",
       "      <td>4</td>\n",
       "      <td>425169</td>\n",
       "      <td>1</td>\n",
       "    </tr>\n",
       "    <tr>\n",
       "      <th>4</th>\n",
       "      <td>5</td>\n",
       "      <td>598371</td>\n",
       "      <td>1</td>\n",
       "    </tr>\n",
       "    <tr>\n",
       "      <th>...</th>\n",
       "      <td>...</td>\n",
       "      <td>...</td>\n",
       "      <td>...</td>\n",
       "    </tr>\n",
       "    <tr>\n",
       "      <th>264550</th>\n",
       "      <td>264551</td>\n",
       "      <td>929454</td>\n",
       "      <td>1</td>\n",
       "    </tr>\n",
       "    <tr>\n",
       "      <th>264551</th>\n",
       "      <td>264552</td>\n",
       "      <td>929944</td>\n",
       "      <td>1</td>\n",
       "    </tr>\n",
       "    <tr>\n",
       "      <th>264552</th>\n",
       "      <td>264553</td>\n",
       "      <td>930642</td>\n",
       "      <td>1</td>\n",
       "    </tr>\n",
       "    <tr>\n",
       "      <th>264553</th>\n",
       "      <td>264554</td>\n",
       "      <td>974683</td>\n",
       "      <td>1</td>\n",
       "    </tr>\n",
       "    <tr>\n",
       "      <th>264554</th>\n",
       "      <td>264555</td>\n",
       "      <td>974684</td>\n",
       "      <td>1</td>\n",
       "    </tr>\n",
       "  </tbody>\n",
       "</table>\n",
       "<p>264555 rows × 3 columns</p>\n",
       "</div>"
      ],
      "text/plain": [
       "        id_mutation  id_insource  id_source\n",
       "0                 1       553904          1\n",
       "1                 2       968278          1\n",
       "2                 3       196011          1\n",
       "3                 4       425169          1\n",
       "4                 5       598371          1\n",
       "...             ...          ...        ...\n",
       "264550       264551       929454          1\n",
       "264551       264552       929944          1\n",
       "264552       264553       930642          1\n",
       "264553       264554       974683          1\n",
       "264554       264555       974684          1\n",
       "\n",
       "[264555 rows x 3 columns]"
      ]
     },
     "execution_count": 510,
     "metadata": {},
     "output_type": "execute_result"
    }
   ],
   "source": [
    "mutation_has_source"
   ]
  },
  {
   "cell_type": "code",
   "execution_count": 511,
   "metadata": {},
   "outputs": [],
   "source": [
    "mutation_has_source.to_csv('db_tables/mutation_has_source.tsv', sep='\\t', index= False)"
   ]
  },
  {
   "cell_type": "markdown",
   "metadata": {},
   "source": [
    "# citation_source"
   ]
  },
  {
   "cell_type": "code",
   "execution_count": 512,
   "metadata": {},
   "outputs": [
    {
     "name": "stdout",
     "output_type": "stream",
     "text": [
      "<class 'pandas.core.frame.DataFrame'>\n",
      "RangeIndex: 1241046 entries, 0 to 1241045\n",
      "Data columns (total 3 columns):\n",
      " #   Column           Non-Null Count    Dtype \n",
      "---  ------           --------------    ----- \n",
      " 0   variationid      1241046 non-null  int64 \n",
      " 1   citation_source  1241046 non-null  object\n",
      " 2   citation_id      1241046 non-null  object\n",
      "dtypes: int64(1), object(2)\n",
      "memory usage: 28.4+ MB\n"
     ]
    }
   ],
   "source": [
    "\r\n",
    "pmid.columns = pmid.columns.str.lower().str.replace(' ',\"_\").str.replace(\"-\",'_').str.replace('/','_')\r\n",
    "pmid = pmid[['variationid', 'citation_source', 'citation_id']].copy()\r\n",
    "pmid.info()\r\n"
   ]
  },
  {
   "cell_type": "code",
   "execution_count": 513,
   "metadata": {},
   "outputs": [
    {
     "data": {
      "text/plain": [
       "False"
      ]
     },
     "execution_count": 513,
     "metadata": {},
     "output_type": "execute_result"
    }
   ],
   "source": [
    "pmid.variationid.isnull().any() # False. This is the ClinVar ID"
   ]
  },
  {
   "cell_type": "code",
   "execution_count": 514,
   "metadata": {},
   "outputs": [],
   "source": [
    "pmid.variationid.drop_duplicates(inplace= True)"
   ]
  },
  {
   "cell_type": "code",
   "execution_count": 515,
   "metadata": {},
   "outputs": [
    {
     "data": {
      "text/plain": [
       "PubMed           1232172\n",
       "NCBIBookShelf       7089\n",
       "PubMedCentral       1785\n",
       "Name: citation_source, dtype: int64"
      ]
     },
     "execution_count": 515,
     "metadata": {},
     "output_type": "execute_result"
    }
   ],
   "source": [
    "pmid.citation_source.value_counts()"
   ]
  },
  {
   "cell_type": "code",
   "execution_count": 516,
   "metadata": {},
   "outputs": [],
   "source": [
    "citation_source = pd.DataFrame({'name': pmid.citation_source.value_counts().index, 'id_citation_source': range(1, len(pmid.citation_source.unique())+1) })"
   ]
  },
  {
   "cell_type": "code",
   "execution_count": 517,
   "metadata": {},
   "outputs": [
    {
     "data": {
      "text/html": [
       "<div>\n",
       "<style scoped>\n",
       "    .dataframe tbody tr th:only-of-type {\n",
       "        vertical-align: middle;\n",
       "    }\n",
       "\n",
       "    .dataframe tbody tr th {\n",
       "        vertical-align: top;\n",
       "    }\n",
       "\n",
       "    .dataframe thead th {\n",
       "        text-align: right;\n",
       "    }\n",
       "</style>\n",
       "<table border=\"1\" class=\"dataframe\">\n",
       "  <thead>\n",
       "    <tr style=\"text-align: right;\">\n",
       "      <th></th>\n",
       "      <th>name</th>\n",
       "      <th>id_citation_source</th>\n",
       "    </tr>\n",
       "  </thead>\n",
       "  <tbody>\n",
       "    <tr>\n",
       "      <th>0</th>\n",
       "      <td>PubMed</td>\n",
       "      <td>1</td>\n",
       "    </tr>\n",
       "    <tr>\n",
       "      <th>1</th>\n",
       "      <td>NCBIBookShelf</td>\n",
       "      <td>2</td>\n",
       "    </tr>\n",
       "    <tr>\n",
       "      <th>2</th>\n",
       "      <td>PubMedCentral</td>\n",
       "      <td>3</td>\n",
       "    </tr>\n",
       "  </tbody>\n",
       "</table>\n",
       "</div>"
      ],
      "text/plain": [
       "            name  id_citation_source\n",
       "0         PubMed                   1\n",
       "1  NCBIBookShelf                   2\n",
       "2  PubMedCentral                   3"
      ]
     },
     "execution_count": 517,
     "metadata": {},
     "output_type": "execute_result"
    }
   ],
   "source": [
    "citation_source"
   ]
  },
  {
   "cell_type": "code",
   "execution_count": 518,
   "metadata": {},
   "outputs": [],
   "source": [
    "citation_source.to_csv('db_tables/citation_source.tsv', sep='\\t', index= False)"
   ]
  },
  {
   "cell_type": "markdown",
   "metadata": {},
   "source": [
    "# mutation_has_citation"
   ]
  },
  {
   "cell_type": "code",
   "execution_count": 519,
   "metadata": {},
   "outputs": [],
   "source": [
    "mutation_has_citation = pmid.rename(columns={'citation_id': 'id_citation'})"
   ]
  },
  {
   "cell_type": "code",
   "execution_count": 520,
   "metadata": {},
   "outputs": [
    {
     "data": {
      "text/html": [
       "<div>\n",
       "<style scoped>\n",
       "    .dataframe tbody tr th:only-of-type {\n",
       "        vertical-align: middle;\n",
       "    }\n",
       "\n",
       "    .dataframe tbody tr th {\n",
       "        vertical-align: top;\n",
       "    }\n",
       "\n",
       "    .dataframe thead th {\n",
       "        text-align: right;\n",
       "    }\n",
       "</style>\n",
       "<table border=\"1\" class=\"dataframe\">\n",
       "  <thead>\n",
       "    <tr style=\"text-align: right;\">\n",
       "      <th></th>\n",
       "      <th>variationid</th>\n",
       "      <th>citation_source</th>\n",
       "      <th>id_citation</th>\n",
       "    </tr>\n",
       "  </thead>\n",
       "  <tbody>\n",
       "    <tr>\n",
       "      <th>0</th>\n",
       "      <td>4</td>\n",
       "      <td>PubMed</td>\n",
       "      <td>12030328</td>\n",
       "    </tr>\n",
       "    <tr>\n",
       "      <th>1</th>\n",
       "      <td>4</td>\n",
       "      <td>PubMed</td>\n",
       "      <td>20531441</td>\n",
       "    </tr>\n",
       "    <tr>\n",
       "      <th>2</th>\n",
       "      <td>5</td>\n",
       "      <td>PubMed</td>\n",
       "      <td>25678554</td>\n",
       "    </tr>\n",
       "    <tr>\n",
       "      <th>3</th>\n",
       "      <td>6</td>\n",
       "      <td>PubMed</td>\n",
       "      <td>20818383</td>\n",
       "    </tr>\n",
       "    <tr>\n",
       "      <th>4</th>\n",
       "      <td>7</td>\n",
       "      <td>PubMed</td>\n",
       "      <td>20818383</td>\n",
       "    </tr>\n",
       "  </tbody>\n",
       "</table>\n",
       "</div>"
      ],
      "text/plain": [
       "   variationid citation_source id_citation\n",
       "0            4          PubMed    12030328\n",
       "1            4          PubMed    20531441\n",
       "2            5          PubMed    25678554\n",
       "3            6          PubMed    20818383\n",
       "4            7          PubMed    20818383"
      ]
     },
     "execution_count": 520,
     "metadata": {},
     "output_type": "execute_result"
    }
   ],
   "source": [
    "mutation_has_citation.head()"
   ]
  },
  {
   "cell_type": "code",
   "execution_count": 521,
   "metadata": {},
   "outputs": [
    {
     "data": {
      "text/html": [
       "<div>\n",
       "<style scoped>\n",
       "    .dataframe tbody tr th:only-of-type {\n",
       "        vertical-align: middle;\n",
       "    }\n",
       "\n",
       "    .dataframe tbody tr th {\n",
       "        vertical-align: top;\n",
       "    }\n",
       "\n",
       "    .dataframe thead th {\n",
       "        text-align: right;\n",
       "    }\n",
       "</style>\n",
       "<table border=\"1\" class=\"dataframe\">\n",
       "  <thead>\n",
       "    <tr style=\"text-align: right;\">\n",
       "      <th></th>\n",
       "      <th>name</th>\n",
       "      <th>id_citation_source</th>\n",
       "    </tr>\n",
       "  </thead>\n",
       "  <tbody>\n",
       "    <tr>\n",
       "      <th>0</th>\n",
       "      <td>PubMed</td>\n",
       "      <td>1</td>\n",
       "    </tr>\n",
       "    <tr>\n",
       "      <th>1</th>\n",
       "      <td>NCBIBookShelf</td>\n",
       "      <td>2</td>\n",
       "    </tr>\n",
       "    <tr>\n",
       "      <th>2</th>\n",
       "      <td>PubMedCentral</td>\n",
       "      <td>3</td>\n",
       "    </tr>\n",
       "  </tbody>\n",
       "</table>\n",
       "</div>"
      ],
      "text/plain": [
       "            name  id_citation_source\n",
       "0         PubMed                   1\n",
       "1  NCBIBookShelf                   2\n",
       "2  PubMedCentral                   3"
      ]
     },
     "execution_count": 521,
     "metadata": {},
     "output_type": "execute_result"
    }
   ],
   "source": [
    "citation_source"
   ]
  },
  {
   "cell_type": "code",
   "execution_count": null,
   "metadata": {},
   "outputs": [],
   "source": []
  },
  {
   "cell_type": "code",
   "execution_count": 522,
   "metadata": {},
   "outputs": [
    {
     "data": {
      "text/html": [
       "<div>\n",
       "<style scoped>\n",
       "    .dataframe tbody tr th:only-of-type {\n",
       "        vertical-align: middle;\n",
       "    }\n",
       "\n",
       "    .dataframe tbody tr th {\n",
       "        vertical-align: top;\n",
       "    }\n",
       "\n",
       "    .dataframe thead th {\n",
       "        text-align: right;\n",
       "    }\n",
       "</style>\n",
       "<table border=\"1\" class=\"dataframe\">\n",
       "  <thead>\n",
       "    <tr style=\"text-align: right;\">\n",
       "      <th></th>\n",
       "      <th>variationid</th>\n",
       "      <th>id_citation</th>\n",
       "      <th>id_citation_source</th>\n",
       "    </tr>\n",
       "  </thead>\n",
       "  <tbody>\n",
       "    <tr>\n",
       "      <th>0</th>\n",
       "      <td>4</td>\n",
       "      <td>12030328</td>\n",
       "      <td>1</td>\n",
       "    </tr>\n",
       "    <tr>\n",
       "      <th>1</th>\n",
       "      <td>4</td>\n",
       "      <td>20531441</td>\n",
       "      <td>1</td>\n",
       "    </tr>\n",
       "    <tr>\n",
       "      <th>2</th>\n",
       "      <td>5</td>\n",
       "      <td>25678554</td>\n",
       "      <td>1</td>\n",
       "    </tr>\n",
       "    <tr>\n",
       "      <th>3</th>\n",
       "      <td>6</td>\n",
       "      <td>20818383</td>\n",
       "      <td>1</td>\n",
       "    </tr>\n",
       "    <tr>\n",
       "      <th>4</th>\n",
       "      <td>7</td>\n",
       "      <td>20818383</td>\n",
       "      <td>1</td>\n",
       "    </tr>\n",
       "    <tr>\n",
       "      <th>...</th>\n",
       "      <td>...</td>\n",
       "      <td>...</td>\n",
       "      <td>...</td>\n",
       "    </tr>\n",
       "    <tr>\n",
       "      <th>1241041</th>\n",
       "      <td>982315</td>\n",
       "      <td>4544753</td>\n",
       "      <td>3</td>\n",
       "    </tr>\n",
       "    <tr>\n",
       "      <th>1241042</th>\n",
       "      <td>984966</td>\n",
       "      <td>6423636</td>\n",
       "      <td>3</td>\n",
       "    </tr>\n",
       "    <tr>\n",
       "      <th>1241043</th>\n",
       "      <td>984965</td>\n",
       "      <td>6423636</td>\n",
       "      <td>3</td>\n",
       "    </tr>\n",
       "    <tr>\n",
       "      <th>1241044</th>\n",
       "      <td>984967</td>\n",
       "      <td>6423636</td>\n",
       "      <td>3</td>\n",
       "    </tr>\n",
       "    <tr>\n",
       "      <th>1241045</th>\n",
       "      <td>987742</td>\n",
       "      <td>6819644</td>\n",
       "      <td>3</td>\n",
       "    </tr>\n",
       "  </tbody>\n",
       "</table>\n",
       "<p>1241046 rows × 3 columns</p>\n",
       "</div>"
      ],
      "text/plain": [
       "         variationid id_citation  id_citation_source\n",
       "0                  4    12030328                   1\n",
       "1                  4    20531441                   1\n",
       "2                  5    25678554                   1\n",
       "3                  6    20818383                   1\n",
       "4                  7    20818383                   1\n",
       "...              ...         ...                 ...\n",
       "1241041       982315     4544753                   3\n",
       "1241042       984966     6423636                   3\n",
       "1241043       984965     6423636                   3\n",
       "1241044       984967     6423636                   3\n",
       "1241045       987742     6819644                   3\n",
       "\n",
       "[1241046 rows x 3 columns]"
      ]
     },
     "execution_count": 522,
     "metadata": {},
     "output_type": "execute_result"
    }
   ],
   "source": [
    "mutation_has_citation = mutation_has_citation.merge(citation_source.rename(columns={'name': 'citation_source'})).drop(columns= 'citation_source')\r\n",
    "mutation_has_citation"
   ]
  },
  {
   "cell_type": "code",
   "execution_count": 523,
   "metadata": {},
   "outputs": [
    {
     "data": {
      "text/html": [
       "<div>\n",
       "<style scoped>\n",
       "    .dataframe tbody tr th:only-of-type {\n",
       "        vertical-align: middle;\n",
       "    }\n",
       "\n",
       "    .dataframe tbody tr th {\n",
       "        vertical-align: top;\n",
       "    }\n",
       "\n",
       "    .dataframe thead th {\n",
       "        text-align: right;\n",
       "    }\n",
       "</style>\n",
       "<table border=\"1\" class=\"dataframe\">\n",
       "  <thead>\n",
       "    <tr style=\"text-align: right;\">\n",
       "      <th></th>\n",
       "      <th>id_citation</th>\n",
       "      <th>id_citation_source</th>\n",
       "      <th>id_mutation</th>\n",
       "    </tr>\n",
       "  </thead>\n",
       "  <tbody>\n",
       "    <tr>\n",
       "      <th>0</th>\n",
       "      <td>10507729</td>\n",
       "      <td>1</td>\n",
       "      <td>248191</td>\n",
       "    </tr>\n",
       "    <tr>\n",
       "      <th>1</th>\n",
       "      <td>24651477</td>\n",
       "      <td>1</td>\n",
       "      <td>248191</td>\n",
       "    </tr>\n",
       "    <tr>\n",
       "      <th>2</th>\n",
       "      <td>26355662</td>\n",
       "      <td>1</td>\n",
       "      <td>248191</td>\n",
       "    </tr>\n",
       "    <tr>\n",
       "      <th>3</th>\n",
       "      <td>20705278</td>\n",
       "      <td>1</td>\n",
       "      <td>248191</td>\n",
       "    </tr>\n",
       "    <tr>\n",
       "      <th>4</th>\n",
       "      <td>20705279</td>\n",
       "      <td>1</td>\n",
       "      <td>248191</td>\n",
       "    </tr>\n",
       "    <tr>\n",
       "      <th>...</th>\n",
       "      <td>...</td>\n",
       "      <td>...</td>\n",
       "      <td>...</td>\n",
       "    </tr>\n",
       "    <tr>\n",
       "      <th>393300</th>\n",
       "      <td>4544753</td>\n",
       "      <td>3</td>\n",
       "      <td>15676</td>\n",
       "    </tr>\n",
       "    <tr>\n",
       "      <th>393301</th>\n",
       "      <td>4544753</td>\n",
       "      <td>3</td>\n",
       "      <td>15677</td>\n",
       "    </tr>\n",
       "    <tr>\n",
       "      <th>393302</th>\n",
       "      <td>4544753</td>\n",
       "      <td>3</td>\n",
       "      <td>15678</td>\n",
       "    </tr>\n",
       "    <tr>\n",
       "      <th>393303</th>\n",
       "      <td>4544753</td>\n",
       "      <td>3</td>\n",
       "      <td>15679</td>\n",
       "    </tr>\n",
       "    <tr>\n",
       "      <th>393304</th>\n",
       "      <td>4544753</td>\n",
       "      <td>3</td>\n",
       "      <td>15680</td>\n",
       "    </tr>\n",
       "  </tbody>\n",
       "</table>\n",
       "<p>368462 rows × 3 columns</p>\n",
       "</div>"
      ],
      "text/plain": [
       "       id_citation  id_citation_source  id_mutation\n",
       "0         10507729                   1       248191\n",
       "1         24651477                   1       248191\n",
       "2         26355662                   1       248191\n",
       "3         20705278                   1       248191\n",
       "4         20705279                   1       248191\n",
       "...            ...                 ...          ...\n",
       "393300     4544753                   3        15676\n",
       "393301     4544753                   3        15677\n",
       "393302     4544753                   3        15678\n",
       "393303     4544753                   3        15679\n",
       "393304     4544753                   3        15680\n",
       "\n",
       "[368462 rows x 3 columns]"
      ]
     },
     "execution_count": 523,
     "metadata": {},
     "output_type": "execute_result"
    }
   ],
   "source": [
    "mutation_has_citation = mutation_has_citation.merge(mutations_with_source).drop(columns=['source', 'variationid']).drop_duplicates()\r\n",
    "mutation_has_citation"
   ]
  },
  {
   "cell_type": "code",
   "execution_count": 524,
   "metadata": {},
   "outputs": [],
   "source": [
    "mutation_has_citation.to_csv('db_tables/mutation_has_citation.tsv', sep='\\t', index= False)"
   ]
  }
 ],
 "metadata": {
  "interpreter": {
   "hash": "9164a3399a70d355c381b62813f30880ed90ca5a6f321bf0d85375640bda7ee5"
  },
  "kernelspec": {
   "display_name": "Python 3.7.9 64-bit",
   "name": "python3"
  },
  "language_info": {
   "codemirror_mode": {
    "name": "ipython",
    "version": 3
   },
   "file_extension": ".py",
   "mimetype": "text/x-python",
   "name": "python",
   "nbconvert_exporter": "python",
   "pygments_lexer": "ipython3",
   "version": "3.7.9"
  },
  "metadata": {
   "interpreter": {
    "hash": "1f8d80d535cfd832283e4e3a1095d2ce45fe6627336684f2622a1965babb2f1c"
   }
  },
  "orig_nbformat": 2
 },
 "nbformat": 4,
 "nbformat_minor": 2
}