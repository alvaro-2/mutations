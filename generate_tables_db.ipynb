{
 "cells": [
  {
   "cell_type": "code",
   "execution_count": 1,
   "metadata": {},
   "outputs": [],
   "source": [
    "#%pip install cython\r\n",
    "#%pip install pyranges"
   ]
  },
  {
   "cell_type": "code",
   "execution_count": 2,
   "metadata": {},
   "outputs": [],
   "source": [
    "import pandas as pd\r\n",
    "import numpy as np\r\n",
    "import pyranges as pr"
   ]
  },
  {
   "cell_type": "markdown",
   "metadata": {},
   "source": [
    "# Load proteins, mutations, domains and regions tables"
   ]
  },
  {
   "cell_type": "markdown",
   "metadata": {},
   "source": [
    "## Preprocessing entrada_dbs table"
   ]
  },
  {
   "cell_type": "code",
   "execution_count": 150,
   "metadata": {},
   "outputs": [],
   "source": [
    "# proteins from each LLPS database with their roles and mlos\r\n",
    "entrada_dbs = pd.read_csv('entrada_dbs.tsv.txt', sep='\\t').rename(columns={'uniprot': 'uniprot_acc'})"
   ]
  },
  {
   "cell_type": "code",
   "execution_count": 151,
   "metadata": {},
   "outputs": [
    {
     "name": "stdout",
     "output_type": "stream",
     "text": [
      "<class 'pandas.core.frame.DataFrame'>\n",
      "RangeIndex: 8405 entries, 0 to 8404\n",
      "Data columns (total 5 columns):\n",
      " #   Column       Non-Null Count  Dtype \n",
      "---  ------       --------------  ----- \n",
      " 0   uniprot_acc  8389 non-null   object\n",
      " 1   organism     8405 non-null   object\n",
      " 2   mlo          8398 non-null   object\n",
      " 3   rol          8405 non-null   object\n",
      " 4   db           8405 non-null   object\n",
      "dtypes: object(5)\n",
      "memory usage: 328.4+ KB\n"
     ]
    }
   ],
   "source": [
    "entrada_dbs.info()"
   ]
  },
  {
   "cell_type": "code",
   "execution_count": 152,
   "metadata": {},
   "outputs": [
    {
     "data": {
      "text/html": [
       "<div>\n",
       "<style scoped>\n",
       "    .dataframe tbody tr th:only-of-type {\n",
       "        vertical-align: middle;\n",
       "    }\n",
       "\n",
       "    .dataframe tbody tr th {\n",
       "        vertical-align: top;\n",
       "    }\n",
       "\n",
       "    .dataframe thead th {\n",
       "        text-align: right;\n",
       "    }\n",
       "</style>\n",
       "<table border=\"1\" class=\"dataframe\">\n",
       "  <thead>\n",
       "    <tr style=\"text-align: right;\">\n",
       "      <th></th>\n",
       "      <th>uniprot_acc</th>\n",
       "      <th>organism</th>\n",
       "      <th>mlo</th>\n",
       "      <th>rol</th>\n",
       "      <th>db</th>\n",
       "    </tr>\n",
       "  </thead>\n",
       "  <tbody>\n",
       "    <tr>\n",
       "      <th>5688</th>\n",
       "      <td>NaN</td>\n",
       "      <td>Homo sapiens</td>\n",
       "      <td>Centrosome/Spindle pole body</td>\n",
       "      <td>client</td>\n",
       "      <td>drllps</td>\n",
       "    </tr>\n",
       "    <tr>\n",
       "      <th>6105</th>\n",
       "      <td>NaN</td>\n",
       "      <td>Homo sapiens</td>\n",
       "      <td>Nucleolus</td>\n",
       "      <td>client</td>\n",
       "      <td>drllps</td>\n",
       "    </tr>\n",
       "    <tr>\n",
       "      <th>7417</th>\n",
       "      <td>NaN</td>\n",
       "      <td>Homo sapiens</td>\n",
       "      <td>Nucleolus</td>\n",
       "      <td>client</td>\n",
       "      <td>drllps</td>\n",
       "    </tr>\n",
       "    <tr>\n",
       "      <th>7664</th>\n",
       "      <td>NaN</td>\n",
       "      <td>Homo sapiens</td>\n",
       "      <td>Nucleolus</td>\n",
       "      <td>client</td>\n",
       "      <td>drllps</td>\n",
       "    </tr>\n",
       "    <tr>\n",
       "      <th>7747</th>\n",
       "      <td>NaN</td>\n",
       "      <td>Homo sapiens</td>\n",
       "      <td>Nucleolus</td>\n",
       "      <td>client</td>\n",
       "      <td>drllps</td>\n",
       "    </tr>\n",
       "    <tr>\n",
       "      <th>7751</th>\n",
       "      <td>NaN</td>\n",
       "      <td>Homo sapiens</td>\n",
       "      <td>Postsynaptic density</td>\n",
       "      <td>client</td>\n",
       "      <td>drllps</td>\n",
       "    </tr>\n",
       "    <tr>\n",
       "      <th>7889</th>\n",
       "      <td>NaN</td>\n",
       "      <td>Homo sapiens</td>\n",
       "      <td>Stress granule</td>\n",
       "      <td>client</td>\n",
       "      <td>drllps</td>\n",
       "    </tr>\n",
       "    <tr>\n",
       "      <th>7914</th>\n",
       "      <td>NaN</td>\n",
       "      <td>Homo sapiens</td>\n",
       "      <td>Postsynaptic density</td>\n",
       "      <td>client</td>\n",
       "      <td>drllps</td>\n",
       "    </tr>\n",
       "    <tr>\n",
       "      <th>7943</th>\n",
       "      <td>NaN</td>\n",
       "      <td>Homo sapiens</td>\n",
       "      <td>Postsynaptic density</td>\n",
       "      <td>client</td>\n",
       "      <td>drllps</td>\n",
       "    </tr>\n",
       "    <tr>\n",
       "      <th>8069</th>\n",
       "      <td>NaN</td>\n",
       "      <td>Homo sapiens</td>\n",
       "      <td>Postsynaptic density</td>\n",
       "      <td>client</td>\n",
       "      <td>drllps</td>\n",
       "    </tr>\n",
       "    <tr>\n",
       "      <th>8178</th>\n",
       "      <td>NaN</td>\n",
       "      <td>Homo sapiens</td>\n",
       "      <td>Nucleolus</td>\n",
       "      <td>client</td>\n",
       "      <td>drllps</td>\n",
       "    </tr>\n",
       "    <tr>\n",
       "      <th>8229</th>\n",
       "      <td>NaN</td>\n",
       "      <td>Homo sapiens</td>\n",
       "      <td>Nucleolus</td>\n",
       "      <td>client</td>\n",
       "      <td>drllps</td>\n",
       "    </tr>\n",
       "    <tr>\n",
       "      <th>8358</th>\n",
       "      <td>NaN</td>\n",
       "      <td>Homo sapiens</td>\n",
       "      <td>Stress granule</td>\n",
       "      <td>client</td>\n",
       "      <td>drllps</td>\n",
       "    </tr>\n",
       "    <tr>\n",
       "      <th>8359</th>\n",
       "      <td>NaN</td>\n",
       "      <td>Homo sapiens</td>\n",
       "      <td>Postsynaptic density</td>\n",
       "      <td>client</td>\n",
       "      <td>drllps</td>\n",
       "    </tr>\n",
       "    <tr>\n",
       "      <th>8400</th>\n",
       "      <td>NaN</td>\n",
       "      <td>Homo sapiens</td>\n",
       "      <td>Postsynaptic density</td>\n",
       "      <td>client</td>\n",
       "      <td>drllps</td>\n",
       "    </tr>\n",
       "    <tr>\n",
       "      <th>8403</th>\n",
       "      <td>NaN</td>\n",
       "      <td>Homo sapiens</td>\n",
       "      <td>Nucleolus</td>\n",
       "      <td>client</td>\n",
       "      <td>drllps</td>\n",
       "    </tr>\n",
       "  </tbody>\n",
       "</table>\n",
       "</div>"
      ],
      "text/plain": [
       "     uniprot_acc      organism                           mlo     rol      db\n",
       "5688         NaN  Homo sapiens  Centrosome/Spindle pole body  client  drllps\n",
       "6105         NaN  Homo sapiens                     Nucleolus  client  drllps\n",
       "7417         NaN  Homo sapiens                     Nucleolus  client  drllps\n",
       "7664         NaN  Homo sapiens                     Nucleolus  client  drllps\n",
       "7747         NaN  Homo sapiens                     Nucleolus  client  drllps\n",
       "7751         NaN  Homo sapiens          Postsynaptic density  client  drllps\n",
       "7889         NaN  Homo sapiens                Stress granule  client  drllps\n",
       "7914         NaN  Homo sapiens          Postsynaptic density  client  drllps\n",
       "7943         NaN  Homo sapiens          Postsynaptic density  client  drllps\n",
       "8069         NaN  Homo sapiens          Postsynaptic density  client  drllps\n",
       "8178         NaN  Homo sapiens                     Nucleolus  client  drllps\n",
       "8229         NaN  Homo sapiens                     Nucleolus  client  drllps\n",
       "8358         NaN  Homo sapiens                Stress granule  client  drllps\n",
       "8359         NaN  Homo sapiens          Postsynaptic density  client  drllps\n",
       "8400         NaN  Homo sapiens          Postsynaptic density  client  drllps\n",
       "8403         NaN  Homo sapiens                     Nucleolus  client  drllps"
      ]
     },
     "execution_count": 152,
     "metadata": {},
     "output_type": "execute_result"
    }
   ],
   "source": [
    "# There's NaNs uniprots\r\n",
    "entrada_dbs[entrada_dbs.uniprot_acc.isnull()]"
   ]
  },
  {
   "cell_type": "code",
   "execution_count": 153,
   "metadata": {},
   "outputs": [
    {
     "data": {
      "text/html": [
       "<div>\n",
       "<style scoped>\n",
       "    .dataframe tbody tr th:only-of-type {\n",
       "        vertical-align: middle;\n",
       "    }\n",
       "\n",
       "    .dataframe tbody tr th {\n",
       "        vertical-align: top;\n",
       "    }\n",
       "\n",
       "    .dataframe thead th {\n",
       "        text-align: right;\n",
       "    }\n",
       "</style>\n",
       "<table border=\"1\" class=\"dataframe\">\n",
       "  <thead>\n",
       "    <tr style=\"text-align: right;\">\n",
       "      <th></th>\n",
       "      <th>uniprot_acc</th>\n",
       "      <th>organism</th>\n",
       "      <th>mlo</th>\n",
       "      <th>rol</th>\n",
       "      <th>db</th>\n",
       "    </tr>\n",
       "  </thead>\n",
       "  <tbody>\n",
       "    <tr>\n",
       "      <th>0</th>\n",
       "      <td>P35637</td>\n",
       "      <td>Homo sapiens</td>\n",
       "      <td>cytoplasmic stress granule</td>\n",
       "      <td>driver</td>\n",
       "      <td>phasepro</td>\n",
       "    </tr>\n",
       "    <tr>\n",
       "      <th>1</th>\n",
       "      <td>P35637</td>\n",
       "      <td>Homo sapiens</td>\n",
       "      <td>cytoplasmic ribonucleoprotein granule</td>\n",
       "      <td>driver</td>\n",
       "      <td>phasepro</td>\n",
       "    </tr>\n",
       "    <tr>\n",
       "      <th>2</th>\n",
       "      <td>Q06787</td>\n",
       "      <td>Homo sapiens</td>\n",
       "      <td>cytoplasmic stress granule</td>\n",
       "      <td>driver</td>\n",
       "      <td>phasepro</td>\n",
       "    </tr>\n",
       "    <tr>\n",
       "      <th>3</th>\n",
       "      <td>Q06787</td>\n",
       "      <td>Homo sapiens</td>\n",
       "      <td>cytoplasmic ribonucleoprotein granule</td>\n",
       "      <td>driver</td>\n",
       "      <td>phasepro</td>\n",
       "    </tr>\n",
       "    <tr>\n",
       "      <th>4</th>\n",
       "      <td>Q06787</td>\n",
       "      <td>Homo sapiens</td>\n",
       "      <td>synaptosome, neuron projection</td>\n",
       "      <td>driver</td>\n",
       "      <td>phasepro</td>\n",
       "    </tr>\n",
       "    <tr>\n",
       "      <th>...</th>\n",
       "      <td>...</td>\n",
       "      <td>...</td>\n",
       "      <td>...</td>\n",
       "      <td>...</td>\n",
       "      <td>...</td>\n",
       "    </tr>\n",
       "    <tr>\n",
       "      <th>8398</th>\n",
       "      <td>O95670</td>\n",
       "      <td>Homo sapiens</td>\n",
       "      <td>Nucleolus</td>\n",
       "      <td>client</td>\n",
       "      <td>drllps</td>\n",
       "    </tr>\n",
       "    <tr>\n",
       "      <th>8399</th>\n",
       "      <td>O95670</td>\n",
       "      <td>Homo sapiens</td>\n",
       "      <td>Postsynaptic density</td>\n",
       "      <td>client</td>\n",
       "      <td>drllps</td>\n",
       "    </tr>\n",
       "    <tr>\n",
       "      <th>8401</th>\n",
       "      <td>Q9H269</td>\n",
       "      <td>Homo sapiens</td>\n",
       "      <td>Postsynaptic density</td>\n",
       "      <td>client</td>\n",
       "      <td>drllps</td>\n",
       "    </tr>\n",
       "    <tr>\n",
       "      <th>8402</th>\n",
       "      <td>Q9Y3D7</td>\n",
       "      <td>Homo sapiens</td>\n",
       "      <td>Postsynaptic density</td>\n",
       "      <td>client</td>\n",
       "      <td>drllps</td>\n",
       "    </tr>\n",
       "    <tr>\n",
       "      <th>8404</th>\n",
       "      <td>P33778</td>\n",
       "      <td>Homo sapiens</td>\n",
       "      <td>Nucleolus</td>\n",
       "      <td>client</td>\n",
       "      <td>drllps</td>\n",
       "    </tr>\n",
       "  </tbody>\n",
       "</table>\n",
       "<p>8389 rows × 5 columns</p>\n",
       "</div>"
      ],
      "text/plain": [
       "     uniprot_acc      organism                                     mlo  \\\n",
       "0         P35637  Homo sapiens              cytoplasmic stress granule   \n",
       "1         P35637  Homo sapiens   cytoplasmic ribonucleoprotein granule   \n",
       "2         Q06787  Homo sapiens              cytoplasmic stress granule   \n",
       "3         Q06787  Homo sapiens   cytoplasmic ribonucleoprotein granule   \n",
       "4         Q06787  Homo sapiens          synaptosome, neuron projection   \n",
       "...          ...           ...                                     ...   \n",
       "8398      O95670  Homo sapiens                               Nucleolus   \n",
       "8399      O95670  Homo sapiens                    Postsynaptic density   \n",
       "8401      Q9H269  Homo sapiens                    Postsynaptic density   \n",
       "8402      Q9Y3D7  Homo sapiens                    Postsynaptic density   \n",
       "8404      P33778  Homo sapiens                               Nucleolus   \n",
       "\n",
       "         rol        db  \n",
       "0     driver  phasepro  \n",
       "1     driver  phasepro  \n",
       "2     driver  phasepro  \n",
       "3     driver  phasepro  \n",
       "4     driver  phasepro  \n",
       "...      ...       ...  \n",
       "8398  client    drllps  \n",
       "8399  client    drllps  \n",
       "8401  client    drllps  \n",
       "8402  client    drllps  \n",
       "8404  client    drllps  \n",
       "\n",
       "[8389 rows x 5 columns]"
      ]
     },
     "execution_count": 153,
     "metadata": {},
     "output_type": "execute_result"
    }
   ],
   "source": [
    "# Drop these rows\r\n",
    "entrada_dbs = entrada_dbs[entrada_dbs.uniprot_acc.notnull()]\r\n",
    "entrada_dbs"
   ]
  },
  {
   "cell_type": "code",
   "execution_count": 154,
   "metadata": {},
   "outputs": [
    {
     "data": {
      "text/html": [
       "<div>\n",
       "<style scoped>\n",
       "    .dataframe tbody tr th:only-of-type {\n",
       "        vertical-align: middle;\n",
       "    }\n",
       "\n",
       "    .dataframe tbody tr th {\n",
       "        vertical-align: top;\n",
       "    }\n",
       "\n",
       "    .dataframe thead th {\n",
       "        text-align: right;\n",
       "    }\n",
       "</style>\n",
       "<table border=\"1\" class=\"dataframe\">\n",
       "  <thead>\n",
       "    <tr style=\"text-align: right;\">\n",
       "      <th></th>\n",
       "      <th>uniprot_acc</th>\n",
       "      <th>organism</th>\n",
       "      <th>mlo</th>\n",
       "      <th>rol</th>\n",
       "      <th>db</th>\n",
       "    </tr>\n",
       "  </thead>\n",
       "  <tbody>\n",
       "    <tr>\n",
       "      <th>7</th>\n",
       "      <td>Q92804</td>\n",
       "      <td>Homo sapiens</td>\n",
       "      <td>NaN</td>\n",
       "      <td>driver</td>\n",
       "      <td>phasepro</td>\n",
       "    </tr>\n",
       "    <tr>\n",
       "      <th>10</th>\n",
       "      <td>Q13148</td>\n",
       "      <td>Homo sapiens</td>\n",
       "      <td>NaN</td>\n",
       "      <td>driver</td>\n",
       "      <td>phasepro</td>\n",
       "    </tr>\n",
       "    <tr>\n",
       "      <th>12</th>\n",
       "      <td>Q01844</td>\n",
       "      <td>Homo sapiens</td>\n",
       "      <td>NaN</td>\n",
       "      <td>driver</td>\n",
       "      <td>phasepro</td>\n",
       "    </tr>\n",
       "    <tr>\n",
       "      <th>53</th>\n",
       "      <td>O43561</td>\n",
       "      <td>Homo sapiens</td>\n",
       "      <td>NaN</td>\n",
       "      <td>driver</td>\n",
       "      <td>phasepro</td>\n",
       "    </tr>\n",
       "    <tr>\n",
       "      <th>56</th>\n",
       "      <td>P62993</td>\n",
       "      <td>Homo sapiens</td>\n",
       "      <td>NaN</td>\n",
       "      <td>driver</td>\n",
       "      <td>phasepro</td>\n",
       "    </tr>\n",
       "    <tr>\n",
       "      <th>59</th>\n",
       "      <td>Q07889</td>\n",
       "      <td>Homo sapiens</td>\n",
       "      <td>NaN</td>\n",
       "      <td>driver</td>\n",
       "      <td>phasepro</td>\n",
       "    </tr>\n",
       "    <tr>\n",
       "      <th>114</th>\n",
       "      <td>P43243</td>\n",
       "      <td>Homo sapiens</td>\n",
       "      <td>NaN</td>\n",
       "      <td>driver</td>\n",
       "      <td>phasepro</td>\n",
       "    </tr>\n",
       "  </tbody>\n",
       "</table>\n",
       "</div>"
      ],
      "text/plain": [
       "    uniprot_acc      organism  mlo     rol        db\n",
       "7        Q92804  Homo sapiens  NaN  driver  phasepro\n",
       "10       Q13148  Homo sapiens  NaN  driver  phasepro\n",
       "12       Q01844  Homo sapiens  NaN  driver  phasepro\n",
       "53       O43561  Homo sapiens  NaN  driver  phasepro\n",
       "56       P62993  Homo sapiens  NaN  driver  phasepro\n",
       "59       Q07889  Homo sapiens  NaN  driver  phasepro\n",
       "114      P43243  Homo sapiens  NaN  driver  phasepro"
      ]
     },
     "execution_count": 154,
     "metadata": {},
     "output_type": "execute_result"
    }
   ],
   "source": [
    "# There's NaNs mlos\r\n",
    "entrada_dbs[entrada_dbs.mlo.isnull()]"
   ]
  },
  {
   "cell_type": "code",
   "execution_count": 155,
   "metadata": {},
   "outputs": [],
   "source": [
    "missing_mlo = entrada_dbs[entrada_dbs.mlo.isnull()]"
   ]
  },
  {
   "cell_type": "code",
   "execution_count": 156,
   "metadata": {},
   "outputs": [
    {
     "data": {
      "text/html": [
       "<div>\n",
       "<style scoped>\n",
       "    .dataframe tbody tr th:only-of-type {\n",
       "        vertical-align: middle;\n",
       "    }\n",
       "\n",
       "    .dataframe tbody tr th {\n",
       "        vertical-align: top;\n",
       "    }\n",
       "\n",
       "    .dataframe thead th {\n",
       "        text-align: right;\n",
       "    }\n",
       "</style>\n",
       "<table border=\"1\" class=\"dataframe\">\n",
       "  <thead>\n",
       "    <tr style=\"text-align: right;\">\n",
       "      <th></th>\n",
       "      <th>uniprot_acc</th>\n",
       "      <th>mlo</th>\n",
       "      <th>db</th>\n",
       "    </tr>\n",
       "  </thead>\n",
       "  <tbody>\n",
       "    <tr>\n",
       "      <th>2</th>\n",
       "      <td>Q92804</td>\n",
       "      <td>nuclear protein granule</td>\n",
       "      <td>phasepro</td>\n",
       "    </tr>\n",
       "    <tr>\n",
       "      <th>3</th>\n",
       "      <td>Q13148</td>\n",
       "      <td>cytoplasmic stress granule; cytoplasmic ribonu...</td>\n",
       "      <td>phasepro</td>\n",
       "    </tr>\n",
       "    <tr>\n",
       "      <th>4</th>\n",
       "      <td>Q01844</td>\n",
       "      <td>nuclear protein granule</td>\n",
       "      <td>phasepro</td>\n",
       "    </tr>\n",
       "    <tr>\n",
       "      <th>24</th>\n",
       "      <td>O43561</td>\n",
       "      <td>TCR signalosome; LAT signalosome</td>\n",
       "      <td>phasepro</td>\n",
       "    </tr>\n",
       "    <tr>\n",
       "      <th>25</th>\n",
       "      <td>P62993</td>\n",
       "      <td>TCR signalosome; LAT signalosome</td>\n",
       "      <td>phasepro</td>\n",
       "    </tr>\n",
       "    <tr>\n",
       "      <th>26</th>\n",
       "      <td>Q07889</td>\n",
       "      <td>TCR signalosome; LAT signalosome</td>\n",
       "      <td>phasepro</td>\n",
       "    </tr>\n",
       "    <tr>\n",
       "      <th>51</th>\n",
       "      <td>P43243</td>\n",
       "      <td>nuclear protein granule</td>\n",
       "      <td>phasepro</td>\n",
       "    </tr>\n",
       "  </tbody>\n",
       "</table>\n",
       "</div>"
      ],
      "text/plain": [
       "   uniprot_acc                                                mlo        db\n",
       "2       Q92804                            nuclear protein granule  phasepro\n",
       "3       Q13148  cytoplasmic stress granule; cytoplasmic ribonu...  phasepro\n",
       "4       Q01844                            nuclear protein granule  phasepro\n",
       "24      O43561                   TCR signalosome; LAT signalosome  phasepro\n",
       "25      P62993                   TCR signalosome; LAT signalosome  phasepro\n",
       "26      Q07889                   TCR signalosome; LAT signalosome  phasepro\n",
       "51      P43243                            nuclear protein granule  phasepro"
      ]
     },
     "execution_count": 156,
     "metadata": {},
     "output_type": "execute_result"
    }
   ],
   "source": [
    "# Search these uniprot entries in PhaSePro dataset\r\n",
    "phasepro_human = pd.read_csv('../PhaSePro_human.txt', sep='\\t', header= None)\r\n",
    "phasepro_human.shape\r\n",
    "\r\n",
    "phasepro_missing = phasepro_human[phasepro_human[2].isin(missing_mlo.uniprot_acc)].iloc[:, [2,14]]\r\n",
    "phasepro_missing.rename(columns={2: 'uniprot_acc', 14: 'mlo'}, inplace= True)\r\n",
    "phasepro_missing.mlo = phasepro_missing.mlo.str.strip().str.strip(';')              # strip blank space then ;\r\n",
    "phasepro_missing['db'] = 'phasepro'\r\n",
    "phasepro_missing"
   ]
  },
  {
   "cell_type": "code",
   "execution_count": 157,
   "metadata": {},
   "outputs": [
    {
     "data": {
      "text/html": [
       "<div>\n",
       "<style scoped>\n",
       "    .dataframe tbody tr th:only-of-type {\n",
       "        vertical-align: middle;\n",
       "    }\n",
       "\n",
       "    .dataframe tbody tr th {\n",
       "        vertical-align: top;\n",
       "    }\n",
       "\n",
       "    .dataframe thead th {\n",
       "        text-align: right;\n",
       "    }\n",
       "</style>\n",
       "<table border=\"1\" class=\"dataframe\">\n",
       "  <thead>\n",
       "    <tr style=\"text-align: right;\">\n",
       "      <th></th>\n",
       "      <th>uniprot_acc</th>\n",
       "      <th>mlo</th>\n",
       "      <th>db</th>\n",
       "    </tr>\n",
       "  </thead>\n",
       "  <tbody>\n",
       "    <tr>\n",
       "      <th>2</th>\n",
       "      <td>Q92804</td>\n",
       "      <td>nuclear protein granule</td>\n",
       "      <td>phasepro</td>\n",
       "    </tr>\n",
       "    <tr>\n",
       "      <th>3</th>\n",
       "      <td>Q13148</td>\n",
       "      <td>cytoplasmic stress granule</td>\n",
       "      <td>phasepro</td>\n",
       "    </tr>\n",
       "    <tr>\n",
       "      <th>3</th>\n",
       "      <td>Q13148</td>\n",
       "      <td>cytoplasmic ribonucleoprotein granule</td>\n",
       "      <td>phasepro</td>\n",
       "    </tr>\n",
       "    <tr>\n",
       "      <th>4</th>\n",
       "      <td>Q01844</td>\n",
       "      <td>nuclear protein granule</td>\n",
       "      <td>phasepro</td>\n",
       "    </tr>\n",
       "    <tr>\n",
       "      <th>24</th>\n",
       "      <td>O43561</td>\n",
       "      <td>TCR signalosome</td>\n",
       "      <td>phasepro</td>\n",
       "    </tr>\n",
       "    <tr>\n",
       "      <th>24</th>\n",
       "      <td>O43561</td>\n",
       "      <td>LAT signalosome</td>\n",
       "      <td>phasepro</td>\n",
       "    </tr>\n",
       "    <tr>\n",
       "      <th>25</th>\n",
       "      <td>P62993</td>\n",
       "      <td>TCR signalosome</td>\n",
       "      <td>phasepro</td>\n",
       "    </tr>\n",
       "    <tr>\n",
       "      <th>25</th>\n",
       "      <td>P62993</td>\n",
       "      <td>LAT signalosome</td>\n",
       "      <td>phasepro</td>\n",
       "    </tr>\n",
       "    <tr>\n",
       "      <th>26</th>\n",
       "      <td>Q07889</td>\n",
       "      <td>TCR signalosome</td>\n",
       "      <td>phasepro</td>\n",
       "    </tr>\n",
       "    <tr>\n",
       "      <th>26</th>\n",
       "      <td>Q07889</td>\n",
       "      <td>LAT signalosome</td>\n",
       "      <td>phasepro</td>\n",
       "    </tr>\n",
       "    <tr>\n",
       "      <th>51</th>\n",
       "      <td>P43243</td>\n",
       "      <td>nuclear protein granule</td>\n",
       "      <td>phasepro</td>\n",
       "    </tr>\n",
       "  </tbody>\n",
       "</table>\n",
       "</div>"
      ],
      "text/plain": [
       "   uniprot_acc                                    mlo        db\n",
       "2       Q92804                nuclear protein granule  phasepro\n",
       "3       Q13148             cytoplasmic stress granule  phasepro\n",
       "3       Q13148  cytoplasmic ribonucleoprotein granule  phasepro\n",
       "4       Q01844                nuclear protein granule  phasepro\n",
       "24      O43561                        TCR signalosome  phasepro\n",
       "24      O43561                        LAT signalosome  phasepro\n",
       "25      P62993                        TCR signalosome  phasepro\n",
       "25      P62993                        LAT signalosome  phasepro\n",
       "26      Q07889                        TCR signalosome  phasepro\n",
       "26      Q07889                        LAT signalosome  phasepro\n",
       "51      P43243                nuclear protein granule  phasepro"
      ]
     },
     "execution_count": 157,
     "metadata": {},
     "output_type": "execute_result"
    }
   ],
   "source": [
    "# Set mlo col as list-like and explode() to separate list elements into separate rows\r\n",
    "phasepro_missing = phasepro_missing.assign(mlo= phasepro_missing.mlo.str.split(';')).explode('mlo') # explode() is used to transform each element of a list-like to a row\r\n",
    "phasepro_missing.mlo = phasepro_missing.mlo.str.strip()\r\n",
    "phasepro_missing"
   ]
  },
  {
   "cell_type": "code",
   "execution_count": 158,
   "metadata": {},
   "outputs": [
    {
     "data": {
      "text/html": [
       "<div>\n",
       "<style scoped>\n",
       "    .dataframe tbody tr th:only-of-type {\n",
       "        vertical-align: middle;\n",
       "    }\n",
       "\n",
       "    .dataframe tbody tr th {\n",
       "        vertical-align: top;\n",
       "    }\n",
       "\n",
       "    .dataframe thead th {\n",
       "        text-align: right;\n",
       "    }\n",
       "</style>\n",
       "<table border=\"1\" class=\"dataframe\">\n",
       "  <thead>\n",
       "    <tr style=\"text-align: right;\">\n",
       "      <th></th>\n",
       "      <th>uniprot_acc</th>\n",
       "      <th>organism</th>\n",
       "      <th>rol</th>\n",
       "      <th>db</th>\n",
       "      <th>mlo</th>\n",
       "    </tr>\n",
       "  </thead>\n",
       "  <tbody>\n",
       "    <tr>\n",
       "      <th>0</th>\n",
       "      <td>Q92804</td>\n",
       "      <td>Homo sapiens</td>\n",
       "      <td>driver</td>\n",
       "      <td>phasepro</td>\n",
       "      <td>nuclear protein granule</td>\n",
       "    </tr>\n",
       "    <tr>\n",
       "      <th>1</th>\n",
       "      <td>Q13148</td>\n",
       "      <td>Homo sapiens</td>\n",
       "      <td>driver</td>\n",
       "      <td>phasepro</td>\n",
       "      <td>cytoplasmic stress granule</td>\n",
       "    </tr>\n",
       "    <tr>\n",
       "      <th>2</th>\n",
       "      <td>Q13148</td>\n",
       "      <td>Homo sapiens</td>\n",
       "      <td>driver</td>\n",
       "      <td>phasepro</td>\n",
       "      <td>cytoplasmic ribonucleoprotein granule</td>\n",
       "    </tr>\n",
       "    <tr>\n",
       "      <th>3</th>\n",
       "      <td>Q01844</td>\n",
       "      <td>Homo sapiens</td>\n",
       "      <td>driver</td>\n",
       "      <td>phasepro</td>\n",
       "      <td>nuclear protein granule</td>\n",
       "    </tr>\n",
       "    <tr>\n",
       "      <th>4</th>\n",
       "      <td>O43561</td>\n",
       "      <td>Homo sapiens</td>\n",
       "      <td>driver</td>\n",
       "      <td>phasepro</td>\n",
       "      <td>TCR signalosome</td>\n",
       "    </tr>\n",
       "    <tr>\n",
       "      <th>5</th>\n",
       "      <td>O43561</td>\n",
       "      <td>Homo sapiens</td>\n",
       "      <td>driver</td>\n",
       "      <td>phasepro</td>\n",
       "      <td>LAT signalosome</td>\n",
       "    </tr>\n",
       "    <tr>\n",
       "      <th>6</th>\n",
       "      <td>P62993</td>\n",
       "      <td>Homo sapiens</td>\n",
       "      <td>driver</td>\n",
       "      <td>phasepro</td>\n",
       "      <td>TCR signalosome</td>\n",
       "    </tr>\n",
       "    <tr>\n",
       "      <th>7</th>\n",
       "      <td>P62993</td>\n",
       "      <td>Homo sapiens</td>\n",
       "      <td>driver</td>\n",
       "      <td>phasepro</td>\n",
       "      <td>LAT signalosome</td>\n",
       "    </tr>\n",
       "    <tr>\n",
       "      <th>8</th>\n",
       "      <td>Q07889</td>\n",
       "      <td>Homo sapiens</td>\n",
       "      <td>driver</td>\n",
       "      <td>phasepro</td>\n",
       "      <td>TCR signalosome</td>\n",
       "    </tr>\n",
       "    <tr>\n",
       "      <th>9</th>\n",
       "      <td>Q07889</td>\n",
       "      <td>Homo sapiens</td>\n",
       "      <td>driver</td>\n",
       "      <td>phasepro</td>\n",
       "      <td>LAT signalosome</td>\n",
       "    </tr>\n",
       "    <tr>\n",
       "      <th>10</th>\n",
       "      <td>P43243</td>\n",
       "      <td>Homo sapiens</td>\n",
       "      <td>driver</td>\n",
       "      <td>phasepro</td>\n",
       "      <td>nuclear protein granule</td>\n",
       "    </tr>\n",
       "  </tbody>\n",
       "</table>\n",
       "</div>"
      ],
      "text/plain": [
       "   uniprot_acc      organism     rol        db  \\\n",
       "0       Q92804  Homo sapiens  driver  phasepro   \n",
       "1       Q13148  Homo sapiens  driver  phasepro   \n",
       "2       Q13148  Homo sapiens  driver  phasepro   \n",
       "3       Q01844  Homo sapiens  driver  phasepro   \n",
       "4       O43561  Homo sapiens  driver  phasepro   \n",
       "5       O43561  Homo sapiens  driver  phasepro   \n",
       "6       P62993  Homo sapiens  driver  phasepro   \n",
       "7       P62993  Homo sapiens  driver  phasepro   \n",
       "8       Q07889  Homo sapiens  driver  phasepro   \n",
       "9       Q07889  Homo sapiens  driver  phasepro   \n",
       "10      P43243  Homo sapiens  driver  phasepro   \n",
       "\n",
       "                                      mlo  \n",
       "0                 nuclear protein granule  \n",
       "1              cytoplasmic stress granule  \n",
       "2   cytoplasmic ribonucleoprotein granule  \n",
       "3                 nuclear protein granule  \n",
       "4                         TCR signalosome  \n",
       "5                         LAT signalosome  \n",
       "6                         TCR signalosome  \n",
       "7                         LAT signalosome  \n",
       "8                         TCR signalosome  \n",
       "9                         LAT signalosome  \n",
       "10                nuclear protein granule  "
      ]
     },
     "execution_count": 158,
     "metadata": {},
     "output_type": "execute_result"
    }
   ],
   "source": [
    "to_add = missing_mlo.merge(phasepro_missing, on=['uniprot_acc', 'db']).drop(columns='mlo_x').rename(columns= {'mlo_y': 'mlo'})\r\n",
    "to_add"
   ]
  },
  {
   "cell_type": "code",
   "execution_count": 159,
   "metadata": {},
   "outputs": [],
   "source": [
    "# Drop those missing mlos entries\r\n",
    "entrada_dbs = entrada_dbs.drop(missing_mlo.index)\r\n",
    "# And concatenate the subset from phasepro (to_add)\r\n",
    "entrada_dbs = pd.concat([entrada_dbs, to_add], ignore_index= True)"
   ]
  },
  {
   "cell_type": "code",
   "execution_count": 160,
   "metadata": {},
   "outputs": [
    {
     "data": {
      "text/html": [
       "<div>\n",
       "<style scoped>\n",
       "    .dataframe tbody tr th:only-of-type {\n",
       "        vertical-align: middle;\n",
       "    }\n",
       "\n",
       "    .dataframe tbody tr th {\n",
       "        vertical-align: top;\n",
       "    }\n",
       "\n",
       "    .dataframe thead th {\n",
       "        text-align: right;\n",
       "    }\n",
       "</style>\n",
       "<table border=\"1\" class=\"dataframe\">\n",
       "  <thead>\n",
       "    <tr style=\"text-align: right;\">\n",
       "      <th></th>\n",
       "      <th>uniprot_acc</th>\n",
       "      <th>organism</th>\n",
       "      <th>mlo</th>\n",
       "      <th>rol</th>\n",
       "      <th>db</th>\n",
       "    </tr>\n",
       "  </thead>\n",
       "  <tbody>\n",
       "    <tr>\n",
       "      <th>0</th>\n",
       "      <td>P35637</td>\n",
       "      <td>Homo sapiens</td>\n",
       "      <td>cytoplasmic stress granule</td>\n",
       "      <td>driver</td>\n",
       "      <td>phasepro</td>\n",
       "    </tr>\n",
       "    <tr>\n",
       "      <th>1</th>\n",
       "      <td>P35637</td>\n",
       "      <td>Homo sapiens</td>\n",
       "      <td>cytoplasmic ribonucleoprotein granule</td>\n",
       "      <td>driver</td>\n",
       "      <td>phasepro</td>\n",
       "    </tr>\n",
       "    <tr>\n",
       "      <th>2</th>\n",
       "      <td>Q06787</td>\n",
       "      <td>Homo sapiens</td>\n",
       "      <td>cytoplasmic stress granule</td>\n",
       "      <td>driver</td>\n",
       "      <td>phasepro</td>\n",
       "    </tr>\n",
       "    <tr>\n",
       "      <th>3</th>\n",
       "      <td>Q06787</td>\n",
       "      <td>Homo sapiens</td>\n",
       "      <td>cytoplasmic ribonucleoprotein granule</td>\n",
       "      <td>driver</td>\n",
       "      <td>phasepro</td>\n",
       "    </tr>\n",
       "    <tr>\n",
       "      <th>4</th>\n",
       "      <td>Q06787</td>\n",
       "      <td>Homo sapiens</td>\n",
       "      <td>synaptosome, neuron projection</td>\n",
       "      <td>driver</td>\n",
       "      <td>phasepro</td>\n",
       "    </tr>\n",
       "    <tr>\n",
       "      <th>...</th>\n",
       "      <td>...</td>\n",
       "      <td>...</td>\n",
       "      <td>...</td>\n",
       "      <td>...</td>\n",
       "      <td>...</td>\n",
       "    </tr>\n",
       "    <tr>\n",
       "      <th>8388</th>\n",
       "      <td>P62993</td>\n",
       "      <td>Homo sapiens</td>\n",
       "      <td>TCR signalosome</td>\n",
       "      <td>driver</td>\n",
       "      <td>phasepro</td>\n",
       "    </tr>\n",
       "    <tr>\n",
       "      <th>8389</th>\n",
       "      <td>P62993</td>\n",
       "      <td>Homo sapiens</td>\n",
       "      <td>LAT signalosome</td>\n",
       "      <td>driver</td>\n",
       "      <td>phasepro</td>\n",
       "    </tr>\n",
       "    <tr>\n",
       "      <th>8390</th>\n",
       "      <td>Q07889</td>\n",
       "      <td>Homo sapiens</td>\n",
       "      <td>TCR signalosome</td>\n",
       "      <td>driver</td>\n",
       "      <td>phasepro</td>\n",
       "    </tr>\n",
       "    <tr>\n",
       "      <th>8391</th>\n",
       "      <td>Q07889</td>\n",
       "      <td>Homo sapiens</td>\n",
       "      <td>LAT signalosome</td>\n",
       "      <td>driver</td>\n",
       "      <td>phasepro</td>\n",
       "    </tr>\n",
       "    <tr>\n",
       "      <th>8392</th>\n",
       "      <td>P43243</td>\n",
       "      <td>Homo sapiens</td>\n",
       "      <td>nuclear protein granule</td>\n",
       "      <td>driver</td>\n",
       "      <td>phasepro</td>\n",
       "    </tr>\n",
       "  </tbody>\n",
       "</table>\n",
       "<p>8393 rows × 5 columns</p>\n",
       "</div>"
      ],
      "text/plain": [
       "     uniprot_acc      organism                                     mlo  \\\n",
       "0         P35637  Homo sapiens              cytoplasmic stress granule   \n",
       "1         P35637  Homo sapiens   cytoplasmic ribonucleoprotein granule   \n",
       "2         Q06787  Homo sapiens              cytoplasmic stress granule   \n",
       "3         Q06787  Homo sapiens   cytoplasmic ribonucleoprotein granule   \n",
       "4         Q06787  Homo sapiens          synaptosome, neuron projection   \n",
       "...          ...           ...                                     ...   \n",
       "8388      P62993  Homo sapiens                         TCR signalosome   \n",
       "8389      P62993  Homo sapiens                         LAT signalosome   \n",
       "8390      Q07889  Homo sapiens                         TCR signalosome   \n",
       "8391      Q07889  Homo sapiens                         LAT signalosome   \n",
       "8392      P43243  Homo sapiens                 nuclear protein granule   \n",
       "\n",
       "         rol        db  \n",
       "0     driver  phasepro  \n",
       "1     driver  phasepro  \n",
       "2     driver  phasepro  \n",
       "3     driver  phasepro  \n",
       "4     driver  phasepro  \n",
       "...      ...       ...  \n",
       "8388  driver  phasepro  \n",
       "8389  driver  phasepro  \n",
       "8390  driver  phasepro  \n",
       "8391  driver  phasepro  \n",
       "8392  driver  phasepro  \n",
       "\n",
       "[8393 rows x 5 columns]"
      ]
     },
     "execution_count": 160,
     "metadata": {},
     "output_type": "execute_result"
    }
   ],
   "source": [
    "entrada_dbs"
   ]
  },
  {
   "cell_type": "code",
   "execution_count": 161,
   "metadata": {},
   "outputs": [
    {
     "name": "stdout",
     "output_type": "stream",
     "text": [
      "<class 'pandas.core.frame.DataFrame'>\n",
      "RangeIndex: 8393 entries, 0 to 8392\n",
      "Data columns (total 5 columns):\n",
      " #   Column       Non-Null Count  Dtype \n",
      "---  ------       --------------  ----- \n",
      " 0   uniprot_acc  8393 non-null   object\n",
      " 1   organism     8393 non-null   object\n",
      " 2   mlo          8393 non-null   object\n",
      " 3   rol          8393 non-null   object\n",
      " 4   db           8393 non-null   object\n",
      "dtypes: object(5)\n",
      "memory usage: 328.0+ KB\n"
     ]
    }
   ],
   "source": [
    "entrada_dbs.info()"
   ]
  },
  {
   "cell_type": "code",
   "execution_count": 166,
   "metadata": {},
   "outputs": [
    {
     "data": {
      "text/plain": [
       "127"
      ]
     },
     "execution_count": 166,
     "metadata": {},
     "output_type": "execute_result"
    }
   ],
   "source": [
    "# Check for duplicated rows\r\n",
    "entrada_dbs.duplicated().sum()"
   ]
  },
  {
   "cell_type": "code",
   "execution_count": 168,
   "metadata": {},
   "outputs": [],
   "source": [
    "entrada_dbs.drop_duplicates(inplace= True)"
   ]
  },
  {
   "cell_type": "code",
   "execution_count": 169,
   "metadata": {},
   "outputs": [
    {
     "name": "stdout",
     "output_type": "stream",
     "text": [
      "<class 'pandas.core.frame.DataFrame'>\n",
      "Int64Index: 8266 entries, 0 to 8391\n",
      "Data columns (total 5 columns):\n",
      " #   Column       Non-Null Count  Dtype \n",
      "---  ------       --------------  ----- \n",
      " 0   uniprot_acc  8266 non-null   object\n",
      " 1   organism     8266 non-null   object\n",
      " 2   mlo          8266 non-null   object\n",
      " 3   rol          8266 non-null   object\n",
      " 4   db           8266 non-null   object\n",
      "dtypes: object(5)\n",
      "memory usage: 387.5+ KB\n"
     ]
    }
   ],
   "source": [
    "entrada_dbs.info()"
   ]
  },
  {
   "cell_type": "code",
   "execution_count": 171,
   "metadata": {},
   "outputs": [],
   "source": [
    "entrada_dbs.drop(columns='organism', inplace= True)"
   ]
  },
  {
   "cell_type": "code",
   "execution_count": 172,
   "metadata": {},
   "outputs": [
    {
     "data": {
      "text/html": [
       "<div>\n",
       "<style scoped>\n",
       "    .dataframe tbody tr th:only-of-type {\n",
       "        vertical-align: middle;\n",
       "    }\n",
       "\n",
       "    .dataframe tbody tr th {\n",
       "        vertical-align: top;\n",
       "    }\n",
       "\n",
       "    .dataframe thead th {\n",
       "        text-align: right;\n",
       "    }\n",
       "</style>\n",
       "<table border=\"1\" class=\"dataframe\">\n",
       "  <thead>\n",
       "    <tr style=\"text-align: right;\">\n",
       "      <th></th>\n",
       "      <th>uniprot_acc</th>\n",
       "      <th>mlo</th>\n",
       "      <th>rol</th>\n",
       "      <th>db</th>\n",
       "    </tr>\n",
       "  </thead>\n",
       "  <tbody>\n",
       "    <tr>\n",
       "      <th>0</th>\n",
       "      <td>P35637</td>\n",
       "      <td>cytoplasmic stress granule</td>\n",
       "      <td>driver</td>\n",
       "      <td>phasepro</td>\n",
       "    </tr>\n",
       "    <tr>\n",
       "      <th>1</th>\n",
       "      <td>P35637</td>\n",
       "      <td>cytoplasmic ribonucleoprotein granule</td>\n",
       "      <td>driver</td>\n",
       "      <td>phasepro</td>\n",
       "    </tr>\n",
       "    <tr>\n",
       "      <th>2</th>\n",
       "      <td>Q06787</td>\n",
       "      <td>cytoplasmic stress granule</td>\n",
       "      <td>driver</td>\n",
       "      <td>phasepro</td>\n",
       "    </tr>\n",
       "    <tr>\n",
       "      <th>3</th>\n",
       "      <td>Q06787</td>\n",
       "      <td>cytoplasmic ribonucleoprotein granule</td>\n",
       "      <td>driver</td>\n",
       "      <td>phasepro</td>\n",
       "    </tr>\n",
       "    <tr>\n",
       "      <th>4</th>\n",
       "      <td>Q06787</td>\n",
       "      <td>synaptosome, neuron projection</td>\n",
       "      <td>driver</td>\n",
       "      <td>phasepro</td>\n",
       "    </tr>\n",
       "    <tr>\n",
       "      <th>...</th>\n",
       "      <td>...</td>\n",
       "      <td>...</td>\n",
       "      <td>...</td>\n",
       "      <td>...</td>\n",
       "    </tr>\n",
       "    <tr>\n",
       "      <th>8381</th>\n",
       "      <td>P33778</td>\n",
       "      <td>Nucleolus</td>\n",
       "      <td>client</td>\n",
       "      <td>drllps</td>\n",
       "    </tr>\n",
       "    <tr>\n",
       "      <th>8384</th>\n",
       "      <td>Q13148</td>\n",
       "      <td>cytoplasmic ribonucleoprotein granule</td>\n",
       "      <td>driver</td>\n",
       "      <td>phasepro</td>\n",
       "    </tr>\n",
       "    <tr>\n",
       "      <th>8387</th>\n",
       "      <td>O43561</td>\n",
       "      <td>LAT signalosome</td>\n",
       "      <td>driver</td>\n",
       "      <td>phasepro</td>\n",
       "    </tr>\n",
       "    <tr>\n",
       "      <th>8389</th>\n",
       "      <td>P62993</td>\n",
       "      <td>LAT signalosome</td>\n",
       "      <td>driver</td>\n",
       "      <td>phasepro</td>\n",
       "    </tr>\n",
       "    <tr>\n",
       "      <th>8391</th>\n",
       "      <td>Q07889</td>\n",
       "      <td>LAT signalosome</td>\n",
       "      <td>driver</td>\n",
       "      <td>phasepro</td>\n",
       "    </tr>\n",
       "  </tbody>\n",
       "</table>\n",
       "<p>8266 rows × 4 columns</p>\n",
       "</div>"
      ],
      "text/plain": [
       "     uniprot_acc                                     mlo     rol        db\n",
       "0         P35637              cytoplasmic stress granule  driver  phasepro\n",
       "1         P35637   cytoplasmic ribonucleoprotein granule  driver  phasepro\n",
       "2         Q06787              cytoplasmic stress granule  driver  phasepro\n",
       "3         Q06787   cytoplasmic ribonucleoprotein granule  driver  phasepro\n",
       "4         Q06787          synaptosome, neuron projection  driver  phasepro\n",
       "...          ...                                     ...     ...       ...\n",
       "8381      P33778                               Nucleolus  client    drllps\n",
       "8384      Q13148   cytoplasmic ribonucleoprotein granule  driver  phasepro\n",
       "8387      O43561                         LAT signalosome  driver  phasepro\n",
       "8389      P62993                         LAT signalosome  driver  phasepro\n",
       "8391      Q07889                         LAT signalosome  driver  phasepro\n",
       "\n",
       "[8266 rows x 4 columns]"
      ]
     },
     "execution_count": 172,
     "metadata": {},
     "output_type": "execute_result"
    }
   ],
   "source": [
    "entrada_dbs"
   ]
  },
  {
   "cell_type": "markdown",
   "metadata": {},
   "source": [
    "## Load the others tables"
   ]
  },
  {
   "cell_type": "code",
   "execution_count": 178,
   "metadata": {},
   "outputs": [],
   "source": [
    "# protein table for our db. Same above but one protein by row\r\n",
    "protein = pd.read_csv('db_tables/protein.tsv', sep='\\t')"
   ]
  },
  {
   "cell_type": "code",
   "execution_count": 179,
   "metadata": {},
   "outputs": [],
   "source": [
    "# DataFrame with unique id_protein col\r\n",
    "id_protein = protein[['id_protein', 'uniprot_acc']].copy()"
   ]
  },
  {
   "cell_type": "code",
   "execution_count": 180,
   "metadata": {},
   "outputs": [],
   "source": [
    "# only clinvar mutations at the moment\r\n",
    "mutations = pd.read_csv('../datasets/clinvar_all_proteins_mutations.csv.gz', compression='gzip') # comes from parse_clinvar.py"
   ]
  },
  {
   "cell_type": "code",
   "execution_count": 181,
   "metadata": {},
   "outputs": [],
   "source": [
    "disorder = pd.read_csv('disorder_lite.csv').rename(columns={'uniprot': 'uniprot_acc'})\r\n",
    "low_complexity = pd.read_csv('low_complexity.csv').rename(columns={'uniprot': 'uniprot_acc'})\r\n",
    "pfam = pd.read_csv('pfam.csv').rename(columns={'uniprot': 'uniprot_acc'})"
   ]
  },
  {
   "cell_type": "code",
   "execution_count": 182,
   "metadata": {},
   "outputs": [],
   "source": [
    "# Add and unique integer ID fow low_complexity and disorder\n",
    "low_complexity['id_lc'] = range(1, len(low_complexity)+1)\n",
    "disorder['id_idr'] = range(1, len(disorder)+1)"
   ]
  },
  {
   "cell_type": "markdown",
   "metadata": {},
   "source": [
    "---  \r\n",
    "# consequence and source tables"
   ]
  },
  {
   "cell_type": "code",
   "execution_count": 183,
   "metadata": {},
   "outputs": [
    {
     "data": {
      "text/plain": [
       "missense       132500\n",
       "frameshit       18891\n",
       "nonsense        11265\n",
       "deletion         2610\n",
       "insertion        1103\n",
       "delins            763\n",
       "duplication       619\n",
       "Name: consequence, dtype: int64"
      ]
     },
     "execution_count": 183,
     "metadata": {},
     "output_type": "execute_result"
    }
   ],
   "source": [
    "cf = mutations.consequence.value_counts()\n",
    "cf"
   ]
  },
  {
   "cell_type": "code",
   "execution_count": 184,
   "metadata": {},
   "outputs": [
    {
     "data": {
      "text/html": [
       "<div>\n",
       "<style scoped>\n",
       "    .dataframe tbody tr th:only-of-type {\n",
       "        vertical-align: middle;\n",
       "    }\n",
       "\n",
       "    .dataframe tbody tr th {\n",
       "        vertical-align: top;\n",
       "    }\n",
       "\n",
       "    .dataframe thead th {\n",
       "        text-align: right;\n",
       "    }\n",
       "</style>\n",
       "<table border=\"1\" class=\"dataframe\">\n",
       "  <thead>\n",
       "    <tr style=\"text-align: right;\">\n",
       "      <th></th>\n",
       "      <th>id_consequence</th>\n",
       "      <th>consequence</th>\n",
       "    </tr>\n",
       "  </thead>\n",
       "  <tbody>\n",
       "    <tr>\n",
       "      <th>0</th>\n",
       "      <td>1</td>\n",
       "      <td>missense</td>\n",
       "    </tr>\n",
       "    <tr>\n",
       "      <th>1</th>\n",
       "      <td>2</td>\n",
       "      <td>frameshit</td>\n",
       "    </tr>\n",
       "    <tr>\n",
       "      <th>2</th>\n",
       "      <td>3</td>\n",
       "      <td>nonsense</td>\n",
       "    </tr>\n",
       "    <tr>\n",
       "      <th>3</th>\n",
       "      <td>4</td>\n",
       "      <td>deletion</td>\n",
       "    </tr>\n",
       "    <tr>\n",
       "      <th>4</th>\n",
       "      <td>5</td>\n",
       "      <td>insertion</td>\n",
       "    </tr>\n",
       "    <tr>\n",
       "      <th>5</th>\n",
       "      <td>6</td>\n",
       "      <td>delins</td>\n",
       "    </tr>\n",
       "    <tr>\n",
       "      <th>6</th>\n",
       "      <td>7</td>\n",
       "      <td>duplication</td>\n",
       "    </tr>\n",
       "  </tbody>\n",
       "</table>\n",
       "</div>"
      ],
      "text/plain": [
       "   id_consequence  consequence\n",
       "0               1     missense\n",
       "1               2    frameshit\n",
       "2               3     nonsense\n",
       "3               4     deletion\n",
       "4               5    insertion\n",
       "5               6       delins\n",
       "6               7  duplication"
      ]
     },
     "execution_count": 184,
     "metadata": {},
     "output_type": "execute_result"
    }
   ],
   "source": [
    "consequence = pd.DataFrame({'id_consequence': range(1, len(cf)+1), 'consequence': cf.index})\r\n",
    "consequence"
   ]
  },
  {
   "cell_type": "code",
   "execution_count": 185,
   "metadata": {},
   "outputs": [
    {
     "data": {
      "text/plain": [
       "clinvar    167751\n",
       "Name: source, dtype: int64"
      ]
     },
     "execution_count": 185,
     "metadata": {},
     "output_type": "execute_result"
    }
   ],
   "source": [
    "mutations.source.value_counts()"
   ]
  },
  {
   "cell_type": "code",
   "execution_count": 186,
   "metadata": {},
   "outputs": [
    {
     "data": {
      "text/html": [
       "<div>\n",
       "<style scoped>\n",
       "    .dataframe tbody tr th:only-of-type {\n",
       "        vertical-align: middle;\n",
       "    }\n",
       "\n",
       "    .dataframe tbody tr th {\n",
       "        vertical-align: top;\n",
       "    }\n",
       "\n",
       "    .dataframe thead th {\n",
       "        text-align: right;\n",
       "    }\n",
       "</style>\n",
       "<table border=\"1\" class=\"dataframe\">\n",
       "  <thead>\n",
       "    <tr style=\"text-align: right;\">\n",
       "      <th></th>\n",
       "      <th>id_source</th>\n",
       "      <th>source</th>\n",
       "    </tr>\n",
       "  </thead>\n",
       "  <tbody>\n",
       "    <tr>\n",
       "      <th>0</th>\n",
       "      <td>1</td>\n",
       "      <td>clinvar</td>\n",
       "    </tr>\n",
       "    <tr>\n",
       "      <th>1</th>\n",
       "      <td>2</td>\n",
       "      <td>disgenet</td>\n",
       "    </tr>\n",
       "    <tr>\n",
       "      <th>2</th>\n",
       "      <td>3</td>\n",
       "      <td>uniprot</td>\n",
       "    </tr>\n",
       "  </tbody>\n",
       "</table>\n",
       "</div>"
      ],
      "text/plain": [
       "   id_source    source\n",
       "0          1   clinvar\n",
       "1          2  disgenet\n",
       "2          3   uniprot"
      ]
     },
     "execution_count": 186,
     "metadata": {},
     "output_type": "execute_result"
    }
   ],
   "source": [
    "source = pd.DataFrame({'id_source': [1,2,3], 'source': ['clinvar', 'disgenet', 'uniprot']})\r\n",
    "source"
   ]
  },
  {
   "cell_type": "code",
   "execution_count": 187,
   "metadata": {},
   "outputs": [],
   "source": [
    "consequence.to_csv('db_tables/consequence.tsv', sep='\\t', index = False)"
   ]
  },
  {
   "cell_type": "code",
   "execution_count": 188,
   "metadata": {},
   "outputs": [],
   "source": [
    "source.to_csv('db_tables/source.tsv', sep='\\t', index = False)"
   ]
  },
  {
   "cell_type": "markdown",
   "metadata": {},
   "source": [
    "---  \r\n",
    "# mutation table  \r\n",
    "cols: *id_mutation, snp_id, chromosome, start_genomic, end_genomic, start_aa, end_aa, from_aa, to_aa, id_source, id_protein*"
   ]
  },
  {
   "cell_type": "code",
   "execution_count": 189,
   "metadata": {},
   "outputs": [
    {
     "data": {
      "text/html": [
       "<div>\n",
       "<style scoped>\n",
       "    .dataframe tbody tr th:only-of-type {\n",
       "        vertical-align: middle;\n",
       "    }\n",
       "\n",
       "    .dataframe tbody tr th {\n",
       "        vertical-align: top;\n",
       "    }\n",
       "\n",
       "    .dataframe thead th {\n",
       "        text-align: right;\n",
       "    }\n",
       "</style>\n",
       "<table border=\"1\" class=\"dataframe\">\n",
       "  <thead>\n",
       "    <tr style=\"text-align: right;\">\n",
       "      <th></th>\n",
       "      <th>start_aa</th>\n",
       "      <th>end_aa</th>\n",
       "      <th>from</th>\n",
       "      <th>to</th>\n",
       "      <th>consequence</th>\n",
       "      <th>source</th>\n",
       "    </tr>\n",
       "  </thead>\n",
       "  <tbody>\n",
       "    <tr>\n",
       "      <th>5</th>\n",
       "      <td>1755</td>\n",
       "      <td>1757.0</td>\n",
       "      <td>LeuThr</td>\n",
       "      <td>NaN</td>\n",
       "      <td>deletion</td>\n",
       "      <td>clinvar</td>\n",
       "    </tr>\n",
       "    <tr>\n",
       "      <th>13</th>\n",
       "      <td>23</td>\n",
       "      <td>24.0</td>\n",
       "      <td>GlyGlu</td>\n",
       "      <td>NaN</td>\n",
       "      <td>deletion</td>\n",
       "      <td>clinvar</td>\n",
       "    </tr>\n",
       "    <tr>\n",
       "      <th>14</th>\n",
       "      <td>47</td>\n",
       "      <td>54.0</td>\n",
       "      <td>GlyArg</td>\n",
       "      <td>NaN</td>\n",
       "      <td>deletion</td>\n",
       "      <td>clinvar</td>\n",
       "    </tr>\n",
       "    <tr>\n",
       "      <th>16</th>\n",
       "      <td>295</td>\n",
       "      <td>298.0</td>\n",
       "      <td>AspLeu</td>\n",
       "      <td>NaN</td>\n",
       "      <td>deletion</td>\n",
       "      <td>clinvar</td>\n",
       "    </tr>\n",
       "    <tr>\n",
       "      <th>18</th>\n",
       "      <td>116</td>\n",
       "      <td>124.0</td>\n",
       "      <td>GluVal</td>\n",
       "      <td>NaN</td>\n",
       "      <td>deletion</td>\n",
       "      <td>clinvar</td>\n",
       "    </tr>\n",
       "    <tr>\n",
       "      <th>...</th>\n",
       "      <td>...</td>\n",
       "      <td>...</td>\n",
       "      <td>...</td>\n",
       "      <td>...</td>\n",
       "      <td>...</td>\n",
       "      <td>...</td>\n",
       "    </tr>\n",
       "    <tr>\n",
       "      <th>23978</th>\n",
       "      <td>1</td>\n",
       "      <td>2.0</td>\n",
       "      <td>MetGly</td>\n",
       "      <td>Ala</td>\n",
       "      <td>insertion</td>\n",
       "      <td>clinvar</td>\n",
       "    </tr>\n",
       "    <tr>\n",
       "      <th>23979</th>\n",
       "      <td>517</td>\n",
       "      <td>518.0</td>\n",
       "      <td>IleLeu</td>\n",
       "      <td>Ter</td>\n",
       "      <td>insertion</td>\n",
       "      <td>clinvar</td>\n",
       "    </tr>\n",
       "    <tr>\n",
       "      <th>23981</th>\n",
       "      <td>229</td>\n",
       "      <td>230.0</td>\n",
       "      <td>GlyPro</td>\n",
       "      <td>NaN</td>\n",
       "      <td>insertion</td>\n",
       "      <td>clinvar</td>\n",
       "    </tr>\n",
       "    <tr>\n",
       "      <th>23984</th>\n",
       "      <td>1171</td>\n",
       "      <td>1172.0</td>\n",
       "      <td>AspGlu</td>\n",
       "      <td>NaN</td>\n",
       "      <td>insertion</td>\n",
       "      <td>clinvar</td>\n",
       "    </tr>\n",
       "    <tr>\n",
       "      <th>23985</th>\n",
       "      <td>60</td>\n",
       "      <td>67.0</td>\n",
       "      <td>ProHisGlyGlyGlyTrpGlyGln</td>\n",
       "      <td>NaN</td>\n",
       "      <td>insertion</td>\n",
       "      <td>clinvar</td>\n",
       "    </tr>\n",
       "  </tbody>\n",
       "</table>\n",
       "<p>2956 rows × 6 columns</p>\n",
       "</div>"
      ],
      "text/plain": [
       "       start_aa  end_aa                      from   to consequence   source\n",
       "5          1755  1757.0                    LeuThr  NaN    deletion  clinvar\n",
       "13           23    24.0                    GlyGlu  NaN    deletion  clinvar\n",
       "14           47    54.0                    GlyArg  NaN    deletion  clinvar\n",
       "16          295   298.0                    AspLeu  NaN    deletion  clinvar\n",
       "18          116   124.0                    GluVal  NaN    deletion  clinvar\n",
       "...         ...     ...                       ...  ...         ...      ...\n",
       "23978         1     2.0                    MetGly  Ala   insertion  clinvar\n",
       "23979       517   518.0                    IleLeu  Ter   insertion  clinvar\n",
       "23981       229   230.0                    GlyPro  NaN   insertion  clinvar\n",
       "23984      1171  1172.0                    AspGlu  NaN   insertion  clinvar\n",
       "23985        60    67.0  ProHisGlyGlyGlyTrpGlyGln  NaN   insertion  clinvar\n",
       "\n",
       "[2956 rows x 6 columns]"
      ]
     },
     "execution_count": 189,
     "metadata": {},
     "output_type": "execute_result"
    }
   ],
   "source": [
    "mutations[~mutations.end_aa.isnull()][['start_aa',\t'end_aa',\t'from',\t'to',\t'consequence',\t'source']]"
   ]
  },
  {
   "cell_type": "code",
   "execution_count": 190,
   "metadata": {},
   "outputs": [
    {
     "data": {
      "text/plain": [
       "Index(['uniprot_acc', 'organism', 'mlo', 'rol', 'db', 'hgnc_id', 'gene_name',\n",
       "       'approved_name', 'gene_id', 'geneid', 'genesymbol', 'snpid', 'alleleid',\n",
       "       'chromosomeaccession', 'chromosome', 'start', 'stop', 'type', 'name',\n",
       "       'origin', 'phenotypeids', 'phenotypelist', 'otherids', 'nuccore_id',\n",
       "       'cambio', 'start_aa', 'end_aa', 'from', 'to', 'consequence', 'source'],\n",
       "      dtype='object')"
      ]
     },
     "execution_count": 190,
     "metadata": {},
     "output_type": "execute_result"
    }
   ],
   "source": [
    "mutations.columns"
   ]
  },
  {
   "cell_type": "code",
   "execution_count": 191,
   "metadata": {},
   "outputs": [],
   "source": [
    "# Subset by cols to keep for mutation db table\r\n",
    "mutation = mutations[['uniprot_acc', 'snpid', 'chromosome', 'start', 'stop', 'start_aa', 'end_aa', 'from', 'to', 'consequence']].copy()\r\n",
    "mutation.rename(columns={'snpid': 'snp_id', 'start': 'start_genomic', 'stop': 'end_genomic', 'from': 'from_aa', 'to': 'to_aa'}, inplace= True)"
   ]
  },
  {
   "cell_type": "code",
   "execution_count": 192,
   "metadata": {},
   "outputs": [],
   "source": [
    "# Add an unique ID for each mutation, type INT\r\n",
    "mutation['id_mutation'] = range(1, len(mutation)+1)"
   ]
  },
  {
   "cell_type": "code",
   "execution_count": 193,
   "metadata": {},
   "outputs": [],
   "source": [
    "# Fill those mutations containing NaNs in the end_aa col with the start_aa value\r\n",
    "mutation.end_aa = mutation.end_aa.fillna(value= mutation.start_aa).apply(int)"
   ]
  },
  {
   "cell_type": "code",
   "execution_count": 194,
   "metadata": {},
   "outputs": [
    {
     "data": {
      "text/html": [
       "<div>\n",
       "<style scoped>\n",
       "    .dataframe tbody tr th:only-of-type {\n",
       "        vertical-align: middle;\n",
       "    }\n",
       "\n",
       "    .dataframe tbody tr th {\n",
       "        vertical-align: top;\n",
       "    }\n",
       "\n",
       "    .dataframe thead th {\n",
       "        text-align: right;\n",
       "    }\n",
       "</style>\n",
       "<table border=\"1\" class=\"dataframe\">\n",
       "  <thead>\n",
       "    <tr style=\"text-align: right;\">\n",
       "      <th></th>\n",
       "      <th>uniprot_acc</th>\n",
       "      <th>snp_id</th>\n",
       "      <th>chromosome</th>\n",
       "      <th>start_genomic</th>\n",
       "      <th>end_genomic</th>\n",
       "      <th>start_aa</th>\n",
       "      <th>end_aa</th>\n",
       "      <th>from_aa</th>\n",
       "      <th>to_aa</th>\n",
       "      <th>consequence</th>\n",
       "      <th>id_mutation</th>\n",
       "    </tr>\n",
       "  </thead>\n",
       "  <tbody>\n",
       "    <tr>\n",
       "      <th>0</th>\n",
       "      <td>A6H8Y1</td>\n",
       "      <td>879255413</td>\n",
       "      <td>5</td>\n",
       "      <td>71512291</td>\n",
       "      <td>71512293</td>\n",
       "      <td>1371</td>\n",
       "      <td>1371</td>\n",
       "      <td>Arg</td>\n",
       "      <td>NaN</td>\n",
       "      <td>deletion</td>\n",
       "      <td>1</td>\n",
       "    </tr>\n",
       "    <tr>\n",
       "      <th>1</th>\n",
       "      <td>A6NHR9</td>\n",
       "      <td>886043345</td>\n",
       "      <td>18</td>\n",
       "      <td>2700757</td>\n",
       "      <td>2700759</td>\n",
       "      <td>497</td>\n",
       "      <td>497</td>\n",
       "      <td>Lys</td>\n",
       "      <td>NaN</td>\n",
       "      <td>deletion</td>\n",
       "      <td>2</td>\n",
       "    </tr>\n",
       "    <tr>\n",
       "      <th>2</th>\n",
       "      <td>A6NHR9</td>\n",
       "      <td>886044914</td>\n",
       "      <td>18</td>\n",
       "      <td>2697985</td>\n",
       "      <td>2697987</td>\n",
       "      <td>430</td>\n",
       "      <td>430</td>\n",
       "      <td>His</td>\n",
       "      <td>NaN</td>\n",
       "      <td>deletion</td>\n",
       "      <td>3</td>\n",
       "    </tr>\n",
       "    <tr>\n",
       "      <th>3</th>\n",
       "      <td>A6NHR9</td>\n",
       "      <td>1598342592</td>\n",
       "      <td>18</td>\n",
       "      <td>2705766</td>\n",
       "      <td>2705768</td>\n",
       "      <td>639</td>\n",
       "      <td>639</td>\n",
       "      <td>Gly</td>\n",
       "      <td>NaN</td>\n",
       "      <td>deletion</td>\n",
       "      <td>4</td>\n",
       "    </tr>\n",
       "    <tr>\n",
       "      <th>4</th>\n",
       "      <td>A6NHR9</td>\n",
       "      <td>1598293848</td>\n",
       "      <td>18</td>\n",
       "      <td>2673343</td>\n",
       "      <td>2673345</td>\n",
       "      <td>164</td>\n",
       "      <td>164</td>\n",
       "      <td>Arg</td>\n",
       "      <td>NaN</td>\n",
       "      <td>deletion</td>\n",
       "      <td>5</td>\n",
       "    </tr>\n",
       "  </tbody>\n",
       "</table>\n",
       "</div>"
      ],
      "text/plain": [
       "  uniprot_acc      snp_id chromosome  start_genomic  end_genomic  start_aa  \\\n",
       "0      A6H8Y1   879255413          5       71512291     71512293      1371   \n",
       "1      A6NHR9   886043345         18        2700757      2700759       497   \n",
       "2      A6NHR9   886044914         18        2697985      2697987       430   \n",
       "3      A6NHR9  1598342592         18        2705766      2705768       639   \n",
       "4      A6NHR9  1598293848         18        2673343      2673345       164   \n",
       "\n",
       "   end_aa from_aa to_aa consequence  id_mutation  \n",
       "0    1371     Arg   NaN    deletion            1  \n",
       "1     497     Lys   NaN    deletion            2  \n",
       "2     430     His   NaN    deletion            3  \n",
       "3     639     Gly   NaN    deletion            4  \n",
       "4     164     Arg   NaN    deletion            5  "
      ]
     },
     "execution_count": 194,
     "metadata": {},
     "output_type": "execute_result"
    }
   ],
   "source": [
    "mutation.head()"
   ]
  },
  {
   "cell_type": "code",
   "execution_count": 195,
   "metadata": {},
   "outputs": [],
   "source": [
    "# Add IDs from protein and consequence\r\n",
    "mutation = mutation.merge(id_protein)\r\n",
    "mutation = mutation.merge(consequence)\r\n",
    "mutation.drop(columns=['uniprot_acc', 'consequence'], inplace= True)"
   ]
  },
  {
   "cell_type": "code",
   "execution_count": 196,
   "metadata": {},
   "outputs": [],
   "source": [
    "def format_snp(df, column):\r\n",
    "    '''\r\n",
    "    format an int snps column in a DataFrame containing -1 values.\r\n",
    "    Returns: the snp column in str format ('rs1580653772' or 'nan')\r\n",
    "    '''\r\n",
    "    #a = df.column.replace(-1, 'nan')\r\n",
    "    a = df[column]\r\n",
    "    a = a.apply(str)\r\n",
    "    a = a.map(lambda x: 'rs' + x)\r\n",
    "    a = a.replace('rs-1', 'nan')\r\n",
    "    df[column] = a"
   ]
  },
  {
   "cell_type": "code",
   "execution_count": 197,
   "metadata": {},
   "outputs": [],
   "source": [
    "# Format snp_id col\r\n",
    "format_snp(mutation, 'snp_id')"
   ]
  },
  {
   "cell_type": "code",
   "execution_count": 198,
   "metadata": {},
   "outputs": [],
   "source": [
    "# Format from_aa and to_aa cols to 1 letter code\r\n",
    "from Bio.SeqUtils import seq1\r\n",
    "mutation['from_aa'] = mutation['from_aa'].map(lambda x: seq1(x))\r\n",
    "mutation['to_aa'] = mutation['to_aa'].apply(str).map(lambda x: seq1(x) if x != 'nan' else x)"
   ]
  },
  {
   "cell_type": "code",
   "execution_count": 199,
   "metadata": {},
   "outputs": [
    {
     "data": {
      "text/plain": [
       "Index(['snp_id', 'chromosome', 'start_genomic', 'end_genomic', 'start_aa',\n",
       "       'end_aa', 'from_aa', 'to_aa', 'id_mutation', 'id_protein',\n",
       "       'id_consequence'],\n",
       "      dtype='object')"
      ]
     },
     "execution_count": 199,
     "metadata": {},
     "output_type": "execute_result"
    }
   ],
   "source": [
    "mutation.columns"
   ]
  },
  {
   "cell_type": "code",
   "execution_count": 200,
   "metadata": {},
   "outputs": [
    {
     "data": {
      "text/html": [
       "<div>\n",
       "<style scoped>\n",
       "    .dataframe tbody tr th:only-of-type {\n",
       "        vertical-align: middle;\n",
       "    }\n",
       "\n",
       "    .dataframe tbody tr th {\n",
       "        vertical-align: top;\n",
       "    }\n",
       "\n",
       "    .dataframe thead th {\n",
       "        text-align: right;\n",
       "    }\n",
       "</style>\n",
       "<table border=\"1\" class=\"dataframe\">\n",
       "  <thead>\n",
       "    <tr style=\"text-align: right;\">\n",
       "      <th></th>\n",
       "      <th>id_mutation</th>\n",
       "      <th>snp_id</th>\n",
       "      <th>chromosome</th>\n",
       "      <th>start_genomic</th>\n",
       "      <th>end_genomic</th>\n",
       "      <th>start_aa</th>\n",
       "      <th>end_aa</th>\n",
       "      <th>from_aa</th>\n",
       "      <th>to_aa</th>\n",
       "      <th>id_protein</th>\n",
       "      <th>id_consequence</th>\n",
       "    </tr>\n",
       "  </thead>\n",
       "  <tbody>\n",
       "    <tr>\n",
       "      <th>0</th>\n",
       "      <td>1</td>\n",
       "      <td>rs879255413</td>\n",
       "      <td>5</td>\n",
       "      <td>71512291</td>\n",
       "      <td>71512293</td>\n",
       "      <td>1371</td>\n",
       "      <td>1371</td>\n",
       "      <td>R</td>\n",
       "      <td>nan</td>\n",
       "      <td>19</td>\n",
       "      <td>4</td>\n",
       "    </tr>\n",
       "    <tr>\n",
       "      <th>1</th>\n",
       "      <td>2</td>\n",
       "      <td>rs886043345</td>\n",
       "      <td>18</td>\n",
       "      <td>2700757</td>\n",
       "      <td>2700759</td>\n",
       "      <td>497</td>\n",
       "      <td>497</td>\n",
       "      <td>K</td>\n",
       "      <td>nan</td>\n",
       "      <td>25</td>\n",
       "      <td>4</td>\n",
       "    </tr>\n",
       "    <tr>\n",
       "      <th>2</th>\n",
       "      <td>3</td>\n",
       "      <td>rs886044914</td>\n",
       "      <td>18</td>\n",
       "      <td>2697985</td>\n",
       "      <td>2697987</td>\n",
       "      <td>430</td>\n",
       "      <td>430</td>\n",
       "      <td>H</td>\n",
       "      <td>nan</td>\n",
       "      <td>25</td>\n",
       "      <td>4</td>\n",
       "    </tr>\n",
       "    <tr>\n",
       "      <th>3</th>\n",
       "      <td>4</td>\n",
       "      <td>rs1598342592</td>\n",
       "      <td>18</td>\n",
       "      <td>2705766</td>\n",
       "      <td>2705768</td>\n",
       "      <td>639</td>\n",
       "      <td>639</td>\n",
       "      <td>G</td>\n",
       "      <td>nan</td>\n",
       "      <td>25</td>\n",
       "      <td>4</td>\n",
       "    </tr>\n",
       "    <tr>\n",
       "      <th>4</th>\n",
       "      <td>5</td>\n",
       "      <td>rs1598293848</td>\n",
       "      <td>18</td>\n",
       "      <td>2673343</td>\n",
       "      <td>2673345</td>\n",
       "      <td>164</td>\n",
       "      <td>164</td>\n",
       "      <td>R</td>\n",
       "      <td>nan</td>\n",
       "      <td>25</td>\n",
       "      <td>4</td>\n",
       "    </tr>\n",
       "    <tr>\n",
       "      <th>...</th>\n",
       "      <td>...</td>\n",
       "      <td>...</td>\n",
       "      <td>...</td>\n",
       "      <td>...</td>\n",
       "      <td>...</td>\n",
       "      <td>...</td>\n",
       "      <td>...</td>\n",
       "      <td>...</td>\n",
       "      <td>...</td>\n",
       "      <td>...</td>\n",
       "      <td>...</td>\n",
       "    </tr>\n",
       "    <tr>\n",
       "      <th>164603</th>\n",
       "      <td>167747</td>\n",
       "      <td>rs1064795493</td>\n",
       "      <td>2</td>\n",
       "      <td>51028155</td>\n",
       "      <td>51028155</td>\n",
       "      <td>40</td>\n",
       "      <td>40</td>\n",
       "      <td>W</td>\n",
       "      <td>*</td>\n",
       "      <td>4362</td>\n",
       "      <td>3</td>\n",
       "    </tr>\n",
       "    <tr>\n",
       "      <th>164604</th>\n",
       "      <td>167748</td>\n",
       "      <td>rs1553759318</td>\n",
       "      <td>2</td>\n",
       "      <td>50538311</td>\n",
       "      <td>50538311</td>\n",
       "      <td>695</td>\n",
       "      <td>695</td>\n",
       "      <td>W</td>\n",
       "      <td>*</td>\n",
       "      <td>4362</td>\n",
       "      <td>3</td>\n",
       "    </tr>\n",
       "    <tr>\n",
       "      <th>164605</th>\n",
       "      <td>167749</td>\n",
       "      <td>rs1201575289</td>\n",
       "      <td>2</td>\n",
       "      <td>50055006</td>\n",
       "      <td>50055006</td>\n",
       "      <td>1253</td>\n",
       "      <td>1253</td>\n",
       "      <td>R</td>\n",
       "      <td>*</td>\n",
       "      <td>4362</td>\n",
       "      <td>3</td>\n",
       "    </tr>\n",
       "    <tr>\n",
       "      <th>164606</th>\n",
       "      <td>167750</td>\n",
       "      <td>nan</td>\n",
       "      <td>2</td>\n",
       "      <td>49922240</td>\n",
       "      <td>49922240</td>\n",
       "      <td>1410</td>\n",
       "      <td>1410</td>\n",
       "      <td>R</td>\n",
       "      <td>*</td>\n",
       "      <td>4362</td>\n",
       "      <td>3</td>\n",
       "    </tr>\n",
       "    <tr>\n",
       "      <th>164607</th>\n",
       "      <td>167751</td>\n",
       "      <td>nan</td>\n",
       "      <td>2</td>\n",
       "      <td>50236893</td>\n",
       "      <td>50236893</td>\n",
       "      <td>1148</td>\n",
       "      <td>1148</td>\n",
       "      <td>R</td>\n",
       "      <td>*</td>\n",
       "      <td>4362</td>\n",
       "      <td>3</td>\n",
       "    </tr>\n",
       "  </tbody>\n",
       "</table>\n",
       "<p>167751 rows × 11 columns</p>\n",
       "</div>"
      ],
      "text/plain": [
       "        id_mutation        snp_id chromosome  start_genomic  end_genomic  \\\n",
       "0                 1   rs879255413          5       71512291     71512293   \n",
       "1                 2   rs886043345         18        2700757      2700759   \n",
       "2                 3   rs886044914         18        2697985      2697987   \n",
       "3                 4  rs1598342592         18        2705766      2705768   \n",
       "4                 5  rs1598293848         18        2673343      2673345   \n",
       "...             ...           ...        ...            ...          ...   \n",
       "164603       167747  rs1064795493          2       51028155     51028155   \n",
       "164604       167748  rs1553759318          2       50538311     50538311   \n",
       "164605       167749  rs1201575289          2       50055006     50055006   \n",
       "164606       167750           nan          2       49922240     49922240   \n",
       "164607       167751           nan          2       50236893     50236893   \n",
       "\n",
       "        start_aa  end_aa from_aa to_aa  id_protein  id_consequence  \n",
       "0           1371    1371       R   nan          19               4  \n",
       "1            497     497       K   nan          25               4  \n",
       "2            430     430       H   nan          25               4  \n",
       "3            639     639       G   nan          25               4  \n",
       "4            164     164       R   nan          25               4  \n",
       "...          ...     ...     ...   ...         ...             ...  \n",
       "164603        40      40       W     *        4362               3  \n",
       "164604       695     695       W     *        4362               3  \n",
       "164605      1253    1253       R     *        4362               3  \n",
       "164606      1410    1410       R     *        4362               3  \n",
       "164607      1148    1148       R     *        4362               3  \n",
       "\n",
       "[167751 rows x 11 columns]"
      ]
     },
     "execution_count": 200,
     "metadata": {},
     "output_type": "execute_result"
    }
   ],
   "source": [
    "mutation = mutation[['id_mutation', 'snp_id', 'chromosome', 'start_genomic', 'end_genomic', 'start_aa','end_aa',\r\n",
    "                    'from_aa', 'to_aa', 'id_protein', 'id_consequence']].sort_values('id_mutation')\r\n",
    "mutation"
   ]
  },
  {
   "cell_type": "code",
   "execution_count": 201,
   "metadata": {},
   "outputs": [],
   "source": [
    "mutation.chromosome = mutation.chromosome.apply(str)"
   ]
  },
  {
   "cell_type": "code",
   "execution_count": 202,
   "metadata": {},
   "outputs": [
    {
     "name": "stdout",
     "output_type": "stream",
     "text": [
      "<class 'pandas.core.frame.DataFrame'>\n",
      "Int64Index: 167751 entries, 0 to 164607\n",
      "Data columns (total 11 columns):\n",
      " #   Column          Non-Null Count   Dtype \n",
      "---  ------          --------------   ----- \n",
      " 0   id_mutation     167751 non-null  int32 \n",
      " 1   snp_id          167751 non-null  object\n",
      " 2   chromosome      167751 non-null  object\n",
      " 3   start_genomic   167751 non-null  int64 \n",
      " 4   end_genomic     167751 non-null  int64 \n",
      " 5   start_aa        167751 non-null  int64 \n",
      " 6   end_aa          167751 non-null  int64 \n",
      " 7   from_aa         167751 non-null  object\n",
      " 8   to_aa           167751 non-null  object\n",
      " 9   id_protein      167751 non-null  int64 \n",
      " 10  id_consequence  167751 non-null  int64 \n",
      "dtypes: int32(1), int64(6), object(4)\n",
      "memory usage: 14.7+ MB\n"
     ]
    }
   ],
   "source": [
    "mutation.info()"
   ]
  },
  {
   "cell_type": "code",
   "execution_count": 203,
   "metadata": {},
   "outputs": [],
   "source": [
    "mutation.to_csv('db_tables/mutation.tsv', sep='\\t', index = False)"
   ]
  },
  {
   "cell_type": "markdown",
   "metadata": {},
   "source": [
    "---\n",
    "## Para asignar los rangos debo tener:  \n",
    "- Tabla de mutaciones con id_mutation, *id_protein(Chromosome), start_aa(Start), end_aa(End)*  \n",
    "- Tablas de lc, idr y pfam con id unico "
   ]
  },
  {
   "cell_type": "markdown",
   "metadata": {},
   "source": [
    "---  \n",
    "# Pfam Tables"
   ]
  },
  {
   "cell_type": "code",
   "execution_count": 204,
   "metadata": {},
   "outputs": [
    {
     "data": {
      "text/html": [
       "<div>\n",
       "<style scoped>\n",
       "    .dataframe tbody tr th:only-of-type {\n",
       "        vertical-align: middle;\n",
       "    }\n",
       "\n",
       "    .dataframe tbody tr th {\n",
       "        vertical-align: top;\n",
       "    }\n",
       "\n",
       "    .dataframe thead th {\n",
       "        text-align: right;\n",
       "    }\n",
       "</style>\n",
       "<table border=\"1\" class=\"dataframe\">\n",
       "  <thead>\n",
       "    <tr style=\"text-align: right;\">\n",
       "      <th></th>\n",
       "      <th>uniprot_acc</th>\n",
       "      <th>tipo</th>\n",
       "      <th>start</th>\n",
       "      <th>end</th>\n",
       "    </tr>\n",
       "  </thead>\n",
       "  <tbody>\n",
       "    <tr>\n",
       "      <th>0</th>\n",
       "      <td>O94910</td>\n",
       "      <td>7tm_2</td>\n",
       "      <td>857</td>\n",
       "      <td>1093</td>\n",
       "    </tr>\n",
       "    <tr>\n",
       "      <th>1</th>\n",
       "      <td>Q9HAR2</td>\n",
       "      <td>7tm_2</td>\n",
       "      <td>861</td>\n",
       "      <td>1097</td>\n",
       "    </tr>\n",
       "    <tr>\n",
       "      <th>2</th>\n",
       "      <td>O14514</td>\n",
       "      <td>7tm_2</td>\n",
       "      <td>944</td>\n",
       "      <td>1180</td>\n",
       "    </tr>\n",
       "    <tr>\n",
       "      <th>3</th>\n",
       "      <td>O75899</td>\n",
       "      <td>7tm_3</td>\n",
       "      <td>475</td>\n",
       "      <td>743</td>\n",
       "    </tr>\n",
       "    <tr>\n",
       "      <th>4</th>\n",
       "      <td>Q9NZH0</td>\n",
       "      <td>7tm_3</td>\n",
       "      <td>49</td>\n",
       "      <td>291</td>\n",
       "    </tr>\n",
       "  </tbody>\n",
       "</table>\n",
       "</div>"
      ],
      "text/plain": [
       "  uniprot_acc   tipo  start   end\n",
       "0      O94910  7tm_2    857  1093\n",
       "1      Q9HAR2  7tm_2    861  1097\n",
       "2      O14514  7tm_2    944  1180\n",
       "3      O75899  7tm_3    475   743\n",
       "4      Q9NZH0  7tm_3     49   291"
      ]
     },
     "execution_count": 204,
     "metadata": {},
     "output_type": "execute_result"
    }
   ],
   "source": [
    "pfam.head()"
   ]
  },
  {
   "cell_type": "markdown",
   "metadata": {},
   "source": [
    "## pfam_domain  \r\n",
    "cols: pfam_id, pfam_domain, por ej: PF00003 7tm_3"
   ]
  },
  {
   "cell_type": "code",
   "execution_count": 205,
   "metadata": {},
   "outputs": [],
   "source": [
    "# Array with unique pfam domains\r\n",
    "pf_domain = pfam.tipo.unique() # unique pfam domains (2939 for this set of proteins)"
   ]
  },
  {
   "cell_type": "code",
   "execution_count": 206,
   "metadata": {},
   "outputs": [
    {
     "data": {
      "text/html": [
       "<div>\n",
       "<style scoped>\n",
       "    .dataframe tbody tr th:only-of-type {\n",
       "        vertical-align: middle;\n",
       "    }\n",
       "\n",
       "    .dataframe tbody tr th {\n",
       "        vertical-align: top;\n",
       "    }\n",
       "\n",
       "    .dataframe thead th {\n",
       "        text-align: right;\n",
       "    }\n",
       "</style>\n",
       "<table border=\"1\" class=\"dataframe\">\n",
       "  <thead>\n",
       "    <tr style=\"text-align: right;\">\n",
       "      <th></th>\n",
       "      <th>pfam_domain</th>\n",
       "      <th>id_pfam</th>\n",
       "    </tr>\n",
       "  </thead>\n",
       "  <tbody>\n",
       "    <tr>\n",
       "      <th>0</th>\n",
       "      <td>7tm_2</td>\n",
       "      <td>1</td>\n",
       "    </tr>\n",
       "    <tr>\n",
       "      <th>1</th>\n",
       "      <td>7tm_3</td>\n",
       "      <td>2</td>\n",
       "    </tr>\n",
       "    <tr>\n",
       "      <th>2</th>\n",
       "      <td>ATP-synt_ab</td>\n",
       "      <td>3</td>\n",
       "    </tr>\n",
       "    <tr>\n",
       "      <th>3</th>\n",
       "      <td>GTP_EFTU</td>\n",
       "      <td>4</td>\n",
       "    </tr>\n",
       "    <tr>\n",
       "      <th>4</th>\n",
       "      <td>HLH</td>\n",
       "      <td>5</td>\n",
       "    </tr>\n",
       "    <tr>\n",
       "      <th>...</th>\n",
       "      <td>...</td>\n",
       "      <td>...</td>\n",
       "    </tr>\n",
       "    <tr>\n",
       "      <th>2934</th>\n",
       "      <td>PhoLip_ATPase_C</td>\n",
       "      <td>2935</td>\n",
       "    </tr>\n",
       "    <tr>\n",
       "      <th>2935</th>\n",
       "      <td>HIP1_clath_bdg</td>\n",
       "      <td>2936</td>\n",
       "    </tr>\n",
       "    <tr>\n",
       "      <th>2936</th>\n",
       "      <td>DAO_C</td>\n",
       "      <td>2937</td>\n",
       "    </tr>\n",
       "    <tr>\n",
       "      <th>2937</th>\n",
       "      <td>Armet</td>\n",
       "      <td>2938</td>\n",
       "    </tr>\n",
       "    <tr>\n",
       "      <th>2938</th>\n",
       "      <td>DSPc</td>\n",
       "      <td>2939</td>\n",
       "    </tr>\n",
       "  </tbody>\n",
       "</table>\n",
       "<p>2939 rows × 2 columns</p>\n",
       "</div>"
      ],
      "text/plain": [
       "          pfam_domain  id_pfam\n",
       "0               7tm_2        1\n",
       "1               7tm_3        2\n",
       "2         ATP-synt_ab        3\n",
       "3            GTP_EFTU        4\n",
       "4                 HLH        5\n",
       "...               ...      ...\n",
       "2934  PhoLip_ATPase_C     2935\n",
       "2935   HIP1_clath_bdg     2936\n",
       "2936            DAO_C     2937\n",
       "2937            Armet     2938\n",
       "2938             DSPc     2939\n",
       "\n",
       "[2939 rows x 2 columns]"
      ]
     },
     "execution_count": 206,
     "metadata": {},
     "output_type": "execute_result"
    }
   ],
   "source": [
    "pfam_domain = pd.DataFrame({'pfam_domain': pf_domain, 'id_pfam': range(1, len(pf_domain)+1)})  # luego cambiar el id por los PF000...\r\n",
    "pfam_domain"
   ]
  },
  {
   "cell_type": "code",
   "execution_count": 207,
   "metadata": {},
   "outputs": [],
   "source": [
    "pfam_domain.to_csv('db_tables/pfam_domain.tsv', sep='\\t', index= False)"
   ]
  },
  {
   "cell_type": "markdown",
   "metadata": {},
   "source": [
    "## protein_has_pfam_domain  \r\n",
    "cols: id_protein, id_pfam, start, end, length"
   ]
  },
  {
   "cell_type": "code",
   "execution_count": 208,
   "metadata": {},
   "outputs": [],
   "source": [
    "protein_has_pfam_domain = pfam.merge(id_protein) # agregar col id_protein\r\n",
    "protein_has_pfam_domain['length'] = protein_has_pfam_domain.end - protein_has_pfam_domain.start + 1 # col length"
   ]
  },
  {
   "cell_type": "code",
   "execution_count": 209,
   "metadata": {},
   "outputs": [],
   "source": [
    "protein_has_pfam_domain.rename(columns= {'tipo': 'pfam_domain'}, inplace= True)\r\n",
    "protein_has_pfam_domain = protein_has_pfam_domain.merge(pfam_domain) # to add the col pfam_id"
   ]
  },
  {
   "cell_type": "code",
   "execution_count": 210,
   "metadata": {},
   "outputs": [
    {
     "data": {
      "text/html": [
       "<div>\n",
       "<style scoped>\n",
       "    .dataframe tbody tr th:only-of-type {\n",
       "        vertical-align: middle;\n",
       "    }\n",
       "\n",
       "    .dataframe tbody tr th {\n",
       "        vertical-align: top;\n",
       "    }\n",
       "\n",
       "    .dataframe thead th {\n",
       "        text-align: right;\n",
       "    }\n",
       "</style>\n",
       "<table border=\"1\" class=\"dataframe\">\n",
       "  <thead>\n",
       "    <tr style=\"text-align: right;\">\n",
       "      <th></th>\n",
       "      <th>id_protein</th>\n",
       "      <th>id_pfam</th>\n",
       "      <th>start</th>\n",
       "      <th>end</th>\n",
       "      <th>length</th>\n",
       "    </tr>\n",
       "  </thead>\n",
       "  <tbody>\n",
       "    <tr>\n",
       "      <th>6140</th>\n",
       "      <td>1</td>\n",
       "      <td>171</td>\n",
       "      <td>17</td>\n",
       "      <td>144</td>\n",
       "      <td>128</td>\n",
       "    </tr>\n",
       "    <tr>\n",
       "      <th>9114</th>\n",
       "      <td>2</td>\n",
       "      <td>814</td>\n",
       "      <td>28</td>\n",
       "      <td>91</td>\n",
       "      <td>64</td>\n",
       "    </tr>\n",
       "    <tr>\n",
       "      <th>627</th>\n",
       "      <td>4</td>\n",
       "      <td>50</td>\n",
       "      <td>153</td>\n",
       "      <td>220</td>\n",
       "      <td>68</td>\n",
       "    </tr>\n",
       "    <tr>\n",
       "      <th>626</th>\n",
       "      <td>4</td>\n",
       "      <td>50</td>\n",
       "      <td>248</td>\n",
       "      <td>312</td>\n",
       "      <td>65</td>\n",
       "    </tr>\n",
       "    <tr>\n",
       "      <th>625</th>\n",
       "      <td>4</td>\n",
       "      <td>50</td>\n",
       "      <td>73</td>\n",
       "      <td>141</td>\n",
       "      <td>69</td>\n",
       "    </tr>\n",
       "    <tr>\n",
       "      <th>...</th>\n",
       "      <td>...</td>\n",
       "      <td>...</td>\n",
       "      <td>...</td>\n",
       "      <td>...</td>\n",
       "      <td>...</td>\n",
       "    </tr>\n",
       "    <tr>\n",
       "      <th>1461</th>\n",
       "      <td>4365</td>\n",
       "      <td>784</td>\n",
       "      <td>55</td>\n",
       "      <td>184</td>\n",
       "      <td>130</td>\n",
       "    </tr>\n",
       "    <tr>\n",
       "      <th>1457</th>\n",
       "      <td>4365</td>\n",
       "      <td>784</td>\n",
       "      <td>475</td>\n",
       "      <td>619</td>\n",
       "      <td>145</td>\n",
       "    </tr>\n",
       "    <tr>\n",
       "      <th>5600</th>\n",
       "      <td>4367</td>\n",
       "      <td>2244</td>\n",
       "      <td>160</td>\n",
       "      <td>199</td>\n",
       "      <td>40</td>\n",
       "    </tr>\n",
       "    <tr>\n",
       "      <th>10551</th>\n",
       "      <td>4367</td>\n",
       "      <td>2529</td>\n",
       "      <td>305</td>\n",
       "      <td>369</td>\n",
       "      <td>65</td>\n",
       "    </tr>\n",
       "    <tr>\n",
       "      <th>10240</th>\n",
       "      <td>4368</td>\n",
       "      <td>1817</td>\n",
       "      <td>5</td>\n",
       "      <td>140</td>\n",
       "      <td>136</td>\n",
       "    </tr>\n",
       "  </tbody>\n",
       "</table>\n",
       "<p>10867 rows × 5 columns</p>\n",
       "</div>"
      ],
      "text/plain": [
       "       id_protein  id_pfam  start  end  length\n",
       "6140            1      171     17  144     128\n",
       "9114            2      814     28   91      64\n",
       "627             4       50    153  220      68\n",
       "626             4       50    248  312      65\n",
       "625             4       50     73  141      69\n",
       "...           ...      ...    ...  ...     ...\n",
       "1461         4365      784     55  184     130\n",
       "1457         4365      784    475  619     145\n",
       "5600         4367     2244    160  199      40\n",
       "10551        4367     2529    305  369      65\n",
       "10240        4368     1817      5  140     136\n",
       "\n",
       "[10867 rows x 5 columns]"
      ]
     },
     "execution_count": 210,
     "metadata": {},
     "output_type": "execute_result"
    }
   ],
   "source": [
    "protein_has_pfam_domain = protein_has_pfam_domain[['id_protein', 'id_pfam', 'start', 'end', 'length']].sort_values('id_protein')\r\n",
    "protein_has_pfam_domain"
   ]
  },
  {
   "cell_type": "code",
   "execution_count": 211,
   "metadata": {},
   "outputs": [],
   "source": [
    "protein_has_pfam_domain.to_csv('db_tables/protein_has_pfam_domain.tsv', sep='\\t', index= False)"
   ]
  },
  {
   "cell_type": "markdown",
   "metadata": {},
   "source": [
    "## mutation_has_pfam_domain  \r\n",
    "cols: id_mutation, id_protein, id_pfam, start, end"
   ]
  },
  {
   "cell_type": "markdown",
   "metadata": {},
   "source": [
    "### Pyranges  \r\n",
    "columnas obligatorias: *Chromosome\t Start\tEnd*  \r\n",
    "Chromosome: id_protein    \r\n",
    "otras columnas con ids son opcionales y cualquier nombre  \r\n",
    "  \r\n",
    "por ejemplo df seria tabla de mutaciones  \r\n",
    "df = pr.PyRanges(df.rename(columns={'chromosome':'Chromosome','start_position':'Start','end_position':'End'}))  \r\n",
    "  \r\n",
    "df = pyrange de mutaciones (columnas: Chromosome, Start, End, id_mutacion)  \r\n",
    "low_c = pyrange de low complexity(columnas: Chromosome, Start, End, id_low, id_proteina)  \r\n",
    "data = df.join(low_c, strandedness=False, slack=1).drop(like=\"_b\") # mutaciones lo junto con low_complex  \r\n",
    "strandedness=False no tener en cuenta el Strand  \r\n",
    "slack=1 coincidir los extremos. Importante  \r\n",
    "drop(like=\"_b\") eliminar el Chromosome, Start, End de low_c (en pfam no hacer el drop)  \r\n",
    "data = data.df[[Chromosome, Start, End, id_mutacion, id_low, id_proteina]] # pasa de pyrange a dataframe"
   ]
  },
  {
   "cell_type": "code",
   "execution_count": 212,
   "metadata": {},
   "outputs": [
    {
     "data": {
      "text/html": [
       "<div>\n",
       "<style scoped>\n",
       "    .dataframe tbody tr th:only-of-type {\n",
       "        vertical-align: middle;\n",
       "    }\n",
       "\n",
       "    .dataframe tbody tr th {\n",
       "        vertical-align: top;\n",
       "    }\n",
       "\n",
       "    .dataframe thead th {\n",
       "        text-align: right;\n",
       "    }\n",
       "</style>\n",
       "<table border=\"1\" class=\"dataframe\">\n",
       "  <thead>\n",
       "    <tr style=\"text-align: right;\">\n",
       "      <th></th>\n",
       "      <th>id_mutation</th>\n",
       "      <th>snp_id</th>\n",
       "      <th>chromosome</th>\n",
       "      <th>start_genomic</th>\n",
       "      <th>end_genomic</th>\n",
       "      <th>start_aa</th>\n",
       "      <th>end_aa</th>\n",
       "      <th>from_aa</th>\n",
       "      <th>to_aa</th>\n",
       "      <th>id_protein</th>\n",
       "      <th>id_consequence</th>\n",
       "    </tr>\n",
       "  </thead>\n",
       "  <tbody>\n",
       "    <tr>\n",
       "      <th>0</th>\n",
       "      <td>1</td>\n",
       "      <td>rs879255413</td>\n",
       "      <td>5</td>\n",
       "      <td>71512291</td>\n",
       "      <td>71512293</td>\n",
       "      <td>1371</td>\n",
       "      <td>1371</td>\n",
       "      <td>R</td>\n",
       "      <td>nan</td>\n",
       "      <td>19</td>\n",
       "      <td>4</td>\n",
       "    </tr>\n",
       "    <tr>\n",
       "      <th>1</th>\n",
       "      <td>2</td>\n",
       "      <td>rs886043345</td>\n",
       "      <td>18</td>\n",
       "      <td>2700757</td>\n",
       "      <td>2700759</td>\n",
       "      <td>497</td>\n",
       "      <td>497</td>\n",
       "      <td>K</td>\n",
       "      <td>nan</td>\n",
       "      <td>25</td>\n",
       "      <td>4</td>\n",
       "    </tr>\n",
       "    <tr>\n",
       "      <th>2</th>\n",
       "      <td>3</td>\n",
       "      <td>rs886044914</td>\n",
       "      <td>18</td>\n",
       "      <td>2697985</td>\n",
       "      <td>2697987</td>\n",
       "      <td>430</td>\n",
       "      <td>430</td>\n",
       "      <td>H</td>\n",
       "      <td>nan</td>\n",
       "      <td>25</td>\n",
       "      <td>4</td>\n",
       "    </tr>\n",
       "    <tr>\n",
       "      <th>3</th>\n",
       "      <td>4</td>\n",
       "      <td>rs1598342592</td>\n",
       "      <td>18</td>\n",
       "      <td>2705766</td>\n",
       "      <td>2705768</td>\n",
       "      <td>639</td>\n",
       "      <td>639</td>\n",
       "      <td>G</td>\n",
       "      <td>nan</td>\n",
       "      <td>25</td>\n",
       "      <td>4</td>\n",
       "    </tr>\n",
       "    <tr>\n",
       "      <th>4</th>\n",
       "      <td>5</td>\n",
       "      <td>rs1598293848</td>\n",
       "      <td>18</td>\n",
       "      <td>2673343</td>\n",
       "      <td>2673345</td>\n",
       "      <td>164</td>\n",
       "      <td>164</td>\n",
       "      <td>R</td>\n",
       "      <td>nan</td>\n",
       "      <td>25</td>\n",
       "      <td>4</td>\n",
       "    </tr>\n",
       "  </tbody>\n",
       "</table>\n",
       "</div>"
      ],
      "text/plain": [
       "   id_mutation        snp_id chromosome  start_genomic  end_genomic  start_aa  \\\n",
       "0            1   rs879255413          5       71512291     71512293      1371   \n",
       "1            2   rs886043345         18        2700757      2700759       497   \n",
       "2            3   rs886044914         18        2697985      2697987       430   \n",
       "3            4  rs1598342592         18        2705766      2705768       639   \n",
       "4            5  rs1598293848         18        2673343      2673345       164   \n",
       "\n",
       "   end_aa from_aa to_aa  id_protein  id_consequence  \n",
       "0    1371       R   nan          19               4  \n",
       "1     497       K   nan          25               4  \n",
       "2     430       H   nan          25               4  \n",
       "3     639       G   nan          25               4  \n",
       "4     164       R   nan          25               4  "
      ]
     },
     "execution_count": 212,
     "metadata": {},
     "output_type": "execute_result"
    }
   ],
   "source": [
    "mutation.head()"
   ]
  },
  {
   "cell_type": "code",
   "execution_count": 213,
   "metadata": {},
   "outputs": [],
   "source": [
    "# df has pfam domains data\r\n",
    "df = pfam.rename(columns={'tipo': 'pfam_domain'}).merge(pfam_domain)\r\n",
    "df = df.merge(id_protein)                      # mapping uniprot_acc - id_protein\r\n",
    "df.drop(columns='uniprot_acc', inplace= True)"
   ]
  },
  {
   "cell_type": "code",
   "execution_count": 214,
   "metadata": {},
   "outputs": [
    {
     "data": {
      "text/html": [
       "<div>\n",
       "<style scoped>\n",
       "    .dataframe tbody tr th:only-of-type {\n",
       "        vertical-align: middle;\n",
       "    }\n",
       "\n",
       "    .dataframe tbody tr th {\n",
       "        vertical-align: top;\n",
       "    }\n",
       "\n",
       "    .dataframe thead th {\n",
       "        text-align: right;\n",
       "    }\n",
       "</style>\n",
       "<table border=\"1\" class=\"dataframe\">\n",
       "  <thead>\n",
       "    <tr style=\"text-align: right;\">\n",
       "      <th></th>\n",
       "      <th>pfam_domain</th>\n",
       "      <th>start</th>\n",
       "      <th>end</th>\n",
       "      <th>id_pfam</th>\n",
       "      <th>id_protein</th>\n",
       "    </tr>\n",
       "  </thead>\n",
       "  <tbody>\n",
       "    <tr>\n",
       "      <th>0</th>\n",
       "      <td>7tm_2</td>\n",
       "      <td>857</td>\n",
       "      <td>1093</td>\n",
       "      <td>1</td>\n",
       "      <td>477</td>\n",
       "    </tr>\n",
       "    <tr>\n",
       "      <th>1</th>\n",
       "      <td>GPS</td>\n",
       "      <td>800</td>\n",
       "      <td>844</td>\n",
       "      <td>690</td>\n",
       "      <td>477</td>\n",
       "    </tr>\n",
       "    <tr>\n",
       "      <th>2</th>\n",
       "      <td>Gal_Lectin</td>\n",
       "      <td>48</td>\n",
       "      <td>128</td>\n",
       "      <td>745</td>\n",
       "      <td>477</td>\n",
       "    </tr>\n",
       "    <tr>\n",
       "      <th>3</th>\n",
       "      <td>OLF</td>\n",
       "      <td>144</td>\n",
       "      <td>396</td>\n",
       "      <td>773</td>\n",
       "      <td>477</td>\n",
       "    </tr>\n",
       "    <tr>\n",
       "      <th>4</th>\n",
       "      <td>Latrophilin</td>\n",
       "      <td>1113</td>\n",
       "      <td>1474</td>\n",
       "      <td>818</td>\n",
       "      <td>477</td>\n",
       "    </tr>\n",
       "  </tbody>\n",
       "</table>\n",
       "</div>"
      ],
      "text/plain": [
       "   pfam_domain  start   end  id_pfam  id_protein\n",
       "0        7tm_2    857  1093        1         477\n",
       "1          GPS    800   844      690         477\n",
       "2   Gal_Lectin     48   128      745         477\n",
       "3          OLF    144   396      773         477\n",
       "4  Latrophilin   1113  1474      818         477"
      ]
     },
     "execution_count": 214,
     "metadata": {},
     "output_type": "execute_result"
    }
   ],
   "source": [
    "df.head()"
   ]
  },
  {
   "cell_type": "code",
   "execution_count": 215,
   "metadata": {},
   "outputs": [],
   "source": [
    "df.rename(columns={'id_protein': 'Chromosome', 'start': 'Start', 'end': 'End'}, inplace= True)"
   ]
  },
  {
   "cell_type": "code",
   "execution_count": 216,
   "metadata": {},
   "outputs": [
    {
     "data": {
      "text/html": [
       "<div>\n",
       "<style scoped>\n",
       "    .dataframe tbody tr th:only-of-type {\n",
       "        vertical-align: middle;\n",
       "    }\n",
       "\n",
       "    .dataframe tbody tr th {\n",
       "        vertical-align: top;\n",
       "    }\n",
       "\n",
       "    .dataframe thead th {\n",
       "        text-align: right;\n",
       "    }\n",
       "</style>\n",
       "<table border=\"1\" class=\"dataframe\">\n",
       "  <thead>\n",
       "    <tr style=\"text-align: right;\">\n",
       "      <th></th>\n",
       "      <th>pfam_domain</th>\n",
       "      <th>Start</th>\n",
       "      <th>End</th>\n",
       "      <th>id_pfam</th>\n",
       "      <th>Chromosome</th>\n",
       "    </tr>\n",
       "  </thead>\n",
       "  <tbody>\n",
       "    <tr>\n",
       "      <th>0</th>\n",
       "      <td>7tm_2</td>\n",
       "      <td>857</td>\n",
       "      <td>1093</td>\n",
       "      <td>1</td>\n",
       "      <td>477</td>\n",
       "    </tr>\n",
       "    <tr>\n",
       "      <th>1</th>\n",
       "      <td>GPS</td>\n",
       "      <td>800</td>\n",
       "      <td>844</td>\n",
       "      <td>690</td>\n",
       "      <td>477</td>\n",
       "    </tr>\n",
       "    <tr>\n",
       "      <th>2</th>\n",
       "      <td>Gal_Lectin</td>\n",
       "      <td>48</td>\n",
       "      <td>128</td>\n",
       "      <td>745</td>\n",
       "      <td>477</td>\n",
       "    </tr>\n",
       "    <tr>\n",
       "      <th>3</th>\n",
       "      <td>OLF</td>\n",
       "      <td>144</td>\n",
       "      <td>396</td>\n",
       "      <td>773</td>\n",
       "      <td>477</td>\n",
       "    </tr>\n",
       "    <tr>\n",
       "      <th>4</th>\n",
       "      <td>Latrophilin</td>\n",
       "      <td>1113</td>\n",
       "      <td>1474</td>\n",
       "      <td>818</td>\n",
       "      <td>477</td>\n",
       "    </tr>\n",
       "  </tbody>\n",
       "</table>\n",
       "</div>"
      ],
      "text/plain": [
       "   pfam_domain  Start   End  id_pfam  Chromosome\n",
       "0        7tm_2    857  1093        1         477\n",
       "1          GPS    800   844      690         477\n",
       "2   Gal_Lectin     48   128      745         477\n",
       "3          OLF    144   396      773         477\n",
       "4  Latrophilin   1113  1474      818         477"
      ]
     },
     "execution_count": 216,
     "metadata": {},
     "output_type": "execute_result"
    }
   ],
   "source": [
    "df.head()"
   ]
  },
  {
   "cell_type": "code",
   "execution_count": 217,
   "metadata": {},
   "outputs": [],
   "source": [
    "# Create the pyranges object of pfam domains\n",
    "df_py = pr.PyRanges(df)"
   ]
  },
  {
   "cell_type": "code",
   "execution_count": 218,
   "metadata": {},
   "outputs": [],
   "source": [
    "aux = mutation[['start_aa', 'end_aa', 'id_mutation', 'id_protein']].copy()\r\n",
    "aux.rename(columns={'id_protein': 'Chromosome', 'start_aa': 'Start', 'end_aa': 'End'}, inplace= True)"
   ]
  },
  {
   "cell_type": "code",
   "execution_count": 219,
   "metadata": {},
   "outputs": [
    {
     "data": {
      "text/html": [
       "<div>\n",
       "<style scoped>\n",
       "    .dataframe tbody tr th:only-of-type {\n",
       "        vertical-align: middle;\n",
       "    }\n",
       "\n",
       "    .dataframe tbody tr th {\n",
       "        vertical-align: top;\n",
       "    }\n",
       "\n",
       "    .dataframe thead th {\n",
       "        text-align: right;\n",
       "    }\n",
       "</style>\n",
       "<table border=\"1\" class=\"dataframe\">\n",
       "  <thead>\n",
       "    <tr style=\"text-align: right;\">\n",
       "      <th></th>\n",
       "      <th>Start</th>\n",
       "      <th>End</th>\n",
       "      <th>id_mutation</th>\n",
       "      <th>Chromosome</th>\n",
       "    </tr>\n",
       "  </thead>\n",
       "  <tbody>\n",
       "    <tr>\n",
       "      <th>0</th>\n",
       "      <td>1371</td>\n",
       "      <td>1371</td>\n",
       "      <td>1</td>\n",
       "      <td>19</td>\n",
       "    </tr>\n",
       "    <tr>\n",
       "      <th>1</th>\n",
       "      <td>497</td>\n",
       "      <td>497</td>\n",
       "      <td>2</td>\n",
       "      <td>25</td>\n",
       "    </tr>\n",
       "    <tr>\n",
       "      <th>2</th>\n",
       "      <td>430</td>\n",
       "      <td>430</td>\n",
       "      <td>3</td>\n",
       "      <td>25</td>\n",
       "    </tr>\n",
       "    <tr>\n",
       "      <th>3</th>\n",
       "      <td>639</td>\n",
       "      <td>639</td>\n",
       "      <td>4</td>\n",
       "      <td>25</td>\n",
       "    </tr>\n",
       "    <tr>\n",
       "      <th>4</th>\n",
       "      <td>164</td>\n",
       "      <td>164</td>\n",
       "      <td>5</td>\n",
       "      <td>25</td>\n",
       "    </tr>\n",
       "  </tbody>\n",
       "</table>\n",
       "</div>"
      ],
      "text/plain": [
       "   Start   End  id_mutation  Chromosome\n",
       "0   1371  1371            1          19\n",
       "1    497   497            2          25\n",
       "2    430   430            3          25\n",
       "3    639   639            4          25\n",
       "4    164   164            5          25"
      ]
     },
     "execution_count": 219,
     "metadata": {},
     "output_type": "execute_result"
    }
   ],
   "source": [
    "aux.head()"
   ]
  },
  {
   "cell_type": "code",
   "execution_count": 220,
   "metadata": {},
   "outputs": [],
   "source": [
    "# Pyranges object of mutations\n",
    "aux_py = pr.PyRanges(aux)"
   ]
  },
  {
   "cell_type": "code",
   "execution_count": 221,
   "metadata": {},
   "outputs": [],
   "source": [
    "# Join both pyranges object: this assings mutations to pfam domains\r\n",
    "pfam_py = df_py.join(aux_py, strandedness= False, slack= 1)  # strandedness= False doesnt take count of the chain strand; slack= 1 include bounds"
   ]
  },
  {
   "cell_type": "code",
   "execution_count": 222,
   "metadata": {},
   "outputs": [
    {
     "data": {
      "text/html": [
       "<div>\n",
       "<style scoped>\n",
       "    .dataframe tbody tr th:only-of-type {\n",
       "        vertical-align: middle;\n",
       "    }\n",
       "\n",
       "    .dataframe tbody tr th {\n",
       "        vertical-align: top;\n",
       "    }\n",
       "\n",
       "    .dataframe thead th {\n",
       "        text-align: right;\n",
       "    }\n",
       "</style>\n",
       "<table border=\"1\" class=\"dataframe\">\n",
       "  <thead>\n",
       "    <tr style=\"text-align: right;\">\n",
       "      <th></th>\n",
       "      <th>pfam_domain</th>\n",
       "      <th>Start</th>\n",
       "      <th>End</th>\n",
       "      <th>id_pfam</th>\n",
       "      <th>Chromosome</th>\n",
       "      <th>Start_b</th>\n",
       "      <th>End_b</th>\n",
       "      <th>id_mutation</th>\n",
       "    </tr>\n",
       "  </thead>\n",
       "  <tbody>\n",
       "    <tr>\n",
       "      <th>0</th>\n",
       "      <td>UCR_hinge</td>\n",
       "      <td>28</td>\n",
       "      <td>91</td>\n",
       "      <td>814</td>\n",
       "      <td>2</td>\n",
       "      <td>53</td>\n",
       "      <td>53</td>\n",
       "      <td>23987</td>\n",
       "    </tr>\n",
       "    <tr>\n",
       "      <th>1</th>\n",
       "      <td>An_peroxidase</td>\n",
       "      <td>727</td>\n",
       "      <td>1272</td>\n",
       "      <td>947</td>\n",
       "      <td>9</td>\n",
       "      <td>981</td>\n",
       "      <td>981</td>\n",
       "      <td>23988</td>\n",
       "    </tr>\n",
       "    <tr>\n",
       "      <th>2</th>\n",
       "      <td>An_peroxidase</td>\n",
       "      <td>727</td>\n",
       "      <td>1272</td>\n",
       "      <td>947</td>\n",
       "      <td>9</td>\n",
       "      <td>1039</td>\n",
       "      <td>1039</td>\n",
       "      <td>23994</td>\n",
       "    </tr>\n",
       "    <tr>\n",
       "      <th>3</th>\n",
       "      <td>An_peroxidase</td>\n",
       "      <td>727</td>\n",
       "      <td>1272</td>\n",
       "      <td>947</td>\n",
       "      <td>9</td>\n",
       "      <td>1133</td>\n",
       "      <td>1133</td>\n",
       "      <td>23989</td>\n",
       "    </tr>\n",
       "    <tr>\n",
       "      <th>4</th>\n",
       "      <td>An_peroxidase</td>\n",
       "      <td>727</td>\n",
       "      <td>1272</td>\n",
       "      <td>947</td>\n",
       "      <td>9</td>\n",
       "      <td>1207</td>\n",
       "      <td>1207</td>\n",
       "      <td>23993</td>\n",
       "    </tr>\n",
       "    <tr>\n",
       "      <th>5</th>\n",
       "      <td>LRR_8</td>\n",
       "      <td>50</td>\n",
       "      <td>110</td>\n",
       "      <td>2219</td>\n",
       "      <td>9</td>\n",
       "      <td>65</td>\n",
       "      <td>65</td>\n",
       "      <td>23996</td>\n",
       "    </tr>\n",
       "    <tr>\n",
       "      <th>6</th>\n",
       "      <td>Ig_3</td>\n",
       "      <td>329</td>\n",
       "      <td>402</td>\n",
       "      <td>2246</td>\n",
       "      <td>9</td>\n",
       "      <td>391</td>\n",
       "      <td>391</td>\n",
       "      <td>24000</td>\n",
       "    </tr>\n",
       "    <tr>\n",
       "      <th>7</th>\n",
       "      <td>I-set</td>\n",
       "      <td>511</td>\n",
       "      <td>597</td>\n",
       "      <td>2914</td>\n",
       "      <td>9</td>\n",
       "      <td>538</td>\n",
       "      <td>538</td>\n",
       "      <td>23997</td>\n",
       "    </tr>\n",
       "  </tbody>\n",
       "</table>\n",
       "</div>"
      ],
      "text/plain": [
       "+---------------+-----------+-----------+-----------+--------------+-------+\n",
       "| pfam_domain   |     Start |       End |   id_pfam |   Chromosome | +3    |\n",
       "| (object)      |   (int32) |   (int32) |   (int64) |   (category) | ...   |\n",
       "|---------------+-----------+-----------+-----------+--------------+-------|\n",
       "| UCR_hinge     |        28 |        91 |       814 |            2 | ...   |\n",
       "| An_peroxidase |       727 |      1272 |       947 |            9 | ...   |\n",
       "| An_peroxidase |       727 |      1272 |       947 |            9 | ...   |\n",
       "| An_peroxidase |       727 |      1272 |       947 |            9 | ...   |\n",
       "| An_peroxidase |       727 |      1272 |       947 |            9 | ...   |\n",
       "| LRR_8         |        50 |       110 |      2219 |            9 | ...   |\n",
       "| Ig_3          |       329 |       402 |      2246 |            9 | ...   |\n",
       "| I-set         |       511 |       597 |      2914 |            9 | ...   |\n",
       "+---------------+-----------+-----------+-----------+--------------+-------+\n",
       "Unstranded PyRanges object has 8 rows and 8 columns from 2 chromosomes.\n",
       "For printing, the PyRanges was sorted on Chromosome.\n",
       "3 hidden columns: Start_b, End_b, id_mutation"
      ]
     },
     "execution_count": 222,
     "metadata": {},
     "output_type": "execute_result"
    }
   ],
   "source": [
    "pfam_py.head() # Start and End are from the pfam domain in that protein (a protein may have the same pfam domain repeated at different positions along its sequence).\r\n",
    "                # Start_b and End_b are from the mutation in this case"
   ]
  },
  {
   "cell_type": "code",
   "execution_count": 223,
   "metadata": {},
   "outputs": [],
   "source": [
    "# Pyranges to DataFrame\r\n",
    "mutation_has_pfam_domain = pfam_py.df[['id_mutation', 'Chromosome', 'id_pfam', 'Start', 'End']] # cols to keep"
   ]
  },
  {
   "cell_type": "code",
   "execution_count": 224,
   "metadata": {},
   "outputs": [],
   "source": [
    "mutation_has_pfam_domain.rename(columns={'Chromosome': 'id_protein', 'Start': 'start', 'End': 'end'}, inplace= True)"
   ]
  },
  {
   "cell_type": "code",
   "execution_count": 225,
   "metadata": {},
   "outputs": [
    {
     "data": {
      "text/html": [
       "<div>\n",
       "<style scoped>\n",
       "    .dataframe tbody tr th:only-of-type {\n",
       "        vertical-align: middle;\n",
       "    }\n",
       "\n",
       "    .dataframe tbody tr th {\n",
       "        vertical-align: top;\n",
       "    }\n",
       "\n",
       "    .dataframe thead th {\n",
       "        text-align: right;\n",
       "    }\n",
       "</style>\n",
       "<table border=\"1\" class=\"dataframe\">\n",
       "  <thead>\n",
       "    <tr style=\"text-align: right;\">\n",
       "      <th></th>\n",
       "      <th>id_mutation</th>\n",
       "      <th>id_protein</th>\n",
       "      <th>id_pfam</th>\n",
       "      <th>start</th>\n",
       "      <th>end</th>\n",
       "    </tr>\n",
       "  </thead>\n",
       "  <tbody>\n",
       "    <tr>\n",
       "      <th>0</th>\n",
       "      <td>23987</td>\n",
       "      <td>2</td>\n",
       "      <td>814</td>\n",
       "      <td>28</td>\n",
       "      <td>91</td>\n",
       "    </tr>\n",
       "    <tr>\n",
       "      <th>1</th>\n",
       "      <td>23988</td>\n",
       "      <td>9</td>\n",
       "      <td>947</td>\n",
       "      <td>727</td>\n",
       "      <td>1272</td>\n",
       "    </tr>\n",
       "    <tr>\n",
       "      <th>2</th>\n",
       "      <td>23994</td>\n",
       "      <td>9</td>\n",
       "      <td>947</td>\n",
       "      <td>727</td>\n",
       "      <td>1272</td>\n",
       "    </tr>\n",
       "    <tr>\n",
       "      <th>3</th>\n",
       "      <td>23989</td>\n",
       "      <td>9</td>\n",
       "      <td>947</td>\n",
       "      <td>727</td>\n",
       "      <td>1272</td>\n",
       "    </tr>\n",
       "    <tr>\n",
       "      <th>4</th>\n",
       "      <td>23993</td>\n",
       "      <td>9</td>\n",
       "      <td>947</td>\n",
       "      <td>727</td>\n",
       "      <td>1272</td>\n",
       "    </tr>\n",
       "  </tbody>\n",
       "</table>\n",
       "</div>"
      ],
      "text/plain": [
       "   id_mutation id_protein  id_pfam  start   end\n",
       "0        23987          2      814     28    91\n",
       "1        23988          9      947    727  1272\n",
       "2        23994          9      947    727  1272\n",
       "3        23989          9      947    727  1272\n",
       "4        23993          9      947    727  1272"
      ]
     },
     "execution_count": 225,
     "metadata": {},
     "output_type": "execute_result"
    }
   ],
   "source": [
    "mutation_has_pfam_domain.head()"
   ]
  },
  {
   "cell_type": "code",
   "execution_count": 226,
   "metadata": {},
   "outputs": [
    {
     "data": {
      "text/html": [
       "<div>\n",
       "<style scoped>\n",
       "    .dataframe tbody tr th:only-of-type {\n",
       "        vertical-align: middle;\n",
       "    }\n",
       "\n",
       "    .dataframe tbody tr th {\n",
       "        vertical-align: top;\n",
       "    }\n",
       "\n",
       "    .dataframe thead th {\n",
       "        text-align: right;\n",
       "    }\n",
       "</style>\n",
       "<table border=\"1\" class=\"dataframe\">\n",
       "  <thead>\n",
       "    <tr style=\"text-align: right;\">\n",
       "      <th></th>\n",
       "      <th>id_mutation</th>\n",
       "      <th>snp_id</th>\n",
       "      <th>chromosome</th>\n",
       "      <th>start_genomic</th>\n",
       "      <th>end_genomic</th>\n",
       "      <th>start_aa</th>\n",
       "      <th>end_aa</th>\n",
       "      <th>from_aa</th>\n",
       "      <th>to_aa</th>\n",
       "      <th>id_protein</th>\n",
       "      <th>id_consequence</th>\n",
       "    </tr>\n",
       "  </thead>\n",
       "  <tbody>\n",
       "    <tr>\n",
       "      <th>148020</th>\n",
       "      <td>23987</td>\n",
       "      <td>rs7417535</td>\n",
       "      <td>1</td>\n",
       "      <td>15807492</td>\n",
       "      <td>15807492</td>\n",
       "      <td>53</td>\n",
       "      <td>53</td>\n",
       "      <td>Y</td>\n",
       "      <td>C</td>\n",
       "      <td>2</td>\n",
       "      <td>1</td>\n",
       "    </tr>\n",
       "  </tbody>\n",
       "</table>\n",
       "</div>"
      ],
      "text/plain": [
       "        id_mutation     snp_id chromosome  start_genomic  end_genomic  \\\n",
       "148020        23987  rs7417535          1       15807492     15807492   \n",
       "\n",
       "        start_aa  end_aa from_aa to_aa  id_protein  id_consequence  \n",
       "148020        53      53       Y     C           2               1  "
      ]
     },
     "execution_count": 226,
     "metadata": {},
     "output_type": "execute_result"
    }
   ],
   "source": [
    "# control\r\n",
    "mutation[mutation.id_mutation == 23987]"
   ]
  },
  {
   "cell_type": "code",
   "execution_count": 227,
   "metadata": {},
   "outputs": [
    {
     "data": {
      "text/html": [
       "<div>\n",
       "<style scoped>\n",
       "    .dataframe tbody tr th:only-of-type {\n",
       "        vertical-align: middle;\n",
       "    }\n",
       "\n",
       "    .dataframe tbody tr th {\n",
       "        vertical-align: top;\n",
       "    }\n",
       "\n",
       "    .dataframe thead th {\n",
       "        text-align: right;\n",
       "    }\n",
       "</style>\n",
       "<table border=\"1\" class=\"dataframe\">\n",
       "  <thead>\n",
       "    <tr style=\"text-align: right;\">\n",
       "      <th></th>\n",
       "      <th>pfam_domain</th>\n",
       "      <th>id_pfam</th>\n",
       "    </tr>\n",
       "  </thead>\n",
       "  <tbody>\n",
       "    <tr>\n",
       "      <th>813</th>\n",
       "      <td>UCR_hinge</td>\n",
       "      <td>814</td>\n",
       "    </tr>\n",
       "  </tbody>\n",
       "</table>\n",
       "</div>"
      ],
      "text/plain": [
       "    pfam_domain  id_pfam\n",
       "813   UCR_hinge      814"
      ]
     },
     "execution_count": 227,
     "metadata": {},
     "output_type": "execute_result"
    }
   ],
   "source": [
    "# control\r\n",
    "pfam_domain[pfam_domain.id_pfam == 814] "
   ]
  },
  {
   "cell_type": "code",
   "execution_count": 228,
   "metadata": {},
   "outputs": [
    {
     "data": {
      "text/html": [
       "<div>\n",
       "<style scoped>\n",
       "    .dataframe tbody tr th:only-of-type {\n",
       "        vertical-align: middle;\n",
       "    }\n",
       "\n",
       "    .dataframe tbody tr th {\n",
       "        vertical-align: top;\n",
       "    }\n",
       "\n",
       "    .dataframe thead th {\n",
       "        text-align: right;\n",
       "    }\n",
       "</style>\n",
       "<table border=\"1\" class=\"dataframe\">\n",
       "  <thead>\n",
       "    <tr style=\"text-align: right;\">\n",
       "      <th></th>\n",
       "      <th>id_mutation</th>\n",
       "      <th>id_protein</th>\n",
       "      <th>id_pfam</th>\n",
       "      <th>start</th>\n",
       "      <th>end</th>\n",
       "    </tr>\n",
       "  </thead>\n",
       "  <tbody>\n",
       "    <tr>\n",
       "      <th>0</th>\n",
       "      <td>23987</td>\n",
       "      <td>2</td>\n",
       "      <td>814</td>\n",
       "      <td>28</td>\n",
       "      <td>91</td>\n",
       "    </tr>\n",
       "  </tbody>\n",
       "</table>\n",
       "</div>"
      ],
      "text/plain": [
       "   id_mutation id_protein  id_pfam  start  end\n",
       "0        23987          2      814     28   91"
      ]
     },
     "execution_count": 228,
     "metadata": {},
     "output_type": "execute_result"
    }
   ],
   "source": [
    "mutation_has_pfam_domain[mutation_has_pfam_domain.id_pfam == 814] # ok!"
   ]
  },
  {
   "cell_type": "code",
   "execution_count": 229,
   "metadata": {},
   "outputs": [],
   "source": [
    "mutation_has_pfam_domain.to_csv('db_tables/mutation_has_pfam_domain.tsv', sep='\\t', index= False)"
   ]
  },
  {
   "cell_type": "markdown",
   "metadata": {},
   "source": [
    "---  \r\n",
    "# low-complexity Tables"
   ]
  },
  {
   "cell_type": "markdown",
   "metadata": {},
   "source": [
    "## low_complexity  \r\n",
    "cols: id_lc, start, end, length, id_protein"
   ]
  },
  {
   "cell_type": "code",
   "execution_count": 230,
   "metadata": {},
   "outputs": [
    {
     "data": {
      "text/html": [
       "<div>\n",
       "<style scoped>\n",
       "    .dataframe tbody tr th:only-of-type {\n",
       "        vertical-align: middle;\n",
       "    }\n",
       "\n",
       "    .dataframe tbody tr th {\n",
       "        vertical-align: top;\n",
       "    }\n",
       "\n",
       "    .dataframe thead th {\n",
       "        text-align: right;\n",
       "    }\n",
       "</style>\n",
       "<table border=\"1\" class=\"dataframe\">\n",
       "  <thead>\n",
       "    <tr style=\"text-align: right;\">\n",
       "      <th></th>\n",
       "      <th>uniprot_acc</th>\n",
       "      <th>start</th>\n",
       "      <th>end</th>\n",
       "      <th>id_lc</th>\n",
       "    </tr>\n",
       "  </thead>\n",
       "  <tbody>\n",
       "    <tr>\n",
       "      <th>0</th>\n",
       "      <td>P61981</td>\n",
       "      <td>236</td>\n",
       "      <td>243</td>\n",
       "      <td>1</td>\n",
       "    </tr>\n",
       "    <tr>\n",
       "      <th>1</th>\n",
       "      <td>P31947</td>\n",
       "      <td>235</td>\n",
       "      <td>247</td>\n",
       "      <td>2</td>\n",
       "    </tr>\n",
       "    <tr>\n",
       "      <th>2</th>\n",
       "      <td>P31947</td>\n",
       "      <td>248</td>\n",
       "      <td>247</td>\n",
       "      <td>3</td>\n",
       "    </tr>\n",
       "    <tr>\n",
       "      <th>3</th>\n",
       "      <td>P27348</td>\n",
       "      <td>230</td>\n",
       "      <td>244</td>\n",
       "      <td>4</td>\n",
       "    </tr>\n",
       "    <tr>\n",
       "      <th>4</th>\n",
       "      <td>P27348</td>\n",
       "      <td>245</td>\n",
       "      <td>244</td>\n",
       "      <td>5</td>\n",
       "    </tr>\n",
       "  </tbody>\n",
       "</table>\n",
       "</div>"
      ],
      "text/plain": [
       "  uniprot_acc  start  end  id_lc\n",
       "0      P61981    236  243      1\n",
       "1      P31947    235  247      2\n",
       "2      P31947    248  247      3\n",
       "3      P27348    230  244      4\n",
       "4      P27348    245  244      5"
      ]
     },
     "execution_count": 230,
     "metadata": {},
     "output_type": "execute_result"
    }
   ],
   "source": [
    "low_complexity.head()"
   ]
  },
  {
   "cell_type": "code",
   "execution_count": 231,
   "metadata": {},
   "outputs": [],
   "source": [
    "# Add length col \n",
    "low_complexity['length'] = low_complexity.end - low_complexity.start + 1 "
   ]
  },
  {
   "cell_type": "code",
   "execution_count": 232,
   "metadata": {},
   "outputs": [],
   "source": [
    "# Add id_proteins\r\n",
    "low_complexity.rename(columns={'uniprot': 'uniprot_acc'}, inplace= True)\r\n",
    "low_complexity = low_complexity.merge(id_protein)\r\n",
    "low_complexity.drop(columns='uniprot_acc', inplace= True)"
   ]
  },
  {
   "cell_type": "code",
   "execution_count": 233,
   "metadata": {},
   "outputs": [
    {
     "data": {
      "text/html": [
       "<div>\n",
       "<style scoped>\n",
       "    .dataframe tbody tr th:only-of-type {\n",
       "        vertical-align: middle;\n",
       "    }\n",
       "\n",
       "    .dataframe tbody tr th {\n",
       "        vertical-align: top;\n",
       "    }\n",
       "\n",
       "    .dataframe thead th {\n",
       "        text-align: right;\n",
       "    }\n",
       "</style>\n",
       "<table border=\"1\" class=\"dataframe\">\n",
       "  <thead>\n",
       "    <tr style=\"text-align: right;\">\n",
       "      <th></th>\n",
       "      <th>start</th>\n",
       "      <th>end</th>\n",
       "      <th>id_lc</th>\n",
       "      <th>length</th>\n",
       "      <th>id_protein</th>\n",
       "    </tr>\n",
       "  </thead>\n",
       "  <tbody>\n",
       "    <tr>\n",
       "      <th>0</th>\n",
       "      <td>236</td>\n",
       "      <td>243</td>\n",
       "      <td>1</td>\n",
       "      <td>8</td>\n",
       "      <td>1602</td>\n",
       "    </tr>\n",
       "    <tr>\n",
       "      <th>1</th>\n",
       "      <td>235</td>\n",
       "      <td>247</td>\n",
       "      <td>2</td>\n",
       "      <td>13</td>\n",
       "      <td>1132</td>\n",
       "    </tr>\n",
       "    <tr>\n",
       "      <th>2</th>\n",
       "      <td>248</td>\n",
       "      <td>247</td>\n",
       "      <td>3</td>\n",
       "      <td>0</td>\n",
       "      <td>1132</td>\n",
       "    </tr>\n",
       "    <tr>\n",
       "      <th>3</th>\n",
       "      <td>230</td>\n",
       "      <td>244</td>\n",
       "      <td>4</td>\n",
       "      <td>15</td>\n",
       "      <td>1049</td>\n",
       "    </tr>\n",
       "    <tr>\n",
       "      <th>4</th>\n",
       "      <td>245</td>\n",
       "      <td>244</td>\n",
       "      <td>5</td>\n",
       "      <td>0</td>\n",
       "      <td>1049</td>\n",
       "    </tr>\n",
       "  </tbody>\n",
       "</table>\n",
       "</div>"
      ],
      "text/plain": [
       "   start  end  id_lc  length  id_protein\n",
       "0    236  243      1       8        1602\n",
       "1    235  247      2      13        1132\n",
       "2    248  247      3       0        1132\n",
       "3    230  244      4      15        1049\n",
       "4    245  244      5       0        1049"
      ]
     },
     "execution_count": 233,
     "metadata": {},
     "output_type": "execute_result"
    }
   ],
   "source": [
    "low_complexity.head()"
   ]
  },
  {
   "cell_type": "code",
   "execution_count": 234,
   "metadata": {},
   "outputs": [],
   "source": [
    "low_complexity.to_csv('db_tables/low_complexity.tsv', sep='\\t', index= False)"
   ]
  },
  {
   "cell_type": "markdown",
   "metadata": {},
   "source": [
    "## mutation_has_low_complexity  \r\n",
    "cols: id_mutation, id_lc"
   ]
  },
  {
   "cell_type": "code",
   "execution_count": 235,
   "metadata": {},
   "outputs": [],
   "source": [
    "# Table for LC data\n",
    "lc_has = low_complexity.copy()\n",
    "lc_has.rename(columns={'id_protein': 'Chromosome', 'start': 'Start', 'end': 'End'}, inplace= True)"
   ]
  },
  {
   "cell_type": "code",
   "execution_count": 236,
   "metadata": {},
   "outputs": [],
   "source": [
    "# Auxiliar table for mutations\r\n",
    "aux_lc = mutation[['start_aa', 'end_aa', 'id_mutation', 'id_protein']].copy()\r\n",
    "aux_lc.rename(columns={'id_protein': 'Chromosome', 'start_aa': 'Start', 'end_aa': 'End'}, inplace= True)"
   ]
  },
  {
   "cell_type": "code",
   "execution_count": 237,
   "metadata": {},
   "outputs": [
    {
     "data": {
      "text/html": [
       "<div>\n",
       "<style scoped>\n",
       "    .dataframe tbody tr th:only-of-type {\n",
       "        vertical-align: middle;\n",
       "    }\n",
       "\n",
       "    .dataframe tbody tr th {\n",
       "        vertical-align: top;\n",
       "    }\n",
       "\n",
       "    .dataframe thead th {\n",
       "        text-align: right;\n",
       "    }\n",
       "</style>\n",
       "<table border=\"1\" class=\"dataframe\">\n",
       "  <thead>\n",
       "    <tr style=\"text-align: right;\">\n",
       "      <th></th>\n",
       "      <th>Start</th>\n",
       "      <th>End</th>\n",
       "      <th>id_mutation</th>\n",
       "      <th>Chromosome</th>\n",
       "    </tr>\n",
       "  </thead>\n",
       "  <tbody>\n",
       "    <tr>\n",
       "      <th>0</th>\n",
       "      <td>1371</td>\n",
       "      <td>1371</td>\n",
       "      <td>1</td>\n",
       "      <td>19</td>\n",
       "    </tr>\n",
       "    <tr>\n",
       "      <th>1</th>\n",
       "      <td>497</td>\n",
       "      <td>497</td>\n",
       "      <td>2</td>\n",
       "      <td>25</td>\n",
       "    </tr>\n",
       "    <tr>\n",
       "      <th>2</th>\n",
       "      <td>430</td>\n",
       "      <td>430</td>\n",
       "      <td>3</td>\n",
       "      <td>25</td>\n",
       "    </tr>\n",
       "    <tr>\n",
       "      <th>3</th>\n",
       "      <td>639</td>\n",
       "      <td>639</td>\n",
       "      <td>4</td>\n",
       "      <td>25</td>\n",
       "    </tr>\n",
       "    <tr>\n",
       "      <th>4</th>\n",
       "      <td>164</td>\n",
       "      <td>164</td>\n",
       "      <td>5</td>\n",
       "      <td>25</td>\n",
       "    </tr>\n",
       "  </tbody>\n",
       "</table>\n",
       "</div>"
      ],
      "text/plain": [
       "   Start   End  id_mutation  Chromosome\n",
       "0   1371  1371            1          19\n",
       "1    497   497            2          25\n",
       "2    430   430            3          25\n",
       "3    639   639            4          25\n",
       "4    164   164            5          25"
      ]
     },
     "execution_count": 237,
     "metadata": {},
     "output_type": "execute_result"
    }
   ],
   "source": [
    "aux_lc.head()"
   ]
  },
  {
   "cell_type": "code",
   "execution_count": 238,
   "metadata": {},
   "outputs": [],
   "source": [
    "# Create the Pyranges objects\n",
    "lc_has_py = pr.PyRanges(lc_has)\n",
    "aux_lc_py = pr.PyRanges(aux_lc)"
   ]
  },
  {
   "cell_type": "code",
   "execution_count": 239,
   "metadata": {},
   "outputs": [],
   "source": [
    "# Join both pyranges object: this assings mutations to low-complexity regions\r\n",
    "lc_py = aux_lc_py.join(lc_has_py, strandedness= False, slack=1).drop(like=\"_b\") # strandedness= False doesnt take count of the chain strand;\r\n",
    "                                                                                # slack= 1 include bounds; drop(like=\"_b\"): delete those cols (redudants)"
   ]
  },
  {
   "cell_type": "code",
   "execution_count": 240,
   "metadata": {},
   "outputs": [
    {
     "data": {
      "text/html": [
       "<div>\n",
       "<style scoped>\n",
       "    .dataframe tbody tr th:only-of-type {\n",
       "        vertical-align: middle;\n",
       "    }\n",
       "\n",
       "    .dataframe tbody tr th {\n",
       "        vertical-align: top;\n",
       "    }\n",
       "\n",
       "    .dataframe thead th {\n",
       "        text-align: right;\n",
       "    }\n",
       "</style>\n",
       "<table border=\"1\" class=\"dataframe\">\n",
       "  <thead>\n",
       "    <tr style=\"text-align: right;\">\n",
       "      <th></th>\n",
       "      <th>Start</th>\n",
       "      <th>End</th>\n",
       "      <th>id_mutation</th>\n",
       "      <th>Chromosome</th>\n",
       "      <th>id_lc</th>\n",
       "      <th>length</th>\n",
       "    </tr>\n",
       "  </thead>\n",
       "  <tbody>\n",
       "    <tr>\n",
       "      <th>0</th>\n",
       "      <td>1133</td>\n",
       "      <td>1133</td>\n",
       "      <td>23989</td>\n",
       "      <td>9</td>\n",
       "      <td>5240</td>\n",
       "      <td>12</td>\n",
       "    </tr>\n",
       "    <tr>\n",
       "      <th>1</th>\n",
       "      <td>287</td>\n",
       "      <td>287</td>\n",
       "      <td>3994</td>\n",
       "      <td>16</td>\n",
       "      <td>9733</td>\n",
       "      <td>28</td>\n",
       "    </tr>\n",
       "    <tr>\n",
       "      <th>2</th>\n",
       "      <td>197</td>\n",
       "      <td>197</td>\n",
       "      <td>3995</td>\n",
       "      <td>16</td>\n",
       "      <td>9732</td>\n",
       "      <td>29</td>\n",
       "    </tr>\n",
       "    <tr>\n",
       "      <th>3</th>\n",
       "      <td>336</td>\n",
       "      <td>336</td>\n",
       "      <td>24003</td>\n",
       "      <td>17</td>\n",
       "      <td>5023</td>\n",
       "      <td>26</td>\n",
       "    </tr>\n",
       "    <tr>\n",
       "      <th>4</th>\n",
       "      <td>1038</td>\n",
       "      <td>1038</td>\n",
       "      <td>24009</td>\n",
       "      <td>18</td>\n",
       "      <td>11903</td>\n",
       "      <td>20</td>\n",
       "    </tr>\n",
       "    <tr>\n",
       "      <th>5</th>\n",
       "      <td>1469</td>\n",
       "      <td>1469</td>\n",
       "      <td>24030</td>\n",
       "      <td>19</td>\n",
       "      <td>10455</td>\n",
       "      <td>18</td>\n",
       "    </tr>\n",
       "    <tr>\n",
       "      <th>6</th>\n",
       "      <td>5</td>\n",
       "      <td>5</td>\n",
       "      <td>24048</td>\n",
       "      <td>23</td>\n",
       "      <td>5786</td>\n",
       "      <td>14</td>\n",
       "    </tr>\n",
       "    <tr>\n",
       "      <th>7</th>\n",
       "      <td>7</td>\n",
       "      <td>7</td>\n",
       "      <td>24056</td>\n",
       "      <td>23</td>\n",
       "      <td>5786</td>\n",
       "      <td>14</td>\n",
       "    </tr>\n",
       "  </tbody>\n",
       "</table>\n",
       "</div>"
      ],
      "text/plain": [
       "+-----------+-----------+---------------+--------------+-----------+-----------+\n",
       "|     Start |       End |   id_mutation |   Chromosome |     id_lc |    length |\n",
       "|   (int32) |   (int32) |       (int32) |   (category) |   (int32) |   (int64) |\n",
       "|-----------+-----------+---------------+--------------+-----------+-----------|\n",
       "|      1133 |      1133 |         23989 |            9 |      5240 |        12 |\n",
       "|       287 |       287 |          3994 |           16 |      9733 |        28 |\n",
       "|       197 |       197 |          3995 |           16 |      9732 |        29 |\n",
       "|       336 |       336 |         24003 |           17 |      5023 |        26 |\n",
       "|      1038 |      1038 |         24009 |           18 |     11903 |        20 |\n",
       "|      1469 |      1469 |         24030 |           19 |     10455 |        18 |\n",
       "|         5 |         5 |         24048 |           23 |      5786 |        14 |\n",
       "|         7 |         7 |         24056 |           23 |      5786 |        14 |\n",
       "+-----------+-----------+---------------+--------------+-----------+-----------+\n",
       "Unstranded PyRanges object has 8 rows and 6 columns from 6 chromosomes.\n",
       "For printing, the PyRanges was sorted on Chromosome."
      ]
     },
     "execution_count": 240,
     "metadata": {},
     "output_type": "execute_result"
    }
   ],
   "source": [
    "lc_py.head()"
   ]
  },
  {
   "cell_type": "code",
   "execution_count": 241,
   "metadata": {},
   "outputs": [],
   "source": [
    "# Pyrange to DataFrame\r\n",
    "mutation_has_low_complexity = lc_py.df[['id_mutation', 'id_lc']] # cols to keep"
   ]
  },
  {
   "cell_type": "code",
   "execution_count": 242,
   "metadata": {},
   "outputs": [
    {
     "data": {
      "text/html": [
       "<div>\n",
       "<style scoped>\n",
       "    .dataframe tbody tr th:only-of-type {\n",
       "        vertical-align: middle;\n",
       "    }\n",
       "\n",
       "    .dataframe tbody tr th {\n",
       "        vertical-align: top;\n",
       "    }\n",
       "\n",
       "    .dataframe thead th {\n",
       "        text-align: right;\n",
       "    }\n",
       "</style>\n",
       "<table border=\"1\" class=\"dataframe\">\n",
       "  <thead>\n",
       "    <tr style=\"text-align: right;\">\n",
       "      <th></th>\n",
       "      <th>id_mutation</th>\n",
       "      <th>id_lc</th>\n",
       "    </tr>\n",
       "  </thead>\n",
       "  <tbody>\n",
       "    <tr>\n",
       "      <th>0</th>\n",
       "      <td>23989</td>\n",
       "      <td>5240</td>\n",
       "    </tr>\n",
       "    <tr>\n",
       "      <th>1</th>\n",
       "      <td>3994</td>\n",
       "      <td>9733</td>\n",
       "    </tr>\n",
       "    <tr>\n",
       "      <th>2</th>\n",
       "      <td>3995</td>\n",
       "      <td>9732</td>\n",
       "    </tr>\n",
       "    <tr>\n",
       "      <th>3</th>\n",
       "      <td>24003</td>\n",
       "      <td>5023</td>\n",
       "    </tr>\n",
       "    <tr>\n",
       "      <th>4</th>\n",
       "      <td>24009</td>\n",
       "      <td>11903</td>\n",
       "    </tr>\n",
       "  </tbody>\n",
       "</table>\n",
       "</div>"
      ],
      "text/plain": [
       "   id_mutation  id_lc\n",
       "0        23989   5240\n",
       "1         3994   9733\n",
       "2         3995   9732\n",
       "3        24003   5023\n",
       "4        24009  11903"
      ]
     },
     "execution_count": 242,
     "metadata": {},
     "output_type": "execute_result"
    }
   ],
   "source": [
    "mutation_has_low_complexity.head()"
   ]
  },
  {
   "cell_type": "code",
   "execution_count": 243,
   "metadata": {},
   "outputs": [
    {
     "data": {
      "text/html": [
       "<div>\n",
       "<style scoped>\n",
       "    .dataframe tbody tr th:only-of-type {\n",
       "        vertical-align: middle;\n",
       "    }\n",
       "\n",
       "    .dataframe tbody tr th {\n",
       "        vertical-align: top;\n",
       "    }\n",
       "\n",
       "    .dataframe thead th {\n",
       "        text-align: right;\n",
       "    }\n",
       "</style>\n",
       "<table border=\"1\" class=\"dataframe\">\n",
       "  <thead>\n",
       "    <tr style=\"text-align: right;\">\n",
       "      <th></th>\n",
       "      <th>start</th>\n",
       "      <th>end</th>\n",
       "      <th>id_lc</th>\n",
       "      <th>length</th>\n",
       "      <th>id_protein</th>\n",
       "    </tr>\n",
       "  </thead>\n",
       "  <tbody>\n",
       "    <tr>\n",
       "      <th>5239</th>\n",
       "      <td>1128</td>\n",
       "      <td>1139</td>\n",
       "      <td>5240</td>\n",
       "      <td>12</td>\n",
       "      <td>9</td>\n",
       "    </tr>\n",
       "  </tbody>\n",
       "</table>\n",
       "</div>"
      ],
      "text/plain": [
       "      start   end  id_lc  length  id_protein\n",
       "5239   1128  1139   5240      12           9"
      ]
     },
     "execution_count": 243,
     "metadata": {},
     "output_type": "execute_result"
    }
   ],
   "source": [
    "# Control\r\n",
    "low_complexity[low_complexity.id_lc == 5240]"
   ]
  },
  {
   "cell_type": "code",
   "execution_count": 244,
   "metadata": {},
   "outputs": [
    {
     "data": {
      "text/plain": [
       "id_protein                                                          9\n",
       "uniprot_acc                                                    A1KZ92\n",
       "hgnc_id                                                    HGNC:26359\n",
       "gene_id                                                      137902.0\n",
       "gene_name                                                       PXDNL\n",
       "length                                                           1463\n",
       "sequence            MEPRLFCWTTLFLLAGWCLPGLPCPSRCLCFKSTVRCMHLMLDHIP...\n",
       "disorder_content                                                  NaN\n",
       "Name: 8, dtype: object"
      ]
     },
     "execution_count": 244,
     "metadata": {},
     "output_type": "execute_result"
    }
   ],
   "source": [
    "protein.iloc[8]"
   ]
  },
  {
   "cell_type": "code",
   "execution_count": 245,
   "metadata": {},
   "outputs": [
    {
     "data": {
      "text/html": [
       "<div>\n",
       "<style scoped>\n",
       "    .dataframe tbody tr th:only-of-type {\n",
       "        vertical-align: middle;\n",
       "    }\n",
       "\n",
       "    .dataframe tbody tr th {\n",
       "        vertical-align: top;\n",
       "    }\n",
       "\n",
       "    .dataframe thead th {\n",
       "        text-align: right;\n",
       "    }\n",
       "</style>\n",
       "<table border=\"1\" class=\"dataframe\">\n",
       "  <thead>\n",
       "    <tr style=\"text-align: right;\">\n",
       "      <th></th>\n",
       "      <th>id_mutation</th>\n",
       "      <th>snp_id</th>\n",
       "      <th>chromosome</th>\n",
       "      <th>start_genomic</th>\n",
       "      <th>end_genomic</th>\n",
       "      <th>start_aa</th>\n",
       "      <th>end_aa</th>\n",
       "      <th>from_aa</th>\n",
       "      <th>to_aa</th>\n",
       "      <th>id_protein</th>\n",
       "      <th>id_consequence</th>\n",
       "    </tr>\n",
       "  </thead>\n",
       "  <tbody>\n",
       "    <tr>\n",
       "      <th>138298</th>\n",
       "      <td>23989</td>\n",
       "      <td>rs74731075</td>\n",
       "      <td>8</td>\n",
       "      <td>51408226</td>\n",
       "      <td>51408226</td>\n",
       "      <td>1133</td>\n",
       "      <td>1133</td>\n",
       "      <td>A</td>\n",
       "      <td>V</td>\n",
       "      <td>9</td>\n",
       "      <td>1</td>\n",
       "    </tr>\n",
       "  </tbody>\n",
       "</table>\n",
       "</div>"
      ],
      "text/plain": [
       "        id_mutation      snp_id chromosome  start_genomic  end_genomic  \\\n",
       "138298        23989  rs74731075          8       51408226     51408226   \n",
       "\n",
       "        start_aa  end_aa from_aa to_aa  id_protein  id_consequence  \n",
       "138298      1133    1133       A     V           9               1  "
      ]
     },
     "execution_count": 245,
     "metadata": {},
     "output_type": "execute_result"
    }
   ],
   "source": [
    "mutation[mutation.id_mutation == 23989] # It's allright! Mutation in aa 1133, which belongs to the low-complexity region between 1128 - 1139 in that protein"
   ]
  },
  {
   "cell_type": "code",
   "execution_count": 246,
   "metadata": {},
   "outputs": [],
   "source": [
    "mutation_has_low_complexity.to_csv('db_tables/mutation_has_low_complexity.tsv', sep='\\t', index= False)"
   ]
  },
  {
   "cell_type": "markdown",
   "metadata": {},
   "source": [
    "---  \n",
    "# Disorder Tables"
   ]
  },
  {
   "cell_type": "markdown",
   "metadata": {},
   "source": [
    "## disorder_region  \r\n",
    "cols: id_idr, start, end, length, id_protein"
   ]
  },
  {
   "cell_type": "code",
   "execution_count": 247,
   "metadata": {},
   "outputs": [],
   "source": [
    "# Add length col \n",
    "disorder['length'] = disorder.end - disorder.start + 1 "
   ]
  },
  {
   "cell_type": "code",
   "execution_count": 248,
   "metadata": {},
   "outputs": [
    {
     "data": {
      "text/html": [
       "<div>\n",
       "<style scoped>\n",
       "    .dataframe tbody tr th:only-of-type {\n",
       "        vertical-align: middle;\n",
       "    }\n",
       "\n",
       "    .dataframe tbody tr th {\n",
       "        vertical-align: top;\n",
       "    }\n",
       "\n",
       "    .dataframe thead th {\n",
       "        text-align: right;\n",
       "    }\n",
       "</style>\n",
       "<table border=\"1\" class=\"dataframe\">\n",
       "  <thead>\n",
       "    <tr style=\"text-align: right;\">\n",
       "      <th></th>\n",
       "      <th>start</th>\n",
       "      <th>end</th>\n",
       "      <th>id_idr</th>\n",
       "      <th>length</th>\n",
       "      <th>id_protein</th>\n",
       "    </tr>\n",
       "  </thead>\n",
       "  <tbody>\n",
       "    <tr>\n",
       "      <th>2338</th>\n",
       "      <td>1</td>\n",
       "      <td>30</td>\n",
       "      <td>2339</td>\n",
       "      <td>30</td>\n",
       "      <td>2</td>\n",
       "    </tr>\n",
       "    <tr>\n",
       "      <th>1426</th>\n",
       "      <td>1</td>\n",
       "      <td>68</td>\n",
       "      <td>1427</td>\n",
       "      <td>68</td>\n",
       "      <td>3</td>\n",
       "    </tr>\n",
       "    <tr>\n",
       "      <th>2489</th>\n",
       "      <td>1</td>\n",
       "      <td>25</td>\n",
       "      <td>2490</td>\n",
       "      <td>25</td>\n",
       "      <td>4</td>\n",
       "    </tr>\n",
       "    <tr>\n",
       "      <th>5782</th>\n",
       "      <td>660</td>\n",
       "      <td>754</td>\n",
       "      <td>5783</td>\n",
       "      <td>95</td>\n",
       "      <td>5</td>\n",
       "    </tr>\n",
       "    <tr>\n",
       "      <th>5781</th>\n",
       "      <td>1</td>\n",
       "      <td>103</td>\n",
       "      <td>5782</td>\n",
       "      <td>103</td>\n",
       "      <td>5</td>\n",
       "    </tr>\n",
       "  </tbody>\n",
       "</table>\n",
       "</div>"
      ],
      "text/plain": [
       "      start  end  id_idr  length  id_protein\n",
       "2338      1   30    2339      30           2\n",
       "1426      1   68    1427      68           3\n",
       "2489      1   25    2490      25           4\n",
       "5782    660  754    5783      95           5\n",
       "5781      1  103    5782     103           5"
      ]
     },
     "execution_count": 248,
     "metadata": {},
     "output_type": "execute_result"
    }
   ],
   "source": [
    "disorder_region = disorder.rename(columns={'uniprot': 'uniprot_acc'}).merge(id_protein).sort_values('id_protein')\r\n",
    "disorder_region.drop(columns='uniprot_acc', inplace= True)\r\n",
    "disorder_region.head()"
   ]
  },
  {
   "cell_type": "code",
   "execution_count": 249,
   "metadata": {},
   "outputs": [],
   "source": [
    "disorder_region.to_csv('db_tables/disorder_region.tsv', sep='\\t', index= False)"
   ]
  },
  {
   "cell_type": "markdown",
   "metadata": {},
   "source": [
    "## mutation_has_disorder_region  \r\n",
    "cols: id_mutation, id_idr"
   ]
  },
  {
   "cell_type": "code",
   "execution_count": 250,
   "metadata": {},
   "outputs": [
    {
     "data": {
      "text/html": [
       "<div>\n",
       "<style scoped>\n",
       "    .dataframe tbody tr th:only-of-type {\n",
       "        vertical-align: middle;\n",
       "    }\n",
       "\n",
       "    .dataframe tbody tr th {\n",
       "        vertical-align: top;\n",
       "    }\n",
       "\n",
       "    .dataframe thead th {\n",
       "        text-align: right;\n",
       "    }\n",
       "</style>\n",
       "<table border=\"1\" class=\"dataframe\">\n",
       "  <thead>\n",
       "    <tr style=\"text-align: right;\">\n",
       "      <th></th>\n",
       "      <th>Start</th>\n",
       "      <th>End</th>\n",
       "      <th>id_mutation</th>\n",
       "      <th>Chromosome</th>\n",
       "    </tr>\n",
       "  </thead>\n",
       "  <tbody>\n",
       "    <tr>\n",
       "      <th>0</th>\n",
       "      <td>1371</td>\n",
       "      <td>1371</td>\n",
       "      <td>1</td>\n",
       "      <td>19</td>\n",
       "    </tr>\n",
       "    <tr>\n",
       "      <th>1</th>\n",
       "      <td>497</td>\n",
       "      <td>497</td>\n",
       "      <td>2</td>\n",
       "      <td>25</td>\n",
       "    </tr>\n",
       "    <tr>\n",
       "      <th>2</th>\n",
       "      <td>430</td>\n",
       "      <td>430</td>\n",
       "      <td>3</td>\n",
       "      <td>25</td>\n",
       "    </tr>\n",
       "    <tr>\n",
       "      <th>3</th>\n",
       "      <td>639</td>\n",
       "      <td>639</td>\n",
       "      <td>4</td>\n",
       "      <td>25</td>\n",
       "    </tr>\n",
       "    <tr>\n",
       "      <th>4</th>\n",
       "      <td>164</td>\n",
       "      <td>164</td>\n",
       "      <td>5</td>\n",
       "      <td>25</td>\n",
       "    </tr>\n",
       "  </tbody>\n",
       "</table>\n",
       "</div>"
      ],
      "text/plain": [
       "   Start   End  id_mutation  Chromosome\n",
       "0   1371  1371            1          19\n",
       "1    497   497            2          25\n",
       "2    430   430            3          25\n",
       "3    639   639            4          25\n",
       "4    164   164            5          25"
      ]
     },
     "execution_count": 250,
     "metadata": {},
     "output_type": "execute_result"
    }
   ],
   "source": [
    "# Auxiliar table for mutations from low-complexity is the same for disorder. id-protein, start and end of the mutation\r\n",
    "aux_idr = aux_lc\r\n",
    "aux_idr.head()"
   ]
  },
  {
   "cell_type": "code",
   "execution_count": 251,
   "metadata": {},
   "outputs": [
    {
     "data": {
      "text/html": [
       "<div>\n",
       "<style scoped>\n",
       "    .dataframe tbody tr th:only-of-type {\n",
       "        vertical-align: middle;\n",
       "    }\n",
       "\n",
       "    .dataframe tbody tr th {\n",
       "        vertical-align: top;\n",
       "    }\n",
       "\n",
       "    .dataframe thead th {\n",
       "        text-align: right;\n",
       "    }\n",
       "</style>\n",
       "<table border=\"1\" class=\"dataframe\">\n",
       "  <thead>\n",
       "    <tr style=\"text-align: right;\">\n",
       "      <th></th>\n",
       "      <th>Start</th>\n",
       "      <th>End</th>\n",
       "      <th>id_idr</th>\n",
       "      <th>length</th>\n",
       "      <th>Chromosome</th>\n",
       "    </tr>\n",
       "  </thead>\n",
       "  <tbody>\n",
       "    <tr>\n",
       "      <th>2338</th>\n",
       "      <td>1</td>\n",
       "      <td>30</td>\n",
       "      <td>2339</td>\n",
       "      <td>30</td>\n",
       "      <td>2</td>\n",
       "    </tr>\n",
       "    <tr>\n",
       "      <th>1426</th>\n",
       "      <td>1</td>\n",
       "      <td>68</td>\n",
       "      <td>1427</td>\n",
       "      <td>68</td>\n",
       "      <td>3</td>\n",
       "    </tr>\n",
       "    <tr>\n",
       "      <th>2489</th>\n",
       "      <td>1</td>\n",
       "      <td>25</td>\n",
       "      <td>2490</td>\n",
       "      <td>25</td>\n",
       "      <td>4</td>\n",
       "    </tr>\n",
       "    <tr>\n",
       "      <th>5782</th>\n",
       "      <td>660</td>\n",
       "      <td>754</td>\n",
       "      <td>5783</td>\n",
       "      <td>95</td>\n",
       "      <td>5</td>\n",
       "    </tr>\n",
       "    <tr>\n",
       "      <th>5781</th>\n",
       "      <td>1</td>\n",
       "      <td>103</td>\n",
       "      <td>5782</td>\n",
       "      <td>103</td>\n",
       "      <td>5</td>\n",
       "    </tr>\n",
       "  </tbody>\n",
       "</table>\n",
       "</div>"
      ],
      "text/plain": [
       "      Start  End  id_idr  length  Chromosome\n",
       "2338      1   30    2339      30           2\n",
       "1426      1   68    1427      68           3\n",
       "2489      1   25    2490      25           4\n",
       "5782    660  754    5783      95           5\n",
       "5781      1  103    5782     103           5"
      ]
     },
     "execution_count": 251,
     "metadata": {},
     "output_type": "execute_result"
    }
   ],
   "source": [
    "# Table for IDRs data\r\n",
    "idr_has = disorder_region.copy()\r\n",
    "idr_has.rename(columns={'id_protein': 'Chromosome', 'start': 'Start', 'end': 'End'}, inplace= True)\r\n",
    "idr_has.head()"
   ]
  },
  {
   "cell_type": "code",
   "execution_count": 252,
   "metadata": {},
   "outputs": [],
   "source": [
    "# Create the Pyranges objects\n",
    "idr_has_py = pr.PyRanges(idr_has)\n",
    "aux_idr_py = pr.PyRanges(aux_idr)"
   ]
  },
  {
   "cell_type": "code",
   "execution_count": 253,
   "metadata": {},
   "outputs": [],
   "source": [
    "# Join both pyranges object: this assings mutations to pfam domains\n",
    "idr_py = aux_idr_py.join(idr_has_py, strandedness= False, slack=1).drop(like=\"_b\") # strandedness= False doesnt take count of the chain strand;\n",
    "                                                                                   # slack= 1 include bounds; drop(like=\"_b\"): delete those cols (redudants)"
   ]
  },
  {
   "cell_type": "code",
   "execution_count": 254,
   "metadata": {},
   "outputs": [
    {
     "data": {
      "text/html": [
       "<div>\n",
       "<style scoped>\n",
       "    .dataframe tbody tr th:only-of-type {\n",
       "        vertical-align: middle;\n",
       "    }\n",
       "\n",
       "    .dataframe tbody tr th {\n",
       "        vertical-align: top;\n",
       "    }\n",
       "\n",
       "    .dataframe thead th {\n",
       "        text-align: right;\n",
       "    }\n",
       "</style>\n",
       "<table border=\"1\" class=\"dataframe\">\n",
       "  <thead>\n",
       "    <tr style=\"text-align: right;\">\n",
       "      <th></th>\n",
       "      <th>Start</th>\n",
       "      <th>End</th>\n",
       "      <th>id_mutation</th>\n",
       "      <th>Chromosome</th>\n",
       "      <th>id_idr</th>\n",
       "      <th>length</th>\n",
       "    </tr>\n",
       "  </thead>\n",
       "  <tbody>\n",
       "    <tr>\n",
       "      <th>0</th>\n",
       "      <td>70</td>\n",
       "      <td>70</td>\n",
       "      <td>24001</td>\n",
       "      <td>12</td>\n",
       "      <td>4339</td>\n",
       "      <td>28</td>\n",
       "    </tr>\n",
       "    <tr>\n",
       "      <th>1</th>\n",
       "      <td>287</td>\n",
       "      <td>287</td>\n",
       "      <td>3994</td>\n",
       "      <td>16</td>\n",
       "      <td>4224</td>\n",
       "      <td>129</td>\n",
       "    </tr>\n",
       "    <tr>\n",
       "      <th>2</th>\n",
       "      <td>336</td>\n",
       "      <td>336</td>\n",
       "      <td>24003</td>\n",
       "      <td>17</td>\n",
       "      <td>2225</td>\n",
       "      <td>157</td>\n",
       "    </tr>\n",
       "    <tr>\n",
       "      <th>3</th>\n",
       "      <td>1014</td>\n",
       "      <td>1014</td>\n",
       "      <td>24004</td>\n",
       "      <td>17</td>\n",
       "      <td>2227</td>\n",
       "      <td>49</td>\n",
       "    </tr>\n",
       "    <tr>\n",
       "      <th>4</th>\n",
       "      <td>1371</td>\n",
       "      <td>1371</td>\n",
       "      <td>1</td>\n",
       "      <td>19</td>\n",
       "      <td>4637</td>\n",
       "      <td>76</td>\n",
       "    </tr>\n",
       "    <tr>\n",
       "      <th>5</th>\n",
       "      <td>1180</td>\n",
       "      <td>1180</td>\n",
       "      <td>24014</td>\n",
       "      <td>19</td>\n",
       "      <td>4635</td>\n",
       "      <td>293</td>\n",
       "    </tr>\n",
       "    <tr>\n",
       "      <th>6</th>\n",
       "      <td>2580</td>\n",
       "      <td>2580</td>\n",
       "      <td>24016</td>\n",
       "      <td>19</td>\n",
       "      <td>4645</td>\n",
       "      <td>65</td>\n",
       "    </tr>\n",
       "    <tr>\n",
       "      <th>7</th>\n",
       "      <td>213</td>\n",
       "      <td>213</td>\n",
       "      <td>24021</td>\n",
       "      <td>19</td>\n",
       "      <td>4630</td>\n",
       "      <td>49</td>\n",
       "    </tr>\n",
       "  </tbody>\n",
       "</table>\n",
       "</div>"
      ],
      "text/plain": [
       "+-----------+-----------+---------------+--------------+-----------+-----------+\n",
       "|     Start |       End |   id_mutation |   Chromosome |    id_idr |    length |\n",
       "|   (int32) |   (int32) |       (int32) |   (category) |   (int32) |   (int64) |\n",
       "|-----------+-----------+---------------+--------------+-----------+-----------|\n",
       "|        70 |        70 |         24001 |           12 |      4339 |        28 |\n",
       "|       287 |       287 |          3994 |           16 |      4224 |       129 |\n",
       "|       336 |       336 |         24003 |           17 |      2225 |       157 |\n",
       "|      1014 |      1014 |         24004 |           17 |      2227 |        49 |\n",
       "|      1371 |      1371 |             1 |           19 |      4637 |        76 |\n",
       "|      1180 |      1180 |         24014 |           19 |      4635 |       293 |\n",
       "|      2580 |      2580 |         24016 |           19 |      4645 |        65 |\n",
       "|       213 |       213 |         24021 |           19 |      4630 |        49 |\n",
       "+-----------+-----------+---------------+--------------+-----------+-----------+\n",
       "Unstranded PyRanges object has 8 rows and 6 columns from 4 chromosomes.\n",
       "For printing, the PyRanges was sorted on Chromosome."
      ]
     },
     "execution_count": 254,
     "metadata": {},
     "output_type": "execute_result"
    }
   ],
   "source": [
    "idr_py.head()"
   ]
  },
  {
   "cell_type": "code",
   "execution_count": 255,
   "metadata": {},
   "outputs": [
    {
     "data": {
      "text/html": [
       "<div>\n",
       "<style scoped>\n",
       "    .dataframe tbody tr th:only-of-type {\n",
       "        vertical-align: middle;\n",
       "    }\n",
       "\n",
       "    .dataframe tbody tr th {\n",
       "        vertical-align: top;\n",
       "    }\n",
       "\n",
       "    .dataframe thead th {\n",
       "        text-align: right;\n",
       "    }\n",
       "</style>\n",
       "<table border=\"1\" class=\"dataframe\">\n",
       "  <thead>\n",
       "    <tr style=\"text-align: right;\">\n",
       "      <th></th>\n",
       "      <th>id_mutation</th>\n",
       "      <th>id_idr</th>\n",
       "    </tr>\n",
       "  </thead>\n",
       "  <tbody>\n",
       "    <tr>\n",
       "      <th>0</th>\n",
       "      <td>24001</td>\n",
       "      <td>4339</td>\n",
       "    </tr>\n",
       "    <tr>\n",
       "      <th>1</th>\n",
       "      <td>3994</td>\n",
       "      <td>4224</td>\n",
       "    </tr>\n",
       "    <tr>\n",
       "      <th>2</th>\n",
       "      <td>24003</td>\n",
       "      <td>2225</td>\n",
       "    </tr>\n",
       "    <tr>\n",
       "      <th>3</th>\n",
       "      <td>24004</td>\n",
       "      <td>2227</td>\n",
       "    </tr>\n",
       "    <tr>\n",
       "      <th>4</th>\n",
       "      <td>1</td>\n",
       "      <td>4637</td>\n",
       "    </tr>\n",
       "  </tbody>\n",
       "</table>\n",
       "</div>"
      ],
      "text/plain": [
       "   id_mutation  id_idr\n",
       "0        24001    4339\n",
       "1         3994    4224\n",
       "2        24003    2225\n",
       "3        24004    2227\n",
       "4            1    4637"
      ]
     },
     "execution_count": 255,
     "metadata": {},
     "output_type": "execute_result"
    }
   ],
   "source": [
    "# Pyrange to DataFrame\r\n",
    "mutation_has_disorder_region = idr_py.df[['id_mutation', 'id_idr']] # cols to keep\r\n",
    "mutation_has_disorder_region.head()"
   ]
  },
  {
   "cell_type": "code",
   "execution_count": 256,
   "metadata": {},
   "outputs": [
    {
     "data": {
      "text/html": [
       "<div>\n",
       "<style scoped>\n",
       "    .dataframe tbody tr th:only-of-type {\n",
       "        vertical-align: middle;\n",
       "    }\n",
       "\n",
       "    .dataframe tbody tr th {\n",
       "        vertical-align: top;\n",
       "    }\n",
       "\n",
       "    .dataframe thead th {\n",
       "        text-align: right;\n",
       "    }\n",
       "</style>\n",
       "<table border=\"1\" class=\"dataframe\">\n",
       "  <thead>\n",
       "    <tr style=\"text-align: right;\">\n",
       "      <th></th>\n",
       "      <th>id_mutation</th>\n",
       "      <th>snp_id</th>\n",
       "      <th>chromosome</th>\n",
       "      <th>start_genomic</th>\n",
       "      <th>end_genomic</th>\n",
       "      <th>start_aa</th>\n",
       "      <th>end_aa</th>\n",
       "      <th>from_aa</th>\n",
       "      <th>to_aa</th>\n",
       "      <th>id_protein</th>\n",
       "      <th>id_consequence</th>\n",
       "    </tr>\n",
       "  </thead>\n",
       "  <tbody>\n",
       "    <tr>\n",
       "      <th>148021</th>\n",
       "      <td>24001</td>\n",
       "      <td>rs116340837</td>\n",
       "      <td>6</td>\n",
       "      <td>149474335</td>\n",
       "      <td>149474335</td>\n",
       "      <td>70</td>\n",
       "      <td>70</td>\n",
       "      <td>A</td>\n",
       "      <td>V</td>\n",
       "      <td>12</td>\n",
       "      <td>1</td>\n",
       "    </tr>\n",
       "  </tbody>\n",
       "</table>\n",
       "</div>"
      ],
      "text/plain": [
       "        id_mutation       snp_id chromosome  start_genomic  end_genomic  \\\n",
       "148021        24001  rs116340837          6      149474335    149474335   \n",
       "\n",
       "        start_aa  end_aa from_aa to_aa  id_protein  id_consequence  \n",
       "148021        70      70       A     V          12               1  "
      ]
     },
     "execution_count": 256,
     "metadata": {},
     "output_type": "execute_result"
    }
   ],
   "source": [
    "# Control\r\n",
    "mutation[mutation.id_mutation == 24001]"
   ]
  },
  {
   "cell_type": "code",
   "execution_count": 257,
   "metadata": {},
   "outputs": [
    {
     "data": {
      "text/html": [
       "<div>\n",
       "<style scoped>\n",
       "    .dataframe tbody tr th:only-of-type {\n",
       "        vertical-align: middle;\n",
       "    }\n",
       "\n",
       "    .dataframe tbody tr th {\n",
       "        vertical-align: top;\n",
       "    }\n",
       "\n",
       "    .dataframe thead th {\n",
       "        text-align: right;\n",
       "    }\n",
       "</style>\n",
       "<table border=\"1\" class=\"dataframe\">\n",
       "  <thead>\n",
       "    <tr style=\"text-align: right;\">\n",
       "      <th></th>\n",
       "      <th>id_protein</th>\n",
       "      <th>uniprot_acc</th>\n",
       "    </tr>\n",
       "  </thead>\n",
       "  <tbody>\n",
       "    <tr>\n",
       "      <th>11</th>\n",
       "      <td>12</td>\n",
       "      <td>A2A288</td>\n",
       "    </tr>\n",
       "  </tbody>\n",
       "</table>\n",
       "</div>"
      ],
      "text/plain": [
       "    id_protein uniprot_acc\n",
       "11          12      A2A288"
      ]
     },
     "execution_count": 257,
     "metadata": {},
     "output_type": "execute_result"
    }
   ],
   "source": [
    "id_protein[id_protein.id_protein == 12]"
   ]
  },
  {
   "cell_type": "code",
   "execution_count": 258,
   "metadata": {},
   "outputs": [
    {
     "data": {
      "text/html": [
       "<div>\n",
       "<style scoped>\n",
       "    .dataframe tbody tr th:only-of-type {\n",
       "        vertical-align: middle;\n",
       "    }\n",
       "\n",
       "    .dataframe tbody tr th {\n",
       "        vertical-align: top;\n",
       "    }\n",
       "\n",
       "    .dataframe thead th {\n",
       "        text-align: right;\n",
       "    }\n",
       "</style>\n",
       "<table border=\"1\" class=\"dataframe\">\n",
       "  <thead>\n",
       "    <tr style=\"text-align: right;\">\n",
       "      <th></th>\n",
       "      <th>uniprot_acc</th>\n",
       "      <th>start</th>\n",
       "      <th>end</th>\n",
       "      <th>id_idr</th>\n",
       "      <th>length</th>\n",
       "    </tr>\n",
       "  </thead>\n",
       "  <tbody>\n",
       "    <tr>\n",
       "      <th>4338</th>\n",
       "      <td>A2A288</td>\n",
       "      <td>48</td>\n",
       "      <td>75</td>\n",
       "      <td>4339</td>\n",
       "      <td>28</td>\n",
       "    </tr>\n",
       "  </tbody>\n",
       "</table>\n",
       "</div>"
      ],
      "text/plain": [
       "     uniprot_acc  start  end  id_idr  length\n",
       "4338      A2A288     48   75    4339      28"
      ]
     },
     "execution_count": 258,
     "metadata": {},
     "output_type": "execute_result"
    }
   ],
   "source": [
    "disorder[disorder.id_idr == 4339] # It's Ok. A point mutation in position 70 in the idr region between 48-75"
   ]
  },
  {
   "cell_type": "code",
   "execution_count": 259,
   "metadata": {},
   "outputs": [],
   "source": [
    "mutation_has_disorder_region.to_csv('db_tables/mutation_has_disorder_region.tsv', sep='\\t', index= False)"
   ]
  },
  {
   "cell_type": "markdown",
   "metadata": {},
   "source": [
    "---   \r\n",
    "# Rol table  \r\n",
    "cols: id_rol, rol"
   ]
  },
  {
   "cell_type": "code",
   "execution_count": 261,
   "metadata": {},
   "outputs": [
    {
     "data": {
      "text/plain": [
       "array(['driver', 'component', 'regulator', 'client'], dtype=object)"
      ]
     },
     "execution_count": 261,
     "metadata": {},
     "output_type": "execute_result"
    }
   ],
   "source": [
    "entrada_dbs.rol.unique()"
   ]
  },
  {
   "cell_type": "code",
   "execution_count": 262,
   "metadata": {},
   "outputs": [
    {
     "data": {
      "text/plain": [
       "client       5654\n",
       "regulator    1395\n",
       "component     836\n",
       "driver        381\n",
       "Name: rol, dtype: int64"
      ]
     },
     "execution_count": 262,
     "metadata": {},
     "output_type": "execute_result"
    }
   ],
   "source": [
    "entrada_dbs.rol.value_counts()"
   ]
  },
  {
   "cell_type": "code",
   "execution_count": 13,
   "metadata": {},
   "outputs": [
    {
     "data": {
      "text/html": [
       "<div>\n",
       "<style scoped>\n",
       "    .dataframe tbody tr th:only-of-type {\n",
       "        vertical-align: middle;\n",
       "    }\n",
       "\n",
       "    .dataframe tbody tr th {\n",
       "        vertical-align: top;\n",
       "    }\n",
       "\n",
       "    .dataframe thead th {\n",
       "        text-align: right;\n",
       "    }\n",
       "</style>\n",
       "<table border=\"1\" class=\"dataframe\">\n",
       "  <thead>\n",
       "    <tr style=\"text-align: right;\">\n",
       "      <th></th>\n",
       "      <th>rol</th>\n",
       "      <th>id_rol</th>\n",
       "    </tr>\n",
       "  </thead>\n",
       "  <tbody>\n",
       "    <tr>\n",
       "      <th>0</th>\n",
       "      <td>client</td>\n",
       "      <td>1</td>\n",
       "    </tr>\n",
       "    <tr>\n",
       "      <th>1</th>\n",
       "      <td>regulator</td>\n",
       "      <td>2</td>\n",
       "    </tr>\n",
       "    <tr>\n",
       "      <th>2</th>\n",
       "      <td>component</td>\n",
       "      <td>3</td>\n",
       "    </tr>\n",
       "    <tr>\n",
       "      <th>3</th>\n",
       "      <td>driver</td>\n",
       "      <td>4</td>\n",
       "    </tr>\n",
       "  </tbody>\n",
       "</table>\n",
       "</div>"
      ],
      "text/plain": [
       "         rol  id_rol\n",
       "0     client       1\n",
       "1  regulator       2\n",
       "2  component       3\n",
       "3     driver       4"
      ]
     },
     "execution_count": 13,
     "metadata": {},
     "output_type": "execute_result"
    }
   ],
   "source": [
    "rol = pd.DataFrame({'rol': entrada_dbs.rol.value_counts().index, 'id_rol': range(1, len(entrada_dbs.rol.value_counts())+1)})\r\n",
    "rol"
   ]
  },
  {
   "cell_type": "code",
   "execution_count": 263,
   "metadata": {},
   "outputs": [],
   "source": [
    "rol.to_csv('db_tables/rol.tsv', sep='\\t', index= False)"
   ]
  },
  {
   "cell_type": "markdown",
   "metadata": {},
   "source": [
    "---  \r\n",
    "# database table  \r\n",
    "cols: id_database, database"
   ]
  },
  {
   "cell_type": "code",
   "execution_count": 264,
   "metadata": {},
   "outputs": [
    {
     "data": {
      "text/plain": [
       "drllps              5034\n",
       "phasepdb_ht         2426\n",
       "phasepdb_uniprot     384\n",
       "phasepdb_rev         297\n",
       "phasepro             125\n",
       "Name: db, dtype: int64"
      ]
     },
     "execution_count": 264,
     "metadata": {},
     "output_type": "execute_result"
    }
   ],
   "source": [
    "entrada_dbs.db.value_counts()"
   ]
  },
  {
   "cell_type": "code",
   "execution_count": 265,
   "metadata": {},
   "outputs": [
    {
     "data": {
      "text/html": [
       "<div>\n",
       "<style scoped>\n",
       "    .dataframe tbody tr th:only-of-type {\n",
       "        vertical-align: middle;\n",
       "    }\n",
       "\n",
       "    .dataframe tbody tr th {\n",
       "        vertical-align: top;\n",
       "    }\n",
       "\n",
       "    .dataframe thead th {\n",
       "        text-align: right;\n",
       "    }\n",
       "</style>\n",
       "<table border=\"1\" class=\"dataframe\">\n",
       "  <thead>\n",
       "    <tr style=\"text-align: right;\">\n",
       "      <th></th>\n",
       "      <th>database</th>\n",
       "      <th>id_database</th>\n",
       "    </tr>\n",
       "  </thead>\n",
       "  <tbody>\n",
       "    <tr>\n",
       "      <th>0</th>\n",
       "      <td>drllps</td>\n",
       "      <td>1</td>\n",
       "    </tr>\n",
       "    <tr>\n",
       "      <th>1</th>\n",
       "      <td>phasepdb_ht</td>\n",
       "      <td>2</td>\n",
       "    </tr>\n",
       "    <tr>\n",
       "      <th>2</th>\n",
       "      <td>phasepdb_uniprot</td>\n",
       "      <td>3</td>\n",
       "    </tr>\n",
       "    <tr>\n",
       "      <th>3</th>\n",
       "      <td>phasepdb_rev</td>\n",
       "      <td>4</td>\n",
       "    </tr>\n",
       "    <tr>\n",
       "      <th>4</th>\n",
       "      <td>phasepro</td>\n",
       "      <td>5</td>\n",
       "    </tr>\n",
       "  </tbody>\n",
       "</table>\n",
       "</div>"
      ],
      "text/plain": [
       "           database  id_database\n",
       "0            drllps            1\n",
       "1       phasepdb_ht            2\n",
       "2  phasepdb_uniprot            3\n",
       "3      phasepdb_rev            4\n",
       "4          phasepro            5"
      ]
     },
     "execution_count": 265,
     "metadata": {},
     "output_type": "execute_result"
    }
   ],
   "source": [
    "database = pd.DataFrame({'database': entrada_dbs.db.value_counts().index, 'id_database': range(1, len(entrada_dbs.db.value_counts())+1)})\r\n",
    "database"
   ]
  },
  {
   "cell_type": "code",
   "execution_count": 266,
   "metadata": {},
   "outputs": [],
   "source": [
    "database.to_csv('db_tables/database.tsv', sep='\\t', index= False)"
   ]
  },
  {
   "cell_type": "markdown",
   "metadata": {},
   "source": [
    "---  \r\n",
    "# MLOs tables  "
   ]
  },
  {
   "cell_type": "code",
   "execution_count": 267,
   "metadata": {},
   "outputs": [
    {
     "name": "stdout",
     "output_type": "stream",
     "text": [
      "<class 'pandas.core.frame.DataFrame'>\n",
      "Int64Index: 8266 entries, 0 to 8391\n",
      "Data columns (total 4 columns):\n",
      " #   Column       Non-Null Count  Dtype \n",
      "---  ------       --------------  ----- \n",
      " 0   uniprot_acc  8266 non-null   object\n",
      " 1   mlo          8266 non-null   object\n",
      " 2   rol          8266 non-null   object\n",
      " 3   db           8266 non-null   object\n",
      "dtypes: object(4)\n",
      "memory usage: 322.9+ KB\n"
     ]
    }
   ],
   "source": [
    "entrada_dbs.info()"
   ]
  },
  {
   "cell_type": "code",
   "execution_count": 268,
   "metadata": {},
   "outputs": [
    {
     "data": {
      "text/plain": [
       "Nucleolus                      1972\n",
       "Stress granule                  918\n",
       "Postsynaptic density            917\n",
       "null_phasepdb_ht                750\n",
       "P-body                          698\n",
       "                               ... \n",
       "Cytoplasmic granule               1\n",
       " cGAS foci                        1\n",
       " granular component               1\n",
       "heterochromatin                   1\n",
       " liquid-like DYRK3 speckles       1\n",
       "Name: mlo, Length: 148, dtype: int64"
      ]
     },
     "execution_count": 268,
     "metadata": {},
     "output_type": "execute_result"
    }
   ],
   "source": [
    "entrada_dbs.mlo.value_counts()"
   ]
  },
  {
   "cell_type": "code",
   "execution_count": 269,
   "metadata": {},
   "outputs": [
    {
     "data": {
      "text/plain": [
       "4368"
      ]
     },
     "execution_count": 269,
     "metadata": {},
     "output_type": "execute_result"
    }
   ],
   "source": [
    "len(entrada_dbs.uniprot_acc.unique())"
   ]
  },
  {
   "cell_type": "code",
   "execution_count": 270,
   "metadata": {},
   "outputs": [
    {
     "data": {
      "text/plain": [
       "148"
      ]
     },
     "execution_count": 270,
     "metadata": {},
     "output_type": "execute_result"
    }
   ],
   "source": [
    "len(entrada_dbs.mlo.unique()) # there's blank spaces; unify data"
   ]
  },
  {
   "cell_type": "markdown",
   "metadata": {},
   "source": [
    "## Deal with mlos annotations"
   ]
  },
  {
   "cell_type": "code",
   "execution_count": 271,
   "metadata": {},
   "outputs": [],
   "source": [
    "entrada_dbs.mlo = entrada_dbs.mlo.str.strip()"
   ]
  },
  {
   "cell_type": "code",
   "execution_count": 272,
   "metadata": {},
   "outputs": [
    {
     "data": {
      "text/plain": [
       "Nucleolus                        2063\n",
       "Stress granule                   1407\n",
       "Postsynaptic density             1374\n",
       "P-body                            830\n",
       "null_phasepdb_ht                  750\n",
       "                                 ... \n",
       "galectin lattice                    1\n",
       "Cytoplasmic granule                 1\n",
       "inclusion body                      1\n",
       "RNA polymerase II, holoenzyme       1\n",
       "granular component                  1\n",
       "Name: mlo, Length: 116, dtype: int64"
      ]
     },
     "execution_count": 272,
     "metadata": {},
     "output_type": "execute_result"
    }
   ],
   "source": [
    "entrada_dbs.mlo.value_counts()"
   ]
  },
  {
   "cell_type": "markdown",
   "metadata": {},
   "source": [
    "### Paraspeckle"
   ]
  },
  {
   "cell_type": "code",
   "execution_count": 273,
   "metadata": {},
   "outputs": [
    {
     "data": {
      "text/plain": [
       "101"
      ]
     },
     "execution_count": 273,
     "metadata": {},
     "output_type": "execute_result"
    }
   ],
   "source": [
    "(entrada_dbs.mlo == 'Paraspeckle').sum()"
   ]
  },
  {
   "cell_type": "code",
   "execution_count": 274,
   "metadata": {},
   "outputs": [],
   "source": [
    "# Unify paraspeckle with Paraspeckle\r\n",
    "entrada_dbs.replace('paraspeckle', 'Paraspeckle', inplace= True)"
   ]
  },
  {
   "cell_type": "code",
   "execution_count": 275,
   "metadata": {},
   "outputs": [
    {
     "data": {
      "text/plain": [
       "104"
      ]
     },
     "execution_count": 275,
     "metadata": {},
     "output_type": "execute_result"
    }
   ],
   "source": [
    "(entrada_dbs.mlo == 'Paraspeckle').sum()"
   ]
  },
  {
   "cell_type": "markdown",
   "metadata": {},
   "source": [
    "### Sam68"
   ]
  },
  {
   "cell_type": "code",
   "execution_count": 276,
   "metadata": {},
   "outputs": [
    {
     "data": {
      "text/plain": [
       "11"
      ]
     },
     "execution_count": 276,
     "metadata": {},
     "output_type": "execute_result"
    }
   ],
   "source": [
    "(entrada_dbs.mlo == 'Sam68 nuclear bodies').sum()"
   ]
  },
  {
   "cell_type": "code",
   "execution_count": 277,
   "metadata": {},
   "outputs": [
    {
     "data": {
      "text/plain": [
       "2"
      ]
     },
     "execution_count": 277,
     "metadata": {},
     "output_type": "execute_result"
    }
   ],
   "source": [
    "(entrada_dbs.mlo == 'Sam68 nuclear bodies (SNBs)').sum()"
   ]
  },
  {
   "cell_type": "code",
   "execution_count": 278,
   "metadata": {},
   "outputs": [
    {
     "data": {
      "text/plain": [
       "12"
      ]
     },
     "execution_count": 278,
     "metadata": {},
     "output_type": "execute_result"
    }
   ],
   "source": [
    "(entrada_dbs.mlo == 'Sam68 nuclear body').sum()"
   ]
  },
  {
   "cell_type": "code",
   "execution_count": 279,
   "metadata": {},
   "outputs": [
    {
     "data": {
      "text/plain": [
       "25"
      ]
     },
     "execution_count": 279,
     "metadata": {},
     "output_type": "execute_result"
    }
   ],
   "source": [
    "entrada_dbs.replace(['Sam68 nuclear bodies', 'Sam68 nuclear bodies (SNBs)'], 'Sam68 nuclear body', inplace= True)\r\n",
    "(entrada_dbs.mlo == 'Sam68 nuclear body').sum()"
   ]
  },
  {
   "cell_type": "markdown",
   "metadata": {},
   "source": [
    "### PML body  \r\n",
    "**PhaSepDB**: The PML bodies are dynamic nuclear protein aggregates interspersed between chromatin. These punctate nuclear structures are call PML bodies because the PML gene is essential for their formation. are present in most mammalian cell nuclei and typically number 1 to 30 bodies per nucleus.  \r\n",
    "**DrLLPS**: PML nuclear bodies are annotetad in the nucleus. They are matrix-associated domains that recruit an astonishing variety of seemingly unrelated proteins."
   ]
  },
  {
   "cell_type": "code",
   "execution_count": 280,
   "metadata": {},
   "outputs": [
    {
     "data": {
      "text/plain": [
       "97"
      ]
     },
     "execution_count": 280,
     "metadata": {},
     "output_type": "execute_result"
    }
   ],
   "source": [
    "(entrada_dbs.mlo == 'PML nuclear body').sum()"
   ]
  },
  {
   "cell_type": "code",
   "execution_count": 281,
   "metadata": {},
   "outputs": [
    {
     "data": {
      "text/plain": [
       "77"
      ]
     },
     "execution_count": 281,
     "metadata": {},
     "output_type": "execute_result"
    }
   ],
   "source": [
    "(entrada_dbs.mlo == 'PML body').sum()"
   ]
  },
  {
   "cell_type": "code",
   "execution_count": 282,
   "metadata": {},
   "outputs": [
    {
     "data": {
      "text/plain": [
       "174"
      ]
     },
     "execution_count": 282,
     "metadata": {},
     "output_type": "execute_result"
    }
   ],
   "source": [
    "entrada_dbs.replace('PML body', 'PML nuclear body', inplace= True)\r\n",
    "(entrada_dbs.mlo == 'PML nuclear body').sum()"
   ]
  },
  {
   "cell_type": "markdown",
   "metadata": {},
   "source": [
    "### Polycomb body"
   ]
  },
  {
   "cell_type": "code",
   "execution_count": 283,
   "metadata": {},
   "outputs": [
    {
     "data": {
      "text/plain": [
       "2"
      ]
     },
     "execution_count": 283,
     "metadata": {},
     "output_type": "execute_result"
    }
   ],
   "source": [
    "(entrada_dbs.mlo == 'Polycomb bodies').sum()"
   ]
  },
  {
   "cell_type": "code",
   "execution_count": 284,
   "metadata": {},
   "outputs": [
    {
     "data": {
      "text/plain": [
       "4"
      ]
     },
     "execution_count": 284,
     "metadata": {},
     "output_type": "execute_result"
    }
   ],
   "source": [
    "entrada_dbs.replace('Polycomb bodies', 'Polycomb body', inplace= True)\r\n",
    "(entrada_dbs.mlo == 'Polycomb body').sum()"
   ]
  },
  {
   "cell_type": "markdown",
   "metadata": {},
   "source": [
    "### Pre and postsynaptic density"
   ]
  },
  {
   "cell_type": "code",
   "execution_count": 285,
   "metadata": {},
   "outputs": [],
   "source": [
    "entrada_dbs.replace('Pre and postsynaptic densities', 'Pre and postsynaptic density', inplace= True)\r\n"
   ]
  },
  {
   "cell_type": "code",
   "execution_count": 286,
   "metadata": {},
   "outputs": [
    {
     "data": {
      "text/plain": [
       "8"
      ]
     },
     "execution_count": 286,
     "metadata": {},
     "output_type": "execute_result"
    }
   ],
   "source": [
    "(entrada_dbs.mlo == 'Pre and postsynaptic density').sum()"
   ]
  },
  {
   "cell_type": "markdown",
   "metadata": {},
   "source": [
    "### Nuclear speckle"
   ]
  },
  {
   "cell_type": "code",
   "execution_count": 287,
   "metadata": {},
   "outputs": [
    {
     "data": {
      "text/plain": [
       "115"
      ]
     },
     "execution_count": 287,
     "metadata": {},
     "output_type": "execute_result"
    }
   ],
   "source": [
    "(entrada_dbs.mlo == 'Nucleus speckles').sum() #phasepdb"
   ]
  },
  {
   "cell_type": "code",
   "execution_count": 288,
   "metadata": {},
   "outputs": [
    {
     "data": {
      "text/plain": [
       "110"
      ]
     },
     "execution_count": 288,
     "metadata": {},
     "output_type": "execute_result"
    }
   ],
   "source": [
    "(entrada_dbs.mlo == 'Nuclear speckle').sum() # drllps"
   ]
  },
  {
   "cell_type": "code",
   "execution_count": 289,
   "metadata": {},
   "outputs": [
    {
     "data": {
      "text/plain": [
       "24"
      ]
     },
     "execution_count": 289,
     "metadata": {},
     "output_type": "execute_result"
    }
   ],
   "source": [
    "(entrada_dbs.mlo == 'Nuclear speckles').sum() #phasepdb"
   ]
  },
  {
   "cell_type": "code",
   "execution_count": 290,
   "metadata": {},
   "outputs": [
    {
     "data": {
      "text/plain": [
       "3"
      ]
     },
     "execution_count": 290,
     "metadata": {},
     "output_type": "execute_result"
    }
   ],
   "source": [
    "(entrada_dbs.mlo == 'nuclear speckle').sum()"
   ]
  },
  {
   "cell_type": "code",
   "execution_count": 291,
   "metadata": {},
   "outputs": [
    {
     "data": {
      "text/plain": [
       "252"
      ]
     },
     "execution_count": 291,
     "metadata": {},
     "output_type": "execute_result"
    }
   ],
   "source": [
    "entrada_dbs.replace(['Nucleus speckles', 'Nuclear speckles', 'nuclear speckle'], 'Nuclear speckle', inplace= True)\r\n",
    "(entrada_dbs.mlo == 'Nuclear speckle').sum()"
   ]
  },
  {
   "cell_type": "markdown",
   "metadata": {},
   "source": [
    "### Heterochromatin"
   ]
  },
  {
   "cell_type": "code",
   "execution_count": 292,
   "metadata": {},
   "outputs": [
    {
     "data": {
      "text/plain": [
       "2"
      ]
     },
     "execution_count": 292,
     "metadata": {},
     "output_type": "execute_result"
    }
   ],
   "source": [
    "(entrada_dbs.mlo == 'heterochromatin').sum()"
   ]
  },
  {
   "cell_type": "code",
   "execution_count": 293,
   "metadata": {},
   "outputs": [
    {
     "data": {
      "text/plain": [
       "3"
      ]
     },
     "execution_count": 293,
     "metadata": {},
     "output_type": "execute_result"
    }
   ],
   "source": [
    "entrada_dbs.replace('heterochromatin', 'Heterochromatin', inplace= True)\r\n",
    "(entrada_dbs.mlo == 'Heterochromatin').sum()"
   ]
  },
  {
   "cell_type": "markdown",
   "metadata": {},
   "source": [
    "### Cytoplasmic ribonucleoprotein granule"
   ]
  },
  {
   "cell_type": "code",
   "execution_count": 294,
   "metadata": {},
   "outputs": [
    {
     "data": {
      "text/plain": [
       "6"
      ]
     },
     "execution_count": 294,
     "metadata": {},
     "output_type": "execute_result"
    }
   ],
   "source": [
    "(entrada_dbs.mlo == 'cytoplasmic ribonucleoprotein granule').sum()\r\n"
   ]
  },
  {
   "cell_type": "code",
   "execution_count": 295,
   "metadata": {},
   "outputs": [],
   "source": [
    "entrada_dbs.replace('cytoplasmic ribonucleoprotein granule', 'Cytoplasmic ribonucleoprotein granule', inplace= True)"
   ]
  },
  {
   "cell_type": "markdown",
   "metadata": {},
   "source": [
    "### Membrane cluster"
   ]
  },
  {
   "cell_type": "code",
   "execution_count": 296,
   "metadata": {},
   "outputs": [
    {
     "data": {
      "text/plain": [
       "4"
      ]
     },
     "execution_count": 296,
     "metadata": {},
     "output_type": "execute_result"
    }
   ],
   "source": [
    "(entrada_dbs.mlo == 'Membrane clusters').sum()"
   ]
  },
  {
   "cell_type": "code",
   "execution_count": 297,
   "metadata": {},
   "outputs": [
    {
     "data": {
      "text/plain": [
       "3"
      ]
     },
     "execution_count": 297,
     "metadata": {},
     "output_type": "execute_result"
    }
   ],
   "source": [
    "(entrada_dbs.mlo == 'membrane cluster').sum()"
   ]
  },
  {
   "cell_type": "code",
   "execution_count": 298,
   "metadata": {},
   "outputs": [
    {
     "data": {
      "text/plain": [
       "7"
      ]
     },
     "execution_count": 298,
     "metadata": {},
     "output_type": "execute_result"
    }
   ],
   "source": [
    "entrada_dbs.replace(['Membrane clusters', 'membrane cluster'], 'Membrane cluster', inplace= True)\r\n",
    "(entrada_dbs.mlo == 'Membrane cluster').sum()"
   ]
  },
  {
   "cell_type": "markdown",
   "metadata": {},
   "source": [
    "### Nuclear body"
   ]
  },
  {
   "cell_type": "code",
   "execution_count": 299,
   "metadata": {},
   "outputs": [
    {
     "data": {
      "text/plain": [
       "11"
      ]
     },
     "execution_count": 299,
     "metadata": {},
     "output_type": "execute_result"
    }
   ],
   "source": [
    "entrada_dbs.replace('nuclear body', 'Nuclear body', inplace= True)\r\n",
    "(entrada_dbs.mlo == 'Nuclear body').sum()"
   ]
  },
  {
   "cell_type": "markdown",
   "metadata": {},
   "source": [
    "### Nucleolus"
   ]
  },
  {
   "cell_type": "code",
   "execution_count": 300,
   "metadata": {},
   "outputs": [
    {
     "data": {
      "text/plain": [
       "2064"
      ]
     },
     "execution_count": 300,
     "metadata": {},
     "output_type": "execute_result"
    }
   ],
   "source": [
    "entrada_dbs.replace('nucleolus', 'Nucleolus', inplace= True)\r\n",
    "(entrada_dbs.mlo == 'Nucleolus').sum()"
   ]
  },
  {
   "cell_type": "code",
   "execution_count": 302,
   "metadata": {},
   "outputs": [
    {
     "data": {
      "text/plain": [
       "534"
      ]
     },
     "execution_count": 302,
     "metadata": {},
     "output_type": "execute_result"
    }
   ],
   "source": [
    "(entrada_dbs.mlo == 'Centrosome/Spindle pole body').sum() # keep this annotation"
   ]
  },
  {
   "cell_type": "markdown",
   "metadata": {},
   "source": [
    "## OK, now mlo table  \r\n",
    "cols: id_mlo, mlo"
   ]
  },
  {
   "cell_type": "code",
   "execution_count": 303,
   "metadata": {},
   "outputs": [
    {
     "data": {
      "text/plain": [
       "Nucleolus                     2064\n",
       "Stress granule                1407\n",
       "Postsynaptic density          1374\n",
       "P-body                         830\n",
       "null_phasepdb_ht               750\n",
       "                              ... \n",
       "PcG protein complex              1\n",
       "liquid-like DYRK3 speckles       1\n",
       "Perinucleolar compartment        1\n",
       "Histone Locus body               1\n",
       "granular component               1\n",
       "Name: mlo, Length: 102, dtype: int64"
      ]
     },
     "execution_count": 303,
     "metadata": {},
     "output_type": "execute_result"
    }
   ],
   "source": [
    "entrada_dbs.mlo.value_counts()"
   ]
  },
  {
   "cell_type": "code",
   "execution_count": 305,
   "metadata": {},
   "outputs": [
    {
     "data": {
      "text/html": [
       "<div>\n",
       "<style scoped>\n",
       "    .dataframe tbody tr th:only-of-type {\n",
       "        vertical-align: middle;\n",
       "    }\n",
       "\n",
       "    .dataframe tbody tr th {\n",
       "        vertical-align: top;\n",
       "    }\n",
       "\n",
       "    .dataframe thead th {\n",
       "        text-align: right;\n",
       "    }\n",
       "</style>\n",
       "<table border=\"1\" class=\"dataframe\">\n",
       "  <thead>\n",
       "    <tr style=\"text-align: right;\">\n",
       "      <th></th>\n",
       "      <th>uniprot_acc</th>\n",
       "      <th>mlo</th>\n",
       "      <th>rol</th>\n",
       "      <th>db</th>\n",
       "    </tr>\n",
       "  </thead>\n",
       "  <tbody>\n",
       "    <tr>\n",
       "      <th>0</th>\n",
       "      <td>P35637</td>\n",
       "      <td>cytoplasmic stress granule</td>\n",
       "      <td>driver</td>\n",
       "      <td>phasepro</td>\n",
       "    </tr>\n",
       "    <tr>\n",
       "      <th>1</th>\n",
       "      <td>P35637</td>\n",
       "      <td>Cytoplasmic ribonucleoprotein granule</td>\n",
       "      <td>driver</td>\n",
       "      <td>phasepro</td>\n",
       "    </tr>\n",
       "    <tr>\n",
       "      <th>2</th>\n",
       "      <td>Q06787</td>\n",
       "      <td>cytoplasmic stress granule</td>\n",
       "      <td>driver</td>\n",
       "      <td>phasepro</td>\n",
       "    </tr>\n",
       "    <tr>\n",
       "      <th>3</th>\n",
       "      <td>Q06787</td>\n",
       "      <td>Cytoplasmic ribonucleoprotein granule</td>\n",
       "      <td>driver</td>\n",
       "      <td>phasepro</td>\n",
       "    </tr>\n",
       "    <tr>\n",
       "      <th>4</th>\n",
       "      <td>Q06787</td>\n",
       "      <td>synaptosome</td>\n",
       "      <td>driver</td>\n",
       "      <td>phasepro</td>\n",
       "    </tr>\n",
       "    <tr>\n",
       "      <th>...</th>\n",
       "      <td>...</td>\n",
       "      <td>...</td>\n",
       "      <td>...</td>\n",
       "      <td>...</td>\n",
       "    </tr>\n",
       "    <tr>\n",
       "      <th>8381</th>\n",
       "      <td>P33778</td>\n",
       "      <td>Nucleolus</td>\n",
       "      <td>client</td>\n",
       "      <td>drllps</td>\n",
       "    </tr>\n",
       "    <tr>\n",
       "      <th>8384</th>\n",
       "      <td>Q13148</td>\n",
       "      <td>Cytoplasmic ribonucleoprotein granule</td>\n",
       "      <td>driver</td>\n",
       "      <td>phasepro</td>\n",
       "    </tr>\n",
       "    <tr>\n",
       "      <th>8387</th>\n",
       "      <td>O43561</td>\n",
       "      <td>LAT signalosome</td>\n",
       "      <td>driver</td>\n",
       "      <td>phasepro</td>\n",
       "    </tr>\n",
       "    <tr>\n",
       "      <th>8389</th>\n",
       "      <td>P62993</td>\n",
       "      <td>LAT signalosome</td>\n",
       "      <td>driver</td>\n",
       "      <td>phasepro</td>\n",
       "    </tr>\n",
       "    <tr>\n",
       "      <th>8391</th>\n",
       "      <td>Q07889</td>\n",
       "      <td>LAT signalosome</td>\n",
       "      <td>driver</td>\n",
       "      <td>phasepro</td>\n",
       "    </tr>\n",
       "  </tbody>\n",
       "</table>\n",
       "<p>8272 rows × 4 columns</p>\n",
       "</div>"
      ],
      "text/plain": [
       "     uniprot_acc                                    mlo     rol        db\n",
       "0         P35637             cytoplasmic stress granule  driver  phasepro\n",
       "1         P35637  Cytoplasmic ribonucleoprotein granule  driver  phasepro\n",
       "2         Q06787             cytoplasmic stress granule  driver  phasepro\n",
       "3         Q06787  Cytoplasmic ribonucleoprotein granule  driver  phasepro\n",
       "4         Q06787                            synaptosome  driver  phasepro\n",
       "...          ...                                    ...     ...       ...\n",
       "8381      P33778                              Nucleolus  client    drllps\n",
       "8384      Q13148  Cytoplasmic ribonucleoprotein granule  driver  phasepro\n",
       "8387      O43561                        LAT signalosome  driver  phasepro\n",
       "8389      P62993                        LAT signalosome  driver  phasepro\n",
       "8391      Q07889                        LAT signalosome  driver  phasepro\n",
       "\n",
       "[8272 rows x 4 columns]"
      ]
     },
     "execution_count": 305,
     "metadata": {},
     "output_type": "execute_result"
    }
   ],
   "source": [
    "# EXPLODE:\r\n",
    "# P-body, Stress granule\r\n",
    "# P-body, GW body\r\n",
    "# Set mlo col as list-like and explode() to separate list elements into separate rows\r\n",
    "# before: 8266 rows\r\n",
    "entrada_dbs = entrada_dbs.assign(mlo= entrada_dbs.mlo.str.split(',')).explode('mlo')\r\n",
    "entrada_dbs.mlo = entrada_dbs.mlo.str.strip()\r\n",
    "entrada_dbs\r\n",
    "# after: 8272 rows"
   ]
  },
  {
   "cell_type": "code",
   "execution_count": 306,
   "metadata": {},
   "outputs": [
    {
     "data": {
      "text/plain": [
       "3"
      ]
     },
     "execution_count": 306,
     "metadata": {},
     "output_type": "execute_result"
    }
   ],
   "source": [
    "# GW-body\r\n",
    "entrada_dbs.replace('GW body', 'GW-body', inplace= True)\r\n",
    "(entrada_dbs.mlo == 'GW-body').sum()"
   ]
  },
  {
   "cell_type": "code",
   "execution_count": 307,
   "metadata": {},
   "outputs": [
    {
     "data": {
      "text/plain": [
       "1375"
      ]
     },
     "execution_count": 307,
     "metadata": {},
     "output_type": "execute_result"
    }
   ],
   "source": [
    "# Postsynaptic density\r\n",
    "entrada_dbs.replace('postsynaptic density', 'Postsynaptic density', inplace= True)\r\n",
    "(entrada_dbs.mlo == 'Postsynaptic density').sum()"
   ]
  },
  {
   "cell_type": "code",
   "execution_count": 309,
   "metadata": {},
   "outputs": [
    {
     "data": {
      "text/plain": [
       "7"
      ]
     },
     "execution_count": 309,
     "metadata": {},
     "output_type": "execute_result"
    }
   ],
   "source": [
    "# Cytoplasmic ribonucleoprotein granule\r\n",
    "entrada_dbs.replace('cytoplasmic ribonucleoprotein granule', 'Cytoplasmic ribonucleoprotein granule', inplace= True)\r\n",
    "(entrada_dbs.mlo == 'Cytoplasmic ribonucleoprotein granule').sum()"
   ]
  },
  {
   "cell_type": "code",
   "execution_count": 310,
   "metadata": {},
   "outputs": [
    {
     "data": {
      "text/plain": [
       "16"
      ]
     },
     "execution_count": 310,
     "metadata": {},
     "output_type": "execute_result"
    }
   ],
   "source": [
    "# Histone locus body\r\n",
    "entrada_dbs.replace('Histone Locus body', 'Histone locus body', inplace= True)\r\n",
    "(entrada_dbs.mlo == 'Histone locus body').sum()"
   ]
  },
  {
   "cell_type": "code",
   "execution_count": 311,
   "metadata": {},
   "outputs": [
    {
     "data": {
      "text/plain": [
       "1411"
      ]
     },
     "execution_count": 311,
     "metadata": {},
     "output_type": "execute_result"
    }
   ],
   "source": [
    "# Stress granule\r\n",
    "entrada_dbs.replace('Sress granule', 'Stress granule', inplace= True)\r\n",
    "(entrada_dbs.mlo == 'Stress granule').sum()"
   ]
  },
  {
   "cell_type": "code",
   "execution_count": 312,
   "metadata": {},
   "outputs": [
    {
     "name": "stdout",
     "output_type": "stream",
     "text": [
      "<class 'pandas.core.frame.DataFrame'>\n",
      "Int64Index: 8272 entries, 0 to 8391\n",
      "Data columns (total 4 columns):\n",
      " #   Column       Non-Null Count  Dtype \n",
      "---  ------       --------------  ----- \n",
      " 0   uniprot_acc  8272 non-null   object\n",
      " 1   mlo          8272 non-null   object\n",
      " 2   rol          8272 non-null   object\n",
      " 3   db           8272 non-null   object\n",
      "dtypes: object(4)\n",
      "memory usage: 323.1+ KB\n"
     ]
    }
   ],
   "source": [
    "entrada_dbs.info()"
   ]
  },
  {
   "cell_type": "code",
   "execution_count": 313,
   "metadata": {},
   "outputs": [
    {
     "data": {
      "text/plain": [
       "Nucleolus                                                                                     2064\n",
       "Stress granule                                                                                1411\n",
       "Postsynaptic density                                                                          1375\n",
       "P-body                                                                                         834\n",
       "null_phasepdb_ht                                                                               750\n",
       "                                                                                              ... \n",
       "condensed compartments of microtubule bundling                                                   1\n",
       "TIS granule                                                                                      1\n",
       "Nuage                                                                                            1\n",
       "PcG protein complex                                                                              1\n",
       "selective hydrogel-like meshwork formed by FG-nucleoporins in nuclear pore central channel       1\n",
       "Name: mlo, Length: 99, dtype: int64"
      ]
     },
     "execution_count": 313,
     "metadata": {},
     "output_type": "execute_result"
    }
   ],
   "source": [
    "entrada_dbs.mlo.value_counts()"
   ]
  },
  {
   "cell_type": "code",
   "execution_count": 314,
   "metadata": {},
   "outputs": [
    {
     "data": {
      "text/html": [
       "<div>\n",
       "<style scoped>\n",
       "    .dataframe tbody tr th:only-of-type {\n",
       "        vertical-align: middle;\n",
       "    }\n",
       "\n",
       "    .dataframe tbody tr th {\n",
       "        vertical-align: top;\n",
       "    }\n",
       "\n",
       "    .dataframe thead th {\n",
       "        text-align: right;\n",
       "    }\n",
       "</style>\n",
       "<table border=\"1\" class=\"dataframe\">\n",
       "  <thead>\n",
       "    <tr style=\"text-align: right;\">\n",
       "      <th></th>\n",
       "      <th>mlo</th>\n",
       "      <th>id_mlo</th>\n",
       "    </tr>\n",
       "  </thead>\n",
       "  <tbody>\n",
       "    <tr>\n",
       "      <th>0</th>\n",
       "      <td>Nucleolus</td>\n",
       "      <td>1</td>\n",
       "    </tr>\n",
       "    <tr>\n",
       "      <th>1</th>\n",
       "      <td>Stress granule</td>\n",
       "      <td>2</td>\n",
       "    </tr>\n",
       "    <tr>\n",
       "      <th>2</th>\n",
       "      <td>Postsynaptic density</td>\n",
       "      <td>3</td>\n",
       "    </tr>\n",
       "    <tr>\n",
       "      <th>3</th>\n",
       "      <td>P-body</td>\n",
       "      <td>4</td>\n",
       "    </tr>\n",
       "    <tr>\n",
       "      <th>4</th>\n",
       "      <td>null_phasepdb_ht</td>\n",
       "      <td>5</td>\n",
       "    </tr>\n",
       "    <tr>\n",
       "      <th>...</th>\n",
       "      <td>...</td>\n",
       "      <td>...</td>\n",
       "    </tr>\n",
       "    <tr>\n",
       "      <th>94</th>\n",
       "      <td>condensed compartments of microtubule bundling</td>\n",
       "      <td>95</td>\n",
       "    </tr>\n",
       "    <tr>\n",
       "      <th>95</th>\n",
       "      <td>TIS granule</td>\n",
       "      <td>96</td>\n",
       "    </tr>\n",
       "    <tr>\n",
       "      <th>96</th>\n",
       "      <td>Nuage</td>\n",
       "      <td>97</td>\n",
       "    </tr>\n",
       "    <tr>\n",
       "      <th>97</th>\n",
       "      <td>PcG protein complex</td>\n",
       "      <td>98</td>\n",
       "    </tr>\n",
       "    <tr>\n",
       "      <th>98</th>\n",
       "      <td>selective hydrogel-like meshwork formed by FG-...</td>\n",
       "      <td>99</td>\n",
       "    </tr>\n",
       "  </tbody>\n",
       "</table>\n",
       "<p>99 rows × 2 columns</p>\n",
       "</div>"
      ],
      "text/plain": [
       "                                                  mlo  id_mlo\n",
       "0                                           Nucleolus       1\n",
       "1                                      Stress granule       2\n",
       "2                                Postsynaptic density       3\n",
       "3                                              P-body       4\n",
       "4                                    null_phasepdb_ht       5\n",
       "..                                                ...     ...\n",
       "94     condensed compartments of microtubule bundling      95\n",
       "95                                        TIS granule      96\n",
       "96                                              Nuage      97\n",
       "97                                PcG protein complex      98\n",
       "98  selective hydrogel-like meshwork formed by FG-...      99\n",
       "\n",
       "[99 rows x 2 columns]"
      ]
     },
     "execution_count": 314,
     "metadata": {},
     "output_type": "execute_result"
    }
   ],
   "source": [
    "mlo = pd.DataFrame({'mlo': entrada_dbs.mlo.value_counts().index, 'id_mlo': range(1, len(entrada_dbs.mlo.unique())+1)})\r\n",
    "mlo"
   ]
  },
  {
   "cell_type": "code",
   "execution_count": 315,
   "metadata": {},
   "outputs": [],
   "source": [
    "mlo.to_csv('db_tables/mlo.tsv', sep='\\t', index= False)"
   ]
  },
  {
   "cell_type": "markdown",
   "metadata": {},
   "source": [
    "## protein_has_mlo  \r\n",
    "cols: id_protein, id_mlo, id_rol, id_database"
   ]
  },
  {
   "cell_type": "code",
   "execution_count": 316,
   "metadata": {},
   "outputs": [
    {
     "data": {
      "text/plain": [
       "4368"
      ]
     },
     "execution_count": 316,
     "metadata": {},
     "output_type": "execute_result"
    }
   ],
   "source": [
    "len(entrada_dbs.uniprot_acc.unique())"
   ]
  },
  {
   "cell_type": "code",
   "execution_count": 317,
   "metadata": {},
   "outputs": [],
   "source": [
    "protein_has_mlo = entrada_dbs.copy()"
   ]
  },
  {
   "cell_type": "code",
   "execution_count": 318,
   "metadata": {},
   "outputs": [
    {
     "data": {
      "text/html": [
       "<div>\n",
       "<style scoped>\n",
       "    .dataframe tbody tr th:only-of-type {\n",
       "        vertical-align: middle;\n",
       "    }\n",
       "\n",
       "    .dataframe tbody tr th {\n",
       "        vertical-align: top;\n",
       "    }\n",
       "\n",
       "    .dataframe thead th {\n",
       "        text-align: right;\n",
       "    }\n",
       "</style>\n",
       "<table border=\"1\" class=\"dataframe\">\n",
       "  <thead>\n",
       "    <tr style=\"text-align: right;\">\n",
       "      <th></th>\n",
       "      <th>uniprot_acc</th>\n",
       "      <th>mlo</th>\n",
       "      <th>rol</th>\n",
       "      <th>db</th>\n",
       "    </tr>\n",
       "  </thead>\n",
       "  <tbody>\n",
       "    <tr>\n",
       "      <th>0</th>\n",
       "      <td>P35637</td>\n",
       "      <td>cytoplasmic stress granule</td>\n",
       "      <td>driver</td>\n",
       "      <td>phasepro</td>\n",
       "    </tr>\n",
       "    <tr>\n",
       "      <th>1</th>\n",
       "      <td>P35637</td>\n",
       "      <td>Cytoplasmic ribonucleoprotein granule</td>\n",
       "      <td>driver</td>\n",
       "      <td>phasepro</td>\n",
       "    </tr>\n",
       "    <tr>\n",
       "      <th>2</th>\n",
       "      <td>Q06787</td>\n",
       "      <td>cytoplasmic stress granule</td>\n",
       "      <td>driver</td>\n",
       "      <td>phasepro</td>\n",
       "    </tr>\n",
       "    <tr>\n",
       "      <th>3</th>\n",
       "      <td>Q06787</td>\n",
       "      <td>Cytoplasmic ribonucleoprotein granule</td>\n",
       "      <td>driver</td>\n",
       "      <td>phasepro</td>\n",
       "    </tr>\n",
       "    <tr>\n",
       "      <th>4</th>\n",
       "      <td>Q06787</td>\n",
       "      <td>synaptosome</td>\n",
       "      <td>driver</td>\n",
       "      <td>phasepro</td>\n",
       "    </tr>\n",
       "  </tbody>\n",
       "</table>\n",
       "</div>"
      ],
      "text/plain": [
       "  uniprot_acc                                    mlo     rol        db\n",
       "0      P35637             cytoplasmic stress granule  driver  phasepro\n",
       "1      P35637  Cytoplasmic ribonucleoprotein granule  driver  phasepro\n",
       "2      Q06787             cytoplasmic stress granule  driver  phasepro\n",
       "3      Q06787  Cytoplasmic ribonucleoprotein granule  driver  phasepro\n",
       "4      Q06787                            synaptosome  driver  phasepro"
      ]
     },
     "execution_count": 318,
     "metadata": {},
     "output_type": "execute_result"
    }
   ],
   "source": [
    "protein_has_mlo.head()"
   ]
  },
  {
   "cell_type": "code",
   "execution_count": 319,
   "metadata": {},
   "outputs": [],
   "source": [
    "# Add id_protein\r\n",
    "protein_has_mlo = protein_has_mlo.merge(id_protein)\r\n",
    "# Add id_mlo\r\n",
    "protein_has_mlo = protein_has_mlo.merge(mlo)\r\n",
    "# Add id_rol and id_database\r\n",
    "protein_has_mlo = protein_has_mlo.merge(rol)\r\n",
    "protein_has_mlo = protein_has_mlo.rename(columns={'db': 'database'}).merge(database).sort_values('id_protein')"
   ]
  },
  {
   "cell_type": "code",
   "execution_count": 320,
   "metadata": {},
   "outputs": [
    {
     "data": {
      "text/html": [
       "<div>\n",
       "<style scoped>\n",
       "    .dataframe tbody tr th:only-of-type {\n",
       "        vertical-align: middle;\n",
       "    }\n",
       "\n",
       "    .dataframe tbody tr th {\n",
       "        vertical-align: top;\n",
       "    }\n",
       "\n",
       "    .dataframe thead th {\n",
       "        text-align: right;\n",
       "    }\n",
       "</style>\n",
       "<table border=\"1\" class=\"dataframe\">\n",
       "  <thead>\n",
       "    <tr style=\"text-align: right;\">\n",
       "      <th></th>\n",
       "      <th>id_protein</th>\n",
       "      <th>id_mlo</th>\n",
       "      <th>id_rol</th>\n",
       "      <th>id_database</th>\n",
       "    </tr>\n",
       "  </thead>\n",
       "  <tbody>\n",
       "    <tr>\n",
       "      <th>8271</th>\n",
       "      <td>1</td>\n",
       "      <td>5</td>\n",
       "      <td>2</td>\n",
       "      <td>2</td>\n",
       "    </tr>\n",
       "    <tr>\n",
       "      <th>4709</th>\n",
       "      <td>2</td>\n",
       "      <td>2</td>\n",
       "      <td>2</td>\n",
       "      <td>1</td>\n",
       "    </tr>\n",
       "    <tr>\n",
       "      <th>1082</th>\n",
       "      <td>3</td>\n",
       "      <td>4</td>\n",
       "      <td>1</td>\n",
       "      <td>1</td>\n",
       "    </tr>\n",
       "    <tr>\n",
       "      <th>5185</th>\n",
       "      <td>3</td>\n",
       "      <td>4</td>\n",
       "      <td>3</td>\n",
       "      <td>3</td>\n",
       "    </tr>\n",
       "    <tr>\n",
       "      <th>1276</th>\n",
       "      <td>4</td>\n",
       "      <td>4</td>\n",
       "      <td>1</td>\n",
       "      <td>1</td>\n",
       "    </tr>\n",
       "    <tr>\n",
       "      <th>...</th>\n",
       "      <td>...</td>\n",
       "      <td>...</td>\n",
       "      <td>...</td>\n",
       "      <td>...</td>\n",
       "    </tr>\n",
       "    <tr>\n",
       "      <th>1310</th>\n",
       "      <td>4366</td>\n",
       "      <td>4</td>\n",
       "      <td>1</td>\n",
       "      <td>1</td>\n",
       "    </tr>\n",
       "    <tr>\n",
       "      <th>4447</th>\n",
       "      <td>4367</td>\n",
       "      <td>20</td>\n",
       "      <td>1</td>\n",
       "      <td>1</td>\n",
       "    </tr>\n",
       "    <tr>\n",
       "      <th>406</th>\n",
       "      <td>4368</td>\n",
       "      <td>10</td>\n",
       "      <td>1</td>\n",
       "      <td>1</td>\n",
       "    </tr>\n",
       "    <tr>\n",
       "      <th>2237</th>\n",
       "      <td>4368</td>\n",
       "      <td>1</td>\n",
       "      <td>1</td>\n",
       "      <td>1</td>\n",
       "    </tr>\n",
       "    <tr>\n",
       "      <th>1299</th>\n",
       "      <td>4368</td>\n",
       "      <td>4</td>\n",
       "      <td>1</td>\n",
       "      <td>1</td>\n",
       "    </tr>\n",
       "  </tbody>\n",
       "</table>\n",
       "<p>8272 rows × 4 columns</p>\n",
       "</div>"
      ],
      "text/plain": [
       "      id_protein  id_mlo  id_rol  id_database\n",
       "8271           1       5       2            2\n",
       "4709           2       2       2            1\n",
       "1082           3       4       1            1\n",
       "5185           3       4       3            3\n",
       "1276           4       4       1            1\n",
       "...          ...     ...     ...          ...\n",
       "1310        4366       4       1            1\n",
       "4447        4367      20       1            1\n",
       "406         4368      10       1            1\n",
       "2237        4368       1       1            1\n",
       "1299        4368       4       1            1\n",
       "\n",
       "[8272 rows x 4 columns]"
      ]
     },
     "execution_count": 320,
     "metadata": {},
     "output_type": "execute_result"
    }
   ],
   "source": [
    "protein_has_mlo.drop(columns=['uniprot_acc', 'mlo', 'rol', 'database'], inplace= True)\r\n",
    "protein_has_mlo"
   ]
  },
  {
   "cell_type": "code",
   "execution_count": 321,
   "metadata": {},
   "outputs": [],
   "source": [
    "protein_has_mlo.to_csv('db_tables/protein_has_mlo.tsv', sep='\\t', index= False)"
   ]
  },
  {
   "cell_type": "code",
   "execution_count": 131,
   "metadata": {},
   "outputs": [],
   "source": [
    "#aa = entrada_dbs[['uniprot_acc', 'rol']].drop_duplicates().groupby('uniprot_acc').size().reset_index(name='counts')"
   ]
  },
  {
   "cell_type": "code",
   "execution_count": 134,
   "metadata": {},
   "outputs": [
    {
     "data": {
      "text/plain": [
       "[1, 2, 3, 4]"
      ]
     },
     "execution_count": 134,
     "metadata": {},
     "output_type": "execute_result"
    }
   ],
   "source": [
    "#aa['counts'].unique().tolist()"
   ]
  },
  {
   "cell_type": "code",
   "execution_count": 135,
   "metadata": {},
   "outputs": [
    {
     "data": {
      "text/html": [
       "<div>\n",
       "<style scoped>\n",
       "    .dataframe tbody tr th:only-of-type {\n",
       "        vertical-align: middle;\n",
       "    }\n",
       "\n",
       "    .dataframe tbody tr th {\n",
       "        vertical-align: top;\n",
       "    }\n",
       "\n",
       "    .dataframe thead th {\n",
       "        text-align: right;\n",
       "    }\n",
       "</style>\n",
       "<table border=\"1\" class=\"dataframe\">\n",
       "  <thead>\n",
       "    <tr style=\"text-align: right;\">\n",
       "      <th></th>\n",
       "      <th>uniprot_acc</th>\n",
       "      <th>counts</th>\n",
       "    </tr>\n",
       "  </thead>\n",
       "  <tbody>\n",
       "    <tr>\n",
       "      <th>733</th>\n",
       "      <td>P06748</td>\n",
       "      <td>4</td>\n",
       "    </tr>\n",
       "    <tr>\n",
       "      <th>1160</th>\n",
       "      <td>P29590</td>\n",
       "      <td>4</td>\n",
       "    </tr>\n",
       "    <tr>\n",
       "      <th>1196</th>\n",
       "      <td>P31483</td>\n",
       "      <td>4</td>\n",
       "    </tr>\n",
       "    <tr>\n",
       "      <th>1286</th>\n",
       "      <td>P38432</td>\n",
       "      <td>4</td>\n",
       "    </tr>\n",
       "    <tr>\n",
       "      <th>1353</th>\n",
       "      <td>P43243</td>\n",
       "      <td>4</td>\n",
       "    </tr>\n",
       "  </tbody>\n",
       "</table>\n",
       "</div>"
      ],
      "text/plain": [
       "     uniprot_acc  counts\n",
       "733       P06748       4\n",
       "1160      P29590       4\n",
       "1196      P31483       4\n",
       "1286      P38432       4\n",
       "1353      P43243       4"
      ]
     },
     "execution_count": 135,
     "metadata": {},
     "output_type": "execute_result"
    }
   ],
   "source": [
    "#aa[aa.counts == 4].head()"
   ]
  },
  {
   "cell_type": "code",
   "execution_count": 139,
   "metadata": {},
   "outputs": [
    {
     "data": {
      "text/html": [
       "<div>\n",
       "<style scoped>\n",
       "    .dataframe tbody tr th:only-of-type {\n",
       "        vertical-align: middle;\n",
       "    }\n",
       "\n",
       "    .dataframe tbody tr th {\n",
       "        vertical-align: top;\n",
       "    }\n",
       "\n",
       "    .dataframe thead th {\n",
       "        text-align: right;\n",
       "    }\n",
       "</style>\n",
       "<table border=\"1\" class=\"dataframe\">\n",
       "  <thead>\n",
       "    <tr style=\"text-align: right;\">\n",
       "      <th></th>\n",
       "      <th>uniprot_acc</th>\n",
       "      <th>organism</th>\n",
       "      <th>mlo</th>\n",
       "      <th>rol</th>\n",
       "      <th>db</th>\n",
       "    </tr>\n",
       "  </thead>\n",
       "  <tbody>\n",
       "    <tr>\n",
       "      <th>32</th>\n",
       "      <td>P06748</td>\n",
       "      <td>Homo sapiens</td>\n",
       "      <td>Nucleolus</td>\n",
       "      <td>driver</td>\n",
       "      <td>phasepro</td>\n",
       "    </tr>\n",
       "    <tr>\n",
       "      <th>33</th>\n",
       "      <td>P06748</td>\n",
       "      <td>Homo sapiens</td>\n",
       "      <td>granular component</td>\n",
       "      <td>driver</td>\n",
       "      <td>phasepro</td>\n",
       "    </tr>\n",
       "    <tr>\n",
       "      <th>177</th>\n",
       "      <td>P06748</td>\n",
       "      <td>Homo sapiens</td>\n",
       "      <td>Nucleolus</td>\n",
       "      <td>component</td>\n",
       "      <td>phasepdb_rev</td>\n",
       "    </tr>\n",
       "    <tr>\n",
       "      <th>401</th>\n",
       "      <td>P06748</td>\n",
       "      <td>Homo sapiens</td>\n",
       "      <td>null_phasepdb_rev</td>\n",
       "      <td>component</td>\n",
       "      <td>phasepdb_rev</td>\n",
       "    </tr>\n",
       "    <tr>\n",
       "      <th>1384</th>\n",
       "      <td>P06748</td>\n",
       "      <td>Homo sapiens</td>\n",
       "      <td>Nucleolus</td>\n",
       "      <td>client</td>\n",
       "      <td>phasepdb_ht</td>\n",
       "    </tr>\n",
       "    <tr>\n",
       "      <th>1696</th>\n",
       "      <td>P06748</td>\n",
       "      <td>Homo sapiens</td>\n",
       "      <td>Nucleolus</td>\n",
       "      <td>client</td>\n",
       "      <td>phasepdb_ht</td>\n",
       "    </tr>\n",
       "    <tr>\n",
       "      <th>2398</th>\n",
       "      <td>P06748</td>\n",
       "      <td>Homo sapiens</td>\n",
       "      <td>Stress granule</td>\n",
       "      <td>client</td>\n",
       "      <td>phasepdb_ht</td>\n",
       "    </tr>\n",
       "    <tr>\n",
       "      <th>3076</th>\n",
       "      <td>P06748</td>\n",
       "      <td>Homo sapiens</td>\n",
       "      <td>null_phasepdb_ht</td>\n",
       "      <td>regulator</td>\n",
       "      <td>phasepdb_ht</td>\n",
       "    </tr>\n",
       "    <tr>\n",
       "      <th>3386</th>\n",
       "      <td>P06748</td>\n",
       "      <td>Homo sapiens</td>\n",
       "      <td>Droplet</td>\n",
       "      <td>driver</td>\n",
       "      <td>drllps</td>\n",
       "    </tr>\n",
       "    <tr>\n",
       "      <th>3387</th>\n",
       "      <td>P06748</td>\n",
       "      <td>Homo sapiens</td>\n",
       "      <td>Nucleolus</td>\n",
       "      <td>driver</td>\n",
       "      <td>drllps</td>\n",
       "    </tr>\n",
       "    <tr>\n",
       "      <th>3388</th>\n",
       "      <td>P06748</td>\n",
       "      <td>Homo sapiens</td>\n",
       "      <td>Centrosome/Spindle pole body</td>\n",
       "      <td>driver</td>\n",
       "      <td>drllps</td>\n",
       "    </tr>\n",
       "    <tr>\n",
       "      <th>3389</th>\n",
       "      <td>P06748</td>\n",
       "      <td>Homo sapiens</td>\n",
       "      <td>Stress granule</td>\n",
       "      <td>driver</td>\n",
       "      <td>drllps</td>\n",
       "    </tr>\n",
       "  </tbody>\n",
       "</table>\n",
       "</div>"
      ],
      "text/plain": [
       "     uniprot_acc      organism                           mlo        rol  \\\n",
       "32        P06748  Homo sapiens                     Nucleolus     driver   \n",
       "33        P06748  Homo sapiens            granular component     driver   \n",
       "177       P06748  Homo sapiens                     Nucleolus  component   \n",
       "401       P06748  Homo sapiens             null_phasepdb_rev  component   \n",
       "1384      P06748  Homo sapiens                     Nucleolus     client   \n",
       "1696      P06748  Homo sapiens                     Nucleolus     client   \n",
       "2398      P06748  Homo sapiens                Stress granule     client   \n",
       "3076      P06748  Homo sapiens              null_phasepdb_ht  regulator   \n",
       "3386      P06748  Homo sapiens                       Droplet     driver   \n",
       "3387      P06748  Homo sapiens                     Nucleolus     driver   \n",
       "3388      P06748  Homo sapiens  Centrosome/Spindle pole body     driver   \n",
       "3389      P06748  Homo sapiens                Stress granule     driver   \n",
       "\n",
       "                db  \n",
       "32        phasepro  \n",
       "33        phasepro  \n",
       "177   phasepdb_rev  \n",
       "401   phasepdb_rev  \n",
       "1384   phasepdb_ht  \n",
       "1696   phasepdb_ht  \n",
       "2398   phasepdb_ht  \n",
       "3076   phasepdb_ht  \n",
       "3386        drllps  \n",
       "3387        drllps  \n",
       "3388        drllps  \n",
       "3389        drllps  "
      ]
     },
     "execution_count": 139,
     "metadata": {},
     "output_type": "execute_result"
    }
   ],
   "source": [
    "#entrada_dbs[entrada_dbs.uniprot_acc == 'P06748'] # es el rol en la db"
   ]
  }
 ],
 "metadata": {
  "interpreter": {
   "hash": "9164a3399a70d355c381b62813f30880ed90ca5a6f321bf0d85375640bda7ee5"
  },
  "kernelspec": {
   "display_name": "Python 3.7.9 64-bit",
   "name": "python3"
  },
  "language_info": {
   "codemirror_mode": {
    "name": "ipython",
    "version": 3
   },
   "file_extension": ".py",
   "mimetype": "text/x-python",
   "name": "python",
   "nbconvert_exporter": "python",
   "pygments_lexer": "ipython3",
   "version": "3.7.9"
  },
  "metadata": {
   "interpreter": {
    "hash": "1f8d80d535cfd832283e4e3a1095d2ce45fe6627336684f2622a1965babb2f1c"
   }
  },
  "orig_nbformat": 2
 },
 "nbformat": 4,
 "nbformat_minor": 2
}