{
 "metadata": {
  "language_info": {
   "codemirror_mode": {
    "name": "ipython",
    "version": 3
   },
   "file_extension": ".py",
   "mimetype": "text/x-python",
   "name": "python",
   "nbconvert_exporter": "python",
   "pygments_lexer": "ipython3",
   "version": "3.9.1"
  },
  "orig_nbformat": 2,
  "kernelspec": {
   "name": "python391jvsc74a57bd02647ea34e536f865ab67ff9ddee7fd78773d956cec0cab53c79b32cd10da5d83",
   "display_name": "Python 3.9.1 64-bit"
  },
  "metadata": {
   "interpreter": {
    "hash": "2647ea34e536f865ab67ff9ddee7fd78773d956cec0cab53c79b32cd10da5d83"
   }
  }
 },
 "nbformat": 4,
 "nbformat_minor": 2,
 "cells": [
  {
   "cell_type": "code",
   "execution_count": 3,
   "metadata": {},
   "outputs": [],
   "source": [
    "import pandas as pd\n",
    "import numpy as np"
   ]
  },
  {
   "source": [
    "###  El objetivo de este script es reunir toda la data de variantes curadas en Disgenet, ya que el dataset por si solo no brinda toda la info que se necesita para estudiar mutaciones en proteinas"
   ],
   "cell_type": "markdown",
   "metadata": {}
  },
  {
   "source": [
    "## Datasets: variant - disease association curated; Summary of Curated VDAs"
   ],
   "cell_type": "markdown",
   "metadata": {}
  },
  {
   "cell_type": "code",
   "execution_count": 4,
   "metadata": {},
   "outputs": [],
   "source": [
    "# este dataset viene de la pagina de downloads (https://www.disgenet.org/downloads; Octubre 2020)\n",
    "vda = pd.read_csv('curated_variant_disease_associations.tsv', sep='\\t')\n",
    "vda.columns = vda.columns.str.lower().str.replace(' ',\"_\").str.replace(\"-\",'_').str.replace('/','_')\n",
    "vda = vda.rename(columns={'snpid':'snp_id'})"
   ]
  },
  {
   "cell_type": "code",
   "execution_count": 67,
   "metadata": {},
   "outputs": [
    {
     "output_type": "stream",
     "name": "stdout",
     "text": [
      "snps unicos en el dataset: 168051\n"
     ]
    }
   ],
   "source": [
    "print(f'snps unicos en el dataset: {len(vda.snp_id.unique())}')"
   ]
  },
  {
   "cell_type": "code",
   "execution_count": 5,
   "metadata": {},
   "outputs": [],
   "source": [
    "# este dataset viene de buscar en la web de disgenet y descargarlo completo (https://www.disgenet.org/browser/0/0/0/0/_a/_b./; Febrero 2021)\n",
    "# tiene mas info que complementa al de arriba\n",
    "sumvda = pd.read_csv('summaryofvdas_CURATED.tsv', sep='\\t')\n",
    "sumvda.columns = sumvda.columns.str.lower().str.replace(' ',\"_\").str.replace(\"-\",'_').str.replace('/','_')\n",
    "sumvda = sumvda.rename(columns={'variant':'snp_id', 'chr':'chromosome', 'gene': 'gene_name'})\n",
    "sumvda = sumvda[['snp_id', 'gene_name', 'gene_id', 'consequence', 'alleles', 'class',\n",
    "        'af_exome', 'alt_ref_exome', 'af_genome', 'alt_ref_genome']]"
   ]
  },
  {
   "cell_type": "code",
   "execution_count": 6,
   "metadata": {},
   "outputs": [],
   "source": [
    "# uno ambas tablas, axis=1 es por columnas\n",
    "disgenet_vdas = pd.concat([vda, sumvda], axis=1)\n",
    "# Elimino la col duplicada (snp_id, son identicas)\n",
    "disgenet_vdas = disgenet_vdas.loc[:, ~disgenet_vdas.columns.duplicated()]"
   ]
  },
  {
   "source": [
    "## Mappings con uniprot y gene id"
   ],
   "cell_type": "markdown",
   "metadata": {}
  },
  {
   "cell_type": "code",
   "execution_count": 7,
   "metadata": {},
   "outputs": [],
   "source": [
    "# Mappings UniProts: uniprots id con entrez gene id (https://www.disgenet.org/downloads, Mappings)\n",
    "uniprots = pd.read_csv('mapa_geneid_4_uniprot_crossref.tsv.gz', sep='\\t', compression='gzip')\n",
    "uniprots = uniprots.rename(columns={'UniProtKB':'uniprot_acc', 'GENEID':'gene_id'})"
   ]
  },
  {
   "cell_type": "code",
   "execution_count": 8,
   "metadata": {},
   "outputs": [],
   "source": [
    "# The file contains the mappings of DisGeNET variants (dbSNP Identifiers)\n",
    "# to NCBI Entrez identifiers according to dbSNP database (https://www.disgenet.org/downloads, Variant-Gene Mappings File)\n",
    "variant_gene = pd.read_csv('variant_to_gene_mappings.tsv.gz', sep='\\t', compression='gzip')\n",
    "variant_gene = variant_gene.rename(columns={'snpId':'snp_id', 'geneId':'gene_id', 'geneSymbol': 'gene_name', 'sourceId':'source_id'})"
   ]
  },
  {
   "cell_type": "code",
   "execution_count": 9,
   "metadata": {},
   "outputs": [],
   "source": [
    "# agrego los uniprots\n",
    "variant_gene = variant_gene.merge(uniprots)"
   ]
  },
  {
   "cell_type": "code",
   "execution_count": 10,
   "metadata": {},
   "outputs": [
    {
     "output_type": "execute_result",
     "data": {
      "text/plain": [
       "              snp_id chromosome   position    dsi   dpi diseaseid  \\\n",
       "0          rs1000005         21   33060745    NaN   NaN  C0200638   \n",
       "1         rs10000770          4  142693109  1.000  0.04  C0023467   \n",
       "2         rs10000770          4  142693109  1.000  0.04  C0023467   \n",
       "3       rs1000091588         11   68935374  1.000  0.12  C1858517   \n",
       "4       rs1000091588         11   68935374  1.000  0.12  C1858517   \n",
       "...              ...        ...        ...    ...   ...       ...   \n",
       "433635   rs999921351          8   86628939  1.000  0.12  C1849792   \n",
       "433636      rs999943          6   33656956  1.000  0.08  C0028754   \n",
       "433637      rs999943          6   33656956  1.000  0.08  C0028754   \n",
       "433638      rs999944          2   64822719  1.000  0.08  C0520679   \n",
       "433639     rs9999820          4  155197173  0.925  0.08  C0085215   \n",
       "\n",
       "                                              diseasename diseasetype  \\\n",
       "0                              Eosinophil count procedure   phenotype   \n",
       "1                             Leukemia, Myelocytic, Acute     disease   \n",
       "2                             Leukemia, Myelocytic, Acute     disease   \n",
       "3       SPINAL MUSCULAR ATROPHY WITH RESPIRATORY DISTR...     disease   \n",
       "4       SPINAL MUSCULAR ATROPHY WITH RESPIRATORY DISTR...     disease   \n",
       "...                                                   ...         ...   \n",
       "433635                                    Achromatopsia 3     disease   \n",
       "433636                                            Obesity     disease   \n",
       "433637                                            Obesity     disease   \n",
       "433638                           Sleep Apnea, Obstructive     disease   \n",
       "433639                         Ovarian Failure, Premature     disease   \n",
       "\n",
       "       diseaseclass   diseasesemantictype  ...         consequence  alleles  \\\n",
       "0               NaN  Laboratory Procedure  ...      intron variant      G/C   \n",
       "1               C04    Neoplastic Process  ...      intron variant      C/T   \n",
       "2               C04    Neoplastic Process  ...      intron variant      C/T   \n",
       "3       C16;C08;C10   Disease or Syndrome  ...         stop gained      C/T   \n",
       "4       C16;C08;C10   Disease or Syndrome  ...         stop gained      C/T   \n",
       "...             ...                   ...  ...                 ...      ...   \n",
       "433635  C23;C11;C10   Disease or Syndrome  ...         stop gained      C/T   \n",
       "433636      C23;C18   Disease or Syndrome  ...      intron variant      A/G   \n",
       "433637      C23;C18   Disease or Syndrome  ...      intron variant      A/G   \n",
       "433638      C08;C10   Disease or Syndrome  ...  intergenic variant      A/G   \n",
       "433639      C13;C19   Disease or Syndrome  ...      intron variant      A/G   \n",
       "\n",
       "        class  af_exome  alt_ref_exome af_genome alt_ref_genome gene_id_y  \\\n",
       "0         snv       NaN            NaN  0.505584            G/C       NaN   \n",
       "1         snv       NaN            NaN  0.108425            C/T    8821.0   \n",
       "2         snv       NaN            NaN  0.108425            C/T    8821.0   \n",
       "3         snv       NaN            NaN  0.000007            C/T    3508.0   \n",
       "4         snv       NaN            NaN  0.000007            C/T    3508.0   \n",
       "...       ...       ...            ...       ...            ...       ...   \n",
       "433635    snv       NaN            NaN       NaN            NaN   54714.0   \n",
       "433636    snv       NaN            NaN  0.282840            A/G    3710.0   \n",
       "433637    snv       NaN            NaN  0.282840            A/G    3710.0   \n",
       "433638    snv       NaN            NaN  0.833959            A/G       NaN   \n",
       "433639    snv       NaN            NaN  0.664027            A/G    4887.0   \n",
       "\n",
       "       source_id uniprot_acc  \n",
       "0            NaN         NaN  \n",
       "1          DBSNP      O15327  \n",
       "2            VEP      O15327  \n",
       "3            VEP      P38935  \n",
       "4          DBSNP      P38935  \n",
       "...          ...         ...  \n",
       "433635       VEP      Q9NQW8  \n",
       "433636       VEP      Q14573  \n",
       "433637     DBSNP      Q14573  \n",
       "433638       NaN         NaN  \n",
       "433639     DBSNP      P49146  \n",
       "\n",
       "[433640 rows x 28 columns]"
      ],
      "text/html": "<div>\n<style scoped>\n    .dataframe tbody tr th:only-of-type {\n        vertical-align: middle;\n    }\n\n    .dataframe tbody tr th {\n        vertical-align: top;\n    }\n\n    .dataframe thead th {\n        text-align: right;\n    }\n</style>\n<table border=\"1\" class=\"dataframe\">\n  <thead>\n    <tr style=\"text-align: right;\">\n      <th></th>\n      <th>snp_id</th>\n      <th>chromosome</th>\n      <th>position</th>\n      <th>dsi</th>\n      <th>dpi</th>\n      <th>diseaseid</th>\n      <th>diseasename</th>\n      <th>diseasetype</th>\n      <th>diseaseclass</th>\n      <th>diseasesemantictype</th>\n      <th>...</th>\n      <th>consequence</th>\n      <th>alleles</th>\n      <th>class</th>\n      <th>af_exome</th>\n      <th>alt_ref_exome</th>\n      <th>af_genome</th>\n      <th>alt_ref_genome</th>\n      <th>gene_id_y</th>\n      <th>source_id</th>\n      <th>uniprot_acc</th>\n    </tr>\n  </thead>\n  <tbody>\n    <tr>\n      <th>0</th>\n      <td>rs1000005</td>\n      <td>21</td>\n      <td>33060745</td>\n      <td>NaN</td>\n      <td>NaN</td>\n      <td>C0200638</td>\n      <td>Eosinophil count procedure</td>\n      <td>phenotype</td>\n      <td>NaN</td>\n      <td>Laboratory Procedure</td>\n      <td>...</td>\n      <td>intron variant</td>\n      <td>G/C</td>\n      <td>snv</td>\n      <td>NaN</td>\n      <td>NaN</td>\n      <td>0.505584</td>\n      <td>G/C</td>\n      <td>NaN</td>\n      <td>NaN</td>\n      <td>NaN</td>\n    </tr>\n    <tr>\n      <th>1</th>\n      <td>rs10000770</td>\n      <td>4</td>\n      <td>142693109</td>\n      <td>1.000</td>\n      <td>0.04</td>\n      <td>C0023467</td>\n      <td>Leukemia, Myelocytic, Acute</td>\n      <td>disease</td>\n      <td>C04</td>\n      <td>Neoplastic Process</td>\n      <td>...</td>\n      <td>intron variant</td>\n      <td>C/T</td>\n      <td>snv</td>\n      <td>NaN</td>\n      <td>NaN</td>\n      <td>0.108425</td>\n      <td>C/T</td>\n      <td>8821.0</td>\n      <td>DBSNP</td>\n      <td>O15327</td>\n    </tr>\n    <tr>\n      <th>2</th>\n      <td>rs10000770</td>\n      <td>4</td>\n      <td>142693109</td>\n      <td>1.000</td>\n      <td>0.04</td>\n      <td>C0023467</td>\n      <td>Leukemia, Myelocytic, Acute</td>\n      <td>disease</td>\n      <td>C04</td>\n      <td>Neoplastic Process</td>\n      <td>...</td>\n      <td>intron variant</td>\n      <td>C/T</td>\n      <td>snv</td>\n      <td>NaN</td>\n      <td>NaN</td>\n      <td>0.108425</td>\n      <td>C/T</td>\n      <td>8821.0</td>\n      <td>VEP</td>\n      <td>O15327</td>\n    </tr>\n    <tr>\n      <th>3</th>\n      <td>rs1000091588</td>\n      <td>11</td>\n      <td>68935374</td>\n      <td>1.000</td>\n      <td>0.12</td>\n      <td>C1858517</td>\n      <td>SPINAL MUSCULAR ATROPHY WITH RESPIRATORY DISTR...</td>\n      <td>disease</td>\n      <td>C16;C08;C10</td>\n      <td>Disease or Syndrome</td>\n      <td>...</td>\n      <td>stop gained</td>\n      <td>C/T</td>\n      <td>snv</td>\n      <td>NaN</td>\n      <td>NaN</td>\n      <td>0.000007</td>\n      <td>C/T</td>\n      <td>3508.0</td>\n      <td>VEP</td>\n      <td>P38935</td>\n    </tr>\n    <tr>\n      <th>4</th>\n      <td>rs1000091588</td>\n      <td>11</td>\n      <td>68935374</td>\n      <td>1.000</td>\n      <td>0.12</td>\n      <td>C1858517</td>\n      <td>SPINAL MUSCULAR ATROPHY WITH RESPIRATORY DISTR...</td>\n      <td>disease</td>\n      <td>C16;C08;C10</td>\n      <td>Disease or Syndrome</td>\n      <td>...</td>\n      <td>stop gained</td>\n      <td>C/T</td>\n      <td>snv</td>\n      <td>NaN</td>\n      <td>NaN</td>\n      <td>0.000007</td>\n      <td>C/T</td>\n      <td>3508.0</td>\n      <td>DBSNP</td>\n      <td>P38935</td>\n    </tr>\n    <tr>\n      <th>...</th>\n      <td>...</td>\n      <td>...</td>\n      <td>...</td>\n      <td>...</td>\n      <td>...</td>\n      <td>...</td>\n      <td>...</td>\n      <td>...</td>\n      <td>...</td>\n      <td>...</td>\n      <td>...</td>\n      <td>...</td>\n      <td>...</td>\n      <td>...</td>\n      <td>...</td>\n      <td>...</td>\n      <td>...</td>\n      <td>...</td>\n      <td>...</td>\n      <td>...</td>\n      <td>...</td>\n    </tr>\n    <tr>\n      <th>433635</th>\n      <td>rs999921351</td>\n      <td>8</td>\n      <td>86628939</td>\n      <td>1.000</td>\n      <td>0.12</td>\n      <td>C1849792</td>\n      <td>Achromatopsia 3</td>\n      <td>disease</td>\n      <td>C23;C11;C10</td>\n      <td>Disease or Syndrome</td>\n      <td>...</td>\n      <td>stop gained</td>\n      <td>C/T</td>\n      <td>snv</td>\n      <td>NaN</td>\n      <td>NaN</td>\n      <td>NaN</td>\n      <td>NaN</td>\n      <td>54714.0</td>\n      <td>VEP</td>\n      <td>Q9NQW8</td>\n    </tr>\n    <tr>\n      <th>433636</th>\n      <td>rs999943</td>\n      <td>6</td>\n      <td>33656956</td>\n      <td>1.000</td>\n      <td>0.08</td>\n      <td>C0028754</td>\n      <td>Obesity</td>\n      <td>disease</td>\n      <td>C23;C18</td>\n      <td>Disease or Syndrome</td>\n      <td>...</td>\n      <td>intron variant</td>\n      <td>A/G</td>\n      <td>snv</td>\n      <td>NaN</td>\n      <td>NaN</td>\n      <td>0.282840</td>\n      <td>A/G</td>\n      <td>3710.0</td>\n      <td>VEP</td>\n      <td>Q14573</td>\n    </tr>\n    <tr>\n      <th>433637</th>\n      <td>rs999943</td>\n      <td>6</td>\n      <td>33656956</td>\n      <td>1.000</td>\n      <td>0.08</td>\n      <td>C0028754</td>\n      <td>Obesity</td>\n      <td>disease</td>\n      <td>C23;C18</td>\n      <td>Disease or Syndrome</td>\n      <td>...</td>\n      <td>intron variant</td>\n      <td>A/G</td>\n      <td>snv</td>\n      <td>NaN</td>\n      <td>NaN</td>\n      <td>0.282840</td>\n      <td>A/G</td>\n      <td>3710.0</td>\n      <td>DBSNP</td>\n      <td>Q14573</td>\n    </tr>\n    <tr>\n      <th>433638</th>\n      <td>rs999944</td>\n      <td>2</td>\n      <td>64822719</td>\n      <td>1.000</td>\n      <td>0.08</td>\n      <td>C0520679</td>\n      <td>Sleep Apnea, Obstructive</td>\n      <td>disease</td>\n      <td>C08;C10</td>\n      <td>Disease or Syndrome</td>\n      <td>...</td>\n      <td>intergenic variant</td>\n      <td>A/G</td>\n      <td>snv</td>\n      <td>NaN</td>\n      <td>NaN</td>\n      <td>0.833959</td>\n      <td>A/G</td>\n      <td>NaN</td>\n      <td>NaN</td>\n      <td>NaN</td>\n    </tr>\n    <tr>\n      <th>433639</th>\n      <td>rs9999820</td>\n      <td>4</td>\n      <td>155197173</td>\n      <td>0.925</td>\n      <td>0.08</td>\n      <td>C0085215</td>\n      <td>Ovarian Failure, Premature</td>\n      <td>disease</td>\n      <td>C13;C19</td>\n      <td>Disease or Syndrome</td>\n      <td>...</td>\n      <td>intron variant</td>\n      <td>A/G</td>\n      <td>snv</td>\n      <td>NaN</td>\n      <td>NaN</td>\n      <td>0.664027</td>\n      <td>A/G</td>\n      <td>4887.0</td>\n      <td>DBSNP</td>\n      <td>P49146</td>\n    </tr>\n  </tbody>\n</table>\n<p>433640 rows × 28 columns</p>\n</div>"
     },
     "metadata": {},
     "execution_count": 10
    }
   ],
   "source": [
    "disgenet_total = disgenet_vdas.merge(variant_gene, on=['snp_id', 'gene_name'], how='left')\n",
    "disgenet_total"
   ]
  },
  {
   "cell_type": "code",
   "execution_count": 11,
   "metadata": {},
   "outputs": [],
   "source": [
    "disgenet_total = disgenet_total.drop(columns=['gene_id_y', 'alt_ref_genome'])  # gene_id ya esta y alt_ref_genome es la col de alleles\n",
    "disgenet_total = disgenet_total.rename(columns= {'gene_id_x': 'gene_id'})"
   ]
  },
  {
   "cell_type": "code",
   "execution_count": 12,
   "metadata": {},
   "outputs": [
    {
     "output_type": "execute_result",
     "data": {
      "text/plain": [
       "Index(['snp_id', 'chromosome', 'position', 'dsi', 'dpi', 'diseaseid',\n",
       "       'diseasename', 'diseasetype', 'diseaseclass', 'diseasesemantictype',\n",
       "       'score', 'ei', 'yearinitial', 'yearfinal', 'nofpmids', 'source',\n",
       "       'gene_name', 'gene_id', 'consequence', 'alleles', 'class', 'af_exome',\n",
       "       'alt_ref_exome', 'af_genome', 'source_id', 'uniprot_acc'],\n",
       "      dtype='object')"
      ]
     },
     "metadata": {},
     "execution_count": 12
    }
   ],
   "source": [
    "disgenet_total.columns"
   ]
  },
  {
   "cell_type": "code",
   "execution_count": 13,
   "metadata": {},
   "outputs": [],
   "source": [
    "disgenet_total.gene_id = disgenet_total.gene_id.map(lambda x: str(x).split(';')[0] if x != np.nan else x)\r\n",
    "disgenet_total.gene_id = disgenet_total.gene_id.apply(float) # no me deja convertir la serie en int porque hay nans (que son floats de numpy)"
   ]
  },
  {
   "cell_type": "code",
   "execution_count": 14,
   "metadata": {},
   "outputs": [
    {
     "output_type": "execute_result",
     "data": {
      "text/plain": [
       "0         101930746.0\n",
       "1              8821.0\n",
       "2              8821.0\n",
       "3              3508.0\n",
       "4              3508.0\n",
       "             ...     \n",
       "433635        54714.0\n",
       "433636         3710.0\n",
       "433637         3710.0\n",
       "433638            NaN\n",
       "433639         4887.0\n",
       "Name: gene_id, Length: 433640, dtype: float64"
      ]
     },
     "metadata": {},
     "execution_count": 14
    }
   ],
   "source": [
    "disgenet_total.gene_id"
   ]
  },
  {
   "cell_type": "code",
   "execution_count": 15,
   "metadata": {},
   "outputs": [
    {
     "output_type": "stream",
     "name": "stdout",
     "text": [
      "<class 'pandas.core.frame.DataFrame'>\nInt64Index: 433640 entries, 0 to 433639\nData columns (total 26 columns):\n #   Column               Non-Null Count   Dtype  \n---  ------               --------------   -----  \n 0   snp_id               433640 non-null  object \n 1   chromosome           433640 non-null  object \n 2   position             433640 non-null  int64  \n 3   dsi                  331869 non-null  float64\n 4   dpi                  301020 non-null  float64\n 5   diseaseid            433640 non-null  object \n 6   diseasename          433640 non-null  object \n 7   diseasetype          433640 non-null  object \n 8   diseaseclass         275362 non-null  object \n 9   diseasesemantictype  433640 non-null  object \n 10  score                433640 non-null  float64\n 11  ei                   289998 non-null  float64\n 12  yearinitial          289998 non-null  float64\n 13  yearfinal            289998 non-null  float64\n 14  nofpmids             433640 non-null  int64  \n 15  source               433640 non-null  object \n 16  gene_name            398088 non-null  object \n 17  gene_id              398088 non-null  float64\n 18  consequence          433640 non-null  object \n 19  alleles              433640 non-null  object \n 20  class                433640 non-null  object \n 21  af_exome             94952 non-null   object \n 22  alt_ref_exome        94952 non-null   object \n 23  af_genome            190966 non-null  float64\n 24  source_id            350276 non-null  object \n 25  uniprot_acc          350276 non-null  object \ndtypes: float64(8), int64(2), object(16)\nmemory usage: 89.3+ MB\n"
     ]
    }
   ],
   "source": [
    "disgenet_total.info()"
   ]
  },
  {
   "cell_type": "code",
   "execution_count": 60,
   "metadata": {},
   "outputs": [
    {
     "output_type": "execute_result",
     "data": {
      "text/plain": [
       "False"
      ]
     },
     "metadata": {},
     "execution_count": 60
    }
   ],
   "source": [
    "disgenet_total.duplicated().any()"
   ]
  },
  {
   "cell_type": "code",
   "execution_count": 16,
   "metadata": {},
   "outputs": [],
   "source": [
    "head = disgenet_total.head(100)"
   ]
  },
  {
   "source": [
    "## Dividir la tabla total en distintos subsets: Genes; Diseases; Stats"
   ],
   "cell_type": "markdown",
   "metadata": {}
  },
  {
   "cell_type": "code",
   "execution_count": 17,
   "metadata": {},
   "outputs": [],
   "source": [
    "disgenet_total_genes = disgenet_total[['snp_id', 'uniprot_acc', 'gene_name', 'gene_id', 'chromosome', 'position', 'alleles', 'class', 'source', 'consequence']]"
   ]
  },
  {
   "cell_type": "code",
   "execution_count": 18,
   "metadata": {},
   "outputs": [],
   "source": [
    "disgenet_total_disease = disgenet_total[['snp_id', 'gene_name', 'gene_id', 'diseaseid', 'diseasename', 'diseasetype', 'diseaseclass', 'diseasesemantictype',\n",
    "                                        'source', 'consequence', 'alleles', 'class', 'af_exome']]"
   ]
  },
  {
   "cell_type": "code",
   "execution_count": 19,
   "metadata": {},
   "outputs": [],
   "source": [
    "disgenet_total_stat = disgenet_total[['snp_id','alleles', 'dsi', 'dpi', 'score', 'ei', 'yearinitial', 'yearfinal',\n",
    "                                        'nofpmids', 'af_exome',  'alt_ref_exome', 'af_genome','source_id']]"
   ]
  },
  {
   "cell_type": "code",
   "execution_count": 61,
   "metadata": {},
   "outputs": [
    {
     "output_type": "execute_result",
     "data": {
      "text/plain": [
       "253260"
      ]
     },
     "metadata": {},
     "execution_count": 61
    }
   ],
   "source": [
    "disgenet_total_genes.duplicated().sum()"
   ]
  },
  {
   "source": [
    "_________"
   ],
   "cell_type": "markdown",
   "metadata": {}
  },
  {
   "source": [
    "## Procesar tablas de disgenet con las consultas en VEP"
   ],
   "cell_type": "markdown",
   "metadata": {}
  },
  {
   "cell_type": "code",
   "execution_count": 20,
   "metadata": {},
   "outputs": [],
   "source": [
    "# Esta tabla trae un snp por fila\n",
    "cols1 = ['snp_id', 'allele_string', 'start_genome', 'end_genome', 'chromosome', 'assembly', 'most_severe_consequence', 'transcript_consequences']\n",
    "rsid_data = pd.read_csv('rsid_data.txt', sep= '\\t', names= cols1, skiprows= 1)"
   ]
  },
  {
   "cell_type": "code",
   "execution_count": 21,
   "metadata": {},
   "outputs": [
    {
     "output_type": "execute_result",
     "data": {
      "text/plain": [
       "          snp_id allele_string  start_genome  end_genome chromosome assembly  \\\n",
       "0     rs10015979           A/G       3107715     3107715          4   GRCh38   \n",
       "1     rs10023020           G/A     121803449   121803449          4   GRCh38   \n",
       "2     rs10030552         C/A/G     140051110   140051110          4   GRCh38   \n",
       "3     rs10038058         A/G/T     111107582   111107582          5   GRCh38   \n",
       "4     rs10038177         C/A/T     111100751   111100751          5   GRCh38   \n",
       "...          ...           ...           ...         ...        ...      ...   \n",
       "6828    rs927292           C/G      68792124    68792124         14   GRCh38   \n",
       "6829   rs9283429           C/T     240398647   240398647          1   GRCh38   \n",
       "6830   rs9287233         A/C/T     240398427   240398427          1   GRCh38   \n",
       "6831   rs9287237         G/A/T     240433914   240433914          1   GRCh38   \n",
       "6832   rs9287838         G/A/C     163728494   163728494          2   GRCh38   \n",
       "\n",
       "     most_severe_consequence transcript_consequences  \n",
       "0             intron_variant                       -  \n",
       "1             intron_variant                       -  \n",
       "2             intron_variant                       -  \n",
       "3             intron_variant                       -  \n",
       "4             intron_variant                       -  \n",
       "...                      ...                     ...  \n",
       "6828          intron_variant                       -  \n",
       "6829          intron_variant                       -  \n",
       "6830          intron_variant                       -  \n",
       "6831          intron_variant                       -  \n",
       "6832          intron_variant                       -  \n",
       "\n",
       "[6833 rows x 8 columns]"
      ],
      "text/html": "<div>\n<style scoped>\n    .dataframe tbody tr th:only-of-type {\n        vertical-align: middle;\n    }\n\n    .dataframe tbody tr th {\n        vertical-align: top;\n    }\n\n    .dataframe thead th {\n        text-align: right;\n    }\n</style>\n<table border=\"1\" class=\"dataframe\">\n  <thead>\n    <tr style=\"text-align: right;\">\n      <th></th>\n      <th>snp_id</th>\n      <th>allele_string</th>\n      <th>start_genome</th>\n      <th>end_genome</th>\n      <th>chromosome</th>\n      <th>assembly</th>\n      <th>most_severe_consequence</th>\n      <th>transcript_consequences</th>\n    </tr>\n  </thead>\n  <tbody>\n    <tr>\n      <th>0</th>\n      <td>rs10015979</td>\n      <td>A/G</td>\n      <td>3107715</td>\n      <td>3107715</td>\n      <td>4</td>\n      <td>GRCh38</td>\n      <td>intron_variant</td>\n      <td>-</td>\n    </tr>\n    <tr>\n      <th>1</th>\n      <td>rs10023020</td>\n      <td>G/A</td>\n      <td>121803449</td>\n      <td>121803449</td>\n      <td>4</td>\n      <td>GRCh38</td>\n      <td>intron_variant</td>\n      <td>-</td>\n    </tr>\n    <tr>\n      <th>2</th>\n      <td>rs10030552</td>\n      <td>C/A/G</td>\n      <td>140051110</td>\n      <td>140051110</td>\n      <td>4</td>\n      <td>GRCh38</td>\n      <td>intron_variant</td>\n      <td>-</td>\n    </tr>\n    <tr>\n      <th>3</th>\n      <td>rs10038058</td>\n      <td>A/G/T</td>\n      <td>111107582</td>\n      <td>111107582</td>\n      <td>5</td>\n      <td>GRCh38</td>\n      <td>intron_variant</td>\n      <td>-</td>\n    </tr>\n    <tr>\n      <th>4</th>\n      <td>rs10038177</td>\n      <td>C/A/T</td>\n      <td>111100751</td>\n      <td>111100751</td>\n      <td>5</td>\n      <td>GRCh38</td>\n      <td>intron_variant</td>\n      <td>-</td>\n    </tr>\n    <tr>\n      <th>...</th>\n      <td>...</td>\n      <td>...</td>\n      <td>...</td>\n      <td>...</td>\n      <td>...</td>\n      <td>...</td>\n      <td>...</td>\n      <td>...</td>\n    </tr>\n    <tr>\n      <th>6828</th>\n      <td>rs927292</td>\n      <td>C/G</td>\n      <td>68792124</td>\n      <td>68792124</td>\n      <td>14</td>\n      <td>GRCh38</td>\n      <td>intron_variant</td>\n      <td>-</td>\n    </tr>\n    <tr>\n      <th>6829</th>\n      <td>rs9283429</td>\n      <td>C/T</td>\n      <td>240398647</td>\n      <td>240398647</td>\n      <td>1</td>\n      <td>GRCh38</td>\n      <td>intron_variant</td>\n      <td>-</td>\n    </tr>\n    <tr>\n      <th>6830</th>\n      <td>rs9287233</td>\n      <td>A/C/T</td>\n      <td>240398427</td>\n      <td>240398427</td>\n      <td>1</td>\n      <td>GRCh38</td>\n      <td>intron_variant</td>\n      <td>-</td>\n    </tr>\n    <tr>\n      <th>6831</th>\n      <td>rs9287237</td>\n      <td>G/A/T</td>\n      <td>240433914</td>\n      <td>240433914</td>\n      <td>1</td>\n      <td>GRCh38</td>\n      <td>intron_variant</td>\n      <td>-</td>\n    </tr>\n    <tr>\n      <th>6832</th>\n      <td>rs9287838</td>\n      <td>G/A/C</td>\n      <td>163728494</td>\n      <td>163728494</td>\n      <td>2</td>\n      <td>GRCh38</td>\n      <td>intron_variant</td>\n      <td>-</td>\n    </tr>\n  </tbody>\n</table>\n<p>6833 rows × 8 columns</p>\n</div>"
     },
     "metadata": {},
     "execution_count": 21
    }
   ],
   "source": [
    "rsid_data"
   ]
  },
  {
   "cell_type": "code",
   "execution_count": 25,
   "metadata": {},
   "outputs": [
    {
     "output_type": "execute_result",
     "data": {
      "text/plain": [
       "False"
      ]
     },
     "metadata": {},
     "execution_count": 25
    }
   ],
   "source": [
    "rsid_data.snp_id.isnull().any()"
   ]
  },
  {
   "cell_type": "code",
   "execution_count": 26,
   "metadata": {},
   "outputs": [
    {
     "output_type": "execute_result",
     "data": {
      "text/plain": [
       "rs254271        10\n",
       "rs587776589     10\n",
       "rs1555791188    10\n",
       "rs527236094     10\n",
       "rs869312187     10\n",
       "                ..\n",
       "rs869025662      1\n",
       "rs1555534147     1\n",
       "rs1555611110     1\n",
       "rs1567552637     1\n",
       "rs1057519989     1\n",
       "Name: snp_id, Length: 5794, dtype: int64"
      ]
     },
     "metadata": {},
     "execution_count": 26
    }
   ],
   "source": [
    "rsid_data.snp_id.value_counts()"
   ]
  },
  {
   "cell_type": "code",
   "execution_count": 27,
   "metadata": {},
   "outputs": [
    {
     "output_type": "execute_result",
     "data": {
      "text/plain": [
       "           snp_id     allele_string  start_genome  end_genome  \\\n",
       "4839  rs587776589  CCGGAAGCAGGCC/CC      54128344    54128356   \n",
       "4840  rs587776589  CCGGAAGCAGGCC/CC      54128465    54128477   \n",
       "4841  rs587776589  CCGGAAGCAGGCC/CC      54128465    54128477   \n",
       "4842  rs587776589  CCGGAAGCAGGCC/CC      54128465    54128477   \n",
       "4843  rs587776589  CCGGAAGCAGGCC/CC      54128465    54128477   \n",
       "4844  rs587776589  CCGGAAGCAGGCC/CC      54128465    54128477   \n",
       "4845  rs587776589  CCGGAAGCAGGCC/CC      54128465    54128477   \n",
       "4846  rs587776589  CCGGAAGCAGGCC/CC      54128465    54128477   \n",
       "4847  rs587776589  CCGGAAGCAGGCC/CC      54128465    54128477   \n",
       "4848  rs587776589  CCGGAAGCAGGCC/CC      54128465    54128477   \n",
       "\n",
       "                       chromosome assembly most_severe_consequence  \\\n",
       "4839                           19   GRCh38      frameshift_variant   \n",
       "4840   CHR_HSCHR19LRC_COX1_CTG3_1   GRCh38      frameshift_variant   \n",
       "4841   CHR_HSCHR19LRC_COX2_CTG3_1   GRCh38      frameshift_variant   \n",
       "4842  CHR_HSCHR19LRC_LRC_I_CTG3_1   GRCh38      frameshift_variant   \n",
       "4843  CHR_HSCHR19LRC_LRC_J_CTG3_1   GRCh38      frameshift_variant   \n",
       "4844  CHR_HSCHR19LRC_LRC_S_CTG3_1   GRCh38      frameshift_variant   \n",
       "4845  CHR_HSCHR19LRC_LRC_T_CTG3_1   GRCh38      frameshift_variant   \n",
       "4846   CHR_HSCHR19LRC_PGF1_CTG3_1   GRCh38      frameshift_variant   \n",
       "4847   CHR_HSCHR19LRC_PGF2_CTG3_1   GRCh38      frameshift_variant   \n",
       "4848         CHR_HSCHR19_4_CTG3_1   GRCh38      frameshift_variant   \n",
       "\n",
       "     transcript_consequences  \n",
       "4839                       -  \n",
       "4840                       -  \n",
       "4841                       -  \n",
       "4842                       -  \n",
       "4843                       -  \n",
       "4844                       -  \n",
       "4845                       -  \n",
       "4846                       -  \n",
       "4847                       -  \n",
       "4848                       -  "
      ],
      "text/html": "<div>\n<style scoped>\n    .dataframe tbody tr th:only-of-type {\n        vertical-align: middle;\n    }\n\n    .dataframe tbody tr th {\n        vertical-align: top;\n    }\n\n    .dataframe thead th {\n        text-align: right;\n    }\n</style>\n<table border=\"1\" class=\"dataframe\">\n  <thead>\n    <tr style=\"text-align: right;\">\n      <th></th>\n      <th>snp_id</th>\n      <th>allele_string</th>\n      <th>start_genome</th>\n      <th>end_genome</th>\n      <th>chromosome</th>\n      <th>assembly</th>\n      <th>most_severe_consequence</th>\n      <th>transcript_consequences</th>\n    </tr>\n  </thead>\n  <tbody>\n    <tr>\n      <th>4839</th>\n      <td>rs587776589</td>\n      <td>CCGGAAGCAGGCC/CC</td>\n      <td>54128344</td>\n      <td>54128356</td>\n      <td>19</td>\n      <td>GRCh38</td>\n      <td>frameshift_variant</td>\n      <td>-</td>\n    </tr>\n    <tr>\n      <th>4840</th>\n      <td>rs587776589</td>\n      <td>CCGGAAGCAGGCC/CC</td>\n      <td>54128465</td>\n      <td>54128477</td>\n      <td>CHR_HSCHR19LRC_COX1_CTG3_1</td>\n      <td>GRCh38</td>\n      <td>frameshift_variant</td>\n      <td>-</td>\n    </tr>\n    <tr>\n      <th>4841</th>\n      <td>rs587776589</td>\n      <td>CCGGAAGCAGGCC/CC</td>\n      <td>54128465</td>\n      <td>54128477</td>\n      <td>CHR_HSCHR19LRC_COX2_CTG3_1</td>\n      <td>GRCh38</td>\n      <td>frameshift_variant</td>\n      <td>-</td>\n    </tr>\n    <tr>\n      <th>4842</th>\n      <td>rs587776589</td>\n      <td>CCGGAAGCAGGCC/CC</td>\n      <td>54128465</td>\n      <td>54128477</td>\n      <td>CHR_HSCHR19LRC_LRC_I_CTG3_1</td>\n      <td>GRCh38</td>\n      <td>frameshift_variant</td>\n      <td>-</td>\n    </tr>\n    <tr>\n      <th>4843</th>\n      <td>rs587776589</td>\n      <td>CCGGAAGCAGGCC/CC</td>\n      <td>54128465</td>\n      <td>54128477</td>\n      <td>CHR_HSCHR19LRC_LRC_J_CTG3_1</td>\n      <td>GRCh38</td>\n      <td>frameshift_variant</td>\n      <td>-</td>\n    </tr>\n    <tr>\n      <th>4844</th>\n      <td>rs587776589</td>\n      <td>CCGGAAGCAGGCC/CC</td>\n      <td>54128465</td>\n      <td>54128477</td>\n      <td>CHR_HSCHR19LRC_LRC_S_CTG3_1</td>\n      <td>GRCh38</td>\n      <td>frameshift_variant</td>\n      <td>-</td>\n    </tr>\n    <tr>\n      <th>4845</th>\n      <td>rs587776589</td>\n      <td>CCGGAAGCAGGCC/CC</td>\n      <td>54128465</td>\n      <td>54128477</td>\n      <td>CHR_HSCHR19LRC_LRC_T_CTG3_1</td>\n      <td>GRCh38</td>\n      <td>frameshift_variant</td>\n      <td>-</td>\n    </tr>\n    <tr>\n      <th>4846</th>\n      <td>rs587776589</td>\n      <td>CCGGAAGCAGGCC/CC</td>\n      <td>54128465</td>\n      <td>54128477</td>\n      <td>CHR_HSCHR19LRC_PGF1_CTG3_1</td>\n      <td>GRCh38</td>\n      <td>frameshift_variant</td>\n      <td>-</td>\n    </tr>\n    <tr>\n      <th>4847</th>\n      <td>rs587776589</td>\n      <td>CCGGAAGCAGGCC/CC</td>\n      <td>54128465</td>\n      <td>54128477</td>\n      <td>CHR_HSCHR19LRC_PGF2_CTG3_1</td>\n      <td>GRCh38</td>\n      <td>frameshift_variant</td>\n      <td>-</td>\n    </tr>\n    <tr>\n      <th>4848</th>\n      <td>rs587776589</td>\n      <td>CCGGAAGCAGGCC/CC</td>\n      <td>54128465</td>\n      <td>54128477</td>\n      <td>CHR_HSCHR19_4_CTG3_1</td>\n      <td>GRCh38</td>\n      <td>frameshift_variant</td>\n      <td>-</td>\n    </tr>\n  </tbody>\n</table>\n</div>"
     },
     "metadata": {},
     "execution_count": 27
    }
   ],
   "source": [
    "rsid_data[rsid_data.snp_id == 'rs587776589']"
   ]
  },
  {
   "cell_type": "code",
   "execution_count": 22,
   "metadata": {},
   "outputs": [],
   "source": [
    "# Aqui esta desglosado por alelo. Por ejemplo, para C/A/G/T habra tres filas para ese snp\n",
    "cols2 = ['snp_id', 'allele_string', 'type', 'ensembl_gene', 'allele_alt', 'from_to_aa', 'cdna_start', 'cdna_end', 'codons', 'impact', 'gene_name', 'cds_start', 'cds_end', 'aa_start', 'aa_end', 'consequence']\n",
    "allele_data = pd.read_csv('allele_data.txt', sep= '\\t', names= cols2, skiprows= 1)"
   ]
  },
  {
   "cell_type": "code",
   "execution_count": 24,
   "metadata": {},
   "outputs": [
    {
     "output_type": "stream",
     "name": "stdout",
     "text": [
      "allele_data snps unicos:5665, rsid_data snps unicos:5794\n"
     ]
    }
   ],
   "source": [
    "print(f'allele_data snps unicos:{len(allele_data.snp_id.unique())}, rsid_data snps unicos:{len(rsid_data.snp_id.unique())}')"
   ]
  },
  {
   "source": [
    "## Separo el from y to aa en cols"
   ],
   "cell_type": "markdown",
   "metadata": {}
  },
  {
   "cell_type": "code",
   "execution_count": 29,
   "metadata": {},
   "outputs": [],
   "source": [
    "allele_data['from_aa'] = allele_data.from_to_aa.map(lambda x: x.split('/') if x != '-' else x)\n",
    "allele_data['to_aa'] = allele_data.from_aa.str[1]\n",
    "allele_data['from_aa'] = allele_data.from_aa.str[0]"
   ]
  },
  {
   "cell_type": "code",
   "execution_count": 30,
   "metadata": {},
   "outputs": [],
   "source": [
    "# Para variantes sinonimas\n",
    "for i in allele_data.index:\n",
    "    if allele_data.consequence[i] == 'synonymous_variant' and allele_data.from_aa[i] != '-':\n",
    "        allele_data.to_aa[i] = allele_data.from_aa[i]"
   ]
  },
  {
   "source": [
    "## Mergear *disgenet_total_genes* con *allele_data* para poder agregar los cambios en proteina"
   ],
   "cell_type": "markdown",
   "metadata": {}
  },
  {
   "cell_type": "code",
   "execution_count": 31,
   "metadata": {},
   "outputs": [
    {
     "output_type": "stream",
     "name": "stdout",
     "text": [
      "<class 'pandas.core.frame.DataFrame'>\nRangeIndex: 11236 entries, 0 to 11235\nData columns (total 18 columns):\n #   Column         Non-Null Count  Dtype \n---  ------         --------------  ----- \n 0   snp_id         11236 non-null  object\n 1   allele_string  11236 non-null  object\n 2   type           11236 non-null  object\n 3   ensembl_gene   11236 non-null  object\n 4   allele_alt     11236 non-null  object\n 5   from_to_aa     11236 non-null  object\n 6   cdna_start     11236 non-null  object\n 7   cdna_end       11236 non-null  object\n 8   codons         11236 non-null  object\n 9   impact         11236 non-null  object\n 10  gene_name      11236 non-null  object\n 11  cds_start      11236 non-null  object\n 12  cds_end        11236 non-null  object\n 13  aa_start       11236 non-null  object\n 14  aa_end         11236 non-null  object\n 15  consequence    11236 non-null  object\n 16  from_aa        11236 non-null  object\n 17  to_aa          5661 non-null   object\ndtypes: object(18)\nmemory usage: 1.5+ MB\n"
     ]
    }
   ],
   "source": [
    "allele_data.info()"
   ]
  },
  {
   "cell_type": "code",
   "execution_count": 32,
   "metadata": {},
   "outputs": [
    {
     "output_type": "stream",
     "name": "stdout",
     "text": [
      "<class 'pandas.core.frame.DataFrame'>\nInt64Index: 433640 entries, 0 to 433639\nData columns (total 10 columns):\n #   Column       Non-Null Count   Dtype  \n---  ------       --------------   -----  \n 0   snp_id       433640 non-null  object \n 1   uniprot_acc  350276 non-null  object \n 2   gene_name    398088 non-null  object \n 3   gene_id      398088 non-null  float64\n 4   chromosome   433640 non-null  object \n 5   position     433640 non-null  int64  \n 6   alleles      433640 non-null  object \n 7   class        433640 non-null  object \n 8   source       433640 non-null  object \n 9   consequence  433640 non-null  object \ndtypes: float64(1), int64(1), object(8)\nmemory usage: 36.4+ MB\n"
     ]
    }
   ],
   "source": [
    "disgenet_total_genes.info()"
   ]
  },
  {
   "cell_type": "code",
   "execution_count": 64,
   "metadata": {},
   "outputs": [
    {
     "output_type": "execute_result",
     "data": {
      "text/plain": [
       "              snp_id uniprot_acc  gene_name      gene_id chromosome  \\\n",
       "0          rs1000005         NaN  LINC00945  101930746.0         21   \n",
       "1         rs10000770      O15327     INPP4B       8821.0          4   \n",
       "3       rs1000091588      P38935    IGHMBP2       3508.0         11   \n",
       "5          rs1000096      P57682       KLF3      51274.0          4   \n",
       "7         rs10001106         NaN        NaN          NaN          4   \n",
       "...              ...         ...        ...          ...        ...   \n",
       "433632     rs9999118      Q8NB90     SPATA5     166378.0          4   \n",
       "433634   rs999921351      Q9NQW8      CNGB3      54714.0          8   \n",
       "433636      rs999943      Q14573      ITPR3       3710.0          6   \n",
       "433638      rs999944         NaN        NaN          NaN          2   \n",
       "433639     rs9999820      P49146      NPY2R       4887.0          4   \n",
       "\n",
       "         position alleles class          source         consequence  \n",
       "0        33060745     G/C   snv         GWASCAT      intron variant  \n",
       "1       142693109     C/T   snv         GWASCAT      intron variant  \n",
       "3        68935374     C/T   snv         CLINVAR         stop gained  \n",
       "5        38691214     C/T   snv         GWASCAT      intron variant  \n",
       "7        10125817   T/A;C   snv          GWASDB  intergenic variant  \n",
       "...           ...     ...   ...             ...                 ...  \n",
       "433632  123130312     A/G   snv  GWASCAT;GWASDB      intron variant  \n",
       "433634   86628939     C/T   snv         CLINVAR         stop gained  \n",
       "433636   33656956     A/G   snv  GWASCAT;GWASDB      intron variant  \n",
       "433638   64822719     A/G   snv         GWASCAT  intergenic variant  \n",
       "433639  155197173     A/G   snv         GWASCAT      intron variant  \n",
       "\n",
       "[180380 rows x 10 columns]"
      ],
      "text/html": "<div>\n<style scoped>\n    .dataframe tbody tr th:only-of-type {\n        vertical-align: middle;\n    }\n\n    .dataframe tbody tr th {\n        vertical-align: top;\n    }\n\n    .dataframe thead th {\n        text-align: right;\n    }\n</style>\n<table border=\"1\" class=\"dataframe\">\n  <thead>\n    <tr style=\"text-align: right;\">\n      <th></th>\n      <th>snp_id</th>\n      <th>uniprot_acc</th>\n      <th>gene_name</th>\n      <th>gene_id</th>\n      <th>chromosome</th>\n      <th>position</th>\n      <th>alleles</th>\n      <th>class</th>\n      <th>source</th>\n      <th>consequence</th>\n    </tr>\n  </thead>\n  <tbody>\n    <tr>\n      <th>0</th>\n      <td>rs1000005</td>\n      <td>NaN</td>\n      <td>LINC00945</td>\n      <td>101930746.0</td>\n      <td>21</td>\n      <td>33060745</td>\n      <td>G/C</td>\n      <td>snv</td>\n      <td>GWASCAT</td>\n      <td>intron variant</td>\n    </tr>\n    <tr>\n      <th>1</th>\n      <td>rs10000770</td>\n      <td>O15327</td>\n      <td>INPP4B</td>\n      <td>8821.0</td>\n      <td>4</td>\n      <td>142693109</td>\n      <td>C/T</td>\n      <td>snv</td>\n      <td>GWASCAT</td>\n      <td>intron variant</td>\n    </tr>\n    <tr>\n      <th>3</th>\n      <td>rs1000091588</td>\n      <td>P38935</td>\n      <td>IGHMBP2</td>\n      <td>3508.0</td>\n      <td>11</td>\n      <td>68935374</td>\n      <td>C/T</td>\n      <td>snv</td>\n      <td>CLINVAR</td>\n      <td>stop gained</td>\n    </tr>\n    <tr>\n      <th>5</th>\n      <td>rs1000096</td>\n      <td>P57682</td>\n      <td>KLF3</td>\n      <td>51274.0</td>\n      <td>4</td>\n      <td>38691214</td>\n      <td>C/T</td>\n      <td>snv</td>\n      <td>GWASCAT</td>\n      <td>intron variant</td>\n    </tr>\n    <tr>\n      <th>7</th>\n      <td>rs10001106</td>\n      <td>NaN</td>\n      <td>NaN</td>\n      <td>NaN</td>\n      <td>4</td>\n      <td>10125817</td>\n      <td>T/A;C</td>\n      <td>snv</td>\n      <td>GWASDB</td>\n      <td>intergenic variant</td>\n    </tr>\n    <tr>\n      <th>...</th>\n      <td>...</td>\n      <td>...</td>\n      <td>...</td>\n      <td>...</td>\n      <td>...</td>\n      <td>...</td>\n      <td>...</td>\n      <td>...</td>\n      <td>...</td>\n      <td>...</td>\n    </tr>\n    <tr>\n      <th>433632</th>\n      <td>rs9999118</td>\n      <td>Q8NB90</td>\n      <td>SPATA5</td>\n      <td>166378.0</td>\n      <td>4</td>\n      <td>123130312</td>\n      <td>A/G</td>\n      <td>snv</td>\n      <td>GWASCAT;GWASDB</td>\n      <td>intron variant</td>\n    </tr>\n    <tr>\n      <th>433634</th>\n      <td>rs999921351</td>\n      <td>Q9NQW8</td>\n      <td>CNGB3</td>\n      <td>54714.0</td>\n      <td>8</td>\n      <td>86628939</td>\n      <td>C/T</td>\n      <td>snv</td>\n      <td>CLINVAR</td>\n      <td>stop gained</td>\n    </tr>\n    <tr>\n      <th>433636</th>\n      <td>rs999943</td>\n      <td>Q14573</td>\n      <td>ITPR3</td>\n      <td>3710.0</td>\n      <td>6</td>\n      <td>33656956</td>\n      <td>A/G</td>\n      <td>snv</td>\n      <td>GWASCAT;GWASDB</td>\n      <td>intron variant</td>\n    </tr>\n    <tr>\n      <th>433638</th>\n      <td>rs999944</td>\n      <td>NaN</td>\n      <td>NaN</td>\n      <td>NaN</td>\n      <td>2</td>\n      <td>64822719</td>\n      <td>A/G</td>\n      <td>snv</td>\n      <td>GWASCAT</td>\n      <td>intergenic variant</td>\n    </tr>\n    <tr>\n      <th>433639</th>\n      <td>rs9999820</td>\n      <td>P49146</td>\n      <td>NPY2R</td>\n      <td>4887.0</td>\n      <td>4</td>\n      <td>155197173</td>\n      <td>A/G</td>\n      <td>snv</td>\n      <td>GWASCAT</td>\n      <td>intron variant</td>\n    </tr>\n  </tbody>\n</table>\n<p>180380 rows × 10 columns</p>\n</div>"
     },
     "metadata": {},
     "execution_count": 64
    }
   ],
   "source": [
    "disgenet_total_genes[~disgenet_total_genes.duplicated()]"
   ]
  },
  {
   "cell_type": "code",
   "execution_count": 79,
   "metadata": {},
   "outputs": [
    {
     "output_type": "stream",
     "name": "stdout",
     "text": [
      "4:3107715:3107715\n4:121803449:121803449\n4:140051110:140051110\n5:111107582:111107582\n5:111100751:111100751\n5:171411280:171411280\n5:111102658:111102658\n5:111090753:111090753\n3:49855463:49855463\n5:111117147:111117147\n"
     ]
    }
   ],
   "source": [
    "# para generar coord genomicas\n",
    "'''for i in range(10):\n",
    "    print(str(rsid_data.chromosome[i]) + ':' + str(rsid_data.start_genome[i]) + ':' + str(rsid_data.end_genome[i]))'''"
   ]
  },
  {
   "cell_type": "code",
   "execution_count": 35,
   "metadata": {},
   "outputs": [
    {
     "output_type": "execute_result",
     "data": {
      "text/plain": [
       "Index(['snp_id', 'allele_string', 'type', 'ensembl_gene', 'allele_alt',\n",
       "       'from_to_aa', 'cdna_start', 'cdna_end', 'codons', 'impact', 'gene_name',\n",
       "       'cds_start', 'cds_end', 'aa_start', 'aa_end', 'consequence', 'from_aa',\n",
       "       'to_aa'],\n",
       "      dtype='object')"
      ]
     },
     "metadata": {},
     "execution_count": 35
    }
   ],
   "source": [
    "allele_data.columns"
   ]
  },
  {
   "cell_type": "code",
   "execution_count": 39,
   "metadata": {},
   "outputs": [],
   "source": [
    "allele_subset = allele_data[['snp_id','gene_name', 'type', 'allele_string', 'allele_alt', 'from_aa', 'to_aa', 'aa_start', 'aa_end', 'consequence']].copy()"
   ]
  },
  {
   "cell_type": "code",
   "execution_count": 48,
   "metadata": {},
   "outputs": [
    {
     "output_type": "execute_result",
     "data": {
      "text/plain": [
       "              snp_id uniprot_acc gene_name_x      gene_id chromosome  \\\n",
       "0          rs1000005         NaN   LINC00945  101930746.0         21   \n",
       "1         rs10000770      O15327      INPP4B       8821.0          4   \n",
       "2         rs10000770      O15327      INPP4B       8821.0          4   \n",
       "3       rs1000091588      P38935     IGHMBP2       3508.0         11   \n",
       "4       rs1000091588      P38935     IGHMBP2       3508.0         11   \n",
       "...              ...         ...         ...          ...        ...   \n",
       "461779   rs999921351      Q9NQW8       CNGB3      54714.0          8   \n",
       "461780      rs999943      Q14573       ITPR3       3710.0          6   \n",
       "461781      rs999943      Q14573       ITPR3       3710.0          6   \n",
       "461782      rs999944         NaN         NaN          NaN          2   \n",
       "461783     rs9999820      P49146       NPY2R       4887.0          4   \n",
       "\n",
       "         position alleles class          source       consequence_x  \\\n",
       "0        33060745     G/C   snv         GWASCAT      intron variant   \n",
       "1       142693109     C/T   snv         GWASCAT      intron variant   \n",
       "2       142693109     C/T   snv         GWASCAT      intron variant   \n",
       "3        68935374     C/T   snv         CLINVAR         stop gained   \n",
       "4        68935374     C/T   snv         CLINVAR         stop gained   \n",
       "...           ...     ...   ...             ...                 ...   \n",
       "461779   86628939     C/T   snv         CLINVAR         stop gained   \n",
       "461780   33656956     A/G   snv  GWASCAT;GWASDB      intron variant   \n",
       "461781   33656956     A/G   snv  GWASCAT;GWASDB      intron variant   \n",
       "461782   64822719     A/G   snv         GWASCAT  intergenic variant   \n",
       "461783  155197173     A/G   snv         GWASCAT      intron variant   \n",
       "\n",
       "       gene_name_y type allele_string allele_alt from_aa to_aa aa_start  \\\n",
       "0              NaN  NaN           NaN        NaN     NaN   NaN      NaN   \n",
       "1              NaN  NaN           NaN        NaN     NaN   NaN      NaN   \n",
       "2              NaN  NaN           NaN        NaN     NaN   NaN      NaN   \n",
       "3              NaN  NaN           NaN        NaN     NaN   NaN      NaN   \n",
       "4              NaN  NaN           NaN        NaN     NaN   NaN      NaN   \n",
       "...            ...  ...           ...        ...     ...   ...      ...   \n",
       "461779         NaN  NaN           NaN        NaN     NaN   NaN      NaN   \n",
       "461780         NaN  NaN           NaN        NaN     NaN   NaN      NaN   \n",
       "461781         NaN  NaN           NaN        NaN     NaN   NaN      NaN   \n",
       "461782         NaN  NaN           NaN        NaN     NaN   NaN      NaN   \n",
       "461783         NaN  NaN           NaN        NaN     NaN   NaN      NaN   \n",
       "\n",
       "       aa_end consequence_y  \n",
       "0         NaN           NaN  \n",
       "1         NaN           NaN  \n",
       "2         NaN           NaN  \n",
       "3         NaN           NaN  \n",
       "4         NaN           NaN  \n",
       "...       ...           ...  \n",
       "461779    NaN           NaN  \n",
       "461780    NaN           NaN  \n",
       "461781    NaN           NaN  \n",
       "461782    NaN           NaN  \n",
       "461783    NaN           NaN  \n",
       "\n",
       "[461784 rows x 19 columns]"
      ],
      "text/html": "<div>\n<style scoped>\n    .dataframe tbody tr th:only-of-type {\n        vertical-align: middle;\n    }\n\n    .dataframe tbody tr th {\n        vertical-align: top;\n    }\n\n    .dataframe thead th {\n        text-align: right;\n    }\n</style>\n<table border=\"1\" class=\"dataframe\">\n  <thead>\n    <tr style=\"text-align: right;\">\n      <th></th>\n      <th>snp_id</th>\n      <th>uniprot_acc</th>\n      <th>gene_name_x</th>\n      <th>gene_id</th>\n      <th>chromosome</th>\n      <th>position</th>\n      <th>alleles</th>\n      <th>class</th>\n      <th>source</th>\n      <th>consequence_x</th>\n      <th>gene_name_y</th>\n      <th>type</th>\n      <th>allele_string</th>\n      <th>allele_alt</th>\n      <th>from_aa</th>\n      <th>to_aa</th>\n      <th>aa_start</th>\n      <th>aa_end</th>\n      <th>consequence_y</th>\n    </tr>\n  </thead>\n  <tbody>\n    <tr>\n      <th>0</th>\n      <td>rs1000005</td>\n      <td>NaN</td>\n      <td>LINC00945</td>\n      <td>101930746.0</td>\n      <td>21</td>\n      <td>33060745</td>\n      <td>G/C</td>\n      <td>snv</td>\n      <td>GWASCAT</td>\n      <td>intron variant</td>\n      <td>NaN</td>\n      <td>NaN</td>\n      <td>NaN</td>\n      <td>NaN</td>\n      <td>NaN</td>\n      <td>NaN</td>\n      <td>NaN</td>\n      <td>NaN</td>\n      <td>NaN</td>\n    </tr>\n    <tr>\n      <th>1</th>\n      <td>rs10000770</td>\n      <td>O15327</td>\n      <td>INPP4B</td>\n      <td>8821.0</td>\n      <td>4</td>\n      <td>142693109</td>\n      <td>C/T</td>\n      <td>snv</td>\n      <td>GWASCAT</td>\n      <td>intron variant</td>\n      <td>NaN</td>\n      <td>NaN</td>\n      <td>NaN</td>\n      <td>NaN</td>\n      <td>NaN</td>\n      <td>NaN</td>\n      <td>NaN</td>\n      <td>NaN</td>\n      <td>NaN</td>\n    </tr>\n    <tr>\n      <th>2</th>\n      <td>rs10000770</td>\n      <td>O15327</td>\n      <td>INPP4B</td>\n      <td>8821.0</td>\n      <td>4</td>\n      <td>142693109</td>\n      <td>C/T</td>\n      <td>snv</td>\n      <td>GWASCAT</td>\n      <td>intron variant</td>\n      <td>NaN</td>\n      <td>NaN</td>\n      <td>NaN</td>\n      <td>NaN</td>\n      <td>NaN</td>\n      <td>NaN</td>\n      <td>NaN</td>\n      <td>NaN</td>\n      <td>NaN</td>\n    </tr>\n    <tr>\n      <th>3</th>\n      <td>rs1000091588</td>\n      <td>P38935</td>\n      <td>IGHMBP2</td>\n      <td>3508.0</td>\n      <td>11</td>\n      <td>68935374</td>\n      <td>C/T</td>\n      <td>snv</td>\n      <td>CLINVAR</td>\n      <td>stop gained</td>\n      <td>NaN</td>\n      <td>NaN</td>\n      <td>NaN</td>\n      <td>NaN</td>\n      <td>NaN</td>\n      <td>NaN</td>\n      <td>NaN</td>\n      <td>NaN</td>\n      <td>NaN</td>\n    </tr>\n    <tr>\n      <th>4</th>\n      <td>rs1000091588</td>\n      <td>P38935</td>\n      <td>IGHMBP2</td>\n      <td>3508.0</td>\n      <td>11</td>\n      <td>68935374</td>\n      <td>C/T</td>\n      <td>snv</td>\n      <td>CLINVAR</td>\n      <td>stop gained</td>\n      <td>NaN</td>\n      <td>NaN</td>\n      <td>NaN</td>\n      <td>NaN</td>\n      <td>NaN</td>\n      <td>NaN</td>\n      <td>NaN</td>\n      <td>NaN</td>\n      <td>NaN</td>\n    </tr>\n    <tr>\n      <th>...</th>\n      <td>...</td>\n      <td>...</td>\n      <td>...</td>\n      <td>...</td>\n      <td>...</td>\n      <td>...</td>\n      <td>...</td>\n      <td>...</td>\n      <td>...</td>\n      <td>...</td>\n      <td>...</td>\n      <td>...</td>\n      <td>...</td>\n      <td>...</td>\n      <td>...</td>\n      <td>...</td>\n      <td>...</td>\n      <td>...</td>\n      <td>...</td>\n    </tr>\n    <tr>\n      <th>461779</th>\n      <td>rs999921351</td>\n      <td>Q9NQW8</td>\n      <td>CNGB3</td>\n      <td>54714.0</td>\n      <td>8</td>\n      <td>86628939</td>\n      <td>C/T</td>\n      <td>snv</td>\n      <td>CLINVAR</td>\n      <td>stop gained</td>\n      <td>NaN</td>\n      <td>NaN</td>\n      <td>NaN</td>\n      <td>NaN</td>\n      <td>NaN</td>\n      <td>NaN</td>\n      <td>NaN</td>\n      <td>NaN</td>\n      <td>NaN</td>\n    </tr>\n    <tr>\n      <th>461780</th>\n      <td>rs999943</td>\n      <td>Q14573</td>\n      <td>ITPR3</td>\n      <td>3710.0</td>\n      <td>6</td>\n      <td>33656956</td>\n      <td>A/G</td>\n      <td>snv</td>\n      <td>GWASCAT;GWASDB</td>\n      <td>intron variant</td>\n      <td>NaN</td>\n      <td>NaN</td>\n      <td>NaN</td>\n      <td>NaN</td>\n      <td>NaN</td>\n      <td>NaN</td>\n      <td>NaN</td>\n      <td>NaN</td>\n      <td>NaN</td>\n    </tr>\n    <tr>\n      <th>461781</th>\n      <td>rs999943</td>\n      <td>Q14573</td>\n      <td>ITPR3</td>\n      <td>3710.0</td>\n      <td>6</td>\n      <td>33656956</td>\n      <td>A/G</td>\n      <td>snv</td>\n      <td>GWASCAT;GWASDB</td>\n      <td>intron variant</td>\n      <td>NaN</td>\n      <td>NaN</td>\n      <td>NaN</td>\n      <td>NaN</td>\n      <td>NaN</td>\n      <td>NaN</td>\n      <td>NaN</td>\n      <td>NaN</td>\n      <td>NaN</td>\n    </tr>\n    <tr>\n      <th>461782</th>\n      <td>rs999944</td>\n      <td>NaN</td>\n      <td>NaN</td>\n      <td>NaN</td>\n      <td>2</td>\n      <td>64822719</td>\n      <td>A/G</td>\n      <td>snv</td>\n      <td>GWASCAT</td>\n      <td>intergenic variant</td>\n      <td>NaN</td>\n      <td>NaN</td>\n      <td>NaN</td>\n      <td>NaN</td>\n      <td>NaN</td>\n      <td>NaN</td>\n      <td>NaN</td>\n      <td>NaN</td>\n      <td>NaN</td>\n    </tr>\n    <tr>\n      <th>461783</th>\n      <td>rs9999820</td>\n      <td>P49146</td>\n      <td>NPY2R</td>\n      <td>4887.0</td>\n      <td>4</td>\n      <td>155197173</td>\n      <td>A/G</td>\n      <td>snv</td>\n      <td>GWASCAT</td>\n      <td>intron variant</td>\n      <td>NaN</td>\n      <td>NaN</td>\n      <td>NaN</td>\n      <td>NaN</td>\n      <td>NaN</td>\n      <td>NaN</td>\n      <td>NaN</td>\n      <td>NaN</td>\n      <td>NaN</td>\n    </tr>\n  </tbody>\n</table>\n<p>461784 rows × 19 columns</p>\n</div>"
     },
     "metadata": {},
     "execution_count": 48
    }
   ],
   "source": [
    "disgenet_total_genes_aa = disgenet_total_genes.merge(allele_subset, on= ['snp_id'], how= 'left')\n",
    "disgenet_total_genes_aa"
   ]
  },
  {
   "cell_type": "code",
   "execution_count": 55,
   "metadata": {},
   "outputs": [
    {
     "output_type": "execute_result",
     "data": {
      "text/plain": [
       "True"
      ]
     },
     "metadata": {},
     "execution_count": 55
    }
   ],
   "source": [
    "disgenet_total_genes_aa.duplicated().any()"
   ]
  },
  {
   "cell_type": "code",
   "execution_count": 54,
   "metadata": {},
   "outputs": [
    {
     "output_type": "execute_result",
     "data": {
      "text/plain": [
       "275391"
      ]
     },
     "metadata": {},
     "execution_count": 54
    }
   ],
   "source": [
    "disgenet_total_genes_aa.duplicated().sum()"
   ]
  },
  {
   "cell_type": "code",
   "execution_count": 56,
   "metadata": {},
   "outputs": [
    {
     "output_type": "execute_result",
     "data": {
      "text/plain": [
       "              snp_id uniprot_acc gene_name_x      gene_id chromosome  \\\n",
       "0          rs1000005         NaN   LINC00945  101930746.0         21   \n",
       "1         rs10000770      O15327      INPP4B       8821.0          4   \n",
       "3       rs1000091588      P38935     IGHMBP2       3508.0         11   \n",
       "5          rs1000096      P57682        KLF3      51274.0          4   \n",
       "7         rs10001106         NaN         NaN          NaN          4   \n",
       "...              ...         ...         ...          ...        ...   \n",
       "461776     rs9999118      Q8NB90      SPATA5     166378.0          4   \n",
       "461778   rs999921351      Q9NQW8       CNGB3      54714.0          8   \n",
       "461780      rs999943      Q14573       ITPR3       3710.0          6   \n",
       "461782      rs999944         NaN         NaN          NaN          2   \n",
       "461783     rs9999820      P49146       NPY2R       4887.0          4   \n",
       "\n",
       "         position alleles class          source       consequence_x  \\\n",
       "0        33060745     G/C   snv         GWASCAT      intron variant   \n",
       "1       142693109     C/T   snv         GWASCAT      intron variant   \n",
       "3        68935374     C/T   snv         CLINVAR         stop gained   \n",
       "5        38691214     C/T   snv         GWASCAT      intron variant   \n",
       "7        10125817   T/A;C   snv          GWASDB  intergenic variant   \n",
       "...           ...     ...   ...             ...                 ...   \n",
       "461776  123130312     A/G   snv  GWASCAT;GWASDB      intron variant   \n",
       "461778   86628939     C/T   snv         CLINVAR         stop gained   \n",
       "461780   33656956     A/G   snv  GWASCAT;GWASDB      intron variant   \n",
       "461782   64822719     A/G   snv         GWASCAT  intergenic variant   \n",
       "461783  155197173     A/G   snv         GWASCAT      intron variant   \n",
       "\n",
       "       gene_name_y type allele_string allele_alt from_aa to_aa aa_start  \\\n",
       "0              NaN  NaN           NaN        NaN     NaN   NaN      NaN   \n",
       "1              NaN  NaN           NaN        NaN     NaN   NaN      NaN   \n",
       "3              NaN  NaN           NaN        NaN     NaN   NaN      NaN   \n",
       "5              NaN  NaN           NaN        NaN     NaN   NaN      NaN   \n",
       "7              NaN  NaN           NaN        NaN     NaN   NaN      NaN   \n",
       "...            ...  ...           ...        ...     ...   ...      ...   \n",
       "461776         NaN  NaN           NaN        NaN     NaN   NaN      NaN   \n",
       "461778         NaN  NaN           NaN        NaN     NaN   NaN      NaN   \n",
       "461780         NaN  NaN           NaN        NaN     NaN   NaN      NaN   \n",
       "461782         NaN  NaN           NaN        NaN     NaN   NaN      NaN   \n",
       "461783         NaN  NaN           NaN        NaN     NaN   NaN      NaN   \n",
       "\n",
       "       aa_end consequence_y  \n",
       "0         NaN           NaN  \n",
       "1         NaN           NaN  \n",
       "3         NaN           NaN  \n",
       "5         NaN           NaN  \n",
       "7         NaN           NaN  \n",
       "...       ...           ...  \n",
       "461776    NaN           NaN  \n",
       "461778    NaN           NaN  \n",
       "461780    NaN           NaN  \n",
       "461782    NaN           NaN  \n",
       "461783    NaN           NaN  \n",
       "\n",
       "[186393 rows x 19 columns]"
      ],
      "text/html": "<div>\n<style scoped>\n    .dataframe tbody tr th:only-of-type {\n        vertical-align: middle;\n    }\n\n    .dataframe tbody tr th {\n        vertical-align: top;\n    }\n\n    .dataframe thead th {\n        text-align: right;\n    }\n</style>\n<table border=\"1\" class=\"dataframe\">\n  <thead>\n    <tr style=\"text-align: right;\">\n      <th></th>\n      <th>snp_id</th>\n      <th>uniprot_acc</th>\n      <th>gene_name_x</th>\n      <th>gene_id</th>\n      <th>chromosome</th>\n      <th>position</th>\n      <th>alleles</th>\n      <th>class</th>\n      <th>source</th>\n      <th>consequence_x</th>\n      <th>gene_name_y</th>\n      <th>type</th>\n      <th>allele_string</th>\n      <th>allele_alt</th>\n      <th>from_aa</th>\n      <th>to_aa</th>\n      <th>aa_start</th>\n      <th>aa_end</th>\n      <th>consequence_y</th>\n    </tr>\n  </thead>\n  <tbody>\n    <tr>\n      <th>0</th>\n      <td>rs1000005</td>\n      <td>NaN</td>\n      <td>LINC00945</td>\n      <td>101930746.0</td>\n      <td>21</td>\n      <td>33060745</td>\n      <td>G/C</td>\n      <td>snv</td>\n      <td>GWASCAT</td>\n      <td>intron variant</td>\n      <td>NaN</td>\n      <td>NaN</td>\n      <td>NaN</td>\n      <td>NaN</td>\n      <td>NaN</td>\n      <td>NaN</td>\n      <td>NaN</td>\n      <td>NaN</td>\n      <td>NaN</td>\n    </tr>\n    <tr>\n      <th>1</th>\n      <td>rs10000770</td>\n      <td>O15327</td>\n      <td>INPP4B</td>\n      <td>8821.0</td>\n      <td>4</td>\n      <td>142693109</td>\n      <td>C/T</td>\n      <td>snv</td>\n      <td>GWASCAT</td>\n      <td>intron variant</td>\n      <td>NaN</td>\n      <td>NaN</td>\n      <td>NaN</td>\n      <td>NaN</td>\n      <td>NaN</td>\n      <td>NaN</td>\n      <td>NaN</td>\n      <td>NaN</td>\n      <td>NaN</td>\n    </tr>\n    <tr>\n      <th>3</th>\n      <td>rs1000091588</td>\n      <td>P38935</td>\n      <td>IGHMBP2</td>\n      <td>3508.0</td>\n      <td>11</td>\n      <td>68935374</td>\n      <td>C/T</td>\n      <td>snv</td>\n      <td>CLINVAR</td>\n      <td>stop gained</td>\n      <td>NaN</td>\n      <td>NaN</td>\n      <td>NaN</td>\n      <td>NaN</td>\n      <td>NaN</td>\n      <td>NaN</td>\n      <td>NaN</td>\n      <td>NaN</td>\n      <td>NaN</td>\n    </tr>\n    <tr>\n      <th>5</th>\n      <td>rs1000096</td>\n      <td>P57682</td>\n      <td>KLF3</td>\n      <td>51274.0</td>\n      <td>4</td>\n      <td>38691214</td>\n      <td>C/T</td>\n      <td>snv</td>\n      <td>GWASCAT</td>\n      <td>intron variant</td>\n      <td>NaN</td>\n      <td>NaN</td>\n      <td>NaN</td>\n      <td>NaN</td>\n      <td>NaN</td>\n      <td>NaN</td>\n      <td>NaN</td>\n      <td>NaN</td>\n      <td>NaN</td>\n    </tr>\n    <tr>\n      <th>7</th>\n      <td>rs10001106</td>\n      <td>NaN</td>\n      <td>NaN</td>\n      <td>NaN</td>\n      <td>4</td>\n      <td>10125817</td>\n      <td>T/A;C</td>\n      <td>snv</td>\n      <td>GWASDB</td>\n      <td>intergenic variant</td>\n      <td>NaN</td>\n      <td>NaN</td>\n      <td>NaN</td>\n      <td>NaN</td>\n      <td>NaN</td>\n      <td>NaN</td>\n      <td>NaN</td>\n      <td>NaN</td>\n      <td>NaN</td>\n    </tr>\n    <tr>\n      <th>...</th>\n      <td>...</td>\n      <td>...</td>\n      <td>...</td>\n      <td>...</td>\n      <td>...</td>\n      <td>...</td>\n      <td>...</td>\n      <td>...</td>\n      <td>...</td>\n      <td>...</td>\n      <td>...</td>\n      <td>...</td>\n      <td>...</td>\n      <td>...</td>\n      <td>...</td>\n      <td>...</td>\n      <td>...</td>\n      <td>...</td>\n      <td>...</td>\n    </tr>\n    <tr>\n      <th>461776</th>\n      <td>rs9999118</td>\n      <td>Q8NB90</td>\n      <td>SPATA5</td>\n      <td>166378.0</td>\n      <td>4</td>\n      <td>123130312</td>\n      <td>A/G</td>\n      <td>snv</td>\n      <td>GWASCAT;GWASDB</td>\n      <td>intron variant</td>\n      <td>NaN</td>\n      <td>NaN</td>\n      <td>NaN</td>\n      <td>NaN</td>\n      <td>NaN</td>\n      <td>NaN</td>\n      <td>NaN</td>\n      <td>NaN</td>\n      <td>NaN</td>\n    </tr>\n    <tr>\n      <th>461778</th>\n      <td>rs999921351</td>\n      <td>Q9NQW8</td>\n      <td>CNGB3</td>\n      <td>54714.0</td>\n      <td>8</td>\n      <td>86628939</td>\n      <td>C/T</td>\n      <td>snv</td>\n      <td>CLINVAR</td>\n      <td>stop gained</td>\n      <td>NaN</td>\n      <td>NaN</td>\n      <td>NaN</td>\n      <td>NaN</td>\n      <td>NaN</td>\n      <td>NaN</td>\n      <td>NaN</td>\n      <td>NaN</td>\n      <td>NaN</td>\n    </tr>\n    <tr>\n      <th>461780</th>\n      <td>rs999943</td>\n      <td>Q14573</td>\n      <td>ITPR3</td>\n      <td>3710.0</td>\n      <td>6</td>\n      <td>33656956</td>\n      <td>A/G</td>\n      <td>snv</td>\n      <td>GWASCAT;GWASDB</td>\n      <td>intron variant</td>\n      <td>NaN</td>\n      <td>NaN</td>\n      <td>NaN</td>\n      <td>NaN</td>\n      <td>NaN</td>\n      <td>NaN</td>\n      <td>NaN</td>\n      <td>NaN</td>\n      <td>NaN</td>\n    </tr>\n    <tr>\n      <th>461782</th>\n      <td>rs999944</td>\n      <td>NaN</td>\n      <td>NaN</td>\n      <td>NaN</td>\n      <td>2</td>\n      <td>64822719</td>\n      <td>A/G</td>\n      <td>snv</td>\n      <td>GWASCAT</td>\n      <td>intergenic variant</td>\n      <td>NaN</td>\n      <td>NaN</td>\n      <td>NaN</td>\n      <td>NaN</td>\n      <td>NaN</td>\n      <td>NaN</td>\n      <td>NaN</td>\n      <td>NaN</td>\n      <td>NaN</td>\n    </tr>\n    <tr>\n      <th>461783</th>\n      <td>rs9999820</td>\n      <td>P49146</td>\n      <td>NPY2R</td>\n      <td>4887.0</td>\n      <td>4</td>\n      <td>155197173</td>\n      <td>A/G</td>\n      <td>snv</td>\n      <td>GWASCAT</td>\n      <td>intron variant</td>\n      <td>NaN</td>\n      <td>NaN</td>\n      <td>NaN</td>\n      <td>NaN</td>\n      <td>NaN</td>\n      <td>NaN</td>\n      <td>NaN</td>\n      <td>NaN</td>\n      <td>NaN</td>\n    </tr>\n  </tbody>\n</table>\n<p>186393 rows × 19 columns</p>\n</div>"
     },
     "metadata": {},
     "execution_count": 56
    }
   ],
   "source": [
    "disgenet_total_genes_aa.drop_duplicates()"
   ]
  },
  {
   "source": [
    "### con isin()"
   ],
   "cell_type": "markdown",
   "metadata": {}
  },
  {
   "cell_type": "code",
   "execution_count": 46,
   "metadata": {},
   "outputs": [
    {
     "output_type": "execute_result",
     "data": {
      "text/plain": [
       "           snp_id gene_name            type allele_string allele_alt from_aa  \\\n",
       "0      rs10015979       HTT  protein_coding           A/G          G       -   \n",
       "1      rs10023020    EXOSC9  protein_coding           G/A          A       -   \n",
       "2      rs10030552     MAML3  protein_coding         C/A/G          A       -   \n",
       "3      rs10030552     MAML3  protein_coding         C/A/G          G       -   \n",
       "4      rs10038058     WDR36  protein_coding         A/G/T          G       -   \n",
       "...           ...       ...             ...           ...        ...     ...   \n",
       "11231   rs9287233         -          lncRNA         A/C/T          T       -   \n",
       "11232   rs9287237      FMN2  protein_coding         G/A/T          A       -   \n",
       "11233   rs9287237      FMN2  protein_coding         G/A/T          T       -   \n",
       "11234   rs9287838      FIGN  protein_coding         G/A/C          A       -   \n",
       "11235   rs9287838      FIGN  protein_coding         G/A/C          C       -   \n",
       "\n",
       "      to_aa aa_start aa_end              consequence  \n",
       "0       NaN        -      -           intron_variant  \n",
       "1       NaN        -      -           intron_variant  \n",
       "2       NaN        -      -           intron_variant  \n",
       "3       NaN        -      -           intron_variant  \n",
       "4       NaN        -      -           intron_variant  \n",
       "...     ...      ...    ...                      ...  \n",
       "11231   NaN        -      -  downstream_gene_variant  \n",
       "11232   NaN        -      -           intron_variant  \n",
       "11233   NaN        -      -           intron_variant  \n",
       "11234   NaN        -      -           intron_variant  \n",
       "11235   NaN        -      -           intron_variant  \n",
       "\n",
       "[11236 rows x 10 columns]"
      ],
      "text/html": "<div>\n<style scoped>\n    .dataframe tbody tr th:only-of-type {\n        vertical-align: middle;\n    }\n\n    .dataframe tbody tr th {\n        vertical-align: top;\n    }\n\n    .dataframe thead th {\n        text-align: right;\n    }\n</style>\n<table border=\"1\" class=\"dataframe\">\n  <thead>\n    <tr style=\"text-align: right;\">\n      <th></th>\n      <th>snp_id</th>\n      <th>gene_name</th>\n      <th>type</th>\n      <th>allele_string</th>\n      <th>allele_alt</th>\n      <th>from_aa</th>\n      <th>to_aa</th>\n      <th>aa_start</th>\n      <th>aa_end</th>\n      <th>consequence</th>\n    </tr>\n  </thead>\n  <tbody>\n    <tr>\n      <th>0</th>\n      <td>rs10015979</td>\n      <td>HTT</td>\n      <td>protein_coding</td>\n      <td>A/G</td>\n      <td>G</td>\n      <td>-</td>\n      <td>NaN</td>\n      <td>-</td>\n      <td>-</td>\n      <td>intron_variant</td>\n    </tr>\n    <tr>\n      <th>1</th>\n      <td>rs10023020</td>\n      <td>EXOSC9</td>\n      <td>protein_coding</td>\n      <td>G/A</td>\n      <td>A</td>\n      <td>-</td>\n      <td>NaN</td>\n      <td>-</td>\n      <td>-</td>\n      <td>intron_variant</td>\n    </tr>\n    <tr>\n      <th>2</th>\n      <td>rs10030552</td>\n      <td>MAML3</td>\n      <td>protein_coding</td>\n      <td>C/A/G</td>\n      <td>A</td>\n      <td>-</td>\n      <td>NaN</td>\n      <td>-</td>\n      <td>-</td>\n      <td>intron_variant</td>\n    </tr>\n    <tr>\n      <th>3</th>\n      <td>rs10030552</td>\n      <td>MAML3</td>\n      <td>protein_coding</td>\n      <td>C/A/G</td>\n      <td>G</td>\n      <td>-</td>\n      <td>NaN</td>\n      <td>-</td>\n      <td>-</td>\n      <td>intron_variant</td>\n    </tr>\n    <tr>\n      <th>4</th>\n      <td>rs10038058</td>\n      <td>WDR36</td>\n      <td>protein_coding</td>\n      <td>A/G/T</td>\n      <td>G</td>\n      <td>-</td>\n      <td>NaN</td>\n      <td>-</td>\n      <td>-</td>\n      <td>intron_variant</td>\n    </tr>\n    <tr>\n      <th>...</th>\n      <td>...</td>\n      <td>...</td>\n      <td>...</td>\n      <td>...</td>\n      <td>...</td>\n      <td>...</td>\n      <td>...</td>\n      <td>...</td>\n      <td>...</td>\n      <td>...</td>\n    </tr>\n    <tr>\n      <th>11231</th>\n      <td>rs9287233</td>\n      <td>-</td>\n      <td>lncRNA</td>\n      <td>A/C/T</td>\n      <td>T</td>\n      <td>-</td>\n      <td>NaN</td>\n      <td>-</td>\n      <td>-</td>\n      <td>downstream_gene_variant</td>\n    </tr>\n    <tr>\n      <th>11232</th>\n      <td>rs9287237</td>\n      <td>FMN2</td>\n      <td>protein_coding</td>\n      <td>G/A/T</td>\n      <td>A</td>\n      <td>-</td>\n      <td>NaN</td>\n      <td>-</td>\n      <td>-</td>\n      <td>intron_variant</td>\n    </tr>\n    <tr>\n      <th>11233</th>\n      <td>rs9287237</td>\n      <td>FMN2</td>\n      <td>protein_coding</td>\n      <td>G/A/T</td>\n      <td>T</td>\n      <td>-</td>\n      <td>NaN</td>\n      <td>-</td>\n      <td>-</td>\n      <td>intron_variant</td>\n    </tr>\n    <tr>\n      <th>11234</th>\n      <td>rs9287838</td>\n      <td>FIGN</td>\n      <td>protein_coding</td>\n      <td>G/A/C</td>\n      <td>A</td>\n      <td>-</td>\n      <td>NaN</td>\n      <td>-</td>\n      <td>-</td>\n      <td>intron_variant</td>\n    </tr>\n    <tr>\n      <th>11235</th>\n      <td>rs9287838</td>\n      <td>FIGN</td>\n      <td>protein_coding</td>\n      <td>G/A/C</td>\n      <td>C</td>\n      <td>-</td>\n      <td>NaN</td>\n      <td>-</td>\n      <td>-</td>\n      <td>intron_variant</td>\n    </tr>\n  </tbody>\n</table>\n<p>11236 rows × 10 columns</p>\n</div>"
     },
     "metadata": {},
     "execution_count": 46
    }
   ],
   "source": [
    "allele_subset[allele_subset.snp_id.isin(disgenet_total_genes.snp_id)] # todos los snp de allele_data estan en disgenet total"
   ]
  },
  {
   "cell_type": "code",
   "execution_count": 47,
   "metadata": {},
   "outputs": [
    {
     "output_type": "execute_result",
     "data": {
      "text/plain": [
       "             uniprot_acc gene_name_left      gene_id chromosome   position  \\\n",
       "snp_id                                                                       \n",
       "rs1000005            NaN      LINC00945  101930746.0         21   33060745   \n",
       "rs10000770        O15327         INPP4B       8821.0          4  142693109   \n",
       "rs10000770        O15327         INPP4B       8821.0          4  142693109   \n",
       "rs1000091588      P38935        IGHMBP2       3508.0         11   68935374   \n",
       "rs1000091588      P38935        IGHMBP2       3508.0         11   68935374   \n",
       "...                  ...            ...          ...        ...        ...   \n",
       "rs999921351       Q9NQW8          CNGB3      54714.0          8   86628939   \n",
       "rs999943          Q14573          ITPR3       3710.0          6   33656956   \n",
       "rs999943          Q14573          ITPR3       3710.0          6   33656956   \n",
       "rs999944             NaN            NaN          NaN          2   64822719   \n",
       "rs9999820         P49146          NPY2R       4887.0          4  155197173   \n",
       "\n",
       "             alleles class          source    consequence_left  \\\n",
       "snp_id                                                           \n",
       "rs1000005        G/C   snv         GWASCAT      intron variant   \n",
       "rs10000770       C/T   snv         GWASCAT      intron variant   \n",
       "rs10000770       C/T   snv         GWASCAT      intron variant   \n",
       "rs1000091588     C/T   snv         CLINVAR         stop gained   \n",
       "rs1000091588     C/T   snv         CLINVAR         stop gained   \n",
       "...              ...   ...             ...                 ...   \n",
       "rs999921351      C/T   snv         CLINVAR         stop gained   \n",
       "rs999943         A/G   snv  GWASCAT;GWASDB      intron variant   \n",
       "rs999943         A/G   snv  GWASCAT;GWASDB      intron variant   \n",
       "rs999944         A/G   snv         GWASCAT  intergenic variant   \n",
       "rs9999820        A/G   snv         GWASCAT      intron variant   \n",
       "\n",
       "             gene_name_right type allele_string allele_alt from_aa to_aa  \\\n",
       "snp_id                                                                     \n",
       "rs1000005                NaN  NaN           NaN        NaN     NaN   NaN   \n",
       "rs10000770               NaN  NaN           NaN        NaN     NaN   NaN   \n",
       "rs10000770               NaN  NaN           NaN        NaN     NaN   NaN   \n",
       "rs1000091588             NaN  NaN           NaN        NaN     NaN   NaN   \n",
       "rs1000091588             NaN  NaN           NaN        NaN     NaN   NaN   \n",
       "...                      ...  ...           ...        ...     ...   ...   \n",
       "rs999921351              NaN  NaN           NaN        NaN     NaN   NaN   \n",
       "rs999943                 NaN  NaN           NaN        NaN     NaN   NaN   \n",
       "rs999943                 NaN  NaN           NaN        NaN     NaN   NaN   \n",
       "rs999944                 NaN  NaN           NaN        NaN     NaN   NaN   \n",
       "rs9999820                NaN  NaN           NaN        NaN     NaN   NaN   \n",
       "\n",
       "             aa_start aa_end consequence_right  \n",
       "snp_id                                          \n",
       "rs1000005         NaN    NaN               NaN  \n",
       "rs10000770        NaN    NaN               NaN  \n",
       "rs10000770        NaN    NaN               NaN  \n",
       "rs1000091588      NaN    NaN               NaN  \n",
       "rs1000091588      NaN    NaN               NaN  \n",
       "...               ...    ...               ...  \n",
       "rs999921351       NaN    NaN               NaN  \n",
       "rs999943          NaN    NaN               NaN  \n",
       "rs999943          NaN    NaN               NaN  \n",
       "rs999944          NaN    NaN               NaN  \n",
       "rs9999820         NaN    NaN               NaN  \n",
       "\n",
       "[461784 rows x 18 columns]"
      ],
      "text/html": "<div>\n<style scoped>\n    .dataframe tbody tr th:only-of-type {\n        vertical-align: middle;\n    }\n\n    .dataframe tbody tr th {\n        vertical-align: top;\n    }\n\n    .dataframe thead th {\n        text-align: right;\n    }\n</style>\n<table border=\"1\" class=\"dataframe\">\n  <thead>\n    <tr style=\"text-align: right;\">\n      <th></th>\n      <th>uniprot_acc</th>\n      <th>gene_name_left</th>\n      <th>gene_id</th>\n      <th>chromosome</th>\n      <th>position</th>\n      <th>alleles</th>\n      <th>class</th>\n      <th>source</th>\n      <th>consequence_left</th>\n      <th>gene_name_right</th>\n      <th>type</th>\n      <th>allele_string</th>\n      <th>allele_alt</th>\n      <th>from_aa</th>\n      <th>to_aa</th>\n      <th>aa_start</th>\n      <th>aa_end</th>\n      <th>consequence_right</th>\n    </tr>\n    <tr>\n      <th>snp_id</th>\n      <th></th>\n      <th></th>\n      <th></th>\n      <th></th>\n      <th></th>\n      <th></th>\n      <th></th>\n      <th></th>\n      <th></th>\n      <th></th>\n      <th></th>\n      <th></th>\n      <th></th>\n      <th></th>\n      <th></th>\n      <th></th>\n      <th></th>\n      <th></th>\n    </tr>\n  </thead>\n  <tbody>\n    <tr>\n      <th>rs1000005</th>\n      <td>NaN</td>\n      <td>LINC00945</td>\n      <td>101930746.0</td>\n      <td>21</td>\n      <td>33060745</td>\n      <td>G/C</td>\n      <td>snv</td>\n      <td>GWASCAT</td>\n      <td>intron variant</td>\n      <td>NaN</td>\n      <td>NaN</td>\n      <td>NaN</td>\n      <td>NaN</td>\n      <td>NaN</td>\n      <td>NaN</td>\n      <td>NaN</td>\n      <td>NaN</td>\n      <td>NaN</td>\n    </tr>\n    <tr>\n      <th>rs10000770</th>\n      <td>O15327</td>\n      <td>INPP4B</td>\n      <td>8821.0</td>\n      <td>4</td>\n      <td>142693109</td>\n      <td>C/T</td>\n      <td>snv</td>\n      <td>GWASCAT</td>\n      <td>intron variant</td>\n      <td>NaN</td>\n      <td>NaN</td>\n      <td>NaN</td>\n      <td>NaN</td>\n      <td>NaN</td>\n      <td>NaN</td>\n      <td>NaN</td>\n      <td>NaN</td>\n      <td>NaN</td>\n    </tr>\n    <tr>\n      <th>rs10000770</th>\n      <td>O15327</td>\n      <td>INPP4B</td>\n      <td>8821.0</td>\n      <td>4</td>\n      <td>142693109</td>\n      <td>C/T</td>\n      <td>snv</td>\n      <td>GWASCAT</td>\n      <td>intron variant</td>\n      <td>NaN</td>\n      <td>NaN</td>\n      <td>NaN</td>\n      <td>NaN</td>\n      <td>NaN</td>\n      <td>NaN</td>\n      <td>NaN</td>\n      <td>NaN</td>\n      <td>NaN</td>\n    </tr>\n    <tr>\n      <th>rs1000091588</th>\n      <td>P38935</td>\n      <td>IGHMBP2</td>\n      <td>3508.0</td>\n      <td>11</td>\n      <td>68935374</td>\n      <td>C/T</td>\n      <td>snv</td>\n      <td>CLINVAR</td>\n      <td>stop gained</td>\n      <td>NaN</td>\n      <td>NaN</td>\n      <td>NaN</td>\n      <td>NaN</td>\n      <td>NaN</td>\n      <td>NaN</td>\n      <td>NaN</td>\n      <td>NaN</td>\n      <td>NaN</td>\n    </tr>\n    <tr>\n      <th>rs1000091588</th>\n      <td>P38935</td>\n      <td>IGHMBP2</td>\n      <td>3508.0</td>\n      <td>11</td>\n      <td>68935374</td>\n      <td>C/T</td>\n      <td>snv</td>\n      <td>CLINVAR</td>\n      <td>stop gained</td>\n      <td>NaN</td>\n      <td>NaN</td>\n      <td>NaN</td>\n      <td>NaN</td>\n      <td>NaN</td>\n      <td>NaN</td>\n      <td>NaN</td>\n      <td>NaN</td>\n      <td>NaN</td>\n    </tr>\n    <tr>\n      <th>...</th>\n      <td>...</td>\n      <td>...</td>\n      <td>...</td>\n      <td>...</td>\n      <td>...</td>\n      <td>...</td>\n      <td>...</td>\n      <td>...</td>\n      <td>...</td>\n      <td>...</td>\n      <td>...</td>\n      <td>...</td>\n      <td>...</td>\n      <td>...</td>\n      <td>...</td>\n      <td>...</td>\n      <td>...</td>\n      <td>...</td>\n    </tr>\n    <tr>\n      <th>rs999921351</th>\n      <td>Q9NQW8</td>\n      <td>CNGB3</td>\n      <td>54714.0</td>\n      <td>8</td>\n      <td>86628939</td>\n      <td>C/T</td>\n      <td>snv</td>\n      <td>CLINVAR</td>\n      <td>stop gained</td>\n      <td>NaN</td>\n      <td>NaN</td>\n      <td>NaN</td>\n      <td>NaN</td>\n      <td>NaN</td>\n      <td>NaN</td>\n      <td>NaN</td>\n      <td>NaN</td>\n      <td>NaN</td>\n    </tr>\n    <tr>\n      <th>rs999943</th>\n      <td>Q14573</td>\n      <td>ITPR3</td>\n      <td>3710.0</td>\n      <td>6</td>\n      <td>33656956</td>\n      <td>A/G</td>\n      <td>snv</td>\n      <td>GWASCAT;GWASDB</td>\n      <td>intron variant</td>\n      <td>NaN</td>\n      <td>NaN</td>\n      <td>NaN</td>\n      <td>NaN</td>\n      <td>NaN</td>\n      <td>NaN</td>\n      <td>NaN</td>\n      <td>NaN</td>\n      <td>NaN</td>\n    </tr>\n    <tr>\n      <th>rs999943</th>\n      <td>Q14573</td>\n      <td>ITPR3</td>\n      <td>3710.0</td>\n      <td>6</td>\n      <td>33656956</td>\n      <td>A/G</td>\n      <td>snv</td>\n      <td>GWASCAT;GWASDB</td>\n      <td>intron variant</td>\n      <td>NaN</td>\n      <td>NaN</td>\n      <td>NaN</td>\n      <td>NaN</td>\n      <td>NaN</td>\n      <td>NaN</td>\n      <td>NaN</td>\n      <td>NaN</td>\n      <td>NaN</td>\n    </tr>\n    <tr>\n      <th>rs999944</th>\n      <td>NaN</td>\n      <td>NaN</td>\n      <td>NaN</td>\n      <td>2</td>\n      <td>64822719</td>\n      <td>A/G</td>\n      <td>snv</td>\n      <td>GWASCAT</td>\n      <td>intergenic variant</td>\n      <td>NaN</td>\n      <td>NaN</td>\n      <td>NaN</td>\n      <td>NaN</td>\n      <td>NaN</td>\n      <td>NaN</td>\n      <td>NaN</td>\n      <td>NaN</td>\n      <td>NaN</td>\n    </tr>\n    <tr>\n      <th>rs9999820</th>\n      <td>P49146</td>\n      <td>NPY2R</td>\n      <td>4887.0</td>\n      <td>4</td>\n      <td>155197173</td>\n      <td>A/G</td>\n      <td>snv</td>\n      <td>GWASCAT</td>\n      <td>intron variant</td>\n      <td>NaN</td>\n      <td>NaN</td>\n      <td>NaN</td>\n      <td>NaN</td>\n      <td>NaN</td>\n      <td>NaN</td>\n      <td>NaN</td>\n      <td>NaN</td>\n      <td>NaN</td>\n    </tr>\n  </tbody>\n</table>\n<p>461784 rows × 18 columns</p>\n</div>"
     },
     "metadata": {},
     "execution_count": 47
    }
   ],
   "source": [
    "disgenet_total_genes.set_index('snp_id').join(allele_subset.set_index('snp_id'),lsuffix='_left', rsuffix='_right') # deberia ser lo mismo que con merge"
   ]
  },
  {
   "cell_type": "code",
   "execution_count": null,
   "metadata": {},
   "outputs": [],
   "source": []
  }
 ]
}