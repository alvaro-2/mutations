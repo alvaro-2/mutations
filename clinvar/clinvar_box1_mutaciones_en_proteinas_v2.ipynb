{
 "metadata": {
  "language_info": {
   "codemirror_mode": {
    "name": "ipython",
    "version": 3
   },
   "file_extension": ".py",
   "mimetype": "text/x-python",
   "name": "python",
   "nbconvert_exporter": "python",
   "pygments_lexer": "ipython3",
   "version": "3.9.4"
  },
  "orig_nbformat": 2,
  "kernelspec": {
   "name": "python394jvsc74a57bd01f8d80d535cfd832283e4e3a1095d2ce45fe6627336684f2622a1965babb2f1c",
   "display_name": "Python 3.9.4 64-bit (windows store)"
  },
  "metadata": {
   "interpreter": {
    "hash": "1f8d80d535cfd832283e4e3a1095d2ce45fe6627336684f2622a1965babb2f1c"
   }
  }
 },
 "nbformat": 4,
 "nbformat_minor": 2,
 "cells": [
  {
   "cell_type": "code",
   "execution_count": 447,
   "metadata": {},
   "outputs": [],
   "source": [
    "import pandas as pd\n",
    "import numpy as np\n",
    "import re\n",
    "from Bio.SeqUtils import seq3"
   ]
  },
  {
   "cell_type": "code",
   "execution_count": 339,
   "metadata": {},
   "outputs": [],
   "source": [
    "# dataset: Variant Summary de ClinVar (es la db completa)\n",
    "vs = pd.read_csv('G:\\My Drive\\FIL\\project\\datasets\\\\vs.csv.gz')"
   ]
  },
  {
   "cell_type": "code",
   "execution_count": 340,
   "metadata": {},
   "outputs": [],
   "source": [
    "# Box1 database\n",
    "box = pd.read_csv('box1_proteins.csv')"
   ]
  },
  {
   "source": [
    "# Merge box1 con clinvar dataset"
   ],
   "cell_type": "markdown",
   "metadata": {}
  },
  {
   "cell_type": "code",
   "execution_count": 341,
   "metadata": {},
   "outputs": [],
   "source": [
    "# Mergeo con el dataset completo\n",
    "box1_clinvar_total = box.merge(vs)"
   ]
  },
  {
   "cell_type": "code",
   "execution_count": 342,
   "metadata": {},
   "outputs": [
    {
     "output_type": "execute_result",
     "data": {
      "text/plain": [
       "396"
      ]
     },
     "metadata": {},
     "execution_count": 342
    }
   ],
   "source": [
    "len(box1_clinvar_total.uniprot.unique())"
   ]
  },
  {
   "cell_type": "code",
   "execution_count": 343,
   "metadata": {},
   "outputs": [
    {
     "output_type": "execute_result",
     "data": {
      "text/plain": [
       "0        NM_002542.5\n",
       "1        NM_003656.5\n",
       "2        NM_002542.5\n",
       "3        NM_002542.5\n",
       "4        NM_003981.4\n",
       "            ...     \n",
       "40991    NM_007363.5\n",
       "40992    NM_007363.5\n",
       "40993    NM_007363.5\n",
       "40994    NM_005066.3\n",
       "40995    NM_005066.3\n",
       "Name: nuccore_id, Length: 40996, dtype: object"
      ]
     },
     "metadata": {},
     "execution_count": 343
    }
   ],
   "source": [
    "# Para generar una col con los codigos NM... estos son los id de los transcriptos\n",
    "box1_clinvar_total['nuccore_id'] = box1_clinvar_total.name.map(lambda x: re.findall('[A-Z]{2}\\_[0-9]+\\.[0-9]*', x))\n",
    "box1_clinvar_total['nuccore_id'] = box1_clinvar_total.nuccore_id.str[0]\n",
    "box1_clinvar_total.nuccore_id"
   ]
  },
  {
   "source": [
    "## Primero: entradas que tienen cambio en proteinas (p. ...)"
   ],
   "cell_type": "markdown",
   "metadata": {}
  },
  {
   "cell_type": "code",
   "execution_count": 344,
   "metadata": {},
   "outputs": [
    {
     "output_type": "execute_result",
     "data": {
      "text/plain": [
       "0         Arg46Gln\n",
       "1              NaN\n",
       "2              NaN\n",
       "3              NaN\n",
       "4              NaN\n",
       "           ...    \n",
       "40991          NaN\n",
       "40992    Thr424Ser\n",
       "40993      Pro83fs\n",
       "40994      Thr411=\n",
       "40995      Gln564=\n",
       "Name: cambio, Length: 40996, dtype: object"
      ]
     },
     "metadata": {},
     "execution_count": 344
    }
   ],
   "source": [
    "box1_clinvar_total['cambio'] = box1_clinvar_total.name.map(lambda x: re.findall('\\(p\\..*\\)$', x))\n",
    "box1_clinvar_total['cambio'] = box1_clinvar_total.cambio.str[0]\n",
    "box1_clinvar_total.cambio = box1_clinvar_total.cambio.str.strip('()')  # para quitar los parentesis\n",
    "box1_clinvar_total.cambio = box1_clinvar_total.cambio.str.lstrip('p.')                             # se usa lstrip xq strip tambien saca las p del final \n",
    "box1_clinvar_total.cambio"
   ]
  },
  {
   "source": [
    "## Posibilidades de cambio\n",
    "------------------------------- \n",
    "- *=*      es un sinonimo, el mismo aa  \n",
    "- *aa*       cambia a otro aa\n",
    "- *Ter*      se inserta un aa de terminacion: nonsense mutation\n",
    "- *fs*       frameshift, corrimiento del marco de lectura\n",
    "- *ins*      insercion de uno o mas aa en esa posicion\n",
    "- *del*      delecion de uno o mas aa en esa posicion\n",
    "- *delins*   delecion de uno o un segmento de aa e insercion de uno o mas aa  \n",
    "\n",
    "Las nomenclaturas para cada tipo de variante se pueden consultar en Sequence Variant Nomenclature (https://varnomen.hgvs.org/)"
   ],
   "cell_type": "markdown",
   "metadata": {}
  },
  {
   "cell_type": "code",
   "execution_count": 345,
   "metadata": {},
   "outputs": [
    {
     "output_type": "execute_result",
     "data": {
      "text/plain": [
       "500    Glu1828Ter\n",
       "501      Ala1861=\n",
       "502    Thr1869Met\n",
       "503      Ala1893=\n",
       "504    Val1894Ile\n",
       "505    Leu1919Pro\n",
       "506    Arg1939Trp\n",
       "507      Val1994=\n",
       "508    Gln1998Ter\n",
       "509      Gln2031=\n",
       "510      Ser2032=\n",
       "511      Leu2034=\n",
       "512    Asp2065Glu\n",
       "513      Ala2092=\n",
       "514      Asp2116=\n",
       "515    Gly2117Arg\n",
       "516      Ala2149=\n",
       "517    Pro2193Leu\n",
       "518      Pro2296=\n",
       "519    Arg2400Cys\n",
       "520      Asp2427=\n",
       "521    Glu2428Lys\n",
       "522    His2435Arg\n",
       "523    Gly2437Arg\n",
       "524    Asp2448Asn\n",
       "525    Asp2452Tyr\n",
       "526    Arg2514Gln\n",
       "527      Thr2531=\n",
       "528    Ala2545Val\n",
       "529      Ser2548=\n",
       "530    Arg2663His\n",
       "531      Cys2705=\n",
       "532    His2710Tyr\n",
       "533      His2710=\n",
       "534    Arg2855Gln\n",
       "535      Leu2857=\n",
       "536      Glu2874=\n",
       "537    His2929Pro\n",
       "538    Ala2977Val\n",
       "539    Ser2984Cys\n",
       "540    Ala2986Thr\n",
       "541    Thr2993Ala\n",
       "542      Arg2999=\n",
       "543    Val3012Ala\n",
       "544    His3017Gln\n",
       "545    Asn3052Ser\n",
       "546    Glu3102Lys\n",
       "547    Arg3111Cys\n",
       "548           NaN\n",
       "549    Leu3137Val\n",
       "Name: cambio, dtype: object"
      ]
     },
     "metadata": {},
     "execution_count": 345
    }
   ],
   "source": [
    "box1_clinvar_total.cambio[500:550]"
   ]
  },
  {
   "cell_type": "code",
   "execution_count": 346,
   "metadata": {},
   "outputs": [
    {
     "output_type": "execute_result",
     "data": {
      "text/plain": [
       "0         Arg46Gln\n",
       "6           Thr94=\n",
       "17       Tyr511Cys\n",
       "27       Glu220Ter\n",
       "28        Ala630fs\n",
       "           ...    \n",
       "40990    Arg153Ter\n",
       "40992    Thr424Ser\n",
       "40993      Pro83fs\n",
       "40994      Thr411=\n",
       "40995      Gln564=\n",
       "Name: cambio, Length: 31563, dtype: object"
      ]
     },
     "metadata": {},
     "execution_count": 346
    }
   ],
   "source": [
    "# saco los nans\n",
    "box1_clinvar_total = box1_clinvar_total[box1_clinvar_total.cambio.notnull()]\n",
    "box1_clinvar_total.cambio"
   ]
  },
  {
   "cell_type": "code",
   "execution_count": 347,
   "metadata": {},
   "outputs": [
    {
     "output_type": "execute_result",
     "data": {
      "text/plain": [
       "31563"
      ]
     },
     "metadata": {},
     "execution_count": 347
    }
   ],
   "source": [
    "len(box1_clinvar_total)"
   ]
  },
  {
   "source": [
    "## synonyms: son mutaciones silent. No las tenremos en cuenta"
   ],
   "cell_type": "markdown",
   "metadata": {}
  },
  {
   "cell_type": "code",
   "execution_count": 348,
   "metadata": {},
   "outputs": [],
   "source": [
    "# separo las mutaciones sinonimas, no las tenemos en cuenta xq no surgen cambio en la proteina\n",
    "syn = box1_clinvar_total[box1_clinvar_total.cambio.str.endswith('=')]"
   ]
  },
  {
   "cell_type": "code",
   "execution_count": 349,
   "metadata": {},
   "outputs": [
    {
     "output_type": "stream",
     "name": "stdout",
     "text": [
      "8432\n"
     ]
    },
    {
     "output_type": "execute_result",
     "data": {
      "text/plain": [
       "   uniprot      organism                           mlo     hgnc_id  length  \\\n",
       "6   O43663  Homo sapiens                      pcg body   HGNC:9341     620   \n",
       "38  O95613  Homo sapiens  centrosome/spindle pole body  HGNC:16068    3336   \n",
       "39  O95613  Homo sapiens  centrosome/spindle pole body  HGNC:16068    3336   \n",
       "44  O95613  Homo sapiens  centrosome/spindle pole body  HGNC:16068    3336   \n",
       "45  O95613  Homo sapiens  centrosome/spindle pole body  HGNC:16068    3336   \n",
       "\n",
       "                                             sequence  geneid genesymbol  \\\n",
       "6   MRRSEVLAEESIVCLQKALNHLREIWELIGIPEDQRLQRTEVVKKH...    9055       PRC1   \n",
       "38  MEVEQEQRRRKVEAGRTKLAHFRQRKTKGDSSHSEKKTAKRKGSAV...    5116       PCNT   \n",
       "39  MEVEQEQRRRKVEAGRTKLAHFRQRKTKGDSSHSEKKTAKRKGSAV...    5116       PCNT   \n",
       "44  MEVEQEQRRRKVEAGRTKLAHFRQRKTKGDSSHSEKKTAKRKGSAV...    5116       PCNT   \n",
       "45  MEVEQEQRRRKVEAGRTKLAHFRQRKTKGDSSHSEKKTAKRKGSAV...    5116       PCNT   \n",
       "\n",
       "       snpid  alleleid  ...     start      stop                       type  \\\n",
       "6    2301826    167481  ...  90981967  90981967  single nucleotide variant   \n",
       "38  16979162    101236  ...  46411704  46411704  single nucleotide variant   \n",
       "39  61735811    101237  ...  46411707  46411707  single nucleotide variant   \n",
       "44  17371795    101242  ...  46435963  46435963  single nucleotide variant   \n",
       "45  61735826    101243  ...  46436140  46436140  single nucleotide variant   \n",
       "\n",
       "                                        name    origin  \\\n",
       "6      NM_003981.4(PRC1):c.282G>A (p.Thr94=)  germline   \n",
       "38  NM_006031.6(PCNT):c.5631C>T (p.Ile1877=)  germline   \n",
       "39  NM_006031.6(PCNT):c.5634C>T (p.Asp1878=)  germline   \n",
       "44  NM_006031.6(PCNT):c.8811A>G (p.Thr2937=)  germline   \n",
       "45  NM_006031.6(PCNT):c.8988C>T (p.Ala2996=)  germline   \n",
       "\n",
       "                                         phenotypeids  \\\n",
       "6   MONDO:MONDO:0016419,MedGen:C0006142,OMIM:11448...   \n",
       "38  MedGen:CN169374|MONDO:MONDO:0008872,MedGen:C04...   \n",
       "39  MedGen:CN169374|MONDO:MONDO:0008872,MedGen:C04...   \n",
       "44  MedGen:CN169374|MONDO:MONDO:0008872,MedGen:C04...   \n",
       "45  MedGen:CN169374|MONDO:MONDO:0008872,MedGen:C04...   \n",
       "\n",
       "                                        phenotypelist          otherids  \\\n",
       "6                           Familial cancer of breast  ClinGen:CA273794   \n",
       "38  not specified|Microcephalic osteodysplastic pr...  ClinGen:CA148443   \n",
       "39  not specified|Microcephalic osteodysplastic pr...  ClinGen:CA148445   \n",
       "44  not specified|Microcephalic osteodysplastic pr...  ClinGen:CA148453   \n",
       "45  not specified|Microcephalic osteodysplastic pr...  ClinGen:CA148455   \n",
       "\n",
       "     nuccore_id    cambio  \n",
       "6   NM_003981.4    Thr94=  \n",
       "38  NM_006031.6  Ile1877=  \n",
       "39  NM_006031.6  Asp1878=  \n",
       "44  NM_006031.6  Thr2937=  \n",
       "45  NM_006031.6  Ala2996=  \n",
       "\n",
       "[5 rows x 22 columns]"
      ],
      "text/html": "<div>\n<style scoped>\n    .dataframe tbody tr th:only-of-type {\n        vertical-align: middle;\n    }\n\n    .dataframe tbody tr th {\n        vertical-align: top;\n    }\n\n    .dataframe thead th {\n        text-align: right;\n    }\n</style>\n<table border=\"1\" class=\"dataframe\">\n  <thead>\n    <tr style=\"text-align: right;\">\n      <th></th>\n      <th>uniprot</th>\n      <th>organism</th>\n      <th>mlo</th>\n      <th>hgnc_id</th>\n      <th>length</th>\n      <th>sequence</th>\n      <th>geneid</th>\n      <th>genesymbol</th>\n      <th>snpid</th>\n      <th>alleleid</th>\n      <th>...</th>\n      <th>start</th>\n      <th>stop</th>\n      <th>type</th>\n      <th>name</th>\n      <th>origin</th>\n      <th>phenotypeids</th>\n      <th>phenotypelist</th>\n      <th>otherids</th>\n      <th>nuccore_id</th>\n      <th>cambio</th>\n    </tr>\n  </thead>\n  <tbody>\n    <tr>\n      <th>6</th>\n      <td>O43663</td>\n      <td>Homo sapiens</td>\n      <td>pcg body</td>\n      <td>HGNC:9341</td>\n      <td>620</td>\n      <td>MRRSEVLAEESIVCLQKALNHLREIWELIGIPEDQRLQRTEVVKKH...</td>\n      <td>9055</td>\n      <td>PRC1</td>\n      <td>2301826</td>\n      <td>167481</td>\n      <td>...</td>\n      <td>90981967</td>\n      <td>90981967</td>\n      <td>single nucleotide variant</td>\n      <td>NM_003981.4(PRC1):c.282G&gt;A (p.Thr94=)</td>\n      <td>germline</td>\n      <td>MONDO:MONDO:0016419,MedGen:C0006142,OMIM:11448...</td>\n      <td>Familial cancer of breast</td>\n      <td>ClinGen:CA273794</td>\n      <td>NM_003981.4</td>\n      <td>Thr94=</td>\n    </tr>\n    <tr>\n      <th>38</th>\n      <td>O95613</td>\n      <td>Homo sapiens</td>\n      <td>centrosome/spindle pole body</td>\n      <td>HGNC:16068</td>\n      <td>3336</td>\n      <td>MEVEQEQRRRKVEAGRTKLAHFRQRKTKGDSSHSEKKTAKRKGSAV...</td>\n      <td>5116</td>\n      <td>PCNT</td>\n      <td>16979162</td>\n      <td>101236</td>\n      <td>...</td>\n      <td>46411704</td>\n      <td>46411704</td>\n      <td>single nucleotide variant</td>\n      <td>NM_006031.6(PCNT):c.5631C&gt;T (p.Ile1877=)</td>\n      <td>germline</td>\n      <td>MedGen:CN169374|MONDO:MONDO:0008872,MedGen:C04...</td>\n      <td>not specified|Microcephalic osteodysplastic pr...</td>\n      <td>ClinGen:CA148443</td>\n      <td>NM_006031.6</td>\n      <td>Ile1877=</td>\n    </tr>\n    <tr>\n      <th>39</th>\n      <td>O95613</td>\n      <td>Homo sapiens</td>\n      <td>centrosome/spindle pole body</td>\n      <td>HGNC:16068</td>\n      <td>3336</td>\n      <td>MEVEQEQRRRKVEAGRTKLAHFRQRKTKGDSSHSEKKTAKRKGSAV...</td>\n      <td>5116</td>\n      <td>PCNT</td>\n      <td>61735811</td>\n      <td>101237</td>\n      <td>...</td>\n      <td>46411707</td>\n      <td>46411707</td>\n      <td>single nucleotide variant</td>\n      <td>NM_006031.6(PCNT):c.5634C&gt;T (p.Asp1878=)</td>\n      <td>germline</td>\n      <td>MedGen:CN169374|MONDO:MONDO:0008872,MedGen:C04...</td>\n      <td>not specified|Microcephalic osteodysplastic pr...</td>\n      <td>ClinGen:CA148445</td>\n      <td>NM_006031.6</td>\n      <td>Asp1878=</td>\n    </tr>\n    <tr>\n      <th>44</th>\n      <td>O95613</td>\n      <td>Homo sapiens</td>\n      <td>centrosome/spindle pole body</td>\n      <td>HGNC:16068</td>\n      <td>3336</td>\n      <td>MEVEQEQRRRKVEAGRTKLAHFRQRKTKGDSSHSEKKTAKRKGSAV...</td>\n      <td>5116</td>\n      <td>PCNT</td>\n      <td>17371795</td>\n      <td>101242</td>\n      <td>...</td>\n      <td>46435963</td>\n      <td>46435963</td>\n      <td>single nucleotide variant</td>\n      <td>NM_006031.6(PCNT):c.8811A&gt;G (p.Thr2937=)</td>\n      <td>germline</td>\n      <td>MedGen:CN169374|MONDO:MONDO:0008872,MedGen:C04...</td>\n      <td>not specified|Microcephalic osteodysplastic pr...</td>\n      <td>ClinGen:CA148453</td>\n      <td>NM_006031.6</td>\n      <td>Thr2937=</td>\n    </tr>\n    <tr>\n      <th>45</th>\n      <td>O95613</td>\n      <td>Homo sapiens</td>\n      <td>centrosome/spindle pole body</td>\n      <td>HGNC:16068</td>\n      <td>3336</td>\n      <td>MEVEQEQRRRKVEAGRTKLAHFRQRKTKGDSSHSEKKTAKRKGSAV...</td>\n      <td>5116</td>\n      <td>PCNT</td>\n      <td>61735826</td>\n      <td>101243</td>\n      <td>...</td>\n      <td>46436140</td>\n      <td>46436140</td>\n      <td>single nucleotide variant</td>\n      <td>NM_006031.6(PCNT):c.8988C&gt;T (p.Ala2996=)</td>\n      <td>germline</td>\n      <td>MedGen:CN169374|MONDO:MONDO:0008872,MedGen:C04...</td>\n      <td>not specified|Microcephalic osteodysplastic pr...</td>\n      <td>ClinGen:CA148455</td>\n      <td>NM_006031.6</td>\n      <td>Ala2996=</td>\n    </tr>\n  </tbody>\n</table>\n<p>5 rows × 22 columns</p>\n</div>"
     },
     "metadata": {},
     "execution_count": 349
    }
   ],
   "source": [
    "print(len(syn))\n",
    "syn.head()"
   ]
  },
  {
   "source": [
    "### Voy eliminando del df original por el indice"
   ],
   "cell_type": "markdown",
   "metadata": {}
  },
  {
   "cell_type": "code",
   "execution_count": 350,
   "metadata": {},
   "outputs": [
    {
     "output_type": "execute_result",
     "data": {
      "text/plain": [
       "23131"
      ]
     },
     "metadata": {},
     "execution_count": 350
    }
   ],
   "source": [
    "cond = box1_clinvar_total.index.isin(syn.index) # es un array de bool\n",
    "box1_clinvar_total = box1_clinvar_total.drop(box1_clinvar_total[cond].index) # drop esas filas\n",
    "len(box1_clinvar_total)"
   ]
  },
  {
   "source": [
    "# Subset delins"
   ],
   "cell_type": "markdown",
   "metadata": {}
  },
  {
   "cell_type": "code",
   "execution_count": 351,
   "metadata": {},
   "outputs": [
    {
     "output_type": "execute_result",
     "data": {
      "text/plain": [
       "False    23037\n",
       "True        94\n",
       "Name: cambio, dtype: int64"
      ]
     },
     "metadata": {},
     "execution_count": 351
    }
   ],
   "source": [
    "((box1_clinvar_total.cambio.map(lambda x: re.findall('(delins)', x))).str[0]).notnull().value_counts() # hay 94 delins"
   ]
  },
  {
   "cell_type": "code",
   "execution_count": 352,
   "metadata": {},
   "outputs": [
    {
     "output_type": "execute_result",
     "data": {
      "text/plain": [
       "0        []\n",
       "17       []\n",
       "27       []\n",
       "28       []\n",
       "29       []\n",
       "         ..\n",
       "40988    []\n",
       "40989    []\n",
       "40990    []\n",
       "40992    []\n",
       "40993    []\n",
       "Name: cambio, Length: 23131, dtype: object"
      ]
     },
     "metadata": {},
     "execution_count": 352
    }
   ],
   "source": [
    "box1_clinvar_total.cambio.map(lambda x: re.findall('.*delins.*', x))"
   ]
  },
  {
   "source": [
    "## escribir explicacion de la regex"
   ],
   "cell_type": "markdown",
   "metadata": {}
  },
  {
   "cell_type": "code",
   "execution_count": 353,
   "metadata": {},
   "outputs": [
    {
     "output_type": "execute_result",
     "data": {
      "text/plain": [
       "('Lys', '1409', 'Ala', '1410', 'Asn')"
      ]
     },
     "metadata": {},
     "execution_count": 353
    }
   ],
   "source": [
    "# prueba\n",
    "a = re.findall('^([A-Z][a-z]{2})(\\d+)_?([A-Z][a-z]{2})?(\\d+)?delins(.*)$', 'Lys1409_Ala1410delinsAsn')\n",
    "a = a[0]\n",
    "a"
   ]
  },
  {
   "cell_type": "code",
   "execution_count": 354,
   "metadata": {},
   "outputs": [
    {
     "output_type": "execute_result",
     "data": {
      "text/plain": [
       "      uniprot      organism                           mlo     hgnc_id  length  \\\n",
       "673    O95613  Homo sapiens  centrosome/spindle pole body  HGNC:16068    3336   \n",
       "815    P42858  Homo sapiens  centrosome/spindle pole body   HGNC:4851    3142   \n",
       "1153   P46100  Homo sapiens              pml nuclear body    HGNC:886    2492   \n",
       "1501   Q99996  Homo sapiens  centrosome/spindle pole body    HGNC:379    3907   \n",
       "2093   Q99996  Homo sapiens  centrosome/spindle pole body    HGNC:379    3907   \n",
       "...       ...           ...                           ...         ...     ...   \n",
       "38252  Q9P2D1  Homo sapiens                     nucleolus  HGNC:20626    2997   \n",
       "38494  Q9P2D1  Homo sapiens                     nucleolus  HGNC:20626    2997   \n",
       "38692  Q9P2D1  Homo sapiens                     nucleolus  HGNC:20626    2997   \n",
       "38702  Q9P2D1  Homo sapiens                     nucleolus  HGNC:20626    2997   \n",
       "39989  Q9NQT5  Homo sapiens                     nucleolus  HGNC:17944     275   \n",
       "\n",
       "                                                sequence  geneid genesymbol  \\\n",
       "673    MEVEQEQRRRKVEAGRTKLAHFRQRKTKGDSSHSEKKTAKRKGSAV...    5116       PCNT   \n",
       "815    MATLEKLMKAFESLKSFQQQQQQQQQQQQQQQQQQQQQPPPPPPPP...    3064        HTT   \n",
       "1153   MTAEPMSESKLNTLVQKLHDFLAHSSEESEETSSPPRLAMNQNTDK...     546       ATRX   \n",
       "1501   MEDEERQKKLEAGKAKLAQFRQRKAQSDGQSPSKKQKKKRKTSSSK...   10142      AKAP9   \n",
       "2093   MEDEERQKKLEAGKAKLAQFRQRKAQSDGQSPSKKQKKKRKTSSSK...   10142      AKAP9   \n",
       "...                                                  ...     ...        ...   \n",
       "38252  MADPGMMSLFGEDGNIFSEGLEGLGECGYPENPVNPMGQQMPIDQG...   55636       CHD7   \n",
       "38494  MADPGMMSLFGEDGNIFSEGLEGLGECGYPENPVNPMGQQMPIDQG...   55636       CHD7   \n",
       "38692  MADPGMMSLFGEDGNIFSEGLEGLGECGYPENPVNPMGQQMPIDQG...   55636       CHD7   \n",
       "38702  MADPGMMSLFGEDGNIFSEGLEGLGECGYPENPVNPMGQQMPIDQG...   55636       CHD7   \n",
       "39989  MAEPASVAAESLAGSRARAARTVLGQVVLPGEELLLPEQEDAEGPG...   51010     EXOSC3   \n",
       "\n",
       "            snpid  alleleid  ...      stop            type  \\\n",
       "673    1601759740    800183  ...  46334559       Insertion   \n",
       "815      71180116     40570  ...   3074877  Microsatellite   \n",
       "1153   1603095546    650237  ...  77654188           Indel   \n",
       "1501    786205709    188452  ...  92079169        Deletion   \n",
       "2093   1584041217    796083  ...  92002132        Deletion   \n",
       "...           ...       ...  ...       ...             ...   \n",
       "38252  1563625272    579625  ...  60816409           Indel   \n",
       "38494  1586317482    799557  ...  60781388       Insertion   \n",
       "38692          -1    946147  ...  60824011           Indel   \n",
       "38702          -1    955469  ...  60741832           Indel   \n",
       "39989  1160669103    585251  ...  37781990     Duplication   \n",
       "\n",
       "                                                    name        origin  \\\n",
       "673    NM_006031.6(PCNT):c.429_430insTGGGATGTTCACAGTC...      germline   \n",
       "815    NM_002111.8(HTT):c.52CAG[(27_35)] (p.Gln18_Gln...  not provided   \n",
       "1153   NM_000489.5(ATRX):c.4227_4230delinsT (p.Lys140...      germline   \n",
       "1501   NM_005751.4(AKAP9):c.7034_7036del (p.Arg2345_G...      germline   \n",
       "2093   NM_005751.4(AKAP9):c.2213_2215del (p.Lys738_Gl...      germline   \n",
       "...                                                  ...           ...   \n",
       "38252  NM_017780.4(CHD7):c.2520_2521delinsTC (p.Trp84...      germline   \n",
       "38494  NM_017780.4(CHD7):c.2053_2054insGCAAAA (p.Ala6...      germline   \n",
       "38692  NM_017780.4(CHD7):c.3372_3373delinsAT (p.Met11...      germline   \n",
       "38702  NM_017780.4(CHD7):c.395_400delinsCAA (p.Glu132...      germline   \n",
       "39989  NM_016042.4(EXOSC3):c.619_622dup (p.Arg208deli...      germline   \n",
       "\n",
       "                                            phenotypeids  \\\n",
       "673    MONDO:MONDO:0008872,MedGen:C0432246,OMIM:21072...   \n",
       "815    MONDO:MONDO:0007739,MedGen:C0020179,OMIM:14310...   \n",
       "1153   MONDO:MONDO:0010519,MedGen:C1845055,OMIM:30104...   \n",
       "1501   MONDO:MONDO:0020745,MedGen:C0003811,OMIM:11500...   \n",
       "2093                                     MedGen:CN517202   \n",
       "...                                                  ...   \n",
       "38252                                    MedGen:C2711754   \n",
       "38494                                    MedGen:CN169374   \n",
       "38692  MONDO:MONDO:0008965,MedGen:C0265354,OMIM:21480...   \n",
       "38702  MONDO:MONDO:0008965,MedGen:C0265354,OMIM:21480...   \n",
       "39989                                    MedGen:CN517202   \n",
       "\n",
       "                                           phenotypelist          otherids  \\\n",
       "673    Microcephalic osteodysplastic primordial dwarf...                 -   \n",
       "815                                   Huntington disease                 -   \n",
       "1153   Alpha thalassemia-X-linked intellectual disabi...                 -   \n",
       "1501                 Cardiac arrhythmia|Long QT syndrome  ClinGen:CA300621   \n",
       "2093                                        not provided                 -   \n",
       "...                                                  ...               ...   \n",
       "38252             History of neurodevelopmental disorder                 -   \n",
       "38494                                      not specified                 -   \n",
       "38692                                 CHARGE association                 -   \n",
       "38702                                 CHARGE association                 -   \n",
       "39989                                       not provided                 -   \n",
       "\n",
       "        nuccore_id                                             cambio  \\\n",
       "673    NM_006031.6                  Gly144delinsTrpAspValHisSerGlnTer   \n",
       "815    NM_002111.8  Gln18_Gln38delinsGlnGlnGlnGlnGlnGlnGlnGlnGlnGl...   \n",
       "1153   NM_000489.5                           Lys1409_Ala1410delinsAsn   \n",
       "1501   NM_005751.4                           Arg2345_Glu2346delinsLys   \n",
       "2093   NM_005751.4                             Lys738_Gly739delinsSer   \n",
       "...            ...                                                ...   \n",
       "38252  NM_017780.4                          Trp840_Ala841delinsCysPro   \n",
       "38494  NM_017780.4                              Ala685delinsGlyLysThr   \n",
       "38692  NM_017780.4                        Met1124_Asp1125delinsIleTyr   \n",
       "38702  NM_017780.4                          Glu132_His134delinsAlaAsn   \n",
       "39989  NM_016042.4                                 Arg208delinsAsnTer   \n",
       "\n",
       "                                             consequence  \n",
       "673                    Gly144delinsTrpAspValHisSerGlnTer  \n",
       "815    Gln18_Gln38delinsGlnGlnGlnGlnGlnGlnGlnGlnGlnGl...  \n",
       "1153                            Lys1409_Ala1410delinsAsn  \n",
       "1501                            Arg2345_Glu2346delinsLys  \n",
       "2093                              Lys738_Gly739delinsSer  \n",
       "...                                                  ...  \n",
       "38252                          Trp840_Ala841delinsCysPro  \n",
       "38494                              Ala685delinsGlyLysThr  \n",
       "38692                        Met1124_Asp1125delinsIleTyr  \n",
       "38702                          Glu132_His134delinsAlaAsn  \n",
       "39989                                 Arg208delinsAsnTer  \n",
       "\n",
       "[94 rows x 23 columns]"
      ],
      "text/html": "<div>\n<style scoped>\n    .dataframe tbody tr th:only-of-type {\n        vertical-align: middle;\n    }\n\n    .dataframe tbody tr th {\n        vertical-align: top;\n    }\n\n    .dataframe thead th {\n        text-align: right;\n    }\n</style>\n<table border=\"1\" class=\"dataframe\">\n  <thead>\n    <tr style=\"text-align: right;\">\n      <th></th>\n      <th>uniprot</th>\n      <th>organism</th>\n      <th>mlo</th>\n      <th>hgnc_id</th>\n      <th>length</th>\n      <th>sequence</th>\n      <th>geneid</th>\n      <th>genesymbol</th>\n      <th>snpid</th>\n      <th>alleleid</th>\n      <th>...</th>\n      <th>stop</th>\n      <th>type</th>\n      <th>name</th>\n      <th>origin</th>\n      <th>phenotypeids</th>\n      <th>phenotypelist</th>\n      <th>otherids</th>\n      <th>nuccore_id</th>\n      <th>cambio</th>\n      <th>consequence</th>\n    </tr>\n  </thead>\n  <tbody>\n    <tr>\n      <th>673</th>\n      <td>O95613</td>\n      <td>Homo sapiens</td>\n      <td>centrosome/spindle pole body</td>\n      <td>HGNC:16068</td>\n      <td>3336</td>\n      <td>MEVEQEQRRRKVEAGRTKLAHFRQRKTKGDSSHSEKKTAKRKGSAV...</td>\n      <td>5116</td>\n      <td>PCNT</td>\n      <td>1601759740</td>\n      <td>800183</td>\n      <td>...</td>\n      <td>46334559</td>\n      <td>Insertion</td>\n      <td>NM_006031.6(PCNT):c.429_430insTGGGATGTTCACAGTC...</td>\n      <td>germline</td>\n      <td>MONDO:MONDO:0008872,MedGen:C0432246,OMIM:21072...</td>\n      <td>Microcephalic osteodysplastic primordial dwarf...</td>\n      <td>-</td>\n      <td>NM_006031.6</td>\n      <td>Gly144delinsTrpAspValHisSerGlnTer</td>\n      <td>Gly144delinsTrpAspValHisSerGlnTer</td>\n    </tr>\n    <tr>\n      <th>815</th>\n      <td>P42858</td>\n      <td>Homo sapiens</td>\n      <td>centrosome/spindle pole body</td>\n      <td>HGNC:4851</td>\n      <td>3142</td>\n      <td>MATLEKLMKAFESLKSFQQQQQQQQQQQQQQQQQQQQQPPPPPPPP...</td>\n      <td>3064</td>\n      <td>HTT</td>\n      <td>71180116</td>\n      <td>40570</td>\n      <td>...</td>\n      <td>3074877</td>\n      <td>Microsatellite</td>\n      <td>NM_002111.8(HTT):c.52CAG[(27_35)] (p.Gln18_Gln...</td>\n      <td>not provided</td>\n      <td>MONDO:MONDO:0007739,MedGen:C0020179,OMIM:14310...</td>\n      <td>Huntington disease</td>\n      <td>-</td>\n      <td>NM_002111.8</td>\n      <td>Gln18_Gln38delinsGlnGlnGlnGlnGlnGlnGlnGlnGlnGl...</td>\n      <td>Gln18_Gln38delinsGlnGlnGlnGlnGlnGlnGlnGlnGlnGl...</td>\n    </tr>\n    <tr>\n      <th>1153</th>\n      <td>P46100</td>\n      <td>Homo sapiens</td>\n      <td>pml nuclear body</td>\n      <td>HGNC:886</td>\n      <td>2492</td>\n      <td>MTAEPMSESKLNTLVQKLHDFLAHSSEESEETSSPPRLAMNQNTDK...</td>\n      <td>546</td>\n      <td>ATRX</td>\n      <td>1603095546</td>\n      <td>650237</td>\n      <td>...</td>\n      <td>77654188</td>\n      <td>Indel</td>\n      <td>NM_000489.5(ATRX):c.4227_4230delinsT (p.Lys140...</td>\n      <td>germline</td>\n      <td>MONDO:MONDO:0010519,MedGen:C1845055,OMIM:30104...</td>\n      <td>Alpha thalassemia-X-linked intellectual disabi...</td>\n      <td>-</td>\n      <td>NM_000489.5</td>\n      <td>Lys1409_Ala1410delinsAsn</td>\n      <td>Lys1409_Ala1410delinsAsn</td>\n    </tr>\n    <tr>\n      <th>1501</th>\n      <td>Q99996</td>\n      <td>Homo sapiens</td>\n      <td>centrosome/spindle pole body</td>\n      <td>HGNC:379</td>\n      <td>3907</td>\n      <td>MEDEERQKKLEAGKAKLAQFRQRKAQSDGQSPSKKQKKKRKTSSSK...</td>\n      <td>10142</td>\n      <td>AKAP9</td>\n      <td>786205709</td>\n      <td>188452</td>\n      <td>...</td>\n      <td>92079169</td>\n      <td>Deletion</td>\n      <td>NM_005751.4(AKAP9):c.7034_7036del (p.Arg2345_G...</td>\n      <td>germline</td>\n      <td>MONDO:MONDO:0020745,MedGen:C0003811,OMIM:11500...</td>\n      <td>Cardiac arrhythmia|Long QT syndrome</td>\n      <td>ClinGen:CA300621</td>\n      <td>NM_005751.4</td>\n      <td>Arg2345_Glu2346delinsLys</td>\n      <td>Arg2345_Glu2346delinsLys</td>\n    </tr>\n    <tr>\n      <th>2093</th>\n      <td>Q99996</td>\n      <td>Homo sapiens</td>\n      <td>centrosome/spindle pole body</td>\n      <td>HGNC:379</td>\n      <td>3907</td>\n      <td>MEDEERQKKLEAGKAKLAQFRQRKAQSDGQSPSKKQKKKRKTSSSK...</td>\n      <td>10142</td>\n      <td>AKAP9</td>\n      <td>1584041217</td>\n      <td>796083</td>\n      <td>...</td>\n      <td>92002132</td>\n      <td>Deletion</td>\n      <td>NM_005751.4(AKAP9):c.2213_2215del (p.Lys738_Gl...</td>\n      <td>germline</td>\n      <td>MedGen:CN517202</td>\n      <td>not provided</td>\n      <td>-</td>\n      <td>NM_005751.4</td>\n      <td>Lys738_Gly739delinsSer</td>\n      <td>Lys738_Gly739delinsSer</td>\n    </tr>\n    <tr>\n      <th>...</th>\n      <td>...</td>\n      <td>...</td>\n      <td>...</td>\n      <td>...</td>\n      <td>...</td>\n      <td>...</td>\n      <td>...</td>\n      <td>...</td>\n      <td>...</td>\n      <td>...</td>\n      <td>...</td>\n      <td>...</td>\n      <td>...</td>\n      <td>...</td>\n      <td>...</td>\n      <td>...</td>\n      <td>...</td>\n      <td>...</td>\n      <td>...</td>\n      <td>...</td>\n      <td>...</td>\n    </tr>\n    <tr>\n      <th>38252</th>\n      <td>Q9P2D1</td>\n      <td>Homo sapiens</td>\n      <td>nucleolus</td>\n      <td>HGNC:20626</td>\n      <td>2997</td>\n      <td>MADPGMMSLFGEDGNIFSEGLEGLGECGYPENPVNPMGQQMPIDQG...</td>\n      <td>55636</td>\n      <td>CHD7</td>\n      <td>1563625272</td>\n      <td>579625</td>\n      <td>...</td>\n      <td>60816409</td>\n      <td>Indel</td>\n      <td>NM_017780.4(CHD7):c.2520_2521delinsTC (p.Trp84...</td>\n      <td>germline</td>\n      <td>MedGen:C2711754</td>\n      <td>History of neurodevelopmental disorder</td>\n      <td>-</td>\n      <td>NM_017780.4</td>\n      <td>Trp840_Ala841delinsCysPro</td>\n      <td>Trp840_Ala841delinsCysPro</td>\n    </tr>\n    <tr>\n      <th>38494</th>\n      <td>Q9P2D1</td>\n      <td>Homo sapiens</td>\n      <td>nucleolus</td>\n      <td>HGNC:20626</td>\n      <td>2997</td>\n      <td>MADPGMMSLFGEDGNIFSEGLEGLGECGYPENPVNPMGQQMPIDQG...</td>\n      <td>55636</td>\n      <td>CHD7</td>\n      <td>1586317482</td>\n      <td>799557</td>\n      <td>...</td>\n      <td>60781388</td>\n      <td>Insertion</td>\n      <td>NM_017780.4(CHD7):c.2053_2054insGCAAAA (p.Ala6...</td>\n      <td>germline</td>\n      <td>MedGen:CN169374</td>\n      <td>not specified</td>\n      <td>-</td>\n      <td>NM_017780.4</td>\n      <td>Ala685delinsGlyLysThr</td>\n      <td>Ala685delinsGlyLysThr</td>\n    </tr>\n    <tr>\n      <th>38692</th>\n      <td>Q9P2D1</td>\n      <td>Homo sapiens</td>\n      <td>nucleolus</td>\n      <td>HGNC:20626</td>\n      <td>2997</td>\n      <td>MADPGMMSLFGEDGNIFSEGLEGLGECGYPENPVNPMGQQMPIDQG...</td>\n      <td>55636</td>\n      <td>CHD7</td>\n      <td>-1</td>\n      <td>946147</td>\n      <td>...</td>\n      <td>60824011</td>\n      <td>Indel</td>\n      <td>NM_017780.4(CHD7):c.3372_3373delinsAT (p.Met11...</td>\n      <td>germline</td>\n      <td>MONDO:MONDO:0008965,MedGen:C0265354,OMIM:21480...</td>\n      <td>CHARGE association</td>\n      <td>-</td>\n      <td>NM_017780.4</td>\n      <td>Met1124_Asp1125delinsIleTyr</td>\n      <td>Met1124_Asp1125delinsIleTyr</td>\n    </tr>\n    <tr>\n      <th>38702</th>\n      <td>Q9P2D1</td>\n      <td>Homo sapiens</td>\n      <td>nucleolus</td>\n      <td>HGNC:20626</td>\n      <td>2997</td>\n      <td>MADPGMMSLFGEDGNIFSEGLEGLGECGYPENPVNPMGQQMPIDQG...</td>\n      <td>55636</td>\n      <td>CHD7</td>\n      <td>-1</td>\n      <td>955469</td>\n      <td>...</td>\n      <td>60741832</td>\n      <td>Indel</td>\n      <td>NM_017780.4(CHD7):c.395_400delinsCAA (p.Glu132...</td>\n      <td>germline</td>\n      <td>MONDO:MONDO:0008965,MedGen:C0265354,OMIM:21480...</td>\n      <td>CHARGE association</td>\n      <td>-</td>\n      <td>NM_017780.4</td>\n      <td>Glu132_His134delinsAlaAsn</td>\n      <td>Glu132_His134delinsAlaAsn</td>\n    </tr>\n    <tr>\n      <th>39989</th>\n      <td>Q9NQT5</td>\n      <td>Homo sapiens</td>\n      <td>nucleolus</td>\n      <td>HGNC:17944</td>\n      <td>275</td>\n      <td>MAEPASVAAESLAGSRARAARTVLGQVVLPGEELLLPEQEDAEGPG...</td>\n      <td>51010</td>\n      <td>EXOSC3</td>\n      <td>1160669103</td>\n      <td>585251</td>\n      <td>...</td>\n      <td>37781990</td>\n      <td>Duplication</td>\n      <td>NM_016042.4(EXOSC3):c.619_622dup (p.Arg208deli...</td>\n      <td>germline</td>\n      <td>MedGen:CN517202</td>\n      <td>not provided</td>\n      <td>-</td>\n      <td>NM_016042.4</td>\n      <td>Arg208delinsAsnTer</td>\n      <td>Arg208delinsAsnTer</td>\n    </tr>\n  </tbody>\n</table>\n<p>94 rows × 23 columns</p>\n</div>"
     },
     "metadata": {},
     "execution_count": 354
    }
   ],
   "source": [
    "# capturo 'delins' en el medio de un cambio, .* es cualquier cosa 0 o mas veces\n",
    "delins = box1_clinvar_total.copy()\n",
    "delins['consequence'] = delins.cambio.map(lambda x: re.findall('.*delins.*', x))\n",
    "delins['consequence'] = delins.consequence.str[0]\n",
    "delins = delins[delins.consequence.notnull()]\n",
    "delins"
   ]
  },
  {
   "cell_type": "code",
   "execution_count": 355,
   "metadata": {},
   "outputs": [
    {
     "output_type": "execute_result",
     "data": {
      "text/plain": [
       "673                  (Gly, 144, , , TrpAspValHisSerGlnTer)\n",
       "815      (Gln, 18, Gln, 38, GlnGlnGlnGlnGlnGlnGlnGlnGln...\n",
       "1153                           (Lys, 1409, Ala, 1410, Asn)\n",
       "1501                           (Arg, 2345, Glu, 2346, Lys)\n",
       "2093                             (Lys, 738, Gly, 739, Ser)\n",
       "                               ...                        \n",
       "38252                         (Trp, 840, Ala, 841, CysPro)\n",
       "38494                            (Ala, 685, , , GlyLysThr)\n",
       "38692                       (Met, 1124, Asp, 1125, IleTyr)\n",
       "38702                         (Glu, 132, His, 134, AlaAsn)\n",
       "39989                               (Arg, 208, , , AsnTer)\n",
       "Name: aux, Length: 94, dtype: object"
      ]
     },
     "metadata": {},
     "execution_count": 355
    }
   ],
   "source": [
    "delins['aux'] = delins.cambio.map(lambda x: re.findall('^([A-Z][a-z]{2})(\\d+)_?([A-Z][a-z]{2})?(\\d+)?delins(.*)$', x))\n",
    "delins['aux'] = delins.aux.str[0]\n",
    "delins['aux']"
   ]
  },
  {
   "cell_type": "code",
   "execution_count": 356,
   "metadata": {},
   "outputs": [
    {
     "output_type": "execute_result",
     "data": {
      "text/plain": [
       "673       144\n",
       "815        18\n",
       "1153     1409\n",
       "1501     2345\n",
       "2093      738\n",
       "         ... \n",
       "38252     840\n",
       "38494     685\n",
       "38692    1124\n",
       "38702     132\n",
       "39989     208\n",
       "Name: start_aa, Length: 94, dtype: int64"
      ]
     },
     "metadata": {},
     "execution_count": 356
    }
   ],
   "source": [
    "# las posiciones\n",
    "delins['start_aa'] = delins.aux.map(lambda x: x[1])\n",
    "delins.start_aa = delins.start_aa.apply(int)\n",
    "delins.start_aa"
   ]
  },
  {
   "cell_type": "code",
   "execution_count": 357,
   "metadata": {},
   "outputs": [
    {
     "output_type": "execute_result",
     "data": {
      "text/plain": [
       "numpy.int64"
      ]
     },
     "metadata": {},
     "execution_count": 357
    }
   ],
   "source": [
    "type(delins.start_aa[673])"
   ]
  },
  {
   "cell_type": "code",
   "execution_count": 358,
   "metadata": {},
   "outputs": [
    {
     "output_type": "execute_result",
     "data": {
      "text/plain": [
       "673         NaN\n",
       "815        38.0\n",
       "1153     1410.0\n",
       "1501     2346.0\n",
       "2093      739.0\n",
       "          ...  \n",
       "38252     841.0\n",
       "38494       NaN\n",
       "38692    1125.0\n",
       "38702     134.0\n",
       "39989       NaN\n",
       "Name: end_aa, Length: 94, dtype: float64"
      ]
     },
     "metadata": {},
     "execution_count": 358
    }
   ],
   "source": [
    "# end\n",
    "delins['end_aa'] = delins.aux.map(lambda x: int(x[3]) if x[3] != '' else np.nan)\n",
    "#delins.end_aa = delins.end_aa.astype('Int64')\n",
    "delins.end_aa"
   ]
  },
  {
   "cell_type": "code",
   "execution_count": 359,
   "metadata": {},
   "outputs": [
    {
     "output_type": "execute_result",
     "data": {
      "text/plain": [
       "numpy.float64"
      ]
     },
     "metadata": {},
     "execution_count": 359
    }
   ],
   "source": [
    "type(delins.end_aa[815])"
   ]
  },
  {
   "cell_type": "code",
   "execution_count": 360,
   "metadata": {},
   "outputs": [
    {
     "output_type": "execute_result",
     "data": {
      "text/plain": [
       "673         Gly\n",
       "815      GlnGln\n",
       "1153     LysAla\n",
       "1501     ArgGlu\n",
       "2093     LysGly\n",
       "          ...  \n",
       "38252    TrpAla\n",
       "38494       Ala\n",
       "38692    MetAsp\n",
       "38702    GluHis\n",
       "39989       Arg\n",
       "Name: from, Length: 94, dtype: object"
      ]
     },
     "metadata": {},
     "execution_count": 360
    }
   ],
   "source": [
    "# from (el/los aa que cambian)\n",
    "delins['from'] = delins.aux.map(lambda x: x[0] + x[2]) # concateno si existe mas de un aa que cambia (o sea, si es un rango)\n",
    "delins['from']"
   ]
  },
  {
   "cell_type": "code",
   "execution_count": 361,
   "metadata": {},
   "outputs": [
    {
     "output_type": "execute_result",
     "data": {
      "text/plain": [
       "673                                  TrpAspValHisSerGlnTer\n",
       "815      GlnGlnGlnGlnGlnGlnGlnGlnGlnGlnGlnGlnGlnGlnGlnG...\n",
       "1153                                                   Asn\n",
       "1501                                                   Lys\n",
       "2093                                                   Ser\n",
       "                               ...                        \n",
       "38252                                               CysPro\n",
       "38494                                            GlyLysThr\n",
       "38692                                               IleTyr\n",
       "38702                                               AlaAsn\n",
       "39989                                               AsnTer\n",
       "Name: to, Length: 94, dtype: object"
      ]
     },
     "metadata": {},
     "execution_count": 361
    }
   ],
   "source": [
    "delins['to'] = delins.aux.map(lambda x: x[4])\n",
    "delins.to"
   ]
  },
  {
   "cell_type": "code",
   "execution_count": 362,
   "metadata": {},
   "outputs": [],
   "source": [
    "delins['consequence'] = 'delins'"
   ]
  },
  {
   "cell_type": "code",
   "execution_count": 363,
   "metadata": {},
   "outputs": [
    {
     "output_type": "execute_result",
     "data": {
      "text/plain": [
       "                                                  cambio  start_aa  end_aa  \\\n",
       "673                    Gly144delinsTrpAspValHisSerGlnTer       144     NaN   \n",
       "815    Gln18_Gln38delinsGlnGlnGlnGlnGlnGlnGlnGlnGlnGl...        18    38.0   \n",
       "1153                            Lys1409_Ala1410delinsAsn      1409  1410.0   \n",
       "1501                            Arg2345_Glu2346delinsLys      2345  2346.0   \n",
       "2093                              Lys738_Gly739delinsSer       738   739.0   \n",
       "...                                                  ...       ...     ...   \n",
       "38252                          Trp840_Ala841delinsCysPro       840   841.0   \n",
       "38494                              Ala685delinsGlyLysThr       685     NaN   \n",
       "38692                        Met1124_Asp1125delinsIleTyr      1124  1125.0   \n",
       "38702                          Glu132_His134delinsAlaAsn       132   134.0   \n",
       "39989                                 Arg208delinsAsnTer       208     NaN   \n",
       "\n",
       "         from                                                 to consequence  \n",
       "673       Gly                              TrpAspValHisSerGlnTer      delins  \n",
       "815    GlnGln  GlnGlnGlnGlnGlnGlnGlnGlnGlnGlnGlnGlnGlnGlnGlnG...      delins  \n",
       "1153   LysAla                                                Asn      delins  \n",
       "1501   ArgGlu                                                Lys      delins  \n",
       "2093   LysGly                                                Ser      delins  \n",
       "...       ...                                                ...         ...  \n",
       "38252  TrpAla                                             CysPro      delins  \n",
       "38494     Ala                                          GlyLysThr      delins  \n",
       "38692  MetAsp                                             IleTyr      delins  \n",
       "38702  GluHis                                             AlaAsn      delins  \n",
       "39989     Arg                                             AsnTer      delins  \n",
       "\n",
       "[94 rows x 6 columns]"
      ],
      "text/html": "<div>\n<style scoped>\n    .dataframe tbody tr th:only-of-type {\n        vertical-align: middle;\n    }\n\n    .dataframe tbody tr th {\n        vertical-align: top;\n    }\n\n    .dataframe thead th {\n        text-align: right;\n    }\n</style>\n<table border=\"1\" class=\"dataframe\">\n  <thead>\n    <tr style=\"text-align: right;\">\n      <th></th>\n      <th>cambio</th>\n      <th>start_aa</th>\n      <th>end_aa</th>\n      <th>from</th>\n      <th>to</th>\n      <th>consequence</th>\n    </tr>\n  </thead>\n  <tbody>\n    <tr>\n      <th>673</th>\n      <td>Gly144delinsTrpAspValHisSerGlnTer</td>\n      <td>144</td>\n      <td>NaN</td>\n      <td>Gly</td>\n      <td>TrpAspValHisSerGlnTer</td>\n      <td>delins</td>\n    </tr>\n    <tr>\n      <th>815</th>\n      <td>Gln18_Gln38delinsGlnGlnGlnGlnGlnGlnGlnGlnGlnGl...</td>\n      <td>18</td>\n      <td>38.0</td>\n      <td>GlnGln</td>\n      <td>GlnGlnGlnGlnGlnGlnGlnGlnGlnGlnGlnGlnGlnGlnGlnG...</td>\n      <td>delins</td>\n    </tr>\n    <tr>\n      <th>1153</th>\n      <td>Lys1409_Ala1410delinsAsn</td>\n      <td>1409</td>\n      <td>1410.0</td>\n      <td>LysAla</td>\n      <td>Asn</td>\n      <td>delins</td>\n    </tr>\n    <tr>\n      <th>1501</th>\n      <td>Arg2345_Glu2346delinsLys</td>\n      <td>2345</td>\n      <td>2346.0</td>\n      <td>ArgGlu</td>\n      <td>Lys</td>\n      <td>delins</td>\n    </tr>\n    <tr>\n      <th>2093</th>\n      <td>Lys738_Gly739delinsSer</td>\n      <td>738</td>\n      <td>739.0</td>\n      <td>LysGly</td>\n      <td>Ser</td>\n      <td>delins</td>\n    </tr>\n    <tr>\n      <th>...</th>\n      <td>...</td>\n      <td>...</td>\n      <td>...</td>\n      <td>...</td>\n      <td>...</td>\n      <td>...</td>\n    </tr>\n    <tr>\n      <th>38252</th>\n      <td>Trp840_Ala841delinsCysPro</td>\n      <td>840</td>\n      <td>841.0</td>\n      <td>TrpAla</td>\n      <td>CysPro</td>\n      <td>delins</td>\n    </tr>\n    <tr>\n      <th>38494</th>\n      <td>Ala685delinsGlyLysThr</td>\n      <td>685</td>\n      <td>NaN</td>\n      <td>Ala</td>\n      <td>GlyLysThr</td>\n      <td>delins</td>\n    </tr>\n    <tr>\n      <th>38692</th>\n      <td>Met1124_Asp1125delinsIleTyr</td>\n      <td>1124</td>\n      <td>1125.0</td>\n      <td>MetAsp</td>\n      <td>IleTyr</td>\n      <td>delins</td>\n    </tr>\n    <tr>\n      <th>38702</th>\n      <td>Glu132_His134delinsAlaAsn</td>\n      <td>132</td>\n      <td>134.0</td>\n      <td>GluHis</td>\n      <td>AlaAsn</td>\n      <td>delins</td>\n    </tr>\n    <tr>\n      <th>39989</th>\n      <td>Arg208delinsAsnTer</td>\n      <td>208</td>\n      <td>NaN</td>\n      <td>Arg</td>\n      <td>AsnTer</td>\n      <td>delins</td>\n    </tr>\n  </tbody>\n</table>\n<p>94 rows × 6 columns</p>\n</div>"
     },
     "metadata": {},
     "execution_count": 363
    }
   ],
   "source": [
    "delins[['cambio', 'start_aa', 'end_aa', 'from', 'to', 'consequence']]"
   ]
  },
  {
   "cell_type": "code",
   "execution_count": 364,
   "metadata": {},
   "outputs": [],
   "source": [
    "# elimino la col auxiliar\n",
    "delins = delins.drop(columns=['aux'])"
   ]
  },
  {
   "source": [
    "## elimino estas rows del df original"
   ],
   "cell_type": "markdown",
   "metadata": {}
  },
  {
   "cell_type": "code",
   "execution_count": 365,
   "metadata": {},
   "outputs": [
    {
     "output_type": "execute_result",
     "data": {
      "text/plain": [
       "23037"
      ]
     },
     "metadata": {},
     "execution_count": 365
    }
   ],
   "source": [
    "cond = box1_clinvar_total.index.isin(delins.index)                           # es un array de bool\n",
    "box1_clinvar_total = box1_clinvar_total.drop(box1_clinvar_total[cond].index) # drop esas filas\n",
    "len(box1_clinvar_total)"
   ]
  },
  {
   "source": [
    "# Subset deleciones"
   ],
   "cell_type": "markdown",
   "metadata": {}
  },
  {
   "cell_type": "code",
   "execution_count": 366,
   "metadata": {},
   "outputs": [
    {
     "output_type": "execute_result",
     "data": {
      "text/plain": [
       "      uniprot      organism                           mlo     hgnc_id  length  \\\n",
       "86     O95613  Homo sapiens  centrosome/spindle pole body  HGNC:16068    3336   \n",
       "233    O95613  Homo sapiens  centrosome/spindle pole body  HGNC:16068    3336   \n",
       "404    O95613  Homo sapiens  centrosome/spindle pole body  HGNC:16068    3336   \n",
       "603    O95613  Homo sapiens  centrosome/spindle pole body  HGNC:16068    3336   \n",
       "869    P46100  Homo sapiens              pml nuclear body    HGNC:886    2492   \n",
       "...       ...           ...                           ...         ...     ...   \n",
       "40325  Q99700  Homo sapiens                stress granule  HGNC:10555    1313   \n",
       "40348  P62913  Homo sapiens                     nucleolus  HGNC:10301     178   \n",
       "40367  P62913  Homo sapiens                     nucleolus  HGNC:10301     178   \n",
       "40600  Q14207  Homo sapiens            histone locus body   HGNC:7896    1427   \n",
       "40745  P04156  Homo sapiens   cytoplasmic protein granule   HGNC:9449     253   \n",
       "\n",
       "                                                sequence  geneid genesymbol  \\\n",
       "86     MEVEQEQRRRKVEAGRTKLAHFRQRKTKGDSSHSEKKTAKRKGSAV...    5116       PCNT   \n",
       "233    MEVEQEQRRRKVEAGRTKLAHFRQRKTKGDSSHSEKKTAKRKGSAV...    5116       PCNT   \n",
       "404    MEVEQEQRRRKVEAGRTKLAHFRQRKTKGDSSHSEKKTAKRKGSAV...    5116       PCNT   \n",
       "603    MEVEQEQRRRKVEAGRTKLAHFRQRKTKGDSSHSEKKTAKRKGSAV...    5116       PCNT   \n",
       "869    MTAEPMSESKLNTLVQKLHDFLAHSSEESEETSSPPRLAMNQNTDK...     546       ATRX   \n",
       "...                                                  ...     ...        ...   \n",
       "40325  MRSAAAAPRSPAVATESRRFAAARWPGWRSLQRPARRSGRGGGGAA...    6311      ATXN2   \n",
       "40348  MAQDQGEKENPMRELRIRKLCLNICVGESGDRLTRAAKVLEQLTGQ...    6135      RPL11   \n",
       "40367  MAQDQGEKENPMRELRIRKLCLNICVGESGDRLTRAAKVLEQLTGQ...    6135      RPL11   \n",
       "40600  MLLPSDVARLVLGYLQQENLISTCQTFILESSDLKEYAEHCTDEGF...    4863       NPAT   \n",
       "40745  MANLGCWMLVLFVATWSDLGLCKKRPKPGGWNTGGSRYPGQGSPGG...    5621       PRNP   \n",
       "\n",
       "            snpid  alleleid  ...       stop            type  \\\n",
       "86      587784306    169616  ...   46334596        Deletion   \n",
       "233    1555945478    208731  ...   46334613        Deletion   \n",
       "404     562568796    351988  ...   46435983        Deletion   \n",
       "603     759470656    578581  ...   46385938  Microsatellite   \n",
       "869     398123423     99044  ...   77652294  Microsatellite   \n",
       "...           ...       ...  ...        ...             ...   \n",
       "40325   778119853    513609  ...  111598859        Deletion   \n",
       "40348  1570569083     20792  ...   23695881  Microsatellite   \n",
       "40367  1553121852    427731  ...   23694691        Deletion   \n",
       "40600   141989202    701546  ...  108172811        Deletion   \n",
       "40745   193922906     76402  ...    4699403  Microsatellite   \n",
       "\n",
       "                                                    name    origin  \\\n",
       "86     NM_006031.6(PCNT):c.467_505del (p.His156_Gln16...  germline   \n",
       "233    NM_006031.6(PCNT):c.442_519del (p.Val148_Thr17...  germline   \n",
       "404      NM_006031.6(PCNT):c.8830_8832del (p.Lys2944del)  germline   \n",
       "603    NM_006031.6(PCNT):c.3418_3420CTC[1] (p.Leu1141...   unknown   \n",
       "869    NM_000489.5(ATRX):c.4365_4367GGA[4] (p.Glu1464...  germline   \n",
       "...                                                  ...       ...   \n",
       "40325  NM_002973.4(ATXN2):c.176_190del (p.Val59_Ser63...   unknown   \n",
       "40348   NM_000975.5(RPL11):c.479_481AGG[1] (p.Glu161del)  germline   \n",
       "40367       NM_000975.5(RPL11):c.296_298del (p.Phe99del)  germline   \n",
       "40600     NM_002519.3(NPAT):c.2173_2175del (p.Ser726del)  germline   \n",
       "40745  NM_000311.3(PRNP):c.204_227del24 (p.Pro84_Gln9...  germline   \n",
       "\n",
       "                                            phenotypeids  \\\n",
       "86     MedGen:CN169374|MONDO:MONDO:0008872,MedGen:C04...   \n",
       "233                                                    -   \n",
       "404    MONDO:MONDO:0000060,MedGen:CN239360|MedGen:CN5...   \n",
       "603    MONDO:MONDO:0008872,MedGen:C0432246,OMIM:21072...   \n",
       "869    MedGen:CN169374|MONDO:MONDO:0010519,MedGen:C18...   \n",
       "...                                                  ...   \n",
       "40325  MONDO:MONDO:0012189,MedGen:C1836824,OMIM:60905...   \n",
       "40348  MONDO:MONDO:0012938,MedGen:C2675512,OMIM:61256...   \n",
       "40367                                                  -   \n",
       "40600                                    MedGen:CN517202   \n",
       "40745  MONDO:MONDO:0018926,MedGen:C0162534,Orphanet:5...   \n",
       "\n",
       "                                           phenotypelist             otherids  \\\n",
       "86     not specified|Microcephalic osteodysplastic pr...     ClinGen:CA173014   \n",
       "233                                                    -     ClinGen:CA205246   \n",
       "404    Microcephalic Osteodysplastic Primordial Dwarf...   ClinGen:CA10081094   \n",
       "603    Microcephalic osteodysplastic primordial dwarf...                    -   \n",
       "869    not specified|Alpha thalassemia-X-linked intel...     ClinGen:CA175123   \n",
       "...                                                  ...                  ...   \n",
       "40325  Salt and pepper developmental regression syndrome  ClinGen:CA243622139   \n",
       "40348                          Diamond-Blackfan anemia 7     OMIM:604175.0003   \n",
       "40367                                                  -  ClinGen:CA645372340   \n",
       "40600                                       not provided                    -   \n",
       "40745   Genetic prion diseases|Huntington disease-like 1     ClinGen:CA344807   \n",
       "\n",
       "        nuccore_id            cambio       consequence  \n",
       "86     NM_006031.6  His156_Gln168del  His156_Gln168del  \n",
       "233    NM_006031.6  Val148_Thr173del  Val148_Thr173del  \n",
       "404    NM_006031.6        Lys2944del        Lys2944del  \n",
       "603    NM_006031.6        Leu1141del        Leu1141del  \n",
       "869    NM_000489.5        Glu1464del        Glu1464del  \n",
       "...            ...               ...               ...  \n",
       "40325  NM_002973.4    Val59_Ser63del    Val59_Ser63del  \n",
       "40348  NM_000975.5         Glu161del         Glu161del  \n",
       "40367  NM_000975.5          Phe99del          Phe99del  \n",
       "40600  NM_002519.3         Ser726del         Ser726del  \n",
       "40745  NM_000311.3    Pro84_Gln91del    Pro84_Gln91del  \n",
       "\n",
       "[396 rows x 23 columns]"
      ],
      "text/html": "<div>\n<style scoped>\n    .dataframe tbody tr th:only-of-type {\n        vertical-align: middle;\n    }\n\n    .dataframe tbody tr th {\n        vertical-align: top;\n    }\n\n    .dataframe thead th {\n        text-align: right;\n    }\n</style>\n<table border=\"1\" class=\"dataframe\">\n  <thead>\n    <tr style=\"text-align: right;\">\n      <th></th>\n      <th>uniprot</th>\n      <th>organism</th>\n      <th>mlo</th>\n      <th>hgnc_id</th>\n      <th>length</th>\n      <th>sequence</th>\n      <th>geneid</th>\n      <th>genesymbol</th>\n      <th>snpid</th>\n      <th>alleleid</th>\n      <th>...</th>\n      <th>stop</th>\n      <th>type</th>\n      <th>name</th>\n      <th>origin</th>\n      <th>phenotypeids</th>\n      <th>phenotypelist</th>\n      <th>otherids</th>\n      <th>nuccore_id</th>\n      <th>cambio</th>\n      <th>consequence</th>\n    </tr>\n  </thead>\n  <tbody>\n    <tr>\n      <th>86</th>\n      <td>O95613</td>\n      <td>Homo sapiens</td>\n      <td>centrosome/spindle pole body</td>\n      <td>HGNC:16068</td>\n      <td>3336</td>\n      <td>MEVEQEQRRRKVEAGRTKLAHFRQRKTKGDSSHSEKKTAKRKGSAV...</td>\n      <td>5116</td>\n      <td>PCNT</td>\n      <td>587784306</td>\n      <td>169616</td>\n      <td>...</td>\n      <td>46334596</td>\n      <td>Deletion</td>\n      <td>NM_006031.6(PCNT):c.467_505del (p.His156_Gln16...</td>\n      <td>germline</td>\n      <td>MedGen:CN169374|MONDO:MONDO:0008872,MedGen:C04...</td>\n      <td>not specified|Microcephalic osteodysplastic pr...</td>\n      <td>ClinGen:CA173014</td>\n      <td>NM_006031.6</td>\n      <td>His156_Gln168del</td>\n      <td>His156_Gln168del</td>\n    </tr>\n    <tr>\n      <th>233</th>\n      <td>O95613</td>\n      <td>Homo sapiens</td>\n      <td>centrosome/spindle pole body</td>\n      <td>HGNC:16068</td>\n      <td>3336</td>\n      <td>MEVEQEQRRRKVEAGRTKLAHFRQRKTKGDSSHSEKKTAKRKGSAV...</td>\n      <td>5116</td>\n      <td>PCNT</td>\n      <td>1555945478</td>\n      <td>208731</td>\n      <td>...</td>\n      <td>46334613</td>\n      <td>Deletion</td>\n      <td>NM_006031.6(PCNT):c.442_519del (p.Val148_Thr17...</td>\n      <td>germline</td>\n      <td>-</td>\n      <td>-</td>\n      <td>ClinGen:CA205246</td>\n      <td>NM_006031.6</td>\n      <td>Val148_Thr173del</td>\n      <td>Val148_Thr173del</td>\n    </tr>\n    <tr>\n      <th>404</th>\n      <td>O95613</td>\n      <td>Homo sapiens</td>\n      <td>centrosome/spindle pole body</td>\n      <td>HGNC:16068</td>\n      <td>3336</td>\n      <td>MEVEQEQRRRKVEAGRTKLAHFRQRKTKGDSSHSEKKTAKRKGSAV...</td>\n      <td>5116</td>\n      <td>PCNT</td>\n      <td>562568796</td>\n      <td>351988</td>\n      <td>...</td>\n      <td>46435983</td>\n      <td>Deletion</td>\n      <td>NM_006031.6(PCNT):c.8830_8832del (p.Lys2944del)</td>\n      <td>germline</td>\n      <td>MONDO:MONDO:0000060,MedGen:CN239360|MedGen:CN5...</td>\n      <td>Microcephalic Osteodysplastic Primordial Dwarf...</td>\n      <td>ClinGen:CA10081094</td>\n      <td>NM_006031.6</td>\n      <td>Lys2944del</td>\n      <td>Lys2944del</td>\n    </tr>\n    <tr>\n      <th>603</th>\n      <td>O95613</td>\n      <td>Homo sapiens</td>\n      <td>centrosome/spindle pole body</td>\n      <td>HGNC:16068</td>\n      <td>3336</td>\n      <td>MEVEQEQRRRKVEAGRTKLAHFRQRKTKGDSSHSEKKTAKRKGSAV...</td>\n      <td>5116</td>\n      <td>PCNT</td>\n      <td>759470656</td>\n      <td>578581</td>\n      <td>...</td>\n      <td>46385938</td>\n      <td>Microsatellite</td>\n      <td>NM_006031.6(PCNT):c.3418_3420CTC[1] (p.Leu1141...</td>\n      <td>unknown</td>\n      <td>MONDO:MONDO:0008872,MedGen:C0432246,OMIM:21072...</td>\n      <td>Microcephalic osteodysplastic primordial dwarf...</td>\n      <td>-</td>\n      <td>NM_006031.6</td>\n      <td>Leu1141del</td>\n      <td>Leu1141del</td>\n    </tr>\n    <tr>\n      <th>869</th>\n      <td>P46100</td>\n      <td>Homo sapiens</td>\n      <td>pml nuclear body</td>\n      <td>HGNC:886</td>\n      <td>2492</td>\n      <td>MTAEPMSESKLNTLVQKLHDFLAHSSEESEETSSPPRLAMNQNTDK...</td>\n      <td>546</td>\n      <td>ATRX</td>\n      <td>398123423</td>\n      <td>99044</td>\n      <td>...</td>\n      <td>77652294</td>\n      <td>Microsatellite</td>\n      <td>NM_000489.5(ATRX):c.4365_4367GGA[4] (p.Glu1464...</td>\n      <td>germline</td>\n      <td>MedGen:CN169374|MONDO:MONDO:0010519,MedGen:C18...</td>\n      <td>not specified|Alpha thalassemia-X-linked intel...</td>\n      <td>ClinGen:CA175123</td>\n      <td>NM_000489.5</td>\n      <td>Glu1464del</td>\n      <td>Glu1464del</td>\n    </tr>\n    <tr>\n      <th>...</th>\n      <td>...</td>\n      <td>...</td>\n      <td>...</td>\n      <td>...</td>\n      <td>...</td>\n      <td>...</td>\n      <td>...</td>\n      <td>...</td>\n      <td>...</td>\n      <td>...</td>\n      <td>...</td>\n      <td>...</td>\n      <td>...</td>\n      <td>...</td>\n      <td>...</td>\n      <td>...</td>\n      <td>...</td>\n      <td>...</td>\n      <td>...</td>\n      <td>...</td>\n      <td>...</td>\n    </tr>\n    <tr>\n      <th>40325</th>\n      <td>Q99700</td>\n      <td>Homo sapiens</td>\n      <td>stress granule</td>\n      <td>HGNC:10555</td>\n      <td>1313</td>\n      <td>MRSAAAAPRSPAVATESRRFAAARWPGWRSLQRPARRSGRGGGGAA...</td>\n      <td>6311</td>\n      <td>ATXN2</td>\n      <td>778119853</td>\n      <td>513609</td>\n      <td>...</td>\n      <td>111598859</td>\n      <td>Deletion</td>\n      <td>NM_002973.4(ATXN2):c.176_190del (p.Val59_Ser63...</td>\n      <td>unknown</td>\n      <td>MONDO:MONDO:0012189,MedGen:C1836824,OMIM:60905...</td>\n      <td>Salt and pepper developmental regression syndrome</td>\n      <td>ClinGen:CA243622139</td>\n      <td>NM_002973.4</td>\n      <td>Val59_Ser63del</td>\n      <td>Val59_Ser63del</td>\n    </tr>\n    <tr>\n      <th>40348</th>\n      <td>P62913</td>\n      <td>Homo sapiens</td>\n      <td>nucleolus</td>\n      <td>HGNC:10301</td>\n      <td>178</td>\n      <td>MAQDQGEKENPMRELRIRKLCLNICVGESGDRLTRAAKVLEQLTGQ...</td>\n      <td>6135</td>\n      <td>RPL11</td>\n      <td>1570569083</td>\n      <td>20792</td>\n      <td>...</td>\n      <td>23695881</td>\n      <td>Microsatellite</td>\n      <td>NM_000975.5(RPL11):c.479_481AGG[1] (p.Glu161del)</td>\n      <td>germline</td>\n      <td>MONDO:MONDO:0012938,MedGen:C2675512,OMIM:61256...</td>\n      <td>Diamond-Blackfan anemia 7</td>\n      <td>OMIM:604175.0003</td>\n      <td>NM_000975.5</td>\n      <td>Glu161del</td>\n      <td>Glu161del</td>\n    </tr>\n    <tr>\n      <th>40367</th>\n      <td>P62913</td>\n      <td>Homo sapiens</td>\n      <td>nucleolus</td>\n      <td>HGNC:10301</td>\n      <td>178</td>\n      <td>MAQDQGEKENPMRELRIRKLCLNICVGESGDRLTRAAKVLEQLTGQ...</td>\n      <td>6135</td>\n      <td>RPL11</td>\n      <td>1553121852</td>\n      <td>427731</td>\n      <td>...</td>\n      <td>23694691</td>\n      <td>Deletion</td>\n      <td>NM_000975.5(RPL11):c.296_298del (p.Phe99del)</td>\n      <td>germline</td>\n      <td>-</td>\n      <td>-</td>\n      <td>ClinGen:CA645372340</td>\n      <td>NM_000975.5</td>\n      <td>Phe99del</td>\n      <td>Phe99del</td>\n    </tr>\n    <tr>\n      <th>40600</th>\n      <td>Q14207</td>\n      <td>Homo sapiens</td>\n      <td>histone locus body</td>\n      <td>HGNC:7896</td>\n      <td>1427</td>\n      <td>MLLPSDVARLVLGYLQQENLISTCQTFILESSDLKEYAEHCTDEGF...</td>\n      <td>4863</td>\n      <td>NPAT</td>\n      <td>141989202</td>\n      <td>701546</td>\n      <td>...</td>\n      <td>108172811</td>\n      <td>Deletion</td>\n      <td>NM_002519.3(NPAT):c.2173_2175del (p.Ser726del)</td>\n      <td>germline</td>\n      <td>MedGen:CN517202</td>\n      <td>not provided</td>\n      <td>-</td>\n      <td>NM_002519.3</td>\n      <td>Ser726del</td>\n      <td>Ser726del</td>\n    </tr>\n    <tr>\n      <th>40745</th>\n      <td>P04156</td>\n      <td>Homo sapiens</td>\n      <td>cytoplasmic protein granule</td>\n      <td>HGNC:9449</td>\n      <td>253</td>\n      <td>MANLGCWMLVLFVATWSDLGLCKKRPKPGGWNTGGSRYPGQGSPGG...</td>\n      <td>5621</td>\n      <td>PRNP</td>\n      <td>193922906</td>\n      <td>76402</td>\n      <td>...</td>\n      <td>4699403</td>\n      <td>Microsatellite</td>\n      <td>NM_000311.3(PRNP):c.204_227del24 (p.Pro84_Gln9...</td>\n      <td>germline</td>\n      <td>MONDO:MONDO:0018926,MedGen:C0162534,Orphanet:5...</td>\n      <td>Genetic prion diseases|Huntington disease-like 1</td>\n      <td>ClinGen:CA344807</td>\n      <td>NM_000311.3</td>\n      <td>Pro84_Gln91del</td>\n      <td>Pro84_Gln91del</td>\n    </tr>\n  </tbody>\n</table>\n<p>396 rows × 23 columns</p>\n</div>"
     },
     "metadata": {},
     "execution_count": 366
    }
   ],
   "source": [
    "# capturo 'del' en el medio de un cambio, .* es cualquier cosa 0 o mas veces\n",
    "deletions = box1_clinvar_total.copy()\n",
    "deletions['consequence'] = deletions.cambio.map(lambda x: re.findall('.*del.*', x))\n",
    "deletions['consequence'] = deletions.consequence.str[0]\n",
    "deletions = deletions[deletions.consequence.notnull()]\n",
    "deletions"
   ]
  },
  {
   "cell_type": "code",
   "execution_count": 367,
   "metadata": {},
   "outputs": [
    {
     "output_type": "execute_result",
     "data": {
      "text/plain": [
       "86       (His, 156, Gln, 168, )\n",
       "233      (Val, 148, Thr, 173, )\n",
       "404           (Lys, 2944, , , )\n",
       "603           (Leu, 1141, , , )\n",
       "869           (Glu, 1464, , , )\n",
       "                  ...          \n",
       "40325      (Val, 59, Ser, 63, )\n",
       "40348          (Glu, 161, , , )\n",
       "40367           (Phe, 99, , , )\n",
       "40600          (Ser, 726, , , )\n",
       "40745      (Pro, 84, Gln, 91, )\n",
       "Name: aux, Length: 396, dtype: object"
      ]
     },
     "metadata": {},
     "execution_count": 367
    }
   ],
   "source": [
    "deletions['aux'] = deletions.cambio.map(lambda x: re.findall('^([A-Z][a-z]{2})(\\d+)_?([A-Z][a-z]{2})?(\\d+)?del(.*)$', x))\n",
    "deletions['aux'] = deletions.aux.str[0]\n",
    "deletions['aux']"
   ]
  },
  {
   "cell_type": "code",
   "execution_count": 368,
   "metadata": {},
   "outputs": [],
   "source": [
    "def separar_en_cols(df, column, conseq):\n",
    "    '''\n",
    "    recibe un DataFrame, el nombre de una columna auxiliar (column)\n",
    "    y un string con el tipo de consecuencia (conseq). La col. auxiliar\n",
    "    es una tupla con los elementos implicados en una mutacion\n",
    "    como la siguiente (aa1, start_pos, aa2, end_pos, aa/s_nuevos).\n",
    "    Devuelve el DataFrame df con estas 5 nuevas columnas\n",
    "    '''\n",
    "    # start position\n",
    "    df['start_aa'] = df[column].map(lambda x: x[1])\n",
    "    df.start_aa = df.start_aa.apply(int)\n",
    "\n",
    "    # end position\n",
    "    df['end_aa'] = df[column].map(lambda x: int(x[3]) if x[3] != '' else np.nan)\n",
    "\n",
    "    # from: es el/los aa que cambian\n",
    "    df['from'] = df[column].map(lambda x: x[0] + x[2]) # concateno si existe mas de un aa que cambia (o sea, si es un rango)\n",
    "    \n",
    "    # to: aa/s nuevos\n",
    "    df['to'] = df[column].map(lambda x: x[4] if x[4] != '' else np.nan)\n",
    "\n",
    "    # consecuencia de la mutacion\n",
    "    df['consequence'] = conseq\n",
    "\n",
    "\n",
    "    return df[['cambio', 'start_aa', 'end_aa', 'from', 'to', 'consequence']]"
   ]
  },
  {
   "cell_type": "code",
   "execution_count": 369,
   "metadata": {},
   "outputs": [
    {
     "output_type": "execute_result",
     "data": {
      "text/plain": [
       "                 cambio  start_aa  end_aa    from  to consequence\n",
       "86     His156_Gln168del       156   168.0  HisGln NaN    deletion\n",
       "233    Val148_Thr173del       148   173.0  ValThr NaN    deletion\n",
       "404          Lys2944del      2944     NaN     Lys NaN    deletion\n",
       "603          Leu1141del      1141     NaN     Leu NaN    deletion\n",
       "869          Glu1464del      1464     NaN     Glu NaN    deletion\n",
       "...                 ...       ...     ...     ...  ..         ...\n",
       "40325    Val59_Ser63del        59    63.0  ValSer NaN    deletion\n",
       "40348         Glu161del       161     NaN     Glu NaN    deletion\n",
       "40367          Phe99del        99     NaN     Phe NaN    deletion\n",
       "40600         Ser726del       726     NaN     Ser NaN    deletion\n",
       "40745    Pro84_Gln91del        84    91.0  ProGln NaN    deletion\n",
       "\n",
       "[396 rows x 6 columns]"
      ],
      "text/html": "<div>\n<style scoped>\n    .dataframe tbody tr th:only-of-type {\n        vertical-align: middle;\n    }\n\n    .dataframe tbody tr th {\n        vertical-align: top;\n    }\n\n    .dataframe thead th {\n        text-align: right;\n    }\n</style>\n<table border=\"1\" class=\"dataframe\">\n  <thead>\n    <tr style=\"text-align: right;\">\n      <th></th>\n      <th>cambio</th>\n      <th>start_aa</th>\n      <th>end_aa</th>\n      <th>from</th>\n      <th>to</th>\n      <th>consequence</th>\n    </tr>\n  </thead>\n  <tbody>\n    <tr>\n      <th>86</th>\n      <td>His156_Gln168del</td>\n      <td>156</td>\n      <td>168.0</td>\n      <td>HisGln</td>\n      <td>NaN</td>\n      <td>deletion</td>\n    </tr>\n    <tr>\n      <th>233</th>\n      <td>Val148_Thr173del</td>\n      <td>148</td>\n      <td>173.0</td>\n      <td>ValThr</td>\n      <td>NaN</td>\n      <td>deletion</td>\n    </tr>\n    <tr>\n      <th>404</th>\n      <td>Lys2944del</td>\n      <td>2944</td>\n      <td>NaN</td>\n      <td>Lys</td>\n      <td>NaN</td>\n      <td>deletion</td>\n    </tr>\n    <tr>\n      <th>603</th>\n      <td>Leu1141del</td>\n      <td>1141</td>\n      <td>NaN</td>\n      <td>Leu</td>\n      <td>NaN</td>\n      <td>deletion</td>\n    </tr>\n    <tr>\n      <th>869</th>\n      <td>Glu1464del</td>\n      <td>1464</td>\n      <td>NaN</td>\n      <td>Glu</td>\n      <td>NaN</td>\n      <td>deletion</td>\n    </tr>\n    <tr>\n      <th>...</th>\n      <td>...</td>\n      <td>...</td>\n      <td>...</td>\n      <td>...</td>\n      <td>...</td>\n      <td>...</td>\n    </tr>\n    <tr>\n      <th>40325</th>\n      <td>Val59_Ser63del</td>\n      <td>59</td>\n      <td>63.0</td>\n      <td>ValSer</td>\n      <td>NaN</td>\n      <td>deletion</td>\n    </tr>\n    <tr>\n      <th>40348</th>\n      <td>Glu161del</td>\n      <td>161</td>\n      <td>NaN</td>\n      <td>Glu</td>\n      <td>NaN</td>\n      <td>deletion</td>\n    </tr>\n    <tr>\n      <th>40367</th>\n      <td>Phe99del</td>\n      <td>99</td>\n      <td>NaN</td>\n      <td>Phe</td>\n      <td>NaN</td>\n      <td>deletion</td>\n    </tr>\n    <tr>\n      <th>40600</th>\n      <td>Ser726del</td>\n      <td>726</td>\n      <td>NaN</td>\n      <td>Ser</td>\n      <td>NaN</td>\n      <td>deletion</td>\n    </tr>\n    <tr>\n      <th>40745</th>\n      <td>Pro84_Gln91del</td>\n      <td>84</td>\n      <td>91.0</td>\n      <td>ProGln</td>\n      <td>NaN</td>\n      <td>deletion</td>\n    </tr>\n  </tbody>\n</table>\n<p>396 rows × 6 columns</p>\n</div>"
     },
     "metadata": {},
     "execution_count": 369
    }
   ],
   "source": [
    "separar_en_cols(deletions, 'aux', 'deletion')"
   ]
  },
  {
   "cell_type": "code",
   "execution_count": 370,
   "metadata": {},
   "outputs": [],
   "source": [
    "# elimino la col auxiliar\n",
    "deletions = deletions.drop(columns=['aux'])"
   ]
  },
  {
   "source": [
    "### elimino este subset del df original"
   ],
   "cell_type": "markdown",
   "metadata": {}
  },
  {
   "cell_type": "code",
   "execution_count": 371,
   "metadata": {},
   "outputs": [
    {
     "output_type": "execute_result",
     "data": {
      "text/plain": [
       "22641"
      ]
     },
     "metadata": {},
     "execution_count": 371
    }
   ],
   "source": [
    "cond = box1_clinvar_total.index.isin(deletions.index)                           # es un array de bool\n",
    "box1_clinvar_total = box1_clinvar_total.drop(box1_clinvar_total[cond].index)    # drop esas filas\n",
    "len(box1_clinvar_total)"
   ]
  },
  {
   "source": [
    "# Subset inserciones"
   ],
   "cell_type": "markdown",
   "metadata": {}
  },
  {
   "cell_type": "code",
   "execution_count": 372,
   "metadata": {},
   "outputs": [
    {
     "output_type": "execute_result",
     "data": {
      "text/plain": [
       "      uniprot      organism                           mlo     hgnc_id  length  \\\n",
       "1002   P46100  Homo sapiens              pml nuclear body    HGNC:886    2492   \n",
       "1275   P46100  Homo sapiens              pml nuclear body    HGNC:886    2492   \n",
       "1491   Q99996  Homo sapiens  centrosome/spindle pole body    HGNC:379    3907   \n",
       "2443   P49711  Homo sapiens  centrosome/spindle pole body  HGNC:13723     727   \n",
       "2606   P54132  Homo sapiens              pml nuclear body   HGNC:1058    1417   \n",
       "...       ...           ...                           ...         ...     ...   \n",
       "39692  Q13428  Homo sapiens                     nucleolus  HGNC:11654    1488   \n",
       "39723  Q13428  Homo sapiens                     nucleolus  HGNC:11654    1488   \n",
       "39782  Q13428  Homo sapiens                     nucleolus  HGNC:11654    1488   \n",
       "39792  Q13428  Homo sapiens                     nucleolus  HGNC:11654    1488   \n",
       "40721  P04156  Homo sapiens   cytoplasmic protein granule   HGNC:9449     253   \n",
       "\n",
       "                                                sequence  geneid genesymbol  \\\n",
       "1002   MTAEPMSESKLNTLVQKLHDFLAHSSEESEETSSPPRLAMNQNTDK...     546       ATRX   \n",
       "1275   MTAEPMSESKLNTLVQKLHDFLAHSSEESEETSSPPRLAMNQNTDK...     546       ATRX   \n",
       "1491   MEDEERQKKLEAGKAKLAQFRQRKAQSDGQSPSKKQKKKRKTSSSK...   10142      AKAP9   \n",
       "2443   MEGDAVEAIVEESETFIKGKERKTYQRRREGGQEEDACHLPQNQTD...   10664       CTCF   \n",
       "2606   MAAVPQNNLQEQLERHSARTLNNKLSLSKPKFSGFTFKKKTSSDNN...     641        BLM   \n",
       "...                                                  ...     ...        ...   \n",
       "39692  MAEARKRRELLPLIYHHLLRAGYVRAAREVKEQSGQKCFLAQPVTL...    6949      TCOF1   \n",
       "39723  MAEARKRRELLPLIYHHLLRAGYVRAAREVKEQSGQKCFLAQPVTL...    6949      TCOF1   \n",
       "39782  MAEARKRRELLPLIYHHLLRAGYVRAAREVKEQSGQKCFLAQPVTL...    6949      TCOF1   \n",
       "39792  MAEARKRRELLPLIYHHLLRAGYVRAAREVKEQSGQKCFLAQPVTL...    6949      TCOF1   \n",
       "40721  MANLGCWMLVLFVATWSDLGLCKKRPKPGGWNTGGSRYPGQGSPGG...    5621       PRNP   \n",
       "\n",
       "            snpid  alleleid  ...       stop            type  \\\n",
       "1002   1557142576    430943  ...   77684327     Duplication   \n",
       "1275           -1    850300  ...   77663386        Deletion   \n",
       "1491     10644111    188441  ...   92022865     Duplication   \n",
       "2443    886041901    264964  ...   67628522        Deletion   \n",
       "2606    367543026    186946  ...   90749846        Deletion   \n",
       "...           ...       ...  ...        ...             ...   \n",
       "39692  1554081168    455619  ...  150398417        Deletion   \n",
       "39723  1581136492    633648  ...  150378917        Deletion   \n",
       "39782  1581075276    790527  ...  150369594       Insertion   \n",
       "39792          -1    830545  ...  150389930        Deletion   \n",
       "40721   193922906     28433  ...    4699380  Microsatellite   \n",
       "\n",
       "                                                    name    origin  \\\n",
       "1002   NM_000489.5(ATRX):c.927_929dup (p.Glu310_His31...  germline   \n",
       "1275   NM_000489.6(ATRX):c.4116_4119del (p.Arg1372_Ly...  germline   \n",
       "1491   NM_147185.3(AKAP9):c.4004_4006dup (p.Leu1336_G...  germline   \n",
       "2443   NM_006565.4(CTCF):c.1670_1674del (p.Val556_Cys...  germline   \n",
       "2606   NM_000057.4(BLM):c.581_582del (p.Phe193_Phe194...  germline   \n",
       "...                                                  ...       ...   \n",
       "39692  NM_000356.4(TCOF1):c.4175_4176del (p.Asp1391_S...  germline   \n",
       "39723  NM_001371623.1(TCOF1):c.2353del (p.Ser784_Val7...  germline   \n",
       "39782  NM_001371623.1(TCOF1):c.630_631insCTG (p.Asp21...   unknown   \n",
       "39792  NM_001371623.1(TCOF1):c.3091del (p.Arg1030_Ile...  germline   \n",
       "40721  NM_000311.4(PRNP):c.160_183GGTGGTGGCTGGGGGCAGC...  germline   \n",
       "\n",
       "                                            phenotypeids  \\\n",
       "1002                                     MedGen:CN169374   \n",
       "1275   MONDO:MONDO:0010519,MedGen:C1845055,OMIM:30104...   \n",
       "1491   MedGen:CN169374|MedGen:CN230736|MedGen:C003582...   \n",
       "2443                                     MedGen:CN517202   \n",
       "2606   MONDO:MONDO:0008876,MedGen:C0005859,OMIM:21090...   \n",
       "...                                                  ...   \n",
       "39692  MONDO:MONDO:0007944,MedGen:CN119605,OMIM:15450...   \n",
       "39723  MONDO:MONDO:0007944,MedGen:CN119605,OMIM:15450...   \n",
       "39782  MONDO:MONDO:0007944,MedGen:CN119605,OMIM:15450...   \n",
       "39792  MONDO:MONDO:0007944,MedGen:CN119605,OMIM:15450...   \n",
       "40721  MedGen:C0022336,OMIM:123400,Orphanet:204,Orpha...   \n",
       "\n",
       "                                           phenotypelist             otherids  \\\n",
       "1002                                       not specified  ClinGen:CA645373309   \n",
       "1275   Alpha thalassemia-X-linked intellectual disabi...                    -   \n",
       "1491   not specified|Cardiovascular phenotype|Romano-...     ClinGen:CA199739   \n",
       "2443                                        not provided   ClinGen:CA10603544   \n",
       "2606                                      Bloom syndrome     ClinGen:CA274291   \n",
       "...                                                  ...                  ...   \n",
       "39692                        Treacher Collins syndrome 1  ClinGen:CA658657564   \n",
       "39723                        Treacher Collins syndrome 1                    -   \n",
       "39782                        Treacher Collins syndrome 1                    -   \n",
       "39792                        Treacher Collins syndrome 1                    -   \n",
       "40721  Jakob-Creutzfeldt disease|Gerstmann-Straussler...     OMIM:176640.0001   \n",
       "\n",
       "           nuccore_id                                             cambio  \\\n",
       "1002      NM_000489.5                                Glu310_His311insAsp   \n",
       "1275      NM_000489.6                              Arg1372_Lys1373insTer   \n",
       "1491      NM_147185.3                              Leu1336_Glu1337insGln   \n",
       "2443      NM_006565.4                                Val556_Cys557insTer   \n",
       "2606      NM_000057.4                                Phe193_Phe194insTer   \n",
       "...               ...                                                ...   \n",
       "39692     NM_000356.4                              Asp1391_Ser1392insTer   \n",
       "39723  NM_001371623.1                                Ser784_Val785insTer   \n",
       "39782  NM_001371623.1                                Asp211_Val212insLeu   \n",
       "39792  NM_001371623.1                              Arg1030_Ile1031insTer   \n",
       "40721     NM_000311.4  Gln59_Pro60insGlnGlyGlyGlyGlyTrpGlyGlnGlnGlyGl...   \n",
       "\n",
       "                                             consequence  \n",
       "1002                                 Glu310_His311insAsp  \n",
       "1275                               Arg1372_Lys1373insTer  \n",
       "1491                               Leu1336_Glu1337insGln  \n",
       "2443                                 Val556_Cys557insTer  \n",
       "2606                                 Phe193_Phe194insTer  \n",
       "...                                                  ...  \n",
       "39692                              Asp1391_Ser1392insTer  \n",
       "39723                                Ser784_Val785insTer  \n",
       "39782                                Asp211_Val212insLeu  \n",
       "39792                              Arg1030_Ile1031insTer  \n",
       "40721  Gln59_Pro60insGlnGlyGlyGlyGlyTrpGlyGlnGlnGlyGl...  \n",
       "\n",
       "[143 rows x 23 columns]"
      ],
      "text/html": "<div>\n<style scoped>\n    .dataframe tbody tr th:only-of-type {\n        vertical-align: middle;\n    }\n\n    .dataframe tbody tr th {\n        vertical-align: top;\n    }\n\n    .dataframe thead th {\n        text-align: right;\n    }\n</style>\n<table border=\"1\" class=\"dataframe\">\n  <thead>\n    <tr style=\"text-align: right;\">\n      <th></th>\n      <th>uniprot</th>\n      <th>organism</th>\n      <th>mlo</th>\n      <th>hgnc_id</th>\n      <th>length</th>\n      <th>sequence</th>\n      <th>geneid</th>\n      <th>genesymbol</th>\n      <th>snpid</th>\n      <th>alleleid</th>\n      <th>...</th>\n      <th>stop</th>\n      <th>type</th>\n      <th>name</th>\n      <th>origin</th>\n      <th>phenotypeids</th>\n      <th>phenotypelist</th>\n      <th>otherids</th>\n      <th>nuccore_id</th>\n      <th>cambio</th>\n      <th>consequence</th>\n    </tr>\n  </thead>\n  <tbody>\n    <tr>\n      <th>1002</th>\n      <td>P46100</td>\n      <td>Homo sapiens</td>\n      <td>pml nuclear body</td>\n      <td>HGNC:886</td>\n      <td>2492</td>\n      <td>MTAEPMSESKLNTLVQKLHDFLAHSSEESEETSSPPRLAMNQNTDK...</td>\n      <td>546</td>\n      <td>ATRX</td>\n      <td>1557142576</td>\n      <td>430943</td>\n      <td>...</td>\n      <td>77684327</td>\n      <td>Duplication</td>\n      <td>NM_000489.5(ATRX):c.927_929dup (p.Glu310_His31...</td>\n      <td>germline</td>\n      <td>MedGen:CN169374</td>\n      <td>not specified</td>\n      <td>ClinGen:CA645373309</td>\n      <td>NM_000489.5</td>\n      <td>Glu310_His311insAsp</td>\n      <td>Glu310_His311insAsp</td>\n    </tr>\n    <tr>\n      <th>1275</th>\n      <td>P46100</td>\n      <td>Homo sapiens</td>\n      <td>pml nuclear body</td>\n      <td>HGNC:886</td>\n      <td>2492</td>\n      <td>MTAEPMSESKLNTLVQKLHDFLAHSSEESEETSSPPRLAMNQNTDK...</td>\n      <td>546</td>\n      <td>ATRX</td>\n      <td>-1</td>\n      <td>850300</td>\n      <td>...</td>\n      <td>77663386</td>\n      <td>Deletion</td>\n      <td>NM_000489.6(ATRX):c.4116_4119del (p.Arg1372_Ly...</td>\n      <td>germline</td>\n      <td>MONDO:MONDO:0010519,MedGen:C1845055,OMIM:30104...</td>\n      <td>Alpha thalassemia-X-linked intellectual disabi...</td>\n      <td>-</td>\n      <td>NM_000489.6</td>\n      <td>Arg1372_Lys1373insTer</td>\n      <td>Arg1372_Lys1373insTer</td>\n    </tr>\n    <tr>\n      <th>1491</th>\n      <td>Q99996</td>\n      <td>Homo sapiens</td>\n      <td>centrosome/spindle pole body</td>\n      <td>HGNC:379</td>\n      <td>3907</td>\n      <td>MEDEERQKKLEAGKAKLAQFRQRKAQSDGQSPSKKQKKKRKTSSSK...</td>\n      <td>10142</td>\n      <td>AKAP9</td>\n      <td>10644111</td>\n      <td>188441</td>\n      <td>...</td>\n      <td>92022865</td>\n      <td>Duplication</td>\n      <td>NM_147185.3(AKAP9):c.4004_4006dup (p.Leu1336_G...</td>\n      <td>germline</td>\n      <td>MedGen:CN169374|MedGen:CN230736|MedGen:C003582...</td>\n      <td>not specified|Cardiovascular phenotype|Romano-...</td>\n      <td>ClinGen:CA199739</td>\n      <td>NM_147185.3</td>\n      <td>Leu1336_Glu1337insGln</td>\n      <td>Leu1336_Glu1337insGln</td>\n    </tr>\n    <tr>\n      <th>2443</th>\n      <td>P49711</td>\n      <td>Homo sapiens</td>\n      <td>centrosome/spindle pole body</td>\n      <td>HGNC:13723</td>\n      <td>727</td>\n      <td>MEGDAVEAIVEESETFIKGKERKTYQRRREGGQEEDACHLPQNQTD...</td>\n      <td>10664</td>\n      <td>CTCF</td>\n      <td>886041901</td>\n      <td>264964</td>\n      <td>...</td>\n      <td>67628522</td>\n      <td>Deletion</td>\n      <td>NM_006565.4(CTCF):c.1670_1674del (p.Val556_Cys...</td>\n      <td>germline</td>\n      <td>MedGen:CN517202</td>\n      <td>not provided</td>\n      <td>ClinGen:CA10603544</td>\n      <td>NM_006565.4</td>\n      <td>Val556_Cys557insTer</td>\n      <td>Val556_Cys557insTer</td>\n    </tr>\n    <tr>\n      <th>2606</th>\n      <td>P54132</td>\n      <td>Homo sapiens</td>\n      <td>pml nuclear body</td>\n      <td>HGNC:1058</td>\n      <td>1417</td>\n      <td>MAAVPQNNLQEQLERHSARTLNNKLSLSKPKFSGFTFKKKTSSDNN...</td>\n      <td>641</td>\n      <td>BLM</td>\n      <td>367543026</td>\n      <td>186946</td>\n      <td>...</td>\n      <td>90749846</td>\n      <td>Deletion</td>\n      <td>NM_000057.4(BLM):c.581_582del (p.Phe193_Phe194...</td>\n      <td>germline</td>\n      <td>MONDO:MONDO:0008876,MedGen:C0005859,OMIM:21090...</td>\n      <td>Bloom syndrome</td>\n      <td>ClinGen:CA274291</td>\n      <td>NM_000057.4</td>\n      <td>Phe193_Phe194insTer</td>\n      <td>Phe193_Phe194insTer</td>\n    </tr>\n    <tr>\n      <th>...</th>\n      <td>...</td>\n      <td>...</td>\n      <td>...</td>\n      <td>...</td>\n      <td>...</td>\n      <td>...</td>\n      <td>...</td>\n      <td>...</td>\n      <td>...</td>\n      <td>...</td>\n      <td>...</td>\n      <td>...</td>\n      <td>...</td>\n      <td>...</td>\n      <td>...</td>\n      <td>...</td>\n      <td>...</td>\n      <td>...</td>\n      <td>...</td>\n      <td>...</td>\n      <td>...</td>\n    </tr>\n    <tr>\n      <th>39692</th>\n      <td>Q13428</td>\n      <td>Homo sapiens</td>\n      <td>nucleolus</td>\n      <td>HGNC:11654</td>\n      <td>1488</td>\n      <td>MAEARKRRELLPLIYHHLLRAGYVRAAREVKEQSGQKCFLAQPVTL...</td>\n      <td>6949</td>\n      <td>TCOF1</td>\n      <td>1554081168</td>\n      <td>455619</td>\n      <td>...</td>\n      <td>150398417</td>\n      <td>Deletion</td>\n      <td>NM_000356.4(TCOF1):c.4175_4176del (p.Asp1391_S...</td>\n      <td>germline</td>\n      <td>MONDO:MONDO:0007944,MedGen:CN119605,OMIM:15450...</td>\n      <td>Treacher Collins syndrome 1</td>\n      <td>ClinGen:CA658657564</td>\n      <td>NM_000356.4</td>\n      <td>Asp1391_Ser1392insTer</td>\n      <td>Asp1391_Ser1392insTer</td>\n    </tr>\n    <tr>\n      <th>39723</th>\n      <td>Q13428</td>\n      <td>Homo sapiens</td>\n      <td>nucleolus</td>\n      <td>HGNC:11654</td>\n      <td>1488</td>\n      <td>MAEARKRRELLPLIYHHLLRAGYVRAAREVKEQSGQKCFLAQPVTL...</td>\n      <td>6949</td>\n      <td>TCOF1</td>\n      <td>1581136492</td>\n      <td>633648</td>\n      <td>...</td>\n      <td>150378917</td>\n      <td>Deletion</td>\n      <td>NM_001371623.1(TCOF1):c.2353del (p.Ser784_Val7...</td>\n      <td>germline</td>\n      <td>MONDO:MONDO:0007944,MedGen:CN119605,OMIM:15450...</td>\n      <td>Treacher Collins syndrome 1</td>\n      <td>-</td>\n      <td>NM_001371623.1</td>\n      <td>Ser784_Val785insTer</td>\n      <td>Ser784_Val785insTer</td>\n    </tr>\n    <tr>\n      <th>39782</th>\n      <td>Q13428</td>\n      <td>Homo sapiens</td>\n      <td>nucleolus</td>\n      <td>HGNC:11654</td>\n      <td>1488</td>\n      <td>MAEARKRRELLPLIYHHLLRAGYVRAAREVKEQSGQKCFLAQPVTL...</td>\n      <td>6949</td>\n      <td>TCOF1</td>\n      <td>1581075276</td>\n      <td>790527</td>\n      <td>...</td>\n      <td>150369594</td>\n      <td>Insertion</td>\n      <td>NM_001371623.1(TCOF1):c.630_631insCTG (p.Asp21...</td>\n      <td>unknown</td>\n      <td>MONDO:MONDO:0007944,MedGen:CN119605,OMIM:15450...</td>\n      <td>Treacher Collins syndrome 1</td>\n      <td>-</td>\n      <td>NM_001371623.1</td>\n      <td>Asp211_Val212insLeu</td>\n      <td>Asp211_Val212insLeu</td>\n    </tr>\n    <tr>\n      <th>39792</th>\n      <td>Q13428</td>\n      <td>Homo sapiens</td>\n      <td>nucleolus</td>\n      <td>HGNC:11654</td>\n      <td>1488</td>\n      <td>MAEARKRRELLPLIYHHLLRAGYVRAAREVKEQSGQKCFLAQPVTL...</td>\n      <td>6949</td>\n      <td>TCOF1</td>\n      <td>-1</td>\n      <td>830545</td>\n      <td>...</td>\n      <td>150389930</td>\n      <td>Deletion</td>\n      <td>NM_001371623.1(TCOF1):c.3091del (p.Arg1030_Ile...</td>\n      <td>germline</td>\n      <td>MONDO:MONDO:0007944,MedGen:CN119605,OMIM:15450...</td>\n      <td>Treacher Collins syndrome 1</td>\n      <td>-</td>\n      <td>NM_001371623.1</td>\n      <td>Arg1030_Ile1031insTer</td>\n      <td>Arg1030_Ile1031insTer</td>\n    </tr>\n    <tr>\n      <th>40721</th>\n      <td>P04156</td>\n      <td>Homo sapiens</td>\n      <td>cytoplasmic protein granule</td>\n      <td>HGNC:9449</td>\n      <td>253</td>\n      <td>MANLGCWMLVLFVATWSDLGLCKKRPKPGGWNTGGSRYPGQGSPGG...</td>\n      <td>5621</td>\n      <td>PRNP</td>\n      <td>193922906</td>\n      <td>28433</td>\n      <td>...</td>\n      <td>4699380</td>\n      <td>Microsatellite</td>\n      <td>NM_000311.4(PRNP):c.160_183GGTGGTGGCTGGGGGCAGC...</td>\n      <td>germline</td>\n      <td>MedGen:C0022336,OMIM:123400,Orphanet:204,Orpha...</td>\n      <td>Jakob-Creutzfeldt disease|Gerstmann-Straussler...</td>\n      <td>OMIM:176640.0001</td>\n      <td>NM_000311.4</td>\n      <td>Gln59_Pro60insGlnGlyGlyGlyGlyTrpGlyGlnGlnGlyGl...</td>\n      <td>Gln59_Pro60insGlnGlyGlyGlyGlyTrpGlyGlnGlnGlyGl...</td>\n    </tr>\n  </tbody>\n</table>\n<p>143 rows × 23 columns</p>\n</div>"
     },
     "metadata": {},
     "execution_count": 372
    }
   ],
   "source": [
    "# capturo 'ins' en el medio de un cambio, .* es cualquier cosa 0 o mas veces\n",
    "insertions = box1_clinvar_total.copy()\n",
    "insertions['consequence'] = insertions.cambio.map(lambda x: re.findall('.*ins.*', x))\n",
    "insertions['consequence'] = insertions.consequence.str[0]\n",
    "insertions = insertions[insertions.consequence.notnull()]\n",
    "insertions"
   ]
  },
  {
   "cell_type": "code",
   "execution_count": 373,
   "metadata": {},
   "outputs": [
    {
     "output_type": "execute_result",
     "data": {
      "text/plain": [
       "1002                             (Glu, 310, His, 311, Asp)\n",
       "1275                           (Arg, 1372, Lys, 1373, Ter)\n",
       "1491                           (Leu, 1336, Glu, 1337, Gln)\n",
       "2443                             (Val, 556, Cys, 557, Ter)\n",
       "2606                             (Phe, 193, Phe, 194, Ter)\n",
       "                               ...                        \n",
       "39692                          (Asp, 1391, Ser, 1392, Ter)\n",
       "39723                            (Ser, 784, Val, 785, Ter)\n",
       "39782                            (Asp, 211, Val, 212, Leu)\n",
       "39792                          (Arg, 1030, Ile, 1031, Ter)\n",
       "40721    (Gln, 59, Pro, 60, GlnGlyGlyGlyGlyTrpGlyGlnGln...\n",
       "Name: aux, Length: 143, dtype: object"
      ]
     },
     "metadata": {},
     "execution_count": 373
    }
   ],
   "source": [
    "# genero la col con las tuplas\n",
    "insertions['aux'] = insertions.cambio.map(lambda x: re.findall('^([A-Z][a-z]{2})(\\d+)_?([A-Z][a-z]{2})?(\\d+)?ins(.*)$', x))\n",
    "insertions['aux'] = insertions.aux.str[0]\n",
    "insertions['aux']"
   ]
  },
  {
   "cell_type": "code",
   "execution_count": 374,
   "metadata": {},
   "outputs": [
    {
     "output_type": "execute_result",
     "data": {
      "text/plain": [
       "                                                  cambio  start_aa  end_aa  \\\n",
       "1002                                 Glu310_His311insAsp       310     311   \n",
       "1275                               Arg1372_Lys1373insTer      1372    1373   \n",
       "1491                               Leu1336_Glu1337insGln      1336    1337   \n",
       "2443                                 Val556_Cys557insTer       556     557   \n",
       "2606                                 Phe193_Phe194insTer       193     194   \n",
       "...                                                  ...       ...     ...   \n",
       "39692                              Asp1391_Ser1392insTer      1391    1392   \n",
       "39723                                Ser784_Val785insTer       784     785   \n",
       "39782                                Asp211_Val212insLeu       211     212   \n",
       "39792                              Arg1030_Ile1031insTer      1030    1031   \n",
       "40721  Gln59_Pro60insGlnGlyGlyGlyGlyTrpGlyGlnGlnGlyGl...        59      60   \n",
       "\n",
       "         from                                                 to consequence  \n",
       "1002   GluHis                                                Asp   insertion  \n",
       "1275   ArgLys                                                Ter   insertion  \n",
       "1491   LeuGlu                                                Gln   insertion  \n",
       "2443   ValCys                                                Ter   insertion  \n",
       "2606   PhePhe                                                Ter   insertion  \n",
       "...       ...                                                ...         ...  \n",
       "39692  AspSer                                                Ter   insertion  \n",
       "39723  SerVal                                                Ter   insertion  \n",
       "39782  AspVal                                                Leu   insertion  \n",
       "39792  ArgIle                                                Ter   insertion  \n",
       "40721  GlnPro  GlnGlyGlyGlyGlyTrpGlyGlnGlnGlyGlyGlyGlyTrpGlyG...   insertion  \n",
       "\n",
       "[143 rows x 6 columns]"
      ],
      "text/html": "<div>\n<style scoped>\n    .dataframe tbody tr th:only-of-type {\n        vertical-align: middle;\n    }\n\n    .dataframe tbody tr th {\n        vertical-align: top;\n    }\n\n    .dataframe thead th {\n        text-align: right;\n    }\n</style>\n<table border=\"1\" class=\"dataframe\">\n  <thead>\n    <tr style=\"text-align: right;\">\n      <th></th>\n      <th>cambio</th>\n      <th>start_aa</th>\n      <th>end_aa</th>\n      <th>from</th>\n      <th>to</th>\n      <th>consequence</th>\n    </tr>\n  </thead>\n  <tbody>\n    <tr>\n      <th>1002</th>\n      <td>Glu310_His311insAsp</td>\n      <td>310</td>\n      <td>311</td>\n      <td>GluHis</td>\n      <td>Asp</td>\n      <td>insertion</td>\n    </tr>\n    <tr>\n      <th>1275</th>\n      <td>Arg1372_Lys1373insTer</td>\n      <td>1372</td>\n      <td>1373</td>\n      <td>ArgLys</td>\n      <td>Ter</td>\n      <td>insertion</td>\n    </tr>\n    <tr>\n      <th>1491</th>\n      <td>Leu1336_Glu1337insGln</td>\n      <td>1336</td>\n      <td>1337</td>\n      <td>LeuGlu</td>\n      <td>Gln</td>\n      <td>insertion</td>\n    </tr>\n    <tr>\n      <th>2443</th>\n      <td>Val556_Cys557insTer</td>\n      <td>556</td>\n      <td>557</td>\n      <td>ValCys</td>\n      <td>Ter</td>\n      <td>insertion</td>\n    </tr>\n    <tr>\n      <th>2606</th>\n      <td>Phe193_Phe194insTer</td>\n      <td>193</td>\n      <td>194</td>\n      <td>PhePhe</td>\n      <td>Ter</td>\n      <td>insertion</td>\n    </tr>\n    <tr>\n      <th>...</th>\n      <td>...</td>\n      <td>...</td>\n      <td>...</td>\n      <td>...</td>\n      <td>...</td>\n      <td>...</td>\n    </tr>\n    <tr>\n      <th>39692</th>\n      <td>Asp1391_Ser1392insTer</td>\n      <td>1391</td>\n      <td>1392</td>\n      <td>AspSer</td>\n      <td>Ter</td>\n      <td>insertion</td>\n    </tr>\n    <tr>\n      <th>39723</th>\n      <td>Ser784_Val785insTer</td>\n      <td>784</td>\n      <td>785</td>\n      <td>SerVal</td>\n      <td>Ter</td>\n      <td>insertion</td>\n    </tr>\n    <tr>\n      <th>39782</th>\n      <td>Asp211_Val212insLeu</td>\n      <td>211</td>\n      <td>212</td>\n      <td>AspVal</td>\n      <td>Leu</td>\n      <td>insertion</td>\n    </tr>\n    <tr>\n      <th>39792</th>\n      <td>Arg1030_Ile1031insTer</td>\n      <td>1030</td>\n      <td>1031</td>\n      <td>ArgIle</td>\n      <td>Ter</td>\n      <td>insertion</td>\n    </tr>\n    <tr>\n      <th>40721</th>\n      <td>Gln59_Pro60insGlnGlyGlyGlyGlyTrpGlyGlnGlnGlyGl...</td>\n      <td>59</td>\n      <td>60</td>\n      <td>GlnPro</td>\n      <td>GlnGlyGlyGlyGlyTrpGlyGlnGlnGlyGlyGlyGlyTrpGlyG...</td>\n      <td>insertion</td>\n    </tr>\n  </tbody>\n</table>\n<p>143 rows × 6 columns</p>\n</div>"
     },
     "metadata": {},
     "execution_count": 374
    }
   ],
   "source": [
    "separar_en_cols(insertions, 'aux', 'insertion')"
   ]
  },
  {
   "cell_type": "code",
   "execution_count": 375,
   "metadata": {},
   "outputs": [],
   "source": [
    "# elimino la col auxiliar\n",
    "insertions = insertions.drop(columns=['aux'])"
   ]
  },
  {
   "cell_type": "code",
   "execution_count": 376,
   "metadata": {},
   "outputs": [
    {
     "output_type": "execute_result",
     "data": {
      "text/plain": [
       "22498"
      ]
     },
     "metadata": {},
     "execution_count": 376
    }
   ],
   "source": [
    "cond = box1_clinvar_total.index.isin(insertions.index)                           # es un array de bool\n",
    "box1_clinvar_total = box1_clinvar_total.drop(box1_clinvar_total[cond].index)     # drop esas filas\n",
    "len(box1_clinvar_total)"
   ]
  },
  {
   "source": [
    "# Subset frameshifts"
   ],
   "cell_type": "markdown",
   "metadata": {}
  },
  {
   "cell_type": "code",
   "execution_count": 377,
   "metadata": {},
   "outputs": [
    {
     "output_type": "execute_result",
     "data": {
      "text/plain": [
       "False    19739\n",
       "True      2759\n",
       "Name: cambio, dtype: int64"
      ]
     },
     "metadata": {},
     "execution_count": 377
    }
   ],
   "source": [
    "((box1_clinvar_total.cambio.map(lambda x: re.findall('^([A-Z][a-z]{2})(\\d+)_?([A-Z][a-z]{2})?(\\d+)?fs(.*)$', x))).str[0]).notnull().value_counts() # da 2759 y con endswith 2757"
   ]
  },
  {
   "cell_type": "code",
   "execution_count": 378,
   "metadata": {},
   "outputs": [
    {
     "output_type": "execute_result",
     "data": {
      "text/plain": [
       "      uniprot      organism                           mlo     hgnc_id  length  \\\n",
       "28     O95613  Homo sapiens  centrosome/spindle pole body  HGNC:16068    3336   \n",
       "29     O95613  Homo sapiens  centrosome/spindle pole body  HGNC:16068    3336   \n",
       "31     O95613  Homo sapiens  centrosome/spindle pole body  HGNC:16068    3336   \n",
       "36     O95613  Homo sapiens  centrosome/spindle pole body  HGNC:16068    3336   \n",
       "109    O95613  Homo sapiens  centrosome/spindle pole body  HGNC:16068    3336   \n",
       "...       ...           ...                           ...         ...     ...   \n",
       "40971  Q15233  Homo sapiens                   paraspeckle   HGNC:7871     471   \n",
       "40974  Q15233  Homo sapiens                   paraspeckle   HGNC:7871     471   \n",
       "40988  Q15233  Homo sapiens                   paraspeckle   HGNC:7871     471   \n",
       "40989  Q15233  Homo sapiens                   paraspeckle   HGNC:7871     471   \n",
       "40993  Q15233  Homo sapiens                   paraspeckle   HGNC:7871     471   \n",
       "\n",
       "                                                sequence  geneid genesymbol  \\\n",
       "28     MEVEQEQRRRKVEAGRTKLAHFRQRKTKGDSSHSEKKTAKRKGSAV...    5116       PCNT   \n",
       "29     MEVEQEQRRRKVEAGRTKLAHFRQRKTKGDSSHSEKKTAKRKGSAV...    5116       PCNT   \n",
       "31     MEVEQEQRRRKVEAGRTKLAHFRQRKTKGDSSHSEKKTAKRKGSAV...    5116       PCNT   \n",
       "36     MEVEQEQRRRKVEAGRTKLAHFRQRKTKGDSSHSEKKTAKRKGSAV...    5116       PCNT   \n",
       "109    MEVEQEQRRRKVEAGRTKLAHFRQRKTKGDSSHSEKKTAKRKGSAV...    5116       PCNT   \n",
       "...                                                  ...     ...        ...   \n",
       "40971  MQSNKTFNLEKQNHTPRKHHQHHHQQQHHQQQQQQPPPPPIPANGQ...    4841       NONO   \n",
       "40974  MQSNKTFNLEKQNHTPRKHHQHHHQQQHHQQQQQQPPPPPIPANGQ...    4841       NONO   \n",
       "40988  MQSNKTFNLEKQNHTPRKHHQHHHQQQHHQQQQQQPPPPPIPANGQ...    4841       NONO   \n",
       "40989  MQSNKTFNLEKQNHTPRKHHQHHHQQQHHQQQQQQPPPPPIPANGQ...    4841       NONO   \n",
       "40993  MQSNKTFNLEKQNHTPRKHHQHHHQQQHHQQQQQQPPPPPIPANGQ...    4841       NONO   \n",
       "\n",
       "            snpid  alleleid  ...     start      stop            type  \\\n",
       "28      397509366     19743  ...  46355577  46355577        Deletion   \n",
       "29      397514033     19744  ...  46388844  46388845     Duplication   \n",
       "31     1601795448     19746  ...  46346863  46346864     Duplication   \n",
       "36     1369869782     48589  ...  46353169  46353170     Duplication   \n",
       "109     587784302    169639  ...  46366955  46366965        Deletion   \n",
       "...           ...       ...  ...       ...       ...             ...   \n",
       "40971  1555950374    493310  ...  71298727  71298728  Microsatellite   \n",
       "40974  1602386427    650198  ...  71291868  71291868        Deletion   \n",
       "40988  1602385860    798822  ...  71290743  71290743        Deletion   \n",
       "40989          -1    800680  ...  71298725  71298726        Deletion   \n",
       "40993          -1    966737  ...  71291868  71291871        Deletion   \n",
       "\n",
       "                                                  name    origin  \\\n",
       "28            NM_006031.6(PCNT):c.1887del (p.Ala630fs)  germline   \n",
       "29           NM_006031.6(PCNT):c.3568dup (p.Cys1190fs)  germline   \n",
       "31             NM_006031.6(PCNT):c.844dup (p.Glu282fs)  germline   \n",
       "36            NM_006031.6(PCNT):c.1528dup (p.Thr510fs)  germline   \n",
       "109      NM_006031.6(PCNT):c.2984_2994del (p.Ala995fs)  germline   \n",
       "...                                                ...       ...   \n",
       "40971  NM_007363.5(NONO):c.1192_1193AG[1] (p.Gly399fs)  germline   \n",
       "40974           NM_007363.5(NONO):c.245del (p.Pro82fs)  germline   \n",
       "40988           NM_007363.5(NONO):c.107del (p.Pro36fs)  germline   \n",
       "40989    NM_007363.5(NONO):c.1191_1192del (p.Asn397fs)  germline   \n",
       "40993       NM_007363.5(NONO):c.246_249del (p.Pro83fs)  germline   \n",
       "\n",
       "                                            phenotypeids  \\\n",
       "28     MONDO:MONDO:0008872,MedGen:C0432246,OMIM:21072...   \n",
       "29     MONDO:MONDO:0008872,MedGen:C0432246,OMIM:21072...   \n",
       "31     MONDO:MONDO:0008872,MedGen:C0432246,OMIM:21072...   \n",
       "36     MONDO:MONDO:0008872,MedGen:C0432246,OMIM:21072...   \n",
       "109    MONDO:MONDO:0008872,MedGen:C0432246,OMIM:21072...   \n",
       "...                                                  ...   \n",
       "40971                                    MedGen:CN517202   \n",
       "40974                                    MedGen:CN517202   \n",
       "40988  MONDO:MONDO:0010501,MedGen:C4225417,OMIM:30096...   \n",
       "40989  MONDO:MONDO:0010501,MedGen:C4225417,OMIM:30096...   \n",
       "40993  Human Phenotype Ontology:HP:0001627,Human Phen...   \n",
       "\n",
       "                                           phenotypelist  \\\n",
       "28     Microcephalic osteodysplastic primordial dwarf...   \n",
       "29     Microcephalic osteodysplastic primordial dwarf...   \n",
       "31     Microcephalic osteodysplastic primordial dwarf...   \n",
       "36     Microcephalic osteodysplastic primordial dwarf...   \n",
       "109    Microcephalic osteodysplastic primordial dwarf...   \n",
       "...                                                  ...   \n",
       "40971                                       not provided   \n",
       "40974                                       not provided   \n",
       "40988         Mental retardation, X-linked, syndromic 34   \n",
       "40989         Mental retardation, X-linked, syndromic 34   \n",
       "40993                          Abnormal heart morphology   \n",
       "\n",
       "                                otherids   nuccore_id     cambio  \n",
       "28     ClinGen:CA250508,OMIM:605925.0002  NM_006031.6   Ala630fs  \n",
       "29     ClinGen:CA250509,OMIM:605925.0003  NM_006031.6  Cys1190fs  \n",
       "31                      OMIM:605925.0005  NM_006031.6   Glu282fs  \n",
       "36                      OMIM:605925.0012  NM_006031.6   Thr510fs  \n",
       "109                     ClinGen:CA251043  NM_006031.6   Ala995fs  \n",
       "...                                  ...          ...        ...  \n",
       "40971                ClinGen:CA658799797  NM_007363.5   Gly399fs  \n",
       "40974                                  -  NM_007363.5    Pro82fs  \n",
       "40988                                  -  NM_007363.5    Pro36fs  \n",
       "40989                                  -  NM_007363.5   Asn397fs  \n",
       "40993                                  -  NM_007363.5    Pro83fs  \n",
       "\n",
       "[2757 rows x 22 columns]"
      ],
      "text/html": "<div>\n<style scoped>\n    .dataframe tbody tr th:only-of-type {\n        vertical-align: middle;\n    }\n\n    .dataframe tbody tr th {\n        vertical-align: top;\n    }\n\n    .dataframe thead th {\n        text-align: right;\n    }\n</style>\n<table border=\"1\" class=\"dataframe\">\n  <thead>\n    <tr style=\"text-align: right;\">\n      <th></th>\n      <th>uniprot</th>\n      <th>organism</th>\n      <th>mlo</th>\n      <th>hgnc_id</th>\n      <th>length</th>\n      <th>sequence</th>\n      <th>geneid</th>\n      <th>genesymbol</th>\n      <th>snpid</th>\n      <th>alleleid</th>\n      <th>...</th>\n      <th>start</th>\n      <th>stop</th>\n      <th>type</th>\n      <th>name</th>\n      <th>origin</th>\n      <th>phenotypeids</th>\n      <th>phenotypelist</th>\n      <th>otherids</th>\n      <th>nuccore_id</th>\n      <th>cambio</th>\n    </tr>\n  </thead>\n  <tbody>\n    <tr>\n      <th>28</th>\n      <td>O95613</td>\n      <td>Homo sapiens</td>\n      <td>centrosome/spindle pole body</td>\n      <td>HGNC:16068</td>\n      <td>3336</td>\n      <td>MEVEQEQRRRKVEAGRTKLAHFRQRKTKGDSSHSEKKTAKRKGSAV...</td>\n      <td>5116</td>\n      <td>PCNT</td>\n      <td>397509366</td>\n      <td>19743</td>\n      <td>...</td>\n      <td>46355577</td>\n      <td>46355577</td>\n      <td>Deletion</td>\n      <td>NM_006031.6(PCNT):c.1887del (p.Ala630fs)</td>\n      <td>germline</td>\n      <td>MONDO:MONDO:0008872,MedGen:C0432246,OMIM:21072...</td>\n      <td>Microcephalic osteodysplastic primordial dwarf...</td>\n      <td>ClinGen:CA250508,OMIM:605925.0002</td>\n      <td>NM_006031.6</td>\n      <td>Ala630fs</td>\n    </tr>\n    <tr>\n      <th>29</th>\n      <td>O95613</td>\n      <td>Homo sapiens</td>\n      <td>centrosome/spindle pole body</td>\n      <td>HGNC:16068</td>\n      <td>3336</td>\n      <td>MEVEQEQRRRKVEAGRTKLAHFRQRKTKGDSSHSEKKTAKRKGSAV...</td>\n      <td>5116</td>\n      <td>PCNT</td>\n      <td>397514033</td>\n      <td>19744</td>\n      <td>...</td>\n      <td>46388844</td>\n      <td>46388845</td>\n      <td>Duplication</td>\n      <td>NM_006031.6(PCNT):c.3568dup (p.Cys1190fs)</td>\n      <td>germline</td>\n      <td>MONDO:MONDO:0008872,MedGen:C0432246,OMIM:21072...</td>\n      <td>Microcephalic osteodysplastic primordial dwarf...</td>\n      <td>ClinGen:CA250509,OMIM:605925.0003</td>\n      <td>NM_006031.6</td>\n      <td>Cys1190fs</td>\n    </tr>\n    <tr>\n      <th>31</th>\n      <td>O95613</td>\n      <td>Homo sapiens</td>\n      <td>centrosome/spindle pole body</td>\n      <td>HGNC:16068</td>\n      <td>3336</td>\n      <td>MEVEQEQRRRKVEAGRTKLAHFRQRKTKGDSSHSEKKTAKRKGSAV...</td>\n      <td>5116</td>\n      <td>PCNT</td>\n      <td>1601795448</td>\n      <td>19746</td>\n      <td>...</td>\n      <td>46346863</td>\n      <td>46346864</td>\n      <td>Duplication</td>\n      <td>NM_006031.6(PCNT):c.844dup (p.Glu282fs)</td>\n      <td>germline</td>\n      <td>MONDO:MONDO:0008872,MedGen:C0432246,OMIM:21072...</td>\n      <td>Microcephalic osteodysplastic primordial dwarf...</td>\n      <td>OMIM:605925.0005</td>\n      <td>NM_006031.6</td>\n      <td>Glu282fs</td>\n    </tr>\n    <tr>\n      <th>36</th>\n      <td>O95613</td>\n      <td>Homo sapiens</td>\n      <td>centrosome/spindle pole body</td>\n      <td>HGNC:16068</td>\n      <td>3336</td>\n      <td>MEVEQEQRRRKVEAGRTKLAHFRQRKTKGDSSHSEKKTAKRKGSAV...</td>\n      <td>5116</td>\n      <td>PCNT</td>\n      <td>1369869782</td>\n      <td>48589</td>\n      <td>...</td>\n      <td>46353169</td>\n      <td>46353170</td>\n      <td>Duplication</td>\n      <td>NM_006031.6(PCNT):c.1528dup (p.Thr510fs)</td>\n      <td>germline</td>\n      <td>MONDO:MONDO:0008872,MedGen:C0432246,OMIM:21072...</td>\n      <td>Microcephalic osteodysplastic primordial dwarf...</td>\n      <td>OMIM:605925.0012</td>\n      <td>NM_006031.6</td>\n      <td>Thr510fs</td>\n    </tr>\n    <tr>\n      <th>109</th>\n      <td>O95613</td>\n      <td>Homo sapiens</td>\n      <td>centrosome/spindle pole body</td>\n      <td>HGNC:16068</td>\n      <td>3336</td>\n      <td>MEVEQEQRRRKVEAGRTKLAHFRQRKTKGDSSHSEKKTAKRKGSAV...</td>\n      <td>5116</td>\n      <td>PCNT</td>\n      <td>587784302</td>\n      <td>169639</td>\n      <td>...</td>\n      <td>46366955</td>\n      <td>46366965</td>\n      <td>Deletion</td>\n      <td>NM_006031.6(PCNT):c.2984_2994del (p.Ala995fs)</td>\n      <td>germline</td>\n      <td>MONDO:MONDO:0008872,MedGen:C0432246,OMIM:21072...</td>\n      <td>Microcephalic osteodysplastic primordial dwarf...</td>\n      <td>ClinGen:CA251043</td>\n      <td>NM_006031.6</td>\n      <td>Ala995fs</td>\n    </tr>\n    <tr>\n      <th>...</th>\n      <td>...</td>\n      <td>...</td>\n      <td>...</td>\n      <td>...</td>\n      <td>...</td>\n      <td>...</td>\n      <td>...</td>\n      <td>...</td>\n      <td>...</td>\n      <td>...</td>\n      <td>...</td>\n      <td>...</td>\n      <td>...</td>\n      <td>...</td>\n      <td>...</td>\n      <td>...</td>\n      <td>...</td>\n      <td>...</td>\n      <td>...</td>\n      <td>...</td>\n      <td>...</td>\n    </tr>\n    <tr>\n      <th>40971</th>\n      <td>Q15233</td>\n      <td>Homo sapiens</td>\n      <td>paraspeckle</td>\n      <td>HGNC:7871</td>\n      <td>471</td>\n      <td>MQSNKTFNLEKQNHTPRKHHQHHHQQQHHQQQQQQPPPPPIPANGQ...</td>\n      <td>4841</td>\n      <td>NONO</td>\n      <td>1555950374</td>\n      <td>493310</td>\n      <td>...</td>\n      <td>71298727</td>\n      <td>71298728</td>\n      <td>Microsatellite</td>\n      <td>NM_007363.5(NONO):c.1192_1193AG[1] (p.Gly399fs)</td>\n      <td>germline</td>\n      <td>MedGen:CN517202</td>\n      <td>not provided</td>\n      <td>ClinGen:CA658799797</td>\n      <td>NM_007363.5</td>\n      <td>Gly399fs</td>\n    </tr>\n    <tr>\n      <th>40974</th>\n      <td>Q15233</td>\n      <td>Homo sapiens</td>\n      <td>paraspeckle</td>\n      <td>HGNC:7871</td>\n      <td>471</td>\n      <td>MQSNKTFNLEKQNHTPRKHHQHHHQQQHHQQQQQQPPPPPIPANGQ...</td>\n      <td>4841</td>\n      <td>NONO</td>\n      <td>1602386427</td>\n      <td>650198</td>\n      <td>...</td>\n      <td>71291868</td>\n      <td>71291868</td>\n      <td>Deletion</td>\n      <td>NM_007363.5(NONO):c.245del (p.Pro82fs)</td>\n      <td>germline</td>\n      <td>MedGen:CN517202</td>\n      <td>not provided</td>\n      <td>-</td>\n      <td>NM_007363.5</td>\n      <td>Pro82fs</td>\n    </tr>\n    <tr>\n      <th>40988</th>\n      <td>Q15233</td>\n      <td>Homo sapiens</td>\n      <td>paraspeckle</td>\n      <td>HGNC:7871</td>\n      <td>471</td>\n      <td>MQSNKTFNLEKQNHTPRKHHQHHHQQQHHQQQQQQPPPPPIPANGQ...</td>\n      <td>4841</td>\n      <td>NONO</td>\n      <td>1602385860</td>\n      <td>798822</td>\n      <td>...</td>\n      <td>71290743</td>\n      <td>71290743</td>\n      <td>Deletion</td>\n      <td>NM_007363.5(NONO):c.107del (p.Pro36fs)</td>\n      <td>germline</td>\n      <td>MONDO:MONDO:0010501,MedGen:C4225417,OMIM:30096...</td>\n      <td>Mental retardation, X-linked, syndromic 34</td>\n      <td>-</td>\n      <td>NM_007363.5</td>\n      <td>Pro36fs</td>\n    </tr>\n    <tr>\n      <th>40989</th>\n      <td>Q15233</td>\n      <td>Homo sapiens</td>\n      <td>paraspeckle</td>\n      <td>HGNC:7871</td>\n      <td>471</td>\n      <td>MQSNKTFNLEKQNHTPRKHHQHHHQQQHHQQQQQQPPPPPIPANGQ...</td>\n      <td>4841</td>\n      <td>NONO</td>\n      <td>-1</td>\n      <td>800680</td>\n      <td>...</td>\n      <td>71298725</td>\n      <td>71298726</td>\n      <td>Deletion</td>\n      <td>NM_007363.5(NONO):c.1191_1192del (p.Asn397fs)</td>\n      <td>germline</td>\n      <td>MONDO:MONDO:0010501,MedGen:C4225417,OMIM:30096...</td>\n      <td>Mental retardation, X-linked, syndromic 34</td>\n      <td>-</td>\n      <td>NM_007363.5</td>\n      <td>Asn397fs</td>\n    </tr>\n    <tr>\n      <th>40993</th>\n      <td>Q15233</td>\n      <td>Homo sapiens</td>\n      <td>paraspeckle</td>\n      <td>HGNC:7871</td>\n      <td>471</td>\n      <td>MQSNKTFNLEKQNHTPRKHHQHHHQQQHHQQQQQQPPPPPIPANGQ...</td>\n      <td>4841</td>\n      <td>NONO</td>\n      <td>-1</td>\n      <td>966737</td>\n      <td>...</td>\n      <td>71291868</td>\n      <td>71291871</td>\n      <td>Deletion</td>\n      <td>NM_007363.5(NONO):c.246_249del (p.Pro83fs)</td>\n      <td>germline</td>\n      <td>Human Phenotype Ontology:HP:0001627,Human Phen...</td>\n      <td>Abnormal heart morphology</td>\n      <td>-</td>\n      <td>NM_007363.5</td>\n      <td>Pro83fs</td>\n    </tr>\n  </tbody>\n</table>\n<p>2757 rows × 22 columns</p>\n</div>"
     },
     "metadata": {},
     "execution_count": 378
    }
   ],
   "source": [
    "box1_clinvar_total[box1_clinvar_total.cambio.str.endswith('fs')] # 2757 filas"
   ]
  },
  {
   "cell_type": "code",
   "execution_count": 379,
   "metadata": {},
   "outputs": [
    {
     "output_type": "execute_result",
     "data": {
      "text/plain": [
       "28        (Ala, 630, , , )\n",
       "29       (Cys, 1190, , , )\n",
       "31        (Glu, 282, , , )\n",
       "36        (Thr, 510, , , )\n",
       "109       (Ala, 995, , , )\n",
       "               ...        \n",
       "40971     (Gly, 399, , , )\n",
       "40974      (Pro, 82, , , )\n",
       "40988      (Pro, 36, , , )\n",
       "40989     (Asn, 397, , , )\n",
       "40993      (Pro, 83, , , )\n",
       "Name: aux, Length: 2759, dtype: object"
      ]
     },
     "metadata": {},
     "execution_count": 379
    }
   ],
   "source": [
    "# capturo 'fs' \n",
    "frameshift = box1_clinvar_total.copy()\n",
    "frameshift['aux'] = frameshift.cambio.map(lambda x: re.findall('^([A-Z][a-z]{2})(\\d+)_?([A-Z][a-z]{2})?(\\d+)?fs(.*)$', x))\n",
    "frameshift['aux'] = frameshift.aux.str[0]\n",
    "frameshift = frameshift[frameshift.aux.notnull()]\n",
    "frameshift.aux"
   ]
  },
  {
   "cell_type": "code",
   "execution_count": 380,
   "metadata": {},
   "outputs": [
    {
     "output_type": "execute_result",
     "data": {
      "text/plain": [
       "          cambio  start_aa  end_aa from   to consequence\n",
       "28      Ala630fs       630     NaN  Ala  NaN  frameshift\n",
       "29     Cys1190fs      1190     NaN  Cys  NaN  frameshift\n",
       "31      Glu282fs       282     NaN  Glu  NaN  frameshift\n",
       "36      Thr510fs       510     NaN  Thr  NaN  frameshift\n",
       "109     Ala995fs       995     NaN  Ala  NaN  frameshift\n",
       "...          ...       ...     ...  ...  ...         ...\n",
       "40971   Gly399fs       399     NaN  Gly  NaN  frameshift\n",
       "40974    Pro82fs        82     NaN  Pro  NaN  frameshift\n",
       "40988    Pro36fs        36     NaN  Pro  NaN  frameshift\n",
       "40989   Asn397fs       397     NaN  Asn  NaN  frameshift\n",
       "40993    Pro83fs        83     NaN  Pro  NaN  frameshift\n",
       "\n",
       "[2759 rows x 6 columns]"
      ],
      "text/html": "<div>\n<style scoped>\n    .dataframe tbody tr th:only-of-type {\n        vertical-align: middle;\n    }\n\n    .dataframe tbody tr th {\n        vertical-align: top;\n    }\n\n    .dataframe thead th {\n        text-align: right;\n    }\n</style>\n<table border=\"1\" class=\"dataframe\">\n  <thead>\n    <tr style=\"text-align: right;\">\n      <th></th>\n      <th>cambio</th>\n      <th>start_aa</th>\n      <th>end_aa</th>\n      <th>from</th>\n      <th>to</th>\n      <th>consequence</th>\n    </tr>\n  </thead>\n  <tbody>\n    <tr>\n      <th>28</th>\n      <td>Ala630fs</td>\n      <td>630</td>\n      <td>NaN</td>\n      <td>Ala</td>\n      <td>NaN</td>\n      <td>frameshift</td>\n    </tr>\n    <tr>\n      <th>29</th>\n      <td>Cys1190fs</td>\n      <td>1190</td>\n      <td>NaN</td>\n      <td>Cys</td>\n      <td>NaN</td>\n      <td>frameshift</td>\n    </tr>\n    <tr>\n      <th>31</th>\n      <td>Glu282fs</td>\n      <td>282</td>\n      <td>NaN</td>\n      <td>Glu</td>\n      <td>NaN</td>\n      <td>frameshift</td>\n    </tr>\n    <tr>\n      <th>36</th>\n      <td>Thr510fs</td>\n      <td>510</td>\n      <td>NaN</td>\n      <td>Thr</td>\n      <td>NaN</td>\n      <td>frameshift</td>\n    </tr>\n    <tr>\n      <th>109</th>\n      <td>Ala995fs</td>\n      <td>995</td>\n      <td>NaN</td>\n      <td>Ala</td>\n      <td>NaN</td>\n      <td>frameshift</td>\n    </tr>\n    <tr>\n      <th>...</th>\n      <td>...</td>\n      <td>...</td>\n      <td>...</td>\n      <td>...</td>\n      <td>...</td>\n      <td>...</td>\n    </tr>\n    <tr>\n      <th>40971</th>\n      <td>Gly399fs</td>\n      <td>399</td>\n      <td>NaN</td>\n      <td>Gly</td>\n      <td>NaN</td>\n      <td>frameshift</td>\n    </tr>\n    <tr>\n      <th>40974</th>\n      <td>Pro82fs</td>\n      <td>82</td>\n      <td>NaN</td>\n      <td>Pro</td>\n      <td>NaN</td>\n      <td>frameshift</td>\n    </tr>\n    <tr>\n      <th>40988</th>\n      <td>Pro36fs</td>\n      <td>36</td>\n      <td>NaN</td>\n      <td>Pro</td>\n      <td>NaN</td>\n      <td>frameshift</td>\n    </tr>\n    <tr>\n      <th>40989</th>\n      <td>Asn397fs</td>\n      <td>397</td>\n      <td>NaN</td>\n      <td>Asn</td>\n      <td>NaN</td>\n      <td>frameshift</td>\n    </tr>\n    <tr>\n      <th>40993</th>\n      <td>Pro83fs</td>\n      <td>83</td>\n      <td>NaN</td>\n      <td>Pro</td>\n      <td>NaN</td>\n      <td>frameshift</td>\n    </tr>\n  </tbody>\n</table>\n<p>2759 rows × 6 columns</p>\n</div>"
     },
     "metadata": {},
     "execution_count": 380
    }
   ],
   "source": [
    "separar_en_cols(frameshift, 'aux', 'frameshift')"
   ]
  },
  {
   "cell_type": "code",
   "execution_count": 381,
   "metadata": {},
   "outputs": [],
   "source": [
    "frameshift = frameshift.drop(columns=['aux'])"
   ]
  },
  {
   "cell_type": "code",
   "execution_count": 382,
   "metadata": {},
   "outputs": [
    {
     "output_type": "execute_result",
     "data": {
      "text/plain": [
       "19739"
      ]
     },
     "metadata": {},
     "execution_count": 382
    }
   ],
   "source": [
    "cond = box1_clinvar_total.index.isin(frameshift.index)                           # es un array de bool\n",
    "box1_clinvar_total = box1_clinvar_total.drop(box1_clinvar_total[cond].index)     # drop esas filas\n",
    "len(box1_clinvar_total)"
   ]
  },
  {
   "source": [
    "# subset nonsense mutations:  \n",
    "### son cuando aparecen un condon de terminacion (Ter) (definicion: https://www.genome.gov/genetics-glossary/Nonsense-Mutation)"
   ],
   "cell_type": "markdown",
   "metadata": {}
  },
  {
   "cell_type": "code",
   "execution_count": 383,
   "metadata": {},
   "outputs": [
    {
     "output_type": "execute_result",
     "data": {
      "text/plain": [
       "False    18118\n",
       "True      1621\n",
       "Name: cambio, dtype: int64"
      ]
     },
     "metadata": {},
     "execution_count": 383
    }
   ],
   "source": [
    "((box1_clinvar_total.cambio.map(lambda x: re.findall('^([A-Z][a-z]{2})(\\d+)_?([A-Z][a-z]{2})?(\\d+)?Ter(.*)$', x))).str[0]).notnull().value_counts() # dan lo mismo, 621"
   ]
  },
  {
   "cell_type": "code",
   "execution_count": 384,
   "metadata": {},
   "outputs": [],
   "source": [
    "nonsense = box1_clinvar_total[box1_clinvar_total.cambio.str.endswith('Ter')]"
   ]
  },
  {
   "cell_type": "code",
   "execution_count": 385,
   "metadata": {},
   "outputs": [
    {
     "output_type": "stream",
     "name": "stderr",
     "text": [
      "<ipython-input-385-673f3f31b741>:1: SettingWithCopyWarning: \nA value is trying to be set on a copy of a slice from a DataFrame.\nTry using .loc[row_indexer,col_indexer] = value instead\n\nSee the caveats in the documentation: https://pandas.pydata.org/pandas-docs/stable/user_guide/indexing.html#returning-a-view-versus-a-copy\n  nonsense['aux'] = nonsense.cambio.map(lambda x: re.findall('^([A-Z][a-z]{2})(\\d+)_?([A-Z][a-z]{2})?(\\d+)?Ter(.*)$', x))\n<ipython-input-385-673f3f31b741>:2: SettingWithCopyWarning: \nA value is trying to be set on a copy of a slice from a DataFrame.\nTry using .loc[row_indexer,col_indexer] = value instead\n\nSee the caveats in the documentation: https://pandas.pydata.org/pandas-docs/stable/user_guide/indexing.html#returning-a-view-versus-a-copy\n  nonsense['aux'] = nonsense.aux.str[0]\n"
     ]
    },
    {
     "output_type": "execute_result",
     "data": {
      "text/plain": [
       "27        (Glu, 220, , , )\n",
       "30       (Arg, 1923, , , )\n",
       "32       (Glu, 1037, , , )\n",
       "33       (Arg, 2918, , , )\n",
       "35       (Glu, 1154, , , )\n",
       "               ...        \n",
       "40961      (Gln, 35, , , )\n",
       "40963     (Arg, 337, , , )\n",
       "40965      (Arg, 73, , , )\n",
       "40976     (Arg, 184, , , )\n",
       "40990     (Arg, 153, , , )\n",
       "Name: aux, Length: 1621, dtype: object"
      ]
     },
     "metadata": {},
     "execution_count": 385
    }
   ],
   "source": [
    "nonsense['aux'] = nonsense.cambio.map(lambda x: re.findall('^([A-Z][a-z]{2})(\\d+)_?([A-Z][a-z]{2})?(\\d+)?Ter(.*)$', x))\n",
    "nonsense['aux'] = nonsense.aux.str[0]\n",
    "nonsense = nonsense[nonsense.aux.notnull()]\n",
    "nonsense.aux"
   ]
  },
  {
   "cell_type": "code",
   "execution_count": 386,
   "metadata": {},
   "outputs": [
    {
     "output_type": "execute_result",
     "data": {
      "text/plain": [
       "           cambio  start_aa  end_aa from  to consequence\n",
       "27      Glu220Ter       220     NaN  Glu NaN    nonsense\n",
       "30     Arg1923Ter      1923     NaN  Arg NaN    nonsense\n",
       "32     Glu1037Ter      1037     NaN  Glu NaN    nonsense\n",
       "33     Arg2918Ter      2918     NaN  Arg NaN    nonsense\n",
       "35     Glu1154Ter      1154     NaN  Glu NaN    nonsense\n",
       "...           ...       ...     ...  ...  ..         ...\n",
       "40961    Gln35Ter        35     NaN  Gln NaN    nonsense\n",
       "40963   Arg337Ter       337     NaN  Arg NaN    nonsense\n",
       "40965    Arg73Ter        73     NaN  Arg NaN    nonsense\n",
       "40976   Arg184Ter       184     NaN  Arg NaN    nonsense\n",
       "40990   Arg153Ter       153     NaN  Arg NaN    nonsense\n",
       "\n",
       "[1621 rows x 6 columns]"
      ],
      "text/html": "<div>\n<style scoped>\n    .dataframe tbody tr th:only-of-type {\n        vertical-align: middle;\n    }\n\n    .dataframe tbody tr th {\n        vertical-align: top;\n    }\n\n    .dataframe thead th {\n        text-align: right;\n    }\n</style>\n<table border=\"1\" class=\"dataframe\">\n  <thead>\n    <tr style=\"text-align: right;\">\n      <th></th>\n      <th>cambio</th>\n      <th>start_aa</th>\n      <th>end_aa</th>\n      <th>from</th>\n      <th>to</th>\n      <th>consequence</th>\n    </tr>\n  </thead>\n  <tbody>\n    <tr>\n      <th>27</th>\n      <td>Glu220Ter</td>\n      <td>220</td>\n      <td>NaN</td>\n      <td>Glu</td>\n      <td>NaN</td>\n      <td>nonsense</td>\n    </tr>\n    <tr>\n      <th>30</th>\n      <td>Arg1923Ter</td>\n      <td>1923</td>\n      <td>NaN</td>\n      <td>Arg</td>\n      <td>NaN</td>\n      <td>nonsense</td>\n    </tr>\n    <tr>\n      <th>32</th>\n      <td>Glu1037Ter</td>\n      <td>1037</td>\n      <td>NaN</td>\n      <td>Glu</td>\n      <td>NaN</td>\n      <td>nonsense</td>\n    </tr>\n    <tr>\n      <th>33</th>\n      <td>Arg2918Ter</td>\n      <td>2918</td>\n      <td>NaN</td>\n      <td>Arg</td>\n      <td>NaN</td>\n      <td>nonsense</td>\n    </tr>\n    <tr>\n      <th>35</th>\n      <td>Glu1154Ter</td>\n      <td>1154</td>\n      <td>NaN</td>\n      <td>Glu</td>\n      <td>NaN</td>\n      <td>nonsense</td>\n    </tr>\n    <tr>\n      <th>...</th>\n      <td>...</td>\n      <td>...</td>\n      <td>...</td>\n      <td>...</td>\n      <td>...</td>\n      <td>...</td>\n    </tr>\n    <tr>\n      <th>40961</th>\n      <td>Gln35Ter</td>\n      <td>35</td>\n      <td>NaN</td>\n      <td>Gln</td>\n      <td>NaN</td>\n      <td>nonsense</td>\n    </tr>\n    <tr>\n      <th>40963</th>\n      <td>Arg337Ter</td>\n      <td>337</td>\n      <td>NaN</td>\n      <td>Arg</td>\n      <td>NaN</td>\n      <td>nonsense</td>\n    </tr>\n    <tr>\n      <th>40965</th>\n      <td>Arg73Ter</td>\n      <td>73</td>\n      <td>NaN</td>\n      <td>Arg</td>\n      <td>NaN</td>\n      <td>nonsense</td>\n    </tr>\n    <tr>\n      <th>40976</th>\n      <td>Arg184Ter</td>\n      <td>184</td>\n      <td>NaN</td>\n      <td>Arg</td>\n      <td>NaN</td>\n      <td>nonsense</td>\n    </tr>\n    <tr>\n      <th>40990</th>\n      <td>Arg153Ter</td>\n      <td>153</td>\n      <td>NaN</td>\n      <td>Arg</td>\n      <td>NaN</td>\n      <td>nonsense</td>\n    </tr>\n  </tbody>\n</table>\n<p>1621 rows × 6 columns</p>\n</div>"
     },
     "metadata": {},
     "execution_count": 386
    }
   ],
   "source": [
    "separar_en_cols(nonsense, 'aux', 'nonsense')"
   ]
  },
  {
   "cell_type": "code",
   "execution_count": 387,
   "metadata": {},
   "outputs": [],
   "source": [
    "nonsense['to'] = 'Ter'"
   ]
  },
  {
   "cell_type": "code",
   "execution_count": 388,
   "metadata": {},
   "outputs": [],
   "source": [
    "nonsense = nonsense.drop(columns=['aux'])"
   ]
  },
  {
   "cell_type": "code",
   "execution_count": 389,
   "metadata": {},
   "outputs": [
    {
     "output_type": "execute_result",
     "data": {
      "text/plain": [
       "           cambio  start_aa  end_aa from   to consequence\n",
       "27      Glu220Ter       220     NaN  Glu  Ter    nonsense\n",
       "30     Arg1923Ter      1923     NaN  Arg  Ter    nonsense\n",
       "32     Glu1037Ter      1037     NaN  Glu  Ter    nonsense\n",
       "33     Arg2918Ter      2918     NaN  Arg  Ter    nonsense\n",
       "35     Glu1154Ter      1154     NaN  Glu  Ter    nonsense\n",
       "...           ...       ...     ...  ...  ...         ...\n",
       "40961    Gln35Ter        35     NaN  Gln  Ter    nonsense\n",
       "40963   Arg337Ter       337     NaN  Arg  Ter    nonsense\n",
       "40965    Arg73Ter        73     NaN  Arg  Ter    nonsense\n",
       "40976   Arg184Ter       184     NaN  Arg  Ter    nonsense\n",
       "40990   Arg153Ter       153     NaN  Arg  Ter    nonsense\n",
       "\n",
       "[1621 rows x 6 columns]"
      ],
      "text/html": "<div>\n<style scoped>\n    .dataframe tbody tr th:only-of-type {\n        vertical-align: middle;\n    }\n\n    .dataframe tbody tr th {\n        vertical-align: top;\n    }\n\n    .dataframe thead th {\n        text-align: right;\n    }\n</style>\n<table border=\"1\" class=\"dataframe\">\n  <thead>\n    <tr style=\"text-align: right;\">\n      <th></th>\n      <th>cambio</th>\n      <th>start_aa</th>\n      <th>end_aa</th>\n      <th>from</th>\n      <th>to</th>\n      <th>consequence</th>\n    </tr>\n  </thead>\n  <tbody>\n    <tr>\n      <th>27</th>\n      <td>Glu220Ter</td>\n      <td>220</td>\n      <td>NaN</td>\n      <td>Glu</td>\n      <td>Ter</td>\n      <td>nonsense</td>\n    </tr>\n    <tr>\n      <th>30</th>\n      <td>Arg1923Ter</td>\n      <td>1923</td>\n      <td>NaN</td>\n      <td>Arg</td>\n      <td>Ter</td>\n      <td>nonsense</td>\n    </tr>\n    <tr>\n      <th>32</th>\n      <td>Glu1037Ter</td>\n      <td>1037</td>\n      <td>NaN</td>\n      <td>Glu</td>\n      <td>Ter</td>\n      <td>nonsense</td>\n    </tr>\n    <tr>\n      <th>33</th>\n      <td>Arg2918Ter</td>\n      <td>2918</td>\n      <td>NaN</td>\n      <td>Arg</td>\n      <td>Ter</td>\n      <td>nonsense</td>\n    </tr>\n    <tr>\n      <th>35</th>\n      <td>Glu1154Ter</td>\n      <td>1154</td>\n      <td>NaN</td>\n      <td>Glu</td>\n      <td>Ter</td>\n      <td>nonsense</td>\n    </tr>\n    <tr>\n      <th>...</th>\n      <td>...</td>\n      <td>...</td>\n      <td>...</td>\n      <td>...</td>\n      <td>...</td>\n      <td>...</td>\n    </tr>\n    <tr>\n      <th>40961</th>\n      <td>Gln35Ter</td>\n      <td>35</td>\n      <td>NaN</td>\n      <td>Gln</td>\n      <td>Ter</td>\n      <td>nonsense</td>\n    </tr>\n    <tr>\n      <th>40963</th>\n      <td>Arg337Ter</td>\n      <td>337</td>\n      <td>NaN</td>\n      <td>Arg</td>\n      <td>Ter</td>\n      <td>nonsense</td>\n    </tr>\n    <tr>\n      <th>40965</th>\n      <td>Arg73Ter</td>\n      <td>73</td>\n      <td>NaN</td>\n      <td>Arg</td>\n      <td>Ter</td>\n      <td>nonsense</td>\n    </tr>\n    <tr>\n      <th>40976</th>\n      <td>Arg184Ter</td>\n      <td>184</td>\n      <td>NaN</td>\n      <td>Arg</td>\n      <td>Ter</td>\n      <td>nonsense</td>\n    </tr>\n    <tr>\n      <th>40990</th>\n      <td>Arg153Ter</td>\n      <td>153</td>\n      <td>NaN</td>\n      <td>Arg</td>\n      <td>Ter</td>\n      <td>nonsense</td>\n    </tr>\n  </tbody>\n</table>\n<p>1621 rows × 6 columns</p>\n</div>"
     },
     "metadata": {},
     "execution_count": 389
    }
   ],
   "source": [
    "nonsense[['cambio','start_aa','end_aa','from','to','consequence']]"
   ]
  },
  {
   "cell_type": "code",
   "execution_count": 390,
   "metadata": {},
   "outputs": [
    {
     "output_type": "execute_result",
     "data": {
      "text/plain": [
       "18118"
      ]
     },
     "metadata": {},
     "execution_count": 390
    }
   ],
   "source": [
    "cond = box1_clinvar_total.index.isin(nonsense.index)                           # es un array de bool\n",
    "box1_clinvar_total = box1_clinvar_total.drop(box1_clinvar_total[cond].index)   # drop esas filas\n",
    "len(box1_clinvar_total)"
   ]
  },
  {
   "source": [
    "# Subset: Missense mutations  \n",
    "A missense mutation is a substitution where the altered codon corresponds to a different amino acid (ver: https://www.genome.gov/genetics-glossary/Point-Mutation)"
   ],
   "cell_type": "markdown",
   "metadata": {}
  },
  {
   "cell_type": "code",
   "execution_count": 391,
   "metadata": {},
   "outputs": [
    {
     "output_type": "execute_result",
     "data": {
      "text/plain": [
       "True     17953\n",
       "False      165\n",
       "Name: cambio, dtype: int64"
      ]
     },
     "metadata": {},
     "execution_count": 391
    }
   ],
   "source": [
    "((box1_clinvar_total.cambio.map(lambda x: re.findall('^([A-Z][a-z]{2})(\\d+)([A-Z][a-z]{2})$', x))).str[0]).notnull().value_counts() # 16968"
   ]
  },
  {
   "cell_type": "code",
   "execution_count": 392,
   "metadata": {},
   "outputs": [
    {
     "output_type": "execute_result",
     "data": {
      "text/plain": [
       "0          (Arg, 46, Gln)\n",
       "17        (Tyr, 511, Cys)\n",
       "34       (Gln, 1280, His)\n",
       "37       (Asn, 1841, Ser)\n",
       "40       (Ala, 1924, Val)\n",
       "               ...       \n",
       "40972     (Arg, 184, Pro)\n",
       "40973      (Ala, 48, Ser)\n",
       "40975     (Arg, 270, Cys)\n",
       "40977     (Met, 393, Ile)\n",
       "40992     (Thr, 424, Ser)\n",
       "Name: aux, Length: 17953, dtype: object"
      ]
     },
     "metadata": {},
     "execution_count": 392
    }
   ],
   "source": [
    "missense = box1_clinvar_total.copy()\n",
    "missense['aux'] = missense.cambio.map(lambda x: re.findall('^([A-Z][a-z]{2})(\\d+)([A-Z][a-z]{2})$', x))\n",
    "missense['aux'] = missense.aux.str[0]\n",
    "missense = missense[missense.aux.notnull()]\n",
    "missense.aux"
   ]
  },
  {
   "cell_type": "code",
   "execution_count": 393,
   "metadata": {},
   "outputs": [],
   "source": [
    "missense['start_aa'] = missense.aux.map(lambda x: x[1])\n",
    "missense['end_aa'] = np.nan\n",
    "missense['from'] = missense.aux.map(lambda x: x[0])\n",
    "missense['to'] = missense.aux.map(lambda x: x[2])\n",
    "missense['consequence'] = 'missense'"
   ]
  },
  {
   "cell_type": "code",
   "execution_count": 394,
   "metadata": {},
   "outputs": [
    {
     "output_type": "execute_result",
     "data": {
      "text/plain": [
       "      start_aa  end_aa from   to consequence\n",
       "0           46     NaN  Arg  Gln    missense\n",
       "17         511     NaN  Tyr  Cys    missense\n",
       "34        1280     NaN  Gln  His    missense\n",
       "37        1841     NaN  Asn  Ser    missense\n",
       "40        1924     NaN  Ala  Val    missense\n",
       "...        ...     ...  ...  ...         ...\n",
       "40972      184     NaN  Arg  Pro    missense\n",
       "40973       48     NaN  Ala  Ser    missense\n",
       "40975      270     NaN  Arg  Cys    missense\n",
       "40977      393     NaN  Met  Ile    missense\n",
       "40992      424     NaN  Thr  Ser    missense\n",
       "\n",
       "[17953 rows x 5 columns]"
      ],
      "text/html": "<div>\n<style scoped>\n    .dataframe tbody tr th:only-of-type {\n        vertical-align: middle;\n    }\n\n    .dataframe tbody tr th {\n        vertical-align: top;\n    }\n\n    .dataframe thead th {\n        text-align: right;\n    }\n</style>\n<table border=\"1\" class=\"dataframe\">\n  <thead>\n    <tr style=\"text-align: right;\">\n      <th></th>\n      <th>start_aa</th>\n      <th>end_aa</th>\n      <th>from</th>\n      <th>to</th>\n      <th>consequence</th>\n    </tr>\n  </thead>\n  <tbody>\n    <tr>\n      <th>0</th>\n      <td>46</td>\n      <td>NaN</td>\n      <td>Arg</td>\n      <td>Gln</td>\n      <td>missense</td>\n    </tr>\n    <tr>\n      <th>17</th>\n      <td>511</td>\n      <td>NaN</td>\n      <td>Tyr</td>\n      <td>Cys</td>\n      <td>missense</td>\n    </tr>\n    <tr>\n      <th>34</th>\n      <td>1280</td>\n      <td>NaN</td>\n      <td>Gln</td>\n      <td>His</td>\n      <td>missense</td>\n    </tr>\n    <tr>\n      <th>37</th>\n      <td>1841</td>\n      <td>NaN</td>\n      <td>Asn</td>\n      <td>Ser</td>\n      <td>missense</td>\n    </tr>\n    <tr>\n      <th>40</th>\n      <td>1924</td>\n      <td>NaN</td>\n      <td>Ala</td>\n      <td>Val</td>\n      <td>missense</td>\n    </tr>\n    <tr>\n      <th>...</th>\n      <td>...</td>\n      <td>...</td>\n      <td>...</td>\n      <td>...</td>\n      <td>...</td>\n    </tr>\n    <tr>\n      <th>40972</th>\n      <td>184</td>\n      <td>NaN</td>\n      <td>Arg</td>\n      <td>Pro</td>\n      <td>missense</td>\n    </tr>\n    <tr>\n      <th>40973</th>\n      <td>48</td>\n      <td>NaN</td>\n      <td>Ala</td>\n      <td>Ser</td>\n      <td>missense</td>\n    </tr>\n    <tr>\n      <th>40975</th>\n      <td>270</td>\n      <td>NaN</td>\n      <td>Arg</td>\n      <td>Cys</td>\n      <td>missense</td>\n    </tr>\n    <tr>\n      <th>40977</th>\n      <td>393</td>\n      <td>NaN</td>\n      <td>Met</td>\n      <td>Ile</td>\n      <td>missense</td>\n    </tr>\n    <tr>\n      <th>40992</th>\n      <td>424</td>\n      <td>NaN</td>\n      <td>Thr</td>\n      <td>Ser</td>\n      <td>missense</td>\n    </tr>\n  </tbody>\n</table>\n<p>17953 rows × 5 columns</p>\n</div>"
     },
     "metadata": {},
     "execution_count": 394
    }
   ],
   "source": [
    "missense[['start_aa',\t'end_aa',\t'from',\t'to',\t'consequence']]"
   ]
  },
  {
   "cell_type": "code",
   "execution_count": 395,
   "metadata": {},
   "outputs": [],
   "source": [
    "missense = missense.drop(columns=['aux'])"
   ]
  },
  {
   "cell_type": "code",
   "execution_count": 396,
   "metadata": {},
   "outputs": [
    {
     "output_type": "execute_result",
     "data": {
      "text/plain": [
       "165"
      ]
     },
     "metadata": {},
     "execution_count": 396
    }
   ],
   "source": [
    "cond = box1_clinvar_total.index.isin(missense.index)                           # es un array de bool\n",
    "box1_clinvar_total = box1_clinvar_total.drop(box1_clinvar_total[cond].index)   # drop esas filas\n",
    "len(box1_clinvar_total)"
   ]
  },
  {
   "cell_type": "code",
   "execution_count": 397,
   "metadata": {},
   "outputs": [
    {
     "output_type": "execute_result",
     "data": {
      "text/plain": [
       "      uniprot      organism                           mlo     hgnc_id  length  \\\n",
       "234    O95613  Homo sapiens  centrosome/spindle pole body  HGNC:16068    3336   \n",
       "293    O95613  Homo sapiens  centrosome/spindle pole body  HGNC:16068    3336   \n",
       "558    O95613  Homo sapiens  centrosome/spindle pole body  HGNC:16068    3336   \n",
       "641    O95613  Homo sapiens  centrosome/spindle pole body  HGNC:16068    3336   \n",
       "828    P42858  Homo sapiens  centrosome/spindle pole body   HGNC:4851    3142   \n",
       "...       ...           ...                           ...         ...     ...   \n",
       "40331  Q99700  Homo sapiens                stress granule  HGNC:10555    1313   \n",
       "40793  P04156  Homo sapiens   cytoplasmic protein granule   HGNC:9449     253   \n",
       "40795  P04156  Homo sapiens   cytoplasmic protein granule   HGNC:9449     253   \n",
       "40801  P04156  Homo sapiens   cytoplasmic protein granule   HGNC:9449     253   \n",
       "40970  Q15233  Homo sapiens                   paraspeckle   HGNC:7871     471   \n",
       "\n",
       "                                                sequence  geneid genesymbol  \\\n",
       "234    MEVEQEQRRRKVEAGRTKLAHFRQRKTKGDSSHSEKKTAKRKGSAV...    5116       PCNT   \n",
       "293    MEVEQEQRRRKVEAGRTKLAHFRQRKTKGDSSHSEKKTAKRKGSAV...    5116       PCNT   \n",
       "558    MEVEQEQRRRKVEAGRTKLAHFRQRKTKGDSSHSEKKTAKRKGSAV...    5116       PCNT   \n",
       "641    MEVEQEQRRRKVEAGRTKLAHFRQRKTKGDSSHSEKKTAKRKGSAV...    5116       PCNT   \n",
       "828    MATLEKLMKAFESLKSFQQQQQQQQQQQQQQQQQQQQQPPPPPPPP...    3064        HTT   \n",
       "...                                                  ...     ...        ...   \n",
       "40331  MRSAAAAPRSPAVATESRRFAAARWPGWRSLQRPARRSGRGGGGAA...    6311      ATXN2   \n",
       "40793  MANLGCWMLVLFVATWSDLGLCKKRPKPGGWNTGGSRYPGQGSPGG...    5621       PRNP   \n",
       "40795  MANLGCWMLVLFVATWSDLGLCKKRPKPGGWNTGGSRYPGQGSPGG...    5621       PRNP   \n",
       "40801  MANLGCWMLVLFVATWSDLGLCKKRPKPGGWNTGGSRYPGQGSPGG...    5621       PRNP   \n",
       "40970  MQSNKTFNLEKQNHTPRKHHQHHHQQQHHQQQQQQPPPPPIPANGQ...    4841       NONO   \n",
       "\n",
       "            snpid  alleleid  ...      start       stop            type  \\\n",
       "234     587784306    208732  ...   46334557   46334558     Duplication   \n",
       "293     886042352    266471  ...   46334596   46334597     Duplication   \n",
       "558    1555945598    446345  ...   46334583   46334584     Duplication   \n",
       "641     769893798    717272  ...   46334627   46334628       Insertion   \n",
       "828     772429544    590772  ...    3074945    3074946  Microsatellite   \n",
       "...           ...       ...  ...        ...        ...             ...   \n",
       "40331          -1    964787  ...  111598978  111598979  Microsatellite   \n",
       "40793   138688873    534134  ...    4699449    4699472        Deletion   \n",
       "40795   193922906    677337  ...    4699379    4699380       Insertion   \n",
       "40801          -1    848464  ...    4699380    4699427        Deletion   \n",
       "40970   751131066    446755  ...   71299971   71299972  Microsatellite   \n",
       "\n",
       "                                                    name    origin  \\\n",
       "234    NM_006031.6(PCNT):c.467_505dup (p.His156_Gln16...  germline   \n",
       "293    NM_006031.6(PCNT):c.481_519dup (p.Val161_Thr17...  germline   \n",
       "558    NM_006031.6(PCNT):c.467_583dup (p.His156_Gln19...  germline   \n",
       "641    NM_006031.6(PCNT):c.519_520insGTCAGTGACCACCCAC...  germline   \n",
       "828        NM_002111.8(HTT):c.129_131GCC[8] (p.Pro51dup)  germline   \n",
       "...                                                  ...       ...   \n",
       "40331  NM_001372574.1(ATXN2):c.18GCA[28] (p.Gln14_Gln...   unknown   \n",
       "40793  NM_000311.5(PRNP):c.246_269del (p.60_67PHGGGWG...  germline   \n",
       "40795  NM_000311.5(PRNP):c.227_228insTCATGGTGGTGGCTGG...   unknown   \n",
       "40801  NM_000311.5(PRNP):c.180_227del (p.60_67PHGGGWG...  germline   \n",
       "40970  NM_007363.5(NONO):c.1312_1314GCT[3] (p.Ala439dup)  germline   \n",
       "\n",
       "                                            phenotypeids  \\\n",
       "234                                                    -   \n",
       "293                                      MedGen:CN517202   \n",
       "558                                      MedGen:CN517202   \n",
       "641                                      MedGen:CN517202   \n",
       "828                                      MedGen:CN169374   \n",
       "...                                                  ...   \n",
       "40331  Human Phenotype Ontology:HP:0007354,MedGen:C00...   \n",
       "40793  MONDO:MONDO:0011299,MedGen:C1864112,OMIM:60321...   \n",
       "40795                                                  -   \n",
       "40801  MONDO:MONDO:0011299,MedGen:C1864112,OMIM:60321...   \n",
       "40970                                    MedGen:CN517202   \n",
       "\n",
       "                       phenotypelist             otherids      nuccore_id  \\\n",
       "234                                -     ClinGen:CA209336     NM_006031.6   \n",
       "293                     not provided   ClinGen:CA10604116     NM_006031.6   \n",
       "558                     not provided  ClinGen:CA658658902     NM_006031.6   \n",
       "641                     not provided                    -     NM_006031.6   \n",
       "828                    not specified                    -     NM_002111.8   \n",
       "...                              ...                  ...             ...   \n",
       "40331  Amyotrophic lateral sclerosis                    -  NM_001372574.1   \n",
       "40793      Huntington disease-like 1    ClinGen:CA9752036     NM_000311.5   \n",
       "40795      PRNP-associated condition                    -     NM_000311.5   \n",
       "40801      Huntington disease-like 1                    -     NM_000311.5   \n",
       "40970                   not provided  ClinGen:CA331037122     NM_007363.5   \n",
       "\n",
       "                  cambio  \n",
       "234     His156_Gln168dup  \n",
       "293     Val161_Thr173dup  \n",
       "558     His156_Gln194dup  \n",
       "641     Val161_Thr173dup  \n",
       "828             Pro51dup  \n",
       "...                  ...  \n",
       "40331     Gln14_Gln28dup  \n",
       "40793   60_67PHGGGWGQ[3]  \n",
       "40795  60_67PHGGGWGQ[12]  \n",
       "40801   60_67PHGGGWGQ[2]  \n",
       "40970          Ala439dup  \n",
       "\n",
       "[165 rows x 22 columns]"
      ],
      "text/html": "<div>\n<style scoped>\n    .dataframe tbody tr th:only-of-type {\n        vertical-align: middle;\n    }\n\n    .dataframe tbody tr th {\n        vertical-align: top;\n    }\n\n    .dataframe thead th {\n        text-align: right;\n    }\n</style>\n<table border=\"1\" class=\"dataframe\">\n  <thead>\n    <tr style=\"text-align: right;\">\n      <th></th>\n      <th>uniprot</th>\n      <th>organism</th>\n      <th>mlo</th>\n      <th>hgnc_id</th>\n      <th>length</th>\n      <th>sequence</th>\n      <th>geneid</th>\n      <th>genesymbol</th>\n      <th>snpid</th>\n      <th>alleleid</th>\n      <th>...</th>\n      <th>start</th>\n      <th>stop</th>\n      <th>type</th>\n      <th>name</th>\n      <th>origin</th>\n      <th>phenotypeids</th>\n      <th>phenotypelist</th>\n      <th>otherids</th>\n      <th>nuccore_id</th>\n      <th>cambio</th>\n    </tr>\n  </thead>\n  <tbody>\n    <tr>\n      <th>234</th>\n      <td>O95613</td>\n      <td>Homo sapiens</td>\n      <td>centrosome/spindle pole body</td>\n      <td>HGNC:16068</td>\n      <td>3336</td>\n      <td>MEVEQEQRRRKVEAGRTKLAHFRQRKTKGDSSHSEKKTAKRKGSAV...</td>\n      <td>5116</td>\n      <td>PCNT</td>\n      <td>587784306</td>\n      <td>208732</td>\n      <td>...</td>\n      <td>46334557</td>\n      <td>46334558</td>\n      <td>Duplication</td>\n      <td>NM_006031.6(PCNT):c.467_505dup (p.His156_Gln16...</td>\n      <td>germline</td>\n      <td>-</td>\n      <td>-</td>\n      <td>ClinGen:CA209336</td>\n      <td>NM_006031.6</td>\n      <td>His156_Gln168dup</td>\n    </tr>\n    <tr>\n      <th>293</th>\n      <td>O95613</td>\n      <td>Homo sapiens</td>\n      <td>centrosome/spindle pole body</td>\n      <td>HGNC:16068</td>\n      <td>3336</td>\n      <td>MEVEQEQRRRKVEAGRTKLAHFRQRKTKGDSSHSEKKTAKRKGSAV...</td>\n      <td>5116</td>\n      <td>PCNT</td>\n      <td>886042352</td>\n      <td>266471</td>\n      <td>...</td>\n      <td>46334596</td>\n      <td>46334597</td>\n      <td>Duplication</td>\n      <td>NM_006031.6(PCNT):c.481_519dup (p.Val161_Thr17...</td>\n      <td>germline</td>\n      <td>MedGen:CN517202</td>\n      <td>not provided</td>\n      <td>ClinGen:CA10604116</td>\n      <td>NM_006031.6</td>\n      <td>Val161_Thr173dup</td>\n    </tr>\n    <tr>\n      <th>558</th>\n      <td>O95613</td>\n      <td>Homo sapiens</td>\n      <td>centrosome/spindle pole body</td>\n      <td>HGNC:16068</td>\n      <td>3336</td>\n      <td>MEVEQEQRRRKVEAGRTKLAHFRQRKTKGDSSHSEKKTAKRKGSAV...</td>\n      <td>5116</td>\n      <td>PCNT</td>\n      <td>1555945598</td>\n      <td>446345</td>\n      <td>...</td>\n      <td>46334583</td>\n      <td>46334584</td>\n      <td>Duplication</td>\n      <td>NM_006031.6(PCNT):c.467_583dup (p.His156_Gln19...</td>\n      <td>germline</td>\n      <td>MedGen:CN517202</td>\n      <td>not provided</td>\n      <td>ClinGen:CA658658902</td>\n      <td>NM_006031.6</td>\n      <td>His156_Gln194dup</td>\n    </tr>\n    <tr>\n      <th>641</th>\n      <td>O95613</td>\n      <td>Homo sapiens</td>\n      <td>centrosome/spindle pole body</td>\n      <td>HGNC:16068</td>\n      <td>3336</td>\n      <td>MEVEQEQRRRKVEAGRTKLAHFRQRKTKGDSSHSEKKTAKRKGSAV...</td>\n      <td>5116</td>\n      <td>PCNT</td>\n      <td>769893798</td>\n      <td>717272</td>\n      <td>...</td>\n      <td>46334627</td>\n      <td>46334628</td>\n      <td>Insertion</td>\n      <td>NM_006031.6(PCNT):c.519_520insGTCAGTGACCACCCAC...</td>\n      <td>germline</td>\n      <td>MedGen:CN517202</td>\n      <td>not provided</td>\n      <td>-</td>\n      <td>NM_006031.6</td>\n      <td>Val161_Thr173dup</td>\n    </tr>\n    <tr>\n      <th>828</th>\n      <td>P42858</td>\n      <td>Homo sapiens</td>\n      <td>centrosome/spindle pole body</td>\n      <td>HGNC:4851</td>\n      <td>3142</td>\n      <td>MATLEKLMKAFESLKSFQQQQQQQQQQQQQQQQQQQQQPPPPPPPP...</td>\n      <td>3064</td>\n      <td>HTT</td>\n      <td>772429544</td>\n      <td>590772</td>\n      <td>...</td>\n      <td>3074945</td>\n      <td>3074946</td>\n      <td>Microsatellite</td>\n      <td>NM_002111.8(HTT):c.129_131GCC[8] (p.Pro51dup)</td>\n      <td>germline</td>\n      <td>MedGen:CN169374</td>\n      <td>not specified</td>\n      <td>-</td>\n      <td>NM_002111.8</td>\n      <td>Pro51dup</td>\n    </tr>\n    <tr>\n      <th>...</th>\n      <td>...</td>\n      <td>...</td>\n      <td>...</td>\n      <td>...</td>\n      <td>...</td>\n      <td>...</td>\n      <td>...</td>\n      <td>...</td>\n      <td>...</td>\n      <td>...</td>\n      <td>...</td>\n      <td>...</td>\n      <td>...</td>\n      <td>...</td>\n      <td>...</td>\n      <td>...</td>\n      <td>...</td>\n      <td>...</td>\n      <td>...</td>\n      <td>...</td>\n      <td>...</td>\n    </tr>\n    <tr>\n      <th>40331</th>\n      <td>Q99700</td>\n      <td>Homo sapiens</td>\n      <td>stress granule</td>\n      <td>HGNC:10555</td>\n      <td>1313</td>\n      <td>MRSAAAAPRSPAVATESRRFAAARWPGWRSLQRPARRSGRGGGGAA...</td>\n      <td>6311</td>\n      <td>ATXN2</td>\n      <td>-1</td>\n      <td>964787</td>\n      <td>...</td>\n      <td>111598978</td>\n      <td>111598979</td>\n      <td>Microsatellite</td>\n      <td>NM_001372574.1(ATXN2):c.18GCA[28] (p.Gln14_Gln...</td>\n      <td>unknown</td>\n      <td>Human Phenotype Ontology:HP:0007354,MedGen:C00...</td>\n      <td>Amyotrophic lateral sclerosis</td>\n      <td>-</td>\n      <td>NM_001372574.1</td>\n      <td>Gln14_Gln28dup</td>\n    </tr>\n    <tr>\n      <th>40793</th>\n      <td>P04156</td>\n      <td>Homo sapiens</td>\n      <td>cytoplasmic protein granule</td>\n      <td>HGNC:9449</td>\n      <td>253</td>\n      <td>MANLGCWMLVLFVATWSDLGLCKKRPKPGGWNTGGSRYPGQGSPGG...</td>\n      <td>5621</td>\n      <td>PRNP</td>\n      <td>138688873</td>\n      <td>534134</td>\n      <td>...</td>\n      <td>4699449</td>\n      <td>4699472</td>\n      <td>Deletion</td>\n      <td>NM_000311.5(PRNP):c.246_269del (p.60_67PHGGGWG...</td>\n      <td>germline</td>\n      <td>MONDO:MONDO:0011299,MedGen:C1864112,OMIM:60321...</td>\n      <td>Huntington disease-like 1</td>\n      <td>ClinGen:CA9752036</td>\n      <td>NM_000311.5</td>\n      <td>60_67PHGGGWGQ[3]</td>\n    </tr>\n    <tr>\n      <th>40795</th>\n      <td>P04156</td>\n      <td>Homo sapiens</td>\n      <td>cytoplasmic protein granule</td>\n      <td>HGNC:9449</td>\n      <td>253</td>\n      <td>MANLGCWMLVLFVATWSDLGLCKKRPKPGGWNTGGSRYPGQGSPGG...</td>\n      <td>5621</td>\n      <td>PRNP</td>\n      <td>193922906</td>\n      <td>677337</td>\n      <td>...</td>\n      <td>4699379</td>\n      <td>4699380</td>\n      <td>Insertion</td>\n      <td>NM_000311.5(PRNP):c.227_228insTCATGGTGGTGGCTGG...</td>\n      <td>unknown</td>\n      <td>-</td>\n      <td>PRNP-associated condition</td>\n      <td>-</td>\n      <td>NM_000311.5</td>\n      <td>60_67PHGGGWGQ[12]</td>\n    </tr>\n    <tr>\n      <th>40801</th>\n      <td>P04156</td>\n      <td>Homo sapiens</td>\n      <td>cytoplasmic protein granule</td>\n      <td>HGNC:9449</td>\n      <td>253</td>\n      <td>MANLGCWMLVLFVATWSDLGLCKKRPKPGGWNTGGSRYPGQGSPGG...</td>\n      <td>5621</td>\n      <td>PRNP</td>\n      <td>-1</td>\n      <td>848464</td>\n      <td>...</td>\n      <td>4699380</td>\n      <td>4699427</td>\n      <td>Deletion</td>\n      <td>NM_000311.5(PRNP):c.180_227del (p.60_67PHGGGWG...</td>\n      <td>germline</td>\n      <td>MONDO:MONDO:0011299,MedGen:C1864112,OMIM:60321...</td>\n      <td>Huntington disease-like 1</td>\n      <td>-</td>\n      <td>NM_000311.5</td>\n      <td>60_67PHGGGWGQ[2]</td>\n    </tr>\n    <tr>\n      <th>40970</th>\n      <td>Q15233</td>\n      <td>Homo sapiens</td>\n      <td>paraspeckle</td>\n      <td>HGNC:7871</td>\n      <td>471</td>\n      <td>MQSNKTFNLEKQNHTPRKHHQHHHQQQHHQQQQQQPPPPPIPANGQ...</td>\n      <td>4841</td>\n      <td>NONO</td>\n      <td>751131066</td>\n      <td>446755</td>\n      <td>...</td>\n      <td>71299971</td>\n      <td>71299972</td>\n      <td>Microsatellite</td>\n      <td>NM_007363.5(NONO):c.1312_1314GCT[3] (p.Ala439dup)</td>\n      <td>germline</td>\n      <td>MedGen:CN517202</td>\n      <td>not provided</td>\n      <td>ClinGen:CA331037122</td>\n      <td>NM_007363.5</td>\n      <td>Ala439dup</td>\n    </tr>\n  </tbody>\n</table>\n<p>165 rows × 22 columns</p>\n</div>"
     },
     "metadata": {},
     "execution_count": 397
    }
   ],
   "source": [
    "box1_clinvar_total"
   ]
  },
  {
   "source": [
    "# Subset duplications"
   ],
   "cell_type": "markdown",
   "metadata": {}
  },
  {
   "cell_type": "code",
   "execution_count": 398,
   "metadata": {},
   "outputs": [
    {
     "output_type": "execute_result",
     "data": {
      "text/plain": [
       "True     108\n",
       "False     57\n",
       "Name: cambio, dtype: int64"
      ]
     },
     "metadata": {},
     "execution_count": 398
    }
   ],
   "source": [
    "((box1_clinvar_total.cambio.map(lambda x: re.findall('^([A-Z][a-z]{2})(\\d+)_?([A-Z][a-z]{2})?(\\d+)?dup(.*)$', x))).str[0]).notnull().value_counts()"
   ]
  },
  {
   "cell_type": "code",
   "execution_count": 399,
   "metadata": {},
   "outputs": [],
   "source": [
    "duplications = box1_clinvar_total[box1_clinvar_total.cambio.str.endswith('dup')] # subsetting por la terminacion 'dup'"
   ]
  },
  {
   "cell_type": "code",
   "execution_count": 400,
   "metadata": {},
   "outputs": [
    {
     "output_type": "execute_result",
     "data": {
      "text/plain": [
       "234      His156_Gln168dup\n",
       "293      Val161_Thr173dup\n",
       "558      His156_Gln194dup\n",
       "641      Val161_Thr173dup\n",
       "828              Pro51dup\n",
       "               ...       \n",
       "38776      Glu40_Gly41dup\n",
       "38785      Glu39_Glu40dup\n",
       "39187    Glu100_Pro106dup\n",
       "40331      Gln14_Gln28dup\n",
       "40970           Ala439dup\n",
       "Name: cambio, Length: 108, dtype: object"
      ]
     },
     "metadata": {},
     "execution_count": 400
    }
   ],
   "source": [
    "duplications.cambio"
   ]
  },
  {
   "cell_type": "code",
   "execution_count": 401,
   "metadata": {},
   "outputs": [
    {
     "output_type": "stream",
     "name": "stderr",
     "text": [
      "<ipython-input-401-f16075fbca56>:1: SettingWithCopyWarning: \nA value is trying to be set on a copy of a slice from a DataFrame.\nTry using .loc[row_indexer,col_indexer] = value instead\n\nSee the caveats in the documentation: https://pandas.pydata.org/pandas-docs/stable/user_guide/indexing.html#returning-a-view-versus-a-copy\n  duplications['aux'] = duplications.cambio.map(lambda x: re.findall('^([A-Z][a-z]{2})(\\d+)_?([A-Z][a-z]{2})?(\\d+)?dup(.*)$', x))\n<ipython-input-401-f16075fbca56>:2: SettingWithCopyWarning: \nA value is trying to be set on a copy of a slice from a DataFrame.\nTry using .loc[row_indexer,col_indexer] = value instead\n\nSee the caveats in the documentation: https://pandas.pydata.org/pandas-docs/stable/user_guide/indexing.html#returning-a-view-versus-a-copy\n  duplications['aux'] = duplications.aux.str[0]\n"
     ]
    },
    {
     "output_type": "execute_result",
     "data": {
      "text/plain": [
       "234      (His, 156, Gln, 168, )\n",
       "293      (Val, 161, Thr, 173, )\n",
       "558      (His, 156, Gln, 194, )\n",
       "641      (Val, 161, Thr, 173, )\n",
       "828             (Pro, 51, , , )\n",
       "                  ...          \n",
       "38776      (Glu, 40, Gly, 41, )\n",
       "38785      (Glu, 39, Glu, 40, )\n",
       "39187    (Glu, 100, Pro, 106, )\n",
       "40331      (Gln, 14, Gln, 28, )\n",
       "40970          (Ala, 439, , , )\n",
       "Name: aux, Length: 108, dtype: object"
      ]
     },
     "metadata": {},
     "execution_count": 401
    }
   ],
   "source": [
    "duplications['aux'] = duplications.cambio.map(lambda x: re.findall('^([A-Z][a-z]{2})(\\d+)_?([A-Z][a-z]{2})?(\\d+)?dup(.*)$', x))\n",
    "duplications['aux'] = duplications.aux.str[0]\n",
    "duplications = duplications[duplications.aux.notnull()]\n",
    "duplications.aux"
   ]
  },
  {
   "cell_type": "code",
   "execution_count": 402,
   "metadata": {},
   "outputs": [
    {
     "output_type": "execute_result",
     "data": {
      "text/plain": [
       "                 cambio  start_aa  end_aa    from  to  consequence\n",
       "234    His156_Gln168dup       156   168.0  HisGln NaN  duplication\n",
       "293    Val161_Thr173dup       161   173.0  ValThr NaN  duplication\n",
       "558    His156_Gln194dup       156   194.0  HisGln NaN  duplication\n",
       "641    Val161_Thr173dup       161   173.0  ValThr NaN  duplication\n",
       "828            Pro51dup        51     NaN     Pro NaN  duplication\n",
       "...                 ...       ...     ...     ...  ..          ...\n",
       "38776    Glu40_Gly41dup        40    41.0  GluGly NaN  duplication\n",
       "38785    Glu39_Glu40dup        39    40.0  GluGlu NaN  duplication\n",
       "39187  Glu100_Pro106dup       100   106.0  GluPro NaN  duplication\n",
       "40331    Gln14_Gln28dup        14    28.0  GlnGln NaN  duplication\n",
       "40970         Ala439dup       439     NaN     Ala NaN  duplication\n",
       "\n",
       "[108 rows x 6 columns]"
      ],
      "text/html": "<div>\n<style scoped>\n    .dataframe tbody tr th:only-of-type {\n        vertical-align: middle;\n    }\n\n    .dataframe tbody tr th {\n        vertical-align: top;\n    }\n\n    .dataframe thead th {\n        text-align: right;\n    }\n</style>\n<table border=\"1\" class=\"dataframe\">\n  <thead>\n    <tr style=\"text-align: right;\">\n      <th></th>\n      <th>cambio</th>\n      <th>start_aa</th>\n      <th>end_aa</th>\n      <th>from</th>\n      <th>to</th>\n      <th>consequence</th>\n    </tr>\n  </thead>\n  <tbody>\n    <tr>\n      <th>234</th>\n      <td>His156_Gln168dup</td>\n      <td>156</td>\n      <td>168.0</td>\n      <td>HisGln</td>\n      <td>NaN</td>\n      <td>duplication</td>\n    </tr>\n    <tr>\n      <th>293</th>\n      <td>Val161_Thr173dup</td>\n      <td>161</td>\n      <td>173.0</td>\n      <td>ValThr</td>\n      <td>NaN</td>\n      <td>duplication</td>\n    </tr>\n    <tr>\n      <th>558</th>\n      <td>His156_Gln194dup</td>\n      <td>156</td>\n      <td>194.0</td>\n      <td>HisGln</td>\n      <td>NaN</td>\n      <td>duplication</td>\n    </tr>\n    <tr>\n      <th>641</th>\n      <td>Val161_Thr173dup</td>\n      <td>161</td>\n      <td>173.0</td>\n      <td>ValThr</td>\n      <td>NaN</td>\n      <td>duplication</td>\n    </tr>\n    <tr>\n      <th>828</th>\n      <td>Pro51dup</td>\n      <td>51</td>\n      <td>NaN</td>\n      <td>Pro</td>\n      <td>NaN</td>\n      <td>duplication</td>\n    </tr>\n    <tr>\n      <th>...</th>\n      <td>...</td>\n      <td>...</td>\n      <td>...</td>\n      <td>...</td>\n      <td>...</td>\n      <td>...</td>\n    </tr>\n    <tr>\n      <th>38776</th>\n      <td>Glu40_Gly41dup</td>\n      <td>40</td>\n      <td>41.0</td>\n      <td>GluGly</td>\n      <td>NaN</td>\n      <td>duplication</td>\n    </tr>\n    <tr>\n      <th>38785</th>\n      <td>Glu39_Glu40dup</td>\n      <td>39</td>\n      <td>40.0</td>\n      <td>GluGlu</td>\n      <td>NaN</td>\n      <td>duplication</td>\n    </tr>\n    <tr>\n      <th>39187</th>\n      <td>Glu100_Pro106dup</td>\n      <td>100</td>\n      <td>106.0</td>\n      <td>GluPro</td>\n      <td>NaN</td>\n      <td>duplication</td>\n    </tr>\n    <tr>\n      <th>40331</th>\n      <td>Gln14_Gln28dup</td>\n      <td>14</td>\n      <td>28.0</td>\n      <td>GlnGln</td>\n      <td>NaN</td>\n      <td>duplication</td>\n    </tr>\n    <tr>\n      <th>40970</th>\n      <td>Ala439dup</td>\n      <td>439</td>\n      <td>NaN</td>\n      <td>Ala</td>\n      <td>NaN</td>\n      <td>duplication</td>\n    </tr>\n  </tbody>\n</table>\n<p>108 rows × 6 columns</p>\n</div>"
     },
     "metadata": {},
     "execution_count": 402
    }
   ],
   "source": [
    "separar_en_cols(duplications, 'aux', 'duplication')"
   ]
  },
  {
   "cell_type": "code",
   "execution_count": 403,
   "metadata": {},
   "outputs": [],
   "source": [
    "duplications = duplications.drop(columns=['aux'])"
   ]
  },
  {
   "cell_type": "code",
   "execution_count": 404,
   "metadata": {},
   "outputs": [
    {
     "output_type": "execute_result",
     "data": {
      "text/plain": [
       "57"
      ]
     },
     "metadata": {},
     "execution_count": 404
    }
   ],
   "source": [
    "# elimino estas entradas de la tabla original\n",
    "cond = box1_clinvar_total.index.isin(duplications.index)                       # es un array de bool\n",
    "box1_clinvar_total = box1_clinvar_total.drop(box1_clinvar_total[cond].index)   # drop esas filas\n",
    "len(box1_clinvar_total)"
   ]
  },
  {
   "source": [
    "# Casos raros"
   ],
   "cell_type": "markdown",
   "metadata": {}
  },
  {
   "cell_type": "code",
   "execution_count": 406,
   "metadata": {},
   "outputs": [],
   "source": [
    "# elimino los '?'\n",
    "box1_clinvar_total = box1_clinvar_total[(box1_clinvar_total.cambio != '?') & (box1_clinvar_total.cambio != '(?')]"
   ]
  },
  {
   "cell_type": "code",
   "execution_count": 407,
   "metadata": {},
   "outputs": [
    {
     "output_type": "execute_result",
     "data": {
      "text/plain": [
       "926          1540_1541DE[1]\n",
       "1865           604_605EK[1]\n",
       "5387           113_114PQ[1]\n",
       "5911           513_514LV[1]\n",
       "8786          329_331SGG[1]\n",
       "9075       138_143GQQQSY[1]\n",
       "9259           178_179RS[6]\n",
       "9829           622_623TL[1]\n",
       "10043      1053_1056SGGG[1]\n",
       "10181            1118SGG[1]\n",
       "11175    454_461GYGGDRGG[3]\n",
       "11178    454_461GYGGDRGG[3]\n",
       "14922         219_221QGS[1]\n",
       "15031         772_774KNP[3]\n",
       "17057         646_648GLG[3]\n",
       "17108       648_652GGLGV[1]\n",
       "17179      479_484VAPGVG[2]\n",
       "17217          501VGVAPG[1]\n",
       "24725         38_42SGPEE[1]\n",
       "25114         38_42SGPEE[3]\n",
       "25454         38_42SGPEE[3]\n",
       "25975          191_192HP[4]\n",
       "25997            72_73HP[2]\n",
       "26004              191HP[5]\n",
       "26092              191HP[1]\n",
       "26223          237_238PA[3]\n",
       "27095          229_230GP[6]\n",
       "27327          229_230GP[9]\n",
       "27328         229_230GP[12]\n",
       "27488          229_230GP[6]\n",
       "27676          229_230GP[9]\n",
       "27733         229_230GP[10]\n",
       "28139          229_230GP[7]\n",
       "28238          229_230GP[9]\n",
       "28561          229_230GP[2]\n",
       "28562          229_230GP[4]\n",
       "28563          229_230GP[6]\n",
       "28564          229_230GP[7]\n",
       "28565         229_230GP[10]\n",
       "28955         229_230GP[12]\n",
       "28956         229_230GP[10]\n",
       "28958          229_230GP[4]\n",
       "29204          229_230GP[9]\n",
       "29342              229GP[9]\n",
       "29343             229GP[11]\n",
       "33836         343_345DFS[1]\n",
       "38213       2760_2762NLQ[1]\n",
       "38278          164_165QP[4]\n",
       "40137         596_598DDE[1]\n",
       "40793      60_67PHGGGWGQ[3]\n",
       "40795     60_67PHGGGWGQ[12]\n",
       "40801      60_67PHGGGWGQ[2]\n",
       "Name: cambio, dtype: object"
      ]
     },
     "metadata": {},
     "execution_count": 407
    }
   ],
   "source": [
    "box1_clinvar_total.cambio"
   ]
  },
  {
   "cell_type": "code",
   "execution_count": 420,
   "metadata": {},
   "outputs": [],
   "source": [
    "# elimino los parentesis con el nro del final usando una regex\n",
    "box1_clinvar_total.cambio = box1_clinvar_total.cambio.map(lambda x: re.findall('^(\\d+_?\\d+?[A-Za-z][A-Za-z]*[A-Za-z])', x))\n",
    "box1_clinvar_total.cambio = box1_clinvar_total.cambio.str[0]\n"
   ]
  },
  {
   "cell_type": "code",
   "execution_count": 421,
   "metadata": {},
   "outputs": [
    {
     "output_type": "execute_result",
     "data": {
      "text/plain": [
       "                 type                                               name  \\\n",
       "926    Microsatellite  NM_000489.5(ATRX):c.4620_4625TGAAGA[1] (p.1540...   \n",
       "1865   Microsatellite  NM_147185.3(AKAP9):c.1809_1814AGAAAA[1] (p.604...   \n",
       "5387         Deletion  NM_014494.4(TNRC6A):c.339_350del (p.113_114PQ[1])   \n",
       "5911   Microsatellite  NM_004646.3(NPHS1):c.1536_1541GCTGGT[1] (p.513...   \n",
       "8786         Deletion  NM_002137.4(HNRNPA2B1):c.984_992del (p.329_331...   \n",
       "9075   Microsatellite  NM_004960.4(FUS):c.412_429GGACAGCAGCAAAGCTAT[1...   \n",
       "9259         Deletion  NM_001195427.2(SRSF2):c.550_555del (p.178_179R...   \n",
       "9829   Microsatellite  NM_006772.3(SYNGAP1):c.1865_1870CCCTCA[1] (p.6...   \n",
       "10043        Deletion  NM_006772.3(SYNGAP1):c.3168_3179del (p.1053_10...   \n",
       "10181  Microsatellite  NM_006772.3(SYNGAP1):c.3348GGGCAGCGG[1] (p.111...   \n",
       "11175        Deletion  NM_139215.3(TAF15):c.1392_1415del (p.454_461GY...   \n",
       "11178        Deletion  NM_139215.3(TAF15):c.1422_1445del (p.454_461GY...   \n",
       "14922        Deletion  NM_198935.3(SS18L1):c.660_668del (p.219_221QGS...   \n",
       "15031     Duplication  NM_012469.4(PRPF6):c.2313_2321dup (p.772_774KN...   \n",
       "17057     Duplication  NM_000501.4(ELN):c.1946_1954dup (p.646_648GLG[3])   \n",
       "17108        Deletion  NM_000501.4(ELN):c.1956_1970del (p.648_652GGLG...   \n",
       "17179        Deletion  NM_000501.4(ELN):c.1446_1463del (p.479_484VAPG...   \n",
       "17217        Deletion   NM_000501.4(ELN):c.1515_1550del (p.501VGVAPG[1])   \n",
       "24725        Deletion    NM_198156.3(VHL):c.123_137del (p.38_42SGPEE[1])   \n",
       "25114     Duplication    NM_000551.3(VHL):c.123_137dup (p.38_42SGPEE[3])   \n",
       "25454     Duplication    NM_000551.4(VHL):c.108_122dup (p.38_42SGPEE[3])   \n",
       "25975  Microsatellite  NM_004364.5(CEBPA):c.572_577ACCCGC[4] (p.191_1...   \n",
       "25997  Microsatellite  NM_001285829.1(CEBPA):c.215_220ACCCGC[2] (p.72...   \n",
       "26004  Microsatellite     NM_004364.5(CEBPA):c.572ACCCGC[5] (p.191HP[5])   \n",
       "26092  Microsatellite     NM_004364.5(CEBPA):c.572ACCCGC[1] (p.191HP[1])   \n",
       "26223  Microsatellite  NM_004364.5(CEBPA):c.710_715CCGCGC[3] (p.237_2...   \n",
       "27095        Deletion  NM_003072.4(SMARCA4):c.722_733del (p.229_230GP...   \n",
       "27327  Microsatellite  NM_003072.4(SMARCA4):c.696_701TGGCCC[4] (p.229...   \n",
       "27328     Duplication  NM_001128849.2(SMARCA4):c.708_731dup (p.229_23...   \n",
       "27488  Microsatellite  NM_003072.4(SMARCA4):c.696_701TGGCCC[1] (p.229...   \n",
       "27676       Insertion  NM_001128849.2(SMARCA4):c.695_696insGGGCCC (p....   \n",
       "27733     Duplication  NM_001128849.2(SMARCA4):c.708_719dup (p.229_23...   \n",
       "28139  Microsatellite  NM_003072.4(SMARCA4):c.696_701TGGCCC[2] (p.229...   \n",
       "28238     Duplication  NM_001128849.2(SMARCA4):c.714_719dup (p.229_23...   \n",
       "28561        Deletion  NM_003072.4(SMARCA4):c.696_731del (p.229_230GP...   \n",
       "28562        Deletion  NM_003072.4(SMARCA4):c.699_722del (p.229_230GP...   \n",
       "28563        Deletion  NM_001128849.2(SMARCA4):c.708_719del (p.229_23...   \n",
       "28564        Deletion  NM_003072.4(SMARCA4):c.714_719del (p.229_230GP...   \n",
       "28565     Duplication  NM_001128849.2(SMARCA4):c.722_733dup (p.229_23...   \n",
       "28955     Duplication  NM_003072.5(SMARCA4):c.696_719dup (p.229_230GP...   \n",
       "28956  Microsatellite  NM_003072.5(SMARCA4):c.696_701TGGCCC[5] (p.229...   \n",
       "28958        Deletion  NM_003072.5(SMARCA4):c.708_731del (p.229_230GP...   \n",
       "29204     Duplication  NM_001128849.3(SMARCA4):c.726_731dup (p.229_23...   \n",
       "29342       Insertion  NM_003072.5(SMARCA4):c.698_699insACCTGG (p.229...   \n",
       "29343     Duplication    NM_003072.5(SMARCA4):c.714_731dup (p.229GP[11])   \n",
       "33836  Microsatellite  NM_152383.5(DIS3L2):c.1027_1035GATTTCTCT[1] (p...   \n",
       "38213  Microsatellite  NM_017780.4(CHD7):c.8278_8286AATCTCCAG[1] (p.2...   \n",
       "38278     Duplication    NM_017780.4(CHD7):c.495_500dup (p.164_165QP[4])   \n",
       "40137  Microsatellite  NM_031206.6(LAS1L):c.1788_1796TGATGAAGA[1] (p....   \n",
       "40793        Deletion  NM_000311.5(PRNP):c.246_269del (p.60_67PHGGGWG...   \n",
       "40795       Insertion  NM_000311.5(PRNP):c.227_228insTCATGGTGGTGGCTGG...   \n",
       "40801        Deletion  NM_000311.5(PRNP):c.180_227del (p.60_67PHGGGWG...   \n",
       "\n",
       "                cambio  \n",
       "926        1540_1541DE  \n",
       "1865         604_605EK  \n",
       "5387         113_114PQ  \n",
       "5911         513_514LV  \n",
       "8786        329_331SGG  \n",
       "9075     138_143GQQQSY  \n",
       "9259         178_179RS  \n",
       "9829         622_623TL  \n",
       "10043    1053_1056SGGG  \n",
       "10181          1118SGG  \n",
       "11175  454_461GYGGDRGG  \n",
       "11178  454_461GYGGDRGG  \n",
       "14922       219_221QGS  \n",
       "15031       772_774KNP  \n",
       "17057       646_648GLG  \n",
       "17108     648_652GGLGV  \n",
       "17179    479_484VAPGVG  \n",
       "17217        501VGVAPG  \n",
       "24725       38_42SGPEE  \n",
       "25114       38_42SGPEE  \n",
       "25454       38_42SGPEE  \n",
       "25975        191_192HP  \n",
       "25997          72_73HP  \n",
       "26004            191HP  \n",
       "26092            191HP  \n",
       "26223        237_238PA  \n",
       "27095        229_230GP  \n",
       "27327        229_230GP  \n",
       "27328        229_230GP  \n",
       "27488        229_230GP  \n",
       "27676        229_230GP  \n",
       "27733        229_230GP  \n",
       "28139        229_230GP  \n",
       "28238        229_230GP  \n",
       "28561        229_230GP  \n",
       "28562        229_230GP  \n",
       "28563        229_230GP  \n",
       "28564        229_230GP  \n",
       "28565        229_230GP  \n",
       "28955        229_230GP  \n",
       "28956        229_230GP  \n",
       "28958        229_230GP  \n",
       "29204        229_230GP  \n",
       "29342            229GP  \n",
       "29343            229GP  \n",
       "33836       343_345DFS  \n",
       "38213     2760_2762NLQ  \n",
       "38278        164_165QP  \n",
       "40137       596_598DDE  \n",
       "40793    60_67PHGGGWGQ  \n",
       "40795    60_67PHGGGWGQ  \n",
       "40801    60_67PHGGGWGQ  "
      ],
      "text/html": "<div>\n<style scoped>\n    .dataframe tbody tr th:only-of-type {\n        vertical-align: middle;\n    }\n\n    .dataframe tbody tr th {\n        vertical-align: top;\n    }\n\n    .dataframe thead th {\n        text-align: right;\n    }\n</style>\n<table border=\"1\" class=\"dataframe\">\n  <thead>\n    <tr style=\"text-align: right;\">\n      <th></th>\n      <th>type</th>\n      <th>name</th>\n      <th>cambio</th>\n    </tr>\n  </thead>\n  <tbody>\n    <tr>\n      <th>926</th>\n      <td>Microsatellite</td>\n      <td>NM_000489.5(ATRX):c.4620_4625TGAAGA[1] (p.1540...</td>\n      <td>1540_1541DE</td>\n    </tr>\n    <tr>\n      <th>1865</th>\n      <td>Microsatellite</td>\n      <td>NM_147185.3(AKAP9):c.1809_1814AGAAAA[1] (p.604...</td>\n      <td>604_605EK</td>\n    </tr>\n    <tr>\n      <th>5387</th>\n      <td>Deletion</td>\n      <td>NM_014494.4(TNRC6A):c.339_350del (p.113_114PQ[1])</td>\n      <td>113_114PQ</td>\n    </tr>\n    <tr>\n      <th>5911</th>\n      <td>Microsatellite</td>\n      <td>NM_004646.3(NPHS1):c.1536_1541GCTGGT[1] (p.513...</td>\n      <td>513_514LV</td>\n    </tr>\n    <tr>\n      <th>8786</th>\n      <td>Deletion</td>\n      <td>NM_002137.4(HNRNPA2B1):c.984_992del (p.329_331...</td>\n      <td>329_331SGG</td>\n    </tr>\n    <tr>\n      <th>9075</th>\n      <td>Microsatellite</td>\n      <td>NM_004960.4(FUS):c.412_429GGACAGCAGCAAAGCTAT[1...</td>\n      <td>138_143GQQQSY</td>\n    </tr>\n    <tr>\n      <th>9259</th>\n      <td>Deletion</td>\n      <td>NM_001195427.2(SRSF2):c.550_555del (p.178_179R...</td>\n      <td>178_179RS</td>\n    </tr>\n    <tr>\n      <th>9829</th>\n      <td>Microsatellite</td>\n      <td>NM_006772.3(SYNGAP1):c.1865_1870CCCTCA[1] (p.6...</td>\n      <td>622_623TL</td>\n    </tr>\n    <tr>\n      <th>10043</th>\n      <td>Deletion</td>\n      <td>NM_006772.3(SYNGAP1):c.3168_3179del (p.1053_10...</td>\n      <td>1053_1056SGGG</td>\n    </tr>\n    <tr>\n      <th>10181</th>\n      <td>Microsatellite</td>\n      <td>NM_006772.3(SYNGAP1):c.3348GGGCAGCGG[1] (p.111...</td>\n      <td>1118SGG</td>\n    </tr>\n    <tr>\n      <th>11175</th>\n      <td>Deletion</td>\n      <td>NM_139215.3(TAF15):c.1392_1415del (p.454_461GY...</td>\n      <td>454_461GYGGDRGG</td>\n    </tr>\n    <tr>\n      <th>11178</th>\n      <td>Deletion</td>\n      <td>NM_139215.3(TAF15):c.1422_1445del (p.454_461GY...</td>\n      <td>454_461GYGGDRGG</td>\n    </tr>\n    <tr>\n      <th>14922</th>\n      <td>Deletion</td>\n      <td>NM_198935.3(SS18L1):c.660_668del (p.219_221QGS...</td>\n      <td>219_221QGS</td>\n    </tr>\n    <tr>\n      <th>15031</th>\n      <td>Duplication</td>\n      <td>NM_012469.4(PRPF6):c.2313_2321dup (p.772_774KN...</td>\n      <td>772_774KNP</td>\n    </tr>\n    <tr>\n      <th>17057</th>\n      <td>Duplication</td>\n      <td>NM_000501.4(ELN):c.1946_1954dup (p.646_648GLG[3])</td>\n      <td>646_648GLG</td>\n    </tr>\n    <tr>\n      <th>17108</th>\n      <td>Deletion</td>\n      <td>NM_000501.4(ELN):c.1956_1970del (p.648_652GGLG...</td>\n      <td>648_652GGLGV</td>\n    </tr>\n    <tr>\n      <th>17179</th>\n      <td>Deletion</td>\n      <td>NM_000501.4(ELN):c.1446_1463del (p.479_484VAPG...</td>\n      <td>479_484VAPGVG</td>\n    </tr>\n    <tr>\n      <th>17217</th>\n      <td>Deletion</td>\n      <td>NM_000501.4(ELN):c.1515_1550del (p.501VGVAPG[1])</td>\n      <td>501VGVAPG</td>\n    </tr>\n    <tr>\n      <th>24725</th>\n      <td>Deletion</td>\n      <td>NM_198156.3(VHL):c.123_137del (p.38_42SGPEE[1])</td>\n      <td>38_42SGPEE</td>\n    </tr>\n    <tr>\n      <th>25114</th>\n      <td>Duplication</td>\n      <td>NM_000551.3(VHL):c.123_137dup (p.38_42SGPEE[3])</td>\n      <td>38_42SGPEE</td>\n    </tr>\n    <tr>\n      <th>25454</th>\n      <td>Duplication</td>\n      <td>NM_000551.4(VHL):c.108_122dup (p.38_42SGPEE[3])</td>\n      <td>38_42SGPEE</td>\n    </tr>\n    <tr>\n      <th>25975</th>\n      <td>Microsatellite</td>\n      <td>NM_004364.5(CEBPA):c.572_577ACCCGC[4] (p.191_1...</td>\n      <td>191_192HP</td>\n    </tr>\n    <tr>\n      <th>25997</th>\n      <td>Microsatellite</td>\n      <td>NM_001285829.1(CEBPA):c.215_220ACCCGC[2] (p.72...</td>\n      <td>72_73HP</td>\n    </tr>\n    <tr>\n      <th>26004</th>\n      <td>Microsatellite</td>\n      <td>NM_004364.5(CEBPA):c.572ACCCGC[5] (p.191HP[5])</td>\n      <td>191HP</td>\n    </tr>\n    <tr>\n      <th>26092</th>\n      <td>Microsatellite</td>\n      <td>NM_004364.5(CEBPA):c.572ACCCGC[1] (p.191HP[1])</td>\n      <td>191HP</td>\n    </tr>\n    <tr>\n      <th>26223</th>\n      <td>Microsatellite</td>\n      <td>NM_004364.5(CEBPA):c.710_715CCGCGC[3] (p.237_2...</td>\n      <td>237_238PA</td>\n    </tr>\n    <tr>\n      <th>27095</th>\n      <td>Deletion</td>\n      <td>NM_003072.4(SMARCA4):c.722_733del (p.229_230GP...</td>\n      <td>229_230GP</td>\n    </tr>\n    <tr>\n      <th>27327</th>\n      <td>Microsatellite</td>\n      <td>NM_003072.4(SMARCA4):c.696_701TGGCCC[4] (p.229...</td>\n      <td>229_230GP</td>\n    </tr>\n    <tr>\n      <th>27328</th>\n      <td>Duplication</td>\n      <td>NM_001128849.2(SMARCA4):c.708_731dup (p.229_23...</td>\n      <td>229_230GP</td>\n    </tr>\n    <tr>\n      <th>27488</th>\n      <td>Microsatellite</td>\n      <td>NM_003072.4(SMARCA4):c.696_701TGGCCC[1] (p.229...</td>\n      <td>229_230GP</td>\n    </tr>\n    <tr>\n      <th>27676</th>\n      <td>Insertion</td>\n      <td>NM_001128849.2(SMARCA4):c.695_696insGGGCCC (p....</td>\n      <td>229_230GP</td>\n    </tr>\n    <tr>\n      <th>27733</th>\n      <td>Duplication</td>\n      <td>NM_001128849.2(SMARCA4):c.708_719dup (p.229_23...</td>\n      <td>229_230GP</td>\n    </tr>\n    <tr>\n      <th>28139</th>\n      <td>Microsatellite</td>\n      <td>NM_003072.4(SMARCA4):c.696_701TGGCCC[2] (p.229...</td>\n      <td>229_230GP</td>\n    </tr>\n    <tr>\n      <th>28238</th>\n      <td>Duplication</td>\n      <td>NM_001128849.2(SMARCA4):c.714_719dup (p.229_23...</td>\n      <td>229_230GP</td>\n    </tr>\n    <tr>\n      <th>28561</th>\n      <td>Deletion</td>\n      <td>NM_003072.4(SMARCA4):c.696_731del (p.229_230GP...</td>\n      <td>229_230GP</td>\n    </tr>\n    <tr>\n      <th>28562</th>\n      <td>Deletion</td>\n      <td>NM_003072.4(SMARCA4):c.699_722del (p.229_230GP...</td>\n      <td>229_230GP</td>\n    </tr>\n    <tr>\n      <th>28563</th>\n      <td>Deletion</td>\n      <td>NM_001128849.2(SMARCA4):c.708_719del (p.229_23...</td>\n      <td>229_230GP</td>\n    </tr>\n    <tr>\n      <th>28564</th>\n      <td>Deletion</td>\n      <td>NM_003072.4(SMARCA4):c.714_719del (p.229_230GP...</td>\n      <td>229_230GP</td>\n    </tr>\n    <tr>\n      <th>28565</th>\n      <td>Duplication</td>\n      <td>NM_001128849.2(SMARCA4):c.722_733dup (p.229_23...</td>\n      <td>229_230GP</td>\n    </tr>\n    <tr>\n      <th>28955</th>\n      <td>Duplication</td>\n      <td>NM_003072.5(SMARCA4):c.696_719dup (p.229_230GP...</td>\n      <td>229_230GP</td>\n    </tr>\n    <tr>\n      <th>28956</th>\n      <td>Microsatellite</td>\n      <td>NM_003072.5(SMARCA4):c.696_701TGGCCC[5] (p.229...</td>\n      <td>229_230GP</td>\n    </tr>\n    <tr>\n      <th>28958</th>\n      <td>Deletion</td>\n      <td>NM_003072.5(SMARCA4):c.708_731del (p.229_230GP...</td>\n      <td>229_230GP</td>\n    </tr>\n    <tr>\n      <th>29204</th>\n      <td>Duplication</td>\n      <td>NM_001128849.3(SMARCA4):c.726_731dup (p.229_23...</td>\n      <td>229_230GP</td>\n    </tr>\n    <tr>\n      <th>29342</th>\n      <td>Insertion</td>\n      <td>NM_003072.5(SMARCA4):c.698_699insACCTGG (p.229...</td>\n      <td>229GP</td>\n    </tr>\n    <tr>\n      <th>29343</th>\n      <td>Duplication</td>\n      <td>NM_003072.5(SMARCA4):c.714_731dup (p.229GP[11])</td>\n      <td>229GP</td>\n    </tr>\n    <tr>\n      <th>33836</th>\n      <td>Microsatellite</td>\n      <td>NM_152383.5(DIS3L2):c.1027_1035GATTTCTCT[1] (p...</td>\n      <td>343_345DFS</td>\n    </tr>\n    <tr>\n      <th>38213</th>\n      <td>Microsatellite</td>\n      <td>NM_017780.4(CHD7):c.8278_8286AATCTCCAG[1] (p.2...</td>\n      <td>2760_2762NLQ</td>\n    </tr>\n    <tr>\n      <th>38278</th>\n      <td>Duplication</td>\n      <td>NM_017780.4(CHD7):c.495_500dup (p.164_165QP[4])</td>\n      <td>164_165QP</td>\n    </tr>\n    <tr>\n      <th>40137</th>\n      <td>Microsatellite</td>\n      <td>NM_031206.6(LAS1L):c.1788_1796TGATGAAGA[1] (p....</td>\n      <td>596_598DDE</td>\n    </tr>\n    <tr>\n      <th>40793</th>\n      <td>Deletion</td>\n      <td>NM_000311.5(PRNP):c.246_269del (p.60_67PHGGGWG...</td>\n      <td>60_67PHGGGWGQ</td>\n    </tr>\n    <tr>\n      <th>40795</th>\n      <td>Insertion</td>\n      <td>NM_000311.5(PRNP):c.227_228insTCATGGTGGTGGCTGG...</td>\n      <td>60_67PHGGGWGQ</td>\n    </tr>\n    <tr>\n      <th>40801</th>\n      <td>Deletion</td>\n      <td>NM_000311.5(PRNP):c.180_227del (p.60_67PHGGGWG...</td>\n      <td>60_67PHGGGWGQ</td>\n    </tr>\n  </tbody>\n</table>\n</div>"
     },
     "metadata": {},
     "execution_count": 421
    }
   ],
   "source": [
    "box1_clinvar_total[['type', 'name', 'cambio']]"
   ]
  },
  {
   "source": [
    "# Raros: duplicaciones"
   ],
   "cell_type": "markdown",
   "metadata": {}
  },
  {
   "cell_type": "code",
   "execution_count": 449,
   "metadata": {},
   "outputs": [
    {
     "output_type": "execute_result",
     "data": {
      "text/plain": [
       "      uniprot      organism                mlo     hgnc_id  length  \\\n",
       "15031  O94906  Homo sapiens         cajal body  HGNC:15860     941   \n",
       "17057  P15502  Homo sapiens  null_phasepdb_rev   HGNC:3327     786   \n",
       "25114  P40337  Homo sapiens     stress granule  HGNC:12687     213   \n",
       "25454  P40337  Homo sapiens     stress granule  HGNC:12687     213   \n",
       "27328  P51532  Homo sapiens   nucleus speckles  HGNC:11100    1647   \n",
       "\n",
       "                                                sequence  geneid genesymbol  \\\n",
       "15031  MNKKKKPFLGMPAPLGYVPGLGRGATGFTTRSDIGPARDANDPVDD...   24148      PRPF6   \n",
       "17057  MAGLTAAAPRPGVLLLLLSILHPSRPGGVPGAIPGGVPGGVFYPGA...    2006        ELN   \n",
       "25114  MPRRAENWDEAEVGAEEAGVEEYGPEEDGGEESGAEESGPEESGPE...    7428        VHL   \n",
       "25454  MPRRAENWDEAEVGAEEAGVEEYGPEEDGGEESGAEESGPEESGPE...    7428        VHL   \n",
       "27328  MSTPDPPLGGTPRPGPSPGPGPSPGAMLGPSPGPSPGSAHSMMGPS...    6597    SMARCA4   \n",
       "\n",
       "            snpid  alleleid  ...     start      stop         type  \\\n",
       "15031          -1    856967  ...  64027709  64027710  Duplication   \n",
       "17057   374813147    494051  ...  74063640  74063641  Duplication   \n",
       "25114   863224839    451603  ...  10141955  10141956  Duplication   \n",
       "25454  1340164546    807479  ...  10141952  10141953  Duplication   \n",
       "27328  1555753690    402888  ...  10986535  10986536  Duplication   \n",
       "\n",
       "                                                    name    origin  \\\n",
       "15031  NM_012469.4(PRPF6):c.2313_2321dup (p.772_774KN...  germline   \n",
       "17057  NM_000501.4(ELN):c.1946_1954dup (p.646_648GLG[3])  germline   \n",
       "25114    NM_000551.3(VHL):c.123_137dup (p.38_42SGPEE[3])  germline   \n",
       "25454    NM_000551.4(VHL):c.108_122dup (p.38_42SGPEE[3])  germline   \n",
       "27328  NM_001128849.2(SMARCA4):c.708_731dup (p.229_23...  germline   \n",
       "\n",
       "                                            phenotypeids  \\\n",
       "15031  Human Phenotype Ontology:HP:0000556,Human Phen...   \n",
       "17057  MedGen:CN169374|MedGen:CN517202|Human Phenotyp...   \n",
       "25114  MONDO:MONDO:0009892,MedGen:C1837915,OMIM:26340...   \n",
       "25454  MONDO:MONDO:0015356,MedGen:C0027672,Orphanet:1...   \n",
       "27328  MONDO:MONDO:0013224,MedGen:C2750074,OMIM:61332...   \n",
       "\n",
       "                                           phenotypelist             otherids  \\\n",
       "15031                                  Retinal dystrophy                    -   \n",
       "17057  not specified|not provided|Supravalvar aortic ...                    -   \n",
       "25114  Erythrocytosis, familial, 2;Von Hippel-Lindau ...  ClinGen:CA541213522   \n",
       "25454            Hereditary cancer-predisposing syndrome                    -   \n",
       "27328           Rhabdoid tumor predisposition syndrome 2   ClinGen:CA16615870   \n",
       "\n",
       "           nuccore_id      cambio  \n",
       "15031     NM_012469.4  772_774KNP  \n",
       "17057     NM_000501.4  646_648GLG  \n",
       "25114     NM_000551.3  38_42SGPEE  \n",
       "25454     NM_000551.4  38_42SGPEE  \n",
       "27328  NM_001128849.2   229_230GP  \n",
       "\n",
       "[5 rows x 22 columns]"
      ],
      "text/html": "<div>\n<style scoped>\n    .dataframe tbody tr th:only-of-type {\n        vertical-align: middle;\n    }\n\n    .dataframe tbody tr th {\n        vertical-align: top;\n    }\n\n    .dataframe thead th {\n        text-align: right;\n    }\n</style>\n<table border=\"1\" class=\"dataframe\">\n  <thead>\n    <tr style=\"text-align: right;\">\n      <th></th>\n      <th>uniprot</th>\n      <th>organism</th>\n      <th>mlo</th>\n      <th>hgnc_id</th>\n      <th>length</th>\n      <th>sequence</th>\n      <th>geneid</th>\n      <th>genesymbol</th>\n      <th>snpid</th>\n      <th>alleleid</th>\n      <th>...</th>\n      <th>start</th>\n      <th>stop</th>\n      <th>type</th>\n      <th>name</th>\n      <th>origin</th>\n      <th>phenotypeids</th>\n      <th>phenotypelist</th>\n      <th>otherids</th>\n      <th>nuccore_id</th>\n      <th>cambio</th>\n    </tr>\n  </thead>\n  <tbody>\n    <tr>\n      <th>15031</th>\n      <td>O94906</td>\n      <td>Homo sapiens</td>\n      <td>cajal body</td>\n      <td>HGNC:15860</td>\n      <td>941</td>\n      <td>MNKKKKPFLGMPAPLGYVPGLGRGATGFTTRSDIGPARDANDPVDD...</td>\n      <td>24148</td>\n      <td>PRPF6</td>\n      <td>-1</td>\n      <td>856967</td>\n      <td>...</td>\n      <td>64027709</td>\n      <td>64027710</td>\n      <td>Duplication</td>\n      <td>NM_012469.4(PRPF6):c.2313_2321dup (p.772_774KN...</td>\n      <td>germline</td>\n      <td>Human Phenotype Ontology:HP:0000556,Human Phen...</td>\n      <td>Retinal dystrophy</td>\n      <td>-</td>\n      <td>NM_012469.4</td>\n      <td>772_774KNP</td>\n    </tr>\n    <tr>\n      <th>17057</th>\n      <td>P15502</td>\n      <td>Homo sapiens</td>\n      <td>null_phasepdb_rev</td>\n      <td>HGNC:3327</td>\n      <td>786</td>\n      <td>MAGLTAAAPRPGVLLLLLSILHPSRPGGVPGAIPGGVPGGVFYPGA...</td>\n      <td>2006</td>\n      <td>ELN</td>\n      <td>374813147</td>\n      <td>494051</td>\n      <td>...</td>\n      <td>74063640</td>\n      <td>74063641</td>\n      <td>Duplication</td>\n      <td>NM_000501.4(ELN):c.1946_1954dup (p.646_648GLG[3])</td>\n      <td>germline</td>\n      <td>MedGen:CN169374|MedGen:CN517202|Human Phenotyp...</td>\n      <td>not specified|not provided|Supravalvar aortic ...</td>\n      <td>-</td>\n      <td>NM_000501.4</td>\n      <td>646_648GLG</td>\n    </tr>\n    <tr>\n      <th>25114</th>\n      <td>P40337</td>\n      <td>Homo sapiens</td>\n      <td>stress granule</td>\n      <td>HGNC:12687</td>\n      <td>213</td>\n      <td>MPRRAENWDEAEVGAEEAGVEEYGPEEDGGEESGAEESGPEESGPE...</td>\n      <td>7428</td>\n      <td>VHL</td>\n      <td>863224839</td>\n      <td>451603</td>\n      <td>...</td>\n      <td>10141955</td>\n      <td>10141956</td>\n      <td>Duplication</td>\n      <td>NM_000551.3(VHL):c.123_137dup (p.38_42SGPEE[3])</td>\n      <td>germline</td>\n      <td>MONDO:MONDO:0009892,MedGen:C1837915,OMIM:26340...</td>\n      <td>Erythrocytosis, familial, 2;Von Hippel-Lindau ...</td>\n      <td>ClinGen:CA541213522</td>\n      <td>NM_000551.3</td>\n      <td>38_42SGPEE</td>\n    </tr>\n    <tr>\n      <th>25454</th>\n      <td>P40337</td>\n      <td>Homo sapiens</td>\n      <td>stress granule</td>\n      <td>HGNC:12687</td>\n      <td>213</td>\n      <td>MPRRAENWDEAEVGAEEAGVEEYGPEEDGGEESGAEESGPEESGPE...</td>\n      <td>7428</td>\n      <td>VHL</td>\n      <td>1340164546</td>\n      <td>807479</td>\n      <td>...</td>\n      <td>10141952</td>\n      <td>10141953</td>\n      <td>Duplication</td>\n      <td>NM_000551.4(VHL):c.108_122dup (p.38_42SGPEE[3])</td>\n      <td>germline</td>\n      <td>MONDO:MONDO:0015356,MedGen:C0027672,Orphanet:1...</td>\n      <td>Hereditary cancer-predisposing syndrome</td>\n      <td>-</td>\n      <td>NM_000551.4</td>\n      <td>38_42SGPEE</td>\n    </tr>\n    <tr>\n      <th>27328</th>\n      <td>P51532</td>\n      <td>Homo sapiens</td>\n      <td>nucleus speckles</td>\n      <td>HGNC:11100</td>\n      <td>1647</td>\n      <td>MSTPDPPLGGTPRPGPSPGPGPSPGAMLGPSPGPSPGSAHSMMGPS...</td>\n      <td>6597</td>\n      <td>SMARCA4</td>\n      <td>1555753690</td>\n      <td>402888</td>\n      <td>...</td>\n      <td>10986535</td>\n      <td>10986536</td>\n      <td>Duplication</td>\n      <td>NM_001128849.2(SMARCA4):c.708_731dup (p.229_23...</td>\n      <td>germline</td>\n      <td>MONDO:MONDO:0013224,MedGen:C2750074,OMIM:61332...</td>\n      <td>Rhabdoid tumor predisposition syndrome 2</td>\n      <td>ClinGen:CA16615870</td>\n      <td>NM_001128849.2</td>\n      <td>229_230GP</td>\n    </tr>\n  </tbody>\n</table>\n<p>5 rows × 22 columns</p>\n</div>"
     },
     "metadata": {},
     "execution_count": 449
    }
   ],
   "source": [
    "dup = box1_clinvar_total[box1_clinvar_total.type == 'Duplication']\n",
    "dup.head()"
   ]
  },
  {
   "cell_type": "code",
   "execution_count": 452,
   "metadata": {},
   "outputs": [
    {
     "output_type": "stream",
     "name": "stderr",
     "text": [
      "<ipython-input-452-b51fa4b44cb6>:1: SettingWithCopyWarning: \nA value is trying to be set on a copy of a slice from a DataFrame.\nTry using .loc[row_indexer,col_indexer] = value instead\n\nSee the caveats in the documentation: https://pandas.pydata.org/pandas-docs/stable/user_guide/indexing.html#returning-a-view-versus-a-copy\n  dup['aux'] = dup.cambio.map(lambda x: re.findall('^(\\d+)_?(\\d+)?([A-Za-z]*)', x))\n<ipython-input-452-b51fa4b44cb6>:2: SettingWithCopyWarning: \nA value is trying to be set on a copy of a slice from a DataFrame.\nTry using .loc[row_indexer,col_indexer] = value instead\n\nSee the caveats in the documentation: https://pandas.pydata.org/pandas-docs/stable/user_guide/indexing.html#returning-a-view-versus-a-copy\n  dup['aux'] = dup.aux.str[0]\n"
     ]
    },
    {
     "output_type": "execute_result",
     "data": {
      "text/plain": [
       "15031    (772, 774, KNP)\n",
       "17057    (646, 648, GLG)\n",
       "25114    (38, 42, SGPEE)\n",
       "25454    (38, 42, SGPEE)\n",
       "27328     (229, 230, GP)\n",
       "27733     (229, 230, GP)\n",
       "28238     (229, 230, GP)\n",
       "28565     (229, 230, GP)\n",
       "28955     (229, 230, GP)\n",
       "29204     (229, 230, GP)\n",
       "29343        (229, , GP)\n",
       "38278     (164, 165, QP)\n",
       "Name: aux, dtype: object"
      ]
     },
     "metadata": {},
     "execution_count": 452
    }
   ],
   "source": [
    "dup['aux'] = dup.cambio.map(lambda x: re.findall('^(\\d+)_?(\\d+)?([A-Za-z]*)', x))\n",
    "dup['aux'] = dup.aux.str[0]\n",
    "dup.aux"
   ]
  },
  {
   "cell_type": "code",
   "execution_count": 455,
   "metadata": {},
   "outputs": [],
   "source": [
    "def separar_en_cols_raros(df, column, conseq):\n",
    "    '''\n",
    "    recibe un DataFrame, el nombre de una columna auxiliar (column)\n",
    "    y un string con el tipo de consecuencia (conseq). La col. auxiliar\n",
    "    es una tupla con los elementos implicados en una mutacion\n",
    "    como la siguiente (start_pos, end_pos, aminoacidos).\n",
    "    Devuelve el DataFrame df con estas 5 nuevas columnas\n",
    "    '''\n",
    "    # start position\n",
    "    df['start_aa'] = df[column].map(lambda x: x[0])\n",
    "    df.start_aa = df.start_aa.apply(int)\n",
    "\n",
    "    # end position\n",
    "    df['end_aa'] = df[column].map(lambda x: int(x[1]) if x[1] != '' else np.nan)\n",
    "\n",
    "    # from: es el/los aa que cambian\n",
    "    df['from'] = df[column].map(lambda x: x[2])\n",
    "    df['from'] = df['from'].map(lambda x: seq3(x))\n",
    "\n",
    "    # to: aa/s nuevos\n",
    "    df['to'] = np.nan\n",
    "\n",
    "    # consecuencia de la mutacion\n",
    "    df['consequence'] = conseq\n",
    "\n",
    "    return df[['cambio', 'start_aa', 'end_aa', 'from', 'to', 'consequence']]"
   ]
  },
  {
   "cell_type": "code",
   "execution_count": 456,
   "metadata": {},
   "outputs": [
    {
     "output_type": "stream",
     "name": "stderr",
     "text": [
      "<ipython-input-455-f409ad5f4d5a>:10: SettingWithCopyWarning: \nA value is trying to be set on a copy of a slice from a DataFrame.\nTry using .loc[row_indexer,col_indexer] = value instead\n\nSee the caveats in the documentation: https://pandas.pydata.org/pandas-docs/stable/user_guide/indexing.html#returning-a-view-versus-a-copy\n  df['start_aa'] = df[column].map(lambda x: x[0])\nC:\\Users\\User\\AppData\\Local\\Packages\\PythonSoftwareFoundation.Python.3.9_qbz5n2kfra8p0\\LocalCache\\local-packages\\Python39\\site-packages\\pandas\\core\\generic.py:5491: SettingWithCopyWarning: \nA value is trying to be set on a copy of a slice from a DataFrame.\nTry using .loc[row_indexer,col_indexer] = value instead\n\nSee the caveats in the documentation: https://pandas.pydata.org/pandas-docs/stable/user_guide/indexing.html#returning-a-view-versus-a-copy\n  self[name] = value\n<ipython-input-455-f409ad5f4d5a>:14: SettingWithCopyWarning: \nA value is trying to be set on a copy of a slice from a DataFrame.\nTry using .loc[row_indexer,col_indexer] = value instead\n\nSee the caveats in the documentation: https://pandas.pydata.org/pandas-docs/stable/user_guide/indexing.html#returning-a-view-versus-a-copy\n  df['end_aa'] = df[column].map(lambda x: int(x[1]) if x[1] != '' else np.nan)\n<ipython-input-455-f409ad5f4d5a>:17: SettingWithCopyWarning: \nA value is trying to be set on a copy of a slice from a DataFrame.\nTry using .loc[row_indexer,col_indexer] = value instead\n\nSee the caveats in the documentation: https://pandas.pydata.org/pandas-docs/stable/user_guide/indexing.html#returning-a-view-versus-a-copy\n  df['from'] = df[column].map(lambda x: x[2])\n<ipython-input-455-f409ad5f4d5a>:18: SettingWithCopyWarning: \nA value is trying to be set on a copy of a slice from a DataFrame.\nTry using .loc[row_indexer,col_indexer] = value instead\n\nSee the caveats in the documentation: https://pandas.pydata.org/pandas-docs/stable/user_guide/indexing.html#returning-a-view-versus-a-copy\n  df['from'] = df['from'].map(lambda x: seq3(x))\n<ipython-input-455-f409ad5f4d5a>:21: SettingWithCopyWarning: \nA value is trying to be set on a copy of a slice from a DataFrame.\nTry using .loc[row_indexer,col_indexer] = value instead\n\nSee the caveats in the documentation: https://pandas.pydata.org/pandas-docs/stable/user_guide/indexing.html#returning-a-view-versus-a-copy\n  df['to'] = np.nan\n<ipython-input-455-f409ad5f4d5a>:24: SettingWithCopyWarning: \nA value is trying to be set on a copy of a slice from a DataFrame.\nTry using .loc[row_indexer,col_indexer] = value instead\n\nSee the caveats in the documentation: https://pandas.pydata.org/pandas-docs/stable/user_guide/indexing.html#returning-a-view-versus-a-copy\n  df['consequence'] = conseq\n"
     ]
    },
    {
     "output_type": "execute_result",
     "data": {
      "text/plain": [
       "           cambio  start_aa  end_aa             from  to  consequence\n",
       "15031  772_774KNP       772   774.0        LysAsnPro NaN  duplication\n",
       "17057  646_648GLG       646   648.0        GlyLeuGly NaN  duplication\n",
       "25114  38_42SGPEE        38    42.0  SerGlyProGluGlu NaN  duplication\n",
       "25454  38_42SGPEE        38    42.0  SerGlyProGluGlu NaN  duplication\n",
       "27328   229_230GP       229   230.0           GlyPro NaN  duplication\n",
       "27733   229_230GP       229   230.0           GlyPro NaN  duplication\n",
       "28238   229_230GP       229   230.0           GlyPro NaN  duplication\n",
       "28565   229_230GP       229   230.0           GlyPro NaN  duplication\n",
       "28955   229_230GP       229   230.0           GlyPro NaN  duplication\n",
       "29204   229_230GP       229   230.0           GlyPro NaN  duplication\n",
       "29343       229GP       229     NaN           GlyPro NaN  duplication\n",
       "38278   164_165QP       164   165.0           GlnPro NaN  duplication"
      ],
      "text/html": "<div>\n<style scoped>\n    .dataframe tbody tr th:only-of-type {\n        vertical-align: middle;\n    }\n\n    .dataframe tbody tr th {\n        vertical-align: top;\n    }\n\n    .dataframe thead th {\n        text-align: right;\n    }\n</style>\n<table border=\"1\" class=\"dataframe\">\n  <thead>\n    <tr style=\"text-align: right;\">\n      <th></th>\n      <th>cambio</th>\n      <th>start_aa</th>\n      <th>end_aa</th>\n      <th>from</th>\n      <th>to</th>\n      <th>consequence</th>\n    </tr>\n  </thead>\n  <tbody>\n    <tr>\n      <th>15031</th>\n      <td>772_774KNP</td>\n      <td>772</td>\n      <td>774.0</td>\n      <td>LysAsnPro</td>\n      <td>NaN</td>\n      <td>duplication</td>\n    </tr>\n    <tr>\n      <th>17057</th>\n      <td>646_648GLG</td>\n      <td>646</td>\n      <td>648.0</td>\n      <td>GlyLeuGly</td>\n      <td>NaN</td>\n      <td>duplication</td>\n    </tr>\n    <tr>\n      <th>25114</th>\n      <td>38_42SGPEE</td>\n      <td>38</td>\n      <td>42.0</td>\n      <td>SerGlyProGluGlu</td>\n      <td>NaN</td>\n      <td>duplication</td>\n    </tr>\n    <tr>\n      <th>25454</th>\n      <td>38_42SGPEE</td>\n      <td>38</td>\n      <td>42.0</td>\n      <td>SerGlyProGluGlu</td>\n      <td>NaN</td>\n      <td>duplication</td>\n    </tr>\n    <tr>\n      <th>27328</th>\n      <td>229_230GP</td>\n      <td>229</td>\n      <td>230.0</td>\n      <td>GlyPro</td>\n      <td>NaN</td>\n      <td>duplication</td>\n    </tr>\n    <tr>\n      <th>27733</th>\n      <td>229_230GP</td>\n      <td>229</td>\n      <td>230.0</td>\n      <td>GlyPro</td>\n      <td>NaN</td>\n      <td>duplication</td>\n    </tr>\n    <tr>\n      <th>28238</th>\n      <td>229_230GP</td>\n      <td>229</td>\n      <td>230.0</td>\n      <td>GlyPro</td>\n      <td>NaN</td>\n      <td>duplication</td>\n    </tr>\n    <tr>\n      <th>28565</th>\n      <td>229_230GP</td>\n      <td>229</td>\n      <td>230.0</td>\n      <td>GlyPro</td>\n      <td>NaN</td>\n      <td>duplication</td>\n    </tr>\n    <tr>\n      <th>28955</th>\n      <td>229_230GP</td>\n      <td>229</td>\n      <td>230.0</td>\n      <td>GlyPro</td>\n      <td>NaN</td>\n      <td>duplication</td>\n    </tr>\n    <tr>\n      <th>29204</th>\n      <td>229_230GP</td>\n      <td>229</td>\n      <td>230.0</td>\n      <td>GlyPro</td>\n      <td>NaN</td>\n      <td>duplication</td>\n    </tr>\n    <tr>\n      <th>29343</th>\n      <td>229GP</td>\n      <td>229</td>\n      <td>NaN</td>\n      <td>GlyPro</td>\n      <td>NaN</td>\n      <td>duplication</td>\n    </tr>\n    <tr>\n      <th>38278</th>\n      <td>164_165QP</td>\n      <td>164</td>\n      <td>165.0</td>\n      <td>GlnPro</td>\n      <td>NaN</td>\n      <td>duplication</td>\n    </tr>\n  </tbody>\n</table>\n</div>"
     },
     "metadata": {},
     "execution_count": 456
    }
   ],
   "source": [
    "separar_en_cols_raros(dup, 'aux', 'duplication')"
   ]
  },
  {
   "cell_type": "code",
   "execution_count": 457,
   "metadata": {},
   "outputs": [],
   "source": [
    "dup = dup.drop(columns=['aux'])"
   ]
  },
  {
   "cell_type": "code",
   "execution_count": 460,
   "metadata": {},
   "outputs": [],
   "source": [
    "# agrego estas entradas a la tabla de duplications\n",
    "duplications = pd.concat([duplications, dup])"
   ]
  },
  {
   "cell_type": "code",
   "execution_count": 461,
   "metadata": {},
   "outputs": [
    {
     "output_type": "execute_result",
     "data": {
      "text/plain": [
       "40"
      ]
     },
     "metadata": {},
     "execution_count": 461
    }
   ],
   "source": [
    "# elimino estas entradas de la tabla original\n",
    "cond = box1_clinvar_total.index.isin(dup.index)                                # es un array de bool\n",
    "box1_clinvar_total = box1_clinvar_total.drop(box1_clinvar_total[cond].index)   # drop esas filas\n",
    "len(box1_clinvar_total)"
   ]
  },
  {
   "source": [
    "# Raros: deleciones  \n",
    "Evaluar el len(rango), si es igual al len(letras) entonces en una delecion, si es distinto es delins"
   ],
   "cell_type": "markdown",
   "metadata": {}
  },
  {
   "cell_type": "code",
   "execution_count": 465,
   "metadata": {},
   "outputs": [],
   "source": [
    "delet = box1_clinvar_total[box1_clinvar_total.type == 'Deletion']"
   ]
  },
  {
   "cell_type": "code",
   "execution_count": 467,
   "metadata": {},
   "outputs": [
    {
     "output_type": "stream",
     "name": "stderr",
     "text": [
      "<ipython-input-467-7e2603b2b35e>:1: SettingWithCopyWarning: \nA value is trying to be set on a copy of a slice from a DataFrame.\nTry using .loc[row_indexer,col_indexer] = value instead\n\nSee the caveats in the documentation: https://pandas.pydata.org/pandas-docs/stable/user_guide/indexing.html#returning-a-view-versus-a-copy\n  delet['aux'] = delet.cambio.map(lambda x: re.findall('^(\\d+)_?(\\d+)?([A-Za-z]*)', x))\n<ipython-input-467-7e2603b2b35e>:2: SettingWithCopyWarning: \nA value is trying to be set on a copy of a slice from a DataFrame.\nTry using .loc[row_indexer,col_indexer] = value instead\n\nSee the caveats in the documentation: https://pandas.pydata.org/pandas-docs/stable/user_guide/indexing.html#returning-a-view-versus-a-copy\n  delet['aux'] = delet.aux.str[0]\n"
     ]
    },
    {
     "output_type": "execute_result",
     "data": {
      "text/plain": [
       "5387           (113, 114, PQ)\n",
       "8786          (329, 331, SGG)\n",
       "9259           (178, 179, RS)\n",
       "10043      (1053, 1056, SGGG)\n",
       "11175    (454, 461, GYGGDRGG)\n",
       "11178    (454, 461, GYGGDRGG)\n",
       "14922         (219, 221, QGS)\n",
       "17108       (648, 652, GGLGV)\n",
       "17179      (479, 484, VAPGVG)\n",
       "17217         (501, , VGVAPG)\n",
       "24725         (38, 42, SGPEE)\n",
       "27095          (229, 230, GP)\n",
       "28561          (229, 230, GP)\n",
       "28562          (229, 230, GP)\n",
       "28563          (229, 230, GP)\n",
       "28564          (229, 230, GP)\n",
       "28958          (229, 230, GP)\n",
       "40793      (60, 67, PHGGGWGQ)\n",
       "40801      (60, 67, PHGGGWGQ)\n",
       "Name: aux, dtype: object"
      ]
     },
     "metadata": {},
     "execution_count": 467
    }
   ],
   "source": [
    "delet['aux'] = delet.cambio.map(lambda x: re.findall('^(\\d+)_?(\\d+)?([A-Za-z]*)', x))\n",
    "delet['aux'] = delet.aux.str[0]\n",
    "delet.aux"
   ]
  },
  {
   "cell_type": "code",
   "execution_count": 480,
   "metadata": {},
   "outputs": [
    {
     "output_type": "stream",
     "name": "stderr",
     "text": [
      "<ipython-input-480-8c8c44dbb24a>:12: SettingWithCopyWarning: \nA value is trying to be set on a copy of a slice from a DataFrame.\nTry using .loc[row_indexer,col_indexer] = value instead\n\nSee the caveats in the documentation: https://pandas.pydata.org/pandas-docs/stable/user_guide/indexing.html#returning-a-view-versus-a-copy\n  delet['is_del'] = is_del\n"
     ]
    },
    {
     "output_type": "execute_result",
     "data": {
      "text/plain": [
       "                cambio                   aux  is_del\n",
       "5387         113_114PQ        (113, 114, PQ)    True\n",
       "8786        329_331SGG       (329, 331, SGG)    True\n",
       "9259         178_179RS        (178, 179, RS)    True\n",
       "10043    1053_1056SGGG    (1053, 1056, SGGG)    True\n",
       "11175  454_461GYGGDRGG  (454, 461, GYGGDRGG)    True\n",
       "11178  454_461GYGGDRGG  (454, 461, GYGGDRGG)    True\n",
       "14922       219_221QGS       (219, 221, QGS)    True\n",
       "17108     648_652GGLGV     (648, 652, GGLGV)    True\n",
       "17179    479_484VAPGVG    (479, 484, VAPGVG)    True\n",
       "17217        501VGVAPG       (501, , VGVAPG)   False\n",
       "24725       38_42SGPEE       (38, 42, SGPEE)    True\n",
       "27095        229_230GP        (229, 230, GP)    True\n",
       "28561        229_230GP        (229, 230, GP)    True\n",
       "28562        229_230GP        (229, 230, GP)    True\n",
       "28563        229_230GP        (229, 230, GP)    True\n",
       "28564        229_230GP        (229, 230, GP)    True\n",
       "28958        229_230GP        (229, 230, GP)    True\n",
       "40793    60_67PHGGGWGQ    (60, 67, PHGGGWGQ)    True\n",
       "40801    60_67PHGGGWGQ    (60, 67, PHGGGWGQ)    True"
      ],
      "text/html": "<div>\n<style scoped>\n    .dataframe tbody tr th:only-of-type {\n        vertical-align: middle;\n    }\n\n    .dataframe tbody tr th {\n        vertical-align: top;\n    }\n\n    .dataframe thead th {\n        text-align: right;\n    }\n</style>\n<table border=\"1\" class=\"dataframe\">\n  <thead>\n    <tr style=\"text-align: right;\">\n      <th></th>\n      <th>cambio</th>\n      <th>aux</th>\n      <th>is_del</th>\n    </tr>\n  </thead>\n  <tbody>\n    <tr>\n      <th>5387</th>\n      <td>113_114PQ</td>\n      <td>(113, 114, PQ)</td>\n      <td>True</td>\n    </tr>\n    <tr>\n      <th>8786</th>\n      <td>329_331SGG</td>\n      <td>(329, 331, SGG)</td>\n      <td>True</td>\n    </tr>\n    <tr>\n      <th>9259</th>\n      <td>178_179RS</td>\n      <td>(178, 179, RS)</td>\n      <td>True</td>\n    </tr>\n    <tr>\n      <th>10043</th>\n      <td>1053_1056SGGG</td>\n      <td>(1053, 1056, SGGG)</td>\n      <td>True</td>\n    </tr>\n    <tr>\n      <th>11175</th>\n      <td>454_461GYGGDRGG</td>\n      <td>(454, 461, GYGGDRGG)</td>\n      <td>True</td>\n    </tr>\n    <tr>\n      <th>11178</th>\n      <td>454_461GYGGDRGG</td>\n      <td>(454, 461, GYGGDRGG)</td>\n      <td>True</td>\n    </tr>\n    <tr>\n      <th>14922</th>\n      <td>219_221QGS</td>\n      <td>(219, 221, QGS)</td>\n      <td>True</td>\n    </tr>\n    <tr>\n      <th>17108</th>\n      <td>648_652GGLGV</td>\n      <td>(648, 652, GGLGV)</td>\n      <td>True</td>\n    </tr>\n    <tr>\n      <th>17179</th>\n      <td>479_484VAPGVG</td>\n      <td>(479, 484, VAPGVG)</td>\n      <td>True</td>\n    </tr>\n    <tr>\n      <th>17217</th>\n      <td>501VGVAPG</td>\n      <td>(501, , VGVAPG)</td>\n      <td>False</td>\n    </tr>\n    <tr>\n      <th>24725</th>\n      <td>38_42SGPEE</td>\n      <td>(38, 42, SGPEE)</td>\n      <td>True</td>\n    </tr>\n    <tr>\n      <th>27095</th>\n      <td>229_230GP</td>\n      <td>(229, 230, GP)</td>\n      <td>True</td>\n    </tr>\n    <tr>\n      <th>28561</th>\n      <td>229_230GP</td>\n      <td>(229, 230, GP)</td>\n      <td>True</td>\n    </tr>\n    <tr>\n      <th>28562</th>\n      <td>229_230GP</td>\n      <td>(229, 230, GP)</td>\n      <td>True</td>\n    </tr>\n    <tr>\n      <th>28563</th>\n      <td>229_230GP</td>\n      <td>(229, 230, GP)</td>\n      <td>True</td>\n    </tr>\n    <tr>\n      <th>28564</th>\n      <td>229_230GP</td>\n      <td>(229, 230, GP)</td>\n      <td>True</td>\n    </tr>\n    <tr>\n      <th>28958</th>\n      <td>229_230GP</td>\n      <td>(229, 230, GP)</td>\n      <td>True</td>\n    </tr>\n    <tr>\n      <th>40793</th>\n      <td>60_67PHGGGWGQ</td>\n      <td>(60, 67, PHGGGWGQ)</td>\n      <td>True</td>\n    </tr>\n    <tr>\n      <th>40801</th>\n      <td>60_67PHGGGWGQ</td>\n      <td>(60, 67, PHGGGWGQ)</td>\n      <td>True</td>\n    </tr>\n  </tbody>\n</table>\n</div>"
     },
     "metadata": {},
     "execution_count": 480
    }
   ],
   "source": [
    "# evaluo si el rango de de las posiciones coincide con el nro de letras\n",
    "is_del = []\n",
    "for i in delet.index:\n",
    "    start = int(delet.aux[i][0])\n",
    "    try:\n",
    "        end = int(delet.aux[i][1])\n",
    "    except:\n",
    "        pass\n",
    "    length = end - start + 1\n",
    "    aa = len(delet.aux[i][2])\n",
    "    is_del.append(length == aa)\n",
    "\n",
    "delet['is_del'] = is_del\n",
    "delet[['cambio', 'aux', 'is_del']]\n"
   ]
  },
  {
   "cell_type": "code",
   "execution_count": 481,
   "metadata": {},
   "outputs": [
    {
     "output_type": "stream",
     "name": "stderr",
     "text": [
      "<ipython-input-455-f409ad5f4d5a>:10: SettingWithCopyWarning: \nA value is trying to be set on a copy of a slice from a DataFrame.\nTry using .loc[row_indexer,col_indexer] = value instead\n\nSee the caveats in the documentation: https://pandas.pydata.org/pandas-docs/stable/user_guide/indexing.html#returning-a-view-versus-a-copy\n  df['start_aa'] = df[column].map(lambda x: x[0])\nC:\\Users\\User\\AppData\\Local\\Packages\\PythonSoftwareFoundation.Python.3.9_qbz5n2kfra8p0\\LocalCache\\local-packages\\Python39\\site-packages\\pandas\\core\\generic.py:5491: SettingWithCopyWarning: \nA value is trying to be set on a copy of a slice from a DataFrame.\nTry using .loc[row_indexer,col_indexer] = value instead\n\nSee the caveats in the documentation: https://pandas.pydata.org/pandas-docs/stable/user_guide/indexing.html#returning-a-view-versus-a-copy\n  self[name] = value\n<ipython-input-455-f409ad5f4d5a>:14: SettingWithCopyWarning: \nA value is trying to be set on a copy of a slice from a DataFrame.\nTry using .loc[row_indexer,col_indexer] = value instead\n\nSee the caveats in the documentation: https://pandas.pydata.org/pandas-docs/stable/user_guide/indexing.html#returning-a-view-versus-a-copy\n  df['end_aa'] = df[column].map(lambda x: int(x[1]) if x[1] != '' else np.nan)\n<ipython-input-455-f409ad5f4d5a>:17: SettingWithCopyWarning: \nA value is trying to be set on a copy of a slice from a DataFrame.\nTry using .loc[row_indexer,col_indexer] = value instead\n\nSee the caveats in the documentation: https://pandas.pydata.org/pandas-docs/stable/user_guide/indexing.html#returning-a-view-versus-a-copy\n  df['from'] = df[column].map(lambda x: x[2])\n<ipython-input-455-f409ad5f4d5a>:18: SettingWithCopyWarning: \nA value is trying to be set on a copy of a slice from a DataFrame.\nTry using .loc[row_indexer,col_indexer] = value instead\n\nSee the caveats in the documentation: https://pandas.pydata.org/pandas-docs/stable/user_guide/indexing.html#returning-a-view-versus-a-copy\n  df['from'] = df['from'].map(lambda x: seq3(x))\n<ipython-input-455-f409ad5f4d5a>:21: SettingWithCopyWarning: \nA value is trying to be set on a copy of a slice from a DataFrame.\nTry using .loc[row_indexer,col_indexer] = value instead\n\nSee the caveats in the documentation: https://pandas.pydata.org/pandas-docs/stable/user_guide/indexing.html#returning-a-view-versus-a-copy\n  df['to'] = np.nan\n<ipython-input-455-f409ad5f4d5a>:24: SettingWithCopyWarning: \nA value is trying to be set on a copy of a slice from a DataFrame.\nTry using .loc[row_indexer,col_indexer] = value instead\n\nSee the caveats in the documentation: https://pandas.pydata.org/pandas-docs/stable/user_guide/indexing.html#returning-a-view-versus-a-copy\n  df['consequence'] = conseq\n"
     ]
    },
    {
     "output_type": "execute_result",
     "data": {
      "text/plain": [
       "                cambio  start_aa  end_aa                      from  to  \\\n",
       "5387         113_114PQ       113   114.0                    ProGln NaN   \n",
       "8786        329_331SGG       329   331.0                 SerGlyGly NaN   \n",
       "9259         178_179RS       178   179.0                    ArgSer NaN   \n",
       "10043    1053_1056SGGG      1053  1056.0              SerGlyGlyGly NaN   \n",
       "11175  454_461GYGGDRGG       454   461.0  GlyTyrGlyGlyAspArgGlyGly NaN   \n",
       "11178  454_461GYGGDRGG       454   461.0  GlyTyrGlyGlyAspArgGlyGly NaN   \n",
       "14922       219_221QGS       219   221.0                 GlnGlySer NaN   \n",
       "17108     648_652GGLGV       648   652.0           GlyGlyLeuGlyVal NaN   \n",
       "17179    479_484VAPGVG       479   484.0        ValAlaProGlyValGly NaN   \n",
       "17217        501VGVAPG       501     NaN        ValGlyValAlaProGly NaN   \n",
       "24725       38_42SGPEE        38    42.0           SerGlyProGluGlu NaN   \n",
       "27095        229_230GP       229   230.0                    GlyPro NaN   \n",
       "28561        229_230GP       229   230.0                    GlyPro NaN   \n",
       "28562        229_230GP       229   230.0                    GlyPro NaN   \n",
       "28563        229_230GP       229   230.0                    GlyPro NaN   \n",
       "28564        229_230GP       229   230.0                    GlyPro NaN   \n",
       "28958        229_230GP       229   230.0                    GlyPro NaN   \n",
       "40793    60_67PHGGGWGQ        60    67.0  ProHisGlyGlyGlyTrpGlyGln NaN   \n",
       "40801    60_67PHGGGWGQ        60    67.0  ProHisGlyGlyGlyTrpGlyGln NaN   \n",
       "\n",
       "      consequence  \n",
       "5387     deletion  \n",
       "8786     deletion  \n",
       "9259     deletion  \n",
       "10043    deletion  \n",
       "11175    deletion  \n",
       "11178    deletion  \n",
       "14922    deletion  \n",
       "17108    deletion  \n",
       "17179    deletion  \n",
       "17217    deletion  \n",
       "24725    deletion  \n",
       "27095    deletion  \n",
       "28561    deletion  \n",
       "28562    deletion  \n",
       "28563    deletion  \n",
       "28564    deletion  \n",
       "28958    deletion  \n",
       "40793    deletion  \n",
       "40801    deletion  "
      ],
      "text/html": "<div>\n<style scoped>\n    .dataframe tbody tr th:only-of-type {\n        vertical-align: middle;\n    }\n\n    .dataframe tbody tr th {\n        vertical-align: top;\n    }\n\n    .dataframe thead th {\n        text-align: right;\n    }\n</style>\n<table border=\"1\" class=\"dataframe\">\n  <thead>\n    <tr style=\"text-align: right;\">\n      <th></th>\n      <th>cambio</th>\n      <th>start_aa</th>\n      <th>end_aa</th>\n      <th>from</th>\n      <th>to</th>\n      <th>consequence</th>\n    </tr>\n  </thead>\n  <tbody>\n    <tr>\n      <th>5387</th>\n      <td>113_114PQ</td>\n      <td>113</td>\n      <td>114.0</td>\n      <td>ProGln</td>\n      <td>NaN</td>\n      <td>deletion</td>\n    </tr>\n    <tr>\n      <th>8786</th>\n      <td>329_331SGG</td>\n      <td>329</td>\n      <td>331.0</td>\n      <td>SerGlyGly</td>\n      <td>NaN</td>\n      <td>deletion</td>\n    </tr>\n    <tr>\n      <th>9259</th>\n      <td>178_179RS</td>\n      <td>178</td>\n      <td>179.0</td>\n      <td>ArgSer</td>\n      <td>NaN</td>\n      <td>deletion</td>\n    </tr>\n    <tr>\n      <th>10043</th>\n      <td>1053_1056SGGG</td>\n      <td>1053</td>\n      <td>1056.0</td>\n      <td>SerGlyGlyGly</td>\n      <td>NaN</td>\n      <td>deletion</td>\n    </tr>\n    <tr>\n      <th>11175</th>\n      <td>454_461GYGGDRGG</td>\n      <td>454</td>\n      <td>461.0</td>\n      <td>GlyTyrGlyGlyAspArgGlyGly</td>\n      <td>NaN</td>\n      <td>deletion</td>\n    </tr>\n    <tr>\n      <th>11178</th>\n      <td>454_461GYGGDRGG</td>\n      <td>454</td>\n      <td>461.0</td>\n      <td>GlyTyrGlyGlyAspArgGlyGly</td>\n      <td>NaN</td>\n      <td>deletion</td>\n    </tr>\n    <tr>\n      <th>14922</th>\n      <td>219_221QGS</td>\n      <td>219</td>\n      <td>221.0</td>\n      <td>GlnGlySer</td>\n      <td>NaN</td>\n      <td>deletion</td>\n    </tr>\n    <tr>\n      <th>17108</th>\n      <td>648_652GGLGV</td>\n      <td>648</td>\n      <td>652.0</td>\n      <td>GlyGlyLeuGlyVal</td>\n      <td>NaN</td>\n      <td>deletion</td>\n    </tr>\n    <tr>\n      <th>17179</th>\n      <td>479_484VAPGVG</td>\n      <td>479</td>\n      <td>484.0</td>\n      <td>ValAlaProGlyValGly</td>\n      <td>NaN</td>\n      <td>deletion</td>\n    </tr>\n    <tr>\n      <th>17217</th>\n      <td>501VGVAPG</td>\n      <td>501</td>\n      <td>NaN</td>\n      <td>ValGlyValAlaProGly</td>\n      <td>NaN</td>\n      <td>deletion</td>\n    </tr>\n    <tr>\n      <th>24725</th>\n      <td>38_42SGPEE</td>\n      <td>38</td>\n      <td>42.0</td>\n      <td>SerGlyProGluGlu</td>\n      <td>NaN</td>\n      <td>deletion</td>\n    </tr>\n    <tr>\n      <th>27095</th>\n      <td>229_230GP</td>\n      <td>229</td>\n      <td>230.0</td>\n      <td>GlyPro</td>\n      <td>NaN</td>\n      <td>deletion</td>\n    </tr>\n    <tr>\n      <th>28561</th>\n      <td>229_230GP</td>\n      <td>229</td>\n      <td>230.0</td>\n      <td>GlyPro</td>\n      <td>NaN</td>\n      <td>deletion</td>\n    </tr>\n    <tr>\n      <th>28562</th>\n      <td>229_230GP</td>\n      <td>229</td>\n      <td>230.0</td>\n      <td>GlyPro</td>\n      <td>NaN</td>\n      <td>deletion</td>\n    </tr>\n    <tr>\n      <th>28563</th>\n      <td>229_230GP</td>\n      <td>229</td>\n      <td>230.0</td>\n      <td>GlyPro</td>\n      <td>NaN</td>\n      <td>deletion</td>\n    </tr>\n    <tr>\n      <th>28564</th>\n      <td>229_230GP</td>\n      <td>229</td>\n      <td>230.0</td>\n      <td>GlyPro</td>\n      <td>NaN</td>\n      <td>deletion</td>\n    </tr>\n    <tr>\n      <th>28958</th>\n      <td>229_230GP</td>\n      <td>229</td>\n      <td>230.0</td>\n      <td>GlyPro</td>\n      <td>NaN</td>\n      <td>deletion</td>\n    </tr>\n    <tr>\n      <th>40793</th>\n      <td>60_67PHGGGWGQ</td>\n      <td>60</td>\n      <td>67.0</td>\n      <td>ProHisGlyGlyGlyTrpGlyGln</td>\n      <td>NaN</td>\n      <td>deletion</td>\n    </tr>\n    <tr>\n      <th>40801</th>\n      <td>60_67PHGGGWGQ</td>\n      <td>60</td>\n      <td>67.0</td>\n      <td>ProHisGlyGlyGlyTrpGlyGln</td>\n      <td>NaN</td>\n      <td>deletion</td>\n    </tr>\n  </tbody>\n</table>\n</div>"
     },
     "metadata": {},
     "execution_count": 481
    }
   ],
   "source": [
    "separar_en_cols_raros(delet, 'aux', 'deletion')"
   ]
  },
  {
   "cell_type": "code",
   "execution_count": 487,
   "metadata": {},
   "outputs": [
    {
     "output_type": "stream",
     "name": "stderr",
     "text": [
      "<ipython-input-487-9311cf43a51e>:2: SettingWithCopyWarning: \nA value is trying to be set on a copy of a slice from a DataFrame\n\nSee the caveats in the documentation: https://pandas.pydata.org/pandas-docs/stable/user_guide/indexing.html#returning-a-view-versus-a-copy\n  delet.end_aa[17217] = delet.start_aa[17217] + len(delet['from'][17217]) / 3 - 1\nC:\\Users\\User\\AppData\\Local\\Packages\\PythonSoftwareFoundation.Python.3.9_qbz5n2kfra8p0\\LocalCache\\local-packages\\Python39\\site-packages\\IPython\\core\\interactiveshell.py:3437: SettingWithCopyWarning: \nA value is trying to be set on a copy of a slice from a DataFrame\n\nSee the caveats in the documentation: https://pandas.pydata.org/pandas-docs/stable/user_guide/indexing.html#returning-a-view-versus-a-copy\n  exec(code_obj, self.user_global_ns, self.user_ns)\n"
     ]
    }
   ],
   "source": [
    "# agrego la posicion de fin faltante\n",
    "delet.end_aa[17217] = delet.start_aa[17217] + len(delet['from'][17217]) / 3 - 1"
   ]
  },
  {
   "cell_type": "code",
   "execution_count": 489,
   "metadata": {},
   "outputs": [],
   "source": [
    "delet = delet.drop(columns=['aux', 'is_del'])"
   ]
  },
  {
   "cell_type": "code",
   "execution_count": 488,
   "metadata": {},
   "outputs": [],
   "source": [
    "# agrego estas entradas a la tabla de deletions\n",
    "deletions = pd.concat([deletions, delet])"
   ]
  },
  {
   "cell_type": "code",
   "execution_count": 491,
   "metadata": {},
   "outputs": [
    {
     "output_type": "execute_result",
     "data": {
      "text/plain": [
       "21"
      ]
     },
     "metadata": {},
     "execution_count": 491
    }
   ],
   "source": [
    "# elimino estas entradas de la tabla original\n",
    "cond = box1_clinvar_total.index.isin(delet.index)                                # es un array de bool\n",
    "box1_clinvar_total = box1_clinvar_total.drop(box1_clinvar_total[cond].index)     # drop esas filas\n",
    "len(box1_clinvar_total)"
   ]
  },
  {
   "source": [
    "# Raros: inserciones"
   ],
   "cell_type": "markdown",
   "metadata": {}
  },
  {
   "cell_type": "code",
   "execution_count": 492,
   "metadata": {},
   "outputs": [],
   "source": [
    "inser = box1_clinvar_total[box1_clinvar_total.type == 'Insertion']"
   ]
  },
  {
   "cell_type": "code",
   "execution_count": 497,
   "metadata": {},
   "outputs": [
    {
     "output_type": "stream",
     "name": "stderr",
     "text": [
      "<ipython-input-497-48bd6a1ad92c>:2: SettingWithCopyWarning: \nA value is trying to be set on a copy of a slice from a DataFrame.\nTry using .loc[row_indexer,col_indexer] = value instead\n\nSee the caveats in the documentation: https://pandas.pydata.org/pandas-docs/stable/user_guide/indexing.html#returning-a-view-versus-a-copy\n  inser['aux'] = inser.cambio.map(lambda x: re.findall('^(\\d+)_?(\\d+)?([A-Za-z]*)', x))\n<ipython-input-497-48bd6a1ad92c>:3: SettingWithCopyWarning: \nA value is trying to be set on a copy of a slice from a DataFrame.\nTry using .loc[row_indexer,col_indexer] = value instead\n\nSee the caveats in the documentation: https://pandas.pydata.org/pandas-docs/stable/user_guide/indexing.html#returning-a-view-versus-a-copy\n  inser['aux'] = inser.aux.str[0]\n"
     ]
    },
    {
     "output_type": "execute_result",
     "data": {
      "text/plain": [
       "27676        (229, 230, GP)\n",
       "29342           (229, , GP)\n",
       "40795    (60, 67, PHGGGWGQ)\n",
       "Name: aux, dtype: object"
      ]
     },
     "metadata": {},
     "execution_count": 497
    }
   ],
   "source": [
    "# para inserciones\n",
    "inser['aux'] = inser.cambio.map(lambda x: re.findall('^(\\d+)_?(\\d+)?([A-Za-z]*)', x))\n",
    "inser['aux'] = inser.aux.str[0]\n",
    "inser.aux"
   ]
  },
  {
   "cell_type": "code",
   "execution_count": 508,
   "metadata": {},
   "outputs": [
    {
     "output_type": "stream",
     "name": "stderr",
     "text": [
      "<ipython-input-455-f409ad5f4d5a>:10: SettingWithCopyWarning: \nA value is trying to be set on a copy of a slice from a DataFrame.\nTry using .loc[row_indexer,col_indexer] = value instead\n\nSee the caveats in the documentation: https://pandas.pydata.org/pandas-docs/stable/user_guide/indexing.html#returning-a-view-versus-a-copy\n  df['start_aa'] = df[column].map(lambda x: x[0])\nC:\\Users\\User\\AppData\\Local\\Packages\\PythonSoftwareFoundation.Python.3.9_qbz5n2kfra8p0\\LocalCache\\local-packages\\Python39\\site-packages\\pandas\\core\\generic.py:5491: SettingWithCopyWarning: \nA value is trying to be set on a copy of a slice from a DataFrame.\nTry using .loc[row_indexer,col_indexer] = value instead\n\nSee the caveats in the documentation: https://pandas.pydata.org/pandas-docs/stable/user_guide/indexing.html#returning-a-view-versus-a-copy\n  self[name] = value\n<ipython-input-455-f409ad5f4d5a>:14: SettingWithCopyWarning: \nA value is trying to be set on a copy of a slice from a DataFrame.\nTry using .loc[row_indexer,col_indexer] = value instead\n\nSee the caveats in the documentation: https://pandas.pydata.org/pandas-docs/stable/user_guide/indexing.html#returning-a-view-versus-a-copy\n  df['end_aa'] = df[column].map(lambda x: int(x[1]) if x[1] != '' else np.nan)\n<ipython-input-455-f409ad5f4d5a>:17: SettingWithCopyWarning: \nA value is trying to be set on a copy of a slice from a DataFrame.\nTry using .loc[row_indexer,col_indexer] = value instead\n\nSee the caveats in the documentation: https://pandas.pydata.org/pandas-docs/stable/user_guide/indexing.html#returning-a-view-versus-a-copy\n  df['from'] = df[column].map(lambda x: x[2])\n<ipython-input-455-f409ad5f4d5a>:18: SettingWithCopyWarning: \nA value is trying to be set on a copy of a slice from a DataFrame.\nTry using .loc[row_indexer,col_indexer] = value instead\n\nSee the caveats in the documentation: https://pandas.pydata.org/pandas-docs/stable/user_guide/indexing.html#returning-a-view-versus-a-copy\n  df['from'] = df['from'].map(lambda x: seq3(x))\n<ipython-input-455-f409ad5f4d5a>:21: SettingWithCopyWarning: \nA value is trying to be set on a copy of a slice from a DataFrame.\nTry using .loc[row_indexer,col_indexer] = value instead\n\nSee the caveats in the documentation: https://pandas.pydata.org/pandas-docs/stable/user_guide/indexing.html#returning-a-view-versus-a-copy\n  df['to'] = np.nan\n<ipython-input-455-f409ad5f4d5a>:24: SettingWithCopyWarning: \nA value is trying to be set on a copy of a slice from a DataFrame.\nTry using .loc[row_indexer,col_indexer] = value instead\n\nSee the caveats in the documentation: https://pandas.pydata.org/pandas-docs/stable/user_guide/indexing.html#returning-a-view-versus-a-copy\n  df['consequence'] = conseq\n"
     ]
    },
    {
     "output_type": "execute_result",
     "data": {
      "text/plain": [
       "              cambio  start_aa  end_aa                      from  to  \\\n",
       "27676      229_230GP       229   230.0                    GlyPro NaN   \n",
       "29342          229GP       229     NaN                    GlyPro NaN   \n",
       "40795  60_67PHGGGWGQ        60    67.0  ProHisGlyGlyGlyTrpGlyGln NaN   \n",
       "\n",
       "      consequence  \n",
       "27676   insertion  \n",
       "29342   insertion  \n",
       "40795   insertion  "
      ],
      "text/html": "<div>\n<style scoped>\n    .dataframe tbody tr th:only-of-type {\n        vertical-align: middle;\n    }\n\n    .dataframe tbody tr th {\n        vertical-align: top;\n    }\n\n    .dataframe thead th {\n        text-align: right;\n    }\n</style>\n<table border=\"1\" class=\"dataframe\">\n  <thead>\n    <tr style=\"text-align: right;\">\n      <th></th>\n      <th>cambio</th>\n      <th>start_aa</th>\n      <th>end_aa</th>\n      <th>from</th>\n      <th>to</th>\n      <th>consequence</th>\n    </tr>\n  </thead>\n  <tbody>\n    <tr>\n      <th>27676</th>\n      <td>229_230GP</td>\n      <td>229</td>\n      <td>230.0</td>\n      <td>GlyPro</td>\n      <td>NaN</td>\n      <td>insertion</td>\n    </tr>\n    <tr>\n      <th>29342</th>\n      <td>229GP</td>\n      <td>229</td>\n      <td>NaN</td>\n      <td>GlyPro</td>\n      <td>NaN</td>\n      <td>insertion</td>\n    </tr>\n    <tr>\n      <th>40795</th>\n      <td>60_67PHGGGWGQ</td>\n      <td>60</td>\n      <td>67.0</td>\n      <td>ProHisGlyGlyGlyTrpGlyGln</td>\n      <td>NaN</td>\n      <td>insertion</td>\n    </tr>\n  </tbody>\n</table>\n</div>"
     },
     "metadata": {},
     "execution_count": 508
    }
   ],
   "source": [
    "separar_en_cols_raros(inser, 'aux', 'insertion')"
   ]
  },
  {
   "cell_type": "code",
   "execution_count": 505,
   "metadata": {},
   "outputs": [
    {
     "output_type": "execute_result",
     "data": {
      "text/plain": [
       "'GP'"
      ]
     },
     "metadata": {},
     "execution_count": 505
    }
   ],
   "source": [
    "inser.sequence[27676][228:230]"
   ]
  },
  {
   "cell_type": "code",
   "execution_count": 507,
   "metadata": {},
   "outputs": [
    {
     "output_type": "execute_result",
     "data": {
      "text/plain": [
       "'PHGGGWGQ'"
      ]
     },
     "metadata": {},
     "execution_count": 507
    }
   ],
   "source": [
    "inser.sequence[40795][59:67]"
   ]
  },
  {
   "cell_type": "code",
   "execution_count": 509,
   "metadata": {},
   "outputs": [
    {
     "output_type": "execute_result",
     "data": {
      "text/plain": [
       "'G'"
      ]
     },
     "metadata": {},
     "execution_count": 509
    }
   ],
   "source": [
    "inser.sequence[29342][228]"
   ]
  },
  {
   "cell_type": "code",
   "execution_count": 329,
   "metadata": {},
   "outputs": [
    {
     "output_type": "execute_result",
     "data": {
      "text/plain": [
       "[('229', '230', 'G', 'P')]"
      ]
     },
     "metadata": {},
     "execution_count": 329
    }
   ],
   "source": [
    "# para inserciones\n",
    "re.findall('^(\\d+)_?(\\d+)?([A-Za-z])[A-Za-z]*([A-Za-z])$', '229_230GP')"
   ]
  },
  {
   "cell_type": "code",
   "execution_count": 518,
   "metadata": {},
   "outputs": [],
   "source": [
    "inser = inser.drop(columns = ['aux'])"
   ]
  },
  {
   "cell_type": "code",
   "execution_count": 520,
   "metadata": {},
   "outputs": [],
   "source": [
    "# agrego estas entradas a la tabla de insertions\n",
    "insertions = pd.concat([insertions, inser])"
   ]
  },
  {
   "cell_type": "code",
   "execution_count": 515,
   "metadata": {},
   "outputs": [
    {
     "output_type": "execute_result",
     "data": {
      "text/plain": [
       "18"
      ]
     },
     "metadata": {},
     "execution_count": 515
    }
   ],
   "source": [
    "# elimino estas entradas de la tabla original\n",
    "cond = box1_clinvar_total.index.isin(inser.index)                                # es un array de bool\n",
    "box1_clinvar_total = box1_clinvar_total.drop(box1_clinvar_total[cond].index)     # drop esas filas\n",
    "len(box1_clinvar_total)"
   ]
  },
  {
   "source": [
    "# Clasificar lo que queda  \n",
    "--------------------------"
   ],
   "cell_type": "markdown",
   "metadata": {}
  },
  {
   "cell_type": "code",
   "execution_count": 521,
   "metadata": {},
   "outputs": [
    {
     "output_type": "execute_result",
     "data": {
      "text/plain": [
       "      uniprot      organism                           mlo     hgnc_id  length  \\\n",
       "926    P46100  Homo sapiens              pml nuclear body    HGNC:886    2492   \n",
       "1865   Q99996  Homo sapiens  centrosome/spindle pole body    HGNC:379    3907   \n",
       "5911   O60500  Homo sapiens                        others   HGNC:7908    1241   \n",
       "9075   P35637  Homo sapiens               nuclear speckle   HGNC:4010     526   \n",
       "9829   Q96PV0  Homo sapiens          postsynaptic density  HGNC:11497    1343   \n",
       "10181  Q96PV0  Homo sapiens          postsynaptic density  HGNC:11497    1343   \n",
       "25975  P49715  Homo sapiens                     nucleolus   HGNC:1833     358   \n",
       "25997  P49715  Homo sapiens                     nucleolus   HGNC:1833     358   \n",
       "26004  P49715  Homo sapiens                     nucleolus   HGNC:1833     358   \n",
       "26092  P49715  Homo sapiens                     nucleolus   HGNC:1833     358   \n",
       "26223  P49715  Homo sapiens                     nucleolus   HGNC:1833     358   \n",
       "27327  P51532  Homo sapiens              nucleus speckles  HGNC:11100    1647   \n",
       "27488  P51532  Homo sapiens              nucleus speckles  HGNC:11100    1647   \n",
       "28139  P51532  Homo sapiens              nucleus speckles  HGNC:11100    1647   \n",
       "28956  P51532  Homo sapiens              nucleus speckles  HGNC:11100    1647   \n",
       "33836  Q8IYB7  Homo sapiens                        p-body  HGNC:28648     885   \n",
       "38213  Q9P2D1  Homo sapiens                     nucleolus  HGNC:20626    2997   \n",
       "40137  Q9Y4W2  Homo sapiens                     nucleolus  HGNC:25726     734   \n",
       "\n",
       "                                                sequence  geneid genesymbol  \\\n",
       "926    MTAEPMSESKLNTLVQKLHDFLAHSSEESEETSSPPRLAMNQNTDK...     546       ATRX   \n",
       "1865   MEDEERQKKLEAGKAKLAQFRQRKAQSDGQSPSKKQKKKRKTSSSK...   10142      AKAP9   \n",
       "5911   MALGTTLRASLLLLGLLTEGLAQLAIPASVPRGFWALPENLTVVEG...    4868      NPHS1   \n",
       "9075   MASNDYTQQATQSYGAYPTQPGQGYSQQSSQPYGQQSYSGYSQSTD...    2521        FUS   \n",
       "9829   MSRSRASIHRGSIPAMSYAPFRDVRGPSMHRTQYVHSPYDRPGWNP...    8831    SYNGAP1   \n",
       "10181  MSRSRASIHRGSIPAMSYAPFRDVRGPSMHRTQYVHSPYDRPGWNP...    8831    SYNGAP1   \n",
       "25975  MESADFYEAEPRPPMSSHLQSPPHAPSSAAFGFPRGAGPAQPPAPP...    1050      CEBPA   \n",
       "25997  MESADFYEAEPRPPMSSHLQSPPHAPSSAAFGFPRGAGPAQPPAPP...    1050      CEBPA   \n",
       "26004  MESADFYEAEPRPPMSSHLQSPPHAPSSAAFGFPRGAGPAQPPAPP...    1050      CEBPA   \n",
       "26092  MESADFYEAEPRPPMSSHLQSPPHAPSSAAFGFPRGAGPAQPPAPP...    1050      CEBPA   \n",
       "26223  MESADFYEAEPRPPMSSHLQSPPHAPSSAAFGFPRGAGPAQPPAPP...    1050      CEBPA   \n",
       "27327  MSTPDPPLGGTPRPGPSPGPGPSPGAMLGPSPGPSPGSAHSMMGPS...    6597    SMARCA4   \n",
       "27488  MSTPDPPLGGTPRPGPSPGPGPSPGAMLGPSPGPSPGSAHSMMGPS...    6597    SMARCA4   \n",
       "28139  MSTPDPPLGGTPRPGPSPGPGPSPGAMLGPSPGPSPGSAHSMMGPS...    6597    SMARCA4   \n",
       "28956  MSTPDPPLGGTPRPGPSPGPGPSPGAMLGPSPGPSPGSAHSMMGPS...    6597    SMARCA4   \n",
       "33836  MSHPDYRMNLRPLGTPRGVSAVAGPHDIGASPGDKKSKNRSTRGKK...  129563     DIS3L2   \n",
       "38213  MADPGMMSLFGEDGNIFSEGLEGLGECGYPENPVNPMGQQMPIDQG...   55636       CHD7   \n",
       "40137  MSWESGAGPGLGSQGMDLVWSAWYGKCVKGKGSLPLSAHGIVVAWL...   81887      LAS1L   \n",
       "\n",
       "            snpid  alleleid  ...      start       stop            type  \\\n",
       "926     797045406    209199  ...   77635983   77635988  Microsatellite   \n",
       "1865   1455029822    522879  ...   92001726   92001731  Microsatellite   \n",
       "5911   1555762721    549138  ...   35846088   35846093  Microsatellite   \n",
       "9075           -1    861409  ...   31184284   31184301  Microsatellite   \n",
       "9829   1554121722    428620  ...   33440916   33440921  Microsatellite   \n",
       "10181          -1    924340  ...   33443898   33443906  Microsatellite   \n",
       "25975   762459325    208566  ...   33301825   33301826  Microsatellite   \n",
       "25997   762459325    403264  ...   33301826   33301831  Microsatellite   \n",
       "26004   762459325    403676  ...   33301825   33301826  Microsatellite   \n",
       "26092   762459325    533261  ...   33301826   33301837  Microsatellite   \n",
       "26223          -1    847502  ...   33301693   33301694  Microsatellite   \n",
       "27327   372601826    402881  ...   10986523   10986524  Microsatellite   \n",
       "27488   372601826    403428  ...   10986524   10986535  Microsatellite   \n",
       "28139   372601826    480211  ...   10986524   10986529  Microsatellite   \n",
       "28956   372601826    814628  ...   10986523   10986524  Microsatellite   \n",
       "33836          -1    825886  ...  232163535  232163543  Microsatellite   \n",
       "38213   747665912    578470  ...   60865214   60865222  Microsatellite   \n",
       "40137   766197666    694912  ...   65518109   65518117  Microsatellite   \n",
       "\n",
       "                                                    name    origin  \\\n",
       "926    NM_000489.5(ATRX):c.4620_4625TGAAGA[1] (p.1540...  germline   \n",
       "1865   NM_147185.3(AKAP9):c.1809_1814AGAAAA[1] (p.604...  germline   \n",
       "5911   NM_004646.3(NPHS1):c.1536_1541GCTGGT[1] (p.513...   unknown   \n",
       "9075   NM_004960.4(FUS):c.412_429GGACAGCAGCAAAGCTAT[1...  germline   \n",
       "9829   NM_006772.3(SYNGAP1):c.1865_1870CCCTCA[1] (p.6...  germline   \n",
       "10181  NM_006772.3(SYNGAP1):c.3348GGGCAGCGG[1] (p.111...  germline   \n",
       "25975  NM_004364.5(CEBPA):c.572_577ACCCGC[4] (p.191_1...  germline   \n",
       "25997  NM_001285829.1(CEBPA):c.215_220ACCCGC[2] (p.72...  germline   \n",
       "26004     NM_004364.5(CEBPA):c.572ACCCGC[5] (p.191HP[5])  germline   \n",
       "26092     NM_004364.5(CEBPA):c.572ACCCGC[1] (p.191HP[1])  germline   \n",
       "26223  NM_004364.5(CEBPA):c.710_715CCGCGC[3] (p.237_2...  germline   \n",
       "27327  NM_003072.4(SMARCA4):c.696_701TGGCCC[4] (p.229...  germline   \n",
       "27488  NM_003072.4(SMARCA4):c.696_701TGGCCC[1] (p.229...  germline   \n",
       "28139  NM_003072.4(SMARCA4):c.696_701TGGCCC[2] (p.229...  germline   \n",
       "28956  NM_003072.5(SMARCA4):c.696_701TGGCCC[5] (p.229...  germline   \n",
       "33836  NM_152383.5(DIS3L2):c.1027_1035GATTTCTCT[1] (p...  germline   \n",
       "38213  NM_017780.4(CHD7):c.8278_8286AATCTCCAG[1] (p.2...  germline   \n",
       "40137  NM_031206.6(LAS1L):c.1788_1796TGATGAAGA[1] (p....  germline   \n",
       "\n",
       "                                            phenotypeids  \\\n",
       "926    MedGen:CN263314|MONDO:MONDO:0010519,MedGen:C18...   \n",
       "1865   MONDO:MONDO:0002442,MeSH:D008133,MedGen:C00239...   \n",
       "5911   MONDO:MONDO:0009732,MedGen:C0403399,OMIM:25630...   \n",
       "9075   MONDO:MONDO:0011951,MedGen:C1842675,OMIM:60803...   \n",
       "9829                                                   -   \n",
       "10181    MONDO:MONDO:0012960,MedGen:C2675473,OMIM:612621   \n",
       "25975                                                  -   \n",
       "25997  Human Phenotype Ontology:HP:0001914,Human Phen...   \n",
       "26004  Human Phenotype Ontology:HP:0001914,Human Phen...   \n",
       "26092  Human Phenotype Ontology:HP:0001914,Human Phen...   \n",
       "26223  Human Phenotype Ontology:HP:0001914,Human Phen...   \n",
       "27327  MONDO:MONDO:0013224,MedGen:C2750074,OMIM:61332...   \n",
       "27488  MONDO:MONDO:0013224,MedGen:C2750074,OMIM:61332...   \n",
       "28139  MONDO:MONDO:0015356,MedGen:C0027672,Orphanet:1...   \n",
       "28956  MONDO:MONDO:0015356,MedGen:C0027672,Orphanet:1...   \n",
       "33836  MONDO:MONDO:0009965,MedGen:C0796113,OMIM:26700...   \n",
       "38213  MONDO:MONDO:0008965,MedGen:C0265354,OMIM:21480...   \n",
       "40137          MedGen:C1839736,OMIM:309585,Orphanet:3459   \n",
       "\n",
       "                                           phenotypelist             otherids  \\\n",
       "926    Alpha-thalassemia/mental retardation syndrome|...     ClinGen:CA277098   \n",
       "1865                                    Long QT syndrome  ClinGen:CA576705339   \n",
       "5911               Finnish congenital nephrotic syndrome                    -   \n",
       "9075   Amyotrophic lateral sclerosis 6, with or witho...                    -   \n",
       "9829                                                   -  ClinGen:CA645372819   \n",
       "10181           Mental retardation, autosomal dominant 5                    -   \n",
       "25975                                                  -     ClinGen:CA209407   \n",
       "25997                             Acute myeloid leukemia   ClinGen:CA16616054   \n",
       "26004                             Acute myeloid leukemia   ClinGen:CA16616245   \n",
       "26092                             Acute myeloid leukemia  ClinGen:CA645612672   \n",
       "26223                             Acute myeloid leukemia                    -   \n",
       "27327  Rhabdoid tumor predisposition syndrome 2|Hered...    ClinGen:CA9203545   \n",
       "27488  Rhabdoid tumor predisposition syndrome 2|Hered...    ClinGen:CA9203544   \n",
       "28139  Hereditary cancer-predisposing syndrome|Rhabdo...  ClinGen:CA632115177   \n",
       "28956  Hereditary cancer-predisposing syndrome|Rhabdo...                    -   \n",
       "33836                                   Perlman syndrome                    -   \n",
       "38213                                 CHARGE association                    -   \n",
       "40137  Wilson-Turner X-linked mental retardation synd...                    -   \n",
       "\n",
       "           nuccore_id         cambio  \n",
       "926       NM_000489.5    1540_1541DE  \n",
       "1865      NM_147185.3      604_605EK  \n",
       "5911      NM_004646.3      513_514LV  \n",
       "9075      NM_004960.4  138_143GQQQSY  \n",
       "9829      NM_006772.3      622_623TL  \n",
       "10181     NM_006772.3        1118SGG  \n",
       "25975     NM_004364.5      191_192HP  \n",
       "25997  NM_001285829.1        72_73HP  \n",
       "26004     NM_004364.5          191HP  \n",
       "26092     NM_004364.5          191HP  \n",
       "26223     NM_004364.5      237_238PA  \n",
       "27327     NM_003072.4      229_230GP  \n",
       "27488     NM_003072.4      229_230GP  \n",
       "28139     NM_003072.4      229_230GP  \n",
       "28956     NM_003072.5      229_230GP  \n",
       "33836     NM_152383.5     343_345DFS  \n",
       "38213     NM_017780.4   2760_2762NLQ  \n",
       "40137     NM_031206.6     596_598DDE  \n",
       "\n",
       "[18 rows x 22 columns]"
      ],
      "text/html": "<div>\n<style scoped>\n    .dataframe tbody tr th:only-of-type {\n        vertical-align: middle;\n    }\n\n    .dataframe tbody tr th {\n        vertical-align: top;\n    }\n\n    .dataframe thead th {\n        text-align: right;\n    }\n</style>\n<table border=\"1\" class=\"dataframe\">\n  <thead>\n    <tr style=\"text-align: right;\">\n      <th></th>\n      <th>uniprot</th>\n      <th>organism</th>\n      <th>mlo</th>\n      <th>hgnc_id</th>\n      <th>length</th>\n      <th>sequence</th>\n      <th>geneid</th>\n      <th>genesymbol</th>\n      <th>snpid</th>\n      <th>alleleid</th>\n      <th>...</th>\n      <th>start</th>\n      <th>stop</th>\n      <th>type</th>\n      <th>name</th>\n      <th>origin</th>\n      <th>phenotypeids</th>\n      <th>phenotypelist</th>\n      <th>otherids</th>\n      <th>nuccore_id</th>\n      <th>cambio</th>\n    </tr>\n  </thead>\n  <tbody>\n    <tr>\n      <th>926</th>\n      <td>P46100</td>\n      <td>Homo sapiens</td>\n      <td>pml nuclear body</td>\n      <td>HGNC:886</td>\n      <td>2492</td>\n      <td>MTAEPMSESKLNTLVQKLHDFLAHSSEESEETSSPPRLAMNQNTDK...</td>\n      <td>546</td>\n      <td>ATRX</td>\n      <td>797045406</td>\n      <td>209199</td>\n      <td>...</td>\n      <td>77635983</td>\n      <td>77635988</td>\n      <td>Microsatellite</td>\n      <td>NM_000489.5(ATRX):c.4620_4625TGAAGA[1] (p.1540...</td>\n      <td>germline</td>\n      <td>MedGen:CN263314|MONDO:MONDO:0010519,MedGen:C18...</td>\n      <td>Alpha-thalassemia/mental retardation syndrome|...</td>\n      <td>ClinGen:CA277098</td>\n      <td>NM_000489.5</td>\n      <td>1540_1541DE</td>\n    </tr>\n    <tr>\n      <th>1865</th>\n      <td>Q99996</td>\n      <td>Homo sapiens</td>\n      <td>centrosome/spindle pole body</td>\n      <td>HGNC:379</td>\n      <td>3907</td>\n      <td>MEDEERQKKLEAGKAKLAQFRQRKAQSDGQSPSKKQKKKRKTSSSK...</td>\n      <td>10142</td>\n      <td>AKAP9</td>\n      <td>1455029822</td>\n      <td>522879</td>\n      <td>...</td>\n      <td>92001726</td>\n      <td>92001731</td>\n      <td>Microsatellite</td>\n      <td>NM_147185.3(AKAP9):c.1809_1814AGAAAA[1] (p.604...</td>\n      <td>germline</td>\n      <td>MONDO:MONDO:0002442,MeSH:D008133,MedGen:C00239...</td>\n      <td>Long QT syndrome</td>\n      <td>ClinGen:CA576705339</td>\n      <td>NM_147185.3</td>\n      <td>604_605EK</td>\n    </tr>\n    <tr>\n      <th>5911</th>\n      <td>O60500</td>\n      <td>Homo sapiens</td>\n      <td>others</td>\n      <td>HGNC:7908</td>\n      <td>1241</td>\n      <td>MALGTTLRASLLLLGLLTEGLAQLAIPASVPRGFWALPENLTVVEG...</td>\n      <td>4868</td>\n      <td>NPHS1</td>\n      <td>1555762721</td>\n      <td>549138</td>\n      <td>...</td>\n      <td>35846088</td>\n      <td>35846093</td>\n      <td>Microsatellite</td>\n      <td>NM_004646.3(NPHS1):c.1536_1541GCTGGT[1] (p.513...</td>\n      <td>unknown</td>\n      <td>MONDO:MONDO:0009732,MedGen:C0403399,OMIM:25630...</td>\n      <td>Finnish congenital nephrotic syndrome</td>\n      <td>-</td>\n      <td>NM_004646.3</td>\n      <td>513_514LV</td>\n    </tr>\n    <tr>\n      <th>9075</th>\n      <td>P35637</td>\n      <td>Homo sapiens</td>\n      <td>nuclear speckle</td>\n      <td>HGNC:4010</td>\n      <td>526</td>\n      <td>MASNDYTQQATQSYGAYPTQPGQGYSQQSSQPYGQQSYSGYSQSTD...</td>\n      <td>2521</td>\n      <td>FUS</td>\n      <td>-1</td>\n      <td>861409</td>\n      <td>...</td>\n      <td>31184284</td>\n      <td>31184301</td>\n      <td>Microsatellite</td>\n      <td>NM_004960.4(FUS):c.412_429GGACAGCAGCAAAGCTAT[1...</td>\n      <td>germline</td>\n      <td>MONDO:MONDO:0011951,MedGen:C1842675,OMIM:60803...</td>\n      <td>Amyotrophic lateral sclerosis 6, with or witho...</td>\n      <td>-</td>\n      <td>NM_004960.4</td>\n      <td>138_143GQQQSY</td>\n    </tr>\n    <tr>\n      <th>9829</th>\n      <td>Q96PV0</td>\n      <td>Homo sapiens</td>\n      <td>postsynaptic density</td>\n      <td>HGNC:11497</td>\n      <td>1343</td>\n      <td>MSRSRASIHRGSIPAMSYAPFRDVRGPSMHRTQYVHSPYDRPGWNP...</td>\n      <td>8831</td>\n      <td>SYNGAP1</td>\n      <td>1554121722</td>\n      <td>428620</td>\n      <td>...</td>\n      <td>33440916</td>\n      <td>33440921</td>\n      <td>Microsatellite</td>\n      <td>NM_006772.3(SYNGAP1):c.1865_1870CCCTCA[1] (p.6...</td>\n      <td>germline</td>\n      <td>-</td>\n      <td>-</td>\n      <td>ClinGen:CA645372819</td>\n      <td>NM_006772.3</td>\n      <td>622_623TL</td>\n    </tr>\n    <tr>\n      <th>10181</th>\n      <td>Q96PV0</td>\n      <td>Homo sapiens</td>\n      <td>postsynaptic density</td>\n      <td>HGNC:11497</td>\n      <td>1343</td>\n      <td>MSRSRASIHRGSIPAMSYAPFRDVRGPSMHRTQYVHSPYDRPGWNP...</td>\n      <td>8831</td>\n      <td>SYNGAP1</td>\n      <td>-1</td>\n      <td>924340</td>\n      <td>...</td>\n      <td>33443898</td>\n      <td>33443906</td>\n      <td>Microsatellite</td>\n      <td>NM_006772.3(SYNGAP1):c.3348GGGCAGCGG[1] (p.111...</td>\n      <td>germline</td>\n      <td>MONDO:MONDO:0012960,MedGen:C2675473,OMIM:612621</td>\n      <td>Mental retardation, autosomal dominant 5</td>\n      <td>-</td>\n      <td>NM_006772.3</td>\n      <td>1118SGG</td>\n    </tr>\n    <tr>\n      <th>25975</th>\n      <td>P49715</td>\n      <td>Homo sapiens</td>\n      <td>nucleolus</td>\n      <td>HGNC:1833</td>\n      <td>358</td>\n      <td>MESADFYEAEPRPPMSSHLQSPPHAPSSAAFGFPRGAGPAQPPAPP...</td>\n      <td>1050</td>\n      <td>CEBPA</td>\n      <td>762459325</td>\n      <td>208566</td>\n      <td>...</td>\n      <td>33301825</td>\n      <td>33301826</td>\n      <td>Microsatellite</td>\n      <td>NM_004364.5(CEBPA):c.572_577ACCCGC[4] (p.191_1...</td>\n      <td>germline</td>\n      <td>-</td>\n      <td>-</td>\n      <td>ClinGen:CA209407</td>\n      <td>NM_004364.5</td>\n      <td>191_192HP</td>\n    </tr>\n    <tr>\n      <th>25997</th>\n      <td>P49715</td>\n      <td>Homo sapiens</td>\n      <td>nucleolus</td>\n      <td>HGNC:1833</td>\n      <td>358</td>\n      <td>MESADFYEAEPRPPMSSHLQSPPHAPSSAAFGFPRGAGPAQPPAPP...</td>\n      <td>1050</td>\n      <td>CEBPA</td>\n      <td>762459325</td>\n      <td>403264</td>\n      <td>...</td>\n      <td>33301826</td>\n      <td>33301831</td>\n      <td>Microsatellite</td>\n      <td>NM_001285829.1(CEBPA):c.215_220ACCCGC[2] (p.72...</td>\n      <td>germline</td>\n      <td>Human Phenotype Ontology:HP:0001914,Human Phen...</td>\n      <td>Acute myeloid leukemia</td>\n      <td>ClinGen:CA16616054</td>\n      <td>NM_001285829.1</td>\n      <td>72_73HP</td>\n    </tr>\n    <tr>\n      <th>26004</th>\n      <td>P49715</td>\n      <td>Homo sapiens</td>\n      <td>nucleolus</td>\n      <td>HGNC:1833</td>\n      <td>358</td>\n      <td>MESADFYEAEPRPPMSSHLQSPPHAPSSAAFGFPRGAGPAQPPAPP...</td>\n      <td>1050</td>\n      <td>CEBPA</td>\n      <td>762459325</td>\n      <td>403676</td>\n      <td>...</td>\n      <td>33301825</td>\n      <td>33301826</td>\n      <td>Microsatellite</td>\n      <td>NM_004364.5(CEBPA):c.572ACCCGC[5] (p.191HP[5])</td>\n      <td>germline</td>\n      <td>Human Phenotype Ontology:HP:0001914,Human Phen...</td>\n      <td>Acute myeloid leukemia</td>\n      <td>ClinGen:CA16616245</td>\n      <td>NM_004364.5</td>\n      <td>191HP</td>\n    </tr>\n    <tr>\n      <th>26092</th>\n      <td>P49715</td>\n      <td>Homo sapiens</td>\n      <td>nucleolus</td>\n      <td>HGNC:1833</td>\n      <td>358</td>\n      <td>MESADFYEAEPRPPMSSHLQSPPHAPSSAAFGFPRGAGPAQPPAPP...</td>\n      <td>1050</td>\n      <td>CEBPA</td>\n      <td>762459325</td>\n      <td>533261</td>\n      <td>...</td>\n      <td>33301826</td>\n      <td>33301837</td>\n      <td>Microsatellite</td>\n      <td>NM_004364.5(CEBPA):c.572ACCCGC[1] (p.191HP[1])</td>\n      <td>germline</td>\n      <td>Human Phenotype Ontology:HP:0001914,Human Phen...</td>\n      <td>Acute myeloid leukemia</td>\n      <td>ClinGen:CA645612672</td>\n      <td>NM_004364.5</td>\n      <td>191HP</td>\n    </tr>\n    <tr>\n      <th>26223</th>\n      <td>P49715</td>\n      <td>Homo sapiens</td>\n      <td>nucleolus</td>\n      <td>HGNC:1833</td>\n      <td>358</td>\n      <td>MESADFYEAEPRPPMSSHLQSPPHAPSSAAFGFPRGAGPAQPPAPP...</td>\n      <td>1050</td>\n      <td>CEBPA</td>\n      <td>-1</td>\n      <td>847502</td>\n      <td>...</td>\n      <td>33301693</td>\n      <td>33301694</td>\n      <td>Microsatellite</td>\n      <td>NM_004364.5(CEBPA):c.710_715CCGCGC[3] (p.237_2...</td>\n      <td>germline</td>\n      <td>Human Phenotype Ontology:HP:0001914,Human Phen...</td>\n      <td>Acute myeloid leukemia</td>\n      <td>-</td>\n      <td>NM_004364.5</td>\n      <td>237_238PA</td>\n    </tr>\n    <tr>\n      <th>27327</th>\n      <td>P51532</td>\n      <td>Homo sapiens</td>\n      <td>nucleus speckles</td>\n      <td>HGNC:11100</td>\n      <td>1647</td>\n      <td>MSTPDPPLGGTPRPGPSPGPGPSPGAMLGPSPGPSPGSAHSMMGPS...</td>\n      <td>6597</td>\n      <td>SMARCA4</td>\n      <td>372601826</td>\n      <td>402881</td>\n      <td>...</td>\n      <td>10986523</td>\n      <td>10986524</td>\n      <td>Microsatellite</td>\n      <td>NM_003072.4(SMARCA4):c.696_701TGGCCC[4] (p.229...</td>\n      <td>germline</td>\n      <td>MONDO:MONDO:0013224,MedGen:C2750074,OMIM:61332...</td>\n      <td>Rhabdoid tumor predisposition syndrome 2|Hered...</td>\n      <td>ClinGen:CA9203545</td>\n      <td>NM_003072.4</td>\n      <td>229_230GP</td>\n    </tr>\n    <tr>\n      <th>27488</th>\n      <td>P51532</td>\n      <td>Homo sapiens</td>\n      <td>nucleus speckles</td>\n      <td>HGNC:11100</td>\n      <td>1647</td>\n      <td>MSTPDPPLGGTPRPGPSPGPGPSPGAMLGPSPGPSPGSAHSMMGPS...</td>\n      <td>6597</td>\n      <td>SMARCA4</td>\n      <td>372601826</td>\n      <td>403428</td>\n      <td>...</td>\n      <td>10986524</td>\n      <td>10986535</td>\n      <td>Microsatellite</td>\n      <td>NM_003072.4(SMARCA4):c.696_701TGGCCC[1] (p.229...</td>\n      <td>germline</td>\n      <td>MONDO:MONDO:0013224,MedGen:C2750074,OMIM:61332...</td>\n      <td>Rhabdoid tumor predisposition syndrome 2|Hered...</td>\n      <td>ClinGen:CA9203544</td>\n      <td>NM_003072.4</td>\n      <td>229_230GP</td>\n    </tr>\n    <tr>\n      <th>28139</th>\n      <td>P51532</td>\n      <td>Homo sapiens</td>\n      <td>nucleus speckles</td>\n      <td>HGNC:11100</td>\n      <td>1647</td>\n      <td>MSTPDPPLGGTPRPGPSPGPGPSPGAMLGPSPGPSPGSAHSMMGPS...</td>\n      <td>6597</td>\n      <td>SMARCA4</td>\n      <td>372601826</td>\n      <td>480211</td>\n      <td>...</td>\n      <td>10986524</td>\n      <td>10986529</td>\n      <td>Microsatellite</td>\n      <td>NM_003072.4(SMARCA4):c.696_701TGGCCC[2] (p.229...</td>\n      <td>germline</td>\n      <td>MONDO:MONDO:0015356,MedGen:C0027672,Orphanet:1...</td>\n      <td>Hereditary cancer-predisposing syndrome|Rhabdo...</td>\n      <td>ClinGen:CA632115177</td>\n      <td>NM_003072.4</td>\n      <td>229_230GP</td>\n    </tr>\n    <tr>\n      <th>28956</th>\n      <td>P51532</td>\n      <td>Homo sapiens</td>\n      <td>nucleus speckles</td>\n      <td>HGNC:11100</td>\n      <td>1647</td>\n      <td>MSTPDPPLGGTPRPGPSPGPGPSPGAMLGPSPGPSPGSAHSMMGPS...</td>\n      <td>6597</td>\n      <td>SMARCA4</td>\n      <td>372601826</td>\n      <td>814628</td>\n      <td>...</td>\n      <td>10986523</td>\n      <td>10986524</td>\n      <td>Microsatellite</td>\n      <td>NM_003072.5(SMARCA4):c.696_701TGGCCC[5] (p.229...</td>\n      <td>germline</td>\n      <td>MONDO:MONDO:0015356,MedGen:C0027672,Orphanet:1...</td>\n      <td>Hereditary cancer-predisposing syndrome|Rhabdo...</td>\n      <td>-</td>\n      <td>NM_003072.5</td>\n      <td>229_230GP</td>\n    </tr>\n    <tr>\n      <th>33836</th>\n      <td>Q8IYB7</td>\n      <td>Homo sapiens</td>\n      <td>p-body</td>\n      <td>HGNC:28648</td>\n      <td>885</td>\n      <td>MSHPDYRMNLRPLGTPRGVSAVAGPHDIGASPGDKKSKNRSTRGKK...</td>\n      <td>129563</td>\n      <td>DIS3L2</td>\n      <td>-1</td>\n      <td>825886</td>\n      <td>...</td>\n      <td>232163535</td>\n      <td>232163543</td>\n      <td>Microsatellite</td>\n      <td>NM_152383.5(DIS3L2):c.1027_1035GATTTCTCT[1] (p...</td>\n      <td>germline</td>\n      <td>MONDO:MONDO:0009965,MedGen:C0796113,OMIM:26700...</td>\n      <td>Perlman syndrome</td>\n      <td>-</td>\n      <td>NM_152383.5</td>\n      <td>343_345DFS</td>\n    </tr>\n    <tr>\n      <th>38213</th>\n      <td>Q9P2D1</td>\n      <td>Homo sapiens</td>\n      <td>nucleolus</td>\n      <td>HGNC:20626</td>\n      <td>2997</td>\n      <td>MADPGMMSLFGEDGNIFSEGLEGLGECGYPENPVNPMGQQMPIDQG...</td>\n      <td>55636</td>\n      <td>CHD7</td>\n      <td>747665912</td>\n      <td>578470</td>\n      <td>...</td>\n      <td>60865214</td>\n      <td>60865222</td>\n      <td>Microsatellite</td>\n      <td>NM_017780.4(CHD7):c.8278_8286AATCTCCAG[1] (p.2...</td>\n      <td>germline</td>\n      <td>MONDO:MONDO:0008965,MedGen:C0265354,OMIM:21480...</td>\n      <td>CHARGE association</td>\n      <td>-</td>\n      <td>NM_017780.4</td>\n      <td>2760_2762NLQ</td>\n    </tr>\n    <tr>\n      <th>40137</th>\n      <td>Q9Y4W2</td>\n      <td>Homo sapiens</td>\n      <td>nucleolus</td>\n      <td>HGNC:25726</td>\n      <td>734</td>\n      <td>MSWESGAGPGLGSQGMDLVWSAWYGKCVKGKGSLPLSAHGIVVAWL...</td>\n      <td>81887</td>\n      <td>LAS1L</td>\n      <td>766197666</td>\n      <td>694912</td>\n      <td>...</td>\n      <td>65518109</td>\n      <td>65518117</td>\n      <td>Microsatellite</td>\n      <td>NM_031206.6(LAS1L):c.1788_1796TGATGAAGA[1] (p....</td>\n      <td>germline</td>\n      <td>MedGen:C1839736,OMIM:309585,Orphanet:3459</td>\n      <td>Wilson-Turner X-linked mental retardation synd...</td>\n      <td>-</td>\n      <td>NM_031206.6</td>\n      <td>596_598DDE</td>\n    </tr>\n  </tbody>\n</table>\n<p>18 rows × 22 columns</p>\n</div>"
     },
     "metadata": {},
     "execution_count": 521
    }
   ],
   "source": [
    "box1_clinvar_total"
   ]
  },
  {
   "cell_type": "code",
   "execution_count": 524,
   "metadata": {},
   "outputs": [
    {
     "output_type": "execute_result",
     "data": {
      "text/plain": [
       "926        (1540, 1541, DE)\n",
       "1865         (604, 605, EK)\n",
       "5911         (513, 514, LV)\n",
       "9075     (138, 143, GQQQSY)\n",
       "9829         (622, 623, TL)\n",
       "10181         (1118, , SGG)\n",
       "25975        (191, 192, HP)\n",
       "25997          (72, 73, HP)\n",
       "26004           (191, , HP)\n",
       "26092           (191, , HP)\n",
       "26223        (237, 238, PA)\n",
       "27327        (229, 230, GP)\n",
       "27488        (229, 230, GP)\n",
       "28139        (229, 230, GP)\n",
       "28956        (229, 230, GP)\n",
       "33836       (343, 345, DFS)\n",
       "38213     (2760, 2762, NLQ)\n",
       "40137       (596, 598, DDE)\n",
       "Name: aux, dtype: object"
      ]
     },
     "metadata": {},
     "execution_count": 524
    }
   ],
   "source": [
    "# separo en una col auxiliar\n",
    "box1_clinvar_total['aux'] = box1_clinvar_total.cambio.map(lambda x: re.findall('^(\\d+)_?(\\d+)?([A-Za-z]*)', x))\n",
    "box1_clinvar_total['aux'] = box1_clinvar_total.aux.str[0]\n",
    "box1_clinvar_total['aux']"
   ]
  },
  {
   "cell_type": "code",
   "execution_count": 526,
   "metadata": {},
   "outputs": [
    {
     "output_type": "execute_result",
     "data": {
      "text/plain": [
       "              cambio                 aux  is_del\n",
       "926      1540_1541DE    (1540, 1541, DE)    True\n",
       "1865       604_605EK      (604, 605, EK)    True\n",
       "5911       513_514LV      (513, 514, LV)    True\n",
       "9075   138_143GQQQSY  (138, 143, GQQQSY)    True\n",
       "9829       622_623TL      (622, 623, TL)    True\n",
       "10181        1118SGG       (1118, , SGG)   False\n",
       "25975      191_192HP      (191, 192, HP)    True\n",
       "25997        72_73HP        (72, 73, HP)    True\n",
       "26004          191HP         (191, , HP)   False\n",
       "26092          191HP         (191, , HP)   False\n",
       "26223      237_238PA      (237, 238, PA)    True\n",
       "27327      229_230GP      (229, 230, GP)    True\n",
       "27488      229_230GP      (229, 230, GP)    True\n",
       "28139      229_230GP      (229, 230, GP)    True\n",
       "28956      229_230GP      (229, 230, GP)    True\n",
       "33836     343_345DFS     (343, 345, DFS)    True\n",
       "38213   2760_2762NLQ   (2760, 2762, NLQ)    True\n",
       "40137     596_598DDE     (596, 598, DDE)    True"
      ],
      "text/html": "<div>\n<style scoped>\n    .dataframe tbody tr th:only-of-type {\n        vertical-align: middle;\n    }\n\n    .dataframe tbody tr th {\n        vertical-align: top;\n    }\n\n    .dataframe thead th {\n        text-align: right;\n    }\n</style>\n<table border=\"1\" class=\"dataframe\">\n  <thead>\n    <tr style=\"text-align: right;\">\n      <th></th>\n      <th>cambio</th>\n      <th>aux</th>\n      <th>is_del</th>\n    </tr>\n  </thead>\n  <tbody>\n    <tr>\n      <th>926</th>\n      <td>1540_1541DE</td>\n      <td>(1540, 1541, DE)</td>\n      <td>True</td>\n    </tr>\n    <tr>\n      <th>1865</th>\n      <td>604_605EK</td>\n      <td>(604, 605, EK)</td>\n      <td>True</td>\n    </tr>\n    <tr>\n      <th>5911</th>\n      <td>513_514LV</td>\n      <td>(513, 514, LV)</td>\n      <td>True</td>\n    </tr>\n    <tr>\n      <th>9075</th>\n      <td>138_143GQQQSY</td>\n      <td>(138, 143, GQQQSY)</td>\n      <td>True</td>\n    </tr>\n    <tr>\n      <th>9829</th>\n      <td>622_623TL</td>\n      <td>(622, 623, TL)</td>\n      <td>True</td>\n    </tr>\n    <tr>\n      <th>10181</th>\n      <td>1118SGG</td>\n      <td>(1118, , SGG)</td>\n      <td>False</td>\n    </tr>\n    <tr>\n      <th>25975</th>\n      <td>191_192HP</td>\n      <td>(191, 192, HP)</td>\n      <td>True</td>\n    </tr>\n    <tr>\n      <th>25997</th>\n      <td>72_73HP</td>\n      <td>(72, 73, HP)</td>\n      <td>True</td>\n    </tr>\n    <tr>\n      <th>26004</th>\n      <td>191HP</td>\n      <td>(191, , HP)</td>\n      <td>False</td>\n    </tr>\n    <tr>\n      <th>26092</th>\n      <td>191HP</td>\n      <td>(191, , HP)</td>\n      <td>False</td>\n    </tr>\n    <tr>\n      <th>26223</th>\n      <td>237_238PA</td>\n      <td>(237, 238, PA)</td>\n      <td>True</td>\n    </tr>\n    <tr>\n      <th>27327</th>\n      <td>229_230GP</td>\n      <td>(229, 230, GP)</td>\n      <td>True</td>\n    </tr>\n    <tr>\n      <th>27488</th>\n      <td>229_230GP</td>\n      <td>(229, 230, GP)</td>\n      <td>True</td>\n    </tr>\n    <tr>\n      <th>28139</th>\n      <td>229_230GP</td>\n      <td>(229, 230, GP)</td>\n      <td>True</td>\n    </tr>\n    <tr>\n      <th>28956</th>\n      <td>229_230GP</td>\n      <td>(229, 230, GP)</td>\n      <td>True</td>\n    </tr>\n    <tr>\n      <th>33836</th>\n      <td>343_345DFS</td>\n      <td>(343, 345, DFS)</td>\n      <td>True</td>\n    </tr>\n    <tr>\n      <th>38213</th>\n      <td>2760_2762NLQ</td>\n      <td>(2760, 2762, NLQ)</td>\n      <td>True</td>\n    </tr>\n    <tr>\n      <th>40137</th>\n      <td>596_598DDE</td>\n      <td>(596, 598, DDE)</td>\n      <td>True</td>\n    </tr>\n  </tbody>\n</table>\n</div>"
     },
     "metadata": {},
     "execution_count": 526
    }
   ],
   "source": [
    "# si el rango de de las posiciones coincide con el nro de letras: es delecion\n",
    "l = []\n",
    "for i in box1_clinvar_total.index:\n",
    "    start = int(box1_clinvar_total.aux[i][0])\n",
    "    try:\n",
    "        end = int(box1_clinvar_total.aux[i][1])\n",
    "    except:\n",
    "        pass\n",
    "    length = end - start + 1\n",
    "    aa = len(box1_clinvar_total.aux[i][2])\n",
    "    l.append(length == aa)\n",
    "\n",
    "box1_clinvar_total['is_del'] = l\n",
    "box1_clinvar_total[['cambio', 'aux', 'is_del']]"
   ]
  },
  {
   "cell_type": "code",
   "execution_count": 527,
   "metadata": {},
   "outputs": [],
   "source": [
    "delet2 = box1_clinvar_total[box1_clinvar_total.is_del == True]"
   ]
  },
  {
   "cell_type": "code",
   "execution_count": 528,
   "metadata": {},
   "outputs": [
    {
     "output_type": "stream",
     "name": "stderr",
     "text": [
      "<ipython-input-455-f409ad5f4d5a>:10: SettingWithCopyWarning: \nA value is trying to be set on a copy of a slice from a DataFrame.\nTry using .loc[row_indexer,col_indexer] = value instead\n\nSee the caveats in the documentation: https://pandas.pydata.org/pandas-docs/stable/user_guide/indexing.html#returning-a-view-versus-a-copy\n  df['start_aa'] = df[column].map(lambda x: x[0])\nC:\\Users\\User\\AppData\\Local\\Packages\\PythonSoftwareFoundation.Python.3.9_qbz5n2kfra8p0\\LocalCache\\local-packages\\Python39\\site-packages\\pandas\\core\\generic.py:5491: SettingWithCopyWarning: \nA value is trying to be set on a copy of a slice from a DataFrame.\nTry using .loc[row_indexer,col_indexer] = value instead\n\nSee the caveats in the documentation: https://pandas.pydata.org/pandas-docs/stable/user_guide/indexing.html#returning-a-view-versus-a-copy\n  self[name] = value\n<ipython-input-455-f409ad5f4d5a>:14: SettingWithCopyWarning: \nA value is trying to be set on a copy of a slice from a DataFrame.\nTry using .loc[row_indexer,col_indexer] = value instead\n\nSee the caveats in the documentation: https://pandas.pydata.org/pandas-docs/stable/user_guide/indexing.html#returning-a-view-versus-a-copy\n  df['end_aa'] = df[column].map(lambda x: int(x[1]) if x[1] != '' else np.nan)\n<ipython-input-455-f409ad5f4d5a>:17: SettingWithCopyWarning: \nA value is trying to be set on a copy of a slice from a DataFrame.\nTry using .loc[row_indexer,col_indexer] = value instead\n\nSee the caveats in the documentation: https://pandas.pydata.org/pandas-docs/stable/user_guide/indexing.html#returning-a-view-versus-a-copy\n  df['from'] = df[column].map(lambda x: x[2])\n<ipython-input-455-f409ad5f4d5a>:18: SettingWithCopyWarning: \nA value is trying to be set on a copy of a slice from a DataFrame.\nTry using .loc[row_indexer,col_indexer] = value instead\n\nSee the caveats in the documentation: https://pandas.pydata.org/pandas-docs/stable/user_guide/indexing.html#returning-a-view-versus-a-copy\n  df['from'] = df['from'].map(lambda x: seq3(x))\n<ipython-input-455-f409ad5f4d5a>:21: SettingWithCopyWarning: \nA value is trying to be set on a copy of a slice from a DataFrame.\nTry using .loc[row_indexer,col_indexer] = value instead\n\nSee the caveats in the documentation: https://pandas.pydata.org/pandas-docs/stable/user_guide/indexing.html#returning-a-view-versus-a-copy\n  df['to'] = np.nan\n<ipython-input-455-f409ad5f4d5a>:24: SettingWithCopyWarning: \nA value is trying to be set on a copy of a slice from a DataFrame.\nTry using .loc[row_indexer,col_indexer] = value instead\n\nSee the caveats in the documentation: https://pandas.pydata.org/pandas-docs/stable/user_guide/indexing.html#returning-a-view-versus-a-copy\n  df['consequence'] = conseq\n"
     ]
    },
    {
     "output_type": "execute_result",
     "data": {
      "text/plain": [
       "              cambio  start_aa  end_aa                from  to consequence\n",
       "926      1540_1541DE      1540    1541              AspGlu NaN    deletion\n",
       "1865       604_605EK       604     605              GluLys NaN    deletion\n",
       "5911       513_514LV       513     514              LeuVal NaN    deletion\n",
       "9075   138_143GQQQSY       138     143  GlyGlnGlnGlnSerTyr NaN    deletion\n",
       "9829       622_623TL       622     623              ThrLeu NaN    deletion\n",
       "25975      191_192HP       191     192              HisPro NaN    deletion\n",
       "25997        72_73HP        72      73              HisPro NaN    deletion\n",
       "26223      237_238PA       237     238              ProAla NaN    deletion\n",
       "27327      229_230GP       229     230              GlyPro NaN    deletion\n",
       "27488      229_230GP       229     230              GlyPro NaN    deletion\n",
       "28139      229_230GP       229     230              GlyPro NaN    deletion\n",
       "28956      229_230GP       229     230              GlyPro NaN    deletion\n",
       "33836     343_345DFS       343     345           AspPheSer NaN    deletion\n",
       "38213   2760_2762NLQ      2760    2762           AsnLeuGln NaN    deletion\n",
       "40137     596_598DDE       596     598           AspAspGlu NaN    deletion"
      ],
      "text/html": "<div>\n<style scoped>\n    .dataframe tbody tr th:only-of-type {\n        vertical-align: middle;\n    }\n\n    .dataframe tbody tr th {\n        vertical-align: top;\n    }\n\n    .dataframe thead th {\n        text-align: right;\n    }\n</style>\n<table border=\"1\" class=\"dataframe\">\n  <thead>\n    <tr style=\"text-align: right;\">\n      <th></th>\n      <th>cambio</th>\n      <th>start_aa</th>\n      <th>end_aa</th>\n      <th>from</th>\n      <th>to</th>\n      <th>consequence</th>\n    </tr>\n  </thead>\n  <tbody>\n    <tr>\n      <th>926</th>\n      <td>1540_1541DE</td>\n      <td>1540</td>\n      <td>1541</td>\n      <td>AspGlu</td>\n      <td>NaN</td>\n      <td>deletion</td>\n    </tr>\n    <tr>\n      <th>1865</th>\n      <td>604_605EK</td>\n      <td>604</td>\n      <td>605</td>\n      <td>GluLys</td>\n      <td>NaN</td>\n      <td>deletion</td>\n    </tr>\n    <tr>\n      <th>5911</th>\n      <td>513_514LV</td>\n      <td>513</td>\n      <td>514</td>\n      <td>LeuVal</td>\n      <td>NaN</td>\n      <td>deletion</td>\n    </tr>\n    <tr>\n      <th>9075</th>\n      <td>138_143GQQQSY</td>\n      <td>138</td>\n      <td>143</td>\n      <td>GlyGlnGlnGlnSerTyr</td>\n      <td>NaN</td>\n      <td>deletion</td>\n    </tr>\n    <tr>\n      <th>9829</th>\n      <td>622_623TL</td>\n      <td>622</td>\n      <td>623</td>\n      <td>ThrLeu</td>\n      <td>NaN</td>\n      <td>deletion</td>\n    </tr>\n    <tr>\n      <th>25975</th>\n      <td>191_192HP</td>\n      <td>191</td>\n      <td>192</td>\n      <td>HisPro</td>\n      <td>NaN</td>\n      <td>deletion</td>\n    </tr>\n    <tr>\n      <th>25997</th>\n      <td>72_73HP</td>\n      <td>72</td>\n      <td>73</td>\n      <td>HisPro</td>\n      <td>NaN</td>\n      <td>deletion</td>\n    </tr>\n    <tr>\n      <th>26223</th>\n      <td>237_238PA</td>\n      <td>237</td>\n      <td>238</td>\n      <td>ProAla</td>\n      <td>NaN</td>\n      <td>deletion</td>\n    </tr>\n    <tr>\n      <th>27327</th>\n      <td>229_230GP</td>\n      <td>229</td>\n      <td>230</td>\n      <td>GlyPro</td>\n      <td>NaN</td>\n      <td>deletion</td>\n    </tr>\n    <tr>\n      <th>27488</th>\n      <td>229_230GP</td>\n      <td>229</td>\n      <td>230</td>\n      <td>GlyPro</td>\n      <td>NaN</td>\n      <td>deletion</td>\n    </tr>\n    <tr>\n      <th>28139</th>\n      <td>229_230GP</td>\n      <td>229</td>\n      <td>230</td>\n      <td>GlyPro</td>\n      <td>NaN</td>\n      <td>deletion</td>\n    </tr>\n    <tr>\n      <th>28956</th>\n      <td>229_230GP</td>\n      <td>229</td>\n      <td>230</td>\n      <td>GlyPro</td>\n      <td>NaN</td>\n      <td>deletion</td>\n    </tr>\n    <tr>\n      <th>33836</th>\n      <td>343_345DFS</td>\n      <td>343</td>\n      <td>345</td>\n      <td>AspPheSer</td>\n      <td>NaN</td>\n      <td>deletion</td>\n    </tr>\n    <tr>\n      <th>38213</th>\n      <td>2760_2762NLQ</td>\n      <td>2760</td>\n      <td>2762</td>\n      <td>AsnLeuGln</td>\n      <td>NaN</td>\n      <td>deletion</td>\n    </tr>\n    <tr>\n      <th>40137</th>\n      <td>596_598DDE</td>\n      <td>596</td>\n      <td>598</td>\n      <td>AspAspGlu</td>\n      <td>NaN</td>\n      <td>deletion</td>\n    </tr>\n  </tbody>\n</table>\n</div>"
     },
     "metadata": {},
     "execution_count": 528
    }
   ],
   "source": [
    "separar_en_cols_raros(delet2, 'aux', 'deletion')"
   ]
  },
  {
   "cell_type": "code",
   "execution_count": 529,
   "metadata": {},
   "outputs": [],
   "source": [
    "delet2 = delet2.drop(columns=['is_del', 'aux'])"
   ]
  },
  {
   "cell_type": "code",
   "execution_count": 531,
   "metadata": {},
   "outputs": [],
   "source": [
    "# agrego al dataset de deleciones\n",
    "deletions = pd.concat([deletions, delet2])"
   ]
  },
  {
   "source": [
    "## lo que queda son delins xq lo que se inserta es de distinta longitud al rango que se corta"
   ],
   "cell_type": "markdown",
   "metadata": {}
  },
  {
   "cell_type": "code",
   "execution_count": 532,
   "metadata": {},
   "outputs": [
    {
     "output_type": "execute_result",
     "data": {
      "text/plain": [
       "      uniprot      organism                   mlo     hgnc_id  length  \\\n",
       "10181  Q96PV0  Homo sapiens  postsynaptic density  HGNC:11497    1343   \n",
       "26004  P49715  Homo sapiens             nucleolus   HGNC:1833     358   \n",
       "26092  P49715  Homo sapiens             nucleolus   HGNC:1833     358   \n",
       "\n",
       "                                                sequence  geneid genesymbol  \\\n",
       "10181  MSRSRASIHRGSIPAMSYAPFRDVRGPSMHRTQYVHSPYDRPGWNP...    8831    SYNGAP1   \n",
       "26004  MESADFYEAEPRPPMSSHLQSPPHAPSSAAFGFPRGAGPAQPPAPP...    1050      CEBPA   \n",
       "26092  MESADFYEAEPRPPMSSHLQSPPHAPSSAAFGFPRGAGPAQPPAPP...    1050      CEBPA   \n",
       "\n",
       "           snpid  alleleid  ...            type  \\\n",
       "10181         -1    924340  ...  Microsatellite   \n",
       "26004  762459325    403676  ...  Microsatellite   \n",
       "26092  762459325    533261  ...  Microsatellite   \n",
       "\n",
       "                                                    name    origin  \\\n",
       "10181  NM_006772.3(SYNGAP1):c.3348GGGCAGCGG[1] (p.111...  germline   \n",
       "26004     NM_004364.5(CEBPA):c.572ACCCGC[5] (p.191HP[5])  germline   \n",
       "26092     NM_004364.5(CEBPA):c.572ACCCGC[1] (p.191HP[1])  germline   \n",
       "\n",
       "                                            phenotypeids  \\\n",
       "10181    MONDO:MONDO:0012960,MedGen:C2675473,OMIM:612621   \n",
       "26004  Human Phenotype Ontology:HP:0001914,Human Phen...   \n",
       "26092  Human Phenotype Ontology:HP:0001914,Human Phen...   \n",
       "\n",
       "                                  phenotypelist             otherids  \\\n",
       "10181  Mental retardation, autosomal dominant 5                    -   \n",
       "26004                    Acute myeloid leukemia   ClinGen:CA16616245   \n",
       "26092                    Acute myeloid leukemia  ClinGen:CA645612672   \n",
       "\n",
       "        nuccore_id   cambio            aux is_del  \n",
       "10181  NM_006772.3  1118SGG  (1118, , SGG)  False  \n",
       "26004  NM_004364.5    191HP    (191, , HP)  False  \n",
       "26092  NM_004364.5    191HP    (191, , HP)  False  \n",
       "\n",
       "[3 rows x 24 columns]"
      ],
      "text/html": "<div>\n<style scoped>\n    .dataframe tbody tr th:only-of-type {\n        vertical-align: middle;\n    }\n\n    .dataframe tbody tr th {\n        vertical-align: top;\n    }\n\n    .dataframe thead th {\n        text-align: right;\n    }\n</style>\n<table border=\"1\" class=\"dataframe\">\n  <thead>\n    <tr style=\"text-align: right;\">\n      <th></th>\n      <th>uniprot</th>\n      <th>organism</th>\n      <th>mlo</th>\n      <th>hgnc_id</th>\n      <th>length</th>\n      <th>sequence</th>\n      <th>geneid</th>\n      <th>genesymbol</th>\n      <th>snpid</th>\n      <th>alleleid</th>\n      <th>...</th>\n      <th>type</th>\n      <th>name</th>\n      <th>origin</th>\n      <th>phenotypeids</th>\n      <th>phenotypelist</th>\n      <th>otherids</th>\n      <th>nuccore_id</th>\n      <th>cambio</th>\n      <th>aux</th>\n      <th>is_del</th>\n    </tr>\n  </thead>\n  <tbody>\n    <tr>\n      <th>10181</th>\n      <td>Q96PV0</td>\n      <td>Homo sapiens</td>\n      <td>postsynaptic density</td>\n      <td>HGNC:11497</td>\n      <td>1343</td>\n      <td>MSRSRASIHRGSIPAMSYAPFRDVRGPSMHRTQYVHSPYDRPGWNP...</td>\n      <td>8831</td>\n      <td>SYNGAP1</td>\n      <td>-1</td>\n      <td>924340</td>\n      <td>...</td>\n      <td>Microsatellite</td>\n      <td>NM_006772.3(SYNGAP1):c.3348GGGCAGCGG[1] (p.111...</td>\n      <td>germline</td>\n      <td>MONDO:MONDO:0012960,MedGen:C2675473,OMIM:612621</td>\n      <td>Mental retardation, autosomal dominant 5</td>\n      <td>-</td>\n      <td>NM_006772.3</td>\n      <td>1118SGG</td>\n      <td>(1118, , SGG)</td>\n      <td>False</td>\n    </tr>\n    <tr>\n      <th>26004</th>\n      <td>P49715</td>\n      <td>Homo sapiens</td>\n      <td>nucleolus</td>\n      <td>HGNC:1833</td>\n      <td>358</td>\n      <td>MESADFYEAEPRPPMSSHLQSPPHAPSSAAFGFPRGAGPAQPPAPP...</td>\n      <td>1050</td>\n      <td>CEBPA</td>\n      <td>762459325</td>\n      <td>403676</td>\n      <td>...</td>\n      <td>Microsatellite</td>\n      <td>NM_004364.5(CEBPA):c.572ACCCGC[5] (p.191HP[5])</td>\n      <td>germline</td>\n      <td>Human Phenotype Ontology:HP:0001914,Human Phen...</td>\n      <td>Acute myeloid leukemia</td>\n      <td>ClinGen:CA16616245</td>\n      <td>NM_004364.5</td>\n      <td>191HP</td>\n      <td>(191, , HP)</td>\n      <td>False</td>\n    </tr>\n    <tr>\n      <th>26092</th>\n      <td>P49715</td>\n      <td>Homo sapiens</td>\n      <td>nucleolus</td>\n      <td>HGNC:1833</td>\n      <td>358</td>\n      <td>MESADFYEAEPRPPMSSHLQSPPHAPSSAAFGFPRGAGPAQPPAPP...</td>\n      <td>1050</td>\n      <td>CEBPA</td>\n      <td>762459325</td>\n      <td>533261</td>\n      <td>...</td>\n      <td>Microsatellite</td>\n      <td>NM_004364.5(CEBPA):c.572ACCCGC[1] (p.191HP[1])</td>\n      <td>germline</td>\n      <td>Human Phenotype Ontology:HP:0001914,Human Phen...</td>\n      <td>Acute myeloid leukemia</td>\n      <td>ClinGen:CA645612672</td>\n      <td>NM_004364.5</td>\n      <td>191HP</td>\n      <td>(191, , HP)</td>\n      <td>False</td>\n    </tr>\n  </tbody>\n</table>\n<p>3 rows × 24 columns</p>\n</div>"
     },
     "metadata": {},
     "execution_count": 532
    }
   ],
   "source": [
    "box1_clinvar_total = box1_clinvar_total[box1_clinvar_total.is_del == False]\n",
    "box1_clinvar_total"
   ]
  },
  {
   "cell_type": "code",
   "execution_count": 533,
   "metadata": {},
   "outputs": [
    {
     "output_type": "stream",
     "name": "stderr",
     "text": [
      "<ipython-input-455-f409ad5f4d5a>:10: SettingWithCopyWarning: \nA value is trying to be set on a copy of a slice from a DataFrame.\nTry using .loc[row_indexer,col_indexer] = value instead\n\nSee the caveats in the documentation: https://pandas.pydata.org/pandas-docs/stable/user_guide/indexing.html#returning-a-view-versus-a-copy\n  df['start_aa'] = df[column].map(lambda x: x[0])\nC:\\Users\\User\\AppData\\Local\\Packages\\PythonSoftwareFoundation.Python.3.9_qbz5n2kfra8p0\\LocalCache\\local-packages\\Python39\\site-packages\\pandas\\core\\generic.py:5491: SettingWithCopyWarning: \nA value is trying to be set on a copy of a slice from a DataFrame.\nTry using .loc[row_indexer,col_indexer] = value instead\n\nSee the caveats in the documentation: https://pandas.pydata.org/pandas-docs/stable/user_guide/indexing.html#returning-a-view-versus-a-copy\n  self[name] = value\n<ipython-input-455-f409ad5f4d5a>:14: SettingWithCopyWarning: \nA value is trying to be set on a copy of a slice from a DataFrame.\nTry using .loc[row_indexer,col_indexer] = value instead\n\nSee the caveats in the documentation: https://pandas.pydata.org/pandas-docs/stable/user_guide/indexing.html#returning-a-view-versus-a-copy\n  df['end_aa'] = df[column].map(lambda x: int(x[1]) if x[1] != '' else np.nan)\n<ipython-input-455-f409ad5f4d5a>:17: SettingWithCopyWarning: \nA value is trying to be set on a copy of a slice from a DataFrame.\nTry using .loc[row_indexer,col_indexer] = value instead\n\nSee the caveats in the documentation: https://pandas.pydata.org/pandas-docs/stable/user_guide/indexing.html#returning-a-view-versus-a-copy\n  df['from'] = df[column].map(lambda x: x[2])\n<ipython-input-455-f409ad5f4d5a>:18: SettingWithCopyWarning: \nA value is trying to be set on a copy of a slice from a DataFrame.\nTry using .loc[row_indexer,col_indexer] = value instead\n\nSee the caveats in the documentation: https://pandas.pydata.org/pandas-docs/stable/user_guide/indexing.html#returning-a-view-versus-a-copy\n  df['from'] = df['from'].map(lambda x: seq3(x))\n<ipython-input-455-f409ad5f4d5a>:21: SettingWithCopyWarning: \nA value is trying to be set on a copy of a slice from a DataFrame.\nTry using .loc[row_indexer,col_indexer] = value instead\n\nSee the caveats in the documentation: https://pandas.pydata.org/pandas-docs/stable/user_guide/indexing.html#returning-a-view-versus-a-copy\n  df['to'] = np.nan\n<ipython-input-455-f409ad5f4d5a>:24: SettingWithCopyWarning: \nA value is trying to be set on a copy of a slice from a DataFrame.\nTry using .loc[row_indexer,col_indexer] = value instead\n\nSee the caveats in the documentation: https://pandas.pydata.org/pandas-docs/stable/user_guide/indexing.html#returning-a-view-versus-a-copy\n  df['consequence'] = conseq\n"
     ]
    },
    {
     "output_type": "execute_result",
     "data": {
      "text/plain": [
       "        cambio  start_aa  end_aa       from  to consequence\n",
       "10181  1118SGG      1118     NaN  SerGlyGly NaN      delins\n",
       "26004    191HP       191     NaN     HisPro NaN      delins\n",
       "26092    191HP       191     NaN     HisPro NaN      delins"
      ],
      "text/html": "<div>\n<style scoped>\n    .dataframe tbody tr th:only-of-type {\n        vertical-align: middle;\n    }\n\n    .dataframe tbody tr th {\n        vertical-align: top;\n    }\n\n    .dataframe thead th {\n        text-align: right;\n    }\n</style>\n<table border=\"1\" class=\"dataframe\">\n  <thead>\n    <tr style=\"text-align: right;\">\n      <th></th>\n      <th>cambio</th>\n      <th>start_aa</th>\n      <th>end_aa</th>\n      <th>from</th>\n      <th>to</th>\n      <th>consequence</th>\n    </tr>\n  </thead>\n  <tbody>\n    <tr>\n      <th>10181</th>\n      <td>1118SGG</td>\n      <td>1118</td>\n      <td>NaN</td>\n      <td>SerGlyGly</td>\n      <td>NaN</td>\n      <td>delins</td>\n    </tr>\n    <tr>\n      <th>26004</th>\n      <td>191HP</td>\n      <td>191</td>\n      <td>NaN</td>\n      <td>HisPro</td>\n      <td>NaN</td>\n      <td>delins</td>\n    </tr>\n    <tr>\n      <th>26092</th>\n      <td>191HP</td>\n      <td>191</td>\n      <td>NaN</td>\n      <td>HisPro</td>\n      <td>NaN</td>\n      <td>delins</td>\n    </tr>\n  </tbody>\n</table>\n</div>"
     },
     "metadata": {},
     "execution_count": 533
    }
   ],
   "source": [
    "separar_en_cols_raros(box1_clinvar_total, 'aux', 'delins')"
   ]
  },
  {
   "cell_type": "code",
   "execution_count": 534,
   "metadata": {},
   "outputs": [],
   "source": [
    "box1_clinvar_total = box1_clinvar_total.drop(columns=['is_del', 'aux'])"
   ]
  },
  {
   "cell_type": "code",
   "execution_count": 535,
   "metadata": {},
   "outputs": [],
   "source": [
    "delins = pd.concat([delins, box1_clinvar_total])"
   ]
  },
  {
   "source": [
    "# Concatenar todos los subseteos  \n",
    "--------------------------------"
   ],
   "cell_type": "markdown",
   "metadata": {}
  },
  {
   "cell_type": "code",
   "execution_count": 536,
   "metadata": {},
   "outputs": [],
   "source": [
    "tables = [deletions, delins, duplications, frameshift, insertions, missense, nonsense]"
   ]
  },
  {
   "cell_type": "code",
   "execution_count": 537,
   "metadata": {},
   "outputs": [
    {
     "output_type": "execute_result",
     "data": {
      "text/plain": [
       "23126"
      ]
     },
     "metadata": {},
     "execution_count": 537
    }
   ],
   "source": [
    "# nro de entradas totales revisadas\n",
    "l = 0\n",
    "for i in tables:\n",
    "    l += len(i)\n",
    "l"
   ]
  },
  {
   "cell_type": "code",
   "execution_count": 538,
   "metadata": {},
   "outputs": [],
   "source": [
    "del(mutations)"
   ]
  },
  {
   "cell_type": "code",
   "execution_count": 539,
   "metadata": {},
   "outputs": [
    {
     "output_type": "execute_result",
     "data": {
      "text/plain": [
       "23126"
      ]
     },
     "metadata": {},
     "execution_count": 539
    }
   ],
   "source": [
    "# tabla final\n",
    "mutations = pd.concat(tables)\n",
    "len(mutations)"
   ]
  },
  {
   "cell_type": "code",
   "execution_count": 540,
   "metadata": {},
   "outputs": [],
   "source": [
    "# etiqueta\n",
    "mutations['source'] = 'clinvar'"
   ]
  },
  {
   "cell_type": "code",
   "execution_count": 541,
   "metadata": {},
   "outputs": [
    {
     "output_type": "execute_result",
     "data": {
      "text/plain": [
       "Index(['uniprot', 'organism', 'mlo', 'hgnc_id', 'length', 'sequence', 'geneid',\n",
       "       'genesymbol', 'snpid', 'alleleid', 'chromosomeaccession', 'chromosome',\n",
       "       'start', 'stop', 'type', 'name', 'origin', 'phenotypeids',\n",
       "       'phenotypelist', 'otherids', 'nuccore_id', 'cambio', 'consequence',\n",
       "       'start_aa', 'end_aa', 'from', 'to', 'source'],\n",
       "      dtype='object')"
      ]
     },
     "metadata": {},
     "execution_count": 541
    }
   ],
   "source": [
    "mutations.columns"
   ]
  },
  {
   "cell_type": "code",
   "execution_count": 542,
   "metadata": {},
   "outputs": [
    {
     "output_type": "execute_result",
     "data": {
      "text/plain": [
       "                 cambio consequence start_aa  end_aa    from   to   source\n",
       "86     His156_Gln168del    deletion      156   168.0  HisGln  NaN  clinvar\n",
       "233    Val148_Thr173del    deletion      148   173.0  ValThr  NaN  clinvar\n",
       "404          Lys2944del    deletion     2944     NaN     Lys  NaN  clinvar\n",
       "603          Leu1141del    deletion     1141     NaN     Leu  NaN  clinvar\n",
       "869          Glu1464del    deletion     1464     NaN     Glu  NaN  clinvar\n",
       "...                 ...         ...      ...     ...     ...  ...      ...\n",
       "40961          Gln35Ter    nonsense       35     NaN     Gln  Ter  clinvar\n",
       "40963         Arg337Ter    nonsense      337     NaN     Arg  Ter  clinvar\n",
       "40965          Arg73Ter    nonsense       73     NaN     Arg  Ter  clinvar\n",
       "40976         Arg184Ter    nonsense      184     NaN     Arg  Ter  clinvar\n",
       "40990         Arg153Ter    nonsense      153     NaN     Arg  Ter  clinvar\n",
       "\n",
       "[23126 rows x 7 columns]"
      ],
      "text/html": "<div>\n<style scoped>\n    .dataframe tbody tr th:only-of-type {\n        vertical-align: middle;\n    }\n\n    .dataframe tbody tr th {\n        vertical-align: top;\n    }\n\n    .dataframe thead th {\n        text-align: right;\n    }\n</style>\n<table border=\"1\" class=\"dataframe\">\n  <thead>\n    <tr style=\"text-align: right;\">\n      <th></th>\n      <th>cambio</th>\n      <th>consequence</th>\n      <th>start_aa</th>\n      <th>end_aa</th>\n      <th>from</th>\n      <th>to</th>\n      <th>source</th>\n    </tr>\n  </thead>\n  <tbody>\n    <tr>\n      <th>86</th>\n      <td>His156_Gln168del</td>\n      <td>deletion</td>\n      <td>156</td>\n      <td>168.0</td>\n      <td>HisGln</td>\n      <td>NaN</td>\n      <td>clinvar</td>\n    </tr>\n    <tr>\n      <th>233</th>\n      <td>Val148_Thr173del</td>\n      <td>deletion</td>\n      <td>148</td>\n      <td>173.0</td>\n      <td>ValThr</td>\n      <td>NaN</td>\n      <td>clinvar</td>\n    </tr>\n    <tr>\n      <th>404</th>\n      <td>Lys2944del</td>\n      <td>deletion</td>\n      <td>2944</td>\n      <td>NaN</td>\n      <td>Lys</td>\n      <td>NaN</td>\n      <td>clinvar</td>\n    </tr>\n    <tr>\n      <th>603</th>\n      <td>Leu1141del</td>\n      <td>deletion</td>\n      <td>1141</td>\n      <td>NaN</td>\n      <td>Leu</td>\n      <td>NaN</td>\n      <td>clinvar</td>\n    </tr>\n    <tr>\n      <th>869</th>\n      <td>Glu1464del</td>\n      <td>deletion</td>\n      <td>1464</td>\n      <td>NaN</td>\n      <td>Glu</td>\n      <td>NaN</td>\n      <td>clinvar</td>\n    </tr>\n    <tr>\n      <th>...</th>\n      <td>...</td>\n      <td>...</td>\n      <td>...</td>\n      <td>...</td>\n      <td>...</td>\n      <td>...</td>\n      <td>...</td>\n    </tr>\n    <tr>\n      <th>40961</th>\n      <td>Gln35Ter</td>\n      <td>nonsense</td>\n      <td>35</td>\n      <td>NaN</td>\n      <td>Gln</td>\n      <td>Ter</td>\n      <td>clinvar</td>\n    </tr>\n    <tr>\n      <th>40963</th>\n      <td>Arg337Ter</td>\n      <td>nonsense</td>\n      <td>337</td>\n      <td>NaN</td>\n      <td>Arg</td>\n      <td>Ter</td>\n      <td>clinvar</td>\n    </tr>\n    <tr>\n      <th>40965</th>\n      <td>Arg73Ter</td>\n      <td>nonsense</td>\n      <td>73</td>\n      <td>NaN</td>\n      <td>Arg</td>\n      <td>Ter</td>\n      <td>clinvar</td>\n    </tr>\n    <tr>\n      <th>40976</th>\n      <td>Arg184Ter</td>\n      <td>nonsense</td>\n      <td>184</td>\n      <td>NaN</td>\n      <td>Arg</td>\n      <td>Ter</td>\n      <td>clinvar</td>\n    </tr>\n    <tr>\n      <th>40990</th>\n      <td>Arg153Ter</td>\n      <td>nonsense</td>\n      <td>153</td>\n      <td>NaN</td>\n      <td>Arg</td>\n      <td>Ter</td>\n      <td>clinvar</td>\n    </tr>\n  </tbody>\n</table>\n<p>23126 rows × 7 columns</p>\n</div>"
     },
     "metadata": {},
     "execution_count": 542
    }
   ],
   "source": [
    "mutations[['cambio', 'consequence',\t'start_aa',\t'end_aa',\t'from',\t'to', 'source']]"
   ]
  },
  {
   "cell_type": "code",
   "execution_count": 543,
   "metadata": {},
   "outputs": [],
   "source": [
    "mutations.to_csv('datasets/clinvar_box1_mutations.csv.gz', compression='gzip')"
   ]
  }
 ]
}