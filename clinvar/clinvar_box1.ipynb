{
 "metadata": {
  "language_info": {
   "codemirror_mode": {
    "name": "ipython",
    "version": 3
   },
   "file_extension": ".py",
   "mimetype": "text/x-python",
   "name": "python",
   "nbconvert_exporter": "python",
   "pygments_lexer": "ipython3",
   "version": "3.9.1"
  },
  "orig_nbformat": 2,
  "kernelspec": {
   "name": "python3",
   "display_name": "Python 3.9.1 64-bit",
   "metadata": {
    "interpreter": {
     "hash": "2647ea34e536f865ab67ff9ddee7fd78773d956cec0cab53c79b32cd10da5d83"
    }
   }
  }
 },
 "nbformat": 4,
 "nbformat_minor": 2,
 "cells": [
  {
   "cell_type": "code",
   "execution_count": 1,
   "metadata": {},
   "outputs": [],
   "source": [
    "import pandas as pd\n",
    "import numpy as np\n",
    "from Bio import SeqIO\n",
    "from Bio.Data.IUPACData import protein_letters_3to1\n",
    "from Bio.SeqUtils import seq1\n",
    "import re\n",
    "import matplotlib.pyplot as plt\n",
    "import squarify\n",
    "from functools import reduce\n",
    "from matplotlib_venn import venn2\n",
    "import matplotlib_venn as mv"
   ]
  },
  {
   "source": [
    "## Cargo los datasets"
   ],
   "cell_type": "markdown",
   "metadata": {}
  },
  {
   "source": [
    "#Box1 database\n",
    "box = pd.read_csv('box1_proteins.csv')\n",
    "box"
   ],
   "cell_type": "code",
   "metadata": {},
   "execution_count": 2,
   "outputs": [
    {
     "output_type": "execute_result",
     "data": {
      "text/plain": [
       "    uniprot      organism                                    mlo     hgnc_id  \\\n",
       "0    O15527  Homo sapiens                        nuclear speckle   HGNC:8125   \n",
       "1    O43663  Homo sapiens                               pcg body   HGNC:9341   \n",
       "2    O75494  Homo sapiens                        nuclear speckle  HGNC:16713   \n",
       "3    O95613  Homo sapiens           centrosome/spindle pole body  HGNC:16068   \n",
       "4    P08047  Homo sapiens           centrosome/spindle pole body  HGNC:11205   \n",
       "..      ...           ...                                    ...         ...   \n",
       "584  Q07352  Homo sapiens  cytoplasmic ribonucleoprotein granule   HGNC:1107   \n",
       "585  Q8NE35  Homo sapiens                                 p-body  HGNC:21746   \n",
       "586  P26368  Homo sapiens                        nuclear speckle  HGNC:23156   \n",
       "587  Q15233  Homo sapiens                            paraspeckle   HGNC:7871   \n",
       "588  P23246  Homo sapiens                            paraspeckle  HGNC:10774   \n",
       "\n",
       "     length                                           sequence  \n",
       "0       345  MPARALLPRRMGHRTLASTPALWASIPCPRSELRLDLVLPSGQSFR...  \n",
       "1       620  MRRSEVLAEESIVCLQKALNHLREIWELIGIPEDQRLQRTEVVKKH...  \n",
       "2       262  MSRYLRPPNTSLFVRNVADDTRSEDLRREFGRYGPIVDVYVPLDFY...  \n",
       "3      3336  MEVEQEQRRRKVEAGRTKLAHFRQRKTKGDSSHSEKKTAKRKGSAV...  \n",
       "4       785  MSDQDHSMDEMTAVVKIEKGVGGNNGGNGNGGGAFSQARSSSTGSS...  \n",
       "..      ...                                                ...  \n",
       "584     338  MTTTLVSATIFDLSEVLCKGNKMLNYSAPSAGGCLLDRKAVGTPAG...  \n",
       "585     698  MQDDLLMDKSKTQPQPQQQQRQQQQPQPESSVSEAPSTPLSSETPK...  \n",
       "586     475  MSDFDEFERQLNENKQERDKENRHRKRSHSRSRSRDRKRRSRSRDR...  \n",
       "587     471  MQSNKTFNLEKQNHTPRKHHQHHHQQQHHQQQQQQPPPPPIPANGQ...  \n",
       "588     707  MSRDRFRSRGGGGGGFHRRGGGGGRGGLHDFRSPPPGMGLNQNRGP...  \n",
       "\n",
       "[589 rows x 6 columns]"
      ],
      "text/html": "<div>\n<style scoped>\n    .dataframe tbody tr th:only-of-type {\n        vertical-align: middle;\n    }\n\n    .dataframe tbody tr th {\n        vertical-align: top;\n    }\n\n    .dataframe thead th {\n        text-align: right;\n    }\n</style>\n<table border=\"1\" class=\"dataframe\">\n  <thead>\n    <tr style=\"text-align: right;\">\n      <th></th>\n      <th>uniprot</th>\n      <th>organism</th>\n      <th>mlo</th>\n      <th>hgnc_id</th>\n      <th>length</th>\n      <th>sequence</th>\n    </tr>\n  </thead>\n  <tbody>\n    <tr>\n      <th>0</th>\n      <td>O15527</td>\n      <td>Homo sapiens</td>\n      <td>nuclear speckle</td>\n      <td>HGNC:8125</td>\n      <td>345</td>\n      <td>MPARALLPRRMGHRTLASTPALWASIPCPRSELRLDLVLPSGQSFR...</td>\n    </tr>\n    <tr>\n      <th>1</th>\n      <td>O43663</td>\n      <td>Homo sapiens</td>\n      <td>pcg body</td>\n      <td>HGNC:9341</td>\n      <td>620</td>\n      <td>MRRSEVLAEESIVCLQKALNHLREIWELIGIPEDQRLQRTEVVKKH...</td>\n    </tr>\n    <tr>\n      <th>2</th>\n      <td>O75494</td>\n      <td>Homo sapiens</td>\n      <td>nuclear speckle</td>\n      <td>HGNC:16713</td>\n      <td>262</td>\n      <td>MSRYLRPPNTSLFVRNVADDTRSEDLRREFGRYGPIVDVYVPLDFY...</td>\n    </tr>\n    <tr>\n      <th>3</th>\n      <td>O95613</td>\n      <td>Homo sapiens</td>\n      <td>centrosome/spindle pole body</td>\n      <td>HGNC:16068</td>\n      <td>3336</td>\n      <td>MEVEQEQRRRKVEAGRTKLAHFRQRKTKGDSSHSEKKTAKRKGSAV...</td>\n    </tr>\n    <tr>\n      <th>4</th>\n      <td>P08047</td>\n      <td>Homo sapiens</td>\n      <td>centrosome/spindle pole body</td>\n      <td>HGNC:11205</td>\n      <td>785</td>\n      <td>MSDQDHSMDEMTAVVKIEKGVGGNNGGNGNGGGAFSQARSSSTGSS...</td>\n    </tr>\n    <tr>\n      <th>...</th>\n      <td>...</td>\n      <td>...</td>\n      <td>...</td>\n      <td>...</td>\n      <td>...</td>\n      <td>...</td>\n    </tr>\n    <tr>\n      <th>584</th>\n      <td>Q07352</td>\n      <td>Homo sapiens</td>\n      <td>cytoplasmic ribonucleoprotein granule</td>\n      <td>HGNC:1107</td>\n      <td>338</td>\n      <td>MTTTLVSATIFDLSEVLCKGNKMLNYSAPSAGGCLLDRKAVGTPAG...</td>\n    </tr>\n    <tr>\n      <th>585</th>\n      <td>Q8NE35</td>\n      <td>Homo sapiens</td>\n      <td>p-body</td>\n      <td>HGNC:21746</td>\n      <td>698</td>\n      <td>MQDDLLMDKSKTQPQPQQQQRQQQQPQPESSVSEAPSTPLSSETPK...</td>\n    </tr>\n    <tr>\n      <th>586</th>\n      <td>P26368</td>\n      <td>Homo sapiens</td>\n      <td>nuclear speckle</td>\n      <td>HGNC:23156</td>\n      <td>475</td>\n      <td>MSDFDEFERQLNENKQERDKENRHRKRSHSRSRSRDRKRRSRSRDR...</td>\n    </tr>\n    <tr>\n      <th>587</th>\n      <td>Q15233</td>\n      <td>Homo sapiens</td>\n      <td>paraspeckle</td>\n      <td>HGNC:7871</td>\n      <td>471</td>\n      <td>MQSNKTFNLEKQNHTPRKHHQHHHQQQHHQQQQQQPPPPPIPANGQ...</td>\n    </tr>\n    <tr>\n      <th>588</th>\n      <td>P23246</td>\n      <td>Homo sapiens</td>\n      <td>paraspeckle</td>\n      <td>HGNC:10774</td>\n      <td>707</td>\n      <td>MSRDRFRSRGGGGGGFHRRGGGGGRGGLHDFRSPPPGMGLNQNRGP...</td>\n    </tr>\n  </tbody>\n</table>\n<p>589 rows × 6 columns</p>\n</div>"
     },
     "metadata": {},
     "execution_count": 2
    }
   ]
  },
  {
   "source": [
    "## Dominios: PFAM, LC and IDR"
   ],
   "cell_type": "markdown",
   "metadata": {}
  },
  {
   "cell_type": "code",
   "execution_count": 97,
   "metadata": {},
   "outputs": [],
   "source": [
    "#Dominios PFAM\n",
    "pfam_box = pd.read_csv('pfam_box1.csv')\n",
    "pfam_box = pfam_box.rename(columns={'pfam_acc': 'pfam_id', 'domain':'pfam_domain','start':'pfam_start', 'end':'pfam_end'})\n",
    "#LC zones\n",
    "lc_box = pd.read_csv('lc_zones_box1.csv')\n",
    "lc_box = lc_box.rename(columns={'start': 'lc_start', 'end':'lc_end', 'seq':'lc_seq', 'largo':'lc_length'})\n",
    "#Regiones desordenadas\n",
    "idr_box = pd.read_csv('idrs_box1_mobidb.csv')\n",
    "idr_box = idr_box.rename(columns={'tipo':'idr_tipo', 'start':'idr_start', 'end':'idr_end'})\n"
   ]
  },
  {
   "source": [
    "## ClinVar database"
   ],
   "cell_type": "markdown",
   "metadata": {}
  },
  {
   "cell_type": "code",
   "execution_count": 3,
   "metadata": {},
   "outputs": [
    {
     "output_type": "stream",
     "name": "stderr",
     "text": [
      "C:\\Users\\User\\AppData\\Roaming\\Python\\Python39\\site-packages\\IPython\\core\\interactiveshell.py:3146: DtypeWarning: Columns (18) have mixed types.Specify dtype option on import or set low_memory=False.\n  has_raised = await self.run_ast_nodes(code_ast.body, cell_name,\n"
     ]
    },
    {
     "output_type": "execute_result",
     "data": {
      "text/plain": [
       "   alleleid                       type  \\\n",
       "1     15041                      Indel   \n",
       "3     15042                   Deletion   \n",
       "5     15043  single nucleotide variant   \n",
       "7     15044  single nucleotide variant   \n",
       "9     15045  single nucleotide variant   \n",
       "\n",
       "                                                name  geneid genesymbol  \\\n",
       "1  NM_014855.3(AP5Z1):c.80_83delinsTGCTGTAAACTGTA...    9907      AP5Z1   \n",
       "3     NM_014855.3(AP5Z1):c.1413_1426del (p.Leu473fs)    9907      AP5Z1   \n",
       "5       NM_014630.3(ZNF592):c.3136G>A (p.Gly1046Arg)    9640     ZNF592   \n",
       "7        NM_017547.4(FOXRED1):c.694C>T (p.Gln232Ter)   55572    FOXRED1   \n",
       "9       NM_017547.4(FOXRED1):c.1289A>G (p.Asn430Ser)   55572    FOXRED1   \n",
       "\n",
       "      hgnc_id    clinicalsignificance  clinsigsimple lastevaluated      snpid  \\\n",
       "1  HGNC:22197              Pathogenic              1  Jun 29, 2010  397704705   \n",
       "3  HGNC:22197              Pathogenic              1  Jun 29, 2010  397704709   \n",
       "5  HGNC:28986  Uncertain significance              0  Jun 29, 2015  150829393   \n",
       "7  HGNC:26927              Pathogenic              1  Dec 30, 2019  267606829   \n",
       "9  HGNC:26927              Pathogenic              1  Oct 01, 2010  267606830   \n",
       "\n",
       "   ...                                       reviewstatus numbersubmitters  \\\n",
       "1  ...                     no assertion criteria provided                1   \n",
       "3  ...                     no assertion criteria provided                1   \n",
       "5  ...                     no assertion criteria provided                1   \n",
       "7  ...  criteria provided, multiple submitters, no con...                3   \n",
       "9  ...                     no assertion criteria provided                1   \n",
       "\n",
       "  guidelines testedingtr                                           otherids  \\\n",
       "1          -           N                  ClinGen:CA215070,OMIM:613653.0001   \n",
       "3          -           N                  ClinGen:CA215072,OMIM:613653.0002   \n",
       "5          -           N  ClinGen:CA210674,UniProtKB:Q92610#VAR_064583,O...   \n",
       "7          -           N                  ClinGen:CA113792,OMIM:613622.0001   \n",
       "9          -           N  ClinGen:CA113794,UniProtKB:Q96CU9#VAR_064571,O...   \n",
       "\n",
       "  submittercategories variationid positionvcf referenceallelevcf  \\\n",
       "1                 1.0           2     4781213               GGAT   \n",
       "3                 1.0           3     4787729    GCTGCTGGACCTGCC   \n",
       "5                 1.0           4    84799209                  G   \n",
       "7                 3.0           5   126275389                  C   \n",
       "9                 1.0           6   126277517                  A   \n",
       "\n",
       "       alternateallelevcf  \n",
       "1  TGCTGTAAACTGTAACTGTAAA  \n",
       "3                       G  \n",
       "5                       A  \n",
       "7                       T  \n",
       "9                       G  \n",
       "\n",
       "[5 rows x 34 columns]"
      ],
      "text/html": "<div>\n<style scoped>\n    .dataframe tbody tr th:only-of-type {\n        vertical-align: middle;\n    }\n\n    .dataframe tbody tr th {\n        vertical-align: top;\n    }\n\n    .dataframe thead th {\n        text-align: right;\n    }\n</style>\n<table border=\"1\" class=\"dataframe\">\n  <thead>\n    <tr style=\"text-align: right;\">\n      <th></th>\n      <th>alleleid</th>\n      <th>type</th>\n      <th>name</th>\n      <th>geneid</th>\n      <th>genesymbol</th>\n      <th>hgnc_id</th>\n      <th>clinicalsignificance</th>\n      <th>clinsigsimple</th>\n      <th>lastevaluated</th>\n      <th>snpid</th>\n      <th>...</th>\n      <th>reviewstatus</th>\n      <th>numbersubmitters</th>\n      <th>guidelines</th>\n      <th>testedingtr</th>\n      <th>otherids</th>\n      <th>submittercategories</th>\n      <th>variationid</th>\n      <th>positionvcf</th>\n      <th>referenceallelevcf</th>\n      <th>alternateallelevcf</th>\n    </tr>\n  </thead>\n  <tbody>\n    <tr>\n      <th>1</th>\n      <td>15041</td>\n      <td>Indel</td>\n      <td>NM_014855.3(AP5Z1):c.80_83delinsTGCTGTAAACTGTA...</td>\n      <td>9907</td>\n      <td>AP5Z1</td>\n      <td>HGNC:22197</td>\n      <td>Pathogenic</td>\n      <td>1</td>\n      <td>Jun 29, 2010</td>\n      <td>397704705</td>\n      <td>...</td>\n      <td>no assertion criteria provided</td>\n      <td>1</td>\n      <td>-</td>\n      <td>N</td>\n      <td>ClinGen:CA215070,OMIM:613653.0001</td>\n      <td>1.0</td>\n      <td>2</td>\n      <td>4781213</td>\n      <td>GGAT</td>\n      <td>TGCTGTAAACTGTAACTGTAAA</td>\n    </tr>\n    <tr>\n      <th>3</th>\n      <td>15042</td>\n      <td>Deletion</td>\n      <td>NM_014855.3(AP5Z1):c.1413_1426del (p.Leu473fs)</td>\n      <td>9907</td>\n      <td>AP5Z1</td>\n      <td>HGNC:22197</td>\n      <td>Pathogenic</td>\n      <td>1</td>\n      <td>Jun 29, 2010</td>\n      <td>397704709</td>\n      <td>...</td>\n      <td>no assertion criteria provided</td>\n      <td>1</td>\n      <td>-</td>\n      <td>N</td>\n      <td>ClinGen:CA215072,OMIM:613653.0002</td>\n      <td>1.0</td>\n      <td>3</td>\n      <td>4787729</td>\n      <td>GCTGCTGGACCTGCC</td>\n      <td>G</td>\n    </tr>\n    <tr>\n      <th>5</th>\n      <td>15043</td>\n      <td>single nucleotide variant</td>\n      <td>NM_014630.3(ZNF592):c.3136G&gt;A (p.Gly1046Arg)</td>\n      <td>9640</td>\n      <td>ZNF592</td>\n      <td>HGNC:28986</td>\n      <td>Uncertain significance</td>\n      <td>0</td>\n      <td>Jun 29, 2015</td>\n      <td>150829393</td>\n      <td>...</td>\n      <td>no assertion criteria provided</td>\n      <td>1</td>\n      <td>-</td>\n      <td>N</td>\n      <td>ClinGen:CA210674,UniProtKB:Q92610#VAR_064583,O...</td>\n      <td>1.0</td>\n      <td>4</td>\n      <td>84799209</td>\n      <td>G</td>\n      <td>A</td>\n    </tr>\n    <tr>\n      <th>7</th>\n      <td>15044</td>\n      <td>single nucleotide variant</td>\n      <td>NM_017547.4(FOXRED1):c.694C&gt;T (p.Gln232Ter)</td>\n      <td>55572</td>\n      <td>FOXRED1</td>\n      <td>HGNC:26927</td>\n      <td>Pathogenic</td>\n      <td>1</td>\n      <td>Dec 30, 2019</td>\n      <td>267606829</td>\n      <td>...</td>\n      <td>criteria provided, multiple submitters, no con...</td>\n      <td>3</td>\n      <td>-</td>\n      <td>N</td>\n      <td>ClinGen:CA113792,OMIM:613622.0001</td>\n      <td>3.0</td>\n      <td>5</td>\n      <td>126275389</td>\n      <td>C</td>\n      <td>T</td>\n    </tr>\n    <tr>\n      <th>9</th>\n      <td>15045</td>\n      <td>single nucleotide variant</td>\n      <td>NM_017547.4(FOXRED1):c.1289A&gt;G (p.Asn430Ser)</td>\n      <td>55572</td>\n      <td>FOXRED1</td>\n      <td>HGNC:26927</td>\n      <td>Pathogenic</td>\n      <td>1</td>\n      <td>Oct 01, 2010</td>\n      <td>267606830</td>\n      <td>...</td>\n      <td>no assertion criteria provided</td>\n      <td>1</td>\n      <td>-</td>\n      <td>N</td>\n      <td>ClinGen:CA113794,UniProtKB:Q96CU9#VAR_064571,O...</td>\n      <td>1.0</td>\n      <td>6</td>\n      <td>126277517</td>\n      <td>A</td>\n      <td>G</td>\n    </tr>\n  </tbody>\n</table>\n<p>5 rows × 34 columns</p>\n</div>"
     },
     "metadata": {},
     "execution_count": 3
    }
   ],
   "source": [
    "#A tab-delimited report based on each variant at a location on the genome for which data have been submitted to ClinVar\n",
    "\n",
    "clinvar = pd.read_csv('variant_summary.txt', sep= '\\t')\n",
    "clinvar.columns = clinvar.columns.str.lower().str.replace(' ',\"_\").str.replace(\"-\",'_').str.replace('/','_')\n",
    "clinvar = clinvar.rename(columns={'#alleleid' : 'alleleid', 'rs#_(dbsnp)': 'snpid', 'origin':'allelic_origins', 'originsimple':'origin'})\n",
    "\n",
    "#me quedo solo con las entradas del GRCh38\n",
    "clinvar = clinvar[clinvar.assembly == 'GRCh38']\n",
    "clinvar.head()"
   ]
  },
  {
   "cell_type": "code",
   "execution_count": 100,
   "metadata": {},
   "outputs": [
    {
     "output_type": "execute_result",
     "data": {
      "text/plain": [
       "Index(['alleleid', 'type', 'name', 'geneid', 'genesymbol', 'hgnc_id',\n",
       "       'clinicalsignificance', 'clinsigsimple', 'lastevaluated', 'snpid',\n",
       "       'nsv_esv_(dbvar)', 'rcvaccession', 'phenotypeids', 'phenotypelist',\n",
       "       'allelic_origins', 'origin', 'assembly', 'chromosomeaccession',\n",
       "       'chromosome', 'start', 'stop', 'referenceallele', 'alternateallele',\n",
       "       'cytogenetic', 'reviewstatus', 'numbersubmitters', 'guidelines',\n",
       "       'testedingtr', 'otherids', 'submittercategories', 'variationid',\n",
       "       'positionvcf', 'referenceallelevcf', 'alternateallelevcf'],\n",
       "      dtype='object')"
      ]
     },
     "metadata": {},
     "execution_count": 100
    }
   ],
   "source": [
    "clinvar.columns"
   ]
  },
  {
   "cell_type": "code",
   "execution_count": 101,
   "metadata": {},
   "outputs": [
    {
     "output_type": "execute_result",
     "data": {
      "text/plain": [
       "        allelic_origins          origin  \\\n",
       "1              germline        germline   \n",
       "3              germline        germline   \n",
       "5              germline        germline   \n",
       "7              germline        germline   \n",
       "9              germline        germline   \n",
       "...                 ...             ...   \n",
       "1646115       inherited        germline   \n",
       "1646117       inherited        germline   \n",
       "1646119         de novo        germline   \n",
       "1646124        germline        germline   \n",
       "1646126  not applicable  not applicable   \n",
       "\n",
       "                                              phenotypeids  \\\n",
       "1        MONDO:MONDO:0013342,MedGen:C3150901,OMIM:61364...   \n",
       "3        MONDO:MONDO:0013342,MedGen:C3150901,OMIM:61364...   \n",
       "5        MONDO:MONDO:0033005,MedGen:C4551772,OMIM:25130...   \n",
       "7        MONDO:MONDO:0032624,MedGen:C4748791,OMIM:61824...   \n",
       "9          MONDO:MONDO:0032624,MedGen:C4748791,OMIM:618241   \n",
       "...                                                    ...   \n",
       "1646115  MONDO:MONDO:0020716,MedGen:C1848805,OMIM:27440...   \n",
       "1646117  MONDO:MONDO:0020716,MedGen:C1848805,OMIM:27440...   \n",
       "1646119  Human Phenotype Ontology:HP:0000730,Human Phen...   \n",
       "1646124                                    MedGen:CN517202   \n",
       "1646126                                                  -   \n",
       "\n",
       "                                             phenotypelist  \\\n",
       "1               Spastic paraplegia 48, autosomal recessive   \n",
       "3               Spastic paraplegia 48, autosomal recessive   \n",
       "5                                Galloway-Mowat syndrome 1   \n",
       "7        Mitochondrial complex 1 deficiency, nuclear ty...   \n",
       "9        Mitochondrial complex 1 deficiency, nuclear ty...   \n",
       "...                                                    ...   \n",
       "1646115                        Thyroid dyshormonogenesis 1   \n",
       "1646117                        Thyroid dyshormonogenesis 1   \n",
       "1646119                            Intellectual disability   \n",
       "1646124                                       not provided   \n",
       "1646126                                                  -   \n",
       "\n",
       "                                                  otherids  variationid  \n",
       "1                        ClinGen:CA215070,OMIM:613653.0001            2  \n",
       "3                        ClinGen:CA215072,OMIM:613653.0002            3  \n",
       "5        ClinGen:CA210674,UniProtKB:Q92610#VAR_064583,O...            4  \n",
       "7                        ClinGen:CA113792,OMIM:613622.0001            5  \n",
       "9        ClinGen:CA113794,UniProtKB:Q96CU9#VAR_064571,O...            6  \n",
       "...                                                    ...          ...  \n",
       "1646115                                                  -       983276  \n",
       "1646117                                                  -       983277  \n",
       "1646119                                                  -       983278  \n",
       "1646124                                                  -       983282  \n",
       "1646126                                     ClinVar:983284       983283  \n",
       "\n",
       "[797054 rows x 6 columns]"
      ],
      "text/html": "<div>\n<style scoped>\n    .dataframe tbody tr th:only-of-type {\n        vertical-align: middle;\n    }\n\n    .dataframe tbody tr th {\n        vertical-align: top;\n    }\n\n    .dataframe thead th {\n        text-align: right;\n    }\n</style>\n<table border=\"1\" class=\"dataframe\">\n  <thead>\n    <tr style=\"text-align: right;\">\n      <th></th>\n      <th>allelic_origins</th>\n      <th>origin</th>\n      <th>phenotypeids</th>\n      <th>phenotypelist</th>\n      <th>otherids</th>\n      <th>variationid</th>\n    </tr>\n  </thead>\n  <tbody>\n    <tr>\n      <th>1</th>\n      <td>germline</td>\n      <td>germline</td>\n      <td>MONDO:MONDO:0013342,MedGen:C3150901,OMIM:61364...</td>\n      <td>Spastic paraplegia 48, autosomal recessive</td>\n      <td>ClinGen:CA215070,OMIM:613653.0001</td>\n      <td>2</td>\n    </tr>\n    <tr>\n      <th>3</th>\n      <td>germline</td>\n      <td>germline</td>\n      <td>MONDO:MONDO:0013342,MedGen:C3150901,OMIM:61364...</td>\n      <td>Spastic paraplegia 48, autosomal recessive</td>\n      <td>ClinGen:CA215072,OMIM:613653.0002</td>\n      <td>3</td>\n    </tr>\n    <tr>\n      <th>5</th>\n      <td>germline</td>\n      <td>germline</td>\n      <td>MONDO:MONDO:0033005,MedGen:C4551772,OMIM:25130...</td>\n      <td>Galloway-Mowat syndrome 1</td>\n      <td>ClinGen:CA210674,UniProtKB:Q92610#VAR_064583,O...</td>\n      <td>4</td>\n    </tr>\n    <tr>\n      <th>7</th>\n      <td>germline</td>\n      <td>germline</td>\n      <td>MONDO:MONDO:0032624,MedGen:C4748791,OMIM:61824...</td>\n      <td>Mitochondrial complex 1 deficiency, nuclear ty...</td>\n      <td>ClinGen:CA113792,OMIM:613622.0001</td>\n      <td>5</td>\n    </tr>\n    <tr>\n      <th>9</th>\n      <td>germline</td>\n      <td>germline</td>\n      <td>MONDO:MONDO:0032624,MedGen:C4748791,OMIM:618241</td>\n      <td>Mitochondrial complex 1 deficiency, nuclear ty...</td>\n      <td>ClinGen:CA113794,UniProtKB:Q96CU9#VAR_064571,O...</td>\n      <td>6</td>\n    </tr>\n    <tr>\n      <th>...</th>\n      <td>...</td>\n      <td>...</td>\n      <td>...</td>\n      <td>...</td>\n      <td>...</td>\n      <td>...</td>\n    </tr>\n    <tr>\n      <th>1646115</th>\n      <td>inherited</td>\n      <td>germline</td>\n      <td>MONDO:MONDO:0020716,MedGen:C1848805,OMIM:27440...</td>\n      <td>Thyroid dyshormonogenesis 1</td>\n      <td>-</td>\n      <td>983276</td>\n    </tr>\n    <tr>\n      <th>1646117</th>\n      <td>inherited</td>\n      <td>germline</td>\n      <td>MONDO:MONDO:0020716,MedGen:C1848805,OMIM:27440...</td>\n      <td>Thyroid dyshormonogenesis 1</td>\n      <td>-</td>\n      <td>983277</td>\n    </tr>\n    <tr>\n      <th>1646119</th>\n      <td>de novo</td>\n      <td>germline</td>\n      <td>Human Phenotype Ontology:HP:0000730,Human Phen...</td>\n      <td>Intellectual disability</td>\n      <td>-</td>\n      <td>983278</td>\n    </tr>\n    <tr>\n      <th>1646124</th>\n      <td>germline</td>\n      <td>germline</td>\n      <td>MedGen:CN517202</td>\n      <td>not provided</td>\n      <td>-</td>\n      <td>983282</td>\n    </tr>\n    <tr>\n      <th>1646126</th>\n      <td>not applicable</td>\n      <td>not applicable</td>\n      <td>-</td>\n      <td>-</td>\n      <td>ClinVar:983284</td>\n      <td>983283</td>\n    </tr>\n  </tbody>\n</table>\n<p>797054 rows × 6 columns</p>\n</div>"
     },
     "metadata": {},
     "execution_count": 101
    }
   ],
   "source": [
    "clinvar[['allelic_origins', 'origin', 'phenotypeids', 'phenotypelist','otherids','variationid']]"
   ]
  },
  {
   "cell_type": "code",
   "execution_count": 102,
   "metadata": {},
   "outputs": [
    {
     "output_type": "execute_result",
     "data": {
      "text/plain": [
       "         alleleid                       type  \\\n",
       "13          15047                   Deletion   \n",
       "47          15064                      Indel   \n",
       "61          15071  single nucleotide variant   \n",
       "337         15213                   Deletion   \n",
       "406         15248                   Deletion   \n",
       "...           ...                        ...   \n",
       "1646115    971345                   Deletion   \n",
       "1646117    971346  single nucleotide variant   \n",
       "1646119    971347  single nucleotide variant   \n",
       "1646124    971351  single nucleotide variant   \n",
       "1646126    971352                   Deletion   \n",
       "\n",
       "                                                      name  geneid genesymbol  \\\n",
       "13       NC_000014.9:g.(31394019_31414809)_(31654321_31...   80224      NUBPL   \n",
       "47            NM_015600.4(ABHD12):c.-6898_191+7002delinsCC   26090     ABHD12   \n",
       "61                           NM_138413.4(HOGA1):c.700+4G>T  112817      HOGA1   \n",
       "337      NC_000010.11:g.(124404664_124404669)_(12440473...    4942        OAT   \n",
       "406      NM_000285.3(PEPD):c.1153_1344del (p.Gly385_Gly...    5184       PEPD   \n",
       "...                                                    ...     ...        ...   \n",
       "1646115           NM_000453.3(SLC5A5):c.152del (p.Gly51fs)    6528     SLC5A5   \n",
       "1646117        NM_000453.3(SLC5A5):c.1261G>A (p.Gly421Arg)    6528     SLC5A5   \n",
       "1646119       NM_020699.4(GATAD2B):c.1417C>T (p.Gln473Ter)   57459    GATAD2B   \n",
       "1646124                           NM_000051.4(ATM):c.*8T>G     472        ATM   \n",
       "1646126          NM_018418.5(SPATA7):c.657del (p.Ala220fs)   55812     SPATA7   \n",
       "\n",
       "            hgnc_id                      clinicalsignificance  clinsigsimple  \\\n",
       "13       HGNC:20278                                Pathogenic              1   \n",
       "47       HGNC:15868                                Pathogenic              1   \n",
       "61       HGNC:25155                                Pathogenic              1   \n",
       "337       HGNC:8091                                Pathogenic              1   \n",
       "406       HGNC:8840                                Pathogenic              1   \n",
       "...             ...                                       ...            ...   \n",
       "1646115  HGNC:11040                                Pathogenic              1   \n",
       "1646117  HGNC:11040                                Pathogenic              1   \n",
       "1646119  HGNC:30778                                Pathogenic              1   \n",
       "1646124    HGNC:795                             Likely benign              0   \n",
       "1646126  HGNC:20423  no interpretation for the single variant             -1   \n",
       "\n",
       "        lastevaluated  snpid  ...                              reviewstatus  \\\n",
       "13       Feb 01, 2012     -1  ...            no assertion criteria provided   \n",
       "47       Sep 10, 2010     -1  ...            no assertion criteria provided   \n",
       "61       Sep 10, 2010     -1  ...            no assertion criteria provided   \n",
       "337      Jun 25, 1992     -1  ...            no assertion criteria provided   \n",
       "406      Apr 01, 1991     -1  ...            no assertion criteria provided   \n",
       "...               ...    ...  ...                                       ...   \n",
       "1646115  May 12, 2020     -1  ...            no assertion criteria provided   \n",
       "1646117  May 12, 2020     -1  ...            no assertion criteria provided   \n",
       "1646119  Oct 30, 2020     -1  ...       criteria provided, single submitter   \n",
       "1646124  Jul 07, 2017     -1  ...       criteria provided, single submitter   \n",
       "1646126             -     -1  ...  no interpretation for the single variant   \n",
       "\n",
       "        numbersubmitters guidelines testedingtr  \\\n",
       "13                     1          -           N   \n",
       "47                     1          -           N   \n",
       "61                     1          -           N   \n",
       "337                    1          -           N   \n",
       "406                    1          -           N   \n",
       "...                  ...        ...         ...   \n",
       "1646115                1          -           N   \n",
       "1646117                1          -           N   \n",
       "1646119                1          -           N   \n",
       "1646124                1          -           N   \n",
       "1646126                0          -           N   \n",
       "\n",
       "                                     otherids submittercategories variationid  \\\n",
       "13         dbVar:nssv7487142,OMIM:613621.0002                 1.0           8   \n",
       "47         dbVar:nssv3761628,OMIM:613599.0002                 1.0          25   \n",
       "61       LOVD 3:HOGA1_000005,OMIM:613597.0004                 1.0          32   \n",
       "337        dbVar:nssv7487163,OMIM:613349.0031                 1.0         174   \n",
       "406        dbVar:nssv7487199,OMIM:613230.0002                 1.0         209   \n",
       "...                                       ...                 ...         ...   \n",
       "1646115                                     -                 2.0      983276   \n",
       "1646117                                     -                 2.0      983277   \n",
       "1646119                                     -                 2.0      983278   \n",
       "1646124                                     -                 2.0      983282   \n",
       "1646126                        ClinVar:983284                 4.0      983283   \n",
       "\n",
       "        positionvcf referenceallelevcf  alternateallelevcf  \n",
       "13               -1                 na                  na  \n",
       "47               -1                 na                  na  \n",
       "61         97600167                  G                   T  \n",
       "337              -1                 na                  na  \n",
       "406              -1                 na                  na  \n",
       "...             ...                ...                 ...  \n",
       "1646115    17872466                 CG                   C  \n",
       "1646117    17883699                  G                   A  \n",
       "1646119   153813252                  G                   A  \n",
       "1646124   108365516                  T                   G  \n",
       "1646126    88426513                 GA                   G  \n",
       "\n",
       "[166219 rows x 34 columns]"
      ],
      "text/html": "<div>\n<style scoped>\n    .dataframe tbody tr th:only-of-type {\n        vertical-align: middle;\n    }\n\n    .dataframe tbody tr th {\n        vertical-align: top;\n    }\n\n    .dataframe thead th {\n        text-align: right;\n    }\n</style>\n<table border=\"1\" class=\"dataframe\">\n  <thead>\n    <tr style=\"text-align: right;\">\n      <th></th>\n      <th>alleleid</th>\n      <th>type</th>\n      <th>name</th>\n      <th>geneid</th>\n      <th>genesymbol</th>\n      <th>hgnc_id</th>\n      <th>clinicalsignificance</th>\n      <th>clinsigsimple</th>\n      <th>lastevaluated</th>\n      <th>snpid</th>\n      <th>...</th>\n      <th>reviewstatus</th>\n      <th>numbersubmitters</th>\n      <th>guidelines</th>\n      <th>testedingtr</th>\n      <th>otherids</th>\n      <th>submittercategories</th>\n      <th>variationid</th>\n      <th>positionvcf</th>\n      <th>referenceallelevcf</th>\n      <th>alternateallelevcf</th>\n    </tr>\n  </thead>\n  <tbody>\n    <tr>\n      <th>13</th>\n      <td>15047</td>\n      <td>Deletion</td>\n      <td>NC_000014.9:g.(31394019_31414809)_(31654321_31...</td>\n      <td>80224</td>\n      <td>NUBPL</td>\n      <td>HGNC:20278</td>\n      <td>Pathogenic</td>\n      <td>1</td>\n      <td>Feb 01, 2012</td>\n      <td>-1</td>\n      <td>...</td>\n      <td>no assertion criteria provided</td>\n      <td>1</td>\n      <td>-</td>\n      <td>N</td>\n      <td>dbVar:nssv7487142,OMIM:613621.0002</td>\n      <td>1.0</td>\n      <td>8</td>\n      <td>-1</td>\n      <td>na</td>\n      <td>na</td>\n    </tr>\n    <tr>\n      <th>47</th>\n      <td>15064</td>\n      <td>Indel</td>\n      <td>NM_015600.4(ABHD12):c.-6898_191+7002delinsCC</td>\n      <td>26090</td>\n      <td>ABHD12</td>\n      <td>HGNC:15868</td>\n      <td>Pathogenic</td>\n      <td>1</td>\n      <td>Sep 10, 2010</td>\n      <td>-1</td>\n      <td>...</td>\n      <td>no assertion criteria provided</td>\n      <td>1</td>\n      <td>-</td>\n      <td>N</td>\n      <td>dbVar:nssv3761628,OMIM:613599.0002</td>\n      <td>1.0</td>\n      <td>25</td>\n      <td>-1</td>\n      <td>na</td>\n      <td>na</td>\n    </tr>\n    <tr>\n      <th>61</th>\n      <td>15071</td>\n      <td>single nucleotide variant</td>\n      <td>NM_138413.4(HOGA1):c.700+4G&gt;T</td>\n      <td>112817</td>\n      <td>HOGA1</td>\n      <td>HGNC:25155</td>\n      <td>Pathogenic</td>\n      <td>1</td>\n      <td>Sep 10, 2010</td>\n      <td>-1</td>\n      <td>...</td>\n      <td>no assertion criteria provided</td>\n      <td>1</td>\n      <td>-</td>\n      <td>N</td>\n      <td>LOVD 3:HOGA1_000005,OMIM:613597.0004</td>\n      <td>1.0</td>\n      <td>32</td>\n      <td>97600167</td>\n      <td>G</td>\n      <td>T</td>\n    </tr>\n    <tr>\n      <th>337</th>\n      <td>15213</td>\n      <td>Deletion</td>\n      <td>NC_000010.11:g.(124404664_124404669)_(12440473...</td>\n      <td>4942</td>\n      <td>OAT</td>\n      <td>HGNC:8091</td>\n      <td>Pathogenic</td>\n      <td>1</td>\n      <td>Jun 25, 1992</td>\n      <td>-1</td>\n      <td>...</td>\n      <td>no assertion criteria provided</td>\n      <td>1</td>\n      <td>-</td>\n      <td>N</td>\n      <td>dbVar:nssv7487163,OMIM:613349.0031</td>\n      <td>1.0</td>\n      <td>174</td>\n      <td>-1</td>\n      <td>na</td>\n      <td>na</td>\n    </tr>\n    <tr>\n      <th>406</th>\n      <td>15248</td>\n      <td>Deletion</td>\n      <td>NM_000285.3(PEPD):c.1153_1344del (p.Gly385_Gly...</td>\n      <td>5184</td>\n      <td>PEPD</td>\n      <td>HGNC:8840</td>\n      <td>Pathogenic</td>\n      <td>1</td>\n      <td>Apr 01, 1991</td>\n      <td>-1</td>\n      <td>...</td>\n      <td>no assertion criteria provided</td>\n      <td>1</td>\n      <td>-</td>\n      <td>N</td>\n      <td>dbVar:nssv7487199,OMIM:613230.0002</td>\n      <td>1.0</td>\n      <td>209</td>\n      <td>-1</td>\n      <td>na</td>\n      <td>na</td>\n    </tr>\n    <tr>\n      <th>...</th>\n      <td>...</td>\n      <td>...</td>\n      <td>...</td>\n      <td>...</td>\n      <td>...</td>\n      <td>...</td>\n      <td>...</td>\n      <td>...</td>\n      <td>...</td>\n      <td>...</td>\n      <td>...</td>\n      <td>...</td>\n      <td>...</td>\n      <td>...</td>\n      <td>...</td>\n      <td>...</td>\n      <td>...</td>\n      <td>...</td>\n      <td>...</td>\n      <td>...</td>\n      <td>...</td>\n    </tr>\n    <tr>\n      <th>1646115</th>\n      <td>971345</td>\n      <td>Deletion</td>\n      <td>NM_000453.3(SLC5A5):c.152del (p.Gly51fs)</td>\n      <td>6528</td>\n      <td>SLC5A5</td>\n      <td>HGNC:11040</td>\n      <td>Pathogenic</td>\n      <td>1</td>\n      <td>May 12, 2020</td>\n      <td>-1</td>\n      <td>...</td>\n      <td>no assertion criteria provided</td>\n      <td>1</td>\n      <td>-</td>\n      <td>N</td>\n      <td>-</td>\n      <td>2.0</td>\n      <td>983276</td>\n      <td>17872466</td>\n      <td>CG</td>\n      <td>C</td>\n    </tr>\n    <tr>\n      <th>1646117</th>\n      <td>971346</td>\n      <td>single nucleotide variant</td>\n      <td>NM_000453.3(SLC5A5):c.1261G&gt;A (p.Gly421Arg)</td>\n      <td>6528</td>\n      <td>SLC5A5</td>\n      <td>HGNC:11040</td>\n      <td>Pathogenic</td>\n      <td>1</td>\n      <td>May 12, 2020</td>\n      <td>-1</td>\n      <td>...</td>\n      <td>no assertion criteria provided</td>\n      <td>1</td>\n      <td>-</td>\n      <td>N</td>\n      <td>-</td>\n      <td>2.0</td>\n      <td>983277</td>\n      <td>17883699</td>\n      <td>G</td>\n      <td>A</td>\n    </tr>\n    <tr>\n      <th>1646119</th>\n      <td>971347</td>\n      <td>single nucleotide variant</td>\n      <td>NM_020699.4(GATAD2B):c.1417C&gt;T (p.Gln473Ter)</td>\n      <td>57459</td>\n      <td>GATAD2B</td>\n      <td>HGNC:30778</td>\n      <td>Pathogenic</td>\n      <td>1</td>\n      <td>Oct 30, 2020</td>\n      <td>-1</td>\n      <td>...</td>\n      <td>criteria provided, single submitter</td>\n      <td>1</td>\n      <td>-</td>\n      <td>N</td>\n      <td>-</td>\n      <td>2.0</td>\n      <td>983278</td>\n      <td>153813252</td>\n      <td>G</td>\n      <td>A</td>\n    </tr>\n    <tr>\n      <th>1646124</th>\n      <td>971351</td>\n      <td>single nucleotide variant</td>\n      <td>NM_000051.4(ATM):c.*8T&gt;G</td>\n      <td>472</td>\n      <td>ATM</td>\n      <td>HGNC:795</td>\n      <td>Likely benign</td>\n      <td>0</td>\n      <td>Jul 07, 2017</td>\n      <td>-1</td>\n      <td>...</td>\n      <td>criteria provided, single submitter</td>\n      <td>1</td>\n      <td>-</td>\n      <td>N</td>\n      <td>-</td>\n      <td>2.0</td>\n      <td>983282</td>\n      <td>108365516</td>\n      <td>T</td>\n      <td>G</td>\n    </tr>\n    <tr>\n      <th>1646126</th>\n      <td>971352</td>\n      <td>Deletion</td>\n      <td>NM_018418.5(SPATA7):c.657del (p.Ala220fs)</td>\n      <td>55812</td>\n      <td>SPATA7</td>\n      <td>HGNC:20423</td>\n      <td>no interpretation for the single variant</td>\n      <td>-1</td>\n      <td>-</td>\n      <td>-1</td>\n      <td>...</td>\n      <td>no interpretation for the single variant</td>\n      <td>0</td>\n      <td>-</td>\n      <td>N</td>\n      <td>ClinVar:983284</td>\n      <td>4.0</td>\n      <td>983283</td>\n      <td>88426513</td>\n      <td>GA</td>\n      <td>G</td>\n    </tr>\n  </tbody>\n</table>\n<p>166219 rows × 34 columns</p>\n</div>"
     },
     "metadata": {},
     "execution_count": 102
    }
   ],
   "source": [
    "#snpid reported as -1 if missing\n",
    "clinvar[clinvar.snpid == -1]"
   ]
  },
  {
   "cell_type": "code",
   "execution_count": 4,
   "metadata": {},
   "outputs": [
    {
     "output_type": "execute_result",
     "data": {
      "text/plain": [
       "   geneid genesymbol     hgnc_id      snpid  alleleid  \\\n",
       "1    9907      AP5Z1  HGNC:22197  397704705     15041   \n",
       "3    9907      AP5Z1  HGNC:22197  397704709     15042   \n",
       "5    9640     ZNF592  HGNC:28986  150829393     15043   \n",
       "7   55572    FOXRED1  HGNC:26927  267606829     15044   \n",
       "9   55572    FOXRED1  HGNC:26927  267606830     15045   \n",
       "\n",
       "                        type  \\\n",
       "1                      Indel   \n",
       "3                   Deletion   \n",
       "5  single nucleotide variant   \n",
       "7  single nucleotide variant   \n",
       "9  single nucleotide variant   \n",
       "\n",
       "                                                name    origin  \\\n",
       "1  NM_014855.3(AP5Z1):c.80_83delinsTGCTGTAAACTGTA...  germline   \n",
       "3     NM_014855.3(AP5Z1):c.1413_1426del (p.Leu473fs)  germline   \n",
       "5       NM_014630.3(ZNF592):c.3136G>A (p.Gly1046Arg)  germline   \n",
       "7        NM_017547.4(FOXRED1):c.694C>T (p.Gln232Ter)  germline   \n",
       "9       NM_017547.4(FOXRED1):c.1289A>G (p.Asn430Ser)  germline   \n",
       "\n",
       "                                        phenotypeids  \\\n",
       "1  MONDO:MONDO:0013342,MedGen:C3150901,OMIM:61364...   \n",
       "3  MONDO:MONDO:0013342,MedGen:C3150901,OMIM:61364...   \n",
       "5  MONDO:MONDO:0033005,MedGen:C4551772,OMIM:25130...   \n",
       "7  MONDO:MONDO:0032624,MedGen:C4748791,OMIM:61824...   \n",
       "9    MONDO:MONDO:0032624,MedGen:C4748791,OMIM:618241   \n",
       "\n",
       "                                       phenotypelist  \\\n",
       "1         Spastic paraplegia 48, autosomal recessive   \n",
       "3         Spastic paraplegia 48, autosomal recessive   \n",
       "5                          Galloway-Mowat syndrome 1   \n",
       "7  Mitochondrial complex 1 deficiency, nuclear ty...   \n",
       "9  Mitochondrial complex 1 deficiency, nuclear ty...   \n",
       "\n",
       "                                            otherids  \n",
       "1                  ClinGen:CA215070,OMIM:613653.0001  \n",
       "3                  ClinGen:CA215072,OMIM:613653.0002  \n",
       "5  ClinGen:CA210674,UniProtKB:Q92610#VAR_064583,O...  \n",
       "7                  ClinGen:CA113792,OMIM:613622.0001  \n",
       "9  ClinGen:CA113794,UniProtKB:Q96CU9#VAR_064571,O...  "
      ],
      "text/html": "<div>\n<style scoped>\n    .dataframe tbody tr th:only-of-type {\n        vertical-align: middle;\n    }\n\n    .dataframe tbody tr th {\n        vertical-align: top;\n    }\n\n    .dataframe thead th {\n        text-align: right;\n    }\n</style>\n<table border=\"1\" class=\"dataframe\">\n  <thead>\n    <tr style=\"text-align: right;\">\n      <th></th>\n      <th>geneid</th>\n      <th>genesymbol</th>\n      <th>hgnc_id</th>\n      <th>snpid</th>\n      <th>alleleid</th>\n      <th>type</th>\n      <th>name</th>\n      <th>origin</th>\n      <th>phenotypeids</th>\n      <th>phenotypelist</th>\n      <th>otherids</th>\n    </tr>\n  </thead>\n  <tbody>\n    <tr>\n      <th>1</th>\n      <td>9907</td>\n      <td>AP5Z1</td>\n      <td>HGNC:22197</td>\n      <td>397704705</td>\n      <td>15041</td>\n      <td>Indel</td>\n      <td>NM_014855.3(AP5Z1):c.80_83delinsTGCTGTAAACTGTA...</td>\n      <td>germline</td>\n      <td>MONDO:MONDO:0013342,MedGen:C3150901,OMIM:61364...</td>\n      <td>Spastic paraplegia 48, autosomal recessive</td>\n      <td>ClinGen:CA215070,OMIM:613653.0001</td>\n    </tr>\n    <tr>\n      <th>3</th>\n      <td>9907</td>\n      <td>AP5Z1</td>\n      <td>HGNC:22197</td>\n      <td>397704709</td>\n      <td>15042</td>\n      <td>Deletion</td>\n      <td>NM_014855.3(AP5Z1):c.1413_1426del (p.Leu473fs)</td>\n      <td>germline</td>\n      <td>MONDO:MONDO:0013342,MedGen:C3150901,OMIM:61364...</td>\n      <td>Spastic paraplegia 48, autosomal recessive</td>\n      <td>ClinGen:CA215072,OMIM:613653.0002</td>\n    </tr>\n    <tr>\n      <th>5</th>\n      <td>9640</td>\n      <td>ZNF592</td>\n      <td>HGNC:28986</td>\n      <td>150829393</td>\n      <td>15043</td>\n      <td>single nucleotide variant</td>\n      <td>NM_014630.3(ZNF592):c.3136G&gt;A (p.Gly1046Arg)</td>\n      <td>germline</td>\n      <td>MONDO:MONDO:0033005,MedGen:C4551772,OMIM:25130...</td>\n      <td>Galloway-Mowat syndrome 1</td>\n      <td>ClinGen:CA210674,UniProtKB:Q92610#VAR_064583,O...</td>\n    </tr>\n    <tr>\n      <th>7</th>\n      <td>55572</td>\n      <td>FOXRED1</td>\n      <td>HGNC:26927</td>\n      <td>267606829</td>\n      <td>15044</td>\n      <td>single nucleotide variant</td>\n      <td>NM_017547.4(FOXRED1):c.694C&gt;T (p.Gln232Ter)</td>\n      <td>germline</td>\n      <td>MONDO:MONDO:0032624,MedGen:C4748791,OMIM:61824...</td>\n      <td>Mitochondrial complex 1 deficiency, nuclear ty...</td>\n      <td>ClinGen:CA113792,OMIM:613622.0001</td>\n    </tr>\n    <tr>\n      <th>9</th>\n      <td>55572</td>\n      <td>FOXRED1</td>\n      <td>HGNC:26927</td>\n      <td>267606830</td>\n      <td>15045</td>\n      <td>single nucleotide variant</td>\n      <td>NM_017547.4(FOXRED1):c.1289A&gt;G (p.Asn430Ser)</td>\n      <td>germline</td>\n      <td>MONDO:MONDO:0032624,MedGen:C4748791,OMIM:618241</td>\n      <td>Mitochondrial complex 1 deficiency, nuclear ty...</td>\n      <td>ClinGen:CA113794,UniProtKB:Q96CU9#VAR_064571,O...</td>\n    </tr>\n  </tbody>\n</table>\n</div>"
     },
     "metadata": {},
     "execution_count": 4
    }
   ],
   "source": [
    "#Subset del df de ClinVar: vs\n",
    "vs = clinvar[['geneid', 'genesymbol', 'hgnc_id', 'snpid', 'alleleid', 'type', 'name', 'origin', 'phenotypeids', 'phenotypelist', 'otherids']]\n",
    "vs.head()"
   ]
  },
  {
   "cell_type": "code",
   "execution_count": 5,
   "metadata": {},
   "outputs": [
    {
     "output_type": "stream",
     "name": "stderr",
     "text": [
      "<ipython-input-5-2bd90a103c6b>:4: SettingWithCopyWarning: \n",
      "A value is trying to be set on a copy of a slice from a DataFrame.\n",
      "Try using .loc[row_indexer,col_indexer] = value instead\n",
      "\n",
      "See the caveats in the documentation: https://pandas.pydata.org/pandas-docs/stable/user_guide/indexing.html#returning-a-view-versus-a-copy\n",
      "  vs['uniprot'] = vs.otherids.map(lambda x: re.findall('[OPQ][0-9][A-Z0-9][A-Z0-9][A-Z0-9][0-9]', x))\n",
      "<ipython-input-5-2bd90a103c6b>:5: SettingWithCopyWarning: \n",
      "A value is trying to be set on a copy of a slice from a DataFrame.\n",
      "Try using .loc[row_indexer,col_indexer] = value instead\n",
      "\n",
      "See the caveats in the documentation: https://pandas.pydata.org/pandas-docs/stable/user_guide/indexing.html#returning-a-view-versus-a-copy\n",
      "  vs['uniprot'] = vs.uniprot.str[0]\n"
     ]
    },
    {
     "output_type": "execute_result",
     "data": {
      "text/plain": [
       "         geneid genesymbol     hgnc_id      snpid  alleleid  \\\n",
       "1          9907      AP5Z1  HGNC:22197  397704705     15041   \n",
       "3          9907      AP5Z1  HGNC:22197  397704709     15042   \n",
       "5          9640     ZNF592  HGNC:28986  150829393     15043   \n",
       "7         55572    FOXRED1  HGNC:26927  267606829     15044   \n",
       "9         55572    FOXRED1  HGNC:26927  267606830     15045   \n",
       "...         ...        ...         ...        ...       ...   \n",
       "1646115    6528     SLC5A5  HGNC:11040         -1    971345   \n",
       "1646117    6528     SLC5A5  HGNC:11040         -1    971346   \n",
       "1646119   57459    GATAD2B  HGNC:30778         -1    971347   \n",
       "1646124     472        ATM    HGNC:795         -1    971351   \n",
       "1646126   55812     SPATA7  HGNC:20423         -1    971352   \n",
       "\n",
       "                              type  \\\n",
       "1                            Indel   \n",
       "3                         Deletion   \n",
       "5        single nucleotide variant   \n",
       "7        single nucleotide variant   \n",
       "9        single nucleotide variant   \n",
       "...                            ...   \n",
       "1646115                   Deletion   \n",
       "1646117  single nucleotide variant   \n",
       "1646119  single nucleotide variant   \n",
       "1646124  single nucleotide variant   \n",
       "1646126                   Deletion   \n",
       "\n",
       "                                                      name          origin  \\\n",
       "1        NM_014855.3(AP5Z1):c.80_83delinsTGCTGTAAACTGTA...        germline   \n",
       "3           NM_014855.3(AP5Z1):c.1413_1426del (p.Leu473fs)        germline   \n",
       "5             NM_014630.3(ZNF592):c.3136G>A (p.Gly1046Arg)        germline   \n",
       "7              NM_017547.4(FOXRED1):c.694C>T (p.Gln232Ter)        germline   \n",
       "9             NM_017547.4(FOXRED1):c.1289A>G (p.Asn430Ser)        germline   \n",
       "...                                                    ...             ...   \n",
       "1646115           NM_000453.3(SLC5A5):c.152del (p.Gly51fs)        germline   \n",
       "1646117        NM_000453.3(SLC5A5):c.1261G>A (p.Gly421Arg)        germline   \n",
       "1646119       NM_020699.4(GATAD2B):c.1417C>T (p.Gln473Ter)        germline   \n",
       "1646124                           NM_000051.4(ATM):c.*8T>G        germline   \n",
       "1646126          NM_018418.5(SPATA7):c.657del (p.Ala220fs)  not applicable   \n",
       "\n",
       "                                              phenotypeids  \\\n",
       "1        MONDO:MONDO:0013342,MedGen:C3150901,OMIM:61364...   \n",
       "3        MONDO:MONDO:0013342,MedGen:C3150901,OMIM:61364...   \n",
       "5        MONDO:MONDO:0033005,MedGen:C4551772,OMIM:25130...   \n",
       "7        MONDO:MONDO:0032624,MedGen:C4748791,OMIM:61824...   \n",
       "9          MONDO:MONDO:0032624,MedGen:C4748791,OMIM:618241   \n",
       "...                                                    ...   \n",
       "1646115  MONDO:MONDO:0020716,MedGen:C1848805,OMIM:27440...   \n",
       "1646117  MONDO:MONDO:0020716,MedGen:C1848805,OMIM:27440...   \n",
       "1646119  Human Phenotype Ontology:HP:0000730,Human Phen...   \n",
       "1646124                                    MedGen:CN517202   \n",
       "1646126                                                  -   \n",
       "\n",
       "                                             phenotypelist  \\\n",
       "1               Spastic paraplegia 48, autosomal recessive   \n",
       "3               Spastic paraplegia 48, autosomal recessive   \n",
       "5                                Galloway-Mowat syndrome 1   \n",
       "7        Mitochondrial complex 1 deficiency, nuclear ty...   \n",
       "9        Mitochondrial complex 1 deficiency, nuclear ty...   \n",
       "...                                                    ...   \n",
       "1646115                        Thyroid dyshormonogenesis 1   \n",
       "1646117                        Thyroid dyshormonogenesis 1   \n",
       "1646119                            Intellectual disability   \n",
       "1646124                                       not provided   \n",
       "1646126                                                  -   \n",
       "\n",
       "                                                  otherids uniprot  \n",
       "1                        ClinGen:CA215070,OMIM:613653.0001     NaN  \n",
       "3                        ClinGen:CA215072,OMIM:613653.0002     NaN  \n",
       "5        ClinGen:CA210674,UniProtKB:Q92610#VAR_064583,O...  Q92610  \n",
       "7                        ClinGen:CA113792,OMIM:613622.0001     NaN  \n",
       "9        ClinGen:CA113794,UniProtKB:Q96CU9#VAR_064571,O...  Q96CU9  \n",
       "...                                                    ...     ...  \n",
       "1646115                                                  -     NaN  \n",
       "1646117                                                  -     NaN  \n",
       "1646119                                                  -     NaN  \n",
       "1646124                                                  -     NaN  \n",
       "1646126                                     ClinVar:983284     NaN  \n",
       "\n",
       "[797054 rows x 12 columns]"
      ],
      "text/html": "<div>\n<style scoped>\n    .dataframe tbody tr th:only-of-type {\n        vertical-align: middle;\n    }\n\n    .dataframe tbody tr th {\n        vertical-align: top;\n    }\n\n    .dataframe thead th {\n        text-align: right;\n    }\n</style>\n<table border=\"1\" class=\"dataframe\">\n  <thead>\n    <tr style=\"text-align: right;\">\n      <th></th>\n      <th>geneid</th>\n      <th>genesymbol</th>\n      <th>hgnc_id</th>\n      <th>snpid</th>\n      <th>alleleid</th>\n      <th>type</th>\n      <th>name</th>\n      <th>origin</th>\n      <th>phenotypeids</th>\n      <th>phenotypelist</th>\n      <th>otherids</th>\n      <th>uniprot</th>\n    </tr>\n  </thead>\n  <tbody>\n    <tr>\n      <th>1</th>\n      <td>9907</td>\n      <td>AP5Z1</td>\n      <td>HGNC:22197</td>\n      <td>397704705</td>\n      <td>15041</td>\n      <td>Indel</td>\n      <td>NM_014855.3(AP5Z1):c.80_83delinsTGCTGTAAACTGTA...</td>\n      <td>germline</td>\n      <td>MONDO:MONDO:0013342,MedGen:C3150901,OMIM:61364...</td>\n      <td>Spastic paraplegia 48, autosomal recessive</td>\n      <td>ClinGen:CA215070,OMIM:613653.0001</td>\n      <td>NaN</td>\n    </tr>\n    <tr>\n      <th>3</th>\n      <td>9907</td>\n      <td>AP5Z1</td>\n      <td>HGNC:22197</td>\n      <td>397704709</td>\n      <td>15042</td>\n      <td>Deletion</td>\n      <td>NM_014855.3(AP5Z1):c.1413_1426del (p.Leu473fs)</td>\n      <td>germline</td>\n      <td>MONDO:MONDO:0013342,MedGen:C3150901,OMIM:61364...</td>\n      <td>Spastic paraplegia 48, autosomal recessive</td>\n      <td>ClinGen:CA215072,OMIM:613653.0002</td>\n      <td>NaN</td>\n    </tr>\n    <tr>\n      <th>5</th>\n      <td>9640</td>\n      <td>ZNF592</td>\n      <td>HGNC:28986</td>\n      <td>150829393</td>\n      <td>15043</td>\n      <td>single nucleotide variant</td>\n      <td>NM_014630.3(ZNF592):c.3136G&gt;A (p.Gly1046Arg)</td>\n      <td>germline</td>\n      <td>MONDO:MONDO:0033005,MedGen:C4551772,OMIM:25130...</td>\n      <td>Galloway-Mowat syndrome 1</td>\n      <td>ClinGen:CA210674,UniProtKB:Q92610#VAR_064583,O...</td>\n      <td>Q92610</td>\n    </tr>\n    <tr>\n      <th>7</th>\n      <td>55572</td>\n      <td>FOXRED1</td>\n      <td>HGNC:26927</td>\n      <td>267606829</td>\n      <td>15044</td>\n      <td>single nucleotide variant</td>\n      <td>NM_017547.4(FOXRED1):c.694C&gt;T (p.Gln232Ter)</td>\n      <td>germline</td>\n      <td>MONDO:MONDO:0032624,MedGen:C4748791,OMIM:61824...</td>\n      <td>Mitochondrial complex 1 deficiency, nuclear ty...</td>\n      <td>ClinGen:CA113792,OMIM:613622.0001</td>\n      <td>NaN</td>\n    </tr>\n    <tr>\n      <th>9</th>\n      <td>55572</td>\n      <td>FOXRED1</td>\n      <td>HGNC:26927</td>\n      <td>267606830</td>\n      <td>15045</td>\n      <td>single nucleotide variant</td>\n      <td>NM_017547.4(FOXRED1):c.1289A&gt;G (p.Asn430Ser)</td>\n      <td>germline</td>\n      <td>MONDO:MONDO:0032624,MedGen:C4748791,OMIM:618241</td>\n      <td>Mitochondrial complex 1 deficiency, nuclear ty...</td>\n      <td>ClinGen:CA113794,UniProtKB:Q96CU9#VAR_064571,O...</td>\n      <td>Q96CU9</td>\n    </tr>\n    <tr>\n      <th>...</th>\n      <td>...</td>\n      <td>...</td>\n      <td>...</td>\n      <td>...</td>\n      <td>...</td>\n      <td>...</td>\n      <td>...</td>\n      <td>...</td>\n      <td>...</td>\n      <td>...</td>\n      <td>...</td>\n      <td>...</td>\n    </tr>\n    <tr>\n      <th>1646115</th>\n      <td>6528</td>\n      <td>SLC5A5</td>\n      <td>HGNC:11040</td>\n      <td>-1</td>\n      <td>971345</td>\n      <td>Deletion</td>\n      <td>NM_000453.3(SLC5A5):c.152del (p.Gly51fs)</td>\n      <td>germline</td>\n      <td>MONDO:MONDO:0020716,MedGen:C1848805,OMIM:27440...</td>\n      <td>Thyroid dyshormonogenesis 1</td>\n      <td>-</td>\n      <td>NaN</td>\n    </tr>\n    <tr>\n      <th>1646117</th>\n      <td>6528</td>\n      <td>SLC5A5</td>\n      <td>HGNC:11040</td>\n      <td>-1</td>\n      <td>971346</td>\n      <td>single nucleotide variant</td>\n      <td>NM_000453.3(SLC5A5):c.1261G&gt;A (p.Gly421Arg)</td>\n      <td>germline</td>\n      <td>MONDO:MONDO:0020716,MedGen:C1848805,OMIM:27440...</td>\n      <td>Thyroid dyshormonogenesis 1</td>\n      <td>-</td>\n      <td>NaN</td>\n    </tr>\n    <tr>\n      <th>1646119</th>\n      <td>57459</td>\n      <td>GATAD2B</td>\n      <td>HGNC:30778</td>\n      <td>-1</td>\n      <td>971347</td>\n      <td>single nucleotide variant</td>\n      <td>NM_020699.4(GATAD2B):c.1417C&gt;T (p.Gln473Ter)</td>\n      <td>germline</td>\n      <td>Human Phenotype Ontology:HP:0000730,Human Phen...</td>\n      <td>Intellectual disability</td>\n      <td>-</td>\n      <td>NaN</td>\n    </tr>\n    <tr>\n      <th>1646124</th>\n      <td>472</td>\n      <td>ATM</td>\n      <td>HGNC:795</td>\n      <td>-1</td>\n      <td>971351</td>\n      <td>single nucleotide variant</td>\n      <td>NM_000051.4(ATM):c.*8T&gt;G</td>\n      <td>germline</td>\n      <td>MedGen:CN517202</td>\n      <td>not provided</td>\n      <td>-</td>\n      <td>NaN</td>\n    </tr>\n    <tr>\n      <th>1646126</th>\n      <td>55812</td>\n      <td>SPATA7</td>\n      <td>HGNC:20423</td>\n      <td>-1</td>\n      <td>971352</td>\n      <td>Deletion</td>\n      <td>NM_018418.5(SPATA7):c.657del (p.Ala220fs)</td>\n      <td>not applicable</td>\n      <td>-</td>\n      <td>-</td>\n      <td>ClinVar:983284</td>\n      <td>NaN</td>\n    </tr>\n  </tbody>\n</table>\n<p>797054 rows × 12 columns</p>\n</div>"
     },
     "metadata": {},
     "execution_count": 5
    }
   ],
   "source": [
    "#en la col otherids estan los uniprots\n",
    "#esta regex es de la pag de uniprot pero no me funca [OPQ][0-9][A-Z0-9]{3}[0-9]|[A-NR-Z][0-9]([A-Z][A-Z0-9]{2}[0-9]){1,2}\n",
    "#esta de biostars me anduvo [OPQ][0-9][A-Z0-9][A-Z0-9][A-Z0-9][0-9]\n",
    "vs['uniprot'] = vs.otherids.map(lambda x: re.findall('[OPQ][0-9][A-Z0-9][A-Z0-9][A-Z0-9][0-9]', x))\n",
    "vs['uniprot'] = vs.uniprot.str[0]\n",
    "vs"
   ]
  },
  {
   "cell_type": "code",
   "execution_count": 6,
   "metadata": {},
   "outputs": [
    {
     "output_type": "execute_result",
     "data": {
      "text/plain": [
       "   geneid genesymbol     hgnc_id      snpid  alleleid  \\\n",
       "1    9907      AP5Z1  HGNC:22197  397704705     15041   \n",
       "3    9907      AP5Z1  HGNC:22197  397704709     15042   \n",
       "5    9640     ZNF592  HGNC:28986  150829393     15043   \n",
       "7   55572    FOXRED1  HGNC:26927  267606829     15044   \n",
       "9   55572    FOXRED1  HGNC:26927  267606830     15045   \n",
       "\n",
       "                        type  \\\n",
       "1                      Indel   \n",
       "3                   Deletion   \n",
       "5  single nucleotide variant   \n",
       "7  single nucleotide variant   \n",
       "9  single nucleotide variant   \n",
       "\n",
       "                                                name    origin  \\\n",
       "1  NM_014855.3(AP5Z1):c.80_83delinsTGCTGTAAACTGTA...  germline   \n",
       "3     NM_014855.3(AP5Z1):c.1413_1426del (p.Leu473fs)  germline   \n",
       "5       NM_014630.3(ZNF592):c.3136G>A (p.Gly1046Arg)  germline   \n",
       "7        NM_017547.4(FOXRED1):c.694C>T (p.Gln232Ter)  germline   \n",
       "9       NM_017547.4(FOXRED1):c.1289A>G (p.Asn430Ser)  germline   \n",
       "\n",
       "                                        phenotypeids  \\\n",
       "1  MONDO:MONDO:0013342,MedGen:C3150901,OMIM:61364...   \n",
       "3  MONDO:MONDO:0013342,MedGen:C3150901,OMIM:61364...   \n",
       "5  MONDO:MONDO:0033005,MedGen:C4551772,OMIM:25130...   \n",
       "7  MONDO:MONDO:0032624,MedGen:C4748791,OMIM:61824...   \n",
       "9    MONDO:MONDO:0032624,MedGen:C4748791,OMIM:618241   \n",
       "\n",
       "                                       phenotypelist  \\\n",
       "1         Spastic paraplegia 48, autosomal recessive   \n",
       "3         Spastic paraplegia 48, autosomal recessive   \n",
       "5                          Galloway-Mowat syndrome 1   \n",
       "7  Mitochondrial complex 1 deficiency, nuclear ty...   \n",
       "9  Mitochondrial complex 1 deficiency, nuclear ty...   \n",
       "\n",
       "                                            otherids  \n",
       "1                  ClinGen:CA215070,OMIM:613653.0001  \n",
       "3                  ClinGen:CA215072,OMIM:613653.0002  \n",
       "5  ClinGen:CA210674,UniProtKB:Q92610#VAR_064583,O...  \n",
       "7                  ClinGen:CA113792,OMIM:613622.0001  \n",
       "9  ClinGen:CA113794,UniProtKB:Q96CU9#VAR_064571,O...  "
      ],
      "text/html": "<div>\n<style scoped>\n    .dataframe tbody tr th:only-of-type {\n        vertical-align: middle;\n    }\n\n    .dataframe tbody tr th {\n        vertical-align: top;\n    }\n\n    .dataframe thead th {\n        text-align: right;\n    }\n</style>\n<table border=\"1\" class=\"dataframe\">\n  <thead>\n    <tr style=\"text-align: right;\">\n      <th></th>\n      <th>geneid</th>\n      <th>genesymbol</th>\n      <th>hgnc_id</th>\n      <th>snpid</th>\n      <th>alleleid</th>\n      <th>type</th>\n      <th>name</th>\n      <th>origin</th>\n      <th>phenotypeids</th>\n      <th>phenotypelist</th>\n      <th>otherids</th>\n    </tr>\n  </thead>\n  <tbody>\n    <tr>\n      <th>1</th>\n      <td>9907</td>\n      <td>AP5Z1</td>\n      <td>HGNC:22197</td>\n      <td>397704705</td>\n      <td>15041</td>\n      <td>Indel</td>\n      <td>NM_014855.3(AP5Z1):c.80_83delinsTGCTGTAAACTGTA...</td>\n      <td>germline</td>\n      <td>MONDO:MONDO:0013342,MedGen:C3150901,OMIM:61364...</td>\n      <td>Spastic paraplegia 48, autosomal recessive</td>\n      <td>ClinGen:CA215070,OMIM:613653.0001</td>\n    </tr>\n    <tr>\n      <th>3</th>\n      <td>9907</td>\n      <td>AP5Z1</td>\n      <td>HGNC:22197</td>\n      <td>397704709</td>\n      <td>15042</td>\n      <td>Deletion</td>\n      <td>NM_014855.3(AP5Z1):c.1413_1426del (p.Leu473fs)</td>\n      <td>germline</td>\n      <td>MONDO:MONDO:0013342,MedGen:C3150901,OMIM:61364...</td>\n      <td>Spastic paraplegia 48, autosomal recessive</td>\n      <td>ClinGen:CA215072,OMIM:613653.0002</td>\n    </tr>\n    <tr>\n      <th>5</th>\n      <td>9640</td>\n      <td>ZNF592</td>\n      <td>HGNC:28986</td>\n      <td>150829393</td>\n      <td>15043</td>\n      <td>single nucleotide variant</td>\n      <td>NM_014630.3(ZNF592):c.3136G&gt;A (p.Gly1046Arg)</td>\n      <td>germline</td>\n      <td>MONDO:MONDO:0033005,MedGen:C4551772,OMIM:25130...</td>\n      <td>Galloway-Mowat syndrome 1</td>\n      <td>ClinGen:CA210674,UniProtKB:Q92610#VAR_064583,O...</td>\n    </tr>\n    <tr>\n      <th>7</th>\n      <td>55572</td>\n      <td>FOXRED1</td>\n      <td>HGNC:26927</td>\n      <td>267606829</td>\n      <td>15044</td>\n      <td>single nucleotide variant</td>\n      <td>NM_017547.4(FOXRED1):c.694C&gt;T (p.Gln232Ter)</td>\n      <td>germline</td>\n      <td>MONDO:MONDO:0032624,MedGen:C4748791,OMIM:61824...</td>\n      <td>Mitochondrial complex 1 deficiency, nuclear ty...</td>\n      <td>ClinGen:CA113792,OMIM:613622.0001</td>\n    </tr>\n    <tr>\n      <th>9</th>\n      <td>55572</td>\n      <td>FOXRED1</td>\n      <td>HGNC:26927</td>\n      <td>267606830</td>\n      <td>15045</td>\n      <td>single nucleotide variant</td>\n      <td>NM_017547.4(FOXRED1):c.1289A&gt;G (p.Asn430Ser)</td>\n      <td>germline</td>\n      <td>MONDO:MONDO:0032624,MedGen:C4748791,OMIM:618241</td>\n      <td>Mitochondrial complex 1 deficiency, nuclear ty...</td>\n      <td>ClinGen:CA113794,UniProtKB:Q96CU9#VAR_064571,O...</td>\n    </tr>\n  </tbody>\n</table>\n</div>"
     },
     "metadata": {},
     "execution_count": 6
    }
   ],
   "source": [
    "#vs[vs.uniprot.notnull()]\n",
    "#estan quedando bastante menos, 20836 de 797054 (el 2,5%)\n",
    "#borro la col uniprot a ver si ahi esta el problema\n",
    "vs = vs.drop(columns=['uniprot'])\n",
    "vs.head()"
   ]
  },
  {
   "cell_type": "code",
   "execution_count": 7,
   "metadata": {},
   "outputs": [
    {
     "output_type": "execute_result",
     "data": {
      "text/plain": [
       "single nucleotide variant    697386\n",
       "Deletion                      45260\n",
       "Duplication                   19957\n",
       "Microsatellite                10989\n",
       "copy number gain               6932\n",
       "copy number loss               6598\n",
       "Indel                          5487\n",
       "Insertion                      3881\n",
       "Inversion                       318\n",
       "Variation                       230\n",
       "Translocation                    16\n",
       "Name: type, dtype: int64"
      ]
     },
     "metadata": {},
     "execution_count": 7
    }
   ],
   "source": [
    "# Tipos de variantes en clinvar\n",
    "vs.type.value_counts()"
   ]
  },
  {
   "cell_type": "code",
   "execution_count": 32,
   "metadata": {},
   "outputs": [],
   "source": [
    "# solo para ver los tipos de variantes. Despues c\\u tiene una nomenclatura diferente, por ende una regex diferente para extraerla\n",
    "box1_clinvar_total = box.merge(vs)"
   ]
  },
  {
   "cell_type": "code",
   "execution_count": 33,
   "metadata": {},
   "outputs": [
    {
     "output_type": "execute_result",
     "data": {
      "text/plain": [
       "single nucleotide variant    35380\n",
       "Deletion                      2931\n",
       "Duplication                   1299\n",
       "Microsatellite                 670\n",
       "Indel                          390\n",
       "Insertion                      199\n",
       "copy number loss                74\n",
       "Inversion                       24\n",
       "copy number gain                24\n",
       "Variation                        5\n",
       "Name: type, dtype: int64"
      ]
     },
     "metadata": {},
     "execution_count": 33
    }
   ],
   "source": [
    "# tipos de variantes en box1\n",
    "box1_clinvar_total.type.value_counts()"
   ]
  },
  {
   "cell_type": "code",
   "execution_count": 35,
   "metadata": {},
   "outputs": [
    {
     "output_type": "execute_result",
     "data": {
      "text/plain": [
       "0.1856766513806225"
      ]
     },
     "metadata": {},
     "execution_count": 35
    }
   ],
   "source": [
    "len(box1_clinvar_total[box1_clinvar_total.snpid == -1])/len(box1_clinvar_total)"
   ]
  },
  {
   "source": [
    "## Subset: single nucleotide variants"
   ],
   "cell_type": "markdown",
   "metadata": {}
  },
  {
   "cell_type": "code",
   "execution_count": 89,
   "metadata": {},
   "outputs": [
    {
     "output_type": "execute_result",
     "data": {
      "text/plain": [
       "    geneid genesymbol     hgnc_id      snpid  alleleid  \\\n",
       "5     9640     ZNF592  HGNC:28986  150829393     15043   \n",
       "7    55572    FOXRED1  HGNC:26927  267606829     15044   \n",
       "9    55572    FOXRED1  HGNC:26927  267606830     15045   \n",
       "11   80224      NUBPL  HGNC:20278  200401432     15046   \n",
       "15    3077        HFE   HGNC:4886    1800562     15048   \n",
       "\n",
       "                         type                                          name  \\\n",
       "5   single nucleotide variant  NM_014630.3(ZNF592):c.3136G>A (p.Gly1046Arg)   \n",
       "7   single nucleotide variant   NM_017547.4(FOXRED1):c.694C>T (p.Gln232Ter)   \n",
       "9   single nucleotide variant  NM_017547.4(FOXRED1):c.1289A>G (p.Asn430Ser)   \n",
       "11  single nucleotide variant      NM_025152.3(NUBPL):c.166G>A (p.Gly56Arg)   \n",
       "15  single nucleotide variant       NM_000410.3(HFE):c.845G>A (p.Cys282Tyr)   \n",
       "\n",
       "      origin                                       phenotypeids  \\\n",
       "5   germline  MONDO:MONDO:0033005,MedGen:C4551772,OMIM:25130...   \n",
       "7   germline  MONDO:MONDO:0032624,MedGen:C4748791,OMIM:61824...   \n",
       "9   germline    MONDO:MONDO:0032624,MedGen:C4748791,OMIM:618241   \n",
       "11  germline       MedGen:CN517202|MeSH:D030342,MedGen:C0950123   \n",
       "15  germline  MONDO:MONDO:0021001,MedGen:C3469186,OMIM:23520...   \n",
       "\n",
       "                                        phenotypelist  \\\n",
       "5                           Galloway-Mowat syndrome 1   \n",
       "7   Mitochondrial complex 1 deficiency, nuclear ty...   \n",
       "9   Mitochondrial complex 1 deficiency, nuclear ty...   \n",
       "11               not provided|Inborn genetic diseases   \n",
       "15  Hemochromatosis type 1|Porphyria cutanea tarda...   \n",
       "\n",
       "                                             otherids  \n",
       "5   ClinGen:CA210674,UniProtKB:Q92610#VAR_064583,O...  \n",
       "7                   ClinGen:CA113792,OMIM:613622.0001  \n",
       "9   ClinGen:CA113794,UniProtKB:Q96CU9#VAR_064571,O...  \n",
       "11  ClinGen:CA321015,ClinVar:7,UniProtKB:Q8TB37#VA...  \n",
       "15  UniProtKB:Q30201#VAR_004398,ClinGen:CA113795,O...  "
      ],
      "text/html": "<div>\n<style scoped>\n    .dataframe tbody tr th:only-of-type {\n        vertical-align: middle;\n    }\n\n    .dataframe tbody tr th {\n        vertical-align: top;\n    }\n\n    .dataframe thead th {\n        text-align: right;\n    }\n</style>\n<table border=\"1\" class=\"dataframe\">\n  <thead>\n    <tr style=\"text-align: right;\">\n      <th></th>\n      <th>geneid</th>\n      <th>genesymbol</th>\n      <th>hgnc_id</th>\n      <th>snpid</th>\n      <th>alleleid</th>\n      <th>type</th>\n      <th>name</th>\n      <th>origin</th>\n      <th>phenotypeids</th>\n      <th>phenotypelist</th>\n      <th>otherids</th>\n    </tr>\n  </thead>\n  <tbody>\n    <tr>\n      <th>5</th>\n      <td>9640</td>\n      <td>ZNF592</td>\n      <td>HGNC:28986</td>\n      <td>150829393</td>\n      <td>15043</td>\n      <td>single nucleotide variant</td>\n      <td>NM_014630.3(ZNF592):c.3136G&gt;A (p.Gly1046Arg)</td>\n      <td>germline</td>\n      <td>MONDO:MONDO:0033005,MedGen:C4551772,OMIM:25130...</td>\n      <td>Galloway-Mowat syndrome 1</td>\n      <td>ClinGen:CA210674,UniProtKB:Q92610#VAR_064583,O...</td>\n    </tr>\n    <tr>\n      <th>7</th>\n      <td>55572</td>\n      <td>FOXRED1</td>\n      <td>HGNC:26927</td>\n      <td>267606829</td>\n      <td>15044</td>\n      <td>single nucleotide variant</td>\n      <td>NM_017547.4(FOXRED1):c.694C&gt;T (p.Gln232Ter)</td>\n      <td>germline</td>\n      <td>MONDO:MONDO:0032624,MedGen:C4748791,OMIM:61824...</td>\n      <td>Mitochondrial complex 1 deficiency, nuclear ty...</td>\n      <td>ClinGen:CA113792,OMIM:613622.0001</td>\n    </tr>\n    <tr>\n      <th>9</th>\n      <td>55572</td>\n      <td>FOXRED1</td>\n      <td>HGNC:26927</td>\n      <td>267606830</td>\n      <td>15045</td>\n      <td>single nucleotide variant</td>\n      <td>NM_017547.4(FOXRED1):c.1289A&gt;G (p.Asn430Ser)</td>\n      <td>germline</td>\n      <td>MONDO:MONDO:0032624,MedGen:C4748791,OMIM:618241</td>\n      <td>Mitochondrial complex 1 deficiency, nuclear ty...</td>\n      <td>ClinGen:CA113794,UniProtKB:Q96CU9#VAR_064571,O...</td>\n    </tr>\n    <tr>\n      <th>11</th>\n      <td>80224</td>\n      <td>NUBPL</td>\n      <td>HGNC:20278</td>\n      <td>200401432</td>\n      <td>15046</td>\n      <td>single nucleotide variant</td>\n      <td>NM_025152.3(NUBPL):c.166G&gt;A (p.Gly56Arg)</td>\n      <td>germline</td>\n      <td>MedGen:CN517202|MeSH:D030342,MedGen:C0950123</td>\n      <td>not provided|Inborn genetic diseases</td>\n      <td>ClinGen:CA321015,ClinVar:7,UniProtKB:Q8TB37#VA...</td>\n    </tr>\n    <tr>\n      <th>15</th>\n      <td>3077</td>\n      <td>HFE</td>\n      <td>HGNC:4886</td>\n      <td>1800562</td>\n      <td>15048</td>\n      <td>single nucleotide variant</td>\n      <td>NM_000410.3(HFE):c.845G&gt;A (p.Cys282Tyr)</td>\n      <td>germline</td>\n      <td>MONDO:MONDO:0021001,MedGen:C3469186,OMIM:23520...</td>\n      <td>Hemochromatosis type 1|Porphyria cutanea tarda...</td>\n      <td>UniProtKB:Q30201#VAR_004398,ClinGen:CA113795,O...</td>\n    </tr>\n  </tbody>\n</table>\n</div>"
     },
     "metadata": {},
     "execution_count": 89
    }
   ],
   "source": [
    "snvs = vs.query('type == \"single nucleotide variant\"')\n",
    "snvs.head()"
   ]
  },
  {
   "cell_type": "code",
   "execution_count": 90,
   "metadata": {},
   "outputs": [
    {
     "output_type": "stream",
     "name": "stderr",
     "text": [
      "<ipython-input-90-b871915b14f1>:2: SettingWithCopyWarning: \n",
      "A value is trying to be set on a copy of a slice from a DataFrame.\n",
      "Try using .loc[row_indexer,col_indexer] = value instead\n",
      "\n",
      "See the caveats in the documentation: https://pandas.pydata.org/pandas-docs/stable/user_guide/indexing.html#returning-a-view-versus-a-copy\n",
      "  snvs['nuccore_id'] = snvs.name.map(lambda x: re.findall('[A-Z]{2}\\_[0-9]+\\.[0-9]*', x))\n",
      "<ipython-input-90-b871915b14f1>:3: SettingWithCopyWarning: \n",
      "A value is trying to be set on a copy of a slice from a DataFrame.\n",
      "Try using .loc[row_indexer,col_indexer] = value instead\n",
      "\n",
      "See the caveats in the documentation: https://pandas.pydata.org/pandas-docs/stable/user_guide/indexing.html#returning-a-view-versus-a-copy\n",
      "  snvs['nuccore_id'] = snvs.nuccore_id.str[0]\n"
     ]
    }
   ],
   "source": [
    "#Para generar una col con los codigos NM...\n",
    "snvs['nuccore_id'] = snvs.name.map(lambda x: re.findall('[A-Z]{2}\\_[0-9]+\\.[0-9]*', x))\n",
    "snvs['nuccore_id'] = snvs.nuccore_id.str[0]"
   ]
  },
  {
   "cell_type": "code",
   "execution_count": 92,
   "metadata": {},
   "outputs": [
    {
     "output_type": "stream",
     "name": "stderr",
     "text": [
      "<ipython-input-92-6b33b34b31e3>:6: SettingWithCopyWarning: \n",
      "A value is trying to be set on a copy of a slice from a DataFrame.\n",
      "Try using .loc[row_indexer,col_indexer] = value instead\n",
      "\n",
      "See the caveats in the documentation: https://pandas.pydata.org/pandas-docs/stable/user_guide/indexing.html#returning-a-view-versus-a-copy\n",
      "  snvs['cambio'] = snvs.name.map(lambda x: re.findall(pattern, x))\n",
      "<ipython-input-92-6b33b34b31e3>:7: SettingWithCopyWarning: \n",
      "A value is trying to be set on a copy of a slice from a DataFrame.\n",
      "Try using .loc[row_indexer,col_indexer] = value instead\n",
      "\n",
      "See the caveats in the documentation: https://pandas.pydata.org/pandas-docs/stable/user_guide/indexing.html#returning-a-view-versus-a-copy\n",
      "  snvs[\"cambio\"] = snvs.cambio.str[0]\n",
      "<ipython-input-92-6b33b34b31e3>:9: SettingWithCopyWarning: \n",
      "A value is trying to be set on a copy of a slice from a DataFrame.\n",
      "Try using .loc[row_indexer,col_indexer] = value instead\n",
      "\n",
      "See the caveats in the documentation: https://pandas.pydata.org/pandas-docs/stable/user_guide/indexing.html#returning-a-view-versus-a-copy\n",
      "  snvs['syn'] = snvs.name.map(lambda x: re.findall(pattern2, x))\n",
      "<ipython-input-92-6b33b34b31e3>:10: SettingWithCopyWarning: \n",
      "A value is trying to be set on a copy of a slice from a DataFrame.\n",
      "Try using .loc[row_indexer,col_indexer] = value instead\n",
      "\n",
      "See the caveats in the documentation: https://pandas.pydata.org/pandas-docs/stable/user_guide/indexing.html#returning-a-view-versus-a-copy\n",
      "  snvs['syn'] = snvs.syn.str[0]\n",
      "<ipython-input-92-6b33b34b31e3>:12: SettingWithCopyWarning: \n",
      "A value is trying to be set on a copy of a slice from a DataFrame.\n",
      "Try using .loc[row_indexer,col_indexer] = value instead\n",
      "\n",
      "See the caveats in the documentation: https://pandas.pydata.org/pandas-docs/stable/user_guide/indexing.html#returning-a-view-versus-a-copy\n",
      "  snvs['aa1'] = snvs.cambio.str[3:6]\n",
      "<ipython-input-92-6b33b34b31e3>:13: SettingWithCopyWarning: \n",
      "A value is trying to be set on a copy of a slice from a DataFrame.\n",
      "Try using .loc[row_indexer,col_indexer] = value instead\n",
      "\n",
      "See the caveats in the documentation: https://pandas.pydata.org/pandas-docs/stable/user_guide/indexing.html#returning-a-view-versus-a-copy\n",
      "  snvs['pos'] = snvs.cambio.str[6:-4]\n",
      "<ipython-input-92-6b33b34b31e3>:14: SettingWithCopyWarning: \n",
      "A value is trying to be set on a copy of a slice from a DataFrame.\n",
      "Try using .loc[row_indexer,col_indexer] = value instead\n",
      "\n",
      "See the caveats in the documentation: https://pandas.pydata.org/pandas-docs/stable/user_guide/indexing.html#returning-a-view-versus-a-copy\n",
      "  snvs['pos']= pd.to_numeric(snvs.pos)\n",
      "<ipython-input-92-6b33b34b31e3>:15: SettingWithCopyWarning: \n",
      "A value is trying to be set on a copy of a slice from a DataFrame.\n",
      "Try using .loc[row_indexer,col_indexer] = value instead\n",
      "\n",
      "See the caveats in the documentation: https://pandas.pydata.org/pandas-docs/stable/user_guide/indexing.html#returning-a-view-versus-a-copy\n",
      "  snvs['aa2'] = snvs.cambio.str[-4:-1]\n",
      "<ipython-input-92-6b33b34b31e3>:17: SettingWithCopyWarning: \n",
      "A value is trying to be set on a copy of a slice from a DataFrame.\n",
      "Try using .loc[row_indexer,col_indexer] = value instead\n",
      "\n",
      "See the caveats in the documentation: https://pandas.pydata.org/pandas-docs/stable/user_guide/indexing.html#returning-a-view-versus-a-copy\n",
      "  snvs['aa1_1'] = snvs.syn.str[3:6]\n",
      "<ipython-input-92-6b33b34b31e3>:18: SettingWithCopyWarning: \n",
      "A value is trying to be set on a copy of a slice from a DataFrame.\n",
      "Try using .loc[row_indexer,col_indexer] = value instead\n",
      "\n",
      "See the caveats in the documentation: https://pandas.pydata.org/pandas-docs/stable/user_guide/indexing.html#returning-a-view-versus-a-copy\n",
      "  snvs['pos1'] = snvs.syn.str[6:-2]\n",
      "<ipython-input-92-6b33b34b31e3>:19: SettingWithCopyWarning: \n",
      "A value is trying to be set on a copy of a slice from a DataFrame.\n",
      "Try using .loc[row_indexer,col_indexer] = value instead\n",
      "\n",
      "See the caveats in the documentation: https://pandas.pydata.org/pandas-docs/stable/user_guide/indexing.html#returning-a-view-versus-a-copy\n",
      "  snvs['pos1']= pd.to_numeric(snvs.pos1)\n",
      "<ipython-input-92-6b33b34b31e3>:20: SettingWithCopyWarning: \n",
      "A value is trying to be set on a copy of a slice from a DataFrame.\n",
      "Try using .loc[row_indexer,col_indexer] = value instead\n",
      "\n",
      "See the caveats in the documentation: https://pandas.pydata.org/pandas-docs/stable/user_guide/indexing.html#returning-a-view-versus-a-copy\n",
      "  snvs['aa2_2'] = snvs.syn.str[3:6]\n"
     ]
    },
    {
     "output_type": "execute_result",
     "data": {
      "text/plain": [
       "             nuccore_id          cambio  aa1     pos  aa2\n",
       "5           NM_014630.3  (p.Gly1046Arg)  Gly  1046.0  Arg\n",
       "7           NM_017547.4   (p.Gln232Ter)  Gln   232.0  Ter\n",
       "9           NM_017547.4   (p.Asn430Ser)  Asn   430.0  Ser\n",
       "11          NM_025152.3    (p.Gly56Arg)  Gly    56.0  Arg\n",
       "15          NM_000410.3   (p.Cys282Tyr)  Cys   282.0  Tyr\n",
       "...                 ...             ...  ...     ...  ...\n",
       "1646109  NM_001330701.2   (p.Arg414Ter)  Arg   414.0  Ter\n",
       "1646113     NM_024417.5   (p.Arg155Trp)  Arg   155.0  Trp\n",
       "1646117     NM_000453.3   (p.Gly421Arg)  Gly   421.0  Arg\n",
       "1646119     NM_020699.4   (p.Gln473Ter)  Gln   473.0  Ter\n",
       "1646124     NM_000051.4             NaN  NaN     NaN  NaN\n",
       "\n",
       "[697386 rows x 5 columns]"
      ],
      "text/html": "<div>\n<style scoped>\n    .dataframe tbody tr th:only-of-type {\n        vertical-align: middle;\n    }\n\n    .dataframe tbody tr th {\n        vertical-align: top;\n    }\n\n    .dataframe thead th {\n        text-align: right;\n    }\n</style>\n<table border=\"1\" class=\"dataframe\">\n  <thead>\n    <tr style=\"text-align: right;\">\n      <th></th>\n      <th>nuccore_id</th>\n      <th>cambio</th>\n      <th>aa1</th>\n      <th>pos</th>\n      <th>aa2</th>\n    </tr>\n  </thead>\n  <tbody>\n    <tr>\n      <th>5</th>\n      <td>NM_014630.3</td>\n      <td>(p.Gly1046Arg)</td>\n      <td>Gly</td>\n      <td>1046.0</td>\n      <td>Arg</td>\n    </tr>\n    <tr>\n      <th>7</th>\n      <td>NM_017547.4</td>\n      <td>(p.Gln232Ter)</td>\n      <td>Gln</td>\n      <td>232.0</td>\n      <td>Ter</td>\n    </tr>\n    <tr>\n      <th>9</th>\n      <td>NM_017547.4</td>\n      <td>(p.Asn430Ser)</td>\n      <td>Asn</td>\n      <td>430.0</td>\n      <td>Ser</td>\n    </tr>\n    <tr>\n      <th>11</th>\n      <td>NM_025152.3</td>\n      <td>(p.Gly56Arg)</td>\n      <td>Gly</td>\n      <td>56.0</td>\n      <td>Arg</td>\n    </tr>\n    <tr>\n      <th>15</th>\n      <td>NM_000410.3</td>\n      <td>(p.Cys282Tyr)</td>\n      <td>Cys</td>\n      <td>282.0</td>\n      <td>Tyr</td>\n    </tr>\n    <tr>\n      <th>...</th>\n      <td>...</td>\n      <td>...</td>\n      <td>...</td>\n      <td>...</td>\n      <td>...</td>\n    </tr>\n    <tr>\n      <th>1646109</th>\n      <td>NM_001330701.2</td>\n      <td>(p.Arg414Ter)</td>\n      <td>Arg</td>\n      <td>414.0</td>\n      <td>Ter</td>\n    </tr>\n    <tr>\n      <th>1646113</th>\n      <td>NM_024417.5</td>\n      <td>(p.Arg155Trp)</td>\n      <td>Arg</td>\n      <td>155.0</td>\n      <td>Trp</td>\n    </tr>\n    <tr>\n      <th>1646117</th>\n      <td>NM_000453.3</td>\n      <td>(p.Gly421Arg)</td>\n      <td>Gly</td>\n      <td>421.0</td>\n      <td>Arg</td>\n    </tr>\n    <tr>\n      <th>1646119</th>\n      <td>NM_020699.4</td>\n      <td>(p.Gln473Ter)</td>\n      <td>Gln</td>\n      <td>473.0</td>\n      <td>Ter</td>\n    </tr>\n    <tr>\n      <th>1646124</th>\n      <td>NM_000051.4</td>\n      <td>NaN</td>\n      <td>NaN</td>\n      <td>NaN</td>\n      <td>NaN</td>\n    </tr>\n  </tbody>\n</table>\n<p>697386 rows × 5 columns</p>\n</div>"
     },
     "metadata": {},
     "execution_count": 92
    }
   ],
   "source": [
    "# patron para quedarte con la parte de las posiciones en la prot\n",
    "pattern = '\\(p.[A-Z][a-z]{2}[0-9]*[A-Z][a-z]{2}\\)'\n",
    "# patron para guardar los sinonimos\n",
    "pattern2 = '\\(p.[A-Za-z0-9].*=\\)'\n",
    "\n",
    "snvs['cambio'] = snvs.name.map(lambda x: re.findall(pattern, x))\n",
    "snvs[\"cambio\"] = snvs.cambio.str[0]\n",
    "# sinonimos\n",
    "snvs['syn'] = snvs.name.map(lambda x: re.findall(pattern2, x))\n",
    "snvs['syn'] = snvs.syn.str[0]\n",
    "# separar los aminoacidos y las posiciones\n",
    "snvs['aa1'] = snvs.cambio.str[3:6]\n",
    "snvs['pos'] = snvs.cambio.str[6:-4]\n",
    "snvs['pos']= pd.to_numeric(snvs.pos)\n",
    "snvs['aa2'] = snvs.cambio.str[-4:-1]\n",
    "# para los sinonimos\n",
    "snvs['aa1_1'] = snvs.syn.str[3:6]\n",
    "snvs['pos1'] = snvs.syn.str[6:-2]\n",
    "snvs['pos1']= pd.to_numeric(snvs.pos1)\n",
    "snvs['aa2_2'] = snvs.syn.str[3:6]\n",
    "snvs[['nuccore_id', 'cambio','aa1','pos','aa2']]"
   ]
  },
  {
   "cell_type": "code",
   "execution_count": 93,
   "metadata": {},
   "outputs": [
    {
     "output_type": "stream",
     "name": "stdout",
     "text": [
      "snv sinonimas en clinvar:  532039\n",
      "snv no sinonimas en clinvar:  165347\n"
     ]
    }
   ],
   "source": [
    "print('snv sinonimas en clinvar: ', len(snvs[snvs.syn.isnull()]))\n",
    "print('snv no sinonimas en clinvar: ', len(snvs[snvs.syn.notnull()]))"
   ]
  },
  {
   "source": [
    "## Merge de Box con snvs de clinvar"
   ],
   "cell_type": "markdown",
   "metadata": {}
  },
  {
   "cell_type": "code",
   "execution_count": 94,
   "metadata": {},
   "outputs": [
    {
     "output_type": "execute_result",
     "data": {
      "text/plain": [
       "  uniprot      organism              mlo    hgnc_id  length  \\\n",
       "0  O15527  Homo sapiens  nuclear speckle  HGNC:8125     345   \n",
       "1  O15527  Homo sapiens  nuclear speckle  HGNC:8125     345   \n",
       "2  O15527  Homo sapiens  nuclear speckle  HGNC:8125     345   \n",
       "3  O15527  Homo sapiens  nuclear speckle  HGNC:8125     345   \n",
       "4  O43663  Homo sapiens         pcg body  HGNC:9341     620   \n",
       "\n",
       "                                            sequence  geneid genesymbol  \\\n",
       "0  MPARALLPRRMGHRTLASTPALWASIPCPRSELRLDLVLPSGQSFR...  4968.0       OGG1   \n",
       "1  MPARALLPRRMGHRTLASTPALWASIPCPRSELRLDLVLPSGQSFR...  4968.0       OGG1   \n",
       "2  MPARALLPRRMGHRTLASTPALWASIPCPRSELRLDLVLPSGQSFR...  4968.0       OGG1   \n",
       "3  MPARALLPRRMGHRTLASTPALWASIPCPRSELRLDLVLPSGQSFR...  4968.0       OGG1   \n",
       "4  MRRSEVLAEESIVCLQKALNHLREIWELIGIPEDQRLQRTEVVKKH...  9055.0       PRC1   \n",
       "\n",
       "         snpid  alleleid  ...  \\\n",
       "0  104893751.0   22641.0  ...   \n",
       "1   41276495.0  512896.0  ...   \n",
       "2    3219013.0  730244.0  ...   \n",
       "3  756363791.0  759475.0  ...   \n",
       "4    8031684.0  167479.0  ...   \n",
       "\n",
       "                                            otherids   nuccore_id  \\\n",
       "0  ClinGen:CA250044,UniProtKB:O15527#VAR_009519,O...  NM_002542.5   \n",
       "1                                  ClinGen:CA2243347  NM_003656.5   \n",
       "2                                                  -  NM_002542.5   \n",
       "3                                                  -  NM_002542.5   \n",
       "4                                   ClinGen:CA273792  NM_003981.4   \n",
       "\n",
       "         cambio  syn  aa1   pos  aa2 aa1_1 pos1 aa2_2  \n",
       "0  (p.Arg46Gln)  NaN  Arg  46.0  Gln   NaN  NaN   NaN  \n",
       "1           NaN  NaN  NaN   NaN  NaN   NaN  NaN   NaN  \n",
       "2           NaN  NaN  NaN   NaN  NaN   NaN  NaN   NaN  \n",
       "3           NaN  NaN  NaN   NaN  NaN   NaN  NaN   NaN  \n",
       "4           NaN  NaN  NaN   NaN  NaN   NaN  NaN   NaN  \n",
       "\n",
       "[5 rows x 25 columns]"
      ],
      "text/html": "<div>\n<style scoped>\n    .dataframe tbody tr th:only-of-type {\n        vertical-align: middle;\n    }\n\n    .dataframe tbody tr th {\n        vertical-align: top;\n    }\n\n    .dataframe thead th {\n        text-align: right;\n    }\n</style>\n<table border=\"1\" class=\"dataframe\">\n  <thead>\n    <tr style=\"text-align: right;\">\n      <th></th>\n      <th>uniprot</th>\n      <th>organism</th>\n      <th>mlo</th>\n      <th>hgnc_id</th>\n      <th>length</th>\n      <th>sequence</th>\n      <th>geneid</th>\n      <th>genesymbol</th>\n      <th>snpid</th>\n      <th>alleleid</th>\n      <th>...</th>\n      <th>otherids</th>\n      <th>nuccore_id</th>\n      <th>cambio</th>\n      <th>syn</th>\n      <th>aa1</th>\n      <th>pos</th>\n      <th>aa2</th>\n      <th>aa1_1</th>\n      <th>pos1</th>\n      <th>aa2_2</th>\n    </tr>\n  </thead>\n  <tbody>\n    <tr>\n      <th>0</th>\n      <td>O15527</td>\n      <td>Homo sapiens</td>\n      <td>nuclear speckle</td>\n      <td>HGNC:8125</td>\n      <td>345</td>\n      <td>MPARALLPRRMGHRTLASTPALWASIPCPRSELRLDLVLPSGQSFR...</td>\n      <td>4968.0</td>\n      <td>OGG1</td>\n      <td>104893751.0</td>\n      <td>22641.0</td>\n      <td>...</td>\n      <td>ClinGen:CA250044,UniProtKB:O15527#VAR_009519,O...</td>\n      <td>NM_002542.5</td>\n      <td>(p.Arg46Gln)</td>\n      <td>NaN</td>\n      <td>Arg</td>\n      <td>46.0</td>\n      <td>Gln</td>\n      <td>NaN</td>\n      <td>NaN</td>\n      <td>NaN</td>\n    </tr>\n    <tr>\n      <th>1</th>\n      <td>O15527</td>\n      <td>Homo sapiens</td>\n      <td>nuclear speckle</td>\n      <td>HGNC:8125</td>\n      <td>345</td>\n      <td>MPARALLPRRMGHRTLASTPALWASIPCPRSELRLDLVLPSGQSFR...</td>\n      <td>4968.0</td>\n      <td>OGG1</td>\n      <td>41276495.0</td>\n      <td>512896.0</td>\n      <td>...</td>\n      <td>ClinGen:CA2243347</td>\n      <td>NM_003656.5</td>\n      <td>NaN</td>\n      <td>NaN</td>\n      <td>NaN</td>\n      <td>NaN</td>\n      <td>NaN</td>\n      <td>NaN</td>\n      <td>NaN</td>\n      <td>NaN</td>\n    </tr>\n    <tr>\n      <th>2</th>\n      <td>O15527</td>\n      <td>Homo sapiens</td>\n      <td>nuclear speckle</td>\n      <td>HGNC:8125</td>\n      <td>345</td>\n      <td>MPARALLPRRMGHRTLASTPALWASIPCPRSELRLDLVLPSGQSFR...</td>\n      <td>4968.0</td>\n      <td>OGG1</td>\n      <td>3219013.0</td>\n      <td>730244.0</td>\n      <td>...</td>\n      <td>-</td>\n      <td>NM_002542.5</td>\n      <td>NaN</td>\n      <td>NaN</td>\n      <td>NaN</td>\n      <td>NaN</td>\n      <td>NaN</td>\n      <td>NaN</td>\n      <td>NaN</td>\n      <td>NaN</td>\n    </tr>\n    <tr>\n      <th>3</th>\n      <td>O15527</td>\n      <td>Homo sapiens</td>\n      <td>nuclear speckle</td>\n      <td>HGNC:8125</td>\n      <td>345</td>\n      <td>MPARALLPRRMGHRTLASTPALWASIPCPRSELRLDLVLPSGQSFR...</td>\n      <td>4968.0</td>\n      <td>OGG1</td>\n      <td>756363791.0</td>\n      <td>759475.0</td>\n      <td>...</td>\n      <td>-</td>\n      <td>NM_002542.5</td>\n      <td>NaN</td>\n      <td>NaN</td>\n      <td>NaN</td>\n      <td>NaN</td>\n      <td>NaN</td>\n      <td>NaN</td>\n      <td>NaN</td>\n      <td>NaN</td>\n    </tr>\n    <tr>\n      <th>4</th>\n      <td>O43663</td>\n      <td>Homo sapiens</td>\n      <td>pcg body</td>\n      <td>HGNC:9341</td>\n      <td>620</td>\n      <td>MRRSEVLAEESIVCLQKALNHLREIWELIGIPEDQRLQRTEVVKKH...</td>\n      <td>9055.0</td>\n      <td>PRC1</td>\n      <td>8031684.0</td>\n      <td>167479.0</td>\n      <td>...</td>\n      <td>ClinGen:CA273792</td>\n      <td>NM_003981.4</td>\n      <td>NaN</td>\n      <td>NaN</td>\n      <td>NaN</td>\n      <td>NaN</td>\n      <td>NaN</td>\n      <td>NaN</td>\n      <td>NaN</td>\n      <td>NaN</td>\n    </tr>\n  </tbody>\n</table>\n<p>5 rows × 25 columns</p>\n</div>"
     },
     "metadata": {},
     "execution_count": 94
    }
   ],
   "source": [
    "box_snvs = box.merge(snvs, how='left')\n",
    "box_snvs.head()"
   ]
  },
  {
   "cell_type": "code",
   "execution_count": 95,
   "metadata": {},
   "outputs": [
    {
     "output_type": "execute_result",
     "data": {
      "text/plain": [
       "      uniprot      organism              mlo     hgnc_id  length  \\\n",
       "0      O15527  Homo sapiens  nuclear speckle   HGNC:8125     345   \n",
       "1      O15527  Homo sapiens  nuclear speckle   HGNC:8125     345   \n",
       "2      O15527  Homo sapiens  nuclear speckle   HGNC:8125     345   \n",
       "3      O15527  Homo sapiens  nuclear speckle   HGNC:8125     345   \n",
       "4      O43663  Homo sapiens         pcg body   HGNC:9341     620   \n",
       "...       ...           ...              ...         ...     ...   \n",
       "35577  Q15233  Homo sapiens      paraspeckle   HGNC:7871     471   \n",
       "35578  Q15233  Homo sapiens      paraspeckle   HGNC:7871     471   \n",
       "35579  Q15233  Homo sapiens      paraspeckle   HGNC:7871     471   \n",
       "35580  P23246  Homo sapiens      paraspeckle  HGNC:10774     707   \n",
       "35581  P23246  Homo sapiens      paraspeckle  HGNC:10774     707   \n",
       "\n",
       "                                                sequence  geneid genesymbol  \\\n",
       "0      MPARALLPRRMGHRTLASTPALWASIPCPRSELRLDLVLPSGQSFR...  4968.0       OGG1   \n",
       "1      MPARALLPRRMGHRTLASTPALWASIPCPRSELRLDLVLPSGQSFR...  4968.0       OGG1   \n",
       "2      MPARALLPRRMGHRTLASTPALWASIPCPRSELRLDLVLPSGQSFR...  4968.0       OGG1   \n",
       "3      MPARALLPRRMGHRTLASTPALWASIPCPRSELRLDLVLPSGQSFR...  4968.0       OGG1   \n",
       "4      MRRSEVLAEESIVCLQKALNHLREIWELIGIPEDQRLQRTEVVKKH...  9055.0       PRC1   \n",
       "...                                                  ...     ...        ...   \n",
       "35577  MQSNKTFNLEKQNHTPRKHHQHHHQQQHHQQQQQQPPPPPIPANGQ...  4841.0       NONO   \n",
       "35578  MQSNKTFNLEKQNHTPRKHHQHHHQQQHHQQQQQQPPPPPIPANGQ...  4841.0       NONO   \n",
       "35579  MQSNKTFNLEKQNHTPRKHHQHHHQQQHHQQQQQQPPPPPIPANGQ...  4841.0       NONO   \n",
       "35580  MSRDRFRSRGGGGGGFHRRGGGGGRGGLHDFRSPPPGMGLNQNRGP...  6421.0       SFPQ   \n",
       "35581  MSRDRFRSRGGGGGGFHRRGGGGGRGGLHDFRSPPPGMGLNQNRGP...  6421.0       SFPQ   \n",
       "\n",
       "             snpid  alleleid  ...  \\\n",
       "0      104893751.0   22641.0  ...   \n",
       "1       41276495.0  512896.0  ...   \n",
       "2        3219013.0  730244.0  ...   \n",
       "3      756363791.0  759475.0  ...   \n",
       "4        8031684.0  167479.0  ...   \n",
       "...            ...       ...  ...   \n",
       "35577         -1.0  822287.0  ...   \n",
       "35578         -1.0  861587.0  ...   \n",
       "35579         -1.0  939676.0  ...   \n",
       "35580  149880317.0  718937.0  ...   \n",
       "35581  202231775.0  732407.0  ...   \n",
       "\n",
       "                                                otherids   nuccore_id  \\\n",
       "0      ClinGen:CA250044,UniProtKB:O15527#VAR_009519,O...  NM_002542.5   \n",
       "1                                      ClinGen:CA2243347  NM_003656.5   \n",
       "2                                                      -  NM_002542.5   \n",
       "3                                                      -  NM_002542.5   \n",
       "4                                       ClinGen:CA273792  NM_003981.4   \n",
       "...                                                  ...          ...   \n",
       "35577                                                  -  NM_007363.5   \n",
       "35578                                                  -  NM_007363.5   \n",
       "35579                                                  -  NM_007363.5   \n",
       "35580                                                  -  NM_005066.3   \n",
       "35581                                                  -  NM_005066.3   \n",
       "\n",
       "              cambio          syn  aa1    pos  aa2 aa1_1   pos1 aa2_2  \n",
       "0       (p.Arg46Gln)          NaN  Arg   46.0  Gln   NaN    NaN   NaN  \n",
       "1                NaN          NaN  NaN    NaN  NaN   NaN    NaN   NaN  \n",
       "2                NaN          NaN  NaN    NaN  NaN   NaN    NaN   NaN  \n",
       "3                NaN          NaN  NaN    NaN  NaN   NaN    NaN   NaN  \n",
       "4                NaN          NaN  NaN    NaN  NaN   NaN    NaN   NaN  \n",
       "...              ...          ...  ...    ...  ...   ...    ...   ...  \n",
       "35577  (p.Arg153Ter)          NaN  Arg  153.0  Ter   NaN    NaN   NaN  \n",
       "35578            NaN          NaN  NaN    NaN  NaN   NaN    NaN   NaN  \n",
       "35579  (p.Thr424Ser)          NaN  Thr  424.0  Ser   NaN    NaN   NaN  \n",
       "35580    (p.Thr411=)  (p.Thr411=)  Thr  411.0  Thr   Thr  411.0   Thr  \n",
       "35581    (p.Gln564=)  (p.Gln564=)  Gln  564.0  Gln   Gln  564.0   Gln  \n",
       "\n",
       "[35582 rows x 25 columns]"
      ],
      "text/html": "<div>\n<style scoped>\n    .dataframe tbody tr th:only-of-type {\n        vertical-align: middle;\n    }\n\n    .dataframe tbody tr th {\n        vertical-align: top;\n    }\n\n    .dataframe thead th {\n        text-align: right;\n    }\n</style>\n<table border=\"1\" class=\"dataframe\">\n  <thead>\n    <tr style=\"text-align: right;\">\n      <th></th>\n      <th>uniprot</th>\n      <th>organism</th>\n      <th>mlo</th>\n      <th>hgnc_id</th>\n      <th>length</th>\n      <th>sequence</th>\n      <th>geneid</th>\n      <th>genesymbol</th>\n      <th>snpid</th>\n      <th>alleleid</th>\n      <th>...</th>\n      <th>otherids</th>\n      <th>nuccore_id</th>\n      <th>cambio</th>\n      <th>syn</th>\n      <th>aa1</th>\n      <th>pos</th>\n      <th>aa2</th>\n      <th>aa1_1</th>\n      <th>pos1</th>\n      <th>aa2_2</th>\n    </tr>\n  </thead>\n  <tbody>\n    <tr>\n      <th>0</th>\n      <td>O15527</td>\n      <td>Homo sapiens</td>\n      <td>nuclear speckle</td>\n      <td>HGNC:8125</td>\n      <td>345</td>\n      <td>MPARALLPRRMGHRTLASTPALWASIPCPRSELRLDLVLPSGQSFR...</td>\n      <td>4968.0</td>\n      <td>OGG1</td>\n      <td>104893751.0</td>\n      <td>22641.0</td>\n      <td>...</td>\n      <td>ClinGen:CA250044,UniProtKB:O15527#VAR_009519,O...</td>\n      <td>NM_002542.5</td>\n      <td>(p.Arg46Gln)</td>\n      <td>NaN</td>\n      <td>Arg</td>\n      <td>46.0</td>\n      <td>Gln</td>\n      <td>NaN</td>\n      <td>NaN</td>\n      <td>NaN</td>\n    </tr>\n    <tr>\n      <th>1</th>\n      <td>O15527</td>\n      <td>Homo sapiens</td>\n      <td>nuclear speckle</td>\n      <td>HGNC:8125</td>\n      <td>345</td>\n      <td>MPARALLPRRMGHRTLASTPALWASIPCPRSELRLDLVLPSGQSFR...</td>\n      <td>4968.0</td>\n      <td>OGG1</td>\n      <td>41276495.0</td>\n      <td>512896.0</td>\n      <td>...</td>\n      <td>ClinGen:CA2243347</td>\n      <td>NM_003656.5</td>\n      <td>NaN</td>\n      <td>NaN</td>\n      <td>NaN</td>\n      <td>NaN</td>\n      <td>NaN</td>\n      <td>NaN</td>\n      <td>NaN</td>\n      <td>NaN</td>\n    </tr>\n    <tr>\n      <th>2</th>\n      <td>O15527</td>\n      <td>Homo sapiens</td>\n      <td>nuclear speckle</td>\n      <td>HGNC:8125</td>\n      <td>345</td>\n      <td>MPARALLPRRMGHRTLASTPALWASIPCPRSELRLDLVLPSGQSFR...</td>\n      <td>4968.0</td>\n      <td>OGG1</td>\n      <td>3219013.0</td>\n      <td>730244.0</td>\n      <td>...</td>\n      <td>-</td>\n      <td>NM_002542.5</td>\n      <td>NaN</td>\n      <td>NaN</td>\n      <td>NaN</td>\n      <td>NaN</td>\n      <td>NaN</td>\n      <td>NaN</td>\n      <td>NaN</td>\n      <td>NaN</td>\n    </tr>\n    <tr>\n      <th>3</th>\n      <td>O15527</td>\n      <td>Homo sapiens</td>\n      <td>nuclear speckle</td>\n      <td>HGNC:8125</td>\n      <td>345</td>\n      <td>MPARALLPRRMGHRTLASTPALWASIPCPRSELRLDLVLPSGQSFR...</td>\n      <td>4968.0</td>\n      <td>OGG1</td>\n      <td>756363791.0</td>\n      <td>759475.0</td>\n      <td>...</td>\n      <td>-</td>\n      <td>NM_002542.5</td>\n      <td>NaN</td>\n      <td>NaN</td>\n      <td>NaN</td>\n      <td>NaN</td>\n      <td>NaN</td>\n      <td>NaN</td>\n      <td>NaN</td>\n      <td>NaN</td>\n    </tr>\n    <tr>\n      <th>4</th>\n      <td>O43663</td>\n      <td>Homo sapiens</td>\n      <td>pcg body</td>\n      <td>HGNC:9341</td>\n      <td>620</td>\n      <td>MRRSEVLAEESIVCLQKALNHLREIWELIGIPEDQRLQRTEVVKKH...</td>\n      <td>9055.0</td>\n      <td>PRC1</td>\n      <td>8031684.0</td>\n      <td>167479.0</td>\n      <td>...</td>\n      <td>ClinGen:CA273792</td>\n      <td>NM_003981.4</td>\n      <td>NaN</td>\n      <td>NaN</td>\n      <td>NaN</td>\n      <td>NaN</td>\n      <td>NaN</td>\n      <td>NaN</td>\n      <td>NaN</td>\n      <td>NaN</td>\n    </tr>\n    <tr>\n      <th>...</th>\n      <td>...</td>\n      <td>...</td>\n      <td>...</td>\n      <td>...</td>\n      <td>...</td>\n      <td>...</td>\n      <td>...</td>\n      <td>...</td>\n      <td>...</td>\n      <td>...</td>\n      <td>...</td>\n      <td>...</td>\n      <td>...</td>\n      <td>...</td>\n      <td>...</td>\n      <td>...</td>\n      <td>...</td>\n      <td>...</td>\n      <td>...</td>\n      <td>...</td>\n      <td>...</td>\n    </tr>\n    <tr>\n      <th>35577</th>\n      <td>Q15233</td>\n      <td>Homo sapiens</td>\n      <td>paraspeckle</td>\n      <td>HGNC:7871</td>\n      <td>471</td>\n      <td>MQSNKTFNLEKQNHTPRKHHQHHHQQQHHQQQQQQPPPPPIPANGQ...</td>\n      <td>4841.0</td>\n      <td>NONO</td>\n      <td>-1.0</td>\n      <td>822287.0</td>\n      <td>...</td>\n      <td>-</td>\n      <td>NM_007363.5</td>\n      <td>(p.Arg153Ter)</td>\n      <td>NaN</td>\n      <td>Arg</td>\n      <td>153.0</td>\n      <td>Ter</td>\n      <td>NaN</td>\n      <td>NaN</td>\n      <td>NaN</td>\n    </tr>\n    <tr>\n      <th>35578</th>\n      <td>Q15233</td>\n      <td>Homo sapiens</td>\n      <td>paraspeckle</td>\n      <td>HGNC:7871</td>\n      <td>471</td>\n      <td>MQSNKTFNLEKQNHTPRKHHQHHHQQQHHQQQQQQPPPPPIPANGQ...</td>\n      <td>4841.0</td>\n      <td>NONO</td>\n      <td>-1.0</td>\n      <td>861587.0</td>\n      <td>...</td>\n      <td>-</td>\n      <td>NM_007363.5</td>\n      <td>NaN</td>\n      <td>NaN</td>\n      <td>NaN</td>\n      <td>NaN</td>\n      <td>NaN</td>\n      <td>NaN</td>\n      <td>NaN</td>\n      <td>NaN</td>\n    </tr>\n    <tr>\n      <th>35579</th>\n      <td>Q15233</td>\n      <td>Homo sapiens</td>\n      <td>paraspeckle</td>\n      <td>HGNC:7871</td>\n      <td>471</td>\n      <td>MQSNKTFNLEKQNHTPRKHHQHHHQQQHHQQQQQQPPPPPIPANGQ...</td>\n      <td>4841.0</td>\n      <td>NONO</td>\n      <td>-1.0</td>\n      <td>939676.0</td>\n      <td>...</td>\n      <td>-</td>\n      <td>NM_007363.5</td>\n      <td>(p.Thr424Ser)</td>\n      <td>NaN</td>\n      <td>Thr</td>\n      <td>424.0</td>\n      <td>Ser</td>\n      <td>NaN</td>\n      <td>NaN</td>\n      <td>NaN</td>\n    </tr>\n    <tr>\n      <th>35580</th>\n      <td>P23246</td>\n      <td>Homo sapiens</td>\n      <td>paraspeckle</td>\n      <td>HGNC:10774</td>\n      <td>707</td>\n      <td>MSRDRFRSRGGGGGGFHRRGGGGGRGGLHDFRSPPPGMGLNQNRGP...</td>\n      <td>6421.0</td>\n      <td>SFPQ</td>\n      <td>149880317.0</td>\n      <td>718937.0</td>\n      <td>...</td>\n      <td>-</td>\n      <td>NM_005066.3</td>\n      <td>(p.Thr411=)</td>\n      <td>(p.Thr411=)</td>\n      <td>Thr</td>\n      <td>411.0</td>\n      <td>Thr</td>\n      <td>Thr</td>\n      <td>411.0</td>\n      <td>Thr</td>\n    </tr>\n    <tr>\n      <th>35581</th>\n      <td>P23246</td>\n      <td>Homo sapiens</td>\n      <td>paraspeckle</td>\n      <td>HGNC:10774</td>\n      <td>707</td>\n      <td>MSRDRFRSRGGGGGGFHRRGGGGGRGGLHDFRSPPPGMGLNQNRGP...</td>\n      <td>6421.0</td>\n      <td>SFPQ</td>\n      <td>202231775.0</td>\n      <td>732407.0</td>\n      <td>...</td>\n      <td>-</td>\n      <td>NM_005066.3</td>\n      <td>(p.Gln564=)</td>\n      <td>(p.Gln564=)</td>\n      <td>Gln</td>\n      <td>564.0</td>\n      <td>Gln</td>\n      <td>Gln</td>\n      <td>564.0</td>\n      <td>Gln</td>\n    </tr>\n  </tbody>\n</table>\n<p>35582 rows × 25 columns</p>\n</div>"
     },
     "metadata": {},
     "execution_count": 95
    }
   ],
   "source": [
    "#Lleno los nans\n",
    "box_snvs = box_snvs.assign(**{'cambio': box_snvs['cambio'].fillna(box_snvs['syn'])})\n",
    "box_snvs = box_snvs.assign(**{'aa1': box_snvs['aa1'].fillna(box_snvs['aa1_1'])})\n",
    "box_snvs = box_snvs.assign(**{'pos': box_snvs['pos'].fillna(box_snvs['pos1'])})\n",
    "box_snvs = box_snvs.assign(**{'aa2': box_snvs['aa2'].fillna(box_snvs['aa2_2'])})\n",
    "box_snvs"
   ]
  },
  {
   "cell_type": "code",
   "execution_count": 96,
   "metadata": {},
   "outputs": [
    {
     "output_type": "stream",
     "name": "stdout",
     "text": [
      "intrones: 7807\nsnvs: 27775\n"
     ]
    }
   ],
   "source": [
    "#separo la parte de variantes intronicas\n",
    "intrones_snvs = box_snvs[box_snvs.cambio.isna()]\n",
    "#las saco de box_snvs\n",
    "box_snvs = box_snvs[~box_snvs.cambio.isna()]\n",
    "print(f'intrones: {len(intrones_snvs)}')\n",
    "print(f'snvs: {len(box_snvs)}')"
   ]
  },
  {
   "source": [
    "## Pasar aa de 3 letras a 1"
   ],
   "cell_type": "markdown",
   "metadata": {}
  },
  {
   "cell_type": "code",
   "execution_count": 97,
   "metadata": {},
   "outputs": [],
   "source": [
    "def aa_3to1(df):\n",
    "    '''convierte los aa en codigo de tres letras de un\n",
    "    DataFrame a una letra usando seq1 de Bio.SeqUtils'''\n",
    "\n",
    "    for i in df.index:\n",
    "        aa1 = df.aa1[i]\n",
    "        aa2 = df.aa2[i]\n",
    "        if str(aa1) != 'nan':\n",
    "            df.aa1[i] = str(seq1(aa1))\n",
    "        if str(aa2) != 'nan':\n",
    "            df.aa2[i] = str(seq1(aa2))\n",
    "    return df"
   ]
  },
  {
   "cell_type": "code",
   "execution_count": 98,
   "metadata": {},
   "outputs": [
    {
     "output_type": "execute_result",
     "data": {
      "text/plain": [
       "      uniprot      organism                           mlo     hgnc_id  length  \\\n",
       "0      O15527  Homo sapiens               nuclear speckle   HGNC:8125     345   \n",
       "6      O43663  Homo sapiens                      pcg body   HGNC:9341     620   \n",
       "17     O43663  Homo sapiens                      pcg body   HGNC:9341     620   \n",
       "27     O95613  Homo sapiens  centrosome/spindle pole body  HGNC:16068    3336   \n",
       "28     O95613  Homo sapiens  centrosome/spindle pole body  HGNC:16068    3336   \n",
       "...       ...           ...                           ...         ...     ...   \n",
       "35576  Q15233  Homo sapiens                   paraspeckle   HGNC:7871     471   \n",
       "35577  Q15233  Homo sapiens                   paraspeckle   HGNC:7871     471   \n",
       "35579  Q15233  Homo sapiens                   paraspeckle   HGNC:7871     471   \n",
       "35580  P23246  Homo sapiens                   paraspeckle  HGNC:10774     707   \n",
       "35581  P23246  Homo sapiens                   paraspeckle  HGNC:10774     707   \n",
       "\n",
       "                                                sequence  geneid genesymbol  \\\n",
       "0      MPARALLPRRMGHRTLASTPALWASIPCPRSELRLDLVLPSGQSFR...  4968.0       OGG1   \n",
       "6      MRRSEVLAEESIVCLQKALNHLREIWELIGIPEDQRLQRTEVVKKH...  9055.0       PRC1   \n",
       "17     MRRSEVLAEESIVCLQKALNHLREIWELIGIPEDQRLQRTEVVKKH...  9055.0       PRC1   \n",
       "27     MEVEQEQRRRKVEAGRTKLAHFRQRKTKGDSSHSEKKTAKRKGSAV...  5116.0       PCNT   \n",
       "28     MEVEQEQRRRKVEAGRTKLAHFRQRKTKGDSSHSEKKTAKRKGSAV...  5116.0       PCNT   \n",
       "...                                                  ...     ...        ...   \n",
       "35576  MQSNKTFNLEKQNHTPRKHHQHHHQQQHHQQQQQQPPPPPIPANGQ...  4841.0       NONO   \n",
       "35577  MQSNKTFNLEKQNHTPRKHHQHHHQQQHHQQQQQQPPPPPIPANGQ...  4841.0       NONO   \n",
       "35579  MQSNKTFNLEKQNHTPRKHHQHHHQQQHHQQQQQQPPPPPIPANGQ...  4841.0       NONO   \n",
       "35580  MSRDRFRSRGGGGGGFHRRGGGGGRGGLHDFRSPPPGMGLNQNRGP...  6421.0       SFPQ   \n",
       "35581  MSRDRFRSRGGGGGGFHRRGGGGGRGGLHDFRSPPPGMGLNQNRGP...  6421.0       SFPQ   \n",
       "\n",
       "             snpid  alleleid  ...  \\\n",
       "0      104893751.0   22641.0  ...   \n",
       "6        2301826.0  167481.0  ...   \n",
       "17      12911192.0  167492.0  ...   \n",
       "27     119479061.0   19742.0  ...   \n",
       "28     119479062.0   19745.0  ...   \n",
       "...            ...       ...  ...   \n",
       "35576  755888177.0  774198.0  ...   \n",
       "35577         -1.0  822287.0  ...   \n",
       "35579         -1.0  939676.0  ...   \n",
       "35580  149880317.0  718937.0  ...   \n",
       "35581  202231775.0  732407.0  ...   \n",
       "\n",
       "                                                otherids   nuccore_id  \\\n",
       "0      ClinGen:CA250044,UniProtKB:O15527#VAR_009519,O...  NM_002542.5   \n",
       "6                                       ClinGen:CA273794  NM_003981.4   \n",
       "17          ClinGen:CA273806,UniProtKB:O43663#VAR_047769  NM_003981.4   \n",
       "27                     ClinGen:CA250506,OMIM:605925.0001  NM_006031.6   \n",
       "28                     ClinGen:CA250510,OMIM:605925.0004  NM_006031.6   \n",
       "...                                                  ...          ...   \n",
       "35576                                                  -  NM_007363.5   \n",
       "35577                                                  -  NM_007363.5   \n",
       "35579                                                  -  NM_007363.5   \n",
       "35580                                                  -  NM_005066.3   \n",
       "35581                                                  -  NM_005066.3   \n",
       "\n",
       "               cambio          syn  aa1     pos  aa2 aa1_1   pos1 aa2_2  \n",
       "0        (p.Arg46Gln)          NaN  Arg    46.0  Gln   NaN    NaN   NaN  \n",
       "6          (p.Thr94=)   (p.Thr94=)  Thr    94.0  Thr   Thr   94.0   Thr  \n",
       "17      (p.Tyr511Cys)          NaN  Tyr   511.0  Cys   NaN    NaN   NaN  \n",
       "27      (p.Glu220Ter)          NaN  Glu   220.0  Ter   NaN    NaN   NaN  \n",
       "28     (p.Arg1923Ter)          NaN  Arg  1923.0  Ter   NaN    NaN   NaN  \n",
       "...               ...          ...  ...     ...  ...   ...    ...   ...  \n",
       "35576     (p.Arg383=)  (p.Arg383=)  Arg   383.0  Arg   Arg  383.0   Arg  \n",
       "35577   (p.Arg153Ter)          NaN  Arg   153.0  Ter   NaN    NaN   NaN  \n",
       "35579   (p.Thr424Ser)          NaN  Thr   424.0  Ser   NaN    NaN   NaN  \n",
       "35580     (p.Thr411=)  (p.Thr411=)  Thr   411.0  Thr   Thr  411.0   Thr  \n",
       "35581     (p.Gln564=)  (p.Gln564=)  Gln   564.0  Gln   Gln  564.0   Gln  \n",
       "\n",
       "[27775 rows x 25 columns]"
      ],
      "text/html": "<div>\n<style scoped>\n    .dataframe tbody tr th:only-of-type {\n        vertical-align: middle;\n    }\n\n    .dataframe tbody tr th {\n        vertical-align: top;\n    }\n\n    .dataframe thead th {\n        text-align: right;\n    }\n</style>\n<table border=\"1\" class=\"dataframe\">\n  <thead>\n    <tr style=\"text-align: right;\">\n      <th></th>\n      <th>uniprot</th>\n      <th>organism</th>\n      <th>mlo</th>\n      <th>hgnc_id</th>\n      <th>length</th>\n      <th>sequence</th>\n      <th>geneid</th>\n      <th>genesymbol</th>\n      <th>snpid</th>\n      <th>alleleid</th>\n      <th>...</th>\n      <th>otherids</th>\n      <th>nuccore_id</th>\n      <th>cambio</th>\n      <th>syn</th>\n      <th>aa1</th>\n      <th>pos</th>\n      <th>aa2</th>\n      <th>aa1_1</th>\n      <th>pos1</th>\n      <th>aa2_2</th>\n    </tr>\n  </thead>\n  <tbody>\n    <tr>\n      <th>0</th>\n      <td>O15527</td>\n      <td>Homo sapiens</td>\n      <td>nuclear speckle</td>\n      <td>HGNC:8125</td>\n      <td>345</td>\n      <td>MPARALLPRRMGHRTLASTPALWASIPCPRSELRLDLVLPSGQSFR...</td>\n      <td>4968.0</td>\n      <td>OGG1</td>\n      <td>104893751.0</td>\n      <td>22641.0</td>\n      <td>...</td>\n      <td>ClinGen:CA250044,UniProtKB:O15527#VAR_009519,O...</td>\n      <td>NM_002542.5</td>\n      <td>(p.Arg46Gln)</td>\n      <td>NaN</td>\n      <td>Arg</td>\n      <td>46.0</td>\n      <td>Gln</td>\n      <td>NaN</td>\n      <td>NaN</td>\n      <td>NaN</td>\n    </tr>\n    <tr>\n      <th>6</th>\n      <td>O43663</td>\n      <td>Homo sapiens</td>\n      <td>pcg body</td>\n      <td>HGNC:9341</td>\n      <td>620</td>\n      <td>MRRSEVLAEESIVCLQKALNHLREIWELIGIPEDQRLQRTEVVKKH...</td>\n      <td>9055.0</td>\n      <td>PRC1</td>\n      <td>2301826.0</td>\n      <td>167481.0</td>\n      <td>...</td>\n      <td>ClinGen:CA273794</td>\n      <td>NM_003981.4</td>\n      <td>(p.Thr94=)</td>\n      <td>(p.Thr94=)</td>\n      <td>Thr</td>\n      <td>94.0</td>\n      <td>Thr</td>\n      <td>Thr</td>\n      <td>94.0</td>\n      <td>Thr</td>\n    </tr>\n    <tr>\n      <th>17</th>\n      <td>O43663</td>\n      <td>Homo sapiens</td>\n      <td>pcg body</td>\n      <td>HGNC:9341</td>\n      <td>620</td>\n      <td>MRRSEVLAEESIVCLQKALNHLREIWELIGIPEDQRLQRTEVVKKH...</td>\n      <td>9055.0</td>\n      <td>PRC1</td>\n      <td>12911192.0</td>\n      <td>167492.0</td>\n      <td>...</td>\n      <td>ClinGen:CA273806,UniProtKB:O43663#VAR_047769</td>\n      <td>NM_003981.4</td>\n      <td>(p.Tyr511Cys)</td>\n      <td>NaN</td>\n      <td>Tyr</td>\n      <td>511.0</td>\n      <td>Cys</td>\n      <td>NaN</td>\n      <td>NaN</td>\n      <td>NaN</td>\n    </tr>\n    <tr>\n      <th>27</th>\n      <td>O95613</td>\n      <td>Homo sapiens</td>\n      <td>centrosome/spindle pole body</td>\n      <td>HGNC:16068</td>\n      <td>3336</td>\n      <td>MEVEQEQRRRKVEAGRTKLAHFRQRKTKGDSSHSEKKTAKRKGSAV...</td>\n      <td>5116.0</td>\n      <td>PCNT</td>\n      <td>119479061.0</td>\n      <td>19742.0</td>\n      <td>...</td>\n      <td>ClinGen:CA250506,OMIM:605925.0001</td>\n      <td>NM_006031.6</td>\n      <td>(p.Glu220Ter)</td>\n      <td>NaN</td>\n      <td>Glu</td>\n      <td>220.0</td>\n      <td>Ter</td>\n      <td>NaN</td>\n      <td>NaN</td>\n      <td>NaN</td>\n    </tr>\n    <tr>\n      <th>28</th>\n      <td>O95613</td>\n      <td>Homo sapiens</td>\n      <td>centrosome/spindle pole body</td>\n      <td>HGNC:16068</td>\n      <td>3336</td>\n      <td>MEVEQEQRRRKVEAGRTKLAHFRQRKTKGDSSHSEKKTAKRKGSAV...</td>\n      <td>5116.0</td>\n      <td>PCNT</td>\n      <td>119479062.0</td>\n      <td>19745.0</td>\n      <td>...</td>\n      <td>ClinGen:CA250510,OMIM:605925.0004</td>\n      <td>NM_006031.6</td>\n      <td>(p.Arg1923Ter)</td>\n      <td>NaN</td>\n      <td>Arg</td>\n      <td>1923.0</td>\n      <td>Ter</td>\n      <td>NaN</td>\n      <td>NaN</td>\n      <td>NaN</td>\n    </tr>\n    <tr>\n      <th>...</th>\n      <td>...</td>\n      <td>...</td>\n      <td>...</td>\n      <td>...</td>\n      <td>...</td>\n      <td>...</td>\n      <td>...</td>\n      <td>...</td>\n      <td>...</td>\n      <td>...</td>\n      <td>...</td>\n      <td>...</td>\n      <td>...</td>\n      <td>...</td>\n      <td>...</td>\n      <td>...</td>\n      <td>...</td>\n      <td>...</td>\n      <td>...</td>\n      <td>...</td>\n      <td>...</td>\n    </tr>\n    <tr>\n      <th>35576</th>\n      <td>Q15233</td>\n      <td>Homo sapiens</td>\n      <td>paraspeckle</td>\n      <td>HGNC:7871</td>\n      <td>471</td>\n      <td>MQSNKTFNLEKQNHTPRKHHQHHHQQQHHQQQQQQPPPPPIPANGQ...</td>\n      <td>4841.0</td>\n      <td>NONO</td>\n      <td>755888177.0</td>\n      <td>774198.0</td>\n      <td>...</td>\n      <td>-</td>\n      <td>NM_007363.5</td>\n      <td>(p.Arg383=)</td>\n      <td>(p.Arg383=)</td>\n      <td>Arg</td>\n      <td>383.0</td>\n      <td>Arg</td>\n      <td>Arg</td>\n      <td>383.0</td>\n      <td>Arg</td>\n    </tr>\n    <tr>\n      <th>35577</th>\n      <td>Q15233</td>\n      <td>Homo sapiens</td>\n      <td>paraspeckle</td>\n      <td>HGNC:7871</td>\n      <td>471</td>\n      <td>MQSNKTFNLEKQNHTPRKHHQHHHQQQHHQQQQQQPPPPPIPANGQ...</td>\n      <td>4841.0</td>\n      <td>NONO</td>\n      <td>-1.0</td>\n      <td>822287.0</td>\n      <td>...</td>\n      <td>-</td>\n      <td>NM_007363.5</td>\n      <td>(p.Arg153Ter)</td>\n      <td>NaN</td>\n      <td>Arg</td>\n      <td>153.0</td>\n      <td>Ter</td>\n      <td>NaN</td>\n      <td>NaN</td>\n      <td>NaN</td>\n    </tr>\n    <tr>\n      <th>35579</th>\n      <td>Q15233</td>\n      <td>Homo sapiens</td>\n      <td>paraspeckle</td>\n      <td>HGNC:7871</td>\n      <td>471</td>\n      <td>MQSNKTFNLEKQNHTPRKHHQHHHQQQHHQQQQQQPPPPPIPANGQ...</td>\n      <td>4841.0</td>\n      <td>NONO</td>\n      <td>-1.0</td>\n      <td>939676.0</td>\n      <td>...</td>\n      <td>-</td>\n      <td>NM_007363.5</td>\n      <td>(p.Thr424Ser)</td>\n      <td>NaN</td>\n      <td>Thr</td>\n      <td>424.0</td>\n      <td>Ser</td>\n      <td>NaN</td>\n      <td>NaN</td>\n      <td>NaN</td>\n    </tr>\n    <tr>\n      <th>35580</th>\n      <td>P23246</td>\n      <td>Homo sapiens</td>\n      <td>paraspeckle</td>\n      <td>HGNC:10774</td>\n      <td>707</td>\n      <td>MSRDRFRSRGGGGGGFHRRGGGGGRGGLHDFRSPPPGMGLNQNRGP...</td>\n      <td>6421.0</td>\n      <td>SFPQ</td>\n      <td>149880317.0</td>\n      <td>718937.0</td>\n      <td>...</td>\n      <td>-</td>\n      <td>NM_005066.3</td>\n      <td>(p.Thr411=)</td>\n      <td>(p.Thr411=)</td>\n      <td>Thr</td>\n      <td>411.0</td>\n      <td>Thr</td>\n      <td>Thr</td>\n      <td>411.0</td>\n      <td>Thr</td>\n    </tr>\n    <tr>\n      <th>35581</th>\n      <td>P23246</td>\n      <td>Homo sapiens</td>\n      <td>paraspeckle</td>\n      <td>HGNC:10774</td>\n      <td>707</td>\n      <td>MSRDRFRSRGGGGGGFHRRGGGGGRGGLHDFRSPPPGMGLNQNRGP...</td>\n      <td>6421.0</td>\n      <td>SFPQ</td>\n      <td>202231775.0</td>\n      <td>732407.0</td>\n      <td>...</td>\n      <td>-</td>\n      <td>NM_005066.3</td>\n      <td>(p.Gln564=)</td>\n      <td>(p.Gln564=)</td>\n      <td>Gln</td>\n      <td>564.0</td>\n      <td>Gln</td>\n      <td>Gln</td>\n      <td>564.0</td>\n      <td>Gln</td>\n    </tr>\n  </tbody>\n</table>\n<p>27775 rows × 25 columns</p>\n</div>"
     },
     "metadata": {},
     "execution_count": 98
    }
   ],
   "source": [
    "box_snvs"
   ]
  },
  {
   "cell_type": "code",
   "execution_count": 99,
   "metadata": {},
   "outputs": [
    {
     "output_type": "stream",
     "name": "stderr",
     "text": [
      "<ipython-input-97-7d224ab237b3>:9: SettingWithCopyWarning: \nA value is trying to be set on a copy of a slice from a DataFrame\n\nSee the caveats in the documentation: https://pandas.pydata.org/pandas-docs/stable/user_guide/indexing.html#returning-a-view-versus-a-copy\n  df.aa1[i] = str(seq1(aa1))\n<ipython-input-99-88eb711a62e6>:1: SettingWithCopyWarning: \nA value is trying to be set on a copy of a slice from a DataFrame\n\nSee the caveats in the documentation: https://pandas.pydata.org/pandas-docs/stable/user_guide/indexing.html#returning-a-view-versus-a-copy\n  aa_3to1(box_snvs)\n<ipython-input-97-7d224ab237b3>:11: SettingWithCopyWarning: \nA value is trying to be set on a copy of a slice from a DataFrame\n\nSee the caveats in the documentation: https://pandas.pydata.org/pandas-docs/stable/user_guide/indexing.html#returning-a-view-versus-a-copy\n  df.aa2[i] = str(seq1(aa2))\n"
     ]
    },
    {
     "output_type": "execute_result",
     "data": {
      "text/plain": [
       "      uniprot      organism                           mlo     hgnc_id  length  \\\n",
       "0      O15527  Homo sapiens               nuclear speckle   HGNC:8125     345   \n",
       "6      O43663  Homo sapiens                      pcg body   HGNC:9341     620   \n",
       "17     O43663  Homo sapiens                      pcg body   HGNC:9341     620   \n",
       "27     O95613  Homo sapiens  centrosome/spindle pole body  HGNC:16068    3336   \n",
       "28     O95613  Homo sapiens  centrosome/spindle pole body  HGNC:16068    3336   \n",
       "...       ...           ...                           ...         ...     ...   \n",
       "35576  Q15233  Homo sapiens                   paraspeckle   HGNC:7871     471   \n",
       "35577  Q15233  Homo sapiens                   paraspeckle   HGNC:7871     471   \n",
       "35579  Q15233  Homo sapiens                   paraspeckle   HGNC:7871     471   \n",
       "35580  P23246  Homo sapiens                   paraspeckle  HGNC:10774     707   \n",
       "35581  P23246  Homo sapiens                   paraspeckle  HGNC:10774     707   \n",
       "\n",
       "                                                sequence  geneid genesymbol  \\\n",
       "0      MPARALLPRRMGHRTLASTPALWASIPCPRSELRLDLVLPSGQSFR...  4968.0       OGG1   \n",
       "6      MRRSEVLAEESIVCLQKALNHLREIWELIGIPEDQRLQRTEVVKKH...  9055.0       PRC1   \n",
       "17     MRRSEVLAEESIVCLQKALNHLREIWELIGIPEDQRLQRTEVVKKH...  9055.0       PRC1   \n",
       "27     MEVEQEQRRRKVEAGRTKLAHFRQRKTKGDSSHSEKKTAKRKGSAV...  5116.0       PCNT   \n",
       "28     MEVEQEQRRRKVEAGRTKLAHFRQRKTKGDSSHSEKKTAKRKGSAV...  5116.0       PCNT   \n",
       "...                                                  ...     ...        ...   \n",
       "35576  MQSNKTFNLEKQNHTPRKHHQHHHQQQHHQQQQQQPPPPPIPANGQ...  4841.0       NONO   \n",
       "35577  MQSNKTFNLEKQNHTPRKHHQHHHQQQHHQQQQQQPPPPPIPANGQ...  4841.0       NONO   \n",
       "35579  MQSNKTFNLEKQNHTPRKHHQHHHQQQHHQQQQQQPPPPPIPANGQ...  4841.0       NONO   \n",
       "35580  MSRDRFRSRGGGGGGFHRRGGGGGRGGLHDFRSPPPGMGLNQNRGP...  6421.0       SFPQ   \n",
       "35581  MSRDRFRSRGGGGGGFHRRGGGGGRGGLHDFRSPPPGMGLNQNRGP...  6421.0       SFPQ   \n",
       "\n",
       "             snpid  alleleid  ...  \\\n",
       "0      104893751.0   22641.0  ...   \n",
       "6        2301826.0  167481.0  ...   \n",
       "17      12911192.0  167492.0  ...   \n",
       "27     119479061.0   19742.0  ...   \n",
       "28     119479062.0   19745.0  ...   \n",
       "...            ...       ...  ...   \n",
       "35576  755888177.0  774198.0  ...   \n",
       "35577         -1.0  822287.0  ...   \n",
       "35579         -1.0  939676.0  ...   \n",
       "35580  149880317.0  718937.0  ...   \n",
       "35581  202231775.0  732407.0  ...   \n",
       "\n",
       "                                                otherids   nuccore_id  \\\n",
       "0      ClinGen:CA250044,UniProtKB:O15527#VAR_009519,O...  NM_002542.5   \n",
       "6                                       ClinGen:CA273794  NM_003981.4   \n",
       "17          ClinGen:CA273806,UniProtKB:O43663#VAR_047769  NM_003981.4   \n",
       "27                     ClinGen:CA250506,OMIM:605925.0001  NM_006031.6   \n",
       "28                     ClinGen:CA250510,OMIM:605925.0004  NM_006031.6   \n",
       "...                                                  ...          ...   \n",
       "35576                                                  -  NM_007363.5   \n",
       "35577                                                  -  NM_007363.5   \n",
       "35579                                                  -  NM_007363.5   \n",
       "35580                                                  -  NM_005066.3   \n",
       "35581                                                  -  NM_005066.3   \n",
       "\n",
       "               cambio          syn aa1     pos aa2 aa1_1   pos1 aa2_2  \n",
       "0        (p.Arg46Gln)          NaN   R    46.0   Q   NaN    NaN   NaN  \n",
       "6          (p.Thr94=)   (p.Thr94=)   T    94.0   T   Thr   94.0   Thr  \n",
       "17      (p.Tyr511Cys)          NaN   Y   511.0   C   NaN    NaN   NaN  \n",
       "27      (p.Glu220Ter)          NaN   E   220.0   *   NaN    NaN   NaN  \n",
       "28     (p.Arg1923Ter)          NaN   R  1923.0   *   NaN    NaN   NaN  \n",
       "...               ...          ...  ..     ...  ..   ...    ...   ...  \n",
       "35576     (p.Arg383=)  (p.Arg383=)   R   383.0   R   Arg  383.0   Arg  \n",
       "35577   (p.Arg153Ter)          NaN   R   153.0   *   NaN    NaN   NaN  \n",
       "35579   (p.Thr424Ser)          NaN   T   424.0   S   NaN    NaN   NaN  \n",
       "35580     (p.Thr411=)  (p.Thr411=)   T   411.0   T   Thr  411.0   Thr  \n",
       "35581     (p.Gln564=)  (p.Gln564=)   Q   564.0   Q   Gln  564.0   Gln  \n",
       "\n",
       "[27775 rows x 25 columns]"
      ],
      "text/html": "<div>\n<style scoped>\n    .dataframe tbody tr th:only-of-type {\n        vertical-align: middle;\n    }\n\n    .dataframe tbody tr th {\n        vertical-align: top;\n    }\n\n    .dataframe thead th {\n        text-align: right;\n    }\n</style>\n<table border=\"1\" class=\"dataframe\">\n  <thead>\n    <tr style=\"text-align: right;\">\n      <th></th>\n      <th>uniprot</th>\n      <th>organism</th>\n      <th>mlo</th>\n      <th>hgnc_id</th>\n      <th>length</th>\n      <th>sequence</th>\n      <th>geneid</th>\n      <th>genesymbol</th>\n      <th>snpid</th>\n      <th>alleleid</th>\n      <th>...</th>\n      <th>otherids</th>\n      <th>nuccore_id</th>\n      <th>cambio</th>\n      <th>syn</th>\n      <th>aa1</th>\n      <th>pos</th>\n      <th>aa2</th>\n      <th>aa1_1</th>\n      <th>pos1</th>\n      <th>aa2_2</th>\n    </tr>\n  </thead>\n  <tbody>\n    <tr>\n      <th>0</th>\n      <td>O15527</td>\n      <td>Homo sapiens</td>\n      <td>nuclear speckle</td>\n      <td>HGNC:8125</td>\n      <td>345</td>\n      <td>MPARALLPRRMGHRTLASTPALWASIPCPRSELRLDLVLPSGQSFR...</td>\n      <td>4968.0</td>\n      <td>OGG1</td>\n      <td>104893751.0</td>\n      <td>22641.0</td>\n      <td>...</td>\n      <td>ClinGen:CA250044,UniProtKB:O15527#VAR_009519,O...</td>\n      <td>NM_002542.5</td>\n      <td>(p.Arg46Gln)</td>\n      <td>NaN</td>\n      <td>R</td>\n      <td>46.0</td>\n      <td>Q</td>\n      <td>NaN</td>\n      <td>NaN</td>\n      <td>NaN</td>\n    </tr>\n    <tr>\n      <th>6</th>\n      <td>O43663</td>\n      <td>Homo sapiens</td>\n      <td>pcg body</td>\n      <td>HGNC:9341</td>\n      <td>620</td>\n      <td>MRRSEVLAEESIVCLQKALNHLREIWELIGIPEDQRLQRTEVVKKH...</td>\n      <td>9055.0</td>\n      <td>PRC1</td>\n      <td>2301826.0</td>\n      <td>167481.0</td>\n      <td>...</td>\n      <td>ClinGen:CA273794</td>\n      <td>NM_003981.4</td>\n      <td>(p.Thr94=)</td>\n      <td>(p.Thr94=)</td>\n      <td>T</td>\n      <td>94.0</td>\n      <td>T</td>\n      <td>Thr</td>\n      <td>94.0</td>\n      <td>Thr</td>\n    </tr>\n    <tr>\n      <th>17</th>\n      <td>O43663</td>\n      <td>Homo sapiens</td>\n      <td>pcg body</td>\n      <td>HGNC:9341</td>\n      <td>620</td>\n      <td>MRRSEVLAEESIVCLQKALNHLREIWELIGIPEDQRLQRTEVVKKH...</td>\n      <td>9055.0</td>\n      <td>PRC1</td>\n      <td>12911192.0</td>\n      <td>167492.0</td>\n      <td>...</td>\n      <td>ClinGen:CA273806,UniProtKB:O43663#VAR_047769</td>\n      <td>NM_003981.4</td>\n      <td>(p.Tyr511Cys)</td>\n      <td>NaN</td>\n      <td>Y</td>\n      <td>511.0</td>\n      <td>C</td>\n      <td>NaN</td>\n      <td>NaN</td>\n      <td>NaN</td>\n    </tr>\n    <tr>\n      <th>27</th>\n      <td>O95613</td>\n      <td>Homo sapiens</td>\n      <td>centrosome/spindle pole body</td>\n      <td>HGNC:16068</td>\n      <td>3336</td>\n      <td>MEVEQEQRRRKVEAGRTKLAHFRQRKTKGDSSHSEKKTAKRKGSAV...</td>\n      <td>5116.0</td>\n      <td>PCNT</td>\n      <td>119479061.0</td>\n      <td>19742.0</td>\n      <td>...</td>\n      <td>ClinGen:CA250506,OMIM:605925.0001</td>\n      <td>NM_006031.6</td>\n      <td>(p.Glu220Ter)</td>\n      <td>NaN</td>\n      <td>E</td>\n      <td>220.0</td>\n      <td>*</td>\n      <td>NaN</td>\n      <td>NaN</td>\n      <td>NaN</td>\n    </tr>\n    <tr>\n      <th>28</th>\n      <td>O95613</td>\n      <td>Homo sapiens</td>\n      <td>centrosome/spindle pole body</td>\n      <td>HGNC:16068</td>\n      <td>3336</td>\n      <td>MEVEQEQRRRKVEAGRTKLAHFRQRKTKGDSSHSEKKTAKRKGSAV...</td>\n      <td>5116.0</td>\n      <td>PCNT</td>\n      <td>119479062.0</td>\n      <td>19745.0</td>\n      <td>...</td>\n      <td>ClinGen:CA250510,OMIM:605925.0004</td>\n      <td>NM_006031.6</td>\n      <td>(p.Arg1923Ter)</td>\n      <td>NaN</td>\n      <td>R</td>\n      <td>1923.0</td>\n      <td>*</td>\n      <td>NaN</td>\n      <td>NaN</td>\n      <td>NaN</td>\n    </tr>\n    <tr>\n      <th>...</th>\n      <td>...</td>\n      <td>...</td>\n      <td>...</td>\n      <td>...</td>\n      <td>...</td>\n      <td>...</td>\n      <td>...</td>\n      <td>...</td>\n      <td>...</td>\n      <td>...</td>\n      <td>...</td>\n      <td>...</td>\n      <td>...</td>\n      <td>...</td>\n      <td>...</td>\n      <td>...</td>\n      <td>...</td>\n      <td>...</td>\n      <td>...</td>\n      <td>...</td>\n      <td>...</td>\n    </tr>\n    <tr>\n      <th>35576</th>\n      <td>Q15233</td>\n      <td>Homo sapiens</td>\n      <td>paraspeckle</td>\n      <td>HGNC:7871</td>\n      <td>471</td>\n      <td>MQSNKTFNLEKQNHTPRKHHQHHHQQQHHQQQQQQPPPPPIPANGQ...</td>\n      <td>4841.0</td>\n      <td>NONO</td>\n      <td>755888177.0</td>\n      <td>774198.0</td>\n      <td>...</td>\n      <td>-</td>\n      <td>NM_007363.5</td>\n      <td>(p.Arg383=)</td>\n      <td>(p.Arg383=)</td>\n      <td>R</td>\n      <td>383.0</td>\n      <td>R</td>\n      <td>Arg</td>\n      <td>383.0</td>\n      <td>Arg</td>\n    </tr>\n    <tr>\n      <th>35577</th>\n      <td>Q15233</td>\n      <td>Homo sapiens</td>\n      <td>paraspeckle</td>\n      <td>HGNC:7871</td>\n      <td>471</td>\n      <td>MQSNKTFNLEKQNHTPRKHHQHHHQQQHHQQQQQQPPPPPIPANGQ...</td>\n      <td>4841.0</td>\n      <td>NONO</td>\n      <td>-1.0</td>\n      <td>822287.0</td>\n      <td>...</td>\n      <td>-</td>\n      <td>NM_007363.5</td>\n      <td>(p.Arg153Ter)</td>\n      <td>NaN</td>\n      <td>R</td>\n      <td>153.0</td>\n      <td>*</td>\n      <td>NaN</td>\n      <td>NaN</td>\n      <td>NaN</td>\n    </tr>\n    <tr>\n      <th>35579</th>\n      <td>Q15233</td>\n      <td>Homo sapiens</td>\n      <td>paraspeckle</td>\n      <td>HGNC:7871</td>\n      <td>471</td>\n      <td>MQSNKTFNLEKQNHTPRKHHQHHHQQQHHQQQQQQPPPPPIPANGQ...</td>\n      <td>4841.0</td>\n      <td>NONO</td>\n      <td>-1.0</td>\n      <td>939676.0</td>\n      <td>...</td>\n      <td>-</td>\n      <td>NM_007363.5</td>\n      <td>(p.Thr424Ser)</td>\n      <td>NaN</td>\n      <td>T</td>\n      <td>424.0</td>\n      <td>S</td>\n      <td>NaN</td>\n      <td>NaN</td>\n      <td>NaN</td>\n    </tr>\n    <tr>\n      <th>35580</th>\n      <td>P23246</td>\n      <td>Homo sapiens</td>\n      <td>paraspeckle</td>\n      <td>HGNC:10774</td>\n      <td>707</td>\n      <td>MSRDRFRSRGGGGGGFHRRGGGGGRGGLHDFRSPPPGMGLNQNRGP...</td>\n      <td>6421.0</td>\n      <td>SFPQ</td>\n      <td>149880317.0</td>\n      <td>718937.0</td>\n      <td>...</td>\n      <td>-</td>\n      <td>NM_005066.3</td>\n      <td>(p.Thr411=)</td>\n      <td>(p.Thr411=)</td>\n      <td>T</td>\n      <td>411.0</td>\n      <td>T</td>\n      <td>Thr</td>\n      <td>411.0</td>\n      <td>Thr</td>\n    </tr>\n    <tr>\n      <th>35581</th>\n      <td>P23246</td>\n      <td>Homo sapiens</td>\n      <td>paraspeckle</td>\n      <td>HGNC:10774</td>\n      <td>707</td>\n      <td>MSRDRFRSRGGGGGGFHRRGGGGGRGGLHDFRSPPPGMGLNQNRGP...</td>\n      <td>6421.0</td>\n      <td>SFPQ</td>\n      <td>202231775.0</td>\n      <td>732407.0</td>\n      <td>...</td>\n      <td>-</td>\n      <td>NM_005066.3</td>\n      <td>(p.Gln564=)</td>\n      <td>(p.Gln564=)</td>\n      <td>Q</td>\n      <td>564.0</td>\n      <td>Q</td>\n      <td>Gln</td>\n      <td>564.0</td>\n      <td>Gln</td>\n    </tr>\n  </tbody>\n</table>\n<p>27775 rows × 25 columns</p>\n</div>"
     },
     "metadata": {},
     "execution_count": 99
    }
   ],
   "source": [
    "aa_3to1(box_snvs)\n",
    "box_snvs"
   ]
  },
  {
   "cell_type": "code",
   "execution_count": 106,
   "metadata": {},
   "outputs": [
    {
     "output_type": "execute_result",
     "data": {
      "text/plain": [
       "317"
      ]
     },
     "metadata": {},
     "execution_count": 106
    }
   ],
   "source": [
    "len(box_snvs.uniprot.unique())"
   ]
  },
  {
   "cell_type": "code",
   "execution_count": 68,
   "metadata": {},
   "outputs": [
    {
     "output_type": "stream",
     "name": "stderr",
     "text": [
      "<ipython-input-68-a54b3421f8bb>:6: SettingWithCopyWarning: \nA value is trying to be set on a copy of a slice from a DataFrame\n\nSee the caveats in the documentation: https://pandas.pydata.org/pandas-docs/stable/user_guide/indexing.html#returning-a-view-versus-a-copy\n  box_snvs.aa1[i] = str(seq1(aa1))\nC:\\Users\\User\\AppData\\Roaming\\Python\\Python39\\site-packages\\IPython\\core\\interactiveshell.py:3418: SettingWithCopyWarning: \nA value is trying to be set on a copy of a slice from a DataFrame\n\nSee the caveats in the documentation: https://pandas.pydata.org/pandas-docs/stable/user_guide/indexing.html#returning-a-view-versus-a-copy\n  exec(code_obj, self.user_global_ns, self.user_ns)\n<ipython-input-68-a54b3421f8bb>:8: SettingWithCopyWarning: \nA value is trying to be set on a copy of a slice from a DataFrame\n\nSee the caveats in the documentation: https://pandas.pydata.org/pandas-docs/stable/user_guide/indexing.html#returning-a-view-versus-a-copy\n  box_snvs.aa2[i] = str(seq1(aa2))\n"
     ]
    },
    {
     "output_type": "execute_result",
     "data": {
      "text/plain": [
       "   uniprot      organism                           mlo     hgnc_id  length  \\\n",
       "0   O15527  Homo sapiens               nuclear speckle   HGNC:8125     345   \n",
       "6   O43663  Homo sapiens                      pcg body   HGNC:9341     620   \n",
       "17  O43663  Homo sapiens                      pcg body   HGNC:9341     620   \n",
       "27  O95613  Homo sapiens  centrosome/spindle pole body  HGNC:16068    3336   \n",
       "28  O95613  Homo sapiens  centrosome/spindle pole body  HGNC:16068    3336   \n",
       "\n",
       "                                             sequence  geneid genesymbol  \\\n",
       "0   MPARALLPRRMGHRTLASTPALWASIPCPRSELRLDLVLPSGQSFR...  4968.0       OGG1   \n",
       "6   MRRSEVLAEESIVCLQKALNHLREIWELIGIPEDQRLQRTEVVKKH...  9055.0       PRC1   \n",
       "17  MRRSEVLAEESIVCLQKALNHLREIWELIGIPEDQRLQRTEVVKKH...  9055.0       PRC1   \n",
       "27  MEVEQEQRRRKVEAGRTKLAHFRQRKTKGDSSHSEKKTAKRKGSAV...  5116.0       PCNT   \n",
       "28  MEVEQEQRRRKVEAGRTKLAHFRQRKTKGDSSHSEKKTAKRKGSAV...  5116.0       PCNT   \n",
       "\n",
       "          snpid  alleleid  ...  \\\n",
       "0   104893751.0   22641.0  ...   \n",
       "6     2301826.0  167481.0  ...   \n",
       "17   12911192.0  167492.0  ...   \n",
       "27  119479061.0   19742.0  ...   \n",
       "28  119479062.0   19745.0  ...   \n",
       "\n",
       "                                             otherids   nuccore_id  \\\n",
       "0   ClinGen:CA250044,UniProtKB:O15527#VAR_009519,O...  NM_002542.5   \n",
       "6                                    ClinGen:CA273794  NM_003981.4   \n",
       "17       ClinGen:CA273806,UniProtKB:O43663#VAR_047769  NM_003981.4   \n",
       "27                  ClinGen:CA250506,OMIM:605925.0001  NM_006031.6   \n",
       "28                  ClinGen:CA250510,OMIM:605925.0004  NM_006031.6   \n",
       "\n",
       "            cambio         syn aa1     pos aa2 aa1_1  pos1 aa2_2  \n",
       "0     (p.Arg46Gln)         NaN   R    46.0   Q   NaN   NaN   NaN  \n",
       "6       (p.Thr94=)  (p.Thr94=)   T    94.0   T   Thr  94.0   Thr  \n",
       "17   (p.Tyr511Cys)         NaN   Y   511.0   C   NaN   NaN   NaN  \n",
       "27   (p.Glu220Ter)         NaN   E   220.0   *   NaN   NaN   NaN  \n",
       "28  (p.Arg1923Ter)         NaN   R  1923.0   *   NaN   NaN   NaN  \n",
       "\n",
       "[5 rows x 25 columns]"
      ],
      "text/html": "<div>\n<style scoped>\n    .dataframe tbody tr th:only-of-type {\n        vertical-align: middle;\n    }\n\n    .dataframe tbody tr th {\n        vertical-align: top;\n    }\n\n    .dataframe thead th {\n        text-align: right;\n    }\n</style>\n<table border=\"1\" class=\"dataframe\">\n  <thead>\n    <tr style=\"text-align: right;\">\n      <th></th>\n      <th>uniprot</th>\n      <th>organism</th>\n      <th>mlo</th>\n      <th>hgnc_id</th>\n      <th>length</th>\n      <th>sequence</th>\n      <th>geneid</th>\n      <th>genesymbol</th>\n      <th>snpid</th>\n      <th>alleleid</th>\n      <th>...</th>\n      <th>otherids</th>\n      <th>nuccore_id</th>\n      <th>cambio</th>\n      <th>syn</th>\n      <th>aa1</th>\n      <th>pos</th>\n      <th>aa2</th>\n      <th>aa1_1</th>\n      <th>pos1</th>\n      <th>aa2_2</th>\n    </tr>\n  </thead>\n  <tbody>\n    <tr>\n      <th>0</th>\n      <td>O15527</td>\n      <td>Homo sapiens</td>\n      <td>nuclear speckle</td>\n      <td>HGNC:8125</td>\n      <td>345</td>\n      <td>MPARALLPRRMGHRTLASTPALWASIPCPRSELRLDLVLPSGQSFR...</td>\n      <td>4968.0</td>\n      <td>OGG1</td>\n      <td>104893751.0</td>\n      <td>22641.0</td>\n      <td>...</td>\n      <td>ClinGen:CA250044,UniProtKB:O15527#VAR_009519,O...</td>\n      <td>NM_002542.5</td>\n      <td>(p.Arg46Gln)</td>\n      <td>NaN</td>\n      <td>R</td>\n      <td>46.0</td>\n      <td>Q</td>\n      <td>NaN</td>\n      <td>NaN</td>\n      <td>NaN</td>\n    </tr>\n    <tr>\n      <th>6</th>\n      <td>O43663</td>\n      <td>Homo sapiens</td>\n      <td>pcg body</td>\n      <td>HGNC:9341</td>\n      <td>620</td>\n      <td>MRRSEVLAEESIVCLQKALNHLREIWELIGIPEDQRLQRTEVVKKH...</td>\n      <td>9055.0</td>\n      <td>PRC1</td>\n      <td>2301826.0</td>\n      <td>167481.0</td>\n      <td>...</td>\n      <td>ClinGen:CA273794</td>\n      <td>NM_003981.4</td>\n      <td>(p.Thr94=)</td>\n      <td>(p.Thr94=)</td>\n      <td>T</td>\n      <td>94.0</td>\n      <td>T</td>\n      <td>Thr</td>\n      <td>94.0</td>\n      <td>Thr</td>\n    </tr>\n    <tr>\n      <th>17</th>\n      <td>O43663</td>\n      <td>Homo sapiens</td>\n      <td>pcg body</td>\n      <td>HGNC:9341</td>\n      <td>620</td>\n      <td>MRRSEVLAEESIVCLQKALNHLREIWELIGIPEDQRLQRTEVVKKH...</td>\n      <td>9055.0</td>\n      <td>PRC1</td>\n      <td>12911192.0</td>\n      <td>167492.0</td>\n      <td>...</td>\n      <td>ClinGen:CA273806,UniProtKB:O43663#VAR_047769</td>\n      <td>NM_003981.4</td>\n      <td>(p.Tyr511Cys)</td>\n      <td>NaN</td>\n      <td>Y</td>\n      <td>511.0</td>\n      <td>C</td>\n      <td>NaN</td>\n      <td>NaN</td>\n      <td>NaN</td>\n    </tr>\n    <tr>\n      <th>27</th>\n      <td>O95613</td>\n      <td>Homo sapiens</td>\n      <td>centrosome/spindle pole body</td>\n      <td>HGNC:16068</td>\n      <td>3336</td>\n      <td>MEVEQEQRRRKVEAGRTKLAHFRQRKTKGDSSHSEKKTAKRKGSAV...</td>\n      <td>5116.0</td>\n      <td>PCNT</td>\n      <td>119479061.0</td>\n      <td>19742.0</td>\n      <td>...</td>\n      <td>ClinGen:CA250506,OMIM:605925.0001</td>\n      <td>NM_006031.6</td>\n      <td>(p.Glu220Ter)</td>\n      <td>NaN</td>\n      <td>E</td>\n      <td>220.0</td>\n      <td>*</td>\n      <td>NaN</td>\n      <td>NaN</td>\n      <td>NaN</td>\n    </tr>\n    <tr>\n      <th>28</th>\n      <td>O95613</td>\n      <td>Homo sapiens</td>\n      <td>centrosome/spindle pole body</td>\n      <td>HGNC:16068</td>\n      <td>3336</td>\n      <td>MEVEQEQRRRKVEAGRTKLAHFRQRKTKGDSSHSEKKTAKRKGSAV...</td>\n      <td>5116.0</td>\n      <td>PCNT</td>\n      <td>119479062.0</td>\n      <td>19745.0</td>\n      <td>...</td>\n      <td>ClinGen:CA250510,OMIM:605925.0004</td>\n      <td>NM_006031.6</td>\n      <td>(p.Arg1923Ter)</td>\n      <td>NaN</td>\n      <td>R</td>\n      <td>1923.0</td>\n      <td>*</td>\n      <td>NaN</td>\n      <td>NaN</td>\n      <td>NaN</td>\n    </tr>\n  </tbody>\n</table>\n<p>5 rows × 25 columns</p>\n</div>"
     },
     "metadata": {},
     "execution_count": 68
    }
   ],
   "source": [
    "# Paso los aa de tres letras a una\n",
    "'''for i in box_snvs.index:\n",
    "    aa1 = box_snvs.aa1[i]\n",
    "    aa2 = box_snvs.aa2[i]\n",
    "    if str(aa1) != 'nan':\n",
    "        box_snvs.aa1[i] = str(seq1(aa1))\n",
    "    if str(aa2) != 'nan':\n",
    "        box_snvs.aa2[i] = str(seq1(aa2))\n",
    "box_snvs.head()'''"
   ]
  },
  {
   "cell_type": "code",
   "execution_count": 100,
   "metadata": {},
   "outputs": [
    {
     "output_type": "stream",
     "name": "stdout",
     "text": [
      "8424\n"
     ]
    },
    {
     "output_type": "execute_result",
     "data": {
      "text/plain": [
       "   uniprot      organism                           mlo     hgnc_id  length  \\\n",
       "6   O43663  Homo sapiens                      pcg body   HGNC:9341     620   \n",
       "34  O95613  Homo sapiens  centrosome/spindle pole body  HGNC:16068    3336   \n",
       "35  O95613  Homo sapiens  centrosome/spindle pole body  HGNC:16068    3336   \n",
       "40  O95613  Homo sapiens  centrosome/spindle pole body  HGNC:16068    3336   \n",
       "41  O95613  Homo sapiens  centrosome/spindle pole body  HGNC:16068    3336   \n",
       "\n",
       "                                             sequence  geneid genesymbol  \\\n",
       "6   MRRSEVLAEESIVCLQKALNHLREIWELIGIPEDQRLQRTEVVKKH...  9055.0       PRC1   \n",
       "34  MEVEQEQRRRKVEAGRTKLAHFRQRKTKGDSSHSEKKTAKRKGSAV...  5116.0       PCNT   \n",
       "35  MEVEQEQRRRKVEAGRTKLAHFRQRKTKGDSSHSEKKTAKRKGSAV...  5116.0       PCNT   \n",
       "40  MEVEQEQRRRKVEAGRTKLAHFRQRKTKGDSSHSEKKTAKRKGSAV...  5116.0       PCNT   \n",
       "41  MEVEQEQRRRKVEAGRTKLAHFRQRKTKGDSSHSEKKTAKRKGSAV...  5116.0       PCNT   \n",
       "\n",
       "         snpid  alleleid  ...                                      name  \\\n",
       "6    2301826.0  167481.0  ...     NM_003981.4(PRC1):c.282G>A (p.Thr94=)   \n",
       "34  16979162.0  101236.0  ...  NM_006031.6(PCNT):c.5631C>T (p.Ile1877=)   \n",
       "35  61735811.0  101237.0  ...  NM_006031.6(PCNT):c.5634C>T (p.Asp1878=)   \n",
       "40  17371795.0  101242.0  ...  NM_006031.6(PCNT):c.8811A>G (p.Thr2937=)   \n",
       "41  61735826.0  101243.0  ...  NM_006031.6(PCNT):c.8988C>T (p.Ala2996=)   \n",
       "\n",
       "      origin                                       phenotypeids  \\\n",
       "6   germline  MONDO:MONDO:0016419,MedGen:C0006142,OMIM:11448...   \n",
       "34  germline  MedGen:CN169374|MONDO:MONDO:0008872,MedGen:C04...   \n",
       "35  germline  MedGen:CN169374|MONDO:MONDO:0008872,MedGen:C04...   \n",
       "40  germline  MedGen:CN169374|MONDO:MONDO:0008872,MedGen:C04...   \n",
       "41  germline  MedGen:CN169374|MONDO:MONDO:0008872,MedGen:C04...   \n",
       "\n",
       "                                        phenotypelist          otherids  \\\n",
       "6                           Familial cancer of breast  ClinGen:CA273794   \n",
       "34  not specified|Microcephalic osteodysplastic pr...  ClinGen:CA148443   \n",
       "35  not specified|Microcephalic osteodysplastic pr...  ClinGen:CA148445   \n",
       "40  not specified|Microcephalic osteodysplastic pr...  ClinGen:CA148453   \n",
       "41  not specified|Microcephalic osteodysplastic pr...  ClinGen:CA148455   \n",
       "\n",
       "     nuccore_id        cambio aa1     pos  aa2  \n",
       "6   NM_003981.4    (p.Thr94=)   T    94.0    T  \n",
       "34  NM_006031.6  (p.Ile1877=)   I  1877.0    I  \n",
       "35  NM_006031.6  (p.Asp1878=)   D  1878.0    D  \n",
       "40  NM_006031.6  (p.Thr2937=)   T  2937.0    T  \n",
       "41  NM_006031.6  (p.Ala2996=)   A  2996.0    A  \n",
       "\n",
       "[5 rows x 21 columns]"
      ],
      "text/html": "<div>\n<style scoped>\n    .dataframe tbody tr th:only-of-type {\n        vertical-align: middle;\n    }\n\n    .dataframe tbody tr th {\n        vertical-align: top;\n    }\n\n    .dataframe thead th {\n        text-align: right;\n    }\n</style>\n<table border=\"1\" class=\"dataframe\">\n  <thead>\n    <tr style=\"text-align: right;\">\n      <th></th>\n      <th>uniprot</th>\n      <th>organism</th>\n      <th>mlo</th>\n      <th>hgnc_id</th>\n      <th>length</th>\n      <th>sequence</th>\n      <th>geneid</th>\n      <th>genesymbol</th>\n      <th>snpid</th>\n      <th>alleleid</th>\n      <th>...</th>\n      <th>name</th>\n      <th>origin</th>\n      <th>phenotypeids</th>\n      <th>phenotypelist</th>\n      <th>otherids</th>\n      <th>nuccore_id</th>\n      <th>cambio</th>\n      <th>aa1</th>\n      <th>pos</th>\n      <th>aa2</th>\n    </tr>\n  </thead>\n  <tbody>\n    <tr>\n      <th>6</th>\n      <td>O43663</td>\n      <td>Homo sapiens</td>\n      <td>pcg body</td>\n      <td>HGNC:9341</td>\n      <td>620</td>\n      <td>MRRSEVLAEESIVCLQKALNHLREIWELIGIPEDQRLQRTEVVKKH...</td>\n      <td>9055.0</td>\n      <td>PRC1</td>\n      <td>2301826.0</td>\n      <td>167481.0</td>\n      <td>...</td>\n      <td>NM_003981.4(PRC1):c.282G&gt;A (p.Thr94=)</td>\n      <td>germline</td>\n      <td>MONDO:MONDO:0016419,MedGen:C0006142,OMIM:11448...</td>\n      <td>Familial cancer of breast</td>\n      <td>ClinGen:CA273794</td>\n      <td>NM_003981.4</td>\n      <td>(p.Thr94=)</td>\n      <td>T</td>\n      <td>94.0</td>\n      <td>T</td>\n    </tr>\n    <tr>\n      <th>34</th>\n      <td>O95613</td>\n      <td>Homo sapiens</td>\n      <td>centrosome/spindle pole body</td>\n      <td>HGNC:16068</td>\n      <td>3336</td>\n      <td>MEVEQEQRRRKVEAGRTKLAHFRQRKTKGDSSHSEKKTAKRKGSAV...</td>\n      <td>5116.0</td>\n      <td>PCNT</td>\n      <td>16979162.0</td>\n      <td>101236.0</td>\n      <td>...</td>\n      <td>NM_006031.6(PCNT):c.5631C&gt;T (p.Ile1877=)</td>\n      <td>germline</td>\n      <td>MedGen:CN169374|MONDO:MONDO:0008872,MedGen:C04...</td>\n      <td>not specified|Microcephalic osteodysplastic pr...</td>\n      <td>ClinGen:CA148443</td>\n      <td>NM_006031.6</td>\n      <td>(p.Ile1877=)</td>\n      <td>I</td>\n      <td>1877.0</td>\n      <td>I</td>\n    </tr>\n    <tr>\n      <th>35</th>\n      <td>O95613</td>\n      <td>Homo sapiens</td>\n      <td>centrosome/spindle pole body</td>\n      <td>HGNC:16068</td>\n      <td>3336</td>\n      <td>MEVEQEQRRRKVEAGRTKLAHFRQRKTKGDSSHSEKKTAKRKGSAV...</td>\n      <td>5116.0</td>\n      <td>PCNT</td>\n      <td>61735811.0</td>\n      <td>101237.0</td>\n      <td>...</td>\n      <td>NM_006031.6(PCNT):c.5634C&gt;T (p.Asp1878=)</td>\n      <td>germline</td>\n      <td>MedGen:CN169374|MONDO:MONDO:0008872,MedGen:C04...</td>\n      <td>not specified|Microcephalic osteodysplastic pr...</td>\n      <td>ClinGen:CA148445</td>\n      <td>NM_006031.6</td>\n      <td>(p.Asp1878=)</td>\n      <td>D</td>\n      <td>1878.0</td>\n      <td>D</td>\n    </tr>\n    <tr>\n      <th>40</th>\n      <td>O95613</td>\n      <td>Homo sapiens</td>\n      <td>centrosome/spindle pole body</td>\n      <td>HGNC:16068</td>\n      <td>3336</td>\n      <td>MEVEQEQRRRKVEAGRTKLAHFRQRKTKGDSSHSEKKTAKRKGSAV...</td>\n      <td>5116.0</td>\n      <td>PCNT</td>\n      <td>17371795.0</td>\n      <td>101242.0</td>\n      <td>...</td>\n      <td>NM_006031.6(PCNT):c.8811A&gt;G (p.Thr2937=)</td>\n      <td>germline</td>\n      <td>MedGen:CN169374|MONDO:MONDO:0008872,MedGen:C04...</td>\n      <td>not specified|Microcephalic osteodysplastic pr...</td>\n      <td>ClinGen:CA148453</td>\n      <td>NM_006031.6</td>\n      <td>(p.Thr2937=)</td>\n      <td>T</td>\n      <td>2937.0</td>\n      <td>T</td>\n    </tr>\n    <tr>\n      <th>41</th>\n      <td>O95613</td>\n      <td>Homo sapiens</td>\n      <td>centrosome/spindle pole body</td>\n      <td>HGNC:16068</td>\n      <td>3336</td>\n      <td>MEVEQEQRRRKVEAGRTKLAHFRQRKTKGDSSHSEKKTAKRKGSAV...</td>\n      <td>5116.0</td>\n      <td>PCNT</td>\n      <td>61735826.0</td>\n      <td>101243.0</td>\n      <td>...</td>\n      <td>NM_006031.6(PCNT):c.8988C&gt;T (p.Ala2996=)</td>\n      <td>germline</td>\n      <td>MedGen:CN169374|MONDO:MONDO:0008872,MedGen:C04...</td>\n      <td>not specified|Microcephalic osteodysplastic pr...</td>\n      <td>ClinGen:CA148455</td>\n      <td>NM_006031.6</td>\n      <td>(p.Ala2996=)</td>\n      <td>A</td>\n      <td>2996.0</td>\n      <td>A</td>\n    </tr>\n  </tbody>\n</table>\n<p>5 rows × 21 columns</p>\n</div>"
     },
     "metadata": {},
     "execution_count": 100
    }
   ],
   "source": [
    "# Separo los sinonimos en otro dataset, ya que no surgen cambio en la proteina\n",
    "box_snvs_syn = box_snvs[box_snvs.aa1_1.notnull()]\n",
    "box_snvs_syn = box_snvs_syn.drop(columns=['syn', 'aa1_1', 'pos1', 'aa2_2'])\n",
    "print(len(box_snvs_syn))\n",
    "box_snvs_syn.head()"
   ]
  },
  {
   "cell_type": "code",
   "execution_count": 107,
   "metadata": {},
   "outputs": [
    {
     "output_type": "execute_result",
     "data": {
      "text/plain": [
       "330"
      ]
     },
     "metadata": {},
     "execution_count": 107
    }
   ],
   "source": [
    "len(box_snvs_syn.uniprot.unique())"
   ]
  },
  {
   "cell_type": "code",
   "execution_count": 101,
   "metadata": {},
   "outputs": [
    {
     "output_type": "stream",
     "name": "stdout",
     "text": [
      "19351\n"
     ]
    },
    {
     "output_type": "execute_result",
     "data": {
      "text/plain": [
       "   uniprot      organism                           mlo     hgnc_id  length  \\\n",
       "0   O15527  Homo sapiens               nuclear speckle   HGNC:8125     345   \n",
       "17  O43663  Homo sapiens                      pcg body   HGNC:9341     620   \n",
       "27  O95613  Homo sapiens  centrosome/spindle pole body  HGNC:16068    3336   \n",
       "28  O95613  Homo sapiens  centrosome/spindle pole body  HGNC:16068    3336   \n",
       "29  O95613  Homo sapiens  centrosome/spindle pole body  HGNC:16068    3336   \n",
       "\n",
       "                                             sequence  geneid genesymbol  \\\n",
       "0   MPARALLPRRMGHRTLASTPALWASIPCPRSELRLDLVLPSGQSFR...  4968.0       OGG1   \n",
       "17  MRRSEVLAEESIVCLQKALNHLREIWELIGIPEDQRLQRTEVVKKH...  9055.0       PRC1   \n",
       "27  MEVEQEQRRRKVEAGRTKLAHFRQRKTKGDSSHSEKKTAKRKGSAV...  5116.0       PCNT   \n",
       "28  MEVEQEQRRRKVEAGRTKLAHFRQRKTKGDSSHSEKKTAKRKGSAV...  5116.0       PCNT   \n",
       "29  MEVEQEQRRRKVEAGRTKLAHFRQRKTKGDSSHSEKKTAKRKGSAV...  5116.0       PCNT   \n",
       "\n",
       "          snpid  alleleid  ...                                        name  \\\n",
       "0   104893751.0   22641.0  ...     NM_002542.5(OGG1):c.137G>A (p.Arg46Gln)   \n",
       "17   12911192.0  167492.0  ...   NM_003981.4(PRC1):c.1532A>G (p.Tyr511Cys)   \n",
       "27  119479061.0   19742.0  ...    NM_006031.6(PCNT):c.658G>T (p.Glu220Ter)   \n",
       "28  119479062.0   19745.0  ...  NM_006031.6(PCNT):c.5767C>T (p.Arg1923Ter)   \n",
       "29  119479063.0   19747.0  ...  NM_006031.6(PCNT):c.3109G>T (p.Glu1037Ter)   \n",
       "\n",
       "      origin                                       phenotypeids  \\\n",
       "0    somatic  Human Phenotype Ontology:HP:0006770,MedGen:C02...   \n",
       "17  germline  MONDO:MONDO:0016419,MedGen:C0006142,OMIM:11448...   \n",
       "27  germline  MONDO:MONDO:0008872,MedGen:C0432246,OMIM:21072...   \n",
       "28  germline  MONDO:MONDO:0008872,MedGen:C0432246,OMIM:21072...   \n",
       "29  germline  MONDO:MONDO:0008872,MedGen:C0432246,OMIM:21072...   \n",
       "\n",
       "                                        phenotypelist  \\\n",
       "0                      Clear cell carcinoma of kidney   \n",
       "17                          Familial cancer of breast   \n",
       "27  Microcephalic osteodysplastic primordial dwarf...   \n",
       "28  Microcephalic osteodysplastic primordial dwarf...   \n",
       "29  Microcephalic osteodysplastic primordial dwarf...   \n",
       "\n",
       "                                             otherids   nuccore_id  \\\n",
       "0   ClinGen:CA250044,UniProtKB:O15527#VAR_009519,O...  NM_002542.5   \n",
       "17       ClinGen:CA273806,UniProtKB:O43663#VAR_047769  NM_003981.4   \n",
       "27                  ClinGen:CA250506,OMIM:605925.0001  NM_006031.6   \n",
       "28                  ClinGen:CA250510,OMIM:605925.0004  NM_006031.6   \n",
       "29                  ClinGen:CA250512,OMIM:605925.0006  NM_006031.6   \n",
       "\n",
       "            cambio aa1     pos  aa2  \n",
       "0     (p.Arg46Gln)   R    46.0    Q  \n",
       "17   (p.Tyr511Cys)   Y   511.0    C  \n",
       "27   (p.Glu220Ter)   E   220.0    *  \n",
       "28  (p.Arg1923Ter)   R  1923.0    *  \n",
       "29  (p.Glu1037Ter)   E  1037.0    *  \n",
       "\n",
       "[5 rows x 21 columns]"
      ],
      "text/html": "<div>\n<style scoped>\n    .dataframe tbody tr th:only-of-type {\n        vertical-align: middle;\n    }\n\n    .dataframe tbody tr th {\n        vertical-align: top;\n    }\n\n    .dataframe thead th {\n        text-align: right;\n    }\n</style>\n<table border=\"1\" class=\"dataframe\">\n  <thead>\n    <tr style=\"text-align: right;\">\n      <th></th>\n      <th>uniprot</th>\n      <th>organism</th>\n      <th>mlo</th>\n      <th>hgnc_id</th>\n      <th>length</th>\n      <th>sequence</th>\n      <th>geneid</th>\n      <th>genesymbol</th>\n      <th>snpid</th>\n      <th>alleleid</th>\n      <th>...</th>\n      <th>name</th>\n      <th>origin</th>\n      <th>phenotypeids</th>\n      <th>phenotypelist</th>\n      <th>otherids</th>\n      <th>nuccore_id</th>\n      <th>cambio</th>\n      <th>aa1</th>\n      <th>pos</th>\n      <th>aa2</th>\n    </tr>\n  </thead>\n  <tbody>\n    <tr>\n      <th>0</th>\n      <td>O15527</td>\n      <td>Homo sapiens</td>\n      <td>nuclear speckle</td>\n      <td>HGNC:8125</td>\n      <td>345</td>\n      <td>MPARALLPRRMGHRTLASTPALWASIPCPRSELRLDLVLPSGQSFR...</td>\n      <td>4968.0</td>\n      <td>OGG1</td>\n      <td>104893751.0</td>\n      <td>22641.0</td>\n      <td>...</td>\n      <td>NM_002542.5(OGG1):c.137G&gt;A (p.Arg46Gln)</td>\n      <td>somatic</td>\n      <td>Human Phenotype Ontology:HP:0006770,MedGen:C02...</td>\n      <td>Clear cell carcinoma of kidney</td>\n      <td>ClinGen:CA250044,UniProtKB:O15527#VAR_009519,O...</td>\n      <td>NM_002542.5</td>\n      <td>(p.Arg46Gln)</td>\n      <td>R</td>\n      <td>46.0</td>\n      <td>Q</td>\n    </tr>\n    <tr>\n      <th>17</th>\n      <td>O43663</td>\n      <td>Homo sapiens</td>\n      <td>pcg body</td>\n      <td>HGNC:9341</td>\n      <td>620</td>\n      <td>MRRSEVLAEESIVCLQKALNHLREIWELIGIPEDQRLQRTEVVKKH...</td>\n      <td>9055.0</td>\n      <td>PRC1</td>\n      <td>12911192.0</td>\n      <td>167492.0</td>\n      <td>...</td>\n      <td>NM_003981.4(PRC1):c.1532A&gt;G (p.Tyr511Cys)</td>\n      <td>germline</td>\n      <td>MONDO:MONDO:0016419,MedGen:C0006142,OMIM:11448...</td>\n      <td>Familial cancer of breast</td>\n      <td>ClinGen:CA273806,UniProtKB:O43663#VAR_047769</td>\n      <td>NM_003981.4</td>\n      <td>(p.Tyr511Cys)</td>\n      <td>Y</td>\n      <td>511.0</td>\n      <td>C</td>\n    </tr>\n    <tr>\n      <th>27</th>\n      <td>O95613</td>\n      <td>Homo sapiens</td>\n      <td>centrosome/spindle pole body</td>\n      <td>HGNC:16068</td>\n      <td>3336</td>\n      <td>MEVEQEQRRRKVEAGRTKLAHFRQRKTKGDSSHSEKKTAKRKGSAV...</td>\n      <td>5116.0</td>\n      <td>PCNT</td>\n      <td>119479061.0</td>\n      <td>19742.0</td>\n      <td>...</td>\n      <td>NM_006031.6(PCNT):c.658G&gt;T (p.Glu220Ter)</td>\n      <td>germline</td>\n      <td>MONDO:MONDO:0008872,MedGen:C0432246,OMIM:21072...</td>\n      <td>Microcephalic osteodysplastic primordial dwarf...</td>\n      <td>ClinGen:CA250506,OMIM:605925.0001</td>\n      <td>NM_006031.6</td>\n      <td>(p.Glu220Ter)</td>\n      <td>E</td>\n      <td>220.0</td>\n      <td>*</td>\n    </tr>\n    <tr>\n      <th>28</th>\n      <td>O95613</td>\n      <td>Homo sapiens</td>\n      <td>centrosome/spindle pole body</td>\n      <td>HGNC:16068</td>\n      <td>3336</td>\n      <td>MEVEQEQRRRKVEAGRTKLAHFRQRKTKGDSSHSEKKTAKRKGSAV...</td>\n      <td>5116.0</td>\n      <td>PCNT</td>\n      <td>119479062.0</td>\n      <td>19745.0</td>\n      <td>...</td>\n      <td>NM_006031.6(PCNT):c.5767C&gt;T (p.Arg1923Ter)</td>\n      <td>germline</td>\n      <td>MONDO:MONDO:0008872,MedGen:C0432246,OMIM:21072...</td>\n      <td>Microcephalic osteodysplastic primordial dwarf...</td>\n      <td>ClinGen:CA250510,OMIM:605925.0004</td>\n      <td>NM_006031.6</td>\n      <td>(p.Arg1923Ter)</td>\n      <td>R</td>\n      <td>1923.0</td>\n      <td>*</td>\n    </tr>\n    <tr>\n      <th>29</th>\n      <td>O95613</td>\n      <td>Homo sapiens</td>\n      <td>centrosome/spindle pole body</td>\n      <td>HGNC:16068</td>\n      <td>3336</td>\n      <td>MEVEQEQRRRKVEAGRTKLAHFRQRKTKGDSSHSEKKTAKRKGSAV...</td>\n      <td>5116.0</td>\n      <td>PCNT</td>\n      <td>119479063.0</td>\n      <td>19747.0</td>\n      <td>...</td>\n      <td>NM_006031.6(PCNT):c.3109G&gt;T (p.Glu1037Ter)</td>\n      <td>germline</td>\n      <td>MONDO:MONDO:0008872,MedGen:C0432246,OMIM:21072...</td>\n      <td>Microcephalic osteodysplastic primordial dwarf...</td>\n      <td>ClinGen:CA250512,OMIM:605925.0006</td>\n      <td>NM_006031.6</td>\n      <td>(p.Glu1037Ter)</td>\n      <td>E</td>\n      <td>1037.0</td>\n      <td>*</td>\n    </tr>\n  </tbody>\n</table>\n<p>5 rows × 21 columns</p>\n</div>"
     },
     "metadata": {},
     "execution_count": 101
    }
   ],
   "source": [
    "# elimino los syn de box_snvs\n",
    "box_snvs = box_snvs[box_snvs.aa1_1.isnull()]\n",
    "box_snvs = box_snvs.drop(columns=['syn', 'aa1_1', 'pos1', 'aa2_2'])\n",
    "print(len(box_snvs))\n",
    "box_snvs.head()"
   ]
  },
  {
   "cell_type": "code",
   "execution_count": 77,
   "metadata": {},
   "outputs": [
    {
     "output_type": "execute_result",
     "data": {
      "text/plain": [
       "[45]"
      ]
     },
     "metadata": {},
     "execution_count": 77
    }
   ],
   "source": [
    "[int(box_snvs.pos[0])-1]"
   ]
  },
  {
   "cell_type": "code",
   "execution_count": 146,
   "metadata": {},
   "outputs": [
    {
     "output_type": "stream",
     "name": "stderr",
     "text": [
      "<ipython-input-146-4526050ce14b>:12: SettingWithCopyWarning: \nA value is trying to be set on a copy of a slice from a DataFrame\n\nSee the caveats in the documentation: https://pandas.pydata.org/pandas-docs/stable/user_guide/indexing.html#returning-a-view-versus-a-copy\n  box_snvs.ctrl[i] = True\n"
     ]
    },
    {
     "output_type": "execute_result",
     "data": {
      "text/plain": [
       "      uniprot      organism                           mlo     hgnc_id  length  \\\n",
       "0      O15527  Homo sapiens               nuclear speckle   HGNC:8125     345   \n",
       "17     O43663  Homo sapiens                      pcg body   HGNC:9341     620   \n",
       "27     O95613  Homo sapiens  centrosome/spindle pole body  HGNC:16068    3336   \n",
       "28     O95613  Homo sapiens  centrosome/spindle pole body  HGNC:16068    3336   \n",
       "29     O95613  Homo sapiens  centrosome/spindle pole body  HGNC:16068    3336   \n",
       "...       ...           ...                           ...         ...     ...   \n",
       "35565  Q15233  Homo sapiens                   paraspeckle   HGNC:7871     471   \n",
       "35566  Q15233  Homo sapiens                   paraspeckle   HGNC:7871     471   \n",
       "35567  Q15233  Homo sapiens                   paraspeckle   HGNC:7871     471   \n",
       "35577  Q15233  Homo sapiens                   paraspeckle   HGNC:7871     471   \n",
       "35579  Q15233  Homo sapiens                   paraspeckle   HGNC:7871     471   \n",
       "\n",
       "                                                sequence  geneid genesymbol  \\\n",
       "0      MPARALLPRRMGHRTLASTPALWASIPCPRSELRLDLVLPSGQSFR...  4968.0       OGG1   \n",
       "17     MRRSEVLAEESIVCLQKALNHLREIWELIGIPEDQRLQRTEVVKKH...  9055.0       PRC1   \n",
       "27     MEVEQEQRRRKVEAGRTKLAHFRQRKTKGDSSHSEKKTAKRKGSAV...  5116.0       PCNT   \n",
       "28     MEVEQEQRRRKVEAGRTKLAHFRQRKTKGDSSHSEKKTAKRKGSAV...  5116.0       PCNT   \n",
       "29     MEVEQEQRRRKVEAGRTKLAHFRQRKTKGDSSHSEKKTAKRKGSAV...  5116.0       PCNT   \n",
       "...                                                  ...     ...        ...   \n",
       "35565  MQSNKTFNLEKQNHTPRKHHQHHHQQQHHQQQQQQPPPPPIPANGQ...  4841.0       NONO   \n",
       "35566  MQSNKTFNLEKQNHTPRKHHQHHHQQQHHQQQQQQPPPPPIPANGQ...  4841.0       NONO   \n",
       "35567  MQSNKTFNLEKQNHTPRKHHQHHHQQQHHQQQQQQPPPPPIPANGQ...  4841.0       NONO   \n",
       "35577  MQSNKTFNLEKQNHTPRKHHQHHHQQQHHQQQQQQPPPPPIPANGQ...  4841.0       NONO   \n",
       "35579  MQSNKTFNLEKQNHTPRKHHQHHHQQQHHQQQQQQPPPPPIPANGQ...  4841.0       NONO   \n",
       "\n",
       "              snpid  alleleid  ...    origin  \\\n",
       "0      1.048938e+08   22641.0  ...   somatic   \n",
       "17     1.291119e+07  167492.0  ...  germline   \n",
       "27     1.194791e+08   19742.0  ...  germline   \n",
       "28     1.194791e+08   19745.0  ...  germline   \n",
       "29     1.194791e+08   19747.0  ...  germline   \n",
       "...             ...       ...  ...       ...   \n",
       "35565  1.602390e+09  677275.0  ...   unknown   \n",
       "35566  1.602388e+09  679342.0  ...  germline   \n",
       "35567  1.381484e+08  717854.0  ...  germline   \n",
       "35577 -1.000000e+00  822287.0  ...  germline   \n",
       "35579 -1.000000e+00  939676.0  ...  germline   \n",
       "\n",
       "                                            phenotypeids  \\\n",
       "0      Human Phenotype Ontology:HP:0006770,MedGen:C02...   \n",
       "17     MONDO:MONDO:0016419,MedGen:C0006142,OMIM:11448...   \n",
       "27     MONDO:MONDO:0008872,MedGen:C0432246,OMIM:21072...   \n",
       "28     MONDO:MONDO:0008872,MedGen:C0432246,OMIM:21072...   \n",
       "29     MONDO:MONDO:0008872,MedGen:C0432246,OMIM:21072...   \n",
       "...                                                  ...   \n",
       "35565  Human Phenotype Ontology:HP:0011342,MedGen:C40...   \n",
       "35566  MONDO:MONDO:0010501,MedGen:C4225417,OMIM:30096...   \n",
       "35567                                    MedGen:CN517202   \n",
       "35577  MONDO:MONDO:0010501,MedGen:C4225417,OMIM:30096...   \n",
       "35579                                    MedGen:CN517202   \n",
       "\n",
       "                                           phenotypelist  \\\n",
       "0                         Clear cell carcinoma of kidney   \n",
       "17                             Familial cancer of breast   \n",
       "27     Microcephalic osteodysplastic primordial dwarf...   \n",
       "28     Microcephalic osteodysplastic primordial dwarf...   \n",
       "29     Microcephalic osteodysplastic primordial dwarf...   \n",
       "...                                                  ...   \n",
       "35565                    Mild global developmental delay   \n",
       "35566         Mental retardation, X-linked, syndromic 34   \n",
       "35567                                       not provided   \n",
       "35577         Mental retardation, X-linked, syndromic 34   \n",
       "35579                                       not provided   \n",
       "\n",
       "                                                otherids   nuccore_id  \\\n",
       "0      ClinGen:CA250044,UniProtKB:O15527#VAR_009519,O...  NM_002542.5   \n",
       "17          ClinGen:CA273806,UniProtKB:O43663#VAR_047769  NM_003981.4   \n",
       "27                     ClinGen:CA250506,OMIM:605925.0001  NM_006031.6   \n",
       "28                     ClinGen:CA250510,OMIM:605925.0004  NM_006031.6   \n",
       "29                     ClinGen:CA250512,OMIM:605925.0006  NM_006031.6   \n",
       "...                                                  ...          ...   \n",
       "35565                                                  -  NM_007363.5   \n",
       "35566                                                  -  NM_007363.5   \n",
       "35567                                                  -  NM_007363.5   \n",
       "35577                                                  -  NM_007363.5   \n",
       "35579                                                  -  NM_007363.5   \n",
       "\n",
       "               cambio aa1     pos aa2  ctrl  \n",
       "0        (p.Arg46Gln)   R    46.0   Q  True  \n",
       "17      (p.Tyr511Cys)   Y   511.0   C  True  \n",
       "27      (p.Glu220Ter)   E   220.0   *  True  \n",
       "28     (p.Arg1923Ter)   R  1923.0   *  True  \n",
       "29     (p.Glu1037Ter)   E  1037.0   *  True  \n",
       "...               ...  ..     ...  ..   ...  \n",
       "35565   (p.Arg270Cys)   R   270.0   C  True  \n",
       "35566   (p.Arg184Ter)   R   184.0   *  True  \n",
       "35567   (p.Met393Ile)   M   393.0   I  True  \n",
       "35577   (p.Arg153Ter)   R   153.0   *  True  \n",
       "35579   (p.Thr424Ser)   T   424.0   S  True  \n",
       "\n",
       "[19351 rows x 22 columns]"
      ],
      "text/html": "<div>\n<style scoped>\n    .dataframe tbody tr th:only-of-type {\n        vertical-align: middle;\n    }\n\n    .dataframe tbody tr th {\n        vertical-align: top;\n    }\n\n    .dataframe thead th {\n        text-align: right;\n    }\n</style>\n<table border=\"1\" class=\"dataframe\">\n  <thead>\n    <tr style=\"text-align: right;\">\n      <th></th>\n      <th>uniprot</th>\n      <th>organism</th>\n      <th>mlo</th>\n      <th>hgnc_id</th>\n      <th>length</th>\n      <th>sequence</th>\n      <th>geneid</th>\n      <th>genesymbol</th>\n      <th>snpid</th>\n      <th>alleleid</th>\n      <th>...</th>\n      <th>origin</th>\n      <th>phenotypeids</th>\n      <th>phenotypelist</th>\n      <th>otherids</th>\n      <th>nuccore_id</th>\n      <th>cambio</th>\n      <th>aa1</th>\n      <th>pos</th>\n      <th>aa2</th>\n      <th>ctrl</th>\n    </tr>\n  </thead>\n  <tbody>\n    <tr>\n      <th>0</th>\n      <td>O15527</td>\n      <td>Homo sapiens</td>\n      <td>nuclear speckle</td>\n      <td>HGNC:8125</td>\n      <td>345</td>\n      <td>MPARALLPRRMGHRTLASTPALWASIPCPRSELRLDLVLPSGQSFR...</td>\n      <td>4968.0</td>\n      <td>OGG1</td>\n      <td>1.048938e+08</td>\n      <td>22641.0</td>\n      <td>...</td>\n      <td>somatic</td>\n      <td>Human Phenotype Ontology:HP:0006770,MedGen:C02...</td>\n      <td>Clear cell carcinoma of kidney</td>\n      <td>ClinGen:CA250044,UniProtKB:O15527#VAR_009519,O...</td>\n      <td>NM_002542.5</td>\n      <td>(p.Arg46Gln)</td>\n      <td>R</td>\n      <td>46.0</td>\n      <td>Q</td>\n      <td>True</td>\n    </tr>\n    <tr>\n      <th>17</th>\n      <td>O43663</td>\n      <td>Homo sapiens</td>\n      <td>pcg body</td>\n      <td>HGNC:9341</td>\n      <td>620</td>\n      <td>MRRSEVLAEESIVCLQKALNHLREIWELIGIPEDQRLQRTEVVKKH...</td>\n      <td>9055.0</td>\n      <td>PRC1</td>\n      <td>1.291119e+07</td>\n      <td>167492.0</td>\n      <td>...</td>\n      <td>germline</td>\n      <td>MONDO:MONDO:0016419,MedGen:C0006142,OMIM:11448...</td>\n      <td>Familial cancer of breast</td>\n      <td>ClinGen:CA273806,UniProtKB:O43663#VAR_047769</td>\n      <td>NM_003981.4</td>\n      <td>(p.Tyr511Cys)</td>\n      <td>Y</td>\n      <td>511.0</td>\n      <td>C</td>\n      <td>True</td>\n    </tr>\n    <tr>\n      <th>27</th>\n      <td>O95613</td>\n      <td>Homo sapiens</td>\n      <td>centrosome/spindle pole body</td>\n      <td>HGNC:16068</td>\n      <td>3336</td>\n      <td>MEVEQEQRRRKVEAGRTKLAHFRQRKTKGDSSHSEKKTAKRKGSAV...</td>\n      <td>5116.0</td>\n      <td>PCNT</td>\n      <td>1.194791e+08</td>\n      <td>19742.0</td>\n      <td>...</td>\n      <td>germline</td>\n      <td>MONDO:MONDO:0008872,MedGen:C0432246,OMIM:21072...</td>\n      <td>Microcephalic osteodysplastic primordial dwarf...</td>\n      <td>ClinGen:CA250506,OMIM:605925.0001</td>\n      <td>NM_006031.6</td>\n      <td>(p.Glu220Ter)</td>\n      <td>E</td>\n      <td>220.0</td>\n      <td>*</td>\n      <td>True</td>\n    </tr>\n    <tr>\n      <th>28</th>\n      <td>O95613</td>\n      <td>Homo sapiens</td>\n      <td>centrosome/spindle pole body</td>\n      <td>HGNC:16068</td>\n      <td>3336</td>\n      <td>MEVEQEQRRRKVEAGRTKLAHFRQRKTKGDSSHSEKKTAKRKGSAV...</td>\n      <td>5116.0</td>\n      <td>PCNT</td>\n      <td>1.194791e+08</td>\n      <td>19745.0</td>\n      <td>...</td>\n      <td>germline</td>\n      <td>MONDO:MONDO:0008872,MedGen:C0432246,OMIM:21072...</td>\n      <td>Microcephalic osteodysplastic primordial dwarf...</td>\n      <td>ClinGen:CA250510,OMIM:605925.0004</td>\n      <td>NM_006031.6</td>\n      <td>(p.Arg1923Ter)</td>\n      <td>R</td>\n      <td>1923.0</td>\n      <td>*</td>\n      <td>True</td>\n    </tr>\n    <tr>\n      <th>29</th>\n      <td>O95613</td>\n      <td>Homo sapiens</td>\n      <td>centrosome/spindle pole body</td>\n      <td>HGNC:16068</td>\n      <td>3336</td>\n      <td>MEVEQEQRRRKVEAGRTKLAHFRQRKTKGDSSHSEKKTAKRKGSAV...</td>\n      <td>5116.0</td>\n      <td>PCNT</td>\n      <td>1.194791e+08</td>\n      <td>19747.0</td>\n      <td>...</td>\n      <td>germline</td>\n      <td>MONDO:MONDO:0008872,MedGen:C0432246,OMIM:21072...</td>\n      <td>Microcephalic osteodysplastic primordial dwarf...</td>\n      <td>ClinGen:CA250512,OMIM:605925.0006</td>\n      <td>NM_006031.6</td>\n      <td>(p.Glu1037Ter)</td>\n      <td>E</td>\n      <td>1037.0</td>\n      <td>*</td>\n      <td>True</td>\n    </tr>\n    <tr>\n      <th>...</th>\n      <td>...</td>\n      <td>...</td>\n      <td>...</td>\n      <td>...</td>\n      <td>...</td>\n      <td>...</td>\n      <td>...</td>\n      <td>...</td>\n      <td>...</td>\n      <td>...</td>\n      <td>...</td>\n      <td>...</td>\n      <td>...</td>\n      <td>...</td>\n      <td>...</td>\n      <td>...</td>\n      <td>...</td>\n      <td>...</td>\n      <td>...</td>\n      <td>...</td>\n      <td>...</td>\n    </tr>\n    <tr>\n      <th>35565</th>\n      <td>Q15233</td>\n      <td>Homo sapiens</td>\n      <td>paraspeckle</td>\n      <td>HGNC:7871</td>\n      <td>471</td>\n      <td>MQSNKTFNLEKQNHTPRKHHQHHHQQQHHQQQQQQPPPPPIPANGQ...</td>\n      <td>4841.0</td>\n      <td>NONO</td>\n      <td>1.602390e+09</td>\n      <td>677275.0</td>\n      <td>...</td>\n      <td>unknown</td>\n      <td>Human Phenotype Ontology:HP:0011342,MedGen:C40...</td>\n      <td>Mild global developmental delay</td>\n      <td>-</td>\n      <td>NM_007363.5</td>\n      <td>(p.Arg270Cys)</td>\n      <td>R</td>\n      <td>270.0</td>\n      <td>C</td>\n      <td>True</td>\n    </tr>\n    <tr>\n      <th>35566</th>\n      <td>Q15233</td>\n      <td>Homo sapiens</td>\n      <td>paraspeckle</td>\n      <td>HGNC:7871</td>\n      <td>471</td>\n      <td>MQSNKTFNLEKQNHTPRKHHQHHHQQQHHQQQQQQPPPPPIPANGQ...</td>\n      <td>4841.0</td>\n      <td>NONO</td>\n      <td>1.602388e+09</td>\n      <td>679342.0</td>\n      <td>...</td>\n      <td>germline</td>\n      <td>MONDO:MONDO:0010501,MedGen:C4225417,OMIM:30096...</td>\n      <td>Mental retardation, X-linked, syndromic 34</td>\n      <td>-</td>\n      <td>NM_007363.5</td>\n      <td>(p.Arg184Ter)</td>\n      <td>R</td>\n      <td>184.0</td>\n      <td>*</td>\n      <td>True</td>\n    </tr>\n    <tr>\n      <th>35567</th>\n      <td>Q15233</td>\n      <td>Homo sapiens</td>\n      <td>paraspeckle</td>\n      <td>HGNC:7871</td>\n      <td>471</td>\n      <td>MQSNKTFNLEKQNHTPRKHHQHHHQQQHHQQQQQQPPPPPIPANGQ...</td>\n      <td>4841.0</td>\n      <td>NONO</td>\n      <td>1.381484e+08</td>\n      <td>717854.0</td>\n      <td>...</td>\n      <td>germline</td>\n      <td>MedGen:CN517202</td>\n      <td>not provided</td>\n      <td>-</td>\n      <td>NM_007363.5</td>\n      <td>(p.Met393Ile)</td>\n      <td>M</td>\n      <td>393.0</td>\n      <td>I</td>\n      <td>True</td>\n    </tr>\n    <tr>\n      <th>35577</th>\n      <td>Q15233</td>\n      <td>Homo sapiens</td>\n      <td>paraspeckle</td>\n      <td>HGNC:7871</td>\n      <td>471</td>\n      <td>MQSNKTFNLEKQNHTPRKHHQHHHQQQHHQQQQQQPPPPPIPANGQ...</td>\n      <td>4841.0</td>\n      <td>NONO</td>\n      <td>-1.000000e+00</td>\n      <td>822287.0</td>\n      <td>...</td>\n      <td>germline</td>\n      <td>MONDO:MONDO:0010501,MedGen:C4225417,OMIM:30096...</td>\n      <td>Mental retardation, X-linked, syndromic 34</td>\n      <td>-</td>\n      <td>NM_007363.5</td>\n      <td>(p.Arg153Ter)</td>\n      <td>R</td>\n      <td>153.0</td>\n      <td>*</td>\n      <td>True</td>\n    </tr>\n    <tr>\n      <th>35579</th>\n      <td>Q15233</td>\n      <td>Homo sapiens</td>\n      <td>paraspeckle</td>\n      <td>HGNC:7871</td>\n      <td>471</td>\n      <td>MQSNKTFNLEKQNHTPRKHHQHHHQQQHHQQQQQQPPPPPIPANGQ...</td>\n      <td>4841.0</td>\n      <td>NONO</td>\n      <td>-1.000000e+00</td>\n      <td>939676.0</td>\n      <td>...</td>\n      <td>germline</td>\n      <td>MedGen:CN517202</td>\n      <td>not provided</td>\n      <td>-</td>\n      <td>NM_007363.5</td>\n      <td>(p.Thr424Ser)</td>\n      <td>T</td>\n      <td>424.0</td>\n      <td>S</td>\n      <td>True</td>\n    </tr>\n  </tbody>\n</table>\n<p>19351 rows × 22 columns</p>\n</div>"
     },
     "metadata": {},
     "execution_count": 146
    }
   ],
   "source": [
    "# agrego una col para controlar si corresponde ese aa en la pos de la secuencia\n",
    "box_snvs['ctrl'] = False\n",
    "# Paso los aa de tres letras a una\n",
    "for i in box_snvs.index:\n",
    "    aa1 = str(box_snvs.aa1[i])\n",
    "    aa2 = str(box_snvs.aa2[i])\n",
    "    pos = int(box_snvs.pos[i]) #posicion de la mutacion\n",
    "    if aa1 != 'nan':\n",
    "        #Evaluo\n",
    "        if pos <= int(box_snvs.length[i]): # compruebo que este en el rango de la seq\n",
    "            if box_snvs.sequence[i][pos-1] == aa1:\n",
    "                box_snvs.ctrl[i] = True\n",
    "box_snvs"
   ]
  },
  {
   "cell_type": "code",
   "execution_count": 87,
   "metadata": {},
   "outputs": [
    {
     "output_type": "stream",
     "name": "stdout",
     "text": [
      "True     17165\nFalse     2186\nName: ctrl, dtype: int64\n"
     ]
    },
    {
     "output_type": "execute_result",
     "data": {
      "text/plain": [
       "47"
      ]
     },
     "metadata": {},
     "execution_count": 87
    }
   ],
   "source": [
    "# Son 47 proteinas donde no coinciden con la secuencia\n",
    "print(box_snvs.ctrl.value_counts())\n",
    "#aa que se corresponden con la seq\n",
    "box_snvs.ctrl.sum()\n",
    "len(box_snvs[box_snvs.ctrl == False].uniprot.unique())"
   ]
  },
  {
   "cell_type": "code",
   "execution_count": 147,
   "metadata": {},
   "outputs": [
    {
     "output_type": "stream",
     "name": "stderr",
     "text": [
      "<ipython-input-147-ac2d165b9376>:4: SettingWithCopyWarning: \nA value is trying to be set on a copy of a slice from a DataFrame.\nTry using .loc[row_indexer,col_indexer] = value instead\n\nSee the caveats in the documentation: https://pandas.pydata.org/pandas-docs/stable/user_guide/indexing.html#returning-a-view-versus-a-copy\n  falses['inc'] = np.nan\n<ipython-input-147-ac2d165b9376>:11: SettingWithCopyWarning: \nA value is trying to be set on a copy of a slice from a DataFrame\n\nSee the caveats in the documentation: https://pandas.pydata.org/pandas-docs/stable/user_guide/indexing.html#returning-a-view-versus-a-copy\n  falses.inc[i] = 'ok'\nC:\\Users\\User\\AppData\\Local\\Programs\\Python\\Python39\\lib\\site-packages\\pandas\\core\\indexing.py:1637: SettingWithCopyWarning: \nA value is trying to be set on a copy of a slice from a DataFrame\n\nSee the caveats in the documentation: https://pandas.pydata.org/pandas-docs/stable/user_guide/indexing.html#returning-a-view-versus-a-copy\n  self._setitem_single_block(indexer, value, name)\nC:\\Users\\User\\AppData\\Local\\Programs\\Python\\Python39\\lib\\site-packages\\pandas\\core\\indexing.py:692: SettingWithCopyWarning: \nA value is trying to be set on a copy of a slice from a DataFrame\n\nSee the caveats in the documentation: https://pandas.pydata.org/pandas-docs/stable/user_guide/indexing.html#returning-a-view-versus-a-copy\n  iloc._setitem_with_indexer(indexer, value, self.name)\nC:\\Users\\User\\AppData\\Roaming\\Python\\Python39\\site-packages\\IPython\\core\\interactiveshell.py:3418: SettingWithCopyWarning: \nA value is trying to be set on a copy of a slice from a DataFrame\n\nSee the caveats in the documentation: https://pandas.pydata.org/pandas-docs/stable/user_guide/indexing.html#returning-a-view-versus-a-copy\n  exec(code_obj, self.user_global_ns, self.user_ns)\n<ipython-input-147-ac2d165b9376>:7: SettingWithCopyWarning: \nA value is trying to be set on a copy of a slice from a DataFrame\n\nSee the caveats in the documentation: https://pandas.pydata.org/pandas-docs/stable/user_guide/indexing.html#returning-a-view-versus-a-copy\n  falses.inc[i] = 'producto mas largo'\n<ipython-input-147-ac2d165b9376>:9: SettingWithCopyWarning: \nA value is trying to be set on a copy of a slice from a DataFrame\n\nSee the caveats in the documentation: https://pandas.pydata.org/pandas-docs/stable/user_guide/indexing.html#returning-a-view-versus-a-copy\n  falses.inc[i] = 'out of range'\n"
     ]
    },
    {
     "output_type": "execute_result",
     "data": {
      "text/plain": [
       "      uniprot      organism                           mlo    hgnc_id  length  \\\n",
       "768    P42858  Homo sapiens  centrosome/spindle pole body  HGNC:4851    3142   \n",
       "769    P42858  Homo sapiens  centrosome/spindle pole body  HGNC:4851    3142   \n",
       "770    P42858  Homo sapiens  centrosome/spindle pole body  HGNC:4851    3142   \n",
       "771    P42858  Homo sapiens  centrosome/spindle pole body  HGNC:4851    3142   \n",
       "772    P42858  Homo sapiens  centrosome/spindle pole body  HGNC:4851    3142   \n",
       "...       ...           ...                           ...        ...     ...   \n",
       "35519  P23771  Homo sapiens                  enhanceosome  HGNC:4172     443   \n",
       "35521  P23771  Homo sapiens                  enhanceosome  HGNC:4172     443   \n",
       "35522  P23771  Homo sapiens                  enhanceosome  HGNC:4172     443   \n",
       "35545  P23771  Homo sapiens                  enhanceosome  HGNC:4172     443   \n",
       "35546  P23771  Homo sapiens                  enhanceosome  HGNC:4172     443   \n",
       "\n",
       "                                                sequence  geneid genesymbol  \\\n",
       "768    MATLEKLMKAFESLKSFQQQQQQQQQQQQQQQQQQQQQPPPPPPPP...  3064.0        HTT   \n",
       "769    MATLEKLMKAFESLKSFQQQQQQQQQQQQQQQQQQQQQPPPPPPPP...  3064.0        HTT   \n",
       "770    MATLEKLMKAFESLKSFQQQQQQQQQQQQQQQQQQQQQPPPPPPPP...  3064.0        HTT   \n",
       "771    MATLEKLMKAFESLKSFQQQQQQQQQQQQQQQQQQQQQPPPPPPPP...  3064.0        HTT   \n",
       "772    MATLEKLMKAFESLKSFQQQQQQQQQQQQQQQQQQQQQPPPPPPPP...  3064.0        HTT   \n",
       "...                                                  ...     ...        ...   \n",
       "35519  MEVTADQPRWVSHHHPAVLNGQHPDTHHPGLSHSYMDAAQYPLPEE...  2625.0      GATA3   \n",
       "35521  MEVTADQPRWVSHHHPAVLNGQHPDTHHPGLSHSYMDAAQYPLPEE...  2625.0      GATA3   \n",
       "35522  MEVTADQPRWVSHHHPAVLNGQHPDTHHPGLSHSYMDAAQYPLPEE...  2625.0      GATA3   \n",
       "35545  MEVTADQPRWVSHHHPAVLNGQHPDTHHPGLSHSYMDAAQYPLPEE...  2625.0      GATA3   \n",
       "35546  MEVTADQPRWVSHHHPAVLNGQHPDTHHPGLSHSYMDAAQYPLPEE...  2625.0      GATA3   \n",
       "\n",
       "              snpid  alleleid  ...  \\\n",
       "768    1.085307e+09  227445.0  ...   \n",
       "769    7.680474e+08  404643.0  ...   \n",
       "770    3.431581e+07  404644.0  ...   \n",
       "771    1.060505e+09  404646.0  ...   \n",
       "772    1.065747e+06  439159.0  ...   \n",
       "...             ...       ...  ...   \n",
       "35519  1.564405e+09  790987.0  ...   \n",
       "35521  1.588384e+09  802075.0  ...   \n",
       "35522 -1.000000e+00  857677.0  ...   \n",
       "35545  3.749196e+08  963003.0  ...   \n",
       "35546 -1.000000e+00  963362.0  ...   \n",
       "\n",
       "                                            phenotypeids  \\\n",
       "768                                      MedGen:CN169374   \n",
       "769      MONDO:MONDO:0054573,MedGen:C4479491,OMIM:617435   \n",
       "770      MONDO:MONDO:0054573,MedGen:C4479491,OMIM:617435   \n",
       "771      MONDO:MONDO:0054573,MedGen:C4479491,OMIM:617435   \n",
       "772                                      MedGen:CN517202   \n",
       "...                                                  ...   \n",
       "35519  MONDO:MONDO:0007797,MedGen:C1840333,OMIM:14625...   \n",
       "35521                                                  -   \n",
       "35522  MONDO:MONDO:0007797,MedGen:C1840333,OMIM:14625...   \n",
       "35545  MONDO:MONDO:0007797,MedGen:C1840333,OMIM:14625...   \n",
       "35546  MONDO:MONDO:0007797,MedGen:C1840333,OMIM:14625...   \n",
       "\n",
       "                                           phenotypelist  \\\n",
       "768                                        not specified   \n",
       "769                          Lopes-Maciel-Rodan syndrome   \n",
       "770                          Lopes-Maciel-Rodan syndrome   \n",
       "771                          Lopes-Maciel-Rodan syndrome   \n",
       "772                                         not provided   \n",
       "...                                                  ...   \n",
       "35519  Hypoparathyroidism-deafness-renal disease synd...   \n",
       "35521  Dominant congenital non-syndromic sensorineura...   \n",
       "35522  Hypoparathyroidism-deafness-renal disease synd...   \n",
       "35545  Hypoparathyroidism-deafness-renal disease synd...   \n",
       "35546  Hypoparathyroidism-deafness-renal disease synd...   \n",
       "\n",
       "                                  otherids      nuccore_id          cambio  \\\n",
       "768                    ClinGen:CA356100033     NM_002111.8  (p.Phe2719Leu)   \n",
       "769     ClinGen:CA2823749,OMIM:613004.0002     NM_002111.8   (p.Pro705Leu)   \n",
       "770     ClinGen:CA2824227,OMIM:613004.0003     NM_002111.8  (p.Thr1262Met)   \n",
       "771    ClinGen:CA16616860,OMIM:613004.0005     NM_002111.8  (p.Phe2719Tyr)   \n",
       "772                      ClinGen:CA2824125     NM_002111.8  (p.Ala1117Gly)   \n",
       "...                                    ...             ...             ...   \n",
       "35519                                    -  NM_001002295.2   (p.Arg353Lys)   \n",
       "35521                                    -  NM_001002295.2   (p.Asp278Asn)   \n",
       "35522                                    -  NM_001002295.2   (p.Cys321Ser)   \n",
       "35545                                    -  NM_001002295.2   (p.Thr421Met)   \n",
       "35546                                    -  NM_001002295.2   (p.Cys264Ser)   \n",
       "\n",
       "      aa1     pos aa2   ctrl  inc  \n",
       "768     F  2719.0   L  False   ok  \n",
       "769     P   705.0   L  False   ok  \n",
       "770     T  1262.0   M  False   ok  \n",
       "771     F  2719.0   Y  False   ok  \n",
       "772     A  1117.0   G  False   ok  \n",
       "...    ..     ...  ..    ...  ...  \n",
       "35519   R   353.0   K  False   ok  \n",
       "35521   D   278.0   N  False   ok  \n",
       "35522   C   321.0   S  False   ok  \n",
       "35545   T   421.0   M  False   ok  \n",
       "35546   C   264.0   S  False   ok  \n",
       "\n",
       "[2186 rows x 23 columns]"
      ],
      "text/html": "<div>\n<style scoped>\n    .dataframe tbody tr th:only-of-type {\n        vertical-align: middle;\n    }\n\n    .dataframe tbody tr th {\n        vertical-align: top;\n    }\n\n    .dataframe thead th {\n        text-align: right;\n    }\n</style>\n<table border=\"1\" class=\"dataframe\">\n  <thead>\n    <tr style=\"text-align: right;\">\n      <th></th>\n      <th>uniprot</th>\n      <th>organism</th>\n      <th>mlo</th>\n      <th>hgnc_id</th>\n      <th>length</th>\n      <th>sequence</th>\n      <th>geneid</th>\n      <th>genesymbol</th>\n      <th>snpid</th>\n      <th>alleleid</th>\n      <th>...</th>\n      <th>phenotypeids</th>\n      <th>phenotypelist</th>\n      <th>otherids</th>\n      <th>nuccore_id</th>\n      <th>cambio</th>\n      <th>aa1</th>\n      <th>pos</th>\n      <th>aa2</th>\n      <th>ctrl</th>\n      <th>inc</th>\n    </tr>\n  </thead>\n  <tbody>\n    <tr>\n      <th>768</th>\n      <td>P42858</td>\n      <td>Homo sapiens</td>\n      <td>centrosome/spindle pole body</td>\n      <td>HGNC:4851</td>\n      <td>3142</td>\n      <td>MATLEKLMKAFESLKSFQQQQQQQQQQQQQQQQQQQQQPPPPPPPP...</td>\n      <td>3064.0</td>\n      <td>HTT</td>\n      <td>1.085307e+09</td>\n      <td>227445.0</td>\n      <td>...</td>\n      <td>MedGen:CN169374</td>\n      <td>not specified</td>\n      <td>ClinGen:CA356100033</td>\n      <td>NM_002111.8</td>\n      <td>(p.Phe2719Leu)</td>\n      <td>F</td>\n      <td>2719.0</td>\n      <td>L</td>\n      <td>False</td>\n      <td>ok</td>\n    </tr>\n    <tr>\n      <th>769</th>\n      <td>P42858</td>\n      <td>Homo sapiens</td>\n      <td>centrosome/spindle pole body</td>\n      <td>HGNC:4851</td>\n      <td>3142</td>\n      <td>MATLEKLMKAFESLKSFQQQQQQQQQQQQQQQQQQQQQPPPPPPPP...</td>\n      <td>3064.0</td>\n      <td>HTT</td>\n      <td>7.680474e+08</td>\n      <td>404643.0</td>\n      <td>...</td>\n      <td>MONDO:MONDO:0054573,MedGen:C4479491,OMIM:617435</td>\n      <td>Lopes-Maciel-Rodan syndrome</td>\n      <td>ClinGen:CA2823749,OMIM:613004.0002</td>\n      <td>NM_002111.8</td>\n      <td>(p.Pro705Leu)</td>\n      <td>P</td>\n      <td>705.0</td>\n      <td>L</td>\n      <td>False</td>\n      <td>ok</td>\n    </tr>\n    <tr>\n      <th>770</th>\n      <td>P42858</td>\n      <td>Homo sapiens</td>\n      <td>centrosome/spindle pole body</td>\n      <td>HGNC:4851</td>\n      <td>3142</td>\n      <td>MATLEKLMKAFESLKSFQQQQQQQQQQQQQQQQQQQQQPPPPPPPP...</td>\n      <td>3064.0</td>\n      <td>HTT</td>\n      <td>3.431581e+07</td>\n      <td>404644.0</td>\n      <td>...</td>\n      <td>MONDO:MONDO:0054573,MedGen:C4479491,OMIM:617435</td>\n      <td>Lopes-Maciel-Rodan syndrome</td>\n      <td>ClinGen:CA2824227,OMIM:613004.0003</td>\n      <td>NM_002111.8</td>\n      <td>(p.Thr1262Met)</td>\n      <td>T</td>\n      <td>1262.0</td>\n      <td>M</td>\n      <td>False</td>\n      <td>ok</td>\n    </tr>\n    <tr>\n      <th>771</th>\n      <td>P42858</td>\n      <td>Homo sapiens</td>\n      <td>centrosome/spindle pole body</td>\n      <td>HGNC:4851</td>\n      <td>3142</td>\n      <td>MATLEKLMKAFESLKSFQQQQQQQQQQQQQQQQQQQQQPPPPPPPP...</td>\n      <td>3064.0</td>\n      <td>HTT</td>\n      <td>1.060505e+09</td>\n      <td>404646.0</td>\n      <td>...</td>\n      <td>MONDO:MONDO:0054573,MedGen:C4479491,OMIM:617435</td>\n      <td>Lopes-Maciel-Rodan syndrome</td>\n      <td>ClinGen:CA16616860,OMIM:613004.0005</td>\n      <td>NM_002111.8</td>\n      <td>(p.Phe2719Tyr)</td>\n      <td>F</td>\n      <td>2719.0</td>\n      <td>Y</td>\n      <td>False</td>\n      <td>ok</td>\n    </tr>\n    <tr>\n      <th>772</th>\n      <td>P42858</td>\n      <td>Homo sapiens</td>\n      <td>centrosome/spindle pole body</td>\n      <td>HGNC:4851</td>\n      <td>3142</td>\n      <td>MATLEKLMKAFESLKSFQQQQQQQQQQQQQQQQQQQQQPPPPPPPP...</td>\n      <td>3064.0</td>\n      <td>HTT</td>\n      <td>1.065747e+06</td>\n      <td>439159.0</td>\n      <td>...</td>\n      <td>MedGen:CN517202</td>\n      <td>not provided</td>\n      <td>ClinGen:CA2824125</td>\n      <td>NM_002111.8</td>\n      <td>(p.Ala1117Gly)</td>\n      <td>A</td>\n      <td>1117.0</td>\n      <td>G</td>\n      <td>False</td>\n      <td>ok</td>\n    </tr>\n    <tr>\n      <th>...</th>\n      <td>...</td>\n      <td>...</td>\n      <td>...</td>\n      <td>...</td>\n      <td>...</td>\n      <td>...</td>\n      <td>...</td>\n      <td>...</td>\n      <td>...</td>\n      <td>...</td>\n      <td>...</td>\n      <td>...</td>\n      <td>...</td>\n      <td>...</td>\n      <td>...</td>\n      <td>...</td>\n      <td>...</td>\n      <td>...</td>\n      <td>...</td>\n      <td>...</td>\n      <td>...</td>\n    </tr>\n    <tr>\n      <th>35519</th>\n      <td>P23771</td>\n      <td>Homo sapiens</td>\n      <td>enhanceosome</td>\n      <td>HGNC:4172</td>\n      <td>443</td>\n      <td>MEVTADQPRWVSHHHPAVLNGQHPDTHHPGLSHSYMDAAQYPLPEE...</td>\n      <td>2625.0</td>\n      <td>GATA3</td>\n      <td>1.564405e+09</td>\n      <td>790987.0</td>\n      <td>...</td>\n      <td>MONDO:MONDO:0007797,MedGen:C1840333,OMIM:14625...</td>\n      <td>Hypoparathyroidism-deafness-renal disease synd...</td>\n      <td>-</td>\n      <td>NM_001002295.2</td>\n      <td>(p.Arg353Lys)</td>\n      <td>R</td>\n      <td>353.0</td>\n      <td>K</td>\n      <td>False</td>\n      <td>ok</td>\n    </tr>\n    <tr>\n      <th>35521</th>\n      <td>P23771</td>\n      <td>Homo sapiens</td>\n      <td>enhanceosome</td>\n      <td>HGNC:4172</td>\n      <td>443</td>\n      <td>MEVTADQPRWVSHHHPAVLNGQHPDTHHPGLSHSYMDAAQYPLPEE...</td>\n      <td>2625.0</td>\n      <td>GATA3</td>\n      <td>1.588384e+09</td>\n      <td>802075.0</td>\n      <td>...</td>\n      <td>-</td>\n      <td>Dominant congenital non-syndromic sensorineura...</td>\n      <td>-</td>\n      <td>NM_001002295.2</td>\n      <td>(p.Asp278Asn)</td>\n      <td>D</td>\n      <td>278.0</td>\n      <td>N</td>\n      <td>False</td>\n      <td>ok</td>\n    </tr>\n    <tr>\n      <th>35522</th>\n      <td>P23771</td>\n      <td>Homo sapiens</td>\n      <td>enhanceosome</td>\n      <td>HGNC:4172</td>\n      <td>443</td>\n      <td>MEVTADQPRWVSHHHPAVLNGQHPDTHHPGLSHSYMDAAQYPLPEE...</td>\n      <td>2625.0</td>\n      <td>GATA3</td>\n      <td>-1.000000e+00</td>\n      <td>857677.0</td>\n      <td>...</td>\n      <td>MONDO:MONDO:0007797,MedGen:C1840333,OMIM:14625...</td>\n      <td>Hypoparathyroidism-deafness-renal disease synd...</td>\n      <td>-</td>\n      <td>NM_001002295.2</td>\n      <td>(p.Cys321Ser)</td>\n      <td>C</td>\n      <td>321.0</td>\n      <td>S</td>\n      <td>False</td>\n      <td>ok</td>\n    </tr>\n    <tr>\n      <th>35545</th>\n      <td>P23771</td>\n      <td>Homo sapiens</td>\n      <td>enhanceosome</td>\n      <td>HGNC:4172</td>\n      <td>443</td>\n      <td>MEVTADQPRWVSHHHPAVLNGQHPDTHHPGLSHSYMDAAQYPLPEE...</td>\n      <td>2625.0</td>\n      <td>GATA3</td>\n      <td>3.749196e+08</td>\n      <td>963003.0</td>\n      <td>...</td>\n      <td>MONDO:MONDO:0007797,MedGen:C1840333,OMIM:14625...</td>\n      <td>Hypoparathyroidism-deafness-renal disease synd...</td>\n      <td>-</td>\n      <td>NM_001002295.2</td>\n      <td>(p.Thr421Met)</td>\n      <td>T</td>\n      <td>421.0</td>\n      <td>M</td>\n      <td>False</td>\n      <td>ok</td>\n    </tr>\n    <tr>\n      <th>35546</th>\n      <td>P23771</td>\n      <td>Homo sapiens</td>\n      <td>enhanceosome</td>\n      <td>HGNC:4172</td>\n      <td>443</td>\n      <td>MEVTADQPRWVSHHHPAVLNGQHPDTHHPGLSHSYMDAAQYPLPEE...</td>\n      <td>2625.0</td>\n      <td>GATA3</td>\n      <td>-1.000000e+00</td>\n      <td>963362.0</td>\n      <td>...</td>\n      <td>MONDO:MONDO:0007797,MedGen:C1840333,OMIM:14625...</td>\n      <td>Hypoparathyroidism-deafness-renal disease synd...</td>\n      <td>-</td>\n      <td>NM_001002295.2</td>\n      <td>(p.Cys264Ser)</td>\n      <td>C</td>\n      <td>264.0</td>\n      <td>S</td>\n      <td>False</td>\n      <td>ok</td>\n    </tr>\n  </tbody>\n</table>\n<p>2186 rows × 23 columns</p>\n</div>"
     },
     "metadata": {},
     "execution_count": 147
    }
   ],
   "source": [
    "#subset de los que no coinciden\n",
    "falses = box_snvs[box_snvs['ctrl'] == False]\n",
    "#agrego una col con las posiciones fuera de la seq: inconsistencias\n",
    "falses['inc'] = np.nan\n",
    "for i in falses.index:\n",
    "    if (falses.aa1[i] == '*') & (int(falses.pos[i]) > falses.length[i]):\n",
    "        falses.inc[i] = 'producto mas largo'\n",
    "    elif int(falses.pos[i]) > falses.length[i]:\n",
    "        falses.inc[i] = 'out of range'\n",
    "    else:\n",
    "        falses.inc[i] = 'ok'\n",
    "falses"
   ]
  },
  {
   "cell_type": "code",
   "execution_count": 150,
   "metadata": {},
   "outputs": [],
   "source": [
    "# Lo guardo\n",
    "box_snvs.to_csv('datasets/clinvar_box1_snv.csv', index= False)"
   ]
  },
  {
   "cell_type": "code",
   "execution_count": 71,
   "metadata": {},
   "outputs": [
    {
     "output_type": "execute_result",
     "data": {
      "text/plain": [
       "317"
      ]
     },
     "metadata": {},
     "execution_count": 71
    }
   ],
   "source": [
    "len(box_snvs.uniprot.unique())"
   ]
  },
  {
   "source": [
    "# Subset del tipo deletions, duplications y Indels"
   ],
   "cell_type": "markdown",
   "metadata": {}
  },
  {
   "cell_type": "code",
   "execution_count": 10,
   "metadata": {},
   "outputs": [],
   "source": [
    "deletions = vs.query('type == \"Deletion\"')"
   ]
  },
  {
   "cell_type": "code",
   "execution_count": 19,
   "metadata": {},
   "outputs": [],
   "source": [
    "duplications = vs.query('type == \"Duplication\"')"
   ]
  },
  {
   "cell_type": "code",
   "execution_count": 20,
   "metadata": {},
   "outputs": [],
   "source": [
    "indel = vs.query('type == \"Indel\"')"
   ]
  },
  {
   "cell_type": "code",
   "execution_count": 11,
   "metadata": {},
   "outputs": [
    {
     "output_type": "stream",
     "name": "stderr",
     "text": [
      "<ipython-input-11-ce3b36bbcde0>:5: SettingWithCopyWarning: \n",
      "A value is trying to be set on a copy of a slice from a DataFrame.\n",
      "Try using .loc[row_indexer,col_indexer] = value instead\n",
      "\n",
      "See the caveats in the documentation: https://pandas.pydata.org/pandas-docs/stable/user_guide/indexing.html#returning-a-view-versus-a-copy\n",
      "  deletions['variant'] = deletions.name.map(lambda x: re.findall('[gmcn]{1}\\..*\\s', x))\n",
      "<ipython-input-11-ce3b36bbcde0>:6: SettingWithCopyWarning: \n",
      "A value is trying to be set on a copy of a slice from a DataFrame.\n",
      "Try using .loc[row_indexer,col_indexer] = value instead\n",
      "\n",
      "See the caveats in the documentation: https://pandas.pydata.org/pandas-docs/stable/user_guide/indexing.html#returning-a-view-versus-a-copy\n",
      "  deletions['variant'] = deletions.variant.str[0]\n",
      "<ipython-input-11-ce3b36bbcde0>:7: SettingWithCopyWarning: \n",
      "A value is trying to be set on a copy of a slice from a DataFrame.\n",
      "Try using .loc[row_indexer,col_indexer] = value instead\n",
      "\n",
      "See the caveats in the documentation: https://pandas.pydata.org/pandas-docs/stable/user_guide/indexing.html#returning-a-view-versus-a-copy\n",
      "  deletions['variant'] = deletions.variant.str.strip()\n",
      "<ipython-input-11-ce3b36bbcde0>:8: SettingWithCopyWarning: \n",
      "A value is trying to be set on a copy of a slice from a DataFrame.\n",
      "Try using .loc[row_indexer,col_indexer] = value instead\n",
      "\n",
      "See the caveats in the documentation: https://pandas.pydata.org/pandas-docs/stable/user_guide/indexing.html#returning-a-view-versus-a-copy\n",
      "  deletions['cambio'] = deletions.name.map(lambda x: re.findall('\\(p.*\\)', x))\n",
      "<ipython-input-11-ce3b36bbcde0>:9: SettingWithCopyWarning: \n",
      "A value is trying to be set on a copy of a slice from a DataFrame.\n",
      "Try using .loc[row_indexer,col_indexer] = value instead\n",
      "\n",
      "See the caveats in the documentation: https://pandas.pydata.org/pandas-docs/stable/user_guide/indexing.html#returning-a-view-versus-a-copy\n",
      "  deletions['cambio'] = deletions.cambio.str[0]\n"
     ]
    },
    {
     "output_type": "execute_result",
     "data": {
      "text/plain": [
       "         geneid genesymbol     hgnc_id      snpid  alleleid      type  \\\n",
       "3          9907      AP5Z1  HGNC:22197  397704709     15042  Deletion   \n",
       "41        57539      WDR35  HGNC:29250  397515334     15061  Deletion   \n",
       "71        84140    FAM161A  HGNC:25808  397704718     15076  Deletion   \n",
       "77       284403      WDR62  HGNC:24502  397704721     15079  Deletion   \n",
       "85       284403      WDR62  HGNC:24502  397704725     15083  Deletion   \n",
       "...         ...        ...         ...        ...       ...       ...   \n",
       "1646011    9381       OTOF   HGNC:8515         -1    971293  Deletion   \n",
       "1646099    7273        TTN  HGNC:12403         -1    971337  Deletion   \n",
       "1646111   91574   C12orf65  HGNC:26784         -1    971343  Deletion   \n",
       "1646115    6528     SLC5A5  HGNC:11040         -1    971345  Deletion   \n",
       "1646126   55812     SPATA7  HGNC:20423         -1    971352  Deletion   \n",
       "\n",
       "                                                      name          origin  \\\n",
       "3           NM_014855.3(AP5Z1):c.1413_1426del (p.Leu473fs)        germline   \n",
       "41               NM_020779.4(WDR35):c.2858del (p.Pro953fs)        germline   \n",
       "71       NM_001201543.2(FAM161A):c.1355_1356del (p.Thr4...        germline   \n",
       "77       NM_001083961.2(WDR62):c.4205_4208del (p.Val140...        germline   \n",
       "85       NM_001083961.2(WDR62):c.3839_3855del (p.Gly128...        germline   \n",
       "...                                                    ...             ...   \n",
       "1646011          NM_194248.3(OTOF):c.5179del (p.Arg1727fs)         unknown   \n",
       "1646099  NM_001267550.2(TTN):c.98515_98568del (p.Pro328...        germline   \n",
       "1646111     NM_152269.5(C12orf65):c.127_146del (p.Met43fs)        germline   \n",
       "1646115           NM_000453.3(SLC5A5):c.152del (p.Gly51fs)        germline   \n",
       "1646126          NM_018418.5(SPATA7):c.657del (p.Ala220fs)  not applicable   \n",
       "\n",
       "                                              phenotypeids  \\\n",
       "3        MONDO:MONDO:0013342,MedGen:C3150901,OMIM:61364...   \n",
       "41       MONDO:MONDO:0013323,MedGen:C3150874,OMIM:61361...   \n",
       "71       MONDO:MONDO:0011630,MedGen:C1419614,OMIM:60606...   \n",
       "77       MONDO:MONDO:0011435,MedGen:C1858535,OMIM:60431...   \n",
       "85       MONDO:MONDO:0011435,MedGen:C1858535,OMIM:60431...   \n",
       "...                                                    ...   \n",
       "1646011  MONDO:MONDO:0010986,MedGen:C1832828,OMIM:60107...   \n",
       "1646099  MONDO:MONDO:0012127,MedGen:C1837342,OMIM:60880...   \n",
       "1646111  MONDO:MONDO:0014020,MedGen:C3539506,OMIM:61503...   \n",
       "1646115  MONDO:MONDO:0020716,MedGen:C1848805,OMIM:27440...   \n",
       "1646126                                                  -   \n",
       "\n",
       "                                             phenotypelist  \\\n",
       "3               Spastic paraplegia 48, autosomal recessive   \n",
       "41                            Cranioectodermal dysplasia 2   \n",
       "71       Retinitis pigmentosa 28|not provided|Retinitis...   \n",
       "77              Primary autosomal recessive microcephaly 2   \n",
       "85              Primary autosomal recessive microcephaly 2   \n",
       "...                                                    ...   \n",
       "1646011                    Deafness, autosomal recessive 9   \n",
       "1646099            Limb-girdle muscular dystrophy, type 2J   \n",
       "1646111         Spastic paraplegia 55, autosomal recessive   \n",
       "1646115                        Thyroid dyshormonogenesis 1   \n",
       "1646126                                                  -   \n",
       "\n",
       "                                  otherids           variant  \\\n",
       "3        ClinGen:CA215072,OMIM:613653.0002    c.1413_1426del   \n",
       "41       OMIM:613602.0003,ClinGen:CA339781         c.2858del   \n",
       "71       OMIM:613596.0003,ClinGen:CA251357    c.1355_1356del   \n",
       "77       ClinGen:CA251360,OMIM:613583.0001    c.4205_4208del   \n",
       "85       OMIM:613583.0005,ClinGen:CA251365    c.3839_3855del   \n",
       "...                                    ...               ...   \n",
       "1646011                                  -         c.5179del   \n",
       "1646099                                  -  c.98515_98568del   \n",
       "1646111                                  -      c.127_146del   \n",
       "1646115                                  -          c.152del   \n",
       "1646126                     ClinVar:983284          c.657del   \n",
       "\n",
       "                           cambio  \n",
       "3                    (p.Leu473fs)  \n",
       "41                   (p.Pro953fs)  \n",
       "71                   (p.Thr452fs)  \n",
       "77                  (p.Val1402fs)  \n",
       "85                  (p.Gly1280fs)  \n",
       "...                           ...  \n",
       "1646011             (p.Arg1727fs)  \n",
       "1646099  (p.Pro32839_Val32856del)  \n",
       "1646111               (p.Met43fs)  \n",
       "1646115               (p.Gly51fs)  \n",
       "1646126              (p.Ala220fs)  \n",
       "\n",
       "[31594 rows x 13 columns]"
      ],
      "text/html": "<div>\n<style scoped>\n    .dataframe tbody tr th:only-of-type {\n        vertical-align: middle;\n    }\n\n    .dataframe tbody tr th {\n        vertical-align: top;\n    }\n\n    .dataframe thead th {\n        text-align: right;\n    }\n</style>\n<table border=\"1\" class=\"dataframe\">\n  <thead>\n    <tr style=\"text-align: right;\">\n      <th></th>\n      <th>geneid</th>\n      <th>genesymbol</th>\n      <th>hgnc_id</th>\n      <th>snpid</th>\n      <th>alleleid</th>\n      <th>type</th>\n      <th>name</th>\n      <th>origin</th>\n      <th>phenotypeids</th>\n      <th>phenotypelist</th>\n      <th>otherids</th>\n      <th>variant</th>\n      <th>cambio</th>\n    </tr>\n  </thead>\n  <tbody>\n    <tr>\n      <th>3</th>\n      <td>9907</td>\n      <td>AP5Z1</td>\n      <td>HGNC:22197</td>\n      <td>397704709</td>\n      <td>15042</td>\n      <td>Deletion</td>\n      <td>NM_014855.3(AP5Z1):c.1413_1426del (p.Leu473fs)</td>\n      <td>germline</td>\n      <td>MONDO:MONDO:0013342,MedGen:C3150901,OMIM:61364...</td>\n      <td>Spastic paraplegia 48, autosomal recessive</td>\n      <td>ClinGen:CA215072,OMIM:613653.0002</td>\n      <td>c.1413_1426del</td>\n      <td>(p.Leu473fs)</td>\n    </tr>\n    <tr>\n      <th>41</th>\n      <td>57539</td>\n      <td>WDR35</td>\n      <td>HGNC:29250</td>\n      <td>397515334</td>\n      <td>15061</td>\n      <td>Deletion</td>\n      <td>NM_020779.4(WDR35):c.2858del (p.Pro953fs)</td>\n      <td>germline</td>\n      <td>MONDO:MONDO:0013323,MedGen:C3150874,OMIM:61361...</td>\n      <td>Cranioectodermal dysplasia 2</td>\n      <td>OMIM:613602.0003,ClinGen:CA339781</td>\n      <td>c.2858del</td>\n      <td>(p.Pro953fs)</td>\n    </tr>\n    <tr>\n      <th>71</th>\n      <td>84140</td>\n      <td>FAM161A</td>\n      <td>HGNC:25808</td>\n      <td>397704718</td>\n      <td>15076</td>\n      <td>Deletion</td>\n      <td>NM_001201543.2(FAM161A):c.1355_1356del (p.Thr4...</td>\n      <td>germline</td>\n      <td>MONDO:MONDO:0011630,MedGen:C1419614,OMIM:60606...</td>\n      <td>Retinitis pigmentosa 28|not provided|Retinitis...</td>\n      <td>OMIM:613596.0003,ClinGen:CA251357</td>\n      <td>c.1355_1356del</td>\n      <td>(p.Thr452fs)</td>\n    </tr>\n    <tr>\n      <th>77</th>\n      <td>284403</td>\n      <td>WDR62</td>\n      <td>HGNC:24502</td>\n      <td>397704721</td>\n      <td>15079</td>\n      <td>Deletion</td>\n      <td>NM_001083961.2(WDR62):c.4205_4208del (p.Val140...</td>\n      <td>germline</td>\n      <td>MONDO:MONDO:0011435,MedGen:C1858535,OMIM:60431...</td>\n      <td>Primary autosomal recessive microcephaly 2</td>\n      <td>ClinGen:CA251360,OMIM:613583.0001</td>\n      <td>c.4205_4208del</td>\n      <td>(p.Val1402fs)</td>\n    </tr>\n    <tr>\n      <th>85</th>\n      <td>284403</td>\n      <td>WDR62</td>\n      <td>HGNC:24502</td>\n      <td>397704725</td>\n      <td>15083</td>\n      <td>Deletion</td>\n      <td>NM_001083961.2(WDR62):c.3839_3855del (p.Gly128...</td>\n      <td>germline</td>\n      <td>MONDO:MONDO:0011435,MedGen:C1858535,OMIM:60431...</td>\n      <td>Primary autosomal recessive microcephaly 2</td>\n      <td>OMIM:613583.0005,ClinGen:CA251365</td>\n      <td>c.3839_3855del</td>\n      <td>(p.Gly1280fs)</td>\n    </tr>\n    <tr>\n      <th>...</th>\n      <td>...</td>\n      <td>...</td>\n      <td>...</td>\n      <td>...</td>\n      <td>...</td>\n      <td>...</td>\n      <td>...</td>\n      <td>...</td>\n      <td>...</td>\n      <td>...</td>\n      <td>...</td>\n      <td>...</td>\n      <td>...</td>\n    </tr>\n    <tr>\n      <th>1646011</th>\n      <td>9381</td>\n      <td>OTOF</td>\n      <td>HGNC:8515</td>\n      <td>-1</td>\n      <td>971293</td>\n      <td>Deletion</td>\n      <td>NM_194248.3(OTOF):c.5179del (p.Arg1727fs)</td>\n      <td>unknown</td>\n      <td>MONDO:MONDO:0010986,MedGen:C1832828,OMIM:60107...</td>\n      <td>Deafness, autosomal recessive 9</td>\n      <td>-</td>\n      <td>c.5179del</td>\n      <td>(p.Arg1727fs)</td>\n    </tr>\n    <tr>\n      <th>1646099</th>\n      <td>7273</td>\n      <td>TTN</td>\n      <td>HGNC:12403</td>\n      <td>-1</td>\n      <td>971337</td>\n      <td>Deletion</td>\n      <td>NM_001267550.2(TTN):c.98515_98568del (p.Pro328...</td>\n      <td>germline</td>\n      <td>MONDO:MONDO:0012127,MedGen:C1837342,OMIM:60880...</td>\n      <td>Limb-girdle muscular dystrophy, type 2J</td>\n      <td>-</td>\n      <td>c.98515_98568del</td>\n      <td>(p.Pro32839_Val32856del)</td>\n    </tr>\n    <tr>\n      <th>1646111</th>\n      <td>91574</td>\n      <td>C12orf65</td>\n      <td>HGNC:26784</td>\n      <td>-1</td>\n      <td>971343</td>\n      <td>Deletion</td>\n      <td>NM_152269.5(C12orf65):c.127_146del (p.Met43fs)</td>\n      <td>germline</td>\n      <td>MONDO:MONDO:0014020,MedGen:C3539506,OMIM:61503...</td>\n      <td>Spastic paraplegia 55, autosomal recessive</td>\n      <td>-</td>\n      <td>c.127_146del</td>\n      <td>(p.Met43fs)</td>\n    </tr>\n    <tr>\n      <th>1646115</th>\n      <td>6528</td>\n      <td>SLC5A5</td>\n      <td>HGNC:11040</td>\n      <td>-1</td>\n      <td>971345</td>\n      <td>Deletion</td>\n      <td>NM_000453.3(SLC5A5):c.152del (p.Gly51fs)</td>\n      <td>germline</td>\n      <td>MONDO:MONDO:0020716,MedGen:C1848805,OMIM:27440...</td>\n      <td>Thyroid dyshormonogenesis 1</td>\n      <td>-</td>\n      <td>c.152del</td>\n      <td>(p.Gly51fs)</td>\n    </tr>\n    <tr>\n      <th>1646126</th>\n      <td>55812</td>\n      <td>SPATA7</td>\n      <td>HGNC:20423</td>\n      <td>-1</td>\n      <td>971352</td>\n      <td>Deletion</td>\n      <td>NM_018418.5(SPATA7):c.657del (p.Ala220fs)</td>\n      <td>not applicable</td>\n      <td>-</td>\n      <td>-</td>\n      <td>ClinVar:983284</td>\n      <td>c.657del</td>\n      <td>(p.Ala220fs)</td>\n    </tr>\n  </tbody>\n</table>\n<p>31594 rows × 13 columns</p>\n</div>"
     },
     "metadata": {},
     "execution_count": 11
    }
   ],
   "source": [
    "# Ver nomenclatura de variantes aqui: https://varnomen.hgvs.org/recommendations/protein/variant/deletion/\n",
    "# \\s matches any whitespace character\n",
    "# hay un espacio en blanco antes de empezar el cambio, por eso lo 'atrapo' asi\n",
    "\n",
    "deletions['variant'] = deletions.name.map(lambda x: re.findall('[gmcn]{1}\\..*\\s', x))\n",
    "deletions['variant'] = deletions.variant.str[0]\n",
    "deletions['variant'] = deletions.variant.str.strip()\n",
    "deletions['cambio'] = deletions.name.map(lambda x: re.findall('\\(p.*\\)', x))\n",
    "deletions['cambio'] = deletions.cambio.str[0]\n",
    "\n",
    "# elimino los nan\n",
    "deletions = deletions[deletions.variant.notnull()]\n",
    "deletions"
   ]
  },
  {
   "cell_type": "code",
   "execution_count": 12,
   "metadata": {},
   "outputs": [
    {
     "output_type": "execute_result",
     "data": {
      "text/plain": [
       "         geneid genesymbol     hgnc_id      snpid  alleleid      type  \\\n",
       "3          9907      AP5Z1  HGNC:22197  397704709     15042  Deletion   \n",
       "41        57539      WDR35  HGNC:29250  397515334     15061  Deletion   \n",
       "71        84140    FAM161A  HGNC:25808  397704718     15076  Deletion   \n",
       "77       284403      WDR62  HGNC:24502  397704721     15079  Deletion   \n",
       "85       284403      WDR62  HGNC:24502  397704725     15083  Deletion   \n",
       "...         ...        ...         ...        ...       ...       ...   \n",
       "1646011    9381       OTOF   HGNC:8515         -1    971293  Deletion   \n",
       "1646099    7273        TTN  HGNC:12403         -1    971337  Deletion   \n",
       "1646111   91574   C12orf65  HGNC:26784         -1    971343  Deletion   \n",
       "1646115    6528     SLC5A5  HGNC:11040         -1    971345  Deletion   \n",
       "1646126   55812     SPATA7  HGNC:20423         -1    971352  Deletion   \n",
       "\n",
       "                                                      name          origin  \\\n",
       "3           NM_014855.3(AP5Z1):c.1413_1426del (p.Leu473fs)        germline   \n",
       "41               NM_020779.4(WDR35):c.2858del (p.Pro953fs)        germline   \n",
       "71       NM_001201543.2(FAM161A):c.1355_1356del (p.Thr4...        germline   \n",
       "77       NM_001083961.2(WDR62):c.4205_4208del (p.Val140...        germline   \n",
       "85       NM_001083961.2(WDR62):c.3839_3855del (p.Gly128...        germline   \n",
       "...                                                    ...             ...   \n",
       "1646011          NM_194248.3(OTOF):c.5179del (p.Arg1727fs)         unknown   \n",
       "1646099  NM_001267550.2(TTN):c.98515_98568del (p.Pro328...        germline   \n",
       "1646111     NM_152269.5(C12orf65):c.127_146del (p.Met43fs)        germline   \n",
       "1646115           NM_000453.3(SLC5A5):c.152del (p.Gly51fs)        germline   \n",
       "1646126          NM_018418.5(SPATA7):c.657del (p.Ala220fs)  not applicable   \n",
       "\n",
       "                                              phenotypeids  \\\n",
       "3        MONDO:MONDO:0013342,MedGen:C3150901,OMIM:61364...   \n",
       "41       MONDO:MONDO:0013323,MedGen:C3150874,OMIM:61361...   \n",
       "71       MONDO:MONDO:0011630,MedGen:C1419614,OMIM:60606...   \n",
       "77       MONDO:MONDO:0011435,MedGen:C1858535,OMIM:60431...   \n",
       "85       MONDO:MONDO:0011435,MedGen:C1858535,OMIM:60431...   \n",
       "...                                                    ...   \n",
       "1646011  MONDO:MONDO:0010986,MedGen:C1832828,OMIM:60107...   \n",
       "1646099  MONDO:MONDO:0012127,MedGen:C1837342,OMIM:60880...   \n",
       "1646111  MONDO:MONDO:0014020,MedGen:C3539506,OMIM:61503...   \n",
       "1646115  MONDO:MONDO:0020716,MedGen:C1848805,OMIM:27440...   \n",
       "1646126                                                  -   \n",
       "\n",
       "                                             phenotypelist  \\\n",
       "3               Spastic paraplegia 48, autosomal recessive   \n",
       "41                            Cranioectodermal dysplasia 2   \n",
       "71       Retinitis pigmentosa 28|not provided|Retinitis...   \n",
       "77              Primary autosomal recessive microcephaly 2   \n",
       "85              Primary autosomal recessive microcephaly 2   \n",
       "...                                                    ...   \n",
       "1646011                    Deafness, autosomal recessive 9   \n",
       "1646099            Limb-girdle muscular dystrophy, type 2J   \n",
       "1646111         Spastic paraplegia 55, autosomal recessive   \n",
       "1646115                        Thyroid dyshormonogenesis 1   \n",
       "1646126                                                  -   \n",
       "\n",
       "                                  otherids           variant  \\\n",
       "3        ClinGen:CA215072,OMIM:613653.0002    c.1413_1426del   \n",
       "41       OMIM:613602.0003,ClinGen:CA339781         c.2858del   \n",
       "71       OMIM:613596.0003,ClinGen:CA251357    c.1355_1356del   \n",
       "77       ClinGen:CA251360,OMIM:613583.0001    c.4205_4208del   \n",
       "85       OMIM:613583.0005,ClinGen:CA251365    c.3839_3855del   \n",
       "...                                    ...               ...   \n",
       "1646011                                  -         c.5179del   \n",
       "1646099                                  -  c.98515_98568del   \n",
       "1646111                                  -      c.127_146del   \n",
       "1646115                                  -          c.152del   \n",
       "1646126                     ClinVar:983284          c.657del   \n",
       "\n",
       "                           cambio  aa1  aa2   pos1   pos2  \n",
       "3                    (p.Leu473fs)  Leu  NaN    473    NaN  \n",
       "41                   (p.Pro953fs)  Pro  NaN    953    NaN  \n",
       "71                   (p.Thr452fs)  Thr  NaN    452    NaN  \n",
       "77                  (p.Val1402fs)  Val  NaN   1402    NaN  \n",
       "85                  (p.Gly1280fs)  Gly  NaN   1280    NaN  \n",
       "...                           ...  ...  ...    ...    ...  \n",
       "1646011             (p.Arg1727fs)  Arg  NaN   1727    NaN  \n",
       "1646099  (p.Pro32839_Val32856del)  Pro  Val  32839  32856  \n",
       "1646111               (p.Met43fs)  Met  NaN     43    NaN  \n",
       "1646115               (p.Gly51fs)  Gly  NaN     51    NaN  \n",
       "1646126              (p.Ala220fs)  Ala  NaN    220    NaN  \n",
       "\n",
       "[31594 rows x 17 columns]"
      ],
      "text/html": "<div>\n<style scoped>\n    .dataframe tbody tr th:only-of-type {\n        vertical-align: middle;\n    }\n\n    .dataframe tbody tr th {\n        vertical-align: top;\n    }\n\n    .dataframe thead th {\n        text-align: right;\n    }\n</style>\n<table border=\"1\" class=\"dataframe\">\n  <thead>\n    <tr style=\"text-align: right;\">\n      <th></th>\n      <th>geneid</th>\n      <th>genesymbol</th>\n      <th>hgnc_id</th>\n      <th>snpid</th>\n      <th>alleleid</th>\n      <th>type</th>\n      <th>name</th>\n      <th>origin</th>\n      <th>phenotypeids</th>\n      <th>phenotypelist</th>\n      <th>otherids</th>\n      <th>variant</th>\n      <th>cambio</th>\n      <th>aa1</th>\n      <th>aa2</th>\n      <th>pos1</th>\n      <th>pos2</th>\n    </tr>\n  </thead>\n  <tbody>\n    <tr>\n      <th>3</th>\n      <td>9907</td>\n      <td>AP5Z1</td>\n      <td>HGNC:22197</td>\n      <td>397704709</td>\n      <td>15042</td>\n      <td>Deletion</td>\n      <td>NM_014855.3(AP5Z1):c.1413_1426del (p.Leu473fs)</td>\n      <td>germline</td>\n      <td>MONDO:MONDO:0013342,MedGen:C3150901,OMIM:61364...</td>\n      <td>Spastic paraplegia 48, autosomal recessive</td>\n      <td>ClinGen:CA215072,OMIM:613653.0002</td>\n      <td>c.1413_1426del</td>\n      <td>(p.Leu473fs)</td>\n      <td>Leu</td>\n      <td>NaN</td>\n      <td>473</td>\n      <td>NaN</td>\n    </tr>\n    <tr>\n      <th>41</th>\n      <td>57539</td>\n      <td>WDR35</td>\n      <td>HGNC:29250</td>\n      <td>397515334</td>\n      <td>15061</td>\n      <td>Deletion</td>\n      <td>NM_020779.4(WDR35):c.2858del (p.Pro953fs)</td>\n      <td>germline</td>\n      <td>MONDO:MONDO:0013323,MedGen:C3150874,OMIM:61361...</td>\n      <td>Cranioectodermal dysplasia 2</td>\n      <td>OMIM:613602.0003,ClinGen:CA339781</td>\n      <td>c.2858del</td>\n      <td>(p.Pro953fs)</td>\n      <td>Pro</td>\n      <td>NaN</td>\n      <td>953</td>\n      <td>NaN</td>\n    </tr>\n    <tr>\n      <th>71</th>\n      <td>84140</td>\n      <td>FAM161A</td>\n      <td>HGNC:25808</td>\n      <td>397704718</td>\n      <td>15076</td>\n      <td>Deletion</td>\n      <td>NM_001201543.2(FAM161A):c.1355_1356del (p.Thr4...</td>\n      <td>germline</td>\n      <td>MONDO:MONDO:0011630,MedGen:C1419614,OMIM:60606...</td>\n      <td>Retinitis pigmentosa 28|not provided|Retinitis...</td>\n      <td>OMIM:613596.0003,ClinGen:CA251357</td>\n      <td>c.1355_1356del</td>\n      <td>(p.Thr452fs)</td>\n      <td>Thr</td>\n      <td>NaN</td>\n      <td>452</td>\n      <td>NaN</td>\n    </tr>\n    <tr>\n      <th>77</th>\n      <td>284403</td>\n      <td>WDR62</td>\n      <td>HGNC:24502</td>\n      <td>397704721</td>\n      <td>15079</td>\n      <td>Deletion</td>\n      <td>NM_001083961.2(WDR62):c.4205_4208del (p.Val140...</td>\n      <td>germline</td>\n      <td>MONDO:MONDO:0011435,MedGen:C1858535,OMIM:60431...</td>\n      <td>Primary autosomal recessive microcephaly 2</td>\n      <td>ClinGen:CA251360,OMIM:613583.0001</td>\n      <td>c.4205_4208del</td>\n      <td>(p.Val1402fs)</td>\n      <td>Val</td>\n      <td>NaN</td>\n      <td>1402</td>\n      <td>NaN</td>\n    </tr>\n    <tr>\n      <th>85</th>\n      <td>284403</td>\n      <td>WDR62</td>\n      <td>HGNC:24502</td>\n      <td>397704725</td>\n      <td>15083</td>\n      <td>Deletion</td>\n      <td>NM_001083961.2(WDR62):c.3839_3855del (p.Gly128...</td>\n      <td>germline</td>\n      <td>MONDO:MONDO:0011435,MedGen:C1858535,OMIM:60431...</td>\n      <td>Primary autosomal recessive microcephaly 2</td>\n      <td>OMIM:613583.0005,ClinGen:CA251365</td>\n      <td>c.3839_3855del</td>\n      <td>(p.Gly1280fs)</td>\n      <td>Gly</td>\n      <td>NaN</td>\n      <td>1280</td>\n      <td>NaN</td>\n    </tr>\n    <tr>\n      <th>...</th>\n      <td>...</td>\n      <td>...</td>\n      <td>...</td>\n      <td>...</td>\n      <td>...</td>\n      <td>...</td>\n      <td>...</td>\n      <td>...</td>\n      <td>...</td>\n      <td>...</td>\n      <td>...</td>\n      <td>...</td>\n      <td>...</td>\n      <td>...</td>\n      <td>...</td>\n      <td>...</td>\n      <td>...</td>\n    </tr>\n    <tr>\n      <th>1646011</th>\n      <td>9381</td>\n      <td>OTOF</td>\n      <td>HGNC:8515</td>\n      <td>-1</td>\n      <td>971293</td>\n      <td>Deletion</td>\n      <td>NM_194248.3(OTOF):c.5179del (p.Arg1727fs)</td>\n      <td>unknown</td>\n      <td>MONDO:MONDO:0010986,MedGen:C1832828,OMIM:60107...</td>\n      <td>Deafness, autosomal recessive 9</td>\n      <td>-</td>\n      <td>c.5179del</td>\n      <td>(p.Arg1727fs)</td>\n      <td>Arg</td>\n      <td>NaN</td>\n      <td>1727</td>\n      <td>NaN</td>\n    </tr>\n    <tr>\n      <th>1646099</th>\n      <td>7273</td>\n      <td>TTN</td>\n      <td>HGNC:12403</td>\n      <td>-1</td>\n      <td>971337</td>\n      <td>Deletion</td>\n      <td>NM_001267550.2(TTN):c.98515_98568del (p.Pro328...</td>\n      <td>germline</td>\n      <td>MONDO:MONDO:0012127,MedGen:C1837342,OMIM:60880...</td>\n      <td>Limb-girdle muscular dystrophy, type 2J</td>\n      <td>-</td>\n      <td>c.98515_98568del</td>\n      <td>(p.Pro32839_Val32856del)</td>\n      <td>Pro</td>\n      <td>Val</td>\n      <td>32839</td>\n      <td>32856</td>\n    </tr>\n    <tr>\n      <th>1646111</th>\n      <td>91574</td>\n      <td>C12orf65</td>\n      <td>HGNC:26784</td>\n      <td>-1</td>\n      <td>971343</td>\n      <td>Deletion</td>\n      <td>NM_152269.5(C12orf65):c.127_146del (p.Met43fs)</td>\n      <td>germline</td>\n      <td>MONDO:MONDO:0014020,MedGen:C3539506,OMIM:61503...</td>\n      <td>Spastic paraplegia 55, autosomal recessive</td>\n      <td>-</td>\n      <td>c.127_146del</td>\n      <td>(p.Met43fs)</td>\n      <td>Met</td>\n      <td>NaN</td>\n      <td>43</td>\n      <td>NaN</td>\n    </tr>\n    <tr>\n      <th>1646115</th>\n      <td>6528</td>\n      <td>SLC5A5</td>\n      <td>HGNC:11040</td>\n      <td>-1</td>\n      <td>971345</td>\n      <td>Deletion</td>\n      <td>NM_000453.3(SLC5A5):c.152del (p.Gly51fs)</td>\n      <td>germline</td>\n      <td>MONDO:MONDO:0020716,MedGen:C1848805,OMIM:27440...</td>\n      <td>Thyroid dyshormonogenesis 1</td>\n      <td>-</td>\n      <td>c.152del</td>\n      <td>(p.Gly51fs)</td>\n      <td>Gly</td>\n      <td>NaN</td>\n      <td>51</td>\n      <td>NaN</td>\n    </tr>\n    <tr>\n      <th>1646126</th>\n      <td>55812</td>\n      <td>SPATA7</td>\n      <td>HGNC:20423</td>\n      <td>-1</td>\n      <td>971352</td>\n      <td>Deletion</td>\n      <td>NM_018418.5(SPATA7):c.657del (p.Ala220fs)</td>\n      <td>not applicable</td>\n      <td>-</td>\n      <td>-</td>\n      <td>ClinVar:983284</td>\n      <td>c.657del</td>\n      <td>(p.Ala220fs)</td>\n      <td>Ala</td>\n      <td>NaN</td>\n      <td>220</td>\n      <td>NaN</td>\n    </tr>\n  </tbody>\n</table>\n<p>31594 rows × 17 columns</p>\n</div>"
     },
     "metadata": {},
     "execution_count": 12
    }
   ],
   "source": [
    "#Agrego una col para el/los aa que cambia/n\n",
    "deletions['aa'] = deletions.cambio.map(lambda x: re.findall('[A-Z]{1}[a-z]{2}', x))\n",
    "deletions['aa1'] = deletions.aa.str[0]\n",
    "deletions['aa2'] = deletions.aa.str[1]\n",
    "deletions = deletions.drop(columns='aa')\n",
    "#otra col para la/s posicion/es\n",
    "deletions['pos1'] = np.nan\n",
    "deletions['cambio'] = deletions.cambio.apply(str)\n",
    "deletions['pos1'] = deletions.cambio.map(lambda x: re.findall('[0-9]+', x))\n",
    "deletions['pos2'] = deletions.pos1.str[1]\n",
    "deletions['pos1'] = deletions.pos1.str[0]\n",
    "\n",
    "deletions"
   ]
  },
  {
   "cell_type": "code",
   "execution_count": 144,
   "metadata": {},
   "outputs": [],
   "source": [
    "def unafuncion(a, b):\n",
    "    ind = a.find(b)\n",
    "    l= len(b)\n",
    "    return a[ind+l:-1]"
   ]
  },
  {
   "cell_type": "code",
   "execution_count": 145,
   "metadata": {},
   "outputs": [
    {
     "output_type": "execute_result",
     "data": {
      "text/plain": [
       "'fs'"
      ]
     },
     "metadata": {},
     "execution_count": 145
    }
   ],
   "source": [
    "unafuncion('(p.Val1402fs)', 'Leu473')"
   ]
  },
  {
   "cell_type": "code",
   "execution_count": 13,
   "metadata": {},
   "outputs": [
    {
     "output_type": "execute_result",
     "data": {
      "text/plain": [
       "         geneid genesymbol     hgnc_id      snpid  alleleid      type  \\\n",
       "3          9907      AP5Z1  HGNC:22197  397704709     15042  Deletion   \n",
       "41        57539      WDR35  HGNC:29250  397515334     15061  Deletion   \n",
       "71        84140    FAM161A  HGNC:25808  397704718     15076  Deletion   \n",
       "77       284403      WDR62  HGNC:24502  397704721     15079  Deletion   \n",
       "85       284403      WDR62  HGNC:24502  397704725     15083  Deletion   \n",
       "...         ...        ...         ...        ...       ...       ...   \n",
       "1646011    9381       OTOF   HGNC:8515         -1    971293  Deletion   \n",
       "1646099    7273        TTN  HGNC:12403         -1    971337  Deletion   \n",
       "1646111   91574   C12orf65  HGNC:26784         -1    971343  Deletion   \n",
       "1646115    6528     SLC5A5  HGNC:11040         -1    971345  Deletion   \n",
       "1646126   55812     SPATA7  HGNC:20423         -1    971352  Deletion   \n",
       "\n",
       "                                                      name          origin  \\\n",
       "3           NM_014855.3(AP5Z1):c.1413_1426del (p.Leu473fs)        germline   \n",
       "41               NM_020779.4(WDR35):c.2858del (p.Pro953fs)        germline   \n",
       "71       NM_001201543.2(FAM161A):c.1355_1356del (p.Thr4...        germline   \n",
       "77       NM_001083961.2(WDR62):c.4205_4208del (p.Val140...        germline   \n",
       "85       NM_001083961.2(WDR62):c.3839_3855del (p.Gly128...        germline   \n",
       "...                                                    ...             ...   \n",
       "1646011          NM_194248.3(OTOF):c.5179del (p.Arg1727fs)         unknown   \n",
       "1646099  NM_001267550.2(TTN):c.98515_98568del (p.Pro328...        germline   \n",
       "1646111     NM_152269.5(C12orf65):c.127_146del (p.Met43fs)        germline   \n",
       "1646115           NM_000453.3(SLC5A5):c.152del (p.Gly51fs)        germline   \n",
       "1646126          NM_018418.5(SPATA7):c.657del (p.Ala220fs)  not applicable   \n",
       "\n",
       "                                              phenotypeids  \\\n",
       "3        MONDO:MONDO:0013342,MedGen:C3150901,OMIM:61364...   \n",
       "41       MONDO:MONDO:0013323,MedGen:C3150874,OMIM:61361...   \n",
       "71       MONDO:MONDO:0011630,MedGen:C1419614,OMIM:60606...   \n",
       "77       MONDO:MONDO:0011435,MedGen:C1858535,OMIM:60431...   \n",
       "85       MONDO:MONDO:0011435,MedGen:C1858535,OMIM:60431...   \n",
       "...                                                    ...   \n",
       "1646011  MONDO:MONDO:0010986,MedGen:C1832828,OMIM:60107...   \n",
       "1646099  MONDO:MONDO:0012127,MedGen:C1837342,OMIM:60880...   \n",
       "1646111  MONDO:MONDO:0014020,MedGen:C3539506,OMIM:61503...   \n",
       "1646115  MONDO:MONDO:0020716,MedGen:C1848805,OMIM:27440...   \n",
       "1646126                                                  -   \n",
       "\n",
       "                                             phenotypelist  \\\n",
       "3               Spastic paraplegia 48, autosomal recessive   \n",
       "41                            Cranioectodermal dysplasia 2   \n",
       "71       Retinitis pigmentosa 28|not provided|Retinitis...   \n",
       "77              Primary autosomal recessive microcephaly 2   \n",
       "85              Primary autosomal recessive microcephaly 2   \n",
       "...                                                    ...   \n",
       "1646011                    Deafness, autosomal recessive 9   \n",
       "1646099            Limb-girdle muscular dystrophy, type 2J   \n",
       "1646111         Spastic paraplegia 55, autosomal recessive   \n",
       "1646115                        Thyroid dyshormonogenesis 1   \n",
       "1646126                                                  -   \n",
       "\n",
       "                                  otherids           variant  \\\n",
       "3        ClinGen:CA215072,OMIM:613653.0002    c.1413_1426del   \n",
       "41       OMIM:613602.0003,ClinGen:CA339781         c.2858del   \n",
       "71       OMIM:613596.0003,ClinGen:CA251357    c.1355_1356del   \n",
       "77       ClinGen:CA251360,OMIM:613583.0001    c.4205_4208del   \n",
       "85       OMIM:613583.0005,ClinGen:CA251365    c.3839_3855del   \n",
       "...                                    ...               ...   \n",
       "1646011                                  -         c.5179del   \n",
       "1646099                                  -  c.98515_98568del   \n",
       "1646111                                  -      c.127_146del   \n",
       "1646115                                  -          c.152del   \n",
       "1646126                     ClinVar:983284          c.657del   \n",
       "\n",
       "                           cambio  aa1  aa2   pos1   pos2  \n",
       "3                    (p.Leu473fs)  Leu  NaN    473    NaN  \n",
       "41                   (p.Pro953fs)  Pro  NaN    953    NaN  \n",
       "71                   (p.Thr452fs)  Thr  NaN    452    NaN  \n",
       "77                  (p.Val1402fs)  Val  NaN   1402    NaN  \n",
       "85                  (p.Gly1280fs)  Gly  NaN   1280    NaN  \n",
       "...                           ...  ...  ...    ...    ...  \n",
       "1646011             (p.Arg1727fs)  Arg  NaN   1727    NaN  \n",
       "1646099  (p.Pro32839_Val32856del)  Pro  Val  32839  32856  \n",
       "1646111               (p.Met43fs)  Met  NaN     43    NaN  \n",
       "1646115               (p.Gly51fs)  Gly  NaN     51    NaN  \n",
       "1646126              (p.Ala220fs)  Ala  NaN    220    NaN  \n",
       "\n",
       "[31594 rows x 17 columns]"
      ],
      "text/html": "<div>\n<style scoped>\n    .dataframe tbody tr th:only-of-type {\n        vertical-align: middle;\n    }\n\n    .dataframe tbody tr th {\n        vertical-align: top;\n    }\n\n    .dataframe thead th {\n        text-align: right;\n    }\n</style>\n<table border=\"1\" class=\"dataframe\">\n  <thead>\n    <tr style=\"text-align: right;\">\n      <th></th>\n      <th>geneid</th>\n      <th>genesymbol</th>\n      <th>hgnc_id</th>\n      <th>snpid</th>\n      <th>alleleid</th>\n      <th>type</th>\n      <th>name</th>\n      <th>origin</th>\n      <th>phenotypeids</th>\n      <th>phenotypelist</th>\n      <th>otherids</th>\n      <th>variant</th>\n      <th>cambio</th>\n      <th>aa1</th>\n      <th>aa2</th>\n      <th>pos1</th>\n      <th>pos2</th>\n    </tr>\n  </thead>\n  <tbody>\n    <tr>\n      <th>3</th>\n      <td>9907</td>\n      <td>AP5Z1</td>\n      <td>HGNC:22197</td>\n      <td>397704709</td>\n      <td>15042</td>\n      <td>Deletion</td>\n      <td>NM_014855.3(AP5Z1):c.1413_1426del (p.Leu473fs)</td>\n      <td>germline</td>\n      <td>MONDO:MONDO:0013342,MedGen:C3150901,OMIM:61364...</td>\n      <td>Spastic paraplegia 48, autosomal recessive</td>\n      <td>ClinGen:CA215072,OMIM:613653.0002</td>\n      <td>c.1413_1426del</td>\n      <td>(p.Leu473fs)</td>\n      <td>Leu</td>\n      <td>NaN</td>\n      <td>473</td>\n      <td>NaN</td>\n    </tr>\n    <tr>\n      <th>41</th>\n      <td>57539</td>\n      <td>WDR35</td>\n      <td>HGNC:29250</td>\n      <td>397515334</td>\n      <td>15061</td>\n      <td>Deletion</td>\n      <td>NM_020779.4(WDR35):c.2858del (p.Pro953fs)</td>\n      <td>germline</td>\n      <td>MONDO:MONDO:0013323,MedGen:C3150874,OMIM:61361...</td>\n      <td>Cranioectodermal dysplasia 2</td>\n      <td>OMIM:613602.0003,ClinGen:CA339781</td>\n      <td>c.2858del</td>\n      <td>(p.Pro953fs)</td>\n      <td>Pro</td>\n      <td>NaN</td>\n      <td>953</td>\n      <td>NaN</td>\n    </tr>\n    <tr>\n      <th>71</th>\n      <td>84140</td>\n      <td>FAM161A</td>\n      <td>HGNC:25808</td>\n      <td>397704718</td>\n      <td>15076</td>\n      <td>Deletion</td>\n      <td>NM_001201543.2(FAM161A):c.1355_1356del (p.Thr4...</td>\n      <td>germline</td>\n      <td>MONDO:MONDO:0011630,MedGen:C1419614,OMIM:60606...</td>\n      <td>Retinitis pigmentosa 28|not provided|Retinitis...</td>\n      <td>OMIM:613596.0003,ClinGen:CA251357</td>\n      <td>c.1355_1356del</td>\n      <td>(p.Thr452fs)</td>\n      <td>Thr</td>\n      <td>NaN</td>\n      <td>452</td>\n      <td>NaN</td>\n    </tr>\n    <tr>\n      <th>77</th>\n      <td>284403</td>\n      <td>WDR62</td>\n      <td>HGNC:24502</td>\n      <td>397704721</td>\n      <td>15079</td>\n      <td>Deletion</td>\n      <td>NM_001083961.2(WDR62):c.4205_4208del (p.Val140...</td>\n      <td>germline</td>\n      <td>MONDO:MONDO:0011435,MedGen:C1858535,OMIM:60431...</td>\n      <td>Primary autosomal recessive microcephaly 2</td>\n      <td>ClinGen:CA251360,OMIM:613583.0001</td>\n      <td>c.4205_4208del</td>\n      <td>(p.Val1402fs)</td>\n      <td>Val</td>\n      <td>NaN</td>\n      <td>1402</td>\n      <td>NaN</td>\n    </tr>\n    <tr>\n      <th>85</th>\n      <td>284403</td>\n      <td>WDR62</td>\n      <td>HGNC:24502</td>\n      <td>397704725</td>\n      <td>15083</td>\n      <td>Deletion</td>\n      <td>NM_001083961.2(WDR62):c.3839_3855del (p.Gly128...</td>\n      <td>germline</td>\n      <td>MONDO:MONDO:0011435,MedGen:C1858535,OMIM:60431...</td>\n      <td>Primary autosomal recessive microcephaly 2</td>\n      <td>OMIM:613583.0005,ClinGen:CA251365</td>\n      <td>c.3839_3855del</td>\n      <td>(p.Gly1280fs)</td>\n      <td>Gly</td>\n      <td>NaN</td>\n      <td>1280</td>\n      <td>NaN</td>\n    </tr>\n    <tr>\n      <th>...</th>\n      <td>...</td>\n      <td>...</td>\n      <td>...</td>\n      <td>...</td>\n      <td>...</td>\n      <td>...</td>\n      <td>...</td>\n      <td>...</td>\n      <td>...</td>\n      <td>...</td>\n      <td>...</td>\n      <td>...</td>\n      <td>...</td>\n      <td>...</td>\n      <td>...</td>\n      <td>...</td>\n      <td>...</td>\n    </tr>\n    <tr>\n      <th>1646011</th>\n      <td>9381</td>\n      <td>OTOF</td>\n      <td>HGNC:8515</td>\n      <td>-1</td>\n      <td>971293</td>\n      <td>Deletion</td>\n      <td>NM_194248.3(OTOF):c.5179del (p.Arg1727fs)</td>\n      <td>unknown</td>\n      <td>MONDO:MONDO:0010986,MedGen:C1832828,OMIM:60107...</td>\n      <td>Deafness, autosomal recessive 9</td>\n      <td>-</td>\n      <td>c.5179del</td>\n      <td>(p.Arg1727fs)</td>\n      <td>Arg</td>\n      <td>NaN</td>\n      <td>1727</td>\n      <td>NaN</td>\n    </tr>\n    <tr>\n      <th>1646099</th>\n      <td>7273</td>\n      <td>TTN</td>\n      <td>HGNC:12403</td>\n      <td>-1</td>\n      <td>971337</td>\n      <td>Deletion</td>\n      <td>NM_001267550.2(TTN):c.98515_98568del (p.Pro328...</td>\n      <td>germline</td>\n      <td>MONDO:MONDO:0012127,MedGen:C1837342,OMIM:60880...</td>\n      <td>Limb-girdle muscular dystrophy, type 2J</td>\n      <td>-</td>\n      <td>c.98515_98568del</td>\n      <td>(p.Pro32839_Val32856del)</td>\n      <td>Pro</td>\n      <td>Val</td>\n      <td>32839</td>\n      <td>32856</td>\n    </tr>\n    <tr>\n      <th>1646111</th>\n      <td>91574</td>\n      <td>C12orf65</td>\n      <td>HGNC:26784</td>\n      <td>-1</td>\n      <td>971343</td>\n      <td>Deletion</td>\n      <td>NM_152269.5(C12orf65):c.127_146del (p.Met43fs)</td>\n      <td>germline</td>\n      <td>MONDO:MONDO:0014020,MedGen:C3539506,OMIM:61503...</td>\n      <td>Spastic paraplegia 55, autosomal recessive</td>\n      <td>-</td>\n      <td>c.127_146del</td>\n      <td>(p.Met43fs)</td>\n      <td>Met</td>\n      <td>NaN</td>\n      <td>43</td>\n      <td>NaN</td>\n    </tr>\n    <tr>\n      <th>1646115</th>\n      <td>6528</td>\n      <td>SLC5A5</td>\n      <td>HGNC:11040</td>\n      <td>-1</td>\n      <td>971345</td>\n      <td>Deletion</td>\n      <td>NM_000453.3(SLC5A5):c.152del (p.Gly51fs)</td>\n      <td>germline</td>\n      <td>MONDO:MONDO:0020716,MedGen:C1848805,OMIM:27440...</td>\n      <td>Thyroid dyshormonogenesis 1</td>\n      <td>-</td>\n      <td>c.152del</td>\n      <td>(p.Gly51fs)</td>\n      <td>Gly</td>\n      <td>NaN</td>\n      <td>51</td>\n      <td>NaN</td>\n    </tr>\n    <tr>\n      <th>1646126</th>\n      <td>55812</td>\n      <td>SPATA7</td>\n      <td>HGNC:20423</td>\n      <td>-1</td>\n      <td>971352</td>\n      <td>Deletion</td>\n      <td>NM_018418.5(SPATA7):c.657del (p.Ala220fs)</td>\n      <td>not applicable</td>\n      <td>-</td>\n      <td>-</td>\n      <td>ClinVar:983284</td>\n      <td>c.657del</td>\n      <td>(p.Ala220fs)</td>\n      <td>Ala</td>\n      <td>NaN</td>\n      <td>220</td>\n      <td>NaN</td>\n    </tr>\n  </tbody>\n</table>\n<p>31594 rows × 17 columns</p>\n</div>"
     },
     "metadata": {},
     "execution_count": 13
    }
   ],
   "source": [
    "deletions[deletions.cambio.notnull()]"
   ]
  },
  {
   "source": [
    "## Merge box1 con deleciones de ClinVar"
   ],
   "cell_type": "markdown",
   "metadata": {}
  },
  {
   "cell_type": "code",
   "execution_count": 14,
   "metadata": {},
   "outputs": [
    {
     "output_type": "execute_result",
     "data": {
      "text/plain": [
       "     uniprot      organism                           mlo     hgnc_id  length  \\\n",
       "3     O95613  Homo sapiens  centrosome/spindle pole body  HGNC:16068    3336   \n",
       "4     O95613  Homo sapiens  centrosome/spindle pole body  HGNC:16068    3336   \n",
       "5     O95613  Homo sapiens  centrosome/spindle pole body  HGNC:16068    3336   \n",
       "6     O95613  Homo sapiens  centrosome/spindle pole body  HGNC:16068    3336   \n",
       "7     O95613  Homo sapiens  centrosome/spindle pole body  HGNC:16068    3336   \n",
       "...      ...           ...                           ...         ...     ...   \n",
       "2483  Q15233  Homo sapiens                   paraspeckle   HGNC:7871     471   \n",
       "2484  Q15233  Homo sapiens                   paraspeckle   HGNC:7871     471   \n",
       "2485  Q15233  Homo sapiens                   paraspeckle   HGNC:7871     471   \n",
       "2486  Q15233  Homo sapiens                   paraspeckle   HGNC:7871     471   \n",
       "2487  Q15233  Homo sapiens                   paraspeckle   HGNC:7871     471   \n",
       "\n",
       "                                               sequence  geneid genesymbol  \\\n",
       "3     MEVEQEQRRRKVEAGRTKLAHFRQRKTKGDSSHSEKKTAKRKGSAV...  5116.0       PCNT   \n",
       "4     MEVEQEQRRRKVEAGRTKLAHFRQRKTKGDSSHSEKKTAKRKGSAV...  5116.0       PCNT   \n",
       "5     MEVEQEQRRRKVEAGRTKLAHFRQRKTKGDSSHSEKKTAKRKGSAV...  5116.0       PCNT   \n",
       "6     MEVEQEQRRRKVEAGRTKLAHFRQRKTKGDSSHSEKKTAKRKGSAV...  5116.0       PCNT   \n",
       "7     MEVEQEQRRRKVEAGRTKLAHFRQRKTKGDSSHSEKKTAKRKGSAV...  5116.0       PCNT   \n",
       "...                                                 ...     ...        ...   \n",
       "2483  MQSNKTFNLEKQNHTPRKHHQHHHQQQHHQQQQQQPPPPPIPANGQ...  4841.0       NONO   \n",
       "2484  MQSNKTFNLEKQNHTPRKHHQHHHQQQHHQQQQQQPPPPPIPANGQ...  4841.0       NONO   \n",
       "2485  MQSNKTFNLEKQNHTPRKHHQHHHQQQHHQQQQQQPPPPPIPANGQ...  4841.0       NONO   \n",
       "2486  MQSNKTFNLEKQNHTPRKHHQHHHQQQHHQQQQQQPPPPPIPANGQ...  4841.0       NONO   \n",
       "2487  MQSNKTFNLEKQNHTPRKHHQHHHQQQHHQQQQQQPPPPPIPANGQ...  4841.0       NONO   \n",
       "\n",
       "             snpid  alleleid  ...    origin  \\\n",
       "3     3.975094e+08   19743.0  ...  germline   \n",
       "4     5.877843e+08  169616.0  ...  germline   \n",
       "5     5.877843e+08  169639.0  ...  germline   \n",
       "6     5.877843e+08  169673.0  ...  germline   \n",
       "7     5.877843e+08  169709.0  ...  germline   \n",
       "...            ...       ...  ...       ...   \n",
       "2483  1.064797e+09  411475.0  ...  germline   \n",
       "2484  1.602386e+09  650198.0  ...  germline   \n",
       "2485  1.602386e+09  798822.0  ...  germline   \n",
       "2486 -1.000000e+00  800680.0  ...  germline   \n",
       "2487 -1.000000e+00  966737.0  ...  germline   \n",
       "\n",
       "                                           phenotypeids  \\\n",
       "3     MONDO:MONDO:0008872,MedGen:C0432246,OMIM:21072...   \n",
       "4     MedGen:CN169374|MONDO:MONDO:0008872,MedGen:C04...   \n",
       "5     MONDO:MONDO:0008872,MedGen:C0432246,OMIM:21072...   \n",
       "6                                                     -   \n",
       "7                                                     -   \n",
       "...                                                 ...   \n",
       "2483                                    MedGen:CN517202   \n",
       "2484                                    MedGen:CN517202   \n",
       "2485  MONDO:MONDO:0010501,MedGen:C4225417,OMIM:30096...   \n",
       "2486  MONDO:MONDO:0010501,MedGen:C4225417,OMIM:30096...   \n",
       "2487  Human Phenotype Ontology:HP:0001627,Human Phen...   \n",
       "\n",
       "                                          phenotypelist  \\\n",
       "3     Microcephalic osteodysplastic primordial dwarf...   \n",
       "4     not specified|Microcephalic osteodysplastic pr...   \n",
       "5     Microcephalic osteodysplastic primordial dwarf...   \n",
       "6                                                     -   \n",
       "7                                                     -   \n",
       "...                                                 ...   \n",
       "2483                                       not provided   \n",
       "2484                                       not provided   \n",
       "2485         Mental retardation, X-linked, syndromic 34   \n",
       "2486         Mental retardation, X-linked, syndromic 34   \n",
       "2487                          Abnormal heart morphology   \n",
       "\n",
       "                               otherids         variant                cambio  \\\n",
       "3     ClinGen:CA250508,OMIM:605925.0002       c.1887del          (p.Ala630fs)   \n",
       "4                      ClinGen:CA173014    c.467_505del  (p.His156_Gln168del)   \n",
       "5                      ClinGen:CA251043  c.2984_2994del          (p.Ala995fs)   \n",
       "6                      ClinGen:CA251089  c.5727_5736del         (p.Leu1910fs)   \n",
       "7                      ClinGen:CA251112       c.7796del         (p.Leu2599fs)   \n",
       "...                                 ...             ...                   ...   \n",
       "2483                 ClinGen:CA16621496       c.1289del          (p.Pro430fs)   \n",
       "2484                                  -        c.245del           (p.Pro82fs)   \n",
       "2485                                  -        c.107del           (p.Pro36fs)   \n",
       "2486                                  -  c.1191_1192del          (p.Asn397fs)   \n",
       "2487                                  -    c.246_249del           (p.Pro83fs)   \n",
       "\n",
       "      aa1  aa2  pos1 pos2  \n",
       "3     Ala  NaN   630  NaN  \n",
       "4     His  Gln   156  168  \n",
       "5     Ala  NaN   995  NaN  \n",
       "6     Leu  NaN  1910  NaN  \n",
       "7     Leu  NaN  2599  NaN  \n",
       "...   ...  ...   ...  ...  \n",
       "2483  Pro  NaN   430  NaN  \n",
       "2484  Pro  NaN    82  NaN  \n",
       "2485  Pro  NaN    36  NaN  \n",
       "2486  Asn  NaN   397  NaN  \n",
       "2487  Pro  NaN    83  NaN  \n",
       "\n",
       "[2029 rows x 22 columns]"
      ],
      "text/html": "<div>\n<style scoped>\n    .dataframe tbody tr th:only-of-type {\n        vertical-align: middle;\n    }\n\n    .dataframe tbody tr th {\n        vertical-align: top;\n    }\n\n    .dataframe thead th {\n        text-align: right;\n    }\n</style>\n<table border=\"1\" class=\"dataframe\">\n  <thead>\n    <tr style=\"text-align: right;\">\n      <th></th>\n      <th>uniprot</th>\n      <th>organism</th>\n      <th>mlo</th>\n      <th>hgnc_id</th>\n      <th>length</th>\n      <th>sequence</th>\n      <th>geneid</th>\n      <th>genesymbol</th>\n      <th>snpid</th>\n      <th>alleleid</th>\n      <th>...</th>\n      <th>origin</th>\n      <th>phenotypeids</th>\n      <th>phenotypelist</th>\n      <th>otherids</th>\n      <th>variant</th>\n      <th>cambio</th>\n      <th>aa1</th>\n      <th>aa2</th>\n      <th>pos1</th>\n      <th>pos2</th>\n    </tr>\n  </thead>\n  <tbody>\n    <tr>\n      <th>3</th>\n      <td>O95613</td>\n      <td>Homo sapiens</td>\n      <td>centrosome/spindle pole body</td>\n      <td>HGNC:16068</td>\n      <td>3336</td>\n      <td>MEVEQEQRRRKVEAGRTKLAHFRQRKTKGDSSHSEKKTAKRKGSAV...</td>\n      <td>5116.0</td>\n      <td>PCNT</td>\n      <td>3.975094e+08</td>\n      <td>19743.0</td>\n      <td>...</td>\n      <td>germline</td>\n      <td>MONDO:MONDO:0008872,MedGen:C0432246,OMIM:21072...</td>\n      <td>Microcephalic osteodysplastic primordial dwarf...</td>\n      <td>ClinGen:CA250508,OMIM:605925.0002</td>\n      <td>c.1887del</td>\n      <td>(p.Ala630fs)</td>\n      <td>Ala</td>\n      <td>NaN</td>\n      <td>630</td>\n      <td>NaN</td>\n    </tr>\n    <tr>\n      <th>4</th>\n      <td>O95613</td>\n      <td>Homo sapiens</td>\n      <td>centrosome/spindle pole body</td>\n      <td>HGNC:16068</td>\n      <td>3336</td>\n      <td>MEVEQEQRRRKVEAGRTKLAHFRQRKTKGDSSHSEKKTAKRKGSAV...</td>\n      <td>5116.0</td>\n      <td>PCNT</td>\n      <td>5.877843e+08</td>\n      <td>169616.0</td>\n      <td>...</td>\n      <td>germline</td>\n      <td>MedGen:CN169374|MONDO:MONDO:0008872,MedGen:C04...</td>\n      <td>not specified|Microcephalic osteodysplastic pr...</td>\n      <td>ClinGen:CA173014</td>\n      <td>c.467_505del</td>\n      <td>(p.His156_Gln168del)</td>\n      <td>His</td>\n      <td>Gln</td>\n      <td>156</td>\n      <td>168</td>\n    </tr>\n    <tr>\n      <th>5</th>\n      <td>O95613</td>\n      <td>Homo sapiens</td>\n      <td>centrosome/spindle pole body</td>\n      <td>HGNC:16068</td>\n      <td>3336</td>\n      <td>MEVEQEQRRRKVEAGRTKLAHFRQRKTKGDSSHSEKKTAKRKGSAV...</td>\n      <td>5116.0</td>\n      <td>PCNT</td>\n      <td>5.877843e+08</td>\n      <td>169639.0</td>\n      <td>...</td>\n      <td>germline</td>\n      <td>MONDO:MONDO:0008872,MedGen:C0432246,OMIM:21072...</td>\n      <td>Microcephalic osteodysplastic primordial dwarf...</td>\n      <td>ClinGen:CA251043</td>\n      <td>c.2984_2994del</td>\n      <td>(p.Ala995fs)</td>\n      <td>Ala</td>\n      <td>NaN</td>\n      <td>995</td>\n      <td>NaN</td>\n    </tr>\n    <tr>\n      <th>6</th>\n      <td>O95613</td>\n      <td>Homo sapiens</td>\n      <td>centrosome/spindle pole body</td>\n      <td>HGNC:16068</td>\n      <td>3336</td>\n      <td>MEVEQEQRRRKVEAGRTKLAHFRQRKTKGDSSHSEKKTAKRKGSAV...</td>\n      <td>5116.0</td>\n      <td>PCNT</td>\n      <td>5.877843e+08</td>\n      <td>169673.0</td>\n      <td>...</td>\n      <td>germline</td>\n      <td>-</td>\n      <td>-</td>\n      <td>ClinGen:CA251089</td>\n      <td>c.5727_5736del</td>\n      <td>(p.Leu1910fs)</td>\n      <td>Leu</td>\n      <td>NaN</td>\n      <td>1910</td>\n      <td>NaN</td>\n    </tr>\n    <tr>\n      <th>7</th>\n      <td>O95613</td>\n      <td>Homo sapiens</td>\n      <td>centrosome/spindle pole body</td>\n      <td>HGNC:16068</td>\n      <td>3336</td>\n      <td>MEVEQEQRRRKVEAGRTKLAHFRQRKTKGDSSHSEKKTAKRKGSAV...</td>\n      <td>5116.0</td>\n      <td>PCNT</td>\n      <td>5.877843e+08</td>\n      <td>169709.0</td>\n      <td>...</td>\n      <td>germline</td>\n      <td>-</td>\n      <td>-</td>\n      <td>ClinGen:CA251112</td>\n      <td>c.7796del</td>\n      <td>(p.Leu2599fs)</td>\n      <td>Leu</td>\n      <td>NaN</td>\n      <td>2599</td>\n      <td>NaN</td>\n    </tr>\n    <tr>\n      <th>...</th>\n      <td>...</td>\n      <td>...</td>\n      <td>...</td>\n      <td>...</td>\n      <td>...</td>\n      <td>...</td>\n      <td>...</td>\n      <td>...</td>\n      <td>...</td>\n      <td>...</td>\n      <td>...</td>\n      <td>...</td>\n      <td>...</td>\n      <td>...</td>\n      <td>...</td>\n      <td>...</td>\n      <td>...</td>\n      <td>...</td>\n      <td>...</td>\n      <td>...</td>\n      <td>...</td>\n    </tr>\n    <tr>\n      <th>2483</th>\n      <td>Q15233</td>\n      <td>Homo sapiens</td>\n      <td>paraspeckle</td>\n      <td>HGNC:7871</td>\n      <td>471</td>\n      <td>MQSNKTFNLEKQNHTPRKHHQHHHQQQHHQQQQQQPPPPPIPANGQ...</td>\n      <td>4841.0</td>\n      <td>NONO</td>\n      <td>1.064797e+09</td>\n      <td>411475.0</td>\n      <td>...</td>\n      <td>germline</td>\n      <td>MedGen:CN517202</td>\n      <td>not provided</td>\n      <td>ClinGen:CA16621496</td>\n      <td>c.1289del</td>\n      <td>(p.Pro430fs)</td>\n      <td>Pro</td>\n      <td>NaN</td>\n      <td>430</td>\n      <td>NaN</td>\n    </tr>\n    <tr>\n      <th>2484</th>\n      <td>Q15233</td>\n      <td>Homo sapiens</td>\n      <td>paraspeckle</td>\n      <td>HGNC:7871</td>\n      <td>471</td>\n      <td>MQSNKTFNLEKQNHTPRKHHQHHHQQQHHQQQQQQPPPPPIPANGQ...</td>\n      <td>4841.0</td>\n      <td>NONO</td>\n      <td>1.602386e+09</td>\n      <td>650198.0</td>\n      <td>...</td>\n      <td>germline</td>\n      <td>MedGen:CN517202</td>\n      <td>not provided</td>\n      <td>-</td>\n      <td>c.245del</td>\n      <td>(p.Pro82fs)</td>\n      <td>Pro</td>\n      <td>NaN</td>\n      <td>82</td>\n      <td>NaN</td>\n    </tr>\n    <tr>\n      <th>2485</th>\n      <td>Q15233</td>\n      <td>Homo sapiens</td>\n      <td>paraspeckle</td>\n      <td>HGNC:7871</td>\n      <td>471</td>\n      <td>MQSNKTFNLEKQNHTPRKHHQHHHQQQHHQQQQQQPPPPPIPANGQ...</td>\n      <td>4841.0</td>\n      <td>NONO</td>\n      <td>1.602386e+09</td>\n      <td>798822.0</td>\n      <td>...</td>\n      <td>germline</td>\n      <td>MONDO:MONDO:0010501,MedGen:C4225417,OMIM:30096...</td>\n      <td>Mental retardation, X-linked, syndromic 34</td>\n      <td>-</td>\n      <td>c.107del</td>\n      <td>(p.Pro36fs)</td>\n      <td>Pro</td>\n      <td>NaN</td>\n      <td>36</td>\n      <td>NaN</td>\n    </tr>\n    <tr>\n      <th>2486</th>\n      <td>Q15233</td>\n      <td>Homo sapiens</td>\n      <td>paraspeckle</td>\n      <td>HGNC:7871</td>\n      <td>471</td>\n      <td>MQSNKTFNLEKQNHTPRKHHQHHHQQQHHQQQQQQPPPPPIPANGQ...</td>\n      <td>4841.0</td>\n      <td>NONO</td>\n      <td>-1.000000e+00</td>\n      <td>800680.0</td>\n      <td>...</td>\n      <td>germline</td>\n      <td>MONDO:MONDO:0010501,MedGen:C4225417,OMIM:30096...</td>\n      <td>Mental retardation, X-linked, syndromic 34</td>\n      <td>-</td>\n      <td>c.1191_1192del</td>\n      <td>(p.Asn397fs)</td>\n      <td>Asn</td>\n      <td>NaN</td>\n      <td>397</td>\n      <td>NaN</td>\n    </tr>\n    <tr>\n      <th>2487</th>\n      <td>Q15233</td>\n      <td>Homo sapiens</td>\n      <td>paraspeckle</td>\n      <td>HGNC:7871</td>\n      <td>471</td>\n      <td>MQSNKTFNLEKQNHTPRKHHQHHHQQQHHQQQQQQPPPPPIPANGQ...</td>\n      <td>4841.0</td>\n      <td>NONO</td>\n      <td>-1.000000e+00</td>\n      <td>966737.0</td>\n      <td>...</td>\n      <td>germline</td>\n      <td>Human Phenotype Ontology:HP:0001627,Human Phen...</td>\n      <td>Abnormal heart morphology</td>\n      <td>-</td>\n      <td>c.246_249del</td>\n      <td>(p.Pro83fs)</td>\n      <td>Pro</td>\n      <td>NaN</td>\n      <td>83</td>\n      <td>NaN</td>\n    </tr>\n  </tbody>\n</table>\n<p>2029 rows × 22 columns</p>\n</div>"
     },
     "metadata": {},
     "execution_count": 14
    }
   ],
   "source": [
    "# Merge de box1 con las deleciones\n",
    "del_box = box.merge(deletions, how='left')\n",
    "del_box = del_box[(del_box.variant.notnull()) & (del_box.cambio.notnull())]\n",
    "del_box"
   ]
  },
  {
   "cell_type": "code",
   "execution_count": 22,
   "metadata": {},
   "outputs": [
    {
     "output_type": "execute_result",
     "data": {
      "text/plain": [
       "3               Ala630fs\n",
       "4       His156_Gln168del\n",
       "5               Ala995fs\n",
       "6              Leu1910fs\n",
       "7              Leu2599fs\n",
       "              ...       \n",
       "2483            Pro430fs\n",
       "2484             Pro82fs\n",
       "2485             Pro36fs\n",
       "2486            Asn397fs\n",
       "2487             Pro83fs\n",
       "Name: cambio, Length: 2029, dtype: object"
      ]
     },
     "metadata": {},
     "execution_count": 22
    }
   ],
   "source": [
    "del_box.cambio.str.strip('(p.)')"
   ]
  },
  {
   "cell_type": "code",
   "execution_count": 15,
   "metadata": {},
   "outputs": [
    {
     "output_type": "execute_result",
     "data": {
      "text/plain": [
       "129"
      ]
     },
     "metadata": {},
     "execution_count": 15
    }
   ],
   "source": [
    "len(del_box.uniprot.unique())"
   ]
  },
  {
   "cell_type": "code",
   "execution_count": 17,
   "metadata": {},
   "outputs": [],
   "source": [
    "del_box.to_csv('datasets/clinvar_box1_del.csv', index=False)"
   ]
  },
  {
   "source": [
    "# Duplications"
   ],
   "cell_type": "markdown",
   "metadata": {}
  },
  {
   "cell_type": "code",
   "execution_count": 21,
   "metadata": {},
   "outputs": [
    {
     "output_type": "execute_result",
     "data": {
      "text/plain": [
       "         geneid genesymbol     hgnc_id      snpid  alleleid         type  \\\n",
       "49        26090     ABHD12  HGNC:15868  397704714     15065  Duplication   \n",
       "112       10806    SDCCAG8  HGNC:10671  387906218     15097  Duplication   \n",
       "155        3988       LIPA   HGNC:6617  780495201     15119  Duplication   \n",
       "173       60495      HPSE2  HGNC:18374  778121647     15129  Duplication   \n",
       "211       55654    TMEM127  HGNC:26038  121908817     15149  Duplication   \n",
       "...         ...        ...         ...        ...       ...          ...   \n",
       "1645715   54862     CC2D1A  HGNC:30237         -1    971119  Duplication   \n",
       "1645717    2593       GAMT   HGNC:4136         -1    971120  Duplication   \n",
       "1645725  113179      ADAT3  HGNC:25151         -1    971124  Duplication   \n",
       "1645759    5020        OXT   HGNC:8528         -1    971141  Duplication   \n",
       "1645789     104     ADARB1    HGNC:226         -1    971156  Duplication   \n",
       "\n",
       "                                                      name    origin  \\\n",
       "49       NM_001042472.3(ABHD12):c.846_852dup (p.His285Ter)  germline   \n",
       "112            NM_006642.5(SDCCAG8):c.1339dup (p.Glu447fs)  germline   \n",
       "155                NM_000235.4(LIPA):c.594dup (p.Ala199fs)  germline   \n",
       "173                 NM_021828.4(HPSE2):c.57dup (p.Ala20fs)  germline   \n",
       "211              NM_017849.3(TMEM127):c.149dup (p.Pro51fs)  germline   \n",
       "...                                                    ...       ...   \n",
       "1645715    NM_017721.5(CC2D1A):c.1620_1623dup (p.Pro542fs)   unknown   \n",
       "1645717            NM_000156.6(GAMT):c.442dup (p.Gln148fs)   unknown   \n",
       "1645725           NM_138422.4(ADAT3):c.820dup (p.Gln274fs)   unknown   \n",
       "1645759  NM_000915.4(OXT):c.-3_9dup (p.Pro4_Ser5insThrM...   unknown   \n",
       "1645789         NM_001112.4(ADARB1):c.1299dup (p.Phe434fs)   unknown   \n",
       "\n",
       "                                              phenotypeids  \\\n",
       "49       MONDO:MONDO:0012984,MedGen:C2675204,OMIM:61267...   \n",
       "112      MONDO:MONDO:0013326,MedGen:C3150877,OMIM:61361...   \n",
       "155      MedGen:CN438428,Orphanet:75233|MONDO:MONDO:001...   \n",
       "173      MONDO:MONDO:0009368,MedGen:CN033872,OMIM:23673...   \n",
       "211      MedGen:C3149711|Human Phenotype Ontology:HP:00...   \n",
       "...                                                    ...   \n",
       "1645715  MONDO:MONDO:0012037,MedGen:C1838023,OMIM:60844...   \n",
       "1645717  MONDO:MONDO:0012999,MedGen:C0574080,OMIM:61273...   \n",
       "1645725  MONDO:MONDO:0014119,MedGen:C3809039,OMIM:61528...   \n",
       "1645759                       MeSH:D065886,MedGen:C1535926   \n",
       "1645789                        MedGen:CN280872,OMIM:618862   \n",
       "\n",
       "                                             phenotypelist  \\\n",
       "49       Polyneuropathy, hearing loss, ataxia, retiniti...   \n",
       "112                                Senior-Loken syndrome 7   \n",
       "155      Wolman disease|Lysosomal acid lipase deficienc...   \n",
       "173                                   Urofacial syndrome 1   \n",
       "211      Pheochromocytoma, susceptibility to|Pheochromo...   \n",
       "...                                                    ...   \n",
       "1645715          Mental retardation, autosomal recessive 3   \n",
       "1645717   Deficiency of guanidinoacetate methyltransferase   \n",
       "1645725         Mental retardation, autosomal recessive 36   \n",
       "1645759                        Neurodevelopmental disorder   \n",
       "1645789  NEURODEVELOPMENTAL DISORDER WITH HYPOTONIA, MI...   \n",
       "\n",
       "                                  otherids  \n",
       "49       ClinGen:CA113810,OMIM:613599.0003  \n",
       "112      OMIM:613524.0002,ClinGen:CA113827  \n",
       "155      ClinGen:CA113834,OMIM:613497.0004  \n",
       "173                       OMIM:613469.0008  \n",
       "211      ClinGen:CA113859,OMIM:613403.0004  \n",
       "...                                    ...  \n",
       "1645715                                  -  \n",
       "1645717                                  -  \n",
       "1645725                                  -  \n",
       "1645759                                  -  \n",
       "1645789                                  -  \n",
       "\n",
       "[19957 rows x 11 columns]"
      ],
      "text/html": "<div>\n<style scoped>\n    .dataframe tbody tr th:only-of-type {\n        vertical-align: middle;\n    }\n\n    .dataframe tbody tr th {\n        vertical-align: top;\n    }\n\n    .dataframe thead th {\n        text-align: right;\n    }\n</style>\n<table border=\"1\" class=\"dataframe\">\n  <thead>\n    <tr style=\"text-align: right;\">\n      <th></th>\n      <th>geneid</th>\n      <th>genesymbol</th>\n      <th>hgnc_id</th>\n      <th>snpid</th>\n      <th>alleleid</th>\n      <th>type</th>\n      <th>name</th>\n      <th>origin</th>\n      <th>phenotypeids</th>\n      <th>phenotypelist</th>\n      <th>otherids</th>\n    </tr>\n  </thead>\n  <tbody>\n    <tr>\n      <th>49</th>\n      <td>26090</td>\n      <td>ABHD12</td>\n      <td>HGNC:15868</td>\n      <td>397704714</td>\n      <td>15065</td>\n      <td>Duplication</td>\n      <td>NM_001042472.3(ABHD12):c.846_852dup (p.His285Ter)</td>\n      <td>germline</td>\n      <td>MONDO:MONDO:0012984,MedGen:C2675204,OMIM:61267...</td>\n      <td>Polyneuropathy, hearing loss, ataxia, retiniti...</td>\n      <td>ClinGen:CA113810,OMIM:613599.0003</td>\n    </tr>\n    <tr>\n      <th>112</th>\n      <td>10806</td>\n      <td>SDCCAG8</td>\n      <td>HGNC:10671</td>\n      <td>387906218</td>\n      <td>15097</td>\n      <td>Duplication</td>\n      <td>NM_006642.5(SDCCAG8):c.1339dup (p.Glu447fs)</td>\n      <td>germline</td>\n      <td>MONDO:MONDO:0013326,MedGen:C3150877,OMIM:61361...</td>\n      <td>Senior-Loken syndrome 7</td>\n      <td>OMIM:613524.0002,ClinGen:CA113827</td>\n    </tr>\n    <tr>\n      <th>155</th>\n      <td>3988</td>\n      <td>LIPA</td>\n      <td>HGNC:6617</td>\n      <td>780495201</td>\n      <td>15119</td>\n      <td>Duplication</td>\n      <td>NM_000235.4(LIPA):c.594dup (p.Ala199fs)</td>\n      <td>germline</td>\n      <td>MedGen:CN438428,Orphanet:75233|MONDO:MONDO:001...</td>\n      <td>Wolman disease|Lysosomal acid lipase deficienc...</td>\n      <td>ClinGen:CA113834,OMIM:613497.0004</td>\n    </tr>\n    <tr>\n      <th>173</th>\n      <td>60495</td>\n      <td>HPSE2</td>\n      <td>HGNC:18374</td>\n      <td>778121647</td>\n      <td>15129</td>\n      <td>Duplication</td>\n      <td>NM_021828.4(HPSE2):c.57dup (p.Ala20fs)</td>\n      <td>germline</td>\n      <td>MONDO:MONDO:0009368,MedGen:CN033872,OMIM:23673...</td>\n      <td>Urofacial syndrome 1</td>\n      <td>OMIM:613469.0008</td>\n    </tr>\n    <tr>\n      <th>211</th>\n      <td>55654</td>\n      <td>TMEM127</td>\n      <td>HGNC:26038</td>\n      <td>121908817</td>\n      <td>15149</td>\n      <td>Duplication</td>\n      <td>NM_017849.3(TMEM127):c.149dup (p.Pro51fs)</td>\n      <td>germline</td>\n      <td>MedGen:C3149711|Human Phenotype Ontology:HP:00...</td>\n      <td>Pheochromocytoma, susceptibility to|Pheochromo...</td>\n      <td>ClinGen:CA113859,OMIM:613403.0004</td>\n    </tr>\n    <tr>\n      <th>...</th>\n      <td>...</td>\n      <td>...</td>\n      <td>...</td>\n      <td>...</td>\n      <td>...</td>\n      <td>...</td>\n      <td>...</td>\n      <td>...</td>\n      <td>...</td>\n      <td>...</td>\n      <td>...</td>\n    </tr>\n    <tr>\n      <th>1645715</th>\n      <td>54862</td>\n      <td>CC2D1A</td>\n      <td>HGNC:30237</td>\n      <td>-1</td>\n      <td>971119</td>\n      <td>Duplication</td>\n      <td>NM_017721.5(CC2D1A):c.1620_1623dup (p.Pro542fs)</td>\n      <td>unknown</td>\n      <td>MONDO:MONDO:0012037,MedGen:C1838023,OMIM:60844...</td>\n      <td>Mental retardation, autosomal recessive 3</td>\n      <td>-</td>\n    </tr>\n    <tr>\n      <th>1645717</th>\n      <td>2593</td>\n      <td>GAMT</td>\n      <td>HGNC:4136</td>\n      <td>-1</td>\n      <td>971120</td>\n      <td>Duplication</td>\n      <td>NM_000156.6(GAMT):c.442dup (p.Gln148fs)</td>\n      <td>unknown</td>\n      <td>MONDO:MONDO:0012999,MedGen:C0574080,OMIM:61273...</td>\n      <td>Deficiency of guanidinoacetate methyltransferase</td>\n      <td>-</td>\n    </tr>\n    <tr>\n      <th>1645725</th>\n      <td>113179</td>\n      <td>ADAT3</td>\n      <td>HGNC:25151</td>\n      <td>-1</td>\n      <td>971124</td>\n      <td>Duplication</td>\n      <td>NM_138422.4(ADAT3):c.820dup (p.Gln274fs)</td>\n      <td>unknown</td>\n      <td>MONDO:MONDO:0014119,MedGen:C3809039,OMIM:61528...</td>\n      <td>Mental retardation, autosomal recessive 36</td>\n      <td>-</td>\n    </tr>\n    <tr>\n      <th>1645759</th>\n      <td>5020</td>\n      <td>OXT</td>\n      <td>HGNC:8528</td>\n      <td>-1</td>\n      <td>971141</td>\n      <td>Duplication</td>\n      <td>NM_000915.4(OXT):c.-3_9dup (p.Pro4_Ser5insThrM...</td>\n      <td>unknown</td>\n      <td>MeSH:D065886,MedGen:C1535926</td>\n      <td>Neurodevelopmental disorder</td>\n      <td>-</td>\n    </tr>\n    <tr>\n      <th>1645789</th>\n      <td>104</td>\n      <td>ADARB1</td>\n      <td>HGNC:226</td>\n      <td>-1</td>\n      <td>971156</td>\n      <td>Duplication</td>\n      <td>NM_001112.4(ADARB1):c.1299dup (p.Phe434fs)</td>\n      <td>unknown</td>\n      <td>MedGen:CN280872,OMIM:618862</td>\n      <td>NEURODEVELOPMENTAL DISORDER WITH HYPOTONIA, MI...</td>\n      <td>-</td>\n    </tr>\n  </tbody>\n</table>\n<p>19957 rows × 11 columns</p>\n</div>"
     },
     "metadata": {},
     "execution_count": 21
    }
   ],
   "source": [
    "duplications"
   ]
  },
  {
   "cell_type": "code",
   "execution_count": 22,
   "metadata": {},
   "outputs": [
    {
     "output_type": "stream",
     "name": "stderr",
     "text": [
      "<ipython-input-22-8cd72ec13fba>:2: SettingWithCopyWarning: \n",
      "A value is trying to be set on a copy of a slice from a DataFrame.\n",
      "Try using .loc[row_indexer,col_indexer] = value instead\n",
      "\n",
      "See the caveats in the documentation: https://pandas.pydata.org/pandas-docs/stable/user_guide/indexing.html#returning-a-view-versus-a-copy\n",
      "  duplications['variant'] = duplications.name.map(lambda x: re.findall('[gmcn]{1}\\..*\\s', x))\n",
      "<ipython-input-22-8cd72ec13fba>:3: SettingWithCopyWarning: \n",
      "A value is trying to be set on a copy of a slice from a DataFrame.\n",
      "Try using .loc[row_indexer,col_indexer] = value instead\n",
      "\n",
      "See the caveats in the documentation: https://pandas.pydata.org/pandas-docs/stable/user_guide/indexing.html#returning-a-view-versus-a-copy\n",
      "  duplications['variant'] = duplications.variant.str[0]\n",
      "<ipython-input-22-8cd72ec13fba>:6: SettingWithCopyWarning: \n",
      "A value is trying to be set on a copy of a slice from a DataFrame.\n",
      "Try using .loc[row_indexer,col_indexer] = value instead\n",
      "\n",
      "See the caveats in the documentation: https://pandas.pydata.org/pandas-docs/stable/user_guide/indexing.html#returning-a-view-versus-a-copy\n",
      "  duplications['variant'] = duplications.variant.str.strip()\n",
      "<ipython-input-22-8cd72ec13fba>:7: SettingWithCopyWarning: \n",
      "A value is trying to be set on a copy of a slice from a DataFrame.\n",
      "Try using .loc[row_indexer,col_indexer] = value instead\n",
      "\n",
      "See the caveats in the documentation: https://pandas.pydata.org/pandas-docs/stable/user_guide/indexing.html#returning-a-view-versus-a-copy\n",
      "  duplications['cambio'] = duplications.name.map(lambda x: re.findall('\\(p.*\\)', x))\n",
      "<ipython-input-22-8cd72ec13fba>:8: SettingWithCopyWarning: \n",
      "A value is trying to be set on a copy of a slice from a DataFrame.\n",
      "Try using .loc[row_indexer,col_indexer] = value instead\n",
      "\n",
      "See the caveats in the documentation: https://pandas.pydata.org/pandas-docs/stable/user_guide/indexing.html#returning-a-view-versus-a-copy\n",
      "  duplications['cambio'] = duplications.cambio.str[0]\n",
      "<ipython-input-22-8cd72ec13fba>:11: SettingWithCopyWarning: \n",
      "A value is trying to be set on a copy of a slice from a DataFrame.\n",
      "Try using .loc[row_indexer,col_indexer] = value instead\n",
      "\n",
      "See the caveats in the documentation: https://pandas.pydata.org/pandas-docs/stable/user_guide/indexing.html#returning-a-view-versus-a-copy\n",
      "  duplications['aa1'] = duplications.cambio.str[3:6]\n",
      "<ipython-input-22-8cd72ec13fba>:12: SettingWithCopyWarning: \n",
      "A value is trying to be set on a copy of a slice from a DataFrame.\n",
      "Try using .loc[row_indexer,col_indexer] = value instead\n",
      "\n",
      "See the caveats in the documentation: https://pandas.pydata.org/pandas-docs/stable/user_guide/indexing.html#returning-a-view-versus-a-copy\n",
      "  duplications['cambio'] = duplications.cambio.apply(str)\n",
      "<ipython-input-22-8cd72ec13fba>:13: SettingWithCopyWarning: \n",
      "A value is trying to be set on a copy of a slice from a DataFrame.\n",
      "Try using .loc[row_indexer,col_indexer] = value instead\n",
      "\n",
      "See the caveats in the documentation: https://pandas.pydata.org/pandas-docs/stable/user_guide/indexing.html#returning-a-view-versus-a-copy\n",
      "  duplications['pos'] = duplications.cambio.map(lambda x: re.findall('[0-9]+', x))\n",
      "<ipython-input-22-8cd72ec13fba>:14: SettingWithCopyWarning: \n",
      "A value is trying to be set on a copy of a slice from a DataFrame.\n",
      "Try using .loc[row_indexer,col_indexer] = value instead\n",
      "\n",
      "See the caveats in the documentation: https://pandas.pydata.org/pandas-docs/stable/user_guide/indexing.html#returning-a-view-versus-a-copy\n",
      "  duplications['pos'] = duplications.pos.str[0]\n"
     ]
    },
    {
     "output_type": "execute_result",
     "data": {
      "text/plain": [
       "         geneid genesymbol     hgnc_id      snpid  alleleid         type  \\\n",
       "49        26090     ABHD12  HGNC:15868  397704714     15065  Duplication   \n",
       "112       10806    SDCCAG8  HGNC:10671  387906218     15097  Duplication   \n",
       "155        3988       LIPA   HGNC:6617  780495201     15119  Duplication   \n",
       "173       60495      HPSE2  HGNC:18374  778121647     15129  Duplication   \n",
       "211       55654    TMEM127  HGNC:26038  121908817     15149  Duplication   \n",
       "...         ...        ...         ...        ...       ...          ...   \n",
       "1645715   54862     CC2D1A  HGNC:30237         -1    971119  Duplication   \n",
       "1645717    2593       GAMT   HGNC:4136         -1    971120  Duplication   \n",
       "1645725  113179      ADAT3  HGNC:25151         -1    971124  Duplication   \n",
       "1645759    5020        OXT   HGNC:8528         -1    971141  Duplication   \n",
       "1645789     104     ADARB1    HGNC:226         -1    971156  Duplication   \n",
       "\n",
       "                                                      name    origin  \\\n",
       "49       NM_001042472.3(ABHD12):c.846_852dup (p.His285Ter)  germline   \n",
       "112            NM_006642.5(SDCCAG8):c.1339dup (p.Glu447fs)  germline   \n",
       "155                NM_000235.4(LIPA):c.594dup (p.Ala199fs)  germline   \n",
       "173                 NM_021828.4(HPSE2):c.57dup (p.Ala20fs)  germline   \n",
       "211              NM_017849.3(TMEM127):c.149dup (p.Pro51fs)  germline   \n",
       "...                                                    ...       ...   \n",
       "1645715    NM_017721.5(CC2D1A):c.1620_1623dup (p.Pro542fs)   unknown   \n",
       "1645717            NM_000156.6(GAMT):c.442dup (p.Gln148fs)   unknown   \n",
       "1645725           NM_138422.4(ADAT3):c.820dup (p.Gln274fs)   unknown   \n",
       "1645759  NM_000915.4(OXT):c.-3_9dup (p.Pro4_Ser5insThrM...   unknown   \n",
       "1645789         NM_001112.4(ADARB1):c.1299dup (p.Phe434fs)   unknown   \n",
       "\n",
       "                                              phenotypeids  \\\n",
       "49       MONDO:MONDO:0012984,MedGen:C2675204,OMIM:61267...   \n",
       "112      MONDO:MONDO:0013326,MedGen:C3150877,OMIM:61361...   \n",
       "155      MedGen:CN438428,Orphanet:75233|MONDO:MONDO:001...   \n",
       "173      MONDO:MONDO:0009368,MedGen:CN033872,OMIM:23673...   \n",
       "211      MedGen:C3149711|Human Phenotype Ontology:HP:00...   \n",
       "...                                                    ...   \n",
       "1645715  MONDO:MONDO:0012037,MedGen:C1838023,OMIM:60844...   \n",
       "1645717  MONDO:MONDO:0012999,MedGen:C0574080,OMIM:61273...   \n",
       "1645725  MONDO:MONDO:0014119,MedGen:C3809039,OMIM:61528...   \n",
       "1645759                       MeSH:D065886,MedGen:C1535926   \n",
       "1645789                        MedGen:CN280872,OMIM:618862   \n",
       "\n",
       "                                             phenotypelist  \\\n",
       "49       Polyneuropathy, hearing loss, ataxia, retiniti...   \n",
       "112                                Senior-Loken syndrome 7   \n",
       "155      Wolman disease|Lysosomal acid lipase deficienc...   \n",
       "173                                   Urofacial syndrome 1   \n",
       "211      Pheochromocytoma, susceptibility to|Pheochromo...   \n",
       "...                                                    ...   \n",
       "1645715          Mental retardation, autosomal recessive 3   \n",
       "1645717   Deficiency of guanidinoacetate methyltransferase   \n",
       "1645725         Mental retardation, autosomal recessive 36   \n",
       "1645759                        Neurodevelopmental disorder   \n",
       "1645789  NEURODEVELOPMENTAL DISORDER WITH HYPOTONIA, MI...   \n",
       "\n",
       "                                  otherids         variant  \\\n",
       "49       ClinGen:CA113810,OMIM:613599.0003    c.846_852dup   \n",
       "112      OMIM:613524.0002,ClinGen:CA113827       c.1339dup   \n",
       "155      ClinGen:CA113834,OMIM:613497.0004        c.594dup   \n",
       "173                       OMIM:613469.0008         c.57dup   \n",
       "211      ClinGen:CA113859,OMIM:613403.0004        c.149dup   \n",
       "...                                    ...             ...   \n",
       "1645715                                  -  c.1620_1623dup   \n",
       "1645717                                  -        c.442dup   \n",
       "1645725                                  -        c.820dup   \n",
       "1645759                                  -       c.-3_9dup   \n",
       "1645789                                  -       c.1299dup   \n",
       "\n",
       "                               cambio  aa1  pos  \n",
       "49                      (p.His285Ter)  His  285  \n",
       "112                      (p.Glu447fs)  Glu  447  \n",
       "155                      (p.Ala199fs)  Ala  199  \n",
       "173                       (p.Ala20fs)  Ala   20  \n",
       "211                       (p.Pro51fs)  Pro   51  \n",
       "...                               ...  ...  ...  \n",
       "1645715                  (p.Pro542fs)  Pro  542  \n",
       "1645717                  (p.Gln148fs)  Gln  148  \n",
       "1645725                  (p.Gln274fs)  Gln  274  \n",
       "1645759  (p.Pro4_Ser5insThrMetAlaGly)  Pro    4  \n",
       "1645789                  (p.Phe434fs)  Phe  434  \n",
       "\n",
       "[19957 rows x 15 columns]"
      ],
      "text/html": "<div>\n<style scoped>\n    .dataframe tbody tr th:only-of-type {\n        vertical-align: middle;\n    }\n\n    .dataframe tbody tr th {\n        vertical-align: top;\n    }\n\n    .dataframe thead th {\n        text-align: right;\n    }\n</style>\n<table border=\"1\" class=\"dataframe\">\n  <thead>\n    <tr style=\"text-align: right;\">\n      <th></th>\n      <th>geneid</th>\n      <th>genesymbol</th>\n      <th>hgnc_id</th>\n      <th>snpid</th>\n      <th>alleleid</th>\n      <th>type</th>\n      <th>name</th>\n      <th>origin</th>\n      <th>phenotypeids</th>\n      <th>phenotypelist</th>\n      <th>otherids</th>\n      <th>variant</th>\n      <th>cambio</th>\n      <th>aa1</th>\n      <th>pos</th>\n    </tr>\n  </thead>\n  <tbody>\n    <tr>\n      <th>49</th>\n      <td>26090</td>\n      <td>ABHD12</td>\n      <td>HGNC:15868</td>\n      <td>397704714</td>\n      <td>15065</td>\n      <td>Duplication</td>\n      <td>NM_001042472.3(ABHD12):c.846_852dup (p.His285Ter)</td>\n      <td>germline</td>\n      <td>MONDO:MONDO:0012984,MedGen:C2675204,OMIM:61267...</td>\n      <td>Polyneuropathy, hearing loss, ataxia, retiniti...</td>\n      <td>ClinGen:CA113810,OMIM:613599.0003</td>\n      <td>c.846_852dup</td>\n      <td>(p.His285Ter)</td>\n      <td>His</td>\n      <td>285</td>\n    </tr>\n    <tr>\n      <th>112</th>\n      <td>10806</td>\n      <td>SDCCAG8</td>\n      <td>HGNC:10671</td>\n      <td>387906218</td>\n      <td>15097</td>\n      <td>Duplication</td>\n      <td>NM_006642.5(SDCCAG8):c.1339dup (p.Glu447fs)</td>\n      <td>germline</td>\n      <td>MONDO:MONDO:0013326,MedGen:C3150877,OMIM:61361...</td>\n      <td>Senior-Loken syndrome 7</td>\n      <td>OMIM:613524.0002,ClinGen:CA113827</td>\n      <td>c.1339dup</td>\n      <td>(p.Glu447fs)</td>\n      <td>Glu</td>\n      <td>447</td>\n    </tr>\n    <tr>\n      <th>155</th>\n      <td>3988</td>\n      <td>LIPA</td>\n      <td>HGNC:6617</td>\n      <td>780495201</td>\n      <td>15119</td>\n      <td>Duplication</td>\n      <td>NM_000235.4(LIPA):c.594dup (p.Ala199fs)</td>\n      <td>germline</td>\n      <td>MedGen:CN438428,Orphanet:75233|MONDO:MONDO:001...</td>\n      <td>Wolman disease|Lysosomal acid lipase deficienc...</td>\n      <td>ClinGen:CA113834,OMIM:613497.0004</td>\n      <td>c.594dup</td>\n      <td>(p.Ala199fs)</td>\n      <td>Ala</td>\n      <td>199</td>\n    </tr>\n    <tr>\n      <th>173</th>\n      <td>60495</td>\n      <td>HPSE2</td>\n      <td>HGNC:18374</td>\n      <td>778121647</td>\n      <td>15129</td>\n      <td>Duplication</td>\n      <td>NM_021828.4(HPSE2):c.57dup (p.Ala20fs)</td>\n      <td>germline</td>\n      <td>MONDO:MONDO:0009368,MedGen:CN033872,OMIM:23673...</td>\n      <td>Urofacial syndrome 1</td>\n      <td>OMIM:613469.0008</td>\n      <td>c.57dup</td>\n      <td>(p.Ala20fs)</td>\n      <td>Ala</td>\n      <td>20</td>\n    </tr>\n    <tr>\n      <th>211</th>\n      <td>55654</td>\n      <td>TMEM127</td>\n      <td>HGNC:26038</td>\n      <td>121908817</td>\n      <td>15149</td>\n      <td>Duplication</td>\n      <td>NM_017849.3(TMEM127):c.149dup (p.Pro51fs)</td>\n      <td>germline</td>\n      <td>MedGen:C3149711|Human Phenotype Ontology:HP:00...</td>\n      <td>Pheochromocytoma, susceptibility to|Pheochromo...</td>\n      <td>ClinGen:CA113859,OMIM:613403.0004</td>\n      <td>c.149dup</td>\n      <td>(p.Pro51fs)</td>\n      <td>Pro</td>\n      <td>51</td>\n    </tr>\n    <tr>\n      <th>...</th>\n      <td>...</td>\n      <td>...</td>\n      <td>...</td>\n      <td>...</td>\n      <td>...</td>\n      <td>...</td>\n      <td>...</td>\n      <td>...</td>\n      <td>...</td>\n      <td>...</td>\n      <td>...</td>\n      <td>...</td>\n      <td>...</td>\n      <td>...</td>\n      <td>...</td>\n    </tr>\n    <tr>\n      <th>1645715</th>\n      <td>54862</td>\n      <td>CC2D1A</td>\n      <td>HGNC:30237</td>\n      <td>-1</td>\n      <td>971119</td>\n      <td>Duplication</td>\n      <td>NM_017721.5(CC2D1A):c.1620_1623dup (p.Pro542fs)</td>\n      <td>unknown</td>\n      <td>MONDO:MONDO:0012037,MedGen:C1838023,OMIM:60844...</td>\n      <td>Mental retardation, autosomal recessive 3</td>\n      <td>-</td>\n      <td>c.1620_1623dup</td>\n      <td>(p.Pro542fs)</td>\n      <td>Pro</td>\n      <td>542</td>\n    </tr>\n    <tr>\n      <th>1645717</th>\n      <td>2593</td>\n      <td>GAMT</td>\n      <td>HGNC:4136</td>\n      <td>-1</td>\n      <td>971120</td>\n      <td>Duplication</td>\n      <td>NM_000156.6(GAMT):c.442dup (p.Gln148fs)</td>\n      <td>unknown</td>\n      <td>MONDO:MONDO:0012999,MedGen:C0574080,OMIM:61273...</td>\n      <td>Deficiency of guanidinoacetate methyltransferase</td>\n      <td>-</td>\n      <td>c.442dup</td>\n      <td>(p.Gln148fs)</td>\n      <td>Gln</td>\n      <td>148</td>\n    </tr>\n    <tr>\n      <th>1645725</th>\n      <td>113179</td>\n      <td>ADAT3</td>\n      <td>HGNC:25151</td>\n      <td>-1</td>\n      <td>971124</td>\n      <td>Duplication</td>\n      <td>NM_138422.4(ADAT3):c.820dup (p.Gln274fs)</td>\n      <td>unknown</td>\n      <td>MONDO:MONDO:0014119,MedGen:C3809039,OMIM:61528...</td>\n      <td>Mental retardation, autosomal recessive 36</td>\n      <td>-</td>\n      <td>c.820dup</td>\n      <td>(p.Gln274fs)</td>\n      <td>Gln</td>\n      <td>274</td>\n    </tr>\n    <tr>\n      <th>1645759</th>\n      <td>5020</td>\n      <td>OXT</td>\n      <td>HGNC:8528</td>\n      <td>-1</td>\n      <td>971141</td>\n      <td>Duplication</td>\n      <td>NM_000915.4(OXT):c.-3_9dup (p.Pro4_Ser5insThrM...</td>\n      <td>unknown</td>\n      <td>MeSH:D065886,MedGen:C1535926</td>\n      <td>Neurodevelopmental disorder</td>\n      <td>-</td>\n      <td>c.-3_9dup</td>\n      <td>(p.Pro4_Ser5insThrMetAlaGly)</td>\n      <td>Pro</td>\n      <td>4</td>\n    </tr>\n    <tr>\n      <th>1645789</th>\n      <td>104</td>\n      <td>ADARB1</td>\n      <td>HGNC:226</td>\n      <td>-1</td>\n      <td>971156</td>\n      <td>Duplication</td>\n      <td>NM_001112.4(ADARB1):c.1299dup (p.Phe434fs)</td>\n      <td>unknown</td>\n      <td>MedGen:CN280872,OMIM:618862</td>\n      <td>NEURODEVELOPMENTAL DISORDER WITH HYPOTONIA, MI...</td>\n      <td>-</td>\n      <td>c.1299dup</td>\n      <td>(p.Phe434fs)</td>\n      <td>Phe</td>\n      <td>434</td>\n    </tr>\n  </tbody>\n</table>\n<p>19957 rows × 15 columns</p>\n</div>"
     },
     "metadata": {},
     "execution_count": 22
    }
   ],
   "source": [
    "# \\s matches any whitespace character\n",
    "duplications['variant'] = duplications.name.map(lambda x: re.findall('[gmcn]{1}\\..*\\s', x))\n",
    "duplications['variant'] = duplications.variant.str[0]\n",
    "\n",
    "#saco el espacio del final\n",
    "duplications['variant'] = duplications.variant.str.strip()\n",
    "duplications['cambio'] = duplications.name.map(lambda x: re.findall('\\(p.*\\)', x))\n",
    "duplications['cambio'] = duplications.cambio.str[0]\n",
    "\n",
    "#Agrego una col para el aa que cambia\n",
    "duplications['aa1'] = duplications.cambio.str[3:6]\n",
    "duplications['cambio'] = duplications.cambio.apply(str)\n",
    "duplications['pos'] = duplications.cambio.map(lambda x: re.findall('[0-9]+', x))\n",
    "duplications['pos'] = duplications.pos.str[0]\n",
    "\n",
    "duplications"
   ]
  },
  {
   "cell_type": "code",
   "execution_count": 68,
   "metadata": {},
   "outputs": [
    {
     "output_type": "execute_result",
     "data": {
      "text/plain": [
       "49                         (p.His285Ter)\n",
       "112                         (p.Glu447fs)\n",
       "155                         (p.Ala199fs)\n",
       "173                          (p.Ala20fs)\n",
       "211                          (p.Pro51fs)\n",
       "262                          (p.Leu80fs)\n",
       "365                         (p.Asp50Ter)\n",
       "420     (p.Val209_Met210insGlyProProTer)\n",
       "436                         (p.Pro268fs)\n",
       "510                         (p.Pro451fs)\n",
       "516                         (p.Glu170fs)\n",
       "650                        (p.Ser1817fs)\n",
       "672                       (p.Tyr2681Ter)\n",
       "787                         (p.His158fs)\n",
       "882                         (p.Thr286fs)\n",
       "929                         (p.Ala133fs)\n",
       "973                         (p.Leu507fs)\n",
       "1087                        (p.His406fs)\n",
       "1447                (p.Leu103_Ser108dup)\n",
       "1451                       (p.Tyr140Ter)\n",
       "1522                        (p.Ile357fs)\n",
       "1594                        (p.Arg444fs)\n",
       "1746                                 nan\n",
       "1760                         (p.Gln95fs)\n",
       "1764                                 nan\n",
       "1825                        (p.Pro493fs)\n",
       "1857                          (p.Glu5fs)\n",
       "1917                                 nan\n",
       "2060                      (p.Tyr1510Ter)\n",
       "2103                       (p.Glu1026fs)\n",
       "2147                        (p.Ser177fs)\n",
       "2149                         (p.Gly13fs)\n",
       "2247                         (p.Asn34fs)\n",
       "2310                        (p.Asp449fs)\n",
       "2318                        (p.Val176fs)\n",
       "2366                         (p.Leu77fs)\n",
       "2378                        (p.Ala378fs)\n",
       "2380                        (p.Ser422fs)\n",
       "2386                        (p.Glu382fs)\n",
       "2394                        (p.Gln460fs)\n",
       "2419                         (p.Gly20fs)\n",
       "2427                         (p.Lys41fs)\n",
       "2477                        (p.Arg780fs)\n",
       "2483                         (p.Cys91fs)\n",
       "2595                                 nan\n",
       "2609                        (p.Pro321fs)\n",
       "2615                        (p.Lys636fs)\n",
       "2635                        (p.Val687fs)\n",
       "2659                         (p.Arg91fs)\n",
       "2733                         (p.Asp61fs)\n",
       "Name: cambio, dtype: object"
      ]
     },
     "metadata": {},
     "execution_count": 68
    }
   ],
   "source": [
    "duplications.cambio[:50]\n",
    "# hay nans"
   ]
  },
  {
   "cell_type": "code",
   "execution_count": 23,
   "metadata": {},
   "outputs": [
    {
     "output_type": "execute_result",
     "data": {
      "text/plain": [
       "         geneid genesymbol     hgnc_id      snpid  alleleid         type  \\\n",
       "49        26090     ABHD12  HGNC:15868  397704714     15065  Duplication   \n",
       "112       10806    SDCCAG8  HGNC:10671  387906218     15097  Duplication   \n",
       "155        3988       LIPA   HGNC:6617  780495201     15119  Duplication   \n",
       "173       60495      HPSE2  HGNC:18374  778121647     15129  Duplication   \n",
       "211       55654    TMEM127  HGNC:26038  121908817     15149  Duplication   \n",
       "...         ...        ...         ...        ...       ...          ...   \n",
       "1645715   54862     CC2D1A  HGNC:30237         -1    971119  Duplication   \n",
       "1645717    2593       GAMT   HGNC:4136         -1    971120  Duplication   \n",
       "1645725  113179      ADAT3  HGNC:25151         -1    971124  Duplication   \n",
       "1645759    5020        OXT   HGNC:8528         -1    971141  Duplication   \n",
       "1645789     104     ADARB1    HGNC:226         -1    971156  Duplication   \n",
       "\n",
       "                                                      name    origin  \\\n",
       "49       NM_001042472.3(ABHD12):c.846_852dup (p.His285Ter)  germline   \n",
       "112            NM_006642.5(SDCCAG8):c.1339dup (p.Glu447fs)  germline   \n",
       "155                NM_000235.4(LIPA):c.594dup (p.Ala199fs)  germline   \n",
       "173                 NM_021828.4(HPSE2):c.57dup (p.Ala20fs)  germline   \n",
       "211              NM_017849.3(TMEM127):c.149dup (p.Pro51fs)  germline   \n",
       "...                                                    ...       ...   \n",
       "1645715    NM_017721.5(CC2D1A):c.1620_1623dup (p.Pro542fs)   unknown   \n",
       "1645717            NM_000156.6(GAMT):c.442dup (p.Gln148fs)   unknown   \n",
       "1645725           NM_138422.4(ADAT3):c.820dup (p.Gln274fs)   unknown   \n",
       "1645759  NM_000915.4(OXT):c.-3_9dup (p.Pro4_Ser5insThrM...   unknown   \n",
       "1645789         NM_001112.4(ADARB1):c.1299dup (p.Phe434fs)   unknown   \n",
       "\n",
       "                                              phenotypeids  \\\n",
       "49       MONDO:MONDO:0012984,MedGen:C2675204,OMIM:61267...   \n",
       "112      MONDO:MONDO:0013326,MedGen:C3150877,OMIM:61361...   \n",
       "155      MedGen:CN438428,Orphanet:75233|MONDO:MONDO:001...   \n",
       "173      MONDO:MONDO:0009368,MedGen:CN033872,OMIM:23673...   \n",
       "211      MedGen:C3149711|Human Phenotype Ontology:HP:00...   \n",
       "...                                                    ...   \n",
       "1645715  MONDO:MONDO:0012037,MedGen:C1838023,OMIM:60844...   \n",
       "1645717  MONDO:MONDO:0012999,MedGen:C0574080,OMIM:61273...   \n",
       "1645725  MONDO:MONDO:0014119,MedGen:C3809039,OMIM:61528...   \n",
       "1645759                       MeSH:D065886,MedGen:C1535926   \n",
       "1645789                        MedGen:CN280872,OMIM:618862   \n",
       "\n",
       "                                             phenotypelist  \\\n",
       "49       Polyneuropathy, hearing loss, ataxia, retiniti...   \n",
       "112                                Senior-Loken syndrome 7   \n",
       "155      Wolman disease|Lysosomal acid lipase deficienc...   \n",
       "173                                   Urofacial syndrome 1   \n",
       "211      Pheochromocytoma, susceptibility to|Pheochromo...   \n",
       "...                                                    ...   \n",
       "1645715          Mental retardation, autosomal recessive 3   \n",
       "1645717   Deficiency of guanidinoacetate methyltransferase   \n",
       "1645725         Mental retardation, autosomal recessive 36   \n",
       "1645759                        Neurodevelopmental disorder   \n",
       "1645789  NEURODEVELOPMENTAL DISORDER WITH HYPOTONIA, MI...   \n",
       "\n",
       "                                  otherids         variant  \\\n",
       "49       ClinGen:CA113810,OMIM:613599.0003    c.846_852dup   \n",
       "112      OMIM:613524.0002,ClinGen:CA113827       c.1339dup   \n",
       "155      ClinGen:CA113834,OMIM:613497.0004        c.594dup   \n",
       "173                       OMIM:613469.0008         c.57dup   \n",
       "211      ClinGen:CA113859,OMIM:613403.0004        c.149dup   \n",
       "...                                    ...             ...   \n",
       "1645715                                  -  c.1620_1623dup   \n",
       "1645717                                  -        c.442dup   \n",
       "1645725                                  -        c.820dup   \n",
       "1645759                                  -       c.-3_9dup   \n",
       "1645789                                  -       c.1299dup   \n",
       "\n",
       "                               cambio  aa1  pos  \n",
       "49                      (p.His285Ter)  His  285  \n",
       "112                      (p.Glu447fs)  Glu  447  \n",
       "155                      (p.Ala199fs)  Ala  199  \n",
       "173                       (p.Ala20fs)  Ala   20  \n",
       "211                       (p.Pro51fs)  Pro   51  \n",
       "...                               ...  ...  ...  \n",
       "1645715                  (p.Pro542fs)  Pro  542  \n",
       "1645717                  (p.Gln148fs)  Gln  148  \n",
       "1645725                  (p.Gln274fs)  Gln  274  \n",
       "1645759  (p.Pro4_Ser5insThrMetAlaGly)  Pro    4  \n",
       "1645789                  (p.Phe434fs)  Phe  434  \n",
       "\n",
       "[13422 rows x 15 columns]"
      ],
      "text/html": "<div>\n<style scoped>\n    .dataframe tbody tr th:only-of-type {\n        vertical-align: middle;\n    }\n\n    .dataframe tbody tr th {\n        vertical-align: top;\n    }\n\n    .dataframe thead th {\n        text-align: right;\n    }\n</style>\n<table border=\"1\" class=\"dataframe\">\n  <thead>\n    <tr style=\"text-align: right;\">\n      <th></th>\n      <th>geneid</th>\n      <th>genesymbol</th>\n      <th>hgnc_id</th>\n      <th>snpid</th>\n      <th>alleleid</th>\n      <th>type</th>\n      <th>name</th>\n      <th>origin</th>\n      <th>phenotypeids</th>\n      <th>phenotypelist</th>\n      <th>otherids</th>\n      <th>variant</th>\n      <th>cambio</th>\n      <th>aa1</th>\n      <th>pos</th>\n    </tr>\n  </thead>\n  <tbody>\n    <tr>\n      <th>49</th>\n      <td>26090</td>\n      <td>ABHD12</td>\n      <td>HGNC:15868</td>\n      <td>397704714</td>\n      <td>15065</td>\n      <td>Duplication</td>\n      <td>NM_001042472.3(ABHD12):c.846_852dup (p.His285Ter)</td>\n      <td>germline</td>\n      <td>MONDO:MONDO:0012984,MedGen:C2675204,OMIM:61267...</td>\n      <td>Polyneuropathy, hearing loss, ataxia, retiniti...</td>\n      <td>ClinGen:CA113810,OMIM:613599.0003</td>\n      <td>c.846_852dup</td>\n      <td>(p.His285Ter)</td>\n      <td>His</td>\n      <td>285</td>\n    </tr>\n    <tr>\n      <th>112</th>\n      <td>10806</td>\n      <td>SDCCAG8</td>\n      <td>HGNC:10671</td>\n      <td>387906218</td>\n      <td>15097</td>\n      <td>Duplication</td>\n      <td>NM_006642.5(SDCCAG8):c.1339dup (p.Glu447fs)</td>\n      <td>germline</td>\n      <td>MONDO:MONDO:0013326,MedGen:C3150877,OMIM:61361...</td>\n      <td>Senior-Loken syndrome 7</td>\n      <td>OMIM:613524.0002,ClinGen:CA113827</td>\n      <td>c.1339dup</td>\n      <td>(p.Glu447fs)</td>\n      <td>Glu</td>\n      <td>447</td>\n    </tr>\n    <tr>\n      <th>155</th>\n      <td>3988</td>\n      <td>LIPA</td>\n      <td>HGNC:6617</td>\n      <td>780495201</td>\n      <td>15119</td>\n      <td>Duplication</td>\n      <td>NM_000235.4(LIPA):c.594dup (p.Ala199fs)</td>\n      <td>germline</td>\n      <td>MedGen:CN438428,Orphanet:75233|MONDO:MONDO:001...</td>\n      <td>Wolman disease|Lysosomal acid lipase deficienc...</td>\n      <td>ClinGen:CA113834,OMIM:613497.0004</td>\n      <td>c.594dup</td>\n      <td>(p.Ala199fs)</td>\n      <td>Ala</td>\n      <td>199</td>\n    </tr>\n    <tr>\n      <th>173</th>\n      <td>60495</td>\n      <td>HPSE2</td>\n      <td>HGNC:18374</td>\n      <td>778121647</td>\n      <td>15129</td>\n      <td>Duplication</td>\n      <td>NM_021828.4(HPSE2):c.57dup (p.Ala20fs)</td>\n      <td>germline</td>\n      <td>MONDO:MONDO:0009368,MedGen:CN033872,OMIM:23673...</td>\n      <td>Urofacial syndrome 1</td>\n      <td>OMIM:613469.0008</td>\n      <td>c.57dup</td>\n      <td>(p.Ala20fs)</td>\n      <td>Ala</td>\n      <td>20</td>\n    </tr>\n    <tr>\n      <th>211</th>\n      <td>55654</td>\n      <td>TMEM127</td>\n      <td>HGNC:26038</td>\n      <td>121908817</td>\n      <td>15149</td>\n      <td>Duplication</td>\n      <td>NM_017849.3(TMEM127):c.149dup (p.Pro51fs)</td>\n      <td>germline</td>\n      <td>MedGen:C3149711|Human Phenotype Ontology:HP:00...</td>\n      <td>Pheochromocytoma, susceptibility to|Pheochromo...</td>\n      <td>ClinGen:CA113859,OMIM:613403.0004</td>\n      <td>c.149dup</td>\n      <td>(p.Pro51fs)</td>\n      <td>Pro</td>\n      <td>51</td>\n    </tr>\n    <tr>\n      <th>...</th>\n      <td>...</td>\n      <td>...</td>\n      <td>...</td>\n      <td>...</td>\n      <td>...</td>\n      <td>...</td>\n      <td>...</td>\n      <td>...</td>\n      <td>...</td>\n      <td>...</td>\n      <td>...</td>\n      <td>...</td>\n      <td>...</td>\n      <td>...</td>\n      <td>...</td>\n    </tr>\n    <tr>\n      <th>1645715</th>\n      <td>54862</td>\n      <td>CC2D1A</td>\n      <td>HGNC:30237</td>\n      <td>-1</td>\n      <td>971119</td>\n      <td>Duplication</td>\n      <td>NM_017721.5(CC2D1A):c.1620_1623dup (p.Pro542fs)</td>\n      <td>unknown</td>\n      <td>MONDO:MONDO:0012037,MedGen:C1838023,OMIM:60844...</td>\n      <td>Mental retardation, autosomal recessive 3</td>\n      <td>-</td>\n      <td>c.1620_1623dup</td>\n      <td>(p.Pro542fs)</td>\n      <td>Pro</td>\n      <td>542</td>\n    </tr>\n    <tr>\n      <th>1645717</th>\n      <td>2593</td>\n      <td>GAMT</td>\n      <td>HGNC:4136</td>\n      <td>-1</td>\n      <td>971120</td>\n      <td>Duplication</td>\n      <td>NM_000156.6(GAMT):c.442dup (p.Gln148fs)</td>\n      <td>unknown</td>\n      <td>MONDO:MONDO:0012999,MedGen:C0574080,OMIM:61273...</td>\n      <td>Deficiency of guanidinoacetate methyltransferase</td>\n      <td>-</td>\n      <td>c.442dup</td>\n      <td>(p.Gln148fs)</td>\n      <td>Gln</td>\n      <td>148</td>\n    </tr>\n    <tr>\n      <th>1645725</th>\n      <td>113179</td>\n      <td>ADAT3</td>\n      <td>HGNC:25151</td>\n      <td>-1</td>\n      <td>971124</td>\n      <td>Duplication</td>\n      <td>NM_138422.4(ADAT3):c.820dup (p.Gln274fs)</td>\n      <td>unknown</td>\n      <td>MONDO:MONDO:0014119,MedGen:C3809039,OMIM:61528...</td>\n      <td>Mental retardation, autosomal recessive 36</td>\n      <td>-</td>\n      <td>c.820dup</td>\n      <td>(p.Gln274fs)</td>\n      <td>Gln</td>\n      <td>274</td>\n    </tr>\n    <tr>\n      <th>1645759</th>\n      <td>5020</td>\n      <td>OXT</td>\n      <td>HGNC:8528</td>\n      <td>-1</td>\n      <td>971141</td>\n      <td>Duplication</td>\n      <td>NM_000915.4(OXT):c.-3_9dup (p.Pro4_Ser5insThrM...</td>\n      <td>unknown</td>\n      <td>MeSH:D065886,MedGen:C1535926</td>\n      <td>Neurodevelopmental disorder</td>\n      <td>-</td>\n      <td>c.-3_9dup</td>\n      <td>(p.Pro4_Ser5insThrMetAlaGly)</td>\n      <td>Pro</td>\n      <td>4</td>\n    </tr>\n    <tr>\n      <th>1645789</th>\n      <td>104</td>\n      <td>ADARB1</td>\n      <td>HGNC:226</td>\n      <td>-1</td>\n      <td>971156</td>\n      <td>Duplication</td>\n      <td>NM_001112.4(ADARB1):c.1299dup (p.Phe434fs)</td>\n      <td>unknown</td>\n      <td>MedGen:CN280872,OMIM:618862</td>\n      <td>NEURODEVELOPMENTAL DISORDER WITH HYPOTONIA, MI...</td>\n      <td>-</td>\n      <td>c.1299dup</td>\n      <td>(p.Phe434fs)</td>\n      <td>Phe</td>\n      <td>434</td>\n    </tr>\n  </tbody>\n</table>\n<p>13422 rows × 15 columns</p>\n</div>"
     },
     "metadata": {},
     "execution_count": 23
    }
   ],
   "source": [
    "# elimino los nan\n",
    "duplications = duplications[duplications.variant.notnull()]\n",
    "duplications"
   ]
  },
  {
   "source": [
    "## Merge box1 con duplications"
   ],
   "cell_type": "markdown",
   "metadata": {}
  },
  {
   "cell_type": "code",
   "execution_count": 24,
   "metadata": {},
   "outputs": [
    {
     "output_type": "execute_result",
     "data": {
      "text/plain": [
       "    uniprot      organism                           mlo     hgnc_id  length  \\\n",
       "0    O95613  Homo sapiens  centrosome/spindle pole body  HGNC:16068    3336   \n",
       "1    O95613  Homo sapiens  centrosome/spindle pole body  HGNC:16068    3336   \n",
       "2    O95613  Homo sapiens  centrosome/spindle pole body  HGNC:16068    3336   \n",
       "3    O95613  Homo sapiens  centrosome/spindle pole body  HGNC:16068    3336   \n",
       "4    O95613  Homo sapiens  centrosome/spindle pole body  HGNC:16068    3336   \n",
       "..      ...           ...                           ...         ...     ...   \n",
       "876  P23771  Homo sapiens                  enhanceosome   HGNC:4172     443   \n",
       "877  P23771  Homo sapiens                  enhanceosome   HGNC:4172     443   \n",
       "878  P23771  Homo sapiens                  enhanceosome   HGNC:4172     443   \n",
       "879  Q15233  Homo sapiens                   paraspeckle   HGNC:7871     471   \n",
       "880  Q15233  Homo sapiens                   paraspeckle   HGNC:7871     471   \n",
       "\n",
       "                                              sequence  geneid genesymbol  \\\n",
       "0    MEVEQEQRRRKVEAGRTKLAHFRQRKTKGDSSHSEKKTAKRKGSAV...    5116       PCNT   \n",
       "1    MEVEQEQRRRKVEAGRTKLAHFRQRKTKGDSSHSEKKTAKRKGSAV...    5116       PCNT   \n",
       "2    MEVEQEQRRRKVEAGRTKLAHFRQRKTKGDSSHSEKKTAKRKGSAV...    5116       PCNT   \n",
       "3    MEVEQEQRRRKVEAGRTKLAHFRQRKTKGDSSHSEKKTAKRKGSAV...    5116       PCNT   \n",
       "4    MEVEQEQRRRKVEAGRTKLAHFRQRKTKGDSSHSEKKTAKRKGSAV...    5116       PCNT   \n",
       "..                                                 ...     ...        ...   \n",
       "876  MEVTADQPRWVSHHHPAVLNGQHPDTHHPGLSHSYMDAAQYPLPEE...    2625      GATA3   \n",
       "877  MEVTADQPRWVSHHHPAVLNGQHPDTHHPGLSHSYMDAAQYPLPEE...    2625      GATA3   \n",
       "878  MEVTADQPRWVSHHHPAVLNGQHPDTHHPGLSHSYMDAAQYPLPEE...    2625      GATA3   \n",
       "879  MQSNKTFNLEKQNHTPRKHHQHHHQQQHHQQQQQQPPPPPIPANGQ...    4841       NONO   \n",
       "880  MQSNKTFNLEKQNHTPRKHHQHHHQQQHHQQQQQQPPPPPIPANGQ...    4841       NONO   \n",
       "\n",
       "          snpid  alleleid         type  \\\n",
       "0     397514033     19744  Duplication   \n",
       "1    1601795448     19746  Duplication   \n",
       "2    1369869782     48589  Duplication   \n",
       "3     587784320    169723  Duplication   \n",
       "4     587784306    208732  Duplication   \n",
       "..          ...       ...          ...   \n",
       "876  1564399278    612890  Duplication   \n",
       "877          -1    858561  Duplication   \n",
       "878          -1    965281  Duplication   \n",
       "879   869025344    223781  Duplication   \n",
       "880  1555950011    432390  Duplication   \n",
       "\n",
       "                                                  name    origin  \\\n",
       "0            NM_006031.6(PCNT):c.3568dup (p.Cys1190fs)  germline   \n",
       "1              NM_006031.6(PCNT):c.844dup (p.Glu282fs)  germline   \n",
       "2             NM_006031.6(PCNT):c.1528dup (p.Thr510fs)  germline   \n",
       "3            NM_006031.6(PCNT):c.8868dup (p.Ala2957fs)  germline   \n",
       "4    NM_006031.6(PCNT):c.467_505dup (p.His156_Gln16...  germline   \n",
       "..                                                 ...       ...   \n",
       "876        NM_001002295.2(GATA3):c.701dup (p.Ser237fs)  germline   \n",
       "877        NM_001002295.2(GATA3):c.431dup (p.His145fs)  germline   \n",
       "878        NM_001002295.2(GATA3):c.708dup (p.Ser237fs)  germline   \n",
       "879           NM_007363.5(NONO):c.1394dup (p.Asn466fs)  germline   \n",
       "880            NM_007363.5(NONO):c.731dup (p.Asn244fs)   somatic   \n",
       "\n",
       "                                          phenotypeids  \\\n",
       "0    MONDO:MONDO:0008872,MedGen:C0432246,OMIM:21072...   \n",
       "1    MONDO:MONDO:0008872,MedGen:C0432246,OMIM:21072...   \n",
       "2    MONDO:MONDO:0008872,MedGen:C0432246,OMIM:21072...   \n",
       "3                                                    -   \n",
       "4                                                    -   \n",
       "..                                                 ...   \n",
       "876                                    MedGen:CN517202   \n",
       "877  MONDO:MONDO:0007797,MedGen:C1840333,OMIM:14625...   \n",
       "878  MONDO:MONDO:0007797,MedGen:C1840333,OMIM:14625...   \n",
       "879  MONDO:MONDO:0010501,MedGen:C4225417,OMIM:30096...   \n",
       "880  Human Phenotype Ontology:HP:0002885,MONDO:MOND...   \n",
       "\n",
       "                                         phenotypelist  \\\n",
       "0    Microcephalic osteodysplastic primordial dwarf...   \n",
       "1    Microcephalic osteodysplastic primordial dwarf...   \n",
       "2    Microcephalic osteodysplastic primordial dwarf...   \n",
       "3                                                    -   \n",
       "4                                                    -   \n",
       "..                                                 ...   \n",
       "876                                       not provided   \n",
       "877  Hypoparathyroidism-deafness-renal disease synd...   \n",
       "878  Hypoparathyroidism-deafness-renal disease synd...   \n",
       "879         Mental retardation, X-linked, syndromic 34   \n",
       "880                                    Medulloblastoma   \n",
       "\n",
       "                              otherids       variant                cambio  \\\n",
       "0    ClinGen:CA250509,OMIM:605925.0003     c.3568dup         (p.Cys1190fs)   \n",
       "1                     OMIM:605925.0005      c.844dup          (p.Glu282fs)   \n",
       "2                     OMIM:605925.0012     c.1528dup          (p.Thr510fs)   \n",
       "3                     ClinGen:CA251117     c.8868dup         (p.Ala2957fs)   \n",
       "4                     ClinGen:CA209336  c.467_505dup  (p.His156_Gln168dup)   \n",
       "..                                 ...           ...                   ...   \n",
       "876                                  -      c.701dup          (p.Ser237fs)   \n",
       "877                                  -      c.431dup          (p.His145fs)   \n",
       "878                                  -      c.708dup          (p.Ser237fs)   \n",
       "879  ClinGen:CA351658,OMIM:300084.0002     c.1394dup          (p.Asn466fs)   \n",
       "880                ClinGen:CA645509229      c.731dup          (p.Asn244fs)   \n",
       "\n",
       "     aa1   pos  \n",
       "0    Cys  1190  \n",
       "1    Glu   282  \n",
       "2    Thr   510  \n",
       "3    Ala  2957  \n",
       "4    His   156  \n",
       "..   ...   ...  \n",
       "876  Ser   237  \n",
       "877  His   145  \n",
       "878  Ser   237  \n",
       "879  Asn   466  \n",
       "880  Asn   244  \n",
       "\n",
       "[881 rows x 20 columns]"
      ],
      "text/html": "<div>\n<style scoped>\n    .dataframe tbody tr th:only-of-type {\n        vertical-align: middle;\n    }\n\n    .dataframe tbody tr th {\n        vertical-align: top;\n    }\n\n    .dataframe thead th {\n        text-align: right;\n    }\n</style>\n<table border=\"1\" class=\"dataframe\">\n  <thead>\n    <tr style=\"text-align: right;\">\n      <th></th>\n      <th>uniprot</th>\n      <th>organism</th>\n      <th>mlo</th>\n      <th>hgnc_id</th>\n      <th>length</th>\n      <th>sequence</th>\n      <th>geneid</th>\n      <th>genesymbol</th>\n      <th>snpid</th>\n      <th>alleleid</th>\n      <th>type</th>\n      <th>name</th>\n      <th>origin</th>\n      <th>phenotypeids</th>\n      <th>phenotypelist</th>\n      <th>otherids</th>\n      <th>variant</th>\n      <th>cambio</th>\n      <th>aa1</th>\n      <th>pos</th>\n    </tr>\n  </thead>\n  <tbody>\n    <tr>\n      <th>0</th>\n      <td>O95613</td>\n      <td>Homo sapiens</td>\n      <td>centrosome/spindle pole body</td>\n      <td>HGNC:16068</td>\n      <td>3336</td>\n      <td>MEVEQEQRRRKVEAGRTKLAHFRQRKTKGDSSHSEKKTAKRKGSAV...</td>\n      <td>5116</td>\n      <td>PCNT</td>\n      <td>397514033</td>\n      <td>19744</td>\n      <td>Duplication</td>\n      <td>NM_006031.6(PCNT):c.3568dup (p.Cys1190fs)</td>\n      <td>germline</td>\n      <td>MONDO:MONDO:0008872,MedGen:C0432246,OMIM:21072...</td>\n      <td>Microcephalic osteodysplastic primordial dwarf...</td>\n      <td>ClinGen:CA250509,OMIM:605925.0003</td>\n      <td>c.3568dup</td>\n      <td>(p.Cys1190fs)</td>\n      <td>Cys</td>\n      <td>1190</td>\n    </tr>\n    <tr>\n      <th>1</th>\n      <td>O95613</td>\n      <td>Homo sapiens</td>\n      <td>centrosome/spindle pole body</td>\n      <td>HGNC:16068</td>\n      <td>3336</td>\n      <td>MEVEQEQRRRKVEAGRTKLAHFRQRKTKGDSSHSEKKTAKRKGSAV...</td>\n      <td>5116</td>\n      <td>PCNT</td>\n      <td>1601795448</td>\n      <td>19746</td>\n      <td>Duplication</td>\n      <td>NM_006031.6(PCNT):c.844dup (p.Glu282fs)</td>\n      <td>germline</td>\n      <td>MONDO:MONDO:0008872,MedGen:C0432246,OMIM:21072...</td>\n      <td>Microcephalic osteodysplastic primordial dwarf...</td>\n      <td>OMIM:605925.0005</td>\n      <td>c.844dup</td>\n      <td>(p.Glu282fs)</td>\n      <td>Glu</td>\n      <td>282</td>\n    </tr>\n    <tr>\n      <th>2</th>\n      <td>O95613</td>\n      <td>Homo sapiens</td>\n      <td>centrosome/spindle pole body</td>\n      <td>HGNC:16068</td>\n      <td>3336</td>\n      <td>MEVEQEQRRRKVEAGRTKLAHFRQRKTKGDSSHSEKKTAKRKGSAV...</td>\n      <td>5116</td>\n      <td>PCNT</td>\n      <td>1369869782</td>\n      <td>48589</td>\n      <td>Duplication</td>\n      <td>NM_006031.6(PCNT):c.1528dup (p.Thr510fs)</td>\n      <td>germline</td>\n      <td>MONDO:MONDO:0008872,MedGen:C0432246,OMIM:21072...</td>\n      <td>Microcephalic osteodysplastic primordial dwarf...</td>\n      <td>OMIM:605925.0012</td>\n      <td>c.1528dup</td>\n      <td>(p.Thr510fs)</td>\n      <td>Thr</td>\n      <td>510</td>\n    </tr>\n    <tr>\n      <th>3</th>\n      <td>O95613</td>\n      <td>Homo sapiens</td>\n      <td>centrosome/spindle pole body</td>\n      <td>HGNC:16068</td>\n      <td>3336</td>\n      <td>MEVEQEQRRRKVEAGRTKLAHFRQRKTKGDSSHSEKKTAKRKGSAV...</td>\n      <td>5116</td>\n      <td>PCNT</td>\n      <td>587784320</td>\n      <td>169723</td>\n      <td>Duplication</td>\n      <td>NM_006031.6(PCNT):c.8868dup (p.Ala2957fs)</td>\n      <td>germline</td>\n      <td>-</td>\n      <td>-</td>\n      <td>ClinGen:CA251117</td>\n      <td>c.8868dup</td>\n      <td>(p.Ala2957fs)</td>\n      <td>Ala</td>\n      <td>2957</td>\n    </tr>\n    <tr>\n      <th>4</th>\n      <td>O95613</td>\n      <td>Homo sapiens</td>\n      <td>centrosome/spindle pole body</td>\n      <td>HGNC:16068</td>\n      <td>3336</td>\n      <td>MEVEQEQRRRKVEAGRTKLAHFRQRKTKGDSSHSEKKTAKRKGSAV...</td>\n      <td>5116</td>\n      <td>PCNT</td>\n      <td>587784306</td>\n      <td>208732</td>\n      <td>Duplication</td>\n      <td>NM_006031.6(PCNT):c.467_505dup (p.His156_Gln16...</td>\n      <td>germline</td>\n      <td>-</td>\n      <td>-</td>\n      <td>ClinGen:CA209336</td>\n      <td>c.467_505dup</td>\n      <td>(p.His156_Gln168dup)</td>\n      <td>His</td>\n      <td>156</td>\n    </tr>\n    <tr>\n      <th>...</th>\n      <td>...</td>\n      <td>...</td>\n      <td>...</td>\n      <td>...</td>\n      <td>...</td>\n      <td>...</td>\n      <td>...</td>\n      <td>...</td>\n      <td>...</td>\n      <td>...</td>\n      <td>...</td>\n      <td>...</td>\n      <td>...</td>\n      <td>...</td>\n      <td>...</td>\n      <td>...</td>\n      <td>...</td>\n      <td>...</td>\n      <td>...</td>\n      <td>...</td>\n    </tr>\n    <tr>\n      <th>876</th>\n      <td>P23771</td>\n      <td>Homo sapiens</td>\n      <td>enhanceosome</td>\n      <td>HGNC:4172</td>\n      <td>443</td>\n      <td>MEVTADQPRWVSHHHPAVLNGQHPDTHHPGLSHSYMDAAQYPLPEE...</td>\n      <td>2625</td>\n      <td>GATA3</td>\n      <td>1564399278</td>\n      <td>612890</td>\n      <td>Duplication</td>\n      <td>NM_001002295.2(GATA3):c.701dup (p.Ser237fs)</td>\n      <td>germline</td>\n      <td>MedGen:CN517202</td>\n      <td>not provided</td>\n      <td>-</td>\n      <td>c.701dup</td>\n      <td>(p.Ser237fs)</td>\n      <td>Ser</td>\n      <td>237</td>\n    </tr>\n    <tr>\n      <th>877</th>\n      <td>P23771</td>\n      <td>Homo sapiens</td>\n      <td>enhanceosome</td>\n      <td>HGNC:4172</td>\n      <td>443</td>\n      <td>MEVTADQPRWVSHHHPAVLNGQHPDTHHPGLSHSYMDAAQYPLPEE...</td>\n      <td>2625</td>\n      <td>GATA3</td>\n      <td>-1</td>\n      <td>858561</td>\n      <td>Duplication</td>\n      <td>NM_001002295.2(GATA3):c.431dup (p.His145fs)</td>\n      <td>germline</td>\n      <td>MONDO:MONDO:0007797,MedGen:C1840333,OMIM:14625...</td>\n      <td>Hypoparathyroidism-deafness-renal disease synd...</td>\n      <td>-</td>\n      <td>c.431dup</td>\n      <td>(p.His145fs)</td>\n      <td>His</td>\n      <td>145</td>\n    </tr>\n    <tr>\n      <th>878</th>\n      <td>P23771</td>\n      <td>Homo sapiens</td>\n      <td>enhanceosome</td>\n      <td>HGNC:4172</td>\n      <td>443</td>\n      <td>MEVTADQPRWVSHHHPAVLNGQHPDTHHPGLSHSYMDAAQYPLPEE...</td>\n      <td>2625</td>\n      <td>GATA3</td>\n      <td>-1</td>\n      <td>965281</td>\n      <td>Duplication</td>\n      <td>NM_001002295.2(GATA3):c.708dup (p.Ser237fs)</td>\n      <td>germline</td>\n      <td>MONDO:MONDO:0007797,MedGen:C1840333,OMIM:14625...</td>\n      <td>Hypoparathyroidism-deafness-renal disease synd...</td>\n      <td>-</td>\n      <td>c.708dup</td>\n      <td>(p.Ser237fs)</td>\n      <td>Ser</td>\n      <td>237</td>\n    </tr>\n    <tr>\n      <th>879</th>\n      <td>Q15233</td>\n      <td>Homo sapiens</td>\n      <td>paraspeckle</td>\n      <td>HGNC:7871</td>\n      <td>471</td>\n      <td>MQSNKTFNLEKQNHTPRKHHQHHHQQQHHQQQQQQPPPPPIPANGQ...</td>\n      <td>4841</td>\n      <td>NONO</td>\n      <td>869025344</td>\n      <td>223781</td>\n      <td>Duplication</td>\n      <td>NM_007363.5(NONO):c.1394dup (p.Asn466fs)</td>\n      <td>germline</td>\n      <td>MONDO:MONDO:0010501,MedGen:C4225417,OMIM:30096...</td>\n      <td>Mental retardation, X-linked, syndromic 34</td>\n      <td>ClinGen:CA351658,OMIM:300084.0002</td>\n      <td>c.1394dup</td>\n      <td>(p.Asn466fs)</td>\n      <td>Asn</td>\n      <td>466</td>\n    </tr>\n    <tr>\n      <th>880</th>\n      <td>Q15233</td>\n      <td>Homo sapiens</td>\n      <td>paraspeckle</td>\n      <td>HGNC:7871</td>\n      <td>471</td>\n      <td>MQSNKTFNLEKQNHTPRKHHQHHHQQQHHQQQQQQPPPPPIPANGQ...</td>\n      <td>4841</td>\n      <td>NONO</td>\n      <td>1555950011</td>\n      <td>432390</td>\n      <td>Duplication</td>\n      <td>NM_007363.5(NONO):c.731dup (p.Asn244fs)</td>\n      <td>somatic</td>\n      <td>Human Phenotype Ontology:HP:0002885,MONDO:MOND...</td>\n      <td>Medulloblastoma</td>\n      <td>ClinGen:CA645509229</td>\n      <td>c.731dup</td>\n      <td>(p.Asn244fs)</td>\n      <td>Asn</td>\n      <td>244</td>\n    </tr>\n  </tbody>\n</table>\n<p>881 rows × 20 columns</p>\n</div>"
     },
     "metadata": {},
     "execution_count": 24
    }
   ],
   "source": [
    "dup_box = box.merge(duplications)\n",
    "dup_box"
   ]
  },
  {
   "cell_type": "code",
   "execution_count": 114,
   "metadata": {},
   "outputs": [
    {
     "output_type": "execute_result",
     "data": {
      "text/plain": [
       "93"
      ]
     },
     "metadata": {},
     "execution_count": 114
    }
   ],
   "source": [
    "len(dup_box.uniprot.unique())"
   ]
  },
  {
   "cell_type": "code",
   "execution_count": 25,
   "metadata": {},
   "outputs": [],
   "source": [
    "dup_box.to_csv('datasets/clinvar_box1_dup.csv', index=False)"
   ]
  },
  {
   "source": [
    "## Subset microsatelites"
   ],
   "cell_type": "markdown",
   "metadata": {}
  },
  {
   "cell_type": "code",
   "execution_count": 26,
   "metadata": {},
   "outputs": [
    {
     "output_type": "execute_result",
     "data": {
      "text/plain": [
       "         geneid genesymbol     hgnc_id       snpid  alleleid            type  \\\n",
       "55       112817      HOGA1  HGNC:25155   397509360     15068  Microsatellite   \n",
       "114       10806    SDCCAG8  HGNC:10671   397515336     15098  Microsatellite   \n",
       "165       60495      HPSE2  HGNC:18374  1469962264     15124  Microsatellite   \n",
       "264      286262       TPRN  HGNC:26894   387906221     15176  Microsatellite   \n",
       "345        4942        OAT   HGNC:8091   386833600     15217  Microsatellite   \n",
       "...         ...        ...         ...         ...       ...             ...   \n",
       "1645519   64864       RFX7  HGNC:25777          -1    971021  Microsatellite   \n",
       "1645649    5889     RAD51C   HGNC:9820          -1    971086  Microsatellite   \n",
       "1645707     773    CACNA1A   HGNC:1388          -1    971115  Microsatellite   \n",
       "1645853    3897      L1CAM   HGNC:6470          -1    971188  Microsatellite   \n",
       "1646023     710   SERPING1   HGNC:1228          -1    971299  Microsatellite   \n",
       "\n",
       "                                                      name    origin  \\\n",
       "55        NM_138413.4(HOGA1):c.938_940AGG[2] (p.Glu315del)  germline   \n",
       "114      NM_006642.5(SDCCAG8):c.1944_1945GT[1] (p.Cys64...  germline   \n",
       "165       NM_001166244.1(HPSE2):c.235_236CT[3] (p.Leu81fs)  germline   \n",
       "264      NM_001128228.3(TPRN):c.214_224GGGGGCGCGGC[1] (...  germline   \n",
       "345                   NM_001171814.1(OAT):c.-215-3019AG[2]  germline   \n",
       "...                                                    ...       ...   \n",
       "1645519    NM_022841.7(RFX7):c.2874AACCCC[4] (p.948PT[10])  germline   \n",
       "1645649    NM_058216.3(RAD51C):c.1042_1043del (p.Asp348fs)   unknown   \n",
       "1645707  NM_001127222.2(CACNA1A):c.6937CAG[4] (p.Gln231...   unknown   \n",
       "1645853       NM_001278116.2(L1CAM):c.32_33del (p.Leu11fs)   unknown   \n",
       "1646023                NM_000062.3(SERPING1):c.51+612GT[8]  germline   \n",
       "\n",
       "                                              phenotypeids  \\\n",
       "55       MONDO:MONDO:0013327,MedGen:C3150878,OMIM:61361...   \n",
       "114      MONDO:MONDO:0013326,MedGen:C3150877,OMIM:61361...   \n",
       "165      MONDO:MONDO:0009368,MedGen:CN033872,OMIM:23673...   \n",
       "264      MONDO:MONDO:0013215,MedGen:C2750082,OMIM:61330...   \n",
       "345      Human Phenotype Ontology:HP:0012026,MedGen:C05...   \n",
       "...                                                    ...   \n",
       "1645519                       MeSH:D065886,MedGen:C1535926   \n",
       "1645649  MONDO:MONDO:0013253,MedGen:C3150659,OMIM:61339...   \n",
       "1645707    MONDO:MONDO:0014917,MedGen:C4310716,OMIM:617106   \n",
       "1645853  MONDO:MONDO:0010559,MedGen:C0795953,OMIM:30335...   \n",
       "1646023  MedGen:C2717906,OMIM:106100,Orphanet:100050,Or...   \n",
       "\n",
       "                                         phenotypelist  \\\n",
       "55        Primary hyperoxaluria, type III|not provided   \n",
       "114                            Senior-Loken syndrome 7   \n",
       "165                               Urofacial syndrome 1   \n",
       "264      Deafness, autosomal recessive 79|not provided   \n",
       "345              Ornithine aminotransferase deficiency   \n",
       "...                                                ...   \n",
       "1645519                    Neurodevelopmental disorder   \n",
       "1645649              Breast-ovarian cancer, familial 3   \n",
       "1645707  Epileptic encephalopathy, early infantile, 42   \n",
       "1645853                                  MASA syndrome   \n",
       "1646023                   Hereditary angioedema type 1   \n",
       "\n",
       "                                  otherids  \n",
       "55       ClinGen:CA339783,OMIM:613597.0001  \n",
       "114      ClinGen:CA113828,OMIM:613524.0003  \n",
       "165                       OMIM:613469.0003  \n",
       "264      ClinGen:CA113910,OMIM:613354.0004  \n",
       "345      ClinGen:CA212724,OMIM:613349.0035  \n",
       "...                                    ...  \n",
       "1645519                                  -  \n",
       "1645649                                  -  \n",
       "1645707                                  -  \n",
       "1645853                                  -  \n",
       "1646023                                  -  \n",
       "\n",
       "[10989 rows x 11 columns]"
      ],
      "text/html": "<div>\n<style scoped>\n    .dataframe tbody tr th:only-of-type {\n        vertical-align: middle;\n    }\n\n    .dataframe tbody tr th {\n        vertical-align: top;\n    }\n\n    .dataframe thead th {\n        text-align: right;\n    }\n</style>\n<table border=\"1\" class=\"dataframe\">\n  <thead>\n    <tr style=\"text-align: right;\">\n      <th></th>\n      <th>geneid</th>\n      <th>genesymbol</th>\n      <th>hgnc_id</th>\n      <th>snpid</th>\n      <th>alleleid</th>\n      <th>type</th>\n      <th>name</th>\n      <th>origin</th>\n      <th>phenotypeids</th>\n      <th>phenotypelist</th>\n      <th>otherids</th>\n    </tr>\n  </thead>\n  <tbody>\n    <tr>\n      <th>55</th>\n      <td>112817</td>\n      <td>HOGA1</td>\n      <td>HGNC:25155</td>\n      <td>397509360</td>\n      <td>15068</td>\n      <td>Microsatellite</td>\n      <td>NM_138413.4(HOGA1):c.938_940AGG[2] (p.Glu315del)</td>\n      <td>germline</td>\n      <td>MONDO:MONDO:0013327,MedGen:C3150878,OMIM:61361...</td>\n      <td>Primary hyperoxaluria, type III|not provided</td>\n      <td>ClinGen:CA339783,OMIM:613597.0001</td>\n    </tr>\n    <tr>\n      <th>114</th>\n      <td>10806</td>\n      <td>SDCCAG8</td>\n      <td>HGNC:10671</td>\n      <td>397515336</td>\n      <td>15098</td>\n      <td>Microsatellite</td>\n      <td>NM_006642.5(SDCCAG8):c.1944_1945GT[1] (p.Cys64...</td>\n      <td>germline</td>\n      <td>MONDO:MONDO:0013326,MedGen:C3150877,OMIM:61361...</td>\n      <td>Senior-Loken syndrome 7</td>\n      <td>ClinGen:CA113828,OMIM:613524.0003</td>\n    </tr>\n    <tr>\n      <th>165</th>\n      <td>60495</td>\n      <td>HPSE2</td>\n      <td>HGNC:18374</td>\n      <td>1469962264</td>\n      <td>15124</td>\n      <td>Microsatellite</td>\n      <td>NM_001166244.1(HPSE2):c.235_236CT[3] (p.Leu81fs)</td>\n      <td>germline</td>\n      <td>MONDO:MONDO:0009368,MedGen:CN033872,OMIM:23673...</td>\n      <td>Urofacial syndrome 1</td>\n      <td>OMIM:613469.0003</td>\n    </tr>\n    <tr>\n      <th>264</th>\n      <td>286262</td>\n      <td>TPRN</td>\n      <td>HGNC:26894</td>\n      <td>387906221</td>\n      <td>15176</td>\n      <td>Microsatellite</td>\n      <td>NM_001128228.3(TPRN):c.214_224GGGGGCGCGGC[1] (...</td>\n      <td>germline</td>\n      <td>MONDO:MONDO:0013215,MedGen:C2750082,OMIM:61330...</td>\n      <td>Deafness, autosomal recessive 79|not provided</td>\n      <td>ClinGen:CA113910,OMIM:613354.0004</td>\n    </tr>\n    <tr>\n      <th>345</th>\n      <td>4942</td>\n      <td>OAT</td>\n      <td>HGNC:8091</td>\n      <td>386833600</td>\n      <td>15217</td>\n      <td>Microsatellite</td>\n      <td>NM_001171814.1(OAT):c.-215-3019AG[2]</td>\n      <td>germline</td>\n      <td>Human Phenotype Ontology:HP:0012026,MedGen:C05...</td>\n      <td>Ornithine aminotransferase deficiency</td>\n      <td>ClinGen:CA212724,OMIM:613349.0035</td>\n    </tr>\n    <tr>\n      <th>...</th>\n      <td>...</td>\n      <td>...</td>\n      <td>...</td>\n      <td>...</td>\n      <td>...</td>\n      <td>...</td>\n      <td>...</td>\n      <td>...</td>\n      <td>...</td>\n      <td>...</td>\n      <td>...</td>\n    </tr>\n    <tr>\n      <th>1645519</th>\n      <td>64864</td>\n      <td>RFX7</td>\n      <td>HGNC:25777</td>\n      <td>-1</td>\n      <td>971021</td>\n      <td>Microsatellite</td>\n      <td>NM_022841.7(RFX7):c.2874AACCCC[4] (p.948PT[10])</td>\n      <td>germline</td>\n      <td>MeSH:D065886,MedGen:C1535926</td>\n      <td>Neurodevelopmental disorder</td>\n      <td>-</td>\n    </tr>\n    <tr>\n      <th>1645649</th>\n      <td>5889</td>\n      <td>RAD51C</td>\n      <td>HGNC:9820</td>\n      <td>-1</td>\n      <td>971086</td>\n      <td>Microsatellite</td>\n      <td>NM_058216.3(RAD51C):c.1042_1043del (p.Asp348fs)</td>\n      <td>unknown</td>\n      <td>MONDO:MONDO:0013253,MedGen:C3150659,OMIM:61339...</td>\n      <td>Breast-ovarian cancer, familial 3</td>\n      <td>-</td>\n    </tr>\n    <tr>\n      <th>1645707</th>\n      <td>773</td>\n      <td>CACNA1A</td>\n      <td>HGNC:1388</td>\n      <td>-1</td>\n      <td>971115</td>\n      <td>Microsatellite</td>\n      <td>NM_001127222.2(CACNA1A):c.6937CAG[4] (p.Gln231...</td>\n      <td>unknown</td>\n      <td>MONDO:MONDO:0014917,MedGen:C4310716,OMIM:617106</td>\n      <td>Epileptic encephalopathy, early infantile, 42</td>\n      <td>-</td>\n    </tr>\n    <tr>\n      <th>1645853</th>\n      <td>3897</td>\n      <td>L1CAM</td>\n      <td>HGNC:6470</td>\n      <td>-1</td>\n      <td>971188</td>\n      <td>Microsatellite</td>\n      <td>NM_001278116.2(L1CAM):c.32_33del (p.Leu11fs)</td>\n      <td>unknown</td>\n      <td>MONDO:MONDO:0010559,MedGen:C0795953,OMIM:30335...</td>\n      <td>MASA syndrome</td>\n      <td>-</td>\n    </tr>\n    <tr>\n      <th>1646023</th>\n      <td>710</td>\n      <td>SERPING1</td>\n      <td>HGNC:1228</td>\n      <td>-1</td>\n      <td>971299</td>\n      <td>Microsatellite</td>\n      <td>NM_000062.3(SERPING1):c.51+612GT[8]</td>\n      <td>germline</td>\n      <td>MedGen:C2717906,OMIM:106100,Orphanet:100050,Or...</td>\n      <td>Hereditary angioedema type 1</td>\n      <td>-</td>\n    </tr>\n  </tbody>\n</table>\n<p>10989 rows × 11 columns</p>\n</div>"
     },
     "metadata": {},
     "execution_count": 26
    }
   ],
   "source": [
    "# los microsatélites (SSR o STR, simple sequence repeat y short tandem repeat) son secuencias de ADN en las que un fragmento (cuyo tamaño va desde 2-6 nt) se repite de manera consecutiva.\n",
    "micro = vs.query('type == \"Microsatellite\"')\n",
    "micro\n"
   ]
  },
  {
   "cell_type": "code",
   "execution_count": 27,
   "metadata": {},
   "outputs": [
    {
     "output_type": "stream",
     "name": "stderr",
     "text": [
      "<ipython-input-27-af5070b460e1>:1: SettingWithCopyWarning: \nA value is trying to be set on a copy of a slice from a DataFrame.\nTry using .loc[row_indexer,col_indexer] = value instead\n\nSee the caveats in the documentation: https://pandas.pydata.org/pandas-docs/stable/user_guide/indexing.html#returning-a-view-versus-a-copy\n  micro['cambio'] = micro.name.map(lambda x: re.findall('\\(p.*\\)', x))\n<ipython-input-27-af5070b460e1>:2: SettingWithCopyWarning: \nA value is trying to be set on a copy of a slice from a DataFrame.\nTry using .loc[row_indexer,col_indexer] = value instead\n\nSee the caveats in the documentation: https://pandas.pydata.org/pandas-docs/stable/user_guide/indexing.html#returning-a-view-versus-a-copy\n  micro['cambio'] = micro.cambio.str[0]\n<ipython-input-27-af5070b460e1>:3: SettingWithCopyWarning: \nA value is trying to be set on a copy of a slice from a DataFrame.\nTry using .loc[row_indexer,col_indexer] = value instead\n\nSee the caveats in the documentation: https://pandas.pydata.org/pandas-docs/stable/user_guide/indexing.html#returning-a-view-versus-a-copy\n  micro['cambio'] = micro.cambio.apply(str)\n"
     ]
    },
    {
     "output_type": "execute_result",
     "data": {
      "text/plain": [
       "     geneid genesymbol     hgnc_id       snpid  alleleid            type  \\\n",
       "55   112817      HOGA1  HGNC:25155   397509360     15068  Microsatellite   \n",
       "114   10806    SDCCAG8  HGNC:10671   397515336     15098  Microsatellite   \n",
       "165   60495      HPSE2  HGNC:18374  1469962264     15124  Microsatellite   \n",
       "264  286262       TPRN  HGNC:26894   387906221     15176  Microsatellite   \n",
       "345    4942        OAT   HGNC:8091   386833600     15217  Microsatellite   \n",
       "\n",
       "                                                  name    origin  \\\n",
       "55    NM_138413.4(HOGA1):c.938_940AGG[2] (p.Glu315del)  germline   \n",
       "114  NM_006642.5(SDCCAG8):c.1944_1945GT[1] (p.Cys64...  germline   \n",
       "165   NM_001166244.1(HPSE2):c.235_236CT[3] (p.Leu81fs)  germline   \n",
       "264  NM_001128228.3(TPRN):c.214_224GGGGGCGCGGC[1] (...  germline   \n",
       "345               NM_001171814.1(OAT):c.-215-3019AG[2]  germline   \n",
       "\n",
       "                                          phenotypeids  \\\n",
       "55   MONDO:MONDO:0013327,MedGen:C3150878,OMIM:61361...   \n",
       "114  MONDO:MONDO:0013326,MedGen:C3150877,OMIM:61361...   \n",
       "165  MONDO:MONDO:0009368,MedGen:CN033872,OMIM:23673...   \n",
       "264  MONDO:MONDO:0013215,MedGen:C2750082,OMIM:61330...   \n",
       "345  Human Phenotype Ontology:HP:0012026,MedGen:C05...   \n",
       "\n",
       "                                     phenotypelist  \\\n",
       "55    Primary hyperoxaluria, type III|not provided   \n",
       "114                        Senior-Loken syndrome 7   \n",
       "165                           Urofacial syndrome 1   \n",
       "264  Deafness, autosomal recessive 79|not provided   \n",
       "345          Ornithine aminotransferase deficiency   \n",
       "\n",
       "                              otherids         cambio  \n",
       "55   ClinGen:CA339783,OMIM:613597.0001  (p.Glu315del)  \n",
       "114  ClinGen:CA113828,OMIM:613524.0003   (p.Cys649fs)  \n",
       "165                   OMIM:613469.0003    (p.Leu81fs)  \n",
       "264  ClinGen:CA113910,OMIM:613354.0004    (p.Gly76fs)  \n",
       "345  ClinGen:CA212724,OMIM:613349.0035            nan  "
      ],
      "text/html": "<div>\n<style scoped>\n    .dataframe tbody tr th:only-of-type {\n        vertical-align: middle;\n    }\n\n    .dataframe tbody tr th {\n        vertical-align: top;\n    }\n\n    .dataframe thead th {\n        text-align: right;\n    }\n</style>\n<table border=\"1\" class=\"dataframe\">\n  <thead>\n    <tr style=\"text-align: right;\">\n      <th></th>\n      <th>geneid</th>\n      <th>genesymbol</th>\n      <th>hgnc_id</th>\n      <th>snpid</th>\n      <th>alleleid</th>\n      <th>type</th>\n      <th>name</th>\n      <th>origin</th>\n      <th>phenotypeids</th>\n      <th>phenotypelist</th>\n      <th>otherids</th>\n      <th>cambio</th>\n    </tr>\n  </thead>\n  <tbody>\n    <tr>\n      <th>55</th>\n      <td>112817</td>\n      <td>HOGA1</td>\n      <td>HGNC:25155</td>\n      <td>397509360</td>\n      <td>15068</td>\n      <td>Microsatellite</td>\n      <td>NM_138413.4(HOGA1):c.938_940AGG[2] (p.Glu315del)</td>\n      <td>germline</td>\n      <td>MONDO:MONDO:0013327,MedGen:C3150878,OMIM:61361...</td>\n      <td>Primary hyperoxaluria, type III|not provided</td>\n      <td>ClinGen:CA339783,OMIM:613597.0001</td>\n      <td>(p.Glu315del)</td>\n    </tr>\n    <tr>\n      <th>114</th>\n      <td>10806</td>\n      <td>SDCCAG8</td>\n      <td>HGNC:10671</td>\n      <td>397515336</td>\n      <td>15098</td>\n      <td>Microsatellite</td>\n      <td>NM_006642.5(SDCCAG8):c.1944_1945GT[1] (p.Cys64...</td>\n      <td>germline</td>\n      <td>MONDO:MONDO:0013326,MedGen:C3150877,OMIM:61361...</td>\n      <td>Senior-Loken syndrome 7</td>\n      <td>ClinGen:CA113828,OMIM:613524.0003</td>\n      <td>(p.Cys649fs)</td>\n    </tr>\n    <tr>\n      <th>165</th>\n      <td>60495</td>\n      <td>HPSE2</td>\n      <td>HGNC:18374</td>\n      <td>1469962264</td>\n      <td>15124</td>\n      <td>Microsatellite</td>\n      <td>NM_001166244.1(HPSE2):c.235_236CT[3] (p.Leu81fs)</td>\n      <td>germline</td>\n      <td>MONDO:MONDO:0009368,MedGen:CN033872,OMIM:23673...</td>\n      <td>Urofacial syndrome 1</td>\n      <td>OMIM:613469.0003</td>\n      <td>(p.Leu81fs)</td>\n    </tr>\n    <tr>\n      <th>264</th>\n      <td>286262</td>\n      <td>TPRN</td>\n      <td>HGNC:26894</td>\n      <td>387906221</td>\n      <td>15176</td>\n      <td>Microsatellite</td>\n      <td>NM_001128228.3(TPRN):c.214_224GGGGGCGCGGC[1] (...</td>\n      <td>germline</td>\n      <td>MONDO:MONDO:0013215,MedGen:C2750082,OMIM:61330...</td>\n      <td>Deafness, autosomal recessive 79|not provided</td>\n      <td>ClinGen:CA113910,OMIM:613354.0004</td>\n      <td>(p.Gly76fs)</td>\n    </tr>\n    <tr>\n      <th>345</th>\n      <td>4942</td>\n      <td>OAT</td>\n      <td>HGNC:8091</td>\n      <td>386833600</td>\n      <td>15217</td>\n      <td>Microsatellite</td>\n      <td>NM_001171814.1(OAT):c.-215-3019AG[2]</td>\n      <td>germline</td>\n      <td>Human Phenotype Ontology:HP:0012026,MedGen:C05...</td>\n      <td>Ornithine aminotransferase deficiency</td>\n      <td>ClinGen:CA212724,OMIM:613349.0035</td>\n      <td>nan</td>\n    </tr>\n  </tbody>\n</table>\n</div>"
     },
     "metadata": {},
     "execution_count": 27
    }
   ],
   "source": [
    "micro['cambio'] = micro.name.map(lambda x: re.findall('\\(p.*\\)', x))\n",
    "micro['cambio'] = micro.cambio.str[0]\n",
    "micro['cambio'] = micro.cambio.apply(str)\n",
    "micro.head()"
   ]
  },
  {
   "cell_type": "code",
   "execution_count": 28,
   "metadata": {},
   "outputs": [
    {
     "output_type": "stream",
     "name": "stderr",
     "text": [
      "<ipython-input-28-608f8cbd5ad0>:2: SettingWithCopyWarning: \nA value is trying to be set on a copy of a slice from a DataFrame.\nTry using .loc[row_indexer,col_indexer] = value instead\n\nSee the caveats in the documentation: https://pandas.pydata.org/pandas-docs/stable/user_guide/indexing.html#returning-a-view-versus-a-copy\n  micro['aa'] = micro.cambio.map(lambda x: re.findall('[A-Z]{1}[a-z]{2}', x))\n<ipython-input-28-608f8cbd5ad0>:3: SettingWithCopyWarning: \nA value is trying to be set on a copy of a slice from a DataFrame.\nTry using .loc[row_indexer,col_indexer] = value instead\n\nSee the caveats in the documentation: https://pandas.pydata.org/pandas-docs/stable/user_guide/indexing.html#returning-a-view-versus-a-copy\n  micro['aa1'] = micro.aa.str[0]\n<ipython-input-28-608f8cbd5ad0>:4: SettingWithCopyWarning: \nA value is trying to be set on a copy of a slice from a DataFrame.\nTry using .loc[row_indexer,col_indexer] = value instead\n\nSee the caveats in the documentation: https://pandas.pydata.org/pandas-docs/stable/user_guide/indexing.html#returning-a-view-versus-a-copy\n  micro['aa2'] = micro.aa.str[1]\n<ipython-input-28-608f8cbd5ad0>:5: SettingWithCopyWarning: \nA value is trying to be set on a copy of a slice from a DataFrame.\nTry using .loc[row_indexer,col_indexer] = value instead\n\nSee the caveats in the documentation: https://pandas.pydata.org/pandas-docs/stable/user_guide/indexing.html#returning-a-view-versus-a-copy\n  micro['aa3'] = micro.aa.str[2]\n<ipython-input-28-608f8cbd5ad0>:8: SettingWithCopyWarning: \nA value is trying to be set on a copy of a slice from a DataFrame.\nTry using .loc[row_indexer,col_indexer] = value instead\n\nSee the caveats in the documentation: https://pandas.pydata.org/pandas-docs/stable/user_guide/indexing.html#returning-a-view-versus-a-copy\n  micro['pos1'] = np.nan\n<ipython-input-28-608f8cbd5ad0>:9: SettingWithCopyWarning: \nA value is trying to be set on a copy of a slice from a DataFrame.\nTry using .loc[row_indexer,col_indexer] = value instead\n\nSee the caveats in the documentation: https://pandas.pydata.org/pandas-docs/stable/user_guide/indexing.html#returning-a-view-versus-a-copy\n  micro['pos1'] = micro.cambio.map(lambda x: re.findall('[0-9]+', x))\n<ipython-input-28-608f8cbd5ad0>:10: SettingWithCopyWarning: \nA value is trying to be set on a copy of a slice from a DataFrame.\nTry using .loc[row_indexer,col_indexer] = value instead\n\nSee the caveats in the documentation: https://pandas.pydata.org/pandas-docs/stable/user_guide/indexing.html#returning-a-view-versus-a-copy\n  micro['pos2'] = micro.pos1.str[1]\n<ipython-input-28-608f8cbd5ad0>:11: SettingWithCopyWarning: \nA value is trying to be set on a copy of a slice from a DataFrame.\nTry using .loc[row_indexer,col_indexer] = value instead\n\nSee the caveats in the documentation: https://pandas.pydata.org/pandas-docs/stable/user_guide/indexing.html#returning-a-view-versus-a-copy\n  micro['pos1'] = micro.pos1.str[0]\n"
     ]
    },
    {
     "output_type": "execute_result",
     "data": {
      "text/plain": [
       "         geneid genesymbol     hgnc_id       snpid  alleleid            type  \\\n",
       "55       112817      HOGA1  HGNC:25155   397509360     15068  Microsatellite   \n",
       "114       10806    SDCCAG8  HGNC:10671   397515336     15098  Microsatellite   \n",
       "165       60495      HPSE2  HGNC:18374  1469962264     15124  Microsatellite   \n",
       "264      286262       TPRN  HGNC:26894   387906221     15176  Microsatellite   \n",
       "345        4942        OAT   HGNC:8091   386833600     15217  Microsatellite   \n",
       "...         ...        ...         ...         ...       ...             ...   \n",
       "1645519   64864       RFX7  HGNC:25777          -1    971021  Microsatellite   \n",
       "1645649    5889     RAD51C   HGNC:9820          -1    971086  Microsatellite   \n",
       "1645707     773    CACNA1A   HGNC:1388          -1    971115  Microsatellite   \n",
       "1645853    3897      L1CAM   HGNC:6470          -1    971188  Microsatellite   \n",
       "1646023     710   SERPING1   HGNC:1228          -1    971299  Microsatellite   \n",
       "\n",
       "                                                      name    origin  \\\n",
       "55        NM_138413.4(HOGA1):c.938_940AGG[2] (p.Glu315del)  germline   \n",
       "114      NM_006642.5(SDCCAG8):c.1944_1945GT[1] (p.Cys64...  germline   \n",
       "165       NM_001166244.1(HPSE2):c.235_236CT[3] (p.Leu81fs)  germline   \n",
       "264      NM_001128228.3(TPRN):c.214_224GGGGGCGCGGC[1] (...  germline   \n",
       "345                   NM_001171814.1(OAT):c.-215-3019AG[2]  germline   \n",
       "...                                                    ...       ...   \n",
       "1645519    NM_022841.7(RFX7):c.2874AACCCC[4] (p.948PT[10])  germline   \n",
       "1645649    NM_058216.3(RAD51C):c.1042_1043del (p.Asp348fs)   unknown   \n",
       "1645707  NM_001127222.2(CACNA1A):c.6937CAG[4] (p.Gln231...   unknown   \n",
       "1645853       NM_001278116.2(L1CAM):c.32_33del (p.Leu11fs)   unknown   \n",
       "1646023                NM_000062.3(SERPING1):c.51+612GT[8]  germline   \n",
       "\n",
       "                                              phenotypeids  \\\n",
       "55       MONDO:MONDO:0013327,MedGen:C3150878,OMIM:61361...   \n",
       "114      MONDO:MONDO:0013326,MedGen:C3150877,OMIM:61361...   \n",
       "165      MONDO:MONDO:0009368,MedGen:CN033872,OMIM:23673...   \n",
       "264      MONDO:MONDO:0013215,MedGen:C2750082,OMIM:61330...   \n",
       "345      Human Phenotype Ontology:HP:0012026,MedGen:C05...   \n",
       "...                                                    ...   \n",
       "1645519                       MeSH:D065886,MedGen:C1535926   \n",
       "1645649  MONDO:MONDO:0013253,MedGen:C3150659,OMIM:61339...   \n",
       "1645707    MONDO:MONDO:0014917,MedGen:C4310716,OMIM:617106   \n",
       "1645853  MONDO:MONDO:0010559,MedGen:C0795953,OMIM:30335...   \n",
       "1646023  MedGen:C2717906,OMIM:106100,Orphanet:100050,Or...   \n",
       "\n",
       "                                         phenotypelist  \\\n",
       "55        Primary hyperoxaluria, type III|not provided   \n",
       "114                            Senior-Loken syndrome 7   \n",
       "165                               Urofacial syndrome 1   \n",
       "264      Deafness, autosomal recessive 79|not provided   \n",
       "345              Ornithine aminotransferase deficiency   \n",
       "...                                                ...   \n",
       "1645519                    Neurodevelopmental disorder   \n",
       "1645649              Breast-ovarian cancer, familial 3   \n",
       "1645707  Epileptic encephalopathy, early infantile, 42   \n",
       "1645853                                  MASA syndrome   \n",
       "1646023                   Hereditary angioedema type 1   \n",
       "\n",
       "                                  otherids                  cambio  \\\n",
       "55       ClinGen:CA339783,OMIM:613597.0001           (p.Glu315del)   \n",
       "114      ClinGen:CA113828,OMIM:613524.0003            (p.Cys649fs)   \n",
       "165                       OMIM:613469.0003             (p.Leu81fs)   \n",
       "264      ClinGen:CA113910,OMIM:613354.0004             (p.Gly76fs)   \n",
       "345      ClinGen:CA212724,OMIM:613349.0035                     nan   \n",
       "...                                    ...                     ...   \n",
       "1645519                                  -           (p.948PT[10])   \n",
       "1645649                                  -            (p.Asp348fs)   \n",
       "1645707                                  -  (p.Gln2317_Gln2325del)   \n",
       "1645853                                  -             (p.Leu11fs)   \n",
       "1646023                                  -                     nan   \n",
       "\n",
       "                 aa  aa1  aa2  aa3  pos1  pos2  \n",
       "55            [Glu]  Glu  NaN  NaN   315   NaN  \n",
       "114           [Cys]  Cys  NaN  NaN   649   NaN  \n",
       "165           [Leu]  Leu  NaN  NaN    81   NaN  \n",
       "264           [Gly]  Gly  NaN  NaN    76   NaN  \n",
       "345              []  NaN  NaN  NaN   NaN   NaN  \n",
       "...             ...  ...  ...  ...   ...   ...  \n",
       "1645519          []  NaN  NaN  NaN   948    10  \n",
       "1645649       [Asp]  Asp  NaN  NaN   348   NaN  \n",
       "1645707  [Gln, Gln]  Gln  Gln  NaN  2317  2325  \n",
       "1645853       [Leu]  Leu  NaN  NaN    11   NaN  \n",
       "1646023          []  NaN  NaN  NaN   NaN   NaN  \n",
       "\n",
       "[10989 rows x 18 columns]"
      ],
      "text/html": "<div>\n<style scoped>\n    .dataframe tbody tr th:only-of-type {\n        vertical-align: middle;\n    }\n\n    .dataframe tbody tr th {\n        vertical-align: top;\n    }\n\n    .dataframe thead th {\n        text-align: right;\n    }\n</style>\n<table border=\"1\" class=\"dataframe\">\n  <thead>\n    <tr style=\"text-align: right;\">\n      <th></th>\n      <th>geneid</th>\n      <th>genesymbol</th>\n      <th>hgnc_id</th>\n      <th>snpid</th>\n      <th>alleleid</th>\n      <th>type</th>\n      <th>name</th>\n      <th>origin</th>\n      <th>phenotypeids</th>\n      <th>phenotypelist</th>\n      <th>otherids</th>\n      <th>cambio</th>\n      <th>aa</th>\n      <th>aa1</th>\n      <th>aa2</th>\n      <th>aa3</th>\n      <th>pos1</th>\n      <th>pos2</th>\n    </tr>\n  </thead>\n  <tbody>\n    <tr>\n      <th>55</th>\n      <td>112817</td>\n      <td>HOGA1</td>\n      <td>HGNC:25155</td>\n      <td>397509360</td>\n      <td>15068</td>\n      <td>Microsatellite</td>\n      <td>NM_138413.4(HOGA1):c.938_940AGG[2] (p.Glu315del)</td>\n      <td>germline</td>\n      <td>MONDO:MONDO:0013327,MedGen:C3150878,OMIM:61361...</td>\n      <td>Primary hyperoxaluria, type III|not provided</td>\n      <td>ClinGen:CA339783,OMIM:613597.0001</td>\n      <td>(p.Glu315del)</td>\n      <td>[Glu]</td>\n      <td>Glu</td>\n      <td>NaN</td>\n      <td>NaN</td>\n      <td>315</td>\n      <td>NaN</td>\n    </tr>\n    <tr>\n      <th>114</th>\n      <td>10806</td>\n      <td>SDCCAG8</td>\n      <td>HGNC:10671</td>\n      <td>397515336</td>\n      <td>15098</td>\n      <td>Microsatellite</td>\n      <td>NM_006642.5(SDCCAG8):c.1944_1945GT[1] (p.Cys64...</td>\n      <td>germline</td>\n      <td>MONDO:MONDO:0013326,MedGen:C3150877,OMIM:61361...</td>\n      <td>Senior-Loken syndrome 7</td>\n      <td>ClinGen:CA113828,OMIM:613524.0003</td>\n      <td>(p.Cys649fs)</td>\n      <td>[Cys]</td>\n      <td>Cys</td>\n      <td>NaN</td>\n      <td>NaN</td>\n      <td>649</td>\n      <td>NaN</td>\n    </tr>\n    <tr>\n      <th>165</th>\n      <td>60495</td>\n      <td>HPSE2</td>\n      <td>HGNC:18374</td>\n      <td>1469962264</td>\n      <td>15124</td>\n      <td>Microsatellite</td>\n      <td>NM_001166244.1(HPSE2):c.235_236CT[3] (p.Leu81fs)</td>\n      <td>germline</td>\n      <td>MONDO:MONDO:0009368,MedGen:CN033872,OMIM:23673...</td>\n      <td>Urofacial syndrome 1</td>\n      <td>OMIM:613469.0003</td>\n      <td>(p.Leu81fs)</td>\n      <td>[Leu]</td>\n      <td>Leu</td>\n      <td>NaN</td>\n      <td>NaN</td>\n      <td>81</td>\n      <td>NaN</td>\n    </tr>\n    <tr>\n      <th>264</th>\n      <td>286262</td>\n      <td>TPRN</td>\n      <td>HGNC:26894</td>\n      <td>387906221</td>\n      <td>15176</td>\n      <td>Microsatellite</td>\n      <td>NM_001128228.3(TPRN):c.214_224GGGGGCGCGGC[1] (...</td>\n      <td>germline</td>\n      <td>MONDO:MONDO:0013215,MedGen:C2750082,OMIM:61330...</td>\n      <td>Deafness, autosomal recessive 79|not provided</td>\n      <td>ClinGen:CA113910,OMIM:613354.0004</td>\n      <td>(p.Gly76fs)</td>\n      <td>[Gly]</td>\n      <td>Gly</td>\n      <td>NaN</td>\n      <td>NaN</td>\n      <td>76</td>\n      <td>NaN</td>\n    </tr>\n    <tr>\n      <th>345</th>\n      <td>4942</td>\n      <td>OAT</td>\n      <td>HGNC:8091</td>\n      <td>386833600</td>\n      <td>15217</td>\n      <td>Microsatellite</td>\n      <td>NM_001171814.1(OAT):c.-215-3019AG[2]</td>\n      <td>germline</td>\n      <td>Human Phenotype Ontology:HP:0012026,MedGen:C05...</td>\n      <td>Ornithine aminotransferase deficiency</td>\n      <td>ClinGen:CA212724,OMIM:613349.0035</td>\n      <td>nan</td>\n      <td>[]</td>\n      <td>NaN</td>\n      <td>NaN</td>\n      <td>NaN</td>\n      <td>NaN</td>\n      <td>NaN</td>\n    </tr>\n    <tr>\n      <th>...</th>\n      <td>...</td>\n      <td>...</td>\n      <td>...</td>\n      <td>...</td>\n      <td>...</td>\n      <td>...</td>\n      <td>...</td>\n      <td>...</td>\n      <td>...</td>\n      <td>...</td>\n      <td>...</td>\n      <td>...</td>\n      <td>...</td>\n      <td>...</td>\n      <td>...</td>\n      <td>...</td>\n      <td>...</td>\n      <td>...</td>\n    </tr>\n    <tr>\n      <th>1645519</th>\n      <td>64864</td>\n      <td>RFX7</td>\n      <td>HGNC:25777</td>\n      <td>-1</td>\n      <td>971021</td>\n      <td>Microsatellite</td>\n      <td>NM_022841.7(RFX7):c.2874AACCCC[4] (p.948PT[10])</td>\n      <td>germline</td>\n      <td>MeSH:D065886,MedGen:C1535926</td>\n      <td>Neurodevelopmental disorder</td>\n      <td>-</td>\n      <td>(p.948PT[10])</td>\n      <td>[]</td>\n      <td>NaN</td>\n      <td>NaN</td>\n      <td>NaN</td>\n      <td>948</td>\n      <td>10</td>\n    </tr>\n    <tr>\n      <th>1645649</th>\n      <td>5889</td>\n      <td>RAD51C</td>\n      <td>HGNC:9820</td>\n      <td>-1</td>\n      <td>971086</td>\n      <td>Microsatellite</td>\n      <td>NM_058216.3(RAD51C):c.1042_1043del (p.Asp348fs)</td>\n      <td>unknown</td>\n      <td>MONDO:MONDO:0013253,MedGen:C3150659,OMIM:61339...</td>\n      <td>Breast-ovarian cancer, familial 3</td>\n      <td>-</td>\n      <td>(p.Asp348fs)</td>\n      <td>[Asp]</td>\n      <td>Asp</td>\n      <td>NaN</td>\n      <td>NaN</td>\n      <td>348</td>\n      <td>NaN</td>\n    </tr>\n    <tr>\n      <th>1645707</th>\n      <td>773</td>\n      <td>CACNA1A</td>\n      <td>HGNC:1388</td>\n      <td>-1</td>\n      <td>971115</td>\n      <td>Microsatellite</td>\n      <td>NM_001127222.2(CACNA1A):c.6937CAG[4] (p.Gln231...</td>\n      <td>unknown</td>\n      <td>MONDO:MONDO:0014917,MedGen:C4310716,OMIM:617106</td>\n      <td>Epileptic encephalopathy, early infantile, 42</td>\n      <td>-</td>\n      <td>(p.Gln2317_Gln2325del)</td>\n      <td>[Gln, Gln]</td>\n      <td>Gln</td>\n      <td>Gln</td>\n      <td>NaN</td>\n      <td>2317</td>\n      <td>2325</td>\n    </tr>\n    <tr>\n      <th>1645853</th>\n      <td>3897</td>\n      <td>L1CAM</td>\n      <td>HGNC:6470</td>\n      <td>-1</td>\n      <td>971188</td>\n      <td>Microsatellite</td>\n      <td>NM_001278116.2(L1CAM):c.32_33del (p.Leu11fs)</td>\n      <td>unknown</td>\n      <td>MONDO:MONDO:0010559,MedGen:C0795953,OMIM:30335...</td>\n      <td>MASA syndrome</td>\n      <td>-</td>\n      <td>(p.Leu11fs)</td>\n      <td>[Leu]</td>\n      <td>Leu</td>\n      <td>NaN</td>\n      <td>NaN</td>\n      <td>11</td>\n      <td>NaN</td>\n    </tr>\n    <tr>\n      <th>1646023</th>\n      <td>710</td>\n      <td>SERPING1</td>\n      <td>HGNC:1228</td>\n      <td>-1</td>\n      <td>971299</td>\n      <td>Microsatellite</td>\n      <td>NM_000062.3(SERPING1):c.51+612GT[8]</td>\n      <td>germline</td>\n      <td>MedGen:C2717906,OMIM:106100,Orphanet:100050,Or...</td>\n      <td>Hereditary angioedema type 1</td>\n      <td>-</td>\n      <td>nan</td>\n      <td>[]</td>\n      <td>NaN</td>\n      <td>NaN</td>\n      <td>NaN</td>\n      <td>NaN</td>\n      <td>NaN</td>\n    </tr>\n  </tbody>\n</table>\n<p>10989 rows × 18 columns</p>\n</div>"
     },
     "metadata": {},
     "execution_count": 28
    }
   ],
   "source": [
    "#Agrego una col para el/los aa que cambia/n\n",
    "micro['aa'] = micro.cambio.map(lambda x: re.findall('[A-Z]{1}[a-z]{2}', x))\n",
    "micro['aa1'] = micro.aa.str[0]\n",
    "micro['aa2'] = micro.aa.str[1]\n",
    "micro['aa3'] = micro.aa.str[2]\n",
    "\n",
    "# otra col para la/s posicion/es\n",
    "micro['pos1'] = np.nan\n",
    "micro['pos1'] = micro.cambio.map(lambda x: re.findall('[0-9]+', x))\n",
    "micro['pos2'] = micro.pos1.str[1]\n",
    "micro['pos1'] = micro.pos1.str[0]\n",
    "\n",
    "micro"
   ]
  },
  {
   "cell_type": "code",
   "execution_count": 29,
   "metadata": {},
   "outputs": [
    {
     "output_type": "execute_result",
     "data": {
      "text/plain": [
       "         geneid genesymbol     hgnc_id       snpid  alleleid            type  \\\n",
       "107465    51360     MBTPS2  HGNC:15455   398124305    101638  Microsatellite   \n",
       "962777    10083      USH1C  HGNC:12597  1591961566    615813  Microsatellite   \n",
       "1430875    7249       TSC2  HGNC:12363          -1    860218  Microsatellite   \n",
       "910720      686        BTD   HGNC:1122  1559596792    578667  Microsatellite   \n",
       "246217    25836      NIPBL  HGNC:28862   797045784    207256  Microsatellite   \n",
       "...         ...        ...         ...         ...       ...             ...   \n",
       "402413     5145      PDE6A   HGNC:8785   886060207    296247  Microsatellite   \n",
       "403105     3702        ITK   HGNC:6171   757871566    296638  Microsatellite   \n",
       "403197   348938     NIPAL4  HGNC:28018   886060341    296690  Microsatellite   \n",
       "403201   348938     NIPAL4  HGNC:28018   527401652    296692  Microsatellite   \n",
       "1646023     710   SERPING1   HGNC:1228          -1    971299  Microsatellite   \n",
       "\n",
       "                                                      name    origin  \\\n",
       "107465   NM_015884.4(MBTPS2):c.17_19TGG[2] (p.Val8_Val1...  germline   \n",
       "962777   NM_153676.4(USH1C):c.2352_2353del (p.Val784_Ty...  germline   \n",
       "1430875  NM_000548.5(TSC2):c.1754_1755GT[2] (p.Val586_T...  germline   \n",
       "910720     NM_001370658.1(BTD):c.261_262TA[3] (p.Val89Ter)  germline   \n",
       "246217   NM_133433.4(NIPBL):c.7839_7840TA[3] (p.Val2615...  germline   \n",
       "...                                                    ...       ...   \n",
       "402413               NM_000440.3(PDE6A):c.*2098_*2099CT[2]  germline   \n",
       "403105                    NM_005546.3(ITK):c.625_627delTGG  germline   \n",
       "403197            NM_001172292.1(NIPAL4):c.*385_*387CCT[1]  germline   \n",
       "403201            NM_001172292.1(NIPAL4):c.*405_*407GTT[8]  germline   \n",
       "1646023                NM_000062.3(SERPING1):c.51+612GT[8]  germline   \n",
       "\n",
       "                                              phenotypeids  \\\n",
       "107465                                     MedGen:CN517202   \n",
       "962777   MONDO:MONDO:0011192,MedGen:C1865870,OMIM:60209...   \n",
       "1430875                                    MedGen:CN517202   \n",
       "910720   MONDO:MONDO:0009665,MedGen:C0220754,OMIM:25326...   \n",
       "246217   MONDO:MONDO:0007387,MedGen:C4551851,OMIM:12247...   \n",
       "...                                                    ...   \n",
       "402413                                     MedGen:CN239466   \n",
       "403105   MONDO:MONDO:0016537,MedGen:CN228424,OMIM:PS308...   \n",
       "403197   Human Phenotype Ontology:HP:0007431,Human Phen...   \n",
       "403201   Human Phenotype Ontology:HP:0007431,Human Phen...   \n",
       "1646023  MedGen:C2717906,OMIM:106100,Orphanet:100050,Or...   \n",
       "\n",
       "                                 phenotypelist            otherids  \\\n",
       "107465                            not provided    ClinGen:CA223236   \n",
       "962777        Deafness, autosomal recessive 18                   -   \n",
       "1430875                           not provided                   -   \n",
       "910720                  Biotinidase deficiency                   -   \n",
       "246217            Cornelia de Lange syndrome 1    ClinGen:CA276972   \n",
       "...                                        ...                 ...   \n",
       "402413         Retinitis Pigmentosa, Recessive  ClinGen:CA10619617   \n",
       "403105            Lymphoproliferative syndrome   ClinGen:CA3532824   \n",
       "403197   Congenital ichthyosiform erythroderma  ClinGen:CA10619868   \n",
       "403201   Congenital ichthyosiform erythroderma  ClinGen:CA10619870   \n",
       "1646023           Hereditary angioedema type 1                   -   \n",
       "\n",
       "                          cambio               aa  aa1  aa2  aa3  pos1 pos2  \n",
       "107465         (p.Val8_Val11del)       [Val, Val]  Val  Val  NaN     8   11  \n",
       "962777   (p.Val784_Tyr785insTer)  [Val, Tyr, Ter]  Val  Tyr  Ter   784  785  \n",
       "1430875  (p.Val586_Tyr587insTer)  [Val, Tyr, Ter]  Val  Tyr  Ter   586  587  \n",
       "910720              (p.Val89Ter)       [Val, Ter]  Val  Ter  NaN    89  NaN  \n",
       "246217            (p.Val2615Ter)       [Val, Ter]  Val  Ter  NaN  2615  NaN  \n",
       "...                          ...              ...  ...  ...  ...   ...  ...  \n",
       "402413                       nan               []  NaN  NaN  NaN   NaN  NaN  \n",
       "403105                       nan               []  NaN  NaN  NaN   NaN  NaN  \n",
       "403197                       nan               []  NaN  NaN  NaN   NaN  NaN  \n",
       "403201                       nan               []  NaN  NaN  NaN   NaN  NaN  \n",
       "1646023                      nan               []  NaN  NaN  NaN   NaN  NaN  \n",
       "\n",
       "[10989 rows x 18 columns]"
      ],
      "text/html": "<div>\n<style scoped>\n    .dataframe tbody tr th:only-of-type {\n        vertical-align: middle;\n    }\n\n    .dataframe tbody tr th {\n        vertical-align: top;\n    }\n\n    .dataframe thead th {\n        text-align: right;\n    }\n</style>\n<table border=\"1\" class=\"dataframe\">\n  <thead>\n    <tr style=\"text-align: right;\">\n      <th></th>\n      <th>geneid</th>\n      <th>genesymbol</th>\n      <th>hgnc_id</th>\n      <th>snpid</th>\n      <th>alleleid</th>\n      <th>type</th>\n      <th>name</th>\n      <th>origin</th>\n      <th>phenotypeids</th>\n      <th>phenotypelist</th>\n      <th>otherids</th>\n      <th>cambio</th>\n      <th>aa</th>\n      <th>aa1</th>\n      <th>aa2</th>\n      <th>aa3</th>\n      <th>pos1</th>\n      <th>pos2</th>\n    </tr>\n  </thead>\n  <tbody>\n    <tr>\n      <th>107465</th>\n      <td>51360</td>\n      <td>MBTPS2</td>\n      <td>HGNC:15455</td>\n      <td>398124305</td>\n      <td>101638</td>\n      <td>Microsatellite</td>\n      <td>NM_015884.4(MBTPS2):c.17_19TGG[2] (p.Val8_Val1...</td>\n      <td>germline</td>\n      <td>MedGen:CN517202</td>\n      <td>not provided</td>\n      <td>ClinGen:CA223236</td>\n      <td>(p.Val8_Val11del)</td>\n      <td>[Val, Val]</td>\n      <td>Val</td>\n      <td>Val</td>\n      <td>NaN</td>\n      <td>8</td>\n      <td>11</td>\n    </tr>\n    <tr>\n      <th>962777</th>\n      <td>10083</td>\n      <td>USH1C</td>\n      <td>HGNC:12597</td>\n      <td>1591961566</td>\n      <td>615813</td>\n      <td>Microsatellite</td>\n      <td>NM_153676.4(USH1C):c.2352_2353del (p.Val784_Ty...</td>\n      <td>germline</td>\n      <td>MONDO:MONDO:0011192,MedGen:C1865870,OMIM:60209...</td>\n      <td>Deafness, autosomal recessive 18</td>\n      <td>-</td>\n      <td>(p.Val784_Tyr785insTer)</td>\n      <td>[Val, Tyr, Ter]</td>\n      <td>Val</td>\n      <td>Tyr</td>\n      <td>Ter</td>\n      <td>784</td>\n      <td>785</td>\n    </tr>\n    <tr>\n      <th>1430875</th>\n      <td>7249</td>\n      <td>TSC2</td>\n      <td>HGNC:12363</td>\n      <td>-1</td>\n      <td>860218</td>\n      <td>Microsatellite</td>\n      <td>NM_000548.5(TSC2):c.1754_1755GT[2] (p.Val586_T...</td>\n      <td>germline</td>\n      <td>MedGen:CN517202</td>\n      <td>not provided</td>\n      <td>-</td>\n      <td>(p.Val586_Tyr587insTer)</td>\n      <td>[Val, Tyr, Ter]</td>\n      <td>Val</td>\n      <td>Tyr</td>\n      <td>Ter</td>\n      <td>586</td>\n      <td>587</td>\n    </tr>\n    <tr>\n      <th>910720</th>\n      <td>686</td>\n      <td>BTD</td>\n      <td>HGNC:1122</td>\n      <td>1559596792</td>\n      <td>578667</td>\n      <td>Microsatellite</td>\n      <td>NM_001370658.1(BTD):c.261_262TA[3] (p.Val89Ter)</td>\n      <td>germline</td>\n      <td>MONDO:MONDO:0009665,MedGen:C0220754,OMIM:25326...</td>\n      <td>Biotinidase deficiency</td>\n      <td>-</td>\n      <td>(p.Val89Ter)</td>\n      <td>[Val, Ter]</td>\n      <td>Val</td>\n      <td>Ter</td>\n      <td>NaN</td>\n      <td>89</td>\n      <td>NaN</td>\n    </tr>\n    <tr>\n      <th>246217</th>\n      <td>25836</td>\n      <td>NIPBL</td>\n      <td>HGNC:28862</td>\n      <td>797045784</td>\n      <td>207256</td>\n      <td>Microsatellite</td>\n      <td>NM_133433.4(NIPBL):c.7839_7840TA[3] (p.Val2615...</td>\n      <td>germline</td>\n      <td>MONDO:MONDO:0007387,MedGen:C4551851,OMIM:12247...</td>\n      <td>Cornelia de Lange syndrome 1</td>\n      <td>ClinGen:CA276972</td>\n      <td>(p.Val2615Ter)</td>\n      <td>[Val, Ter]</td>\n      <td>Val</td>\n      <td>Ter</td>\n      <td>NaN</td>\n      <td>2615</td>\n      <td>NaN</td>\n    </tr>\n    <tr>\n      <th>...</th>\n      <td>...</td>\n      <td>...</td>\n      <td>...</td>\n      <td>...</td>\n      <td>...</td>\n      <td>...</td>\n      <td>...</td>\n      <td>...</td>\n      <td>...</td>\n      <td>...</td>\n      <td>...</td>\n      <td>...</td>\n      <td>...</td>\n      <td>...</td>\n      <td>...</td>\n      <td>...</td>\n      <td>...</td>\n      <td>...</td>\n    </tr>\n    <tr>\n      <th>402413</th>\n      <td>5145</td>\n      <td>PDE6A</td>\n      <td>HGNC:8785</td>\n      <td>886060207</td>\n      <td>296247</td>\n      <td>Microsatellite</td>\n      <td>NM_000440.3(PDE6A):c.*2098_*2099CT[2]</td>\n      <td>germline</td>\n      <td>MedGen:CN239466</td>\n      <td>Retinitis Pigmentosa, Recessive</td>\n      <td>ClinGen:CA10619617</td>\n      <td>nan</td>\n      <td>[]</td>\n      <td>NaN</td>\n      <td>NaN</td>\n      <td>NaN</td>\n      <td>NaN</td>\n      <td>NaN</td>\n    </tr>\n    <tr>\n      <th>403105</th>\n      <td>3702</td>\n      <td>ITK</td>\n      <td>HGNC:6171</td>\n      <td>757871566</td>\n      <td>296638</td>\n      <td>Microsatellite</td>\n      <td>NM_005546.3(ITK):c.625_627delTGG</td>\n      <td>germline</td>\n      <td>MONDO:MONDO:0016537,MedGen:CN228424,OMIM:PS308...</td>\n      <td>Lymphoproliferative syndrome</td>\n      <td>ClinGen:CA3532824</td>\n      <td>nan</td>\n      <td>[]</td>\n      <td>NaN</td>\n      <td>NaN</td>\n      <td>NaN</td>\n      <td>NaN</td>\n      <td>NaN</td>\n    </tr>\n    <tr>\n      <th>403197</th>\n      <td>348938</td>\n      <td>NIPAL4</td>\n      <td>HGNC:28018</td>\n      <td>886060341</td>\n      <td>296690</td>\n      <td>Microsatellite</td>\n      <td>NM_001172292.1(NIPAL4):c.*385_*387CCT[1]</td>\n      <td>germline</td>\n      <td>Human Phenotype Ontology:HP:0007431,Human Phen...</td>\n      <td>Congenital ichthyosiform erythroderma</td>\n      <td>ClinGen:CA10619868</td>\n      <td>nan</td>\n      <td>[]</td>\n      <td>NaN</td>\n      <td>NaN</td>\n      <td>NaN</td>\n      <td>NaN</td>\n      <td>NaN</td>\n    </tr>\n    <tr>\n      <th>403201</th>\n      <td>348938</td>\n      <td>NIPAL4</td>\n      <td>HGNC:28018</td>\n      <td>527401652</td>\n      <td>296692</td>\n      <td>Microsatellite</td>\n      <td>NM_001172292.1(NIPAL4):c.*405_*407GTT[8]</td>\n      <td>germline</td>\n      <td>Human Phenotype Ontology:HP:0007431,Human Phen...</td>\n      <td>Congenital ichthyosiform erythroderma</td>\n      <td>ClinGen:CA10619870</td>\n      <td>nan</td>\n      <td>[]</td>\n      <td>NaN</td>\n      <td>NaN</td>\n      <td>NaN</td>\n      <td>NaN</td>\n      <td>NaN</td>\n    </tr>\n    <tr>\n      <th>1646023</th>\n      <td>710</td>\n      <td>SERPING1</td>\n      <td>HGNC:1228</td>\n      <td>-1</td>\n      <td>971299</td>\n      <td>Microsatellite</td>\n      <td>NM_000062.3(SERPING1):c.51+612GT[8]</td>\n      <td>germline</td>\n      <td>MedGen:C2717906,OMIM:106100,Orphanet:100050,Or...</td>\n      <td>Hereditary angioedema type 1</td>\n      <td>-</td>\n      <td>nan</td>\n      <td>[]</td>\n      <td>NaN</td>\n      <td>NaN</td>\n      <td>NaN</td>\n      <td>NaN</td>\n      <td>NaN</td>\n    </tr>\n  </tbody>\n</table>\n<p>10989 rows × 18 columns</p>\n</div>"
     },
     "metadata": {},
     "execution_count": 29
    }
   ],
   "source": [
    "micro.sort_values(by=['aa'], ascending= False)"
   ]
  },
  {
   "source": [
    "## Merge box1 con microsatelites"
   ],
   "cell_type": "markdown",
   "metadata": {}
  },
  {
   "cell_type": "code",
   "execution_count": 30,
   "metadata": {},
   "outputs": [
    {
     "output_type": "execute_result",
     "data": {
      "text/plain": [
       "    uniprot      organism                           mlo     hgnc_id  length  \\\n",
       "0    O95613  Homo sapiens  centrosome/spindle pole body  HGNC:16068    3336   \n",
       "1    O95613  Homo sapiens  centrosome/spindle pole body  HGNC:16068    3336   \n",
       "2    O95613  Homo sapiens  centrosome/spindle pole body  HGNC:16068    3336   \n",
       "3    O95613  Homo sapiens  centrosome/spindle pole body  HGNC:16068    3336   \n",
       "4    O95613  Homo sapiens  centrosome/spindle pole body  HGNC:16068    3336   \n",
       "..      ...           ...                           ...         ...     ...   \n",
       "665  P04156  Homo sapiens   cytoplasmic protein granule   HGNC:9449     253   \n",
       "666  P04156  Homo sapiens   cytoplasmic protein granule   HGNC:9449     253   \n",
       "667  P23771  Homo sapiens                  enhanceosome   HGNC:4172     443   \n",
       "668  Q15233  Homo sapiens                   paraspeckle   HGNC:7871     471   \n",
       "669  Q15233  Homo sapiens                   paraspeckle   HGNC:7871     471   \n",
       "\n",
       "                                              sequence  geneid genesymbol  \\\n",
       "0    MEVEQEQRRRKVEAGRTKLAHFRQRKTKGDSSHSEKKTAKRKGSAV...    5116       PCNT   \n",
       "1    MEVEQEQRRRKVEAGRTKLAHFRQRKTKGDSSHSEKKTAKRKGSAV...    5116       PCNT   \n",
       "2    MEVEQEQRRRKVEAGRTKLAHFRQRKTKGDSSHSEKKTAKRKGSAV...    5116       PCNT   \n",
       "3    MEVEQEQRRRKVEAGRTKLAHFRQRKTKGDSSHSEKKTAKRKGSAV...    5116       PCNT   \n",
       "4    MEVEQEQRRRKVEAGRTKLAHFRQRKTKGDSSHSEKKTAKRKGSAV...    5116       PCNT   \n",
       "..                                                 ...     ...        ...   \n",
       "665  MANLGCWMLVLFVATWSDLGLCKKRPKPGGWNTGGSRYPGQGSPGG...    5621       PRNP   \n",
       "666  MANLGCWMLVLFVATWSDLGLCKKRPKPGGWNTGGSRYPGQGSPGG...    5621       PRNP   \n",
       "667  MEVTADQPRWVSHHHPAVLNGQHPDTHHPGLSHSYMDAAQYPLPEE...    2625      GATA3   \n",
       "668  MQSNKTFNLEKQNHTPRKHHQHHHQQQHHQQQQQQPPPPPIPANGQ...    4841       NONO   \n",
       "669  MQSNKTFNLEKQNHTPRKHHQHHHQQQHHQQQQQQPPPPPIPANGQ...    4841       NONO   \n",
       "\n",
       "          snpid  alleleid  ...  \\\n",
       "0     797045879    208751  ...   \n",
       "1    1064793985    410906  ...   \n",
       "2     759470656    578581  ...   \n",
       "3    1569162602    620680  ...   \n",
       "4    1214290914    620682  ...   \n",
       "..          ...       ...  ...   \n",
       "665   193922906     76402  ...   \n",
       "666   570683075    351108  ...   \n",
       "667  1588391546    805651  ...   \n",
       "668   751131066    446755  ...   \n",
       "669  1555950374    493310  ...   \n",
       "\n",
       "                                          phenotypeids  \\\n",
       "0                                                    -   \n",
       "1                                      MedGen:CN517202   \n",
       "2    MONDO:MONDO:0008872,MedGen:C0432246,OMIM:21072...   \n",
       "3    MONDO:MONDO:0008872,MedGen:C0432246,OMIM:21072...   \n",
       "4    MONDO:MONDO:0008872,MedGen:C0432246,OMIM:21072...   \n",
       "..                                                 ...   \n",
       "665  MONDO:MONDO:0018926,MedGen:C0162534,Orphanet:5...   \n",
       "666  MONDO:MONDO:0018926,MedGen:C0162534,Orphanet:5...   \n",
       "667                                    MedGen:CN517202   \n",
       "668                                    MedGen:CN517202   \n",
       "669                                    MedGen:CN517202   \n",
       "\n",
       "                                         phenotypelist             otherids  \\\n",
       "0                                                    -     ClinGen:CA251310   \n",
       "1                                         not provided   ClinGen:CA16621034   \n",
       "2    Microcephalic osteodysplastic primordial dwarf...                    -   \n",
       "3    Microcephalic osteodysplastic primordial dwarf...                    -   \n",
       "4    Microcephalic osteodysplastic primordial dwarf...                    -   \n",
       "..                                                 ...                  ...   \n",
       "665   Genetic prion diseases|Huntington disease-like 1     ClinGen:CA344807   \n",
       "666                             Genetic prion diseases    ClinGen:CA9752144   \n",
       "667                                       not provided                    -   \n",
       "668                                       not provided  ClinGen:CA331037122   \n",
       "669                                       not provided  ClinGen:CA658799797   \n",
       "\n",
       "                 cambio          aa  aa1  aa2  aa3  pos1 pos2  \n",
       "0         (p.Arg1646fs)       [Arg]  Arg  NaN  NaN  1646  NaN  \n",
       "1         (p.Ser2123fs)       [Ser]  Ser  NaN  NaN  2123  NaN  \n",
       "2        (p.Leu1141del)       [Leu]  Leu  NaN  NaN  1141  NaN  \n",
       "3          (p.Ser123fs)       [Ser]  Ser  NaN  NaN   123  NaN  \n",
       "4         (p.Asp2940fs)       [Asp]  Asp  NaN  NaN  2940  NaN  \n",
       "..                  ...         ...  ...  ...  ...   ...  ...  \n",
       "665  (p.Pro84_Gln91del)  [Pro, Gln]  Pro  Gln  NaN    84   91  \n",
       "666                 nan          []  NaN  NaN  NaN   NaN  NaN  \n",
       "667        (p.His380fs)       [His]  His  NaN  NaN   380  NaN  \n",
       "668       (p.Ala439dup)       [Ala]  Ala  NaN  NaN   439  NaN  \n",
       "669        (p.Gly399fs)       [Gly]  Gly  NaN  NaN   399  NaN  \n",
       "\n",
       "[670 rows x 23 columns]"
      ],
      "text/html": "<div>\n<style scoped>\n    .dataframe tbody tr th:only-of-type {\n        vertical-align: middle;\n    }\n\n    .dataframe tbody tr th {\n        vertical-align: top;\n    }\n\n    .dataframe thead th {\n        text-align: right;\n    }\n</style>\n<table border=\"1\" class=\"dataframe\">\n  <thead>\n    <tr style=\"text-align: right;\">\n      <th></th>\n      <th>uniprot</th>\n      <th>organism</th>\n      <th>mlo</th>\n      <th>hgnc_id</th>\n      <th>length</th>\n      <th>sequence</th>\n      <th>geneid</th>\n      <th>genesymbol</th>\n      <th>snpid</th>\n      <th>alleleid</th>\n      <th>...</th>\n      <th>phenotypeids</th>\n      <th>phenotypelist</th>\n      <th>otherids</th>\n      <th>cambio</th>\n      <th>aa</th>\n      <th>aa1</th>\n      <th>aa2</th>\n      <th>aa3</th>\n      <th>pos1</th>\n      <th>pos2</th>\n    </tr>\n  </thead>\n  <tbody>\n    <tr>\n      <th>0</th>\n      <td>O95613</td>\n      <td>Homo sapiens</td>\n      <td>centrosome/spindle pole body</td>\n      <td>HGNC:16068</td>\n      <td>3336</td>\n      <td>MEVEQEQRRRKVEAGRTKLAHFRQRKTKGDSSHSEKKTAKRKGSAV...</td>\n      <td>5116</td>\n      <td>PCNT</td>\n      <td>797045879</td>\n      <td>208751</td>\n      <td>...</td>\n      <td>-</td>\n      <td>-</td>\n      <td>ClinGen:CA251310</td>\n      <td>(p.Arg1646fs)</td>\n      <td>[Arg]</td>\n      <td>Arg</td>\n      <td>NaN</td>\n      <td>NaN</td>\n      <td>1646</td>\n      <td>NaN</td>\n    </tr>\n    <tr>\n      <th>1</th>\n      <td>O95613</td>\n      <td>Homo sapiens</td>\n      <td>centrosome/spindle pole body</td>\n      <td>HGNC:16068</td>\n      <td>3336</td>\n      <td>MEVEQEQRRRKVEAGRTKLAHFRQRKTKGDSSHSEKKTAKRKGSAV...</td>\n      <td>5116</td>\n      <td>PCNT</td>\n      <td>1064793985</td>\n      <td>410906</td>\n      <td>...</td>\n      <td>MedGen:CN517202</td>\n      <td>not provided</td>\n      <td>ClinGen:CA16621034</td>\n      <td>(p.Ser2123fs)</td>\n      <td>[Ser]</td>\n      <td>Ser</td>\n      <td>NaN</td>\n      <td>NaN</td>\n      <td>2123</td>\n      <td>NaN</td>\n    </tr>\n    <tr>\n      <th>2</th>\n      <td>O95613</td>\n      <td>Homo sapiens</td>\n      <td>centrosome/spindle pole body</td>\n      <td>HGNC:16068</td>\n      <td>3336</td>\n      <td>MEVEQEQRRRKVEAGRTKLAHFRQRKTKGDSSHSEKKTAKRKGSAV...</td>\n      <td>5116</td>\n      <td>PCNT</td>\n      <td>759470656</td>\n      <td>578581</td>\n      <td>...</td>\n      <td>MONDO:MONDO:0008872,MedGen:C0432246,OMIM:21072...</td>\n      <td>Microcephalic osteodysplastic primordial dwarf...</td>\n      <td>-</td>\n      <td>(p.Leu1141del)</td>\n      <td>[Leu]</td>\n      <td>Leu</td>\n      <td>NaN</td>\n      <td>NaN</td>\n      <td>1141</td>\n      <td>NaN</td>\n    </tr>\n    <tr>\n      <th>3</th>\n      <td>O95613</td>\n      <td>Homo sapiens</td>\n      <td>centrosome/spindle pole body</td>\n      <td>HGNC:16068</td>\n      <td>3336</td>\n      <td>MEVEQEQRRRKVEAGRTKLAHFRQRKTKGDSSHSEKKTAKRKGSAV...</td>\n      <td>5116</td>\n      <td>PCNT</td>\n      <td>1569162602</td>\n      <td>620680</td>\n      <td>...</td>\n      <td>MONDO:MONDO:0008872,MedGen:C0432246,OMIM:21072...</td>\n      <td>Microcephalic osteodysplastic primordial dwarf...</td>\n      <td>-</td>\n      <td>(p.Ser123fs)</td>\n      <td>[Ser]</td>\n      <td>Ser</td>\n      <td>NaN</td>\n      <td>NaN</td>\n      <td>123</td>\n      <td>NaN</td>\n    </tr>\n    <tr>\n      <th>4</th>\n      <td>O95613</td>\n      <td>Homo sapiens</td>\n      <td>centrosome/spindle pole body</td>\n      <td>HGNC:16068</td>\n      <td>3336</td>\n      <td>MEVEQEQRRRKVEAGRTKLAHFRQRKTKGDSSHSEKKTAKRKGSAV...</td>\n      <td>5116</td>\n      <td>PCNT</td>\n      <td>1214290914</td>\n      <td>620682</td>\n      <td>...</td>\n      <td>MONDO:MONDO:0008872,MedGen:C0432246,OMIM:21072...</td>\n      <td>Microcephalic osteodysplastic primordial dwarf...</td>\n      <td>-</td>\n      <td>(p.Asp2940fs)</td>\n      <td>[Asp]</td>\n      <td>Asp</td>\n      <td>NaN</td>\n      <td>NaN</td>\n      <td>2940</td>\n      <td>NaN</td>\n    </tr>\n    <tr>\n      <th>...</th>\n      <td>...</td>\n      <td>...</td>\n      <td>...</td>\n      <td>...</td>\n      <td>...</td>\n      <td>...</td>\n      <td>...</td>\n      <td>...</td>\n      <td>...</td>\n      <td>...</td>\n      <td>...</td>\n      <td>...</td>\n      <td>...</td>\n      <td>...</td>\n      <td>...</td>\n      <td>...</td>\n      <td>...</td>\n      <td>...</td>\n      <td>...</td>\n      <td>...</td>\n      <td>...</td>\n    </tr>\n    <tr>\n      <th>665</th>\n      <td>P04156</td>\n      <td>Homo sapiens</td>\n      <td>cytoplasmic protein granule</td>\n      <td>HGNC:9449</td>\n      <td>253</td>\n      <td>MANLGCWMLVLFVATWSDLGLCKKRPKPGGWNTGGSRYPGQGSPGG...</td>\n      <td>5621</td>\n      <td>PRNP</td>\n      <td>193922906</td>\n      <td>76402</td>\n      <td>...</td>\n      <td>MONDO:MONDO:0018926,MedGen:C0162534,Orphanet:5...</td>\n      <td>Genetic prion diseases|Huntington disease-like 1</td>\n      <td>ClinGen:CA344807</td>\n      <td>(p.Pro84_Gln91del)</td>\n      <td>[Pro, Gln]</td>\n      <td>Pro</td>\n      <td>Gln</td>\n      <td>NaN</td>\n      <td>84</td>\n      <td>91</td>\n    </tr>\n    <tr>\n      <th>666</th>\n      <td>P04156</td>\n      <td>Homo sapiens</td>\n      <td>cytoplasmic protein granule</td>\n      <td>HGNC:9449</td>\n      <td>253</td>\n      <td>MANLGCWMLVLFVATWSDLGLCKKRPKPGGWNTGGSRYPGQGSPGG...</td>\n      <td>5621</td>\n      <td>PRNP</td>\n      <td>570683075</td>\n      <td>351108</td>\n      <td>...</td>\n      <td>MONDO:MONDO:0018926,MedGen:C0162534,Orphanet:5...</td>\n      <td>Genetic prion diseases</td>\n      <td>ClinGen:CA9752144</td>\n      <td>nan</td>\n      <td>[]</td>\n      <td>NaN</td>\n      <td>NaN</td>\n      <td>NaN</td>\n      <td>NaN</td>\n      <td>NaN</td>\n    </tr>\n    <tr>\n      <th>667</th>\n      <td>P23771</td>\n      <td>Homo sapiens</td>\n      <td>enhanceosome</td>\n      <td>HGNC:4172</td>\n      <td>443</td>\n      <td>MEVTADQPRWVSHHHPAVLNGQHPDTHHPGLSHSYMDAAQYPLPEE...</td>\n      <td>2625</td>\n      <td>GATA3</td>\n      <td>1588391546</td>\n      <td>805651</td>\n      <td>...</td>\n      <td>MedGen:CN517202</td>\n      <td>not provided</td>\n      <td>-</td>\n      <td>(p.His380fs)</td>\n      <td>[His]</td>\n      <td>His</td>\n      <td>NaN</td>\n      <td>NaN</td>\n      <td>380</td>\n      <td>NaN</td>\n    </tr>\n    <tr>\n      <th>668</th>\n      <td>Q15233</td>\n      <td>Homo sapiens</td>\n      <td>paraspeckle</td>\n      <td>HGNC:7871</td>\n      <td>471</td>\n      <td>MQSNKTFNLEKQNHTPRKHHQHHHQQQHHQQQQQQPPPPPIPANGQ...</td>\n      <td>4841</td>\n      <td>NONO</td>\n      <td>751131066</td>\n      <td>446755</td>\n      <td>...</td>\n      <td>MedGen:CN517202</td>\n      <td>not provided</td>\n      <td>ClinGen:CA331037122</td>\n      <td>(p.Ala439dup)</td>\n      <td>[Ala]</td>\n      <td>Ala</td>\n      <td>NaN</td>\n      <td>NaN</td>\n      <td>439</td>\n      <td>NaN</td>\n    </tr>\n    <tr>\n      <th>669</th>\n      <td>Q15233</td>\n      <td>Homo sapiens</td>\n      <td>paraspeckle</td>\n      <td>HGNC:7871</td>\n      <td>471</td>\n      <td>MQSNKTFNLEKQNHTPRKHHQHHHQQQHHQQQQQQPPPPPIPANGQ...</td>\n      <td>4841</td>\n      <td>NONO</td>\n      <td>1555950374</td>\n      <td>493310</td>\n      <td>...</td>\n      <td>MedGen:CN517202</td>\n      <td>not provided</td>\n      <td>ClinGen:CA658799797</td>\n      <td>(p.Gly399fs)</td>\n      <td>[Gly]</td>\n      <td>Gly</td>\n      <td>NaN</td>\n      <td>NaN</td>\n      <td>399</td>\n      <td>NaN</td>\n    </tr>\n  </tbody>\n</table>\n<p>670 rows × 23 columns</p>\n</div>"
     },
     "metadata": {},
     "execution_count": 30
    }
   ],
   "source": [
    "# (SSR o STR, simple sequence repeat y short tandem repeat) \n",
    "micro_box = box.merge(micro)\n",
    "micro_box"
   ]
  },
  {
   "cell_type": "code",
   "execution_count": 156,
   "metadata": {},
   "outputs": [
    {
     "output_type": "execute_result",
     "data": {
      "text/plain": [
       "111"
      ]
     },
     "metadata": {},
     "execution_count": 156
    }
   ],
   "source": [
    "len(micro_box.uniprot.unique())"
   ]
  },
  {
   "cell_type": "code",
   "execution_count": 31,
   "metadata": {},
   "outputs": [],
   "source": [
    "micro_box.to_csv('datasets/clinvar_box1_micro.csv', index=False)"
   ]
  },
  {
   "cell_type": "code",
   "execution_count": 157,
   "metadata": {},
   "outputs": [
    {
     "output_type": "execute_result",
     "data": {
      "text/plain": [
       "396"
      ]
     },
     "metadata": {},
     "execution_count": 157
    }
   ],
   "source": [
    "len((box.merge(vs)).uniprot.unique())"
   ]
  },
  {
   "cell_type": "code",
   "execution_count": 163,
   "metadata": {},
   "outputs": [
    {
     "output_type": "execute_result",
     "data": {
      "text/plain": [
       "<matplotlib_venn._common.VennDiagram at 0x136b6f45a90>"
      ]
     },
     "metadata": {},
     "execution_count": 163
    },
    {
     "output_type": "display_data",
     "data": {
      "text/plain": "<Figure size 432x288 with 1 Axes>",
      "image/svg+xml": "<?xml version=\"1.0\" encoding=\"utf-8\" standalone=\"no\"?>\r\n<!DOCTYPE svg PUBLIC \"-//W3C//DTD SVG 1.1//EN\"\r\n  \"http://www.w3.org/Graphics/SVG/1.1/DTD/svg11.dtd\">\r\n<!-- Created with matplotlib (https://matplotlib.org/) -->\r\n<svg height=\"232.995132pt\" version=\"1.1\" viewBox=\"0 0 304.012584 232.995132\" width=\"304.012584pt\" xmlns=\"http://www.w3.org/2000/svg\" xmlns:xlink=\"http://www.w3.org/1999/xlink\">\r\n <metadata>\r\n  <rdf:RDF xmlns:cc=\"http://creativecommons.org/ns#\" xmlns:dc=\"http://purl.org/dc/elements/1.1/\" xmlns:rdf=\"http://www.w3.org/1999/02/22-rdf-syntax-ns#\">\r\n   <cc:Work>\r\n    <dc:type rdf:resource=\"http://purl.org/dc/dcmitype/StillImage\"/>\r\n    <dc:date>2021-04-06T09:56:24.827918</dc:date>\r\n    <dc:format>image/svg+xml</dc:format>\r\n    <dc:creator>\r\n     <cc:Agent>\r\n      <dc:title>Matplotlib v3.3.4, https://matplotlib.org/</dc:title>\r\n     </cc:Agent>\r\n    </dc:creator>\r\n   </cc:Work>\r\n  </rdf:RDF>\r\n </metadata>\r\n <defs>\r\n  <style type=\"text/css\">*{stroke-linecap:butt;stroke-linejoin:round;}</style>\r\n </defs>\r\n <g id=\"figure_1\">\r\n  <g id=\"patch_1\">\r\n   <path d=\"M 0 232.995132 \r\nL 304.012584 232.995132 \r\nL 304.012584 0 \r\nL 0 0 \r\nz\r\n\" style=\"fill:none;\"/>\r\n  </g>\r\n  <g id=\"axes_1\">\r\n   <g id=\"patch_2\">\r\n    <path clip-path=\"url(#p096ac69a23)\" d=\"M 152.006292 197.63515 \r\nC 136.168487 190.641004 122.700507 179.190977 113.249009 164.685002 \r\nC 103.79751 150.179026 98.764055 133.233409 98.764055 115.92 \r\nC 98.764055 98.606591 103.79751 81.660974 113.249009 67.154998 \r\nC 122.700507 52.649023 136.168487 41.198996 152.006292 34.20485 \r\nC 138.40886 28.200078 123.525246 25.683124 108.709448 26.882962 \r\nC 93.893651 28.082801 79.608998 32.96191 67.154998 41.076425 \r\nC 54.700999 49.19094 44.467121 60.287099 37.384365 73.355459 \r\nC 30.301609 86.423819 26.591471 101.055699 26.591471 115.92 \r\nC 26.591471 130.784301 30.301609 145.416181 37.384365 158.484541 \r\nC 44.467121 171.552901 54.700999 182.64906 67.154998 190.763575 \r\nC 79.608998 198.87809 93.893651 203.757199 108.709448 204.957038 \r\nC 123.525246 206.156876 138.40886 203.639922 152.006292 197.63515 \r\n\" style=\"fill:#ff0000;opacity:0.4;\"/>\r\n   </g>\r\n   <g id=\"patch_3\">\r\n    <path clip-path=\"url(#p096ac69a23)\" d=\"M 152.006292 34.20485 \r\nC 167.844097 41.198996 181.312077 52.649023 190.763575 67.154998 \r\nC 200.215073 81.660974 205.248529 98.606591 205.248529 115.92 \r\nC 205.248529 133.233409 200.215073 150.179026 190.763575 164.685002 \r\nC 181.312077 179.190977 167.844097 190.641004 152.006292 197.63515 \r\nC 165.603724 203.639922 180.487338 206.156876 195.303135 204.957038 \r\nC 210.118932 203.757199 224.403586 198.87809 236.857585 190.763575 \r\nC 249.311585 182.64906 259.545463 171.552901 266.628219 158.484541 \r\nC 273.710975 145.416181 277.421113 130.784301 277.421113 115.92 \r\nC 277.421113 101.055699 273.710975 86.423819 266.628219 73.355459 \r\nC 259.545463 60.287099 249.311585 49.19094 236.857585 41.076425 \r\nC 224.403586 32.96191 210.118932 28.082801 195.303135 26.882962 \r\nC 180.487338 25.683124 165.603724 28.200078 152.006292 34.20485 \r\n\" style=\"fill:#008000;opacity:0.4;\"/>\r\n   </g>\r\n   <g id=\"patch_4\">\r\n    <path clip-path=\"url(#p096ac69a23)\" d=\"M 152.006292 197.63515 \r\nC 167.844097 190.641004 181.312077 179.190977 190.763575 164.685002 \r\nC 200.215073 150.179026 205.248529 133.233409 205.248529 115.92 \r\nC 205.248529 98.606591 200.215073 81.660974 190.763575 67.154998 \r\nC 181.312077 52.649023 167.844097 41.198996 152.006292 34.20485 \r\nC 136.168487 41.198996 122.700507 52.649023 113.249009 67.154998 \r\nC 103.79751 81.660974 98.764055 98.606591 98.764055 115.92 \r\nC 98.764055 133.233409 103.79751 150.179026 113.249009 164.685002 \r\nC 122.700507 179.190977 136.168487 190.641004 152.006292 197.63515 \r\n\" style=\"fill:#b25900;opacity:0.4;\"/>\r\n   </g>\r\n   <g id=\"text_1\">\r\n    <!-- 697386 -->\r\n    <g transform=\"translate(43.590263 118.679375)scale(0.1 -0.1)\">\r\n     <defs>\r\n      <path d=\"M 33.015625 40.375 \r\nQ 26.375 40.375 22.484375 35.828125 \r\nQ 18.609375 31.296875 18.609375 23.390625 \r\nQ 18.609375 15.53125 22.484375 10.953125 \r\nQ 26.375 6.390625 33.015625 6.390625 \r\nQ 39.65625 6.390625 43.53125 10.953125 \r\nQ 47.40625 15.53125 47.40625 23.390625 \r\nQ 47.40625 31.296875 43.53125 35.828125 \r\nQ 39.65625 40.375 33.015625 40.375 \r\nz\r\nM 52.59375 71.296875 \r\nL 52.59375 62.3125 \r\nQ 48.875 64.0625 45.09375 64.984375 \r\nQ 41.3125 65.921875 37.59375 65.921875 \r\nQ 27.828125 65.921875 22.671875 59.328125 \r\nQ 17.53125 52.734375 16.796875 39.40625 \r\nQ 19.671875 43.65625 24.015625 45.921875 \r\nQ 28.375 48.1875 33.59375 48.1875 \r\nQ 44.578125 48.1875 50.953125 41.515625 \r\nQ 57.328125 34.859375 57.328125 23.390625 \r\nQ 57.328125 12.15625 50.6875 5.359375 \r\nQ 44.046875 -1.421875 33.015625 -1.421875 \r\nQ 20.359375 -1.421875 13.671875 8.265625 \r\nQ 6.984375 17.96875 6.984375 36.375 \r\nQ 6.984375 53.65625 15.1875 63.9375 \r\nQ 23.390625 74.21875 37.203125 74.21875 \r\nQ 40.921875 74.21875 44.703125 73.484375 \r\nQ 48.484375 72.75 52.59375 71.296875 \r\nz\r\n\" id=\"DejaVuSans-54\"/>\r\n      <path d=\"M 10.984375 1.515625 \r\nL 10.984375 10.5 \r\nQ 14.703125 8.734375 18.5 7.8125 \r\nQ 22.3125 6.890625 25.984375 6.890625 \r\nQ 35.75 6.890625 40.890625 13.453125 \r\nQ 46.046875 20.015625 46.78125 33.40625 \r\nQ 43.953125 29.203125 39.59375 26.953125 \r\nQ 35.25 24.703125 29.984375 24.703125 \r\nQ 19.046875 24.703125 12.671875 31.3125 \r\nQ 6.296875 37.9375 6.296875 49.421875 \r\nQ 6.296875 60.640625 12.9375 67.421875 \r\nQ 19.578125 74.21875 30.609375 74.21875 \r\nQ 43.265625 74.21875 49.921875 64.515625 \r\nQ 56.59375 54.828125 56.59375 36.375 \r\nQ 56.59375 19.140625 48.40625 8.859375 \r\nQ 40.234375 -1.421875 26.421875 -1.421875 \r\nQ 22.703125 -1.421875 18.890625 -0.6875 \r\nQ 15.09375 0.046875 10.984375 1.515625 \r\nz\r\nM 30.609375 32.421875 \r\nQ 37.25 32.421875 41.125 36.953125 \r\nQ 45.015625 41.5 45.015625 49.421875 \r\nQ 45.015625 57.28125 41.125 61.84375 \r\nQ 37.25 66.40625 30.609375 66.40625 \r\nQ 23.96875 66.40625 20.09375 61.84375 \r\nQ 16.21875 57.28125 16.21875 49.421875 \r\nQ 16.21875 41.5 20.09375 36.953125 \r\nQ 23.96875 32.421875 30.609375 32.421875 \r\nz\r\n\" id=\"DejaVuSans-57\"/>\r\n      <path d=\"M 8.203125 72.90625 \r\nL 55.078125 72.90625 \r\nL 55.078125 68.703125 \r\nL 28.609375 0 \r\nL 18.3125 0 \r\nL 43.21875 64.59375 \r\nL 8.203125 64.59375 \r\nz\r\n\" id=\"DejaVuSans-55\"/>\r\n      <path d=\"M 40.578125 39.3125 \r\nQ 47.65625 37.796875 51.625 33 \r\nQ 55.609375 28.21875 55.609375 21.1875 \r\nQ 55.609375 10.40625 48.1875 4.484375 \r\nQ 40.765625 -1.421875 27.09375 -1.421875 \r\nQ 22.515625 -1.421875 17.65625 -0.515625 \r\nQ 12.796875 0.390625 7.625 2.203125 \r\nL 7.625 11.71875 \r\nQ 11.71875 9.328125 16.59375 8.109375 \r\nQ 21.484375 6.890625 26.8125 6.890625 \r\nQ 36.078125 6.890625 40.9375 10.546875 \r\nQ 45.796875 14.203125 45.796875 21.1875 \r\nQ 45.796875 27.640625 41.28125 31.265625 \r\nQ 36.765625 34.90625 28.71875 34.90625 \r\nL 20.21875 34.90625 \r\nL 20.21875 43.015625 \r\nL 29.109375 43.015625 \r\nQ 36.375 43.015625 40.234375 45.921875 \r\nQ 44.09375 48.828125 44.09375 54.296875 \r\nQ 44.09375 59.90625 40.109375 62.90625 \r\nQ 36.140625 65.921875 28.71875 65.921875 \r\nQ 24.65625 65.921875 20.015625 65.03125 \r\nQ 15.375 64.15625 9.8125 62.3125 \r\nL 9.8125 71.09375 \r\nQ 15.4375 72.65625 20.34375 73.4375 \r\nQ 25.25 74.21875 29.59375 74.21875 \r\nQ 40.828125 74.21875 47.359375 69.109375 \r\nQ 53.90625 64.015625 53.90625 55.328125 \r\nQ 53.90625 49.265625 50.4375 45.09375 \r\nQ 46.96875 40.921875 40.578125 39.3125 \r\nz\r\n\" id=\"DejaVuSans-51\"/>\r\n      <path d=\"M 31.78125 34.625 \r\nQ 24.75 34.625 20.71875 30.859375 \r\nQ 16.703125 27.09375 16.703125 20.515625 \r\nQ 16.703125 13.921875 20.71875 10.15625 \r\nQ 24.75 6.390625 31.78125 6.390625 \r\nQ 38.8125 6.390625 42.859375 10.171875 \r\nQ 46.921875 13.96875 46.921875 20.515625 \r\nQ 46.921875 27.09375 42.890625 30.859375 \r\nQ 38.875 34.625 31.78125 34.625 \r\nz\r\nM 21.921875 38.8125 \r\nQ 15.578125 40.375 12.03125 44.71875 \r\nQ 8.5 49.078125 8.5 55.328125 \r\nQ 8.5 64.0625 14.71875 69.140625 \r\nQ 20.953125 74.21875 31.78125 74.21875 \r\nQ 42.671875 74.21875 48.875 69.140625 \r\nQ 55.078125 64.0625 55.078125 55.328125 \r\nQ 55.078125 49.078125 51.53125 44.71875 \r\nQ 48 40.375 41.703125 38.8125 \r\nQ 48.828125 37.15625 52.796875 32.3125 \r\nQ 56.78125 27.484375 56.78125 20.515625 \r\nQ 56.78125 9.90625 50.3125 4.234375 \r\nQ 43.84375 -1.421875 31.78125 -1.421875 \r\nQ 19.734375 -1.421875 13.25 4.234375 \r\nQ 6.78125 9.90625 6.78125 20.515625 \r\nQ 6.78125 27.484375 10.78125 32.3125 \r\nQ 14.796875 37.15625 21.921875 38.8125 \r\nz\r\nM 18.3125 54.390625 \r\nQ 18.3125 48.734375 21.84375 45.5625 \r\nQ 25.390625 42.390625 31.78125 42.390625 \r\nQ 38.140625 42.390625 41.71875 45.5625 \r\nQ 45.3125 48.734375 45.3125 54.390625 \r\nQ 45.3125 60.0625 41.71875 63.234375 \r\nQ 38.140625 66.40625 31.78125 66.40625 \r\nQ 25.390625 66.40625 21.84375 63.234375 \r\nQ 18.3125 60.0625 18.3125 54.390625 \r\nz\r\n\" id=\"DejaVuSans-56\"/>\r\n     </defs>\r\n     <use xlink:href=\"#DejaVuSans-54\"/>\r\n     <use x=\"63.623047\" xlink:href=\"#DejaVuSans-57\"/>\r\n     <use x=\"127.246094\" xlink:href=\"#DejaVuSans-55\"/>\r\n     <use x=\"190.869141\" xlink:href=\"#DejaVuSans-51\"/>\r\n     <use x=\"254.492188\" xlink:href=\"#DejaVuSans-56\"/>\r\n     <use x=\"318.115234\" xlink:href=\"#DejaVuSans-54\"/>\r\n    </g>\r\n   </g>\r\n   <g id=\"text_2\">\r\n    <!-- 589 -->\r\n    <g transform=\"translate(231.791071 118.679375)scale(0.1 -0.1)\">\r\n     <defs>\r\n      <path d=\"M 10.796875 72.90625 \r\nL 49.515625 72.90625 \r\nL 49.515625 64.59375 \r\nL 19.828125 64.59375 \r\nL 19.828125 46.734375 \r\nQ 21.96875 47.46875 24.109375 47.828125 \r\nQ 26.265625 48.1875 28.421875 48.1875 \r\nQ 40.625 48.1875 47.75 41.5 \r\nQ 54.890625 34.8125 54.890625 23.390625 \r\nQ 54.890625 11.625 47.5625 5.09375 \r\nQ 40.234375 -1.421875 26.90625 -1.421875 \r\nQ 22.3125 -1.421875 17.546875 -0.640625 \r\nQ 12.796875 0.140625 7.71875 1.703125 \r\nL 7.71875 11.625 \r\nQ 12.109375 9.234375 16.796875 8.0625 \r\nQ 21.484375 6.890625 26.703125 6.890625 \r\nQ 35.15625 6.890625 40.078125 11.328125 \r\nQ 45.015625 15.765625 45.015625 23.390625 \r\nQ 45.015625 31 40.078125 35.4375 \r\nQ 35.15625 39.890625 26.703125 39.890625 \r\nQ 22.75 39.890625 18.8125 39.015625 \r\nQ 14.890625 38.140625 10.796875 36.28125 \r\nz\r\n\" id=\"DejaVuSans-53\"/>\r\n     </defs>\r\n     <use xlink:href=\"#DejaVuSans-53\"/>\r\n     <use x=\"63.623047\" xlink:href=\"#DejaVuSans-56\"/>\r\n     <use x=\"127.246094\" xlink:href=\"#DejaVuSans-57\"/>\r\n    </g>\r\n   </g>\r\n   <g id=\"text_3\">\r\n    <!-- 317 -->\r\n    <g transform=\"translate(142.462542 118.679375)scale(0.1 -0.1)\">\r\n     <defs>\r\n      <path d=\"M 12.40625 8.296875 \r\nL 28.515625 8.296875 \r\nL 28.515625 63.921875 \r\nL 10.984375 60.40625 \r\nL 10.984375 69.390625 \r\nL 28.421875 72.90625 \r\nL 38.28125 72.90625 \r\nL 38.28125 8.296875 \r\nL 54.390625 8.296875 \r\nL 54.390625 0 \r\nL 12.40625 0 \r\nz\r\n\" id=\"DejaVuSans-49\"/>\r\n     </defs>\r\n     <use xlink:href=\"#DejaVuSans-51\"/>\r\n     <use x=\"63.623047\" xlink:href=\"#DejaVuSans-49\"/>\r\n     <use x=\"127.246094\" xlink:href=\"#DejaVuSans-55\"/>\r\n    </g>\r\n   </g>\r\n   <g id=\"text_4\">\r\n    <!-- SNVs in ClinVar -->\r\n    <g transform=\"translate(24.080625 223.299507)scale(0.12 -0.12)\">\r\n     <defs>\r\n      <path d=\"M 53.515625 70.515625 \r\nL 53.515625 60.890625 \r\nQ 47.90625 63.578125 42.921875 64.890625 \r\nQ 37.9375 66.21875 33.296875 66.21875 \r\nQ 25.25 66.21875 20.875 63.09375 \r\nQ 16.5 59.96875 16.5 54.203125 \r\nQ 16.5 49.359375 19.40625 46.890625 \r\nQ 22.3125 44.4375 30.421875 42.921875 \r\nL 36.375 41.703125 \r\nQ 47.40625 39.59375 52.65625 34.296875 \r\nQ 57.90625 29 57.90625 20.125 \r\nQ 57.90625 9.515625 50.796875 4.046875 \r\nQ 43.703125 -1.421875 29.984375 -1.421875 \r\nQ 24.8125 -1.421875 18.96875 -0.25 \r\nQ 13.140625 0.921875 6.890625 3.21875 \r\nL 6.890625 13.375 \r\nQ 12.890625 10.015625 18.65625 8.296875 \r\nQ 24.421875 6.59375 29.984375 6.59375 \r\nQ 38.421875 6.59375 43.015625 9.90625 \r\nQ 47.609375 13.234375 47.609375 19.390625 \r\nQ 47.609375 24.75 44.3125 27.78125 \r\nQ 41.015625 30.8125 33.5 32.328125 \r\nL 27.484375 33.5 \r\nQ 16.453125 35.6875 11.515625 40.375 \r\nQ 6.59375 45.0625 6.59375 53.421875 \r\nQ 6.59375 63.09375 13.40625 68.65625 \r\nQ 20.21875 74.21875 32.171875 74.21875 \r\nQ 37.3125 74.21875 42.625 73.28125 \r\nQ 47.953125 72.359375 53.515625 70.515625 \r\nz\r\n\" id=\"DejaVuSans-83\"/>\r\n      <path d=\"M 9.8125 72.90625 \r\nL 23.09375 72.90625 \r\nL 55.421875 11.921875 \r\nL 55.421875 72.90625 \r\nL 64.984375 72.90625 \r\nL 64.984375 0 \r\nL 51.703125 0 \r\nL 19.390625 60.984375 \r\nL 19.390625 0 \r\nL 9.8125 0 \r\nz\r\n\" id=\"DejaVuSans-78\"/>\r\n      <path d=\"M 28.609375 0 \r\nL 0.78125 72.90625 \r\nL 11.078125 72.90625 \r\nL 34.1875 11.53125 \r\nL 57.328125 72.90625 \r\nL 67.578125 72.90625 \r\nL 39.796875 0 \r\nz\r\n\" id=\"DejaVuSans-86\"/>\r\n      <path d=\"M 44.28125 53.078125 \r\nL 44.28125 44.578125 \r\nQ 40.484375 46.53125 36.375 47.5 \r\nQ 32.28125 48.484375 27.875 48.484375 \r\nQ 21.1875 48.484375 17.84375 46.4375 \r\nQ 14.5 44.390625 14.5 40.28125 \r\nQ 14.5 37.15625 16.890625 35.375 \r\nQ 19.28125 33.59375 26.515625 31.984375 \r\nL 29.59375 31.296875 \r\nQ 39.15625 29.25 43.1875 25.515625 \r\nQ 47.21875 21.78125 47.21875 15.09375 \r\nQ 47.21875 7.46875 41.1875 3.015625 \r\nQ 35.15625 -1.421875 24.609375 -1.421875 \r\nQ 20.21875 -1.421875 15.453125 -0.5625 \r\nQ 10.6875 0.296875 5.421875 2 \r\nL 5.421875 11.28125 \r\nQ 10.40625 8.6875 15.234375 7.390625 \r\nQ 20.0625 6.109375 24.8125 6.109375 \r\nQ 31.15625 6.109375 34.5625 8.28125 \r\nQ 37.984375 10.453125 37.984375 14.40625 \r\nQ 37.984375 18.0625 35.515625 20.015625 \r\nQ 33.0625 21.96875 24.703125 23.78125 \r\nL 21.578125 24.515625 \r\nQ 13.234375 26.265625 9.515625 29.90625 \r\nQ 5.8125 33.546875 5.8125 39.890625 \r\nQ 5.8125 47.609375 11.28125 51.796875 \r\nQ 16.75 56 26.8125 56 \r\nQ 31.78125 56 36.171875 55.265625 \r\nQ 40.578125 54.546875 44.28125 53.078125 \r\nz\r\n\" id=\"DejaVuSans-115\"/>\r\n      <path id=\"DejaVuSans-32\"/>\r\n      <path d=\"M 9.421875 54.6875 \r\nL 18.40625 54.6875 \r\nL 18.40625 0 \r\nL 9.421875 0 \r\nz\r\nM 9.421875 75.984375 \r\nL 18.40625 75.984375 \r\nL 18.40625 64.59375 \r\nL 9.421875 64.59375 \r\nz\r\n\" id=\"DejaVuSans-105\"/>\r\n      <path d=\"M 54.890625 33.015625 \r\nL 54.890625 0 \r\nL 45.90625 0 \r\nL 45.90625 32.71875 \r\nQ 45.90625 40.484375 42.875 44.328125 \r\nQ 39.84375 48.1875 33.796875 48.1875 \r\nQ 26.515625 48.1875 22.3125 43.546875 \r\nQ 18.109375 38.921875 18.109375 30.90625 \r\nL 18.109375 0 \r\nL 9.078125 0 \r\nL 9.078125 54.6875 \r\nL 18.109375 54.6875 \r\nL 18.109375 46.1875 \r\nQ 21.34375 51.125 25.703125 53.5625 \r\nQ 30.078125 56 35.796875 56 \r\nQ 45.21875 56 50.046875 50.171875 \r\nQ 54.890625 44.34375 54.890625 33.015625 \r\nz\r\n\" id=\"DejaVuSans-110\"/>\r\n      <path d=\"M 64.40625 67.28125 \r\nL 64.40625 56.890625 \r\nQ 59.421875 61.53125 53.78125 63.8125 \r\nQ 48.140625 66.109375 41.796875 66.109375 \r\nQ 29.296875 66.109375 22.65625 58.46875 \r\nQ 16.015625 50.828125 16.015625 36.375 \r\nQ 16.015625 21.96875 22.65625 14.328125 \r\nQ 29.296875 6.6875 41.796875 6.6875 \r\nQ 48.140625 6.6875 53.78125 8.984375 \r\nQ 59.421875 11.28125 64.40625 15.921875 \r\nL 64.40625 5.609375 \r\nQ 59.234375 2.09375 53.4375 0.328125 \r\nQ 47.65625 -1.421875 41.21875 -1.421875 \r\nQ 24.65625 -1.421875 15.125 8.703125 \r\nQ 5.609375 18.84375 5.609375 36.375 \r\nQ 5.609375 53.953125 15.125 64.078125 \r\nQ 24.65625 74.21875 41.21875 74.21875 \r\nQ 47.75 74.21875 53.53125 72.484375 \r\nQ 59.328125 70.75 64.40625 67.28125 \r\nz\r\n\" id=\"DejaVuSans-67\"/>\r\n      <path d=\"M 9.421875 75.984375 \r\nL 18.40625 75.984375 \r\nL 18.40625 0 \r\nL 9.421875 0 \r\nz\r\n\" id=\"DejaVuSans-108\"/>\r\n      <path d=\"M 34.28125 27.484375 \r\nQ 23.390625 27.484375 19.1875 25 \r\nQ 14.984375 22.515625 14.984375 16.5 \r\nQ 14.984375 11.71875 18.140625 8.90625 \r\nQ 21.296875 6.109375 26.703125 6.109375 \r\nQ 34.1875 6.109375 38.703125 11.40625 \r\nQ 43.21875 16.703125 43.21875 25.484375 \r\nL 43.21875 27.484375 \r\nz\r\nM 52.203125 31.203125 \r\nL 52.203125 0 \r\nL 43.21875 0 \r\nL 43.21875 8.296875 \r\nQ 40.140625 3.328125 35.546875 0.953125 \r\nQ 30.953125 -1.421875 24.3125 -1.421875 \r\nQ 15.921875 -1.421875 10.953125 3.296875 \r\nQ 6 8.015625 6 15.921875 \r\nQ 6 25.140625 12.171875 29.828125 \r\nQ 18.359375 34.515625 30.609375 34.515625 \r\nL 43.21875 34.515625 \r\nL 43.21875 35.40625 \r\nQ 43.21875 41.609375 39.140625 45 \r\nQ 35.0625 48.390625 27.6875 48.390625 \r\nQ 23 48.390625 18.546875 47.265625 \r\nQ 14.109375 46.140625 10.015625 43.890625 \r\nL 10.015625 52.203125 \r\nQ 14.9375 54.109375 19.578125 55.046875 \r\nQ 24.21875 56 28.609375 56 \r\nQ 40.484375 56 46.34375 49.84375 \r\nQ 52.203125 43.703125 52.203125 31.203125 \r\nz\r\n\" id=\"DejaVuSans-97\"/>\r\n      <path d=\"M 41.109375 46.296875 \r\nQ 39.59375 47.171875 37.8125 47.578125 \r\nQ 36.03125 48 33.890625 48 \r\nQ 26.265625 48 22.1875 43.046875 \r\nQ 18.109375 38.09375 18.109375 28.8125 \r\nL 18.109375 0 \r\nL 9.078125 0 \r\nL 9.078125 54.6875 \r\nL 18.109375 54.6875 \r\nL 18.109375 46.1875 \r\nQ 20.953125 51.171875 25.484375 53.578125 \r\nQ 30.03125 56 36.53125 56 \r\nQ 37.453125 56 38.578125 55.875 \r\nQ 39.703125 55.765625 41.0625 55.515625 \r\nz\r\n\" id=\"DejaVuSans-114\"/>\r\n     </defs>\r\n     <use xlink:href=\"#DejaVuSans-83\"/>\r\n     <use x=\"63.476562\" xlink:href=\"#DejaVuSans-78\"/>\r\n     <use x=\"138.28125\" xlink:href=\"#DejaVuSans-86\"/>\r\n     <use x=\"206.689453\" xlink:href=\"#DejaVuSans-115\"/>\r\n     <use x=\"258.789062\" xlink:href=\"#DejaVuSans-32\"/>\r\n     <use x=\"290.576172\" xlink:href=\"#DejaVuSans-105\"/>\r\n     <use x=\"318.359375\" xlink:href=\"#DejaVuSans-110\"/>\r\n     <use x=\"381.738281\" xlink:href=\"#DejaVuSans-32\"/>\r\n     <use x=\"413.525391\" xlink:href=\"#DejaVuSans-67\"/>\r\n     <use x=\"483.349609\" xlink:href=\"#DejaVuSans-108\"/>\r\n     <use x=\"511.132812\" xlink:href=\"#DejaVuSans-105\"/>\r\n     <use x=\"538.916016\" xlink:href=\"#DejaVuSans-110\"/>\r\n     <use x=\"602.294922\" xlink:href=\"#DejaVuSans-86\"/>\r\n     <use x=\"662.953125\" xlink:href=\"#DejaVuSans-97\"/>\r\n     <use x=\"724.232422\" xlink:href=\"#DejaVuSans-114\"/>\r\n    </g>\r\n   </g>\r\n   <g id=\"text_5\">\r\n    <!-- Box 1 -->\r\n    <g transform=\"translate(188.092584 223.299507)scale(0.12 -0.12)\">\r\n     <defs>\r\n      <path d=\"M 19.671875 34.8125 \r\nL 19.671875 8.109375 \r\nL 35.5 8.109375 \r\nQ 43.453125 8.109375 47.28125 11.40625 \r\nQ 51.125 14.703125 51.125 21.484375 \r\nQ 51.125 28.328125 47.28125 31.5625 \r\nQ 43.453125 34.8125 35.5 34.8125 \r\nz\r\nM 19.671875 64.796875 \r\nL 19.671875 42.828125 \r\nL 34.28125 42.828125 \r\nQ 41.5 42.828125 45.03125 45.53125 \r\nQ 48.578125 48.25 48.578125 53.8125 \r\nQ 48.578125 59.328125 45.03125 62.0625 \r\nQ 41.5 64.796875 34.28125 64.796875 \r\nz\r\nM 9.8125 72.90625 \r\nL 35.015625 72.90625 \r\nQ 46.296875 72.90625 52.390625 68.21875 \r\nQ 58.5 63.53125 58.5 54.890625 \r\nQ 58.5 48.1875 55.375 44.234375 \r\nQ 52.25 40.28125 46.1875 39.3125 \r\nQ 53.46875 37.75 57.5 32.78125 \r\nQ 61.53125 27.828125 61.53125 20.40625 \r\nQ 61.53125 10.640625 54.890625 5.3125 \r\nQ 48.25 0 35.984375 0 \r\nL 9.8125 0 \r\nz\r\n\" id=\"DejaVuSans-66\"/>\r\n      <path d=\"M 30.609375 48.390625 \r\nQ 23.390625 48.390625 19.1875 42.75 \r\nQ 14.984375 37.109375 14.984375 27.296875 \r\nQ 14.984375 17.484375 19.15625 11.84375 \r\nQ 23.34375 6.203125 30.609375 6.203125 \r\nQ 37.796875 6.203125 41.984375 11.859375 \r\nQ 46.1875 17.53125 46.1875 27.296875 \r\nQ 46.1875 37.015625 41.984375 42.703125 \r\nQ 37.796875 48.390625 30.609375 48.390625 \r\nz\r\nM 30.609375 56 \r\nQ 42.328125 56 49.015625 48.375 \r\nQ 55.71875 40.765625 55.71875 27.296875 \r\nQ 55.71875 13.875 49.015625 6.21875 \r\nQ 42.328125 -1.421875 30.609375 -1.421875 \r\nQ 18.84375 -1.421875 12.171875 6.21875 \r\nQ 5.515625 13.875 5.515625 27.296875 \r\nQ 5.515625 40.765625 12.171875 48.375 \r\nQ 18.84375 56 30.609375 56 \r\nz\r\n\" id=\"DejaVuSans-111\"/>\r\n      <path d=\"M 54.890625 54.6875 \r\nL 35.109375 28.078125 \r\nL 55.90625 0 \r\nL 45.3125 0 \r\nL 29.390625 21.484375 \r\nL 13.484375 0 \r\nL 2.875 0 \r\nL 24.125 28.609375 \r\nL 4.6875 54.6875 \r\nL 15.28125 54.6875 \r\nL 29.78125 35.203125 \r\nL 44.28125 54.6875 \r\nz\r\n\" id=\"DejaVuSans-120\"/>\r\n     </defs>\r\n     <use xlink:href=\"#DejaVuSans-66\"/>\r\n     <use x=\"68.603516\" xlink:href=\"#DejaVuSans-111\"/>\r\n     <use x=\"126.660156\" xlink:href=\"#DejaVuSans-120\"/>\r\n     <use x=\"185.839844\" xlink:href=\"#DejaVuSans-32\"/>\r\n     <use x=\"217.626953\" xlink:href=\"#DejaVuSans-49\"/>\r\n    </g>\r\n   </g>\r\n  </g>\r\n </g>\r\n <defs>\r\n  <clipPath id=\"p096ac69a23\">\r\n   <rect height=\"217.44\" width=\"289.612584\" x=\"7.2\" y=\"7.2\"/>\r\n  </clipPath>\r\n </defs>\r\n</svg>\r\n",
      "image/png": "[encoded data removed]"
     },
     "metadata": {}
    }
   ],
   "source": [
    "mv.venn2_unweighted(subsets = (len(snvs), len(box), len(box_snvs.uniprot.unique())), set_labels = ('SNVs in ClinVar', 'Box 1'), alpha= 0.4)"
   ]
  },
  {
   "cell_type": "code",
   "execution_count": 24,
   "metadata": {},
   "outputs": [
    {
     "output_type": "execute_result",
     "data": {
      "text/plain": [
       "germline            26627\n",
       "unknown               366\n",
       "germline/somatic      276\n",
       "somatic               270\n",
       "not provided          225\n",
       "not applicable         11\n",
       "Name: origin, dtype: int64"
      ]
     },
     "metadata": {},
     "execution_count": 24
    }
   ],
   "source": [
    "box_snvs.origin.value_counts()"
   ]
  },
  {
   "source": [
    "### Esto de abajo es para generar una sola tabla con todo(dominios, mutaciones, etc..), pero se termina haciendo un quilombo muy grande  \n",
    "### Mejor dividir en varias tablas"
   ],
   "cell_type": "markdown",
   "metadata": {}
  },
  {
   "cell_type": "code",
   "execution_count": null,
   "metadata": {},
   "outputs": [],
   "source": [
    "#Merge con pfam\n",
    "pfam = box_snv1.merge(pfam_box, on='uniprot')\n",
    "#Variantes que caen en dominios\n",
    "pfam['in_dom'] = False\n",
    "for i in pfam.index:\n",
    "    if str(pfam.pos[i]) != 'nan':\n",
    "        if (int(pfam.pos[i]) >= pfam.pfam_start[i]) & (int(pfam.pos[i]) <= pfam.pfam_end[i]):\n",
    "            pfam.in_dom[i] = True\n",
    "        else:\n",
    "            pfam.in_dom[i] = False\n",
    "\n",
    "pfam = pfam[pfam.in_dom == True]"
   ]
  },
  {
   "cell_type": "code",
   "execution_count": null,
   "metadata": {},
   "outputs": [],
   "source": [
    "#Merge con Low Complexity\n",
    "lc = box_snv1.merge(lc_box, on='uniprot')\n",
    "lc['in_lc'] = False\n",
    "for i in lc.index:\n",
    "    if str(lc.pos[i]) != 'nan':\n",
    "        if (int(lc.pos[i]) >= lc.lc_start[i]) & (int(lc.pos[i]) <= lc.lc_end[i]):\n",
    "            lc.in_lc[i] = True\n",
    "        else:\n",
    "            lc.in_lc[i] = False\n",
    "\n",
    "lc = lc[lc.in_lc == True]\n"
   ]
  },
  {
   "cell_type": "code",
   "execution_count": null,
   "metadata": {},
   "outputs": [],
   "source": [
    "#Merge con IDRs\n",
    "idr= box_snv1.merge(idr_box, on='uniprot')\n",
    "idr['in_idr'] = False\n",
    "for i in idr.index:\n",
    "    if str(idr.pos[i]) != 'nan':\n",
    "        if (int(idr.pos[i]) >= idr.idr_start[i]) & (int(idr.pos[i]) <= idr.idr_end[i]):\n",
    "            idr.in_idr[i] = True\n",
    "        else:\n",
    "            idr.in_idr[i] = False\n",
    "\n",
    "idr = idr[idr.in_idr == True]"
   ]
  },
  {
   "cell_type": "code",
   "execution_count": null,
   "metadata": {},
   "outputs": [],
   "source": [
    "#MERGE de las tres tablas\n",
    "df_list = [pfam, lc, idr]\n",
    "dom_merged = reduce(lambda left, right: pd.merge(left, right, on=['uniprot', 'genesymbol', 'snpid', 'type', 'origin', 'ctrl', 'aa1', 'pos', 'aa2'], how='outer'), df_list)\n",
    "dom_merged = dom_merged.astype({\"pos\": np.int64})\n",
    "dom_merged.to_csv('clivar_snv_dominios.csv', sep=',', index=False)"
   ]
  },
  {
   "cell_type": "code",
   "execution_count": 176,
   "metadata": {},
   "outputs": [
    {
     "output_type": "execute_result",
     "data": {
      "text/plain": [
       "     uniprot      organism        mlo     hgnc_id  geneid genesymbol  \\\n",
       "9728  O14746  Homo sapiens  nucleolus  HGNC:11730  7015.0       TERT   \n",
       "\n",
       "             snpid  alleleid                       type  \\\n",
       "9728  1.554041e+09   47709.0  single nucleotide variant   \n",
       "\n",
       "                              name        origin  \\\n",
       "9728  TERT:c.1710G>Y (p.Lys570Asn)  not provided   \n",
       "\n",
       "                                           phenotypeids  \\\n",
       "9728  MONDO:MONDO:0007485,MedGen:C4551974,OMIM:12755...   \n",
       "\n",
       "                                     phenotypelist otherids         cambio  \\\n",
       "9728  Dyskeratosis congenita, autosomal dominant 1        -  (p.Lys570Asn)   \n",
       "\n",
       "     aa1  pos aa2 nuccore_id  \n",
       "9728   K  570   N        NaN  "
      ],
      "text/html": "<div>\n<style scoped>\n    .dataframe tbody tr th:only-of-type {\n        vertical-align: middle;\n    }\n\n    .dataframe tbody tr th {\n        vertical-align: top;\n    }\n\n    .dataframe thead th {\n        text-align: right;\n    }\n</style>\n<table border=\"1\" class=\"dataframe\">\n  <thead>\n    <tr style=\"text-align: right;\">\n      <th></th>\n      <th>uniprot</th>\n      <th>organism</th>\n      <th>mlo</th>\n      <th>hgnc_id</th>\n      <th>geneid</th>\n      <th>genesymbol</th>\n      <th>snpid</th>\n      <th>alleleid</th>\n      <th>type</th>\n      <th>name</th>\n      <th>origin</th>\n      <th>phenotypeids</th>\n      <th>phenotypelist</th>\n      <th>otherids</th>\n      <th>cambio</th>\n      <th>aa1</th>\n      <th>pos</th>\n      <th>aa2</th>\n      <th>nuccore_id</th>\n    </tr>\n  </thead>\n  <tbody>\n    <tr>\n      <th>9728</th>\n      <td>O14746</td>\n      <td>Homo sapiens</td>\n      <td>nucleolus</td>\n      <td>HGNC:11730</td>\n      <td>7015.0</td>\n      <td>TERT</td>\n      <td>1.554041e+09</td>\n      <td>47709.0</td>\n      <td>single nucleotide variant</td>\n      <td>TERT:c.1710G&gt;Y (p.Lys570Asn)</td>\n      <td>not provided</td>\n      <td>MONDO:MONDO:0007485,MedGen:C4551974,OMIM:12755...</td>\n      <td>Dyskeratosis congenita, autosomal dominant 1</td>\n      <td>-</td>\n      <td>(p.Lys570Asn)</td>\n      <td>K</td>\n      <td>570</td>\n      <td>N</td>\n      <td>NaN</td>\n    </tr>\n  </tbody>\n</table>\n</div>"
     },
     "metadata": {},
     "execution_count": 176
    }
   ],
   "source": [
    "box_snvs[box_snvs.nuccore_id.isnull()]"
   ]
  },
  {
   "cell_type": "code",
   "execution_count": 177,
   "metadata": {},
   "outputs": [],
   "source": [
    "len(box_snvs.nuccore_id.unique())\n",
    "nuccore_list = box_snvs.nuccore_id.unique().tolist()"
   ]
  },
  {
   "cell_type": "code",
   "execution_count": 181,
   "metadata": {},
   "outputs": [
    {
     "output_type": "error",
     "ename": "TypeError",
     "evalue": "can't concat str to bytes",
     "traceback": [
      "\u001b[1;31m---------------------------------------------------------------------------\u001b[0m",
      "\u001b[1;31mTypeError\u001b[0m                                 Traceback (most recent call last)",
      "\u001b[1;32m<ipython-input-181-344f836a7b76>\u001b[0m in \u001b[0;36m<module>\u001b[1;34m\u001b[0m\n\u001b[0;32m      8\u001b[0m         \u001b[1;34m'genome'\u001b[0m\u001b[1;33m:\u001b[0m \u001b[0mids\u001b[0m\u001b[1;33m,\u001b[0m\u001b[1;33m\u001b[0m\u001b[1;33m\u001b[0m\u001b[0m\n\u001b[0;32m      9\u001b[0m     }\n\u001b[1;32m---> 10\u001b[1;33m     \u001b[0murllib\u001b[0m\u001b[1;33m.\u001b[0m\u001b[0mrequest\u001b[0m\u001b[1;33m.\u001b[0m\u001b[0murlopen\u001b[0m\u001b[1;33m(\u001b[0m\u001b[0murl\u001b[0m\u001b[1;33m,\u001b[0m \u001b[0mdata\u001b[0m\u001b[1;33m)\u001b[0m\u001b[1;33m\u001b[0m\u001b[1;33m\u001b[0m\u001b[0m\n\u001b[0m",
      "\u001b[1;32m~\\AppData\\Local\\Programs\\Python\\Python39\\lib\\urllib\\request.py\u001b[0m in \u001b[0;36murlopen\u001b[1;34m(url, data, timeout, cafile, capath, cadefault, context)\u001b[0m\n\u001b[0;32m    212\u001b[0m     \u001b[1;32melse\u001b[0m\u001b[1;33m:\u001b[0m\u001b[1;33m\u001b[0m\u001b[1;33m\u001b[0m\u001b[0m\n\u001b[0;32m    213\u001b[0m         \u001b[0mopener\u001b[0m \u001b[1;33m=\u001b[0m \u001b[0m_opener\u001b[0m\u001b[1;33m\u001b[0m\u001b[1;33m\u001b[0m\u001b[0m\n\u001b[1;32m--> 214\u001b[1;33m     \u001b[1;32mreturn\u001b[0m \u001b[0mopener\u001b[0m\u001b[1;33m.\u001b[0m\u001b[0mopen\u001b[0m\u001b[1;33m(\u001b[0m\u001b[0murl\u001b[0m\u001b[1;33m,\u001b[0m \u001b[0mdata\u001b[0m\u001b[1;33m,\u001b[0m \u001b[0mtimeout\u001b[0m\u001b[1;33m)\u001b[0m\u001b[1;33m\u001b[0m\u001b[1;33m\u001b[0m\u001b[0m\n\u001b[0m\u001b[0;32m    215\u001b[0m \u001b[1;33m\u001b[0m\u001b[0m\n\u001b[0;32m    216\u001b[0m \u001b[1;32mdef\u001b[0m \u001b[0minstall_opener\u001b[0m\u001b[1;33m(\u001b[0m\u001b[0mopener\u001b[0m\u001b[1;33m)\u001b[0m\u001b[1;33m:\u001b[0m\u001b[1;33m\u001b[0m\u001b[1;33m\u001b[0m\u001b[0m\n",
      "\u001b[1;32m~\\AppData\\Local\\Programs\\Python\\Python39\\lib\\urllib\\request.py\u001b[0m in \u001b[0;36mopen\u001b[1;34m(self, fullurl, data, timeout)\u001b[0m\n\u001b[0;32m    515\u001b[0m \u001b[1;33m\u001b[0m\u001b[0m\n\u001b[0;32m    516\u001b[0m         \u001b[0msys\u001b[0m\u001b[1;33m.\u001b[0m\u001b[0maudit\u001b[0m\u001b[1;33m(\u001b[0m\u001b[1;34m'urllib.Request'\u001b[0m\u001b[1;33m,\u001b[0m \u001b[0mreq\u001b[0m\u001b[1;33m.\u001b[0m\u001b[0mfull_url\u001b[0m\u001b[1;33m,\u001b[0m \u001b[0mreq\u001b[0m\u001b[1;33m.\u001b[0m\u001b[0mdata\u001b[0m\u001b[1;33m,\u001b[0m \u001b[0mreq\u001b[0m\u001b[1;33m.\u001b[0m\u001b[0mheaders\u001b[0m\u001b[1;33m,\u001b[0m \u001b[0mreq\u001b[0m\u001b[1;33m.\u001b[0m\u001b[0mget_method\u001b[0m\u001b[1;33m(\u001b[0m\u001b[1;33m)\u001b[0m\u001b[1;33m)\u001b[0m\u001b[1;33m\u001b[0m\u001b[1;33m\u001b[0m\u001b[0m\n\u001b[1;32m--> 517\u001b[1;33m         \u001b[0mresponse\u001b[0m \u001b[1;33m=\u001b[0m \u001b[0mself\u001b[0m\u001b[1;33m.\u001b[0m\u001b[0m_open\u001b[0m\u001b[1;33m(\u001b[0m\u001b[0mreq\u001b[0m\u001b[1;33m,\u001b[0m \u001b[0mdata\u001b[0m\u001b[1;33m)\u001b[0m\u001b[1;33m\u001b[0m\u001b[1;33m\u001b[0m\u001b[0m\n\u001b[0m\u001b[0;32m    518\u001b[0m \u001b[1;33m\u001b[0m\u001b[0m\n\u001b[0;32m    519\u001b[0m         \u001b[1;31m# post-process response\u001b[0m\u001b[1;33m\u001b[0m\u001b[1;33m\u001b[0m\u001b[1;33m\u001b[0m\u001b[0m\n",
      "\u001b[1;32m~\\AppData\\Local\\Programs\\Python\\Python39\\lib\\urllib\\request.py\u001b[0m in \u001b[0;36m_open\u001b[1;34m(self, req, data)\u001b[0m\n\u001b[0;32m    532\u001b[0m \u001b[1;33m\u001b[0m\u001b[0m\n\u001b[0;32m    533\u001b[0m         \u001b[0mprotocol\u001b[0m \u001b[1;33m=\u001b[0m \u001b[0mreq\u001b[0m\u001b[1;33m.\u001b[0m\u001b[0mtype\u001b[0m\u001b[1;33m\u001b[0m\u001b[1;33m\u001b[0m\u001b[0m\n\u001b[1;32m--> 534\u001b[1;33m         result = self._call_chain(self.handle_open, protocol, protocol +\n\u001b[0m\u001b[0;32m    535\u001b[0m                                   '_open', req)\n\u001b[0;32m    536\u001b[0m         \u001b[1;32mif\u001b[0m \u001b[0mresult\u001b[0m\u001b[1;33m:\u001b[0m\u001b[1;33m\u001b[0m\u001b[1;33m\u001b[0m\u001b[0m\n",
      "\u001b[1;32m~\\AppData\\Local\\Programs\\Python\\Python39\\lib\\urllib\\request.py\u001b[0m in \u001b[0;36m_call_chain\u001b[1;34m(self, chain, kind, meth_name, *args)\u001b[0m\n\u001b[0;32m    492\u001b[0m         \u001b[1;32mfor\u001b[0m \u001b[0mhandler\u001b[0m \u001b[1;32min\u001b[0m \u001b[0mhandlers\u001b[0m\u001b[1;33m:\u001b[0m\u001b[1;33m\u001b[0m\u001b[1;33m\u001b[0m\u001b[0m\n\u001b[0;32m    493\u001b[0m             \u001b[0mfunc\u001b[0m \u001b[1;33m=\u001b[0m \u001b[0mgetattr\u001b[0m\u001b[1;33m(\u001b[0m\u001b[0mhandler\u001b[0m\u001b[1;33m,\u001b[0m \u001b[0mmeth_name\u001b[0m\u001b[1;33m)\u001b[0m\u001b[1;33m\u001b[0m\u001b[1;33m\u001b[0m\u001b[0m\n\u001b[1;32m--> 494\u001b[1;33m             \u001b[0mresult\u001b[0m \u001b[1;33m=\u001b[0m \u001b[0mfunc\u001b[0m\u001b[1;33m(\u001b[0m\u001b[1;33m*\u001b[0m\u001b[0margs\u001b[0m\u001b[1;33m)\u001b[0m\u001b[1;33m\u001b[0m\u001b[1;33m\u001b[0m\u001b[0m\n\u001b[0m\u001b[0;32m    495\u001b[0m             \u001b[1;32mif\u001b[0m \u001b[0mresult\u001b[0m \u001b[1;32mis\u001b[0m \u001b[1;32mnot\u001b[0m \u001b[1;32mNone\u001b[0m\u001b[1;33m:\u001b[0m\u001b[1;33m\u001b[0m\u001b[1;33m\u001b[0m\u001b[0m\n\u001b[0;32m    496\u001b[0m                 \u001b[1;32mreturn\u001b[0m \u001b[0mresult\u001b[0m\u001b[1;33m\u001b[0m\u001b[1;33m\u001b[0m\u001b[0m\n",
      "\u001b[1;32m~\\AppData\\Local\\Programs\\Python\\Python39\\lib\\urllib\\request.py\u001b[0m in \u001b[0;36mhttps_open\u001b[1;34m(self, req)\u001b[0m\n\u001b[0;32m   1383\u001b[0m \u001b[1;33m\u001b[0m\u001b[0m\n\u001b[0;32m   1384\u001b[0m         \u001b[1;32mdef\u001b[0m \u001b[0mhttps_open\u001b[0m\u001b[1;33m(\u001b[0m\u001b[0mself\u001b[0m\u001b[1;33m,\u001b[0m \u001b[0mreq\u001b[0m\u001b[1;33m)\u001b[0m\u001b[1;33m:\u001b[0m\u001b[1;33m\u001b[0m\u001b[1;33m\u001b[0m\u001b[0m\n\u001b[1;32m-> 1385\u001b[1;33m             return self.do_open(http.client.HTTPSConnection, req,\n\u001b[0m\u001b[0;32m   1386\u001b[0m                 context=self._context, check_hostname=self._check_hostname)\n\u001b[0;32m   1387\u001b[0m \u001b[1;33m\u001b[0m\u001b[0m\n",
      "\u001b[1;32m~\\AppData\\Local\\Programs\\Python\\Python39\\lib\\urllib\\request.py\u001b[0m in \u001b[0;36mdo_open\u001b[1;34m(self, http_class, req, **http_conn_args)\u001b[0m\n\u001b[0;32m   1340\u001b[0m         \u001b[1;32mtry\u001b[0m\u001b[1;33m:\u001b[0m\u001b[1;33m\u001b[0m\u001b[1;33m\u001b[0m\u001b[0m\n\u001b[0;32m   1341\u001b[0m             \u001b[1;32mtry\u001b[0m\u001b[1;33m:\u001b[0m\u001b[1;33m\u001b[0m\u001b[1;33m\u001b[0m\u001b[0m\n\u001b[1;32m-> 1342\u001b[1;33m                 h.request(req.get_method(), req.selector, req.data, headers,\n\u001b[0m\u001b[0;32m   1343\u001b[0m                           encode_chunked=req.has_header('Transfer-encoding'))\n\u001b[0;32m   1344\u001b[0m             \u001b[1;32mexcept\u001b[0m \u001b[0mOSError\u001b[0m \u001b[1;32mas\u001b[0m \u001b[0merr\u001b[0m\u001b[1;33m:\u001b[0m \u001b[1;31m# timeout error\u001b[0m\u001b[1;33m\u001b[0m\u001b[1;33m\u001b[0m\u001b[0m\n",
      "\u001b[1;32m~\\AppData\\Local\\Programs\\Python\\Python39\\lib\\http\\client.py\u001b[0m in \u001b[0;36mrequest\u001b[1;34m(self, method, url, body, headers, encode_chunked)\u001b[0m\n\u001b[0;32m   1253\u001b[0m                 encode_chunked=False):\n\u001b[0;32m   1254\u001b[0m         \u001b[1;34m\"\"\"Send a complete request to the server.\"\"\"\u001b[0m\u001b[1;33m\u001b[0m\u001b[1;33m\u001b[0m\u001b[0m\n\u001b[1;32m-> 1255\u001b[1;33m         \u001b[0mself\u001b[0m\u001b[1;33m.\u001b[0m\u001b[0m_send_request\u001b[0m\u001b[1;33m(\u001b[0m\u001b[0mmethod\u001b[0m\u001b[1;33m,\u001b[0m \u001b[0murl\u001b[0m\u001b[1;33m,\u001b[0m \u001b[0mbody\u001b[0m\u001b[1;33m,\u001b[0m \u001b[0mheaders\u001b[0m\u001b[1;33m,\u001b[0m \u001b[0mencode_chunked\u001b[0m\u001b[1;33m)\u001b[0m\u001b[1;33m\u001b[0m\u001b[1;33m\u001b[0m\u001b[0m\n\u001b[0m\u001b[0;32m   1256\u001b[0m \u001b[1;33m\u001b[0m\u001b[0m\n\u001b[0;32m   1257\u001b[0m     \u001b[1;32mdef\u001b[0m \u001b[0m_send_request\u001b[0m\u001b[1;33m(\u001b[0m\u001b[0mself\u001b[0m\u001b[1;33m,\u001b[0m \u001b[0mmethod\u001b[0m\u001b[1;33m,\u001b[0m \u001b[0murl\u001b[0m\u001b[1;33m,\u001b[0m \u001b[0mbody\u001b[0m\u001b[1;33m,\u001b[0m \u001b[0mheaders\u001b[0m\u001b[1;33m,\u001b[0m \u001b[0mencode_chunked\u001b[0m\u001b[1;33m)\u001b[0m\u001b[1;33m:\u001b[0m\u001b[1;33m\u001b[0m\u001b[1;33m\u001b[0m\u001b[0m\n",
      "\u001b[1;32m~\\AppData\\Local\\Programs\\Python\\Python39\\lib\\http\\client.py\u001b[0m in \u001b[0;36m_send_request\u001b[1;34m(self, method, url, body, headers, encode_chunked)\u001b[0m\n\u001b[0;32m   1299\u001b[0m             \u001b[1;31m# default charset of iso-8859-1.\u001b[0m\u001b[1;33m\u001b[0m\u001b[1;33m\u001b[0m\u001b[1;33m\u001b[0m\u001b[0m\n\u001b[0;32m   1300\u001b[0m             \u001b[0mbody\u001b[0m \u001b[1;33m=\u001b[0m \u001b[0m_encode\u001b[0m\u001b[1;33m(\u001b[0m\u001b[0mbody\u001b[0m\u001b[1;33m,\u001b[0m \u001b[1;34m'body'\u001b[0m\u001b[1;33m)\u001b[0m\u001b[1;33m\u001b[0m\u001b[1;33m\u001b[0m\u001b[0m\n\u001b[1;32m-> 1301\u001b[1;33m         \u001b[0mself\u001b[0m\u001b[1;33m.\u001b[0m\u001b[0mendheaders\u001b[0m\u001b[1;33m(\u001b[0m\u001b[0mbody\u001b[0m\u001b[1;33m,\u001b[0m \u001b[0mencode_chunked\u001b[0m\u001b[1;33m=\u001b[0m\u001b[0mencode_chunked\u001b[0m\u001b[1;33m)\u001b[0m\u001b[1;33m\u001b[0m\u001b[1;33m\u001b[0m\u001b[0m\n\u001b[0m\u001b[0;32m   1302\u001b[0m \u001b[1;33m\u001b[0m\u001b[0m\n\u001b[0;32m   1303\u001b[0m     \u001b[1;32mdef\u001b[0m \u001b[0mgetresponse\u001b[0m\u001b[1;33m(\u001b[0m\u001b[0mself\u001b[0m\u001b[1;33m)\u001b[0m\u001b[1;33m:\u001b[0m\u001b[1;33m\u001b[0m\u001b[1;33m\u001b[0m\u001b[0m\n",
      "\u001b[1;32m~\\AppData\\Local\\Programs\\Python\\Python39\\lib\\http\\client.py\u001b[0m in \u001b[0;36mendheaders\u001b[1;34m(self, message_body, encode_chunked)\u001b[0m\n\u001b[0;32m   1248\u001b[0m         \u001b[1;32melse\u001b[0m\u001b[1;33m:\u001b[0m\u001b[1;33m\u001b[0m\u001b[1;33m\u001b[0m\u001b[0m\n\u001b[0;32m   1249\u001b[0m             \u001b[1;32mraise\u001b[0m \u001b[0mCannotSendHeader\u001b[0m\u001b[1;33m(\u001b[0m\u001b[1;33m)\u001b[0m\u001b[1;33m\u001b[0m\u001b[1;33m\u001b[0m\u001b[0m\n\u001b[1;32m-> 1250\u001b[1;33m         \u001b[0mself\u001b[0m\u001b[1;33m.\u001b[0m\u001b[0m_send_output\u001b[0m\u001b[1;33m(\u001b[0m\u001b[0mmessage_body\u001b[0m\u001b[1;33m,\u001b[0m \u001b[0mencode_chunked\u001b[0m\u001b[1;33m=\u001b[0m\u001b[0mencode_chunked\u001b[0m\u001b[1;33m)\u001b[0m\u001b[1;33m\u001b[0m\u001b[1;33m\u001b[0m\u001b[0m\n\u001b[0m\u001b[0;32m   1251\u001b[0m \u001b[1;33m\u001b[0m\u001b[0m\n\u001b[0;32m   1252\u001b[0m     def request(self, method, url, body=None, headers={}, *,\n",
      "\u001b[1;32m~\\AppData\\Local\\Programs\\Python\\Python39\\lib\\http\\client.py\u001b[0m in \u001b[0;36m_send_output\u001b[1;34m(self, message_body, encode_chunked)\u001b[0m\n\u001b[0;32m   1045\u001b[0m                 \u001b[1;32mif\u001b[0m \u001b[0mencode_chunked\u001b[0m \u001b[1;32mand\u001b[0m \u001b[0mself\u001b[0m\u001b[1;33m.\u001b[0m\u001b[0m_http_vsn\u001b[0m \u001b[1;33m==\u001b[0m \u001b[1;36m11\u001b[0m\u001b[1;33m:\u001b[0m\u001b[1;33m\u001b[0m\u001b[1;33m\u001b[0m\u001b[0m\n\u001b[0;32m   1046\u001b[0m                     \u001b[1;31m# chunked encoding\u001b[0m\u001b[1;33m\u001b[0m\u001b[1;33m\u001b[0m\u001b[1;33m\u001b[0m\u001b[0m\n\u001b[1;32m-> 1047\u001b[1;33m                     \u001b[0mchunk\u001b[0m \u001b[1;33m=\u001b[0m \u001b[1;34mf'{len(chunk):X}\\r\\n'\u001b[0m\u001b[1;33m.\u001b[0m\u001b[0mencode\u001b[0m\u001b[1;33m(\u001b[0m\u001b[1;34m'ascii'\u001b[0m\u001b[1;33m)\u001b[0m \u001b[1;33m+\u001b[0m \u001b[0mchunk\u001b[0m\u001b[0;31m \u001b[0m\u001b[0;31m\\\u001b[0m\u001b[1;33m\u001b[0m\u001b[1;33m\u001b[0m\u001b[0m\n\u001b[0m\u001b[0;32m   1048\u001b[0m                         \u001b[1;33m+\u001b[0m \u001b[1;34mb'\\r\\n'\u001b[0m\u001b[1;33m\u001b[0m\u001b[1;33m\u001b[0m\u001b[0m\n\u001b[0;32m   1049\u001b[0m                 \u001b[0mself\u001b[0m\u001b[1;33m.\u001b[0m\u001b[0msend\u001b[0m\u001b[1;33m(\u001b[0m\u001b[0mchunk\u001b[0m\u001b[1;33m)\u001b[0m\u001b[1;33m\u001b[0m\u001b[1;33m\u001b[0m\u001b[0m\n",
      "\u001b[1;31mTypeError\u001b[0m: can't concat str to bytes"
     ]
    }
   ],
   "source": [
    "import urllib\n",
    "url = 'https://eutils.ncbi.nlm.nih.gov/entrez/eutils/efetch.fcgi'\n",
    "\n",
    "for ids in zip(nuccore_list):\n",
    "    data = {\n",
    "        'db': 'nuccore',\n",
    "        'rettype': 'fasta',\n",
    "        'genome': ids,\n",
    "    }\n",
    "    f = urllib.request.urlopen(url, data)"
   ]
  },
  {
   "cell_type": "code",
   "execution_count": null,
   "metadata": {},
   "outputs": [],
   "source": []
  }
 ]
}