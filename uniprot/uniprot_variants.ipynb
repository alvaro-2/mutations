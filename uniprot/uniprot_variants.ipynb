{
 "metadata": {
  "language_info": {
   "codemirror_mode": {
    "name": "ipython",
    "version": 3
   },
   "file_extension": ".py",
   "mimetype": "text/x-python",
   "name": "python",
   "nbconvert_exporter": "python",
   "pygments_lexer": "ipython3",
   "version": "3.9.1"
  },
  "orig_nbformat": 2,
  "kernelspec": {
   "name": "python3",
   "display_name": "Python 3.9.1 64-bit",
   "metadata": {
    "interpreter": {
     "hash": "2647ea34e536f865ab67ff9ddee7fd78773d956cec0cab53c79b32cd10da5d83"
    }
   }
  }
 },
 "nbformat": 4,
 "nbformat_minor": 2,
 "cells": [
  {
   "cell_type": "code",
   "execution_count": 5,
   "metadata": {},
   "outputs": [],
   "source": [
    "import pandas as pd\n",
    "import numpy as np\n",
    "import re\n",
    "from Bio.SeqUtils import seq1\n",
    "from functools import reduce"
   ]
  },
  {
   "source": [
    "## Cargo datasets"
   ],
   "cell_type": "markdown",
   "metadata": {}
  },
  {
   "cell_type": "code",
   "execution_count": 6,
   "metadata": {},
   "outputs": [
    {
     "output_type": "execute_result",
     "data": {
      "text/plain": [
       "  uniprot      organism                           mlo     hgnc_id  length  \\\n",
       "0  O15527  Homo sapiens               nuclear speckle   HGNC:8125     345   \n",
       "1  O43663  Homo sapiens                      pcg body   HGNC:9341     620   \n",
       "2  O75494  Homo sapiens               nuclear speckle  HGNC:16713     262   \n",
       "3  O95613  Homo sapiens  centrosome/spindle pole body  HGNC:16068    3336   \n",
       "4  P08047  Homo sapiens  centrosome/spindle pole body  HGNC:11205     785   \n",
       "\n",
       "                                            sequence  \n",
       "0  MPARALLPRRMGHRTLASTPALWASIPCPRSELRLDLVLPSGQSFR...  \n",
       "1  MRRSEVLAEESIVCLQKALNHLREIWELIGIPEDQRLQRTEVVKKH...  \n",
       "2  MSRYLRPPNTSLFVRNVADDTRSEDLRREFGRYGPIVDVYVPLDFY...  \n",
       "3  MEVEQEQRRRKVEAGRTKLAHFRQRKTKGDSSHSEKKTAKRKGSAV...  \n",
       "4  MSDQDHSMDEMTAVVKIEKGVGGNNGGNGNGGGAFSQARSSSTGSS...  "
      ],
      "text/html": "<div>\n<style scoped>\n    .dataframe tbody tr th:only-of-type {\n        vertical-align: middle;\n    }\n\n    .dataframe tbody tr th {\n        vertical-align: top;\n    }\n\n    .dataframe thead th {\n        text-align: right;\n    }\n</style>\n<table border=\"1\" class=\"dataframe\">\n  <thead>\n    <tr style=\"text-align: right;\">\n      <th></th>\n      <th>uniprot</th>\n      <th>organism</th>\n      <th>mlo</th>\n      <th>hgnc_id</th>\n      <th>length</th>\n      <th>sequence</th>\n    </tr>\n  </thead>\n  <tbody>\n    <tr>\n      <th>0</th>\n      <td>O15527</td>\n      <td>Homo sapiens</td>\n      <td>nuclear speckle</td>\n      <td>HGNC:8125</td>\n      <td>345</td>\n      <td>MPARALLPRRMGHRTLASTPALWASIPCPRSELRLDLVLPSGQSFR...</td>\n    </tr>\n    <tr>\n      <th>1</th>\n      <td>O43663</td>\n      <td>Homo sapiens</td>\n      <td>pcg body</td>\n      <td>HGNC:9341</td>\n      <td>620</td>\n      <td>MRRSEVLAEESIVCLQKALNHLREIWELIGIPEDQRLQRTEVVKKH...</td>\n    </tr>\n    <tr>\n      <th>2</th>\n      <td>O75494</td>\n      <td>Homo sapiens</td>\n      <td>nuclear speckle</td>\n      <td>HGNC:16713</td>\n      <td>262</td>\n      <td>MSRYLRPPNTSLFVRNVADDTRSEDLRREFGRYGPIVDVYVPLDFY...</td>\n    </tr>\n    <tr>\n      <th>3</th>\n      <td>O95613</td>\n      <td>Homo sapiens</td>\n      <td>centrosome/spindle pole body</td>\n      <td>HGNC:16068</td>\n      <td>3336</td>\n      <td>MEVEQEQRRRKVEAGRTKLAHFRQRKTKGDSSHSEKKTAKRKGSAV...</td>\n    </tr>\n    <tr>\n      <th>4</th>\n      <td>P08047</td>\n      <td>Homo sapiens</td>\n      <td>centrosome/spindle pole body</td>\n      <td>HGNC:11205</td>\n      <td>785</td>\n      <td>MSDQDHSMDEMTAVVKIEKGVGGNNGGNGNGGGAFSQARSSSTGSS...</td>\n    </tr>\n  </tbody>\n</table>\n</div>"
     },
     "metadata": {},
     "execution_count": 6
    }
   ],
   "source": [
    "# Box1 database\n",
    "box = pd.read_csv('box1_proteins.csv')\n",
    "box.head()"
   ]
  },
  {
   "cell_type": "code",
   "execution_count": 7,
   "metadata": {},
   "outputs": [],
   "source": [
    "# Dominios PFAM\n",
    "pfam_box = pd.read_csv('pfam_box1.csv')\n",
    "pfam_box = pfam_box.rename(columns={'pfam_acc': 'pfam_id', 'domain':'pfam_domain','start':'pfam_start', 'end':'pfam_end'})\n",
    "\n",
    "# LC zones\n",
    "lc_box = pd.read_csv('lc_zones_box1.csv')\n",
    "lc_box = lc_box.rename(columns={'start': 'lc_start', 'end':'lc_end', 'seq':'lc_seq', 'largo':'lc_length'})\n",
    "\n",
    "# Regiones desordenadas\n",
    "idr_box = pd.read_csv('idrs_box1_mobidb.csv')\n",
    "idr_box = idr_box.rename(columns={'tipo':'idr_tipo', 'start':'idr_start', 'end':'idr_end'})"
   ]
  },
  {
   "cell_type": "code",
   "execution_count": 8,
   "metadata": {},
   "outputs": [],
   "source": [
    "# Leo el txt de variantes humanas en uniprot\n",
    "'''humsavar.txt:\n",
    "Index of manually curated Human polymorphisms and disease mutations from UniProtKB/Swiss-Prot.\n",
    "This file lists all missense variants annotated in UniProtKB/Swiss-Prot human\n",
    "entries. It provides a variant classification which is intended for research\n",
    "purposes only, not for clinical and diagnostic use.\n",
    " - The column 'Variant category' shows the classification of the variant using\n",
    "   the American College of Medical Genetics and Genomics/Association for\n",
    "   Molecular Pathology (ACMG/AMP) terminology (Richards et al. PubMed:25741868)\n",
    "   into the following categories:\n",
    "   \n",
    "   LP/P = likely pathogenic or pathogenic\n",
    "   LB/B = likely benign or benign\n",
    "   US   = uncertain significance\n",
    "\n",
    "   These categories are assigned based on the variant annotation in the\n",
    "   corresponding UniProtKB/Swiss-Prot entries that is curated from literature\n",
    "   reports. The classification may change over time and must not be considered\n",
    "   as a definitive statement about the pathogenic role of a variant.\n",
    "\n",
    " - The column 'Disease name' shows the name of the disease or the disease sample\n",
    "   in which variants have been found. Names are only provided for diseases\n",
    "   catalogued in OMIM and for cancer samples.\n",
    "'''\n",
    "with open('G:\\My Drive\\FIL\\project\\humsavar.txt') as f:\n",
    "    gene_name=[]\n",
    "    uniprot=[]\n",
    "    ft_id=[]\n",
    "    change=[]\n",
    "    category=[]\n",
    "    snp_id=[]\n",
    "    disease_name=[]\n",
    "    for line in f:\n",
    "        stripped_line = line.strip()\n",
    "        gene_name.append(stripped_line[0:10])\n",
    "        uniprot.append(stripped_line[10:21])\n",
    "        ft_id.append(stripped_line[21:33])\n",
    "        change.append(stripped_line[33:48])\n",
    "        category.append(stripped_line[48:57])\n",
    "        snp_id.append(stripped_line[57:72])\n",
    "        disease_name.append(stripped_line[72:])"
   ]
  },
  {
   "cell_type": "code",
   "execution_count": 9,
   "metadata": {},
   "outputs": [
    {
     "output_type": "execute_result",
     "data": {
      "text/plain": [
       "\"#Lo guardo\\nhumsavar.to_csv('humsavar.csv', index=False)\\nprint(humsavar.head())\\nprint('Total de entradas:', len(humsavar))\""
      ]
     },
     "metadata": {},
     "execution_count": 9
    }
   ],
   "source": [
    "# Creo el dataframe: humsavar\n",
    "humsavar = pd.DataFrame(list(zip(gene_name, uniprot, ft_id, change, category, snp_id, disease_name)), columns=['gene_name', 'uniprot', 'ft_id', 'change', 'category', 'snp_id', 'disease_name'])\n",
    "humsavar = humsavar.drop([0]).reset_index(drop=True)\n",
    "\n",
    "# Eliminar los espacios en blanco\n",
    "humsavar = humsavar.applymap(lambda x: x.strip())\n",
    "\n",
    "# agrego los mim access en otra col\n",
    "humsavar['mim'] = humsavar.disease_name.map(lambda x: re.findall('\\[(.*?)\\]', x))\n",
    "humsavar['mim'] = humsavar.mim.str[0]\n",
    "\n",
    "'''#Lo guardo\n",
    "humsavar.to_csv('humsavar.csv', index=False)\n",
    "print(humsavar.head())\n",
    "print('Total de entradas:', len(humsavar))'''"
   ]
  },
  {
   "cell_type": "code",
   "execution_count": 10,
   "metadata": {},
   "outputs": [
    {
     "output_type": "execute_result",
     "data": {
      "text/plain": [
       "0            NaN\n",
       "1            NaN\n",
       "2            NaN\n",
       "3            NaN\n",
       "4            NaN\n",
       "5            NaN\n",
       "6            NaN\n",
       "7            NaN\n",
       "8            NaN\n",
       "9            NaN\n",
       "10           NaN\n",
       "11           NaN\n",
       "12           NaN\n",
       "13           NaN\n",
       "14           NaN\n",
       "15           NaN\n",
       "16           NaN\n",
       "17           NaN\n",
       "18           NaN\n",
       "19           NaN\n",
       "20           NaN\n",
       "21           NaN\n",
       "22           NaN\n",
       "23           NaN\n",
       "24           NaN\n",
       "25           NaN\n",
       "26           NaN\n",
       "27           NaN\n",
       "28           NaN\n",
       "29    MIM:231550\n",
       "30    MIM:231550\n",
       "31    MIM:231550\n",
       "32           NaN\n",
       "33           NaN\n",
       "34           NaN\n",
       "35           NaN\n",
       "36           NaN\n",
       "37           NaN\n",
       "38           NaN\n",
       "39           NaN\n",
       "40           NaN\n",
       "41           NaN\n",
       "42           NaN\n",
       "43           NaN\n",
       "44           NaN\n",
       "45           NaN\n",
       "46           NaN\n",
       "47           NaN\n",
       "48           NaN\n",
       "49           NaN\n",
       "Name: mim, dtype: object"
      ]
     },
     "metadata": {},
     "execution_count": 10
    }
   ],
   "source": [
    "#agrego los mim access en otra col\n",
    "humsavar['mim'] = humsavar.disease_name.map(lambda x: re.findall('\\[(.*?)\\]', x))\n",
    "humsavar['mim'] = humsavar.mim.str[0]\n",
    "humsavar.mim.head(50)"
   ]
  },
  {
   "cell_type": "code",
   "execution_count": 11,
   "metadata": {},
   "outputs": [
    {
     "output_type": "execute_result",
     "data": {
      "text/plain": [
       "-              13701\n",
       "rs121913279        9\n",
       "rs121918488        9\n",
       "rs75076352         8\n",
       "rs79781594         7\n",
       "               ...  \n",
       "rs55710741         1\n",
       "rs1052030          1\n",
       "rs35371077         1\n",
       "rs394732           1\n",
       "rs119482084        1\n",
       "Name: snp_id, Length: 63272, dtype: int64"
      ]
     },
     "metadata": {},
     "execution_count": 11
    }
   ],
   "source": [
    "# Ojo, por que hay snps repetidos??\n",
    "humsavar.snp_id.value_counts()"
   ]
  },
  {
   "cell_type": "code",
   "execution_count": 12,
   "metadata": {},
   "outputs": [
    {
     "output_type": "execute_result",
     "data": {
      "text/plain": [
       "      gene_name uniprot       ft_id       change category       snp_id  \\\n",
       "53375    PIK3CA  P42336  VAR_026173  p.Glu542Lys       US  rs121913273   \n",
       "53376    PIK3CA  P42336  VAR_026173  p.Glu542Lys       US  rs121913273   \n",
       "53377    PIK3CA  P42336  VAR_026173  p.Glu542Lys       US  rs121913273   \n",
       "53378    PIK3CA  P42336  VAR_026173  p.Glu542Lys       US  rs121913273   \n",
       "53379    PIK3CA  P42336  VAR_026173  p.Glu542Lys       US  rs121913273   \n",
       "53380    PIK3CA  P42336  VAR_026173  p.Glu542Lys       US  rs121913273   \n",
       "53381    PIK3CA  P42336  VAR_026174  p.Glu542Gln       US  rs121913273   \n",
       "\n",
       "                                            disease_name         mim  \n",
       "53375                    Breast cancer (BC) [MIM:114480]  MIM:114480  \n",
       "53376                CLAPO syndrome (CLAPO) [MIM:613089]  MIM:613089  \n",
       "53377               Colorectal cancer (CRC) [MIM:114500]  MIM:114500  \n",
       "53378  Congenital lipomatous overgrowth, vascular mal...  MIM:612918  \n",
       "53379        Keratosis, seborrheic (KERSEB) [MIM:182000]  MIM:182000  \n",
       "53380                  Macrodactyly (MADAC) [MIM:155500]  MIM:155500  \n",
       "53381                                                  -         NaN  "
      ],
      "text/html": "<div>\n<style scoped>\n    .dataframe tbody tr th:only-of-type {\n        vertical-align: middle;\n    }\n\n    .dataframe tbody tr th {\n        vertical-align: top;\n    }\n\n    .dataframe thead th {\n        text-align: right;\n    }\n</style>\n<table border=\"1\" class=\"dataframe\">\n  <thead>\n    <tr style=\"text-align: right;\">\n      <th></th>\n      <th>gene_name</th>\n      <th>uniprot</th>\n      <th>ft_id</th>\n      <th>change</th>\n      <th>category</th>\n      <th>snp_id</th>\n      <th>disease_name</th>\n      <th>mim</th>\n    </tr>\n  </thead>\n  <tbody>\n    <tr>\n      <th>53375</th>\n      <td>PIK3CA</td>\n      <td>P42336</td>\n      <td>VAR_026173</td>\n      <td>p.Glu542Lys</td>\n      <td>US</td>\n      <td>rs121913273</td>\n      <td>Breast cancer (BC) [MIM:114480]</td>\n      <td>MIM:114480</td>\n    </tr>\n    <tr>\n      <th>53376</th>\n      <td>PIK3CA</td>\n      <td>P42336</td>\n      <td>VAR_026173</td>\n      <td>p.Glu542Lys</td>\n      <td>US</td>\n      <td>rs121913273</td>\n      <td>CLAPO syndrome (CLAPO) [MIM:613089]</td>\n      <td>MIM:613089</td>\n    </tr>\n    <tr>\n      <th>53377</th>\n      <td>PIK3CA</td>\n      <td>P42336</td>\n      <td>VAR_026173</td>\n      <td>p.Glu542Lys</td>\n      <td>US</td>\n      <td>rs121913273</td>\n      <td>Colorectal cancer (CRC) [MIM:114500]</td>\n      <td>MIM:114500</td>\n    </tr>\n    <tr>\n      <th>53378</th>\n      <td>PIK3CA</td>\n      <td>P42336</td>\n      <td>VAR_026173</td>\n      <td>p.Glu542Lys</td>\n      <td>US</td>\n      <td>rs121913273</td>\n      <td>Congenital lipomatous overgrowth, vascular mal...</td>\n      <td>MIM:612918</td>\n    </tr>\n    <tr>\n      <th>53379</th>\n      <td>PIK3CA</td>\n      <td>P42336</td>\n      <td>VAR_026173</td>\n      <td>p.Glu542Lys</td>\n      <td>US</td>\n      <td>rs121913273</td>\n      <td>Keratosis, seborrheic (KERSEB) [MIM:182000]</td>\n      <td>MIM:182000</td>\n    </tr>\n    <tr>\n      <th>53380</th>\n      <td>PIK3CA</td>\n      <td>P42336</td>\n      <td>VAR_026173</td>\n      <td>p.Glu542Lys</td>\n      <td>US</td>\n      <td>rs121913273</td>\n      <td>Macrodactyly (MADAC) [MIM:155500]</td>\n      <td>MIM:155500</td>\n    </tr>\n    <tr>\n      <th>53381</th>\n      <td>PIK3CA</td>\n      <td>P42336</td>\n      <td>VAR_026174</td>\n      <td>p.Glu542Gln</td>\n      <td>US</td>\n      <td>rs121913273</td>\n      <td>-</td>\n      <td>NaN</td>\n    </tr>\n  </tbody>\n</table>\n</div>"
     },
     "metadata": {},
     "execution_count": 12
    }
   ],
   "source": [
    "# Veo uno por ejemplo\n",
    "humsavar[humsavar.snp_id == 'rs121913273']"
   ]
  },
  {
   "source": [
    "## Merge con Box1"
   ],
   "cell_type": "markdown",
   "metadata": {}
  },
  {
   "cell_type": "code",
   "execution_count": 13,
   "metadata": {},
   "outputs": [
    {
     "output_type": "execute_result",
     "data": {
      "text/plain": [
       "     uniprot      organism              mlo     hgnc_id  length  \\\n",
       "0     O15527  Homo sapiens  nuclear speckle   HGNC:8125     345   \n",
       "1     O15527  Homo sapiens  nuclear speckle   HGNC:8125     345   \n",
       "2     O15527  Homo sapiens  nuclear speckle   HGNC:8125     345   \n",
       "3     O15527  Homo sapiens  nuclear speckle   HGNC:8125     345   \n",
       "4     O15527  Homo sapiens  nuclear speckle   HGNC:8125     345   \n",
       "...      ...           ...              ...         ...     ...   \n",
       "4089  P23771  Homo sapiens     enhanceosome   HGNC:4172     443   \n",
       "4090  P23771  Homo sapiens     enhanceosome   HGNC:4172     443   \n",
       "4091  P23771  Homo sapiens     enhanceosome   HGNC:4172     443   \n",
       "4092  P23771  Homo sapiens     enhanceosome   HGNC:4172     443   \n",
       "4093  Q8NE35  Homo sapiens           p-body  HGNC:21746     698   \n",
       "\n",
       "                                               sequence gene_name       ft_id  \\\n",
       "0     MPARALLPRRMGHRTLASTPALWASIPCPRSELRLDLVLPSGQSFR...      OGG1  VAR_009519   \n",
       "1     MPARALLPRRMGHRTLASTPALWASIPCPRSELRLDLVLPSGQSFR...      OGG1  VAR_009520   \n",
       "2     MPARALLPRRMGHRTLASTPALWASIPCPRSELRLDLVLPSGQSFR...      OGG1  VAR_009521   \n",
       "3     MPARALLPRRMGHRTLASTPALWASIPCPRSELRLDLVLPSGQSFR...      OGG1  VAR_014487   \n",
       "4     MPARALLPRRMGHRTLASTPALWASIPCPRSELRLDLVLPSGQSFR...      OGG1  VAR_014488   \n",
       "...                                                 ...       ...         ...   \n",
       "4089  MEVTADQPRWVSHHHPAVLNGQHPDTHHPGLSHSYMDAAQYPLPEE...     GATA3  VAR_017818   \n",
       "4090  MEVTADQPRWVSHHHPAVLNGQHPDTHHPGLSHSYMDAAQYPLPEE...     GATA3  VAR_019202   \n",
       "4091  MEVTADQPRWVSHHHPAVLNGQHPDTHHPGLSHSYMDAAQYPLPEE...     GATA3  VAR_033025   \n",
       "4092  MEVTADQPRWVSHHHPAVLNGQHPDTHHPGLSHSYMDAAQYPLPEE...     GATA3  VAR_075427   \n",
       "4093  MQDDLLMDKSKTQPQPQQQQRQQQQPQPESSVSEAPSTPLSSETPK...     CPEB3  VAR_029776   \n",
       "\n",
       "           change category       snp_id  \\\n",
       "0      p.Arg46Gln     LB/B  rs104893751   \n",
       "1     p.Arg154His     LB/B   rs56053615   \n",
       "2     p.Ser326Cys     LB/B    rs1052133   \n",
       "3     p.Arg229Gln     LB/B    rs1805373   \n",
       "4     p.Ser320Thr     LB/B    rs1801128   \n",
       "...           ...      ...          ...   \n",
       "4089  p.Trp274Arg     LP/P  rs104894163   \n",
       "4090  p.Gly242Ser     LB/B   rs11567901   \n",
       "4091  p.Arg366Leu       US            -   \n",
       "4092  p.Arg298Gln     LP/P            -   \n",
       "4093  p.Arg324Trp     LB/B   rs17853616   \n",
       "\n",
       "                                           disease_name         mim  \n",
       "0                                                     -         NaN  \n",
       "1                                                     -         NaN  \n",
       "2                                                     -         NaN  \n",
       "3                                                     -         NaN  \n",
       "4                                                     -         NaN  \n",
       "...                                                 ...         ...  \n",
       "4089  Hypoparathyroidism, sensorineural deafness, an...  MIM:146255  \n",
       "4090                                                  -         NaN  \n",
       "4091                             A breast cancer sample         NaN  \n",
       "4092  Hypoparathyroidism, sensorineural deafness, an...  MIM:146255  \n",
       "4093                                                  -         NaN  \n",
       "\n",
       "[4094 rows x 13 columns]"
      ],
      "text/html": "<div>\n<style scoped>\n    .dataframe tbody tr th:only-of-type {\n        vertical-align: middle;\n    }\n\n    .dataframe tbody tr th {\n        vertical-align: top;\n    }\n\n    .dataframe thead th {\n        text-align: right;\n    }\n</style>\n<table border=\"1\" class=\"dataframe\">\n  <thead>\n    <tr style=\"text-align: right;\">\n      <th></th>\n      <th>uniprot</th>\n      <th>organism</th>\n      <th>mlo</th>\n      <th>hgnc_id</th>\n      <th>length</th>\n      <th>sequence</th>\n      <th>gene_name</th>\n      <th>ft_id</th>\n      <th>change</th>\n      <th>category</th>\n      <th>snp_id</th>\n      <th>disease_name</th>\n      <th>mim</th>\n    </tr>\n  </thead>\n  <tbody>\n    <tr>\n      <th>0</th>\n      <td>O15527</td>\n      <td>Homo sapiens</td>\n      <td>nuclear speckle</td>\n      <td>HGNC:8125</td>\n      <td>345</td>\n      <td>MPARALLPRRMGHRTLASTPALWASIPCPRSELRLDLVLPSGQSFR...</td>\n      <td>OGG1</td>\n      <td>VAR_009519</td>\n      <td>p.Arg46Gln</td>\n      <td>LB/B</td>\n      <td>rs104893751</td>\n      <td>-</td>\n      <td>NaN</td>\n    </tr>\n    <tr>\n      <th>1</th>\n      <td>O15527</td>\n      <td>Homo sapiens</td>\n      <td>nuclear speckle</td>\n      <td>HGNC:8125</td>\n      <td>345</td>\n      <td>MPARALLPRRMGHRTLASTPALWASIPCPRSELRLDLVLPSGQSFR...</td>\n      <td>OGG1</td>\n      <td>VAR_009520</td>\n      <td>p.Arg154His</td>\n      <td>LB/B</td>\n      <td>rs56053615</td>\n      <td>-</td>\n      <td>NaN</td>\n    </tr>\n    <tr>\n      <th>2</th>\n      <td>O15527</td>\n      <td>Homo sapiens</td>\n      <td>nuclear speckle</td>\n      <td>HGNC:8125</td>\n      <td>345</td>\n      <td>MPARALLPRRMGHRTLASTPALWASIPCPRSELRLDLVLPSGQSFR...</td>\n      <td>OGG1</td>\n      <td>VAR_009521</td>\n      <td>p.Ser326Cys</td>\n      <td>LB/B</td>\n      <td>rs1052133</td>\n      <td>-</td>\n      <td>NaN</td>\n    </tr>\n    <tr>\n      <th>3</th>\n      <td>O15527</td>\n      <td>Homo sapiens</td>\n      <td>nuclear speckle</td>\n      <td>HGNC:8125</td>\n      <td>345</td>\n      <td>MPARALLPRRMGHRTLASTPALWASIPCPRSELRLDLVLPSGQSFR...</td>\n      <td>OGG1</td>\n      <td>VAR_014487</td>\n      <td>p.Arg229Gln</td>\n      <td>LB/B</td>\n      <td>rs1805373</td>\n      <td>-</td>\n      <td>NaN</td>\n    </tr>\n    <tr>\n      <th>4</th>\n      <td>O15527</td>\n      <td>Homo sapiens</td>\n      <td>nuclear speckle</td>\n      <td>HGNC:8125</td>\n      <td>345</td>\n      <td>MPARALLPRRMGHRTLASTPALWASIPCPRSELRLDLVLPSGQSFR...</td>\n      <td>OGG1</td>\n      <td>VAR_014488</td>\n      <td>p.Ser320Thr</td>\n      <td>LB/B</td>\n      <td>rs1801128</td>\n      <td>-</td>\n      <td>NaN</td>\n    </tr>\n    <tr>\n      <th>...</th>\n      <td>...</td>\n      <td>...</td>\n      <td>...</td>\n      <td>...</td>\n      <td>...</td>\n      <td>...</td>\n      <td>...</td>\n      <td>...</td>\n      <td>...</td>\n      <td>...</td>\n      <td>...</td>\n      <td>...</td>\n      <td>...</td>\n    </tr>\n    <tr>\n      <th>4089</th>\n      <td>P23771</td>\n      <td>Homo sapiens</td>\n      <td>enhanceosome</td>\n      <td>HGNC:4172</td>\n      <td>443</td>\n      <td>MEVTADQPRWVSHHHPAVLNGQHPDTHHPGLSHSYMDAAQYPLPEE...</td>\n      <td>GATA3</td>\n      <td>VAR_017818</td>\n      <td>p.Trp274Arg</td>\n      <td>LP/P</td>\n      <td>rs104894163</td>\n      <td>Hypoparathyroidism, sensorineural deafness, an...</td>\n      <td>MIM:146255</td>\n    </tr>\n    <tr>\n      <th>4090</th>\n      <td>P23771</td>\n      <td>Homo sapiens</td>\n      <td>enhanceosome</td>\n      <td>HGNC:4172</td>\n      <td>443</td>\n      <td>MEVTADQPRWVSHHHPAVLNGQHPDTHHPGLSHSYMDAAQYPLPEE...</td>\n      <td>GATA3</td>\n      <td>VAR_019202</td>\n      <td>p.Gly242Ser</td>\n      <td>LB/B</td>\n      <td>rs11567901</td>\n      <td>-</td>\n      <td>NaN</td>\n    </tr>\n    <tr>\n      <th>4091</th>\n      <td>P23771</td>\n      <td>Homo sapiens</td>\n      <td>enhanceosome</td>\n      <td>HGNC:4172</td>\n      <td>443</td>\n      <td>MEVTADQPRWVSHHHPAVLNGQHPDTHHPGLSHSYMDAAQYPLPEE...</td>\n      <td>GATA3</td>\n      <td>VAR_033025</td>\n      <td>p.Arg366Leu</td>\n      <td>US</td>\n      <td>-</td>\n      <td>A breast cancer sample</td>\n      <td>NaN</td>\n    </tr>\n    <tr>\n      <th>4092</th>\n      <td>P23771</td>\n      <td>Homo sapiens</td>\n      <td>enhanceosome</td>\n      <td>HGNC:4172</td>\n      <td>443</td>\n      <td>MEVTADQPRWVSHHHPAVLNGQHPDTHHPGLSHSYMDAAQYPLPEE...</td>\n      <td>GATA3</td>\n      <td>VAR_075427</td>\n      <td>p.Arg298Gln</td>\n      <td>LP/P</td>\n      <td>-</td>\n      <td>Hypoparathyroidism, sensorineural deafness, an...</td>\n      <td>MIM:146255</td>\n    </tr>\n    <tr>\n      <th>4093</th>\n      <td>Q8NE35</td>\n      <td>Homo sapiens</td>\n      <td>p-body</td>\n      <td>HGNC:21746</td>\n      <td>698</td>\n      <td>MQDDLLMDKSKTQPQPQQQQRQQQQPQPESSVSEAPSTPLSSETPK...</td>\n      <td>CPEB3</td>\n      <td>VAR_029776</td>\n      <td>p.Arg324Trp</td>\n      <td>LB/B</td>\n      <td>rs17853616</td>\n      <td>-</td>\n      <td>NaN</td>\n    </tr>\n  </tbody>\n</table>\n<p>4094 rows × 13 columns</p>\n</div>"
     },
     "metadata": {},
     "execution_count": 13
    }
   ],
   "source": [
    "# Merge con box1\n",
    "box_uniprot_variants = box.merge(humsavar)\n",
    "box_uniprot_variants"
   ]
  },
  {
   "cell_type": "code",
   "execution_count": 14,
   "metadata": {},
   "outputs": [
    {
     "output_type": "execute_result",
     "data": {
      "text/plain": [
       "P04637    1338\n",
       "Q9P2D1     147\n",
       "P02545     145\n",
       "P40337     140\n",
       "P21359     106\n",
       "          ... \n",
       "Q9NWZ8       1\n",
       "Q96SQ7       1\n",
       "Q96HA1       1\n",
       "O14641       1\n",
       "Q96MU7       1\n",
       "Name: uniprot, Length: 391, dtype: int64"
      ]
     },
     "metadata": {},
     "execution_count": 14
    }
   ],
   "source": [
    "box_uniprot_variants.uniprot.value_counts()"
   ]
  },
  {
   "cell_type": "code",
   "execution_count": 15,
   "metadata": {},
   "outputs": [
    {
     "output_type": "execute_result",
     "data": {
      "text/plain": [
       "     uniprot      organism              mlo     hgnc_id  length  \\\n",
       "0     O15527  Homo sapiens  nuclear speckle   HGNC:8125     345   \n",
       "1     O15527  Homo sapiens  nuclear speckle   HGNC:8125     345   \n",
       "2     O15527  Homo sapiens  nuclear speckle   HGNC:8125     345   \n",
       "3     O15527  Homo sapiens  nuclear speckle   HGNC:8125     345   \n",
       "4     O15527  Homo sapiens  nuclear speckle   HGNC:8125     345   \n",
       "...      ...           ...              ...         ...     ...   \n",
       "4089  P23771  Homo sapiens     enhanceosome   HGNC:4172     443   \n",
       "4090  P23771  Homo sapiens     enhanceosome   HGNC:4172     443   \n",
       "4091  P23771  Homo sapiens     enhanceosome   HGNC:4172     443   \n",
       "4092  P23771  Homo sapiens     enhanceosome   HGNC:4172     443   \n",
       "4093  Q8NE35  Homo sapiens           p-body  HGNC:21746     698   \n",
       "\n",
       "                                               sequence gene_name       ft_id  \\\n",
       "0     MPARALLPRRMGHRTLASTPALWASIPCPRSELRLDLVLPSGQSFR...      OGG1  VAR_009519   \n",
       "1     MPARALLPRRMGHRTLASTPALWASIPCPRSELRLDLVLPSGQSFR...      OGG1  VAR_009520   \n",
       "2     MPARALLPRRMGHRTLASTPALWASIPCPRSELRLDLVLPSGQSFR...      OGG1  VAR_009521   \n",
       "3     MPARALLPRRMGHRTLASTPALWASIPCPRSELRLDLVLPSGQSFR...      OGG1  VAR_014487   \n",
       "4     MPARALLPRRMGHRTLASTPALWASIPCPRSELRLDLVLPSGQSFR...      OGG1  VAR_014488   \n",
       "...                                                 ...       ...         ...   \n",
       "4089  MEVTADQPRWVSHHHPAVLNGQHPDTHHPGLSHSYMDAAQYPLPEE...     GATA3  VAR_017818   \n",
       "4090  MEVTADQPRWVSHHHPAVLNGQHPDTHHPGLSHSYMDAAQYPLPEE...     GATA3  VAR_019202   \n",
       "4091  MEVTADQPRWVSHHHPAVLNGQHPDTHHPGLSHSYMDAAQYPLPEE...     GATA3  VAR_033025   \n",
       "4092  MEVTADQPRWVSHHHPAVLNGQHPDTHHPGLSHSYMDAAQYPLPEE...     GATA3  VAR_075427   \n",
       "4093  MQDDLLMDKSKTQPQPQQQQRQQQQPQPESSVSEAPSTPLSSETPK...     CPEB3  VAR_029776   \n",
       "\n",
       "           change category       snp_id  \\\n",
       "0      p.Arg46Gln     LB/B  rs104893751   \n",
       "1     p.Arg154His     LB/B   rs56053615   \n",
       "2     p.Ser326Cys     LB/B    rs1052133   \n",
       "3     p.Arg229Gln     LB/B    rs1805373   \n",
       "4     p.Ser320Thr     LB/B    rs1801128   \n",
       "...           ...      ...          ...   \n",
       "4089  p.Trp274Arg     LP/P  rs104894163   \n",
       "4090  p.Gly242Ser     LB/B   rs11567901   \n",
       "4091  p.Arg366Leu       US            -   \n",
       "4092  p.Arg298Gln     LP/P            -   \n",
       "4093  p.Arg324Trp     LB/B   rs17853616   \n",
       "\n",
       "                                           disease_name         mim  aa1  pos  \\\n",
       "0                                                     -         NaN  Arg   46   \n",
       "1                                                     -         NaN  Arg  154   \n",
       "2                                                     -         NaN  Ser  326   \n",
       "3                                                     -         NaN  Arg  229   \n",
       "4                                                     -         NaN  Ser  320   \n",
       "...                                                 ...         ...  ...  ...   \n",
       "4089  Hypoparathyroidism, sensorineural deafness, an...  MIM:146255  Trp  274   \n",
       "4090                                                  -         NaN  Gly  242   \n",
       "4091                             A breast cancer sample         NaN  Arg  366   \n",
       "4092  Hypoparathyroidism, sensorineural deafness, an...  MIM:146255  Arg  298   \n",
       "4093                                                  -         NaN  Arg  324   \n",
       "\n",
       "      aa2  \n",
       "0     Gln  \n",
       "1     His  \n",
       "2     Cys  \n",
       "3     Gln  \n",
       "4     Thr  \n",
       "...   ...  \n",
       "4089  Arg  \n",
       "4090  Ser  \n",
       "4091  Leu  \n",
       "4092  Gln  \n",
       "4093  Trp  \n",
       "\n",
       "[4094 rows x 16 columns]"
      ],
      "text/html": "<div>\n<style scoped>\n    .dataframe tbody tr th:only-of-type {\n        vertical-align: middle;\n    }\n\n    .dataframe tbody tr th {\n        vertical-align: top;\n    }\n\n    .dataframe thead th {\n        text-align: right;\n    }\n</style>\n<table border=\"1\" class=\"dataframe\">\n  <thead>\n    <tr style=\"text-align: right;\">\n      <th></th>\n      <th>uniprot</th>\n      <th>organism</th>\n      <th>mlo</th>\n      <th>hgnc_id</th>\n      <th>length</th>\n      <th>sequence</th>\n      <th>gene_name</th>\n      <th>ft_id</th>\n      <th>change</th>\n      <th>category</th>\n      <th>snp_id</th>\n      <th>disease_name</th>\n      <th>mim</th>\n      <th>aa1</th>\n      <th>pos</th>\n      <th>aa2</th>\n    </tr>\n  </thead>\n  <tbody>\n    <tr>\n      <th>0</th>\n      <td>O15527</td>\n      <td>Homo sapiens</td>\n      <td>nuclear speckle</td>\n      <td>HGNC:8125</td>\n      <td>345</td>\n      <td>MPARALLPRRMGHRTLASTPALWASIPCPRSELRLDLVLPSGQSFR...</td>\n      <td>OGG1</td>\n      <td>VAR_009519</td>\n      <td>p.Arg46Gln</td>\n      <td>LB/B</td>\n      <td>rs104893751</td>\n      <td>-</td>\n      <td>NaN</td>\n      <td>Arg</td>\n      <td>46</td>\n      <td>Gln</td>\n    </tr>\n    <tr>\n      <th>1</th>\n      <td>O15527</td>\n      <td>Homo sapiens</td>\n      <td>nuclear speckle</td>\n      <td>HGNC:8125</td>\n      <td>345</td>\n      <td>MPARALLPRRMGHRTLASTPALWASIPCPRSELRLDLVLPSGQSFR...</td>\n      <td>OGG1</td>\n      <td>VAR_009520</td>\n      <td>p.Arg154His</td>\n      <td>LB/B</td>\n      <td>rs56053615</td>\n      <td>-</td>\n      <td>NaN</td>\n      <td>Arg</td>\n      <td>154</td>\n      <td>His</td>\n    </tr>\n    <tr>\n      <th>2</th>\n      <td>O15527</td>\n      <td>Homo sapiens</td>\n      <td>nuclear speckle</td>\n      <td>HGNC:8125</td>\n      <td>345</td>\n      <td>MPARALLPRRMGHRTLASTPALWASIPCPRSELRLDLVLPSGQSFR...</td>\n      <td>OGG1</td>\n      <td>VAR_009521</td>\n      <td>p.Ser326Cys</td>\n      <td>LB/B</td>\n      <td>rs1052133</td>\n      <td>-</td>\n      <td>NaN</td>\n      <td>Ser</td>\n      <td>326</td>\n      <td>Cys</td>\n    </tr>\n    <tr>\n      <th>3</th>\n      <td>O15527</td>\n      <td>Homo sapiens</td>\n      <td>nuclear speckle</td>\n      <td>HGNC:8125</td>\n      <td>345</td>\n      <td>MPARALLPRRMGHRTLASTPALWASIPCPRSELRLDLVLPSGQSFR...</td>\n      <td>OGG1</td>\n      <td>VAR_014487</td>\n      <td>p.Arg229Gln</td>\n      <td>LB/B</td>\n      <td>rs1805373</td>\n      <td>-</td>\n      <td>NaN</td>\n      <td>Arg</td>\n      <td>229</td>\n      <td>Gln</td>\n    </tr>\n    <tr>\n      <th>4</th>\n      <td>O15527</td>\n      <td>Homo sapiens</td>\n      <td>nuclear speckle</td>\n      <td>HGNC:8125</td>\n      <td>345</td>\n      <td>MPARALLPRRMGHRTLASTPALWASIPCPRSELRLDLVLPSGQSFR...</td>\n      <td>OGG1</td>\n      <td>VAR_014488</td>\n      <td>p.Ser320Thr</td>\n      <td>LB/B</td>\n      <td>rs1801128</td>\n      <td>-</td>\n      <td>NaN</td>\n      <td>Ser</td>\n      <td>320</td>\n      <td>Thr</td>\n    </tr>\n    <tr>\n      <th>...</th>\n      <td>...</td>\n      <td>...</td>\n      <td>...</td>\n      <td>...</td>\n      <td>...</td>\n      <td>...</td>\n      <td>...</td>\n      <td>...</td>\n      <td>...</td>\n      <td>...</td>\n      <td>...</td>\n      <td>...</td>\n      <td>...</td>\n      <td>...</td>\n      <td>...</td>\n      <td>...</td>\n    </tr>\n    <tr>\n      <th>4089</th>\n      <td>P23771</td>\n      <td>Homo sapiens</td>\n      <td>enhanceosome</td>\n      <td>HGNC:4172</td>\n      <td>443</td>\n      <td>MEVTADQPRWVSHHHPAVLNGQHPDTHHPGLSHSYMDAAQYPLPEE...</td>\n      <td>GATA3</td>\n      <td>VAR_017818</td>\n      <td>p.Trp274Arg</td>\n      <td>LP/P</td>\n      <td>rs104894163</td>\n      <td>Hypoparathyroidism, sensorineural deafness, an...</td>\n      <td>MIM:146255</td>\n      <td>Trp</td>\n      <td>274</td>\n      <td>Arg</td>\n    </tr>\n    <tr>\n      <th>4090</th>\n      <td>P23771</td>\n      <td>Homo sapiens</td>\n      <td>enhanceosome</td>\n      <td>HGNC:4172</td>\n      <td>443</td>\n      <td>MEVTADQPRWVSHHHPAVLNGQHPDTHHPGLSHSYMDAAQYPLPEE...</td>\n      <td>GATA3</td>\n      <td>VAR_019202</td>\n      <td>p.Gly242Ser</td>\n      <td>LB/B</td>\n      <td>rs11567901</td>\n      <td>-</td>\n      <td>NaN</td>\n      <td>Gly</td>\n      <td>242</td>\n      <td>Ser</td>\n    </tr>\n    <tr>\n      <th>4091</th>\n      <td>P23771</td>\n      <td>Homo sapiens</td>\n      <td>enhanceosome</td>\n      <td>HGNC:4172</td>\n      <td>443</td>\n      <td>MEVTADQPRWVSHHHPAVLNGQHPDTHHPGLSHSYMDAAQYPLPEE...</td>\n      <td>GATA3</td>\n      <td>VAR_033025</td>\n      <td>p.Arg366Leu</td>\n      <td>US</td>\n      <td>-</td>\n      <td>A breast cancer sample</td>\n      <td>NaN</td>\n      <td>Arg</td>\n      <td>366</td>\n      <td>Leu</td>\n    </tr>\n    <tr>\n      <th>4092</th>\n      <td>P23771</td>\n      <td>Homo sapiens</td>\n      <td>enhanceosome</td>\n      <td>HGNC:4172</td>\n      <td>443</td>\n      <td>MEVTADQPRWVSHHHPAVLNGQHPDTHHPGLSHSYMDAAQYPLPEE...</td>\n      <td>GATA3</td>\n      <td>VAR_075427</td>\n      <td>p.Arg298Gln</td>\n      <td>LP/P</td>\n      <td>-</td>\n      <td>Hypoparathyroidism, sensorineural deafness, an...</td>\n      <td>MIM:146255</td>\n      <td>Arg</td>\n      <td>298</td>\n      <td>Gln</td>\n    </tr>\n    <tr>\n      <th>4093</th>\n      <td>Q8NE35</td>\n      <td>Homo sapiens</td>\n      <td>p-body</td>\n      <td>HGNC:21746</td>\n      <td>698</td>\n      <td>MQDDLLMDKSKTQPQPQQQQRQQQQPQPESSVSEAPSTPLSSETPK...</td>\n      <td>CPEB3</td>\n      <td>VAR_029776</td>\n      <td>p.Arg324Trp</td>\n      <td>LB/B</td>\n      <td>rs17853616</td>\n      <td>-</td>\n      <td>NaN</td>\n      <td>Arg</td>\n      <td>324</td>\n      <td>Trp</td>\n    </tr>\n  </tbody>\n</table>\n<p>4094 rows × 16 columns</p>\n</div>"
     },
     "metadata": {},
     "execution_count": 15
    }
   ],
   "source": [
    "box_uniprot_variants['aa1'] = box_uniprot_variants.change.str[2:5]\n",
    "box_uniprot_variants['pos'] = box_uniprot_variants.change.str[5:-3]\n",
    "box_uniprot_variants['aa2'] = box_uniprot_variants.change.str[-3:]\n",
    "box_uniprot_variants"
   ]
  },
  {
   "cell_type": "code",
   "execution_count": 16,
   "metadata": {},
   "outputs": [
    {
     "output_type": "stream",
     "name": "stderr",
     "text": [
      "<ipython-input-16-ae002bc4e4ea>:7: SettingWithCopyWarning: \nA value is trying to be set on a copy of a slice from a DataFrame\n\nSee the caveats in the documentation: https://pandas.pydata.org/pandas-docs/stable/user_guide/indexing.html#returning-a-view-versus-a-copy\n  box_uniprot_variants.aa1[i] = str(seq1(aa1))\n<ipython-input-16-ae002bc4e4ea>:11: SettingWithCopyWarning: \nA value is trying to be set on a copy of a slice from a DataFrame\n\nSee the caveats in the documentation: https://pandas.pydata.org/pandas-docs/stable/user_guide/indexing.html#returning-a-view-versus-a-copy\n  box_uniprot_variants.ctrl[i] = True\n<ipython-input-16-ae002bc4e4ea>:13: SettingWithCopyWarning: \nA value is trying to be set on a copy of a slice from a DataFrame\n\nSee the caveats in the documentation: https://pandas.pydata.org/pandas-docs/stable/user_guide/indexing.html#returning-a-view-versus-a-copy\n  box_uniprot_variants.aa2[i] = str(seq1(aa2))\n"
     ]
    },
    {
     "output_type": "execute_result",
     "data": {
      "text/plain": [
       "     uniprot      organism              mlo     hgnc_id  length  \\\n",
       "0     O15527  Homo sapiens  nuclear speckle   HGNC:8125     345   \n",
       "1     O15527  Homo sapiens  nuclear speckle   HGNC:8125     345   \n",
       "2     O15527  Homo sapiens  nuclear speckle   HGNC:8125     345   \n",
       "3     O15527  Homo sapiens  nuclear speckle   HGNC:8125     345   \n",
       "4     O15527  Homo sapiens  nuclear speckle   HGNC:8125     345   \n",
       "...      ...           ...              ...         ...     ...   \n",
       "4089  P23771  Homo sapiens     enhanceosome   HGNC:4172     443   \n",
       "4090  P23771  Homo sapiens     enhanceosome   HGNC:4172     443   \n",
       "4091  P23771  Homo sapiens     enhanceosome   HGNC:4172     443   \n",
       "4092  P23771  Homo sapiens     enhanceosome   HGNC:4172     443   \n",
       "4093  Q8NE35  Homo sapiens           p-body  HGNC:21746     698   \n",
       "\n",
       "                                               sequence gene_name       ft_id  \\\n",
       "0     MPARALLPRRMGHRTLASTPALWASIPCPRSELRLDLVLPSGQSFR...      OGG1  VAR_009519   \n",
       "1     MPARALLPRRMGHRTLASTPALWASIPCPRSELRLDLVLPSGQSFR...      OGG1  VAR_009520   \n",
       "2     MPARALLPRRMGHRTLASTPALWASIPCPRSELRLDLVLPSGQSFR...      OGG1  VAR_009521   \n",
       "3     MPARALLPRRMGHRTLASTPALWASIPCPRSELRLDLVLPSGQSFR...      OGG1  VAR_014487   \n",
       "4     MPARALLPRRMGHRTLASTPALWASIPCPRSELRLDLVLPSGQSFR...      OGG1  VAR_014488   \n",
       "...                                                 ...       ...         ...   \n",
       "4089  MEVTADQPRWVSHHHPAVLNGQHPDTHHPGLSHSYMDAAQYPLPEE...     GATA3  VAR_017818   \n",
       "4090  MEVTADQPRWVSHHHPAVLNGQHPDTHHPGLSHSYMDAAQYPLPEE...     GATA3  VAR_019202   \n",
       "4091  MEVTADQPRWVSHHHPAVLNGQHPDTHHPGLSHSYMDAAQYPLPEE...     GATA3  VAR_033025   \n",
       "4092  MEVTADQPRWVSHHHPAVLNGQHPDTHHPGLSHSYMDAAQYPLPEE...     GATA3  VAR_075427   \n",
       "4093  MQDDLLMDKSKTQPQPQQQQRQQQQPQPESSVSEAPSTPLSSETPK...     CPEB3  VAR_029776   \n",
       "\n",
       "           change category       snp_id  \\\n",
       "0      p.Arg46Gln     LB/B  rs104893751   \n",
       "1     p.Arg154His     LB/B   rs56053615   \n",
       "2     p.Ser326Cys     LB/B    rs1052133   \n",
       "3     p.Arg229Gln     LB/B    rs1805373   \n",
       "4     p.Ser320Thr     LB/B    rs1801128   \n",
       "...           ...      ...          ...   \n",
       "4089  p.Trp274Arg     LP/P  rs104894163   \n",
       "4090  p.Gly242Ser     LB/B   rs11567901   \n",
       "4091  p.Arg366Leu       US            -   \n",
       "4092  p.Arg298Gln     LP/P            -   \n",
       "4093  p.Arg324Trp     LB/B   rs17853616   \n",
       "\n",
       "                                           disease_name         mim aa1  pos  \\\n",
       "0                                                     -         NaN   R   46   \n",
       "1                                                     -         NaN   R  154   \n",
       "2                                                     -         NaN   S  326   \n",
       "3                                                     -         NaN   R  229   \n",
       "4                                                     -         NaN   S  320   \n",
       "...                                                 ...         ...  ..  ...   \n",
       "4089  Hypoparathyroidism, sensorineural deafness, an...  MIM:146255   W  274   \n",
       "4090                                                  -         NaN   G  242   \n",
       "4091                             A breast cancer sample         NaN   R  366   \n",
       "4092  Hypoparathyroidism, sensorineural deafness, an...  MIM:146255   R  298   \n",
       "4093                                                  -         NaN   R  324   \n",
       "\n",
       "     aa2  ctrl  \n",
       "0      Q  True  \n",
       "1      H  True  \n",
       "2      C  True  \n",
       "3      Q  True  \n",
       "4      T  True  \n",
       "...   ..   ...  \n",
       "4089   R  True  \n",
       "4090   S  True  \n",
       "4091   L  True  \n",
       "4092   Q  True  \n",
       "4093   W  True  \n",
       "\n",
       "[4094 rows x 17 columns]"
      ],
      "text/html": "<div>\n<style scoped>\n    .dataframe tbody tr th:only-of-type {\n        vertical-align: middle;\n    }\n\n    .dataframe tbody tr th {\n        vertical-align: top;\n    }\n\n    .dataframe thead th {\n        text-align: right;\n    }\n</style>\n<table border=\"1\" class=\"dataframe\">\n  <thead>\n    <tr style=\"text-align: right;\">\n      <th></th>\n      <th>uniprot</th>\n      <th>organism</th>\n      <th>mlo</th>\n      <th>hgnc_id</th>\n      <th>length</th>\n      <th>sequence</th>\n      <th>gene_name</th>\n      <th>ft_id</th>\n      <th>change</th>\n      <th>category</th>\n      <th>snp_id</th>\n      <th>disease_name</th>\n      <th>mim</th>\n      <th>aa1</th>\n      <th>pos</th>\n      <th>aa2</th>\n      <th>ctrl</th>\n    </tr>\n  </thead>\n  <tbody>\n    <tr>\n      <th>0</th>\n      <td>O15527</td>\n      <td>Homo sapiens</td>\n      <td>nuclear speckle</td>\n      <td>HGNC:8125</td>\n      <td>345</td>\n      <td>MPARALLPRRMGHRTLASTPALWASIPCPRSELRLDLVLPSGQSFR...</td>\n      <td>OGG1</td>\n      <td>VAR_009519</td>\n      <td>p.Arg46Gln</td>\n      <td>LB/B</td>\n      <td>rs104893751</td>\n      <td>-</td>\n      <td>NaN</td>\n      <td>R</td>\n      <td>46</td>\n      <td>Q</td>\n      <td>True</td>\n    </tr>\n    <tr>\n      <th>1</th>\n      <td>O15527</td>\n      <td>Homo sapiens</td>\n      <td>nuclear speckle</td>\n      <td>HGNC:8125</td>\n      <td>345</td>\n      <td>MPARALLPRRMGHRTLASTPALWASIPCPRSELRLDLVLPSGQSFR...</td>\n      <td>OGG1</td>\n      <td>VAR_009520</td>\n      <td>p.Arg154His</td>\n      <td>LB/B</td>\n      <td>rs56053615</td>\n      <td>-</td>\n      <td>NaN</td>\n      <td>R</td>\n      <td>154</td>\n      <td>H</td>\n      <td>True</td>\n    </tr>\n    <tr>\n      <th>2</th>\n      <td>O15527</td>\n      <td>Homo sapiens</td>\n      <td>nuclear speckle</td>\n      <td>HGNC:8125</td>\n      <td>345</td>\n      <td>MPARALLPRRMGHRTLASTPALWASIPCPRSELRLDLVLPSGQSFR...</td>\n      <td>OGG1</td>\n      <td>VAR_009521</td>\n      <td>p.Ser326Cys</td>\n      <td>LB/B</td>\n      <td>rs1052133</td>\n      <td>-</td>\n      <td>NaN</td>\n      <td>S</td>\n      <td>326</td>\n      <td>C</td>\n      <td>True</td>\n    </tr>\n    <tr>\n      <th>3</th>\n      <td>O15527</td>\n      <td>Homo sapiens</td>\n      <td>nuclear speckle</td>\n      <td>HGNC:8125</td>\n      <td>345</td>\n      <td>MPARALLPRRMGHRTLASTPALWASIPCPRSELRLDLVLPSGQSFR...</td>\n      <td>OGG1</td>\n      <td>VAR_014487</td>\n      <td>p.Arg229Gln</td>\n      <td>LB/B</td>\n      <td>rs1805373</td>\n      <td>-</td>\n      <td>NaN</td>\n      <td>R</td>\n      <td>229</td>\n      <td>Q</td>\n      <td>True</td>\n    </tr>\n    <tr>\n      <th>4</th>\n      <td>O15527</td>\n      <td>Homo sapiens</td>\n      <td>nuclear speckle</td>\n      <td>HGNC:8125</td>\n      <td>345</td>\n      <td>MPARALLPRRMGHRTLASTPALWASIPCPRSELRLDLVLPSGQSFR...</td>\n      <td>OGG1</td>\n      <td>VAR_014488</td>\n      <td>p.Ser320Thr</td>\n      <td>LB/B</td>\n      <td>rs1801128</td>\n      <td>-</td>\n      <td>NaN</td>\n      <td>S</td>\n      <td>320</td>\n      <td>T</td>\n      <td>True</td>\n    </tr>\n    <tr>\n      <th>...</th>\n      <td>...</td>\n      <td>...</td>\n      <td>...</td>\n      <td>...</td>\n      <td>...</td>\n      <td>...</td>\n      <td>...</td>\n      <td>...</td>\n      <td>...</td>\n      <td>...</td>\n      <td>...</td>\n      <td>...</td>\n      <td>...</td>\n      <td>...</td>\n      <td>...</td>\n      <td>...</td>\n      <td>...</td>\n    </tr>\n    <tr>\n      <th>4089</th>\n      <td>P23771</td>\n      <td>Homo sapiens</td>\n      <td>enhanceosome</td>\n      <td>HGNC:4172</td>\n      <td>443</td>\n      <td>MEVTADQPRWVSHHHPAVLNGQHPDTHHPGLSHSYMDAAQYPLPEE...</td>\n      <td>GATA3</td>\n      <td>VAR_017818</td>\n      <td>p.Trp274Arg</td>\n      <td>LP/P</td>\n      <td>rs104894163</td>\n      <td>Hypoparathyroidism, sensorineural deafness, an...</td>\n      <td>MIM:146255</td>\n      <td>W</td>\n      <td>274</td>\n      <td>R</td>\n      <td>True</td>\n    </tr>\n    <tr>\n      <th>4090</th>\n      <td>P23771</td>\n      <td>Homo sapiens</td>\n      <td>enhanceosome</td>\n      <td>HGNC:4172</td>\n      <td>443</td>\n      <td>MEVTADQPRWVSHHHPAVLNGQHPDTHHPGLSHSYMDAAQYPLPEE...</td>\n      <td>GATA3</td>\n      <td>VAR_019202</td>\n      <td>p.Gly242Ser</td>\n      <td>LB/B</td>\n      <td>rs11567901</td>\n      <td>-</td>\n      <td>NaN</td>\n      <td>G</td>\n      <td>242</td>\n      <td>S</td>\n      <td>True</td>\n    </tr>\n    <tr>\n      <th>4091</th>\n      <td>P23771</td>\n      <td>Homo sapiens</td>\n      <td>enhanceosome</td>\n      <td>HGNC:4172</td>\n      <td>443</td>\n      <td>MEVTADQPRWVSHHHPAVLNGQHPDTHHPGLSHSYMDAAQYPLPEE...</td>\n      <td>GATA3</td>\n      <td>VAR_033025</td>\n      <td>p.Arg366Leu</td>\n      <td>US</td>\n      <td>-</td>\n      <td>A breast cancer sample</td>\n      <td>NaN</td>\n      <td>R</td>\n      <td>366</td>\n      <td>L</td>\n      <td>True</td>\n    </tr>\n    <tr>\n      <th>4092</th>\n      <td>P23771</td>\n      <td>Homo sapiens</td>\n      <td>enhanceosome</td>\n      <td>HGNC:4172</td>\n      <td>443</td>\n      <td>MEVTADQPRWVSHHHPAVLNGQHPDTHHPGLSHSYMDAAQYPLPEE...</td>\n      <td>GATA3</td>\n      <td>VAR_075427</td>\n      <td>p.Arg298Gln</td>\n      <td>LP/P</td>\n      <td>-</td>\n      <td>Hypoparathyroidism, sensorineural deafness, an...</td>\n      <td>MIM:146255</td>\n      <td>R</td>\n      <td>298</td>\n      <td>Q</td>\n      <td>True</td>\n    </tr>\n    <tr>\n      <th>4093</th>\n      <td>Q8NE35</td>\n      <td>Homo sapiens</td>\n      <td>p-body</td>\n      <td>HGNC:21746</td>\n      <td>698</td>\n      <td>MQDDLLMDKSKTQPQPQQQQRQQQQPQPESSVSEAPSTPLSSETPK...</td>\n      <td>CPEB3</td>\n      <td>VAR_029776</td>\n      <td>p.Arg324Trp</td>\n      <td>LB/B</td>\n      <td>rs17853616</td>\n      <td>-</td>\n      <td>NaN</td>\n      <td>R</td>\n      <td>324</td>\n      <td>W</td>\n      <td>True</td>\n    </tr>\n  </tbody>\n</table>\n<p>4094 rows × 17 columns</p>\n</div>"
     },
     "metadata": {},
     "execution_count": 16
    }
   ],
   "source": [
    "#Paso los aa de tres letras a una\n",
    "box_uniprot_variants['ctrl'] = False\n",
    "for i in box_uniprot_variants.index:\n",
    "    aa1 = box_uniprot_variants.aa1[i]\n",
    "    aa2 = box_uniprot_variants.aa2[i]\n",
    "    if str(aa1) != 'nan':\n",
    "        box_uniprot_variants.aa1[i] = str(seq1(aa1))\n",
    "        #Evaluo\n",
    "        if int(box_uniprot_variants.pos[i]) <= int(box_uniprot_variants.length[i]): \n",
    "            if box_uniprot_variants.sequence[i][int(box_uniprot_variants.pos[i])-1] == box_uniprot_variants.aa1[i]:\n",
    "                box_uniprot_variants.ctrl[i] = True\n",
    "    if str(aa2) != 'nan':\n",
    "        box_uniprot_variants.aa2[i] = str(seq1(aa2))\n",
    "\n",
    "box_uniprot_variants"
   ]
  },
  {
   "cell_type": "code",
   "execution_count": 17,
   "metadata": {},
   "outputs": [
    {
     "output_type": "execute_result",
     "data": {
      "text/plain": [
       "True    4094\n",
       "Name: ctrl, dtype: int64"
      ]
     },
     "metadata": {},
     "execution_count": 17
    }
   ],
   "source": [
    "box_uniprot_variants.ctrl.value_counts()\n",
    "# todas los aa que cambian coinciden con la secuencia canonica"
   ]
  },
  {
   "cell_type": "code",
   "execution_count": 21,
   "metadata": {},
   "outputs": [
    {
     "output_type": "execute_result",
     "data": {
      "text/plain": [
       "     uniprot gene_name              mlo       snp_id aa1  pos aa2  \\\n",
       "0     O15527      OGG1  nuclear speckle  rs104893751   R   46   Q   \n",
       "1     O15527      OGG1  nuclear speckle   rs56053615   R  154   H   \n",
       "2     O15527      OGG1  nuclear speckle    rs1052133   S  326   C   \n",
       "3     O15527      OGG1  nuclear speckle    rs1805373   R  229   Q   \n",
       "4     O15527      OGG1  nuclear speckle    rs1801128   S  320   T   \n",
       "...      ...       ...              ...          ...  ..  ...  ..   \n",
       "4089  P23771     GATA3     enhanceosome  rs104894163   W  274   R   \n",
       "4090  P23771     GATA3     enhanceosome   rs11567901   G  242   S   \n",
       "4091  P23771     GATA3     enhanceosome            -   R  366   L   \n",
       "4092  P23771     GATA3     enhanceosome            -   R  298   Q   \n",
       "4093  Q8NE35     CPEB3           p-body   rs17853616   R  324   W   \n",
       "\n",
       "                                           disease_name         mim  \n",
       "0                                                     -         NaN  \n",
       "1                                                     -         NaN  \n",
       "2                                                     -         NaN  \n",
       "3                                                     -         NaN  \n",
       "4                                                     -         NaN  \n",
       "...                                                 ...         ...  \n",
       "4089  Hypoparathyroidism, sensorineural deafness, an...  MIM:146255  \n",
       "4090                                                  -         NaN  \n",
       "4091                             A breast cancer sample         NaN  \n",
       "4092  Hypoparathyroidism, sensorineural deafness, an...  MIM:146255  \n",
       "4093                                                  -         NaN  \n",
       "\n",
       "[4094 rows x 9 columns]"
      ],
      "text/html": "<div>\n<style scoped>\n    .dataframe tbody tr th:only-of-type {\n        vertical-align: middle;\n    }\n\n    .dataframe tbody tr th {\n        vertical-align: top;\n    }\n\n    .dataframe thead th {\n        text-align: right;\n    }\n</style>\n<table border=\"1\" class=\"dataframe\">\n  <thead>\n    <tr style=\"text-align: right;\">\n      <th></th>\n      <th>uniprot</th>\n      <th>gene_name</th>\n      <th>mlo</th>\n      <th>snp_id</th>\n      <th>aa1</th>\n      <th>pos</th>\n      <th>aa2</th>\n      <th>disease_name</th>\n      <th>mim</th>\n    </tr>\n  </thead>\n  <tbody>\n    <tr>\n      <th>0</th>\n      <td>O15527</td>\n      <td>OGG1</td>\n      <td>nuclear speckle</td>\n      <td>rs104893751</td>\n      <td>R</td>\n      <td>46</td>\n      <td>Q</td>\n      <td>-</td>\n      <td>NaN</td>\n    </tr>\n    <tr>\n      <th>1</th>\n      <td>O15527</td>\n      <td>OGG1</td>\n      <td>nuclear speckle</td>\n      <td>rs56053615</td>\n      <td>R</td>\n      <td>154</td>\n      <td>H</td>\n      <td>-</td>\n      <td>NaN</td>\n    </tr>\n    <tr>\n      <th>2</th>\n      <td>O15527</td>\n      <td>OGG1</td>\n      <td>nuclear speckle</td>\n      <td>rs1052133</td>\n      <td>S</td>\n      <td>326</td>\n      <td>C</td>\n      <td>-</td>\n      <td>NaN</td>\n    </tr>\n    <tr>\n      <th>3</th>\n      <td>O15527</td>\n      <td>OGG1</td>\n      <td>nuclear speckle</td>\n      <td>rs1805373</td>\n      <td>R</td>\n      <td>229</td>\n      <td>Q</td>\n      <td>-</td>\n      <td>NaN</td>\n    </tr>\n    <tr>\n      <th>4</th>\n      <td>O15527</td>\n      <td>OGG1</td>\n      <td>nuclear speckle</td>\n      <td>rs1801128</td>\n      <td>S</td>\n      <td>320</td>\n      <td>T</td>\n      <td>-</td>\n      <td>NaN</td>\n    </tr>\n    <tr>\n      <th>...</th>\n      <td>...</td>\n      <td>...</td>\n      <td>...</td>\n      <td>...</td>\n      <td>...</td>\n      <td>...</td>\n      <td>...</td>\n      <td>...</td>\n      <td>...</td>\n    </tr>\n    <tr>\n      <th>4089</th>\n      <td>P23771</td>\n      <td>GATA3</td>\n      <td>enhanceosome</td>\n      <td>rs104894163</td>\n      <td>W</td>\n      <td>274</td>\n      <td>R</td>\n      <td>Hypoparathyroidism, sensorineural deafness, an...</td>\n      <td>MIM:146255</td>\n    </tr>\n    <tr>\n      <th>4090</th>\n      <td>P23771</td>\n      <td>GATA3</td>\n      <td>enhanceosome</td>\n      <td>rs11567901</td>\n      <td>G</td>\n      <td>242</td>\n      <td>S</td>\n      <td>-</td>\n      <td>NaN</td>\n    </tr>\n    <tr>\n      <th>4091</th>\n      <td>P23771</td>\n      <td>GATA3</td>\n      <td>enhanceosome</td>\n      <td>-</td>\n      <td>R</td>\n      <td>366</td>\n      <td>L</td>\n      <td>A breast cancer sample</td>\n      <td>NaN</td>\n    </tr>\n    <tr>\n      <th>4092</th>\n      <td>P23771</td>\n      <td>GATA3</td>\n      <td>enhanceosome</td>\n      <td>-</td>\n      <td>R</td>\n      <td>298</td>\n      <td>Q</td>\n      <td>Hypoparathyroidism, sensorineural deafness, an...</td>\n      <td>MIM:146255</td>\n    </tr>\n    <tr>\n      <th>4093</th>\n      <td>Q8NE35</td>\n      <td>CPEB3</td>\n      <td>p-body</td>\n      <td>rs17853616</td>\n      <td>R</td>\n      <td>324</td>\n      <td>W</td>\n      <td>-</td>\n      <td>NaN</td>\n    </tr>\n  </tbody>\n</table>\n<p>4094 rows × 9 columns</p>\n</div>"
     },
     "metadata": {},
     "execution_count": 21
    }
   ],
   "source": [
    "box_uniprot_variants[['uniprot', 'gene_name', 'mlo', 'snp_id', 'aa1', 'pos', 'aa2', 'disease_name', 'mim']]"
   ]
  },
  {
   "source": [
    "## Guardo"
   ],
   "cell_type": "markdown",
   "metadata": {}
  },
  {
   "cell_type": "code",
   "execution_count": 70,
   "metadata": {},
   "outputs": [
    {
     "output_type": "execute_result",
     "data": {
      "text/plain": [
       "'g:\\\\My Drive\\\\FIL\\\\project'"
      ]
     },
     "metadata": {},
     "execution_count": 70
    }
   ],
   "source": [
    "import os\n",
    "os.getcwd()"
   ]
  },
  {
   "cell_type": "code",
   "execution_count": 73,
   "metadata": {},
   "outputs": [],
   "source": [
    "path = 'g:\\\\My Drive\\\\FIL\\\\project\\\\datasets\\\\uniprot_box1_variants.csv'\r\n",
    "box_uniprot_variants.to_csv(path, index=False)"
   ]
  },
  {
   "cell_type": "code",
   "execution_count": 37,
   "metadata": {},
   "outputs": [
    {
     "output_type": "execute_result",
     "data": {
      "text/plain": [
       "-               1254\n",
       "rs121909329        4\n",
       "rs5030808          4\n",
       "rs1057520007       3\n",
       "rs1057519998       3\n",
       "                ... \n",
       "rs1555532483       1\n",
       "rs886037953        1\n",
       "rs397509428        1\n",
       "rs796052231        1\n",
       "rs148489044        1\n",
       "Name: snp_id, Length: 2554, dtype: int64"
      ]
     },
     "metadata": {},
     "execution_count": 37
    }
   ],
   "source": [
    "box_uniprot_variants.snp_id.value_counts()"
   ]
  },
  {
   "cell_type": "code",
   "execution_count": 38,
   "metadata": {},
   "outputs": [
    {
     "output_type": "execute_result",
     "data": {
      "text/plain": [
       "     uniprot      organism                          mlo    hgnc_id  length  \\\n",
       "10    O15527  Homo sapiens              nuclear speckle  HGNC:8125     345   \n",
       "58    P46100  Homo sapiens             pml nuclear body   HGNC:886    2492   \n",
       "59    P46100  Homo sapiens             pml nuclear body   HGNC:886    2492   \n",
       "60    P46100  Homo sapiens             pml nuclear body   HGNC:886    2492   \n",
       "61    P46100  Homo sapiens             pml nuclear body   HGNC:886    2492   \n",
       "...      ...           ...                          ...        ...     ...   \n",
       "4080  P04156  Homo sapiens  cytoplasmic protein granule  HGNC:9449     253   \n",
       "4081  P04156  Homo sapiens  cytoplasmic protein granule  HGNC:9449     253   \n",
       "4086  P04156  Homo sapiens  cytoplasmic protein granule  HGNC:9449     253   \n",
       "4091  P23771  Homo sapiens                 enhanceosome  HGNC:4172     443   \n",
       "4092  P23771  Homo sapiens                 enhanceosome  HGNC:4172     443   \n",
       "\n",
       "                                               sequence gene_name       ft_id  \\\n",
       "10    MPARALLPRRMGHRTLASTPALWASIPCPRSELRLDLVLPSGQSFR...      OGG1  VAR_024834   \n",
       "58    MTAEPMSESKLNTLVQKLHDFLAHSSEESEETSSPPRLAMNQNTDK...      ATRX  VAR_001227   \n",
       "59    MTAEPMSESKLNTLVQKLHDFLAHSSEESEETSSPPRLAMNQNTDK...      ATRX  VAR_001228   \n",
       "60    MTAEPMSESKLNTLVQKLHDFLAHSSEESEETSSPPRLAMNQNTDK...      ATRX  VAR_001229   \n",
       "61    MTAEPMSESKLNTLVQKLHDFLAHSSEESEETSSPPRLAMNQNTDK...      ATRX  VAR_001230   \n",
       "...                                                 ...       ...         ...   \n",
       "4080  MANLGCWMLVLFVATWSDLGLCKKRPKPGGWNTGGSRYPGQGSPGG...      PRNP  VAR_008748   \n",
       "4081  MANLGCWMLVLFVATWSDLGLCKKRPKPGGWNTGGSRYPGQGSPGG...      PRNP  VAR_008749   \n",
       "4086  MANLGCWMLVLFVATWSDLGLCKKRPKPGGWNTGGSRYPGQGSPGG...      PRNP  VAR_008754   \n",
       "4091  MEVTADQPRWVSHHHPAVLNGQHPDTHHPGLSHSYMDAAQYPLPEE...     GATA3  VAR_033025   \n",
       "4092  MEVTADQPRWVSHHHPAVLNGQHPDTHHPGLSHSYMDAAQYPLPEE...     GATA3  VAR_075427   \n",
       "\n",
       "           change category snp_id  \\\n",
       "10    p.Ser232Thr       US      -   \n",
       "58    p.Leu192Phe     LP/P      -   \n",
       "59    p.Cys200Ser     LP/P      -   \n",
       "60    p.Cys220Arg     LP/P      -   \n",
       "61    p.Trp222Ser     LP/P      -   \n",
       "...           ...      ...    ...   \n",
       "4080  p.Thr188Lys       US      -   \n",
       "4081  p.Glu196Lys     LP/P      -   \n",
       "4086  p.Pro238Ser     LB/B      -   \n",
       "4091  p.Arg366Leu       US      -   \n",
       "4092  p.Arg298Gln     LP/P      -   \n",
       "\n",
       "                                           disease_name         mim aa1  pos  \\\n",
       "10                                                    -         NaN   S  232   \n",
       "58    Alpha-thalassemia mental retardation syndrome,...  MIM:301040   L  192   \n",
       "59    Alpha-thalassemia mental retardation syndrome,...  MIM:301040   C  200   \n",
       "60    Alpha-thalassemia mental retardation syndrome,...  MIM:301040   C  220   \n",
       "61    Alpha-thalassemia mental retardation syndrome,...  MIM:301040   W  222   \n",
       "...                                                 ...         ...  ..  ...   \n",
       "4080                                                  -         NaN   T  188   \n",
       "4081       Creutzfeldt-Jakob disease (CJD) [MIM:123400]  MIM:123400   E  196   \n",
       "4086                                                  -         NaN   P  238   \n",
       "4091                             A breast cancer sample         NaN   R  366   \n",
       "4092  Hypoparathyroidism, sensorineural deafness, an...  MIM:146255   R  298   \n",
       "\n",
       "     aa2  ctrl  \n",
       "10     T  True  \n",
       "58     F  True  \n",
       "59     S  True  \n",
       "60     R  True  \n",
       "61     S  True  \n",
       "...   ..   ...  \n",
       "4080   K  True  \n",
       "4081   K  True  \n",
       "4086   S  True  \n",
       "4091   L  True  \n",
       "4092   Q  True  \n",
       "\n",
       "[1254 rows x 17 columns]"
      ],
      "text/html": "<div>\n<style scoped>\n    .dataframe tbody tr th:only-of-type {\n        vertical-align: middle;\n    }\n\n    .dataframe tbody tr th {\n        vertical-align: top;\n    }\n\n    .dataframe thead th {\n        text-align: right;\n    }\n</style>\n<table border=\"1\" class=\"dataframe\">\n  <thead>\n    <tr style=\"text-align: right;\">\n      <th></th>\n      <th>uniprot</th>\n      <th>organism</th>\n      <th>mlo</th>\n      <th>hgnc_id</th>\n      <th>length</th>\n      <th>sequence</th>\n      <th>gene_name</th>\n      <th>ft_id</th>\n      <th>change</th>\n      <th>category</th>\n      <th>snp_id</th>\n      <th>disease_name</th>\n      <th>mim</th>\n      <th>aa1</th>\n      <th>pos</th>\n      <th>aa2</th>\n      <th>ctrl</th>\n    </tr>\n  </thead>\n  <tbody>\n    <tr>\n      <th>10</th>\n      <td>O15527</td>\n      <td>Homo sapiens</td>\n      <td>nuclear speckle</td>\n      <td>HGNC:8125</td>\n      <td>345</td>\n      <td>MPARALLPRRMGHRTLASTPALWASIPCPRSELRLDLVLPSGQSFR...</td>\n      <td>OGG1</td>\n      <td>VAR_024834</td>\n      <td>p.Ser232Thr</td>\n      <td>US</td>\n      <td>-</td>\n      <td>-</td>\n      <td>NaN</td>\n      <td>S</td>\n      <td>232</td>\n      <td>T</td>\n      <td>True</td>\n    </tr>\n    <tr>\n      <th>58</th>\n      <td>P46100</td>\n      <td>Homo sapiens</td>\n      <td>pml nuclear body</td>\n      <td>HGNC:886</td>\n      <td>2492</td>\n      <td>MTAEPMSESKLNTLVQKLHDFLAHSSEESEETSSPPRLAMNQNTDK...</td>\n      <td>ATRX</td>\n      <td>VAR_001227</td>\n      <td>p.Leu192Phe</td>\n      <td>LP/P</td>\n      <td>-</td>\n      <td>Alpha-thalassemia mental retardation syndrome,...</td>\n      <td>MIM:301040</td>\n      <td>L</td>\n      <td>192</td>\n      <td>F</td>\n      <td>True</td>\n    </tr>\n    <tr>\n      <th>59</th>\n      <td>P46100</td>\n      <td>Homo sapiens</td>\n      <td>pml nuclear body</td>\n      <td>HGNC:886</td>\n      <td>2492</td>\n      <td>MTAEPMSESKLNTLVQKLHDFLAHSSEESEETSSPPRLAMNQNTDK...</td>\n      <td>ATRX</td>\n      <td>VAR_001228</td>\n      <td>p.Cys200Ser</td>\n      <td>LP/P</td>\n      <td>-</td>\n      <td>Alpha-thalassemia mental retardation syndrome,...</td>\n      <td>MIM:301040</td>\n      <td>C</td>\n      <td>200</td>\n      <td>S</td>\n      <td>True</td>\n    </tr>\n    <tr>\n      <th>60</th>\n      <td>P46100</td>\n      <td>Homo sapiens</td>\n      <td>pml nuclear body</td>\n      <td>HGNC:886</td>\n      <td>2492</td>\n      <td>MTAEPMSESKLNTLVQKLHDFLAHSSEESEETSSPPRLAMNQNTDK...</td>\n      <td>ATRX</td>\n      <td>VAR_001229</td>\n      <td>p.Cys220Arg</td>\n      <td>LP/P</td>\n      <td>-</td>\n      <td>Alpha-thalassemia mental retardation syndrome,...</td>\n      <td>MIM:301040</td>\n      <td>C</td>\n      <td>220</td>\n      <td>R</td>\n      <td>True</td>\n    </tr>\n    <tr>\n      <th>61</th>\n      <td>P46100</td>\n      <td>Homo sapiens</td>\n      <td>pml nuclear body</td>\n      <td>HGNC:886</td>\n      <td>2492</td>\n      <td>MTAEPMSESKLNTLVQKLHDFLAHSSEESEETSSPPRLAMNQNTDK...</td>\n      <td>ATRX</td>\n      <td>VAR_001230</td>\n      <td>p.Trp222Ser</td>\n      <td>LP/P</td>\n      <td>-</td>\n      <td>Alpha-thalassemia mental retardation syndrome,...</td>\n      <td>MIM:301040</td>\n      <td>W</td>\n      <td>222</td>\n      <td>S</td>\n      <td>True</td>\n    </tr>\n    <tr>\n      <th>...</th>\n      <td>...</td>\n      <td>...</td>\n      <td>...</td>\n      <td>...</td>\n      <td>...</td>\n      <td>...</td>\n      <td>...</td>\n      <td>...</td>\n      <td>...</td>\n      <td>...</td>\n      <td>...</td>\n      <td>...</td>\n      <td>...</td>\n      <td>...</td>\n      <td>...</td>\n      <td>...</td>\n      <td>...</td>\n    </tr>\n    <tr>\n      <th>4080</th>\n      <td>P04156</td>\n      <td>Homo sapiens</td>\n      <td>cytoplasmic protein granule</td>\n      <td>HGNC:9449</td>\n      <td>253</td>\n      <td>MANLGCWMLVLFVATWSDLGLCKKRPKPGGWNTGGSRYPGQGSPGG...</td>\n      <td>PRNP</td>\n      <td>VAR_008748</td>\n      <td>p.Thr188Lys</td>\n      <td>US</td>\n      <td>-</td>\n      <td>-</td>\n      <td>NaN</td>\n      <td>T</td>\n      <td>188</td>\n      <td>K</td>\n      <td>True</td>\n    </tr>\n    <tr>\n      <th>4081</th>\n      <td>P04156</td>\n      <td>Homo sapiens</td>\n      <td>cytoplasmic protein granule</td>\n      <td>HGNC:9449</td>\n      <td>253</td>\n      <td>MANLGCWMLVLFVATWSDLGLCKKRPKPGGWNTGGSRYPGQGSPGG...</td>\n      <td>PRNP</td>\n      <td>VAR_008749</td>\n      <td>p.Glu196Lys</td>\n      <td>LP/P</td>\n      <td>-</td>\n      <td>Creutzfeldt-Jakob disease (CJD) [MIM:123400]</td>\n      <td>MIM:123400</td>\n      <td>E</td>\n      <td>196</td>\n      <td>K</td>\n      <td>True</td>\n    </tr>\n    <tr>\n      <th>4086</th>\n      <td>P04156</td>\n      <td>Homo sapiens</td>\n      <td>cytoplasmic protein granule</td>\n      <td>HGNC:9449</td>\n      <td>253</td>\n      <td>MANLGCWMLVLFVATWSDLGLCKKRPKPGGWNTGGSRYPGQGSPGG...</td>\n      <td>PRNP</td>\n      <td>VAR_008754</td>\n      <td>p.Pro238Ser</td>\n      <td>LB/B</td>\n      <td>-</td>\n      <td>-</td>\n      <td>NaN</td>\n      <td>P</td>\n      <td>238</td>\n      <td>S</td>\n      <td>True</td>\n    </tr>\n    <tr>\n      <th>4091</th>\n      <td>P23771</td>\n      <td>Homo sapiens</td>\n      <td>enhanceosome</td>\n      <td>HGNC:4172</td>\n      <td>443</td>\n      <td>MEVTADQPRWVSHHHPAVLNGQHPDTHHPGLSHSYMDAAQYPLPEE...</td>\n      <td>GATA3</td>\n      <td>VAR_033025</td>\n      <td>p.Arg366Leu</td>\n      <td>US</td>\n      <td>-</td>\n      <td>A breast cancer sample</td>\n      <td>NaN</td>\n      <td>R</td>\n      <td>366</td>\n      <td>L</td>\n      <td>True</td>\n    </tr>\n    <tr>\n      <th>4092</th>\n      <td>P23771</td>\n      <td>Homo sapiens</td>\n      <td>enhanceosome</td>\n      <td>HGNC:4172</td>\n      <td>443</td>\n      <td>MEVTADQPRWVSHHHPAVLNGQHPDTHHPGLSHSYMDAAQYPLPEE...</td>\n      <td>GATA3</td>\n      <td>VAR_075427</td>\n      <td>p.Arg298Gln</td>\n      <td>LP/P</td>\n      <td>-</td>\n      <td>Hypoparathyroidism, sensorineural deafness, an...</td>\n      <td>MIM:146255</td>\n      <td>R</td>\n      <td>298</td>\n      <td>Q</td>\n      <td>True</td>\n    </tr>\n  </tbody>\n</table>\n<p>1254 rows × 17 columns</p>\n</div>"
     },
     "metadata": {},
     "execution_count": 38
    }
   ],
   "source": [
    "box_uniprot_variants[box_uniprot_variants.snp_id == '-']"
   ]
  },
  {
   "cell_type": "code",
   "execution_count": 19,
   "metadata": {},
   "outputs": [
    {
     "output_type": "execute_result",
     "data": {
      "text/plain": [
       "     uniprot  pfam_id      pfam_domain  pfam_start  pfam_end\n",
       "0     P55072  PF00004              AAA         241       371\n",
       "1     P55072  PF00004              AAA         514       647\n",
       "2     Q5HY92  PF00004              AAA         522       652\n",
       "3     O15381  PF00004              AAA         618       748\n",
       "4     O15381  PF00004              AAA         301       434\n",
       "...      ...      ...              ...         ...       ...\n",
       "1422  Q6PJT7  PF14608        zf-CCCH_2         681       698\n",
       "1423  Q6PJT7  PF14608        zf-CCCH_2         701       717\n",
       "1424  Q6PJT7  PF14608        zf-CCCH_2         640       656\n",
       "1425  P61129  PF14608        zf-CCCH_2         329       349\n",
       "1426  O15169  PF08833  Axin_b-cat_bind         465       498\n",
       "\n",
       "[1427 rows x 5 columns]"
      ],
      "text/html": "<div>\n<style scoped>\n    .dataframe tbody tr th:only-of-type {\n        vertical-align: middle;\n    }\n\n    .dataframe tbody tr th {\n        vertical-align: top;\n    }\n\n    .dataframe thead th {\n        text-align: right;\n    }\n</style>\n<table border=\"1\" class=\"dataframe\">\n  <thead>\n    <tr style=\"text-align: right;\">\n      <th></th>\n      <th>uniprot</th>\n      <th>pfam_id</th>\n      <th>pfam_domain</th>\n      <th>pfam_start</th>\n      <th>pfam_end</th>\n    </tr>\n  </thead>\n  <tbody>\n    <tr>\n      <th>0</th>\n      <td>P55072</td>\n      <td>PF00004</td>\n      <td>AAA</td>\n      <td>241</td>\n      <td>371</td>\n    </tr>\n    <tr>\n      <th>1</th>\n      <td>P55072</td>\n      <td>PF00004</td>\n      <td>AAA</td>\n      <td>514</td>\n      <td>647</td>\n    </tr>\n    <tr>\n      <th>2</th>\n      <td>Q5HY92</td>\n      <td>PF00004</td>\n      <td>AAA</td>\n      <td>522</td>\n      <td>652</td>\n    </tr>\n    <tr>\n      <th>3</th>\n      <td>O15381</td>\n      <td>PF00004</td>\n      <td>AAA</td>\n      <td>618</td>\n      <td>748</td>\n    </tr>\n    <tr>\n      <th>4</th>\n      <td>O15381</td>\n      <td>PF00004</td>\n      <td>AAA</td>\n      <td>301</td>\n      <td>434</td>\n    </tr>\n    <tr>\n      <th>...</th>\n      <td>...</td>\n      <td>...</td>\n      <td>...</td>\n      <td>...</td>\n      <td>...</td>\n    </tr>\n    <tr>\n      <th>1422</th>\n      <td>Q6PJT7</td>\n      <td>PF14608</td>\n      <td>zf-CCCH_2</td>\n      <td>681</td>\n      <td>698</td>\n    </tr>\n    <tr>\n      <th>1423</th>\n      <td>Q6PJT7</td>\n      <td>PF14608</td>\n      <td>zf-CCCH_2</td>\n      <td>701</td>\n      <td>717</td>\n    </tr>\n    <tr>\n      <th>1424</th>\n      <td>Q6PJT7</td>\n      <td>PF14608</td>\n      <td>zf-CCCH_2</td>\n      <td>640</td>\n      <td>656</td>\n    </tr>\n    <tr>\n      <th>1425</th>\n      <td>P61129</td>\n      <td>PF14608</td>\n      <td>zf-CCCH_2</td>\n      <td>329</td>\n      <td>349</td>\n    </tr>\n    <tr>\n      <th>1426</th>\n      <td>O15169</td>\n      <td>PF08833</td>\n      <td>Axin_b-cat_bind</td>\n      <td>465</td>\n      <td>498</td>\n    </tr>\n  </tbody>\n</table>\n<p>1427 rows × 5 columns</p>\n</div>"
     },
     "metadata": {},
     "execution_count": 19
    }
   ],
   "source": [
    "pfam_box"
   ]
  },
  {
   "cell_type": "code",
   "execution_count": 22,
   "metadata": {},
   "outputs": [
    {
     "output_type": "stream",
     "name": "stderr",
     "text": [
      "<ipython-input-22-ee3847a6ebd5>:10: SettingWithCopyWarning: \nA value is trying to be set on a copy of a slice from a DataFrame\n\nSee the caveats in the documentation: https://pandas.pydata.org/pandas-docs/stable/user_guide/indexing.html#returning-a-view-versus-a-copy\n  pfam.in_dom[i] = False\n<ipython-input-22-ee3847a6ebd5>:8: SettingWithCopyWarning: \nA value is trying to be set on a copy of a slice from a DataFrame\n\nSee the caveats in the documentation: https://pandas.pydata.org/pandas-docs/stable/user_guide/indexing.html#returning-a-view-versus-a-copy\n  pfam.in_dom[i] = True\n"
     ]
    },
    {
     "output_type": "execute_result",
     "data": {
      "text/plain": [
       "      uniprot      organism              mlo     hgnc_id  length  \\\n",
       "0      O15527  Homo sapiens  nuclear speckle   HGNC:8125     345   \n",
       "1      O15527  Homo sapiens  nuclear speckle   HGNC:8125     345   \n",
       "2      O15527  Homo sapiens  nuclear speckle   HGNC:8125     345   \n",
       "3      O15527  Homo sapiens  nuclear speckle   HGNC:8125     345   \n",
       "4      O15527  Homo sapiens  nuclear speckle   HGNC:8125     345   \n",
       "...       ...           ...              ...         ...     ...   \n",
       "14706  P23771  Homo sapiens     enhanceosome   HGNC:4172     443   \n",
       "14707  P23771  Homo sapiens     enhanceosome   HGNC:4172     443   \n",
       "14708  P23771  Homo sapiens     enhanceosome   HGNC:4172     443   \n",
       "14709  Q8NE35  Homo sapiens           p-body  HGNC:21746     698   \n",
       "14710  Q8NE35  Homo sapiens           p-body  HGNC:21746     698   \n",
       "\n",
       "                                                sequence gene_name  \\\n",
       "0      MPARALLPRRMGHRTLASTPALWASIPCPRSELRLDLVLPSGQSFR...      OGG1   \n",
       "1      MPARALLPRRMGHRTLASTPALWASIPCPRSELRLDLVLPSGQSFR...      OGG1   \n",
       "2      MPARALLPRRMGHRTLASTPALWASIPCPRSELRLDLVLPSGQSFR...      OGG1   \n",
       "3      MPARALLPRRMGHRTLASTPALWASIPCPRSELRLDLVLPSGQSFR...      OGG1   \n",
       "4      MPARALLPRRMGHRTLASTPALWASIPCPRSELRLDLVLPSGQSFR...      OGG1   \n",
       "...                                                  ...       ...   \n",
       "14706  MEVTADQPRWVSHHHPAVLNGQHPDTHHPGLSHSYMDAAQYPLPEE...     GATA3   \n",
       "14707  MEVTADQPRWVSHHHPAVLNGQHPDTHHPGLSHSYMDAAQYPLPEE...     GATA3   \n",
       "14708  MEVTADQPRWVSHHHPAVLNGQHPDTHHPGLSHSYMDAAQYPLPEE...     GATA3   \n",
       "14709  MQDDLLMDKSKTQPQPQQQQRQQQQPQPESSVSEAPSTPLSSETPK...     CPEB3   \n",
       "14710  MQDDLLMDKSKTQPQPQQQQRQQQQPQPESSVSEAPSTPLSSETPK...     CPEB3   \n",
       "\n",
       "            ft_id       change category  ...         mim aa1  pos aa2  ctrl  \\\n",
       "0      VAR_009519   p.Arg46Gln     LB/B  ...         NaN   R   46   Q  True   \n",
       "1      VAR_009519   p.Arg46Gln     LB/B  ...         NaN   R   46   Q  True   \n",
       "2      VAR_009520  p.Arg154His     LB/B  ...         NaN   R  154   H  True   \n",
       "3      VAR_009520  p.Arg154His     LB/B  ...         NaN   R  154   H  True   \n",
       "4      VAR_009521  p.Ser326Cys     LB/B  ...         NaN   S  326   C  True   \n",
       "...           ...          ...      ...  ...         ...  ..  ...  ..   ...   \n",
       "14706  VAR_033025  p.Arg366Leu       US  ...         NaN   R  366   L  True   \n",
       "14707  VAR_075427  p.Arg298Gln     LP/P  ...  MIM:146255   R  298   Q  True   \n",
       "14708  VAR_075427  p.Arg298Gln     LP/P  ...  MIM:146255   R  298   Q  True   \n",
       "14709  VAR_029776  p.Arg324Trp     LB/B  ...         NaN   R  324   W  True   \n",
       "14710  VAR_029776  p.Arg324Trp     LB/B  ...         NaN   R  324   W  True   \n",
       "\n",
       "       pfam_id  pfam_domain pfam_start pfam_end  in_dom  \n",
       "0      PF00730      HhH-GPD        142      301   False  \n",
       "1      PF07934        OGG_N         25      141    True  \n",
       "2      PF00730      HhH-GPD        142      301    True  \n",
       "3      PF07934        OGG_N         25      141   False  \n",
       "4      PF00730      HhH-GPD        142      301   False  \n",
       "...        ...          ...        ...      ...     ...  \n",
       "14706  PF00320         GATA        317      351   False  \n",
       "14707  PF00320         GATA        263      297   False  \n",
       "14708  PF00320         GATA        317      351   False  \n",
       "14709  PF16366      CEBP_ZZ        622      685   False  \n",
       "14710  PF16367        RRM_7        440      529   False  \n",
       "\n",
       "[14711 rows x 22 columns]"
      ],
      "text/html": "<div>\n<style scoped>\n    .dataframe tbody tr th:only-of-type {\n        vertical-align: middle;\n    }\n\n    .dataframe tbody tr th {\n        vertical-align: top;\n    }\n\n    .dataframe thead th {\n        text-align: right;\n    }\n</style>\n<table border=\"1\" class=\"dataframe\">\n  <thead>\n    <tr style=\"text-align: right;\">\n      <th></th>\n      <th>uniprot</th>\n      <th>organism</th>\n      <th>mlo</th>\n      <th>hgnc_id</th>\n      <th>length</th>\n      <th>sequence</th>\n      <th>gene_name</th>\n      <th>ft_id</th>\n      <th>change</th>\n      <th>category</th>\n      <th>...</th>\n      <th>mim</th>\n      <th>aa1</th>\n      <th>pos</th>\n      <th>aa2</th>\n      <th>ctrl</th>\n      <th>pfam_id</th>\n      <th>pfam_domain</th>\n      <th>pfam_start</th>\n      <th>pfam_end</th>\n      <th>in_dom</th>\n    </tr>\n  </thead>\n  <tbody>\n    <tr>\n      <th>0</th>\n      <td>O15527</td>\n      <td>Homo sapiens</td>\n      <td>nuclear speckle</td>\n      <td>HGNC:8125</td>\n      <td>345</td>\n      <td>MPARALLPRRMGHRTLASTPALWASIPCPRSELRLDLVLPSGQSFR...</td>\n      <td>OGG1</td>\n      <td>VAR_009519</td>\n      <td>p.Arg46Gln</td>\n      <td>LB/B</td>\n      <td>...</td>\n      <td>NaN</td>\n      <td>R</td>\n      <td>46</td>\n      <td>Q</td>\n      <td>True</td>\n      <td>PF00730</td>\n      <td>HhH-GPD</td>\n      <td>142</td>\n      <td>301</td>\n      <td>False</td>\n    </tr>\n    <tr>\n      <th>1</th>\n      <td>O15527</td>\n      <td>Homo sapiens</td>\n      <td>nuclear speckle</td>\n      <td>HGNC:8125</td>\n      <td>345</td>\n      <td>MPARALLPRRMGHRTLASTPALWASIPCPRSELRLDLVLPSGQSFR...</td>\n      <td>OGG1</td>\n      <td>VAR_009519</td>\n      <td>p.Arg46Gln</td>\n      <td>LB/B</td>\n      <td>...</td>\n      <td>NaN</td>\n      <td>R</td>\n      <td>46</td>\n      <td>Q</td>\n      <td>True</td>\n      <td>PF07934</td>\n      <td>OGG_N</td>\n      <td>25</td>\n      <td>141</td>\n      <td>True</td>\n    </tr>\n    <tr>\n      <th>2</th>\n      <td>O15527</td>\n      <td>Homo sapiens</td>\n      <td>nuclear speckle</td>\n      <td>HGNC:8125</td>\n      <td>345</td>\n      <td>MPARALLPRRMGHRTLASTPALWASIPCPRSELRLDLVLPSGQSFR...</td>\n      <td>OGG1</td>\n      <td>VAR_009520</td>\n      <td>p.Arg154His</td>\n      <td>LB/B</td>\n      <td>...</td>\n      <td>NaN</td>\n      <td>R</td>\n      <td>154</td>\n      <td>H</td>\n      <td>True</td>\n      <td>PF00730</td>\n      <td>HhH-GPD</td>\n      <td>142</td>\n      <td>301</td>\n      <td>True</td>\n    </tr>\n    <tr>\n      <th>3</th>\n      <td>O15527</td>\n      <td>Homo sapiens</td>\n      <td>nuclear speckle</td>\n      <td>HGNC:8125</td>\n      <td>345</td>\n      <td>MPARALLPRRMGHRTLASTPALWASIPCPRSELRLDLVLPSGQSFR...</td>\n      <td>OGG1</td>\n      <td>VAR_009520</td>\n      <td>p.Arg154His</td>\n      <td>LB/B</td>\n      <td>...</td>\n      <td>NaN</td>\n      <td>R</td>\n      <td>154</td>\n      <td>H</td>\n      <td>True</td>\n      <td>PF07934</td>\n      <td>OGG_N</td>\n      <td>25</td>\n      <td>141</td>\n      <td>False</td>\n    </tr>\n    <tr>\n      <th>4</th>\n      <td>O15527</td>\n      <td>Homo sapiens</td>\n      <td>nuclear speckle</td>\n      <td>HGNC:8125</td>\n      <td>345</td>\n      <td>MPARALLPRRMGHRTLASTPALWASIPCPRSELRLDLVLPSGQSFR...</td>\n      <td>OGG1</td>\n      <td>VAR_009521</td>\n      <td>p.Ser326Cys</td>\n      <td>LB/B</td>\n      <td>...</td>\n      <td>NaN</td>\n      <td>S</td>\n      <td>326</td>\n      <td>C</td>\n      <td>True</td>\n      <td>PF00730</td>\n      <td>HhH-GPD</td>\n      <td>142</td>\n      <td>301</td>\n      <td>False</td>\n    </tr>\n    <tr>\n      <th>...</th>\n      <td>...</td>\n      <td>...</td>\n      <td>...</td>\n      <td>...</td>\n      <td>...</td>\n      <td>...</td>\n      <td>...</td>\n      <td>...</td>\n      <td>...</td>\n      <td>...</td>\n      <td>...</td>\n      <td>...</td>\n      <td>...</td>\n      <td>...</td>\n      <td>...</td>\n      <td>...</td>\n      <td>...</td>\n      <td>...</td>\n      <td>...</td>\n      <td>...</td>\n      <td>...</td>\n    </tr>\n    <tr>\n      <th>14706</th>\n      <td>P23771</td>\n      <td>Homo sapiens</td>\n      <td>enhanceosome</td>\n      <td>HGNC:4172</td>\n      <td>443</td>\n      <td>MEVTADQPRWVSHHHPAVLNGQHPDTHHPGLSHSYMDAAQYPLPEE...</td>\n      <td>GATA3</td>\n      <td>VAR_033025</td>\n      <td>p.Arg366Leu</td>\n      <td>US</td>\n      <td>...</td>\n      <td>NaN</td>\n      <td>R</td>\n      <td>366</td>\n      <td>L</td>\n      <td>True</td>\n      <td>PF00320</td>\n      <td>GATA</td>\n      <td>317</td>\n      <td>351</td>\n      <td>False</td>\n    </tr>\n    <tr>\n      <th>14707</th>\n      <td>P23771</td>\n      <td>Homo sapiens</td>\n      <td>enhanceosome</td>\n      <td>HGNC:4172</td>\n      <td>443</td>\n      <td>MEVTADQPRWVSHHHPAVLNGQHPDTHHPGLSHSYMDAAQYPLPEE...</td>\n      <td>GATA3</td>\n      <td>VAR_075427</td>\n      <td>p.Arg298Gln</td>\n      <td>LP/P</td>\n      <td>...</td>\n      <td>MIM:146255</td>\n      <td>R</td>\n      <td>298</td>\n      <td>Q</td>\n      <td>True</td>\n      <td>PF00320</td>\n      <td>GATA</td>\n      <td>263</td>\n      <td>297</td>\n      <td>False</td>\n    </tr>\n    <tr>\n      <th>14708</th>\n      <td>P23771</td>\n      <td>Homo sapiens</td>\n      <td>enhanceosome</td>\n      <td>HGNC:4172</td>\n      <td>443</td>\n      <td>MEVTADQPRWVSHHHPAVLNGQHPDTHHPGLSHSYMDAAQYPLPEE...</td>\n      <td>GATA3</td>\n      <td>VAR_075427</td>\n      <td>p.Arg298Gln</td>\n      <td>LP/P</td>\n      <td>...</td>\n      <td>MIM:146255</td>\n      <td>R</td>\n      <td>298</td>\n      <td>Q</td>\n      <td>True</td>\n      <td>PF00320</td>\n      <td>GATA</td>\n      <td>317</td>\n      <td>351</td>\n      <td>False</td>\n    </tr>\n    <tr>\n      <th>14709</th>\n      <td>Q8NE35</td>\n      <td>Homo sapiens</td>\n      <td>p-body</td>\n      <td>HGNC:21746</td>\n      <td>698</td>\n      <td>MQDDLLMDKSKTQPQPQQQQRQQQQPQPESSVSEAPSTPLSSETPK...</td>\n      <td>CPEB3</td>\n      <td>VAR_029776</td>\n      <td>p.Arg324Trp</td>\n      <td>LB/B</td>\n      <td>...</td>\n      <td>NaN</td>\n      <td>R</td>\n      <td>324</td>\n      <td>W</td>\n      <td>True</td>\n      <td>PF16366</td>\n      <td>CEBP_ZZ</td>\n      <td>622</td>\n      <td>685</td>\n      <td>False</td>\n    </tr>\n    <tr>\n      <th>14710</th>\n      <td>Q8NE35</td>\n      <td>Homo sapiens</td>\n      <td>p-body</td>\n      <td>HGNC:21746</td>\n      <td>698</td>\n      <td>MQDDLLMDKSKTQPQPQQQQRQQQQPQPESSVSEAPSTPLSSETPK...</td>\n      <td>CPEB3</td>\n      <td>VAR_029776</td>\n      <td>p.Arg324Trp</td>\n      <td>LB/B</td>\n      <td>...</td>\n      <td>NaN</td>\n      <td>R</td>\n      <td>324</td>\n      <td>W</td>\n      <td>True</td>\n      <td>PF16367</td>\n      <td>RRM_7</td>\n      <td>440</td>\n      <td>529</td>\n      <td>False</td>\n    </tr>\n  </tbody>\n</table>\n<p>14711 rows × 22 columns</p>\n</div>"
     },
     "metadata": {},
     "execution_count": 22
    }
   ],
   "source": [
    "# Merge con pfam\n",
    "pfam = box_uniprot_variants.merge(pfam_box, on='uniprot')\n",
    "# Variantes que caen en dominios\n",
    "pfam['in_dom'] = False\n",
    "for i in pfam.index:\n",
    "    if str(pfam.pos[i]) != 'nan':\n",
    "        if (int(pfam.pos[i]) >= pfam.pfam_start[i]) & (int(pfam.pos[i]) <= pfam.pfam_end[i]):\n",
    "            pfam.in_dom[i] = True\n",
    "        else:\n",
    "            pfam.in_dom[i] = False\n",
    "\n",
    "#pfam = pfam[pfam.in_dom == True]\n",
    "pfam"
   ]
  },
  {
   "cell_type": "code",
   "execution_count": 36,
   "metadata": {},
   "outputs": [
    {
     "output_type": "execute_result",
     "data": {
      "text/plain": [
       "      uniprot gene_name                          mlo       snp_id aa1  pos  \\\n",
       "1      O15527      OGG1              nuclear speckle  rs104893751   R   46   \n",
       "2      O15527      OGG1              nuclear speckle   rs56053615   R  154   \n",
       "6      O15527      OGG1              nuclear speckle    rs1805373   R  229   \n",
       "10     O15527      OGG1              nuclear speckle    rs3219012   A  288   \n",
       "17     O15527      OGG1              nuclear speckle   rs17050550   A   85   \n",
       "...       ...       ...                          ...          ...  ..  ...   \n",
       "14689  P04156      PRNP  cytoplasmic protein granule  rs776593792   V  203   \n",
       "14691  P04156      PRNP  cytoplasmic protein granule  rs398122370   E  211   \n",
       "14693  P04156      PRNP  cytoplasmic protein granule  rs751882709   Q  212   \n",
       "14695  P04156      PRNP  cytoplasmic protein granule            -   P  238   \n",
       "14701  P23771     GATA3                 enhanceosome  rs104894163   W  274   \n",
       "\n",
       "      aa2  pfam_id pfam_domain  pfam_start  pfam_end  \\\n",
       "1       Q  PF07934       OGG_N          25       141   \n",
       "2       H  PF00730     HhH-GPD         142       301   \n",
       "6       Q  PF00730     HhH-GPD         142       301   \n",
       "10      V  PF00730     HhH-GPD         142       301   \n",
       "17      S  PF07934       OGG_N          25       141   \n",
       "...    ..      ...         ...         ...       ...   \n",
       "14689   I  PF00377       Prion         134       252   \n",
       "14691   Q  PF00377       Prion         134       252   \n",
       "14693   P  PF00377       Prion         134       252   \n",
       "14695   S  PF00377       Prion         134       252   \n",
       "14701   R  PF00320        GATA         263       297   \n",
       "\n",
       "                                            disease_name         mim  \n",
       "1                                                      -         NaN  \n",
       "2                                                      -         NaN  \n",
       "6                                                      -         NaN  \n",
       "10                                                     -         NaN  \n",
       "17                                                     -         NaN  \n",
       "...                                                  ...         ...  \n",
       "14689       Creutzfeldt-Jakob disease (CJD) [MIM:123400]  MIM:123400  \n",
       "14691       Creutzfeldt-Jakob disease (CJD) [MIM:123400]  MIM:123400  \n",
       "14693    Gerstmann-Straussler disease (GSD) [MIM:137440]  MIM:137440  \n",
       "14695                                                  -         NaN  \n",
       "14701  Hypoparathyroidism, sensorineural deafness, an...  MIM:146255  \n",
       "\n",
       "[2530 rows x 13 columns]"
      ],
      "text/html": "<div>\n<style scoped>\n    .dataframe tbody tr th:only-of-type {\n        vertical-align: middle;\n    }\n\n    .dataframe tbody tr th {\n        vertical-align: top;\n    }\n\n    .dataframe thead th {\n        text-align: right;\n    }\n</style>\n<table border=\"1\" class=\"dataframe\">\n  <thead>\n    <tr style=\"text-align: right;\">\n      <th></th>\n      <th>uniprot</th>\n      <th>gene_name</th>\n      <th>mlo</th>\n      <th>snp_id</th>\n      <th>aa1</th>\n      <th>pos</th>\n      <th>aa2</th>\n      <th>pfam_id</th>\n      <th>pfam_domain</th>\n      <th>pfam_start</th>\n      <th>pfam_end</th>\n      <th>disease_name</th>\n      <th>mim</th>\n    </tr>\n  </thead>\n  <tbody>\n    <tr>\n      <th>1</th>\n      <td>O15527</td>\n      <td>OGG1</td>\n      <td>nuclear speckle</td>\n      <td>rs104893751</td>\n      <td>R</td>\n      <td>46</td>\n      <td>Q</td>\n      <td>PF07934</td>\n      <td>OGG_N</td>\n      <td>25</td>\n      <td>141</td>\n      <td>-</td>\n      <td>NaN</td>\n    </tr>\n    <tr>\n      <th>2</th>\n      <td>O15527</td>\n      <td>OGG1</td>\n      <td>nuclear speckle</td>\n      <td>rs56053615</td>\n      <td>R</td>\n      <td>154</td>\n      <td>H</td>\n      <td>PF00730</td>\n      <td>HhH-GPD</td>\n      <td>142</td>\n      <td>301</td>\n      <td>-</td>\n      <td>NaN</td>\n    </tr>\n    <tr>\n      <th>6</th>\n      <td>O15527</td>\n      <td>OGG1</td>\n      <td>nuclear speckle</td>\n      <td>rs1805373</td>\n      <td>R</td>\n      <td>229</td>\n      <td>Q</td>\n      <td>PF00730</td>\n      <td>HhH-GPD</td>\n      <td>142</td>\n      <td>301</td>\n      <td>-</td>\n      <td>NaN</td>\n    </tr>\n    <tr>\n      <th>10</th>\n      <td>O15527</td>\n      <td>OGG1</td>\n      <td>nuclear speckle</td>\n      <td>rs3219012</td>\n      <td>A</td>\n      <td>288</td>\n      <td>V</td>\n      <td>PF00730</td>\n      <td>HhH-GPD</td>\n      <td>142</td>\n      <td>301</td>\n      <td>-</td>\n      <td>NaN</td>\n    </tr>\n    <tr>\n      <th>17</th>\n      <td>O15527</td>\n      <td>OGG1</td>\n      <td>nuclear speckle</td>\n      <td>rs17050550</td>\n      <td>A</td>\n      <td>85</td>\n      <td>S</td>\n      <td>PF07934</td>\n      <td>OGG_N</td>\n      <td>25</td>\n      <td>141</td>\n      <td>-</td>\n      <td>NaN</td>\n    </tr>\n    <tr>\n      <th>...</th>\n      <td>...</td>\n      <td>...</td>\n      <td>...</td>\n      <td>...</td>\n      <td>...</td>\n      <td>...</td>\n      <td>...</td>\n      <td>...</td>\n      <td>...</td>\n      <td>...</td>\n      <td>...</td>\n      <td>...</td>\n      <td>...</td>\n    </tr>\n    <tr>\n      <th>14689</th>\n      <td>P04156</td>\n      <td>PRNP</td>\n      <td>cytoplasmic protein granule</td>\n      <td>rs776593792</td>\n      <td>V</td>\n      <td>203</td>\n      <td>I</td>\n      <td>PF00377</td>\n      <td>Prion</td>\n      <td>134</td>\n      <td>252</td>\n      <td>Creutzfeldt-Jakob disease (CJD) [MIM:123400]</td>\n      <td>MIM:123400</td>\n    </tr>\n    <tr>\n      <th>14691</th>\n      <td>P04156</td>\n      <td>PRNP</td>\n      <td>cytoplasmic protein granule</td>\n      <td>rs398122370</td>\n      <td>E</td>\n      <td>211</td>\n      <td>Q</td>\n      <td>PF00377</td>\n      <td>Prion</td>\n      <td>134</td>\n      <td>252</td>\n      <td>Creutzfeldt-Jakob disease (CJD) [MIM:123400]</td>\n      <td>MIM:123400</td>\n    </tr>\n    <tr>\n      <th>14693</th>\n      <td>P04156</td>\n      <td>PRNP</td>\n      <td>cytoplasmic protein granule</td>\n      <td>rs751882709</td>\n      <td>Q</td>\n      <td>212</td>\n      <td>P</td>\n      <td>PF00377</td>\n      <td>Prion</td>\n      <td>134</td>\n      <td>252</td>\n      <td>Gerstmann-Straussler disease (GSD) [MIM:137440]</td>\n      <td>MIM:137440</td>\n    </tr>\n    <tr>\n      <th>14695</th>\n      <td>P04156</td>\n      <td>PRNP</td>\n      <td>cytoplasmic protein granule</td>\n      <td>-</td>\n      <td>P</td>\n      <td>238</td>\n      <td>S</td>\n      <td>PF00377</td>\n      <td>Prion</td>\n      <td>134</td>\n      <td>252</td>\n      <td>-</td>\n      <td>NaN</td>\n    </tr>\n    <tr>\n      <th>14701</th>\n      <td>P23771</td>\n      <td>GATA3</td>\n      <td>enhanceosome</td>\n      <td>rs104894163</td>\n      <td>W</td>\n      <td>274</td>\n      <td>R</td>\n      <td>PF00320</td>\n      <td>GATA</td>\n      <td>263</td>\n      <td>297</td>\n      <td>Hypoparathyroidism, sensorineural deafness, an...</td>\n      <td>MIM:146255</td>\n    </tr>\n  </tbody>\n</table>\n<p>2530 rows × 13 columns</p>\n</div>"
     },
     "metadata": {},
     "execution_count": 36
    }
   ],
   "source": [
    "pfam = pfam[pfam.in_dom == True]\n",
    "pfam[['uniprot', 'gene_name', 'mlo', 'snp_id', 'aa1', 'pos', 'aa2', 'pfam_id', 'pfam_domain', 'pfam_start', 'pfam_end', 'disease_name', 'mim']]"
   ]
  },
  {
   "cell_type": "code",
   "execution_count": 29,
   "metadata": {},
   "outputs": [
    {
     "output_type": "stream",
     "name": "stderr",
     "text": [
      "<ipython-input-29-d2fa77c05d1d>:9: SettingWithCopyWarning: \nA value is trying to be set on a copy of a slice from a DataFrame\n\nSee the caveats in the documentation: https://pandas.pydata.org/pandas-docs/stable/user_guide/indexing.html#returning-a-view-versus-a-copy\n  lc.in_lc[i] = False\n<ipython-input-29-d2fa77c05d1d>:7: SettingWithCopyWarning: \nA value is trying to be set on a copy of a slice from a DataFrame\n\nSee the caveats in the documentation: https://pandas.pydata.org/pandas-docs/stable/user_guide/indexing.html#returning-a-view-versus-a-copy\n  lc.in_lc[i] = True\n"
     ]
    },
    {
     "output_type": "execute_result",
     "data": {
      "text/plain": [
       "     uniprot      organism                           mlo     hgnc_id  length  \\\n",
       "0     P08047  Homo sapiens  centrosome/spindle pole body  HGNC:11205     785   \n",
       "1     P08047  Homo sapiens  centrosome/spindle pole body  HGNC:11205     785   \n",
       "2     P08047  Homo sapiens  centrosome/spindle pole body  HGNC:11205     785   \n",
       "3     P42858  Homo sapiens  centrosome/spindle pole body   HGNC:4851    3142   \n",
       "4     P42858  Homo sapiens  centrosome/spindle pole body   HGNC:4851    3142   \n",
       "...      ...           ...                           ...         ...     ...   \n",
       "4185  P04156  Homo sapiens   cytoplasmic protein granule   HGNC:9449     253   \n",
       "4186  Q8NE35  Homo sapiens                        p-body  HGNC:21746     698   \n",
       "4187  Q8NE35  Homo sapiens                        p-body  HGNC:21746     698   \n",
       "4188  Q8NE35  Homo sapiens                        p-body  HGNC:21746     698   \n",
       "4189  Q8NE35  Homo sapiens                        p-body  HGNC:21746     698   \n",
       "\n",
       "                                               sequence gene_name       ft_id  \\\n",
       "0     MSDQDHSMDEMTAVVKIEKGVGGNNGGNGNGGGAFSQARSSSTGSS...       SP1  VAR_019971   \n",
       "1     MSDQDHSMDEMTAVVKIEKGVGGNNGGNGNGGGAFSQARSSSTGSS...       SP1  VAR_019971   \n",
       "2     MSDQDHSMDEMTAVVKIEKGVGGNNGGNGNGGGAFSQARSSSTGSS...       SP1  VAR_019971   \n",
       "3     MATLEKLMKAFESLKSFQQQQQQQQQQQQQQQQQQQQQPPPPPPPP...       HTT  VAR_054017   \n",
       "4     MATLEKLMKAFESLKSFQQQQQQQQQQQQQQQQQQQQQPPPPPPPP...       HTT  VAR_054017   \n",
       "...                                                 ...       ...         ...   \n",
       "4185  MANLGCWMLVLFVATWSDLGLCKKRPKPGGWNTGGSRYPGQGSPGG...      PRNP  VAR_073722   \n",
       "4186  MQDDLLMDKSKTQPQPQQQQRQQQQPQPESSVSEAPSTPLSSETPK...     CPEB3  VAR_029776   \n",
       "4187  MQDDLLMDKSKTQPQPQQQQRQQQQPQPESSVSEAPSTPLSSETPK...     CPEB3  VAR_029776   \n",
       "4188  MQDDLLMDKSKTQPQPQQQQRQQQQPQPESSVSEAPSTPLSSETPK...     CPEB3  VAR_029776   \n",
       "4189  MQDDLLMDKSKTQPQPQQQQRQQQQPQPESSVSEAPSTPLSSETPK...     CPEB3  VAR_029776   \n",
       "\n",
       "            change category  ...  mim aa1   pos aa2  ctrl lc_start  lc_end  \\\n",
       "0      p.Thr737Ala     LB/B  ...  NaN   T   737   A  True       19      53   \n",
       "1      p.Thr737Ala     LB/B  ...  NaN   T   737   A  True      305     318   \n",
       "2      p.Thr737Ala     LB/B  ...  NaN   T   737   A  True      380     409   \n",
       "3     p.Glu1382Ala     LB/B  ...  NaN   E  1382   A  True       17      75   \n",
       "4     p.Glu1382Ala     LB/B  ...  NaN   E  1382   A  True     2632    2655   \n",
       "...            ...      ...  ...  ...  ..   ...  ..   ...      ...     ...   \n",
       "4185   p.Gly127Val     LB/B  ...  NaN   G   127   V  True      111     132   \n",
       "4186   p.Arg324Trp     LB/B  ...  NaN   R   324   W  True       12      27   \n",
       "4187   p.Arg324Trp     LB/B  ...  NaN   R   324   W  True       75     105   \n",
       "4188   p.Arg324Trp     LB/B  ...  NaN   R   324   W  True      163     199   \n",
       "4189   p.Arg324Trp     LB/B  ...  NaN   R   324   W  True      220     240   \n",
       "\n",
       "                                                 lc_seq  lc_length  in_lc  \n",
       "0                   KGVGGNNGGNGNGGGAFSQARSSSTGSSSSTGGGG         35  False  \n",
       "1                                        ISSASLVSSQASSS         14  False  \n",
       "2                        LQAGQQKEGEQNQQTQQQQILIQPQLVQGG         30  False  \n",
       "3     FQQQQQQQQQQQQQQQQQQQQQPPPPPPPPPPPQLPQPPPQAQPLL...         59  False  \n",
       "4                              REEEWDEEEEEEADAPAPSSPPTS         24  False  \n",
       "...                                                 ...        ...    ...  \n",
       "4185                             HMAGAAAAGAVVGGLGGYMLGS         22   True  \n",
       "4186                                   TQPQPQQQQRQQQQPQ         16  False  \n",
       "4187                    SPLLPGLSFHQPPQQPPPPQEPAAPGASLSP         31  False  \n",
       "4188              HQQPPPPAPAPQPAQPAQPPQAQPPQQRRSPASPSQA         37  False  \n",
       "4189                              PSSSSAVAAAAAAAAASSASS         21  False  \n",
       "\n",
       "[4190 rows x 22 columns]"
      ],
      "text/html": "<div>\n<style scoped>\n    .dataframe tbody tr th:only-of-type {\n        vertical-align: middle;\n    }\n\n    .dataframe tbody tr th {\n        vertical-align: top;\n    }\n\n    .dataframe thead th {\n        text-align: right;\n    }\n</style>\n<table border=\"1\" class=\"dataframe\">\n  <thead>\n    <tr style=\"text-align: right;\">\n      <th></th>\n      <th>uniprot</th>\n      <th>organism</th>\n      <th>mlo</th>\n      <th>hgnc_id</th>\n      <th>length</th>\n      <th>sequence</th>\n      <th>gene_name</th>\n      <th>ft_id</th>\n      <th>change</th>\n      <th>category</th>\n      <th>...</th>\n      <th>mim</th>\n      <th>aa1</th>\n      <th>pos</th>\n      <th>aa2</th>\n      <th>ctrl</th>\n      <th>lc_start</th>\n      <th>lc_end</th>\n      <th>lc_seq</th>\n      <th>lc_length</th>\n      <th>in_lc</th>\n    </tr>\n  </thead>\n  <tbody>\n    <tr>\n      <th>0</th>\n      <td>P08047</td>\n      <td>Homo sapiens</td>\n      <td>centrosome/spindle pole body</td>\n      <td>HGNC:11205</td>\n      <td>785</td>\n      <td>MSDQDHSMDEMTAVVKIEKGVGGNNGGNGNGGGAFSQARSSSTGSS...</td>\n      <td>SP1</td>\n      <td>VAR_019971</td>\n      <td>p.Thr737Ala</td>\n      <td>LB/B</td>\n      <td>...</td>\n      <td>NaN</td>\n      <td>T</td>\n      <td>737</td>\n      <td>A</td>\n      <td>True</td>\n      <td>19</td>\n      <td>53</td>\n      <td>KGVGGNNGGNGNGGGAFSQARSSSTGSSSSTGGGG</td>\n      <td>35</td>\n      <td>False</td>\n    </tr>\n    <tr>\n      <th>1</th>\n      <td>P08047</td>\n      <td>Homo sapiens</td>\n      <td>centrosome/spindle pole body</td>\n      <td>HGNC:11205</td>\n      <td>785</td>\n      <td>MSDQDHSMDEMTAVVKIEKGVGGNNGGNGNGGGAFSQARSSSTGSS...</td>\n      <td>SP1</td>\n      <td>VAR_019971</td>\n      <td>p.Thr737Ala</td>\n      <td>LB/B</td>\n      <td>...</td>\n      <td>NaN</td>\n      <td>T</td>\n      <td>737</td>\n      <td>A</td>\n      <td>True</td>\n      <td>305</td>\n      <td>318</td>\n      <td>ISSASLVSSQASSS</td>\n      <td>14</td>\n      <td>False</td>\n    </tr>\n    <tr>\n      <th>2</th>\n      <td>P08047</td>\n      <td>Homo sapiens</td>\n      <td>centrosome/spindle pole body</td>\n      <td>HGNC:11205</td>\n      <td>785</td>\n      <td>MSDQDHSMDEMTAVVKIEKGVGGNNGGNGNGGGAFSQARSSSTGSS...</td>\n      <td>SP1</td>\n      <td>VAR_019971</td>\n      <td>p.Thr737Ala</td>\n      <td>LB/B</td>\n      <td>...</td>\n      <td>NaN</td>\n      <td>T</td>\n      <td>737</td>\n      <td>A</td>\n      <td>True</td>\n      <td>380</td>\n      <td>409</td>\n      <td>LQAGQQKEGEQNQQTQQQQILIQPQLVQGG</td>\n      <td>30</td>\n      <td>False</td>\n    </tr>\n    <tr>\n      <th>3</th>\n      <td>P42858</td>\n      <td>Homo sapiens</td>\n      <td>centrosome/spindle pole body</td>\n      <td>HGNC:4851</td>\n      <td>3142</td>\n      <td>MATLEKLMKAFESLKSFQQQQQQQQQQQQQQQQQQQQQPPPPPPPP...</td>\n      <td>HTT</td>\n      <td>VAR_054017</td>\n      <td>p.Glu1382Ala</td>\n      <td>LB/B</td>\n      <td>...</td>\n      <td>NaN</td>\n      <td>E</td>\n      <td>1382</td>\n      <td>A</td>\n      <td>True</td>\n      <td>17</td>\n      <td>75</td>\n      <td>FQQQQQQQQQQQQQQQQQQQQQPPPPPPPPPPPQLPQPPPQAQPLL...</td>\n      <td>59</td>\n      <td>False</td>\n    </tr>\n    <tr>\n      <th>4</th>\n      <td>P42858</td>\n      <td>Homo sapiens</td>\n      <td>centrosome/spindle pole body</td>\n      <td>HGNC:4851</td>\n      <td>3142</td>\n      <td>MATLEKLMKAFESLKSFQQQQQQQQQQQQQQQQQQQQQPPPPPPPP...</td>\n      <td>HTT</td>\n      <td>VAR_054017</td>\n      <td>p.Glu1382Ala</td>\n      <td>LB/B</td>\n      <td>...</td>\n      <td>NaN</td>\n      <td>E</td>\n      <td>1382</td>\n      <td>A</td>\n      <td>True</td>\n      <td>2632</td>\n      <td>2655</td>\n      <td>REEEWDEEEEEEADAPAPSSPPTS</td>\n      <td>24</td>\n      <td>False</td>\n    </tr>\n    <tr>\n      <th>...</th>\n      <td>...</td>\n      <td>...</td>\n      <td>...</td>\n      <td>...</td>\n      <td>...</td>\n      <td>...</td>\n      <td>...</td>\n      <td>...</td>\n      <td>...</td>\n      <td>...</td>\n      <td>...</td>\n      <td>...</td>\n      <td>...</td>\n      <td>...</td>\n      <td>...</td>\n      <td>...</td>\n      <td>...</td>\n      <td>...</td>\n      <td>...</td>\n      <td>...</td>\n      <td>...</td>\n    </tr>\n    <tr>\n      <th>4185</th>\n      <td>P04156</td>\n      <td>Homo sapiens</td>\n      <td>cytoplasmic protein granule</td>\n      <td>HGNC:9449</td>\n      <td>253</td>\n      <td>MANLGCWMLVLFVATWSDLGLCKKRPKPGGWNTGGSRYPGQGSPGG...</td>\n      <td>PRNP</td>\n      <td>VAR_073722</td>\n      <td>p.Gly127Val</td>\n      <td>LB/B</td>\n      <td>...</td>\n      <td>NaN</td>\n      <td>G</td>\n      <td>127</td>\n      <td>V</td>\n      <td>True</td>\n      <td>111</td>\n      <td>132</td>\n      <td>HMAGAAAAGAVVGGLGGYMLGS</td>\n      <td>22</td>\n      <td>True</td>\n    </tr>\n    <tr>\n      <th>4186</th>\n      <td>Q8NE35</td>\n      <td>Homo sapiens</td>\n      <td>p-body</td>\n      <td>HGNC:21746</td>\n      <td>698</td>\n      <td>MQDDLLMDKSKTQPQPQQQQRQQQQPQPESSVSEAPSTPLSSETPK...</td>\n      <td>CPEB3</td>\n      <td>VAR_029776</td>\n      <td>p.Arg324Trp</td>\n      <td>LB/B</td>\n      <td>...</td>\n      <td>NaN</td>\n      <td>R</td>\n      <td>324</td>\n      <td>W</td>\n      <td>True</td>\n      <td>12</td>\n      <td>27</td>\n      <td>TQPQPQQQQRQQQQPQ</td>\n      <td>16</td>\n      <td>False</td>\n    </tr>\n    <tr>\n      <th>4187</th>\n      <td>Q8NE35</td>\n      <td>Homo sapiens</td>\n      <td>p-body</td>\n      <td>HGNC:21746</td>\n      <td>698</td>\n      <td>MQDDLLMDKSKTQPQPQQQQRQQQQPQPESSVSEAPSTPLSSETPK...</td>\n      <td>CPEB3</td>\n      <td>VAR_029776</td>\n      <td>p.Arg324Trp</td>\n      <td>LB/B</td>\n      <td>...</td>\n      <td>NaN</td>\n      <td>R</td>\n      <td>324</td>\n      <td>W</td>\n      <td>True</td>\n      <td>75</td>\n      <td>105</td>\n      <td>SPLLPGLSFHQPPQQPPPPQEPAAPGASLSP</td>\n      <td>31</td>\n      <td>False</td>\n    </tr>\n    <tr>\n      <th>4188</th>\n      <td>Q8NE35</td>\n      <td>Homo sapiens</td>\n      <td>p-body</td>\n      <td>HGNC:21746</td>\n      <td>698</td>\n      <td>MQDDLLMDKSKTQPQPQQQQRQQQQPQPESSVSEAPSTPLSSETPK...</td>\n      <td>CPEB3</td>\n      <td>VAR_029776</td>\n      <td>p.Arg324Trp</td>\n      <td>LB/B</td>\n      <td>...</td>\n      <td>NaN</td>\n      <td>R</td>\n      <td>324</td>\n      <td>W</td>\n      <td>True</td>\n      <td>163</td>\n      <td>199</td>\n      <td>HQQPPPPAPAPQPAQPAQPPQAQPPQQRRSPASPSQA</td>\n      <td>37</td>\n      <td>False</td>\n    </tr>\n    <tr>\n      <th>4189</th>\n      <td>Q8NE35</td>\n      <td>Homo sapiens</td>\n      <td>p-body</td>\n      <td>HGNC:21746</td>\n      <td>698</td>\n      <td>MQDDLLMDKSKTQPQPQQQQRQQQQPQPESSVSEAPSTPLSSETPK...</td>\n      <td>CPEB3</td>\n      <td>VAR_029776</td>\n      <td>p.Arg324Trp</td>\n      <td>LB/B</td>\n      <td>...</td>\n      <td>NaN</td>\n      <td>R</td>\n      <td>324</td>\n      <td>W</td>\n      <td>True</td>\n      <td>220</td>\n      <td>240</td>\n      <td>PSSSSAVAAAAAAAAASSASS</td>\n      <td>21</td>\n      <td>False</td>\n    </tr>\n  </tbody>\n</table>\n<p>4190 rows × 22 columns</p>\n</div>"
     },
     "metadata": {},
     "execution_count": 29
    }
   ],
   "source": [
    "# Merge con Low Complexity\n",
    "lc = box_uniprot_variants.merge(lc_box, on='uniprot')\n",
    "lc['in_lc'] = False\n",
    "for i in lc.index:\n",
    "    if str(lc.pos[i]) != 'nan':\n",
    "        if (int(lc.pos[i]) >= lc.lc_start[i]) & (int(lc.pos[i]) <= lc.lc_end[i]):\n",
    "            lc.in_lc[i] = True\n",
    "        else:\n",
    "            lc.in_lc[i] = False\n",
    "\n",
    "#lc = lc[lc.in_lc == True]\n",
    "lc"
   ]
  },
  {
   "cell_type": "code",
   "execution_count": 30,
   "metadata": {},
   "outputs": [
    {
     "output_type": "execute_result",
     "data": {
      "text/plain": [
       "     uniprot      organism                          mlo     hgnc_id  length  \\\n",
       "229   Q07955  Homo sapiens              nuclear speckle  HGNC:10780     248   \n",
       "231   Q08170  Homo sapiens              nuclear speckle  HGNC:10786     494   \n",
       "235   Q08170  Homo sapiens              nuclear speckle  HGNC:10786     494   \n",
       "238   Q08170  Homo sapiens              nuclear speckle  HGNC:10786     494   \n",
       "244   Q66PJ3  Homo sapiens              nuclear speckle  HGNC:18076     421   \n",
       "...      ...           ...                          ...         ...     ...   \n",
       "4098  Q16637  Homo sapiens                   cajal body  HGNC:11118     294   \n",
       "4137  P04156  Homo sapiens  cytoplasmic protein granule   HGNC:9449     253   \n",
       "4139  P04156  Homo sapiens  cytoplasmic protein granule   HGNC:9449     253   \n",
       "4183  P04156  Homo sapiens  cytoplasmic protein granule   HGNC:9449     253   \n",
       "4185  P04156  Homo sapiens  cytoplasmic protein granule   HGNC:9449     253   \n",
       "\n",
       "                                               sequence gene_name       ft_id  \\\n",
       "229   MSGGGVIRGPAGNNDCRIYVGNLPPDIRTKDIEDVFYKYGAIRDID...     SRSF1  VAR_035488   \n",
       "231   MPRVYIGRLSYQARERDVERFFKGYGKILEVDLKNGYGFVEFDDLR...     SRSF4  VAR_052230   \n",
       "235   MPRVYIGRLSYQARERDVERFFKGYGKILEVDLKNGYGFVEFDDLR...     SRSF4  VAR_052231   \n",
       "238   MPRVYIGRLSYQARERDVERFFKGYGKILEVDLKNGYGFVEFDDLR...     SRSF4  VAR_052232   \n",
       "244   MPRCTYQLEQNPGFLPDGPGVHARAHCQDLSGPYGHEFATSESLGG...   ARL6IP4  VAR_058333   \n",
       "...                                                 ...       ...         ...   \n",
       "4098  MAMSSGGSGGGVPEQEDSVLFRRGTGQSDDSDIWDDTALIKAYDKA...      SMN1  VAR_010051   \n",
       "4137  MANLGCWMLVLFVATWSDLGLCKKRPKPGGWNTGGSRYPGQGSPGG...      PRNP  VAR_006466   \n",
       "4139  MANLGCWMLVLFVATWSDLGLCKKRPKPGGWNTGGSRYPGQGSPGG...      PRNP  VAR_006467   \n",
       "4183  MANLGCWMLVLFVATWSDLGLCKKRPKPGGWNTGGSRYPGQGSPGG...      PRNP  VAR_014264   \n",
       "4185  MANLGCWMLVLFVATWSDLGLCKKRPKPGGWNTGGSRYPGQGSPGG...      PRNP  VAR_073722   \n",
       "\n",
       "           change category  ...         mim aa1  pos aa2  ctrl lc_start  \\\n",
       "229    p.Pro89Ser       US  ...         NaN   P   89   S  True       88   \n",
       "231   p.Glu253Asp     LB/B  ...         NaN   E  253   D  True      178   \n",
       "235   p.Gly338Ala     LB/B  ...         NaN   G  338   A  True      317   \n",
       "238   p.Gly356Ser     LB/B  ...         NaN   G  356   S  True      317   \n",
       "244   p.Lys286Arg       US  ...         NaN   K  286   R  True      246   \n",
       "...           ...      ...  ...         ...  ..  ...  ..   ...      ...   \n",
       "4098  p.Pro245Leu     LP/P  ...  MIM:253400   P  245   L  True      193   \n",
       "4137  p.Ala117Val     LB/B  ...         NaN   A  117   V  True      111   \n",
       "4139  p.Met129Val     LB/B  ...         NaN   M  129   V  True      111   \n",
       "4183  p.Gly131Val     LP/P  ...  MIM:137440   G  131   V  True      111   \n",
       "4185  p.Gly127Val     LB/B  ...         NaN   G  127   V  True      111   \n",
       "\n",
       "      lc_end                                             lc_seq  lc_length  \\\n",
       "229      118                    FPRSGRGTGRGGGGGGGGGAPRGRYGPPSRR         31   \n",
       "231      260  GSRRRRSYSRSRSHSRSRSRSRHSRKSRSRSGSSKSSHSKSRSRSR...         83   \n",
       "235      386  VSRGRSQEKSLRQSRSRSRSKGGSRSRSRSRSKSKDKRKGRKRSRE...         70   \n",
       "238      386  VSRGRSQEKSLRQSRSRSRSKGGSRSRSRSRSKSKDKRKGRKRSRE...         70   \n",
       "244      311  ERSKQKARRRTRSSSSSSSSSSSSSSSSSSSSSSSSSDGRKKRGKY...         66   \n",
       "...      ...                                                ...        ...   \n",
       "4098     250  FLPPPPPMPGPRLGPGKPGLKFNGPPPPPPPPPPHLLSCWLPPFPS...         58   \n",
       "4137     132                             HMAGAAAAGAVVGGLGGYMLGS         22   \n",
       "4139     132                             HMAGAAAAGAVVGGLGGYMLGS         22   \n",
       "4183     132                             HMAGAAAAGAVVGGLGGYMLGS         22   \n",
       "4185     132                             HMAGAAAAGAVVGGLGGYMLGS         22   \n",
       "\n",
       "     in_lc  \n",
       "229   True  \n",
       "231   True  \n",
       "235   True  \n",
       "238   True  \n",
       "244   True  \n",
       "...    ...  \n",
       "4098  True  \n",
       "4137  True  \n",
       "4139  True  \n",
       "4183  True  \n",
       "4185  True  \n",
       "\n",
       "[136 rows x 22 columns]"
      ],
      "text/html": "<div>\n<style scoped>\n    .dataframe tbody tr th:only-of-type {\n        vertical-align: middle;\n    }\n\n    .dataframe tbody tr th {\n        vertical-align: top;\n    }\n\n    .dataframe thead th {\n        text-align: right;\n    }\n</style>\n<table border=\"1\" class=\"dataframe\">\n  <thead>\n    <tr style=\"text-align: right;\">\n      <th></th>\n      <th>uniprot</th>\n      <th>organism</th>\n      <th>mlo</th>\n      <th>hgnc_id</th>\n      <th>length</th>\n      <th>sequence</th>\n      <th>gene_name</th>\n      <th>ft_id</th>\n      <th>change</th>\n      <th>category</th>\n      <th>...</th>\n      <th>mim</th>\n      <th>aa1</th>\n      <th>pos</th>\n      <th>aa2</th>\n      <th>ctrl</th>\n      <th>lc_start</th>\n      <th>lc_end</th>\n      <th>lc_seq</th>\n      <th>lc_length</th>\n      <th>in_lc</th>\n    </tr>\n  </thead>\n  <tbody>\n    <tr>\n      <th>229</th>\n      <td>Q07955</td>\n      <td>Homo sapiens</td>\n      <td>nuclear speckle</td>\n      <td>HGNC:10780</td>\n      <td>248</td>\n      <td>MSGGGVIRGPAGNNDCRIYVGNLPPDIRTKDIEDVFYKYGAIRDID...</td>\n      <td>SRSF1</td>\n      <td>VAR_035488</td>\n      <td>p.Pro89Ser</td>\n      <td>US</td>\n      <td>...</td>\n      <td>NaN</td>\n      <td>P</td>\n      <td>89</td>\n      <td>S</td>\n      <td>True</td>\n      <td>88</td>\n      <td>118</td>\n      <td>FPRSGRGTGRGGGGGGGGGAPRGRYGPPSRR</td>\n      <td>31</td>\n      <td>True</td>\n    </tr>\n    <tr>\n      <th>231</th>\n      <td>Q08170</td>\n      <td>Homo sapiens</td>\n      <td>nuclear speckle</td>\n      <td>HGNC:10786</td>\n      <td>494</td>\n      <td>MPRVYIGRLSYQARERDVERFFKGYGKILEVDLKNGYGFVEFDDLR...</td>\n      <td>SRSF4</td>\n      <td>VAR_052230</td>\n      <td>p.Glu253Asp</td>\n      <td>LB/B</td>\n      <td>...</td>\n      <td>NaN</td>\n      <td>E</td>\n      <td>253</td>\n      <td>D</td>\n      <td>True</td>\n      <td>178</td>\n      <td>260</td>\n      <td>GSRRRRSYSRSRSHSRSRSRSRHSRKSRSRSGSSKSSHSKSRSRSR...</td>\n      <td>83</td>\n      <td>True</td>\n    </tr>\n    <tr>\n      <th>235</th>\n      <td>Q08170</td>\n      <td>Homo sapiens</td>\n      <td>nuclear speckle</td>\n      <td>HGNC:10786</td>\n      <td>494</td>\n      <td>MPRVYIGRLSYQARERDVERFFKGYGKILEVDLKNGYGFVEFDDLR...</td>\n      <td>SRSF4</td>\n      <td>VAR_052231</td>\n      <td>p.Gly338Ala</td>\n      <td>LB/B</td>\n      <td>...</td>\n      <td>NaN</td>\n      <td>G</td>\n      <td>338</td>\n      <td>A</td>\n      <td>True</td>\n      <td>317</td>\n      <td>386</td>\n      <td>VSRGRSQEKSLRQSRSRSRSKGGSRSRSRSRSKSKDKRKGRKRSRE...</td>\n      <td>70</td>\n      <td>True</td>\n    </tr>\n    <tr>\n      <th>238</th>\n      <td>Q08170</td>\n      <td>Homo sapiens</td>\n      <td>nuclear speckle</td>\n      <td>HGNC:10786</td>\n      <td>494</td>\n      <td>MPRVYIGRLSYQARERDVERFFKGYGKILEVDLKNGYGFVEFDDLR...</td>\n      <td>SRSF4</td>\n      <td>VAR_052232</td>\n      <td>p.Gly356Ser</td>\n      <td>LB/B</td>\n      <td>...</td>\n      <td>NaN</td>\n      <td>G</td>\n      <td>356</td>\n      <td>S</td>\n      <td>True</td>\n      <td>317</td>\n      <td>386</td>\n      <td>VSRGRSQEKSLRQSRSRSRSKGGSRSRSRSRSKSKDKRKGRKRSRE...</td>\n      <td>70</td>\n      <td>True</td>\n    </tr>\n    <tr>\n      <th>244</th>\n      <td>Q66PJ3</td>\n      <td>Homo sapiens</td>\n      <td>nuclear speckle</td>\n      <td>HGNC:18076</td>\n      <td>421</td>\n      <td>MPRCTYQLEQNPGFLPDGPGVHARAHCQDLSGPYGHEFATSESLGG...</td>\n      <td>ARL6IP4</td>\n      <td>VAR_058333</td>\n      <td>p.Lys286Arg</td>\n      <td>US</td>\n      <td>...</td>\n      <td>NaN</td>\n      <td>K</td>\n      <td>286</td>\n      <td>R</td>\n      <td>True</td>\n      <td>246</td>\n      <td>311</td>\n      <td>ERSKQKARRRTRSSSSSSSSSSSSSSSSSSSSSSSSSDGRKKRGKY...</td>\n      <td>66</td>\n      <td>True</td>\n    </tr>\n    <tr>\n      <th>...</th>\n      <td>...</td>\n      <td>...</td>\n      <td>...</td>\n      <td>...</td>\n      <td>...</td>\n      <td>...</td>\n      <td>...</td>\n      <td>...</td>\n      <td>...</td>\n      <td>...</td>\n      <td>...</td>\n      <td>...</td>\n      <td>...</td>\n      <td>...</td>\n      <td>...</td>\n      <td>...</td>\n      <td>...</td>\n      <td>...</td>\n      <td>...</td>\n      <td>...</td>\n      <td>...</td>\n    </tr>\n    <tr>\n      <th>4098</th>\n      <td>Q16637</td>\n      <td>Homo sapiens</td>\n      <td>cajal body</td>\n      <td>HGNC:11118</td>\n      <td>294</td>\n      <td>MAMSSGGSGGGVPEQEDSVLFRRGTGQSDDSDIWDDTALIKAYDKA...</td>\n      <td>SMN1</td>\n      <td>VAR_010051</td>\n      <td>p.Pro245Leu</td>\n      <td>LP/P</td>\n      <td>...</td>\n      <td>MIM:253400</td>\n      <td>P</td>\n      <td>245</td>\n      <td>L</td>\n      <td>True</td>\n      <td>193</td>\n      <td>250</td>\n      <td>FLPPPPPMPGPRLGPGKPGLKFNGPPPPPPPPPPHLLSCWLPPFPS...</td>\n      <td>58</td>\n      <td>True</td>\n    </tr>\n    <tr>\n      <th>4137</th>\n      <td>P04156</td>\n      <td>Homo sapiens</td>\n      <td>cytoplasmic protein granule</td>\n      <td>HGNC:9449</td>\n      <td>253</td>\n      <td>MANLGCWMLVLFVATWSDLGLCKKRPKPGGWNTGGSRYPGQGSPGG...</td>\n      <td>PRNP</td>\n      <td>VAR_006466</td>\n      <td>p.Ala117Val</td>\n      <td>LB/B</td>\n      <td>...</td>\n      <td>NaN</td>\n      <td>A</td>\n      <td>117</td>\n      <td>V</td>\n      <td>True</td>\n      <td>111</td>\n      <td>132</td>\n      <td>HMAGAAAAGAVVGGLGGYMLGS</td>\n      <td>22</td>\n      <td>True</td>\n    </tr>\n    <tr>\n      <th>4139</th>\n      <td>P04156</td>\n      <td>Homo sapiens</td>\n      <td>cytoplasmic protein granule</td>\n      <td>HGNC:9449</td>\n      <td>253</td>\n      <td>MANLGCWMLVLFVATWSDLGLCKKRPKPGGWNTGGSRYPGQGSPGG...</td>\n      <td>PRNP</td>\n      <td>VAR_006467</td>\n      <td>p.Met129Val</td>\n      <td>LB/B</td>\n      <td>...</td>\n      <td>NaN</td>\n      <td>M</td>\n      <td>129</td>\n      <td>V</td>\n      <td>True</td>\n      <td>111</td>\n      <td>132</td>\n      <td>HMAGAAAAGAVVGGLGGYMLGS</td>\n      <td>22</td>\n      <td>True</td>\n    </tr>\n    <tr>\n      <th>4183</th>\n      <td>P04156</td>\n      <td>Homo sapiens</td>\n      <td>cytoplasmic protein granule</td>\n      <td>HGNC:9449</td>\n      <td>253</td>\n      <td>MANLGCWMLVLFVATWSDLGLCKKRPKPGGWNTGGSRYPGQGSPGG...</td>\n      <td>PRNP</td>\n      <td>VAR_014264</td>\n      <td>p.Gly131Val</td>\n      <td>LP/P</td>\n      <td>...</td>\n      <td>MIM:137440</td>\n      <td>G</td>\n      <td>131</td>\n      <td>V</td>\n      <td>True</td>\n      <td>111</td>\n      <td>132</td>\n      <td>HMAGAAAAGAVVGGLGGYMLGS</td>\n      <td>22</td>\n      <td>True</td>\n    </tr>\n    <tr>\n      <th>4185</th>\n      <td>P04156</td>\n      <td>Homo sapiens</td>\n      <td>cytoplasmic protein granule</td>\n      <td>HGNC:9449</td>\n      <td>253</td>\n      <td>MANLGCWMLVLFVATWSDLGLCKKRPKPGGWNTGGSRYPGQGSPGG...</td>\n      <td>PRNP</td>\n      <td>VAR_073722</td>\n      <td>p.Gly127Val</td>\n      <td>LB/B</td>\n      <td>...</td>\n      <td>NaN</td>\n      <td>G</td>\n      <td>127</td>\n      <td>V</td>\n      <td>True</td>\n      <td>111</td>\n      <td>132</td>\n      <td>HMAGAAAAGAVVGGLGGYMLGS</td>\n      <td>22</td>\n      <td>True</td>\n    </tr>\n  </tbody>\n</table>\n<p>136 rows × 22 columns</p>\n</div>"
     },
     "metadata": {},
     "execution_count": 30
    }
   ],
   "source": [
    "lc[lc.in_lc == True]"
   ]
  },
  {
   "cell_type": "code",
   "execution_count": 34,
   "metadata": {},
   "outputs": [
    {
     "output_type": "execute_result",
     "data": {
      "text/plain": [
       "True"
      ]
     },
     "metadata": {},
     "execution_count": 34
    }
   ],
   "source": [
    "lc.sequence[229][87:118] == lc.lc_seq[229]"
   ]
  },
  {
   "cell_type": "code",
   "execution_count": 27,
   "metadata": {},
   "outputs": [
    {
     "output_type": "stream",
     "name": "stderr",
     "text": [
      "<ipython-input-27-22e21fa770a2>:9: SettingWithCopyWarning: \nA value is trying to be set on a copy of a slice from a DataFrame\n\nSee the caveats in the documentation: https://pandas.pydata.org/pandas-docs/stable/user_guide/indexing.html#returning-a-view-versus-a-copy\n  idr.in_idr[i] = False\n<ipython-input-27-22e21fa770a2>:7: SettingWithCopyWarning: \nA value is trying to be set on a copy of a slice from a DataFrame\n\nSee the caveats in the documentation: https://pandas.pydata.org/pandas-docs/stable/user_guide/indexing.html#returning-a-view-versus-a-copy\n  idr.in_idr[i] = True\n"
     ]
    },
    {
     "output_type": "execute_result",
     "data": {
      "text/plain": [
       "      uniprot      organism              mlo     hgnc_id  length  \\\n",
       "0      O15527  Homo sapiens  nuclear speckle   HGNC:8125     345   \n",
       "1      O15527  Homo sapiens  nuclear speckle   HGNC:8125     345   \n",
       "2      O15527  Homo sapiens  nuclear speckle   HGNC:8125     345   \n",
       "3      O15527  Homo sapiens  nuclear speckle   HGNC:8125     345   \n",
       "4      O15527  Homo sapiens  nuclear speckle   HGNC:8125     345   \n",
       "...       ...           ...              ...         ...     ...   \n",
       "13301  P23771  Homo sapiens     enhanceosome   HGNC:4172     443   \n",
       "13302  P23771  Homo sapiens     enhanceosome   HGNC:4172     443   \n",
       "13303  P23771  Homo sapiens     enhanceosome   HGNC:4172     443   \n",
       "13304  Q8NE35  Homo sapiens           p-body  HGNC:21746     698   \n",
       "13305  Q8NE35  Homo sapiens           p-body  HGNC:21746     698   \n",
       "\n",
       "                                                sequence gene_name  \\\n",
       "0      MPARALLPRRMGHRTLASTPALWASIPCPRSELRLDLVLPSGQSFR...      OGG1   \n",
       "1      MPARALLPRRMGHRTLASTPALWASIPCPRSELRLDLVLPSGQSFR...      OGG1   \n",
       "2      MPARALLPRRMGHRTLASTPALWASIPCPRSELRLDLVLPSGQSFR...      OGG1   \n",
       "3      MPARALLPRRMGHRTLASTPALWASIPCPRSELRLDLVLPSGQSFR...      OGG1   \n",
       "4      MPARALLPRRMGHRTLASTPALWASIPCPRSELRLDLVLPSGQSFR...      OGG1   \n",
       "...                                                  ...       ...   \n",
       "13301  MEVTADQPRWVSHHHPAVLNGQHPDTHHPGLSHSYMDAAQYPLPEE...     GATA3   \n",
       "13302  MEVTADQPRWVSHHHPAVLNGQHPDTHHPGLSHSYMDAAQYPLPEE...     GATA3   \n",
       "13303  MEVTADQPRWVSHHHPAVLNGQHPDTHHPGLSHSYMDAAQYPLPEE...     GATA3   \n",
       "13304  MQDDLLMDKSKTQPQPQQQQRQQQQPQPESSVSEAPSTPLSSETPK...     CPEB3   \n",
       "13305  MQDDLLMDKSKTQPQPQQQQRQQQQPQPESSVSEAPSTPLSSETPK...     CPEB3   \n",
       "\n",
       "            ft_id       change category  ...         mim aa1  pos aa2  ctrl  \\\n",
       "0      VAR_009519   p.Arg46Gln     LB/B  ...         NaN   R   46   Q  True   \n",
       "1      VAR_009520  p.Arg154His     LB/B  ...         NaN   R  154   H  True   \n",
       "2      VAR_009521  p.Ser326Cys     LB/B  ...         NaN   S  326   C  True   \n",
       "3      VAR_014487  p.Arg229Gln     LB/B  ...         NaN   R  229   Q  True   \n",
       "4      VAR_014488  p.Ser320Thr     LB/B  ...         NaN   S  320   T  True   \n",
       "...           ...          ...      ...  ...         ...  ..  ...  ..   ...   \n",
       "13301  VAR_075427  p.Arg298Gln     LP/P  ...  MIM:146255   R  298   Q  True   \n",
       "13302  VAR_075427  p.Arg298Gln     LP/P  ...  MIM:146255   R  298   Q  True   \n",
       "13303  VAR_075427  p.Arg298Gln     LP/P  ...  MIM:146255   R  298   Q  True   \n",
       "13304  VAR_029776  p.Arg324Trp     LB/B  ...         NaN   R  324   W  True   \n",
       "13305  VAR_029776  p.Arg324Trp     LB/B  ...         NaN   R  324   W  True   \n",
       "\n",
       "                org  idr_tipo idr_start idr_end  in_idr  \n",
       "0      Homo sapiens      D_PA       324     345   False  \n",
       "1      Homo sapiens      D_PA       324     345   False  \n",
       "2      Homo sapiens      D_PA       324     345    True  \n",
       "3      Homo sapiens      D_PA       324     345   False  \n",
       "4      Homo sapiens      D_PA       324     345   False  \n",
       "...             ...       ...       ...     ...     ...  \n",
       "13301  Homo sapiens      D_WC       194     216   False  \n",
       "13302  Homo sapiens      D_PA       361     389   False  \n",
       "13303  Homo sapiens      D_WC       414     443   False  \n",
       "13304  Homo sapiens      D_WC         1     114   False  \n",
       "13305  Homo sapiens      D_WC       158     208   False  \n",
       "\n",
       "[13306 rows x 22 columns]"
      ],
      "text/html": "<div>\n<style scoped>\n    .dataframe tbody tr th:only-of-type {\n        vertical-align: middle;\n    }\n\n    .dataframe tbody tr th {\n        vertical-align: top;\n    }\n\n    .dataframe thead th {\n        text-align: right;\n    }\n</style>\n<table border=\"1\" class=\"dataframe\">\n  <thead>\n    <tr style=\"text-align: right;\">\n      <th></th>\n      <th>uniprot</th>\n      <th>organism</th>\n      <th>mlo</th>\n      <th>hgnc_id</th>\n      <th>length</th>\n      <th>sequence</th>\n      <th>gene_name</th>\n      <th>ft_id</th>\n      <th>change</th>\n      <th>category</th>\n      <th>...</th>\n      <th>mim</th>\n      <th>aa1</th>\n      <th>pos</th>\n      <th>aa2</th>\n      <th>ctrl</th>\n      <th>org</th>\n      <th>idr_tipo</th>\n      <th>idr_start</th>\n      <th>idr_end</th>\n      <th>in_idr</th>\n    </tr>\n  </thead>\n  <tbody>\n    <tr>\n      <th>0</th>\n      <td>O15527</td>\n      <td>Homo sapiens</td>\n      <td>nuclear speckle</td>\n      <td>HGNC:8125</td>\n      <td>345</td>\n      <td>MPARALLPRRMGHRTLASTPALWASIPCPRSELRLDLVLPSGQSFR...</td>\n      <td>OGG1</td>\n      <td>VAR_009519</td>\n      <td>p.Arg46Gln</td>\n      <td>LB/B</td>\n      <td>...</td>\n      <td>NaN</td>\n      <td>R</td>\n      <td>46</td>\n      <td>Q</td>\n      <td>True</td>\n      <td>Homo sapiens</td>\n      <td>D_PA</td>\n      <td>324</td>\n      <td>345</td>\n      <td>False</td>\n    </tr>\n    <tr>\n      <th>1</th>\n      <td>O15527</td>\n      <td>Homo sapiens</td>\n      <td>nuclear speckle</td>\n      <td>HGNC:8125</td>\n      <td>345</td>\n      <td>MPARALLPRRMGHRTLASTPALWASIPCPRSELRLDLVLPSGQSFR...</td>\n      <td>OGG1</td>\n      <td>VAR_009520</td>\n      <td>p.Arg154His</td>\n      <td>LB/B</td>\n      <td>...</td>\n      <td>NaN</td>\n      <td>R</td>\n      <td>154</td>\n      <td>H</td>\n      <td>True</td>\n      <td>Homo sapiens</td>\n      <td>D_PA</td>\n      <td>324</td>\n      <td>345</td>\n      <td>False</td>\n    </tr>\n    <tr>\n      <th>2</th>\n      <td>O15527</td>\n      <td>Homo sapiens</td>\n      <td>nuclear speckle</td>\n      <td>HGNC:8125</td>\n      <td>345</td>\n      <td>MPARALLPRRMGHRTLASTPALWASIPCPRSELRLDLVLPSGQSFR...</td>\n      <td>OGG1</td>\n      <td>VAR_009521</td>\n      <td>p.Ser326Cys</td>\n      <td>LB/B</td>\n      <td>...</td>\n      <td>NaN</td>\n      <td>S</td>\n      <td>326</td>\n      <td>C</td>\n      <td>True</td>\n      <td>Homo sapiens</td>\n      <td>D_PA</td>\n      <td>324</td>\n      <td>345</td>\n      <td>True</td>\n    </tr>\n    <tr>\n      <th>3</th>\n      <td>O15527</td>\n      <td>Homo sapiens</td>\n      <td>nuclear speckle</td>\n      <td>HGNC:8125</td>\n      <td>345</td>\n      <td>MPARALLPRRMGHRTLASTPALWASIPCPRSELRLDLVLPSGQSFR...</td>\n      <td>OGG1</td>\n      <td>VAR_014487</td>\n      <td>p.Arg229Gln</td>\n      <td>LB/B</td>\n      <td>...</td>\n      <td>NaN</td>\n      <td>R</td>\n      <td>229</td>\n      <td>Q</td>\n      <td>True</td>\n      <td>Homo sapiens</td>\n      <td>D_PA</td>\n      <td>324</td>\n      <td>345</td>\n      <td>False</td>\n    </tr>\n    <tr>\n      <th>4</th>\n      <td>O15527</td>\n      <td>Homo sapiens</td>\n      <td>nuclear speckle</td>\n      <td>HGNC:8125</td>\n      <td>345</td>\n      <td>MPARALLPRRMGHRTLASTPALWASIPCPRSELRLDLVLPSGQSFR...</td>\n      <td>OGG1</td>\n      <td>VAR_014488</td>\n      <td>p.Ser320Thr</td>\n      <td>LB/B</td>\n      <td>...</td>\n      <td>NaN</td>\n      <td>S</td>\n      <td>320</td>\n      <td>T</td>\n      <td>True</td>\n      <td>Homo sapiens</td>\n      <td>D_PA</td>\n      <td>324</td>\n      <td>345</td>\n      <td>False</td>\n    </tr>\n    <tr>\n      <th>...</th>\n      <td>...</td>\n      <td>...</td>\n      <td>...</td>\n      <td>...</td>\n      <td>...</td>\n      <td>...</td>\n      <td>...</td>\n      <td>...</td>\n      <td>...</td>\n      <td>...</td>\n      <td>...</td>\n      <td>...</td>\n      <td>...</td>\n      <td>...</td>\n      <td>...</td>\n      <td>...</td>\n      <td>...</td>\n      <td>...</td>\n      <td>...</td>\n      <td>...</td>\n      <td>...</td>\n    </tr>\n    <tr>\n      <th>13301</th>\n      <td>P23771</td>\n      <td>Homo sapiens</td>\n      <td>enhanceosome</td>\n      <td>HGNC:4172</td>\n      <td>443</td>\n      <td>MEVTADQPRWVSHHHPAVLNGQHPDTHHPGLSHSYMDAAQYPLPEE...</td>\n      <td>GATA3</td>\n      <td>VAR_075427</td>\n      <td>p.Arg298Gln</td>\n      <td>LP/P</td>\n      <td>...</td>\n      <td>MIM:146255</td>\n      <td>R</td>\n      <td>298</td>\n      <td>Q</td>\n      <td>True</td>\n      <td>Homo sapiens</td>\n      <td>D_WC</td>\n      <td>194</td>\n      <td>216</td>\n      <td>False</td>\n    </tr>\n    <tr>\n      <th>13302</th>\n      <td>P23771</td>\n      <td>Homo sapiens</td>\n      <td>enhanceosome</td>\n      <td>HGNC:4172</td>\n      <td>443</td>\n      <td>MEVTADQPRWVSHHHPAVLNGQHPDTHHPGLSHSYMDAAQYPLPEE...</td>\n      <td>GATA3</td>\n      <td>VAR_075427</td>\n      <td>p.Arg298Gln</td>\n      <td>LP/P</td>\n      <td>...</td>\n      <td>MIM:146255</td>\n      <td>R</td>\n      <td>298</td>\n      <td>Q</td>\n      <td>True</td>\n      <td>Homo sapiens</td>\n      <td>D_PA</td>\n      <td>361</td>\n      <td>389</td>\n      <td>False</td>\n    </tr>\n    <tr>\n      <th>13303</th>\n      <td>P23771</td>\n      <td>Homo sapiens</td>\n      <td>enhanceosome</td>\n      <td>HGNC:4172</td>\n      <td>443</td>\n      <td>MEVTADQPRWVSHHHPAVLNGQHPDTHHPGLSHSYMDAAQYPLPEE...</td>\n      <td>GATA3</td>\n      <td>VAR_075427</td>\n      <td>p.Arg298Gln</td>\n      <td>LP/P</td>\n      <td>...</td>\n      <td>MIM:146255</td>\n      <td>R</td>\n      <td>298</td>\n      <td>Q</td>\n      <td>True</td>\n      <td>Homo sapiens</td>\n      <td>D_WC</td>\n      <td>414</td>\n      <td>443</td>\n      <td>False</td>\n    </tr>\n    <tr>\n      <th>13304</th>\n      <td>Q8NE35</td>\n      <td>Homo sapiens</td>\n      <td>p-body</td>\n      <td>HGNC:21746</td>\n      <td>698</td>\n      <td>MQDDLLMDKSKTQPQPQQQQRQQQQPQPESSVSEAPSTPLSSETPK...</td>\n      <td>CPEB3</td>\n      <td>VAR_029776</td>\n      <td>p.Arg324Trp</td>\n      <td>LB/B</td>\n      <td>...</td>\n      <td>NaN</td>\n      <td>R</td>\n      <td>324</td>\n      <td>W</td>\n      <td>True</td>\n      <td>Homo sapiens</td>\n      <td>D_WC</td>\n      <td>1</td>\n      <td>114</td>\n      <td>False</td>\n    </tr>\n    <tr>\n      <th>13305</th>\n      <td>Q8NE35</td>\n      <td>Homo sapiens</td>\n      <td>p-body</td>\n      <td>HGNC:21746</td>\n      <td>698</td>\n      <td>MQDDLLMDKSKTQPQPQQQQRQQQQPQPESSVSEAPSTPLSSETPK...</td>\n      <td>CPEB3</td>\n      <td>VAR_029776</td>\n      <td>p.Arg324Trp</td>\n      <td>LB/B</td>\n      <td>...</td>\n      <td>NaN</td>\n      <td>R</td>\n      <td>324</td>\n      <td>W</td>\n      <td>True</td>\n      <td>Homo sapiens</td>\n      <td>D_WC</td>\n      <td>158</td>\n      <td>208</td>\n      <td>False</td>\n    </tr>\n  </tbody>\n</table>\n<p>13306 rows × 22 columns</p>\n</div>"
     },
     "metadata": {},
     "execution_count": 27
    }
   ],
   "source": [
    "# Merge con IDRs\n",
    "idr= box_uniprot_variants.merge(idr_box, on='uniprot')\n",
    "idr['in_idr'] = False\n",
    "for i in idr.index:\n",
    "    if str(idr.pos[i]) != 'nan':\n",
    "        if (int(idr.pos[i]) >= idr.idr_start[i]) & (int(idr.pos[i]) <= idr.idr_end[i]):\n",
    "            idr.in_idr[i] = True\n",
    "        else:\n",
    "            idr.in_idr[i] = False\n",
    "\n",
    "#idr = idr[idr.in_idr == True]\n",
    "idr"
   ]
  },
  {
   "cell_type": "code",
   "execution_count": 28,
   "metadata": {},
   "outputs": [
    {
     "output_type": "execute_result",
     "data": {
      "text/plain": [
       "      uniprot      organism                           mlo     hgnc_id  length  \\\n",
       "2      O15527  Homo sapiens               nuclear speckle   HGNC:8125     345   \n",
       "111    O95613  Homo sapiens  centrosome/spindle pole body  HGNC:16068    3336   \n",
       "142    O95613  Homo sapiens  centrosome/spindle pole body  HGNC:16068    3336   \n",
       "152    O95613  Homo sapiens  centrosome/spindle pole body  HGNC:16068    3336   \n",
       "183    O95613  Homo sapiens  centrosome/spindle pole body  HGNC:16068    3336   \n",
       "...       ...           ...                           ...         ...     ...   \n",
       "13236  P03372  Homo sapiens                  enhanceosome   HGNC:3467     595   \n",
       "13249  P03372  Homo sapiens                  enhanceosome   HGNC:3467     595   \n",
       "13257  P04156  Homo sapiens   cytoplasmic protein granule   HGNC:9449     253   \n",
       "13258  P04156  Homo sapiens   cytoplasmic protein granule   HGNC:9449     253   \n",
       "13297  P23771  Homo sapiens                  enhanceosome   HGNC:4172     443   \n",
       "\n",
       "                                                sequence gene_name  \\\n",
       "2      MPARALLPRRMGHRTLASTPALWASIPCPRSELRLDLVLPSGQSFR...      OGG1   \n",
       "111    MEVEQEQRRRKVEAGRTKLAHFRQRKTKGDSSHSEKKTAKRKGSAV...      PCNT   \n",
       "142    MEVEQEQRRRKVEAGRTKLAHFRQRKTKGDSSHSEKKTAKRKGSAV...      PCNT   \n",
       "152    MEVEQEQRRRKVEAGRTKLAHFRQRKTKGDSSHSEKKTAKRKGSAV...      PCNT   \n",
       "183    MEVEQEQRRRKVEAGRTKLAHFRQRKTKGDSSHSEKKTAKRKGSAV...      PCNT   \n",
       "...                                                  ...       ...   \n",
       "13236  MTMTLHTKASGMALLHQIQGNELEPLNRPQLKIPLERPLGEVYLDS...      ESR1   \n",
       "13249  MTMTLHTKASGMALLHQIQGNELEPLNRPQLKIPLERPLGEVYLDS...      ESR1   \n",
       "13257  MANLGCWMLVLFVATWSDLGLCKKRPKPGGWNTGGSRYPGQGSPGG...      PRNP   \n",
       "13258  MANLGCWMLVLFVATWSDLGLCKKRPKPGGWNTGGSRYPGQGSPGG...      PRNP   \n",
       "13297  MEVTADQPRWVSHHHPAVLNGQHPDTHHPGLSHSYMDAAQYPLPEE...     GATA3   \n",
       "\n",
       "            ft_id        change category  ...         mim aa1   pos aa2  ctrl  \\\n",
       "2      VAR_009521   p.Ser326Cys     LB/B  ...         NaN   S   326   C  True   \n",
       "111    VAR_043887  p.Arg1960Gln     LB/B  ...         NaN   R  1960   Q  True   \n",
       "142    VAR_043890  p.Met2188Arg     LB/B  ...         NaN   M  2188   R  True   \n",
       "152    VAR_043891  p.Ser2191Pro     LB/B  ...         NaN   S  2191   P  True   \n",
       "183    VAR_056963  p.Pro2329Arg     LB/B  ...         NaN   P  2329   R  True   \n",
       "...           ...           ...      ...  ...         ...  ..   ...  ..   ...   \n",
       "13236  VAR_004671   p.Gly160Cys     LB/B  ...         NaN   G   160   C  True   \n",
       "13249  VAR_033029   p.Met264Ile       US  ...         NaN   M   264   I  True   \n",
       "13257  VAR_006464   p.Pro102Leu     LP/P  ...  MIM:137440   P   102   L  True   \n",
       "13258  VAR_006465   p.Pro105Leu     LP/P  ...  MIM:137440   P   105   L  True   \n",
       "13297  VAR_033025   p.Arg366Leu       US  ...         NaN   R   366   L  True   \n",
       "\n",
       "                org  idr_tipo idr_start idr_end  in_idr  \n",
       "2      Homo sapiens      D_PA       324     345    True  \n",
       "111    Homo sapiens      D_WC      1954    1974    True  \n",
       "142    Homo sapiens      D_WC      2168    2214    True  \n",
       "152    Homo sapiens      D_WC      2168    2214    True  \n",
       "183    Homo sapiens      D_WC      2318    2374    True  \n",
       "...             ...       ...       ...     ...     ...  \n",
       "13236  Homo sapiens      D_WC       146     174    True  \n",
       "13249  Homo sapiens      D_PA       259     286    True  \n",
       "13257  Homo sapiens      D_WC        26     108    True  \n",
       "13258  Homo sapiens      D_WC        26     108    True  \n",
       "13297  Homo sapiens      D_PA       361     389    True  \n",
       "\n",
       "[833 rows x 22 columns]"
      ],
      "text/html": "<div>\n<style scoped>\n    .dataframe tbody tr th:only-of-type {\n        vertical-align: middle;\n    }\n\n    .dataframe tbody tr th {\n        vertical-align: top;\n    }\n\n    .dataframe thead th {\n        text-align: right;\n    }\n</style>\n<table border=\"1\" class=\"dataframe\">\n  <thead>\n    <tr style=\"text-align: right;\">\n      <th></th>\n      <th>uniprot</th>\n      <th>organism</th>\n      <th>mlo</th>\n      <th>hgnc_id</th>\n      <th>length</th>\n      <th>sequence</th>\n      <th>gene_name</th>\n      <th>ft_id</th>\n      <th>change</th>\n      <th>category</th>\n      <th>...</th>\n      <th>mim</th>\n      <th>aa1</th>\n      <th>pos</th>\n      <th>aa2</th>\n      <th>ctrl</th>\n      <th>org</th>\n      <th>idr_tipo</th>\n      <th>idr_start</th>\n      <th>idr_end</th>\n      <th>in_idr</th>\n    </tr>\n  </thead>\n  <tbody>\n    <tr>\n      <th>2</th>\n      <td>O15527</td>\n      <td>Homo sapiens</td>\n      <td>nuclear speckle</td>\n      <td>HGNC:8125</td>\n      <td>345</td>\n      <td>MPARALLPRRMGHRTLASTPALWASIPCPRSELRLDLVLPSGQSFR...</td>\n      <td>OGG1</td>\n      <td>VAR_009521</td>\n      <td>p.Ser326Cys</td>\n      <td>LB/B</td>\n      <td>...</td>\n      <td>NaN</td>\n      <td>S</td>\n      <td>326</td>\n      <td>C</td>\n      <td>True</td>\n      <td>Homo sapiens</td>\n      <td>D_PA</td>\n      <td>324</td>\n      <td>345</td>\n      <td>True</td>\n    </tr>\n    <tr>\n      <th>111</th>\n      <td>O95613</td>\n      <td>Homo sapiens</td>\n      <td>centrosome/spindle pole body</td>\n      <td>HGNC:16068</td>\n      <td>3336</td>\n      <td>MEVEQEQRRRKVEAGRTKLAHFRQRKTKGDSSHSEKKTAKRKGSAV...</td>\n      <td>PCNT</td>\n      <td>VAR_043887</td>\n      <td>p.Arg1960Gln</td>\n      <td>LB/B</td>\n      <td>...</td>\n      <td>NaN</td>\n      <td>R</td>\n      <td>1960</td>\n      <td>Q</td>\n      <td>True</td>\n      <td>Homo sapiens</td>\n      <td>D_WC</td>\n      <td>1954</td>\n      <td>1974</td>\n      <td>True</td>\n    </tr>\n    <tr>\n      <th>142</th>\n      <td>O95613</td>\n      <td>Homo sapiens</td>\n      <td>centrosome/spindle pole body</td>\n      <td>HGNC:16068</td>\n      <td>3336</td>\n      <td>MEVEQEQRRRKVEAGRTKLAHFRQRKTKGDSSHSEKKTAKRKGSAV...</td>\n      <td>PCNT</td>\n      <td>VAR_043890</td>\n      <td>p.Met2188Arg</td>\n      <td>LB/B</td>\n      <td>...</td>\n      <td>NaN</td>\n      <td>M</td>\n      <td>2188</td>\n      <td>R</td>\n      <td>True</td>\n      <td>Homo sapiens</td>\n      <td>D_WC</td>\n      <td>2168</td>\n      <td>2214</td>\n      <td>True</td>\n    </tr>\n    <tr>\n      <th>152</th>\n      <td>O95613</td>\n      <td>Homo sapiens</td>\n      <td>centrosome/spindle pole body</td>\n      <td>HGNC:16068</td>\n      <td>3336</td>\n      <td>MEVEQEQRRRKVEAGRTKLAHFRQRKTKGDSSHSEKKTAKRKGSAV...</td>\n      <td>PCNT</td>\n      <td>VAR_043891</td>\n      <td>p.Ser2191Pro</td>\n      <td>LB/B</td>\n      <td>...</td>\n      <td>NaN</td>\n      <td>S</td>\n      <td>2191</td>\n      <td>P</td>\n      <td>True</td>\n      <td>Homo sapiens</td>\n      <td>D_WC</td>\n      <td>2168</td>\n      <td>2214</td>\n      <td>True</td>\n    </tr>\n    <tr>\n      <th>183</th>\n      <td>O95613</td>\n      <td>Homo sapiens</td>\n      <td>centrosome/spindle pole body</td>\n      <td>HGNC:16068</td>\n      <td>3336</td>\n      <td>MEVEQEQRRRKVEAGRTKLAHFRQRKTKGDSSHSEKKTAKRKGSAV...</td>\n      <td>PCNT</td>\n      <td>VAR_056963</td>\n      <td>p.Pro2329Arg</td>\n      <td>LB/B</td>\n      <td>...</td>\n      <td>NaN</td>\n      <td>P</td>\n      <td>2329</td>\n      <td>R</td>\n      <td>True</td>\n      <td>Homo sapiens</td>\n      <td>D_WC</td>\n      <td>2318</td>\n      <td>2374</td>\n      <td>True</td>\n    </tr>\n    <tr>\n      <th>...</th>\n      <td>...</td>\n      <td>...</td>\n      <td>...</td>\n      <td>...</td>\n      <td>...</td>\n      <td>...</td>\n      <td>...</td>\n      <td>...</td>\n      <td>...</td>\n      <td>...</td>\n      <td>...</td>\n      <td>...</td>\n      <td>...</td>\n      <td>...</td>\n      <td>...</td>\n      <td>...</td>\n      <td>...</td>\n      <td>...</td>\n      <td>...</td>\n      <td>...</td>\n      <td>...</td>\n    </tr>\n    <tr>\n      <th>13236</th>\n      <td>P03372</td>\n      <td>Homo sapiens</td>\n      <td>enhanceosome</td>\n      <td>HGNC:3467</td>\n      <td>595</td>\n      <td>MTMTLHTKASGMALLHQIQGNELEPLNRPQLKIPLERPLGEVYLDS...</td>\n      <td>ESR1</td>\n      <td>VAR_004671</td>\n      <td>p.Gly160Cys</td>\n      <td>LB/B</td>\n      <td>...</td>\n      <td>NaN</td>\n      <td>G</td>\n      <td>160</td>\n      <td>C</td>\n      <td>True</td>\n      <td>Homo sapiens</td>\n      <td>D_WC</td>\n      <td>146</td>\n      <td>174</td>\n      <td>True</td>\n    </tr>\n    <tr>\n      <th>13249</th>\n      <td>P03372</td>\n      <td>Homo sapiens</td>\n      <td>enhanceosome</td>\n      <td>HGNC:3467</td>\n      <td>595</td>\n      <td>MTMTLHTKASGMALLHQIQGNELEPLNRPQLKIPLERPLGEVYLDS...</td>\n      <td>ESR1</td>\n      <td>VAR_033029</td>\n      <td>p.Met264Ile</td>\n      <td>US</td>\n      <td>...</td>\n      <td>NaN</td>\n      <td>M</td>\n      <td>264</td>\n      <td>I</td>\n      <td>True</td>\n      <td>Homo sapiens</td>\n      <td>D_PA</td>\n      <td>259</td>\n      <td>286</td>\n      <td>True</td>\n    </tr>\n    <tr>\n      <th>13257</th>\n      <td>P04156</td>\n      <td>Homo sapiens</td>\n      <td>cytoplasmic protein granule</td>\n      <td>HGNC:9449</td>\n      <td>253</td>\n      <td>MANLGCWMLVLFVATWSDLGLCKKRPKPGGWNTGGSRYPGQGSPGG...</td>\n      <td>PRNP</td>\n      <td>VAR_006464</td>\n      <td>p.Pro102Leu</td>\n      <td>LP/P</td>\n      <td>...</td>\n      <td>MIM:137440</td>\n      <td>P</td>\n      <td>102</td>\n      <td>L</td>\n      <td>True</td>\n      <td>Homo sapiens</td>\n      <td>D_WC</td>\n      <td>26</td>\n      <td>108</td>\n      <td>True</td>\n    </tr>\n    <tr>\n      <th>13258</th>\n      <td>P04156</td>\n      <td>Homo sapiens</td>\n      <td>cytoplasmic protein granule</td>\n      <td>HGNC:9449</td>\n      <td>253</td>\n      <td>MANLGCWMLVLFVATWSDLGLCKKRPKPGGWNTGGSRYPGQGSPGG...</td>\n      <td>PRNP</td>\n      <td>VAR_006465</td>\n      <td>p.Pro105Leu</td>\n      <td>LP/P</td>\n      <td>...</td>\n      <td>MIM:137440</td>\n      <td>P</td>\n      <td>105</td>\n      <td>L</td>\n      <td>True</td>\n      <td>Homo sapiens</td>\n      <td>D_WC</td>\n      <td>26</td>\n      <td>108</td>\n      <td>True</td>\n    </tr>\n    <tr>\n      <th>13297</th>\n      <td>P23771</td>\n      <td>Homo sapiens</td>\n      <td>enhanceosome</td>\n      <td>HGNC:4172</td>\n      <td>443</td>\n      <td>MEVTADQPRWVSHHHPAVLNGQHPDTHHPGLSHSYMDAAQYPLPEE...</td>\n      <td>GATA3</td>\n      <td>VAR_033025</td>\n      <td>p.Arg366Leu</td>\n      <td>US</td>\n      <td>...</td>\n      <td>NaN</td>\n      <td>R</td>\n      <td>366</td>\n      <td>L</td>\n      <td>True</td>\n      <td>Homo sapiens</td>\n      <td>D_PA</td>\n      <td>361</td>\n      <td>389</td>\n      <td>True</td>\n    </tr>\n  </tbody>\n</table>\n<p>833 rows × 22 columns</p>\n</div>"
     },
     "metadata": {},
     "execution_count": 28
    }
   ],
   "source": [
    "idr[idr.in_idr == True]"
   ]
  },
  {
   "cell_type": "code",
   "execution_count": 57,
   "metadata": {},
   "outputs": [
    {
     "output_type": "execute_result",
     "data": {
      "text/plain": [
       "       uniprot      organism              mlo     hgnc_id  length  \\\n",
       "0       O15527  Homo sapiens  nuclear speckle   HGNC:8125     345   \n",
       "1       O15527  Homo sapiens  nuclear speckle   HGNC:8125     345   \n",
       "2       O15527  Homo sapiens  nuclear speckle   HGNC:8125     345   \n",
       "3       O15527  Homo sapiens  nuclear speckle   HGNC:8125     345   \n",
       "4       O15527  Homo sapiens  nuclear speckle   HGNC:8125     345   \n",
       "...        ...           ...              ...         ...     ...   \n",
       "109393  O00165  Homo sapiens           p-body  HGNC:16915     279   \n",
       "109394  O00165  Homo sapiens           p-body  HGNC:16915     279   \n",
       "109395  O00165  Homo sapiens           p-body  HGNC:16915     279   \n",
       "109396  Q9NRX1  Homo sapiens        nucleolus  HGNC:32790     252   \n",
       "109397  Q9NRX1  Homo sapiens        nucleolus  HGNC:32790     252   \n",
       "\n",
       "                                                 sequence gene_name  \\\n",
       "0       MPARALLPRRMGHRTLASTPALWASIPCPRSELRLDLVLPSGQSFR...      OGG1   \n",
       "1       MPARALLPRRMGHRTLASTPALWASIPCPRSELRLDLVLPSGQSFR...      OGG1   \n",
       "2       MPARALLPRRMGHRTLASTPALWASIPCPRSELRLDLVLPSGQSFR...      OGG1   \n",
       "3       MPARALLPRRMGHRTLASTPALWASIPCPRSELRLDLVLPSGQSFR...      OGG1   \n",
       "4       MPARALLPRRMGHRTLASTPALWASIPCPRSELRLDLVLPSGQSFR...      OGG1   \n",
       "...                                                   ...       ...   \n",
       "109393  MSLFDLFRGFFGFPGPRSHRDPFFGGMTRDEDDDEEEEEEGGSWGR...      HAX1   \n",
       "109394  MSLFDLFRGFFGFPGPRSHRDPFFGGMTRDEDDDEEEEEEGGSWGR...      HAX1   \n",
       "109395  MSLFDLFRGFFGFPGPRSHRDPFFGGMTRDEDDDEEEEEEGGSWGR...      HAX1   \n",
       "109396  MESEMETQSARAEEGFTQVTRKGGRRAKKRQAEQLSAAGEGGDAGR...      PNO1   \n",
       "109397  MESEMETQSARAEEGFTQVTRKGGRRAKKRQAEQLSAAGEGGDAGR...      PNO1   \n",
       "\n",
       "             ft_id       change category  ... lc_start lc_end lc_seq  \\\n",
       "0       VAR_009519   p.Arg46Gln     LB/B  ...      NaN    NaN    NaN   \n",
       "1       VAR_009519   p.Arg46Gln     LB/B  ...      NaN    NaN    NaN   \n",
       "2       VAR_009520  p.Arg154His     LB/B  ...      NaN    NaN    NaN   \n",
       "3       VAR_009520  p.Arg154His     LB/B  ...      NaN    NaN    NaN   \n",
       "4       VAR_009521  p.Ser326Cys     LB/B  ...      NaN    NaN    NaN   \n",
       "...            ...          ...      ...  ...      ...    ...    ...   \n",
       "109393  VAR_064514  p.Leu130Arg     LP/P  ...      NaN    NaN    NaN   \n",
       "109394  VAR_064515  p.Val172Ile     LB/B  ...      NaN    NaN    NaN   \n",
       "109395  VAR_064515  p.Val172Ile     LB/B  ...      NaN    NaN    NaN   \n",
       "109396  VAR_029814   p.Arg11Gly     LB/B  ...      NaN    NaN    NaN   \n",
       "109397  VAR_029815   p.Gly71Ala     LB/B  ...      NaN    NaN    NaN   \n",
       "\n",
       "        lc_length in_lc           org idr_tipo idr_start  idr_end  in_idr  \n",
       "0             NaN   NaN  Homo sapiens     D_PA     324.0    345.0   False  \n",
       "1             NaN   NaN  Homo sapiens     D_PA     324.0    345.0   False  \n",
       "2             NaN   NaN  Homo sapiens     D_PA     324.0    345.0   False  \n",
       "3             NaN   NaN  Homo sapiens     D_PA     324.0    345.0   False  \n",
       "4             NaN   NaN  Homo sapiens     D_PA     324.0    345.0    True  \n",
       "...           ...   ...           ...      ...       ...      ...     ...  \n",
       "109393        NaN   NaN  Homo sapiens     D_WC      99.0    262.0    True  \n",
       "109394        NaN   NaN  Homo sapiens     D_PA      16.0     65.0   False  \n",
       "109395        NaN   NaN  Homo sapiens     D_WC      99.0    262.0    True  \n",
       "109396        NaN   NaN  Homo sapiens     D_WC       1.0     71.0    True  \n",
       "109397        NaN   NaN  Homo sapiens     D_WC       1.0     71.0    True  \n",
       "\n",
       "[109398 rows x 31 columns]"
      ],
      "text/html": "<div>\n<style scoped>\n    .dataframe tbody tr th:only-of-type {\n        vertical-align: middle;\n    }\n\n    .dataframe tbody tr th {\n        vertical-align: top;\n    }\n\n    .dataframe thead th {\n        text-align: right;\n    }\n</style>\n<table border=\"1\" class=\"dataframe\">\n  <thead>\n    <tr style=\"text-align: right;\">\n      <th></th>\n      <th>uniprot</th>\n      <th>organism</th>\n      <th>mlo</th>\n      <th>hgnc_id</th>\n      <th>length</th>\n      <th>sequence</th>\n      <th>gene_name</th>\n      <th>ft_id</th>\n      <th>change</th>\n      <th>category</th>\n      <th>...</th>\n      <th>lc_start</th>\n      <th>lc_end</th>\n      <th>lc_seq</th>\n      <th>lc_length</th>\n      <th>in_lc</th>\n      <th>org</th>\n      <th>idr_tipo</th>\n      <th>idr_start</th>\n      <th>idr_end</th>\n      <th>in_idr</th>\n    </tr>\n  </thead>\n  <tbody>\n    <tr>\n      <th>0</th>\n      <td>O15527</td>\n      <td>Homo sapiens</td>\n      <td>nuclear speckle</td>\n      <td>HGNC:8125</td>\n      <td>345</td>\n      <td>MPARALLPRRMGHRTLASTPALWASIPCPRSELRLDLVLPSGQSFR...</td>\n      <td>OGG1</td>\n      <td>VAR_009519</td>\n      <td>p.Arg46Gln</td>\n      <td>LB/B</td>\n      <td>...</td>\n      <td>NaN</td>\n      <td>NaN</td>\n      <td>NaN</td>\n      <td>NaN</td>\n      <td>NaN</td>\n      <td>Homo sapiens</td>\n      <td>D_PA</td>\n      <td>324.0</td>\n      <td>345.0</td>\n      <td>False</td>\n    </tr>\n    <tr>\n      <th>1</th>\n      <td>O15527</td>\n      <td>Homo sapiens</td>\n      <td>nuclear speckle</td>\n      <td>HGNC:8125</td>\n      <td>345</td>\n      <td>MPARALLPRRMGHRTLASTPALWASIPCPRSELRLDLVLPSGQSFR...</td>\n      <td>OGG1</td>\n      <td>VAR_009519</td>\n      <td>p.Arg46Gln</td>\n      <td>LB/B</td>\n      <td>...</td>\n      <td>NaN</td>\n      <td>NaN</td>\n      <td>NaN</td>\n      <td>NaN</td>\n      <td>NaN</td>\n      <td>Homo sapiens</td>\n      <td>D_PA</td>\n      <td>324.0</td>\n      <td>345.0</td>\n      <td>False</td>\n    </tr>\n    <tr>\n      <th>2</th>\n      <td>O15527</td>\n      <td>Homo sapiens</td>\n      <td>nuclear speckle</td>\n      <td>HGNC:8125</td>\n      <td>345</td>\n      <td>MPARALLPRRMGHRTLASTPALWASIPCPRSELRLDLVLPSGQSFR...</td>\n      <td>OGG1</td>\n      <td>VAR_009520</td>\n      <td>p.Arg154His</td>\n      <td>LB/B</td>\n      <td>...</td>\n      <td>NaN</td>\n      <td>NaN</td>\n      <td>NaN</td>\n      <td>NaN</td>\n      <td>NaN</td>\n      <td>Homo sapiens</td>\n      <td>D_PA</td>\n      <td>324.0</td>\n      <td>345.0</td>\n      <td>False</td>\n    </tr>\n    <tr>\n      <th>3</th>\n      <td>O15527</td>\n      <td>Homo sapiens</td>\n      <td>nuclear speckle</td>\n      <td>HGNC:8125</td>\n      <td>345</td>\n      <td>MPARALLPRRMGHRTLASTPALWASIPCPRSELRLDLVLPSGQSFR...</td>\n      <td>OGG1</td>\n      <td>VAR_009520</td>\n      <td>p.Arg154His</td>\n      <td>LB/B</td>\n      <td>...</td>\n      <td>NaN</td>\n      <td>NaN</td>\n      <td>NaN</td>\n      <td>NaN</td>\n      <td>NaN</td>\n      <td>Homo sapiens</td>\n      <td>D_PA</td>\n      <td>324.0</td>\n      <td>345.0</td>\n      <td>False</td>\n    </tr>\n    <tr>\n      <th>4</th>\n      <td>O15527</td>\n      <td>Homo sapiens</td>\n      <td>nuclear speckle</td>\n      <td>HGNC:8125</td>\n      <td>345</td>\n      <td>MPARALLPRRMGHRTLASTPALWASIPCPRSELRLDLVLPSGQSFR...</td>\n      <td>OGG1</td>\n      <td>VAR_009521</td>\n      <td>p.Ser326Cys</td>\n      <td>LB/B</td>\n      <td>...</td>\n      <td>NaN</td>\n      <td>NaN</td>\n      <td>NaN</td>\n      <td>NaN</td>\n      <td>NaN</td>\n      <td>Homo sapiens</td>\n      <td>D_PA</td>\n      <td>324.0</td>\n      <td>345.0</td>\n      <td>True</td>\n    </tr>\n    <tr>\n      <th>...</th>\n      <td>...</td>\n      <td>...</td>\n      <td>...</td>\n      <td>...</td>\n      <td>...</td>\n      <td>...</td>\n      <td>...</td>\n      <td>...</td>\n      <td>...</td>\n      <td>...</td>\n      <td>...</td>\n      <td>...</td>\n      <td>...</td>\n      <td>...</td>\n      <td>...</td>\n      <td>...</td>\n      <td>...</td>\n      <td>...</td>\n      <td>...</td>\n      <td>...</td>\n      <td>...</td>\n    </tr>\n    <tr>\n      <th>109393</th>\n      <td>O00165</td>\n      <td>Homo sapiens</td>\n      <td>p-body</td>\n      <td>HGNC:16915</td>\n      <td>279</td>\n      <td>MSLFDLFRGFFGFPGPRSHRDPFFGGMTRDEDDDEEEEEEGGSWGR...</td>\n      <td>HAX1</td>\n      <td>VAR_064514</td>\n      <td>p.Leu130Arg</td>\n      <td>LP/P</td>\n      <td>...</td>\n      <td>NaN</td>\n      <td>NaN</td>\n      <td>NaN</td>\n      <td>NaN</td>\n      <td>NaN</td>\n      <td>Homo sapiens</td>\n      <td>D_WC</td>\n      <td>99.0</td>\n      <td>262.0</td>\n      <td>True</td>\n    </tr>\n    <tr>\n      <th>109394</th>\n      <td>O00165</td>\n      <td>Homo sapiens</td>\n      <td>p-body</td>\n      <td>HGNC:16915</td>\n      <td>279</td>\n      <td>MSLFDLFRGFFGFPGPRSHRDPFFGGMTRDEDDDEEEEEEGGSWGR...</td>\n      <td>HAX1</td>\n      <td>VAR_064515</td>\n      <td>p.Val172Ile</td>\n      <td>LB/B</td>\n      <td>...</td>\n      <td>NaN</td>\n      <td>NaN</td>\n      <td>NaN</td>\n      <td>NaN</td>\n      <td>NaN</td>\n      <td>Homo sapiens</td>\n      <td>D_PA</td>\n      <td>16.0</td>\n      <td>65.0</td>\n      <td>False</td>\n    </tr>\n    <tr>\n      <th>109395</th>\n      <td>O00165</td>\n      <td>Homo sapiens</td>\n      <td>p-body</td>\n      <td>HGNC:16915</td>\n      <td>279</td>\n      <td>MSLFDLFRGFFGFPGPRSHRDPFFGGMTRDEDDDEEEEEEGGSWGR...</td>\n      <td>HAX1</td>\n      <td>VAR_064515</td>\n      <td>p.Val172Ile</td>\n      <td>LB/B</td>\n      <td>...</td>\n      <td>NaN</td>\n      <td>NaN</td>\n      <td>NaN</td>\n      <td>NaN</td>\n      <td>NaN</td>\n      <td>Homo sapiens</td>\n      <td>D_WC</td>\n      <td>99.0</td>\n      <td>262.0</td>\n      <td>True</td>\n    </tr>\n    <tr>\n      <th>109396</th>\n      <td>Q9NRX1</td>\n      <td>Homo sapiens</td>\n      <td>nucleolus</td>\n      <td>HGNC:32790</td>\n      <td>252</td>\n      <td>MESEMETQSARAEEGFTQVTRKGGRRAKKRQAEQLSAAGEGGDAGR...</td>\n      <td>PNO1</td>\n      <td>VAR_029814</td>\n      <td>p.Arg11Gly</td>\n      <td>LB/B</td>\n      <td>...</td>\n      <td>NaN</td>\n      <td>NaN</td>\n      <td>NaN</td>\n      <td>NaN</td>\n      <td>NaN</td>\n      <td>Homo sapiens</td>\n      <td>D_WC</td>\n      <td>1.0</td>\n      <td>71.0</td>\n      <td>True</td>\n    </tr>\n    <tr>\n      <th>109397</th>\n      <td>Q9NRX1</td>\n      <td>Homo sapiens</td>\n      <td>nucleolus</td>\n      <td>HGNC:32790</td>\n      <td>252</td>\n      <td>MESEMETQSARAEEGFTQVTRKGGRRAKKRQAEQLSAAGEGGDAGR...</td>\n      <td>PNO1</td>\n      <td>VAR_029815</td>\n      <td>p.Gly71Ala</td>\n      <td>LB/B</td>\n      <td>...</td>\n      <td>NaN</td>\n      <td>NaN</td>\n      <td>NaN</td>\n      <td>NaN</td>\n      <td>NaN</td>\n      <td>Homo sapiens</td>\n      <td>D_WC</td>\n      <td>1.0</td>\n      <td>71.0</td>\n      <td>True</td>\n    </tr>\n  </tbody>\n</table>\n<p>109398 rows × 31 columns</p>\n</div>"
     },
     "metadata": {},
     "execution_count": 57
    }
   ],
   "source": [
    "#MERGE de las tres tablas\n",
    "#df_list = [pfam, lc, idr]\n",
    "#dom_merged = reduce(lambda left, right: pd.merge(left, right, on=list(box_uniprot_variants.columns), how='outer'), df_list)\n",
    "#dom_merged = dom_merged.astype({\"pos\": np.int64})\n",
    "#dom_merged"
   ]
  },
  {
   "cell_type": "code",
   "execution_count": 58,
   "metadata": {},
   "outputs": [
    {
     "output_type": "execute_result",
     "data": {
      "text/plain": [
       "391"
      ]
     },
     "metadata": {},
     "execution_count": 58
    }
   ],
   "source": [
    "len(dom_merged.uniprot.unique())"
   ]
  },
  {
   "cell_type": "code",
   "execution_count": 59,
   "metadata": {},
   "outputs": [
    {
     "output_type": "execute_result",
     "data": {
      "text/plain": [
       "-               29706\n",
       "rs281875187       686\n",
       "rs200806228       396\n",
       "rs1554602465      396\n",
       "rs200898742       396\n",
       "                ...  \n",
       "rs17850813          1\n",
       "rs55813244          1\n",
       "rs6742946           1\n",
       "rs730882216         1\n",
       "rs610913            1\n",
       "Name: snp_id, Length: 2554, dtype: int64"
      ]
     },
     "metadata": {},
     "execution_count": 59
    }
   ],
   "source": [
    "dom_merged.snp_id.value_counts()"
   ]
  },
  {
   "cell_type": "code",
   "execution_count": null,
   "metadata": {},
   "outputs": [],
   "source": [
    "dom_merged.pfam_id.fillna(df.)"
   ]
  }
 ]
}