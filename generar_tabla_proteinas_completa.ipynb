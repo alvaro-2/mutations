{
 "cells": [
  {
   "cell_type": "code",
   "execution_count": 1,
   "metadata": {},
   "outputs": [],
   "source": [
    "import pandas as pd"
   ]
  },
  {
   "cell_type": "markdown",
   "metadata": {},
   "source": [
    "# protein table  \r\n",
    "## must contain the cols: *id_protein, uniprot_acc, hgnc_id, gene_id, gene_name, sequence, length, disorder_content*"
   ]
  },
  {
   "cell_type": "code",
   "execution_count": 38,
   "metadata": {},
   "outputs": [],
   "source": [
    "proteins = pd.read_csv('../datasets/llps_human_all_proteins.csv')\n",
    "proteins.drop(columns='organism', inplace= True)"
   ]
  },
  {
   "cell_type": "code",
   "execution_count": 39,
   "metadata": {},
   "outputs": [],
   "source": [
    "# Drop the \"-nan-\" entry\r\n",
    "proteins.iloc[4266]\r\n",
    "proteins.drop(4266, inplace= True)"
   ]
  },
  {
   "cell_type": "code",
   "execution_count": 37,
   "metadata": {},
   "outputs": [],
   "source": [
    "# Mobidb disorder content\r\n",
    "mobidb = pd.read_csv('dc_mobidb_lite.csv').rename(columns={'uniprot': 'uniprot_acc', 'dc': 'disorder_content'})"
   ]
  },
  {
   "cell_type": "code",
   "execution_count": 41,
   "metadata": {},
   "outputs": [],
   "source": [
    "# Cannonical sequences from UniProt for each protein\r\n",
    "seqs = pd.read_csv('sequences.csv')\r\n",
    "seqs.rename(columns= {'uniprot': 'uniprot_acc'}, inplace= True)"
   ]
  },
  {
   "cell_type": "markdown",
   "metadata": {},
   "source": [
    "## The uniprot accession 'Q8NEP4' changed to 'O43236' (2020-12-02 Merged into O43236)  \r\n",
    "Here, we will keep Q8NEP4 because this entry didin't change in drLLPS (which is the source of this protein)"
   ]
  },
  {
   "cell_type": "code",
   "execution_count": 42,
   "metadata": {},
   "outputs": [
    {
     "data": {
      "text/html": [
       "<div>\n",
       "<style scoped>\n",
       "    .dataframe tbody tr th:only-of-type {\n",
       "        vertical-align: middle;\n",
       "    }\n",
       "\n",
       "    .dataframe tbody tr th {\n",
       "        vertical-align: top;\n",
       "    }\n",
       "\n",
       "    .dataframe thead th {\n",
       "        text-align: right;\n",
       "    }\n",
       "</style>\n",
       "<table border=\"1\" class=\"dataframe\">\n",
       "  <thead>\n",
       "    <tr style=\"text-align: right;\">\n",
       "      <th></th>\n",
       "      <th>uniprot_acc</th>\n",
       "      <th>mlo</th>\n",
       "      <th>rol</th>\n",
       "      <th>db</th>\n",
       "      <th>hgnc_id</th>\n",
       "      <th>gene_name</th>\n",
       "      <th>approved_name</th>\n",
       "      <th>gene_id</th>\n",
       "    </tr>\n",
       "  </thead>\n",
       "  <tbody>\n",
       "    <tr>\n",
       "      <th>4352</th>\n",
       "      <td>Q8NEP4</td>\n",
       "      <td>postsynaptic density</td>\n",
       "      <td>client</td>\n",
       "      <td>drllps</td>\n",
       "      <td>NaN</td>\n",
       "      <td>NaN</td>\n",
       "      <td>NaN</td>\n",
       "      <td>NaN</td>\n",
       "    </tr>\n",
       "  </tbody>\n",
       "</table>\n",
       "</div>"
      ],
      "text/plain": [
       "     uniprot_acc                   mlo     rol      db hgnc_id gene_name  \\\n",
       "4352      Q8NEP4  postsynaptic density  client  drllps     NaN       NaN   \n",
       "\n",
       "     approved_name  gene_id  \n",
       "4352           NaN      NaN  "
      ]
     },
     "execution_count": 42,
     "metadata": {},
     "output_type": "execute_result"
    }
   ],
   "source": [
    "proteins[proteins.uniprot_acc == 'Q8NEP4'] # UniProt: 2020-12-02 Merged into O43236."
   ]
  },
  {
   "cell_type": "code",
   "execution_count": 45,
   "metadata": {},
   "outputs": [
    {
     "data": {
      "text/plain": [
       "uniprot_acc                                               O43236\n",
       "sequence       MDRSLGWQGNSVPEDRTEAGIKRFLEDTTDDGELSKFVKDFSGNAS...\n",
       "Name: 4282, dtype: object"
      ]
     },
     "execution_count": 45,
     "metadata": {},
     "output_type": "execute_result"
    }
   ],
   "source": [
    "# Keep 'Q8NEP4'\r\n",
    "seqs[seqs.uniprot_acc == 'O43236']\r\n",
    "seqs.iloc[4282]"
   ]
  },
  {
   "cell_type": "code",
   "execution_count": 46,
   "metadata": {},
   "outputs": [],
   "source": [
    "seqs.replace('O43236', 'Q8NEP4', inplace= True)"
   ]
  },
  {
   "cell_type": "code",
   "execution_count": 47,
   "metadata": {},
   "outputs": [
    {
     "data": {
      "text/plain": [
       "uniprot_acc                                               Q8NEP4\n",
       "sequence       MDRSLGWQGNSVPEDRTEAGIKRFLEDTTDDGELSKFVKDFSGNAS...\n",
       "Name: 4282, dtype: object"
      ]
     },
     "execution_count": 47,
     "metadata": {},
     "output_type": "execute_result"
    }
   ],
   "source": [
    "seqs.iloc[4282]"
   ]
  },
  {
   "cell_type": "code",
   "execution_count": 48,
   "metadata": {},
   "outputs": [],
   "source": [
    "proteins = proteins.merge(seqs, how= 'left') # add seqs\r\n",
    "proteins['length'] = proteins.sequence.map(lambda x: len(x)) # add length"
   ]
  },
  {
   "cell_type": "code",
   "execution_count": 49,
   "metadata": {},
   "outputs": [
    {
     "data": {
      "text/html": [
       "<div>\n",
       "<style scoped>\n",
       "    .dataframe tbody tr th:only-of-type {\n",
       "        vertical-align: middle;\n",
       "    }\n",
       "\n",
       "    .dataframe tbody tr th {\n",
       "        vertical-align: top;\n",
       "    }\n",
       "\n",
       "    .dataframe thead th {\n",
       "        text-align: right;\n",
       "    }\n",
       "</style>\n",
       "<table border=\"1\" class=\"dataframe\">\n",
       "  <thead>\n",
       "    <tr style=\"text-align: right;\">\n",
       "      <th></th>\n",
       "      <th>uniprot_acc</th>\n",
       "      <th>mlo</th>\n",
       "      <th>rol</th>\n",
       "      <th>db</th>\n",
       "      <th>hgnc_id</th>\n",
       "      <th>gene_name</th>\n",
       "      <th>approved_name</th>\n",
       "      <th>gene_id</th>\n",
       "      <th>sequence</th>\n",
       "      <th>length</th>\n",
       "    </tr>\n",
       "  </thead>\n",
       "  <tbody>\n",
       "    <tr>\n",
       "      <th>0</th>\n",
       "      <td>A0A024RBG1</td>\n",
       "      <td>null_phasepdb_ht</td>\n",
       "      <td>regulator</td>\n",
       "      <td>phasepdb_ht</td>\n",
       "      <td>HGNC:18012</td>\n",
       "      <td>NUDT4B</td>\n",
       "      <td>nudix hydrolase 4B</td>\n",
       "      <td>440672.0</td>\n",
       "      <td>MMKFKPNQTRTYDREGFKKRAACLCFRSEQEDEVLLVSSSRYPDQW...</td>\n",
       "      <td>181</td>\n",
       "    </tr>\n",
       "    <tr>\n",
       "      <th>1</th>\n",
       "      <td>A0A096LP55</td>\n",
       "      <td>stress granule</td>\n",
       "      <td>regulator</td>\n",
       "      <td>drllps</td>\n",
       "      <td>HGNC:51714</td>\n",
       "      <td>UQCRHL</td>\n",
       "      <td>ubiquinol-cytochrome c reductase hinge protein...</td>\n",
       "      <td>440567.0</td>\n",
       "      <td>MGLEDEQKMLTESGDPEEEEEEEEELVDPLTTVREQCEQLEKCVKA...</td>\n",
       "      <td>91</td>\n",
       "    </tr>\n",
       "    <tr>\n",
       "      <th>2</th>\n",
       "      <td>A0A0U1RRE5</td>\n",
       "      <td>p-body</td>\n",
       "      <td>component, client</td>\n",
       "      <td>drllps, phasepdb_uniprot</td>\n",
       "      <td>HGNC:50713</td>\n",
       "      <td>NBDY</td>\n",
       "      <td>negative regulator of P-body association</td>\n",
       "      <td>550643.0</td>\n",
       "      <td>MGDQPCASGRSTLPPGNAREAKPPKKRCLLAPRWDYPEGTPNGGST...</td>\n",
       "      <td>68</td>\n",
       "    </tr>\n",
       "    <tr>\n",
       "      <th>3</th>\n",
       "      <td>A0AV96</td>\n",
       "      <td>stress granule, p-body, stress granule</td>\n",
       "      <td>component, client</td>\n",
       "      <td>drllps, phasepdb_ht</td>\n",
       "      <td>HGNC:30358</td>\n",
       "      <td>RBM47</td>\n",
       "      <td>RNA binding motif protein 47</td>\n",
       "      <td>54502.0</td>\n",
       "      <td>MTAEDSTAAMSSDSAAGSSAKVPEGVAGAPNEAALLALMERTGYSM...</td>\n",
       "      <td>593</td>\n",
       "    </tr>\n",
       "    <tr>\n",
       "      <th>4</th>\n",
       "      <td>A0FGR8</td>\n",
       "      <td>postsynaptic density, nucleolus</td>\n",
       "      <td>client</td>\n",
       "      <td>drllps</td>\n",
       "      <td>HGNC:22211</td>\n",
       "      <td>ESYT2</td>\n",
       "      <td>extended synaptotagmin 2</td>\n",
       "      <td>57488.0</td>\n",
       "      <td>MTANRDAALSSHRHPGCAQRPRTPTFASSSQRRSAFGFDDGNFPGL...</td>\n",
       "      <td>921</td>\n",
       "    </tr>\n",
       "  </tbody>\n",
       "</table>\n",
       "</div>"
      ],
      "text/plain": [
       "  uniprot_acc                                      mlo                rol  \\\n",
       "0  A0A024RBG1                         null_phasepdb_ht          regulator   \n",
       "1  A0A096LP55                           stress granule          regulator   \n",
       "2  A0A0U1RRE5                                   p-body  component, client   \n",
       "3      A0AV96   stress granule, p-body, stress granule  component, client   \n",
       "4      A0FGR8          postsynaptic density, nucleolus             client   \n",
       "\n",
       "                         db     hgnc_id gene_name  \\\n",
       "0               phasepdb_ht  HGNC:18012    NUDT4B   \n",
       "1                    drllps  HGNC:51714    UQCRHL   \n",
       "2  drllps, phasepdb_uniprot  HGNC:50713      NBDY   \n",
       "3       drllps, phasepdb_ht  HGNC:30358     RBM47   \n",
       "4                    drllps  HGNC:22211     ESYT2   \n",
       "\n",
       "                                       approved_name   gene_id  \\\n",
       "0                                 nudix hydrolase 4B  440672.0   \n",
       "1  ubiquinol-cytochrome c reductase hinge protein...  440567.0   \n",
       "2           negative regulator of P-body association  550643.0   \n",
       "3                       RNA binding motif protein 47   54502.0   \n",
       "4                           extended synaptotagmin 2   57488.0   \n",
       "\n",
       "                                            sequence  length  \n",
       "0  MMKFKPNQTRTYDREGFKKRAACLCFRSEQEDEVLLVSSSRYPDQW...     181  \n",
       "1  MGLEDEQKMLTESGDPEEEEEEEEELVDPLTTVREQCEQLEKCVKA...      91  \n",
       "2  MGDQPCASGRSTLPPGNAREAKPPKKRCLLAPRWDYPEGTPNGGST...      68  \n",
       "3  MTAEDSTAAMSSDSAAGSSAKVPEGVAGAPNEAALLALMERTGYSM...     593  \n",
       "4  MTANRDAALSSHRHPGCAQRPRTPTFASSSQRRSAFGFDDGNFPGL...     921  "
      ]
     },
     "execution_count": 49,
     "metadata": {},
     "output_type": "execute_result"
    }
   ],
   "source": [
    "proteins.head()"
   ]
  },
  {
   "cell_type": "code",
   "execution_count": 551,
   "metadata": {},
   "outputs": [],
   "source": [
    "# Don't forget: tabla separada para MLOs\r\n",
    "#mlo = proteins.copy()"
   ]
  },
  {
   "cell_type": "markdown",
   "metadata": {},
   "source": [
    "## Add disorder_content col"
   ]
  },
  {
   "cell_type": "code",
   "execution_count": 50,
   "metadata": {},
   "outputs": [
    {
     "data": {
      "text/plain": [
       "2655"
      ]
     },
     "execution_count": 50,
     "metadata": {},
     "output_type": "execute_result"
    }
   ],
   "source": [
    "len(mobidb.uniprot_acc.unique()) # 1 entry = 1 protein"
   ]
  },
  {
   "cell_type": "code",
   "execution_count": 51,
   "metadata": {},
   "outputs": [],
   "source": [
    "proteins =proteins.merge(mobidb, how= 'left')"
   ]
  },
  {
   "cell_type": "code",
   "execution_count": 52,
   "metadata": {},
   "outputs": [],
   "source": [
    "# protein df with cols to keep\r\n",
    "protein = proteins[['uniprot_acc', 'hgnc_id', 'gene_id', 'gene_name', 'sequence', 'length', 'disorder_content']].copy()"
   ]
  },
  {
   "cell_type": "code",
   "execution_count": 54,
   "metadata": {},
   "outputs": [
    {
     "data": {
      "text/html": [
       "<div>\n",
       "<style scoped>\n",
       "    .dataframe tbody tr th:only-of-type {\n",
       "        vertical-align: middle;\n",
       "    }\n",
       "\n",
       "    .dataframe tbody tr th {\n",
       "        vertical-align: top;\n",
       "    }\n",
       "\n",
       "    .dataframe thead th {\n",
       "        text-align: right;\n",
       "    }\n",
       "</style>\n",
       "<table border=\"1\" class=\"dataframe\">\n",
       "  <thead>\n",
       "    <tr style=\"text-align: right;\">\n",
       "      <th></th>\n",
       "      <th>uniprot_acc</th>\n",
       "      <th>hgnc_id</th>\n",
       "      <th>gene_id</th>\n",
       "      <th>gene_name</th>\n",
       "      <th>sequence</th>\n",
       "      <th>length</th>\n",
       "      <th>disorder_content</th>\n",
       "    </tr>\n",
       "  </thead>\n",
       "  <tbody>\n",
       "    <tr>\n",
       "      <th>0</th>\n",
       "      <td>A0A024RBG1</td>\n",
       "      <td>HGNC:18012</td>\n",
       "      <td>440672.0</td>\n",
       "      <td>NUDT4B</td>\n",
       "      <td>MMKFKPNQTRTYDREGFKKRAACLCFRSEQEDEVLLVSSSRYPDQW...</td>\n",
       "      <td>181</td>\n",
       "      <td>NaN</td>\n",
       "    </tr>\n",
       "    <tr>\n",
       "      <th>1</th>\n",
       "      <td>A0A096LP55</td>\n",
       "      <td>HGNC:51714</td>\n",
       "      <td>440567.0</td>\n",
       "      <td>UQCRHL</td>\n",
       "      <td>MGLEDEQKMLTESGDPEEEEEEEEELVDPLTTVREQCEQLEKCVKA...</td>\n",
       "      <td>91</td>\n",
       "      <td>0.330</td>\n",
       "    </tr>\n",
       "    <tr>\n",
       "      <th>2</th>\n",
       "      <td>A0A0U1RRE5</td>\n",
       "      <td>HGNC:50713</td>\n",
       "      <td>550643.0</td>\n",
       "      <td>NBDY</td>\n",
       "      <td>MGDQPCASGRSTLPPGNAREAKPPKKRCLLAPRWDYPEGTPNGGST...</td>\n",
       "      <td>68</td>\n",
       "      <td>1.000</td>\n",
       "    </tr>\n",
       "    <tr>\n",
       "      <th>3</th>\n",
       "      <td>A0AV96</td>\n",
       "      <td>HGNC:30358</td>\n",
       "      <td>54502.0</td>\n",
       "      <td>RBM47</td>\n",
       "      <td>MTAEDSTAAMSSDSAAGSSAKVPEGVAGAPNEAALLALMERTGYSM...</td>\n",
       "      <td>593</td>\n",
       "      <td>0.042</td>\n",
       "    </tr>\n",
       "    <tr>\n",
       "      <th>4</th>\n",
       "      <td>A0FGR8</td>\n",
       "      <td>HGNC:22211</td>\n",
       "      <td>57488.0</td>\n",
       "      <td>ESYT2</td>\n",
       "      <td>MTANRDAALSSHRHPGCAQRPRTPTFASSSQRRSAFGFDDGNFPGL...</td>\n",
       "      <td>921</td>\n",
       "      <td>0.215</td>\n",
       "    </tr>\n",
       "  </tbody>\n",
       "</table>\n",
       "</div>"
      ],
      "text/plain": [
       "  uniprot_acc     hgnc_id   gene_id gene_name  \\\n",
       "0  A0A024RBG1  HGNC:18012  440672.0    NUDT4B   \n",
       "1  A0A096LP55  HGNC:51714  440567.0    UQCRHL   \n",
       "2  A0A0U1RRE5  HGNC:50713  550643.0      NBDY   \n",
       "3      A0AV96  HGNC:30358   54502.0     RBM47   \n",
       "4      A0FGR8  HGNC:22211   57488.0     ESYT2   \n",
       "\n",
       "                                            sequence  length  disorder_content  \n",
       "0  MMKFKPNQTRTYDREGFKKRAACLCFRSEQEDEVLLVSSSRYPDQW...     181               NaN  \n",
       "1  MGLEDEQKMLTESGDPEEEEEEEEELVDPLTTVREQCEQLEKCVKA...      91             0.330  \n",
       "2  MGDQPCASGRSTLPPGNAREAKPPKKRCLLAPRWDYPEGTPNGGST...      68             1.000  \n",
       "3  MTAEDSTAAMSSDSAAGSSAKVPEGVAGAPNEAALLALMERTGYSM...     593             0.042  \n",
       "4  MTANRDAALSSHRHPGCAQRPRTPTFASSSQRRSAFGFDDGNFPGL...     921             0.215  "
      ]
     },
     "execution_count": 54,
     "metadata": {},
     "output_type": "execute_result"
    }
   ],
   "source": [
    "protein.head()"
   ]
  },
  {
   "cell_type": "code",
   "execution_count": 56,
   "metadata": {},
   "outputs": [],
   "source": [
    "# col id_mutation INT\r\n",
    "protein['id_protein'] = range(1, len(proteins)+1)"
   ]
  },
  {
   "cell_type": "code",
   "execution_count": 57,
   "metadata": {},
   "outputs": [],
   "source": [
    "protein = protein[['id_protein', 'uniprot_acc', 'hgnc_id', 'gene_id', 'gene_name', 'length', 'sequence', 'disorder_content']]"
   ]
  },
  {
   "cell_type": "code",
   "execution_count": 59,
   "metadata": {},
   "outputs": [
    {
     "name": "stdout",
     "output_type": "stream",
     "text": [
      "<class 'pandas.core.frame.DataFrame'>\n",
      "Int64Index: 4368 entries, 0 to 4367\n",
      "Data columns (total 8 columns):\n",
      " #   Column            Non-Null Count  Dtype  \n",
      "---  ------            --------------  -----  \n",
      " 0   id_protein        4368 non-null   int32  \n",
      " 1   uniprot_acc       4368 non-null   object \n",
      " 2   hgnc_id           4283 non-null   object \n",
      " 3   gene_id           4280 non-null   float64\n",
      " 4   gene_name         4283 non-null   object \n",
      " 5   length            4368 non-null   int64  \n",
      " 6   sequence          4368 non-null   object \n",
      " 7   disorder_content  2655 non-null   float64\n",
      "dtypes: float64(2), int32(1), int64(1), object(4)\n",
      "memory usage: 290.1+ KB\n"
     ]
    }
   ],
   "source": [
    "protein.info()"
   ]
  },
  {
   "cell_type": "code",
   "execution_count": 62,
   "metadata": {},
   "outputs": [],
   "source": [
    "#import os\r\n",
    "#os.mkdir('db_tables')"
   ]
  },
  {
   "cell_type": "code",
   "execution_count": 64,
   "metadata": {},
   "outputs": [],
   "source": [
    "protein.to_csv('db_tables/protein.tsv', sep='\\t', index= False) # name according to our db schema\r\n",
    "# subir a https://github.com/alvaro-2/mutations"
   ]
  }
 ],
 "metadata": {
  "interpreter": {
   "hash": "9164a3399a70d355c381b62813f30880ed90ca5a6f321bf0d85375640bda7ee5"
  },
  "kernelspec": {
   "display_name": "Python 3.7.9 64-bit",
   "name": "python3"
  },
  "language_info": {
   "name": "python",
   "version": ""
  },
  "metadata": {
   "interpreter": {
    "hash": "781e53ef07953b5196b2d16d15776f60f6494556205459ffb584c30f90b985a8"
   }
  },
  "orig_nbformat": 2
 },
 "nbformat": 4,
 "nbformat_minor": 2
}