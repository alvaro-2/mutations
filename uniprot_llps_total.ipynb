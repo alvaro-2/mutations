{
 "metadata": {
  "language_info": {
   "codemirror_mode": {
    "name": "ipython",
    "version": 3
   },
   "file_extension": ".py",
   "mimetype": "text/x-python",
   "name": "python",
   "nbconvert_exporter": "python",
   "pygments_lexer": "ipython3",
   "version": "3.9.5"
  },
  "orig_nbformat": 2,
  "kernelspec": {
   "name": "python395jvsc74a57bd0781e53ef07953b5196b2d16d15776f60f6494556205459ffb584c30f90b985a8",
   "display_name": "Python 3.9.5 64-bit ('PythonSoftwareFoundation.Python.3.9_qbz5n2kfra8p0')"
  },
  "metadata": {
   "interpreter": {
    "hash": "781e53ef07953b5196b2d16d15776f60f6494556205459ffb584c30f90b985a8"
   }
  }
 },
 "nbformat": 4,
 "nbformat_minor": 2,
 "cells": [
  {
   "cell_type": "code",
   "execution_count": null,
   "metadata": {},
   "outputs": [],
   "source": [
    "import pandas as pd\n",
    "import numpy as np\n",
    "import re\n",
    "from Bio.SeqUtils import seq1\n",
    "from functools import reduce"
   ]
  },
  {
   "source": [
    "## Cargo datasets"
   ],
   "cell_type": "markdown",
   "metadata": {}
  },
  {
   "cell_type": "code",
   "execution_count": null,
   "metadata": {},
   "outputs": [],
   "source": [
    "# all LLPS human proteins dataset (Orti et al.)\n",
    "proteins = pd.read_csv('datasets/all_proteins_table.csv')"
   ]
  },
  {
   "cell_type": "code",
   "execution_count": null,
   "metadata": {},
   "outputs": [],
   "source": [
    "len(proteins.uniprot_acc.unique())"
   ]
  },
  {
   "cell_type": "code",
   "execution_count": null,
   "metadata": {},
   "outputs": [],
   "source": [
    "# Leo el txt de variantes humanas en uniprot\n",
    "'''humsavar.txt:\n",
    "Index of manually curated Human polymorphisms and disease mutations from UniProtKB/Swiss-Prot.\n",
    "This file lists all missense variants annotated in UniProtKB/Swiss-Prot human\n",
    "entries. It provides a variant classification which is intended for research\n",
    "purposes only, not for clinical and diagnostic use.\n",
    " - The column 'Variant category' shows the classification of the variant using\n",
    "   the American College of Medical Genetics and Genomics/Association for\n",
    "   Molecular Pathology (ACMG/AMP) terminology (Richards et al. PubMed:25741868)\n",
    "   into the following categories:\n",
    "   \n",
    "   LP/P = likely pathogenic or pathogenic\n",
    "   LB/B = likely benign or benign\n",
    "   US   = uncertain significance\n",
    "\n",
    "   These categories are assigned based on the variant annotation in the\n",
    "   corresponding UniProtKB/Swiss-Prot entries that is curated from literature\n",
    "   reports. The classification may change over time and must not be considered\n",
    "   as a definitive statement about the pathogenic role of a variant.\n",
    "\n",
    " - The column 'Disease name' shows the name of the disease or the disease sample\n",
    "   in which variants have been found. Names are only provided for diseases\n",
    "   catalogued in OMIM and for cancer samples.\n",
    "'''\n",
    "with open('humsavar.txt') as f:\n",
    "    gene_name=[]\n",
    "    uniprot=[]\n",
    "    ft_id=[]\n",
    "    change=[]\n",
    "    category=[]\n",
    "    snp_id=[]\n",
    "    disease_name=[]\n",
    "    for line in f:\n",
    "        stripped_line = line.strip()\n",
    "        gene_name.append(stripped_line[0:10])\n",
    "        uniprot.append(stripped_line[10:21])\n",
    "        ft_id.append(stripped_line[21:33])\n",
    "        change.append(stripped_line[33:48])\n",
    "        category.append(stripped_line[48:57])\n",
    "        snp_id.append(stripped_line[57:72])\n",
    "        disease_name.append(stripped_line[72:])"
   ]
  },
  {
   "cell_type": "code",
   "execution_count": null,
   "metadata": {},
   "outputs": [],
   "source": [
    "# Creo el dataframe: humsavar\n",
    "humsavar = pd.DataFrame(list(zip(gene_name, uniprot, ft_id, change, category, snp_id, disease_name)), columns=['gene_name', 'uniprot', 'ft_id', 'change', 'category', 'snp_id', 'disease_name'])\n",
    "humsavar = humsavar.drop([0]).reset_index(drop=True)\n",
    "\n",
    "# Eliminar los espacios en blanco\n",
    "humsavar = humsavar.applymap(lambda x: x.strip())\n",
    "\n",
    "# agrego los mim access en otra col\n",
    "humsavar['mim'] = humsavar.disease_name.map(lambda x: re.findall('\\[(.*?)\\]', x))\n",
    "humsavar['mim'] = humsavar.mim.str[0]\n",
    "\n",
    "'''#Lo guardo\n",
    "humsavar.to_csv('humsavar.csv', index=False)\n",
    "print(humsavar.head())\n",
    "print('Total de entradas:', len(humsavar))'''"
   ]
  },
  {
   "cell_type": "code",
   "execution_count": null,
   "metadata": {},
   "outputs": [],
   "source": [
    "humsavar.head()"
   ]
  },
  {
   "cell_type": "code",
   "execution_count": null,
   "metadata": {},
   "outputs": [],
   "source": [
    "# agrego los mim access en otra col\n",
    "humsavar['mim'] = humsavar.disease_name.map(lambda x: re.findall('\\[(.*?)\\]', x))\n",
    "humsavar['mim'] = humsavar.mim.str[0]\n",
    "humsavar.mim.head(50)"
   ]
  },
  {
   "cell_type": "code",
   "execution_count": null,
   "metadata": {},
   "outputs": [],
   "source": [
    "l= re.findall('(.*?) ?(\\[.*?\\])?$', 'Parietal foramina 2 (PFM2) [MIM: 05255256]')\n",
    "l"
   ]
  },
  {
   "cell_type": "code",
   "execution_count": null,
   "metadata": {},
   "outputs": [],
   "source": [
    "l[0][0]"
   ]
  },
  {
   "cell_type": "code",
   "execution_count": null,
   "metadata": {},
   "outputs": [],
   "source": [
    "re.findall('(.*?) ?(\\[.*?\\])?$', 'A breast cancer sample')\n",
    "\t"
   ]
  },
  {
   "cell_type": "code",
   "execution_count": null,
   "metadata": {},
   "outputs": [],
   "source": [
    "# quiero solo el disease, o sea, todo menos el codigo MIM\n",
    "humsavar['disease'] = humsavar.disease_name.map(lambda x: re.findall('(.*?) ?(\\[.*?\\])?$', x)) # el primer grupo atrapa cualquier cosa, luego viene un espacio, y el segundo atrapa el codigo [MIM], este o no\n",
    "humsavar['disease'] = humsavar.disease.str[0].str[0]\n",
    "#humsavar['disease'] = humsavar.disease.str[0]  # es el primer elemento de la tupla, strip() xq queda un espacio al final"
   ]
  },
  {
   "cell_type": "code",
   "execution_count": null,
   "metadata": {},
   "outputs": [],
   "source": [
    "humsavar[['disease_name','disease']][humsavar.disease.notnull()]"
   ]
  },
  {
   "cell_type": "code",
   "execution_count": null,
   "metadata": {},
   "outputs": [],
   "source": [
    "humsavar.disease.value_counts()[:10]"
   ]
  },
  {
   "cell_type": "code",
   "execution_count": null,
   "metadata": {},
   "outputs": [],
   "source": [
    "# replace \"-\" by NaNs\n",
    "humsavar.disease = humsavar.disease.replace('-', np.nan)"
   ]
  },
  {
   "cell_type": "code",
   "execution_count": null,
   "metadata": {},
   "outputs": [],
   "source": [
    "# Top ten diseases\n",
    "humsavar.disease.value_counts()[:10]"
   ]
  },
  {
   "cell_type": "code",
   "execution_count": null,
   "metadata": {},
   "outputs": [],
   "source": [
    "# Ojo, por que hay snps repetidos??\n",
    "humsavar.snp_id.value_counts()"
   ]
  },
  {
   "cell_type": "code",
   "execution_count": 17,
   "metadata": {},
   "outputs": [
    {
     "output_type": "execute_result",
     "data": {
      "text/plain": [
       "      gene_name uniprot       ft_id       change category       snp_id  \\\n",
       "53375    PIK3CA  P42336  VAR_026173  p.Glu542Lys       US  rs121913273   \n",
       "53376    PIK3CA  P42336  VAR_026173  p.Glu542Lys       US  rs121913273   \n",
       "53377    PIK3CA  P42336  VAR_026173  p.Glu542Lys       US  rs121913273   \n",
       "53378    PIK3CA  P42336  VAR_026173  p.Glu542Lys       US  rs121913273   \n",
       "53379    PIK3CA  P42336  VAR_026173  p.Glu542Lys       US  rs121913273   \n",
       "53380    PIK3CA  P42336  VAR_026173  p.Glu542Lys       US  rs121913273   \n",
       "53381    PIK3CA  P42336  VAR_026174  p.Glu542Gln       US  rs121913273   \n",
       "\n",
       "                                            disease_name         mim  \\\n",
       "53375                    Breast cancer (BC) [MIM:114480]  MIM:114480   \n",
       "53376                CLAPO syndrome (CLAPO) [MIM:613089]  MIM:613089   \n",
       "53377               Colorectal cancer (CRC) [MIM:114500]  MIM:114500   \n",
       "53378  Congenital lipomatous overgrowth, vascular mal...  MIM:612918   \n",
       "53379        Keratosis, seborrheic (KERSEB) [MIM:182000]  MIM:182000   \n",
       "53380                  Macrodactyly (MADAC) [MIM:155500]  MIM:155500   \n",
       "53381                                                  -         NaN   \n",
       "\n",
       "                                                 disease  \n",
       "53375                                 Breast cancer (BC)  \n",
       "53376                             CLAPO syndrome (CLAPO)  \n",
       "53377                            Colorectal cancer (CRC)  \n",
       "53378  Congenital lipomatous overgrowth, vascular mal...  \n",
       "53379                     Keratosis, seborrheic (KERSEB)  \n",
       "53380                               Macrodactyly (MADAC)  \n",
       "53381                                                NaN  "
      ],
      "text/html": "<div>\n<style scoped>\n    .dataframe tbody tr th:only-of-type {\n        vertical-align: middle;\n    }\n\n    .dataframe tbody tr th {\n        vertical-align: top;\n    }\n\n    .dataframe thead th {\n        text-align: right;\n    }\n</style>\n<table border=\"1\" class=\"dataframe\">\n  <thead>\n    <tr style=\"text-align: right;\">\n      <th></th>\n      <th>gene_name</th>\n      <th>uniprot</th>\n      <th>ft_id</th>\n      <th>change</th>\n      <th>category</th>\n      <th>snp_id</th>\n      <th>disease_name</th>\n      <th>mim</th>\n      <th>disease</th>\n    </tr>\n  </thead>\n  <tbody>\n    <tr>\n      <th>53375</th>\n      <td>PIK3CA</td>\n      <td>P42336</td>\n      <td>VAR_026173</td>\n      <td>p.Glu542Lys</td>\n      <td>US</td>\n      <td>rs121913273</td>\n      <td>Breast cancer (BC) [MIM:114480]</td>\n      <td>MIM:114480</td>\n      <td>Breast cancer (BC)</td>\n    </tr>\n    <tr>\n      <th>53376</th>\n      <td>PIK3CA</td>\n      <td>P42336</td>\n      <td>VAR_026173</td>\n      <td>p.Glu542Lys</td>\n      <td>US</td>\n      <td>rs121913273</td>\n      <td>CLAPO syndrome (CLAPO) [MIM:613089]</td>\n      <td>MIM:613089</td>\n      <td>CLAPO syndrome (CLAPO)</td>\n    </tr>\n    <tr>\n      <th>53377</th>\n      <td>PIK3CA</td>\n      <td>P42336</td>\n      <td>VAR_026173</td>\n      <td>p.Glu542Lys</td>\n      <td>US</td>\n      <td>rs121913273</td>\n      <td>Colorectal cancer (CRC) [MIM:114500]</td>\n      <td>MIM:114500</td>\n      <td>Colorectal cancer (CRC)</td>\n    </tr>\n    <tr>\n      <th>53378</th>\n      <td>PIK3CA</td>\n      <td>P42336</td>\n      <td>VAR_026173</td>\n      <td>p.Glu542Lys</td>\n      <td>US</td>\n      <td>rs121913273</td>\n      <td>Congenital lipomatous overgrowth, vascular mal...</td>\n      <td>MIM:612918</td>\n      <td>Congenital lipomatous overgrowth, vascular mal...</td>\n    </tr>\n    <tr>\n      <th>53379</th>\n      <td>PIK3CA</td>\n      <td>P42336</td>\n      <td>VAR_026173</td>\n      <td>p.Glu542Lys</td>\n      <td>US</td>\n      <td>rs121913273</td>\n      <td>Keratosis, seborrheic (KERSEB) [MIM:182000]</td>\n      <td>MIM:182000</td>\n      <td>Keratosis, seborrheic (KERSEB)</td>\n    </tr>\n    <tr>\n      <th>53380</th>\n      <td>PIK3CA</td>\n      <td>P42336</td>\n      <td>VAR_026173</td>\n      <td>p.Glu542Lys</td>\n      <td>US</td>\n      <td>rs121913273</td>\n      <td>Macrodactyly (MADAC) [MIM:155500]</td>\n      <td>MIM:155500</td>\n      <td>Macrodactyly (MADAC)</td>\n    </tr>\n    <tr>\n      <th>53381</th>\n      <td>PIK3CA</td>\n      <td>P42336</td>\n      <td>VAR_026174</td>\n      <td>p.Glu542Gln</td>\n      <td>US</td>\n      <td>rs121913273</td>\n      <td>-</td>\n      <td>NaN</td>\n      <td>NaN</td>\n    </tr>\n  </tbody>\n</table>\n</div>"
     },
     "metadata": {},
     "execution_count": 17
    }
   ],
   "source": [
    "# Veo uno por ejemplo\n",
    "humsavar[humsavar.snp_id == 'rs121913273']"
   ]
  },
  {
   "cell_type": "code",
   "execution_count": 18,
   "metadata": {},
   "outputs": [],
   "source": [
    "# Format snp_id col\n",
    "humsavar.snp_id.replace('-', np.nan, inplace= True)"
   ]
  },
  {
   "cell_type": "code",
   "execution_count": 19,
   "metadata": {},
   "outputs": [
    {
     "output_type": "execute_result",
     "data": {
      "text/plain": [
       "rs121913279    9\n",
       "rs121918488    9\n",
       "rs75076352     8\n",
       "rs79781594     7\n",
       "rs121913273    7\n",
       "              ..\n",
       "rs104893866    1\n",
       "rs767748011    1\n",
       "rs2271188      1\n",
       "rs17884647     1\n",
       "rs41299037     1\n",
       "Name: snp_id, Length: 63271, dtype: int64"
      ]
     },
     "metadata": {},
     "execution_count": 19
    }
   ],
   "source": [
    "humsavar.snp_id.value_counts()"
   ]
  },
  {
   "cell_type": "code",
   "execution_count": 20,
   "metadata": {},
   "outputs": [],
   "source": [
    "# Remove 'rs'\n",
    "humsavar.snp_id = humsavar.snp_id.str.strip('rs').apply(float)  # float because there's nans"
   ]
  },
  {
   "cell_type": "code",
   "execution_count": 21,
   "metadata": {},
   "outputs": [
    {
     "output_type": "execute_result",
     "data": {
      "text/plain": [
       "True    79376\n",
       "Name: change, dtype: int64"
      ]
     },
     "metadata": {},
     "execution_count": 21
    }
   ],
   "source": [
    "# Format change col\n",
    "humsavar.change.str.startswith('p.').value_counts() # all entries starts with 'p.'"
   ]
  },
  {
   "cell_type": "code",
   "execution_count": 22,
   "metadata": {},
   "outputs": [],
   "source": [
    "humsavar.change = humsavar.change.str.lstrip('p.')"
   ]
  },
  {
   "cell_type": "code",
   "execution_count": 23,
   "metadata": {},
   "outputs": [
    {
     "output_type": "execute_result",
     "data": {
      "text/plain": [
       "      gene_name uniprot       ft_id     change category       snp_id  \\\n",
       "18949    DHTKD1  Q96HY7  VAR_069585  Gly729Arg     LP/P  117225135.0   \n",
       "31001      HADH  Q16836  VAR_024079   Ala40Thr     LP/P  137853101.0   \n",
       "31002      HADH  Q16836  VAR_024080   Asp57Glu     LP/P  137853102.0   \n",
       "33077     HMGCL  P35914  VAR_065453  Arg165Gln     LP/P  199587895.0   \n",
       "33076     HMGCL  P35914  VAR_058450  Leu263Pro     LP/P          NaN   \n",
       "...         ...     ...         ...        ...      ...          ...   \n",
       "79371         -  Q8N402  VAR_042675  Thr131Pro     LB/B    6519442.0   \n",
       "79372         -  Q96M66  VAR_039178   Arg37His     LB/B     350229.0   \n",
       "79373         -  Q96M66  VAR_039179  Arg171Ser     LB/B   11648228.0   \n",
       "79374         -  Q9N2K0  VAR_017799   Val81Leu     LB/B          NaN   \n",
       "79375         -  Q9N2K0  VAR_017800  Phe150Leu     LB/B          NaN   \n",
       "\n",
       "                                            disease_name         mim  \\\n",
       "18949  2-aminoadipic 2-oxoadipic aciduria (AMOXAD) [M...  MIM:204750   \n",
       "31001  3-alpha-hydroxyacyl-CoA dehydrogenase deficien...  MIM:231530   \n",
       "31002  3-alpha-hydroxyacyl-CoA dehydrogenase deficien...  MIM:231530   \n",
       "33077  3-hydroxy-3-methylglutaryl-CoA lyase deficienc...  MIM:246450   \n",
       "33076  3-hydroxy-3-methylglutaryl-CoA lyase deficienc...  MIM:246450   \n",
       "...                                                  ...         ...   \n",
       "79371                                                  -         NaN   \n",
       "79372                                                  -         NaN   \n",
       "79373                                                  -         NaN   \n",
       "79374                                                  -         NaN   \n",
       "79375                                                  -         NaN   \n",
       "\n",
       "                                                 disease  \n",
       "18949        2-aminoadipic 2-oxoadipic aciduria (AMOXAD)  \n",
       "31001  3-alpha-hydroxyacyl-CoA dehydrogenase deficien...  \n",
       "31002  3-alpha-hydroxyacyl-CoA dehydrogenase deficien...  \n",
       "33077  3-hydroxy-3-methylglutaryl-CoA lyase deficienc...  \n",
       "33076  3-hydroxy-3-methylglutaryl-CoA lyase deficienc...  \n",
       "...                                                  ...  \n",
       "79371                                                NaN  \n",
       "79372                                                NaN  \n",
       "79373                                                NaN  \n",
       "79374                                                NaN  \n",
       "79375                                                NaN  \n",
       "\n",
       "[79376 rows x 9 columns]"
      ],
      "text/html": "<div>\n<style scoped>\n    .dataframe tbody tr th:only-of-type {\n        vertical-align: middle;\n    }\n\n    .dataframe tbody tr th {\n        vertical-align: top;\n    }\n\n    .dataframe thead th {\n        text-align: right;\n    }\n</style>\n<table border=\"1\" class=\"dataframe\">\n  <thead>\n    <tr style=\"text-align: right;\">\n      <th></th>\n      <th>gene_name</th>\n      <th>uniprot</th>\n      <th>ft_id</th>\n      <th>change</th>\n      <th>category</th>\n      <th>snp_id</th>\n      <th>disease_name</th>\n      <th>mim</th>\n      <th>disease</th>\n    </tr>\n  </thead>\n  <tbody>\n    <tr>\n      <th>18949</th>\n      <td>DHTKD1</td>\n      <td>Q96HY7</td>\n      <td>VAR_069585</td>\n      <td>Gly729Arg</td>\n      <td>LP/P</td>\n      <td>117225135.0</td>\n      <td>2-aminoadipic 2-oxoadipic aciduria (AMOXAD) [M...</td>\n      <td>MIM:204750</td>\n      <td>2-aminoadipic 2-oxoadipic aciduria (AMOXAD)</td>\n    </tr>\n    <tr>\n      <th>31001</th>\n      <td>HADH</td>\n      <td>Q16836</td>\n      <td>VAR_024079</td>\n      <td>Ala40Thr</td>\n      <td>LP/P</td>\n      <td>137853101.0</td>\n      <td>3-alpha-hydroxyacyl-CoA dehydrogenase deficien...</td>\n      <td>MIM:231530</td>\n      <td>3-alpha-hydroxyacyl-CoA dehydrogenase deficien...</td>\n    </tr>\n    <tr>\n      <th>31002</th>\n      <td>HADH</td>\n      <td>Q16836</td>\n      <td>VAR_024080</td>\n      <td>Asp57Glu</td>\n      <td>LP/P</td>\n      <td>137853102.0</td>\n      <td>3-alpha-hydroxyacyl-CoA dehydrogenase deficien...</td>\n      <td>MIM:231530</td>\n      <td>3-alpha-hydroxyacyl-CoA dehydrogenase deficien...</td>\n    </tr>\n    <tr>\n      <th>33077</th>\n      <td>HMGCL</td>\n      <td>P35914</td>\n      <td>VAR_065453</td>\n      <td>Arg165Gln</td>\n      <td>LP/P</td>\n      <td>199587895.0</td>\n      <td>3-hydroxy-3-methylglutaryl-CoA lyase deficienc...</td>\n      <td>MIM:246450</td>\n      <td>3-hydroxy-3-methylglutaryl-CoA lyase deficienc...</td>\n    </tr>\n    <tr>\n      <th>33076</th>\n      <td>HMGCL</td>\n      <td>P35914</td>\n      <td>VAR_058450</td>\n      <td>Leu263Pro</td>\n      <td>LP/P</td>\n      <td>NaN</td>\n      <td>3-hydroxy-3-methylglutaryl-CoA lyase deficienc...</td>\n      <td>MIM:246450</td>\n      <td>3-hydroxy-3-methylglutaryl-CoA lyase deficienc...</td>\n    </tr>\n    <tr>\n      <th>...</th>\n      <td>...</td>\n      <td>...</td>\n      <td>...</td>\n      <td>...</td>\n      <td>...</td>\n      <td>...</td>\n      <td>...</td>\n      <td>...</td>\n      <td>...</td>\n    </tr>\n    <tr>\n      <th>79371</th>\n      <td>-</td>\n      <td>Q8N402</td>\n      <td>VAR_042675</td>\n      <td>Thr131Pro</td>\n      <td>LB/B</td>\n      <td>6519442.0</td>\n      <td>-</td>\n      <td>NaN</td>\n      <td>NaN</td>\n    </tr>\n    <tr>\n      <th>79372</th>\n      <td>-</td>\n      <td>Q96M66</td>\n      <td>VAR_039178</td>\n      <td>Arg37His</td>\n      <td>LB/B</td>\n      <td>350229.0</td>\n      <td>-</td>\n      <td>NaN</td>\n      <td>NaN</td>\n    </tr>\n    <tr>\n      <th>79373</th>\n      <td>-</td>\n      <td>Q96M66</td>\n      <td>VAR_039179</td>\n      <td>Arg171Ser</td>\n      <td>LB/B</td>\n      <td>11648228.0</td>\n      <td>-</td>\n      <td>NaN</td>\n      <td>NaN</td>\n    </tr>\n    <tr>\n      <th>79374</th>\n      <td>-</td>\n      <td>Q9N2K0</td>\n      <td>VAR_017799</td>\n      <td>Val81Leu</td>\n      <td>LB/B</td>\n      <td>NaN</td>\n      <td>-</td>\n      <td>NaN</td>\n      <td>NaN</td>\n    </tr>\n    <tr>\n      <th>79375</th>\n      <td>-</td>\n      <td>Q9N2K0</td>\n      <td>VAR_017800</td>\n      <td>Phe150Leu</td>\n      <td>LB/B</td>\n      <td>NaN</td>\n      <td>-</td>\n      <td>NaN</td>\n      <td>NaN</td>\n    </tr>\n  </tbody>\n</table>\n<p>79376 rows × 9 columns</p>\n</div>"
     },
     "metadata": {},
     "execution_count": 23
    }
   ],
   "source": [
    "humsavar.sort_values('disease')"
   ]
  },
  {
   "cell_type": "code",
   "execution_count": 24,
   "metadata": {},
   "outputs": [],
   "source": [
    "humsavar.rename(columns={'uniprot': 'uniprot_acc'}, inplace= True)"
   ]
  },
  {
   "cell_type": "code",
   "execution_count": 49,
   "metadata": {},
   "outputs": [
    {
     "output_type": "execute_result",
     "data": {
      "text/plain": [
       "0         His52Arg\n",
       "1        His395Arg\n",
       "2        Val555Met\n",
       "3        Ala558Ser\n",
       "4        Arg704His\n",
       "           ...    \n",
       "79371    Thr131Pro\n",
       "79372     Arg37His\n",
       "79373    Arg171Ser\n",
       "79374     Val81Leu\n",
       "79375    Phe150Leu\n",
       "Name: change, Length: 79376, dtype: object"
      ]
     },
     "metadata": {},
     "execution_count": 49
    }
   ],
   "source": [
    "humsavar.change[humsavar.change.notnull()] # all entries have a protein change"
   ]
  },
  {
   "cell_type": "code",
   "execution_count": null,
   "metadata": {},
   "outputs": [],
   "source": []
  },
  {
   "source": [
    "## Merge with LLPS human proteins"
   ],
   "cell_type": "markdown",
   "metadata": {}
  },
  {
   "cell_type": "code",
   "execution_count": 25,
   "metadata": {},
   "outputs": [
    {
     "output_type": "execute_result",
     "data": {
      "text/plain": [
       "      id_protein uniprot_acc     hgnc_id   gene_id gene_name  length  \\\n",
       "0              1  A0A024RBG1  HGNC:18012  440672.0    NUDT4B    4369   \n",
       "1              2  A0A096LP55  HGNC:51714  440567.0    UQCRHL    4369   \n",
       "2              3  A0A0U1RRE5  HGNC:50713  550643.0      NBDY    4369   \n",
       "3              4      A0AV96  HGNC:30358   54502.0     RBM47    4369   \n",
       "4              5      A0FGR8  HGNC:22211   57488.0     ESYT2    4369   \n",
       "...          ...         ...         ...       ...       ...     ...   \n",
       "4364        4365      Q9UNL7         NaN       NaN       NaN    4369   \n",
       "4365        4366      Q9Y4C0   HGNC:8010    9369.0     NRXN3    4369   \n",
       "4366        4367      Q9Y649         NaN       NaN       NaN    4369   \n",
       "4367        4368      R4GMX3         NaN       NaN       NaN    4369   \n",
       "4368        4369      V9GYY5         NaN       NaN       NaN    4369   \n",
       "\n",
       "                                               sequence  \n",
       "0     MMKFKPNQTRTYDREGFKKRAACLCFRSEQEDEVLLVSSSRYPDQW...  \n",
       "1     MGLEDEQKMLTESGDPEEEEEEEEELVDPLTTVREQCEQLEKCVKA...  \n",
       "2     MGDQPCASGRSTLPPGNAREAKPPKKRCLLAPRWDYPEGTPNGGST...  \n",
       "3     MTAEDSTAAMSSDSAAGSSAKVPEGVAGAPNEAALLALMERTGYSM...  \n",
       "4     MTANRDAALSSHRHPGCAQRPRTPTFASSSQRRSAFGFDDGNFPGL...  \n",
       "...                                                 ...  \n",
       "4364  KLDVEEPDSANSSFYSTRSAPASQASLRATSSTQSLARLGSPDYGN...  \n",
       "4365  MSSTLHSVFFTLKVSILLGSLLGLCLGLEFMGLPNQWARYLRWDAS...  \n",
       "4366  MNDLICFLDNTFKNNVLSQAWWCVHLVPTIWEAEAGGSLEPRSLKL...  \n",
       "4367  MELSESVQKGFQMLADPRSFDSNAFTLLLRAAFQSLLDAQADEAVL...  \n",
       "4368  KRDGDDRRPRLVLSFDEEKRREYLTGFHKRKVERKKAAIEEIKQRL...  \n",
       "\n",
       "[4369 rows x 7 columns]"
      ],
      "text/html": "<div>\n<style scoped>\n    .dataframe tbody tr th:only-of-type {\n        vertical-align: middle;\n    }\n\n    .dataframe tbody tr th {\n        vertical-align: top;\n    }\n\n    .dataframe thead th {\n        text-align: right;\n    }\n</style>\n<table border=\"1\" class=\"dataframe\">\n  <thead>\n    <tr style=\"text-align: right;\">\n      <th></th>\n      <th>id_protein</th>\n      <th>uniprot_acc</th>\n      <th>hgnc_id</th>\n      <th>gene_id</th>\n      <th>gene_name</th>\n      <th>length</th>\n      <th>sequence</th>\n    </tr>\n  </thead>\n  <tbody>\n    <tr>\n      <th>0</th>\n      <td>1</td>\n      <td>A0A024RBG1</td>\n      <td>HGNC:18012</td>\n      <td>440672.0</td>\n      <td>NUDT4B</td>\n      <td>4369</td>\n      <td>MMKFKPNQTRTYDREGFKKRAACLCFRSEQEDEVLLVSSSRYPDQW...</td>\n    </tr>\n    <tr>\n      <th>1</th>\n      <td>2</td>\n      <td>A0A096LP55</td>\n      <td>HGNC:51714</td>\n      <td>440567.0</td>\n      <td>UQCRHL</td>\n      <td>4369</td>\n      <td>MGLEDEQKMLTESGDPEEEEEEEEELVDPLTTVREQCEQLEKCVKA...</td>\n    </tr>\n    <tr>\n      <th>2</th>\n      <td>3</td>\n      <td>A0A0U1RRE5</td>\n      <td>HGNC:50713</td>\n      <td>550643.0</td>\n      <td>NBDY</td>\n      <td>4369</td>\n      <td>MGDQPCASGRSTLPPGNAREAKPPKKRCLLAPRWDYPEGTPNGGST...</td>\n    </tr>\n    <tr>\n      <th>3</th>\n      <td>4</td>\n      <td>A0AV96</td>\n      <td>HGNC:30358</td>\n      <td>54502.0</td>\n      <td>RBM47</td>\n      <td>4369</td>\n      <td>MTAEDSTAAMSSDSAAGSSAKVPEGVAGAPNEAALLALMERTGYSM...</td>\n    </tr>\n    <tr>\n      <th>4</th>\n      <td>5</td>\n      <td>A0FGR8</td>\n      <td>HGNC:22211</td>\n      <td>57488.0</td>\n      <td>ESYT2</td>\n      <td>4369</td>\n      <td>MTANRDAALSSHRHPGCAQRPRTPTFASSSQRRSAFGFDDGNFPGL...</td>\n    </tr>\n    <tr>\n      <th>...</th>\n      <td>...</td>\n      <td>...</td>\n      <td>...</td>\n      <td>...</td>\n      <td>...</td>\n      <td>...</td>\n      <td>...</td>\n    </tr>\n    <tr>\n      <th>4364</th>\n      <td>4365</td>\n      <td>Q9UNL7</td>\n      <td>NaN</td>\n      <td>NaN</td>\n      <td>NaN</td>\n      <td>4369</td>\n      <td>KLDVEEPDSANSSFYSTRSAPASQASLRATSSTQSLARLGSPDYGN...</td>\n    </tr>\n    <tr>\n      <th>4365</th>\n      <td>4366</td>\n      <td>Q9Y4C0</td>\n      <td>HGNC:8010</td>\n      <td>9369.0</td>\n      <td>NRXN3</td>\n      <td>4369</td>\n      <td>MSSTLHSVFFTLKVSILLGSLLGLCLGLEFMGLPNQWARYLRWDAS...</td>\n    </tr>\n    <tr>\n      <th>4366</th>\n      <td>4367</td>\n      <td>Q9Y649</td>\n      <td>NaN</td>\n      <td>NaN</td>\n      <td>NaN</td>\n      <td>4369</td>\n      <td>MNDLICFLDNTFKNNVLSQAWWCVHLVPTIWEAEAGGSLEPRSLKL...</td>\n    </tr>\n    <tr>\n      <th>4367</th>\n      <td>4368</td>\n      <td>R4GMX3</td>\n      <td>NaN</td>\n      <td>NaN</td>\n      <td>NaN</td>\n      <td>4369</td>\n      <td>MELSESVQKGFQMLADPRSFDSNAFTLLLRAAFQSLLDAQADEAVL...</td>\n    </tr>\n    <tr>\n      <th>4368</th>\n      <td>4369</td>\n      <td>V9GYY5</td>\n      <td>NaN</td>\n      <td>NaN</td>\n      <td>NaN</td>\n      <td>4369</td>\n      <td>KRDGDDRRPRLVLSFDEEKRREYLTGFHKRKVERKKAAIEEIKQRL...</td>\n    </tr>\n  </tbody>\n</table>\n<p>4369 rows × 7 columns</p>\n</div>"
     },
     "metadata": {},
     "execution_count": 25
    }
   ],
   "source": [
    "proteins"
   ]
  },
  {
   "cell_type": "code",
   "execution_count": 26,
   "metadata": {},
   "outputs": [
    {
     "output_type": "execute_result",
     "data": {
      "text/plain": [
       "       id_protein uniprot_acc     hgnc_id   gene_id gene_name_x  length  \\\n",
       "0               1  A0A024RBG1  HGNC:18012  440672.0      NUDT4B    4369   \n",
       "1               2  A0A096LP55  HGNC:51714  440567.0      UQCRHL    4369   \n",
       "2               3  A0A0U1RRE5  HGNC:50713  550643.0        NBDY    4369   \n",
       "3               4      A0AV96  HGNC:30358   54502.0       RBM47    4369   \n",
       "4               4      A0AV96  HGNC:30358   54502.0       RBM47    4369   \n",
       "...           ...         ...         ...       ...         ...     ...   \n",
       "22718        4365      Q9UNL7         NaN       NaN         NaN    4369   \n",
       "22719        4366      Q9Y4C0   HGNC:8010    9369.0       NRXN3    4369   \n",
       "22720        4367      Q9Y649         NaN       NaN         NaN    4369   \n",
       "22721        4368      R4GMX3         NaN       NaN         NaN    4369   \n",
       "22722        4369      V9GYY5         NaN       NaN         NaN    4369   \n",
       "\n",
       "                                                sequence gene_name_y  \\\n",
       "0      MMKFKPNQTRTYDREGFKKRAACLCFRSEQEDEVLLVSSSRYPDQW...         NaN   \n",
       "1      MGLEDEQKMLTESGDPEEEEEEEEELVDPLTTVREQCEQLEKCVKA...         NaN   \n",
       "2      MGDQPCASGRSTLPPGNAREAKPPKKRCLLAPRWDYPEGTPNGGST...         NaN   \n",
       "3      MTAEDSTAAMSSDSAAGSSAKVPEGVAGAPNEAALLALMERTGYSM...       RBM47   \n",
       "4      MTAEDSTAAMSSDSAAGSSAKVPEGVAGAPNEAALLALMERTGYSM...       RBM47   \n",
       "...                                                  ...         ...   \n",
       "22718  KLDVEEPDSANSSFYSTRSAPASQASLRATSSTQSLARLGSPDYGN...         NaN   \n",
       "22719  MSSTLHSVFFTLKVSILLGSLLGLCLGLEFMGLPNQWARYLRWDAS...         NaN   \n",
       "22720  MNDLICFLDNTFKNNVLSQAWWCVHLVPTIWEAEAGGSLEPRSLKL...         NaN   \n",
       "22721  MELSESVQKGFQMLADPRSFDSNAFTLLLRAAFQSLLDAQADEAVL...         NaN   \n",
       "22722  KRDGDDRRPRLVLSFDEEKRREYLTGFHKRKVERKKAAIEEIKQRL...         NaN   \n",
       "\n",
       "            ft_id     change category      snp_id disease_name  mim disease  \n",
       "0             NaN        NaN      NaN         NaN          NaN  NaN     NaN  \n",
       "1             NaN        NaN      NaN         NaN          NaN  NaN     NaN  \n",
       "2             NaN        NaN      NaN         NaN          NaN  NaN     NaN  \n",
       "3      VAR_054770  Met565Val     LB/B    278981.0            -  NaN     NaN  \n",
       "4      VAR_061832  Gly538Arg     LB/B  35529250.0            -  NaN     NaN  \n",
       "...           ...        ...      ...         ...          ...  ...     ...  \n",
       "22718         NaN        NaN      NaN         NaN          NaN  NaN     NaN  \n",
       "22719         NaN        NaN      NaN         NaN          NaN  NaN     NaN  \n",
       "22720         NaN        NaN      NaN         NaN          NaN  NaN     NaN  \n",
       "22721         NaN        NaN      NaN         NaN          NaN  NaN     NaN  \n",
       "22722         NaN        NaN      NaN         NaN          NaN  NaN     NaN  \n",
       "\n",
       "[22723 rows x 15 columns]"
      ],
      "text/html": "<div>\n<style scoped>\n    .dataframe tbody tr th:only-of-type {\n        vertical-align: middle;\n    }\n\n    .dataframe tbody tr th {\n        vertical-align: top;\n    }\n\n    .dataframe thead th {\n        text-align: right;\n    }\n</style>\n<table border=\"1\" class=\"dataframe\">\n  <thead>\n    <tr style=\"text-align: right;\">\n      <th></th>\n      <th>id_protein</th>\n      <th>uniprot_acc</th>\n      <th>hgnc_id</th>\n      <th>gene_id</th>\n      <th>gene_name_x</th>\n      <th>length</th>\n      <th>sequence</th>\n      <th>gene_name_y</th>\n      <th>ft_id</th>\n      <th>change</th>\n      <th>category</th>\n      <th>snp_id</th>\n      <th>disease_name</th>\n      <th>mim</th>\n      <th>disease</th>\n    </tr>\n  </thead>\n  <tbody>\n    <tr>\n      <th>0</th>\n      <td>1</td>\n      <td>A0A024RBG1</td>\n      <td>HGNC:18012</td>\n      <td>440672.0</td>\n      <td>NUDT4B</td>\n      <td>4369</td>\n      <td>MMKFKPNQTRTYDREGFKKRAACLCFRSEQEDEVLLVSSSRYPDQW...</td>\n      <td>NaN</td>\n      <td>NaN</td>\n      <td>NaN</td>\n      <td>NaN</td>\n      <td>NaN</td>\n      <td>NaN</td>\n      <td>NaN</td>\n      <td>NaN</td>\n    </tr>\n    <tr>\n      <th>1</th>\n      <td>2</td>\n      <td>A0A096LP55</td>\n      <td>HGNC:51714</td>\n      <td>440567.0</td>\n      <td>UQCRHL</td>\n      <td>4369</td>\n      <td>MGLEDEQKMLTESGDPEEEEEEEEELVDPLTTVREQCEQLEKCVKA...</td>\n      <td>NaN</td>\n      <td>NaN</td>\n      <td>NaN</td>\n      <td>NaN</td>\n      <td>NaN</td>\n      <td>NaN</td>\n      <td>NaN</td>\n      <td>NaN</td>\n    </tr>\n    <tr>\n      <th>2</th>\n      <td>3</td>\n      <td>A0A0U1RRE5</td>\n      <td>HGNC:50713</td>\n      <td>550643.0</td>\n      <td>NBDY</td>\n      <td>4369</td>\n      <td>MGDQPCASGRSTLPPGNAREAKPPKKRCLLAPRWDYPEGTPNGGST...</td>\n      <td>NaN</td>\n      <td>NaN</td>\n      <td>NaN</td>\n      <td>NaN</td>\n      <td>NaN</td>\n      <td>NaN</td>\n      <td>NaN</td>\n      <td>NaN</td>\n    </tr>\n    <tr>\n      <th>3</th>\n      <td>4</td>\n      <td>A0AV96</td>\n      <td>HGNC:30358</td>\n      <td>54502.0</td>\n      <td>RBM47</td>\n      <td>4369</td>\n      <td>MTAEDSTAAMSSDSAAGSSAKVPEGVAGAPNEAALLALMERTGYSM...</td>\n      <td>RBM47</td>\n      <td>VAR_054770</td>\n      <td>Met565Val</td>\n      <td>LB/B</td>\n      <td>278981.0</td>\n      <td>-</td>\n      <td>NaN</td>\n      <td>NaN</td>\n    </tr>\n    <tr>\n      <th>4</th>\n      <td>4</td>\n      <td>A0AV96</td>\n      <td>HGNC:30358</td>\n      <td>54502.0</td>\n      <td>RBM47</td>\n      <td>4369</td>\n      <td>MTAEDSTAAMSSDSAAGSSAKVPEGVAGAPNEAALLALMERTGYSM...</td>\n      <td>RBM47</td>\n      <td>VAR_061832</td>\n      <td>Gly538Arg</td>\n      <td>LB/B</td>\n      <td>35529250.0</td>\n      <td>-</td>\n      <td>NaN</td>\n      <td>NaN</td>\n    </tr>\n    <tr>\n      <th>...</th>\n      <td>...</td>\n      <td>...</td>\n      <td>...</td>\n      <td>...</td>\n      <td>...</td>\n      <td>...</td>\n      <td>...</td>\n      <td>...</td>\n      <td>...</td>\n      <td>...</td>\n      <td>...</td>\n      <td>...</td>\n      <td>...</td>\n      <td>...</td>\n      <td>...</td>\n    </tr>\n    <tr>\n      <th>22718</th>\n      <td>4365</td>\n      <td>Q9UNL7</td>\n      <td>NaN</td>\n      <td>NaN</td>\n      <td>NaN</td>\n      <td>4369</td>\n      <td>KLDVEEPDSANSSFYSTRSAPASQASLRATSSTQSLARLGSPDYGN...</td>\n      <td>NaN</td>\n      <td>NaN</td>\n      <td>NaN</td>\n      <td>NaN</td>\n      <td>NaN</td>\n      <td>NaN</td>\n      <td>NaN</td>\n      <td>NaN</td>\n    </tr>\n    <tr>\n      <th>22719</th>\n      <td>4366</td>\n      <td>Q9Y4C0</td>\n      <td>HGNC:8010</td>\n      <td>9369.0</td>\n      <td>NRXN3</td>\n      <td>4369</td>\n      <td>MSSTLHSVFFTLKVSILLGSLLGLCLGLEFMGLPNQWARYLRWDAS...</td>\n      <td>NaN</td>\n      <td>NaN</td>\n      <td>NaN</td>\n      <td>NaN</td>\n      <td>NaN</td>\n      <td>NaN</td>\n      <td>NaN</td>\n      <td>NaN</td>\n    </tr>\n    <tr>\n      <th>22720</th>\n      <td>4367</td>\n      <td>Q9Y649</td>\n      <td>NaN</td>\n      <td>NaN</td>\n      <td>NaN</td>\n      <td>4369</td>\n      <td>MNDLICFLDNTFKNNVLSQAWWCVHLVPTIWEAEAGGSLEPRSLKL...</td>\n      <td>NaN</td>\n      <td>NaN</td>\n      <td>NaN</td>\n      <td>NaN</td>\n      <td>NaN</td>\n      <td>NaN</td>\n      <td>NaN</td>\n      <td>NaN</td>\n    </tr>\n    <tr>\n      <th>22721</th>\n      <td>4368</td>\n      <td>R4GMX3</td>\n      <td>NaN</td>\n      <td>NaN</td>\n      <td>NaN</td>\n      <td>4369</td>\n      <td>MELSESVQKGFQMLADPRSFDSNAFTLLLRAAFQSLLDAQADEAVL...</td>\n      <td>NaN</td>\n      <td>NaN</td>\n      <td>NaN</td>\n      <td>NaN</td>\n      <td>NaN</td>\n      <td>NaN</td>\n      <td>NaN</td>\n      <td>NaN</td>\n    </tr>\n    <tr>\n      <th>22722</th>\n      <td>4369</td>\n      <td>V9GYY5</td>\n      <td>NaN</td>\n      <td>NaN</td>\n      <td>NaN</td>\n      <td>4369</td>\n      <td>KRDGDDRRPRLVLSFDEEKRREYLTGFHKRKVERKKAAIEEIKQRL...</td>\n      <td>NaN</td>\n      <td>NaN</td>\n      <td>NaN</td>\n      <td>NaN</td>\n      <td>NaN</td>\n      <td>NaN</td>\n      <td>NaN</td>\n      <td>NaN</td>\n    </tr>\n  </tbody>\n</table>\n<p>22723 rows × 15 columns</p>\n</div>"
     },
     "metadata": {},
     "execution_count": 26
    }
   ],
   "source": [
    "uniprot_llps = proteins.merge(humsavar, left_on='uniprot_acc', right_on='uniprot_acc', how= 'left')\n",
    "uniprot_llps"
   ]
  },
  {
   "cell_type": "code",
   "execution_count": 27,
   "metadata": {},
   "outputs": [
    {
     "output_type": "execute_result",
     "data": {
      "text/plain": [
       "False"
      ]
     },
     "metadata": {},
     "execution_count": 27
    }
   ],
   "source": [
    "uniprot_llps.duplicated().any() # False = no duplicated"
   ]
  },
  {
   "cell_type": "code",
   "execution_count": 28,
   "metadata": {},
   "outputs": [
    {
     "output_type": "execute_result",
     "data": {
      "text/plain": [
       "4369"
      ]
     },
     "metadata": {},
     "execution_count": 28
    }
   ],
   "source": [
    "len(uniprot_llps.uniprot_acc.unique()) # ok"
   ]
  },
  {
   "cell_type": "code",
   "execution_count": 29,
   "metadata": {},
   "outputs": [
    {
     "output_type": "execute_result",
     "data": {
      "text/plain": [
       "21246"
      ]
     },
     "metadata": {},
     "execution_count": 29
    }
   ],
   "source": [
    "uniprot_llps.gene_name_y.notnull().sum()"
   ]
  },
  {
   "cell_type": "code",
   "execution_count": 30,
   "metadata": {},
   "outputs": [
    {
     "output_type": "execute_result",
     "data": {
      "text/plain": [
       "22634"
      ]
     },
     "metadata": {},
     "execution_count": 30
    }
   ],
   "source": [
    "uniprot_llps.gene_name_x.notnull().sum()"
   ]
  },
  {
   "cell_type": "code",
   "execution_count": 31,
   "metadata": {},
   "outputs": [],
   "source": [
    "uniprot_llps.gene_name_y = uniprot_llps.gene_name_y.combine_first(uniprot_llps.gene_name_x) # keep this col"
   ]
  },
  {
   "cell_type": "code",
   "execution_count": 59,
   "metadata": {},
   "outputs": [],
   "source": [
    "# Keep entries with non-null change col values\n",
    "uniprot_llps = uniprot_llps[uniprot_llps.change.notnull()]"
   ]
  },
  {
   "cell_type": "code",
   "execution_count": 81,
   "metadata": {},
   "outputs": [
    {
     "output_type": "execute_result",
     "data": {
      "text/plain": [
       "      gene_name uniprot_acc       ft_id      change category       snp_id  \\\n",
       "4           A2M      P01023  VAR_000012   Arg704His     LB/B    1800434.0   \n",
       "5           A2M      P01023  VAR_000013   Cys972Tyr     LB/B    1800433.0   \n",
       "6           A2M      P01023  VAR_000014  Ile1000Val     LB/B        669.0   \n",
       "7           A2M      P01023  VAR_026820   Asn639Asp     LB/B     226405.0   \n",
       "8           A2M      P01023  VAR_026821   Leu815Gln     LB/B    3180392.0   \n",
       "...         ...         ...         ...         ...      ...          ...   \n",
       "79299   ZSCAN31      Q96LW9  VAR_024209   Lys205Arg     LB/B     853684.0   \n",
       "79300   ZSCAN31      Q96LW9  VAR_052809   Ala128Pro     LB/B    6922302.0   \n",
       "79301   ZSCAN31      Q96LW9  VAR_052810   Arg222Gln     LB/B   34223404.0   \n",
       "79302   ZSCAN31      Q96LW9  VAR_059911   Gly365Glu     LB/B    2394051.0   \n",
       "79317    ZSCAN9      O15535  VAR_076868   His254Arg     LB/B  148219046.0   \n",
       "\n",
       "      disease_name  mim disease  \n",
       "4                -  NaN     NaN  \n",
       "5                -  NaN     NaN  \n",
       "6                -  NaN     NaN  \n",
       "7                -  NaN     NaN  \n",
       "8                -  NaN     NaN  \n",
       "...            ...  ...     ...  \n",
       "79299            -  NaN     NaN  \n",
       "79300            -  NaN     NaN  \n",
       "79301            -  NaN     NaN  \n",
       "79302            -  NaN     NaN  \n",
       "79317            -  NaN     NaN  \n",
       "\n",
       "[21246 rows x 9 columns]"
      ],
      "text/html": "<div>\n<style scoped>\n    .dataframe tbody tr th:only-of-type {\n        vertical-align: middle;\n    }\n\n    .dataframe tbody tr th {\n        vertical-align: top;\n    }\n\n    .dataframe thead th {\n        text-align: right;\n    }\n</style>\n<table border=\"1\" class=\"dataframe\">\n  <thead>\n    <tr style=\"text-align: right;\">\n      <th></th>\n      <th>gene_name</th>\n      <th>uniprot_acc</th>\n      <th>ft_id</th>\n      <th>change</th>\n      <th>category</th>\n      <th>snp_id</th>\n      <th>disease_name</th>\n      <th>mim</th>\n      <th>disease</th>\n    </tr>\n  </thead>\n  <tbody>\n    <tr>\n      <th>4</th>\n      <td>A2M</td>\n      <td>P01023</td>\n      <td>VAR_000012</td>\n      <td>Arg704His</td>\n      <td>LB/B</td>\n      <td>1800434.0</td>\n      <td>-</td>\n      <td>NaN</td>\n      <td>NaN</td>\n    </tr>\n    <tr>\n      <th>5</th>\n      <td>A2M</td>\n      <td>P01023</td>\n      <td>VAR_000013</td>\n      <td>Cys972Tyr</td>\n      <td>LB/B</td>\n      <td>1800433.0</td>\n      <td>-</td>\n      <td>NaN</td>\n      <td>NaN</td>\n    </tr>\n    <tr>\n      <th>6</th>\n      <td>A2M</td>\n      <td>P01023</td>\n      <td>VAR_000014</td>\n      <td>Ile1000Val</td>\n      <td>LB/B</td>\n      <td>669.0</td>\n      <td>-</td>\n      <td>NaN</td>\n      <td>NaN</td>\n    </tr>\n    <tr>\n      <th>7</th>\n      <td>A2M</td>\n      <td>P01023</td>\n      <td>VAR_026820</td>\n      <td>Asn639Asp</td>\n      <td>LB/B</td>\n      <td>226405.0</td>\n      <td>-</td>\n      <td>NaN</td>\n      <td>NaN</td>\n    </tr>\n    <tr>\n      <th>8</th>\n      <td>A2M</td>\n      <td>P01023</td>\n      <td>VAR_026821</td>\n      <td>Leu815Gln</td>\n      <td>LB/B</td>\n      <td>3180392.0</td>\n      <td>-</td>\n      <td>NaN</td>\n      <td>NaN</td>\n    </tr>\n    <tr>\n      <th>...</th>\n      <td>...</td>\n      <td>...</td>\n      <td>...</td>\n      <td>...</td>\n      <td>...</td>\n      <td>...</td>\n      <td>...</td>\n      <td>...</td>\n      <td>...</td>\n    </tr>\n    <tr>\n      <th>79299</th>\n      <td>ZSCAN31</td>\n      <td>Q96LW9</td>\n      <td>VAR_024209</td>\n      <td>Lys205Arg</td>\n      <td>LB/B</td>\n      <td>853684.0</td>\n      <td>-</td>\n      <td>NaN</td>\n      <td>NaN</td>\n    </tr>\n    <tr>\n      <th>79300</th>\n      <td>ZSCAN31</td>\n      <td>Q96LW9</td>\n      <td>VAR_052809</td>\n      <td>Ala128Pro</td>\n      <td>LB/B</td>\n      <td>6922302.0</td>\n      <td>-</td>\n      <td>NaN</td>\n      <td>NaN</td>\n    </tr>\n    <tr>\n      <th>79301</th>\n      <td>ZSCAN31</td>\n      <td>Q96LW9</td>\n      <td>VAR_052810</td>\n      <td>Arg222Gln</td>\n      <td>LB/B</td>\n      <td>34223404.0</td>\n      <td>-</td>\n      <td>NaN</td>\n      <td>NaN</td>\n    </tr>\n    <tr>\n      <th>79302</th>\n      <td>ZSCAN31</td>\n      <td>Q96LW9</td>\n      <td>VAR_059911</td>\n      <td>Gly365Glu</td>\n      <td>LB/B</td>\n      <td>2394051.0</td>\n      <td>-</td>\n      <td>NaN</td>\n      <td>NaN</td>\n    </tr>\n    <tr>\n      <th>79317</th>\n      <td>ZSCAN9</td>\n      <td>O15535</td>\n      <td>VAR_076868</td>\n      <td>His254Arg</td>\n      <td>LB/B</td>\n      <td>148219046.0</td>\n      <td>-</td>\n      <td>NaN</td>\n      <td>NaN</td>\n    </tr>\n  </tbody>\n</table>\n<p>21246 rows × 9 columns</p>\n</div>"
     },
     "metadata": {},
     "execution_count": 81
    }
   ],
   "source": [
    "# Same with isin() method\n",
    "humsavar[humsavar.uniprot_acc.isin(proteins.uniprot_acc)]"
   ]
  },
  {
   "cell_type": "code",
   "execution_count": 62,
   "metadata": {},
   "outputs": [
    {
     "output_type": "execute_result",
     "data": {
      "text/plain": [
       "2892"
      ]
     },
     "metadata": {},
     "execution_count": 62
    }
   ],
   "source": [
    "len(uniprot_llps.uniprot_acc.unique()) # only 2892 LLPS proteins with protein change in UniProt humsavar dataset"
   ]
  },
  {
   "source": [
    "## Separate mutations and positions in different cols"
   ],
   "cell_type": "markdown",
   "metadata": {}
  },
  {
   "cell_type": "code",
   "execution_count": 63,
   "metadata": {},
   "outputs": [
    {
     "output_type": "execute_result",
     "data": {
      "text/plain": [
       "       id_protein uniprot_acc gene_name_y       snp_id      change category  \\\n",
       "6937          823      P13569        CFTR  397508480.0  Ala1006Glu     LP/P   \n",
       "14313        1966      Q13423         NNT  387907234.0  Ala1008Pro     LP/P   \n",
       "16749        2594      Q7Z4S6      KIF21A          NaN  Ala1008Pro     LP/P   \n",
       "22643        4342      P42771      CDKN2A          NaN   Ala100Leu     LP/P   \n",
       "22644        4342      P42771      CDKN2A          NaN   Ala100Pro     LB/B   \n",
       "...           ...         ...         ...          ...         ...      ...   \n",
       "2434          568      P00451          F8  137852382.0    Val99Asp     LP/P   \n",
       "8889         1131      P31946       YWHAB          NaN    Val99Ile       US   \n",
       "13691        1871      Q08999        RBL2          NaN    Val99Phe     LB/B   \n",
       "10432        1286      P43628     KIR2DL3    3810343.0     Val9Ala     LB/B   \n",
       "22304        4222      Q9Y5M8       SRPRB    1107413.0     Val9Leu     LB/B   \n",
       "\n",
       "                                            disease_name         mim  \\\n",
       "6937                   Cystic fibrosis (CF) [MIM:219700]  MIM:219700   \n",
       "14313  Glucocorticoid deficiency 4 with or without mi...  MIM:614736   \n",
       "16749  Fibrosis of extraocular muscles, congenital, 1...  MIM:135700   \n",
       "22643  Melanoma, cutaneous malignant 2 (CMM2) [MIM:15...  MIM:155601   \n",
       "22644                                                  -         NaN   \n",
       "...                                                  ...         ...   \n",
       "2434                    Hemophilia A (HEMA) [MIM:306700]  MIM:306700   \n",
       "8889                                                   -         NaN   \n",
       "13691                                                  -         NaN   \n",
       "10432                                                  -         NaN   \n",
       "22304                                                  -         NaN   \n",
       "\n",
       "                                                 disease  \n",
       "6937                                Cystic fibrosis (CF)  \n",
       "14313  Glucocorticoid deficiency 4 with or without mi...  \n",
       "16749  Fibrosis of extraocular muscles, congenital, 1...  \n",
       "22643             Melanoma, cutaneous malignant 2 (CMM2)  \n",
       "22644                                                NaN  \n",
       "...                                                  ...  \n",
       "2434                                 Hemophilia A (HEMA)  \n",
       "8889                                                 NaN  \n",
       "13691                                                NaN  \n",
       "10432                                                NaN  \n",
       "22304                                                NaN  \n",
       "\n",
       "[21246 rows x 9 columns]"
      ],
      "text/html": "<div>\n<style scoped>\n    .dataframe tbody tr th:only-of-type {\n        vertical-align: middle;\n    }\n\n    .dataframe tbody tr th {\n        vertical-align: top;\n    }\n\n    .dataframe thead th {\n        text-align: right;\n    }\n</style>\n<table border=\"1\" class=\"dataframe\">\n  <thead>\n    <tr style=\"text-align: right;\">\n      <th></th>\n      <th>id_protein</th>\n      <th>uniprot_acc</th>\n      <th>gene_name_y</th>\n      <th>snp_id</th>\n      <th>change</th>\n      <th>category</th>\n      <th>disease_name</th>\n      <th>mim</th>\n      <th>disease</th>\n    </tr>\n  </thead>\n  <tbody>\n    <tr>\n      <th>6937</th>\n      <td>823</td>\n      <td>P13569</td>\n      <td>CFTR</td>\n      <td>397508480.0</td>\n      <td>Ala1006Glu</td>\n      <td>LP/P</td>\n      <td>Cystic fibrosis (CF) [MIM:219700]</td>\n      <td>MIM:219700</td>\n      <td>Cystic fibrosis (CF)</td>\n    </tr>\n    <tr>\n      <th>14313</th>\n      <td>1966</td>\n      <td>Q13423</td>\n      <td>NNT</td>\n      <td>387907234.0</td>\n      <td>Ala1008Pro</td>\n      <td>LP/P</td>\n      <td>Glucocorticoid deficiency 4 with or without mi...</td>\n      <td>MIM:614736</td>\n      <td>Glucocorticoid deficiency 4 with or without mi...</td>\n    </tr>\n    <tr>\n      <th>16749</th>\n      <td>2594</td>\n      <td>Q7Z4S6</td>\n      <td>KIF21A</td>\n      <td>NaN</td>\n      <td>Ala1008Pro</td>\n      <td>LP/P</td>\n      <td>Fibrosis of extraocular muscles, congenital, 1...</td>\n      <td>MIM:135700</td>\n      <td>Fibrosis of extraocular muscles, congenital, 1...</td>\n    </tr>\n    <tr>\n      <th>22643</th>\n      <td>4342</td>\n      <td>P42771</td>\n      <td>CDKN2A</td>\n      <td>NaN</td>\n      <td>Ala100Leu</td>\n      <td>LP/P</td>\n      <td>Melanoma, cutaneous malignant 2 (CMM2) [MIM:15...</td>\n      <td>MIM:155601</td>\n      <td>Melanoma, cutaneous malignant 2 (CMM2)</td>\n    </tr>\n    <tr>\n      <th>22644</th>\n      <td>4342</td>\n      <td>P42771</td>\n      <td>CDKN2A</td>\n      <td>NaN</td>\n      <td>Ala100Pro</td>\n      <td>LB/B</td>\n      <td>-</td>\n      <td>NaN</td>\n      <td>NaN</td>\n    </tr>\n    <tr>\n      <th>...</th>\n      <td>...</td>\n      <td>...</td>\n      <td>...</td>\n      <td>...</td>\n      <td>...</td>\n      <td>...</td>\n      <td>...</td>\n      <td>...</td>\n      <td>...</td>\n    </tr>\n    <tr>\n      <th>2434</th>\n      <td>568</td>\n      <td>P00451</td>\n      <td>F8</td>\n      <td>137852382.0</td>\n      <td>Val99Asp</td>\n      <td>LP/P</td>\n      <td>Hemophilia A (HEMA) [MIM:306700]</td>\n      <td>MIM:306700</td>\n      <td>Hemophilia A (HEMA)</td>\n    </tr>\n    <tr>\n      <th>8889</th>\n      <td>1131</td>\n      <td>P31946</td>\n      <td>YWHAB</td>\n      <td>NaN</td>\n      <td>Val99Ile</td>\n      <td>US</td>\n      <td>-</td>\n      <td>NaN</td>\n      <td>NaN</td>\n    </tr>\n    <tr>\n      <th>13691</th>\n      <td>1871</td>\n      <td>Q08999</td>\n      <td>RBL2</td>\n      <td>NaN</td>\n      <td>Val99Phe</td>\n      <td>LB/B</td>\n      <td>-</td>\n      <td>NaN</td>\n      <td>NaN</td>\n    </tr>\n    <tr>\n      <th>10432</th>\n      <td>1286</td>\n      <td>P43628</td>\n      <td>KIR2DL3</td>\n      <td>3810343.0</td>\n      <td>Val9Ala</td>\n      <td>LB/B</td>\n      <td>-</td>\n      <td>NaN</td>\n      <td>NaN</td>\n    </tr>\n    <tr>\n      <th>22304</th>\n      <td>4222</td>\n      <td>Q9Y5M8</td>\n      <td>SRPRB</td>\n      <td>1107413.0</td>\n      <td>Val9Leu</td>\n      <td>LB/B</td>\n      <td>-</td>\n      <td>NaN</td>\n      <td>NaN</td>\n    </tr>\n  </tbody>\n</table>\n<p>21246 rows × 9 columns</p>\n</div>"
     },
     "metadata": {},
     "execution_count": 63
    }
   ],
   "source": [
    "uniprot_llps[['id_protein', 'uniprot_acc', 'gene_name_y', 'snp_id', 'change', 'category', 'disease_name', 'mim', 'disease']].sort_values('change')"
   ]
  },
  {
   "cell_type": "code",
   "execution_count": 64,
   "metadata": {},
   "outputs": [
    {
     "output_type": "execute_result",
     "data": {
      "text/plain": [
       "3        Met565Val\n",
       "4        Gly538Arg\n",
       "5        Cys210Ser\n",
       "6        Ser638Gly\n",
       "7        Pro246Gln\n",
       "           ...    \n",
       "22703    Gly116Asp\n",
       "22713     Glu26Lys\n",
       "22714    Ser215Asn\n",
       "22715    Tyr400Asn\n",
       "22716     Gly28Ala\n",
       "Name: change, Length: 21246, dtype: object"
      ]
     },
     "metadata": {},
     "execution_count": 64
    }
   ],
   "source": [
    "uniprot_llps.change"
   ]
  },
  {
   "cell_type": "code",
   "execution_count": 65,
   "metadata": {},
   "outputs": [
    {
     "output_type": "stream",
     "name": "stderr",
     "text": [
      "<ipython-input-65-1238ab8843af>:3: SettingWithCopyWarning: \nA value is trying to be set on a copy of a slice from a DataFrame.\nTry using .loc[row_indexer,col_indexer] = value instead\n\nSee the caveats in the documentation: https://pandas.pydata.org/pandas-docs/stable/user_guide/indexing.html#returning-a-view-versus-a-copy\n  uniprot_llps['aux'] = uniprot_llps.change[uniprot_llps.change.notnull()].map(lambda x: re.findall('^([A-Z][a-z]{2})(\\d+)([A-Z][a-z]{2})$', x)).str[0]\n"
     ]
    },
    {
     "output_type": "execute_result",
     "data": {
      "text/plain": [
       "3        (Met, 565, Val)\n",
       "4        (Gly, 538, Arg)\n",
       "5        (Cys, 210, Ser)\n",
       "6        (Ser, 638, Gly)\n",
       "7        (Pro, 246, Gln)\n",
       "              ...       \n",
       "22703    (Gly, 116, Asp)\n",
       "22713     (Glu, 26, Lys)\n",
       "22714    (Ser, 215, Asn)\n",
       "22715    (Tyr, 400, Asn)\n",
       "22716     (Gly, 28, Ala)\n",
       "Name: aux, Length: 21246, dtype: object"
      ]
     },
     "metadata": {},
     "execution_count": 65
    }
   ],
   "source": [
    "# Subset of non-null changes in proteins\n",
    "# Regex for extracting Missense mutations (as they are in uniprot's humsavar dataset)\n",
    "uniprot_llps['aux'] = uniprot_llps.change[uniprot_llps.change.notnull()].map(lambda x: re.findall('^([A-Z][a-z]{2})(\\d+)([A-Z][a-z]{2})$', x)).str[0]\n",
    "uniprot_llps.aux"
   ]
  },
  {
   "cell_type": "code",
   "execution_count": 66,
   "metadata": {},
   "outputs": [
    {
     "output_type": "stream",
     "name": "stderr",
     "text": [
      "<ipython-input-66-15fa49d6a2bd>:1: SettingWithCopyWarning: \nA value is trying to be set on a copy of a slice from a DataFrame.\nTry using .loc[row_indexer,col_indexer] = value instead\n\nSee the caveats in the documentation: https://pandas.pydata.org/pandas-docs/stable/user_guide/indexing.html#returning-a-view-versus-a-copy\n  uniprot_llps['from_aa'] = uniprot_llps.aux[uniprot_llps.aux.notnull()].map(lambda x: x[0])\n<ipython-input-66-15fa49d6a2bd>:2: SettingWithCopyWarning: \nA value is trying to be set on a copy of a slice from a DataFrame.\nTry using .loc[row_indexer,col_indexer] = value instead\n\nSee the caveats in the documentation: https://pandas.pydata.org/pandas-docs/stable/user_guide/indexing.html#returning-a-view-versus-a-copy\n  uniprot_llps['to_aa'] = uniprot_llps.aux[uniprot_llps.aux.notnull()].map(lambda x: x[2])\n<ipython-input-66-15fa49d6a2bd>:3: SettingWithCopyWarning: \nA value is trying to be set on a copy of a slice from a DataFrame.\nTry using .loc[row_indexer,col_indexer] = value instead\n\nSee the caveats in the documentation: https://pandas.pydata.org/pandas-docs/stable/user_guide/indexing.html#returning-a-view-versus-a-copy\n  uniprot_llps['start_aa'] = uniprot_llps.aux[uniprot_llps.aux.notnull()].map(lambda x: x[1])\n<ipython-input-66-15fa49d6a2bd>:4: SettingWithCopyWarning: \nA value is trying to be set on a copy of a slice from a DataFrame.\nTry using .loc[row_indexer,col_indexer] = value instead\n\nSee the caveats in the documentation: https://pandas.pydata.org/pandas-docs/stable/user_guide/indexing.html#returning-a-view-versus-a-copy\n  uniprot_llps['end_aa'] = uniprot_llps.aux[uniprot_llps.aux.notnull()].map(lambda x: x[1])\n"
     ]
    }
   ],
   "source": [
    "uniprot_llps['from_aa'] = uniprot_llps.aux[uniprot_llps.aux.notnull()].map(lambda x: x[0])\n",
    "uniprot_llps['to_aa'] = uniprot_llps.aux[uniprot_llps.aux.notnull()].map(lambda x: x[2])\n",
    "uniprot_llps['start_aa'] = uniprot_llps.aux[uniprot_llps.aux.notnull()].map(lambda x: x[1])\n",
    "uniprot_llps['end_aa'] = uniprot_llps.aux[uniprot_llps.aux.notnull()].map(lambda x: x[1])"
   ]
  },
  {
   "cell_type": "code",
   "execution_count": 68,
   "metadata": {},
   "outputs": [
    {
     "output_type": "execute_result",
     "data": {
      "text/plain": [
       "          change from_aa to_aa start_aa end_aa\n",
       "3      Met565Val     Met   Val      565    565\n",
       "4      Gly538Arg     Gly   Arg      538    538\n",
       "5      Cys210Ser     Cys   Ser      210    210\n",
       "6      Ser638Gly     Ser   Gly      638    638\n",
       "7      Pro246Gln     Pro   Gln      246    246\n",
       "...          ...     ...   ...      ...    ...\n",
       "22703  Gly116Asp     Gly   Asp      116    116\n",
       "22713   Glu26Lys     Glu   Lys       26     26\n",
       "22714  Ser215Asn     Ser   Asn      215    215\n",
       "22715  Tyr400Asn     Tyr   Asn      400    400\n",
       "22716   Gly28Ala     Gly   Ala       28     28\n",
       "\n",
       "[21246 rows x 5 columns]"
      ],
      "text/html": "<div>\n<style scoped>\n    .dataframe tbody tr th:only-of-type {\n        vertical-align: middle;\n    }\n\n    .dataframe tbody tr th {\n        vertical-align: top;\n    }\n\n    .dataframe thead th {\n        text-align: right;\n    }\n</style>\n<table border=\"1\" class=\"dataframe\">\n  <thead>\n    <tr style=\"text-align: right;\">\n      <th></th>\n      <th>change</th>\n      <th>from_aa</th>\n      <th>to_aa</th>\n      <th>start_aa</th>\n      <th>end_aa</th>\n    </tr>\n  </thead>\n  <tbody>\n    <tr>\n      <th>3</th>\n      <td>Met565Val</td>\n      <td>Met</td>\n      <td>Val</td>\n      <td>565</td>\n      <td>565</td>\n    </tr>\n    <tr>\n      <th>4</th>\n      <td>Gly538Arg</td>\n      <td>Gly</td>\n      <td>Arg</td>\n      <td>538</td>\n      <td>538</td>\n    </tr>\n    <tr>\n      <th>5</th>\n      <td>Cys210Ser</td>\n      <td>Cys</td>\n      <td>Ser</td>\n      <td>210</td>\n      <td>210</td>\n    </tr>\n    <tr>\n      <th>6</th>\n      <td>Ser638Gly</td>\n      <td>Ser</td>\n      <td>Gly</td>\n      <td>638</td>\n      <td>638</td>\n    </tr>\n    <tr>\n      <th>7</th>\n      <td>Pro246Gln</td>\n      <td>Pro</td>\n      <td>Gln</td>\n      <td>246</td>\n      <td>246</td>\n    </tr>\n    <tr>\n      <th>...</th>\n      <td>...</td>\n      <td>...</td>\n      <td>...</td>\n      <td>...</td>\n      <td>...</td>\n    </tr>\n    <tr>\n      <th>22703</th>\n      <td>Gly116Asp</td>\n      <td>Gly</td>\n      <td>Asp</td>\n      <td>116</td>\n      <td>116</td>\n    </tr>\n    <tr>\n      <th>22713</th>\n      <td>Glu26Lys</td>\n      <td>Glu</td>\n      <td>Lys</td>\n      <td>26</td>\n      <td>26</td>\n    </tr>\n    <tr>\n      <th>22714</th>\n      <td>Ser215Asn</td>\n      <td>Ser</td>\n      <td>Asn</td>\n      <td>215</td>\n      <td>215</td>\n    </tr>\n    <tr>\n      <th>22715</th>\n      <td>Tyr400Asn</td>\n      <td>Tyr</td>\n      <td>Asn</td>\n      <td>400</td>\n      <td>400</td>\n    </tr>\n    <tr>\n      <th>22716</th>\n      <td>Gly28Ala</td>\n      <td>Gly</td>\n      <td>Ala</td>\n      <td>28</td>\n      <td>28</td>\n    </tr>\n  </tbody>\n</table>\n<p>21246 rows × 5 columns</p>\n</div>"
     },
     "metadata": {},
     "execution_count": 68
    }
   ],
   "source": [
    "uniprot_llps[['change', 'from_aa', 'to_aa',\t'start_aa',\t'end_aa']]"
   ]
  },
  {
   "source": [
    "## Control: aa corresponding to sequence"
   ],
   "cell_type": "markdown",
   "metadata": {}
  },
  {
   "cell_type": "code",
   "execution_count": 69,
   "metadata": {},
   "outputs": [
    {
     "output_type": "stream",
     "name": "stderr",
     "text": [
      "<ipython-input-69-d32b6f206459>:2: SettingWithCopyWarning: \nA value is trying to be set on a copy of a slice from a DataFrame.\nTry using .loc[row_indexer,col_indexer] = value instead\n\nSee the caveats in the documentation: https://pandas.pydata.org/pandas-docs/stable/user_guide/indexing.html#returning-a-view-versus-a-copy\n  uniprot_llps['ctrl'] = False\n<ipython-input-69-d32b6f206459>:3: SettingWithCopyWarning: \nA value is trying to be set on a copy of a slice from a DataFrame.\nTry using .loc[row_indexer,col_indexer] = value instead\n\nSee the caveats in the documentation: https://pandas.pydata.org/pandas-docs/stable/user_guide/indexing.html#returning-a-view-versus-a-copy\n  uniprot_llps['aa_ctrl'] = np.nan\n<ipython-input-69-d32b6f206459>:9: SettingWithCopyWarning: \nA value is trying to be set on a copy of a slice from a DataFrame\n\nSee the caveats in the documentation: https://pandas.pydata.org/pandas-docs/stable/user_guide/indexing.html#returning-a-view-versus-a-copy\n  uniprot_llps['aa_ctrl'][i] = str(seq1(aa1))\nC:\\Users\\User\\AppData\\Local\\Packages\\PythonSoftwareFoundation.Python.3.9_qbz5n2kfra8p0\\LocalCache\\local-packages\\Python39\\site-packages\\pandas\\core\\indexing.py:1637: SettingWithCopyWarning: \nA value is trying to be set on a copy of a slice from a DataFrame\n\nSee the caveats in the documentation: https://pandas.pydata.org/pandas-docs/stable/user_guide/indexing.html#returning-a-view-versus-a-copy\n  self._setitem_single_block(indexer, value, name)\nC:\\Users\\User\\AppData\\Local\\Packages\\PythonSoftwareFoundation.Python.3.9_qbz5n2kfra8p0\\LocalCache\\local-packages\\Python39\\site-packages\\pandas\\core\\indexing.py:692: SettingWithCopyWarning: \nA value is trying to be set on a copy of a slice from a DataFrame\n\nSee the caveats in the documentation: https://pandas.pydata.org/pandas-docs/stable/user_guide/indexing.html#returning-a-view-versus-a-copy\n  iloc._setitem_with_indexer(indexer, value, self.name)\nC:\\Users\\User\\AppData\\Local\\Packages\\PythonSoftwareFoundation.Python.3.9_qbz5n2kfra8p0\\LocalCache\\local-packages\\Python39\\site-packages\\IPython\\core\\interactiveshell.py:3437: SettingWithCopyWarning: \nA value is trying to be set on a copy of a slice from a DataFrame\n\nSee the caveats in the documentation: https://pandas.pydata.org/pandas-docs/stable/user_guide/indexing.html#returning-a-view-versus-a-copy\n  exec(code_obj, self.user_global_ns, self.user_ns)\n<ipython-input-69-d32b6f206459>:14: SettingWithCopyWarning: \nA value is trying to be set on a copy of a slice from a DataFrame\n\nSee the caveats in the documentation: https://pandas.pydata.org/pandas-docs/stable/user_guide/indexing.html#returning-a-view-versus-a-copy\n  uniprot_llps.ctrl[i] = True\n"
     ]
    },
    {
     "output_type": "execute_result",
     "data": {
      "text/plain": [
       "3        True\n",
       "4        True\n",
       "5        True\n",
       "6        True\n",
       "7        True\n",
       "         ... \n",
       "22703    True\n",
       "22713    True\n",
       "22714    True\n",
       "22715    True\n",
       "22716    True\n",
       "Name: ctrl, Length: 21246, dtype: bool"
      ]
     },
     "metadata": {},
     "execution_count": 69
    }
   ],
   "source": [
    "#Paso los aa de tres letras a una\n",
    "uniprot_llps['ctrl'] = False\n",
    "uniprot_llps['aa_ctrl'] = np.nan\n",
    "\n",
    "for i in uniprot_llps.index:\n",
    "    aa1 = uniprot_llps.from_aa[i]\n",
    "    aa2 = uniprot_llps.to_aa[i]\n",
    "    if str(aa1) != 'nan':\n",
    "        uniprot_llps['aa_ctrl'][i] = str(seq1(aa1))\n",
    "\n",
    "        #Evaluo\n",
    "        if int(uniprot_llps.start_aa[i]) <= int(uniprot_llps.length[i]): \n",
    "            if uniprot_llps.sequence[i][int(uniprot_llps.start_aa[i])-1] == uniprot_llps.aa_ctrl[i]:\n",
    "                uniprot_llps.ctrl[i] = True\n",
    "    #if str(aa2) != 'nan':\n",
    "        #box_uniprot_variants.aa2[i] = str(seq1(aa2))\n",
    "\n",
    "uniprot_llps.ctrl"
   ]
  },
  {
   "cell_type": "code",
   "execution_count": 71,
   "metadata": {},
   "outputs": [
    {
     "output_type": "execute_result",
     "data": {
      "text/plain": [
       "21246"
      ]
     },
     "metadata": {},
     "execution_count": 71
    }
   ],
   "source": [
    "uniprot_llps.aa_ctrl.notnull().sum()"
   ]
  },
  {
   "cell_type": "code",
   "execution_count": 73,
   "metadata": {},
   "outputs": [
    {
     "output_type": "execute_result",
     "data": {
      "text/plain": [
       "True     20935\n",
       "False      311\n",
       "Name: ctrl, dtype: int64"
      ]
     },
     "metadata": {},
     "execution_count": 73
    }
   ],
   "source": [
    "uniprot_llps.ctrl.value_counts()"
   ]
  },
  {
   "cell_type": "code",
   "execution_count": 74,
   "metadata": {},
   "outputs": [
    {
     "output_type": "execute_result",
     "data": {
      "text/plain": [
       "Index(['id_protein', 'uniprot_acc', 'hgnc_id', 'gene_id', 'gene_name_x',\n",
       "       'length', 'sequence', 'gene_name_y', 'ft_id', 'change', 'category',\n",
       "       'snp_id', 'disease_name', 'mim', 'disease', 'aux', 'from_aa', 'to_aa',\n",
       "       'start_aa', 'end_aa', 'ctrl', 'aa_ctrl'],\n",
       "      dtype='object')"
      ]
     },
     "metadata": {},
     "execution_count": 74
    }
   ],
   "source": [
    "uniprot_llps.columns"
   ]
  },
  {
   "cell_type": "code",
   "execution_count": 75,
   "metadata": {},
   "outputs": [
    {
     "output_type": "execute_result",
     "data": {
      "text/plain": [
       "      uniprot_acc gene_name_y       snp_id from_aa to_aa start_aa end_aa  \\\n",
       "3          A0AV96       RBM47     278981.0     Met   Val      565    565   \n",
       "4          A0AV96       RBM47   35529250.0     Gly   Arg      538    538   \n",
       "5          A0FGR8       ESYT2   13233513.0     Cys   Ser      210    210   \n",
       "6          A0FGR8       ESYT2    2305473.0     Ser   Gly      638    638   \n",
       "7          A0FGR9       ESYT3   17857138.0     Pro   Gln      246    246   \n",
       "...           ...         ...          ...     ...   ...      ...    ...   \n",
       "22703      Q8N726      CDKN2A   35741010.0     Gly   Asp      116    116   \n",
       "22713      Q9P0M2       AKAP7    7771473.0     Glu   Lys       26     26   \n",
       "22714      Q9P0M2       AKAP7    1190788.0     Ser   Asn      215    215   \n",
       "22715      Q9ULB1       NRXN1   17040901.0     Tyr   Asn      400    400   \n",
       "22716      Q9ULB1       NRXN1  199598542.0     Gly   Ala       28     28   \n",
       "\n",
       "       ctrl aa_ctrl disease_name disease  mim  \n",
       "3      True       M            -     NaN  NaN  \n",
       "4      True       G            -     NaN  NaN  \n",
       "5      True       C            -     NaN  NaN  \n",
       "6      True       S            -     NaN  NaN  \n",
       "7      True       P            -     NaN  NaN  \n",
       "...     ...     ...          ...     ...  ...  \n",
       "22703  True       G            -     NaN  NaN  \n",
       "22713  True       E            -     NaN  NaN  \n",
       "22714  True       S            -     NaN  NaN  \n",
       "22715  True       Y            -     NaN  NaN  \n",
       "22716  True       G            -     NaN  NaN  \n",
       "\n",
       "[21246 rows x 12 columns]"
      ],
      "text/html": "<div>\n<style scoped>\n    .dataframe tbody tr th:only-of-type {\n        vertical-align: middle;\n    }\n\n    .dataframe tbody tr th {\n        vertical-align: top;\n    }\n\n    .dataframe thead th {\n        text-align: right;\n    }\n</style>\n<table border=\"1\" class=\"dataframe\">\n  <thead>\n    <tr style=\"text-align: right;\">\n      <th></th>\n      <th>uniprot_acc</th>\n      <th>gene_name_y</th>\n      <th>snp_id</th>\n      <th>from_aa</th>\n      <th>to_aa</th>\n      <th>start_aa</th>\n      <th>end_aa</th>\n      <th>ctrl</th>\n      <th>aa_ctrl</th>\n      <th>disease_name</th>\n      <th>disease</th>\n      <th>mim</th>\n    </tr>\n  </thead>\n  <tbody>\n    <tr>\n      <th>3</th>\n      <td>A0AV96</td>\n      <td>RBM47</td>\n      <td>278981.0</td>\n      <td>Met</td>\n      <td>Val</td>\n      <td>565</td>\n      <td>565</td>\n      <td>True</td>\n      <td>M</td>\n      <td>-</td>\n      <td>NaN</td>\n      <td>NaN</td>\n    </tr>\n    <tr>\n      <th>4</th>\n      <td>A0AV96</td>\n      <td>RBM47</td>\n      <td>35529250.0</td>\n      <td>Gly</td>\n      <td>Arg</td>\n      <td>538</td>\n      <td>538</td>\n      <td>True</td>\n      <td>G</td>\n      <td>-</td>\n      <td>NaN</td>\n      <td>NaN</td>\n    </tr>\n    <tr>\n      <th>5</th>\n      <td>A0FGR8</td>\n      <td>ESYT2</td>\n      <td>13233513.0</td>\n      <td>Cys</td>\n      <td>Ser</td>\n      <td>210</td>\n      <td>210</td>\n      <td>True</td>\n      <td>C</td>\n      <td>-</td>\n      <td>NaN</td>\n      <td>NaN</td>\n    </tr>\n    <tr>\n      <th>6</th>\n      <td>A0FGR8</td>\n      <td>ESYT2</td>\n      <td>2305473.0</td>\n      <td>Ser</td>\n      <td>Gly</td>\n      <td>638</td>\n      <td>638</td>\n      <td>True</td>\n      <td>S</td>\n      <td>-</td>\n      <td>NaN</td>\n      <td>NaN</td>\n    </tr>\n    <tr>\n      <th>7</th>\n      <td>A0FGR9</td>\n      <td>ESYT3</td>\n      <td>17857138.0</td>\n      <td>Pro</td>\n      <td>Gln</td>\n      <td>246</td>\n      <td>246</td>\n      <td>True</td>\n      <td>P</td>\n      <td>-</td>\n      <td>NaN</td>\n      <td>NaN</td>\n    </tr>\n    <tr>\n      <th>...</th>\n      <td>...</td>\n      <td>...</td>\n      <td>...</td>\n      <td>...</td>\n      <td>...</td>\n      <td>...</td>\n      <td>...</td>\n      <td>...</td>\n      <td>...</td>\n      <td>...</td>\n      <td>...</td>\n      <td>...</td>\n    </tr>\n    <tr>\n      <th>22703</th>\n      <td>Q8N726</td>\n      <td>CDKN2A</td>\n      <td>35741010.0</td>\n      <td>Gly</td>\n      <td>Asp</td>\n      <td>116</td>\n      <td>116</td>\n      <td>True</td>\n      <td>G</td>\n      <td>-</td>\n      <td>NaN</td>\n      <td>NaN</td>\n    </tr>\n    <tr>\n      <th>22713</th>\n      <td>Q9P0M2</td>\n      <td>AKAP7</td>\n      <td>7771473.0</td>\n      <td>Glu</td>\n      <td>Lys</td>\n      <td>26</td>\n      <td>26</td>\n      <td>True</td>\n      <td>E</td>\n      <td>-</td>\n      <td>NaN</td>\n      <td>NaN</td>\n    </tr>\n    <tr>\n      <th>22714</th>\n      <td>Q9P0M2</td>\n      <td>AKAP7</td>\n      <td>1190788.0</td>\n      <td>Ser</td>\n      <td>Asn</td>\n      <td>215</td>\n      <td>215</td>\n      <td>True</td>\n      <td>S</td>\n      <td>-</td>\n      <td>NaN</td>\n      <td>NaN</td>\n    </tr>\n    <tr>\n      <th>22715</th>\n      <td>Q9ULB1</td>\n      <td>NRXN1</td>\n      <td>17040901.0</td>\n      <td>Tyr</td>\n      <td>Asn</td>\n      <td>400</td>\n      <td>400</td>\n      <td>True</td>\n      <td>Y</td>\n      <td>-</td>\n      <td>NaN</td>\n      <td>NaN</td>\n    </tr>\n    <tr>\n      <th>22716</th>\n      <td>Q9ULB1</td>\n      <td>NRXN1</td>\n      <td>199598542.0</td>\n      <td>Gly</td>\n      <td>Ala</td>\n      <td>28</td>\n      <td>28</td>\n      <td>True</td>\n      <td>G</td>\n      <td>-</td>\n      <td>NaN</td>\n      <td>NaN</td>\n    </tr>\n  </tbody>\n</table>\n<p>21246 rows × 12 columns</p>\n</div>"
     },
     "metadata": {},
     "execution_count": 75
    }
   ],
   "source": [
    "uniprot_llps[['uniprot_acc', 'gene_name_y', 'snp_id', 'from_aa', 'to_aa',\n",
    "               'start_aa', 'end_aa', 'ctrl', 'aa_ctrl', 'disease_name', 'disease', 'mim']]"
   ]
  },
  {
   "cell_type": "code",
   "execution_count": 76,
   "metadata": {},
   "outputs": [
    {
     "output_type": "execute_result",
     "data": {
      "text/plain": [
       "       id_protein uniprot_acc     hgnc_id   gene_id gene_name_x  length  \\\n",
       "23             12      A2A288  HGNC:21175  340152.0     ZC3H12D    4369   \n",
       "33             18      A5YKK6   HGNC:7877   23019.0       CNOT1    4369   \n",
       "56             25      A6NHR9  HGNC:29090   23347.0      SMCHD1    4369   \n",
       "57             25      A6NHR9  HGNC:29090   23347.0      SMCHD1    4369   \n",
       "58             25      A6NHR9  HGNC:29090   23347.0      SMCHD1    4369   \n",
       "...           ...         ...         ...       ...         ...     ...   \n",
       "22682        4342      P42771   HGNC:1787    1029.0      CDKN2A    4369   \n",
       "22683        4342      P42771   HGNC:1787    1029.0      CDKN2A    4369   \n",
       "22684        4342      P42771   HGNC:1787    1029.0      CDKN2A    4369   \n",
       "22690        4347      Q5JWF2   HGNC:4392    2778.0        GNAS    4369   \n",
       "22691        4347      Q5JWF2   HGNC:4392    2778.0        GNAS    4369   \n",
       "\n",
       "                                                sequence gene_name_y  \\\n",
       "23     MEHPSKMEFFQKLGYDREDVLRVLGKLGEGALVNDVLQELIRTGSR...     ZC3H12D   \n",
       "33     MNLDSLSLALSQISYLVDNLTKKNYRASQQEIQHIVNRHGPEADRH...       CNOT1   \n",
       "56     MAAADGGGPGGASVGTEEDGGGVGHRTVYLFDRREKESELGDRPLQ...      SMCHD1   \n",
       "57     MAAADGGGPGGASVGTEEDGGGVGHRTVYLFDRREKESELGDRPLQ...      SMCHD1   \n",
       "58     MAAADGGGPGGASVGTEEDGGGVGHRTVYLFDRREKESELGDRPLQ...      SMCHD1   \n",
       "...                                                  ...         ...   \n",
       "22682  MEPAAGSSMEPSADWLATAAARGRVEEVRALLEAGALPNAPNSYGR...      CDKN2A   \n",
       "22683  MEPAAGSSMEPSADWLATAAARGRVEEVRALLEAGALPNAPNSYGR...      CDKN2A   \n",
       "22684  MEPAAGSSMEPSADWLATAAARGRVEEVRALLEAGALPNAPNSYGR...      CDKN2A   \n",
       "22690  MGVRNCLYGNNMSGQRDIPPEIGEQPEQPPLEAPGAAAPGAGPSPA...        GNAS   \n",
       "22691  MGVRNCLYGNNMSGQRDIPPEIGEQPEQPPLEAPGAAAPGAGPSPA...        GNAS   \n",
       "\n",
       "            ft_id     change  ...  \\\n",
       "23     VAR_046200  Lys106Arg  ...   \n",
       "33     VAR_083066  Arg535Cys  ...   \n",
       "56     VAR_069067  Tyr353Cys  ...   \n",
       "57     VAR_069068  Arg479Pro  ...   \n",
       "58     VAR_069069  Cys492Arg  ...   \n",
       "...           ...        ...  ...   \n",
       "22682  VAR_058556   Thr77Pro  ...   \n",
       "22683  VAR_058557   Arg80Pro  ...   \n",
       "22684  VAR_058558   Pro81Thr  ...   \n",
       "22690  VAR_028777  Ala436Asp  ...   \n",
       "22691  VAR_028779  Pro459Arg  ...   \n",
       "\n",
       "                                            disease_name         mim  \\\n",
       "23                      Some sporadic lung cancer sample         NaN   \n",
       "33     Holoprosencephaly 12 with or without pancreati...  MIM:618500   \n",
       "56     Facioscapulohumeral muscular dystrophy 2 (FSHD...  MIM:158901   \n",
       "57     Facioscapulohumeral muscular dystrophy 2 (FSHD...  MIM:158901   \n",
       "58     Facioscapulohumeral muscular dystrophy 2 (FSHD...  MIM:158901   \n",
       "...                                                  ...         ...   \n",
       "22682  Melanoma, cutaneous malignant 2 (CMM2) [MIM:15...  MIM:155601   \n",
       "22683  Melanoma, cutaneous malignant 2 (CMM2) [MIM:15...  MIM:155601   \n",
       "22684  Melanoma, cutaneous malignant 2 (CMM2) [MIM:15...  MIM:155601   \n",
       "22690          GNAS hyperfunction (GNASHYP) [MIM:139320]  MIM:139320   \n",
       "22691          GNAS hyperfunction (GNASHYP) [MIM:139320]  MIM:139320   \n",
       "\n",
       "                                                 disease              aux  \\\n",
       "23                      Some sporadic lung cancer sample  (Lys, 106, Arg)   \n",
       "33     Holoprosencephaly 12 with or without pancreati...  (Arg, 535, Cys)   \n",
       "56      Facioscapulohumeral muscular dystrophy 2 (FSHD2)  (Tyr, 353, Cys)   \n",
       "57      Facioscapulohumeral muscular dystrophy 2 (FSHD2)  (Arg, 479, Pro)   \n",
       "58      Facioscapulohumeral muscular dystrophy 2 (FSHD2)  (Cys, 492, Arg)   \n",
       "...                                                  ...              ...   \n",
       "22682             Melanoma, cutaneous malignant 2 (CMM2)   (Thr, 77, Pro)   \n",
       "22683             Melanoma, cutaneous malignant 2 (CMM2)   (Arg, 80, Pro)   \n",
       "22684             Melanoma, cutaneous malignant 2 (CMM2)   (Pro, 81, Thr)   \n",
       "22690                       GNAS hyperfunction (GNASHYP)  (Ala, 436, Asp)   \n",
       "22691                       GNAS hyperfunction (GNASHYP)  (Pro, 459, Arg)   \n",
       "\n",
       "      from_aa to_aa start_aa end_aa  ctrl aa_ctrl  \n",
       "23        Lys   Arg      106    106  True       K  \n",
       "33        Arg   Cys      535    535  True       R  \n",
       "56        Tyr   Cys      353    353  True       Y  \n",
       "57        Arg   Pro      479    479  True       R  \n",
       "58        Cys   Arg      492    492  True       C  \n",
       "...       ...   ...      ...    ...   ...     ...  \n",
       "22682     Thr   Pro       77     77  True       T  \n",
       "22683     Arg   Pro       80     80  True       R  \n",
       "22684     Pro   Thr       81     81  True       P  \n",
       "22690     Ala   Asp      436    436  True       A  \n",
       "22691     Pro   Arg      459    459  True       P  \n",
       "\n",
       "[11926 rows x 22 columns]"
      ],
      "text/html": "<div>\n<style scoped>\n    .dataframe tbody tr th:only-of-type {\n        vertical-align: middle;\n    }\n\n    .dataframe tbody tr th {\n        vertical-align: top;\n    }\n\n    .dataframe thead th {\n        text-align: right;\n    }\n</style>\n<table border=\"1\" class=\"dataframe\">\n  <thead>\n    <tr style=\"text-align: right;\">\n      <th></th>\n      <th>id_protein</th>\n      <th>uniprot_acc</th>\n      <th>hgnc_id</th>\n      <th>gene_id</th>\n      <th>gene_name_x</th>\n      <th>length</th>\n      <th>sequence</th>\n      <th>gene_name_y</th>\n      <th>ft_id</th>\n      <th>change</th>\n      <th>...</th>\n      <th>disease_name</th>\n      <th>mim</th>\n      <th>disease</th>\n      <th>aux</th>\n      <th>from_aa</th>\n      <th>to_aa</th>\n      <th>start_aa</th>\n      <th>end_aa</th>\n      <th>ctrl</th>\n      <th>aa_ctrl</th>\n    </tr>\n  </thead>\n  <tbody>\n    <tr>\n      <th>23</th>\n      <td>12</td>\n      <td>A2A288</td>\n      <td>HGNC:21175</td>\n      <td>340152.0</td>\n      <td>ZC3H12D</td>\n      <td>4369</td>\n      <td>MEHPSKMEFFQKLGYDREDVLRVLGKLGEGALVNDVLQELIRTGSR...</td>\n      <td>ZC3H12D</td>\n      <td>VAR_046200</td>\n      <td>Lys106Arg</td>\n      <td>...</td>\n      <td>Some sporadic lung cancer sample</td>\n      <td>NaN</td>\n      <td>Some sporadic lung cancer sample</td>\n      <td>(Lys, 106, Arg)</td>\n      <td>Lys</td>\n      <td>Arg</td>\n      <td>106</td>\n      <td>106</td>\n      <td>True</td>\n      <td>K</td>\n    </tr>\n    <tr>\n      <th>33</th>\n      <td>18</td>\n      <td>A5YKK6</td>\n      <td>HGNC:7877</td>\n      <td>23019.0</td>\n      <td>CNOT1</td>\n      <td>4369</td>\n      <td>MNLDSLSLALSQISYLVDNLTKKNYRASQQEIQHIVNRHGPEADRH...</td>\n      <td>CNOT1</td>\n      <td>VAR_083066</td>\n      <td>Arg535Cys</td>\n      <td>...</td>\n      <td>Holoprosencephaly 12 with or without pancreati...</td>\n      <td>MIM:618500</td>\n      <td>Holoprosencephaly 12 with or without pancreati...</td>\n      <td>(Arg, 535, Cys)</td>\n      <td>Arg</td>\n      <td>Cys</td>\n      <td>535</td>\n      <td>535</td>\n      <td>True</td>\n      <td>R</td>\n    </tr>\n    <tr>\n      <th>56</th>\n      <td>25</td>\n      <td>A6NHR9</td>\n      <td>HGNC:29090</td>\n      <td>23347.0</td>\n      <td>SMCHD1</td>\n      <td>4369</td>\n      <td>MAAADGGGPGGASVGTEEDGGGVGHRTVYLFDRREKESELGDRPLQ...</td>\n      <td>SMCHD1</td>\n      <td>VAR_069067</td>\n      <td>Tyr353Cys</td>\n      <td>...</td>\n      <td>Facioscapulohumeral muscular dystrophy 2 (FSHD...</td>\n      <td>MIM:158901</td>\n      <td>Facioscapulohumeral muscular dystrophy 2 (FSHD2)</td>\n      <td>(Tyr, 353, Cys)</td>\n      <td>Tyr</td>\n      <td>Cys</td>\n      <td>353</td>\n      <td>353</td>\n      <td>True</td>\n      <td>Y</td>\n    </tr>\n    <tr>\n      <th>57</th>\n      <td>25</td>\n      <td>A6NHR9</td>\n      <td>HGNC:29090</td>\n      <td>23347.0</td>\n      <td>SMCHD1</td>\n      <td>4369</td>\n      <td>MAAADGGGPGGASVGTEEDGGGVGHRTVYLFDRREKESELGDRPLQ...</td>\n      <td>SMCHD1</td>\n      <td>VAR_069068</td>\n      <td>Arg479Pro</td>\n      <td>...</td>\n      <td>Facioscapulohumeral muscular dystrophy 2 (FSHD...</td>\n      <td>MIM:158901</td>\n      <td>Facioscapulohumeral muscular dystrophy 2 (FSHD2)</td>\n      <td>(Arg, 479, Pro)</td>\n      <td>Arg</td>\n      <td>Pro</td>\n      <td>479</td>\n      <td>479</td>\n      <td>True</td>\n      <td>R</td>\n    </tr>\n    <tr>\n      <th>58</th>\n      <td>25</td>\n      <td>A6NHR9</td>\n      <td>HGNC:29090</td>\n      <td>23347.0</td>\n      <td>SMCHD1</td>\n      <td>4369</td>\n      <td>MAAADGGGPGGASVGTEEDGGGVGHRTVYLFDRREKESELGDRPLQ...</td>\n      <td>SMCHD1</td>\n      <td>VAR_069069</td>\n      <td>Cys492Arg</td>\n      <td>...</td>\n      <td>Facioscapulohumeral muscular dystrophy 2 (FSHD...</td>\n      <td>MIM:158901</td>\n      <td>Facioscapulohumeral muscular dystrophy 2 (FSHD2)</td>\n      <td>(Cys, 492, Arg)</td>\n      <td>Cys</td>\n      <td>Arg</td>\n      <td>492</td>\n      <td>492</td>\n      <td>True</td>\n      <td>C</td>\n    </tr>\n    <tr>\n      <th>...</th>\n      <td>...</td>\n      <td>...</td>\n      <td>...</td>\n      <td>...</td>\n      <td>...</td>\n      <td>...</td>\n      <td>...</td>\n      <td>...</td>\n      <td>...</td>\n      <td>...</td>\n      <td>...</td>\n      <td>...</td>\n      <td>...</td>\n      <td>...</td>\n      <td>...</td>\n      <td>...</td>\n      <td>...</td>\n      <td>...</td>\n      <td>...</td>\n      <td>...</td>\n      <td>...</td>\n    </tr>\n    <tr>\n      <th>22682</th>\n      <td>4342</td>\n      <td>P42771</td>\n      <td>HGNC:1787</td>\n      <td>1029.0</td>\n      <td>CDKN2A</td>\n      <td>4369</td>\n      <td>MEPAAGSSMEPSADWLATAAARGRVEEVRALLEAGALPNAPNSYGR...</td>\n      <td>CDKN2A</td>\n      <td>VAR_058556</td>\n      <td>Thr77Pro</td>\n      <td>...</td>\n      <td>Melanoma, cutaneous malignant 2 (CMM2) [MIM:15...</td>\n      <td>MIM:155601</td>\n      <td>Melanoma, cutaneous malignant 2 (CMM2)</td>\n      <td>(Thr, 77, Pro)</td>\n      <td>Thr</td>\n      <td>Pro</td>\n      <td>77</td>\n      <td>77</td>\n      <td>True</td>\n      <td>T</td>\n    </tr>\n    <tr>\n      <th>22683</th>\n      <td>4342</td>\n      <td>P42771</td>\n      <td>HGNC:1787</td>\n      <td>1029.0</td>\n      <td>CDKN2A</td>\n      <td>4369</td>\n      <td>MEPAAGSSMEPSADWLATAAARGRVEEVRALLEAGALPNAPNSYGR...</td>\n      <td>CDKN2A</td>\n      <td>VAR_058557</td>\n      <td>Arg80Pro</td>\n      <td>...</td>\n      <td>Melanoma, cutaneous malignant 2 (CMM2) [MIM:15...</td>\n      <td>MIM:155601</td>\n      <td>Melanoma, cutaneous malignant 2 (CMM2)</td>\n      <td>(Arg, 80, Pro)</td>\n      <td>Arg</td>\n      <td>Pro</td>\n      <td>80</td>\n      <td>80</td>\n      <td>True</td>\n      <td>R</td>\n    </tr>\n    <tr>\n      <th>22684</th>\n      <td>4342</td>\n      <td>P42771</td>\n      <td>HGNC:1787</td>\n      <td>1029.0</td>\n      <td>CDKN2A</td>\n      <td>4369</td>\n      <td>MEPAAGSSMEPSADWLATAAARGRVEEVRALLEAGALPNAPNSYGR...</td>\n      <td>CDKN2A</td>\n      <td>VAR_058558</td>\n      <td>Pro81Thr</td>\n      <td>...</td>\n      <td>Melanoma, cutaneous malignant 2 (CMM2) [MIM:15...</td>\n      <td>MIM:155601</td>\n      <td>Melanoma, cutaneous malignant 2 (CMM2)</td>\n      <td>(Pro, 81, Thr)</td>\n      <td>Pro</td>\n      <td>Thr</td>\n      <td>81</td>\n      <td>81</td>\n      <td>True</td>\n      <td>P</td>\n    </tr>\n    <tr>\n      <th>22690</th>\n      <td>4347</td>\n      <td>Q5JWF2</td>\n      <td>HGNC:4392</td>\n      <td>2778.0</td>\n      <td>GNAS</td>\n      <td>4369</td>\n      <td>MGVRNCLYGNNMSGQRDIPPEIGEQPEQPPLEAPGAAAPGAGPSPA...</td>\n      <td>GNAS</td>\n      <td>VAR_028777</td>\n      <td>Ala436Asp</td>\n      <td>...</td>\n      <td>GNAS hyperfunction (GNASHYP) [MIM:139320]</td>\n      <td>MIM:139320</td>\n      <td>GNAS hyperfunction (GNASHYP)</td>\n      <td>(Ala, 436, Asp)</td>\n      <td>Ala</td>\n      <td>Asp</td>\n      <td>436</td>\n      <td>436</td>\n      <td>True</td>\n      <td>A</td>\n    </tr>\n    <tr>\n      <th>22691</th>\n      <td>4347</td>\n      <td>Q5JWF2</td>\n      <td>HGNC:4392</td>\n      <td>2778.0</td>\n      <td>GNAS</td>\n      <td>4369</td>\n      <td>MGVRNCLYGNNMSGQRDIPPEIGEQPEQPPLEAPGAAAPGAGPSPA...</td>\n      <td>GNAS</td>\n      <td>VAR_028779</td>\n      <td>Pro459Arg</td>\n      <td>...</td>\n      <td>GNAS hyperfunction (GNASHYP) [MIM:139320]</td>\n      <td>MIM:139320</td>\n      <td>GNAS hyperfunction (GNASHYP)</td>\n      <td>(Pro, 459, Arg)</td>\n      <td>Pro</td>\n      <td>Arg</td>\n      <td>459</td>\n      <td>459</td>\n      <td>True</td>\n      <td>P</td>\n    </tr>\n  </tbody>\n</table>\n<p>11926 rows × 22 columns</p>\n</div>"
     },
     "metadata": {},
     "execution_count": 76
    }
   ],
   "source": [
    "uniprot_llps[uniprot_llps.disease.notnull()] # 11926 entries with a disease annotated"
   ]
  },
  {
   "cell_type": "code",
   "execution_count": 77,
   "metadata": {},
   "outputs": [
    {
     "output_type": "execute_result",
     "data": {
      "text/plain": [
       "Index(['id_protein', 'uniprot_acc', 'hgnc_id', 'gene_id', 'gene_name_x',\n",
       "       'length', 'sequence', 'gene_name_y', 'ft_id', 'change', 'category',\n",
       "       'snp_id', 'disease_name', 'mim', 'disease', 'aux', 'from_aa', 'to_aa',\n",
       "       'start_aa', 'end_aa', 'ctrl', 'aa_ctrl'],\n",
       "      dtype='object')"
      ]
     },
     "metadata": {},
     "execution_count": 77
    }
   ],
   "source": [
    "uniprot_llps.columns"
   ]
  },
  {
   "cell_type": "code",
   "execution_count": 85,
   "metadata": {},
   "outputs": [
    {
     "output_type": "execute_result",
     "data": {
      "text/plain": [
       "      gene_name_x disease_name              aux  ctrl aa_ctrl\n",
       "3           RBM47            -  (Met, 565, Val)  True       M\n",
       "4           RBM47            -  (Gly, 538, Arg)  True       G\n",
       "5           ESYT2            -  (Cys, 210, Ser)  True       C\n",
       "6           ESYT2            -  (Ser, 638, Gly)  True       S\n",
       "7           ESYT3            -  (Pro, 246, Gln)  True       P\n",
       "...           ...          ...              ...   ...     ...\n",
       "22703      CDKN2A            -  (Gly, 116, Asp)  True       G\n",
       "22713       AKAP7            -   (Glu, 26, Lys)  True       E\n",
       "22714       AKAP7            -  (Ser, 215, Asn)  True       S\n",
       "22715       NRXN1            -  (Tyr, 400, Asn)  True       Y\n",
       "22716       NRXN1            -   (Gly, 28, Ala)  True       G\n",
       "\n",
       "[21246 rows x 5 columns]"
      ],
      "text/html": "<div>\n<style scoped>\n    .dataframe tbody tr th:only-of-type {\n        vertical-align: middle;\n    }\n\n    .dataframe tbody tr th {\n        vertical-align: top;\n    }\n\n    .dataframe thead th {\n        text-align: right;\n    }\n</style>\n<table border=\"1\" class=\"dataframe\">\n  <thead>\n    <tr style=\"text-align: right;\">\n      <th></th>\n      <th>gene_name_x</th>\n      <th>disease_name</th>\n      <th>aux</th>\n      <th>ctrl</th>\n      <th>aa_ctrl</th>\n    </tr>\n  </thead>\n  <tbody>\n    <tr>\n      <th>3</th>\n      <td>RBM47</td>\n      <td>-</td>\n      <td>(Met, 565, Val)</td>\n      <td>True</td>\n      <td>M</td>\n    </tr>\n    <tr>\n      <th>4</th>\n      <td>RBM47</td>\n      <td>-</td>\n      <td>(Gly, 538, Arg)</td>\n      <td>True</td>\n      <td>G</td>\n    </tr>\n    <tr>\n      <th>5</th>\n      <td>ESYT2</td>\n      <td>-</td>\n      <td>(Cys, 210, Ser)</td>\n      <td>True</td>\n      <td>C</td>\n    </tr>\n    <tr>\n      <th>6</th>\n      <td>ESYT2</td>\n      <td>-</td>\n      <td>(Ser, 638, Gly)</td>\n      <td>True</td>\n      <td>S</td>\n    </tr>\n    <tr>\n      <th>7</th>\n      <td>ESYT3</td>\n      <td>-</td>\n      <td>(Pro, 246, Gln)</td>\n      <td>True</td>\n      <td>P</td>\n    </tr>\n    <tr>\n      <th>...</th>\n      <td>...</td>\n      <td>...</td>\n      <td>...</td>\n      <td>...</td>\n      <td>...</td>\n    </tr>\n    <tr>\n      <th>22703</th>\n      <td>CDKN2A</td>\n      <td>-</td>\n      <td>(Gly, 116, Asp)</td>\n      <td>True</td>\n      <td>G</td>\n    </tr>\n    <tr>\n      <th>22713</th>\n      <td>AKAP7</td>\n      <td>-</td>\n      <td>(Glu, 26, Lys)</td>\n      <td>True</td>\n      <td>E</td>\n    </tr>\n    <tr>\n      <th>22714</th>\n      <td>AKAP7</td>\n      <td>-</td>\n      <td>(Ser, 215, Asn)</td>\n      <td>True</td>\n      <td>S</td>\n    </tr>\n    <tr>\n      <th>22715</th>\n      <td>NRXN1</td>\n      <td>-</td>\n      <td>(Tyr, 400, Asn)</td>\n      <td>True</td>\n      <td>Y</td>\n    </tr>\n    <tr>\n      <th>22716</th>\n      <td>NRXN1</td>\n      <td>-</td>\n      <td>(Gly, 28, Ala)</td>\n      <td>True</td>\n      <td>G</td>\n    </tr>\n  </tbody>\n</table>\n<p>21246 rows × 5 columns</p>\n</div>"
     },
     "metadata": {},
     "execution_count": 85
    }
   ],
   "source": [
    "uniprot_llps[['gene_name_x', 'disease_name', 'aux', 'ctrl', 'aa_ctrl']]"
   ]
  },
  {
   "cell_type": "code",
   "execution_count": 86,
   "metadata": {},
   "outputs": [],
   "source": [
    "uniprot_llps_mutations = uniprot_llps.drop(columns= ['gene_name_x', 'disease_name', 'aux', 'ctrl', 'aa_ctrl'])\n",
    "uniprot_llps_mutations.rename(columns={'gene_name_y': 'gene_name'}, inplace= True)"
   ]
  },
  {
   "cell_type": "code",
   "execution_count": 88,
   "metadata": {},
   "outputs": [],
   "source": [
    "uniprot_llps_mutations['consequence'] = 'missense'\n",
    "uniprot_llps_mutations['source'] = 'uniprot'"
   ]
  },
  {
   "cell_type": "code",
   "execution_count": 92,
   "metadata": {},
   "outputs": [
    {
     "output_type": "execute_result",
     "data": {
      "text/plain": [
       "       id_protein uniprot_acc    hgnc_id  gene_id  length  \\\n",
       "15525        2259      Q16836  HGNC:4799   3033.0    4369   \n",
       "15526        2259      Q16836  HGNC:4799   3033.0    4369   \n",
       "16331        2471      Q6NVY1  HGNC:4908  26275.0    4369   \n",
       "20478        3651      Q9HCC0  HGNC:6937  64087.0    4369   \n",
       "20479        3651      Q9HCC0  HGNC:6937  64087.0    4369   \n",
       "20480        3651      Q9HCC0  HGNC:6937  64087.0    4369   \n",
       "20481        3651      Q9HCC0  HGNC:6937  64087.0    4369   \n",
       "20477        3651      Q9HCC0  HGNC:6937  64087.0    4369   \n",
       "20482        3651      Q9HCC0  HGNC:6937  64087.0    4369   \n",
       "20484        3651      Q9HCC0  HGNC:6937  64087.0    4369   \n",
       "\n",
       "                                                sequence gene_name  \\\n",
       "15525  MAFVTRQFMRSVSSSSTASASAKKIIVKHVTVIGGGLMGAGIAQVA...      HADH   \n",
       "15526  MAFVTRQFMRSVSSSSTASASAKKIIVKHVTVIGGGLMGAGIAQVA...      HADH   \n",
       "16331  MGQREMWRLMSRFNAFKRTNTILHHLRMSKHTDAAEEVLLEKKGCT...     HIBCH   \n",
       "20478  MWAVLRLALRPCARASPAGPRAYHGDSVASLGTQPDLGSALYQENY...     MCCC2   \n",
       "20479  MWAVLRLALRPCARASPAGPRAYHGDSVASLGTQPDLGSALYQENY...     MCCC2   \n",
       "20480  MWAVLRLALRPCARASPAGPRAYHGDSVASLGTQPDLGSALYQENY...     MCCC2   \n",
       "20481  MWAVLRLALRPCARASPAGPRAYHGDSVASLGTQPDLGSALYQENY...     MCCC2   \n",
       "20477  MWAVLRLALRPCARASPAGPRAYHGDSVASLGTQPDLGSALYQENY...     MCCC2   \n",
       "20482  MWAVLRLALRPCARASPAGPRAYHGDSVASLGTQPDLGSALYQENY...     MCCC2   \n",
       "20484  MWAVLRLALRPCARASPAGPRAYHGDSVASLGTQPDLGSALYQENY...     MCCC2   \n",
       "\n",
       "            ft_id     change category        snp_id         mim  \\\n",
       "15525  VAR_024079   Ala40Thr     LP/P  1.378531e+08  MIM:231530   \n",
       "15526  VAR_024080   Asp57Glu     LP/P  1.378531e+08  MIM:231530   \n",
       "16331  VAR_031870  Tyr122Cys     LP/P  1.219183e+08  MIM:250620   \n",
       "20478  VAR_072518  Ile200Asn       US  1.408067e+08  MIM:210210   \n",
       "20479  VAR_072519  Ala218Val     LP/P  7.604202e+08  MIM:210210   \n",
       "20480  VAR_072520  Gly220Glu     LP/P  1.254750e+09  MIM:210210   \n",
       "20481  VAR_072521  Pro224Leu     LP/P  1.195601e+09  MIM:210210   \n",
       "20477  VAR_072517  Arg193His     LP/P  5.355196e+08  MIM:210210   \n",
       "20482  VAR_072522  Gly237Asp     LP/P           NaN  MIM:210210   \n",
       "20484  VAR_072525  His282Arg     LP/P           NaN  MIM:210210   \n",
       "\n",
       "                                                 disease from_aa to_aa  \\\n",
       "15525  3-alpha-hydroxyacyl-CoA dehydrogenase deficien...     Ala   Thr   \n",
       "15526  3-alpha-hydroxyacyl-CoA dehydrogenase deficien...     Asp   Glu   \n",
       "16331  3-hydroxyisobutryl-CoA hydrolase deficiency (H...     Tyr   Cys   \n",
       "20478  3-methylcrotonoyl-CoA carboxylase 2 deficiency...     Ile   Asn   \n",
       "20479  3-methylcrotonoyl-CoA carboxylase 2 deficiency...     Ala   Val   \n",
       "20480  3-methylcrotonoyl-CoA carboxylase 2 deficiency...     Gly   Glu   \n",
       "20481  3-methylcrotonoyl-CoA carboxylase 2 deficiency...     Pro   Leu   \n",
       "20477  3-methylcrotonoyl-CoA carboxylase 2 deficiency...     Arg   His   \n",
       "20482  3-methylcrotonoyl-CoA carboxylase 2 deficiency...     Gly   Asp   \n",
       "20484  3-methylcrotonoyl-CoA carboxylase 2 deficiency...     His   Arg   \n",
       "\n",
       "      start_aa end_aa consequence   source  \n",
       "15525       40     40    missense  uniprot  \n",
       "15526       57     57    missense  uniprot  \n",
       "16331      122    122    missense  uniprot  \n",
       "20478      200    200    missense  uniprot  \n",
       "20479      218    218    missense  uniprot  \n",
       "20480      220    220    missense  uniprot  \n",
       "20481      224    224    missense  uniprot  \n",
       "20477      193    193    missense  uniprot  \n",
       "20482      237    237    missense  uniprot  \n",
       "20484      282    282    missense  uniprot  "
      ],
      "text/html": "<div>\n<style scoped>\n    .dataframe tbody tr th:only-of-type {\n        vertical-align: middle;\n    }\n\n    .dataframe tbody tr th {\n        vertical-align: top;\n    }\n\n    .dataframe thead th {\n        text-align: right;\n    }\n</style>\n<table border=\"1\" class=\"dataframe\">\n  <thead>\n    <tr style=\"text-align: right;\">\n      <th></th>\n      <th>id_protein</th>\n      <th>uniprot_acc</th>\n      <th>hgnc_id</th>\n      <th>gene_id</th>\n      <th>length</th>\n      <th>sequence</th>\n      <th>gene_name</th>\n      <th>ft_id</th>\n      <th>change</th>\n      <th>category</th>\n      <th>snp_id</th>\n      <th>mim</th>\n      <th>disease</th>\n      <th>from_aa</th>\n      <th>to_aa</th>\n      <th>start_aa</th>\n      <th>end_aa</th>\n      <th>consequence</th>\n      <th>source</th>\n    </tr>\n  </thead>\n  <tbody>\n    <tr>\n      <th>15525</th>\n      <td>2259</td>\n      <td>Q16836</td>\n      <td>HGNC:4799</td>\n      <td>3033.0</td>\n      <td>4369</td>\n      <td>MAFVTRQFMRSVSSSSTASASAKKIIVKHVTVIGGGLMGAGIAQVA...</td>\n      <td>HADH</td>\n      <td>VAR_024079</td>\n      <td>Ala40Thr</td>\n      <td>LP/P</td>\n      <td>1.378531e+08</td>\n      <td>MIM:231530</td>\n      <td>3-alpha-hydroxyacyl-CoA dehydrogenase deficien...</td>\n      <td>Ala</td>\n      <td>Thr</td>\n      <td>40</td>\n      <td>40</td>\n      <td>missense</td>\n      <td>uniprot</td>\n    </tr>\n    <tr>\n      <th>15526</th>\n      <td>2259</td>\n      <td>Q16836</td>\n      <td>HGNC:4799</td>\n      <td>3033.0</td>\n      <td>4369</td>\n      <td>MAFVTRQFMRSVSSSSTASASAKKIIVKHVTVIGGGLMGAGIAQVA...</td>\n      <td>HADH</td>\n      <td>VAR_024080</td>\n      <td>Asp57Glu</td>\n      <td>LP/P</td>\n      <td>1.378531e+08</td>\n      <td>MIM:231530</td>\n      <td>3-alpha-hydroxyacyl-CoA dehydrogenase deficien...</td>\n      <td>Asp</td>\n      <td>Glu</td>\n      <td>57</td>\n      <td>57</td>\n      <td>missense</td>\n      <td>uniprot</td>\n    </tr>\n    <tr>\n      <th>16331</th>\n      <td>2471</td>\n      <td>Q6NVY1</td>\n      <td>HGNC:4908</td>\n      <td>26275.0</td>\n      <td>4369</td>\n      <td>MGQREMWRLMSRFNAFKRTNTILHHLRMSKHTDAAEEVLLEKKGCT...</td>\n      <td>HIBCH</td>\n      <td>VAR_031870</td>\n      <td>Tyr122Cys</td>\n      <td>LP/P</td>\n      <td>1.219183e+08</td>\n      <td>MIM:250620</td>\n      <td>3-hydroxyisobutryl-CoA hydrolase deficiency (H...</td>\n      <td>Tyr</td>\n      <td>Cys</td>\n      <td>122</td>\n      <td>122</td>\n      <td>missense</td>\n      <td>uniprot</td>\n    </tr>\n    <tr>\n      <th>20478</th>\n      <td>3651</td>\n      <td>Q9HCC0</td>\n      <td>HGNC:6937</td>\n      <td>64087.0</td>\n      <td>4369</td>\n      <td>MWAVLRLALRPCARASPAGPRAYHGDSVASLGTQPDLGSALYQENY...</td>\n      <td>MCCC2</td>\n      <td>VAR_072518</td>\n      <td>Ile200Asn</td>\n      <td>US</td>\n      <td>1.408067e+08</td>\n      <td>MIM:210210</td>\n      <td>3-methylcrotonoyl-CoA carboxylase 2 deficiency...</td>\n      <td>Ile</td>\n      <td>Asn</td>\n      <td>200</td>\n      <td>200</td>\n      <td>missense</td>\n      <td>uniprot</td>\n    </tr>\n    <tr>\n      <th>20479</th>\n      <td>3651</td>\n      <td>Q9HCC0</td>\n      <td>HGNC:6937</td>\n      <td>64087.0</td>\n      <td>4369</td>\n      <td>MWAVLRLALRPCARASPAGPRAYHGDSVASLGTQPDLGSALYQENY...</td>\n      <td>MCCC2</td>\n      <td>VAR_072519</td>\n      <td>Ala218Val</td>\n      <td>LP/P</td>\n      <td>7.604202e+08</td>\n      <td>MIM:210210</td>\n      <td>3-methylcrotonoyl-CoA carboxylase 2 deficiency...</td>\n      <td>Ala</td>\n      <td>Val</td>\n      <td>218</td>\n      <td>218</td>\n      <td>missense</td>\n      <td>uniprot</td>\n    </tr>\n    <tr>\n      <th>20480</th>\n      <td>3651</td>\n      <td>Q9HCC0</td>\n      <td>HGNC:6937</td>\n      <td>64087.0</td>\n      <td>4369</td>\n      <td>MWAVLRLALRPCARASPAGPRAYHGDSVASLGTQPDLGSALYQENY...</td>\n      <td>MCCC2</td>\n      <td>VAR_072520</td>\n      <td>Gly220Glu</td>\n      <td>LP/P</td>\n      <td>1.254750e+09</td>\n      <td>MIM:210210</td>\n      <td>3-methylcrotonoyl-CoA carboxylase 2 deficiency...</td>\n      <td>Gly</td>\n      <td>Glu</td>\n      <td>220</td>\n      <td>220</td>\n      <td>missense</td>\n      <td>uniprot</td>\n    </tr>\n    <tr>\n      <th>20481</th>\n      <td>3651</td>\n      <td>Q9HCC0</td>\n      <td>HGNC:6937</td>\n      <td>64087.0</td>\n      <td>4369</td>\n      <td>MWAVLRLALRPCARASPAGPRAYHGDSVASLGTQPDLGSALYQENY...</td>\n      <td>MCCC2</td>\n      <td>VAR_072521</td>\n      <td>Pro224Leu</td>\n      <td>LP/P</td>\n      <td>1.195601e+09</td>\n      <td>MIM:210210</td>\n      <td>3-methylcrotonoyl-CoA carboxylase 2 deficiency...</td>\n      <td>Pro</td>\n      <td>Leu</td>\n      <td>224</td>\n      <td>224</td>\n      <td>missense</td>\n      <td>uniprot</td>\n    </tr>\n    <tr>\n      <th>20477</th>\n      <td>3651</td>\n      <td>Q9HCC0</td>\n      <td>HGNC:6937</td>\n      <td>64087.0</td>\n      <td>4369</td>\n      <td>MWAVLRLALRPCARASPAGPRAYHGDSVASLGTQPDLGSALYQENY...</td>\n      <td>MCCC2</td>\n      <td>VAR_072517</td>\n      <td>Arg193His</td>\n      <td>LP/P</td>\n      <td>5.355196e+08</td>\n      <td>MIM:210210</td>\n      <td>3-methylcrotonoyl-CoA carboxylase 2 deficiency...</td>\n      <td>Arg</td>\n      <td>His</td>\n      <td>193</td>\n      <td>193</td>\n      <td>missense</td>\n      <td>uniprot</td>\n    </tr>\n    <tr>\n      <th>20482</th>\n      <td>3651</td>\n      <td>Q9HCC0</td>\n      <td>HGNC:6937</td>\n      <td>64087.0</td>\n      <td>4369</td>\n      <td>MWAVLRLALRPCARASPAGPRAYHGDSVASLGTQPDLGSALYQENY...</td>\n      <td>MCCC2</td>\n      <td>VAR_072522</td>\n      <td>Gly237Asp</td>\n      <td>LP/P</td>\n      <td>NaN</td>\n      <td>MIM:210210</td>\n      <td>3-methylcrotonoyl-CoA carboxylase 2 deficiency...</td>\n      <td>Gly</td>\n      <td>Asp</td>\n      <td>237</td>\n      <td>237</td>\n      <td>missense</td>\n      <td>uniprot</td>\n    </tr>\n    <tr>\n      <th>20484</th>\n      <td>3651</td>\n      <td>Q9HCC0</td>\n      <td>HGNC:6937</td>\n      <td>64087.0</td>\n      <td>4369</td>\n      <td>MWAVLRLALRPCARASPAGPRAYHGDSVASLGTQPDLGSALYQENY...</td>\n      <td>MCCC2</td>\n      <td>VAR_072525</td>\n      <td>His282Arg</td>\n      <td>LP/P</td>\n      <td>NaN</td>\n      <td>MIM:210210</td>\n      <td>3-methylcrotonoyl-CoA carboxylase 2 deficiency...</td>\n      <td>His</td>\n      <td>Arg</td>\n      <td>282</td>\n      <td>282</td>\n      <td>missense</td>\n      <td>uniprot</td>\n    </tr>\n  </tbody>\n</table>\n</div>"
     },
     "metadata": {},
     "execution_count": 92
    }
   ],
   "source": [
    "# Final table\n",
    "uniprot_llps_mutations.sort_values('disease').head(10)"
   ]
  },
  {
   "cell_type": "code",
   "execution_count": 94,
   "metadata": {},
   "outputs": [
    {
     "output_type": "stream",
     "name": "stdout",
     "text": [
      "<class 'pandas.core.frame.DataFrame'>\nInt64Index: 21246 entries, 3 to 22716\nData columns (total 19 columns):\n #   Column       Non-Null Count  Dtype  \n---  ------       --------------  -----  \n 0   id_protein   21246 non-null  int64  \n 1   uniprot_acc  21246 non-null  object \n 2   hgnc_id      21242 non-null  object \n 3   gene_id      21230 non-null  float64\n 4   length       21246 non-null  int64  \n 5   sequence     21246 non-null  object \n 6   gene_name    21246 non-null  object \n 7   ft_id        21246 non-null  object \n 8   change       21246 non-null  object \n 9   category     21246 non-null  object \n 10  snp_id       16770 non-null  float64\n 11  mim          9565 non-null   object \n 12  disease      11926 non-null  object \n 13  from_aa      21246 non-null  object \n 14  to_aa        21246 non-null  object \n 15  start_aa     21246 non-null  object \n 16  end_aa       21246 non-null  object \n 17  consequence  21246 non-null  object \n 18  source       21246 non-null  object \ndtypes: float64(2), int64(2), object(15)\nmemory usage: 3.7+ MB\n"
     ]
    }
   ],
   "source": [
    "uniprot_llps_mutations.info()"
   ]
  },
  {
   "cell_type": "code",
   "execution_count": 107,
   "metadata": {},
   "outputs": [
    {
     "output_type": "execute_result",
     "data": {
      "text/plain": [
       "225"
      ]
     },
     "metadata": {},
     "execution_count": 107
    }
   ],
   "source": [
    "(uniprot_llps_mutations[uniprot_llps_mutations.disease.notnull()].disease.value_counts() > 10).sum()"
   ]
  },
  {
   "cell_type": "code",
   "execution_count": 109,
   "metadata": {},
   "outputs": [
    {
     "output_type": "execute_result",
     "data": {
      "text/plain": [
       "Sporadic cancers                                                                852\n",
       "Hemophilia A (HEMA)                                                             474\n",
       "A sporadic cancer                                                               367\n",
       "A breast cancer sample                                                          221\n",
       "Breast cancer (BC)                                                              198\n",
       "A colorectal cancer sample                                                      153\n",
       "Carbamoyl phosphate synthetase 1 deficiency (CPS1D)                             145\n",
       "Cystic fibrosis (CF)                                                            137\n",
       "Alzheimer disease 3 (AD3)                                                       123\n",
       "Polycystic kidney disease 1 with or without polycystic liver disease (PKD1)     107\n",
       "Hereditary non-polyposis colorectal cancer 2 (HNPCC2)                           107\n",
       "Spastic paraplegia 4, autosomal dominant (SPG4)                                 105\n",
       "Von Hippel-Lindau disease (VHLD)                                                104\n",
       "Pyruvate kinase deficiency of red cells (PKRD)                                  100\n",
       "Polycystic kidney disease 4, with or without polycystic liver disease (PKD4)     99\n",
       "CHARGE syndrome (CHARGES)                                                        86\n",
       "Osteogenesis imperfecta 2 (OI2)                                                  85\n",
       "Li-Fraumeni syndrome (LFS)                                                       83\n",
       "Telangiectasia, hereditary hemorrhagic, 2 (HHT2)                                 82\n",
       "Neurofibromatosis 1 (NF1)                                                        81\n",
       "Name: disease, dtype: int64"
      ]
     },
     "metadata": {},
     "execution_count": 109
    }
   ],
   "source": [
    "uniprot_llps_mutations[uniprot_llps_mutations.disease.notnull()].disease.value_counts()[:20]"
   ]
  },
  {
   "source": [
    "## Save"
   ],
   "cell_type": "markdown",
   "metadata": {}
  },
  {
   "cell_type": "code",
   "execution_count": 93,
   "metadata": {},
   "outputs": [],
   "source": [
    "uniprot_llps_mutations.to_csv('datasets/uniprot_all_proteins_mutations.csv', index= False)"
   ]
  }
 ]
}