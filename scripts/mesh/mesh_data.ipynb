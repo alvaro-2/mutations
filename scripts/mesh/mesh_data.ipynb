{
 "cells": [
  {
   "cell_type": "markdown",
   "metadata": {},
   "source": [
    "# Intention: cuantas proteinas de LLPS estan asociadas a cada enfermedad?"
   ]
  },
  {
   "cell_type": "code",
   "execution_count": 1,
   "metadata": {},
   "outputs": [],
   "source": [
    "import pandas as pd\n",
    "import matplotlib.pyplot as plt\n",
    "from matplotlib_venn import venn2,venn2_unweighted, venn3, venn3_circles\n",
    "import seaborn as sns\n",
    "import re"
   ]
  },
  {
   "cell_type": "code",
   "execution_count": 2,
   "metadata": {},
   "outputs": [
    {
     "data": {
      "text/plain": [
       "'/home/alvaro/Documents/mutations/scripts/mesh'"
      ]
     },
     "execution_count": 2,
     "metadata": {},
     "output_type": "execute_result"
    }
   ],
   "source": [
    "import os\n",
    "os.getcwd()"
   ]
  },
  {
   "cell_type": "code",
   "execution_count": 3,
   "metadata": {},
   "outputs": [],
   "source": [
    "# Tables from DisPhase\n",
    "cross_reference= pd.read_csv('../../db_tables/cross_reference.tsv', sep= '\\t')\n",
    "disease_has_synonyms = pd.read_csv('../../db_tables/disease_has_synonyms.tsv', sep= '\\t')\n",
    "disease = pd.read_csv('../../db_tables/disease.tsv', sep= '\\t')\n",
    "mutation_has_disease = pd.read_csv('../../db_tables/mutation_has_disease.tsv', sep= '\\t')"
   ]
  },
  {
   "cell_type": "code",
   "execution_count": 4,
   "metadata": {},
   "outputs": [],
   "source": [
    "protein = pd.read_csv('../../db_tables/protein.tsv', sep= '\\t')"
   ]
  },
  {
   "cell_type": "code",
   "execution_count": 5,
   "metadata": {},
   "outputs": [
    {
     "name": "stderr",
     "output_type": "stream",
     "text": [
      "/home/alvaro/miniconda3/envs/alvenv/lib/python3.7/site-packages/IPython/core/interactiveshell.py:3417: DtypeWarning: Columns (1) have mixed types.Specify dtype option on import or set low_memory=False.\n",
      "  exec(code_obj, self.user_global_ns, self.user_ns)\n"
     ]
    }
   ],
   "source": [
    "mutation = pd.read_csv('../../db_tables/mutation_new.tsv.gz', sep= '\\t', compression= 'gzip')"
   ]
  },
  {
   "cell_type": "code",
   "execution_count": 6,
   "metadata": {},
   "outputs": [],
   "source": [
    "# Diseases from DisPhase with cross references\n",
    "disease_has_synonyms = disease_has_synonyms.merge(cross_reference).drop(columns='id_cross')"
   ]
  },
  {
   "cell_type": "code",
   "execution_count": 7,
   "metadata": {},
   "outputs": [],
   "source": [
    "# Mutations with their diseases\n",
    "mutation_has_disease = mutation_has_disease.merge(disease)"
   ]
  },
  {
   "cell_type": "code",
   "execution_count": 8,
   "metadata": {},
   "outputs": [
    {
     "data": {
      "text/plain": [
       "1560239    296\n",
       "1560237    246\n",
       "1169031    243\n",
       "151020     194\n",
       "151032     184\n",
       "          ... \n",
       "584429       1\n",
       "584336       1\n",
       "584198       1\n",
       "584196       1\n",
       "1560377      1\n",
       "Name: id_mutation, Length: 1597034, dtype: int64"
      ]
     },
     "execution_count": 8,
     "metadata": {},
     "output_type": "execute_result"
    }
   ],
   "source": [
    "mutation_has_disease.id_mutation.value_counts()"
   ]
  },
  {
   "cell_type": "code",
   "execution_count": 9,
   "metadata": {},
   "outputs": [
    {
     "data": {
      "text/html": [
       "<div>\n",
       "<style scoped>\n",
       "    .dataframe tbody tr th:only-of-type {\n",
       "        vertical-align: middle;\n",
       "    }\n",
       "\n",
       "    .dataframe tbody tr th {\n",
       "        vertical-align: top;\n",
       "    }\n",
       "\n",
       "    .dataframe thead th {\n",
       "        text-align: right;\n",
       "    }\n",
       "</style>\n",
       "<table border=\"1\" class=\"dataframe\">\n",
       "  <thead>\n",
       "    <tr style=\"text-align: right;\">\n",
       "      <th></th>\n",
       "      <th>ui</th>\n",
       "      <th>mesh_name</th>\n",
       "      <th>tree</th>\n",
       "    </tr>\n",
       "  </thead>\n",
       "  <tbody>\n",
       "    <tr>\n",
       "      <th>0</th>\n",
       "      <td>D000001</td>\n",
       "      <td>Calcimycin</td>\n",
       "      <td>D03.633.100.221.173</td>\n",
       "    </tr>\n",
       "    <tr>\n",
       "      <th>1</th>\n",
       "      <td>D000002</td>\n",
       "      <td>Temefos</td>\n",
       "      <td>D02.705.400.625.800,D02.705.539.345.800,D02.88...</td>\n",
       "    </tr>\n",
       "    <tr>\n",
       "      <th>2</th>\n",
       "      <td>D000003</td>\n",
       "      <td>Abattoirs</td>\n",
       "      <td>J01.576.423.200.700.100,J03.540.020</td>\n",
       "    </tr>\n",
       "    <tr>\n",
       "      <th>3</th>\n",
       "      <td>D000004</td>\n",
       "      <td>Abbreviations as Topic</td>\n",
       "      <td>L01.559.598.400.556.131</td>\n",
       "    </tr>\n",
       "    <tr>\n",
       "      <th>4</th>\n",
       "      <td>D000005</td>\n",
       "      <td>Abdomen</td>\n",
       "      <td>A01.923.047</td>\n",
       "    </tr>\n",
       "    <tr>\n",
       "      <th>...</th>\n",
       "      <td>...</td>\n",
       "      <td>...</td>\n",
       "      <td>...</td>\n",
       "    </tr>\n",
       "    <tr>\n",
       "      <th>29911</th>\n",
       "      <td>D066309</td>\n",
       "      <td>Public Service Announcement</td>\n",
       "      <td>V02.736</td>\n",
       "    </tr>\n",
       "    <tr>\n",
       "      <th>29912</th>\n",
       "      <td>D066310</td>\n",
       "      <td>Digital Divide</td>\n",
       "      <td>L01.143.230.500</td>\n",
       "    </tr>\n",
       "    <tr>\n",
       "      <th>29913</th>\n",
       "      <td>D066328</td>\n",
       "      <td>Ventral Striatum</td>\n",
       "      <td>A08.186.211.200.885.287.249.487.775</td>\n",
       "    </tr>\n",
       "    <tr>\n",
       "      <th>29914</th>\n",
       "      <td>D066329</td>\n",
       "      <td>Protein Aggregates</td>\n",
       "      <td>D05.875</td>\n",
       "    </tr>\n",
       "    <tr>\n",
       "      <th>29915</th>\n",
       "      <td>D066330</td>\n",
       "      <td>Printing, Three-Dimensional</td>\n",
       "      <td>J01.897.564,L01.224.108.150.500,L01.296.110.15...</td>\n",
       "    </tr>\n",
       "  </tbody>\n",
       "</table>\n",
       "<p>29916 rows × 3 columns</p>\n",
       "</div>"
      ],
      "text/plain": [
       "            ui                    mesh_name  \\\n",
       "0      D000001                   Calcimycin   \n",
       "1      D000002                      Temefos   \n",
       "2      D000003                    Abattoirs   \n",
       "3      D000004       Abbreviations as Topic   \n",
       "4      D000005                      Abdomen   \n",
       "...        ...                          ...   \n",
       "29911  D066309  Public Service Announcement   \n",
       "29912  D066310               Digital Divide   \n",
       "29913  D066328             Ventral Striatum   \n",
       "29914  D066329           Protein Aggregates   \n",
       "29915  D066330  Printing, Three-Dimensional   \n",
       "\n",
       "                                                    tree  \n",
       "0                                    D03.633.100.221.173  \n",
       "1      D02.705.400.625.800,D02.705.539.345.800,D02.88...  \n",
       "2                    J01.576.423.200.700.100,J03.540.020  \n",
       "3                                L01.559.598.400.556.131  \n",
       "4                                            A01.923.047  \n",
       "...                                                  ...  \n",
       "29911                                            V02.736  \n",
       "29912                                    L01.143.230.500  \n",
       "29913                A08.186.211.200.885.287.249.487.775  \n",
       "29914                                            D05.875  \n",
       "29915  J01.897.564,L01.224.108.150.500,L01.296.110.15...  \n",
       "\n",
       "[29916 rows x 3 columns]"
      ]
     },
     "execution_count": 9,
     "metadata": {},
     "output_type": "execute_result"
    }
   ],
   "source": [
    "# MeSH data with ui identifiers\n",
    "# Downloaded from https://nlmpubs.nlm.nih.gov/projects/mesh/MESH_FILES/\n",
    "# and preprocessed in scripts/mesh/01_clean_mesh.pl\n",
    "mesh_df = pd.read_csv('../../raw_data/d2021_processed.tsv', sep='\\t').drop(columns= 'cross_reference') # these are not cross ref\n",
    "mesh_df"
   ]
  },
  {
   "cell_type": "code",
   "execution_count": 10,
   "metadata": {},
   "outputs": [
    {
     "data": {
      "text/plain": [
       "1009                        Oxysterols\n",
       "16254               Trypanosoma lewisi\n",
       "4003                    Benzimidazoles\n",
       "20952             Photoaffinity Labels\n",
       "29158    Junctional Adhesion Molecules\n",
       "17451                         Djibouti\n",
       "170               Late Onset Disorders\n",
       "6909            Electrophoresis, Paper\n",
       "17215                 Zona Glomerulosa\n",
       "8933                        Homozygote\n",
       "Name: mesh_name, dtype: object"
      ]
     },
     "execution_count": 10,
     "metadata": {},
     "output_type": "execute_result"
    }
   ],
   "source": [
    "mesh_df.mesh_name.sample(10)"
   ]
  },
  {
   "cell_type": "markdown",
   "metadata": {},
   "source": [
    "## venn diagram - to see how much terms from different ontologies overlaps"
   ]
  },
  {
   "cell_type": "code",
   "execution_count": 11,
   "metadata": {},
   "outputs": [
    {
     "data": {
      "text/plain": [
       "SNOMEDCT_US        15051\n",
       "MSH                11436\n",
       "OMIM               10893\n",
       "NCI                 6991\n",
       "CHV                 5346\n",
       "                   ...  \n",
       "NCI_CDISC-GLOSS        1\n",
       "PNDS                   1\n",
       "HL7V2.5                1\n",
       "MTHICPC2ICD10AE        1\n",
       "NCI_GAIA               1\n",
       "Name: cross_name, Length: 84, dtype: int64"
      ]
     },
     "execution_count": 11,
     "metadata": {},
     "output_type": "execute_result"
    }
   ],
   "source": [
    "disease_has_synonyms.cross_name.value_counts()"
   ]
  },
  {
   "cell_type": "code",
   "execution_count": 12,
   "metadata": {},
   "outputs": [],
   "source": [
    "cui_mesh = set(disease_has_synonyms[disease_has_synonyms.cross_name == \"MSH\"].cui)\n",
    "cui_snomed = set(disease_has_synonyms[disease_has_synonyms.cross_name == \"SNOMEDCT_US\"].cui)\n",
    "cui_omim = set(disease_has_synonyms[disease_has_synonyms.cross_name == \"OMIM\"].cui)\n",
    "cui_nci = set(disease_has_synonyms[disease_has_synonyms.cross_name == \"NCI\"].cui)\n",
    "cui_chv = set(disease_has_synonyms[disease_has_synonyms.cross_name == \"CHV\"].cui)"
   ]
  },
  {
   "cell_type": "code",
   "execution_count": 13,
   "metadata": {},
   "outputs": [
    {
     "data": {
      "image/png": "[encoded data removed]",
      "text/plain": [
       "<Figure size 576x576 with 2 Axes>"
      ]
     },
     "metadata": {
      "needs_background": "light"
     },
     "output_type": "display_data"
    }
   ],
   "source": [
    "plt.subplots(figsize=(8,8))\n",
    "ax = plt.axes()\n",
    "#ax.set_facecolor(\"white\")\n",
    "plt.axis('off')\n",
    "venn2(subsets= [cui_mesh, cui_snomed], set_labels=[\"MeSH\", \"SNOMEDCT_US\"], alpha= 0.3)\n",
    "plt.title(\"CUI's terms overlap\", size=16)\n",
    "plt.show()"
   ]
  },
  {
   "cell_type": "code",
   "execution_count": 14,
   "metadata": {},
   "outputs": [
    {
     "data": {
      "image/png": "[encoded data removed]",
      "text/plain": [
       "<Figure size 576x576 with 2 Axes>"
      ]
     },
     "metadata": {
      "needs_background": "light"
     },
     "output_type": "display_data"
    }
   ],
   "source": [
    "plt.subplots(figsize=(8,8))\n",
    "ax = plt.axes()\n",
    "#ax.set_facecolor(\"white\")\n",
    "ax.axis('off')\n",
    "venn3(subsets= [cui_mesh, cui_snomed, cui_omim], set_labels=[\"MeSH\", \"SNOMEDCT_US\", \"OMIM\"], alpha= 0.3)\n",
    "plt.title(\"CUI's terms overlap\", size=16)\n",
    "plt.show()"
   ]
  },
  {
   "cell_type": "code",
   "execution_count": 15,
   "metadata": {},
   "outputs": [
    {
     "data": {
      "text/plain": [
       "SNOMEDCT_US    15051\n",
       "MSH            11436\n",
       "OMIM           10893\n",
       "NCI             6991\n",
       "CHV             5346\n",
       "RCD             4220\n",
       "MEDCIN          3820\n",
       "MDR             3267\n",
       "SNMI            2527\n",
       "HPO             2426\n",
       "Name: cross_name, dtype: int64"
      ]
     },
     "execution_count": 15,
     "metadata": {},
     "output_type": "execute_result"
    }
   ],
   "source": [
    "disease_has_synonyms.cross_name.value_counts()[:10]"
   ]
  },
  {
   "cell_type": "code",
   "execution_count": 16,
   "metadata": {},
   "outputs": [],
   "source": [
    "#disease_has_synonyms[disease_has_synonyms.cross_name == 'SNOMEDCT_US'].rename(columns= {'code': 'ui'})"
   ]
  },
  {
   "cell_type": "markdown",
   "metadata": {},
   "source": [
    "### Concept Unique Identifiers (CUI)  \n",
    "A concept is a meaning. A meaning can have many different names. A key goal of Metathesaurus construction is to understand the intended meaning of each name in each source vocabulary and to link all the names from all of the source vocabularies that mean the same thing (the synonyms). CUI contain the letter C followed by seven numbers."
   ]
  },
  {
   "cell_type": "code",
   "execution_count": 17,
   "metadata": {},
   "outputs": [
    {
     "data": {
      "text/html": [
       "<div>\n",
       "<style scoped>\n",
       "    .dataframe tbody tr th:only-of-type {\n",
       "        vertical-align: middle;\n",
       "    }\n",
       "\n",
       "    .dataframe tbody tr th {\n",
       "        vertical-align: top;\n",
       "    }\n",
       "\n",
       "    .dataframe thead th {\n",
       "        text-align: right;\n",
       "    }\n",
       "</style>\n",
       "<table border=\"1\" class=\"dataframe\">\n",
       "  <thead>\n",
       "    <tr style=\"text-align: right;\">\n",
       "      <th></th>\n",
       "      <th>id_mutation</th>\n",
       "      <th>cui</th>\n",
       "      <th>disease_name</th>\n",
       "    </tr>\n",
       "  </thead>\n",
       "  <tbody>\n",
       "    <tr>\n",
       "      <th>0</th>\n",
       "      <td>1</td>\n",
       "      <td>C0917800</td>\n",
       "      <td>Epilepsy, Myoclonic, Infantile</td>\n",
       "    </tr>\n",
       "    <tr>\n",
       "      <th>1</th>\n",
       "      <td>2</td>\n",
       "      <td>C0917800</td>\n",
       "      <td>Epilepsy, Myoclonic, Infantile</td>\n",
       "    </tr>\n",
       "    <tr>\n",
       "      <th>2</th>\n",
       "      <td>3</td>\n",
       "      <td>C0917800</td>\n",
       "      <td>Epilepsy, Myoclonic, Infantile</td>\n",
       "    </tr>\n",
       "    <tr>\n",
       "      <th>3</th>\n",
       "      <td>4</td>\n",
       "      <td>C0917800</td>\n",
       "      <td>Epilepsy, Myoclonic, Infantile</td>\n",
       "    </tr>\n",
       "    <tr>\n",
       "      <th>4</th>\n",
       "      <td>5</td>\n",
       "      <td>C0917800</td>\n",
       "      <td>Epilepsy, Myoclonic, Infantile</td>\n",
       "    </tr>\n",
       "  </tbody>\n",
       "</table>\n",
       "</div>"
      ],
      "text/plain": [
       "   id_mutation       cui                    disease_name\n",
       "0            1  C0917800  Epilepsy, Myoclonic, Infantile\n",
       "1            2  C0917800  Epilepsy, Myoclonic, Infantile\n",
       "2            3  C0917800  Epilepsy, Myoclonic, Infantile\n",
       "3            4  C0917800  Epilepsy, Myoclonic, Infantile\n",
       "4            5  C0917800  Epilepsy, Myoclonic, Infantile"
      ]
     },
     "execution_count": 17,
     "metadata": {},
     "output_type": "execute_result"
    }
   ],
   "source": [
    "mutation_has_disease.head()"
   ]
  },
  {
   "cell_type": "code",
   "execution_count": 18,
   "metadata": {},
   "outputs": [
    {
     "data": {
      "text/plain": [
       "Cutaneous Melanoma                         175137\n",
       "Adenocarcinoma of large intestine          142650\n",
       "Endometrial Endometrioid Adenocarcinoma    127794\n",
       "Adenocarcinoma of colon                    106020\n",
       "Adenocarcinoma of lung (disorder)           97628\n",
       "                                            ...  \n",
       "Arnold Chiari Malformation                      1\n",
       "NARCOLEPSY 7                                    1\n",
       "Expressive language delay                       1\n",
       "Cerebral dysmyelination                         1\n",
       "Bladder Sarcoma                                 1\n",
       "Name: disease_name, Length: 4051, dtype: int64"
      ]
     },
     "execution_count": 18,
     "metadata": {},
     "output_type": "execute_result"
    }
   ],
   "source": [
    "mutation_has_disease.disease_name.value_counts()"
   ]
  },
  {
   "cell_type": "code",
   "execution_count": 19,
   "metadata": {},
   "outputs": [
    {
     "data": {
      "text/plain": [
       "<AxesSubplot:>"
      ]
     },
     "execution_count": 19,
     "metadata": {},
     "output_type": "execute_result"
    },
    {
     "data": {
      "image/png": "[encoded data removed]",
      "text/plain": [
       "<Figure size 576x576 with 1 Axes>"
      ]
     },
     "metadata": {
      "needs_background": "light"
     },
     "output_type": "display_data"
    }
   ],
   "source": [
    "plt.subplots(figsize= (8,8))\n",
    "mutation_has_disease.disease_name.value_counts()[:20].plot(kind= 'barh', color= 'green')"
   ]
  },
  {
   "cell_type": "markdown",
   "metadata": {},
   "source": [
    "### Paint each bar by mutation source"
   ]
  },
  {
   "cell_type": "code",
   "execution_count": 20,
   "metadata": {},
   "outputs": [],
   "source": [
    "mutation_has_source = pd.read_csv('../../db_tables/mutation_has_source_new.tsv', sep= '\\t').merge(\n",
    "    pd.read_csv('../../db_tables/source.tsv', sep= '\\t')\n",
    ")"
   ]
  },
  {
   "cell_type": "code",
   "execution_count": 40,
   "metadata": {},
   "outputs": [
    {
     "data": {
      "text/plain": [
       "1660059"
      ]
     },
     "execution_count": 40,
     "metadata": {},
     "output_type": "execute_result"
    }
   ],
   "source": [
    "mutation_has_source.id_mutation.nunique()"
   ]
  },
  {
   "cell_type": "code",
   "execution_count": 41,
   "metadata": {},
   "outputs": [
    {
     "data": {
      "text/html": [
       "<div>\n",
       "<style scoped>\n",
       "    .dataframe tbody tr th:only-of-type {\n",
       "        vertical-align: middle;\n",
       "    }\n",
       "\n",
       "    .dataframe tbody tr th {\n",
       "        vertical-align: top;\n",
       "    }\n",
       "\n",
       "    .dataframe thead th {\n",
       "        text-align: right;\n",
       "    }\n",
       "</style>\n",
       "<table border=\"1\" class=\"dataframe\">\n",
       "  <thead>\n",
       "    <tr style=\"text-align: right;\">\n",
       "      <th></th>\n",
       "      <th>id_mutation</th>\n",
       "      <th>cui</th>\n",
       "      <th>disease_name</th>\n",
       "      <th>source</th>\n",
       "    </tr>\n",
       "  </thead>\n",
       "  <tbody>\n",
       "    <tr>\n",
       "      <th>0</th>\n",
       "      <td>1</td>\n",
       "      <td>C0917800</td>\n",
       "      <td>Epilepsy, Myoclonic, Infantile</td>\n",
       "      <td>clinvar</td>\n",
       "    </tr>\n",
       "    <tr>\n",
       "      <th>1</th>\n",
       "      <td>2</td>\n",
       "      <td>C0917800</td>\n",
       "      <td>Epilepsy, Myoclonic, Infantile</td>\n",
       "      <td>clinvar</td>\n",
       "    </tr>\n",
       "    <tr>\n",
       "      <th>2</th>\n",
       "      <td>3</td>\n",
       "      <td>C0917800</td>\n",
       "      <td>Epilepsy, Myoclonic, Infantile</td>\n",
       "      <td>clinvar</td>\n",
       "    </tr>\n",
       "    <tr>\n",
       "      <th>3</th>\n",
       "      <td>4</td>\n",
       "      <td>C0917800</td>\n",
       "      <td>Epilepsy, Myoclonic, Infantile</td>\n",
       "      <td>clinvar</td>\n",
       "    </tr>\n",
       "    <tr>\n",
       "      <th>4</th>\n",
       "      <td>5</td>\n",
       "      <td>C0917800</td>\n",
       "      <td>Epilepsy, Myoclonic, Infantile</td>\n",
       "      <td>clinvar</td>\n",
       "    </tr>\n",
       "  </tbody>\n",
       "</table>\n",
       "</div>"
      ],
      "text/plain": [
       "   id_mutation       cui                    disease_name   source\n",
       "0            1  C0917800  Epilepsy, Myoclonic, Infantile  clinvar\n",
       "1            2  C0917800  Epilepsy, Myoclonic, Infantile  clinvar\n",
       "2            3  C0917800  Epilepsy, Myoclonic, Infantile  clinvar\n",
       "3            4  C0917800  Epilepsy, Myoclonic, Infantile  clinvar\n",
       "4            5  C0917800  Epilepsy, Myoclonic, Infantile  clinvar"
      ]
     },
     "execution_count": 41,
     "metadata": {},
     "output_type": "execute_result"
    }
   ],
   "source": [
    "mut_dis_source = mutation_has_disease.merge(mutation_has_source[['id_mutation', 'source']], how='left')\n",
    "mut_dis_source.head()"
   ]
  },
  {
   "cell_type": "code",
   "execution_count": 37,
   "metadata": {},
   "outputs": [
    {
     "data": {
      "text/plain": [
       "989690"
      ]
     },
     "execution_count": 37,
     "metadata": {},
     "output_type": "execute_result"
    }
   ],
   "source": [
    "mut_dis_source.id_mutation.duplicated().sum()"
   ]
  },
  {
   "cell_type": "code",
   "execution_count": 38,
   "metadata": {},
   "outputs": [
    {
     "data": {
      "text/plain": [
       "1597034"
      ]
     },
     "execution_count": 38,
     "metadata": {},
     "output_type": "execute_result"
    }
   ],
   "source": [
    "mut_dis_source.shape[0] - mut_dis_source.id_mutation.duplicated().sum()"
   ]
  },
  {
   "cell_type": "code",
   "execution_count": 22,
   "metadata": {},
   "outputs": [
    {
     "data": {
      "text/plain": [
       "cosmic      1819481\n",
       "disgenet     401726\n",
       "clinvar      311358\n",
       "uniprot       54159\n",
       "Name: source, dtype: int64"
      ]
     },
     "execution_count": 22,
     "metadata": {},
     "output_type": "execute_result"
    }
   ],
   "source": [
    "mut_dis_source.source.value_counts()"
   ]
  },
  {
   "cell_type": "code",
   "execution_count": 23,
   "metadata": {},
   "outputs": [],
   "source": [
    "diseases_by_source = mut_dis_source.pivot_table(columns= 'source', index='disease_name', aggfunc='size')#.sort_values()[:10].plot.barh(stacked= True)"
   ]
  },
  {
   "cell_type": "code",
   "execution_count": 24,
   "metadata": {},
   "outputs": [],
   "source": [
    "diseases_by_source['suma'] = diseases_by_source.sum(1)"
   ]
  },
  {
   "cell_type": "code",
   "execution_count": 25,
   "metadata": {},
   "outputs": [
    {
     "data": {
      "image/png": "[encoded data removed]",
      "text/html": [
       "<div style=\"vertical-align: middle;\"><strong>Set2</strong> </div><div class=\"cmap\"><img alt=\"Set2 colormap\" title=\"Set2\" style=\"border: 1px solid #555;\" src=\"data:image/png;base64,iVBORw0KGgoAAAANSUhEUgAAAgAAAABACAYAAABsv8+/AAAAE3RFWHRUaXRsZQBTZXQyIGNvbG9ybWFw8Jt8/wAAABl0RVh0RGVzY3JpcHRpb24AU2V0MiBjb2xvcm1hcHsp7GcAAAAwdEVYdEF1dGhvcgBNYXRwbG90bGliIHYzLjUuMSwgaHR0cHM6Ly9tYXRwbG90bGliLm9yZ/e3zs8AAAAydEVYdFNvZnR3YXJlAE1hdHBsb3RsaWIgdjMuNS4xLCBodHRwczovL21hdHBsb3RsaWIub3Jn2RFR6AAAAWZJREFUeJzt1qFtAgAUAFFgBQZgIzx4mjAOhg0Yg5BgSVgAX9GK2rp2C7649yY4ecuP++VvEXZ+XKcTRp3Wx+mEUfuv3+mEUbftaTph1G75mk4Y9fl9mE4Y9fzZTCeMWk0HAADvZwAAIMgAAECQAQCAIAMAAEEGAACCDAAABBkAAAgyAAAQZAAAIMgAAECQAQCAIAMAAEEGAACCDAAABBkAAAgyAAAQZAAAIMgAAECQAQCAIAMAAEEGAACCDAAABBkAAAgyAAAQZAAAIMgAAECQAQCAIAMAAEEGAACCDAAABBkAAAgyAAAQZAAAIMgAAECQAQCAIAMAAEEGAACCDAAABBkAAAgyAAAQZAAAIMgAAECQAQCAIAMAAEEGAACCDAAABBkAAAgyAAAQZAAAIMgAAECQAQCAIAMAAEEGAACCDAAABBkAAAgyAAAQZAAAIMgAAECQAQCAIAMAAEEGAACCDAAABP0Dyt0PmA+ixo4AAAAASUVORK5CYII=\"></div><div style=\"vertical-align: middle; max-width: 514px; display: flex; justify-content: space-between;\"><div style=\"float: left;\"><div title=\"#66c2a5ff\" style=\"display: inline-block; width: 1em; height: 1em; margin: 0; vertical-align: middle; border: 1px solid #555; background-color: #66c2a5ff;\"></div> under</div><div style=\"margin: 0 auto; display: inline-block;\">bad <div title=\"#00000000\" style=\"display: inline-block; width: 1em; height: 1em; margin: 0; vertical-align: middle; border: 1px solid #555; background-color: #00000000;\"></div></div><div style=\"float: right;\">over <div title=\"#b3b3b3ff\" style=\"display: inline-block; width: 1em; height: 1em; margin: 0; vertical-align: middle; border: 1px solid #555; background-color: #b3b3b3ff;\"></div></div>"
      ],
      "text/plain": [
       "<matplotlib.colors.ListedColormap at 0x7f66c729fd50>"
      ]
     },
     "execution_count": 25,
     "metadata": {},
     "output_type": "execute_result"
    }
   ],
   "source": [
    "plt.cm.get_cmap('Set2')"
   ]
  },
  {
   "cell_type": "code",
   "execution_count": 26,
   "metadata": {},
   "outputs": [
    {
     "name": "stdout",
     "output_type": "stream",
     "text": [
      "#66c2a5\n",
      "#fc8d62\n",
      "#8da0cb\n",
      "#e78ac3\n",
      "#a6d854\n",
      "#ffd92f\n",
      "#e5c494\n",
      "#b3b3b3\n"
     ]
    }
   ],
   "source": [
    "# Colors for barplot\n",
    "import matplotlib\n",
    "cmap = plt.cm.get_cmap('Set2')\n",
    "\n",
    "for i in range(cmap.N):\n",
    "    rgba = cmap(i)\n",
    "    # rgb2hex accepts rgb or rgba\n",
    "    print(matplotlib.colors.rgb2hex(rgba))"
   ]
  },
  {
   "cell_type": "code",
   "execution_count": 27,
   "metadata": {},
   "outputs": [
    {
     "data": {
      "image/png": "[encoded data removed]",
      "text/plain": [
       "<Figure size 864x576 with 1 Axes>"
      ]
     },
     "metadata": {
      "needs_background": "light"
     },
     "output_type": "display_data"
    }
   ],
   "source": [
    "# Top diseases by source\n",
    "diseases_by_source.sort_values('suma', ascending= False).drop(columns='suma')[:20].iloc[::-1].plot.barh(\n",
    "    stacked= True, figsize= (12,8), color = ['#66c2a5', '#fc8d62', '#8da0cb', '#e78ac3']\n",
    ")\n",
    "plt.title(\"Top diseases by mutation source\", size=16, fontweight='bold')\n",
    "plt.xlabel(\"No. of mutations\")\n",
    "plt.yticks(fontsize= 11)\n",
    "plt.xticks(fontsize= 12)\n",
    "plt.legend(fancybox= True, framealpha=0.5, prop= {'size': 16})\n",
    "plt.tight_layout()\n",
    "#plt.savefig(\"top_diseases_source.png\", dpi= 300, transparent= True)\n",
    "plt.show()"
   ]
  },
  {
   "cell_type": "markdown",
   "metadata": {},
   "source": [
    "### Exclude Cosmic data"
   ]
  },
  {
   "cell_type": "code",
   "execution_count": 28,
   "metadata": {},
   "outputs": [
    {
     "data": {
      "text/plain": [
       "(2586724, 4)"
      ]
     },
     "execution_count": 28,
     "metadata": {},
     "output_type": "execute_result"
    }
   ],
   "source": [
    "mut_dis_source.shape"
   ]
  },
  {
   "cell_type": "code",
   "execution_count": 29,
   "metadata": {},
   "outputs": [],
   "source": [
    "mut_dis_source_nocosmic = mut_dis_source[mut_dis_source.source != 'cosmic']"
   ]
  },
  {
   "cell_type": "code",
   "execution_count": 30,
   "metadata": {},
   "outputs": [
    {
     "data": {
      "text/html": [
       "<div>\n",
       "<style scoped>\n",
       "    .dataframe tbody tr th:only-of-type {\n",
       "        vertical-align: middle;\n",
       "    }\n",
       "\n",
       "    .dataframe tbody tr th {\n",
       "        vertical-align: top;\n",
       "    }\n",
       "\n",
       "    .dataframe thead th {\n",
       "        text-align: right;\n",
       "    }\n",
       "</style>\n",
       "<table border=\"1\" class=\"dataframe\">\n",
       "  <thead>\n",
       "    <tr style=\"text-align: right;\">\n",
       "      <th></th>\n",
       "      <th>id_mutation</th>\n",
       "      <th>cui</th>\n",
       "      <th>disease_name</th>\n",
       "      <th>source</th>\n",
       "    </tr>\n",
       "  </thead>\n",
       "  <tbody>\n",
       "    <tr>\n",
       "      <th>0</th>\n",
       "      <td>1</td>\n",
       "      <td>C0917800</td>\n",
       "      <td>Epilepsy, Myoclonic, Infantile</td>\n",
       "      <td>clinvar</td>\n",
       "    </tr>\n",
       "    <tr>\n",
       "      <th>1</th>\n",
       "      <td>2</td>\n",
       "      <td>C0917800</td>\n",
       "      <td>Epilepsy, Myoclonic, Infantile</td>\n",
       "      <td>clinvar</td>\n",
       "    </tr>\n",
       "    <tr>\n",
       "      <th>2</th>\n",
       "      <td>3</td>\n",
       "      <td>C0917800</td>\n",
       "      <td>Epilepsy, Myoclonic, Infantile</td>\n",
       "      <td>clinvar</td>\n",
       "    </tr>\n",
       "    <tr>\n",
       "      <th>3</th>\n",
       "      <td>4</td>\n",
       "      <td>C0917800</td>\n",
       "      <td>Epilepsy, Myoclonic, Infantile</td>\n",
       "      <td>clinvar</td>\n",
       "    </tr>\n",
       "    <tr>\n",
       "      <th>4</th>\n",
       "      <td>5</td>\n",
       "      <td>C0917800</td>\n",
       "      <td>Epilepsy, Myoclonic, Infantile</td>\n",
       "      <td>clinvar</td>\n",
       "    </tr>\n",
       "    <tr>\n",
       "      <th>...</th>\n",
       "      <td>...</td>\n",
       "      <td>...</td>\n",
       "      <td>...</td>\n",
       "      <td>...</td>\n",
       "    </tr>\n",
       "    <tr>\n",
       "      <th>2586719</th>\n",
       "      <td>217129</td>\n",
       "      <td>C0349666</td>\n",
       "      <td>Bladder Sarcoma</td>\n",
       "      <td>disgenet</td>\n",
       "    </tr>\n",
       "    <tr>\n",
       "      <th>2586720</th>\n",
       "      <td>217129</td>\n",
       "      <td>C0349666</td>\n",
       "      <td>Bladder Sarcoma</td>\n",
       "      <td>disgenet</td>\n",
       "    </tr>\n",
       "    <tr>\n",
       "      <th>2586721</th>\n",
       "      <td>217129</td>\n",
       "      <td>C0349666</td>\n",
       "      <td>Bladder Sarcoma</td>\n",
       "      <td>disgenet</td>\n",
       "    </tr>\n",
       "    <tr>\n",
       "      <th>2586722</th>\n",
       "      <td>217129</td>\n",
       "      <td>C0349666</td>\n",
       "      <td>Bladder Sarcoma</td>\n",
       "      <td>uniprot</td>\n",
       "    </tr>\n",
       "    <tr>\n",
       "      <th>2586723</th>\n",
       "      <td>217129</td>\n",
       "      <td>C0349666</td>\n",
       "      <td>Bladder Sarcoma</td>\n",
       "      <td>uniprot</td>\n",
       "    </tr>\n",
       "  </tbody>\n",
       "</table>\n",
       "<p>767243 rows × 4 columns</p>\n",
       "</div>"
      ],
      "text/plain": [
       "         id_mutation       cui                    disease_name    source\n",
       "0                  1  C0917800  Epilepsy, Myoclonic, Infantile   clinvar\n",
       "1                  2  C0917800  Epilepsy, Myoclonic, Infantile   clinvar\n",
       "2                  3  C0917800  Epilepsy, Myoclonic, Infantile   clinvar\n",
       "3                  4  C0917800  Epilepsy, Myoclonic, Infantile   clinvar\n",
       "4                  5  C0917800  Epilepsy, Myoclonic, Infantile   clinvar\n",
       "...              ...       ...                             ...       ...\n",
       "2586719       217129  C0349666                 Bladder Sarcoma  disgenet\n",
       "2586720       217129  C0349666                 Bladder Sarcoma  disgenet\n",
       "2586721       217129  C0349666                 Bladder Sarcoma  disgenet\n",
       "2586722       217129  C0349666                 Bladder Sarcoma   uniprot\n",
       "2586723       217129  C0349666                 Bladder Sarcoma   uniprot\n",
       "\n",
       "[767243 rows x 4 columns]"
      ]
     },
     "execution_count": 30,
     "metadata": {},
     "output_type": "execute_result"
    }
   ],
   "source": [
    "mut_dis_source_nocosmic"
   ]
  },
  {
   "cell_type": "code",
   "execution_count": 31,
   "metadata": {},
   "outputs": [],
   "source": [
    "mut_source_nocosmic = mut_dis_source_nocosmic.pivot_table(columns= 'source', index='disease_name', aggfunc='size')"
   ]
  },
  {
   "cell_type": "code",
   "execution_count": 32,
   "metadata": {},
   "outputs": [],
   "source": [
    "mut_source_nocosmic['suma'] = mut_source_nocosmic.sum(1)"
   ]
  },
  {
   "cell_type": "code",
   "execution_count": 33,
   "metadata": {},
   "outputs": [
    {
     "data": {
      "text/html": [
       "<div>\n",
       "<style scoped>\n",
       "    .dataframe tbody tr th:only-of-type {\n",
       "        vertical-align: middle;\n",
       "    }\n",
       "\n",
       "    .dataframe tbody tr th {\n",
       "        vertical-align: top;\n",
       "    }\n",
       "\n",
       "    .dataframe thead th {\n",
       "        text-align: right;\n",
       "    }\n",
       "</style>\n",
       "<table border=\"1\" class=\"dataframe\">\n",
       "  <thead>\n",
       "    <tr style=\"text-align: right;\">\n",
       "      <th>source</th>\n",
       "      <th>clinvar</th>\n",
       "      <th>disgenet</th>\n",
       "      <th>uniprot</th>\n",
       "      <th>suma</th>\n",
       "    </tr>\n",
       "    <tr>\n",
       "      <th>disease_name</th>\n",
       "      <th></th>\n",
       "      <th></th>\n",
       "      <th></th>\n",
       "      <th></th>\n",
       "    </tr>\n",
       "  </thead>\n",
       "  <tbody>\n",
       "    <tr>\n",
       "      <th>2,4-Dienoyl-CoA Reductase Deficiency</th>\n",
       "      <td>2.0</td>\n",
       "      <td>NaN</td>\n",
       "      <td>NaN</td>\n",
       "      <td>2.0</td>\n",
       "    </tr>\n",
       "    <tr>\n",
       "      <th>2-methyl-3-hydroxybutyric aciduria</th>\n",
       "      <td>4.0</td>\n",
       "      <td>1.0</td>\n",
       "      <td>NaN</td>\n",
       "      <td>5.0</td>\n",
       "    </tr>\n",
       "    <tr>\n",
       "      <th>3 beta-Hydroxysteroid dehydrogenase deficiency</th>\n",
       "      <td>30.0</td>\n",
       "      <td>10.0</td>\n",
       "      <td>NaN</td>\n",
       "      <td>40.0</td>\n",
       "    </tr>\n",
       "    <tr>\n",
       "      <th>3-@METHYLGLUTACONIC ACIDURIA, TYPE I</th>\n",
       "      <td>36.0</td>\n",
       "      <td>3.0</td>\n",
       "      <td>1.0</td>\n",
       "      <td>40.0</td>\n",
       "    </tr>\n",
       "    <tr>\n",
       "      <th>3-@METHYLGLUTACONIC ACIDURIA, TYPE V</th>\n",
       "      <td>9.0</td>\n",
       "      <td>NaN</td>\n",
       "      <td>NaN</td>\n",
       "      <td>9.0</td>\n",
       "    </tr>\n",
       "    <tr>\n",
       "      <th>...</th>\n",
       "      <td>...</td>\n",
       "      <td>...</td>\n",
       "      <td>...</td>\n",
       "      <td>...</td>\n",
       "    </tr>\n",
       "    <tr>\n",
       "      <th>squamous cell carcinoma of urethra</th>\n",
       "      <td>1.0</td>\n",
       "      <td>25.0</td>\n",
       "      <td>2.0</td>\n",
       "      <td>28.0</td>\n",
       "    </tr>\n",
       "    <tr>\n",
       "      <th>succinic semialdehyde dehydrogenase deficiency</th>\n",
       "      <td>188.0</td>\n",
       "      <td>12.0</td>\n",
       "      <td>9.0</td>\n",
       "      <td>209.0</td>\n",
       "    </tr>\n",
       "    <tr>\n",
       "      <th>synovial sarcoma</th>\n",
       "      <td>13.0</td>\n",
       "      <td>181.0</td>\n",
       "      <td>20.0</td>\n",
       "      <td>214.0</td>\n",
       "    </tr>\n",
       "    <tr>\n",
       "      <th>undifferentiated carcinoma of pancreas</th>\n",
       "      <td>2.0</td>\n",
       "      <td>27.0</td>\n",
       "      <td>2.0</td>\n",
       "      <td>31.0</td>\n",
       "    </tr>\n",
       "    <tr>\n",
       "      <th>yolk sac tumor of mediastinum</th>\n",
       "      <td>12.0</td>\n",
       "      <td>68.0</td>\n",
       "      <td>14.0</td>\n",
       "      <td>94.0</td>\n",
       "    </tr>\n",
       "  </tbody>\n",
       "</table>\n",
       "<p>3838 rows × 4 columns</p>\n",
       "</div>"
      ],
      "text/plain": [
       "source                                          clinvar  disgenet  uniprot  \\\n",
       "disease_name                                                                 \n",
       "2,4-Dienoyl-CoA Reductase Deficiency                2.0       NaN      NaN   \n",
       "2-methyl-3-hydroxybutyric aciduria                  4.0       1.0      NaN   \n",
       "3 beta-Hydroxysteroid dehydrogenase deficiency     30.0      10.0      NaN   \n",
       "3-@METHYLGLUTACONIC ACIDURIA, TYPE I               36.0       3.0      1.0   \n",
       "3-@METHYLGLUTACONIC ACIDURIA, TYPE V                9.0       NaN      NaN   \n",
       "...                                                 ...       ...      ...   \n",
       "squamous cell carcinoma of urethra                  1.0      25.0      2.0   \n",
       "succinic semialdehyde dehydrogenase deficiency    188.0      12.0      9.0   \n",
       "synovial sarcoma                                   13.0     181.0     20.0   \n",
       "undifferentiated carcinoma of pancreas              2.0      27.0      2.0   \n",
       "yolk sac tumor of mediastinum                      12.0      68.0     14.0   \n",
       "\n",
       "source                                           suma  \n",
       "disease_name                                           \n",
       "2,4-Dienoyl-CoA Reductase Deficiency              2.0  \n",
       "2-methyl-3-hydroxybutyric aciduria                5.0  \n",
       "3 beta-Hydroxysteroid dehydrogenase deficiency   40.0  \n",
       "3-@METHYLGLUTACONIC ACIDURIA, TYPE I             40.0  \n",
       "3-@METHYLGLUTACONIC ACIDURIA, TYPE V              9.0  \n",
       "...                                               ...  \n",
       "squamous cell carcinoma of urethra               28.0  \n",
       "succinic semialdehyde dehydrogenase deficiency  209.0  \n",
       "synovial sarcoma                                214.0  \n",
       "undifferentiated carcinoma of pancreas           31.0  \n",
       "yolk sac tumor of mediastinum                    94.0  \n",
       "\n",
       "[3838 rows x 4 columns]"
      ]
     },
     "execution_count": 33,
     "metadata": {},
     "output_type": "execute_result"
    }
   ],
   "source": [
    "mut_source_nocosmic"
   ]
  },
  {
   "cell_type": "code",
   "execution_count": 34,
   "metadata": {},
   "outputs": [
    {
     "data": {
      "image/png": "[encoded data removed]",
      "text/plain": [
       "<Figure size 864x576 with 1 Axes>"
      ]
     },
     "metadata": {
      "needs_background": "light"
     },
     "output_type": "display_data"
    }
   ],
   "source": [
    "sns.set_palette('Set2')\n",
    "mut_source_nocosmic.sort_values('suma', ascending= False).drop(columns='suma')[:20].iloc[::-1].plot.barh(\n",
    "    stacked= True, figsize= (12,8), color = ['#66c2a5', '#8da0cb', '#e78ac3']\n",
    ")\n",
    "plt.title(\"Top diseases by mutation source - excluding Cosmic\", size=16, fontweight='bold')\n",
    "plt.xlabel(\"No. of mutations\")\n",
    "plt.yticks(fontsize= 11)\n",
    "plt.xticks(fontsize= 12)\n",
    "plt.legend(fancybox= True, framealpha=0.5, prop= {'size': 16})\n",
    "plt.tight_layout()\n",
    "#plt.savefig(\"top_diseases_no_cosmic.png\", dpi= 300, transparent= True)\n",
    "plt.show()"
   ]
  },
  {
   "cell_type": "code",
   "execution_count": 37,
   "metadata": {},
   "outputs": [
    {
     "data": {
      "image/png": "[encoded data removed]",
      "text/plain": [
       "<Figure size 1440x576 with 1 Axes>"
      ]
     },
     "metadata": {
      "needs_background": "light"
     },
     "output_type": "display_data"
    },
    {
     "data": {
      "image/png": "[encoded data removed]",
      "text/plain": [
       "<Figure size 576x576 with 1 Axes>"
      ]
     },
     "metadata": {
      "needs_background": "light"
     },
     "output_type": "display_data"
    }
   ],
   "source": [
    "fig, ax = plt.subplots(figsize=(20,8))\n",
    "\n",
    "plt.subplot(1,2,1) # with Cosmic\n",
    "diseases_by_source.sort_values('suma', ascending= False).drop(columns='suma')[:20].plot.barh(stacked= True, figsize= (8,8), color = ['#66c2a5', '#fc8d62', '#8da0cb', '#e78ac3'])\n",
    "plt.title(\"Top diseases by mutation source\", size=16, fontweight='bold')\n",
    "plt.xlabel(\"No. of mutations\")\n",
    "\n",
    "\n",
    "plt.subplot(1,2,2)\n",
    "\n",
    "plt.show()"
   ]
  },
  {
   "cell_type": "markdown",
   "metadata": {},
   "source": [
    "---"
   ]
  },
  {
   "cell_type": "code",
   "execution_count": 97,
   "metadata": {},
   "outputs": [
    {
     "data": {
      "text/html": [
       "<div>\n",
       "<style scoped>\n",
       "    .dataframe tbody tr th:only-of-type {\n",
       "        vertical-align: middle;\n",
       "    }\n",
       "\n",
       "    .dataframe tbody tr th {\n",
       "        vertical-align: top;\n",
       "    }\n",
       "\n",
       "    .dataframe thead th {\n",
       "        text-align: right;\n",
       "    }\n",
       "</style>\n",
       "<table border=\"1\" class=\"dataframe\">\n",
       "  <thead>\n",
       "    <tr style=\"text-align: right;\">\n",
       "      <th></th>\n",
       "      <th>cui</th>\n",
       "      <th>name</th>\n",
       "      <th>code</th>\n",
       "      <th>cross_name</th>\n",
       "    </tr>\n",
       "  </thead>\n",
       "  <tbody>\n",
       "    <tr>\n",
       "      <th>0</th>\n",
       "      <td>C0000772</td>\n",
       "      <td>Multiple congenital anomalies</td>\n",
       "      <td>A90</td>\n",
       "      <td>ICPC</td>\n",
       "    </tr>\n",
       "    <tr>\n",
       "      <th>1</th>\n",
       "      <td>C0000772</td>\n",
       "      <td>Multiple cong anomalies</td>\n",
       "      <td>A90</td>\n",
       "      <td>ICPC</td>\n",
       "    </tr>\n",
       "    <tr>\n",
       "      <th>2</th>\n",
       "      <td>C0001973</td>\n",
       "      <td>Chronic alcohol abuse</td>\n",
       "      <td>P15</td>\n",
       "      <td>ICPC</td>\n",
       "    </tr>\n",
       "    <tr>\n",
       "      <th>3</th>\n",
       "      <td>C0002881</td>\n",
       "      <td>Hereditary hemolytic anemias</td>\n",
       "      <td>B78</td>\n",
       "      <td>ICPC</td>\n",
       "    </tr>\n",
       "    <tr>\n",
       "      <th>4</th>\n",
       "      <td>C0003811</td>\n",
       "      <td>Ectopic beats all types</td>\n",
       "      <td>K80</td>\n",
       "      <td>ICPC</td>\n",
       "    </tr>\n",
       "    <tr>\n",
       "      <th>...</th>\n",
       "      <td>...</td>\n",
       "      <td>...</td>\n",
       "      <td>...</td>\n",
       "      <td>...</td>\n",
       "    </tr>\n",
       "    <tr>\n",
       "      <th>89790</th>\n",
       "      <td>C0878684</td>\n",
       "      <td>SHORT syndrome</td>\n",
       "      <td>30068</td>\n",
       "      <td>DDB</td>\n",
       "    </tr>\n",
       "    <tr>\n",
       "      <th>89791</th>\n",
       "      <td>C1862322</td>\n",
       "      <td>Southeast Asian ovalocytosis</td>\n",
       "      <td>9416</td>\n",
       "      <td>DDB</td>\n",
       "    </tr>\n",
       "    <tr>\n",
       "      <th>89792</th>\n",
       "      <td>C1862322</td>\n",
       "      <td>Melanesian ovalocytosis</td>\n",
       "      <td>9416</td>\n",
       "      <td>DDB</td>\n",
       "    </tr>\n",
       "    <tr>\n",
       "      <th>89793</th>\n",
       "      <td>C1862322</td>\n",
       "      <td>Stomatocytic ovalocytosis</td>\n",
       "      <td>9416</td>\n",
       "      <td>DDB</td>\n",
       "    </tr>\n",
       "    <tr>\n",
       "      <th>89794</th>\n",
       "      <td>C2315100</td>\n",
       "      <td>Failure to Thrive</td>\n",
       "      <td>C113099</td>\n",
       "      <td>NCI_GAIA</td>\n",
       "    </tr>\n",
       "  </tbody>\n",
       "</table>\n",
       "<p>89795 rows × 4 columns</p>\n",
       "</div>"
      ],
      "text/plain": [
       "            cui                           name     code cross_name\n",
       "0      C0000772  Multiple congenital anomalies      A90       ICPC\n",
       "1      C0000772        Multiple cong anomalies      A90       ICPC\n",
       "2      C0001973          Chronic alcohol abuse      P15       ICPC\n",
       "3      C0002881   Hereditary hemolytic anemias      B78       ICPC\n",
       "4      C0003811        Ectopic beats all types      K80       ICPC\n",
       "...         ...                            ...      ...        ...\n",
       "89790  C0878684                 SHORT syndrome    30068        DDB\n",
       "89791  C1862322   Southeast Asian ovalocytosis     9416        DDB\n",
       "89792  C1862322        Melanesian ovalocytosis     9416        DDB\n",
       "89793  C1862322      Stomatocytic ovalocytosis     9416        DDB\n",
       "89794  C2315100              Failure to Thrive  C113099   NCI_GAIA\n",
       "\n",
       "[89795 rows x 4 columns]"
      ]
     },
     "execution_count": 97,
     "metadata": {},
     "output_type": "execute_result"
    }
   ],
   "source": [
    "disease_has_synonyms"
   ]
  },
  {
   "cell_type": "code",
   "execution_count": 73,
   "metadata": {},
   "outputs": [
    {
     "data": {
      "text/html": [
       "<div>\n",
       "<style scoped>\n",
       "    .dataframe tbody tr th:only-of-type {\n",
       "        vertical-align: middle;\n",
       "    }\n",
       "\n",
       "    .dataframe tbody tr th {\n",
       "        vertical-align: top;\n",
       "    }\n",
       "\n",
       "    .dataframe thead th {\n",
       "        text-align: right;\n",
       "    }\n",
       "</style>\n",
       "<table border=\"1\" class=\"dataframe\">\n",
       "  <thead>\n",
       "    <tr style=\"text-align: right;\">\n",
       "      <th></th>\n",
       "      <th>cui</th>\n",
       "      <th>name</th>\n",
       "      <th>ui</th>\n",
       "      <th>cross_name</th>\n",
       "    </tr>\n",
       "  </thead>\n",
       "  <tbody>\n",
       "    <tr>\n",
       "      <th>45380</th>\n",
       "      <td>C0000772</td>\n",
       "      <td>Abnormalities, Multiple</td>\n",
       "      <td>D000015</td>\n",
       "      <td>MSH</td>\n",
       "    </tr>\n",
       "    <tr>\n",
       "      <th>45381</th>\n",
       "      <td>C0000772</td>\n",
       "      <td>Multiple Abnormalities</td>\n",
       "      <td>D000015</td>\n",
       "      <td>MSH</td>\n",
       "    </tr>\n",
       "    <tr>\n",
       "      <th>45382</th>\n",
       "      <td>C0000772</td>\n",
       "      <td>MULTIPLE ABNORM</td>\n",
       "      <td>D000015</td>\n",
       "      <td>MSH</td>\n",
       "    </tr>\n",
       "    <tr>\n",
       "      <th>45383</th>\n",
       "      <td>C0000772</td>\n",
       "      <td>ABNORM MULTIPLE</td>\n",
       "      <td>D000015</td>\n",
       "      <td>MSH</td>\n",
       "    </tr>\n",
       "    <tr>\n",
       "      <th>45384</th>\n",
       "      <td>C0000889</td>\n",
       "      <td>Acanthosis Nigricans</td>\n",
       "      <td>D000052</td>\n",
       "      <td>MSH</td>\n",
       "    </tr>\n",
       "    <tr>\n",
       "      <th>...</th>\n",
       "      <td>...</td>\n",
       "      <td>...</td>\n",
       "      <td>...</td>\n",
       "      <td>...</td>\n",
       "    </tr>\n",
       "    <tr>\n",
       "      <th>56811</th>\n",
       "      <td>C4759774</td>\n",
       "      <td>Scapuloperoneal Myopathy, MYH7 Related</td>\n",
       "      <td>D020389</td>\n",
       "      <td>MSH</td>\n",
       "    </tr>\n",
       "    <tr>\n",
       "      <th>56812</th>\n",
       "      <td>C4759774</td>\n",
       "      <td>MYH7-Related Scapuloperoneal Myopathy</td>\n",
       "      <td>D020389</td>\n",
       "      <td>MSH</td>\n",
       "    </tr>\n",
       "    <tr>\n",
       "      <th>56813</th>\n",
       "      <td>C4759774</td>\n",
       "      <td>Myopathy, MYH7-Related Scapuloperoneal</td>\n",
       "      <td>D020389</td>\n",
       "      <td>MSH</td>\n",
       "    </tr>\n",
       "    <tr>\n",
       "      <th>56814</th>\n",
       "      <td>C4759774</td>\n",
       "      <td>Scapuloperoneal Muscular Dystrophy</td>\n",
       "      <td>D020389</td>\n",
       "      <td>MSH</td>\n",
       "    </tr>\n",
       "    <tr>\n",
       "      <th>56815</th>\n",
       "      <td>C4759774</td>\n",
       "      <td>Muscular Dystrophy, Scapuloperoneal</td>\n",
       "      <td>D020389</td>\n",
       "      <td>MSH</td>\n",
       "    </tr>\n",
       "  </tbody>\n",
       "</table>\n",
       "<p>11436 rows × 4 columns</p>\n",
       "</div>"
      ],
      "text/plain": [
       "            cui                                    name       ui cross_name\n",
       "45380  C0000772                 Abnormalities, Multiple  D000015        MSH\n",
       "45381  C0000772                  Multiple Abnormalities  D000015        MSH\n",
       "45382  C0000772                         MULTIPLE ABNORM  D000015        MSH\n",
       "45383  C0000772                         ABNORM MULTIPLE  D000015        MSH\n",
       "45384  C0000889                    Acanthosis Nigricans  D000052        MSH\n",
       "...         ...                                     ...      ...        ...\n",
       "56811  C4759774  Scapuloperoneal Myopathy, MYH7 Related  D020389        MSH\n",
       "56812  C4759774   MYH7-Related Scapuloperoneal Myopathy  D020389        MSH\n",
       "56813  C4759774  Myopathy, MYH7-Related Scapuloperoneal  D020389        MSH\n",
       "56814  C4759774      Scapuloperoneal Muscular Dystrophy  D020389        MSH\n",
       "56815  C4759774     Muscular Dystrophy, Scapuloperoneal  D020389        MSH\n",
       "\n",
       "[11436 rows x 4 columns]"
      ]
     },
     "execution_count": 73,
     "metadata": {},
     "output_type": "execute_result"
    }
   ],
   "source": [
    "# Get only Mesh entries\n",
    "disphase_mesh = disease_has_synonyms[disease_has_synonyms.cross_name == 'MSH'].rename(columns= {'code': 'ui'})\n",
    "# cui: is the UMLS concept identifier (CUI)\n",
    "disphase_mesh"
   ]
  },
  {
   "cell_type": "code",
   "execution_count": 74,
   "metadata": {},
   "outputs": [
    {
     "data": {
      "text/html": [
       "<div>\n",
       "<style scoped>\n",
       "    .dataframe tbody tr th:only-of-type {\n",
       "        vertical-align: middle;\n",
       "    }\n",
       "\n",
       "    .dataframe tbody tr th {\n",
       "        vertical-align: top;\n",
       "    }\n",
       "\n",
       "    .dataframe thead th {\n",
       "        text-align: right;\n",
       "    }\n",
       "</style>\n",
       "<table border=\"1\" class=\"dataframe\">\n",
       "  <thead>\n",
       "    <tr style=\"text-align: right;\">\n",
       "      <th></th>\n",
       "      <th>cui</th>\n",
       "      <th>name</th>\n",
       "      <th>ui</th>\n",
       "      <th>mesh_name</th>\n",
       "      <th>tree</th>\n",
       "    </tr>\n",
       "  </thead>\n",
       "  <tbody>\n",
       "    <tr>\n",
       "      <th>0</th>\n",
       "      <td>C0000772</td>\n",
       "      <td>Abnormalities, Multiple</td>\n",
       "      <td>D000015</td>\n",
       "      <td>Abnormalities, Multiple</td>\n",
       "      <td>C16.131.077</td>\n",
       "    </tr>\n",
       "    <tr>\n",
       "      <th>1</th>\n",
       "      <td>C0000772</td>\n",
       "      <td>Multiple Abnormalities</td>\n",
       "      <td>D000015</td>\n",
       "      <td>Abnormalities, Multiple</td>\n",
       "      <td>C16.131.077</td>\n",
       "    </tr>\n",
       "    <tr>\n",
       "      <th>2</th>\n",
       "      <td>C0000772</td>\n",
       "      <td>MULTIPLE ABNORM</td>\n",
       "      <td>D000015</td>\n",
       "      <td>Abnormalities, Multiple</td>\n",
       "      <td>C16.131.077</td>\n",
       "    </tr>\n",
       "    <tr>\n",
       "      <th>3</th>\n",
       "      <td>C0000772</td>\n",
       "      <td>ABNORM MULTIPLE</td>\n",
       "      <td>D000015</td>\n",
       "      <td>Abnormalities, Multiple</td>\n",
       "      <td>C16.131.077</td>\n",
       "    </tr>\n",
       "    <tr>\n",
       "      <th>4</th>\n",
       "      <td>C0000889</td>\n",
       "      <td>Acanthosis Nigricans</td>\n",
       "      <td>D000052</td>\n",
       "      <td>Acanthosis Nigricans</td>\n",
       "      <td>C17.800.621.430.530.100</td>\n",
       "    </tr>\n",
       "    <tr>\n",
       "      <th>...</th>\n",
       "      <td>...</td>\n",
       "      <td>...</td>\n",
       "      <td>...</td>\n",
       "      <td>...</td>\n",
       "      <td>...</td>\n",
       "    </tr>\n",
       "    <tr>\n",
       "      <th>11431</th>\n",
       "      <td>C4759774</td>\n",
       "      <td>Scapuloperoneal Myopathy, MYH7 Related</td>\n",
       "      <td>D020389</td>\n",
       "      <td>Muscular Dystrophy, Emery-Dreifuss</td>\n",
       "      <td>C05.651.534.500.350,C10.668.491.175.500.350,C1...</td>\n",
       "    </tr>\n",
       "    <tr>\n",
       "      <th>11432</th>\n",
       "      <td>C4759774</td>\n",
       "      <td>MYH7-Related Scapuloperoneal Myopathy</td>\n",
       "      <td>D020389</td>\n",
       "      <td>Muscular Dystrophy, Emery-Dreifuss</td>\n",
       "      <td>C05.651.534.500.350,C10.668.491.175.500.350,C1...</td>\n",
       "    </tr>\n",
       "    <tr>\n",
       "      <th>11433</th>\n",
       "      <td>C4759774</td>\n",
       "      <td>Myopathy, MYH7-Related Scapuloperoneal</td>\n",
       "      <td>D020389</td>\n",
       "      <td>Muscular Dystrophy, Emery-Dreifuss</td>\n",
       "      <td>C05.651.534.500.350,C10.668.491.175.500.350,C1...</td>\n",
       "    </tr>\n",
       "    <tr>\n",
       "      <th>11434</th>\n",
       "      <td>C4759774</td>\n",
       "      <td>Scapuloperoneal Muscular Dystrophy</td>\n",
       "      <td>D020389</td>\n",
       "      <td>Muscular Dystrophy, Emery-Dreifuss</td>\n",
       "      <td>C05.651.534.500.350,C10.668.491.175.500.350,C1...</td>\n",
       "    </tr>\n",
       "    <tr>\n",
       "      <th>11435</th>\n",
       "      <td>C4759774</td>\n",
       "      <td>Muscular Dystrophy, Scapuloperoneal</td>\n",
       "      <td>D020389</td>\n",
       "      <td>Muscular Dystrophy, Emery-Dreifuss</td>\n",
       "      <td>C05.651.534.500.350,C10.668.491.175.500.350,C1...</td>\n",
       "    </tr>\n",
       "  </tbody>\n",
       "</table>\n",
       "<p>11436 rows × 5 columns</p>\n",
       "</div>"
      ],
      "text/plain": [
       "            cui                                    name       ui  \\\n",
       "0      C0000772                 Abnormalities, Multiple  D000015   \n",
       "1      C0000772                  Multiple Abnormalities  D000015   \n",
       "2      C0000772                         MULTIPLE ABNORM  D000015   \n",
       "3      C0000772                         ABNORM MULTIPLE  D000015   \n",
       "4      C0000889                    Acanthosis Nigricans  D000052   \n",
       "...         ...                                     ...      ...   \n",
       "11431  C4759774  Scapuloperoneal Myopathy, MYH7 Related  D020389   \n",
       "11432  C4759774   MYH7-Related Scapuloperoneal Myopathy  D020389   \n",
       "11433  C4759774  Myopathy, MYH7-Related Scapuloperoneal  D020389   \n",
       "11434  C4759774      Scapuloperoneal Muscular Dystrophy  D020389   \n",
       "11435  C4759774     Muscular Dystrophy, Scapuloperoneal  D020389   \n",
       "\n",
       "                                mesh_name  \\\n",
       "0                 Abnormalities, Multiple   \n",
       "1                 Abnormalities, Multiple   \n",
       "2                 Abnormalities, Multiple   \n",
       "3                 Abnormalities, Multiple   \n",
       "4                    Acanthosis Nigricans   \n",
       "...                                   ...   \n",
       "11431  Muscular Dystrophy, Emery-Dreifuss   \n",
       "11432  Muscular Dystrophy, Emery-Dreifuss   \n",
       "11433  Muscular Dystrophy, Emery-Dreifuss   \n",
       "11434  Muscular Dystrophy, Emery-Dreifuss   \n",
       "11435  Muscular Dystrophy, Emery-Dreifuss   \n",
       "\n",
       "                                                    tree  \n",
       "0                                            C16.131.077  \n",
       "1                                            C16.131.077  \n",
       "2                                            C16.131.077  \n",
       "3                                            C16.131.077  \n",
       "4                                C17.800.621.430.530.100  \n",
       "...                                                  ...  \n",
       "11431  C05.651.534.500.350,C10.668.491.175.500.350,C1...  \n",
       "11432  C05.651.534.500.350,C10.668.491.175.500.350,C1...  \n",
       "11433  C05.651.534.500.350,C10.668.491.175.500.350,C1...  \n",
       "11434  C05.651.534.500.350,C10.668.491.175.500.350,C1...  \n",
       "11435  C05.651.534.500.350,C10.668.491.175.500.350,C1...  \n",
       "\n",
       "[11436 rows x 5 columns]"
      ]
     },
     "execution_count": 74,
     "metadata": {},
     "output_type": "execute_result"
    }
   ],
   "source": [
    "# Add data from Mesh ontology\n",
    "disphase_mesh = disphase_mesh.merge(mesh_df, how= 'left').drop(columns= ['cross_name'])\n",
    "disphase_mesh"
   ]
  },
  {
   "cell_type": "code",
   "execution_count": 75,
   "metadata": {},
   "outputs": [
    {
     "data": {
      "text/plain": [
       "(33356, 5)"
      ]
     },
     "execution_count": 75,
     "metadata": {},
     "output_type": "execute_result"
    }
   ],
   "source": [
    "# Separate different trees for the same disease\n",
    "disphase_mesh.tree = disphase_mesh.tree.str.split(\",\")\n",
    "disphase_mesh = disphase_mesh.explode(\"tree\")\n",
    "disphase_mesh.shape"
   ]
  },
  {
   "cell_type": "code",
   "execution_count": 76,
   "metadata": {},
   "outputs": [
    {
     "data": {
      "text/html": [
       "<div>\n",
       "<style scoped>\n",
       "    .dataframe tbody tr th:only-of-type {\n",
       "        vertical-align: middle;\n",
       "    }\n",
       "\n",
       "    .dataframe tbody tr th {\n",
       "        vertical-align: top;\n",
       "    }\n",
       "\n",
       "    .dataframe thead th {\n",
       "        text-align: right;\n",
       "    }\n",
       "</style>\n",
       "<table border=\"1\" class=\"dataframe\">\n",
       "  <thead>\n",
       "    <tr style=\"text-align: right;\">\n",
       "      <th></th>\n",
       "      <th>cui</th>\n",
       "      <th>name</th>\n",
       "      <th>ui</th>\n",
       "      <th>mesh_name</th>\n",
       "      <th>tree</th>\n",
       "    </tr>\n",
       "  </thead>\n",
       "  <tbody>\n",
       "    <tr>\n",
       "      <th>8385</th>\n",
       "      <td>C1328840</td>\n",
       "      <td>Syndrome, Autoimmune Lymphoproliferative</td>\n",
       "      <td>D056735</td>\n",
       "      <td>Autoimmune Lymphoproliferative Syndrome</td>\n",
       "      <td>C20.111.288</td>\n",
       "    </tr>\n",
       "    <tr>\n",
       "      <th>11169</th>\n",
       "      <td>C3888018</td>\n",
       "      <td>Hyperinsulinism, Familial</td>\n",
       "      <td>D044903</td>\n",
       "      <td>Congenital Hyperinsulinism</td>\n",
       "      <td>C18.452.394.984.200</td>\n",
       "    </tr>\n",
       "    <tr>\n",
       "      <th>1790</th>\n",
       "      <td>C0019569</td>\n",
       "      <td>HIRSCHSPRUNGS DIS</td>\n",
       "      <td>D006627</td>\n",
       "      <td>Hirschsprung Disease</td>\n",
       "      <td>C06.405.469.158.701.439</td>\n",
       "    </tr>\n",
       "    <tr>\n",
       "      <th>3388</th>\n",
       "      <td>C0032580</td>\n",
       "      <td>Colus, Familial Polyposis</td>\n",
       "      <td>D011125</td>\n",
       "      <td>Adenomatous Polyposis Coli</td>\n",
       "      <td>C06.301.371.411.307.090</td>\n",
       "    </tr>\n",
       "    <tr>\n",
       "      <th>4139</th>\n",
       "      <td>C0043207</td>\n",
       "      <td>DIDMOADUD</td>\n",
       "      <td>D014929</td>\n",
       "      <td>Wolfram Syndrome</td>\n",
       "      <td>C12.777.419.135.875</td>\n",
       "    </tr>\n",
       "    <tr>\n",
       "      <th>4688</th>\n",
       "      <td>C0162678</td>\n",
       "      <td>Multiple Neurofibroma</td>\n",
       "      <td>D017253</td>\n",
       "      <td>Neurofibromatoses</td>\n",
       "      <td>C10.562.600</td>\n",
       "    </tr>\n",
       "    <tr>\n",
       "      <th>3319</th>\n",
       "      <td>C0031900</td>\n",
       "      <td>Sequence, Pierre Robin's</td>\n",
       "      <td>D010855</td>\n",
       "      <td>Pierre Robin Syndrome</td>\n",
       "      <td>C05.660.207.540.460.606</td>\n",
       "    </tr>\n",
       "    <tr>\n",
       "      <th>6604</th>\n",
       "      <td>C0342286</td>\n",
       "      <td>Woodhouse Sakati syndrome</td>\n",
       "      <td>C536742</td>\n",
       "      <td>NaN</td>\n",
       "      <td>NaN</td>\n",
       "    </tr>\n",
       "    <tr>\n",
       "      <th>7556</th>\n",
       "      <td>C0751202</td>\n",
       "      <td>Deficiency Disease, Cystathionine beta-Synthase</td>\n",
       "      <td>D006712</td>\n",
       "      <td>Homocystinuria</td>\n",
       "      <td>C17.300.428</td>\n",
       "    </tr>\n",
       "    <tr>\n",
       "      <th>5904</th>\n",
       "      <td>C0268465</td>\n",
       "      <td>Deficiency Disease, Dihydropteridine Reductase</td>\n",
       "      <td>D010661</td>\n",
       "      <td>Phenylketonurias</td>\n",
       "      <td>C18.452.648.100.766</td>\n",
       "    </tr>\n",
       "    <tr>\n",
       "      <th>5079</th>\n",
       "      <td>C0206697</td>\n",
       "      <td>Skin Appendage Carcinomas</td>\n",
       "      <td>D018280</td>\n",
       "      <td>Carcinoma, Skin Appendage</td>\n",
       "      <td>C04.557.470.550.420</td>\n",
       "    </tr>\n",
       "    <tr>\n",
       "      <th>10948</th>\n",
       "      <td>C2937358</td>\n",
       "      <td>Hemorrhages, Intracerebral</td>\n",
       "      <td>D002543</td>\n",
       "      <td>Cerebral Hemorrhage</td>\n",
       "      <td>C14.907.253.573.200</td>\n",
       "    </tr>\n",
       "    <tr>\n",
       "      <th>1251</th>\n",
       "      <td>C0014547</td>\n",
       "      <td>FOCAL SEIZURE DIS</td>\n",
       "      <td>D004828</td>\n",
       "      <td>Epilepsies, Partial</td>\n",
       "      <td>C10.228.140.490.360</td>\n",
       "    </tr>\n",
       "    <tr>\n",
       "      <th>687</th>\n",
       "      <td>C0007959</td>\n",
       "      <td>Charcot Marie Tooth Syndrome</td>\n",
       "      <td>D002607</td>\n",
       "      <td>Charcot-Marie-Tooth Disease</td>\n",
       "      <td>C16.131.666.300.200</td>\n",
       "    </tr>\n",
       "    <tr>\n",
       "      <th>6092</th>\n",
       "      <td>C0271694</td>\n",
       "      <td>Familial Partial Lipodystrophies</td>\n",
       "      <td>D052496</td>\n",
       "      <td>Lipodystrophy, Familial Partial</td>\n",
       "      <td>C17.800.849.391.700</td>\n",
       "    </tr>\n",
       "    <tr>\n",
       "      <th>6744</th>\n",
       "      <td>C0346326</td>\n",
       "      <td>Gliomas, Optic Nerve</td>\n",
       "      <td>D020339</td>\n",
       "      <td>Optic Nerve Glioma</td>\n",
       "      <td>C04.588.614.596.240.240.500</td>\n",
       "    </tr>\n",
       "    <tr>\n",
       "      <th>11309</th>\n",
       "      <td>C4551952</td>\n",
       "      <td>Myopathy, Centronuclear, 1</td>\n",
       "      <td>D020914</td>\n",
       "      <td>Myopathies, Structural, Congenital</td>\n",
       "      <td>C10.668.491.550</td>\n",
       "    </tr>\n",
       "    <tr>\n",
       "      <th>3260</th>\n",
       "      <td>C0030422</td>\n",
       "      <td>Non-Chromaffin Paraganglioma</td>\n",
       "      <td>D010236</td>\n",
       "      <td>Paraganglioma, Extra-Adrenal</td>\n",
       "      <td>C04.557.580.625.650.700.705</td>\n",
       "    </tr>\n",
       "    <tr>\n",
       "      <th>1430</th>\n",
       "      <td>C0017075</td>\n",
       "      <td>Gangliocytomas</td>\n",
       "      <td>D005729</td>\n",
       "      <td>Ganglioneuroma</td>\n",
       "      <td>C04.557.580.625.600.355</td>\n",
       "    </tr>\n",
       "    <tr>\n",
       "      <th>3048</th>\n",
       "      <td>C0027831</td>\n",
       "      <td>Neurofibromatosis I</td>\n",
       "      <td>D009456</td>\n",
       "      <td>Neurofibromatosis 1</td>\n",
       "      <td>C10.562.600.500</td>\n",
       "    </tr>\n",
       "  </tbody>\n",
       "</table>\n",
       "</div>"
      ],
      "text/plain": [
       "            cui                                             name       ui  \\\n",
       "8385   C1328840         Syndrome, Autoimmune Lymphoproliferative  D056735   \n",
       "11169  C3888018                        Hyperinsulinism, Familial  D044903   \n",
       "1790   C0019569                                HIRSCHSPRUNGS DIS  D006627   \n",
       "3388   C0032580                        Colus, Familial Polyposis  D011125   \n",
       "4139   C0043207                                        DIDMOADUD  D014929   \n",
       "4688   C0162678                            Multiple Neurofibroma  D017253   \n",
       "3319   C0031900                         Sequence, Pierre Robin's  D010855   \n",
       "6604   C0342286                        Woodhouse Sakati syndrome  C536742   \n",
       "7556   C0751202  Deficiency Disease, Cystathionine beta-Synthase  D006712   \n",
       "5904   C0268465   Deficiency Disease, Dihydropteridine Reductase  D010661   \n",
       "5079   C0206697                        Skin Appendage Carcinomas  D018280   \n",
       "10948  C2937358                       Hemorrhages, Intracerebral  D002543   \n",
       "1251   C0014547                                FOCAL SEIZURE DIS  D004828   \n",
       "687    C0007959                     Charcot Marie Tooth Syndrome  D002607   \n",
       "6092   C0271694                 Familial Partial Lipodystrophies  D052496   \n",
       "6744   C0346326                             Gliomas, Optic Nerve  D020339   \n",
       "11309  C4551952                       Myopathy, Centronuclear, 1  D020914   \n",
       "3260   C0030422                     Non-Chromaffin Paraganglioma  D010236   \n",
       "1430   C0017075                                   Gangliocytomas  D005729   \n",
       "3048   C0027831                              Neurofibromatosis I  D009456   \n",
       "\n",
       "                                     mesh_name                         tree  \n",
       "8385   Autoimmune Lymphoproliferative Syndrome                  C20.111.288  \n",
       "11169               Congenital Hyperinsulinism          C18.452.394.984.200  \n",
       "1790                      Hirschsprung Disease      C06.405.469.158.701.439  \n",
       "3388                Adenomatous Polyposis Coli      C06.301.371.411.307.090  \n",
       "4139                          Wolfram Syndrome          C12.777.419.135.875  \n",
       "4688                         Neurofibromatoses                  C10.562.600  \n",
       "3319                     Pierre Robin Syndrome      C05.660.207.540.460.606  \n",
       "6604                                       NaN                          NaN  \n",
       "7556                            Homocystinuria                  C17.300.428  \n",
       "5904                          Phenylketonurias          C18.452.648.100.766  \n",
       "5079                 Carcinoma, Skin Appendage          C04.557.470.550.420  \n",
       "10948                      Cerebral Hemorrhage          C14.907.253.573.200  \n",
       "1251                       Epilepsies, Partial          C10.228.140.490.360  \n",
       "687                Charcot-Marie-Tooth Disease          C16.131.666.300.200  \n",
       "6092           Lipodystrophy, Familial Partial          C17.800.849.391.700  \n",
       "6744                        Optic Nerve Glioma  C04.588.614.596.240.240.500  \n",
       "11309       Myopathies, Structural, Congenital              C10.668.491.550  \n",
       "3260              Paraganglioma, Extra-Adrenal  C04.557.580.625.650.700.705  \n",
       "1430                            Ganglioneuroma      C04.557.580.625.600.355  \n",
       "3048                       Neurofibromatosis 1              C10.562.600.500  "
      ]
     },
     "execution_count": 76,
     "metadata": {},
     "output_type": "execute_result"
    }
   ],
   "source": [
    "disphase_mesh.sample(20)"
   ]
  },
  {
   "cell_type": "code",
   "execution_count": 77,
   "metadata": {},
   "outputs": [
    {
     "data": {
      "text/plain": [
       "['C20']"
      ]
     },
     "execution_count": 77,
     "metadata": {},
     "output_type": "execute_result"
    }
   ],
   "source": [
    "re.findall(\"^C\\d+\", \"C20.683.515.528.582.100\")"
   ]
  },
  {
   "cell_type": "code",
   "execution_count": 78,
   "metadata": {},
   "outputs": [
    {
     "data": {
      "text/plain": [
       "0                   [C16, 131, 077]\n",
       "1                   [C16, 131, 077]\n",
       "2                   [C16, 131, 077]\n",
       "3                   [C16, 131, 077]\n",
       "4    [C17, 800, 621, 430, 530, 100]\n",
       "Name: tree, dtype: object"
      ]
     },
     "execution_count": 78,
     "metadata": {},
     "output_type": "execute_result"
    }
   ],
   "source": [
    "disphase_mesh.tree = disphase_mesh.tree.str.split(\".\")\n",
    "disphase_mesh.tree.head()"
   ]
  },
  {
   "cell_type": "code",
   "execution_count": 79,
   "metadata": {},
   "outputs": [],
   "source": [
    "# Keep first node and delete C letter (C is disease category in MeSH)\n",
    "disphase_mesh[\"node\"] = disphase_mesh.tree.str[0]#.str.strip(\"C\")"
   ]
  },
  {
   "cell_type": "code",
   "execution_count": 80,
   "metadata": {},
   "outputs": [
    {
     "data": {
      "text/plain": [
       "C16    6232\n",
       "C10    5324\n",
       "C04    4627\n",
       "C18    2408\n",
       "C15    1753\n",
       "C05    1316\n",
       "C06    1216\n",
       "C14    1185\n",
       "C17    1016\n",
       "C20     809\n",
       "C19     756\n",
       "C23     754\n",
       "C13     628\n",
       "C11     592\n",
       "C12     559\n",
       "F03     312\n",
       "C08     301\n",
       "C07     167\n",
       "C09     159\n",
       "C01     154\n",
       "F01      38\n",
       "C26      24\n",
       "A10      12\n",
       "C25       9\n",
       "A15       8\n",
       "G08       4\n",
       "G07       3\n",
       "E01       3\n",
       "A05       2\n",
       "G11       1\n",
       "Name: node, dtype: int64"
      ]
     },
     "execution_count": 80,
     "metadata": {},
     "output_type": "execute_result"
    }
   ],
   "source": [
    "disphase_mesh.node.value_counts()"
   ]
  },
  {
   "cell_type": "code",
   "execution_count": 81,
   "metadata": {},
   "outputs": [
    {
     "data": {
      "text/html": [
       "<div>\n",
       "<style scoped>\n",
       "    .dataframe tbody tr th:only-of-type {\n",
       "        vertical-align: middle;\n",
       "    }\n",
       "\n",
       "    .dataframe tbody tr th {\n",
       "        vertical-align: top;\n",
       "    }\n",
       "\n",
       "    .dataframe thead th {\n",
       "        text-align: right;\n",
       "    }\n",
       "</style>\n",
       "<table border=\"1\" class=\"dataframe\">\n",
       "  <thead>\n",
       "    <tr style=\"text-align: right;\">\n",
       "      <th></th>\n",
       "      <th>cui</th>\n",
       "      <th>name</th>\n",
       "      <th>ui</th>\n",
       "      <th>mesh_name</th>\n",
       "      <th>tree</th>\n",
       "      <th>node</th>\n",
       "    </tr>\n",
       "  </thead>\n",
       "  <tbody>\n",
       "    <tr>\n",
       "      <th>0</th>\n",
       "      <td>C0000772</td>\n",
       "      <td>Abnormalities, Multiple</td>\n",
       "      <td>D000015</td>\n",
       "      <td>Abnormalities, Multiple</td>\n",
       "      <td>[C16, 131, 077]</td>\n",
       "      <td>C16</td>\n",
       "    </tr>\n",
       "    <tr>\n",
       "      <th>1</th>\n",
       "      <td>C0000772</td>\n",
       "      <td>Multiple Abnormalities</td>\n",
       "      <td>D000015</td>\n",
       "      <td>Abnormalities, Multiple</td>\n",
       "      <td>[C16, 131, 077]</td>\n",
       "      <td>C16</td>\n",
       "    </tr>\n",
       "    <tr>\n",
       "      <th>2</th>\n",
       "      <td>C0000772</td>\n",
       "      <td>MULTIPLE ABNORM</td>\n",
       "      <td>D000015</td>\n",
       "      <td>Abnormalities, Multiple</td>\n",
       "      <td>[C16, 131, 077]</td>\n",
       "      <td>C16</td>\n",
       "    </tr>\n",
       "    <tr>\n",
       "      <th>3</th>\n",
       "      <td>C0000772</td>\n",
       "      <td>ABNORM MULTIPLE</td>\n",
       "      <td>D000015</td>\n",
       "      <td>Abnormalities, Multiple</td>\n",
       "      <td>[C16, 131, 077]</td>\n",
       "      <td>C16</td>\n",
       "    </tr>\n",
       "    <tr>\n",
       "      <th>4</th>\n",
       "      <td>C0000889</td>\n",
       "      <td>Acanthosis Nigricans</td>\n",
       "      <td>D000052</td>\n",
       "      <td>Acanthosis Nigricans</td>\n",
       "      <td>[C17, 800, 621, 430, 530, 100]</td>\n",
       "      <td>C17</td>\n",
       "    </tr>\n",
       "    <tr>\n",
       "      <th>...</th>\n",
       "      <td>...</td>\n",
       "      <td>...</td>\n",
       "      <td>...</td>\n",
       "      <td>...</td>\n",
       "      <td>...</td>\n",
       "      <td>...</td>\n",
       "    </tr>\n",
       "    <tr>\n",
       "      <th>11434</th>\n",
       "      <td>C4759774</td>\n",
       "      <td>Scapuloperoneal Muscular Dystrophy</td>\n",
       "      <td>D020389</td>\n",
       "      <td>Muscular Dystrophy, Emery-Dreifuss</td>\n",
       "      <td>[C16, 320, 577, 350]</td>\n",
       "      <td>C16</td>\n",
       "    </tr>\n",
       "    <tr>\n",
       "      <th>11435</th>\n",
       "      <td>C4759774</td>\n",
       "      <td>Muscular Dystrophy, Scapuloperoneal</td>\n",
       "      <td>D020389</td>\n",
       "      <td>Muscular Dystrophy, Emery-Dreifuss</td>\n",
       "      <td>[C05, 651, 534, 500, 350]</td>\n",
       "      <td>C05</td>\n",
       "    </tr>\n",
       "    <tr>\n",
       "      <th>11435</th>\n",
       "      <td>C4759774</td>\n",
       "      <td>Muscular Dystrophy, Scapuloperoneal</td>\n",
       "      <td>D020389</td>\n",
       "      <td>Muscular Dystrophy, Emery-Dreifuss</td>\n",
       "      <td>[C10, 668, 491, 175, 500, 350]</td>\n",
       "      <td>C10</td>\n",
       "    </tr>\n",
       "    <tr>\n",
       "      <th>11435</th>\n",
       "      <td>C4759774</td>\n",
       "      <td>Muscular Dystrophy, Scapuloperoneal</td>\n",
       "      <td>D020389</td>\n",
       "      <td>Muscular Dystrophy, Emery-Dreifuss</td>\n",
       "      <td>[C16, 320, 322, 625]</td>\n",
       "      <td>C16</td>\n",
       "    </tr>\n",
       "    <tr>\n",
       "      <th>11435</th>\n",
       "      <td>C4759774</td>\n",
       "      <td>Muscular Dystrophy, Scapuloperoneal</td>\n",
       "      <td>D020389</td>\n",
       "      <td>Muscular Dystrophy, Emery-Dreifuss</td>\n",
       "      <td>[C16, 320, 577, 350]</td>\n",
       "      <td>C16</td>\n",
       "    </tr>\n",
       "  </tbody>\n",
       "</table>\n",
       "<p>33356 rows × 6 columns</p>\n",
       "</div>"
      ],
      "text/plain": [
       "            cui                                 name       ui  \\\n",
       "0      C0000772              Abnormalities, Multiple  D000015   \n",
       "1      C0000772               Multiple Abnormalities  D000015   \n",
       "2      C0000772                      MULTIPLE ABNORM  D000015   \n",
       "3      C0000772                      ABNORM MULTIPLE  D000015   \n",
       "4      C0000889                 Acanthosis Nigricans  D000052   \n",
       "...         ...                                  ...      ...   \n",
       "11434  C4759774   Scapuloperoneal Muscular Dystrophy  D020389   \n",
       "11435  C4759774  Muscular Dystrophy, Scapuloperoneal  D020389   \n",
       "11435  C4759774  Muscular Dystrophy, Scapuloperoneal  D020389   \n",
       "11435  C4759774  Muscular Dystrophy, Scapuloperoneal  D020389   \n",
       "11435  C4759774  Muscular Dystrophy, Scapuloperoneal  D020389   \n",
       "\n",
       "                                mesh_name                            tree node  \n",
       "0                 Abnormalities, Multiple                 [C16, 131, 077]  C16  \n",
       "1                 Abnormalities, Multiple                 [C16, 131, 077]  C16  \n",
       "2                 Abnormalities, Multiple                 [C16, 131, 077]  C16  \n",
       "3                 Abnormalities, Multiple                 [C16, 131, 077]  C16  \n",
       "4                    Acanthosis Nigricans  [C17, 800, 621, 430, 530, 100]  C17  \n",
       "...                                   ...                             ...  ...  \n",
       "11434  Muscular Dystrophy, Emery-Dreifuss            [C16, 320, 577, 350]  C16  \n",
       "11435  Muscular Dystrophy, Emery-Dreifuss       [C05, 651, 534, 500, 350]  C05  \n",
       "11435  Muscular Dystrophy, Emery-Dreifuss  [C10, 668, 491, 175, 500, 350]  C10  \n",
       "11435  Muscular Dystrophy, Emery-Dreifuss            [C16, 320, 322, 625]  C16  \n",
       "11435  Muscular Dystrophy, Emery-Dreifuss            [C16, 320, 577, 350]  C16  \n",
       "\n",
       "[33356 rows x 6 columns]"
      ]
     },
     "execution_count": 81,
     "metadata": {},
     "output_type": "execute_result"
    }
   ],
   "source": [
    "disphase_mesh"
   ]
  },
  {
   "cell_type": "code",
   "execution_count": null,
   "metadata": {},
   "outputs": [],
   "source": []
  },
  {
   "cell_type": "code",
   "execution_count": 47,
   "metadata": {},
   "outputs": [],
   "source": [
    "# MeSH tree\n",
    "tree = pd.read_csv('../../raw_data/mtrees2022.bin', sep = \";\", header=None, names= [\"term\", \"tree\"])"
   ]
  },
  {
   "cell_type": "code",
   "execution_count": 82,
   "metadata": {},
   "outputs": [
    {
     "data": {
      "text/html": [
       "<div>\n",
       "<style scoped>\n",
       "    .dataframe tbody tr th:only-of-type {\n",
       "        vertical-align: middle;\n",
       "    }\n",
       "\n",
       "    .dataframe tbody tr th {\n",
       "        vertical-align: top;\n",
       "    }\n",
       "\n",
       "    .dataframe thead th {\n",
       "        text-align: right;\n",
       "    }\n",
       "</style>\n",
       "<table border=\"1\" class=\"dataframe\">\n",
       "  <thead>\n",
       "    <tr style=\"text-align: right;\">\n",
       "      <th></th>\n",
       "      <th>term</th>\n",
       "      <th>tree</th>\n",
       "    </tr>\n",
       "  </thead>\n",
       "  <tbody>\n",
       "    <tr>\n",
       "      <th>27485</th>\n",
       "      <td>Inosine Pranobex</td>\n",
       "      <td>D03.633.100.759.590.616.450</td>\n",
       "    </tr>\n",
       "    <tr>\n",
       "      <th>5010</th>\n",
       "      <td>Palaquium</td>\n",
       "      <td>B01.875.800.575.912.250.339.485.666</td>\n",
       "    </tr>\n",
       "    <tr>\n",
       "      <th>53909</th>\n",
       "      <td>Provitamins</td>\n",
       "      <td>G07.203.300.681.500.600.500</td>\n",
       "    </tr>\n",
       "    <tr>\n",
       "      <th>23085</th>\n",
       "      <td>2-Hydroxyphenethylamine</td>\n",
       "      <td>D02.092.211.215.581</td>\n",
       "    </tr>\n",
       "    <tr>\n",
       "      <th>7085</th>\n",
       "      <td>Bacillus cereus</td>\n",
       "      <td>B03.510.460.410.158.218.252</td>\n",
       "    </tr>\n",
       "    <tr>\n",
       "      <th>3874</th>\n",
       "      <td>Monotremata</td>\n",
       "      <td>B01.050.150.900.649.627</td>\n",
       "    </tr>\n",
       "    <tr>\n",
       "      <th>55805</th>\n",
       "      <td>Endocrinology</td>\n",
       "      <td>H02.403.429.323</td>\n",
       "    </tr>\n",
       "    <tr>\n",
       "      <th>54425</th>\n",
       "      <td>Labor Stage, Second</td>\n",
       "      <td>G08.686.784.769.326.500.090</td>\n",
       "    </tr>\n",
       "    <tr>\n",
       "      <th>47199</th>\n",
       "      <td>Pancreas Transplantation</td>\n",
       "      <td>E04.210.725</td>\n",
       "    </tr>\n",
       "    <tr>\n",
       "      <th>6961</th>\n",
       "      <td>Clostridium cellulovorans</td>\n",
       "      <td>B03.510.415.400.200.205</td>\n",
       "    </tr>\n",
       "  </tbody>\n",
       "</table>\n",
       "</div>"
      ],
      "text/plain": [
       "                            term                                 tree\n",
       "27485           Inosine Pranobex          D03.633.100.759.590.616.450\n",
       "5010                   Palaquium  B01.875.800.575.912.250.339.485.666\n",
       "53909                Provitamins          G07.203.300.681.500.600.500\n",
       "23085    2-Hydroxyphenethylamine                  D02.092.211.215.581\n",
       "7085             Bacillus cereus          B03.510.460.410.158.218.252\n",
       "3874                 Monotremata              B01.050.150.900.649.627\n",
       "55805              Endocrinology                      H02.403.429.323\n",
       "54425        Labor Stage, Second          G08.686.784.769.326.500.090\n",
       "47199   Pancreas Transplantation                          E04.210.725\n",
       "6961   Clostridium cellulovorans              B03.510.415.400.200.205"
      ]
     },
     "execution_count": 82,
     "metadata": {},
     "output_type": "execute_result"
    }
   ],
   "source": [
    "tree.sample(10)"
   ]
  },
  {
   "cell_type": "code",
   "execution_count": 83,
   "metadata": {},
   "outputs": [],
   "source": [
    "# Get first tree element and the nodes of disease category\n",
    "ix = [] \n",
    "for i, l in enumerate(tree.tree.str.split('.')):\n",
    "    if len(l) == 1 and l[0].startswith(\"C\"):\n",
    "        ix.append(i)"
   ]
  },
  {
   "cell_type": "code",
   "execution_count": 84,
   "metadata": {},
   "outputs": [],
   "source": [
    "nodes = tree.iloc[ix].rename(columns= {\"tree\": \"node\", \"term\": \"disease_category\"})"
   ]
  },
  {
   "cell_type": "code",
   "execution_count": 51,
   "metadata": {},
   "outputs": [],
   "source": [
    "#nodes.tree = nodes.tree.str.strip(\"C\")"
   ]
  },
  {
   "cell_type": "code",
   "execution_count": 89,
   "metadata": {},
   "outputs": [
    {
     "data": {
      "text/plain": [
       "(23, 2)"
      ]
     },
     "execution_count": 89,
     "metadata": {},
     "output_type": "execute_result"
    }
   ],
   "source": [
    "nodes.shape"
   ]
  },
  {
   "cell_type": "code",
   "execution_count": 93,
   "metadata": {},
   "outputs": [
    {
     "data": {
      "text/html": [
       "<div>\n",
       "<style scoped>\n",
       "    .dataframe tbody tr th:only-of-type {\n",
       "        vertical-align: middle;\n",
       "    }\n",
       "\n",
       "    .dataframe tbody tr th {\n",
       "        vertical-align: top;\n",
       "    }\n",
       "\n",
       "    .dataframe thead th {\n",
       "        text-align: right;\n",
       "    }\n",
       "</style>\n",
       "<table border=\"1\" class=\"dataframe\">\n",
       "  <thead>\n",
       "    <tr style=\"text-align: right;\">\n",
       "      <th></th>\n",
       "      <th>disease_category</th>\n",
       "      <th>node</th>\n",
       "    </tr>\n",
       "  </thead>\n",
       "  <tbody>\n",
       "    <tr>\n",
       "      <th>8513</th>\n",
       "      <td>Infections</td>\n",
       "      <td>C01</td>\n",
       "    </tr>\n",
       "    <tr>\n",
       "      <th>9900</th>\n",
       "      <td>Neoplasms</td>\n",
       "      <td>C04</td>\n",
       "    </tr>\n",
       "    <tr>\n",
       "      <th>10955</th>\n",
       "      <td>Musculoskeletal Diseases</td>\n",
       "      <td>C05</td>\n",
       "    </tr>\n",
       "    <tr>\n",
       "      <th>11483</th>\n",
       "      <td>Digestive System Diseases</td>\n",
       "      <td>C06</td>\n",
       "    </tr>\n",
       "    <tr>\n",
       "      <th>11977</th>\n",
       "      <td>Stomatognathic Diseases</td>\n",
       "      <td>C07</td>\n",
       "    </tr>\n",
       "    <tr>\n",
       "      <th>12268</th>\n",
       "      <td>Respiratory Tract Diseases</td>\n",
       "      <td>C08</td>\n",
       "    </tr>\n",
       "    <tr>\n",
       "      <th>12650</th>\n",
       "      <td>Otorhinolaryngologic Diseases</td>\n",
       "      <td>C09</td>\n",
       "    </tr>\n",
       "    <tr>\n",
       "      <th>12792</th>\n",
       "      <td>Nervous System Diseases</td>\n",
       "      <td>C10</td>\n",
       "    </tr>\n",
       "    <tr>\n",
       "      <th>14266</th>\n",
       "      <td>Eye Diseases</td>\n",
       "      <td>C11</td>\n",
       "    </tr>\n",
       "    <tr>\n",
       "      <th>14622</th>\n",
       "      <td>Urogenital Diseases</td>\n",
       "      <td>C12</td>\n",
       "    </tr>\n",
       "    <tr>\n",
       "      <th>15723</th>\n",
       "      <td>Cardiovascular Diseases</td>\n",
       "      <td>C14</td>\n",
       "    </tr>\n",
       "    <tr>\n",
       "      <th>16402</th>\n",
       "      <td>Hemic and Lymphatic Diseases</td>\n",
       "      <td>C15</td>\n",
       "    </tr>\n",
       "    <tr>\n",
       "      <th>16793</th>\n",
       "      <td>Congenital, Hereditary, and Neonatal Diseases ...</td>\n",
       "      <td>C16</td>\n",
       "    </tr>\n",
       "    <tr>\n",
       "      <th>17976</th>\n",
       "      <td>Skin and Connective Tissue Diseases</td>\n",
       "      <td>C17</td>\n",
       "    </tr>\n",
       "    <tr>\n",
       "      <th>18517</th>\n",
       "      <td>Nutritional and Metabolic Diseases</td>\n",
       "      <td>C18</td>\n",
       "    </tr>\n",
       "    <tr>\n",
       "      <th>19137</th>\n",
       "      <td>Endocrine System Diseases</td>\n",
       "      <td>C19</td>\n",
       "    </tr>\n",
       "    <tr>\n",
       "      <th>19352</th>\n",
       "      <td>Immune System Diseases</td>\n",
       "      <td>C20</td>\n",
       "    </tr>\n",
       "    <tr>\n",
       "      <th>19621</th>\n",
       "      <td>Disorders of Environmental Origin</td>\n",
       "      <td>C21</td>\n",
       "    </tr>\n",
       "    <tr>\n",
       "      <th>19626</th>\n",
       "      <td>Animal Diseases</td>\n",
       "      <td>C22</td>\n",
       "    </tr>\n",
       "    <tr>\n",
       "      <th>19769</th>\n",
       "      <td>Pathological Conditions, Signs and Symptoms</td>\n",
       "      <td>C23</td>\n",
       "    </tr>\n",
       "    <tr>\n",
       "      <th>20803</th>\n",
       "      <td>Occupational Diseases</td>\n",
       "      <td>C24</td>\n",
       "    </tr>\n",
       "    <tr>\n",
       "      <th>20827</th>\n",
       "      <td>Chemically-Induced Disorders</td>\n",
       "      <td>C25</td>\n",
       "    </tr>\n",
       "    <tr>\n",
       "      <th>20954</th>\n",
       "      <td>Wounds and Injuries</td>\n",
       "      <td>C26</td>\n",
       "    </tr>\n",
       "  </tbody>\n",
       "</table>\n",
       "</div>"
      ],
      "text/plain": [
       "                                        disease_category node\n",
       "8513                                          Infections  C01\n",
       "9900                                           Neoplasms  C04\n",
       "10955                           Musculoskeletal Diseases  C05\n",
       "11483                          Digestive System Diseases  C06\n",
       "11977                            Stomatognathic Diseases  C07\n",
       "12268                         Respiratory Tract Diseases  C08\n",
       "12650                      Otorhinolaryngologic Diseases  C09\n",
       "12792                            Nervous System Diseases  C10\n",
       "14266                                       Eye Diseases  C11\n",
       "14622                                Urogenital Diseases  C12\n",
       "15723                            Cardiovascular Diseases  C14\n",
       "16402                       Hemic and Lymphatic Diseases  C15\n",
       "16793  Congenital, Hereditary, and Neonatal Diseases ...  C16\n",
       "17976                Skin and Connective Tissue Diseases  C17\n",
       "18517                 Nutritional and Metabolic Diseases  C18\n",
       "19137                          Endocrine System Diseases  C19\n",
       "19352                             Immune System Diseases  C20\n",
       "19621                  Disorders of Environmental Origin  C21\n",
       "19626                                    Animal Diseases  C22\n",
       "19769        Pathological Conditions, Signs and Symptoms  C23\n",
       "20803                              Occupational Diseases  C24\n",
       "20827                       Chemically-Induced Disorders  C25\n",
       "20954                                Wounds and Injuries  C26"
      ]
     },
     "execution_count": 93,
     "metadata": {},
     "output_type": "execute_result"
    }
   ],
   "source": [
    "nodes"
   ]
  },
  {
   "cell_type": "code",
   "execution_count": 90,
   "metadata": {},
   "outputs": [],
   "source": [
    "# Add disease categories\n",
    "disphase_mesh = disphase_mesh.merge(nodes)"
   ]
  },
  {
   "cell_type": "code",
   "execution_count": 91,
   "metadata": {},
   "outputs": [
    {
     "data": {
      "text/html": [
       "<div>\n",
       "<style scoped>\n",
       "    .dataframe tbody tr th:only-of-type {\n",
       "        vertical-align: middle;\n",
       "    }\n",
       "\n",
       "    .dataframe tbody tr th {\n",
       "        vertical-align: top;\n",
       "    }\n",
       "\n",
       "    .dataframe thead th {\n",
       "        text-align: right;\n",
       "    }\n",
       "</style>\n",
       "<table border=\"1\" class=\"dataframe\">\n",
       "  <thead>\n",
       "    <tr style=\"text-align: right;\">\n",
       "      <th></th>\n",
       "      <th>cui</th>\n",
       "      <th>name</th>\n",
       "      <th>ui</th>\n",
       "      <th>mesh_name</th>\n",
       "      <th>tree</th>\n",
       "      <th>node</th>\n",
       "      <th>disease_category</th>\n",
       "    </tr>\n",
       "  </thead>\n",
       "  <tbody>\n",
       "    <tr>\n",
       "      <th>0</th>\n",
       "      <td>C0000772</td>\n",
       "      <td>Abnormalities, Multiple</td>\n",
       "      <td>D000015</td>\n",
       "      <td>Abnormalities, Multiple</td>\n",
       "      <td>[C16, 131, 077]</td>\n",
       "      <td>C16</td>\n",
       "      <td>Congenital, Hereditary, and Neonatal Diseases ...</td>\n",
       "    </tr>\n",
       "    <tr>\n",
       "      <th>1</th>\n",
       "      <td>C0000772</td>\n",
       "      <td>Multiple Abnormalities</td>\n",
       "      <td>D000015</td>\n",
       "      <td>Abnormalities, Multiple</td>\n",
       "      <td>[C16, 131, 077]</td>\n",
       "      <td>C16</td>\n",
       "      <td>Congenital, Hereditary, and Neonatal Diseases ...</td>\n",
       "    </tr>\n",
       "    <tr>\n",
       "      <th>2</th>\n",
       "      <td>C0000772</td>\n",
       "      <td>MULTIPLE ABNORM</td>\n",
       "      <td>D000015</td>\n",
       "      <td>Abnormalities, Multiple</td>\n",
       "      <td>[C16, 131, 077]</td>\n",
       "      <td>C16</td>\n",
       "      <td>Congenital, Hereditary, and Neonatal Diseases ...</td>\n",
       "    </tr>\n",
       "    <tr>\n",
       "      <th>3</th>\n",
       "      <td>C0000772</td>\n",
       "      <td>ABNORM MULTIPLE</td>\n",
       "      <td>D000015</td>\n",
       "      <td>Abnormalities, Multiple</td>\n",
       "      <td>[C16, 131, 077]</td>\n",
       "      <td>C16</td>\n",
       "      <td>Congenital, Hereditary, and Neonatal Diseases ...</td>\n",
       "    </tr>\n",
       "    <tr>\n",
       "      <th>4</th>\n",
       "      <td>C0001080</td>\n",
       "      <td>Achondroplasia</td>\n",
       "      <td>D000130</td>\n",
       "      <td>Achondroplasia</td>\n",
       "      <td>[C16, 320, 240, 500]</td>\n",
       "      <td>C16</td>\n",
       "      <td>Congenital, Hereditary, and Neonatal Diseases ...</td>\n",
       "    </tr>\n",
       "    <tr>\n",
       "      <th>...</th>\n",
       "      <td>...</td>\n",
       "      <td>...</td>\n",
       "      <td>...</td>\n",
       "      <td>...</td>\n",
       "      <td>...</td>\n",
       "      <td>...</td>\n",
       "      <td>...</td>\n",
       "    </tr>\n",
       "    <tr>\n",
       "      <th>29356</th>\n",
       "      <td>C0016663</td>\n",
       "      <td>Pathologic Fracture</td>\n",
       "      <td>D005598</td>\n",
       "      <td>Fractures, Spontaneous</td>\n",
       "      <td>[C26, 404, 374]</td>\n",
       "      <td>C26</td>\n",
       "      <td>Wounds and Injuries</td>\n",
       "    </tr>\n",
       "    <tr>\n",
       "      <th>29357</th>\n",
       "      <td>C0016663</td>\n",
       "      <td>FRACTURE PATHOL</td>\n",
       "      <td>D005598</td>\n",
       "      <td>Fractures, Spontaneous</td>\n",
       "      <td>[C26, 404, 374]</td>\n",
       "      <td>C26</td>\n",
       "      <td>Wounds and Injuries</td>\n",
       "    </tr>\n",
       "    <tr>\n",
       "      <th>29358</th>\n",
       "      <td>C0016663</td>\n",
       "      <td>FRACTURES PATHOL</td>\n",
       "      <td>D005598</td>\n",
       "      <td>Fractures, Spontaneous</td>\n",
       "      <td>[C26, 404, 374]</td>\n",
       "      <td>C26</td>\n",
       "      <td>Wounds and Injuries</td>\n",
       "    </tr>\n",
       "    <tr>\n",
       "      <th>29359</th>\n",
       "      <td>C0016663</td>\n",
       "      <td>PATHOL FRACTURES</td>\n",
       "      <td>D005598</td>\n",
       "      <td>Fractures, Spontaneous</td>\n",
       "      <td>[C26, 404, 374]</td>\n",
       "      <td>C26</td>\n",
       "      <td>Wounds and Injuries</td>\n",
       "    </tr>\n",
       "    <tr>\n",
       "      <th>29360</th>\n",
       "      <td>C0016663</td>\n",
       "      <td>PATHOL FRACTURE</td>\n",
       "      <td>D005598</td>\n",
       "      <td>Fractures, Spontaneous</td>\n",
       "      <td>[C26, 404, 374]</td>\n",
       "      <td>C26</td>\n",
       "      <td>Wounds and Injuries</td>\n",
       "    </tr>\n",
       "  </tbody>\n",
       "</table>\n",
       "<p>29361 rows × 7 columns</p>\n",
       "</div>"
      ],
      "text/plain": [
       "            cui                     name       ui                mesh_name  \\\n",
       "0      C0000772  Abnormalities, Multiple  D000015  Abnormalities, Multiple   \n",
       "1      C0000772   Multiple Abnormalities  D000015  Abnormalities, Multiple   \n",
       "2      C0000772          MULTIPLE ABNORM  D000015  Abnormalities, Multiple   \n",
       "3      C0000772          ABNORM MULTIPLE  D000015  Abnormalities, Multiple   \n",
       "4      C0001080           Achondroplasia  D000130           Achondroplasia   \n",
       "...         ...                      ...      ...                      ...   \n",
       "29356  C0016663      Pathologic Fracture  D005598   Fractures, Spontaneous   \n",
       "29357  C0016663          FRACTURE PATHOL  D005598   Fractures, Spontaneous   \n",
       "29358  C0016663         FRACTURES PATHOL  D005598   Fractures, Spontaneous   \n",
       "29359  C0016663         PATHOL FRACTURES  D005598   Fractures, Spontaneous   \n",
       "29360  C0016663          PATHOL FRACTURE  D005598   Fractures, Spontaneous   \n",
       "\n",
       "                       tree node  \\\n",
       "0           [C16, 131, 077]  C16   \n",
       "1           [C16, 131, 077]  C16   \n",
       "2           [C16, 131, 077]  C16   \n",
       "3           [C16, 131, 077]  C16   \n",
       "4      [C16, 320, 240, 500]  C16   \n",
       "...                     ...  ...   \n",
       "29356       [C26, 404, 374]  C26   \n",
       "29357       [C26, 404, 374]  C26   \n",
       "29358       [C26, 404, 374]  C26   \n",
       "29359       [C26, 404, 374]  C26   \n",
       "29360       [C26, 404, 374]  C26   \n",
       "\n",
       "                                        disease_category  \n",
       "0      Congenital, Hereditary, and Neonatal Diseases ...  \n",
       "1      Congenital, Hereditary, and Neonatal Diseases ...  \n",
       "2      Congenital, Hereditary, and Neonatal Diseases ...  \n",
       "3      Congenital, Hereditary, and Neonatal Diseases ...  \n",
       "4      Congenital, Hereditary, and Neonatal Diseases ...  \n",
       "...                                                  ...  \n",
       "29356                                Wounds and Injuries  \n",
       "29357                                Wounds and Injuries  \n",
       "29358                                Wounds and Injuries  \n",
       "29359                                Wounds and Injuries  \n",
       "29360                                Wounds and Injuries  \n",
       "\n",
       "[29361 rows x 7 columns]"
      ]
     },
     "execution_count": 91,
     "metadata": {},
     "output_type": "execute_result"
    }
   ],
   "source": [
    "disphase_mesh"
   ]
  },
  {
   "cell_type": "code",
   "execution_count": 96,
   "metadata": {},
   "outputs": [
    {
     "data": {
      "image/png": "[encoded data removed]",
      "text/plain": [
       "<Figure size 720x576 with 1 Axes>"
      ]
     },
     "metadata": {
      "needs_background": "light"
     },
     "output_type": "display_data"
    }
   ],
   "source": [
    "disphase_mesh.disease_category.value_counts(ascending=True).plot(kind='barh', figsize= (10,8))\n",
    "plt.title(\"MeSH Disease Categories\", fontsize= 20)\n",
    "plt.show()"
   ]
  },
  {
   "cell_type": "markdown",
   "metadata": {},
   "source": [
    "# Cuantas proteinas se encuentran asociadas a cada disease?  "
   ]
  },
  {
   "cell_type": "code",
   "execution_count": 100,
   "metadata": {},
   "outputs": [
    {
     "data": {
      "text/html": [
       "<div>\n",
       "<style scoped>\n",
       "    .dataframe tbody tr th:only-of-type {\n",
       "        vertical-align: middle;\n",
       "    }\n",
       "\n",
       "    .dataframe tbody tr th {\n",
       "        vertical-align: top;\n",
       "    }\n",
       "\n",
       "    .dataframe thead th {\n",
       "        text-align: right;\n",
       "    }\n",
       "</style>\n",
       "<table border=\"1\" class=\"dataframe\">\n",
       "  <thead>\n",
       "    <tr style=\"text-align: right;\">\n",
       "      <th></th>\n",
       "      <th>id_mutation</th>\n",
       "      <th>cui</th>\n",
       "      <th>disease_name</th>\n",
       "      <th>id_protein</th>\n",
       "    </tr>\n",
       "  </thead>\n",
       "  <tbody>\n",
       "    <tr>\n",
       "      <th>0</th>\n",
       "      <td>1</td>\n",
       "      <td>C0917800</td>\n",
       "      <td>Epilepsy, Myoclonic, Infantile</td>\n",
       "      <td>3155</td>\n",
       "    </tr>\n",
       "    <tr>\n",
       "      <th>1</th>\n",
       "      <td>1</td>\n",
       "      <td>C0036572</td>\n",
       "      <td>Seizures</td>\n",
       "      <td>3155</td>\n",
       "    </tr>\n",
       "    <tr>\n",
       "      <th>2</th>\n",
       "      <td>1</td>\n",
       "      <td>C3892048</td>\n",
       "      <td>DEAFNESS, AUTOSOMAL DOMINANT 65</td>\n",
       "      <td>3155</td>\n",
       "    </tr>\n",
       "    <tr>\n",
       "      <th>3</th>\n",
       "      <td>1</td>\n",
       "      <td>C3463992</td>\n",
       "      <td>EPILEPTIC ENCEPHALOPATHY, EARLY INFANTILE, 1</td>\n",
       "      <td>3155</td>\n",
       "    </tr>\n",
       "    <tr>\n",
       "      <th>4</th>\n",
       "      <td>2</td>\n",
       "      <td>C0917800</td>\n",
       "      <td>Epilepsy, Myoclonic, Infantile</td>\n",
       "      <td>3155</td>\n",
       "    </tr>\n",
       "    <tr>\n",
       "      <th>...</th>\n",
       "      <td>...</td>\n",
       "      <td>...</td>\n",
       "      <td>...</td>\n",
       "      <td>...</td>\n",
       "    </tr>\n",
       "    <tr>\n",
       "      <th>2004252</th>\n",
       "      <td>1646277</td>\n",
       "      <td>C1333965</td>\n",
       "      <td>benign fibroma of liver</td>\n",
       "      <td>312</td>\n",
       "    </tr>\n",
       "    <tr>\n",
       "      <th>2004253</th>\n",
       "      <td>1601726</td>\n",
       "      <td>C0024121</td>\n",
       "      <td>Lung Neoplasms</td>\n",
       "      <td>5458</td>\n",
       "    </tr>\n",
       "    <tr>\n",
       "      <th>2004254</th>\n",
       "      <td>1604591</td>\n",
       "      <td>C0024121</td>\n",
       "      <td>Lung Neoplasms</td>\n",
       "      <td>1300</td>\n",
       "    </tr>\n",
       "    <tr>\n",
       "      <th>2004255</th>\n",
       "      <td>1615074</td>\n",
       "      <td>C1302392</td>\n",
       "      <td>Adenoma of small intestine</td>\n",
       "      <td>1876</td>\n",
       "    </tr>\n",
       "    <tr>\n",
       "      <th>2004256</th>\n",
       "      <td>1560377</td>\n",
       "      <td>C1336521</td>\n",
       "      <td>adenocarcinoma of submandibular gland</td>\n",
       "      <td>220</td>\n",
       "    </tr>\n",
       "  </tbody>\n",
       "</table>\n",
       "<p>2004257 rows × 4 columns</p>\n",
       "</div>"
      ],
      "text/plain": [
       "         id_mutation       cui                                  disease_name  \\\n",
       "0                  1  C0917800                Epilepsy, Myoclonic, Infantile   \n",
       "1                  1  C0036572                                      Seizures   \n",
       "2                  1  C3892048               DEAFNESS, AUTOSOMAL DOMINANT 65   \n",
       "3                  1  C3463992  EPILEPTIC ENCEPHALOPATHY, EARLY INFANTILE, 1   \n",
       "4                  2  C0917800                Epilepsy, Myoclonic, Infantile   \n",
       "...              ...       ...                                           ...   \n",
       "2004252      1646277  C1333965                       benign fibroma of liver   \n",
       "2004253      1601726  C0024121                                Lung Neoplasms   \n",
       "2004254      1604591  C0024121                                Lung Neoplasms   \n",
       "2004255      1615074  C1302392                    Adenoma of small intestine   \n",
       "2004256      1560377  C1336521         adenocarcinoma of submandibular gland   \n",
       "\n",
       "         id_protein  \n",
       "0              3155  \n",
       "1              3155  \n",
       "2              3155  \n",
       "3              3155  \n",
       "4              3155  \n",
       "...             ...  \n",
       "2004252         312  \n",
       "2004253        5458  \n",
       "2004254        1300  \n",
       "2004255        1876  \n",
       "2004256         220  \n",
       "\n",
       "[2004257 rows x 4 columns]"
      ]
     },
     "execution_count": 100,
     "metadata": {},
     "output_type": "execute_result"
    }
   ],
   "source": [
    "# For each mutation add the protein associated\n",
    "diseases_by_protein = mutation_has_disease.merge(mutation[['id_mutation', 'id_protein']])\n",
    "diseases_by_protein"
   ]
  },
  {
   "cell_type": "code",
   "execution_count": 112,
   "metadata": {},
   "outputs": [],
   "source": [
    "diseases_by_protein = diseases_by_protein.drop_duplicates(subset= ['disease_name', 'id_protein'])"
   ]
  },
  {
   "cell_type": "code",
   "execution_count": 125,
   "metadata": {},
   "outputs": [],
   "source": [
    "diseases_by_protein_2 = diseases_by_protein.groupby(['disease_name']).size().sort_values().to_frame().rename(columns= {0: 'protein_count'}).reset_index()"
   ]
  },
  {
   "cell_type": "code",
   "execution_count": 126,
   "metadata": {},
   "outputs": [
    {
     "data": {
      "text/html": [
       "<div>\n",
       "<style scoped>\n",
       "    .dataframe tbody tr th:only-of-type {\n",
       "        vertical-align: middle;\n",
       "    }\n",
       "\n",
       "    .dataframe tbody tr th {\n",
       "        vertical-align: top;\n",
       "    }\n",
       "\n",
       "    .dataframe thead th {\n",
       "        text-align: right;\n",
       "    }\n",
       "</style>\n",
       "<table border=\"1\" class=\"dataframe\">\n",
       "  <thead>\n",
       "    <tr style=\"text-align: right;\">\n",
       "      <th></th>\n",
       "      <th>disease_name</th>\n",
       "      <th>protein_count</th>\n",
       "    </tr>\n",
       "  </thead>\n",
       "  <tbody>\n",
       "    <tr>\n",
       "      <th>3053</th>\n",
       "      <td>Blindness</td>\n",
       "      <td>3</td>\n",
       "    </tr>\n",
       "    <tr>\n",
       "      <th>3054</th>\n",
       "      <td>Developmental regression</td>\n",
       "      <td>3</td>\n",
       "    </tr>\n",
       "    <tr>\n",
       "      <th>3055</th>\n",
       "      <td>Pancreatitis, Chronic</td>\n",
       "      <td>3</td>\n",
       "    </tr>\n",
       "    <tr>\n",
       "      <th>3056</th>\n",
       "      <td>Tonic - clonic seizures</td>\n",
       "      <td>3</td>\n",
       "    </tr>\n",
       "    <tr>\n",
       "      <th>3057</th>\n",
       "      <td>Idiopathic hypogonadotropic hypogonadism</td>\n",
       "      <td>3</td>\n",
       "    </tr>\n",
       "    <tr>\n",
       "      <th>...</th>\n",
       "      <td>...</td>\n",
       "      <td>...</td>\n",
       "    </tr>\n",
       "    <tr>\n",
       "      <th>3219</th>\n",
       "      <td>Anemia</td>\n",
       "      <td>3</td>\n",
       "    </tr>\n",
       "    <tr>\n",
       "      <th>3220</th>\n",
       "      <td>MICROCEPHALY, PRIMARY AUTOSOMAL RECESSIVE, 1</td>\n",
       "      <td>3</td>\n",
       "    </tr>\n",
       "    <tr>\n",
       "      <th>3221</th>\n",
       "      <td>CIC-DUX Sarcoma</td>\n",
       "      <td>3</td>\n",
       "    </tr>\n",
       "    <tr>\n",
       "      <th>3222</th>\n",
       "      <td>Ovarian Angiosarcoma</td>\n",
       "      <td>3</td>\n",
       "    </tr>\n",
       "    <tr>\n",
       "      <th>3223</th>\n",
       "      <td>VENTRICULAR TACHYCARDIA, CATECHOLAMINERGIC POL...</td>\n",
       "      <td>3</td>\n",
       "    </tr>\n",
       "  </tbody>\n",
       "</table>\n",
       "<p>171 rows × 2 columns</p>\n",
       "</div>"
      ],
      "text/plain": [
       "                                           disease_name  protein_count\n",
       "3053                                          Blindness              3\n",
       "3054                           Developmental regression              3\n",
       "3055                              Pancreatitis, Chronic              3\n",
       "3056                            Tonic - clonic seizures              3\n",
       "3057           Idiopathic hypogonadotropic hypogonadism              3\n",
       "...                                                 ...            ...\n",
       "3219                                             Anemia              3\n",
       "3220       MICROCEPHALY, PRIMARY AUTOSOMAL RECESSIVE, 1              3\n",
       "3221                                    CIC-DUX Sarcoma              3\n",
       "3222                               Ovarian Angiosarcoma              3\n",
       "3223  VENTRICULAR TACHYCARDIA, CATECHOLAMINERGIC POL...              3\n",
       "\n",
       "[171 rows x 2 columns]"
      ]
     },
     "execution_count": 126,
     "metadata": {},
     "output_type": "execute_result"
    }
   ],
   "source": [
    "diseases_by_protein_2[diseases_by_protein_2.protein_count == 3]"
   ]
  },
  {
   "cell_type": "code",
   "execution_count": 119,
   "metadata": {},
   "outputs": [
    {
     "data": {
      "text/html": [
       "<div>\n",
       "<style scoped>\n",
       "    .dataframe tbody tr th:only-of-type {\n",
       "        vertical-align: middle;\n",
       "    }\n",
       "\n",
       "    .dataframe tbody tr th {\n",
       "        vertical-align: top;\n",
       "    }\n",
       "\n",
       "    .dataframe thead th {\n",
       "        text-align: right;\n",
       "    }\n",
       "</style>\n",
       "<table border=\"1\" class=\"dataframe\">\n",
       "  <thead>\n",
       "    <tr style=\"text-align: right;\">\n",
       "      <th></th>\n",
       "      <th>id_mutation</th>\n",
       "      <th>cui</th>\n",
       "      <th>disease_name</th>\n",
       "      <th>id_protein</th>\n",
       "    </tr>\n",
       "  </thead>\n",
       "  <tbody>\n",
       "    <tr>\n",
       "      <th>329006</th>\n",
       "      <td>162850</td>\n",
       "      <td>C0002871</td>\n",
       "      <td>Anemia</td>\n",
       "      <td>3379</td>\n",
       "    </tr>\n",
       "    <tr>\n",
       "      <th>842332</th>\n",
       "      <td>68975</td>\n",
       "      <td>C0002871</td>\n",
       "      <td>Anemia</td>\n",
       "      <td>4287</td>\n",
       "    </tr>\n",
       "    <tr>\n",
       "      <th>842333</th>\n",
       "      <td>147359</td>\n",
       "      <td>C0002871</td>\n",
       "      <td>Anemia</td>\n",
       "      <td>1612</td>\n",
       "    </tr>\n",
       "  </tbody>\n",
       "</table>\n",
       "</div>"
      ],
      "text/plain": [
       "        id_mutation       cui disease_name  id_protein\n",
       "329006       162850  C0002871       Anemia        3379\n",
       "842332        68975  C0002871       Anemia        4287\n",
       "842333       147359  C0002871       Anemia        1612"
      ]
     },
     "execution_count": 119,
     "metadata": {},
     "output_type": "execute_result"
    }
   ],
   "source": [
    "diseases_by_protein[diseases_by_protein.disease_name == 'Anemia']"
   ]
  },
  {
   "cell_type": "code",
   "execution_count": 127,
   "metadata": {},
   "outputs": [
    {
     "data": {
      "text/html": [
       "<div>\n",
       "<style scoped>\n",
       "    .dataframe tbody tr th:only-of-type {\n",
       "        vertical-align: middle;\n",
       "    }\n",
       "\n",
       "    .dataframe tbody tr th {\n",
       "        vertical-align: top;\n",
       "    }\n",
       "\n",
       "    .dataframe thead th {\n",
       "        text-align: right;\n",
       "    }\n",
       "</style>\n",
       "<table border=\"1\" class=\"dataframe\">\n",
       "  <thead>\n",
       "    <tr style=\"text-align: right;\">\n",
       "      <th></th>\n",
       "      <th>protein_count</th>\n",
       "    </tr>\n",
       "  </thead>\n",
       "  <tbody>\n",
       "    <tr>\n",
       "      <th>count</th>\n",
       "      <td>4051.000000</td>\n",
       "    </tr>\n",
       "    <tr>\n",
       "      <th>mean</th>\n",
       "      <td>80.566527</td>\n",
       "    </tr>\n",
       "    <tr>\n",
       "      <th>std</th>\n",
       "      <td>494.782898</td>\n",
       "    </tr>\n",
       "    <tr>\n",
       "      <th>min</th>\n",
       "      <td>1.000000</td>\n",
       "    </tr>\n",
       "    <tr>\n",
       "      <th>25%</th>\n",
       "      <td>1.000000</td>\n",
       "    </tr>\n",
       "    <tr>\n",
       "      <th>50%</th>\n",
       "      <td>1.000000</td>\n",
       "    </tr>\n",
       "    <tr>\n",
       "      <th>75%</th>\n",
       "      <td>2.000000</td>\n",
       "    </tr>\n",
       "    <tr>\n",
       "      <th>max</th>\n",
       "      <td>5322.000000</td>\n",
       "    </tr>\n",
       "  </tbody>\n",
       "</table>\n",
       "</div>"
      ],
      "text/plain": [
       "       protein_count\n",
       "count    4051.000000\n",
       "mean       80.566527\n",
       "std       494.782898\n",
       "min         1.000000\n",
       "25%         1.000000\n",
       "50%         1.000000\n",
       "75%         2.000000\n",
       "max      5322.000000"
      ]
     },
     "execution_count": 127,
     "metadata": {},
     "output_type": "execute_result"
    }
   ],
   "source": [
    "diseases_by_protein_2.describe()"
   ]
  },
  {
   "cell_type": "code",
   "execution_count": 138,
   "metadata": {},
   "outputs": [],
   "source": [
    "diseases_by_protein_3 = diseases_by_protein_2.groupby('protein_count').size().sort_values().reset_index().rename(columns= {0: 'disease_count'})"
   ]
  },
  {
   "cell_type": "code",
   "execution_count": 146,
   "metadata": {},
   "outputs": [
    {
     "data": {
      "text/html": [
       "<div>\n",
       "<style scoped>\n",
       "    .dataframe tbody tr th:only-of-type {\n",
       "        vertical-align: middle;\n",
       "    }\n",
       "\n",
       "    .dataframe tbody tr th {\n",
       "        vertical-align: top;\n",
       "    }\n",
       "\n",
       "    .dataframe thead th {\n",
       "        text-align: right;\n",
       "    }\n",
       "</style>\n",
       "<table border=\"1\" class=\"dataframe\">\n",
       "  <thead>\n",
       "    <tr style=\"text-align: right;\">\n",
       "      <th></th>\n",
       "      <th>protein_count</th>\n",
       "      <th>disease_count</th>\n",
       "    </tr>\n",
       "  </thead>\n",
       "  <tbody>\n",
       "    <tr>\n",
       "      <th>0</th>\n",
       "      <td>318</td>\n",
       "      <td>1</td>\n",
       "    </tr>\n",
       "    <tr>\n",
       "      <th>1</th>\n",
       "      <td>625</td>\n",
       "      <td>1</td>\n",
       "    </tr>\n",
       "    <tr>\n",
       "      <th>2</th>\n",
       "      <td>629</td>\n",
       "      <td>1</td>\n",
       "    </tr>\n",
       "    <tr>\n",
       "      <th>3</th>\n",
       "      <td>634</td>\n",
       "      <td>1</td>\n",
       "    </tr>\n",
       "    <tr>\n",
       "      <th>4</th>\n",
       "      <td>636</td>\n",
       "      <td>1</td>\n",
       "    </tr>\n",
       "    <tr>\n",
       "      <th>...</th>\n",
       "      <td>...</td>\n",
       "      <td>...</td>\n",
       "    </tr>\n",
       "    <tr>\n",
       "      <th>275</th>\n",
       "      <td>6</td>\n",
       "      <td>59</td>\n",
       "    </tr>\n",
       "    <tr>\n",
       "      <th>276</th>\n",
       "      <td>4</td>\n",
       "      <td>102</td>\n",
       "    </tr>\n",
       "    <tr>\n",
       "      <th>277</th>\n",
       "      <td>3</td>\n",
       "      <td>171</td>\n",
       "    </tr>\n",
       "    <tr>\n",
       "      <th>278</th>\n",
       "      <td>2</td>\n",
       "      <td>401</td>\n",
       "    </tr>\n",
       "    <tr>\n",
       "      <th>279</th>\n",
       "      <td>1</td>\n",
       "      <td>2652</td>\n",
       "    </tr>\n",
       "  </tbody>\n",
       "</table>\n",
       "<p>280 rows × 2 columns</p>\n",
       "</div>"
      ],
      "text/plain": [
       "     protein_count  disease_count\n",
       "0              318              1\n",
       "1              625              1\n",
       "2              629              1\n",
       "3              634              1\n",
       "4              636              1\n",
       "..             ...            ...\n",
       "275              6             59\n",
       "276              4            102\n",
       "277              3            171\n",
       "278              2            401\n",
       "279              1           2652\n",
       "\n",
       "[280 rows x 2 columns]"
      ]
     },
     "execution_count": 146,
     "metadata": {},
     "output_type": "execute_result"
    }
   ],
   "source": [
    "diseases_by_protein_3"
   ]
  },
  {
   "cell_type": "code",
   "execution_count": 154,
   "metadata": {},
   "outputs": [
    {
     "data": {
      "image/png": "[encoded data removed]",
      "text/plain": [
       "<Figure size 720x576 with 1 Axes>"
      ]
     },
     "metadata": {
      "needs_background": "light"
     },
     "output_type": "display_data"
    }
   ],
   "source": [
    "plt.subplots(figsize= (10,8))\n",
    "sns.histplot(x = 'protein_count', data= diseases_by_protein_3, bins= 20)\n",
    "plt.title(\"No. of diseases by no. of proteins\")\n",
    "plt.show()"
   ]
  },
  {
   "cell_type": "code",
   "execution_count": null,
   "metadata": {},
   "outputs": [],
   "source": []
  }
 ],
 "metadata": {
  "interpreter": {
   "hash": "9164a3399a70d355c381b62813f30880ed90ca5a6f321bf0d85375640bda7ee5"
  },
  "kernelspec": {
   "display_name": "Python 3.7.9 64-bit",
   "name": "python3"
  },
  "language_info": {
   "codemirror_mode": {
    "name": "ipython",
    "version": 3
   },
   "file_extension": ".py",
   "mimetype": "text/x-python",
   "name": "python",
   "nbconvert_exporter": "python",
   "pygments_lexer": "ipython3",
   "version": "3.7.9"
  },
  "orig_nbformat": 4
 },
 "nbformat": 4,
 "nbformat_minor": 2
}
