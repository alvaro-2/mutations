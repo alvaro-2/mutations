{
 "metadata": {
  "language_info": {
   "codemirror_mode": {
    "name": "ipython",
    "version": 3
   },
   "file_extension": ".py",
   "mimetype": "text/x-python",
   "name": "python",
   "nbconvert_exporter": "python",
   "pygments_lexer": "ipython3",
   "version": "3.9.1"
  },
  "orig_nbformat": 2,
  "kernelspec": {
   "name": "python391jvsc74a57bd02647ea34e536f865ab67ff9ddee7fd78773d956cec0cab53c79b32cd10da5d83",
   "display_name": "Python 3.9.1 64-bit"
  },
  "metadata": {
   "interpreter": {
    "hash": "2647ea34e536f865ab67ff9ddee7fd78773d956cec0cab53c79b32cd10da5d83"
   }
  }
 },
 "nbformat": 4,
 "nbformat_minor": 2,
 "cells": [
  {
   "cell_type": "code",
   "execution_count": 547,
   "metadata": {},
   "outputs": [],
   "source": [
    "import pandas as pd"
   ]
  },
  {
   "source": [
    "# Tabla Proteins  \n",
    "## debe tener las cols: *id_protein, uniprot_acc, hgnc_id, gene_id, gene_name, sequence, length*"
   ],
   "cell_type": "markdown",
   "metadata": {}
  },
  {
   "cell_type": "code",
   "execution_count": 548,
   "metadata": {},
   "outputs": [],
   "source": [
    "box1 = pd.read_csv('box1_proteins.csv')\n",
    "box1 = box1.rename(columns={'uniprot': 'uniprot_acc'})\n",
    "box1 = box1.drop(columns='organism')"
   ]
  },
  {
   "cell_type": "code",
   "execution_count": 549,
   "metadata": {},
   "outputs": [
    {
     "output_type": "execute_result",
     "data": {
      "text/plain": [
       "    uniprot_acc                                    mlo     hgnc_id  length  \\\n",
       "0        O15527                        nuclear speckle   HGNC:8125     345   \n",
       "1        O43663                               pcg body   HGNC:9341     620   \n",
       "2        O75494                        nuclear speckle  HGNC:16713     262   \n",
       "3        O95613           centrosome/spindle pole body  HGNC:16068    3336   \n",
       "4        P08047           centrosome/spindle pole body  HGNC:11205     785   \n",
       "..          ...                                    ...         ...     ...   \n",
       "584      Q07352  cytoplasmic ribonucleoprotein granule   HGNC:1107     338   \n",
       "585      Q8NE35                                 p-body  HGNC:21746     698   \n",
       "586      P26368                        nuclear speckle  HGNC:23156     475   \n",
       "587      Q15233                            paraspeckle   HGNC:7871     471   \n",
       "588      P23246                            paraspeckle  HGNC:10774     707   \n",
       "\n",
       "                                              sequence  \n",
       "0    MPARALLPRRMGHRTLASTPALWASIPCPRSELRLDLVLPSGQSFR...  \n",
       "1    MRRSEVLAEESIVCLQKALNHLREIWELIGIPEDQRLQRTEVVKKH...  \n",
       "2    MSRYLRPPNTSLFVRNVADDTRSEDLRREFGRYGPIVDVYVPLDFY...  \n",
       "3    MEVEQEQRRRKVEAGRTKLAHFRQRKTKGDSSHSEKKTAKRKGSAV...  \n",
       "4    MSDQDHSMDEMTAVVKIEKGVGGNNGGNGNGGGAFSQARSSSTGSS...  \n",
       "..                                                 ...  \n",
       "584  MTTTLVSATIFDLSEVLCKGNKMLNYSAPSAGGCLLDRKAVGTPAG...  \n",
       "585  MQDDLLMDKSKTQPQPQQQQRQQQQPQPESSVSEAPSTPLSSETPK...  \n",
       "586  MSDFDEFERQLNENKQERDKENRHRKRSHSRSRSRDRKRRSRSRDR...  \n",
       "587  MQSNKTFNLEKQNHTPRKHHQHHHQQQHHQQQQQQPPPPPIPANGQ...  \n",
       "588  MSRDRFRSRGGGGGGFHRRGGGGGRGGLHDFRSPPPGMGLNQNRGP...  \n",
       "\n",
       "[589 rows x 5 columns]"
      ],
      "text/html": "<div>\n<style scoped>\n    .dataframe tbody tr th:only-of-type {\n        vertical-align: middle;\n    }\n\n    .dataframe tbody tr th {\n        vertical-align: top;\n    }\n\n    .dataframe thead th {\n        text-align: right;\n    }\n</style>\n<table border=\"1\" class=\"dataframe\">\n  <thead>\n    <tr style=\"text-align: right;\">\n      <th></th>\n      <th>uniprot_acc</th>\n      <th>mlo</th>\n      <th>hgnc_id</th>\n      <th>length</th>\n      <th>sequence</th>\n    </tr>\n  </thead>\n  <tbody>\n    <tr>\n      <th>0</th>\n      <td>O15527</td>\n      <td>nuclear speckle</td>\n      <td>HGNC:8125</td>\n      <td>345</td>\n      <td>MPARALLPRRMGHRTLASTPALWASIPCPRSELRLDLVLPSGQSFR...</td>\n    </tr>\n    <tr>\n      <th>1</th>\n      <td>O43663</td>\n      <td>pcg body</td>\n      <td>HGNC:9341</td>\n      <td>620</td>\n      <td>MRRSEVLAEESIVCLQKALNHLREIWELIGIPEDQRLQRTEVVKKH...</td>\n    </tr>\n    <tr>\n      <th>2</th>\n      <td>O75494</td>\n      <td>nuclear speckle</td>\n      <td>HGNC:16713</td>\n      <td>262</td>\n      <td>MSRYLRPPNTSLFVRNVADDTRSEDLRREFGRYGPIVDVYVPLDFY...</td>\n    </tr>\n    <tr>\n      <th>3</th>\n      <td>O95613</td>\n      <td>centrosome/spindle pole body</td>\n      <td>HGNC:16068</td>\n      <td>3336</td>\n      <td>MEVEQEQRRRKVEAGRTKLAHFRQRKTKGDSSHSEKKTAKRKGSAV...</td>\n    </tr>\n    <tr>\n      <th>4</th>\n      <td>P08047</td>\n      <td>centrosome/spindle pole body</td>\n      <td>HGNC:11205</td>\n      <td>785</td>\n      <td>MSDQDHSMDEMTAVVKIEKGVGGNNGGNGNGGGAFSQARSSSTGSS...</td>\n    </tr>\n    <tr>\n      <th>...</th>\n      <td>...</td>\n      <td>...</td>\n      <td>...</td>\n      <td>...</td>\n      <td>...</td>\n    </tr>\n    <tr>\n      <th>584</th>\n      <td>Q07352</td>\n      <td>cytoplasmic ribonucleoprotein granule</td>\n      <td>HGNC:1107</td>\n      <td>338</td>\n      <td>MTTTLVSATIFDLSEVLCKGNKMLNYSAPSAGGCLLDRKAVGTPAG...</td>\n    </tr>\n    <tr>\n      <th>585</th>\n      <td>Q8NE35</td>\n      <td>p-body</td>\n      <td>HGNC:21746</td>\n      <td>698</td>\n      <td>MQDDLLMDKSKTQPQPQQQQRQQQQPQPESSVSEAPSTPLSSETPK...</td>\n    </tr>\n    <tr>\n      <th>586</th>\n      <td>P26368</td>\n      <td>nuclear speckle</td>\n      <td>HGNC:23156</td>\n      <td>475</td>\n      <td>MSDFDEFERQLNENKQERDKENRHRKRSHSRSRSRDRKRRSRSRDR...</td>\n    </tr>\n    <tr>\n      <th>587</th>\n      <td>Q15233</td>\n      <td>paraspeckle</td>\n      <td>HGNC:7871</td>\n      <td>471</td>\n      <td>MQSNKTFNLEKQNHTPRKHHQHHHQQQHHQQQQQQPPPPPIPANGQ...</td>\n    </tr>\n    <tr>\n      <th>588</th>\n      <td>P23246</td>\n      <td>paraspeckle</td>\n      <td>HGNC:10774</td>\n      <td>707</td>\n      <td>MSRDRFRSRGGGGGGFHRRGGGGGRGGLHDFRSPPPGMGLNQNRGP...</td>\n    </tr>\n  </tbody>\n</table>\n<p>589 rows × 5 columns</p>\n</div>"
     },
     "metadata": {},
     "execution_count": 549
    }
   ],
   "source": [
    "box1"
   ]
  },
  {
   "cell_type": "code",
   "execution_count": 550,
   "metadata": {},
   "outputs": [],
   "source": [
    "box1.uniprot_acc = box1.uniprot_acc.apply(str)\n",
    "box1.hgnc_id = box1.hgnc_id.apply(str)"
   ]
  },
  {
   "cell_type": "code",
   "execution_count": 551,
   "metadata": {},
   "outputs": [],
   "source": [
    "# tabla separada para MLOs\n",
    "mlo = box1.copy()"
   ]
  },
  {
   "source": [
    "## Cross references"
   ],
   "cell_type": "markdown",
   "metadata": {}
  },
  {
   "cell_type": "code",
   "execution_count": 552,
   "metadata": {},
   "outputs": [],
   "source": [
    "# Esta tabla, obtenida en biomart, contiene entre otras cosas, gene_id, gene_name y uniprot_acc\n",
    "bm = pd.read_csv('biomart_geneid_uniprot.csv')\n",
    "bm = bm.rename(columns= {'Gene name': 'gene_name', 'HGNC ID': 'hgnc_id', 'UniProtKB/Swiss-Prot ID': 'uniprot_acc', 'NCBI gene (formerly Entrezgene) ID': 'gene_id'})\n",
    "bm = bm[['uniprot_acc', 'hgnc_id', 'gene_name', 'gene_id']]\n",
    "bm = bm.drop_duplicates()"
   ]
  },
  {
   "cell_type": "code",
   "execution_count": 553,
   "metadata": {},
   "outputs": [
    {
     "output_type": "execute_result",
     "data": {
      "text/plain": [
       "     uniprot_acc    hgnc_id   gene_name  gene_id\n",
       "75        I0J062        NaN  AP006621.6      NaN\n",
       "4149      Q8WZ33        NaN  AC145212.1      NaN\n",
       "4309      Q969X6  HGNC:1983        UTP4      NaN"
      ],
      "text/html": "<div>\n<style scoped>\n    .dataframe tbody tr th:only-of-type {\n        vertical-align: middle;\n    }\n\n    .dataframe tbody tr th {\n        vertical-align: top;\n    }\n\n    .dataframe thead th {\n        text-align: right;\n    }\n</style>\n<table border=\"1\" class=\"dataframe\">\n  <thead>\n    <tr style=\"text-align: right;\">\n      <th></th>\n      <th>uniprot_acc</th>\n      <th>hgnc_id</th>\n      <th>gene_name</th>\n      <th>gene_id</th>\n    </tr>\n  </thead>\n  <tbody>\n    <tr>\n      <th>75</th>\n      <td>I0J062</td>\n      <td>NaN</td>\n      <td>AP006621.6</td>\n      <td>NaN</td>\n    </tr>\n    <tr>\n      <th>4149</th>\n      <td>Q8WZ33</td>\n      <td>NaN</td>\n      <td>AC145212.1</td>\n      <td>NaN</td>\n    </tr>\n    <tr>\n      <th>4309</th>\n      <td>Q969X6</td>\n      <td>HGNC:1983</td>\n      <td>UTP4</td>\n      <td>NaN</td>\n    </tr>\n  </tbody>\n</table>\n</div>"
     },
     "metadata": {},
     "execution_count": 553
    }
   ],
   "source": [
    "bm[bm.gene_id.isnull()]"
   ]
  },
  {
   "cell_type": "code",
   "execution_count": 554,
   "metadata": {},
   "outputs": [],
   "source": [
    "# Los agrego. Data obtenida de HGNC (genenames.org)\n",
    "bm.loc[75, 'gene_name'] = 'PANO1'\n",
    "bm.loc[75, 'hgnc_id'] = 'HGNC:51237'\n",
    "bm.loc[75, 'gene_id'] = 101927423\n",
    "bm.loc[4149, 'gene_name'] = 'MAFIP'\n",
    "bm.loc[4149, 'hgnc_id'] = 'HGNC:31102'\n",
    "bm.loc[4149, 'gene_id'] = 727764\n",
    "bm.loc[4309, 'gene_id'] = 84916"
   ]
  },
  {
   "cell_type": "code",
   "execution_count": 555,
   "metadata": {},
   "outputs": [
    {
     "output_type": "stream",
     "name": "stdout",
     "text": [
      "<class 'pandas.core.frame.DataFrame'>\nInt64Index: 597 entries, 0 to 5912\nData columns (total 4 columns):\n #   Column       Non-Null Count  Dtype  \n---  ------       --------------  -----  \n 0   uniprot_acc  597 non-null    object \n 1   hgnc_id      597 non-null    object \n 2   gene_name    597 non-null    object \n 3   gene_id      597 non-null    float64\ndtypes: float64(1), object(3)\nmemory usage: 39.5+ KB\n"
     ]
    }
   ],
   "source": [
    "bm.info()"
   ]
  },
  {
   "cell_type": "code",
   "execution_count": 556,
   "metadata": {},
   "outputs": [
    {
     "output_type": "execute_result",
     "data": {
      "text/plain": [
       "      uniprot_acc     hgnc_id gene_name   gene_id\n",
       "0          P04217      HGNC:5      A1BG       1.0\n",
       "2          Q9NQ94  HGNC:24086      A1CF   29974.0\n",
       "4          P01023      HGNC:7       A2M       2.0\n",
       "6          A8K2U0  HGNC:23336     A2ML1  144568.0\n",
       "12         U3KPV4  HGNC:30005   A3GALT2  127550.0\n",
       "...           ...         ...       ...       ...\n",
       "47678      Q6WRX3  HGNC:32058    ZYG11A  440590.0\n",
       "47680      Q9C0D3  HGNC:25820    ZYG11B   79699.0\n",
       "47681      Q15942  HGNC:13200       ZYX    7791.0\n",
       "47683      O43149  HGNC:29027     ZZEF1   23140.0\n",
       "47684      Q8IYH5  HGNC:24523      ZZZ3   26009.0\n",
       "\n",
       "[20256 rows x 4 columns]"
      ],
      "text/html": "<div>\n<style scoped>\n    .dataframe tbody tr th:only-of-type {\n        vertical-align: middle;\n    }\n\n    .dataframe tbody tr th {\n        vertical-align: top;\n    }\n\n    .dataframe thead th {\n        text-align: right;\n    }\n</style>\n<table border=\"1\" class=\"dataframe\">\n  <thead>\n    <tr style=\"text-align: right;\">\n      <th></th>\n      <th>uniprot_acc</th>\n      <th>hgnc_id</th>\n      <th>gene_name</th>\n      <th>gene_id</th>\n    </tr>\n  </thead>\n  <tbody>\n    <tr>\n      <th>0</th>\n      <td>P04217</td>\n      <td>HGNC:5</td>\n      <td>A1BG</td>\n      <td>1.0</td>\n    </tr>\n    <tr>\n      <th>2</th>\n      <td>Q9NQ94</td>\n      <td>HGNC:24086</td>\n      <td>A1CF</td>\n      <td>29974.0</td>\n    </tr>\n    <tr>\n      <th>4</th>\n      <td>P01023</td>\n      <td>HGNC:7</td>\n      <td>A2M</td>\n      <td>2.0</td>\n    </tr>\n    <tr>\n      <th>6</th>\n      <td>A8K2U0</td>\n      <td>HGNC:23336</td>\n      <td>A2ML1</td>\n      <td>144568.0</td>\n    </tr>\n    <tr>\n      <th>12</th>\n      <td>U3KPV4</td>\n      <td>HGNC:30005</td>\n      <td>A3GALT2</td>\n      <td>127550.0</td>\n    </tr>\n    <tr>\n      <th>...</th>\n      <td>...</td>\n      <td>...</td>\n      <td>...</td>\n      <td>...</td>\n    </tr>\n    <tr>\n      <th>47678</th>\n      <td>Q6WRX3</td>\n      <td>HGNC:32058</td>\n      <td>ZYG11A</td>\n      <td>440590.0</td>\n    </tr>\n    <tr>\n      <th>47680</th>\n      <td>Q9C0D3</td>\n      <td>HGNC:25820</td>\n      <td>ZYG11B</td>\n      <td>79699.0</td>\n    </tr>\n    <tr>\n      <th>47681</th>\n      <td>Q15942</td>\n      <td>HGNC:13200</td>\n      <td>ZYX</td>\n      <td>7791.0</td>\n    </tr>\n    <tr>\n      <th>47683</th>\n      <td>O43149</td>\n      <td>HGNC:29027</td>\n      <td>ZZEF1</td>\n      <td>23140.0</td>\n    </tr>\n    <tr>\n      <th>47684</th>\n      <td>Q8IYH5</td>\n      <td>HGNC:24523</td>\n      <td>ZZZ3</td>\n      <td>26009.0</td>\n    </tr>\n  </tbody>\n</table>\n<p>20256 rows × 4 columns</p>\n</div>"
     },
     "metadata": {},
     "execution_count": 556
    }
   ],
   "source": [
    "# Tabla con cross references customizada de HGNC (approved human gene nomenclature, genenames.org)\n",
    "hgnc = pd.read_csv('hgnc_custom_all.txt', sep='\\t')\n",
    "hgnc = hgnc.rename(columns = {'HGNC ID': 'hgnc_id', 'UniProt ID(supplied by UniProt)': 'uniprot_acc', 'NCBI Gene ID': 'gene_id', 'Approved symbol': 'gene_name'})\n",
    "# Subset de proteinas y estado 'Approved', dejo las cols que interesan\n",
    "hgnc = hgnc[(hgnc.uniprot_acc.notnull()) & (hgnc.Status == 'Approved')]\n",
    "hgnc = hgnc[['uniprot_acc', 'hgnc_id', 'gene_name', 'gene_id']]\n",
    "hgnc"
   ]
  },
  {
   "cell_type": "code",
   "execution_count": 557,
   "metadata": {},
   "outputs": [
    {
     "output_type": "stream",
     "name": "stdout",
     "text": [
      "<class 'pandas.core.frame.DataFrame'>\nInt64Index: 20256 entries, 0 to 47684\nData columns (total 4 columns):\n #   Column       Non-Null Count  Dtype  \n---  ------       --------------  -----  \n 0   uniprot_acc  20256 non-null  object \n 1   hgnc_id      20256 non-null  object \n 2   gene_name    20256 non-null  object \n 3   gene_id      20097 non-null  float64\ndtypes: float64(1), object(3)\nmemory usage: 791.2+ KB\n"
     ]
    }
   ],
   "source": [
    "hgnc.info()"
   ]
  },
  {
   "cell_type": "code",
   "execution_count": 558,
   "metadata": {},
   "outputs": [],
   "source": [
    "# subseteo por todos los que no estan en bm, ya que bm esta completo\n",
    "hgnc = hgnc[~hgnc.uniprot_acc.isin(bm.uniprot_acc)]"
   ]
  },
  {
   "cell_type": "code",
   "execution_count": 559,
   "metadata": {},
   "outputs": [],
   "source": [
    "# Complemento ambas tablas en una\n",
    "cross = pd.concat([hgnc, bm])"
   ]
  },
  {
   "cell_type": "code",
   "execution_count": 560,
   "metadata": {},
   "outputs": [
    {
     "output_type": "stream",
     "name": "stdout",
     "text": [
      "<class 'pandas.core.frame.DataFrame'>\nInt64Index: 20266 entries, 0 to 5912\nData columns (total 4 columns):\n #   Column       Non-Null Count  Dtype  \n---  ------       --------------  -----  \n 0   uniprot_acc  20266 non-null  object \n 1   hgnc_id      20266 non-null  object \n 2   gene_name    20266 non-null  object \n 3   gene_id      20111 non-null  float64\ndtypes: float64(1), object(3)\nmemory usage: 791.6+ KB\n"
     ]
    }
   ],
   "source": [
    "cross.info()"
   ]
  },
  {
   "source": [
    "## Busco las proteinas de box1"
   ],
   "cell_type": "markdown",
   "metadata": {}
  },
  {
   "cell_type": "code",
   "execution_count": 561,
   "metadata": {},
   "outputs": [],
   "source": [
    "aux = cross[cross.uniprot_acc.isin(box1.uniprot_acc)]\n",
    "aux = aux.drop_duplicates(['uniprot_acc'])"
   ]
  },
  {
   "cell_type": "code",
   "execution_count": 562,
   "metadata": {},
   "outputs": [],
   "source": [
    "aux.gene_name = aux.gene_name.apply(str)\n",
    "aux.gene_id = aux.gene_id.apply(int)\n",
    "aux.uniprot_acc = aux.uniprot_acc.apply(str)\n",
    "aux.hgnc_id = aux.hgnc_id.apply(str)"
   ]
  },
  {
   "cell_type": "code",
   "execution_count": 563,
   "metadata": {},
   "outputs": [
    {
     "output_type": "execute_result",
     "data": {
      "text/plain": [
       "   uniprot_acc     hgnc_id gene_name    gene_id\n",
       "75      I0J062  HGNC:51237     PANO1  101927423"
      ],
      "text/html": "<div>\n<style scoped>\n    .dataframe tbody tr th:only-of-type {\n        vertical-align: middle;\n    }\n\n    .dataframe tbody tr th {\n        vertical-align: top;\n    }\n\n    .dataframe thead th {\n        text-align: right;\n    }\n</style>\n<table border=\"1\" class=\"dataframe\">\n  <thead>\n    <tr style=\"text-align: right;\">\n      <th></th>\n      <th>uniprot_acc</th>\n      <th>hgnc_id</th>\n      <th>gene_name</th>\n      <th>gene_id</th>\n    </tr>\n  </thead>\n  <tbody>\n    <tr>\n      <th>75</th>\n      <td>I0J062</td>\n      <td>HGNC:51237</td>\n      <td>PANO1</td>\n      <td>101927423</td>\n    </tr>\n  </tbody>\n</table>\n</div>"
     },
     "metadata": {},
     "execution_count": 563
    }
   ],
   "source": [
    "aux[aux.uniprot_acc == 'I0J062']"
   ]
  },
  {
   "cell_type": "code",
   "execution_count": 564,
   "metadata": {},
   "outputs": [
    {
     "output_type": "execute_result",
     "data": {
      "text/plain": [
       "Series([], Name: gene_id, dtype: int64)"
      ]
     },
     "metadata": {},
     "execution_count": 564
    }
   ],
   "source": [
    "aux.gene_id[aux.gene_id.isnull()]"
   ]
  },
  {
   "cell_type": "code",
   "execution_count": 565,
   "metadata": {},
   "outputs": [
    {
     "output_type": "stream",
     "name": "stdout",
     "text": [
      "<class 'pandas.core.frame.DataFrame'>\nInt64Index: 587 entries, 1034 to 5912\nData columns (total 4 columns):\n #   Column       Non-Null Count  Dtype \n---  ------       --------------  ----- \n 0   uniprot_acc  587 non-null    object\n 1   hgnc_id      587 non-null    object\n 2   gene_name    587 non-null    object\n 3   gene_id      587 non-null    int64 \ndtypes: int64(1), object(3)\nmemory usage: 22.9+ KB\n"
     ]
    }
   ],
   "source": [
    "aux.info()"
   ]
  },
  {
   "cell_type": "code",
   "execution_count": 566,
   "metadata": {},
   "outputs": [
    {
     "output_type": "stream",
     "name": "stdout",
     "text": [
      "<class 'pandas.core.frame.DataFrame'>\nRangeIndex: 589 entries, 0 to 588\nData columns (total 5 columns):\n #   Column       Non-Null Count  Dtype \n---  ------       --------------  ----- \n 0   uniprot_acc  589 non-null    object\n 1   mlo          589 non-null    object\n 2   hgnc_id      589 non-null    object\n 3   length       589 non-null    int64 \n 4   sequence     589 non-null    object\ndtypes: int64(1), object(4)\nmemory usage: 23.1+ KB\n"
     ]
    }
   ],
   "source": [
    "box1.info()"
   ]
  },
  {
   "cell_type": "code",
   "execution_count": 567,
   "metadata": {},
   "outputs": [],
   "source": [
    "box1 = box1.merge(aux, how='left')\n",
    "box1 = box1.drop_duplicates(['uniprot_acc'])"
   ]
  },
  {
   "cell_type": "code",
   "execution_count": 568,
   "metadata": {},
   "outputs": [
    {
     "output_type": "stream",
     "name": "stdout",
     "text": [
      "<class 'pandas.core.frame.DataFrame'>\nInt64Index: 589 entries, 0 to 588\nData columns (total 7 columns):\n #   Column       Non-Null Count  Dtype  \n---  ------       --------------  -----  \n 0   uniprot_acc  589 non-null    object \n 1   mlo          589 non-null    object \n 2   hgnc_id      589 non-null    object \n 3   length       589 non-null    int64  \n 4   sequence     589 non-null    object \n 5   gene_name    578 non-null    object \n 6   gene_id      578 non-null    float64\ndtypes: float64(1), int64(1), object(5)\nmemory usage: 36.8+ KB\n"
     ]
    }
   ],
   "source": [
    "box1.info()"
   ]
  },
  {
   "cell_type": "code",
   "execution_count": 569,
   "metadata": {},
   "outputs": [
    {
     "output_type": "execute_result",
     "data": {
      "text/plain": [
       "    uniprot_acc                           mlo     hgnc_id  length  \\\n",
       "18       Q86V81               nuclear speckle         nan     257   \n",
       "70       P24928                     nucleolus         nan    1970   \n",
       "130      I0J062                     nucleolus         nan     215   \n",
       "211      P78344             null_phasepdb_rev         nan     907   \n",
       "224      Q0WX57                     nucleolus  HGNC:44458     530   \n",
       "247      Q16198       transcription factories         nan      76   \n",
       "315      Q8WZ33                     nucleolus         nan     124   \n",
       "364      Q9BYB0  pre and postsynaptic density         nan    1731   \n",
       "411      Q9UN81                stress granule         nan     338   \n",
       "448      Q9UKL3            histone locus body         nan    1982   \n",
       "489      Q92841                     nucleolus         nan     729   \n",
       "\n",
       "                                              sequence gene_name  gene_id  \n",
       "18   MADKMDMSLDDIIKLNRSQRGGRGGGRGRGRAGSQGGRGGGAQAAA...       NaN      NaN  \n",
       "70   MHGGGPPSGDSACPLRTIKRVQFGVLSPDELKRMSVTEGGIKYPET...       NaN      NaN  \n",
       "130  MGVRLRVWPAAPHSISRCPRPLGAVLSILLAGGSRKGTPTARCLGQ...       NaN      NaN  \n",
       "211  MESAIAEGGASRFSASSGGGGSRGAPQHYPKTAGNSEFLGKTPGQN...       NaN      NaN  \n",
       "224  MEDDSLYLRGEWQFNHFSKLTSSRPDAAFAEIQRTSLPEKSPLSCE...       NaN      NaN  \n",
       "247  PTSYPPQTGSYSQAPSQYSQQSSSYGQQNPYQILGPTSSRLANPGS...       NaN      NaN  \n",
       "315  MLCPRAAFLVGSFHGVFPGPPASSHWEFWVPSTPVGAYFCPPQPQL...       NaN      NaN  \n",
       "364  MDGPGASAVVVRVGIPDLQQTKCLRLDPAAPVWAAKQRVLCALNHS...       NaN      NaN  \n",
       "411  MGKKQNRKTGNSKTQSASPPPKERSSSPATEQSWMENDFDELREEG...       NaN      NaN  \n",
       "448  MAADDDNGDGTSLFDVFSASPLKNNDEGSLDIYAGLDSAVSDSASK...       NaN      NaN  \n",
       "489  MPTGFVAPILCVLLPSPTREAATVASATGDSASERESAAPAAAPTA...       NaN      NaN  "
      ],
      "text/html": "<div>\n<style scoped>\n    .dataframe tbody tr th:only-of-type {\n        vertical-align: middle;\n    }\n\n    .dataframe tbody tr th {\n        vertical-align: top;\n    }\n\n    .dataframe thead th {\n        text-align: right;\n    }\n</style>\n<table border=\"1\" class=\"dataframe\">\n  <thead>\n    <tr style=\"text-align: right;\">\n      <th></th>\n      <th>uniprot_acc</th>\n      <th>mlo</th>\n      <th>hgnc_id</th>\n      <th>length</th>\n      <th>sequence</th>\n      <th>gene_name</th>\n      <th>gene_id</th>\n    </tr>\n  </thead>\n  <tbody>\n    <tr>\n      <th>18</th>\n      <td>Q86V81</td>\n      <td>nuclear speckle</td>\n      <td>nan</td>\n      <td>257</td>\n      <td>MADKMDMSLDDIIKLNRSQRGGRGGGRGRGRAGSQGGRGGGAQAAA...</td>\n      <td>NaN</td>\n      <td>NaN</td>\n    </tr>\n    <tr>\n      <th>70</th>\n      <td>P24928</td>\n      <td>nucleolus</td>\n      <td>nan</td>\n      <td>1970</td>\n      <td>MHGGGPPSGDSACPLRTIKRVQFGVLSPDELKRMSVTEGGIKYPET...</td>\n      <td>NaN</td>\n      <td>NaN</td>\n    </tr>\n    <tr>\n      <th>130</th>\n      <td>I0J062</td>\n      <td>nucleolus</td>\n      <td>nan</td>\n      <td>215</td>\n      <td>MGVRLRVWPAAPHSISRCPRPLGAVLSILLAGGSRKGTPTARCLGQ...</td>\n      <td>NaN</td>\n      <td>NaN</td>\n    </tr>\n    <tr>\n      <th>211</th>\n      <td>P78344</td>\n      <td>null_phasepdb_rev</td>\n      <td>nan</td>\n      <td>907</td>\n      <td>MESAIAEGGASRFSASSGGGGSRGAPQHYPKTAGNSEFLGKTPGQN...</td>\n      <td>NaN</td>\n      <td>NaN</td>\n    </tr>\n    <tr>\n      <th>224</th>\n      <td>Q0WX57</td>\n      <td>nucleolus</td>\n      <td>HGNC:44458</td>\n      <td>530</td>\n      <td>MEDDSLYLRGEWQFNHFSKLTSSRPDAAFAEIQRTSLPEKSPLSCE...</td>\n      <td>NaN</td>\n      <td>NaN</td>\n    </tr>\n    <tr>\n      <th>247</th>\n      <td>Q16198</td>\n      <td>transcription factories</td>\n      <td>nan</td>\n      <td>76</td>\n      <td>PTSYPPQTGSYSQAPSQYSQQSSSYGQQNPYQILGPTSSRLANPGS...</td>\n      <td>NaN</td>\n      <td>NaN</td>\n    </tr>\n    <tr>\n      <th>315</th>\n      <td>Q8WZ33</td>\n      <td>nucleolus</td>\n      <td>nan</td>\n      <td>124</td>\n      <td>MLCPRAAFLVGSFHGVFPGPPASSHWEFWVPSTPVGAYFCPPQPQL...</td>\n      <td>NaN</td>\n      <td>NaN</td>\n    </tr>\n    <tr>\n      <th>364</th>\n      <td>Q9BYB0</td>\n      <td>pre and postsynaptic density</td>\n      <td>nan</td>\n      <td>1731</td>\n      <td>MDGPGASAVVVRVGIPDLQQTKCLRLDPAAPVWAAKQRVLCALNHS...</td>\n      <td>NaN</td>\n      <td>NaN</td>\n    </tr>\n    <tr>\n      <th>411</th>\n      <td>Q9UN81</td>\n      <td>stress granule</td>\n      <td>nan</td>\n      <td>338</td>\n      <td>MGKKQNRKTGNSKTQSASPPPKERSSSPATEQSWMENDFDELREEG...</td>\n      <td>NaN</td>\n      <td>NaN</td>\n    </tr>\n    <tr>\n      <th>448</th>\n      <td>Q9UKL3</td>\n      <td>histone locus body</td>\n      <td>nan</td>\n      <td>1982</td>\n      <td>MAADDDNGDGTSLFDVFSASPLKNNDEGSLDIYAGLDSAVSDSASK...</td>\n      <td>NaN</td>\n      <td>NaN</td>\n    </tr>\n    <tr>\n      <th>489</th>\n      <td>Q92841</td>\n      <td>nucleolus</td>\n      <td>nan</td>\n      <td>729</td>\n      <td>MPTGFVAPILCVLLPSPTREAATVASATGDSASERESAAPAAAPTA...</td>\n      <td>NaN</td>\n      <td>NaN</td>\n    </tr>\n  </tbody>\n</table>\n</div>"
     },
     "metadata": {},
     "execution_count": 569
    }
   ],
   "source": [
    "box1[box1.gene_id.isnull()]"
   ]
  },
  {
   "cell_type": "code",
   "execution_count": 570,
   "metadata": {},
   "outputs": [
    {
     "output_type": "execute_result",
     "data": {
      "text/plain": [
       "     uniprot_acc     hgnc_id gene_name  gene_id\n",
       "1034      Q86V81  HGNC:19071    ALYREF    10189"
      ],
      "text/html": "<div>\n<style scoped>\n    .dataframe tbody tr th:only-of-type {\n        vertical-align: middle;\n    }\n\n    .dataframe tbody tr th {\n        vertical-align: top;\n    }\n\n    .dataframe thead th {\n        text-align: right;\n    }\n</style>\n<table border=\"1\" class=\"dataframe\">\n  <thead>\n    <tr style=\"text-align: right;\">\n      <th></th>\n      <th>uniprot_acc</th>\n      <th>hgnc_id</th>\n      <th>gene_name</th>\n      <th>gene_id</th>\n    </tr>\n  </thead>\n  <tbody>\n    <tr>\n      <th>1034</th>\n      <td>Q86V81</td>\n      <td>HGNC:19071</td>\n      <td>ALYREF</td>\n      <td>10189</td>\n    </tr>\n  </tbody>\n</table>\n</div>"
     },
     "metadata": {},
     "execution_count": 570
    }
   ],
   "source": [
    "aux[aux.uniprot_acc == 'Q86V81'] #xq no los agrega??"
   ]
  },
  {
   "cell_type": "code",
   "execution_count": 571,
   "metadata": {},
   "outputs": [],
   "source": [
    "missing = (box1[box1.gene_id.isnull()]).uniprot_acc.to_list()"
   ]
  },
  {
   "cell_type": "code",
   "execution_count": 572,
   "metadata": {},
   "outputs": [
    {
     "output_type": "execute_result",
     "data": {
      "text/plain": [
       "['Q86V81',\n",
       " 'P24928',\n",
       " 'I0J062',\n",
       " 'P78344',\n",
       " 'Q0WX57',\n",
       " 'Q16198',\n",
       " 'Q8WZ33',\n",
       " 'Q9BYB0',\n",
       " 'Q9UN81',\n",
       " 'Q9UKL3',\n",
       " 'Q92841']"
      ]
     },
     "metadata": {},
     "execution_count": 572
    }
   ],
   "source": [
    "missing"
   ]
  },
  {
   "cell_type": "code",
   "execution_count": 573,
   "metadata": {},
   "outputs": [],
   "source": [
    "box1.gene_name = box1.gene_name.apply(str)\n",
    "box1.gene_id = box1.gene_id.apply(float)\n",
    "box1.uniprot_acc = box1.uniprot_acc.apply(str)\n",
    "box1.hgnc_id = box1.hgnc_id.apply(str)"
   ]
  },
  {
   "cell_type": "code",
   "execution_count": 574,
   "metadata": {},
   "outputs": [],
   "source": [
    "# los busque en uniprot\n",
    "faltantes = pd.read_csv('uniprot_crossref_faltantes.tab.gz', sep= '\\t', compression='gzip')\n",
    "faltantes = faltantes.rename(columns = {'Entry': 'uniprot_acc', 'Gene names  (primary )': 'gene_name', 'Cross-reference (GeneID)': 'gene_id', 'Cross-reference (HGNC)': 'hgnc_id'})\n",
    "faltantes = faltantes.drop(columns = ['Entry name', 'Status', 'Protein names', 'Organism'])"
   ]
  },
  {
   "cell_type": "code",
   "execution_count": 575,
   "metadata": {},
   "outputs": [],
   "source": [
    "faltantes.gene_id = faltantes.gene_id.str.strip(';')\n",
    "faltantes.hgnc_id = faltantes.hgnc_id.str.strip(';')\n",
    "faltantes.hgnc_id = 'HGNC:' + faltantes.hgnc_id\n",
    "faltantes.gene_id = faltantes.gene_id.apply(float)"
   ]
  },
  {
   "cell_type": "code",
   "execution_count": 576,
   "metadata": {},
   "outputs": [],
   "source": [
    "faltantes.gene_name = faltantes.gene_name.apply(str)\n",
    "faltantes.uniprot_acc = faltantes.uniprot_acc.apply(str)\n",
    "faltantes.hgnc_id = faltantes.hgnc_id.apply(str)"
   ]
  },
  {
   "cell_type": "code",
   "execution_count": 577,
   "metadata": {},
   "outputs": [
    {
     "output_type": "execute_result",
     "data": {
      "text/plain": [
       "  uniprot_acc gene_name      gene_id     hgnc_id\n",
       "0      Q9BYB0    SHANK3          NaN  HGNC:14294\n",
       "1      Q86V81    ALYREF      10189.0  HGNC:19071\n",
       "2      P24928    POLR2A       5430.0   HGNC:9187\n",
       "3      Q9UKL3  CASP8AP2       9994.0   HGNC:1510\n",
       "4      Q92841     DDX17      10521.0   HGNC:2740\n",
       "5      Q9UN81     L1RE1          NaN         nan\n",
       "6      P78344    EIF4G2       1982.0   HGNC:3297\n",
       "7      I0J062     PANO1  101927423.0  HGNC:51237\n",
       "8      Q8WZ33     MAFIP          NaN  HGNC:31102\n",
       "9      Q16198  EWS-Fli1          NaN         nan"
      ],
      "text/html": "<div>\n<style scoped>\n    .dataframe tbody tr th:only-of-type {\n        vertical-align: middle;\n    }\n\n    .dataframe tbody tr th {\n        vertical-align: top;\n    }\n\n    .dataframe thead th {\n        text-align: right;\n    }\n</style>\n<table border=\"1\" class=\"dataframe\">\n  <thead>\n    <tr style=\"text-align: right;\">\n      <th></th>\n      <th>uniprot_acc</th>\n      <th>gene_name</th>\n      <th>gene_id</th>\n      <th>hgnc_id</th>\n    </tr>\n  </thead>\n  <tbody>\n    <tr>\n      <th>0</th>\n      <td>Q9BYB0</td>\n      <td>SHANK3</td>\n      <td>NaN</td>\n      <td>HGNC:14294</td>\n    </tr>\n    <tr>\n      <th>1</th>\n      <td>Q86V81</td>\n      <td>ALYREF</td>\n      <td>10189.0</td>\n      <td>HGNC:19071</td>\n    </tr>\n    <tr>\n      <th>2</th>\n      <td>P24928</td>\n      <td>POLR2A</td>\n      <td>5430.0</td>\n      <td>HGNC:9187</td>\n    </tr>\n    <tr>\n      <th>3</th>\n      <td>Q9UKL3</td>\n      <td>CASP8AP2</td>\n      <td>9994.0</td>\n      <td>HGNC:1510</td>\n    </tr>\n    <tr>\n      <th>4</th>\n      <td>Q92841</td>\n      <td>DDX17</td>\n      <td>10521.0</td>\n      <td>HGNC:2740</td>\n    </tr>\n    <tr>\n      <th>5</th>\n      <td>Q9UN81</td>\n      <td>L1RE1</td>\n      <td>NaN</td>\n      <td>nan</td>\n    </tr>\n    <tr>\n      <th>6</th>\n      <td>P78344</td>\n      <td>EIF4G2</td>\n      <td>1982.0</td>\n      <td>HGNC:3297</td>\n    </tr>\n    <tr>\n      <th>7</th>\n      <td>I0J062</td>\n      <td>PANO1</td>\n      <td>101927423.0</td>\n      <td>HGNC:51237</td>\n    </tr>\n    <tr>\n      <th>8</th>\n      <td>Q8WZ33</td>\n      <td>MAFIP</td>\n      <td>NaN</td>\n      <td>HGNC:31102</td>\n    </tr>\n    <tr>\n      <th>9</th>\n      <td>Q16198</td>\n      <td>EWS-Fli1</td>\n      <td>NaN</td>\n      <td>nan</td>\n    </tr>\n  </tbody>\n</table>\n</div>"
     },
     "metadata": {},
     "execution_count": 577
    }
   ],
   "source": [
    "faltantes"
   ]
  },
  {
   "cell_type": "code",
   "execution_count": 578,
   "metadata": {},
   "outputs": [],
   "source": [
    "box1 = box1.merge(faltantes, on=['uniprot_acc', 'gene_name', 'gene_id', 'hgnc_id'], how= 'left')"
   ]
  },
  {
   "cell_type": "code",
   "execution_count": 579,
   "metadata": {},
   "outputs": [
    {
     "output_type": "execute_result",
     "data": {
      "text/plain": [
       "    uniprot_acc                           mlo     hgnc_id  length  \\\n",
       "18       Q86V81               nuclear speckle         nan     257   \n",
       "70       P24928                     nucleolus         nan    1970   \n",
       "130      I0J062                     nucleolus         nan     215   \n",
       "211      P78344             null_phasepdb_rev         nan     907   \n",
       "224      Q0WX57                     nucleolus  HGNC:44458     530   \n",
       "247      Q16198       transcription factories         nan      76   \n",
       "315      Q8WZ33                     nucleolus         nan     124   \n",
       "364      Q9BYB0  pre and postsynaptic density         nan    1731   \n",
       "411      Q9UN81                stress granule         nan     338   \n",
       "448      Q9UKL3            histone locus body         nan    1982   \n",
       "489      Q92841                     nucleolus         nan     729   \n",
       "\n",
       "                                              sequence gene_name  gene_id  \n",
       "18   MADKMDMSLDDIIKLNRSQRGGRGGGRGRGRAGSQGGRGGGAQAAA...       nan      NaN  \n",
       "70   MHGGGPPSGDSACPLRTIKRVQFGVLSPDELKRMSVTEGGIKYPET...       nan      NaN  \n",
       "130  MGVRLRVWPAAPHSISRCPRPLGAVLSILLAGGSRKGTPTARCLGQ...       nan      NaN  \n",
       "211  MESAIAEGGASRFSASSGGGGSRGAPQHYPKTAGNSEFLGKTPGQN...       nan      NaN  \n",
       "224  MEDDSLYLRGEWQFNHFSKLTSSRPDAAFAEIQRTSLPEKSPLSCE...       nan      NaN  \n",
       "247  PTSYPPQTGSYSQAPSQYSQQSSSYGQQNPYQILGPTSSRLANPGS...       nan      NaN  \n",
       "315  MLCPRAAFLVGSFHGVFPGPPASSHWEFWVPSTPVGAYFCPPQPQL...       nan      NaN  \n",
       "364  MDGPGASAVVVRVGIPDLQQTKCLRLDPAAPVWAAKQRVLCALNHS...       nan      NaN  \n",
       "411  MGKKQNRKTGNSKTQSASPPPKERSSSPATEQSWMENDFDELREEG...       nan      NaN  \n",
       "448  MAADDDNGDGTSLFDVFSASPLKNNDEGSLDIYAGLDSAVSDSASK...       nan      NaN  \n",
       "489  MPTGFVAPILCVLLPSPTREAATVASATGDSASERESAAPAAAPTA...       nan      NaN  "
      ],
      "text/html": "<div>\n<style scoped>\n    .dataframe tbody tr th:only-of-type {\n        vertical-align: middle;\n    }\n\n    .dataframe tbody tr th {\n        vertical-align: top;\n    }\n\n    .dataframe thead th {\n        text-align: right;\n    }\n</style>\n<table border=\"1\" class=\"dataframe\">\n  <thead>\n    <tr style=\"text-align: right;\">\n      <th></th>\n      <th>uniprot_acc</th>\n      <th>mlo</th>\n      <th>hgnc_id</th>\n      <th>length</th>\n      <th>sequence</th>\n      <th>gene_name</th>\n      <th>gene_id</th>\n    </tr>\n  </thead>\n  <tbody>\n    <tr>\n      <th>18</th>\n      <td>Q86V81</td>\n      <td>nuclear speckle</td>\n      <td>nan</td>\n      <td>257</td>\n      <td>MADKMDMSLDDIIKLNRSQRGGRGGGRGRGRAGSQGGRGGGAQAAA...</td>\n      <td>nan</td>\n      <td>NaN</td>\n    </tr>\n    <tr>\n      <th>70</th>\n      <td>P24928</td>\n      <td>nucleolus</td>\n      <td>nan</td>\n      <td>1970</td>\n      <td>MHGGGPPSGDSACPLRTIKRVQFGVLSPDELKRMSVTEGGIKYPET...</td>\n      <td>nan</td>\n      <td>NaN</td>\n    </tr>\n    <tr>\n      <th>130</th>\n      <td>I0J062</td>\n      <td>nucleolus</td>\n      <td>nan</td>\n      <td>215</td>\n      <td>MGVRLRVWPAAPHSISRCPRPLGAVLSILLAGGSRKGTPTARCLGQ...</td>\n      <td>nan</td>\n      <td>NaN</td>\n    </tr>\n    <tr>\n      <th>211</th>\n      <td>P78344</td>\n      <td>null_phasepdb_rev</td>\n      <td>nan</td>\n      <td>907</td>\n      <td>MESAIAEGGASRFSASSGGGGSRGAPQHYPKTAGNSEFLGKTPGQN...</td>\n      <td>nan</td>\n      <td>NaN</td>\n    </tr>\n    <tr>\n      <th>224</th>\n      <td>Q0WX57</td>\n      <td>nucleolus</td>\n      <td>HGNC:44458</td>\n      <td>530</td>\n      <td>MEDDSLYLRGEWQFNHFSKLTSSRPDAAFAEIQRTSLPEKSPLSCE...</td>\n      <td>nan</td>\n      <td>NaN</td>\n    </tr>\n    <tr>\n      <th>247</th>\n      <td>Q16198</td>\n      <td>transcription factories</td>\n      <td>nan</td>\n      <td>76</td>\n      <td>PTSYPPQTGSYSQAPSQYSQQSSSYGQQNPYQILGPTSSRLANPGS...</td>\n      <td>nan</td>\n      <td>NaN</td>\n    </tr>\n    <tr>\n      <th>315</th>\n      <td>Q8WZ33</td>\n      <td>nucleolus</td>\n      <td>nan</td>\n      <td>124</td>\n      <td>MLCPRAAFLVGSFHGVFPGPPASSHWEFWVPSTPVGAYFCPPQPQL...</td>\n      <td>nan</td>\n      <td>NaN</td>\n    </tr>\n    <tr>\n      <th>364</th>\n      <td>Q9BYB0</td>\n      <td>pre and postsynaptic density</td>\n      <td>nan</td>\n      <td>1731</td>\n      <td>MDGPGASAVVVRVGIPDLQQTKCLRLDPAAPVWAAKQRVLCALNHS...</td>\n      <td>nan</td>\n      <td>NaN</td>\n    </tr>\n    <tr>\n      <th>411</th>\n      <td>Q9UN81</td>\n      <td>stress granule</td>\n      <td>nan</td>\n      <td>338</td>\n      <td>MGKKQNRKTGNSKTQSASPPPKERSSSPATEQSWMENDFDELREEG...</td>\n      <td>nan</td>\n      <td>NaN</td>\n    </tr>\n    <tr>\n      <th>448</th>\n      <td>Q9UKL3</td>\n      <td>histone locus body</td>\n      <td>nan</td>\n      <td>1982</td>\n      <td>MAADDDNGDGTSLFDVFSASPLKNNDEGSLDIYAGLDSAVSDSASK...</td>\n      <td>nan</td>\n      <td>NaN</td>\n    </tr>\n    <tr>\n      <th>489</th>\n      <td>Q92841</td>\n      <td>nucleolus</td>\n      <td>nan</td>\n      <td>729</td>\n      <td>MPTGFVAPILCVLLPSPTREAATVASATGDSASERESAAPAAAPTA...</td>\n      <td>nan</td>\n      <td>NaN</td>\n    </tr>\n  </tbody>\n</table>\n</div>"
     },
     "metadata": {},
     "execution_count": 579
    }
   ],
   "source": [
    "box1[box1.gene_id.isnull()]  # sigue sin agregarlos"
   ]
  },
  {
   "cell_type": "code",
   "execution_count": 580,
   "metadata": {},
   "outputs": [
    {
     "output_type": "stream",
     "name": "stdout",
     "text": [
      "<class 'pandas.core.frame.DataFrame'>\nInt64Index: 589 entries, 0 to 588\nData columns (total 7 columns):\n #   Column       Non-Null Count  Dtype  \n---  ------       --------------  -----  \n 0   uniprot_acc  589 non-null    object \n 1   mlo          589 non-null    object \n 2   hgnc_id      589 non-null    object \n 3   length       589 non-null    int64  \n 4   sequence     589 non-null    object \n 5   gene_name    589 non-null    object \n 6   gene_id      578 non-null    float64\ndtypes: float64(1), int64(1), object(5)\nmemory usage: 36.8+ KB\n"
     ]
    }
   ],
   "source": [
    "box1.info()"
   ]
  },
  {
   "cell_type": "code",
   "execution_count": 581,
   "metadata": {},
   "outputs": [
    {
     "output_type": "stream",
     "name": "stdout",
     "text": [
      "<class 'pandas.core.frame.DataFrame'>\nRangeIndex: 10 entries, 0 to 9\nData columns (total 4 columns):\n #   Column       Non-Null Count  Dtype  \n---  ------       --------------  -----  \n 0   uniprot_acc  10 non-null     object \n 1   gene_name    10 non-null     object \n 2   gene_id      6 non-null      float64\n 3   hgnc_id      10 non-null     object \ndtypes: float64(1), object(3)\nmemory usage: 448.0+ bytes\n"
     ]
    }
   ],
   "source": [
    "faltantes.info()"
   ]
  },
  {
   "cell_type": "code",
   "execution_count": null,
   "metadata": {},
   "outputs": [],
   "source": []
  },
  {
   "cell_type": "code",
   "execution_count": 582,
   "metadata": {},
   "outputs": [
    {
     "output_type": "stream",
     "name": "stderr",
     "text": [
      "<ipython-input-582-9953d855aefd>:2: SettingWithCopyWarning: \nA value is trying to be set on a copy of a slice from a DataFrame\n\nSee the caveats in the documentation: https://pandas.pydata.org/pandas-docs/stable/user_guide/indexing.html#returning-a-view-versus-a-copy\n  subset_cross_ref.gene_name[75] = 'PANO1'\n<ipython-input-582-9953d855aefd>:3: SettingWithCopyWarning: \nA value is trying to be set on a copy of a slice from a DataFrame\n\nSee the caveats in the documentation: https://pandas.pydata.org/pandas-docs/stable/user_guide/indexing.html#returning-a-view-versus-a-copy\n  subset_cross_ref.hgnc_id[75] = 'HGNC:51237'\n<ipython-input-582-9953d855aefd>:4: SettingWithCopyWarning: \nA value is trying to be set on a copy of a slice from a DataFrame\n\nSee the caveats in the documentation: https://pandas.pydata.org/pandas-docs/stable/user_guide/indexing.html#returning-a-view-versus-a-copy\n  subset_cross_ref.gene_name[4149] = 'MAFIP'\n<ipython-input-582-9953d855aefd>:5: SettingWithCopyWarning: \nA value is trying to be set on a copy of a slice from a DataFrame\n\nSee the caveats in the documentation: https://pandas.pydata.org/pandas-docs/stable/user_guide/indexing.html#returning-a-view-versus-a-copy\n  subset_cross_ref.hgnc_id[4149] = 'HGNC:31102'\n"
     ]
    }
   ],
   "source": [
    "# Data obtenida de HGNC (genenames.org)\n",
    "subset_cross_ref.gene_name[75] = 'PANO1'\n",
    "subset_cross_ref.hgnc_id[75] = 'HGNC:51237'\n",
    "subset_cross_ref.gene_name[4149] = 'MAFIP'\n",
    "subset_cross_ref.hgnc_id[4149] = 'HGNC:31102'"
   ]
  },
  {
   "cell_type": "code",
   "execution_count": 583,
   "metadata": {},
   "outputs": [],
   "source": [
    "subset_cross_ref.gene_id = subset_cross_ref.gene_id.apply(int)"
   ]
  },
  {
   "cell_type": "code",
   "execution_count": 584,
   "metadata": {},
   "outputs": [],
   "source": [
    "box1 = box1.merge(subset_cross_ref, how= 'left')"
   ]
  },
  {
   "cell_type": "code",
   "execution_count": 585,
   "metadata": {},
   "outputs": [
    {
     "output_type": "execute_result",
     "data": {
      "text/plain": [
       "Empty DataFrame\n",
       "Columns: [uniprot_acc, mlo, hgnc_id, length, sequence, gene_name, gene_id]\n",
       "Index: []"
      ],
      "text/html": "<div>\n<style scoped>\n    .dataframe tbody tr th:only-of-type {\n        vertical-align: middle;\n    }\n\n    .dataframe tbody tr th {\n        vertical-align: top;\n    }\n\n    .dataframe thead th {\n        text-align: right;\n    }\n</style>\n<table border=\"1\" class=\"dataframe\">\n  <thead>\n    <tr style=\"text-align: right;\">\n      <th></th>\n      <th>uniprot_acc</th>\n      <th>mlo</th>\n      <th>hgnc_id</th>\n      <th>length</th>\n      <th>sequence</th>\n      <th>gene_name</th>\n      <th>gene_id</th>\n    </tr>\n  </thead>\n  <tbody>\n  </tbody>\n</table>\n</div>"
     },
     "metadata": {},
     "execution_count": 585
    }
   ],
   "source": [
    "# Veo los nan que quedan\n",
    "box1[box1.hgnc_id.isnull()]"
   ]
  },
  {
   "cell_type": "code",
   "execution_count": null,
   "metadata": {},
   "outputs": [],
   "source": []
  },
  {
   "cell_type": "code",
   "execution_count": null,
   "metadata": {},
   "outputs": [],
   "source": []
  },
  {
   "cell_type": "code",
   "execution_count": 586,
   "metadata": {},
   "outputs": [
    {
     "output_type": "execute_result",
     "data": {
      "text/plain": [
       "range(1, 589)"
      ]
     },
     "metadata": {},
     "execution_count": 586
    }
   ],
   "source": [
    "# crear un rango para asignar un id tipo INT unique a cada proteina\n",
    "range(1, len(box1))"
   ]
  },
  {
   "cell_type": "code",
   "execution_count": 587,
   "metadata": {},
   "outputs": [],
   "source": [
    "# col id_mutation INT\n",
    "box1['id_protein'] = range(1, len(box1)+1)"
   ]
  },
  {
   "cell_type": "code",
   "execution_count": 588,
   "metadata": {},
   "outputs": [],
   "source": [
    "box1 = box1[['id_protein', 'uniprot_acc', 'hgnc_id', 'gene_id', 'gene_name', 'length', 'sequence']]"
   ]
  },
  {
   "cell_type": "code",
   "execution_count": 592,
   "metadata": {},
   "outputs": [
    {
     "output_type": "execute_result",
     "data": {
      "text/plain": [
       "     id_protein uniprot_acc     hgnc_id  gene_id gene_name  length  \\\n",
       "0             1      O15527   HGNC:8125   4968.0      OGG1     345   \n",
       "1             2      O43663   HGNC:9341   9055.0      PRC1     620   \n",
       "2             3      O75494  HGNC:16713  10772.0    SRSF10     262   \n",
       "3             4      O95613  HGNC:16068   5116.0      PCNT    3336   \n",
       "4             5      P08047  HGNC:11205   6667.0       SP1     785   \n",
       "..          ...         ...         ...      ...       ...     ...   \n",
       "584         585      Q07352   HGNC:1107    677.0   ZFP36L1     338   \n",
       "585         586      Q8NE35  HGNC:21746  22849.0     CPEB3     698   \n",
       "586         587      P26368  HGNC:23156  11338.0     U2AF2     475   \n",
       "587         588      Q15233   HGNC:7871   4841.0      NONO     471   \n",
       "588         589      P23246  HGNC:10774   6421.0      SFPQ     707   \n",
       "\n",
       "                                              sequence  \n",
       "0    MPARALLPRRMGHRTLASTPALWASIPCPRSELRLDLVLPSGQSFR...  \n",
       "1    MRRSEVLAEESIVCLQKALNHLREIWELIGIPEDQRLQRTEVVKKH...  \n",
       "2    MSRYLRPPNTSLFVRNVADDTRSEDLRREFGRYGPIVDVYVPLDFY...  \n",
       "3    MEVEQEQRRRKVEAGRTKLAHFRQRKTKGDSSHSEKKTAKRKGSAV...  \n",
       "4    MSDQDHSMDEMTAVVKIEKGVGGNNGGNGNGGGAFSQARSSSTGSS...  \n",
       "..                                                 ...  \n",
       "584  MTTTLVSATIFDLSEVLCKGNKMLNYSAPSAGGCLLDRKAVGTPAG...  \n",
       "585  MQDDLLMDKSKTQPQPQQQQRQQQQPQPESSVSEAPSTPLSSETPK...  \n",
       "586  MSDFDEFERQLNENKQERDKENRHRKRSHSRSRSRDRKRRSRSRDR...  \n",
       "587  MQSNKTFNLEKQNHTPRKHHQHHHQQQHHQQQQQQPPPPPIPANGQ...  \n",
       "588  MSRDRFRSRGGGGGGFHRRGGGGGRGGLHDFRSPPPGMGLNQNRGP...  \n",
       "\n",
       "[589 rows x 7 columns]"
      ],
      "text/html": "<div>\n<style scoped>\n    .dataframe tbody tr th:only-of-type {\n        vertical-align: middle;\n    }\n\n    .dataframe tbody tr th {\n        vertical-align: top;\n    }\n\n    .dataframe thead th {\n        text-align: right;\n    }\n</style>\n<table border=\"1\" class=\"dataframe\">\n  <thead>\n    <tr style=\"text-align: right;\">\n      <th></th>\n      <th>id_protein</th>\n      <th>uniprot_acc</th>\n      <th>hgnc_id</th>\n      <th>gene_id</th>\n      <th>gene_name</th>\n      <th>length</th>\n      <th>sequence</th>\n    </tr>\n  </thead>\n  <tbody>\n    <tr>\n      <th>0</th>\n      <td>1</td>\n      <td>O15527</td>\n      <td>HGNC:8125</td>\n      <td>4968.0</td>\n      <td>OGG1</td>\n      <td>345</td>\n      <td>MPARALLPRRMGHRTLASTPALWASIPCPRSELRLDLVLPSGQSFR...</td>\n    </tr>\n    <tr>\n      <th>1</th>\n      <td>2</td>\n      <td>O43663</td>\n      <td>HGNC:9341</td>\n      <td>9055.0</td>\n      <td>PRC1</td>\n      <td>620</td>\n      <td>MRRSEVLAEESIVCLQKALNHLREIWELIGIPEDQRLQRTEVVKKH...</td>\n    </tr>\n    <tr>\n      <th>2</th>\n      <td>3</td>\n      <td>O75494</td>\n      <td>HGNC:16713</td>\n      <td>10772.0</td>\n      <td>SRSF10</td>\n      <td>262</td>\n      <td>MSRYLRPPNTSLFVRNVADDTRSEDLRREFGRYGPIVDVYVPLDFY...</td>\n    </tr>\n    <tr>\n      <th>3</th>\n      <td>4</td>\n      <td>O95613</td>\n      <td>HGNC:16068</td>\n      <td>5116.0</td>\n      <td>PCNT</td>\n      <td>3336</td>\n      <td>MEVEQEQRRRKVEAGRTKLAHFRQRKTKGDSSHSEKKTAKRKGSAV...</td>\n    </tr>\n    <tr>\n      <th>4</th>\n      <td>5</td>\n      <td>P08047</td>\n      <td>HGNC:11205</td>\n      <td>6667.0</td>\n      <td>SP1</td>\n      <td>785</td>\n      <td>MSDQDHSMDEMTAVVKIEKGVGGNNGGNGNGGGAFSQARSSSTGSS...</td>\n    </tr>\n    <tr>\n      <th>...</th>\n      <td>...</td>\n      <td>...</td>\n      <td>...</td>\n      <td>...</td>\n      <td>...</td>\n      <td>...</td>\n      <td>...</td>\n    </tr>\n    <tr>\n      <th>584</th>\n      <td>585</td>\n      <td>Q07352</td>\n      <td>HGNC:1107</td>\n      <td>677.0</td>\n      <td>ZFP36L1</td>\n      <td>338</td>\n      <td>MTTTLVSATIFDLSEVLCKGNKMLNYSAPSAGGCLLDRKAVGTPAG...</td>\n    </tr>\n    <tr>\n      <th>585</th>\n      <td>586</td>\n      <td>Q8NE35</td>\n      <td>HGNC:21746</td>\n      <td>22849.0</td>\n      <td>CPEB3</td>\n      <td>698</td>\n      <td>MQDDLLMDKSKTQPQPQQQQRQQQQPQPESSVSEAPSTPLSSETPK...</td>\n    </tr>\n    <tr>\n      <th>586</th>\n      <td>587</td>\n      <td>P26368</td>\n      <td>HGNC:23156</td>\n      <td>11338.0</td>\n      <td>U2AF2</td>\n      <td>475</td>\n      <td>MSDFDEFERQLNENKQERDKENRHRKRSHSRSRSRDRKRRSRSRDR...</td>\n    </tr>\n    <tr>\n      <th>587</th>\n      <td>588</td>\n      <td>Q15233</td>\n      <td>HGNC:7871</td>\n      <td>4841.0</td>\n      <td>NONO</td>\n      <td>471</td>\n      <td>MQSNKTFNLEKQNHTPRKHHQHHHQQQHHQQQQQQPPPPPIPANGQ...</td>\n    </tr>\n    <tr>\n      <th>588</th>\n      <td>589</td>\n      <td>P23246</td>\n      <td>HGNC:10774</td>\n      <td>6421.0</td>\n      <td>SFPQ</td>\n      <td>707</td>\n      <td>MSRDRFRSRGGGGGGFHRRGGGGGRGGLHDFRSPPPGMGLNQNRGP...</td>\n    </tr>\n  </tbody>\n</table>\n<p>589 rows × 7 columns</p>\n</div>"
     },
     "metadata": {},
     "execution_count": 592
    }
   ],
   "source": [
    "box1"
   ]
  },
  {
   "cell_type": "code",
   "execution_count": 591,
   "metadata": {},
   "outputs": [],
   "source": [
    "box1.to_csv('datasets/proteins_table.csv', index= False)\n",
    "# subir a https://github.com/alvaro-2/mutations"
   ]
  },
  {
   "cell_type": "code",
   "execution_count": null,
   "metadata": {},
   "outputs": [],
   "source": []
  }
 ]
}