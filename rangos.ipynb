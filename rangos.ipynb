{
 "metadata": {
  "language_info": {
   "codemirror_mode": {
    "name": "ipython",
    "version": 3
   },
   "file_extension": ".py",
   "mimetype": "text/x-python",
   "name": "python",
   "nbconvert_exporter": "python",
   "pygments_lexer": "ipython3",
   "version": "3.9.5"
  },
  "orig_nbformat": 2,
  "kernelspec": {
   "name": "python395jvsc74a57bd01f8d80d535cfd832283e4e3a1095d2ce45fe6627336684f2622a1965babb2f1c",
   "display_name": "Python 3.9.5 64-bit (windows store)"
  },
  "metadata": {
   "interpreter": {
    "hash": "1f8d80d535cfd832283e4e3a1095d2ce45fe6627336684f2622a1965babb2f1c"
   }
  }
 },
 "nbformat": 4,
 "nbformat_minor": 2,
 "cells": [
  {
   "cell_type": "code",
   "execution_count": 65,
   "metadata": {},
   "outputs": [],
   "source": [
    "import pandas as pd\n",
    "import numpy as np"
   ]
  },
  {
   "cell_type": "code",
   "execution_count": 66,
   "metadata": {
    "tags": []
   },
   "outputs": [],
   "source": [
    "#pip install pyranges"
   ]
  },
  {
   "cell_type": "code",
   "execution_count": 67,
   "metadata": {},
   "outputs": [],
   "source": [
    "import pyranges as pr"
   ]
  },
  {
   "cell_type": "code",
   "execution_count": 68,
   "metadata": {},
   "outputs": [],
   "source": [
    "# all LLPS human proteins dataset (Orti et al.)\n",
    "proteins = pd.read_csv('../datasets/all_proteins_table.csv')"
   ]
  },
  {
   "cell_type": "code",
   "execution_count": 69,
   "metadata": {},
   "outputs": [],
   "source": [
    "mutations = pd.read_csv('../datasets/clinvar_all_proteins_mutations.csv.gz', compression='gzip')"
   ]
  },
  {
   "cell_type": "code",
   "execution_count": 70,
   "metadata": {},
   "outputs": [],
   "source": [
    "disorder = pd.read_csv('disorder_lite.csv')\n",
    "low_complexity = pd.read_csv('low_complexity.csv')\n",
    "pfam = pd.read_csv('pfam.csv')"
   ]
  },
  {
   "source": [
    "---  \n",
    "## Proteins  \n",
    "cols: id_protein, uniprot_acc, hgnc_id, gene_id, gene_name, sequence, length"
   ],
   "cell_type": "markdown",
   "metadata": {}
  },
  {
   "cell_type": "code",
   "execution_count": 71,
   "metadata": {},
   "outputs": [
    {
     "output_type": "execute_result",
     "data": {
      "text/plain": [
       "   id_protein uniprot_acc     hgnc_id   gene_id gene_name  length  \\\n",
       "0           1  A0A024RBG1  HGNC:18012  440672.0    NUDT4B    4369   \n",
       "1           2  A0A096LP55  HGNC:51714  440567.0    UQCRHL    4369   \n",
       "2           3  A0A0U1RRE5  HGNC:50713  550643.0      NBDY    4369   \n",
       "3           4      A0AV96  HGNC:30358   54502.0     RBM47    4369   \n",
       "4           5      A0FGR8  HGNC:22211   57488.0     ESYT2    4369   \n",
       "\n",
       "                                            sequence  \n",
       "0  MMKFKPNQTRTYDREGFKKRAACLCFRSEQEDEVLLVSSSRYPDQW...  \n",
       "1  MGLEDEQKMLTESGDPEEEEEEEEELVDPLTTVREQCEQLEKCVKA...  \n",
       "2  MGDQPCASGRSTLPPGNAREAKPPKKRCLLAPRWDYPEGTPNGGST...  \n",
       "3  MTAEDSTAAMSSDSAAGSSAKVPEGVAGAPNEAALLALMERTGYSM...  \n",
       "4  MTANRDAALSSHRHPGCAQRPRTPTFASSSQRRSAFGFDDGNFPGL...  "
      ],
      "text/html": "<div>\n<style scoped>\n    .dataframe tbody tr th:only-of-type {\n        vertical-align: middle;\n    }\n\n    .dataframe tbody tr th {\n        vertical-align: top;\n    }\n\n    .dataframe thead th {\n        text-align: right;\n    }\n</style>\n<table border=\"1\" class=\"dataframe\">\n  <thead>\n    <tr style=\"text-align: right;\">\n      <th></th>\n      <th>id_protein</th>\n      <th>uniprot_acc</th>\n      <th>hgnc_id</th>\n      <th>gene_id</th>\n      <th>gene_name</th>\n      <th>length</th>\n      <th>sequence</th>\n    </tr>\n  </thead>\n  <tbody>\n    <tr>\n      <th>0</th>\n      <td>1</td>\n      <td>A0A024RBG1</td>\n      <td>HGNC:18012</td>\n      <td>440672.0</td>\n      <td>NUDT4B</td>\n      <td>4369</td>\n      <td>MMKFKPNQTRTYDREGFKKRAACLCFRSEQEDEVLLVSSSRYPDQW...</td>\n    </tr>\n    <tr>\n      <th>1</th>\n      <td>2</td>\n      <td>A0A096LP55</td>\n      <td>HGNC:51714</td>\n      <td>440567.0</td>\n      <td>UQCRHL</td>\n      <td>4369</td>\n      <td>MGLEDEQKMLTESGDPEEEEEEEEELVDPLTTVREQCEQLEKCVKA...</td>\n    </tr>\n    <tr>\n      <th>2</th>\n      <td>3</td>\n      <td>A0A0U1RRE5</td>\n      <td>HGNC:50713</td>\n      <td>550643.0</td>\n      <td>NBDY</td>\n      <td>4369</td>\n      <td>MGDQPCASGRSTLPPGNAREAKPPKKRCLLAPRWDYPEGTPNGGST...</td>\n    </tr>\n    <tr>\n      <th>3</th>\n      <td>4</td>\n      <td>A0AV96</td>\n      <td>HGNC:30358</td>\n      <td>54502.0</td>\n      <td>RBM47</td>\n      <td>4369</td>\n      <td>MTAEDSTAAMSSDSAAGSSAKVPEGVAGAPNEAALLALMERTGYSM...</td>\n    </tr>\n    <tr>\n      <th>4</th>\n      <td>5</td>\n      <td>A0FGR8</td>\n      <td>HGNC:22211</td>\n      <td>57488.0</td>\n      <td>ESYT2</td>\n      <td>4369</td>\n      <td>MTANRDAALSSHRHPGCAQRPRTPTFASSSQRRSAFGFDDGNFPGL...</td>\n    </tr>\n  </tbody>\n</table>\n</div>"
     },
     "metadata": {},
     "execution_count": 71
    }
   ],
   "source": [
    "proteins.head()"
   ]
  },
  {
   "cell_type": "code",
   "execution_count": 72,
   "metadata": {},
   "outputs": [],
   "source": [
    "# VER\n",
    "#proteins.gene_id = proteins.gene_id.fillna(-1).apply(int)\n",
    "#proteins.hgnc_id = proteins.hgnc_id.fillna('-')\n",
    "#proteins.gene_name = proteins.gene_name.fillna('-')"
   ]
  },
  {
   "cell_type": "code",
   "execution_count": 73,
   "metadata": {},
   "outputs": [
    {
     "output_type": "execute_result",
     "data": {
      "text/plain": [
       "      id_protein uniprot_acc     hgnc_id   gene_id gene_name  length  \\\n",
       "0              1  A0A024RBG1  HGNC:18012  440672.0    NUDT4B    4369   \n",
       "1              2  A0A096LP55  HGNC:51714  440567.0    UQCRHL    4369   \n",
       "2              3  A0A0U1RRE5  HGNC:50713  550643.0      NBDY    4369   \n",
       "3              4      A0AV96  HGNC:30358   54502.0     RBM47    4369   \n",
       "4              5      A0FGR8  HGNC:22211   57488.0     ESYT2    4369   \n",
       "...          ...         ...         ...       ...       ...     ...   \n",
       "4364        4365      Q9UNL7         NaN       NaN       NaN    4369   \n",
       "4365        4366      Q9Y4C0   HGNC:8010    9369.0     NRXN3    4369   \n",
       "4366        4367      Q9Y649         NaN       NaN       NaN    4369   \n",
       "4367        4368      R4GMX3         NaN       NaN       NaN    4369   \n",
       "4368        4369      V9GYY5         NaN       NaN       NaN    4369   \n",
       "\n",
       "                                               sequence  \n",
       "0     MMKFKPNQTRTYDREGFKKRAACLCFRSEQEDEVLLVSSSRYPDQW...  \n",
       "1     MGLEDEQKMLTESGDPEEEEEEEEELVDPLTTVREQCEQLEKCVKA...  \n",
       "2     MGDQPCASGRSTLPPGNAREAKPPKKRCLLAPRWDYPEGTPNGGST...  \n",
       "3     MTAEDSTAAMSSDSAAGSSAKVPEGVAGAPNEAALLALMERTGYSM...  \n",
       "4     MTANRDAALSSHRHPGCAQRPRTPTFASSSQRRSAFGFDDGNFPGL...  \n",
       "...                                                 ...  \n",
       "4364  KLDVEEPDSANSSFYSTRSAPASQASLRATSSTQSLARLGSPDYGN...  \n",
       "4365  MSSTLHSVFFTLKVSILLGSLLGLCLGLEFMGLPNQWARYLRWDAS...  \n",
       "4366  MNDLICFLDNTFKNNVLSQAWWCVHLVPTIWEAEAGGSLEPRSLKL...  \n",
       "4367  MELSESVQKGFQMLADPRSFDSNAFTLLLRAAFQSLLDAQADEAVL...  \n",
       "4368  KRDGDDRRPRLVLSFDEEKRREYLTGFHKRKVERKKAAIEEIKQRL...  \n",
       "\n",
       "[4369 rows x 7 columns]"
      ],
      "text/html": "<div>\n<style scoped>\n    .dataframe tbody tr th:only-of-type {\n        vertical-align: middle;\n    }\n\n    .dataframe tbody tr th {\n        vertical-align: top;\n    }\n\n    .dataframe thead th {\n        text-align: right;\n    }\n</style>\n<table border=\"1\" class=\"dataframe\">\n  <thead>\n    <tr style=\"text-align: right;\">\n      <th></th>\n      <th>id_protein</th>\n      <th>uniprot_acc</th>\n      <th>hgnc_id</th>\n      <th>gene_id</th>\n      <th>gene_name</th>\n      <th>length</th>\n      <th>sequence</th>\n    </tr>\n  </thead>\n  <tbody>\n    <tr>\n      <th>0</th>\n      <td>1</td>\n      <td>A0A024RBG1</td>\n      <td>HGNC:18012</td>\n      <td>440672.0</td>\n      <td>NUDT4B</td>\n      <td>4369</td>\n      <td>MMKFKPNQTRTYDREGFKKRAACLCFRSEQEDEVLLVSSSRYPDQW...</td>\n    </tr>\n    <tr>\n      <th>1</th>\n      <td>2</td>\n      <td>A0A096LP55</td>\n      <td>HGNC:51714</td>\n      <td>440567.0</td>\n      <td>UQCRHL</td>\n      <td>4369</td>\n      <td>MGLEDEQKMLTESGDPEEEEEEEEELVDPLTTVREQCEQLEKCVKA...</td>\n    </tr>\n    <tr>\n      <th>2</th>\n      <td>3</td>\n      <td>A0A0U1RRE5</td>\n      <td>HGNC:50713</td>\n      <td>550643.0</td>\n      <td>NBDY</td>\n      <td>4369</td>\n      <td>MGDQPCASGRSTLPPGNAREAKPPKKRCLLAPRWDYPEGTPNGGST...</td>\n    </tr>\n    <tr>\n      <th>3</th>\n      <td>4</td>\n      <td>A0AV96</td>\n      <td>HGNC:30358</td>\n      <td>54502.0</td>\n      <td>RBM47</td>\n      <td>4369</td>\n      <td>MTAEDSTAAMSSDSAAGSSAKVPEGVAGAPNEAALLALMERTGYSM...</td>\n    </tr>\n    <tr>\n      <th>4</th>\n      <td>5</td>\n      <td>A0FGR8</td>\n      <td>HGNC:22211</td>\n      <td>57488.0</td>\n      <td>ESYT2</td>\n      <td>4369</td>\n      <td>MTANRDAALSSHRHPGCAQRPRTPTFASSSQRRSAFGFDDGNFPGL...</td>\n    </tr>\n    <tr>\n      <th>...</th>\n      <td>...</td>\n      <td>...</td>\n      <td>...</td>\n      <td>...</td>\n      <td>...</td>\n      <td>...</td>\n      <td>...</td>\n    </tr>\n    <tr>\n      <th>4364</th>\n      <td>4365</td>\n      <td>Q9UNL7</td>\n      <td>NaN</td>\n      <td>NaN</td>\n      <td>NaN</td>\n      <td>4369</td>\n      <td>KLDVEEPDSANSSFYSTRSAPASQASLRATSSTQSLARLGSPDYGN...</td>\n    </tr>\n    <tr>\n      <th>4365</th>\n      <td>4366</td>\n      <td>Q9Y4C0</td>\n      <td>HGNC:8010</td>\n      <td>9369.0</td>\n      <td>NRXN3</td>\n      <td>4369</td>\n      <td>MSSTLHSVFFTLKVSILLGSLLGLCLGLEFMGLPNQWARYLRWDAS...</td>\n    </tr>\n    <tr>\n      <th>4366</th>\n      <td>4367</td>\n      <td>Q9Y649</td>\n      <td>NaN</td>\n      <td>NaN</td>\n      <td>NaN</td>\n      <td>4369</td>\n      <td>MNDLICFLDNTFKNNVLSQAWWCVHLVPTIWEAEAGGSLEPRSLKL...</td>\n    </tr>\n    <tr>\n      <th>4367</th>\n      <td>4368</td>\n      <td>R4GMX3</td>\n      <td>NaN</td>\n      <td>NaN</td>\n      <td>NaN</td>\n      <td>4369</td>\n      <td>MELSESVQKGFQMLADPRSFDSNAFTLLLRAAFQSLLDAQADEAVL...</td>\n    </tr>\n    <tr>\n      <th>4368</th>\n      <td>4369</td>\n      <td>V9GYY5</td>\n      <td>NaN</td>\n      <td>NaN</td>\n      <td>NaN</td>\n      <td>4369</td>\n      <td>KRDGDDRRPRLVLSFDEEKRREYLTGFHKRKVERKKAAIEEIKQRL...</td>\n    </tr>\n  </tbody>\n</table>\n<p>4369 rows × 7 columns</p>\n</div>"
     },
     "metadata": {},
     "execution_count": 73
    }
   ],
   "source": [
    "proteins"
   ]
  },
  {
   "source": [
    "## Load Domains and regions tables"
   ],
   "cell_type": "markdown",
   "metadata": {}
  },
  {
   "cell_type": "code",
   "execution_count": 74,
   "metadata": {},
   "outputs": [],
   "source": [
    "pfam.rename(columns={'uniprot': 'uniprot_acc'}, inplace= True)"
   ]
  },
  {
   "cell_type": "code",
   "execution_count": 75,
   "metadata": {},
   "outputs": [],
   "source": [
    "# Add and unique integer ID fow low_complexity and disorder\n",
    "low_complexity['id_lc'] = range(1, len(low_complexity)+1)\n",
    "disorder['id_idr'] = range(1, len(disorder)+1)"
   ]
  },
  {
   "source": [
    "---  \n",
    "## Consequences and Sources tables"
   ],
   "cell_type": "markdown",
   "metadata": {}
  },
  {
   "cell_type": "code",
   "execution_count": 76,
   "metadata": {},
   "outputs": [
    {
     "output_type": "execute_result",
     "data": {
      "text/plain": [
       "missense       132500\n",
       "frameshit       18891\n",
       "nonsense        11265\n",
       "deletion         2610\n",
       "insertion        1103\n",
       "delins            763\n",
       "duplication       619\n",
       "Name: consequence, dtype: int64"
      ]
     },
     "metadata": {},
     "execution_count": 76
    }
   ],
   "source": [
    "cf = mutations.consequence.value_counts()\n",
    "cf"
   ]
  },
  {
   "cell_type": "code",
   "execution_count": 77,
   "metadata": {},
   "outputs": [
    {
     "output_type": "execute_result",
     "data": {
      "text/plain": [
       "   id_consequence  consequence\n",
       "0               1     missense\n",
       "1               2    frameshit\n",
       "2               3     nonsense\n",
       "3               4     deletion\n",
       "4               5    insertion\n",
       "5               6       delins\n",
       "6               7  duplication"
      ],
      "text/html": "<div>\n<style scoped>\n    .dataframe tbody tr th:only-of-type {\n        vertical-align: middle;\n    }\n\n    .dataframe tbody tr th {\n        vertical-align: top;\n    }\n\n    .dataframe thead th {\n        text-align: right;\n    }\n</style>\n<table border=\"1\" class=\"dataframe\">\n  <thead>\n    <tr style=\"text-align: right;\">\n      <th></th>\n      <th>id_consequence</th>\n      <th>consequence</th>\n    </tr>\n  </thead>\n  <tbody>\n    <tr>\n      <th>0</th>\n      <td>1</td>\n      <td>missense</td>\n    </tr>\n    <tr>\n      <th>1</th>\n      <td>2</td>\n      <td>frameshit</td>\n    </tr>\n    <tr>\n      <th>2</th>\n      <td>3</td>\n      <td>nonsense</td>\n    </tr>\n    <tr>\n      <th>3</th>\n      <td>4</td>\n      <td>deletion</td>\n    </tr>\n    <tr>\n      <th>4</th>\n      <td>5</td>\n      <td>insertion</td>\n    </tr>\n    <tr>\n      <th>5</th>\n      <td>6</td>\n      <td>delins</td>\n    </tr>\n    <tr>\n      <th>6</th>\n      <td>7</td>\n      <td>duplication</td>\n    </tr>\n  </tbody>\n</table>\n</div>"
     },
     "metadata": {},
     "execution_count": 77
    }
   ],
   "source": [
    "Consequences = pd.DataFrame({'id_consequence': range(1, len(cf)+1), 'consequence': cf.index})\n",
    "Consequences"
   ]
  },
  {
   "cell_type": "code",
   "execution_count": 78,
   "metadata": {},
   "outputs": [
    {
     "output_type": "execute_result",
     "data": {
      "text/plain": [
       "clinvar    167751\n",
       "Name: source, dtype: int64"
      ]
     },
     "metadata": {},
     "execution_count": 78
    }
   ],
   "source": [
    "mutations.source.value_counts()"
   ]
  },
  {
   "cell_type": "code",
   "execution_count": 79,
   "metadata": {},
   "outputs": [
    {
     "output_type": "execute_result",
     "data": {
      "text/plain": [
       "   id_source    source\n",
       "0          1   clinvar\n",
       "1          2  disgenet\n",
       "2          3   uniprot"
      ],
      "text/html": "<div>\n<style scoped>\n    .dataframe tbody tr th:only-of-type {\n        vertical-align: middle;\n    }\n\n    .dataframe tbody tr th {\n        vertical-align: top;\n    }\n\n    .dataframe thead th {\n        text-align: right;\n    }\n</style>\n<table border=\"1\" class=\"dataframe\">\n  <thead>\n    <tr style=\"text-align: right;\">\n      <th></th>\n      <th>id_source</th>\n      <th>source</th>\n    </tr>\n  </thead>\n  <tbody>\n    <tr>\n      <th>0</th>\n      <td>1</td>\n      <td>clinvar</td>\n    </tr>\n    <tr>\n      <th>1</th>\n      <td>2</td>\n      <td>disgenet</td>\n    </tr>\n    <tr>\n      <th>2</th>\n      <td>3</td>\n      <td>uniprot</td>\n    </tr>\n  </tbody>\n</table>\n</div>"
     },
     "metadata": {},
     "execution_count": 79
    }
   ],
   "source": [
    "Sources = pd.DataFrame({'id_source': [1,2,3], 'source': ['clinvar', 'disgenet', 'uniprot']})\n",
    "Sources"
   ]
  },
  {
   "cell_type": "code",
   "execution_count": 80,
   "metadata": {},
   "outputs": [],
   "source": [
    "Consequences.to_csv('db_tables/Consequences.tsv', sep='\\t', index = False)"
   ]
  },
  {
   "cell_type": "code",
   "execution_count": 81,
   "metadata": {},
   "outputs": [],
   "source": [
    "Sources.to_csv('db_tables/Sources.tsv', sep='\\t', index = False)"
   ]
  },
  {
   "source": [
    "---  \n",
    "## Mutations table  \n",
    "cols: id_mutation, snp_id, chromosome, start_genomic, end_genomic, start_aa, end_aa, from_aa, to_aa, Proteins_id_protein, Sources_id_source, Consequences_id_consequence"
   ],
   "cell_type": "markdown",
   "metadata": {}
  },
  {
   "cell_type": "code",
   "execution_count": 82,
   "metadata": {},
   "outputs": [
    {
     "output_type": "execute_result",
     "data": {
      "text/plain": [
       "       start_aa  end_aa                      from   to consequence   source\n",
       "5          1755  1757.0                    LeuThr  NaN    deletion  clinvar\n",
       "13           23    24.0                    GlyGlu  NaN    deletion  clinvar\n",
       "14           47    54.0                    GlyArg  NaN    deletion  clinvar\n",
       "16          295   298.0                    AspLeu  NaN    deletion  clinvar\n",
       "18          116   124.0                    GluVal  NaN    deletion  clinvar\n",
       "...         ...     ...                       ...  ...         ...      ...\n",
       "23978         1     2.0                    MetGly  Ala   insertion  clinvar\n",
       "23979       517   518.0                    IleLeu  Ter   insertion  clinvar\n",
       "23981       229   230.0                    GlyPro  NaN   insertion  clinvar\n",
       "23984      1171  1172.0                    AspGlu  NaN   insertion  clinvar\n",
       "23985        60    67.0  ProHisGlyGlyGlyTrpGlyGln  NaN   insertion  clinvar\n",
       "\n",
       "[2956 rows x 6 columns]"
      ],
      "text/html": "<div>\n<style scoped>\n    .dataframe tbody tr th:only-of-type {\n        vertical-align: middle;\n    }\n\n    .dataframe tbody tr th {\n        vertical-align: top;\n    }\n\n    .dataframe thead th {\n        text-align: right;\n    }\n</style>\n<table border=\"1\" class=\"dataframe\">\n  <thead>\n    <tr style=\"text-align: right;\">\n      <th></th>\n      <th>start_aa</th>\n      <th>end_aa</th>\n      <th>from</th>\n      <th>to</th>\n      <th>consequence</th>\n      <th>source</th>\n    </tr>\n  </thead>\n  <tbody>\n    <tr>\n      <th>5</th>\n      <td>1755</td>\n      <td>1757.0</td>\n      <td>LeuThr</td>\n      <td>NaN</td>\n      <td>deletion</td>\n      <td>clinvar</td>\n    </tr>\n    <tr>\n      <th>13</th>\n      <td>23</td>\n      <td>24.0</td>\n      <td>GlyGlu</td>\n      <td>NaN</td>\n      <td>deletion</td>\n      <td>clinvar</td>\n    </tr>\n    <tr>\n      <th>14</th>\n      <td>47</td>\n      <td>54.0</td>\n      <td>GlyArg</td>\n      <td>NaN</td>\n      <td>deletion</td>\n      <td>clinvar</td>\n    </tr>\n    <tr>\n      <th>16</th>\n      <td>295</td>\n      <td>298.0</td>\n      <td>AspLeu</td>\n      <td>NaN</td>\n      <td>deletion</td>\n      <td>clinvar</td>\n    </tr>\n    <tr>\n      <th>18</th>\n      <td>116</td>\n      <td>124.0</td>\n      <td>GluVal</td>\n      <td>NaN</td>\n      <td>deletion</td>\n      <td>clinvar</td>\n    </tr>\n    <tr>\n      <th>...</th>\n      <td>...</td>\n      <td>...</td>\n      <td>...</td>\n      <td>...</td>\n      <td>...</td>\n      <td>...</td>\n    </tr>\n    <tr>\n      <th>23978</th>\n      <td>1</td>\n      <td>2.0</td>\n      <td>MetGly</td>\n      <td>Ala</td>\n      <td>insertion</td>\n      <td>clinvar</td>\n    </tr>\n    <tr>\n      <th>23979</th>\n      <td>517</td>\n      <td>518.0</td>\n      <td>IleLeu</td>\n      <td>Ter</td>\n      <td>insertion</td>\n      <td>clinvar</td>\n    </tr>\n    <tr>\n      <th>23981</th>\n      <td>229</td>\n      <td>230.0</td>\n      <td>GlyPro</td>\n      <td>NaN</td>\n      <td>insertion</td>\n      <td>clinvar</td>\n    </tr>\n    <tr>\n      <th>23984</th>\n      <td>1171</td>\n      <td>1172.0</td>\n      <td>AspGlu</td>\n      <td>NaN</td>\n      <td>insertion</td>\n      <td>clinvar</td>\n    </tr>\n    <tr>\n      <th>23985</th>\n      <td>60</td>\n      <td>67.0</td>\n      <td>ProHisGlyGlyGlyTrpGlyGln</td>\n      <td>NaN</td>\n      <td>insertion</td>\n      <td>clinvar</td>\n    </tr>\n  </tbody>\n</table>\n<p>2956 rows × 6 columns</p>\n</div>"
     },
     "metadata": {},
     "execution_count": 82
    }
   ],
   "source": [
    "mutations[~mutations.end_aa.isnull()][['start_aa',\t'end_aa',\t'from',\t'to',\t'consequence',\t'source']]"
   ]
  },
  {
   "cell_type": "code",
   "execution_count": 83,
   "metadata": {},
   "outputs": [
    {
     "output_type": "execute_result",
     "data": {
      "text/plain": [
       "Index(['uniprot_acc', 'organism', 'mlo', 'rol', 'db', 'hgnc_id', 'gene_name',\n",
       "       'approved_name', 'gene_id', 'geneid', 'genesymbol', 'snpid', 'alleleid',\n",
       "       'chromosomeaccession', 'chromosome', 'start', 'stop', 'type', 'name',\n",
       "       'origin', 'phenotypeids', 'phenotypelist', 'otherids', 'nuccore_id',\n",
       "       'cambio', 'start_aa', 'end_aa', 'from', 'to', 'consequence', 'source'],\n",
       "      dtype='object')"
      ]
     },
     "metadata": {},
     "execution_count": 83
    }
   ],
   "source": [
    "mutations.columns"
   ]
  },
  {
   "cell_type": "code",
   "execution_count": 84,
   "metadata": {},
   "outputs": [],
   "source": [
    "Mutations = mutations[['uniprot_acc', 'snpid', 'chromosome', 'start', 'stop', 'start_aa', 'end_aa', 'from', 'to', 'consequence', 'source']].copy()\n",
    "Mutations.rename(columns={'snpid': 'snp_id', 'start': 'start_genomic', 'stop': 'end_genomic', 'from': 'from_aa', 'to': 'to_aa'}, inplace= True)"
   ]
  },
  {
   "cell_type": "code",
   "execution_count": 85,
   "metadata": {},
   "outputs": [],
   "source": [
    "# Add an unique ID for each mutation, type INT\n",
    "Mutations['id_mutation'] = range(1, len(mutations)+1)"
   ]
  },
  {
   "cell_type": "code",
   "execution_count": 86,
   "metadata": {},
   "outputs": [],
   "source": [
    "# Aquellas mutaciones que tienen NaN en end sustituir por el start\n",
    "Mutations.end_aa = Mutations.end_aa.fillna(value= Mutations.start_aa).apply(int)"
   ]
  },
  {
   "cell_type": "code",
   "execution_count": 87,
   "metadata": {},
   "outputs": [
    {
     "output_type": "execute_result",
     "data": {
      "text/plain": [
       "       uniprot_acc      snp_id chromosome  start_genomic  end_genomic  \\\n",
       "0           A6H8Y1   879255413          5       71512291     71512293   \n",
       "1           A6NHR9   886043345         18        2700757      2700759   \n",
       "2           A6NHR9   886044914         18        2697985      2697987   \n",
       "3           A6NHR9  1598342592         18        2705766      2705768   \n",
       "4           A6NHR9  1598293848         18        2673343      2673345   \n",
       "...            ...         ...        ...            ...          ...   \n",
       "167746      Q9ULB1  1064795493          2       51028155     51028155   \n",
       "167747      Q9ULB1  1553759318          2       50538311     50538311   \n",
       "167748      Q9ULB1  1201575289          2       50055006     50055006   \n",
       "167749      Q9ULB1          -1          2       49922240     49922240   \n",
       "167750      Q9ULB1          -1          2       50236893     50236893   \n",
       "\n",
       "        start_aa  end_aa from_aa to_aa consequence   source  id_mutation  \n",
       "0           1371    1371     Arg   NaN    deletion  clinvar            1  \n",
       "1            497     497     Lys   NaN    deletion  clinvar            2  \n",
       "2            430     430     His   NaN    deletion  clinvar            3  \n",
       "3            639     639     Gly   NaN    deletion  clinvar            4  \n",
       "4            164     164     Arg   NaN    deletion  clinvar            5  \n",
       "...          ...     ...     ...   ...         ...      ...          ...  \n",
       "167746        40      40     Trp   Ter    nonsense  clinvar       167747  \n",
       "167747       695     695     Trp   Ter    nonsense  clinvar       167748  \n",
       "167748      1253    1253     Arg   Ter    nonsense  clinvar       167749  \n",
       "167749      1410    1410     Arg   Ter    nonsense  clinvar       167750  \n",
       "167750      1148    1148     Arg   Ter    nonsense  clinvar       167751  \n",
       "\n",
       "[167751 rows x 12 columns]"
      ],
      "text/html": "<div>\n<style scoped>\n    .dataframe tbody tr th:only-of-type {\n        vertical-align: middle;\n    }\n\n    .dataframe tbody tr th {\n        vertical-align: top;\n    }\n\n    .dataframe thead th {\n        text-align: right;\n    }\n</style>\n<table border=\"1\" class=\"dataframe\">\n  <thead>\n    <tr style=\"text-align: right;\">\n      <th></th>\n      <th>uniprot_acc</th>\n      <th>snp_id</th>\n      <th>chromosome</th>\n      <th>start_genomic</th>\n      <th>end_genomic</th>\n      <th>start_aa</th>\n      <th>end_aa</th>\n      <th>from_aa</th>\n      <th>to_aa</th>\n      <th>consequence</th>\n      <th>source</th>\n      <th>id_mutation</th>\n    </tr>\n  </thead>\n  <tbody>\n    <tr>\n      <th>0</th>\n      <td>A6H8Y1</td>\n      <td>879255413</td>\n      <td>5</td>\n      <td>71512291</td>\n      <td>71512293</td>\n      <td>1371</td>\n      <td>1371</td>\n      <td>Arg</td>\n      <td>NaN</td>\n      <td>deletion</td>\n      <td>clinvar</td>\n      <td>1</td>\n    </tr>\n    <tr>\n      <th>1</th>\n      <td>A6NHR9</td>\n      <td>886043345</td>\n      <td>18</td>\n      <td>2700757</td>\n      <td>2700759</td>\n      <td>497</td>\n      <td>497</td>\n      <td>Lys</td>\n      <td>NaN</td>\n      <td>deletion</td>\n      <td>clinvar</td>\n      <td>2</td>\n    </tr>\n    <tr>\n      <th>2</th>\n      <td>A6NHR9</td>\n      <td>886044914</td>\n      <td>18</td>\n      <td>2697985</td>\n      <td>2697987</td>\n      <td>430</td>\n      <td>430</td>\n      <td>His</td>\n      <td>NaN</td>\n      <td>deletion</td>\n      <td>clinvar</td>\n      <td>3</td>\n    </tr>\n    <tr>\n      <th>3</th>\n      <td>A6NHR9</td>\n      <td>1598342592</td>\n      <td>18</td>\n      <td>2705766</td>\n      <td>2705768</td>\n      <td>639</td>\n      <td>639</td>\n      <td>Gly</td>\n      <td>NaN</td>\n      <td>deletion</td>\n      <td>clinvar</td>\n      <td>4</td>\n    </tr>\n    <tr>\n      <th>4</th>\n      <td>A6NHR9</td>\n      <td>1598293848</td>\n      <td>18</td>\n      <td>2673343</td>\n      <td>2673345</td>\n      <td>164</td>\n      <td>164</td>\n      <td>Arg</td>\n      <td>NaN</td>\n      <td>deletion</td>\n      <td>clinvar</td>\n      <td>5</td>\n    </tr>\n    <tr>\n      <th>...</th>\n      <td>...</td>\n      <td>...</td>\n      <td>...</td>\n      <td>...</td>\n      <td>...</td>\n      <td>...</td>\n      <td>...</td>\n      <td>...</td>\n      <td>...</td>\n      <td>...</td>\n      <td>...</td>\n      <td>...</td>\n    </tr>\n    <tr>\n      <th>167746</th>\n      <td>Q9ULB1</td>\n      <td>1064795493</td>\n      <td>2</td>\n      <td>51028155</td>\n      <td>51028155</td>\n      <td>40</td>\n      <td>40</td>\n      <td>Trp</td>\n      <td>Ter</td>\n      <td>nonsense</td>\n      <td>clinvar</td>\n      <td>167747</td>\n    </tr>\n    <tr>\n      <th>167747</th>\n      <td>Q9ULB1</td>\n      <td>1553759318</td>\n      <td>2</td>\n      <td>50538311</td>\n      <td>50538311</td>\n      <td>695</td>\n      <td>695</td>\n      <td>Trp</td>\n      <td>Ter</td>\n      <td>nonsense</td>\n      <td>clinvar</td>\n      <td>167748</td>\n    </tr>\n    <tr>\n      <th>167748</th>\n      <td>Q9ULB1</td>\n      <td>1201575289</td>\n      <td>2</td>\n      <td>50055006</td>\n      <td>50055006</td>\n      <td>1253</td>\n      <td>1253</td>\n      <td>Arg</td>\n      <td>Ter</td>\n      <td>nonsense</td>\n      <td>clinvar</td>\n      <td>167749</td>\n    </tr>\n    <tr>\n      <th>167749</th>\n      <td>Q9ULB1</td>\n      <td>-1</td>\n      <td>2</td>\n      <td>49922240</td>\n      <td>49922240</td>\n      <td>1410</td>\n      <td>1410</td>\n      <td>Arg</td>\n      <td>Ter</td>\n      <td>nonsense</td>\n      <td>clinvar</td>\n      <td>167750</td>\n    </tr>\n    <tr>\n      <th>167750</th>\n      <td>Q9ULB1</td>\n      <td>-1</td>\n      <td>2</td>\n      <td>50236893</td>\n      <td>50236893</td>\n      <td>1148</td>\n      <td>1148</td>\n      <td>Arg</td>\n      <td>Ter</td>\n      <td>nonsense</td>\n      <td>clinvar</td>\n      <td>167751</td>\n    </tr>\n  </tbody>\n</table>\n<p>167751 rows × 12 columns</p>\n</div>"
     },
     "metadata": {},
     "execution_count": 87
    }
   ],
   "source": [
    "Mutations"
   ]
  },
  {
   "cell_type": "code",
   "execution_count": 88,
   "metadata": {},
   "outputs": [],
   "source": [
    "id_proteins = proteins[['id_protein', 'uniprot_acc']].copy()"
   ]
  },
  {
   "cell_type": "code",
   "execution_count": 89,
   "metadata": {},
   "outputs": [],
   "source": [
    "# Add IDs from protein, consequences and sources\n",
    "Mutations = Mutations.merge(id_proteins)\n",
    "Mutations = Mutations.merge(Consequences)\n",
    "Mutations = Mutations.merge(Sources)\n",
    "Mutations.rename(columns= {'id_protein': 'Proteins_id_protein',\n",
    "                            'id_source': 'Sources_id_source',\n",
    "                            'id_consequence': 'Consequences_id_consequence'}, inplace= True)\n",
    "\n",
    "Mutations.drop(columns=['uniprot_acc', 'consequence', 'source'], inplace= True)"
   ]
  },
  {
   "cell_type": "code",
   "execution_count": 90,
   "metadata": {},
   "outputs": [
    {
     "output_type": "execute_result",
     "data": {
      "text/plain": [
       "            snp_id chromosome  start_genomic  end_genomic  start_aa  end_aa  \\\n",
       "0        879255413          5       71512291     71512293      1371    1371   \n",
       "1        886043345         18        2700757      2700759       497     497   \n",
       "2        886044914         18        2697985      2697987       430     430   \n",
       "3       1598342592         18        2705766      2705768       639     639   \n",
       "4       1598293848         18        2673343      2673345       164     164   \n",
       "...            ...        ...            ...          ...       ...     ...   \n",
       "164603  1064795493          2       51028155     51028155        40      40   \n",
       "164604  1553759318          2       50538311     50538311       695     695   \n",
       "164605  1201575289          2       50055006     50055006      1253    1253   \n",
       "164606          -1          2       49922240     49922240      1410    1410   \n",
       "164607          -1          2       50236893     50236893      1148    1148   \n",
       "\n",
       "       from_aa to_aa  id_mutation  Proteins_id_protein  \\\n",
       "0          Arg   NaN            1                   19   \n",
       "1          Lys   NaN            2                   25   \n",
       "2          His   NaN            3                   25   \n",
       "3          Gly   NaN            4                   25   \n",
       "4          Arg   NaN            5                   25   \n",
       "...        ...   ...          ...                  ...   \n",
       "164603     Trp   Ter       167747                 4363   \n",
       "164604     Trp   Ter       167748                 4363   \n",
       "164605     Arg   Ter       167749                 4363   \n",
       "164606     Arg   Ter       167750                 4363   \n",
       "164607     Arg   Ter       167751                 4363   \n",
       "\n",
       "        Consequences_id_consequence  Sources_id_source  \n",
       "0                                 4                  1  \n",
       "1                                 4                  1  \n",
       "2                                 4                  1  \n",
       "3                                 4                  1  \n",
       "4                                 4                  1  \n",
       "...                             ...                ...  \n",
       "164603                            3                  1  \n",
       "164604                            3                  1  \n",
       "164605                            3                  1  \n",
       "164606                            3                  1  \n",
       "164607                            3                  1  \n",
       "\n",
       "[167751 rows x 12 columns]"
      ],
      "text/html": "<div>\n<style scoped>\n    .dataframe tbody tr th:only-of-type {\n        vertical-align: middle;\n    }\n\n    .dataframe tbody tr th {\n        vertical-align: top;\n    }\n\n    .dataframe thead th {\n        text-align: right;\n    }\n</style>\n<table border=\"1\" class=\"dataframe\">\n  <thead>\n    <tr style=\"text-align: right;\">\n      <th></th>\n      <th>snp_id</th>\n      <th>chromosome</th>\n      <th>start_genomic</th>\n      <th>end_genomic</th>\n      <th>start_aa</th>\n      <th>end_aa</th>\n      <th>from_aa</th>\n      <th>to_aa</th>\n      <th>id_mutation</th>\n      <th>Proteins_id_protein</th>\n      <th>Consequences_id_consequence</th>\n      <th>Sources_id_source</th>\n    </tr>\n  </thead>\n  <tbody>\n    <tr>\n      <th>0</th>\n      <td>879255413</td>\n      <td>5</td>\n      <td>71512291</td>\n      <td>71512293</td>\n      <td>1371</td>\n      <td>1371</td>\n      <td>Arg</td>\n      <td>NaN</td>\n      <td>1</td>\n      <td>19</td>\n      <td>4</td>\n      <td>1</td>\n    </tr>\n    <tr>\n      <th>1</th>\n      <td>886043345</td>\n      <td>18</td>\n      <td>2700757</td>\n      <td>2700759</td>\n      <td>497</td>\n      <td>497</td>\n      <td>Lys</td>\n      <td>NaN</td>\n      <td>2</td>\n      <td>25</td>\n      <td>4</td>\n      <td>1</td>\n    </tr>\n    <tr>\n      <th>2</th>\n      <td>886044914</td>\n      <td>18</td>\n      <td>2697985</td>\n      <td>2697987</td>\n      <td>430</td>\n      <td>430</td>\n      <td>His</td>\n      <td>NaN</td>\n      <td>3</td>\n      <td>25</td>\n      <td>4</td>\n      <td>1</td>\n    </tr>\n    <tr>\n      <th>3</th>\n      <td>1598342592</td>\n      <td>18</td>\n      <td>2705766</td>\n      <td>2705768</td>\n      <td>639</td>\n      <td>639</td>\n      <td>Gly</td>\n      <td>NaN</td>\n      <td>4</td>\n      <td>25</td>\n      <td>4</td>\n      <td>1</td>\n    </tr>\n    <tr>\n      <th>4</th>\n      <td>1598293848</td>\n      <td>18</td>\n      <td>2673343</td>\n      <td>2673345</td>\n      <td>164</td>\n      <td>164</td>\n      <td>Arg</td>\n      <td>NaN</td>\n      <td>5</td>\n      <td>25</td>\n      <td>4</td>\n      <td>1</td>\n    </tr>\n    <tr>\n      <th>...</th>\n      <td>...</td>\n      <td>...</td>\n      <td>...</td>\n      <td>...</td>\n      <td>...</td>\n      <td>...</td>\n      <td>...</td>\n      <td>...</td>\n      <td>...</td>\n      <td>...</td>\n      <td>...</td>\n      <td>...</td>\n    </tr>\n    <tr>\n      <th>164603</th>\n      <td>1064795493</td>\n      <td>2</td>\n      <td>51028155</td>\n      <td>51028155</td>\n      <td>40</td>\n      <td>40</td>\n      <td>Trp</td>\n      <td>Ter</td>\n      <td>167747</td>\n      <td>4363</td>\n      <td>3</td>\n      <td>1</td>\n    </tr>\n    <tr>\n      <th>164604</th>\n      <td>1553759318</td>\n      <td>2</td>\n      <td>50538311</td>\n      <td>50538311</td>\n      <td>695</td>\n      <td>695</td>\n      <td>Trp</td>\n      <td>Ter</td>\n      <td>167748</td>\n      <td>4363</td>\n      <td>3</td>\n      <td>1</td>\n    </tr>\n    <tr>\n      <th>164605</th>\n      <td>1201575289</td>\n      <td>2</td>\n      <td>50055006</td>\n      <td>50055006</td>\n      <td>1253</td>\n      <td>1253</td>\n      <td>Arg</td>\n      <td>Ter</td>\n      <td>167749</td>\n      <td>4363</td>\n      <td>3</td>\n      <td>1</td>\n    </tr>\n    <tr>\n      <th>164606</th>\n      <td>-1</td>\n      <td>2</td>\n      <td>49922240</td>\n      <td>49922240</td>\n      <td>1410</td>\n      <td>1410</td>\n      <td>Arg</td>\n      <td>Ter</td>\n      <td>167750</td>\n      <td>4363</td>\n      <td>3</td>\n      <td>1</td>\n    </tr>\n    <tr>\n      <th>164607</th>\n      <td>-1</td>\n      <td>2</td>\n      <td>50236893</td>\n      <td>50236893</td>\n      <td>1148</td>\n      <td>1148</td>\n      <td>Arg</td>\n      <td>Ter</td>\n      <td>167751</td>\n      <td>4363</td>\n      <td>3</td>\n      <td>1</td>\n    </tr>\n  </tbody>\n</table>\n<p>167751 rows × 12 columns</p>\n</div>"
     },
     "metadata": {},
     "execution_count": 90
    }
   ],
   "source": [
    "Mutations.sort_values('id_mutation')"
   ]
  },
  {
   "cell_type": "code",
   "execution_count": 91,
   "metadata": {},
   "outputs": [],
   "source": [
    "Mutations.to_csv('db_tables/Mutations.tsv', sep='\\t', index = False)"
   ]
  },
  {
   "source": [
    "---"
   ],
   "cell_type": "markdown",
   "metadata": {}
  },
  {
   "cell_type": "code",
   "execution_count": 92,
   "metadata": {},
   "outputs": [
    {
     "output_type": "execute_result",
     "data": {
      "text/plain": [
       "2414"
      ]
     },
     "metadata": {},
     "execution_count": 92
    }
   ],
   "source": [
    "len(mutations.uniprot_acc.unique()) # analizar esto"
   ]
  },
  {
   "cell_type": "code",
   "execution_count": 93,
   "metadata": {},
   "outputs": [
    {
     "output_type": "execute_result",
     "data": {
      "text/plain": [
       "4369"
      ]
     },
     "metadata": {},
     "execution_count": 93
    }
   ],
   "source": [
    "len(proteins.uniprot_acc.unique())"
   ]
  },
  {
   "cell_type": "code",
   "execution_count": 94,
   "metadata": {},
   "outputs": [
    {
     "output_type": "execute_result",
     "data": {
      "text/plain": [
       "       uniprot_acc      organism                      mlo                rol  \\\n",
       "0           A6H8Y1  Homo sapiens   stress granule, p-body          regulator   \n",
       "1           A6NHR9  Homo sapiens                nucleolus  component, client   \n",
       "2           A6NHR9  Homo sapiens                nucleolus  component, client   \n",
       "3           A6NHR9  Homo sapiens                nucleolus  component, client   \n",
       "4           A6NHR9  Homo sapiens                nucleolus  component, client   \n",
       "...            ...           ...                      ...                ...   \n",
       "167746      Q9ULB1  Homo sapiens     postsynaptic density             client   \n",
       "167747      Q9ULB1  Homo sapiens     postsynaptic density             client   \n",
       "167748      Q9ULB1  Homo sapiens     postsynaptic density             client   \n",
       "167749      Q9ULB1  Homo sapiens     postsynaptic density             client   \n",
       "167750      Q9ULB1  Homo sapiens     postsynaptic density             client   \n",
       "\n",
       "                         db     hgnc_id gene_name  \\\n",
       "0                    drllps  HGNC:13652      BDP1   \n",
       "1       drllps, phasepdb_ht  HGNC:29090    SMCHD1   \n",
       "2       drllps, phasepdb_ht  HGNC:29090    SMCHD1   \n",
       "3       drllps, phasepdb_ht  HGNC:29090    SMCHD1   \n",
       "4       drllps, phasepdb_ht  HGNC:29090    SMCHD1   \n",
       "...                     ...         ...       ...   \n",
       "167746               drllps   HGNC:8008     NRXN1   \n",
       "167747               drllps   HGNC:8008     NRXN1   \n",
       "167748               drllps   HGNC:8008     NRXN1   \n",
       "167749               drllps   HGNC:8008     NRXN1   \n",
       "167750               drllps   HGNC:8008     NRXN1   \n",
       "\n",
       "                                            approved_name  gene_id  geneid  \\\n",
       "0       B double prime 1, subunit of RNA polymerase II...  55814.0   55814   \n",
       "1       structural maintenance of chromosomes flexible...  23347.0   23347   \n",
       "2       structural maintenance of chromosomes flexible...  23347.0   23347   \n",
       "3       structural maintenance of chromosomes flexible...  23347.0   23347   \n",
       "4       structural maintenance of chromosomes flexible...  23347.0   23347   \n",
       "...                                                   ...      ...     ...   \n",
       "167746                                                NaN   9378.0    9378   \n",
       "167747                                                NaN   9378.0    9378   \n",
       "167748                                                NaN   9378.0    9378   \n",
       "167749                                                NaN   9378.0    9378   \n",
       "167750                                                NaN   9378.0    9378   \n",
       "\n",
       "        ...                      phenotypelist             otherids  \\\n",
       "0       ...                      not specified    ClinGen:CA3296626   \n",
       "1       ...                       not provided   ClinGen:CA10605406   \n",
       "2       ...  Scapulohumeral muscular dystrophy   ClinGen:CA10607099   \n",
       "3       ...                       not provided                    -   \n",
       "4       ...                       not provided                    -   \n",
       "...     ...                                ...                  ...   \n",
       "167746  ...                       not provided   ClinGen:CA16617739   \n",
       "167747  ...                       not provided  ClinGen:CA346770191   \n",
       "167748  ...                       not provided  ClinGen:CA346820132   \n",
       "167749  ...       Pitt-Hopkins-like syndrome 2                    -   \n",
       "167750  ...       Pitt-Hopkins-like syndrome 2                    -   \n",
       "\n",
       "            nuccore_id      cambio start_aa  end_aa  from   to consequence  \\\n",
       "0          NM_018429.3  Arg1371del     1371     NaN   Arg  NaN    deletion   \n",
       "1          NM_015295.2   Lys497del      497     NaN   Lys  NaN    deletion   \n",
       "2          NM_015295.2   His430del      430     NaN   His  NaN    deletion   \n",
       "3          NM_015295.3   Gly639del      639     NaN   Gly  NaN    deletion   \n",
       "4          NM_015295.3   Arg164del      164     NaN   Arg  NaN    deletion   \n",
       "...                ...         ...      ...     ...   ...  ...         ...   \n",
       "167746  NM_001330078.2    Trp40Ter       40     NaN   Trp  Ter    nonsense   \n",
       "167747  NM_001330078.2   Trp695Ter      695     NaN   Trp  Ter    nonsense   \n",
       "167748  NM_001330078.2  Arg1253Ter     1253     NaN   Arg  Ter    nonsense   \n",
       "167749  NM_001330078.2  Arg1410Ter     1410     NaN   Arg  Ter    nonsense   \n",
       "167750  NM_001330078.2  Arg1148Ter     1148     NaN   Arg  Ter    nonsense   \n",
       "\n",
       "         source  \n",
       "0       clinvar  \n",
       "1       clinvar  \n",
       "2       clinvar  \n",
       "3       clinvar  \n",
       "4       clinvar  \n",
       "...         ...  \n",
       "167746  clinvar  \n",
       "167747  clinvar  \n",
       "167748  clinvar  \n",
       "167749  clinvar  \n",
       "167750  clinvar  \n",
       "\n",
       "[167751 rows x 31 columns]"
      ],
      "text/html": "<div>\n<style scoped>\n    .dataframe tbody tr th:only-of-type {\n        vertical-align: middle;\n    }\n\n    .dataframe tbody tr th {\n        vertical-align: top;\n    }\n\n    .dataframe thead th {\n        text-align: right;\n    }\n</style>\n<table border=\"1\" class=\"dataframe\">\n  <thead>\n    <tr style=\"text-align: right;\">\n      <th></th>\n      <th>uniprot_acc</th>\n      <th>organism</th>\n      <th>mlo</th>\n      <th>rol</th>\n      <th>db</th>\n      <th>hgnc_id</th>\n      <th>gene_name</th>\n      <th>approved_name</th>\n      <th>gene_id</th>\n      <th>geneid</th>\n      <th>...</th>\n      <th>phenotypelist</th>\n      <th>otherids</th>\n      <th>nuccore_id</th>\n      <th>cambio</th>\n      <th>start_aa</th>\n      <th>end_aa</th>\n      <th>from</th>\n      <th>to</th>\n      <th>consequence</th>\n      <th>source</th>\n    </tr>\n  </thead>\n  <tbody>\n    <tr>\n      <th>0</th>\n      <td>A6H8Y1</td>\n      <td>Homo sapiens</td>\n      <td>stress granule, p-body</td>\n      <td>regulator</td>\n      <td>drllps</td>\n      <td>HGNC:13652</td>\n      <td>BDP1</td>\n      <td>B double prime 1, subunit of RNA polymerase II...</td>\n      <td>55814.0</td>\n      <td>55814</td>\n      <td>...</td>\n      <td>not specified</td>\n      <td>ClinGen:CA3296626</td>\n      <td>NM_018429.3</td>\n      <td>Arg1371del</td>\n      <td>1371</td>\n      <td>NaN</td>\n      <td>Arg</td>\n      <td>NaN</td>\n      <td>deletion</td>\n      <td>clinvar</td>\n    </tr>\n    <tr>\n      <th>1</th>\n      <td>A6NHR9</td>\n      <td>Homo sapiens</td>\n      <td>nucleolus</td>\n      <td>component, client</td>\n      <td>drllps, phasepdb_ht</td>\n      <td>HGNC:29090</td>\n      <td>SMCHD1</td>\n      <td>structural maintenance of chromosomes flexible...</td>\n      <td>23347.0</td>\n      <td>23347</td>\n      <td>...</td>\n      <td>not provided</td>\n      <td>ClinGen:CA10605406</td>\n      <td>NM_015295.2</td>\n      <td>Lys497del</td>\n      <td>497</td>\n      <td>NaN</td>\n      <td>Lys</td>\n      <td>NaN</td>\n      <td>deletion</td>\n      <td>clinvar</td>\n    </tr>\n    <tr>\n      <th>2</th>\n      <td>A6NHR9</td>\n      <td>Homo sapiens</td>\n      <td>nucleolus</td>\n      <td>component, client</td>\n      <td>drllps, phasepdb_ht</td>\n      <td>HGNC:29090</td>\n      <td>SMCHD1</td>\n      <td>structural maintenance of chromosomes flexible...</td>\n      <td>23347.0</td>\n      <td>23347</td>\n      <td>...</td>\n      <td>Scapulohumeral muscular dystrophy</td>\n      <td>ClinGen:CA10607099</td>\n      <td>NM_015295.2</td>\n      <td>His430del</td>\n      <td>430</td>\n      <td>NaN</td>\n      <td>His</td>\n      <td>NaN</td>\n      <td>deletion</td>\n      <td>clinvar</td>\n    </tr>\n    <tr>\n      <th>3</th>\n      <td>A6NHR9</td>\n      <td>Homo sapiens</td>\n      <td>nucleolus</td>\n      <td>component, client</td>\n      <td>drllps, phasepdb_ht</td>\n      <td>HGNC:29090</td>\n      <td>SMCHD1</td>\n      <td>structural maintenance of chromosomes flexible...</td>\n      <td>23347.0</td>\n      <td>23347</td>\n      <td>...</td>\n      <td>not provided</td>\n      <td>-</td>\n      <td>NM_015295.3</td>\n      <td>Gly639del</td>\n      <td>639</td>\n      <td>NaN</td>\n      <td>Gly</td>\n      <td>NaN</td>\n      <td>deletion</td>\n      <td>clinvar</td>\n    </tr>\n    <tr>\n      <th>4</th>\n      <td>A6NHR9</td>\n      <td>Homo sapiens</td>\n      <td>nucleolus</td>\n      <td>component, client</td>\n      <td>drllps, phasepdb_ht</td>\n      <td>HGNC:29090</td>\n      <td>SMCHD1</td>\n      <td>structural maintenance of chromosomes flexible...</td>\n      <td>23347.0</td>\n      <td>23347</td>\n      <td>...</td>\n      <td>not provided</td>\n      <td>-</td>\n      <td>NM_015295.3</td>\n      <td>Arg164del</td>\n      <td>164</td>\n      <td>NaN</td>\n      <td>Arg</td>\n      <td>NaN</td>\n      <td>deletion</td>\n      <td>clinvar</td>\n    </tr>\n    <tr>\n      <th>...</th>\n      <td>...</td>\n      <td>...</td>\n      <td>...</td>\n      <td>...</td>\n      <td>...</td>\n      <td>...</td>\n      <td>...</td>\n      <td>...</td>\n      <td>...</td>\n      <td>...</td>\n      <td>...</td>\n      <td>...</td>\n      <td>...</td>\n      <td>...</td>\n      <td>...</td>\n      <td>...</td>\n      <td>...</td>\n      <td>...</td>\n      <td>...</td>\n      <td>...</td>\n      <td>...</td>\n    </tr>\n    <tr>\n      <th>167746</th>\n      <td>Q9ULB1</td>\n      <td>Homo sapiens</td>\n      <td>postsynaptic density</td>\n      <td>client</td>\n      <td>drllps</td>\n      <td>HGNC:8008</td>\n      <td>NRXN1</td>\n      <td>NaN</td>\n      <td>9378.0</td>\n      <td>9378</td>\n      <td>...</td>\n      <td>not provided</td>\n      <td>ClinGen:CA16617739</td>\n      <td>NM_001330078.2</td>\n      <td>Trp40Ter</td>\n      <td>40</td>\n      <td>NaN</td>\n      <td>Trp</td>\n      <td>Ter</td>\n      <td>nonsense</td>\n      <td>clinvar</td>\n    </tr>\n    <tr>\n      <th>167747</th>\n      <td>Q9ULB1</td>\n      <td>Homo sapiens</td>\n      <td>postsynaptic density</td>\n      <td>client</td>\n      <td>drllps</td>\n      <td>HGNC:8008</td>\n      <td>NRXN1</td>\n      <td>NaN</td>\n      <td>9378.0</td>\n      <td>9378</td>\n      <td>...</td>\n      <td>not provided</td>\n      <td>ClinGen:CA346770191</td>\n      <td>NM_001330078.2</td>\n      <td>Trp695Ter</td>\n      <td>695</td>\n      <td>NaN</td>\n      <td>Trp</td>\n      <td>Ter</td>\n      <td>nonsense</td>\n      <td>clinvar</td>\n    </tr>\n    <tr>\n      <th>167748</th>\n      <td>Q9ULB1</td>\n      <td>Homo sapiens</td>\n      <td>postsynaptic density</td>\n      <td>client</td>\n      <td>drllps</td>\n      <td>HGNC:8008</td>\n      <td>NRXN1</td>\n      <td>NaN</td>\n      <td>9378.0</td>\n      <td>9378</td>\n      <td>...</td>\n      <td>not provided</td>\n      <td>ClinGen:CA346820132</td>\n      <td>NM_001330078.2</td>\n      <td>Arg1253Ter</td>\n      <td>1253</td>\n      <td>NaN</td>\n      <td>Arg</td>\n      <td>Ter</td>\n      <td>nonsense</td>\n      <td>clinvar</td>\n    </tr>\n    <tr>\n      <th>167749</th>\n      <td>Q9ULB1</td>\n      <td>Homo sapiens</td>\n      <td>postsynaptic density</td>\n      <td>client</td>\n      <td>drllps</td>\n      <td>HGNC:8008</td>\n      <td>NRXN1</td>\n      <td>NaN</td>\n      <td>9378.0</td>\n      <td>9378</td>\n      <td>...</td>\n      <td>Pitt-Hopkins-like syndrome 2</td>\n      <td>-</td>\n      <td>NM_001330078.2</td>\n      <td>Arg1410Ter</td>\n      <td>1410</td>\n      <td>NaN</td>\n      <td>Arg</td>\n      <td>Ter</td>\n      <td>nonsense</td>\n      <td>clinvar</td>\n    </tr>\n    <tr>\n      <th>167750</th>\n      <td>Q9ULB1</td>\n      <td>Homo sapiens</td>\n      <td>postsynaptic density</td>\n      <td>client</td>\n      <td>drllps</td>\n      <td>HGNC:8008</td>\n      <td>NRXN1</td>\n      <td>NaN</td>\n      <td>9378.0</td>\n      <td>9378</td>\n      <td>...</td>\n      <td>Pitt-Hopkins-like syndrome 2</td>\n      <td>-</td>\n      <td>NM_001330078.2</td>\n      <td>Arg1148Ter</td>\n      <td>1148</td>\n      <td>NaN</td>\n      <td>Arg</td>\n      <td>Ter</td>\n      <td>nonsense</td>\n      <td>clinvar</td>\n    </tr>\n  </tbody>\n</table>\n<p>167751 rows × 31 columns</p>\n</div>"
     },
     "metadata": {},
     "execution_count": 94
    }
   ],
   "source": [
    "mutations[mutations.uniprot_acc.isin(proteins.uniprot_acc)] # esto es, todas las mutaciones de clinvar tienen alguna proteina de llps"
   ]
  },
  {
   "cell_type": "code",
   "execution_count": 95,
   "metadata": {},
   "outputs": [
    {
     "output_type": "execute_result",
     "data": {
      "text/plain": [
       "      id_protein uniprot_acc     hgnc_id   gene_id gene_name  length  \\\n",
       "0              1  A0A024RBG1  HGNC:18012  440672.0    NUDT4B    4369   \n",
       "2              3  A0A0U1RRE5  HGNC:50713  550643.0      NBDY    4369   \n",
       "3              4      A0AV96  HGNC:30358   54502.0     RBM47    4369   \n",
       "4              5      A0FGR8  HGNC:22211   57488.0     ESYT2    4369   \n",
       "5              6      A0FGR9  HGNC:24295   83850.0     ESYT3    4369   \n",
       "...          ...         ...         ...       ...       ...     ...   \n",
       "4363        4364      Q9UN81         NaN       NaN       NaN    4369   \n",
       "4364        4365      Q9UNL7         NaN       NaN       NaN    4369   \n",
       "4366        4367      Q9Y649         NaN       NaN       NaN    4369   \n",
       "4367        4368      R4GMX3         NaN       NaN       NaN    4369   \n",
       "4368        4369      V9GYY5         NaN       NaN       NaN    4369   \n",
       "\n",
       "                                               sequence  \n",
       "0     MMKFKPNQTRTYDREGFKKRAACLCFRSEQEDEVLLVSSSRYPDQW...  \n",
       "2     MGDQPCASGRSTLPPGNAREAKPPKKRCLLAPRWDYPEGTPNGGST...  \n",
       "3     MTAEDSTAAMSSDSAAGSSAKVPEGVAGAPNEAALLALMERTGYSM...  \n",
       "4     MTANRDAALSSHRHPGCAQRPRTPTFASSSQRRSAFGFDDGNFPGL...  \n",
       "5     MRAEEPCAPGAPSALGAQRTPGPELRLSSQLLPELCTFVVRVLFYL...  \n",
       "...                                                 ...  \n",
       "4363  MGKKQNRKTGNSKTQSASPPPKERSSSPATEQSWMENDFDELREEG...  \n",
       "4364  KLDVEEPDSANSSFYSTRSAPASQASLRATSSTQSLARLGSPDYGN...  \n",
       "4366  MNDLICFLDNTFKNNVLSQAWWCVHLVPTIWEAEAGGSLEPRSLKL...  \n",
       "4367  MELSESVQKGFQMLADPRSFDSNAFTLLLRAAFQSLLDAQADEAVL...  \n",
       "4368  KRDGDDRRPRLVLSFDEEKRREYLTGFHKRKVERKKAAIEEIKQRL...  \n",
       "\n",
       "[1955 rows x 7 columns]"
      ],
      "text/html": "<div>\n<style scoped>\n    .dataframe tbody tr th:only-of-type {\n        vertical-align: middle;\n    }\n\n    .dataframe tbody tr th {\n        vertical-align: top;\n    }\n\n    .dataframe thead th {\n        text-align: right;\n    }\n</style>\n<table border=\"1\" class=\"dataframe\">\n  <thead>\n    <tr style=\"text-align: right;\">\n      <th></th>\n      <th>id_protein</th>\n      <th>uniprot_acc</th>\n      <th>hgnc_id</th>\n      <th>gene_id</th>\n      <th>gene_name</th>\n      <th>length</th>\n      <th>sequence</th>\n    </tr>\n  </thead>\n  <tbody>\n    <tr>\n      <th>0</th>\n      <td>1</td>\n      <td>A0A024RBG1</td>\n      <td>HGNC:18012</td>\n      <td>440672.0</td>\n      <td>NUDT4B</td>\n      <td>4369</td>\n      <td>MMKFKPNQTRTYDREGFKKRAACLCFRSEQEDEVLLVSSSRYPDQW...</td>\n    </tr>\n    <tr>\n      <th>2</th>\n      <td>3</td>\n      <td>A0A0U1RRE5</td>\n      <td>HGNC:50713</td>\n      <td>550643.0</td>\n      <td>NBDY</td>\n      <td>4369</td>\n      <td>MGDQPCASGRSTLPPGNAREAKPPKKRCLLAPRWDYPEGTPNGGST...</td>\n    </tr>\n    <tr>\n      <th>3</th>\n      <td>4</td>\n      <td>A0AV96</td>\n      <td>HGNC:30358</td>\n      <td>54502.0</td>\n      <td>RBM47</td>\n      <td>4369</td>\n      <td>MTAEDSTAAMSSDSAAGSSAKVPEGVAGAPNEAALLALMERTGYSM...</td>\n    </tr>\n    <tr>\n      <th>4</th>\n      <td>5</td>\n      <td>A0FGR8</td>\n      <td>HGNC:22211</td>\n      <td>57488.0</td>\n      <td>ESYT2</td>\n      <td>4369</td>\n      <td>MTANRDAALSSHRHPGCAQRPRTPTFASSSQRRSAFGFDDGNFPGL...</td>\n    </tr>\n    <tr>\n      <th>5</th>\n      <td>6</td>\n      <td>A0FGR9</td>\n      <td>HGNC:24295</td>\n      <td>83850.0</td>\n      <td>ESYT3</td>\n      <td>4369</td>\n      <td>MRAEEPCAPGAPSALGAQRTPGPELRLSSQLLPELCTFVVRVLFYL...</td>\n    </tr>\n    <tr>\n      <th>...</th>\n      <td>...</td>\n      <td>...</td>\n      <td>...</td>\n      <td>...</td>\n      <td>...</td>\n      <td>...</td>\n      <td>...</td>\n    </tr>\n    <tr>\n      <th>4363</th>\n      <td>4364</td>\n      <td>Q9UN81</td>\n      <td>NaN</td>\n      <td>NaN</td>\n      <td>NaN</td>\n      <td>4369</td>\n      <td>MGKKQNRKTGNSKTQSASPPPKERSSSPATEQSWMENDFDELREEG...</td>\n    </tr>\n    <tr>\n      <th>4364</th>\n      <td>4365</td>\n      <td>Q9UNL7</td>\n      <td>NaN</td>\n      <td>NaN</td>\n      <td>NaN</td>\n      <td>4369</td>\n      <td>KLDVEEPDSANSSFYSTRSAPASQASLRATSSTQSLARLGSPDYGN...</td>\n    </tr>\n    <tr>\n      <th>4366</th>\n      <td>4367</td>\n      <td>Q9Y649</td>\n      <td>NaN</td>\n      <td>NaN</td>\n      <td>NaN</td>\n      <td>4369</td>\n      <td>MNDLICFLDNTFKNNVLSQAWWCVHLVPTIWEAEAGGSLEPRSLKL...</td>\n    </tr>\n    <tr>\n      <th>4367</th>\n      <td>4368</td>\n      <td>R4GMX3</td>\n      <td>NaN</td>\n      <td>NaN</td>\n      <td>NaN</td>\n      <td>4369</td>\n      <td>MELSESVQKGFQMLADPRSFDSNAFTLLLRAAFQSLLDAQADEAVL...</td>\n    </tr>\n    <tr>\n      <th>4368</th>\n      <td>4369</td>\n      <td>V9GYY5</td>\n      <td>NaN</td>\n      <td>NaN</td>\n      <td>NaN</td>\n      <td>4369</td>\n      <td>KRDGDDRRPRLVLSFDEEKRREYLTGFHKRKVERKKAAIEEIKQRL...</td>\n    </tr>\n  </tbody>\n</table>\n<p>1955 rows × 7 columns</p>\n</div>"
     },
     "metadata": {},
     "execution_count": 95
    }
   ],
   "source": [
    "proteins[~proteins.uniprot_acc.isin(mutations.uniprot_acc)]"
   ]
  },
  {
   "cell_type": "code",
   "execution_count": 96,
   "metadata": {},
   "outputs": [
    {
     "output_type": "execute_result",
     "data": {
      "text/plain": [
       "    id_protein uniprot_acc     hgnc_id   gene_id gene_name  length  \\\n",
       "0            1  A0A024RBG1  HGNC:18012  440672.0    NUDT4B    4369   \n",
       "2            3  A0A0U1RRE5  HGNC:50713  550643.0      NBDY    4369   \n",
       "3            4      A0AV96  HGNC:30358   54502.0     RBM47    4369   \n",
       "4            5      A0FGR8  HGNC:22211   57488.0     ESYT2    4369   \n",
       "5            6      A0FGR9  HGNC:24295   83850.0     ESYT3    4369   \n",
       "6            7      A0MZ66  HGNC:29319   57698.0     SHTN1    4369   \n",
       "7            8      A1KXE4  HGNC:27016  130074.0   FAM168B    4369   \n",
       "9           10      A1L020  HGNC:33482   92312.0     MEX3A    4369   \n",
       "10          11      A1L3X0  HGNC:26292   79993.0    ELOVL7    4369   \n",
       "12          13      A2A3K4  HGNC:30184  138639.0    PTPDC1    4369   \n",
       "13          14      A2RTX5  HGNC:24728  123283.0     TARS3    4369   \n",
       "14          15      A4D1E9  HGNC:25106   85865.0   GTPBP10    4369   \n",
       "20          21      A6NCS6  HGNC:27418  257407.0   C2orf72    4369   \n",
       "21          22      A6NE02  HGNC:33758  388419.0    BTBD17    4369   \n",
       "23          24      A6NH52  HGNC:20398  780776.0    TVP23A    4369   \n",
       "25          26      A6NIX2  HGNC:20964  126374.0      WTIP    4369   \n",
       "26          27      A6NKD9  HGNC:35459  317762.0   CCDC85C    4369   \n",
       "27          28      A6NKF1  HGNC:30179   29901.0    SAC3D1    4369   \n",
       "28          29      A6NKT7  HGNC:32416  653489.0     RGPD3    4369   \n",
       "29          30      A6NL88  HGNC:35409  729956.0    SHISA7    4369   \n",
       "\n",
       "                                             sequence  \n",
       "0   MMKFKPNQTRTYDREGFKKRAACLCFRSEQEDEVLLVSSSRYPDQW...  \n",
       "2   MGDQPCASGRSTLPPGNAREAKPPKKRCLLAPRWDYPEGTPNGGST...  \n",
       "3   MTAEDSTAAMSSDSAAGSSAKVPEGVAGAPNEAALLALMERTGYSM...  \n",
       "4   MTANRDAALSSHRHPGCAQRPRTPTFASSSQRRSAFGFDDGNFPGL...  \n",
       "5   MRAEEPCAPGAPSALGAQRTPGPELRLSSQLLPELCTFVVRVLFYL...  \n",
       "6   MNSSDEEKQLQLITSLKEQAIGEYEDLRAENQKTKEKCDKIRQERD...  \n",
       "7   MNPVYSPGSSGVPYANAKGIGYPAGFPMGYAAAAPAYSPNMYPGAN...  \n",
       "9   MPSLVVSGIMERNGGFGELGCFGGSAKDRGLLEDERALQLALDQLC...  \n",
       "10  MAFSDLTSRTVHLYDNWIKDADPRVEDWLLMSSPLPQTILLGFYVY...  \n",
       "12  MAAGVLPQNEQPYSTLVNNSECVANMKGNLERPTPKYTKVGERLRH...  \n",
       "13  MAAEALAAEAVASRLERQEEDIRWLWSEVERLRDEQLNAPYSCQAE...  \n",
       "14  MVHCSCVLFRKYGNFIDKLRLFTRGGSGGMGYPRLGGEGGKGGDVW...  \n",
       "20  MERELEALAARLARPAEPPFQALVEAAGGRGQVLLVGELWEREQSR...  \n",
       "21  MPRRGYSKPGSWGSFWAMLTLVGLVTHAAQRADVGGEAAGTSINHS...  \n",
       "23  MKQALVDDTEDVSLDFGNEEELAFRKAKIRHPLATFFHLFFRVSAI...  \n",
       "25  MQRSRAGADEAALLLAGLALRELEPGCGSPGRGRRGPRPGPGDEAA...  \n",
       "26  MAKPAATAAAASEELSQVPDEELLRWSKEELARRLRRAEGEKVGLM...  \n",
       "27  MAGRRAQTGSAPPRPAAPHPRPASRAFPQHCRPRDAERPPSPRSPL...  \n",
       "28  MSCSKAYGERYVASVQGSAPSPRKKSTRGFYFAKLYYEAKEYDLAK...  \n",
       "29  MPALLLLVLLASSAGQARARPSNATSAEPAGPLPALLAHLRRLTGA...  "
      ],
      "text/html": "<div>\n<style scoped>\n    .dataframe tbody tr th:only-of-type {\n        vertical-align: middle;\n    }\n\n    .dataframe tbody tr th {\n        vertical-align: top;\n    }\n\n    .dataframe thead th {\n        text-align: right;\n    }\n</style>\n<table border=\"1\" class=\"dataframe\">\n  <thead>\n    <tr style=\"text-align: right;\">\n      <th></th>\n      <th>id_protein</th>\n      <th>uniprot_acc</th>\n      <th>hgnc_id</th>\n      <th>gene_id</th>\n      <th>gene_name</th>\n      <th>length</th>\n      <th>sequence</th>\n    </tr>\n  </thead>\n  <tbody>\n    <tr>\n      <th>0</th>\n      <td>1</td>\n      <td>A0A024RBG1</td>\n      <td>HGNC:18012</td>\n      <td>440672.0</td>\n      <td>NUDT4B</td>\n      <td>4369</td>\n      <td>MMKFKPNQTRTYDREGFKKRAACLCFRSEQEDEVLLVSSSRYPDQW...</td>\n    </tr>\n    <tr>\n      <th>2</th>\n      <td>3</td>\n      <td>A0A0U1RRE5</td>\n      <td>HGNC:50713</td>\n      <td>550643.0</td>\n      <td>NBDY</td>\n      <td>4369</td>\n      <td>MGDQPCASGRSTLPPGNAREAKPPKKRCLLAPRWDYPEGTPNGGST...</td>\n    </tr>\n    <tr>\n      <th>3</th>\n      <td>4</td>\n      <td>A0AV96</td>\n      <td>HGNC:30358</td>\n      <td>54502.0</td>\n      <td>RBM47</td>\n      <td>4369</td>\n      <td>MTAEDSTAAMSSDSAAGSSAKVPEGVAGAPNEAALLALMERTGYSM...</td>\n    </tr>\n    <tr>\n      <th>4</th>\n      <td>5</td>\n      <td>A0FGR8</td>\n      <td>HGNC:22211</td>\n      <td>57488.0</td>\n      <td>ESYT2</td>\n      <td>4369</td>\n      <td>MTANRDAALSSHRHPGCAQRPRTPTFASSSQRRSAFGFDDGNFPGL...</td>\n    </tr>\n    <tr>\n      <th>5</th>\n      <td>6</td>\n      <td>A0FGR9</td>\n      <td>HGNC:24295</td>\n      <td>83850.0</td>\n      <td>ESYT3</td>\n      <td>4369</td>\n      <td>MRAEEPCAPGAPSALGAQRTPGPELRLSSQLLPELCTFVVRVLFYL...</td>\n    </tr>\n    <tr>\n      <th>6</th>\n      <td>7</td>\n      <td>A0MZ66</td>\n      <td>HGNC:29319</td>\n      <td>57698.0</td>\n      <td>SHTN1</td>\n      <td>4369</td>\n      <td>MNSSDEEKQLQLITSLKEQAIGEYEDLRAENQKTKEKCDKIRQERD...</td>\n    </tr>\n    <tr>\n      <th>7</th>\n      <td>8</td>\n      <td>A1KXE4</td>\n      <td>HGNC:27016</td>\n      <td>130074.0</td>\n      <td>FAM168B</td>\n      <td>4369</td>\n      <td>MNPVYSPGSSGVPYANAKGIGYPAGFPMGYAAAAPAYSPNMYPGAN...</td>\n    </tr>\n    <tr>\n      <th>9</th>\n      <td>10</td>\n      <td>A1L020</td>\n      <td>HGNC:33482</td>\n      <td>92312.0</td>\n      <td>MEX3A</td>\n      <td>4369</td>\n      <td>MPSLVVSGIMERNGGFGELGCFGGSAKDRGLLEDERALQLALDQLC...</td>\n    </tr>\n    <tr>\n      <th>10</th>\n      <td>11</td>\n      <td>A1L3X0</td>\n      <td>HGNC:26292</td>\n      <td>79993.0</td>\n      <td>ELOVL7</td>\n      <td>4369</td>\n      <td>MAFSDLTSRTVHLYDNWIKDADPRVEDWLLMSSPLPQTILLGFYVY...</td>\n    </tr>\n    <tr>\n      <th>12</th>\n      <td>13</td>\n      <td>A2A3K4</td>\n      <td>HGNC:30184</td>\n      <td>138639.0</td>\n      <td>PTPDC1</td>\n      <td>4369</td>\n      <td>MAAGVLPQNEQPYSTLVNNSECVANMKGNLERPTPKYTKVGERLRH...</td>\n    </tr>\n    <tr>\n      <th>13</th>\n      <td>14</td>\n      <td>A2RTX5</td>\n      <td>HGNC:24728</td>\n      <td>123283.0</td>\n      <td>TARS3</td>\n      <td>4369</td>\n      <td>MAAEALAAEAVASRLERQEEDIRWLWSEVERLRDEQLNAPYSCQAE...</td>\n    </tr>\n    <tr>\n      <th>14</th>\n      <td>15</td>\n      <td>A4D1E9</td>\n      <td>HGNC:25106</td>\n      <td>85865.0</td>\n      <td>GTPBP10</td>\n      <td>4369</td>\n      <td>MVHCSCVLFRKYGNFIDKLRLFTRGGSGGMGYPRLGGEGGKGGDVW...</td>\n    </tr>\n    <tr>\n      <th>20</th>\n      <td>21</td>\n      <td>A6NCS6</td>\n      <td>HGNC:27418</td>\n      <td>257407.0</td>\n      <td>C2orf72</td>\n      <td>4369</td>\n      <td>MERELEALAARLARPAEPPFQALVEAAGGRGQVLLVGELWEREQSR...</td>\n    </tr>\n    <tr>\n      <th>21</th>\n      <td>22</td>\n      <td>A6NE02</td>\n      <td>HGNC:33758</td>\n      <td>388419.0</td>\n      <td>BTBD17</td>\n      <td>4369</td>\n      <td>MPRRGYSKPGSWGSFWAMLTLVGLVTHAAQRADVGGEAAGTSINHS...</td>\n    </tr>\n    <tr>\n      <th>23</th>\n      <td>24</td>\n      <td>A6NH52</td>\n      <td>HGNC:20398</td>\n      <td>780776.0</td>\n      <td>TVP23A</td>\n      <td>4369</td>\n      <td>MKQALVDDTEDVSLDFGNEEELAFRKAKIRHPLATFFHLFFRVSAI...</td>\n    </tr>\n    <tr>\n      <th>25</th>\n      <td>26</td>\n      <td>A6NIX2</td>\n      <td>HGNC:20964</td>\n      <td>126374.0</td>\n      <td>WTIP</td>\n      <td>4369</td>\n      <td>MQRSRAGADEAALLLAGLALRELEPGCGSPGRGRRGPRPGPGDEAA...</td>\n    </tr>\n    <tr>\n      <th>26</th>\n      <td>27</td>\n      <td>A6NKD9</td>\n      <td>HGNC:35459</td>\n      <td>317762.0</td>\n      <td>CCDC85C</td>\n      <td>4369</td>\n      <td>MAKPAATAAAASEELSQVPDEELLRWSKEELARRLRRAEGEKVGLM...</td>\n    </tr>\n    <tr>\n      <th>27</th>\n      <td>28</td>\n      <td>A6NKF1</td>\n      <td>HGNC:30179</td>\n      <td>29901.0</td>\n      <td>SAC3D1</td>\n      <td>4369</td>\n      <td>MAGRRAQTGSAPPRPAAPHPRPASRAFPQHCRPRDAERPPSPRSPL...</td>\n    </tr>\n    <tr>\n      <th>28</th>\n      <td>29</td>\n      <td>A6NKT7</td>\n      <td>HGNC:32416</td>\n      <td>653489.0</td>\n      <td>RGPD3</td>\n      <td>4369</td>\n      <td>MSCSKAYGERYVASVQGSAPSPRKKSTRGFYFAKLYYEAKEYDLAK...</td>\n    </tr>\n    <tr>\n      <th>29</th>\n      <td>30</td>\n      <td>A6NL88</td>\n      <td>HGNC:35409</td>\n      <td>729956.0</td>\n      <td>SHISA7</td>\n      <td>4369</td>\n      <td>MPALLLLVLLASSAGQARARPSNATSAEPAGPLPALLAHLRRLTGA...</td>\n    </tr>\n  </tbody>\n</table>\n</div>"
     },
     "metadata": {},
     "execution_count": 96
    }
   ],
   "source": [
    "# proteinas del dataset de llps que no mergearon con clinvar\n",
    "proteins[~proteins.uniprot_acc.isin(mutations.uniprot_acc)][:20]"
   ]
  },
  {
   "cell_type": "code",
   "execution_count": 97,
   "metadata": {},
   "outputs": [
    {
     "output_type": "execute_result",
     "data": {
      "text/plain": [
       "        start_aa  end_aa from   to consequence\n",
       "23986         53     NaN  Tyr  Cys    missense\n",
       "23987        981     NaN  Met  Val    missense\n",
       "23988       1133     NaN  Ala  Val    missense\n",
       "23989        478     NaN  Ala  Val    missense\n",
       "23990        232     NaN  Gln  Glu    missense\n",
       "...          ...     ...  ...  ...         ...\n",
       "156481       566     NaN  Leu  Pro    missense\n",
       "156482       439     NaN  Lys  Glu    missense\n",
       "156483      1481     NaN  Arg  Gln    missense\n",
       "156484       203     NaN  Gly  Asp    missense\n",
       "156485       678     NaN  Thr  Ile    missense\n",
       "\n",
       "[132500 rows x 5 columns]"
      ],
      "text/html": "<div>\n<style scoped>\n    .dataframe tbody tr th:only-of-type {\n        vertical-align: middle;\n    }\n\n    .dataframe tbody tr th {\n        vertical-align: top;\n    }\n\n    .dataframe thead th {\n        text-align: right;\n    }\n</style>\n<table border=\"1\" class=\"dataframe\">\n  <thead>\n    <tr style=\"text-align: right;\">\n      <th></th>\n      <th>start_aa</th>\n      <th>end_aa</th>\n      <th>from</th>\n      <th>to</th>\n      <th>consequence</th>\n    </tr>\n  </thead>\n  <tbody>\n    <tr>\n      <th>23986</th>\n      <td>53</td>\n      <td>NaN</td>\n      <td>Tyr</td>\n      <td>Cys</td>\n      <td>missense</td>\n    </tr>\n    <tr>\n      <th>23987</th>\n      <td>981</td>\n      <td>NaN</td>\n      <td>Met</td>\n      <td>Val</td>\n      <td>missense</td>\n    </tr>\n    <tr>\n      <th>23988</th>\n      <td>1133</td>\n      <td>NaN</td>\n      <td>Ala</td>\n      <td>Val</td>\n      <td>missense</td>\n    </tr>\n    <tr>\n      <th>23989</th>\n      <td>478</td>\n      <td>NaN</td>\n      <td>Ala</td>\n      <td>Val</td>\n      <td>missense</td>\n    </tr>\n    <tr>\n      <th>23990</th>\n      <td>232</td>\n      <td>NaN</td>\n      <td>Gln</td>\n      <td>Glu</td>\n      <td>missense</td>\n    </tr>\n    <tr>\n      <th>...</th>\n      <td>...</td>\n      <td>...</td>\n      <td>...</td>\n      <td>...</td>\n      <td>...</td>\n    </tr>\n    <tr>\n      <th>156481</th>\n      <td>566</td>\n      <td>NaN</td>\n      <td>Leu</td>\n      <td>Pro</td>\n      <td>missense</td>\n    </tr>\n    <tr>\n      <th>156482</th>\n      <td>439</td>\n      <td>NaN</td>\n      <td>Lys</td>\n      <td>Glu</td>\n      <td>missense</td>\n    </tr>\n    <tr>\n      <th>156483</th>\n      <td>1481</td>\n      <td>NaN</td>\n      <td>Arg</td>\n      <td>Gln</td>\n      <td>missense</td>\n    </tr>\n    <tr>\n      <th>156484</th>\n      <td>203</td>\n      <td>NaN</td>\n      <td>Gly</td>\n      <td>Asp</td>\n      <td>missense</td>\n    </tr>\n    <tr>\n      <th>156485</th>\n      <td>678</td>\n      <td>NaN</td>\n      <td>Thr</td>\n      <td>Ile</td>\n      <td>missense</td>\n    </tr>\n  </tbody>\n</table>\n<p>132500 rows × 5 columns</p>\n</div>"
     },
     "metadata": {},
     "execution_count": 97
    }
   ],
   "source": [
    "(mutations[mutations.consequence == 'missense'])[['start_aa',\t'end_aa',\t'from',\t'to',\t'consequence']]"
   ]
  },
  {
   "source": [
    "---\n",
    "## Para asignar los rangos debo tener:  \n",
    "- Tabla de mutaciones con id_mutation, *id_protein(Chromosome), start_aa(Start), end_aa(End)*  \n",
    "- Tablas de lc, idr y pfam con id unico "
   ],
   "cell_type": "markdown",
   "metadata": {}
  },
  {
   "source": [
    "---  \n",
    "# Pfam Tables"
   ],
   "cell_type": "markdown",
   "metadata": {}
  },
  {
   "cell_type": "code",
   "execution_count": 98,
   "metadata": {},
   "outputs": [
    {
     "output_type": "execute_result",
     "data": {
      "text/plain": [
       "  uniprot_acc   tipo  start   end\n",
       "0      O94910  7tm_2    857  1093\n",
       "1      Q9HAR2  7tm_2    861  1097\n",
       "2      O14514  7tm_2    944  1180\n",
       "3      O75899  7tm_3    475   743\n",
       "4      Q9NZH0  7tm_3     49   291"
      ],
      "text/html": "<div>\n<style scoped>\n    .dataframe tbody tr th:only-of-type {\n        vertical-align: middle;\n    }\n\n    .dataframe tbody tr th {\n        vertical-align: top;\n    }\n\n    .dataframe thead th {\n        text-align: right;\n    }\n</style>\n<table border=\"1\" class=\"dataframe\">\n  <thead>\n    <tr style=\"text-align: right;\">\n      <th></th>\n      <th>uniprot_acc</th>\n      <th>tipo</th>\n      <th>start</th>\n      <th>end</th>\n    </tr>\n  </thead>\n  <tbody>\n    <tr>\n      <th>0</th>\n      <td>O94910</td>\n      <td>7tm_2</td>\n      <td>857</td>\n      <td>1093</td>\n    </tr>\n    <tr>\n      <th>1</th>\n      <td>Q9HAR2</td>\n      <td>7tm_2</td>\n      <td>861</td>\n      <td>1097</td>\n    </tr>\n    <tr>\n      <th>2</th>\n      <td>O14514</td>\n      <td>7tm_2</td>\n      <td>944</td>\n      <td>1180</td>\n    </tr>\n    <tr>\n      <th>3</th>\n      <td>O75899</td>\n      <td>7tm_3</td>\n      <td>475</td>\n      <td>743</td>\n    </tr>\n    <tr>\n      <th>4</th>\n      <td>Q9NZH0</td>\n      <td>7tm_3</td>\n      <td>49</td>\n      <td>291</td>\n    </tr>\n  </tbody>\n</table>\n</div>"
     },
     "metadata": {},
     "execution_count": 98
    }
   ],
   "source": [
    "pfam.head()"
   ]
  },
  {
   "source": [
    "## pfam_domains  \n",
    "cols: pfam_id, pfam_domain, por ej: PF00003 7tm_3"
   ],
   "cell_type": "markdown",
   "metadata": {}
  },
  {
   "cell_type": "code",
   "execution_count": 99,
   "metadata": {},
   "outputs": [],
   "source": [
    "pf_domain = pfam.tipo.unique() # unique pfam domains"
   ]
  },
  {
   "cell_type": "code",
   "execution_count": 100,
   "metadata": {},
   "outputs": [
    {
     "output_type": "execute_result",
     "data": {
      "text/plain": [
       "          pfam_domain  pfam_id\n",
       "0               7tm_2        1\n",
       "1               7tm_3        2\n",
       "2         ATP-synt_ab        3\n",
       "3            GTP_EFTU        4\n",
       "4                 HLH        5\n",
       "...               ...      ...\n",
       "2934  PhoLip_ATPase_C     2935\n",
       "2935   HIP1_clath_bdg     2936\n",
       "2936            DAO_C     2937\n",
       "2937            Armet     2938\n",
       "2938             DSPc     2939\n",
       "\n",
       "[2939 rows x 2 columns]"
      ],
      "text/html": "<div>\n<style scoped>\n    .dataframe tbody tr th:only-of-type {\n        vertical-align: middle;\n    }\n\n    .dataframe tbody tr th {\n        vertical-align: top;\n    }\n\n    .dataframe thead th {\n        text-align: right;\n    }\n</style>\n<table border=\"1\" class=\"dataframe\">\n  <thead>\n    <tr style=\"text-align: right;\">\n      <th></th>\n      <th>pfam_domain</th>\n      <th>pfam_id</th>\n    </tr>\n  </thead>\n  <tbody>\n    <tr>\n      <th>0</th>\n      <td>7tm_2</td>\n      <td>1</td>\n    </tr>\n    <tr>\n      <th>1</th>\n      <td>7tm_3</td>\n      <td>2</td>\n    </tr>\n    <tr>\n      <th>2</th>\n      <td>ATP-synt_ab</td>\n      <td>3</td>\n    </tr>\n    <tr>\n      <th>3</th>\n      <td>GTP_EFTU</td>\n      <td>4</td>\n    </tr>\n    <tr>\n      <th>4</th>\n      <td>HLH</td>\n      <td>5</td>\n    </tr>\n    <tr>\n      <th>...</th>\n      <td>...</td>\n      <td>...</td>\n    </tr>\n    <tr>\n      <th>2934</th>\n      <td>PhoLip_ATPase_C</td>\n      <td>2935</td>\n    </tr>\n    <tr>\n      <th>2935</th>\n      <td>HIP1_clath_bdg</td>\n      <td>2936</td>\n    </tr>\n    <tr>\n      <th>2936</th>\n      <td>DAO_C</td>\n      <td>2937</td>\n    </tr>\n    <tr>\n      <th>2937</th>\n      <td>Armet</td>\n      <td>2938</td>\n    </tr>\n    <tr>\n      <th>2938</th>\n      <td>DSPc</td>\n      <td>2939</td>\n    </tr>\n  </tbody>\n</table>\n<p>2939 rows × 2 columns</p>\n</div>"
     },
     "metadata": {},
     "execution_count": 100
    }
   ],
   "source": [
    "pfam_domains = pd.DataFrame({'pfam_domain': pf_domain, 'pfam_id': range(1, len(pf_domain)+1)})  # luego cambiar el id por los PF000...\n",
    "pfam_domains"
   ]
  },
  {
   "cell_type": "code",
   "execution_count": 101,
   "metadata": {},
   "outputs": [],
   "source": [
    "pfam_domains.to_csv('db_tables/pfam_domains.tsv', sep='\\t', index= False)"
   ]
  },
  {
   "source": [
    "## Proteins_has_pfam_domains  \n",
    "cols: Proteins_id_protein, pfam_domains_pfam_id, start, end, length"
   ],
   "cell_type": "markdown",
   "metadata": {}
  },
  {
   "cell_type": "code",
   "execution_count": 102,
   "metadata": {},
   "outputs": [],
   "source": [
    "# Mapping uniprot_acc with its unique INT id\n",
    "id_proteins = proteins[['id_protein','uniprot_acc']].copy()"
   ]
  },
  {
   "cell_type": "code",
   "execution_count": 103,
   "metadata": {},
   "outputs": [],
   "source": [
    "Proteins_has_pfam_domains = pfam.merge(id_proteins) # agregar col id_protein\n",
    "Proteins_has_pfam_domains['length'] = Proteins_has_pfam_domains.end - Proteins_has_pfam_domains.start + 1 # col length"
   ]
  },
  {
   "cell_type": "code",
   "execution_count": 104,
   "metadata": {},
   "outputs": [],
   "source": [
    "Proteins_has_pfam_domains.rename(columns= {'tipo': 'pfam_domain'}, inplace= True)\n",
    "Proteins_has_pfam_domains = Proteins_has_pfam_domains.merge(pfam_domains) # para agregar col pfam_id\n",
    "Proteins_has_pfam_domains.rename(columns= {'id_protein': 'Proteins_id_protein', 'pfam_id': 'pfam_domains_pfam_id'}, inplace= True)"
   ]
  },
  {
   "cell_type": "code",
   "execution_count": 105,
   "metadata": {},
   "outputs": [
    {
     "output_type": "execute_result",
     "data": {
      "text/plain": [
       "      Proteins_id_protein  pfam_domains_pfam_id  start  end  length\n",
       "6140                    1                   171     17  144     128\n",
       "9114                    2                   814     28   91      64\n",
       "627                     4                    50    153  220      68\n",
       "626                     4                    50    248  312      65\n",
       "625                     4                    50     73  141      69"
      ],
      "text/html": "<div>\n<style scoped>\n    .dataframe tbody tr th:only-of-type {\n        vertical-align: middle;\n    }\n\n    .dataframe tbody tr th {\n        vertical-align: top;\n    }\n\n    .dataframe thead th {\n        text-align: right;\n    }\n</style>\n<table border=\"1\" class=\"dataframe\">\n  <thead>\n    <tr style=\"text-align: right;\">\n      <th></th>\n      <th>Proteins_id_protein</th>\n      <th>pfam_domains_pfam_id</th>\n      <th>start</th>\n      <th>end</th>\n      <th>length</th>\n    </tr>\n  </thead>\n  <tbody>\n    <tr>\n      <th>6140</th>\n      <td>1</td>\n      <td>171</td>\n      <td>17</td>\n      <td>144</td>\n      <td>128</td>\n    </tr>\n    <tr>\n      <th>9114</th>\n      <td>2</td>\n      <td>814</td>\n      <td>28</td>\n      <td>91</td>\n      <td>64</td>\n    </tr>\n    <tr>\n      <th>627</th>\n      <td>4</td>\n      <td>50</td>\n      <td>153</td>\n      <td>220</td>\n      <td>68</td>\n    </tr>\n    <tr>\n      <th>626</th>\n      <td>4</td>\n      <td>50</td>\n      <td>248</td>\n      <td>312</td>\n      <td>65</td>\n    </tr>\n    <tr>\n      <th>625</th>\n      <td>4</td>\n      <td>50</td>\n      <td>73</td>\n      <td>141</td>\n      <td>69</td>\n    </tr>\n  </tbody>\n</table>\n</div>"
     },
     "metadata": {},
     "execution_count": 105
    }
   ],
   "source": [
    "Proteins_has_pfam_domains = Proteins_has_pfam_domains[['Proteins_id_protein', 'pfam_domains_pfam_id', 'start', 'end', 'length']].sort_values('Proteins_id_protein')\n",
    "Proteins_has_pfam_domains.head()"
   ]
  },
  {
   "cell_type": "code",
   "execution_count": 106,
   "metadata": {},
   "outputs": [],
   "source": [
    "Proteins_has_pfam_domains.to_csv('db_tables/Proteins_has_pfam_domains.tsv', sep='\\t', index= False)"
   ]
  },
  {
   "source": [
    "## Mutations_has_Proteins_has_pfam_domains  \n",
    "cols: Mutations_id_mutation, Proteins_has_pfam_domains_Proteins_id_protein, Proteins_has_pfam_domains_pfam_domains_pfam_id"
   ],
   "cell_type": "markdown",
   "metadata": {}
  },
  {
   "source": [
    "## Pyranges  \n",
    "columnas obligatorias: *Chromosome\t Start\tEnd*  \n",
    "Chromosome: id_protein    \n",
    "otras columnas con ids son opcionales y cualquier nombre  \n",
    "  \n",
    "por ejemplo df seria tabla de mutaciones  \n",
    "df = pr.PyRanges(df.rename(columns={'chromosome':'Chromosome','start_position':'Start','end_position':'End'}))  \n",
    "  \n",
    "df = pyrange de mutaciones (columnas: Chromosome, Start, End, id_mutacion)  \n",
    "low_c = pyrange de low complexity(columnas: Chromosome, Start, End, id_low, id_proteina)  \n",
    "data = df.join(low_c, strandedness=False, slack=1).drop(like=\"_b\") # mutaciones lo junto con low_complex  \n",
    "strandedness=False no tener en cuenta el Strand  \n",
    "slack=1 coincidir los extremos. Importante  \n",
    "drop(like=\"_b\") eliminar el Chromosome, Start, End de low_c (en pfam no hacer el drop)  \n",
    "data = data.df[[Chromosome, Start, End, id_mutacion, id_low, id_proteina]] # pasa de pyrange a dataframe"
   ],
   "cell_type": "markdown",
   "metadata": {}
  },
  {
   "cell_type": "code",
   "execution_count": 107,
   "metadata": {},
   "outputs": [
    {
     "output_type": "execute_result",
     "data": {
      "text/plain": [
       "       snp_id chromosome  start_genomic  end_genomic  start_aa  end_aa  \\\n",
       "0   879255413          5       71512291     71512293      1371    1371   \n",
       "1   886043345         18        2700757      2700759       497     497   \n",
       "2   886044914         18        2697985      2697987       430     430   \n",
       "3  1598342592         18        2705766      2705768       639     639   \n",
       "4  1598293848         18        2673343      2673345       164     164   \n",
       "\n",
       "  from_aa to_aa  id_mutation  Proteins_id_protein  \\\n",
       "0     Arg   NaN            1                   19   \n",
       "1     Lys   NaN            2                   25   \n",
       "2     His   NaN            3                   25   \n",
       "3     Gly   NaN            4                   25   \n",
       "4     Arg   NaN            5                   25   \n",
       "\n",
       "   Consequences_id_consequence  Sources_id_source  \n",
       "0                            4                  1  \n",
       "1                            4                  1  \n",
       "2                            4                  1  \n",
       "3                            4                  1  \n",
       "4                            4                  1  "
      ],
      "text/html": "<div>\n<style scoped>\n    .dataframe tbody tr th:only-of-type {\n        vertical-align: middle;\n    }\n\n    .dataframe tbody tr th {\n        vertical-align: top;\n    }\n\n    .dataframe thead th {\n        text-align: right;\n    }\n</style>\n<table border=\"1\" class=\"dataframe\">\n  <thead>\n    <tr style=\"text-align: right;\">\n      <th></th>\n      <th>snp_id</th>\n      <th>chromosome</th>\n      <th>start_genomic</th>\n      <th>end_genomic</th>\n      <th>start_aa</th>\n      <th>end_aa</th>\n      <th>from_aa</th>\n      <th>to_aa</th>\n      <th>id_mutation</th>\n      <th>Proteins_id_protein</th>\n      <th>Consequences_id_consequence</th>\n      <th>Sources_id_source</th>\n    </tr>\n  </thead>\n  <tbody>\n    <tr>\n      <th>0</th>\n      <td>879255413</td>\n      <td>5</td>\n      <td>71512291</td>\n      <td>71512293</td>\n      <td>1371</td>\n      <td>1371</td>\n      <td>Arg</td>\n      <td>NaN</td>\n      <td>1</td>\n      <td>19</td>\n      <td>4</td>\n      <td>1</td>\n    </tr>\n    <tr>\n      <th>1</th>\n      <td>886043345</td>\n      <td>18</td>\n      <td>2700757</td>\n      <td>2700759</td>\n      <td>497</td>\n      <td>497</td>\n      <td>Lys</td>\n      <td>NaN</td>\n      <td>2</td>\n      <td>25</td>\n      <td>4</td>\n      <td>1</td>\n    </tr>\n    <tr>\n      <th>2</th>\n      <td>886044914</td>\n      <td>18</td>\n      <td>2697985</td>\n      <td>2697987</td>\n      <td>430</td>\n      <td>430</td>\n      <td>His</td>\n      <td>NaN</td>\n      <td>3</td>\n      <td>25</td>\n      <td>4</td>\n      <td>1</td>\n    </tr>\n    <tr>\n      <th>3</th>\n      <td>1598342592</td>\n      <td>18</td>\n      <td>2705766</td>\n      <td>2705768</td>\n      <td>639</td>\n      <td>639</td>\n      <td>Gly</td>\n      <td>NaN</td>\n      <td>4</td>\n      <td>25</td>\n      <td>4</td>\n      <td>1</td>\n    </tr>\n    <tr>\n      <th>4</th>\n      <td>1598293848</td>\n      <td>18</td>\n      <td>2673343</td>\n      <td>2673345</td>\n      <td>164</td>\n      <td>164</td>\n      <td>Arg</td>\n      <td>NaN</td>\n      <td>5</td>\n      <td>25</td>\n      <td>4</td>\n      <td>1</td>\n    </tr>\n  </tbody>\n</table>\n</div>"
     },
     "metadata": {},
     "execution_count": 107
    }
   ],
   "source": [
    "Mutations.head()"
   ]
  },
  {
   "cell_type": "code",
   "execution_count": 108,
   "metadata": {},
   "outputs": [],
   "source": [
    "# df has pfam domains data\n",
    "df = pfam.rename(columns={'tipo': 'pfam_domain'}).merge(pfam_domains)\n",
    "df = df.merge(id_proteins)                      # mapping uniprot_acc - id_protein\n",
    "df.drop(columns='uniprot_acc', inplace= True)"
   ]
  },
  {
   "cell_type": "code",
   "execution_count": 109,
   "metadata": {},
   "outputs": [
    {
     "output_type": "execute_result",
     "data": {
      "text/plain": [
       "   pfam_domain  start   end  pfam_id  id_protein\n",
       "0        7tm_2    857  1093        1         477\n",
       "1          GPS    800   844      690         477\n",
       "2   Gal_Lectin     48   128      745         477\n",
       "3          OLF    144   396      773         477\n",
       "4  Latrophilin   1113  1474      818         477"
      ],
      "text/html": "<div>\n<style scoped>\n    .dataframe tbody tr th:only-of-type {\n        vertical-align: middle;\n    }\n\n    .dataframe tbody tr th {\n        vertical-align: top;\n    }\n\n    .dataframe thead th {\n        text-align: right;\n    }\n</style>\n<table border=\"1\" class=\"dataframe\">\n  <thead>\n    <tr style=\"text-align: right;\">\n      <th></th>\n      <th>pfam_domain</th>\n      <th>start</th>\n      <th>end</th>\n      <th>pfam_id</th>\n      <th>id_protein</th>\n    </tr>\n  </thead>\n  <tbody>\n    <tr>\n      <th>0</th>\n      <td>7tm_2</td>\n      <td>857</td>\n      <td>1093</td>\n      <td>1</td>\n      <td>477</td>\n    </tr>\n    <tr>\n      <th>1</th>\n      <td>GPS</td>\n      <td>800</td>\n      <td>844</td>\n      <td>690</td>\n      <td>477</td>\n    </tr>\n    <tr>\n      <th>2</th>\n      <td>Gal_Lectin</td>\n      <td>48</td>\n      <td>128</td>\n      <td>745</td>\n      <td>477</td>\n    </tr>\n    <tr>\n      <th>3</th>\n      <td>OLF</td>\n      <td>144</td>\n      <td>396</td>\n      <td>773</td>\n      <td>477</td>\n    </tr>\n    <tr>\n      <th>4</th>\n      <td>Latrophilin</td>\n      <td>1113</td>\n      <td>1474</td>\n      <td>818</td>\n      <td>477</td>\n    </tr>\n  </tbody>\n</table>\n</div>"
     },
     "metadata": {},
     "execution_count": 109
    }
   ],
   "source": [
    "df.head()"
   ]
  },
  {
   "cell_type": "code",
   "execution_count": 110,
   "metadata": {},
   "outputs": [],
   "source": [
    "df.rename(columns={'id_protein': 'Chromosome', 'start': 'Start', 'end': 'End'}, inplace= True)"
   ]
  },
  {
   "cell_type": "code",
   "execution_count": 111,
   "metadata": {},
   "outputs": [
    {
     "output_type": "execute_result",
     "data": {
      "text/plain": [
       "   pfam_domain  Start   End  pfam_id  Chromosome\n",
       "0        7tm_2    857  1093        1         477\n",
       "1          GPS    800   844      690         477\n",
       "2   Gal_Lectin     48   128      745         477\n",
       "3          OLF    144   396      773         477\n",
       "4  Latrophilin   1113  1474      818         477"
      ],
      "text/html": "<div>\n<style scoped>\n    .dataframe tbody tr th:only-of-type {\n        vertical-align: middle;\n    }\n\n    .dataframe tbody tr th {\n        vertical-align: top;\n    }\n\n    .dataframe thead th {\n        text-align: right;\n    }\n</style>\n<table border=\"1\" class=\"dataframe\">\n  <thead>\n    <tr style=\"text-align: right;\">\n      <th></th>\n      <th>pfam_domain</th>\n      <th>Start</th>\n      <th>End</th>\n      <th>pfam_id</th>\n      <th>Chromosome</th>\n    </tr>\n  </thead>\n  <tbody>\n    <tr>\n      <th>0</th>\n      <td>7tm_2</td>\n      <td>857</td>\n      <td>1093</td>\n      <td>1</td>\n      <td>477</td>\n    </tr>\n    <tr>\n      <th>1</th>\n      <td>GPS</td>\n      <td>800</td>\n      <td>844</td>\n      <td>690</td>\n      <td>477</td>\n    </tr>\n    <tr>\n      <th>2</th>\n      <td>Gal_Lectin</td>\n      <td>48</td>\n      <td>128</td>\n      <td>745</td>\n      <td>477</td>\n    </tr>\n    <tr>\n      <th>3</th>\n      <td>OLF</td>\n      <td>144</td>\n      <td>396</td>\n      <td>773</td>\n      <td>477</td>\n    </tr>\n    <tr>\n      <th>4</th>\n      <td>Latrophilin</td>\n      <td>1113</td>\n      <td>1474</td>\n      <td>818</td>\n      <td>477</td>\n    </tr>\n  </tbody>\n</table>\n</div>"
     },
     "metadata": {},
     "execution_count": 111
    }
   ],
   "source": [
    "df.head()"
   ]
  },
  {
   "cell_type": "code",
   "execution_count": 112,
   "metadata": {},
   "outputs": [],
   "source": [
    "# Create the pyranges object of pfam domains\n",
    "df_py = pr.PyRanges(df)"
   ]
  },
  {
   "cell_type": "code",
   "execution_count": 113,
   "metadata": {},
   "outputs": [],
   "source": [
    "aux = Mutations[['start_aa', 'end_aa', 'id_mutation', 'Proteins_id_protein']].copy()\n",
    "aux.rename(columns={'Proteins_id_protein': 'Chromosome', 'start_aa': 'Start', 'end_aa': 'End'}, inplace= True)"
   ]
  },
  {
   "cell_type": "code",
   "execution_count": 114,
   "metadata": {},
   "outputs": [
    {
     "output_type": "execute_result",
     "data": {
      "text/plain": [
       "   Start   End  id_mutation  Chromosome\n",
       "0   1371  1371            1          19\n",
       "1    497   497            2          25\n",
       "2    430   430            3          25\n",
       "3    639   639            4          25\n",
       "4    164   164            5          25"
      ],
      "text/html": "<div>\n<style scoped>\n    .dataframe tbody tr th:only-of-type {\n        vertical-align: middle;\n    }\n\n    .dataframe tbody tr th {\n        vertical-align: top;\n    }\n\n    .dataframe thead th {\n        text-align: right;\n    }\n</style>\n<table border=\"1\" class=\"dataframe\">\n  <thead>\n    <tr style=\"text-align: right;\">\n      <th></th>\n      <th>Start</th>\n      <th>End</th>\n      <th>id_mutation</th>\n      <th>Chromosome</th>\n    </tr>\n  </thead>\n  <tbody>\n    <tr>\n      <th>0</th>\n      <td>1371</td>\n      <td>1371</td>\n      <td>1</td>\n      <td>19</td>\n    </tr>\n    <tr>\n      <th>1</th>\n      <td>497</td>\n      <td>497</td>\n      <td>2</td>\n      <td>25</td>\n    </tr>\n    <tr>\n      <th>2</th>\n      <td>430</td>\n      <td>430</td>\n      <td>3</td>\n      <td>25</td>\n    </tr>\n    <tr>\n      <th>3</th>\n      <td>639</td>\n      <td>639</td>\n      <td>4</td>\n      <td>25</td>\n    </tr>\n    <tr>\n      <th>4</th>\n      <td>164</td>\n      <td>164</td>\n      <td>5</td>\n      <td>25</td>\n    </tr>\n  </tbody>\n</table>\n</div>"
     },
     "metadata": {},
     "execution_count": 114
    }
   ],
   "source": [
    "aux.head()"
   ]
  },
  {
   "cell_type": "code",
   "execution_count": 115,
   "metadata": {},
   "outputs": [],
   "source": [
    "# Pyranges object of mutations\n",
    "aux_py = pr.PyRanges(aux)"
   ]
  },
  {
   "cell_type": "code",
   "execution_count": 116,
   "metadata": {},
   "outputs": [],
   "source": [
    "# Join both pyranges object: this assings mutations to pfam domains\n",
    "pfam_py = aux_py.join(df_py, strandedness= False, slack=1)  # strandedness= False doesnt take count of the chain strand; slack= 1 include bounds"
   ]
  },
  {
   "cell_type": "code",
   "execution_count": 117,
   "metadata": {},
   "outputs": [
    {
     "output_type": "execute_result",
     "data": {
      "text/plain": [
       "+-----------+-----------+---------------+--------------+-------+\n",
       "|     Start |       End |   id_mutation |   Chromosome | +4    |\n",
       "|   (int32) |   (int32) |       (int32) |   (category) | ...   |\n",
       "|-----------+-----------+---------------+--------------+-------|\n",
       "|        53 |        53 |         23987 |            2 | ...   |\n",
       "|       305 |       305 |          3993 |            9 | ...   |\n",
       "|       981 |       981 |         23988 |            9 | ...   |\n",
       "|      1133 |      1133 |         23989 |            9 | ...   |\n",
       "|       478 |       478 |         23990 |            9 | ...   |\n",
       "|      1207 |      1207 |         23993 |            9 | ...   |\n",
       "|      1039 |      1039 |         23994 |            9 | ...   |\n",
       "|       559 |       559 |         23995 |            9 | ...   |\n",
       "+-----------+-----------+---------------+--------------+-------+\n",
       "Unstranded PyRanges object has 8 rows and 8 columns from 2 chromosomes.\n",
       "For printing, the PyRanges was sorted on Chromosome.\n",
       "4 hidden columns: pfam_domain, Start_b, End_b, pfam_id"
      ],
      "text/html": "<div>\n<style scoped>\n    .dataframe tbody tr th:only-of-type {\n        vertical-align: middle;\n    }\n\n    .dataframe tbody tr th {\n        vertical-align: top;\n    }\n\n    .dataframe thead th {\n        text-align: right;\n    }\n</style>\n<table border=\"1\" class=\"dataframe\">\n  <thead>\n    <tr style=\"text-align: right;\">\n      <th></th>\n      <th>Start</th>\n      <th>End</th>\n      <th>id_mutation</th>\n      <th>Chromosome</th>\n      <th>pfam_domain</th>\n      <th>Start_b</th>\n      <th>End_b</th>\n      <th>pfam_id</th>\n    </tr>\n  </thead>\n  <tbody>\n    <tr>\n      <th>0</th>\n      <td>53</td>\n      <td>53</td>\n      <td>23987</td>\n      <td>2</td>\n      <td>UCR_hinge</td>\n      <td>28</td>\n      <td>91</td>\n      <td>814</td>\n    </tr>\n    <tr>\n      <th>1</th>\n      <td>305</td>\n      <td>305</td>\n      <td>3993</td>\n      <td>9</td>\n      <td>I-set</td>\n      <td>234</td>\n      <td>321</td>\n      <td>2914</td>\n    </tr>\n    <tr>\n      <th>2</th>\n      <td>981</td>\n      <td>981</td>\n      <td>23988</td>\n      <td>9</td>\n      <td>An_peroxidase</td>\n      <td>727</td>\n      <td>1272</td>\n      <td>947</td>\n    </tr>\n    <tr>\n      <th>3</th>\n      <td>1133</td>\n      <td>1133</td>\n      <td>23989</td>\n      <td>9</td>\n      <td>An_peroxidase</td>\n      <td>727</td>\n      <td>1272</td>\n      <td>947</td>\n    </tr>\n    <tr>\n      <th>4</th>\n      <td>478</td>\n      <td>478</td>\n      <td>23990</td>\n      <td>9</td>\n      <td>I-set</td>\n      <td>419</td>\n      <td>505</td>\n      <td>2914</td>\n    </tr>\n    <tr>\n      <th>5</th>\n      <td>1207</td>\n      <td>1207</td>\n      <td>23993</td>\n      <td>9</td>\n      <td>An_peroxidase</td>\n      <td>727</td>\n      <td>1272</td>\n      <td>947</td>\n    </tr>\n    <tr>\n      <th>6</th>\n      <td>1039</td>\n      <td>1039</td>\n      <td>23994</td>\n      <td>9</td>\n      <td>An_peroxidase</td>\n      <td>727</td>\n      <td>1272</td>\n      <td>947</td>\n    </tr>\n    <tr>\n      <th>7</th>\n      <td>559</td>\n      <td>559</td>\n      <td>23995</td>\n      <td>9</td>\n      <td>I-set</td>\n      <td>511</td>\n      <td>597</td>\n      <td>2914</td>\n    </tr>\n  </tbody>\n</table>\n</div>"
     },
     "metadata": {},
     "execution_count": 117
    }
   ],
   "source": [
    "pfam_py.head() # Start and End are from the mutation. Start_b and End_b are from the pfam domain"
   ]
  },
  {
   "cell_type": "code",
   "execution_count": 118,
   "metadata": {},
   "outputs": [],
   "source": [
    "# Pyranges to DataFrame\n",
    "Mutations_has_Proteins_has_pfam_domains = pfam_py.df[['id_mutation', 'Chromosome', 'pfam_id']] # cols to keep"
   ]
  },
  {
   "cell_type": "code",
   "execution_count": 119,
   "metadata": {},
   "outputs": [],
   "source": [
    "Mutations_has_Proteins_has_pfam_domains.rename(columns={'id_mutation': 'Mutations_id_mutation', 'Chromosome': 'Proteins_has_pfam_domains_Proteins_id_protein',\n",
    "                                                        'pfam_id': 'Proteins_has_pfam_domains_pfam_domains_pfam_id'}, inplace= True)"
   ]
  },
  {
   "cell_type": "code",
   "execution_count": 120,
   "metadata": {},
   "outputs": [
    {
     "output_type": "execute_result",
     "data": {
      "text/plain": [
       "   Mutations_id_mutation Proteins_has_pfam_domains_Proteins_id_protein  \\\n",
       "0                  23987                                             2   \n",
       "1                   3993                                             9   \n",
       "2                  23988                                             9   \n",
       "3                  23989                                             9   \n",
       "4                  23990                                             9   \n",
       "\n",
       "   Proteins_has_pfam_domains_pfam_domains_pfam_id  \n",
       "0                                             814  \n",
       "1                                            2914  \n",
       "2                                             947  \n",
       "3                                             947  \n",
       "4                                            2914  "
      ],
      "text/html": "<div>\n<style scoped>\n    .dataframe tbody tr th:only-of-type {\n        vertical-align: middle;\n    }\n\n    .dataframe tbody tr th {\n        vertical-align: top;\n    }\n\n    .dataframe thead th {\n        text-align: right;\n    }\n</style>\n<table border=\"1\" class=\"dataframe\">\n  <thead>\n    <tr style=\"text-align: right;\">\n      <th></th>\n      <th>Mutations_id_mutation</th>\n      <th>Proteins_has_pfam_domains_Proteins_id_protein</th>\n      <th>Proteins_has_pfam_domains_pfam_domains_pfam_id</th>\n    </tr>\n  </thead>\n  <tbody>\n    <tr>\n      <th>0</th>\n      <td>23987</td>\n      <td>2</td>\n      <td>814</td>\n    </tr>\n    <tr>\n      <th>1</th>\n      <td>3993</td>\n      <td>9</td>\n      <td>2914</td>\n    </tr>\n    <tr>\n      <th>2</th>\n      <td>23988</td>\n      <td>9</td>\n      <td>947</td>\n    </tr>\n    <tr>\n      <th>3</th>\n      <td>23989</td>\n      <td>9</td>\n      <td>947</td>\n    </tr>\n    <tr>\n      <th>4</th>\n      <td>23990</td>\n      <td>9</td>\n      <td>2914</td>\n    </tr>\n  </tbody>\n</table>\n</div>"
     },
     "metadata": {},
     "execution_count": 120
    }
   ],
   "source": [
    "Mutations_has_Proteins_has_pfam_domains.head()"
   ]
  },
  {
   "cell_type": "code",
   "execution_count": 121,
   "metadata": {},
   "outputs": [],
   "source": [
    "# control\n",
    "#Mutations[Mutations.id_mutation == 23987]"
   ]
  },
  {
   "cell_type": "code",
   "execution_count": 122,
   "metadata": {},
   "outputs": [],
   "source": [
    "# control\n",
    "#pfam_domains[pfam_domains.pfam_id == 814] # ok!"
   ]
  },
  {
   "cell_type": "code",
   "execution_count": 123,
   "metadata": {},
   "outputs": [],
   "source": [
    "Mutations_has_Proteins_has_pfam_domains.to_csv('db_tables/Mutations_has_Proteins_has_pfam_domains.tsv', sep='\\t', index= False)"
   ]
  },
  {
   "source": [
    "---  \n",
    "# Low-complexity Tables"
   ],
   "cell_type": "markdown",
   "metadata": {}
  },
  {
   "cell_type": "code",
   "execution_count": 124,
   "metadata": {},
   "outputs": [
    {
     "output_type": "execute_result",
     "data": {
      "text/plain": [
       "  uniprot  start  end  id_lc\n",
       "0  P61981    236  243      1\n",
       "1  P31947    235  247      2\n",
       "2  P31947    248  247      3\n",
       "3  P27348    230  244      4\n",
       "4  P27348    245  244      5"
      ],
      "text/html": "<div>\n<style scoped>\n    .dataframe tbody tr th:only-of-type {\n        vertical-align: middle;\n    }\n\n    .dataframe tbody tr th {\n        vertical-align: top;\n    }\n\n    .dataframe thead th {\n        text-align: right;\n    }\n</style>\n<table border=\"1\" class=\"dataframe\">\n  <thead>\n    <tr style=\"text-align: right;\">\n      <th></th>\n      <th>uniprot</th>\n      <th>start</th>\n      <th>end</th>\n      <th>id_lc</th>\n    </tr>\n  </thead>\n  <tbody>\n    <tr>\n      <th>0</th>\n      <td>P61981</td>\n      <td>236</td>\n      <td>243</td>\n      <td>1</td>\n    </tr>\n    <tr>\n      <th>1</th>\n      <td>P31947</td>\n      <td>235</td>\n      <td>247</td>\n      <td>2</td>\n    </tr>\n    <tr>\n      <th>2</th>\n      <td>P31947</td>\n      <td>248</td>\n      <td>247</td>\n      <td>3</td>\n    </tr>\n    <tr>\n      <th>3</th>\n      <td>P27348</td>\n      <td>230</td>\n      <td>244</td>\n      <td>4</td>\n    </tr>\n    <tr>\n      <th>4</th>\n      <td>P27348</td>\n      <td>245</td>\n      <td>244</td>\n      <td>5</td>\n    </tr>\n  </tbody>\n</table>\n</div>"
     },
     "metadata": {},
     "execution_count": 124
    }
   ],
   "source": [
    "low_complexity.head()"
   ]
  },
  {
   "cell_type": "code",
   "execution_count": 125,
   "metadata": {},
   "outputs": [],
   "source": [
    "# Add length col \n",
    "low_complexity['length'] = low_complexity.end - low_complexity.start + 1 "
   ]
  },
  {
   "cell_type": "code",
   "execution_count": 126,
   "metadata": {},
   "outputs": [],
   "source": [
    "# Add id_proteins\n",
    "low_complexity.rename(columns={'uniprot': 'uniprot_acc'}, inplace= True)\n",
    "low_complexity = low_complexity.merge(id_proteins)\n",
    "low_complexity.rename(columns={'id_protein': 'Proteins_id_protein'}, inplace= True)\n",
    "low_complexity.drop(columns='uniprot_acc', inplace= True)"
   ]
  },
  {
   "cell_type": "code",
   "execution_count": 127,
   "metadata": {},
   "outputs": [
    {
     "output_type": "execute_result",
     "data": {
      "text/plain": [
       "   start  end  id_lc  length  Proteins_id_protein\n",
       "0    236  243      1       8                 1602\n",
       "1    235  247      2      13                 1132\n",
       "2    248  247      3       0                 1132\n",
       "3    230  244      4      15                 1049\n",
       "4    245  244      5       0                 1049"
      ],
      "text/html": "<div>\n<style scoped>\n    .dataframe tbody tr th:only-of-type {\n        vertical-align: middle;\n    }\n\n    .dataframe tbody tr th {\n        vertical-align: top;\n    }\n\n    .dataframe thead th {\n        text-align: right;\n    }\n</style>\n<table border=\"1\" class=\"dataframe\">\n  <thead>\n    <tr style=\"text-align: right;\">\n      <th></th>\n      <th>start</th>\n      <th>end</th>\n      <th>id_lc</th>\n      <th>length</th>\n      <th>Proteins_id_protein</th>\n    </tr>\n  </thead>\n  <tbody>\n    <tr>\n      <th>0</th>\n      <td>236</td>\n      <td>243</td>\n      <td>1</td>\n      <td>8</td>\n      <td>1602</td>\n    </tr>\n    <tr>\n      <th>1</th>\n      <td>235</td>\n      <td>247</td>\n      <td>2</td>\n      <td>13</td>\n      <td>1132</td>\n    </tr>\n    <tr>\n      <th>2</th>\n      <td>248</td>\n      <td>247</td>\n      <td>3</td>\n      <td>0</td>\n      <td>1132</td>\n    </tr>\n    <tr>\n      <th>3</th>\n      <td>230</td>\n      <td>244</td>\n      <td>4</td>\n      <td>15</td>\n      <td>1049</td>\n    </tr>\n    <tr>\n      <th>4</th>\n      <td>245</td>\n      <td>244</td>\n      <td>5</td>\n      <td>0</td>\n      <td>1049</td>\n    </tr>\n  </tbody>\n</table>\n</div>"
     },
     "metadata": {},
     "execution_count": 127
    }
   ],
   "source": [
    "low_complexity.head()"
   ]
  },
  {
   "cell_type": "code",
   "execution_count": 128,
   "metadata": {},
   "outputs": [],
   "source": [
    "low_complexity.to_csv('db_tables/Low_complexity.tsv', sep='\\t', index= False)"
   ]
  },
  {
   "source": [
    "## Mutations_has_Low_complexity  \n",
    "cols: Mutations_id_mutation, Low_complexity_id_lc"
   ],
   "cell_type": "markdown",
   "metadata": {}
  },
  {
   "cell_type": "code",
   "execution_count": 129,
   "metadata": {},
   "outputs": [],
   "source": [
    "# Table for LC data\n",
    "lc_has = low_complexity.copy()\n",
    "lc_has.rename(columns={'id_protein': 'Chromosome', 'start': 'Start', 'end': 'End'}, inplace= True)"
   ]
  },
  {
   "cell_type": "code",
   "execution_count": 130,
   "metadata": {},
   "outputs": [
    {
     "output_type": "execute_result",
     "data": {
      "text/plain": [
       "   Start  End  id_lc  length  Proteins_id_protein\n",
       "0    236  243      1       8                 1602\n",
       "1    235  247      2      13                 1132\n",
       "2    248  247      3       0                 1132\n",
       "3    230  244      4      15                 1049\n",
       "4    245  244      5       0                 1049"
      ],
      "text/html": "<div>\n<style scoped>\n    .dataframe tbody tr th:only-of-type {\n        vertical-align: middle;\n    }\n\n    .dataframe tbody tr th {\n        vertical-align: top;\n    }\n\n    .dataframe thead th {\n        text-align: right;\n    }\n</style>\n<table border=\"1\" class=\"dataframe\">\n  <thead>\n    <tr style=\"text-align: right;\">\n      <th></th>\n      <th>Start</th>\n      <th>End</th>\n      <th>id_lc</th>\n      <th>length</th>\n      <th>Proteins_id_protein</th>\n    </tr>\n  </thead>\n  <tbody>\n    <tr>\n      <th>0</th>\n      <td>236</td>\n      <td>243</td>\n      <td>1</td>\n      <td>8</td>\n      <td>1602</td>\n    </tr>\n    <tr>\n      <th>1</th>\n      <td>235</td>\n      <td>247</td>\n      <td>2</td>\n      <td>13</td>\n      <td>1132</td>\n    </tr>\n    <tr>\n      <th>2</th>\n      <td>248</td>\n      <td>247</td>\n      <td>3</td>\n      <td>0</td>\n      <td>1132</td>\n    </tr>\n    <tr>\n      <th>3</th>\n      <td>230</td>\n      <td>244</td>\n      <td>4</td>\n      <td>15</td>\n      <td>1049</td>\n    </tr>\n    <tr>\n      <th>4</th>\n      <td>245</td>\n      <td>244</td>\n      <td>5</td>\n      <td>0</td>\n      <td>1049</td>\n    </tr>\n  </tbody>\n</table>\n</div>"
     },
     "metadata": {},
     "execution_count": 130
    }
   ],
   "source": [
    "lc_has.head()"
   ]
  },
  {
   "cell_type": "code",
   "execution_count": 131,
   "metadata": {},
   "outputs": [],
   "source": [
    "# Auxiliar table for mutations\n",
    "aux_lc = Mutations[['start_aa', 'end_aa', 'id_mutation', 'Proteins_id_protein']].copy()\n",
    "aux_lc.rename(columns={'Proteins_id_protein': 'Chromosome', 'start_aa': 'Start', 'end_aa': 'End'}, inplace= True)"
   ]
  },
  {
   "cell_type": "code",
   "execution_count": 132,
   "metadata": {},
   "outputs": [
    {
     "output_type": "execute_result",
     "data": {
      "text/plain": [
       "   Start   End  id_mutation  Chromosome\n",
       "0   1371  1371            1          19\n",
       "1    497   497            2          25\n",
       "2    430   430            3          25\n",
       "3    639   639            4          25\n",
       "4    164   164            5          25"
      ],
      "text/html": "<div>\n<style scoped>\n    .dataframe tbody tr th:only-of-type {\n        vertical-align: middle;\n    }\n\n    .dataframe tbody tr th {\n        vertical-align: top;\n    }\n\n    .dataframe thead th {\n        text-align: right;\n    }\n</style>\n<table border=\"1\" class=\"dataframe\">\n  <thead>\n    <tr style=\"text-align: right;\">\n      <th></th>\n      <th>Start</th>\n      <th>End</th>\n      <th>id_mutation</th>\n      <th>Chromosome</th>\n    </tr>\n  </thead>\n  <tbody>\n    <tr>\n      <th>0</th>\n      <td>1371</td>\n      <td>1371</td>\n      <td>1</td>\n      <td>19</td>\n    </tr>\n    <tr>\n      <th>1</th>\n      <td>497</td>\n      <td>497</td>\n      <td>2</td>\n      <td>25</td>\n    </tr>\n    <tr>\n      <th>2</th>\n      <td>430</td>\n      <td>430</td>\n      <td>3</td>\n      <td>25</td>\n    </tr>\n    <tr>\n      <th>3</th>\n      <td>639</td>\n      <td>639</td>\n      <td>4</td>\n      <td>25</td>\n    </tr>\n    <tr>\n      <th>4</th>\n      <td>164</td>\n      <td>164</td>\n      <td>5</td>\n      <td>25</td>\n    </tr>\n  </tbody>\n</table>\n</div>"
     },
     "metadata": {},
     "execution_count": 132
    }
   ],
   "source": [
    "aux_lc.head()"
   ]
  },
  {
   "cell_type": "code",
   "execution_count": 133,
   "metadata": {},
   "outputs": [
    {
     "output_type": "error",
     "ename": "AssertionError",
     "evalue": "The dataframe does not have all the columns Chromosome, Start and End.",
     "traceback": [
      "\u001b[1;31m---------------------------------------------------------------------------\u001b[0m",
      "\u001b[1;31mAssertionError\u001b[0m                            Traceback (most recent call last)",
      "\u001b[1;32m<ipython-input-133-e56cd396a332>\u001b[0m in \u001b[0;36m<module>\u001b[1;34m\u001b[0m\n\u001b[0;32m      1\u001b[0m \u001b[1;31m# Create the Pyranges objects\u001b[0m\u001b[1;33m\u001b[0m\u001b[1;33m\u001b[0m\u001b[1;33m\u001b[0m\u001b[0m\n\u001b[1;32m----> 2\u001b[1;33m \u001b[0mlc_has_py\u001b[0m \u001b[1;33m=\u001b[0m \u001b[0mpr\u001b[0m\u001b[1;33m.\u001b[0m\u001b[0mPyRanges\u001b[0m\u001b[1;33m(\u001b[0m\u001b[0mlc_has\u001b[0m\u001b[1;33m)\u001b[0m\u001b[1;33m\u001b[0m\u001b[1;33m\u001b[0m\u001b[0m\n\u001b[0m\u001b[0;32m      3\u001b[0m \u001b[0maux_lc_py\u001b[0m \u001b[1;33m=\u001b[0m \u001b[0mpr\u001b[0m\u001b[1;33m.\u001b[0m\u001b[0mPyRanges\u001b[0m\u001b[1;33m(\u001b[0m\u001b[0maux_lc\u001b[0m\u001b[1;33m)\u001b[0m\u001b[1;33m\u001b[0m\u001b[1;33m\u001b[0m\u001b[0m\n",
      "\u001b[1;32m~\\AppData\\Local\\Packages\\PythonSoftwareFoundation.Python.3.9_qbz5n2kfra8p0\\LocalCache\\local-packages\\Python39\\site-packages\\pyranges\\pyranges.py\u001b[0m in \u001b[0;36m__init__\u001b[1;34m(self, df, chromosomes, starts, ends, strands, int64, copy_df)\u001b[0m\n\u001b[0;32m    175\u001b[0m             \u001b[0mdf\u001b[0m \u001b[1;33m=\u001b[0m \u001b[0mpd\u001b[0m\u001b[1;33m.\u001b[0m\u001b[0mDataFrame\u001b[0m\u001b[1;33m(\u001b[0m\u001b[0mcolumns\u001b[0m\u001b[1;33m=\u001b[0m\u001b[1;34m\"Chromosome Start End\"\u001b[0m\u001b[1;33m.\u001b[0m\u001b[0msplit\u001b[0m\u001b[1;33m(\u001b[0m\u001b[1;33m)\u001b[0m\u001b[1;33m)\u001b[0m\u001b[1;33m\u001b[0m\u001b[1;33m\u001b[0m\u001b[0m\n\u001b[0;32m    176\u001b[0m \u001b[1;33m\u001b[0m\u001b[0m\n\u001b[1;32m--> 177\u001b[1;33m         \u001b[0m_init\u001b[0m\u001b[1;33m(\u001b[0m\u001b[0mself\u001b[0m\u001b[1;33m,\u001b[0m \u001b[0mdf\u001b[0m\u001b[1;33m,\u001b[0m \u001b[0mchromosomes\u001b[0m\u001b[1;33m,\u001b[0m \u001b[0mstarts\u001b[0m\u001b[1;33m,\u001b[0m \u001b[0mends\u001b[0m\u001b[1;33m,\u001b[0m \u001b[0mstrands\u001b[0m\u001b[1;33m,\u001b[0m \u001b[0mint64\u001b[0m\u001b[1;33m,\u001b[0m \u001b[0mcopy_df\u001b[0m\u001b[1;33m)\u001b[0m\u001b[1;33m\u001b[0m\u001b[1;33m\u001b[0m\u001b[0m\n\u001b[0m\u001b[0;32m    178\u001b[0m \u001b[1;33m\u001b[0m\u001b[0m\n\u001b[0;32m    179\u001b[0m \u001b[1;33m\u001b[0m\u001b[0m\n",
      "\u001b[1;32m~\\AppData\\Local\\Packages\\PythonSoftwareFoundation.Python.3.9_qbz5n2kfra8p0\\LocalCache\\local-packages\\Python39\\site-packages\\pyranges\\methods\\init.py\u001b[0m in \u001b[0;36m_init\u001b[1;34m(self, df, chromosomes, starts, ends, strands, int64, copy_df)\u001b[0m\n\u001b[0;32m    142\u001b[0m \u001b[1;33m\u001b[0m\u001b[0m\n\u001b[0;32m    143\u001b[0m     \u001b[1;32mif\u001b[0m \u001b[0misinstance\u001b[0m\u001b[1;33m(\u001b[0m\u001b[0mdf\u001b[0m\u001b[1;33m,\u001b[0m \u001b[0mpd\u001b[0m\u001b[1;33m.\u001b[0m\u001b[0mDataFrame\u001b[0m\u001b[1;33m)\u001b[0m\u001b[1;33m:\u001b[0m\u001b[1;33m\u001b[0m\u001b[1;33m\u001b[0m\u001b[0m\n\u001b[1;32m--> 144\u001b[1;33m         assert all(\n\u001b[0m\u001b[0;32m    145\u001b[0m             \u001b[0mc\u001b[0m \u001b[1;32min\u001b[0m \u001b[0mdf\u001b[0m \u001b[1;32mfor\u001b[0m \u001b[0mc\u001b[0m \u001b[1;32min\u001b[0m \u001b[1;34m\"Chromosome Start End\"\u001b[0m\u001b[1;33m.\u001b[0m\u001b[0msplit\u001b[0m\u001b[1;33m(\u001b[0m\u001b[1;33m)\u001b[0m\u001b[1;33m\u001b[0m\u001b[1;33m\u001b[0m\u001b[0m\n\u001b[0;32m    146\u001b[0m         ), \"The dataframe does not have all the columns Chromosome, Start and End.\"\n",
      "\u001b[1;31mAssertionError\u001b[0m: The dataframe does not have all the columns Chromosome, Start and End."
     ]
    }
   ],
   "source": [
    "# Create the Pyranges objects\n",
    "lc_has_py = pr.PyRanges(lc_has)\n",
    "aux_lc_py = pr.PyRanges(aux_lc)"
   ]
  },
  {
   "cell_type": "code",
   "execution_count": 180,
   "metadata": {},
   "outputs": [],
   "source": [
    "# Join both pyranges object: this assings mutations to pfam domains\n",
    "lc_py = aux_lc_py.join(lc_has_py, strandedness= False, slack=1).drop(like=\"_b\") # strandedness= False doesnt take count of the chain strand;\n",
    "                                                                                # slack= 1 include bounds; drop(like=\"_b\"): delete those cols (redudants)"
   ]
  },
  {
   "cell_type": "code",
   "execution_count": 181,
   "metadata": {},
   "outputs": [
    {
     "output_type": "execute_result",
     "data": {
      "text/plain": [
       "+-----------+-----------+---------------+--------------+-----------+-----------+\n",
       "|     Start |       End |   id_mutation |   Chromosome |     id_lc |    length |\n",
       "|   (int32) |   (int32) |       (int32) |   (category) |   (int32) |   (int64) |\n",
       "|-----------+-----------+---------------+--------------+-----------+-----------|\n",
       "|      1133 |      1133 |         23989 |            9 |      5240 |        12 |\n",
       "|       287 |       287 |          3994 |           16 |      9733 |        28 |\n",
       "|       197 |       197 |          3995 |           16 |      9732 |        29 |\n",
       "|       336 |       336 |         24003 |           17 |      5023 |        26 |\n",
       "|      1038 |      1038 |         24009 |           18 |     11903 |        20 |\n",
       "|      1469 |      1469 |         24030 |           19 |     10455 |        18 |\n",
       "|         5 |         5 |         24048 |           23 |      5786 |        14 |\n",
       "|         7 |         7 |         24056 |           23 |      5786 |        14 |\n",
       "+-----------+-----------+---------------+--------------+-----------+-----------+\n",
       "Unstranded PyRanges object has 8 rows and 6 columns from 6 chromosomes.\n",
       "For printing, the PyRanges was sorted on Chromosome."
      ],
      "text/html": "<div>\n<style scoped>\n    .dataframe tbody tr th:only-of-type {\n        vertical-align: middle;\n    }\n\n    .dataframe tbody tr th {\n        vertical-align: top;\n    }\n\n    .dataframe thead th {\n        text-align: right;\n    }\n</style>\n<table border=\"1\" class=\"dataframe\">\n  <thead>\n    <tr style=\"text-align: right;\">\n      <th></th>\n      <th>Start</th>\n      <th>End</th>\n      <th>id_mutation</th>\n      <th>Chromosome</th>\n      <th>id_lc</th>\n      <th>length</th>\n    </tr>\n  </thead>\n  <tbody>\n    <tr>\n      <th>0</th>\n      <td>1133</td>\n      <td>1133</td>\n      <td>23989</td>\n      <td>9</td>\n      <td>5240</td>\n      <td>12</td>\n    </tr>\n    <tr>\n      <th>1</th>\n      <td>287</td>\n      <td>287</td>\n      <td>3994</td>\n      <td>16</td>\n      <td>9733</td>\n      <td>28</td>\n    </tr>\n    <tr>\n      <th>2</th>\n      <td>197</td>\n      <td>197</td>\n      <td>3995</td>\n      <td>16</td>\n      <td>9732</td>\n      <td>29</td>\n    </tr>\n    <tr>\n      <th>3</th>\n      <td>336</td>\n      <td>336</td>\n      <td>24003</td>\n      <td>17</td>\n      <td>5023</td>\n      <td>26</td>\n    </tr>\n    <tr>\n      <th>4</th>\n      <td>1038</td>\n      <td>1038</td>\n      <td>24009</td>\n      <td>18</td>\n      <td>11903</td>\n      <td>20</td>\n    </tr>\n    <tr>\n      <th>5</th>\n      <td>1469</td>\n      <td>1469</td>\n      <td>24030</td>\n      <td>19</td>\n      <td>10455</td>\n      <td>18</td>\n    </tr>\n    <tr>\n      <th>6</th>\n      <td>5</td>\n      <td>5</td>\n      <td>24048</td>\n      <td>23</td>\n      <td>5786</td>\n      <td>14</td>\n    </tr>\n    <tr>\n      <th>7</th>\n      <td>7</td>\n      <td>7</td>\n      <td>24056</td>\n      <td>23</td>\n      <td>5786</td>\n      <td>14</td>\n    </tr>\n  </tbody>\n</table>\n</div>"
     },
     "metadata": {},
     "execution_count": 181
    }
   ],
   "source": [
    "lc_py.head()"
   ]
  },
  {
   "cell_type": "code",
   "execution_count": 182,
   "metadata": {},
   "outputs": [],
   "source": [
    "# Pyrange to DataFrame\n",
    "Mutations_has_Low_complexity = lc_py.df[['id_mutation', 'Chromosome']] # cols to keep"
   ]
  },
  {
   "cell_type": "code",
   "execution_count": 183,
   "metadata": {},
   "outputs": [],
   "source": [
    "Mutations_has_Low_complexity.rename(columns={'id_mutation': 'Mutations_id_mutation', 'Chromosome': 'Low_complexity_id_lc'}, inplace= True)"
   ]
  },
  {
   "cell_type": "code",
   "execution_count": 184,
   "metadata": {},
   "outputs": [
    {
     "output_type": "execute_result",
     "data": {
      "text/plain": [
       "   Mutations_id_mutation Low_complexity_id_lc\n",
       "0                  23989                    9\n",
       "1                   3994                   16\n",
       "2                   3995                   16\n",
       "3                  24003                   17\n",
       "4                  24009                   18"
      ],
      "text/html": "<div>\n<style scoped>\n    .dataframe tbody tr th:only-of-type {\n        vertical-align: middle;\n    }\n\n    .dataframe tbody tr th {\n        vertical-align: top;\n    }\n\n    .dataframe thead th {\n        text-align: right;\n    }\n</style>\n<table border=\"1\" class=\"dataframe\">\n  <thead>\n    <tr style=\"text-align: right;\">\n      <th></th>\n      <th>Mutations_id_mutation</th>\n      <th>Low_complexity_id_lc</th>\n    </tr>\n  </thead>\n  <tbody>\n    <tr>\n      <th>0</th>\n      <td>23989</td>\n      <td>9</td>\n    </tr>\n    <tr>\n      <th>1</th>\n      <td>3994</td>\n      <td>16</td>\n    </tr>\n    <tr>\n      <th>2</th>\n      <td>3995</td>\n      <td>16</td>\n    </tr>\n    <tr>\n      <th>3</th>\n      <td>24003</td>\n      <td>17</td>\n    </tr>\n    <tr>\n      <th>4</th>\n      <td>24009</td>\n      <td>18</td>\n    </tr>\n  </tbody>\n</table>\n</div>"
     },
     "metadata": {},
     "execution_count": 184
    }
   ],
   "source": [
    "Mutations_has_Low_complexity.head()"
   ]
  },
  {
   "cell_type": "code",
   "execution_count": 379,
   "metadata": {},
   "outputs": [],
   "source": [
    "Mutations_has_Low_complexity.to_csv('db_tables/Mutations_has_Low_complexity.tsv', sep='\\t', index= False)"
   ]
  },
  {
   "source": [
    "---  \n",
    "# Disorder Tables"
   ],
   "cell_type": "markdown",
   "metadata": {}
  },
  {
   "source": [
    "## Disorder_regions  \n",
    "cols: id_idr, start, end, length, Proteins_id_protein"
   ],
   "cell_type": "markdown",
   "metadata": {}
  },
  {
   "cell_type": "code",
   "execution_count": 48,
   "metadata": {},
   "outputs": [],
   "source": [
    "# Add length col \n",
    "disorder['length'] = disorder.end - disorder.start + 1 "
   ]
  },
  {
   "cell_type": "code",
   "execution_count": 55,
   "metadata": {},
   "outputs": [
    {
     "output_type": "execute_result",
     "data": {
      "text/plain": [
       "      start  end  id_idr  length  Proteins_id_protein\n",
       "2338      1   30    2339      30                    2\n",
       "1426      1   68    1427      68                    3\n",
       "2489      1   25    2490      25                    4\n",
       "5782    660  754    5783      95                    5\n",
       "5781      1  103    5782     103                    5"
      ],
      "text/html": "<div>\n<style scoped>\n    .dataframe tbody tr th:only-of-type {\n        vertical-align: middle;\n    }\n\n    .dataframe tbody tr th {\n        vertical-align: top;\n    }\n\n    .dataframe thead th {\n        text-align: right;\n    }\n</style>\n<table border=\"1\" class=\"dataframe\">\n  <thead>\n    <tr style=\"text-align: right;\">\n      <th></th>\n      <th>start</th>\n      <th>end</th>\n      <th>id_idr</th>\n      <th>length</th>\n      <th>Proteins_id_protein</th>\n    </tr>\n  </thead>\n  <tbody>\n    <tr>\n      <th>2338</th>\n      <td>1</td>\n      <td>30</td>\n      <td>2339</td>\n      <td>30</td>\n      <td>2</td>\n    </tr>\n    <tr>\n      <th>1426</th>\n      <td>1</td>\n      <td>68</td>\n      <td>1427</td>\n      <td>68</td>\n      <td>3</td>\n    </tr>\n    <tr>\n      <th>2489</th>\n      <td>1</td>\n      <td>25</td>\n      <td>2490</td>\n      <td>25</td>\n      <td>4</td>\n    </tr>\n    <tr>\n      <th>5782</th>\n      <td>660</td>\n      <td>754</td>\n      <td>5783</td>\n      <td>95</td>\n      <td>5</td>\n    </tr>\n    <tr>\n      <th>5781</th>\n      <td>1</td>\n      <td>103</td>\n      <td>5782</td>\n      <td>103</td>\n      <td>5</td>\n    </tr>\n  </tbody>\n</table>\n</div>"
     },
     "metadata": {},
     "execution_count": 55
    }
   ],
   "source": [
    "Disorder_regions = disorder.rename(columns={'uniprot': 'uniprot_acc'}).merge(id_proteins).sort_values('id_protein')\n",
    "Disorder_regions.drop(columns='uniprot_acc', inplace= True)\n",
    "Disorder_regions.rename(columns={'id_protein': 'Proteins_id_protein'}, inplace= True)\n",
    "Disorder_regions.head()"
   ]
  },
  {
   "cell_type": "code",
   "execution_count": 56,
   "metadata": {},
   "outputs": [],
   "source": [
    "Disorder_regions.to_csv('db_tables/Disorder_regions.tsv', sep='\\t', index= False)"
   ]
  },
  {
   "source": [
    "## Mutations_has_Disorder_regions  \n",
    "cols: Mutations_id_mutation, Disorder_regions_id_idr"
   ],
   "cell_type": "markdown",
   "metadata": {}
  },
  {
   "cell_type": "code",
   "execution_count": 60,
   "metadata": {},
   "outputs": [
    {
     "output_type": "execute_result",
     "data": {
      "text/plain": [
       "   Start   End  id_mutation  Chromosome\n",
       "0   1371  1371            1          19\n",
       "1    497   497            2          25\n",
       "2    430   430            3          25\n",
       "3    639   639            4          25\n",
       "4    164   164            5          25"
      ],
      "text/html": "<div>\n<style scoped>\n    .dataframe tbody tr th:only-of-type {\n        vertical-align: middle;\n    }\n\n    .dataframe tbody tr th {\n        vertical-align: top;\n    }\n\n    .dataframe thead th {\n        text-align: right;\n    }\n</style>\n<table border=\"1\" class=\"dataframe\">\n  <thead>\n    <tr style=\"text-align: right;\">\n      <th></th>\n      <th>Start</th>\n      <th>End</th>\n      <th>id_mutation</th>\n      <th>Chromosome</th>\n    </tr>\n  </thead>\n  <tbody>\n    <tr>\n      <th>0</th>\n      <td>1371</td>\n      <td>1371</td>\n      <td>1</td>\n      <td>19</td>\n    </tr>\n    <tr>\n      <th>1</th>\n      <td>497</td>\n      <td>497</td>\n      <td>2</td>\n      <td>25</td>\n    </tr>\n    <tr>\n      <th>2</th>\n      <td>430</td>\n      <td>430</td>\n      <td>3</td>\n      <td>25</td>\n    </tr>\n    <tr>\n      <th>3</th>\n      <td>639</td>\n      <td>639</td>\n      <td>4</td>\n      <td>25</td>\n    </tr>\n    <tr>\n      <th>4</th>\n      <td>164</td>\n      <td>164</td>\n      <td>5</td>\n      <td>25</td>\n    </tr>\n  </tbody>\n</table>\n</div>"
     },
     "metadata": {},
     "execution_count": 60
    }
   ],
   "source": [
    "# Auxiliar table for mutations from low-complexity same for disorder\n",
    "aux_idr = aux_lc\n",
    "aux_idr.head()"
   ]
  },
  {
   "cell_type": "code",
   "execution_count": 135,
   "metadata": {},
   "outputs": [
    {
     "output_type": "execute_result",
     "data": {
      "text/plain": [
       "      Start  End  id_idr  length  Chromosome\n",
       "2338      1   30    2339      30           2\n",
       "1426      1   68    1427      68           3\n",
       "2489      1   25    2490      25           4\n",
       "5782    660  754    5783      95           5\n",
       "5781      1  103    5782     103           5"
      ],
      "text/html": "<div>\n<style scoped>\n    .dataframe tbody tr th:only-of-type {\n        vertical-align: middle;\n    }\n\n    .dataframe tbody tr th {\n        vertical-align: top;\n    }\n\n    .dataframe thead th {\n        text-align: right;\n    }\n</style>\n<table border=\"1\" class=\"dataframe\">\n  <thead>\n    <tr style=\"text-align: right;\">\n      <th></th>\n      <th>Start</th>\n      <th>End</th>\n      <th>id_idr</th>\n      <th>length</th>\n      <th>Chromosome</th>\n    </tr>\n  </thead>\n  <tbody>\n    <tr>\n      <th>2338</th>\n      <td>1</td>\n      <td>30</td>\n      <td>2339</td>\n      <td>30</td>\n      <td>2</td>\n    </tr>\n    <tr>\n      <th>1426</th>\n      <td>1</td>\n      <td>68</td>\n      <td>1427</td>\n      <td>68</td>\n      <td>3</td>\n    </tr>\n    <tr>\n      <th>2489</th>\n      <td>1</td>\n      <td>25</td>\n      <td>2490</td>\n      <td>25</td>\n      <td>4</td>\n    </tr>\n    <tr>\n      <th>5782</th>\n      <td>660</td>\n      <td>754</td>\n      <td>5783</td>\n      <td>95</td>\n      <td>5</td>\n    </tr>\n    <tr>\n      <th>5781</th>\n      <td>1</td>\n      <td>103</td>\n      <td>5782</td>\n      <td>103</td>\n      <td>5</td>\n    </tr>\n  </tbody>\n</table>\n</div>"
     },
     "metadata": {},
     "execution_count": 135
    }
   ],
   "source": [
    "# Table for IDRs data\n",
    "idr_has = Disorder_regions.copy()\n",
    "idr_has.rename(columns={'Proteins_id_protein': 'Chromosome', 'start': 'Start', 'end': 'End'}, inplace= True)\n",
    "idr_has.head()"
   ]
  },
  {
   "cell_type": "code",
   "execution_count": 136,
   "metadata": {},
   "outputs": [],
   "source": [
    "# Create the Pyranges objects\n",
    "idr_has_py = pr.PyRanges(idr_has)\n",
    "aux_idr_py = pr.PyRanges(aux_idr)"
   ]
  },
  {
   "cell_type": "code",
   "execution_count": 137,
   "metadata": {},
   "outputs": [],
   "source": [
    "# Join both pyranges object: this assings mutations to pfam domains\n",
    "idr_py = aux_idr_py.join(idr_has_py, strandedness= False, slack=1).drop(like=\"_b\") # strandedness= False doesnt take count of the chain strand;\n",
    "                                                                                   # slack= 1 include bounds; drop(like=\"_b\"): delete those cols (redudants)"
   ]
  },
  {
   "cell_type": "code",
   "execution_count": 138,
   "metadata": {},
   "outputs": [
    {
     "output_type": "execute_result",
     "data": {
      "text/plain": [
       "+-----------+-----------+---------------+--------------+-----------+-----------+\n",
       "|     Start |       End |   id_mutation |   Chromosome |    id_idr |    length |\n",
       "|   (int32) |   (int32) |       (int32) |   (category) |   (int32) |   (int64) |\n",
       "|-----------+-----------+---------------+--------------+-----------+-----------|\n",
       "|        70 |        70 |         24001 |           12 |      4339 |        28 |\n",
       "|       287 |       287 |          3994 |           16 |      4224 |       129 |\n",
       "|       336 |       336 |         24003 |           17 |      2225 |       157 |\n",
       "|      1014 |      1014 |         24004 |           17 |      2227 |        49 |\n",
       "|      1371 |      1371 |             1 |           19 |      4637 |        76 |\n",
       "|      1180 |      1180 |         24014 |           19 |      4635 |       293 |\n",
       "|      2580 |      2580 |         24016 |           19 |      4645 |        65 |\n",
       "|       213 |       213 |         24021 |           19 |      4630 |        49 |\n",
       "+-----------+-----------+---------------+--------------+-----------+-----------+\n",
       "Unstranded PyRanges object has 8 rows and 6 columns from 4 chromosomes.\n",
       "For printing, the PyRanges was sorted on Chromosome."
      ],
      "text/html": "<div>\n<style scoped>\n    .dataframe tbody tr th:only-of-type {\n        vertical-align: middle;\n    }\n\n    .dataframe tbody tr th {\n        vertical-align: top;\n    }\n\n    .dataframe thead th {\n        text-align: right;\n    }\n</style>\n<table border=\"1\" class=\"dataframe\">\n  <thead>\n    <tr style=\"text-align: right;\">\n      <th></th>\n      <th>Start</th>\n      <th>End</th>\n      <th>id_mutation</th>\n      <th>Chromosome</th>\n      <th>id_idr</th>\n      <th>length</th>\n    </tr>\n  </thead>\n  <tbody>\n    <tr>\n      <th>0</th>\n      <td>70</td>\n      <td>70</td>\n      <td>24001</td>\n      <td>12</td>\n      <td>4339</td>\n      <td>28</td>\n    </tr>\n    <tr>\n      <th>1</th>\n      <td>287</td>\n      <td>287</td>\n      <td>3994</td>\n      <td>16</td>\n      <td>4224</td>\n      <td>129</td>\n    </tr>\n    <tr>\n      <th>2</th>\n      <td>336</td>\n      <td>336</td>\n      <td>24003</td>\n      <td>17</td>\n      <td>2225</td>\n      <td>157</td>\n    </tr>\n    <tr>\n      <th>3</th>\n      <td>1014</td>\n      <td>1014</td>\n      <td>24004</td>\n      <td>17</td>\n      <td>2227</td>\n      <td>49</td>\n    </tr>\n    <tr>\n      <th>4</th>\n      <td>1371</td>\n      <td>1371</td>\n      <td>1</td>\n      <td>19</td>\n      <td>4637</td>\n      <td>76</td>\n    </tr>\n    <tr>\n      <th>5</th>\n      <td>1180</td>\n      <td>1180</td>\n      <td>24014</td>\n      <td>19</td>\n      <td>4635</td>\n      <td>293</td>\n    </tr>\n    <tr>\n      <th>6</th>\n      <td>2580</td>\n      <td>2580</td>\n      <td>24016</td>\n      <td>19</td>\n      <td>4645</td>\n      <td>65</td>\n    </tr>\n    <tr>\n      <th>7</th>\n      <td>213</td>\n      <td>213</td>\n      <td>24021</td>\n      <td>19</td>\n      <td>4630</td>\n      <td>49</td>\n    </tr>\n  </tbody>\n</table>\n</div>"
     },
     "metadata": {},
     "execution_count": 138
    }
   ],
   "source": [
    "idr_py.head()"
   ]
  },
  {
   "cell_type": "code",
   "execution_count": 141,
   "metadata": {},
   "outputs": [],
   "source": [
    "# Pyrange to DataFrame\n",
    "Mutations_has_Disorder_regions = idr_py.df[['id_mutation', 'Chromosome']] # cols to keep\n",
    "Mutations_has_Disorder_regions.rename(columns={'id_mutation': 'Mutations_id_mutation', 'Chromosome': 'Disorder_regions_id_idr'}, inplace= True)"
   ]
  },
  {
   "cell_type": "code",
   "execution_count": 142,
   "metadata": {},
   "outputs": [
    {
     "output_type": "execute_result",
     "data": {
      "text/plain": [
       "   Mutations_id_mutation Disorder_regions_id_idr\n",
       "0                  24001                      12\n",
       "1                   3994                      16\n",
       "2                  24003                      17\n",
       "3                  24004                      17\n",
       "4                      1                      19"
      ],
      "text/html": "<div>\n<style scoped>\n    .dataframe tbody tr th:only-of-type {\n        vertical-align: middle;\n    }\n\n    .dataframe tbody tr th {\n        vertical-align: top;\n    }\n\n    .dataframe thead th {\n        text-align: right;\n    }\n</style>\n<table border=\"1\" class=\"dataframe\">\n  <thead>\n    <tr style=\"text-align: right;\">\n      <th></th>\n      <th>Mutations_id_mutation</th>\n      <th>Disorder_regions_id_idr</th>\n    </tr>\n  </thead>\n  <tbody>\n    <tr>\n      <th>0</th>\n      <td>24001</td>\n      <td>12</td>\n    </tr>\n    <tr>\n      <th>1</th>\n      <td>3994</td>\n      <td>16</td>\n    </tr>\n    <tr>\n      <th>2</th>\n      <td>24003</td>\n      <td>17</td>\n    </tr>\n    <tr>\n      <th>3</th>\n      <td>24004</td>\n      <td>17</td>\n    </tr>\n    <tr>\n      <th>4</th>\n      <td>1</td>\n      <td>19</td>\n    </tr>\n  </tbody>\n</table>\n</div>"
     },
     "metadata": {},
     "execution_count": 142
    }
   ],
   "source": [
    "Mutations_has_Disorder_regions.head()"
   ]
  },
  {
   "cell_type": "code",
   "execution_count": 143,
   "metadata": {},
   "outputs": [
    {
     "output_type": "execute_result",
     "data": {
      "text/plain": [
       "           snp_id chromosome  start_genomic  end_genomic  start_aa  end_aa  \\\n",
       "148021  116340837          6      149474335    149474335        70      70   \n",
       "\n",
       "       from_aa to_aa  id_mutation  Proteins_id_protein  \\\n",
       "148021     Ala   Val        24001                   12   \n",
       "\n",
       "        Consequences_id_consequence  Sources_id_source  \n",
       "148021                            1                  1  "
      ],
      "text/html": "<div>\n<style scoped>\n    .dataframe tbody tr th:only-of-type {\n        vertical-align: middle;\n    }\n\n    .dataframe tbody tr th {\n        vertical-align: top;\n    }\n\n    .dataframe thead th {\n        text-align: right;\n    }\n</style>\n<table border=\"1\" class=\"dataframe\">\n  <thead>\n    <tr style=\"text-align: right;\">\n      <th></th>\n      <th>snp_id</th>\n      <th>chromosome</th>\n      <th>start_genomic</th>\n      <th>end_genomic</th>\n      <th>start_aa</th>\n      <th>end_aa</th>\n      <th>from_aa</th>\n      <th>to_aa</th>\n      <th>id_mutation</th>\n      <th>Proteins_id_protein</th>\n      <th>Consequences_id_consequence</th>\n      <th>Sources_id_source</th>\n    </tr>\n  </thead>\n  <tbody>\n    <tr>\n      <th>148021</th>\n      <td>116340837</td>\n      <td>6</td>\n      <td>149474335</td>\n      <td>149474335</td>\n      <td>70</td>\n      <td>70</td>\n      <td>Ala</td>\n      <td>Val</td>\n      <td>24001</td>\n      <td>12</td>\n      <td>1</td>\n      <td>1</td>\n    </tr>\n  </tbody>\n</table>\n</div>"
     },
     "metadata": {},
     "execution_count": 143
    }
   ],
   "source": [
    "# Control\n",
    "Mutations[Mutations.id_mutation == 24001]"
   ]
  },
  {
   "cell_type": "code",
   "execution_count": 144,
   "metadata": {},
   "outputs": [
    {
     "output_type": "execute_result",
     "data": {
      "text/plain": [
       "    id_protein uniprot_acc\n",
       "11          12      A2A288"
      ],
      "text/html": "<div>\n<style scoped>\n    .dataframe tbody tr th:only-of-type {\n        vertical-align: middle;\n    }\n\n    .dataframe tbody tr th {\n        vertical-align: top;\n    }\n\n    .dataframe thead th {\n        text-align: right;\n    }\n</style>\n<table border=\"1\" class=\"dataframe\">\n  <thead>\n    <tr style=\"text-align: right;\">\n      <th></th>\n      <th>id_protein</th>\n      <th>uniprot_acc</th>\n    </tr>\n  </thead>\n  <tbody>\n    <tr>\n      <th>11</th>\n      <td>12</td>\n      <td>A2A288</td>\n    </tr>\n  </tbody>\n</table>\n</div>"
     },
     "metadata": {},
     "execution_count": 144
    }
   ],
   "source": [
    "id_proteins[id_proteins.id_protein == 12]"
   ]
  },
  {
   "cell_type": "code",
   "execution_count": 145,
   "metadata": {},
   "outputs": [
    {
     "output_type": "execute_result",
     "data": {
      "text/plain": [
       "     uniprot  start  end  id_idr\n",
       "4338  A2A288     48   75    4339"
      ],
      "text/html": "<div>\n<style scoped>\n    .dataframe tbody tr th:only-of-type {\n        vertical-align: middle;\n    }\n\n    .dataframe tbody tr th {\n        vertical-align: top;\n    }\n\n    .dataframe thead th {\n        text-align: right;\n    }\n</style>\n<table border=\"1\" class=\"dataframe\">\n  <thead>\n    <tr style=\"text-align: right;\">\n      <th></th>\n      <th>uniprot</th>\n      <th>start</th>\n      <th>end</th>\n      <th>id_idr</th>\n    </tr>\n  </thead>\n  <tbody>\n    <tr>\n      <th>4338</th>\n      <td>A2A288</td>\n      <td>48</td>\n      <td>75</td>\n      <td>4339</td>\n    </tr>\n  </tbody>\n</table>\n</div>"
     },
     "metadata": {},
     "execution_count": 145
    }
   ],
   "source": [
    "disorder[disorder.id_idr == 4339] # It's Ok. A point mutation in position 70 in the idr region between 45-78"
   ]
  },
  {
   "cell_type": "code",
   "execution_count": 146,
   "metadata": {},
   "outputs": [],
   "source": [
    "Mutations_has_Disorder_regions.to_csv('db_tables/Mutations_has_Disorder_regions.tsv', sep='\\t', index= False)"
   ]
  },
  {
   "source": [
    "---  \n",
    "## llps: reduced table of proteins"
   ],
   "cell_type": "markdown",
   "metadata": {}
  },
  {
   "cell_type": "code",
   "execution_count": 197,
   "metadata": {},
   "outputs": [
    {
     "output_type": "execute_result",
     "data": {
      "text/plain": [
       "  uniprot_acc                                      mlo                rol  \\\n",
       "0  A0A024RBG1                         null_phasepdb_ht          regulator   \n",
       "1  A0A096LP55                           stress granule          regulator   \n",
       "2  A0A0U1RRE5                                   p-body  component, client   \n",
       "3      A0AV96   stress granule, p-body, stress granule  component, client   \n",
       "4      A0FGR8          postsynaptic density, nucleolus             client   \n",
       "\n",
       "                         db  \n",
       "0               phasepdb_ht  \n",
       "1                    drllps  \n",
       "2  drllps, phasepdb_uniprot  \n",
       "3       drllps, phasepdb_ht  \n",
       "4                    drllps  "
      ],
      "text/html": "<div>\n<style scoped>\n    .dataframe tbody tr th:only-of-type {\n        vertical-align: middle;\n    }\n\n    .dataframe tbody tr th {\n        vertical-align: top;\n    }\n\n    .dataframe thead th {\n        text-align: right;\n    }\n</style>\n<table border=\"1\" class=\"dataframe\">\n  <thead>\n    <tr style=\"text-align: right;\">\n      <th></th>\n      <th>uniprot_acc</th>\n      <th>mlo</th>\n      <th>rol</th>\n      <th>db</th>\n    </tr>\n  </thead>\n  <tbody>\n    <tr>\n      <th>0</th>\n      <td>A0A024RBG1</td>\n      <td>null_phasepdb_ht</td>\n      <td>regulator</td>\n      <td>phasepdb_ht</td>\n    </tr>\n    <tr>\n      <th>1</th>\n      <td>A0A096LP55</td>\n      <td>stress granule</td>\n      <td>regulator</td>\n      <td>drllps</td>\n    </tr>\n    <tr>\n      <th>2</th>\n      <td>A0A0U1RRE5</td>\n      <td>p-body</td>\n      <td>component, client</td>\n      <td>drllps, phasepdb_uniprot</td>\n    </tr>\n    <tr>\n      <th>3</th>\n      <td>A0AV96</td>\n      <td>stress granule, p-body, stress granule</td>\n      <td>component, client</td>\n      <td>drllps, phasepdb_ht</td>\n    </tr>\n    <tr>\n      <th>4</th>\n      <td>A0FGR8</td>\n      <td>postsynaptic density, nucleolus</td>\n      <td>client</td>\n      <td>drllps</td>\n    </tr>\n  </tbody>\n</table>\n</div>"
     },
     "metadata": {},
     "execution_count": 197
    }
   ],
   "source": [
    "llps = pd.read_csv('../datasets/llps_human_all_proteins.csv')\n",
    "llps.drop(columns='organism', inplace= True)\n",
    "llps = llps[['uniprot_acc', 'mlo', 'rol', 'db']]\n",
    "llps.head()"
   ]
  },
  {
   "cell_type": "code",
   "execution_count": 198,
   "metadata": {},
   "outputs": [
    {
     "output_type": "execute_result",
     "data": {
      "text/plain": [
       "' stress granule, p-body, stress granule'"
      ]
     },
     "metadata": {},
     "execution_count": 198
    }
   ],
   "source": [
    "llps.mlo[3]"
   ]
  },
  {
   "cell_type": "code",
   "execution_count": 199,
   "metadata": {},
   "outputs": [],
   "source": [
    "# Remove blank spaces\n",
    "llps.mlo = llps.mlo.str.strip()"
   ]
  },
  {
   "cell_type": "code",
   "execution_count": 200,
   "metadata": {},
   "outputs": [],
   "source": [
    "# Set mlo col as list-like and explode() to separate list elements into separate rows\n",
    "llps = llps.assign(mlo= llps.mlo.str.split(',')).explode('mlo')"
   ]
  },
  {
   "cell_type": "code",
   "execution_count": 201,
   "metadata": {},
   "outputs": [
    {
     "output_type": "execute_result",
     "data": {
      "text/plain": [
       "     uniprot_acc               mlo                rol  \\\n",
       "0     A0A024RBG1  null_phasepdb_ht          regulator   \n",
       "1     A0A096LP55    stress granule          regulator   \n",
       "2     A0A0U1RRE5            p-body  component, client   \n",
       "3         A0AV96    stress granule  component, client   \n",
       "3         A0AV96            p-body  component, client   \n",
       "...          ...               ...                ...   \n",
       "4366      Q9Y649            p-body             client   \n",
       "4367      R4GMX3          pcg body             client   \n",
       "4368      V9GYY5            p-body             client   \n",
       "4368      V9GYY5       paraspeckle             client   \n",
       "4368      V9GYY5         nucleolus             client   \n",
       "\n",
       "                            db  \n",
       "0                  phasepdb_ht  \n",
       "1                       drllps  \n",
       "2     drllps, phasepdb_uniprot  \n",
       "3          drllps, phasepdb_ht  \n",
       "3          drllps, phasepdb_ht  \n",
       "...                        ...  \n",
       "4366                    drllps  \n",
       "4367                    drllps  \n",
       "4368                    drllps  \n",
       "4368                    drllps  \n",
       "4368                    drllps  \n",
       "\n",
       "[7149 rows x 4 columns]"
      ],
      "text/html": "<div>\n<style scoped>\n    .dataframe tbody tr th:only-of-type {\n        vertical-align: middle;\n    }\n\n    .dataframe tbody tr th {\n        vertical-align: top;\n    }\n\n    .dataframe thead th {\n        text-align: right;\n    }\n</style>\n<table border=\"1\" class=\"dataframe\">\n  <thead>\n    <tr style=\"text-align: right;\">\n      <th></th>\n      <th>uniprot_acc</th>\n      <th>mlo</th>\n      <th>rol</th>\n      <th>db</th>\n    </tr>\n  </thead>\n  <tbody>\n    <tr>\n      <th>0</th>\n      <td>A0A024RBG1</td>\n      <td>null_phasepdb_ht</td>\n      <td>regulator</td>\n      <td>phasepdb_ht</td>\n    </tr>\n    <tr>\n      <th>1</th>\n      <td>A0A096LP55</td>\n      <td>stress granule</td>\n      <td>regulator</td>\n      <td>drllps</td>\n    </tr>\n    <tr>\n      <th>2</th>\n      <td>A0A0U1RRE5</td>\n      <td>p-body</td>\n      <td>component, client</td>\n      <td>drllps, phasepdb_uniprot</td>\n    </tr>\n    <tr>\n      <th>3</th>\n      <td>A0AV96</td>\n      <td>stress granule</td>\n      <td>component, client</td>\n      <td>drllps, phasepdb_ht</td>\n    </tr>\n    <tr>\n      <th>3</th>\n      <td>A0AV96</td>\n      <td>p-body</td>\n      <td>component, client</td>\n      <td>drllps, phasepdb_ht</td>\n    </tr>\n    <tr>\n      <th>...</th>\n      <td>...</td>\n      <td>...</td>\n      <td>...</td>\n      <td>...</td>\n    </tr>\n    <tr>\n      <th>4366</th>\n      <td>Q9Y649</td>\n      <td>p-body</td>\n      <td>client</td>\n      <td>drllps</td>\n    </tr>\n    <tr>\n      <th>4367</th>\n      <td>R4GMX3</td>\n      <td>pcg body</td>\n      <td>client</td>\n      <td>drllps</td>\n    </tr>\n    <tr>\n      <th>4368</th>\n      <td>V9GYY5</td>\n      <td>p-body</td>\n      <td>client</td>\n      <td>drllps</td>\n    </tr>\n    <tr>\n      <th>4368</th>\n      <td>V9GYY5</td>\n      <td>paraspeckle</td>\n      <td>client</td>\n      <td>drllps</td>\n    </tr>\n    <tr>\n      <th>4368</th>\n      <td>V9GYY5</td>\n      <td>nucleolus</td>\n      <td>client</td>\n      <td>drllps</td>\n    </tr>\n  </tbody>\n</table>\n<p>7149 rows × 4 columns</p>\n</div>"
     },
     "metadata": {},
     "execution_count": 201
    }
   ],
   "source": [
    "llps"
   ]
  },
  {
   "cell_type": "code",
   "execution_count": 202,
   "metadata": {},
   "outputs": [
    {
     "output_type": "execute_result",
     "data": {
      "text/plain": [
       "4368           p-body\n",
       "4368      paraspeckle\n",
       "4368        nucleolus\n",
       "Name: mlo, dtype: object"
      ]
     },
     "metadata": {},
     "execution_count": 202
    }
   ],
   "source": [
    "llps.mlo[4368]"
   ]
  },
  {
   "cell_type": "code",
   "execution_count": 203,
   "metadata": {},
   "outputs": [
    {
     "output_type": "execute_result",
     "data": {
      "text/plain": [
       "postsynaptic density             1239\n",
       "nucleolus                         820\n",
       "stress granule                    580\n",
       " nucleolus                        528\n",
       "null_phasepdb_ht                  522\n",
       "centrosome/spindle pole body      411\n",
       " stress granule                   392\n",
       " p-body                           371\n",
       "p-body                            276\n",
       " null_phasepdb_ht                 228\n",
       "  stress granule                  205\n",
       " centrosome/spindle pole body     123\n",
       " droplet                           90\n",
       "others                             87\n",
       " postsynaptic density              74\n",
       " nucleus speckles                  65\n",
       "  postsynaptic density             64\n",
       " null_phasepdb_rev                 59\n",
       " nuclear speckle                   58\n",
       " pml nuclear body                  54\n",
       "Name: mlo, dtype: int64"
      ]
     },
     "metadata": {},
     "execution_count": 203
    }
   ],
   "source": [
    "llps.mlo.value_counts()[:20] # there's blanks"
   ]
  },
  {
   "cell_type": "code",
   "execution_count": 204,
   "metadata": {},
   "outputs": [],
   "source": [
    "# Remove blank spaces\n",
    "llps.mlo = llps.mlo.str.strip()"
   ]
  },
  {
   "cell_type": "code",
   "execution_count": 205,
   "metadata": {},
   "outputs": [
    {
     "output_type": "execute_result",
     "data": {
      "text/plain": [
       "nucleolus                                                                                     1377\n",
       "postsynaptic density                                                                          1377\n",
       "stress granule                                                                                1177\n",
       "null_phasepdb_ht                                                                               750\n",
       "p-body                                                                                         682\n",
       "                                                                                              ... \n",
       "nuage                                                                                            1\n",
       "galectin lattice                                                                                 1\n",
       "u body                                                                                           1\n",
       "selective hydrogel-like meshwork formed by fg-nucleoporins in nuclear pore central channel       1\n",
       "intracellular dna/protein granule                                                                1\n",
       "Name: mlo, Length: 110, dtype: int64"
      ]
     },
     "metadata": {},
     "execution_count": 205
    }
   ],
   "source": [
    "llps.mlo.value_counts()"
   ]
  },
  {
   "source": [
    "## Rol table  \n",
    "cols: id_rol, rol"
   ],
   "cell_type": "markdown",
   "metadata": {}
  },
  {
   "cell_type": "code",
   "execution_count": 260,
   "metadata": {},
   "outputs": [],
   "source": [
    "entrada_dbs = pd.read_csv('entrada_dbs.tsv.txt', sep='\\t')"
   ]
  },
  {
   "cell_type": "code",
   "execution_count": 261,
   "metadata": {},
   "outputs": [
    {
     "output_type": "execute_result",
     "data": {
      "text/plain": [
       "  uniprot      organism                                     mlo     rol  \\\n",
       "0  P35637  Homo sapiens              cytoplasmic stress granule  driver   \n",
       "1  P35637  Homo sapiens   cytoplasmic ribonucleoprotein granule  driver   \n",
       "2  Q06787  Homo sapiens              cytoplasmic stress granule  driver   \n",
       "3  Q06787  Homo sapiens   cytoplasmic ribonucleoprotein granule  driver   \n",
       "4  Q06787  Homo sapiens          synaptosome, neuron projection  driver   \n",
       "\n",
       "         db  \n",
       "0  phasepro  \n",
       "1  phasepro  \n",
       "2  phasepro  \n",
       "3  phasepro  \n",
       "4  phasepro  "
      ],
      "text/html": "<div>\n<style scoped>\n    .dataframe tbody tr th:only-of-type {\n        vertical-align: middle;\n    }\n\n    .dataframe tbody tr th {\n        vertical-align: top;\n    }\n\n    .dataframe thead th {\n        text-align: right;\n    }\n</style>\n<table border=\"1\" class=\"dataframe\">\n  <thead>\n    <tr style=\"text-align: right;\">\n      <th></th>\n      <th>uniprot</th>\n      <th>organism</th>\n      <th>mlo</th>\n      <th>rol</th>\n      <th>db</th>\n    </tr>\n  </thead>\n  <tbody>\n    <tr>\n      <th>0</th>\n      <td>P35637</td>\n      <td>Homo sapiens</td>\n      <td>cytoplasmic stress granule</td>\n      <td>driver</td>\n      <td>phasepro</td>\n    </tr>\n    <tr>\n      <th>1</th>\n      <td>P35637</td>\n      <td>Homo sapiens</td>\n      <td>cytoplasmic ribonucleoprotein granule</td>\n      <td>driver</td>\n      <td>phasepro</td>\n    </tr>\n    <tr>\n      <th>2</th>\n      <td>Q06787</td>\n      <td>Homo sapiens</td>\n      <td>cytoplasmic stress granule</td>\n      <td>driver</td>\n      <td>phasepro</td>\n    </tr>\n    <tr>\n      <th>3</th>\n      <td>Q06787</td>\n      <td>Homo sapiens</td>\n      <td>cytoplasmic ribonucleoprotein granule</td>\n      <td>driver</td>\n      <td>phasepro</td>\n    </tr>\n    <tr>\n      <th>4</th>\n      <td>Q06787</td>\n      <td>Homo sapiens</td>\n      <td>synaptosome, neuron projection</td>\n      <td>driver</td>\n      <td>phasepro</td>\n    </tr>\n  </tbody>\n</table>\n</div>"
     },
     "metadata": {},
     "execution_count": 261
    }
   ],
   "source": [
    "entrada_dbs.head()"
   ]
  },
  {
   "cell_type": "code",
   "execution_count": 262,
   "metadata": {},
   "outputs": [
    {
     "output_type": "execute_result",
     "data": {
      "text/plain": [
       "array(['driver', 'component', 'regulator', 'client'], dtype=object)"
      ]
     },
     "metadata": {},
     "execution_count": 262
    }
   ],
   "source": [
    "entrada_dbs.rol.unique()"
   ]
  },
  {
   "cell_type": "code",
   "execution_count": 264,
   "metadata": {},
   "outputs": [
    {
     "output_type": "execute_result",
     "data": {
      "text/plain": [
       "client       5790\n",
       "regulator    1395\n",
       "component     836\n",
       "driver        384\n",
       "Name: rol, dtype: int64"
      ]
     },
     "metadata": {},
     "execution_count": 264
    }
   ],
   "source": [
    "entrada_dbs.rol.value_counts()"
   ]
  },
  {
   "cell_type": "code",
   "execution_count": 267,
   "metadata": {},
   "outputs": [
    {
     "output_type": "execute_result",
     "data": {
      "text/plain": [
       "         rol  id_rol\n",
       "0     client       1\n",
       "1  regulator       2\n",
       "2  component       3\n",
       "3     driver       4"
      ],
      "text/html": "<div>\n<style scoped>\n    .dataframe tbody tr th:only-of-type {\n        vertical-align: middle;\n    }\n\n    .dataframe tbody tr th {\n        vertical-align: top;\n    }\n\n    .dataframe thead th {\n        text-align: right;\n    }\n</style>\n<table border=\"1\" class=\"dataframe\">\n  <thead>\n    <tr style=\"text-align: right;\">\n      <th></th>\n      <th>rol</th>\n      <th>id_rol</th>\n    </tr>\n  </thead>\n  <tbody>\n    <tr>\n      <th>0</th>\n      <td>client</td>\n      <td>1</td>\n    </tr>\n    <tr>\n      <th>1</th>\n      <td>regulator</td>\n      <td>2</td>\n    </tr>\n    <tr>\n      <th>2</th>\n      <td>component</td>\n      <td>3</td>\n    </tr>\n    <tr>\n      <th>3</th>\n      <td>driver</td>\n      <td>4</td>\n    </tr>\n  </tbody>\n</table>\n</div>"
     },
     "metadata": {},
     "execution_count": 267
    }
   ],
   "source": [
    "Rol = pd.DataFrame({'rol': entrada_dbs.rol.value_counts().index, 'id_rol': range(1, len(entrada_dbs.rol.value_counts())+1)})\n",
    "Rol"
   ]
  },
  {
   "cell_type": "code",
   "execution_count": 382,
   "metadata": {},
   "outputs": [],
   "source": [
    "Rol.to_csv('db_tables/Rol.tsv', sep='\\t', index= False)"
   ]
  },
  {
   "source": [
    "## Databases table  \n",
    "cols: id_database, database"
   ],
   "cell_type": "markdown",
   "metadata": {}
  },
  {
   "cell_type": "code",
   "execution_count": 271,
   "metadata": {},
   "outputs": [
    {
     "output_type": "execute_result",
     "data": {
      "text/plain": [
       "drllps              5050\n",
       "phasepdb_ht         2546\n",
       "phasepdb_uniprot     384\n",
       "phasepdb_rev         297\n",
       "phasepro             128\n",
       "Name: db, dtype: int64"
      ]
     },
     "metadata": {},
     "execution_count": 271
    }
   ],
   "source": [
    "entrada_dbs.db.value_counts()"
   ]
  },
  {
   "cell_type": "code",
   "execution_count": 273,
   "metadata": {},
   "outputs": [
    {
     "output_type": "execute_result",
     "data": {
      "text/plain": [
       "           database  id_database\n",
       "0            drllps            1\n",
       "1       phasepdb_ht            2\n",
       "2  phasepdb_uniprot            3\n",
       "3      phasepdb_rev            4\n",
       "4          phasepro            5"
      ],
      "text/html": "<div>\n<style scoped>\n    .dataframe tbody tr th:only-of-type {\n        vertical-align: middle;\n    }\n\n    .dataframe tbody tr th {\n        vertical-align: top;\n    }\n\n    .dataframe thead th {\n        text-align: right;\n    }\n</style>\n<table border=\"1\" class=\"dataframe\">\n  <thead>\n    <tr style=\"text-align: right;\">\n      <th></th>\n      <th>database</th>\n      <th>id_database</th>\n    </tr>\n  </thead>\n  <tbody>\n    <tr>\n      <th>0</th>\n      <td>drllps</td>\n      <td>1</td>\n    </tr>\n    <tr>\n      <th>1</th>\n      <td>phasepdb_ht</td>\n      <td>2</td>\n    </tr>\n    <tr>\n      <th>2</th>\n      <td>phasepdb_uniprot</td>\n      <td>3</td>\n    </tr>\n    <tr>\n      <th>3</th>\n      <td>phasepdb_rev</td>\n      <td>4</td>\n    </tr>\n    <tr>\n      <th>4</th>\n      <td>phasepro</td>\n      <td>5</td>\n    </tr>\n  </tbody>\n</table>\n</div>"
     },
     "metadata": {},
     "execution_count": 273
    }
   ],
   "source": [
    "Databases = pd.DataFrame({'database': entrada_dbs.db.value_counts().index, 'id_database': range(1, len(entrada_dbs.db.value_counts())+1)})\n",
    "Databases"
   ]
  },
  {
   "cell_type": "code",
   "execution_count": 383,
   "metadata": {},
   "outputs": [],
   "source": [
    "Databases.to_csv('db_tables/Databases.tsv', sep='\\t', index= False)"
   ]
  },
  {
   "source": [
    "## Proteins_has_Mlos  \n",
    "cols: Proteins_id_protein, Mlos_id_mlo, Rol_id_rol, Databases_id_database"
   ],
   "cell_type": "markdown",
   "metadata": {}
  },
  {
   "cell_type": "code",
   "execution_count": 288,
   "metadata": {},
   "outputs": [
    {
     "output_type": "execute_result",
     "data": {
      "text/plain": [
       "  uniprot      organism                                     mlo     rol  \\\n",
       "0  P35637  Homo sapiens              cytoplasmic stress granule  driver   \n",
       "1  P35637  Homo sapiens   cytoplasmic ribonucleoprotein granule  driver   \n",
       "2  Q06787  Homo sapiens              cytoplasmic stress granule  driver   \n",
       "3  Q06787  Homo sapiens   cytoplasmic ribonucleoprotein granule  driver   \n",
       "4  Q06787  Homo sapiens          synaptosome, neuron projection  driver   \n",
       "\n",
       "         db  \n",
       "0  phasepro  \n",
       "1  phasepro  \n",
       "2  phasepro  \n",
       "3  phasepro  \n",
       "4  phasepro  "
      ],
      "text/html": "<div>\n<style scoped>\n    .dataframe tbody tr th:only-of-type {\n        vertical-align: middle;\n    }\n\n    .dataframe tbody tr th {\n        vertical-align: top;\n    }\n\n    .dataframe thead th {\n        text-align: right;\n    }\n</style>\n<table border=\"1\" class=\"dataframe\">\n  <thead>\n    <tr style=\"text-align: right;\">\n      <th></th>\n      <th>uniprot</th>\n      <th>organism</th>\n      <th>mlo</th>\n      <th>rol</th>\n      <th>db</th>\n    </tr>\n  </thead>\n  <tbody>\n    <tr>\n      <th>0</th>\n      <td>P35637</td>\n      <td>Homo sapiens</td>\n      <td>cytoplasmic stress granule</td>\n      <td>driver</td>\n      <td>phasepro</td>\n    </tr>\n    <tr>\n      <th>1</th>\n      <td>P35637</td>\n      <td>Homo sapiens</td>\n      <td>cytoplasmic ribonucleoprotein granule</td>\n      <td>driver</td>\n      <td>phasepro</td>\n    </tr>\n    <tr>\n      <th>2</th>\n      <td>Q06787</td>\n      <td>Homo sapiens</td>\n      <td>cytoplasmic stress granule</td>\n      <td>driver</td>\n      <td>phasepro</td>\n    </tr>\n    <tr>\n      <th>3</th>\n      <td>Q06787</td>\n      <td>Homo sapiens</td>\n      <td>cytoplasmic ribonucleoprotein granule</td>\n      <td>driver</td>\n      <td>phasepro</td>\n    </tr>\n    <tr>\n      <th>4</th>\n      <td>Q06787</td>\n      <td>Homo sapiens</td>\n      <td>synaptosome, neuron projection</td>\n      <td>driver</td>\n      <td>phasepro</td>\n    </tr>\n  </tbody>\n</table>\n</div>"
     },
     "metadata": {},
     "execution_count": 288
    }
   ],
   "source": [
    "entrada_dbs.head()"
   ]
  },
  {
   "cell_type": "code",
   "execution_count": 313,
   "metadata": {},
   "outputs": [],
   "source": [
    "# There's NaNs uniprots. Why?\n",
    "entrada_dbs = entrada_dbs[entrada_dbs.uniprot.notnull()]"
   ]
  },
  {
   "cell_type": "code",
   "execution_count": 358,
   "metadata": {},
   "outputs": [],
   "source": [
    "Proteins_has_Mlos = entrada_dbs.rename(columns= {'uniprot': 'uniprot_acc'}).drop(columns='organism').copy()"
   ]
  },
  {
   "cell_type": "code",
   "execution_count": 359,
   "metadata": {},
   "outputs": [],
   "source": [
    "# Set mlo col as list-like and explode() to separate list elements into separate rows\n",
    "Proteins_has_Mlos = Proteins_has_Mlos.assign(mlo= Proteins_has_Mlos.mlo.str.split(',')).explode('mlo')"
   ]
  },
  {
   "cell_type": "code",
   "execution_count": 360,
   "metadata": {},
   "outputs": [],
   "source": [
    "Proteins_has_Mlos = Proteins_has_Mlos.merge(id_proteins).sort_values('id_protein')"
   ]
  },
  {
   "cell_type": "code",
   "execution_count": 361,
   "metadata": {},
   "outputs": [
    {
     "output_type": "execute_result",
     "data": {
      "text/plain": [
       "     uniprot_acc               mlo        rol                db  id_protein\n",
       "5641  A0A024RBG1  null_phasepdb_ht  regulator       phasepdb_ht           1\n",
       "5996  A0A096LP55    Stress granule  regulator            drllps           2\n",
       "1169  A0A0U1RRE5            P-body  component  phasepdb_uniprot           3\n",
       "1170  A0A0U1RRE5            P-body     client            drllps           3\n",
       "5750      A0AV96    Stress granule  component       phasepdb_ht           4\n",
       "...          ...               ...        ...               ...         ...\n",
       "8280      Q9Y649            P-body     client            drllps        4367\n",
       "6312      R4GMX3          PcG body     client            drllps        4368\n",
       "7019      V9GYY5            P-body     client            drllps        4369\n",
       "7018      V9GYY5       Paraspeckle     client            drllps        4369\n",
       "7017      V9GYY5         Nucleolus     client            drllps        4369\n",
       "\n",
       "[8395 rows x 5 columns]"
      ],
      "text/html": "<div>\n<style scoped>\n    .dataframe tbody tr th:only-of-type {\n        vertical-align: middle;\n    }\n\n    .dataframe tbody tr th {\n        vertical-align: top;\n    }\n\n    .dataframe thead th {\n        text-align: right;\n    }\n</style>\n<table border=\"1\" class=\"dataframe\">\n  <thead>\n    <tr style=\"text-align: right;\">\n      <th></th>\n      <th>uniprot_acc</th>\n      <th>mlo</th>\n      <th>rol</th>\n      <th>db</th>\n      <th>id_protein</th>\n    </tr>\n  </thead>\n  <tbody>\n    <tr>\n      <th>5641</th>\n      <td>A0A024RBG1</td>\n      <td>null_phasepdb_ht</td>\n      <td>regulator</td>\n      <td>phasepdb_ht</td>\n      <td>1</td>\n    </tr>\n    <tr>\n      <th>5996</th>\n      <td>A0A096LP55</td>\n      <td>Stress granule</td>\n      <td>regulator</td>\n      <td>drllps</td>\n      <td>2</td>\n    </tr>\n    <tr>\n      <th>1169</th>\n      <td>A0A0U1RRE5</td>\n      <td>P-body</td>\n      <td>component</td>\n      <td>phasepdb_uniprot</td>\n      <td>3</td>\n    </tr>\n    <tr>\n      <th>1170</th>\n      <td>A0A0U1RRE5</td>\n      <td>P-body</td>\n      <td>client</td>\n      <td>drllps</td>\n      <td>3</td>\n    </tr>\n    <tr>\n      <th>5750</th>\n      <td>A0AV96</td>\n      <td>Stress granule</td>\n      <td>component</td>\n      <td>phasepdb_ht</td>\n      <td>4</td>\n    </tr>\n    <tr>\n      <th>...</th>\n      <td>...</td>\n      <td>...</td>\n      <td>...</td>\n      <td>...</td>\n      <td>...</td>\n    </tr>\n    <tr>\n      <th>8280</th>\n      <td>Q9Y649</td>\n      <td>P-body</td>\n      <td>client</td>\n      <td>drllps</td>\n      <td>4367</td>\n    </tr>\n    <tr>\n      <th>6312</th>\n      <td>R4GMX3</td>\n      <td>PcG body</td>\n      <td>client</td>\n      <td>drllps</td>\n      <td>4368</td>\n    </tr>\n    <tr>\n      <th>7019</th>\n      <td>V9GYY5</td>\n      <td>P-body</td>\n      <td>client</td>\n      <td>drllps</td>\n      <td>4369</td>\n    </tr>\n    <tr>\n      <th>7018</th>\n      <td>V9GYY5</td>\n      <td>Paraspeckle</td>\n      <td>client</td>\n      <td>drllps</td>\n      <td>4369</td>\n    </tr>\n    <tr>\n      <th>7017</th>\n      <td>V9GYY5</td>\n      <td>Nucleolus</td>\n      <td>client</td>\n      <td>drllps</td>\n      <td>4369</td>\n    </tr>\n  </tbody>\n</table>\n<p>8395 rows × 5 columns</p>\n</div>"
     },
     "metadata": {},
     "execution_count": 361
    }
   ],
   "source": [
    "Proteins_has_Mlos"
   ]
  },
  {
   "cell_type": "code",
   "execution_count": 362,
   "metadata": {},
   "outputs": [],
   "source": [
    "# Strip blank spaces\n",
    "Proteins_has_Mlos.mlo = Proteins_has_Mlos.mlo.str.strip()"
   ]
  },
  {
   "source": [
    "## MLOs tables  \n",
    "cols: id_mlo, mlo"
   ],
   "cell_type": "markdown",
   "metadata": {}
  },
  {
   "cell_type": "code",
   "execution_count": 331,
   "metadata": {},
   "outputs": [
    {
     "output_type": "execute_result",
     "data": {
      "text/plain": [
       "Nucleolus               2042\n",
       "Stress granule           918\n",
       "Postsynaptic density     917\n",
       "null_phasepdb_ht         750\n",
       "P-body                   748\n",
       "                        ... \n",
       " granular component        1\n",
       "Heterochromatin            1\n",
       "Sress granule              1\n",
       "Histone Locus body         1\n",
       "heterochromatin            1\n",
       "Name: mlo, Length: 147, dtype: int64"
      ]
     },
     "metadata": {},
     "execution_count": 331
    }
   ],
   "source": [
    "entrada_dbs.mlo.value_counts()"
   ]
  },
  {
   "cell_type": "code",
   "execution_count": 333,
   "metadata": {},
   "outputs": [
    {
     "output_type": "stream",
     "name": "stderr",
     "text": [
      "C:\\Users\\User\\AppData\\Local\\Packages\\PythonSoftwareFoundation.Python.3.9_qbz5n2kfra8p0\\LocalCache\\local-packages\\Python39\\site-packages\\pandas\\core\\generic.py:5491: SettingWithCopyWarning: \nA value is trying to be set on a copy of a slice from a DataFrame.\nTry using .loc[row_indexer,col_indexer] = value instead\n\nSee the caveats in the documentation: https://pandas.pydata.org/pandas-docs/stable/user_guide/indexing.html#returning-a-view-versus-a-copy\n  self[name] = value\n"
     ]
    }
   ],
   "source": [
    "entrada_dbs.mlo = entrada_dbs.mlo.str.strip()"
   ]
  },
  {
   "cell_type": "code",
   "execution_count": 334,
   "metadata": {},
   "outputs": [
    {
     "output_type": "execute_result",
     "data": {
      "text/plain": [
       "Nucleolus                                         2133\n",
       "Stress granule                                    1407\n",
       "Postsynaptic density                              1374\n",
       "P-body                                             880\n",
       "null_phasepdb_ht                                   750\n",
       "                                                  ... \n",
       "condensed compartments of microtubule bundling       1\n",
       "Cytoplasmic ribonucleoprotein granule                1\n",
       "Sress granule                                        1\n",
       "Cytoplasmic granule                                  1\n",
       "TIS granule                                          1\n",
       "Name: mlo, Length: 116, dtype: int64"
      ]
     },
     "metadata": {},
     "execution_count": 334
    }
   ],
   "source": [
    "entrada_dbs.mlo.value_counts()"
   ]
  },
  {
   "cell_type": "code",
   "execution_count": 338,
   "metadata": {},
   "outputs": [],
   "source": [
    "Mlos = pd.DataFrame({'mlo': entrada_dbs.mlo.unique(), 'id_mlo': range(1, len(entrada_dbs.mlo.unique())+1)})"
   ]
  },
  {
   "cell_type": "code",
   "execution_count": 339,
   "metadata": {},
   "outputs": [
    {
     "output_type": "execute_result",
     "data": {
      "text/plain": [
       "                                       mlo  id_mlo\n",
       "0               cytoplasmic stress granule       1\n",
       "1    cytoplasmic ribonucleoprotein granule       2\n",
       "2           synaptosome, neuron projection       3\n",
       "3       neuronal ribonucleoprotein granule       4\n",
       "4                  nuclear protein granule       5\n",
       "..                                     ...     ...\n",
       "112              Perinucleolar compartment     113\n",
       "113                                 U body     114\n",
       "114                       Receptor cluster     115\n",
       "115                  Pericentriolar matrix     116\n",
       "116                    Nuclear stress body     117\n",
       "\n",
       "[117 rows x 2 columns]"
      ],
      "text/html": "<div>\n<style scoped>\n    .dataframe tbody tr th:only-of-type {\n        vertical-align: middle;\n    }\n\n    .dataframe tbody tr th {\n        vertical-align: top;\n    }\n\n    .dataframe thead th {\n        text-align: right;\n    }\n</style>\n<table border=\"1\" class=\"dataframe\">\n  <thead>\n    <tr style=\"text-align: right;\">\n      <th></th>\n      <th>mlo</th>\n      <th>id_mlo</th>\n    </tr>\n  </thead>\n  <tbody>\n    <tr>\n      <th>0</th>\n      <td>cytoplasmic stress granule</td>\n      <td>1</td>\n    </tr>\n    <tr>\n      <th>1</th>\n      <td>cytoplasmic ribonucleoprotein granule</td>\n      <td>2</td>\n    </tr>\n    <tr>\n      <th>2</th>\n      <td>synaptosome, neuron projection</td>\n      <td>3</td>\n    </tr>\n    <tr>\n      <th>3</th>\n      <td>neuronal ribonucleoprotein granule</td>\n      <td>4</td>\n    </tr>\n    <tr>\n      <th>4</th>\n      <td>nuclear protein granule</td>\n      <td>5</td>\n    </tr>\n    <tr>\n      <th>...</th>\n      <td>...</td>\n      <td>...</td>\n    </tr>\n    <tr>\n      <th>112</th>\n      <td>Perinucleolar compartment</td>\n      <td>113</td>\n    </tr>\n    <tr>\n      <th>113</th>\n      <td>U body</td>\n      <td>114</td>\n    </tr>\n    <tr>\n      <th>114</th>\n      <td>Receptor cluster</td>\n      <td>115</td>\n    </tr>\n    <tr>\n      <th>115</th>\n      <td>Pericentriolar matrix</td>\n      <td>116</td>\n    </tr>\n    <tr>\n      <th>116</th>\n      <td>Nuclear stress body</td>\n      <td>117</td>\n    </tr>\n  </tbody>\n</table>\n<p>117 rows × 2 columns</p>\n</div>"
     },
     "metadata": {},
     "execution_count": 339
    }
   ],
   "source": [
    "Mlos"
   ]
  },
  {
   "cell_type": "code",
   "execution_count": 385,
   "metadata": {},
   "outputs": [],
   "source": [
    "Mlos.to_csv('db_tables/Mlos.tsv', sep='\\t', index= False)"
   ]
  },
  {
   "cell_type": "code",
   "execution_count": 363,
   "metadata": {},
   "outputs": [],
   "source": [
    "# Add id_mlo\n",
    "Proteins_has_Mlos = Proteins_has_Mlos.merge(Mlos).sort_values('id_protein')"
   ]
  },
  {
   "cell_type": "code",
   "execution_count": 365,
   "metadata": {},
   "outputs": [],
   "source": [
    "# Add id_rol and id_database\n",
    "Proteins_has_Mlos = Proteins_has_Mlos.merge(Rol)\n",
    "Proteins_has_Mlos = Proteins_has_Mlos.rename(columns={'db': 'database'}).merge(Databases).sort_values('id_protein')"
   ]
  },
  {
   "cell_type": "code",
   "execution_count": 366,
   "metadata": {},
   "outputs": [
    {
     "output_type": "execute_result",
     "data": {
      "text/plain": [
       "      Proteins_id_protein  Mlos_id_mlo  Rol_id_rol  Databases_id_database\n",
       "0                       1           92           2                      2\n",
       "2546                    2           56           2                      1\n",
       "3186                    3           24           1                      1\n",
       "7880                    3           24           3                      3\n",
       "3187                    4           24           1                      1\n",
       "...                   ...          ...         ...                    ...\n",
       "7319                 4367           24           1                      1\n",
       "7320                 4368          103           1                      1\n",
       "7321                 4369           64           1                      1\n",
       "7322                 4369           65           1                      1\n",
       "7323                 4369           24           1                      1\n",
       "\n",
       "[8390 rows x 4 columns]"
      ],
      "text/html": "<div>\n<style scoped>\n    .dataframe tbody tr th:only-of-type {\n        vertical-align: middle;\n    }\n\n    .dataframe tbody tr th {\n        vertical-align: top;\n    }\n\n    .dataframe thead th {\n        text-align: right;\n    }\n</style>\n<table border=\"1\" class=\"dataframe\">\n  <thead>\n    <tr style=\"text-align: right;\">\n      <th></th>\n      <th>Proteins_id_protein</th>\n      <th>Mlos_id_mlo</th>\n      <th>Rol_id_rol</th>\n      <th>Databases_id_database</th>\n    </tr>\n  </thead>\n  <tbody>\n    <tr>\n      <th>0</th>\n      <td>1</td>\n      <td>92</td>\n      <td>2</td>\n      <td>2</td>\n    </tr>\n    <tr>\n      <th>2546</th>\n      <td>2</td>\n      <td>56</td>\n      <td>2</td>\n      <td>1</td>\n    </tr>\n    <tr>\n      <th>3186</th>\n      <td>3</td>\n      <td>24</td>\n      <td>1</td>\n      <td>1</td>\n    </tr>\n    <tr>\n      <th>7880</th>\n      <td>3</td>\n      <td>24</td>\n      <td>3</td>\n      <td>3</td>\n    </tr>\n    <tr>\n      <th>3187</th>\n      <td>4</td>\n      <td>24</td>\n      <td>1</td>\n      <td>1</td>\n    </tr>\n    <tr>\n      <th>...</th>\n      <td>...</td>\n      <td>...</td>\n      <td>...</td>\n      <td>...</td>\n    </tr>\n    <tr>\n      <th>7319</th>\n      <td>4367</td>\n      <td>24</td>\n      <td>1</td>\n      <td>1</td>\n    </tr>\n    <tr>\n      <th>7320</th>\n      <td>4368</td>\n      <td>103</td>\n      <td>1</td>\n      <td>1</td>\n    </tr>\n    <tr>\n      <th>7321</th>\n      <td>4369</td>\n      <td>64</td>\n      <td>1</td>\n      <td>1</td>\n    </tr>\n    <tr>\n      <th>7322</th>\n      <td>4369</td>\n      <td>65</td>\n      <td>1</td>\n      <td>1</td>\n    </tr>\n    <tr>\n      <th>7323</th>\n      <td>4369</td>\n      <td>24</td>\n      <td>1</td>\n      <td>1</td>\n    </tr>\n  </tbody>\n</table>\n<p>8390 rows × 4 columns</p>\n</div>"
     },
     "metadata": {},
     "execution_count": 366
    }
   ],
   "source": [
    "Proteins_has_Mlos.drop(columns=['uniprot_acc',\t'mlo',\t'rol',\t'database'], inplace= True)\n",
    "Proteins_has_Mlos.rename(columns= {'id_protein': 'Proteins_id_protein',\t'id_mlo': 'Mlos_id_mlo',\n",
    "                                    'id_rol': 'Rol_id_rol', 'id_database': 'Databases_id_database'}, inplace= True)\n",
    "Proteins_has_Mlos"
   ]
  },
  {
   "cell_type": "code",
   "execution_count": 384,
   "metadata": {},
   "outputs": [],
   "source": [
    "Proteins_has_Mlos.to_csv('db_tables/Proteins_has_Mlos.tsv', sep='\\t', index= False)"
   ]
  },
  {
   "source": [
    "# Finally, Proteins table"
   ],
   "cell_type": "markdown",
   "metadata": {}
  },
  {
   "cell_type": "code",
   "execution_count": 225,
   "metadata": {},
   "outputs": [
    {
     "output_type": "execute_result",
     "data": {
      "text/plain": [
       "   id_protein uniprot_acc     hgnc_id   gene_id gene_name  length  \\\n",
       "0           1  A0A024RBG1  HGNC:18012  440672.0    NUDT4B    4369   \n",
       "1           2  A0A096LP55  HGNC:51714  440567.0    UQCRHL    4369   \n",
       "2           3  A0A0U1RRE5  HGNC:50713  550643.0      NBDY    4369   \n",
       "3           4      A0AV96  HGNC:30358   54502.0     RBM47    4369   \n",
       "4           5      A0FGR8  HGNC:22211   57488.0     ESYT2    4369   \n",
       "\n",
       "                                            sequence  \n",
       "0  MMKFKPNQTRTYDREGFKKRAACLCFRSEQEDEVLLVSSSRYPDQW...  \n",
       "1  MGLEDEQKMLTESGDPEEEEEEEEELVDPLTTVREQCEQLEKCVKA...  \n",
       "2  MGDQPCASGRSTLPPGNAREAKPPKKRCLLAPRWDYPEGTPNGGST...  \n",
       "3  MTAEDSTAAMSSDSAAGSSAKVPEGVAGAPNEAALLALMERTGYSM...  \n",
       "4  MTANRDAALSSHRHPGCAQRPRTPTFASSSQRRSAFGFDDGNFPGL...  "
      ],
      "text/html": "<div>\n<style scoped>\n    .dataframe tbody tr th:only-of-type {\n        vertical-align: middle;\n    }\n\n    .dataframe tbody tr th {\n        vertical-align: top;\n    }\n\n    .dataframe thead th {\n        text-align: right;\n    }\n</style>\n<table border=\"1\" class=\"dataframe\">\n  <thead>\n    <tr style=\"text-align: right;\">\n      <th></th>\n      <th>id_protein</th>\n      <th>uniprot_acc</th>\n      <th>hgnc_id</th>\n      <th>gene_id</th>\n      <th>gene_name</th>\n      <th>length</th>\n      <th>sequence</th>\n    </tr>\n  </thead>\n  <tbody>\n    <tr>\n      <th>0</th>\n      <td>1</td>\n      <td>A0A024RBG1</td>\n      <td>HGNC:18012</td>\n      <td>440672.0</td>\n      <td>NUDT4B</td>\n      <td>4369</td>\n      <td>MMKFKPNQTRTYDREGFKKRAACLCFRSEQEDEVLLVSSSRYPDQW...</td>\n    </tr>\n    <tr>\n      <th>1</th>\n      <td>2</td>\n      <td>A0A096LP55</td>\n      <td>HGNC:51714</td>\n      <td>440567.0</td>\n      <td>UQCRHL</td>\n      <td>4369</td>\n      <td>MGLEDEQKMLTESGDPEEEEEEEEELVDPLTTVREQCEQLEKCVKA...</td>\n    </tr>\n    <tr>\n      <th>2</th>\n      <td>3</td>\n      <td>A0A0U1RRE5</td>\n      <td>HGNC:50713</td>\n      <td>550643.0</td>\n      <td>NBDY</td>\n      <td>4369</td>\n      <td>MGDQPCASGRSTLPPGNAREAKPPKKRCLLAPRWDYPEGTPNGGST...</td>\n    </tr>\n    <tr>\n      <th>3</th>\n      <td>4</td>\n      <td>A0AV96</td>\n      <td>HGNC:30358</td>\n      <td>54502.0</td>\n      <td>RBM47</td>\n      <td>4369</td>\n      <td>MTAEDSTAAMSSDSAAGSSAKVPEGVAGAPNEAALLALMERTGYSM...</td>\n    </tr>\n    <tr>\n      <th>4</th>\n      <td>5</td>\n      <td>A0FGR8</td>\n      <td>HGNC:22211</td>\n      <td>57488.0</td>\n      <td>ESYT2</td>\n      <td>4369</td>\n      <td>MTANRDAALSSHRHPGCAQRPRTPTFASSSQRRSAFGFDDGNFPGL...</td>\n    </tr>\n  </tbody>\n</table>\n</div>"
     },
     "metadata": {},
     "execution_count": 225
    }
   ],
   "source": [
    "proteins.head()"
   ]
  },
  {
   "cell_type": "code",
   "execution_count": 220,
   "metadata": {},
   "outputs": [
    {
     "output_type": "execute_result",
     "data": {
      "text/plain": [
       "  uniprot_acc     dc\n",
       "0      P62258  0.086\n",
       "1      Q15172  0.107\n",
       "2      Q14738  0.159\n",
       "3      Q13362  0.065\n",
       "4      Q9Y3L3  0.359"
      ],
      "text/html": "<div>\n<style scoped>\n    .dataframe tbody tr th:only-of-type {\n        vertical-align: middle;\n    }\n\n    .dataframe tbody tr th {\n        vertical-align: top;\n    }\n\n    .dataframe thead th {\n        text-align: right;\n    }\n</style>\n<table border=\"1\" class=\"dataframe\">\n  <thead>\n    <tr style=\"text-align: right;\">\n      <th></th>\n      <th>uniprot_acc</th>\n      <th>dc</th>\n    </tr>\n  </thead>\n  <tbody>\n    <tr>\n      <th>0</th>\n      <td>P62258</td>\n      <td>0.086</td>\n    </tr>\n    <tr>\n      <th>1</th>\n      <td>Q15172</td>\n      <td>0.107</td>\n    </tr>\n    <tr>\n      <th>2</th>\n      <td>Q14738</td>\n      <td>0.159</td>\n    </tr>\n    <tr>\n      <th>3</th>\n      <td>Q13362</td>\n      <td>0.065</td>\n    </tr>\n    <tr>\n      <th>4</th>\n      <td>Q9Y3L3</td>\n      <td>0.359</td>\n    </tr>\n  </tbody>\n</table>\n</div>"
     },
     "metadata": {},
     "execution_count": 220
    }
   ],
   "source": [
    "# Mobidb disorder content\n",
    "mobidb = pd.read_csv('dc_mobidb_lite.csv').rename(columns={'uniprot': 'uniprot_acc'})\n",
    "mobidb.head()"
   ]
  },
  {
   "cell_type": "code",
   "execution_count": 226,
   "metadata": {},
   "outputs": [],
   "source": [
    "# Add disorder content\n",
    "Proteins = proteins.merge(mobidb, how= 'left')"
   ]
  },
  {
   "cell_type": "code",
   "execution_count": 255,
   "metadata": {},
   "outputs": [],
   "source": [
    "Proteins.rename(columns= {'dc': 'disorder_content'}, inplace= True)"
   ]
  },
  {
   "cell_type": "code",
   "execution_count": 256,
   "metadata": {},
   "outputs": [
    {
     "output_type": "execute_result",
     "data": {
      "text/plain": [
       "      id_protein uniprot_acc     hgnc_id   gene_id gene_name  length  \\\n",
       "0              1  A0A024RBG1  HGNC:18012  440672.0    NUDT4B    4369   \n",
       "1              2  A0A096LP55  HGNC:51714  440567.0    UQCRHL    4369   \n",
       "2              3  A0A0U1RRE5  HGNC:50713  550643.0      NBDY    4369   \n",
       "3              4      A0AV96  HGNC:30358   54502.0     RBM47    4369   \n",
       "4              5      A0FGR8  HGNC:22211   57488.0     ESYT2    4369   \n",
       "...          ...         ...         ...       ...       ...     ...   \n",
       "4364        4365      Q9UNL7         NaN       NaN       NaN    4369   \n",
       "4365        4366      Q9Y4C0   HGNC:8010    9369.0     NRXN3    4369   \n",
       "4366        4367      Q9Y649         NaN       NaN       NaN    4369   \n",
       "4367        4368      R4GMX3         NaN       NaN       NaN    4369   \n",
       "4368        4369      V9GYY5         NaN       NaN       NaN    4369   \n",
       "\n",
       "                                               sequence  disorder_content  \n",
       "0     MMKFKPNQTRTYDREGFKKRAACLCFRSEQEDEVLLVSSSRYPDQW...               NaN  \n",
       "1     MGLEDEQKMLTESGDPEEEEEEEEELVDPLTTVREQCEQLEKCVKA...             0.330  \n",
       "2     MGDQPCASGRSTLPPGNAREAKPPKKRCLLAPRWDYPEGTPNGGST...             1.000  \n",
       "3     MTAEDSTAAMSSDSAAGSSAKVPEGVAGAPNEAALLALMERTGYSM...             0.042  \n",
       "4     MTANRDAALSSHRHPGCAQRPRTPTFASSSQRRSAFGFDDGNFPGL...             0.215  \n",
       "...                                                 ...               ...  \n",
       "4364  KLDVEEPDSANSSFYSTRSAPASQASLRATSSTQSLARLGSPDYGN...               NaN  \n",
       "4365  MSSTLHSVFFTLKVSILLGSLLGLCLGLEFMGLPNQWARYLRWDAS...               NaN  \n",
       "4366  MNDLICFLDNTFKNNVLSQAWWCVHLVPTIWEAEAGGSLEPRSLKL...               NaN  \n",
       "4367  MELSESVQKGFQMLADPRSFDSNAFTLLLRAAFQSLLDAQADEAVL...             0.194  \n",
       "4368  KRDGDDRRPRLVLSFDEEKRREYLTGFHKRKVERKKAAIEEIKQRL...             0.466  \n",
       "\n",
       "[4369 rows x 8 columns]"
      ],
      "text/html": "<div>\n<style scoped>\n    .dataframe tbody tr th:only-of-type {\n        vertical-align: middle;\n    }\n\n    .dataframe tbody tr th {\n        vertical-align: top;\n    }\n\n    .dataframe thead th {\n        text-align: right;\n    }\n</style>\n<table border=\"1\" class=\"dataframe\">\n  <thead>\n    <tr style=\"text-align: right;\">\n      <th></th>\n      <th>id_protein</th>\n      <th>uniprot_acc</th>\n      <th>hgnc_id</th>\n      <th>gene_id</th>\n      <th>gene_name</th>\n      <th>length</th>\n      <th>sequence</th>\n      <th>disorder_content</th>\n    </tr>\n  </thead>\n  <tbody>\n    <tr>\n      <th>0</th>\n      <td>1</td>\n      <td>A0A024RBG1</td>\n      <td>HGNC:18012</td>\n      <td>440672.0</td>\n      <td>NUDT4B</td>\n      <td>4369</td>\n      <td>MMKFKPNQTRTYDREGFKKRAACLCFRSEQEDEVLLVSSSRYPDQW...</td>\n      <td>NaN</td>\n    </tr>\n    <tr>\n      <th>1</th>\n      <td>2</td>\n      <td>A0A096LP55</td>\n      <td>HGNC:51714</td>\n      <td>440567.0</td>\n      <td>UQCRHL</td>\n      <td>4369</td>\n      <td>MGLEDEQKMLTESGDPEEEEEEEEELVDPLTTVREQCEQLEKCVKA...</td>\n      <td>0.330</td>\n    </tr>\n    <tr>\n      <th>2</th>\n      <td>3</td>\n      <td>A0A0U1RRE5</td>\n      <td>HGNC:50713</td>\n      <td>550643.0</td>\n      <td>NBDY</td>\n      <td>4369</td>\n      <td>MGDQPCASGRSTLPPGNAREAKPPKKRCLLAPRWDYPEGTPNGGST...</td>\n      <td>1.000</td>\n    </tr>\n    <tr>\n      <th>3</th>\n      <td>4</td>\n      <td>A0AV96</td>\n      <td>HGNC:30358</td>\n      <td>54502.0</td>\n      <td>RBM47</td>\n      <td>4369</td>\n      <td>MTAEDSTAAMSSDSAAGSSAKVPEGVAGAPNEAALLALMERTGYSM...</td>\n      <td>0.042</td>\n    </tr>\n    <tr>\n      <th>4</th>\n      <td>5</td>\n      <td>A0FGR8</td>\n      <td>HGNC:22211</td>\n      <td>57488.0</td>\n      <td>ESYT2</td>\n      <td>4369</td>\n      <td>MTANRDAALSSHRHPGCAQRPRTPTFASSSQRRSAFGFDDGNFPGL...</td>\n      <td>0.215</td>\n    </tr>\n    <tr>\n      <th>...</th>\n      <td>...</td>\n      <td>...</td>\n      <td>...</td>\n      <td>...</td>\n      <td>...</td>\n      <td>...</td>\n      <td>...</td>\n      <td>...</td>\n    </tr>\n    <tr>\n      <th>4364</th>\n      <td>4365</td>\n      <td>Q9UNL7</td>\n      <td>NaN</td>\n      <td>NaN</td>\n      <td>NaN</td>\n      <td>4369</td>\n      <td>KLDVEEPDSANSSFYSTRSAPASQASLRATSSTQSLARLGSPDYGN...</td>\n      <td>NaN</td>\n    </tr>\n    <tr>\n      <th>4365</th>\n      <td>4366</td>\n      <td>Q9Y4C0</td>\n      <td>HGNC:8010</td>\n      <td>9369.0</td>\n      <td>NRXN3</td>\n      <td>4369</td>\n      <td>MSSTLHSVFFTLKVSILLGSLLGLCLGLEFMGLPNQWARYLRWDAS...</td>\n      <td>NaN</td>\n    </tr>\n    <tr>\n      <th>4366</th>\n      <td>4367</td>\n      <td>Q9Y649</td>\n      <td>NaN</td>\n      <td>NaN</td>\n      <td>NaN</td>\n      <td>4369</td>\n      <td>MNDLICFLDNTFKNNVLSQAWWCVHLVPTIWEAEAGGSLEPRSLKL...</td>\n      <td>NaN</td>\n    </tr>\n    <tr>\n      <th>4367</th>\n      <td>4368</td>\n      <td>R4GMX3</td>\n      <td>NaN</td>\n      <td>NaN</td>\n      <td>NaN</td>\n      <td>4369</td>\n      <td>MELSESVQKGFQMLADPRSFDSNAFTLLLRAAFQSLLDAQADEAVL...</td>\n      <td>0.194</td>\n    </tr>\n    <tr>\n      <th>4368</th>\n      <td>4369</td>\n      <td>V9GYY5</td>\n      <td>NaN</td>\n      <td>NaN</td>\n      <td>NaN</td>\n      <td>4369</td>\n      <td>KRDGDDRRPRLVLSFDEEKRREYLTGFHKRKVERKKAAIEEIKQRL...</td>\n      <td>0.466</td>\n    </tr>\n  </tbody>\n</table>\n<p>4369 rows × 8 columns</p>\n</div>"
     },
     "metadata": {},
     "execution_count": 256
    }
   ],
   "source": [
    "Proteins"
   ]
  },
  {
   "cell_type": "code",
   "execution_count": 257,
   "metadata": {},
   "outputs": [
    {
     "output_type": "stream",
     "name": "stdout",
     "text": [
      "<class 'pandas.core.frame.DataFrame'>\nInt64Index: 4369 entries, 0 to 4368\nData columns (total 8 columns):\n #   Column            Non-Null Count  Dtype  \n---  ------            --------------  -----  \n 0   id_protein        4369 non-null   int64  \n 1   uniprot_acc       4369 non-null   object \n 2   hgnc_id           4283 non-null   object \n 3   gene_id           4280 non-null   float64\n 4   gene_name         4283 non-null   object \n 5   length            4369 non-null   int64  \n 6   sequence          4367 non-null   object \n 7   disorder_content  2655 non-null   float64\ndtypes: float64(2), int64(2), object(4)\nmemory usage: 307.2+ KB\n"
     ]
    }
   ],
   "source": [
    "Proteins.info()"
   ]
  },
  {
   "cell_type": "code",
   "execution_count": 386,
   "metadata": {},
   "outputs": [],
   "source": [
    "Proteins.to_csv('db_tables/Proteins.tsv', sep='\\t', index= False)"
   ]
  }
 ]
}