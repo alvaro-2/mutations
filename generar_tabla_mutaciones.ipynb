{
 "metadata": {
  "language_info": {
   "codemirror_mode": {
    "name": "ipython",
    "version": 3
   },
   "file_extension": ".py",
   "mimetype": "text/x-python",
   "name": "python",
   "nbconvert_exporter": "python",
   "pygments_lexer": "ipython3",
   "version": "3.9.1"
  },
  "orig_nbformat": 2,
  "kernelspec": {
   "name": "python391jvsc74a57bd02647ea34e536f865ab67ff9ddee7fd78773d956cec0cab53c79b32cd10da5d83",
   "display_name": "Python 3.9.1 64-bit"
  },
  "metadata": {
   "interpreter": {
    "hash": "2647ea34e536f865ab67ff9ddee7fd78773d956cec0cab53c79b32cd10da5d83"
   }
  }
 },
 "nbformat": 4,
 "nbformat_minor": 2,
 "cells": [
  {
   "source": [
    "## script para generar tablas de mutaciones para base de datos"
   ],
   "cell_type": "markdown",
   "metadata": {}
  },
  {
   "cell_type": "code",
   "execution_count": 322,
   "metadata": {},
   "outputs": [],
   "source": [
    "import pandas as pd\n",
    "import numpy as np\n",
    "from Bio.SeqUtils import seq3"
   ]
  },
  {
   "cell_type": "code",
   "execution_count": 323,
   "metadata": {},
   "outputs": [],
   "source": [
    "clinvar = pd.read_csv('datasets/clinvar_box1_mutations.csv.gz', compression='gzip')\n",
    "disgenet = pd.read_csv('datasets/disgenet_box1_mutations.csv.gz', compression='gzip')\n",
    "uniprot = pd.read_csv('datasets/uniprot_box1_variants.csv')"
   ]
  },
  {
   "cell_type": "code",
   "execution_count": 324,
   "metadata": {},
   "outputs": [],
   "source": [
    "uniprot = pd.read_csv('datasets/uniprot_box1_variants.csv')"
   ]
  },
  {
   "cell_type": "code",
   "execution_count": 377,
   "metadata": {},
   "outputs": [],
   "source": [
    "box1 = pd.read_csv('box1_proteins.csv')"
   ]
  },
  {
   "cell_type": "code",
   "execution_count": 325,
   "metadata": {},
   "outputs": [],
   "source": [
    "clinvar = clinvar.rename(columns={'snpid': 'snp_id', 'geneid': 'gene_id', 'genesymbol': 'gene_name', 'start': 'start_genomic', 'stop': 'end_genomic', 'from': 'from_aa', 'to': 'to_aa'})"
   ]
  },
  {
   "cell_type": "code",
   "execution_count": 326,
   "metadata": {},
   "outputs": [
    {
     "output_type": "execute_result",
     "data": {
      "text/plain": [
       "      uniprot     hgnc_id  gene_id gene_name      snp_id chromosome  \\\n",
       "0      O95613  HGNC:16068     5116      PCNT   587784306         21   \n",
       "1      O95613  HGNC:16068     5116      PCNT  1555945478         21   \n",
       "2      O95613  HGNC:16068     5116      PCNT   562568796         21   \n",
       "3      O95613  HGNC:16068     5116      PCNT   759470656         21   \n",
       "4      P46100    HGNC:886      546      ATRX   398123423          X   \n",
       "...       ...         ...      ...       ...         ...        ...   \n",
       "23121  Q15233   HGNC:7871     4841      NONO  1057524408          X   \n",
       "23122  Q15233   HGNC:7871     4841      NONO  1085307870          X   \n",
       "23123  Q15233   HGNC:7871     4841      NONO  1555949215          X   \n",
       "23124  Q15233   HGNC:7871     4841      NONO  1602387702          X   \n",
       "23125  Q15233   HGNC:7871     4841      NONO          -1          X   \n",
       "\n",
       "       start_genomic  end_genomic            cambio consequence  start_aa  \\\n",
       "0           46334558     46334596  His156_Gln168del    deletion       156   \n",
       "1           46334536     46334613  Val148_Thr173del    deletion       148   \n",
       "2           46435981     46435983        Lys2944del    deletion      2944   \n",
       "3           46385936     46385938        Leu1141del    deletion      1141   \n",
       "4           77652292     77652294        Glu1464del    deletion      1464   \n",
       "...              ...          ...               ...         ...       ...   \n",
       "23121       71290740     71290740          Gln35Ter    nonsense        35   \n",
       "23122       71297442     71297442         Arg337Ter    nonsense       337   \n",
       "23123       71291841     71291841          Arg73Ter    nonsense        73   \n",
       "23124       71294428     71294428         Arg184Ter    nonsense       184   \n",
       "23125       71294335     71294335         Arg153Ter    nonsense       153   \n",
       "\n",
       "       end_aa from_aa to_aa   source  \n",
       "0       168.0  HisGln   NaN  clinvar  \n",
       "1       173.0  ValThr   NaN  clinvar  \n",
       "2         NaN     Lys   NaN  clinvar  \n",
       "3         NaN     Leu   NaN  clinvar  \n",
       "4         NaN     Glu   NaN  clinvar  \n",
       "...       ...     ...   ...      ...  \n",
       "23121     NaN     Gln   Ter  clinvar  \n",
       "23122     NaN     Arg   Ter  clinvar  \n",
       "23123     NaN     Arg   Ter  clinvar  \n",
       "23124     NaN     Arg   Ter  clinvar  \n",
       "23125     NaN     Arg   Ter  clinvar  \n",
       "\n",
       "[23126 rows x 15 columns]"
      ],
      "text/html": "<div>\n<style scoped>\n    .dataframe tbody tr th:only-of-type {\n        vertical-align: middle;\n    }\n\n    .dataframe tbody tr th {\n        vertical-align: top;\n    }\n\n    .dataframe thead th {\n        text-align: right;\n    }\n</style>\n<table border=\"1\" class=\"dataframe\">\n  <thead>\n    <tr style=\"text-align: right;\">\n      <th></th>\n      <th>uniprot</th>\n      <th>hgnc_id</th>\n      <th>gene_id</th>\n      <th>gene_name</th>\n      <th>snp_id</th>\n      <th>chromosome</th>\n      <th>start_genomic</th>\n      <th>end_genomic</th>\n      <th>cambio</th>\n      <th>consequence</th>\n      <th>start_aa</th>\n      <th>end_aa</th>\n      <th>from_aa</th>\n      <th>to_aa</th>\n      <th>source</th>\n    </tr>\n  </thead>\n  <tbody>\n    <tr>\n      <th>0</th>\n      <td>O95613</td>\n      <td>HGNC:16068</td>\n      <td>5116</td>\n      <td>PCNT</td>\n      <td>587784306</td>\n      <td>21</td>\n      <td>46334558</td>\n      <td>46334596</td>\n      <td>His156_Gln168del</td>\n      <td>deletion</td>\n      <td>156</td>\n      <td>168.0</td>\n      <td>HisGln</td>\n      <td>NaN</td>\n      <td>clinvar</td>\n    </tr>\n    <tr>\n      <th>1</th>\n      <td>O95613</td>\n      <td>HGNC:16068</td>\n      <td>5116</td>\n      <td>PCNT</td>\n      <td>1555945478</td>\n      <td>21</td>\n      <td>46334536</td>\n      <td>46334613</td>\n      <td>Val148_Thr173del</td>\n      <td>deletion</td>\n      <td>148</td>\n      <td>173.0</td>\n      <td>ValThr</td>\n      <td>NaN</td>\n      <td>clinvar</td>\n    </tr>\n    <tr>\n      <th>2</th>\n      <td>O95613</td>\n      <td>HGNC:16068</td>\n      <td>5116</td>\n      <td>PCNT</td>\n      <td>562568796</td>\n      <td>21</td>\n      <td>46435981</td>\n      <td>46435983</td>\n      <td>Lys2944del</td>\n      <td>deletion</td>\n      <td>2944</td>\n      <td>NaN</td>\n      <td>Lys</td>\n      <td>NaN</td>\n      <td>clinvar</td>\n    </tr>\n    <tr>\n      <th>3</th>\n      <td>O95613</td>\n      <td>HGNC:16068</td>\n      <td>5116</td>\n      <td>PCNT</td>\n      <td>759470656</td>\n      <td>21</td>\n      <td>46385936</td>\n      <td>46385938</td>\n      <td>Leu1141del</td>\n      <td>deletion</td>\n      <td>1141</td>\n      <td>NaN</td>\n      <td>Leu</td>\n      <td>NaN</td>\n      <td>clinvar</td>\n    </tr>\n    <tr>\n      <th>4</th>\n      <td>P46100</td>\n      <td>HGNC:886</td>\n      <td>546</td>\n      <td>ATRX</td>\n      <td>398123423</td>\n      <td>X</td>\n      <td>77652292</td>\n      <td>77652294</td>\n      <td>Glu1464del</td>\n      <td>deletion</td>\n      <td>1464</td>\n      <td>NaN</td>\n      <td>Glu</td>\n      <td>NaN</td>\n      <td>clinvar</td>\n    </tr>\n    <tr>\n      <th>...</th>\n      <td>...</td>\n      <td>...</td>\n      <td>...</td>\n      <td>...</td>\n      <td>...</td>\n      <td>...</td>\n      <td>...</td>\n      <td>...</td>\n      <td>...</td>\n      <td>...</td>\n      <td>...</td>\n      <td>...</td>\n      <td>...</td>\n      <td>...</td>\n      <td>...</td>\n    </tr>\n    <tr>\n      <th>23121</th>\n      <td>Q15233</td>\n      <td>HGNC:7871</td>\n      <td>4841</td>\n      <td>NONO</td>\n      <td>1057524408</td>\n      <td>X</td>\n      <td>71290740</td>\n      <td>71290740</td>\n      <td>Gln35Ter</td>\n      <td>nonsense</td>\n      <td>35</td>\n      <td>NaN</td>\n      <td>Gln</td>\n      <td>Ter</td>\n      <td>clinvar</td>\n    </tr>\n    <tr>\n      <th>23122</th>\n      <td>Q15233</td>\n      <td>HGNC:7871</td>\n      <td>4841</td>\n      <td>NONO</td>\n      <td>1085307870</td>\n      <td>X</td>\n      <td>71297442</td>\n      <td>71297442</td>\n      <td>Arg337Ter</td>\n      <td>nonsense</td>\n      <td>337</td>\n      <td>NaN</td>\n      <td>Arg</td>\n      <td>Ter</td>\n      <td>clinvar</td>\n    </tr>\n    <tr>\n      <th>23123</th>\n      <td>Q15233</td>\n      <td>HGNC:7871</td>\n      <td>4841</td>\n      <td>NONO</td>\n      <td>1555949215</td>\n      <td>X</td>\n      <td>71291841</td>\n      <td>71291841</td>\n      <td>Arg73Ter</td>\n      <td>nonsense</td>\n      <td>73</td>\n      <td>NaN</td>\n      <td>Arg</td>\n      <td>Ter</td>\n      <td>clinvar</td>\n    </tr>\n    <tr>\n      <th>23124</th>\n      <td>Q15233</td>\n      <td>HGNC:7871</td>\n      <td>4841</td>\n      <td>NONO</td>\n      <td>1602387702</td>\n      <td>X</td>\n      <td>71294428</td>\n      <td>71294428</td>\n      <td>Arg184Ter</td>\n      <td>nonsense</td>\n      <td>184</td>\n      <td>NaN</td>\n      <td>Arg</td>\n      <td>Ter</td>\n      <td>clinvar</td>\n    </tr>\n    <tr>\n      <th>23125</th>\n      <td>Q15233</td>\n      <td>HGNC:7871</td>\n      <td>4841</td>\n      <td>NONO</td>\n      <td>-1</td>\n      <td>X</td>\n      <td>71294335</td>\n      <td>71294335</td>\n      <td>Arg153Ter</td>\n      <td>nonsense</td>\n      <td>153</td>\n      <td>NaN</td>\n      <td>Arg</td>\n      <td>Ter</td>\n      <td>clinvar</td>\n    </tr>\n  </tbody>\n</table>\n<p>23126 rows × 15 columns</p>\n</div>"
     },
     "metadata": {},
     "execution_count": 326
    }
   ],
   "source": [
    "clinvar_subset = clinvar[['uniprot', 'hgnc_id', 'gene_id',\n",
    "       'gene_name', 'snp_id', 'chromosome', 'start_genomic', 'end_genomic', 'cambio', 'consequence',\n",
    "       'start_aa', 'end_aa', 'from_aa', 'to_aa', 'source']]\n",
    "clinvar_subset"
   ]
  },
  {
   "cell_type": "code",
   "execution_count": 327,
   "metadata": {},
   "outputs": [
    {
     "output_type": "execute_result",
     "data": {
      "text/plain": [
       "16367"
      ]
     },
     "metadata": {},
     "execution_count": 327
    }
   ],
   "source": [
    "len(clinvar.snp_id.unique())"
   ]
  },
  {
   "cell_type": "code",
   "execution_count": 328,
   "metadata": {},
   "outputs": [
    {
     "output_type": "execute_result",
     "data": {
      "text/plain": [
       "-1             5123\n",
       " 113070757       12\n",
       " 746430067        5\n",
       " 782576893        5\n",
       " 72550890         5\n",
       "               ... \n",
       " 150168649        1\n",
       " 1553265739       1\n",
       " 767837521        1\n",
       " 1554138189       1\n",
       " 1554581580       1\n",
       "Name: snp_id, Length: 16367, dtype: int64"
      ]
     },
     "metadata": {},
     "execution_count": 328
    }
   ],
   "source": [
    "clinvar.snp_id.value_counts() # hay snps repetidos"
   ]
  },
  {
   "cell_type": "code",
   "execution_count": 329,
   "metadata": {},
   "outputs": [
    {
     "output_type": "stream",
     "name": "stdout",
     "text": [
      "268    Pro187_Pro189del\n270    Pro188_Pro189del\n271           Pro189del\n591           Pro189dup\n592    Pro187_Pro189dup\nName: cambio, dtype: object\n"
     ]
    }
   ],
   "source": [
    "a = clinvar[clinvar.snp_id == 746430067]\n",
    "print(a.cambio)"
   ]
  },
  {
   "cell_type": "code",
   "execution_count": 330,
   "metadata": {},
   "outputs": [
    {
     "output_type": "execute_result",
     "data": {
      "text/plain": [
       "Index(['uniprot', 'organism', 'mlo', 'hgnc_id', 'length', 'sequence',\n",
       "       'gene_id', 'gene_name', 'snp_id', 'alleleid', 'chromosomeaccession',\n",
       "       'chromosome', 'start_genomic', 'end_genomic', 'type', 'name', 'origin',\n",
       "       'phenotypeids', 'phenotypelist', 'otherids', 'nuccore_id', 'cambio',\n",
       "       'consequence', 'start_aa', 'end_aa', 'from_aa', 'to_aa', 'source'],\n",
       "      dtype='object')"
      ]
     },
     "metadata": {},
     "execution_count": 330
    }
   ],
   "source": [
    "clinvar.columns"
   ]
  },
  {
   "cell_type": "code",
   "execution_count": 331,
   "metadata": {},
   "outputs": [
    {
     "output_type": "execute_result",
     "data": {
      "text/plain": [
       "Index(['uniprot', 'organism', 'mlo', 'hgnc_id', 'length', 'sequence', 'snp_id',\n",
       "       'chromosome', 'position', 'dsi', 'dpi', 'diseaseid', 'diseasename',\n",
       "       'diseasetype', 'diseaseclass', 'diseasesemantictype', 'score', 'ei',\n",
       "       'yearinitial', 'yearfinal', 'nofpmids', 'source', 'gene_name',\n",
       "       'gene_id', 'consequence', 'alleles', 'class', 'af_exome',\n",
       "       'alt_ref_exome', 'af_genome', 'alt_ref_genome', 'source_id'],\n",
       "      dtype='object')"
      ]
     },
     "metadata": {},
     "execution_count": 331
    }
   ],
   "source": [
    "disgenet.columns"
   ]
  },
  {
   "source": [
    "## todas las cols a comparar en mismo formato y tipo de dato"
   ],
   "cell_type": "markdown",
   "metadata": {}
  },
  {
   "cell_type": "code",
   "execution_count": 332,
   "metadata": {},
   "outputs": [
    {
     "output_type": "execute_result",
     "data": {
      "text/plain": [
       "0         104893751\n",
       "1          35233638\n",
       "2          35233638\n",
       "3         119479061\n",
       "4         119479062\n",
       "            ...    \n",
       "11544      79546472\n",
       "11545    1114167441\n",
       "11546     869025343\n",
       "11547     869025345\n",
       "11548     876661316\n",
       "Name: snp_id, Length: 11549, dtype: int64"
      ]
     },
     "metadata": {},
     "execution_count": 332
    }
   ],
   "source": [
    "# en la col snp de disgenet saco el rs y paso a int para comparar con clinvar\n",
    "disgenet.snp_id = disgenet.snp_id.str.strip('rs').apply(int)\n",
    "disgenet.snp_id"
   ]
  },
  {
   "cell_type": "code",
   "execution_count": 333,
   "metadata": {},
   "outputs": [
    {
     "output_type": "execute_result",
     "data": {
      "text/plain": [
       "0       104893751\n",
       "1        56053615\n",
       "2         1052133\n",
       "3         1805373\n",
       "4         1801128\n",
       "          ...    \n",
       "4089    104894163\n",
       "4090     11567901\n",
       "4091           -1\n",
       "4092           -1\n",
       "4093     17853616\n",
       "Name: snp_id, Length: 4094, dtype: int64"
      ]
     },
     "metadata": {},
     "execution_count": 333
    }
   ],
   "source": [
    "# eliminar el rs y paso a int\n",
    "uniprot.snp_id = uniprot.snp_id.str.strip('rs')\n",
    "uniprot.snp_id = uniprot.snp_id.replace('-', -1) # cambio los \"-\" por -1 asi toda la col sea INT\n",
    "uniprot.snp_id = uniprot.snp_id.apply(int)\n",
    "uniprot.snp_id"
   ]
  },
  {
   "source": [
    "## Busco todas las entradas de disgenet que esten en clinvar"
   ],
   "cell_type": "markdown",
   "metadata": {}
  },
  {
   "cell_type": "code",
   "execution_count": 334,
   "metadata": {},
   "outputs": [
    {
     "output_type": "execute_result",
     "data": {
      "text/plain": [
       "CLINVAR            7720\n",
       "GWASCAT            1774\n",
       "GWASDB              887\n",
       "UNIPROT             513\n",
       "CLINVAR;UNIPROT     498\n",
       "GWASCAT;GWASDB      156\n",
       "CLINVAR;GWASDB        1\n",
       "Name: source, dtype: int64"
      ]
     },
     "metadata": {},
     "execution_count": 334
    }
   ],
   "source": [
    "disgenet.source.value_counts()"
   ]
  },
  {
   "cell_type": "code",
   "execution_count": 335,
   "metadata": {},
   "outputs": [
    {
     "output_type": "execute_result",
     "data": {
      "text/plain": [
       "8219"
      ]
     },
     "metadata": {},
     "execution_count": 335
    }
   ],
   "source": [
    "disgenet_subset_clinvar = disgenet[(disgenet.source == 'CLINVAR') | (disgenet.source == 'CLINVAR;UNIPROT') | (disgenet.source == 'CLINVAR;GWASDB')]\n",
    "len(disgenet_subset_clinvar)"
   ]
  },
  {
   "cell_type": "code",
   "execution_count": 336,
   "metadata": {},
   "outputs": [
    {
     "output_type": "execute_result",
     "data": {
      "text/plain": [
       "3926"
      ]
     },
     "metadata": {},
     "execution_count": 336
    }
   ],
   "source": [
    "len(disgenet_subset_clinvar.snp_id.unique())"
   ]
  },
  {
   "cell_type": "code",
   "execution_count": 337,
   "metadata": {},
   "outputs": [
    {
     "output_type": "execute_result",
     "data": {
      "text/plain": [
       "1554700718    59\n",
       "1554333853    54\n",
       "1569355102    51\n",
       "11540652      42\n",
       "28934576      39\n",
       "              ..\n",
       "878854068      1\n",
       "772005832      1\n",
       "121912440      1\n",
       "1569558474     1\n",
       "878854136      1\n",
       "Name: snp_id, Length: 3926, dtype: int64"
      ]
     },
     "metadata": {},
     "execution_count": 337
    }
   ],
   "source": [
    "disgenet_subset_clinvar.snp_id.value_counts() # hay snps repetidos xq tienen un disease por fila"
   ]
  },
  {
   "source": [
    "## subseteo disgenet sin tener en cuenta los diseases asi me quedo con los snps unicos"
   ],
   "cell_type": "markdown",
   "metadata": {}
  },
  {
   "cell_type": "code",
   "execution_count": 338,
   "metadata": {},
   "outputs": [
    {
     "output_type": "execute_result",
     "data": {
      "text/plain": [
       "Index(['uniprot', 'hgnc_id', 'gene_id', 'gene_name', 'snp_id', 'chromosome',\n",
       "       'start_genomic', 'end_genomic', 'cambio', 'consequence', 'start_aa',\n",
       "       'end_aa', 'from_aa', 'to_aa', 'source'],\n",
       "      dtype='object')"
      ]
     },
     "metadata": {},
     "execution_count": 338
    }
   ],
   "source": [
    "clinvar_subset.columns"
   ]
  },
  {
   "cell_type": "code",
   "execution_count": 339,
   "metadata": {},
   "outputs": [
    {
     "output_type": "execute_result",
     "data": {
      "text/plain": [
       "Index(['uniprot', 'organism', 'mlo', 'hgnc_id', 'length', 'sequence', 'snp_id',\n",
       "       'chromosome', 'position', 'dsi', 'dpi', 'diseaseid', 'diseasename',\n",
       "       'diseasetype', 'diseaseclass', 'diseasesemantictype', 'score', 'ei',\n",
       "       'yearinitial', 'yearfinal', 'nofpmids', 'source', 'gene_name',\n",
       "       'gene_id', 'consequence', 'alleles', 'class', 'af_exome',\n",
       "       'alt_ref_exome', 'af_genome', 'alt_ref_genome', 'source_id'],\n",
       "      dtype='object')"
      ]
     },
     "metadata": {},
     "execution_count": 339
    }
   ],
   "source": [
    "disgenet.columns"
   ]
  },
  {
   "cell_type": "code",
   "execution_count": 340,
   "metadata": {},
   "outputs": [
    {
     "output_type": "execute_result",
     "data": {
      "text/plain": [
       "      uniprot     hgnc_id  gene_id gene_name      snp_id chromosome  \\\n",
       "0      O15527   HGNC:8125     4968      OGG1   104893751          3   \n",
       "3      O95613  HGNC:16068     5116      PCNT   119479061         21   \n",
       "4      O95613  HGNC:16068     5116      PCNT   119479062         21   \n",
       "5      O95613  HGNC:16068     5116      PCNT   119479063         21   \n",
       "6      O95613  HGNC:16068     5116      PCNT   119479064         21   \n",
       "...       ...         ...      ...       ...         ...        ...   \n",
       "11512  P23771   HGNC:4172     2625     GATA3   387906621         10   \n",
       "11545  Q15233   HGNC:7871     4841      NONO  1114167441          X   \n",
       "11546  Q15233   HGNC:7871     4841      NONO   869025343          X   \n",
       "11547  Q15233   HGNC:7871     4841      NONO   869025345          X   \n",
       "11548  Q15233   HGNC:7871     4841      NONO   876661316          X   \n",
       "\n",
       "         position            consequence   source  \n",
       "0       9750423.0       missense variant  CLINVAR  \n",
       "3      46346146.0            stop gained  CLINVAR  \n",
       "4      46411840.0            stop gained  CLINVAR  \n",
       "5      46367083.0            stop gained  CLINVAR  \n",
       "6      46435904.0            stop gained  CLINVAR  \n",
       "...           ...                    ...      ...  \n",
       "11512   8069573.0       missense variant  CLINVAR  \n",
       "11545  71298508.0       missense variant  CLINVAR  \n",
       "11546  71297938.0  splice region variant  CLINVAR  \n",
       "11547  71297900.0            stop gained  CLINVAR  \n",
       "11548  71298509.0   splice donor variant  CLINVAR  \n",
       "\n",
       "[8219 rows x 9 columns]"
      ],
      "text/html": "<div>\n<style scoped>\n    .dataframe tbody tr th:only-of-type {\n        vertical-align: middle;\n    }\n\n    .dataframe tbody tr th {\n        vertical-align: top;\n    }\n\n    .dataframe thead th {\n        text-align: right;\n    }\n</style>\n<table border=\"1\" class=\"dataframe\">\n  <thead>\n    <tr style=\"text-align: right;\">\n      <th></th>\n      <th>uniprot</th>\n      <th>hgnc_id</th>\n      <th>gene_id</th>\n      <th>gene_name</th>\n      <th>snp_id</th>\n      <th>chromosome</th>\n      <th>position</th>\n      <th>consequence</th>\n      <th>source</th>\n    </tr>\n  </thead>\n  <tbody>\n    <tr>\n      <th>0</th>\n      <td>O15527</td>\n      <td>HGNC:8125</td>\n      <td>4968</td>\n      <td>OGG1</td>\n      <td>104893751</td>\n      <td>3</td>\n      <td>9750423.0</td>\n      <td>missense variant</td>\n      <td>CLINVAR</td>\n    </tr>\n    <tr>\n      <th>3</th>\n      <td>O95613</td>\n      <td>HGNC:16068</td>\n      <td>5116</td>\n      <td>PCNT</td>\n      <td>119479061</td>\n      <td>21</td>\n      <td>46346146.0</td>\n      <td>stop gained</td>\n      <td>CLINVAR</td>\n    </tr>\n    <tr>\n      <th>4</th>\n      <td>O95613</td>\n      <td>HGNC:16068</td>\n      <td>5116</td>\n      <td>PCNT</td>\n      <td>119479062</td>\n      <td>21</td>\n      <td>46411840.0</td>\n      <td>stop gained</td>\n      <td>CLINVAR</td>\n    </tr>\n    <tr>\n      <th>5</th>\n      <td>O95613</td>\n      <td>HGNC:16068</td>\n      <td>5116</td>\n      <td>PCNT</td>\n      <td>119479063</td>\n      <td>21</td>\n      <td>46367083.0</td>\n      <td>stop gained</td>\n      <td>CLINVAR</td>\n    </tr>\n    <tr>\n      <th>6</th>\n      <td>O95613</td>\n      <td>HGNC:16068</td>\n      <td>5116</td>\n      <td>PCNT</td>\n      <td>119479064</td>\n      <td>21</td>\n      <td>46435904.0</td>\n      <td>stop gained</td>\n      <td>CLINVAR</td>\n    </tr>\n    <tr>\n      <th>...</th>\n      <td>...</td>\n      <td>...</td>\n      <td>...</td>\n      <td>...</td>\n      <td>...</td>\n      <td>...</td>\n      <td>...</td>\n      <td>...</td>\n      <td>...</td>\n    </tr>\n    <tr>\n      <th>11512</th>\n      <td>P23771</td>\n      <td>HGNC:4172</td>\n      <td>2625</td>\n      <td>GATA3</td>\n      <td>387906621</td>\n      <td>10</td>\n      <td>8069573.0</td>\n      <td>missense variant</td>\n      <td>CLINVAR</td>\n    </tr>\n    <tr>\n      <th>11545</th>\n      <td>Q15233</td>\n      <td>HGNC:7871</td>\n      <td>4841</td>\n      <td>NONO</td>\n      <td>1114167441</td>\n      <td>X</td>\n      <td>71298508.0</td>\n      <td>missense variant</td>\n      <td>CLINVAR</td>\n    </tr>\n    <tr>\n      <th>11546</th>\n      <td>Q15233</td>\n      <td>HGNC:7871</td>\n      <td>4841</td>\n      <td>NONO</td>\n      <td>869025343</td>\n      <td>X</td>\n      <td>71297938.0</td>\n      <td>splice region variant</td>\n      <td>CLINVAR</td>\n    </tr>\n    <tr>\n      <th>11547</th>\n      <td>Q15233</td>\n      <td>HGNC:7871</td>\n      <td>4841</td>\n      <td>NONO</td>\n      <td>869025345</td>\n      <td>X</td>\n      <td>71297900.0</td>\n      <td>stop gained</td>\n      <td>CLINVAR</td>\n    </tr>\n    <tr>\n      <th>11548</th>\n      <td>Q15233</td>\n      <td>HGNC:7871</td>\n      <td>4841</td>\n      <td>NONO</td>\n      <td>876661316</td>\n      <td>X</td>\n      <td>71298509.0</td>\n      <td>splice donor variant</td>\n      <td>CLINVAR</td>\n    </tr>\n  </tbody>\n</table>\n<p>8219 rows × 9 columns</p>\n</div>"
     },
     "metadata": {},
     "execution_count": 340
    }
   ],
   "source": [
    "disgenet_subset_clinvar = disgenet_subset_clinvar[['uniprot', 'hgnc_id','gene_id', 'gene_name', 'snp_id', 'chromosome', 'position', 'consequence', 'source']]\n",
    "disgenet_subset_clinvar"
   ]
  },
  {
   "cell_type": "code",
   "execution_count": 341,
   "metadata": {},
   "outputs": [
    {
     "output_type": "execute_result",
     "data": {
      "text/plain": [
       "missense variant                      3759\n",
       "frameshift variant                    1827\n",
       "stop gained                           1467\n",
       "splice donor variant                   416\n",
       "splice acceptor variant                361\n",
       "splice region variant                  153\n",
       "inframe deletion                        71\n",
       "non coding transcript exon variant      63\n",
       "intron variant                          33\n",
       "start lost                              14\n",
       "synonymous variant                      12\n",
       "inframe insertion                       10\n",
       "5 prime UTR variant                     10\n",
       "3 prime UTR variant                      7\n",
       "stop lost                                5\n",
       "protein altering variant                 5\n",
       "coding sequence variant                  4\n",
       "upstream gene variant                    2\n",
       "Name: consequence, dtype: int64"
      ]
     },
     "metadata": {},
     "execution_count": 341
    }
   ],
   "source": [
    "disgenet_subset_clinvar.consequence.value_counts()"
   ]
  },
  {
   "cell_type": "code",
   "execution_count": 342,
   "metadata": {},
   "outputs": [],
   "source": [
    "disgenet_subset_clinvar = disgenet_subset_clinvar.drop_duplicates(subset=['snp_id']) # 3926 snps unicos en disgenet con source de clinvar"
   ]
  },
  {
   "cell_type": "code",
   "execution_count": 343,
   "metadata": {},
   "outputs": [
    {
     "output_type": "execute_result",
     "data": {
      "text/plain": [
       "      uniprot     hgnc_id  gene_id gene_name      snp_id chromosome  \\\n",
       "0      O15527   HGNC:8125     4968      OGG1   104893751          3   \n",
       "3      O95613  HGNC:16068     5116      PCNT   119479061         21   \n",
       "4      O95613  HGNC:16068     5116      PCNT   119479062         21   \n",
       "5      O95613  HGNC:16068     5116      PCNT   119479063         21   \n",
       "6      O95613  HGNC:16068     5116      PCNT   119479064         21   \n",
       "...       ...         ...      ...       ...         ...        ...   \n",
       "11512  P23771   HGNC:4172     2625     GATA3   387906621         10   \n",
       "11545  Q15233   HGNC:7871     4841      NONO  1114167441          X   \n",
       "11546  Q15233   HGNC:7871     4841      NONO   869025343          X   \n",
       "11547  Q15233   HGNC:7871     4841      NONO   869025345          X   \n",
       "11548  Q15233   HGNC:7871     4841      NONO   876661316          X   \n",
       "\n",
       "         position            consequence   source  \n",
       "0       9750423.0       missense variant  CLINVAR  \n",
       "3      46346146.0            stop gained  CLINVAR  \n",
       "4      46411840.0            stop gained  CLINVAR  \n",
       "5      46367083.0            stop gained  CLINVAR  \n",
       "6      46435904.0            stop gained  CLINVAR  \n",
       "...           ...                    ...      ...  \n",
       "11512   8069573.0       missense variant  CLINVAR  \n",
       "11545  71298508.0       missense variant  CLINVAR  \n",
       "11546  71297938.0  splice region variant  CLINVAR  \n",
       "11547  71297900.0            stop gained  CLINVAR  \n",
       "11548  71298509.0   splice donor variant  CLINVAR  \n",
       "\n",
       "[3926 rows x 9 columns]"
      ],
      "text/html": "<div>\n<style scoped>\n    .dataframe tbody tr th:only-of-type {\n        vertical-align: middle;\n    }\n\n    .dataframe tbody tr th {\n        vertical-align: top;\n    }\n\n    .dataframe thead th {\n        text-align: right;\n    }\n</style>\n<table border=\"1\" class=\"dataframe\">\n  <thead>\n    <tr style=\"text-align: right;\">\n      <th></th>\n      <th>uniprot</th>\n      <th>hgnc_id</th>\n      <th>gene_id</th>\n      <th>gene_name</th>\n      <th>snp_id</th>\n      <th>chromosome</th>\n      <th>position</th>\n      <th>consequence</th>\n      <th>source</th>\n    </tr>\n  </thead>\n  <tbody>\n    <tr>\n      <th>0</th>\n      <td>O15527</td>\n      <td>HGNC:8125</td>\n      <td>4968</td>\n      <td>OGG1</td>\n      <td>104893751</td>\n      <td>3</td>\n      <td>9750423.0</td>\n      <td>missense variant</td>\n      <td>CLINVAR</td>\n    </tr>\n    <tr>\n      <th>3</th>\n      <td>O95613</td>\n      <td>HGNC:16068</td>\n      <td>5116</td>\n      <td>PCNT</td>\n      <td>119479061</td>\n      <td>21</td>\n      <td>46346146.0</td>\n      <td>stop gained</td>\n      <td>CLINVAR</td>\n    </tr>\n    <tr>\n      <th>4</th>\n      <td>O95613</td>\n      <td>HGNC:16068</td>\n      <td>5116</td>\n      <td>PCNT</td>\n      <td>119479062</td>\n      <td>21</td>\n      <td>46411840.0</td>\n      <td>stop gained</td>\n      <td>CLINVAR</td>\n    </tr>\n    <tr>\n      <th>5</th>\n      <td>O95613</td>\n      <td>HGNC:16068</td>\n      <td>5116</td>\n      <td>PCNT</td>\n      <td>119479063</td>\n      <td>21</td>\n      <td>46367083.0</td>\n      <td>stop gained</td>\n      <td>CLINVAR</td>\n    </tr>\n    <tr>\n      <th>6</th>\n      <td>O95613</td>\n      <td>HGNC:16068</td>\n      <td>5116</td>\n      <td>PCNT</td>\n      <td>119479064</td>\n      <td>21</td>\n      <td>46435904.0</td>\n      <td>stop gained</td>\n      <td>CLINVAR</td>\n    </tr>\n    <tr>\n      <th>...</th>\n      <td>...</td>\n      <td>...</td>\n      <td>...</td>\n      <td>...</td>\n      <td>...</td>\n      <td>...</td>\n      <td>...</td>\n      <td>...</td>\n      <td>...</td>\n    </tr>\n    <tr>\n      <th>11512</th>\n      <td>P23771</td>\n      <td>HGNC:4172</td>\n      <td>2625</td>\n      <td>GATA3</td>\n      <td>387906621</td>\n      <td>10</td>\n      <td>8069573.0</td>\n      <td>missense variant</td>\n      <td>CLINVAR</td>\n    </tr>\n    <tr>\n      <th>11545</th>\n      <td>Q15233</td>\n      <td>HGNC:7871</td>\n      <td>4841</td>\n      <td>NONO</td>\n      <td>1114167441</td>\n      <td>X</td>\n      <td>71298508.0</td>\n      <td>missense variant</td>\n      <td>CLINVAR</td>\n    </tr>\n    <tr>\n      <th>11546</th>\n      <td>Q15233</td>\n      <td>HGNC:7871</td>\n      <td>4841</td>\n      <td>NONO</td>\n      <td>869025343</td>\n      <td>X</td>\n      <td>71297938.0</td>\n      <td>splice region variant</td>\n      <td>CLINVAR</td>\n    </tr>\n    <tr>\n      <th>11547</th>\n      <td>Q15233</td>\n      <td>HGNC:7871</td>\n      <td>4841</td>\n      <td>NONO</td>\n      <td>869025345</td>\n      <td>X</td>\n      <td>71297900.0</td>\n      <td>stop gained</td>\n      <td>CLINVAR</td>\n    </tr>\n    <tr>\n      <th>11548</th>\n      <td>Q15233</td>\n      <td>HGNC:7871</td>\n      <td>4841</td>\n      <td>NONO</td>\n      <td>876661316</td>\n      <td>X</td>\n      <td>71298509.0</td>\n      <td>splice donor variant</td>\n      <td>CLINVAR</td>\n    </tr>\n  </tbody>\n</table>\n<p>3926 rows × 9 columns</p>\n</div>"
     },
     "metadata": {},
     "execution_count": 343
    }
   ],
   "source": [
    "disgenet_subset_clinvar"
   ]
  },
  {
   "source": [
    "# Disgenet con Clinvar\n",
    "## Buscar los snps de disgenet con source \"clinvar\" en el dataset de clinvar"
   ],
   "cell_type": "markdown",
   "metadata": {}
  },
  {
   "cell_type": "code",
   "execution_count": 344,
   "metadata": {},
   "outputs": [
    {
     "output_type": "execute_result",
     "data": {
      "text/plain": [
       "      uniprot     hgnc_id  gene_id gene_name      snp_id chromosome  \\\n",
       "19     Q96FC9   HGNC:2736     1663     DDX11   730880280         12   \n",
       "29     P18583  HGNC:11183     6651       SON   769691894         21   \n",
       "30     P18583  HGNC:11183     6651       SON  1569058041         21   \n",
       "76     P04637  HGNC:11998     7157      TP53   587782490         17   \n",
       "79     P04637  HGNC:11998     7157      TP53   876659260         17   \n",
       "...       ...         ...      ...       ...         ...        ...   \n",
       "23116  P04156   HGNC:9449     5621      PRNP    17852079         20   \n",
       "23117  P04156   HGNC:9449     5621      PRNP  1555782101         20   \n",
       "23118  P23771   HGNC:4172     2625     GATA3   104894162         10   \n",
       "23119  P23771   HGNC:4172     2625     GATA3   104894164         10   \n",
       "23120  Q15233   HGNC:7871     4841      NONO   869025345          X   \n",
       "\n",
       "       start_genomic  end_genomic              cambio consequence  start_aa  \\\n",
       "19          31103727     31103729           Lys897del    deletion       897   \n",
       "29          33553375     33553398  Leu1384_Val1391del    deletion      1384   \n",
       "30          33554229     33554243  Asp1667_Asn1671del    deletion      1667   \n",
       "76           7676030      7676041    Arg110_Phe113del    deletion       110   \n",
       "79           7674227      7674247    Asn239_Gly245del    deletion       239   \n",
       "...              ...          ...                 ...         ...       ...   \n",
       "23116        4699899      4699899           Gln227Ter    nonsense       227   \n",
       "23117        4699709      4699709           Tyr163Ter    nonsense       163   \n",
       "23118        8064043      8064043           Arg277Ter    nonsense       277   \n",
       "23119        8073787      8073787           Arg367Ter    nonsense       367   \n",
       "23120       71297900     71297900           Arg365Ter    nonsense       365   \n",
       "\n",
       "       end_aa from_aa to_aa   source  \n",
       "19        NaN     Lys   NaN  clinvar  \n",
       "29     1391.0  LeuVal   NaN  clinvar  \n",
       "30     1671.0  AspAsn   NaN  clinvar  \n",
       "76      113.0  ArgPhe   NaN  clinvar  \n",
       "79      245.0  AsnGly   NaN  clinvar  \n",
       "...       ...     ...   ...      ...  \n",
       "23116     NaN     Gln   Ter  clinvar  \n",
       "23117     NaN     Tyr   Ter  clinvar  \n",
       "23118     NaN     Arg   Ter  clinvar  \n",
       "23119     NaN     Arg   Ter  clinvar  \n",
       "23120     NaN     Arg   Ter  clinvar  \n",
       "\n",
       "[3812 rows x 15 columns]"
      ],
      "text/html": "<div>\n<style scoped>\n    .dataframe tbody tr th:only-of-type {\n        vertical-align: middle;\n    }\n\n    .dataframe tbody tr th {\n        vertical-align: top;\n    }\n\n    .dataframe thead th {\n        text-align: right;\n    }\n</style>\n<table border=\"1\" class=\"dataframe\">\n  <thead>\n    <tr style=\"text-align: right;\">\n      <th></th>\n      <th>uniprot</th>\n      <th>hgnc_id</th>\n      <th>gene_id</th>\n      <th>gene_name</th>\n      <th>snp_id</th>\n      <th>chromosome</th>\n      <th>start_genomic</th>\n      <th>end_genomic</th>\n      <th>cambio</th>\n      <th>consequence</th>\n      <th>start_aa</th>\n      <th>end_aa</th>\n      <th>from_aa</th>\n      <th>to_aa</th>\n      <th>source</th>\n    </tr>\n  </thead>\n  <tbody>\n    <tr>\n      <th>19</th>\n      <td>Q96FC9</td>\n      <td>HGNC:2736</td>\n      <td>1663</td>\n      <td>DDX11</td>\n      <td>730880280</td>\n      <td>12</td>\n      <td>31103727</td>\n      <td>31103729</td>\n      <td>Lys897del</td>\n      <td>deletion</td>\n      <td>897</td>\n      <td>NaN</td>\n      <td>Lys</td>\n      <td>NaN</td>\n      <td>clinvar</td>\n    </tr>\n    <tr>\n      <th>29</th>\n      <td>P18583</td>\n      <td>HGNC:11183</td>\n      <td>6651</td>\n      <td>SON</td>\n      <td>769691894</td>\n      <td>21</td>\n      <td>33553375</td>\n      <td>33553398</td>\n      <td>Leu1384_Val1391del</td>\n      <td>deletion</td>\n      <td>1384</td>\n      <td>1391.0</td>\n      <td>LeuVal</td>\n      <td>NaN</td>\n      <td>clinvar</td>\n    </tr>\n    <tr>\n      <th>30</th>\n      <td>P18583</td>\n      <td>HGNC:11183</td>\n      <td>6651</td>\n      <td>SON</td>\n      <td>1569058041</td>\n      <td>21</td>\n      <td>33554229</td>\n      <td>33554243</td>\n      <td>Asp1667_Asn1671del</td>\n      <td>deletion</td>\n      <td>1667</td>\n      <td>1671.0</td>\n      <td>AspAsn</td>\n      <td>NaN</td>\n      <td>clinvar</td>\n    </tr>\n    <tr>\n      <th>76</th>\n      <td>P04637</td>\n      <td>HGNC:11998</td>\n      <td>7157</td>\n      <td>TP53</td>\n      <td>587782490</td>\n      <td>17</td>\n      <td>7676030</td>\n      <td>7676041</td>\n      <td>Arg110_Phe113del</td>\n      <td>deletion</td>\n      <td>110</td>\n      <td>113.0</td>\n      <td>ArgPhe</td>\n      <td>NaN</td>\n      <td>clinvar</td>\n    </tr>\n    <tr>\n      <th>79</th>\n      <td>P04637</td>\n      <td>HGNC:11998</td>\n      <td>7157</td>\n      <td>TP53</td>\n      <td>876659260</td>\n      <td>17</td>\n      <td>7674227</td>\n      <td>7674247</td>\n      <td>Asn239_Gly245del</td>\n      <td>deletion</td>\n      <td>239</td>\n      <td>245.0</td>\n      <td>AsnGly</td>\n      <td>NaN</td>\n      <td>clinvar</td>\n    </tr>\n    <tr>\n      <th>...</th>\n      <td>...</td>\n      <td>...</td>\n      <td>...</td>\n      <td>...</td>\n      <td>...</td>\n      <td>...</td>\n      <td>...</td>\n      <td>...</td>\n      <td>...</td>\n      <td>...</td>\n      <td>...</td>\n      <td>...</td>\n      <td>...</td>\n      <td>...</td>\n      <td>...</td>\n    </tr>\n    <tr>\n      <th>23116</th>\n      <td>P04156</td>\n      <td>HGNC:9449</td>\n      <td>5621</td>\n      <td>PRNP</td>\n      <td>17852079</td>\n      <td>20</td>\n      <td>4699899</td>\n      <td>4699899</td>\n      <td>Gln227Ter</td>\n      <td>nonsense</td>\n      <td>227</td>\n      <td>NaN</td>\n      <td>Gln</td>\n      <td>Ter</td>\n      <td>clinvar</td>\n    </tr>\n    <tr>\n      <th>23117</th>\n      <td>P04156</td>\n      <td>HGNC:9449</td>\n      <td>5621</td>\n      <td>PRNP</td>\n      <td>1555782101</td>\n      <td>20</td>\n      <td>4699709</td>\n      <td>4699709</td>\n      <td>Tyr163Ter</td>\n      <td>nonsense</td>\n      <td>163</td>\n      <td>NaN</td>\n      <td>Tyr</td>\n      <td>Ter</td>\n      <td>clinvar</td>\n    </tr>\n    <tr>\n      <th>23118</th>\n      <td>P23771</td>\n      <td>HGNC:4172</td>\n      <td>2625</td>\n      <td>GATA3</td>\n      <td>104894162</td>\n      <td>10</td>\n      <td>8064043</td>\n      <td>8064043</td>\n      <td>Arg277Ter</td>\n      <td>nonsense</td>\n      <td>277</td>\n      <td>NaN</td>\n      <td>Arg</td>\n      <td>Ter</td>\n      <td>clinvar</td>\n    </tr>\n    <tr>\n      <th>23119</th>\n      <td>P23771</td>\n      <td>HGNC:4172</td>\n      <td>2625</td>\n      <td>GATA3</td>\n      <td>104894164</td>\n      <td>10</td>\n      <td>8073787</td>\n      <td>8073787</td>\n      <td>Arg367Ter</td>\n      <td>nonsense</td>\n      <td>367</td>\n      <td>NaN</td>\n      <td>Arg</td>\n      <td>Ter</td>\n      <td>clinvar</td>\n    </tr>\n    <tr>\n      <th>23120</th>\n      <td>Q15233</td>\n      <td>HGNC:7871</td>\n      <td>4841</td>\n      <td>NONO</td>\n      <td>869025345</td>\n      <td>X</td>\n      <td>71297900</td>\n      <td>71297900</td>\n      <td>Arg365Ter</td>\n      <td>nonsense</td>\n      <td>365</td>\n      <td>NaN</td>\n      <td>Arg</td>\n      <td>Ter</td>\n      <td>clinvar</td>\n    </tr>\n  </tbody>\n</table>\n<p>3812 rows × 15 columns</p>\n</div>"
     },
     "metadata": {},
     "execution_count": 344
    }
   ],
   "source": [
    "# con isin\n",
    "disgenet_en_clinvar = clinvar_subset[clinvar_subset.snp_id.isin(disgenet_subset_clinvar.snp_id)] # estoy subseteando clinvar, no fusionando las tablas\n",
    "disgenet_en_clinvar"
   ]
  },
  {
   "cell_type": "code",
   "execution_count": 345,
   "metadata": {},
   "outputs": [
    {
     "output_type": "execute_result",
     "data": {
      "text/plain": [
       "587776585     4\n",
       "1057519744    4\n",
       "63750264      3\n",
       "587778720     3\n",
       "143985153     3\n",
       "             ..\n",
       "1161032867    1\n",
       "398122893     1\n",
       "1555619402    1\n",
       "786203589     1\n",
       "1555611570    1\n",
       "Name: snp_id, Length: 3180, dtype: int64"
      ]
     },
     "metadata": {},
     "execution_count": 345
    }
   ],
   "source": [
    "disgenet_en_clinvar.snp_id.value_counts()"
   ]
  },
  {
   "cell_type": "code",
   "execution_count": 346,
   "metadata": {},
   "outputs": [
    {
     "output_type": "execute_result",
     "data": {
      "text/plain": [
       "     uniprot    hgnc_id  gene_id gene_name      snp_id chromosome  \\\n",
       "1148  P06748  HGNC:7910     4869      NPM1  1057519744          5   \n",
       "1149  P06748  HGNC:7910     4869      NPM1  1057519744          5   \n",
       "1150  P06748  HGNC:7910     4869      NPM1  1057519744          5   \n",
       "1151  P06748  HGNC:7910     4869      NPM1  1057519744          5   \n",
       "\n",
       "      start_genomic  end_genomic    cambio consequence  start_aa  end_aa  \\\n",
       "1148      171410542    171410543  Trp288fs  frameshift       288     NaN   \n",
       "1149      171410542    171410543  Trp288fs  frameshift       288     NaN   \n",
       "1150      171410542    171410543  Trp288fs  frameshift       288     NaN   \n",
       "1151      171410542    171410543  Trp288fs  frameshift       288     NaN   \n",
       "\n",
       "     from_aa to_aa   source  \n",
       "1148     Trp   NaN  clinvar  \n",
       "1149     Trp   NaN  clinvar  \n",
       "1150     Trp   NaN  clinvar  \n",
       "1151     Trp   NaN  clinvar  "
      ],
      "text/html": "<div>\n<style scoped>\n    .dataframe tbody tr th:only-of-type {\n        vertical-align: middle;\n    }\n\n    .dataframe tbody tr th {\n        vertical-align: top;\n    }\n\n    .dataframe thead th {\n        text-align: right;\n    }\n</style>\n<table border=\"1\" class=\"dataframe\">\n  <thead>\n    <tr style=\"text-align: right;\">\n      <th></th>\n      <th>uniprot</th>\n      <th>hgnc_id</th>\n      <th>gene_id</th>\n      <th>gene_name</th>\n      <th>snp_id</th>\n      <th>chromosome</th>\n      <th>start_genomic</th>\n      <th>end_genomic</th>\n      <th>cambio</th>\n      <th>consequence</th>\n      <th>start_aa</th>\n      <th>end_aa</th>\n      <th>from_aa</th>\n      <th>to_aa</th>\n      <th>source</th>\n    </tr>\n  </thead>\n  <tbody>\n    <tr>\n      <th>1148</th>\n      <td>P06748</td>\n      <td>HGNC:7910</td>\n      <td>4869</td>\n      <td>NPM1</td>\n      <td>1057519744</td>\n      <td>5</td>\n      <td>171410542</td>\n      <td>171410543</td>\n      <td>Trp288fs</td>\n      <td>frameshift</td>\n      <td>288</td>\n      <td>NaN</td>\n      <td>Trp</td>\n      <td>NaN</td>\n      <td>clinvar</td>\n    </tr>\n    <tr>\n      <th>1149</th>\n      <td>P06748</td>\n      <td>HGNC:7910</td>\n      <td>4869</td>\n      <td>NPM1</td>\n      <td>1057519744</td>\n      <td>5</td>\n      <td>171410542</td>\n      <td>171410543</td>\n      <td>Trp288fs</td>\n      <td>frameshift</td>\n      <td>288</td>\n      <td>NaN</td>\n      <td>Trp</td>\n      <td>NaN</td>\n      <td>clinvar</td>\n    </tr>\n    <tr>\n      <th>1150</th>\n      <td>P06748</td>\n      <td>HGNC:7910</td>\n      <td>4869</td>\n      <td>NPM1</td>\n      <td>1057519744</td>\n      <td>5</td>\n      <td>171410542</td>\n      <td>171410543</td>\n      <td>Trp288fs</td>\n      <td>frameshift</td>\n      <td>288</td>\n      <td>NaN</td>\n      <td>Trp</td>\n      <td>NaN</td>\n      <td>clinvar</td>\n    </tr>\n    <tr>\n      <th>1151</th>\n      <td>P06748</td>\n      <td>HGNC:7910</td>\n      <td>4869</td>\n      <td>NPM1</td>\n      <td>1057519744</td>\n      <td>5</td>\n      <td>171410542</td>\n      <td>171410543</td>\n      <td>Trp288fs</td>\n      <td>frameshift</td>\n      <td>288</td>\n      <td>NaN</td>\n      <td>Trp</td>\n      <td>NaN</td>\n      <td>clinvar</td>\n    </tr>\n  </tbody>\n</table>\n</div>"
     },
     "metadata": {},
     "execution_count": 346
    }
   ],
   "source": [
    "disgenet_en_clinvar[disgenet_en_clinvar.snp_id == 1057519744]"
   ]
  },
  {
   "cell_type": "code",
   "execution_count": 347,
   "metadata": {},
   "outputs": [
    {
     "output_type": "execute_result",
     "data": {
      "text/plain": [
       "3180"
      ]
     },
     "metadata": {},
     "execution_count": 347
    }
   ],
   "source": [
    "len(disgenet_en_clinvar.snp_id.unique())"
   ]
  },
  {
   "cell_type": "code",
   "execution_count": 348,
   "metadata": {},
   "outputs": [],
   "source": [
    "#clinvar_subset.merge(disgenet_subset_clinvar, left_on=['snp_id'], right_on=['snp_id']) # dan lo mismo, pero aca estoy combinando las tablas"
   ]
  },
  {
   "cell_type": "code",
   "execution_count": 349,
   "metadata": {},
   "outputs": [
    {
     "output_type": "execute_result",
     "data": {
      "text/plain": [
       "      uniprot     hgnc_id  gene_id gene_name      snp_id chromosome  \\\n",
       "12     O95613  HGNC:16068     5116      PCNT  1555954786         21   \n",
       "14     O95613  HGNC:16068     5116      PCNT  1555959737         21   \n",
       "18     O95613  HGNC:16068     5116      PCNT  1569178877         21   \n",
       "33     O95613  HGNC:16068     5116      PCNT   755084205         21   \n",
       "52     P38159   HGNC:9910    27316      RBMX   181515589          X   \n",
       "...       ...         ...      ...       ...         ...        ...   \n",
       "11338  P03372   HGNC:3467     2099      ESR1  1562787582          6   \n",
       "11490  P23771   HGNC:4172     2625     GATA3   112417755         10   \n",
       "11511  P23771   HGNC:4172     2625     GATA3   387906551         10   \n",
       "11546  Q15233   HGNC:7871     4841      NONO   869025343          X   \n",
       "11548  Q15233   HGNC:7871     4841      NONO   876661316          X   \n",
       "\n",
       "          position              consequence   source  \n",
       "12      46353985.0  splice acceptor variant  CLINVAR  \n",
       "14      46363457.0  splice acceptor variant  CLINVAR  \n",
       "18      46347513.0     splice donor variant  CLINVAR  \n",
       "33      46388741.0  splice acceptor variant  CLINVAR  \n",
       "52     136876663.0    splice region variant  CLINVAR  \n",
       "...            ...                      ...      ...  \n",
       "11338  152099207.0      3 prime UTR variant  CLINVAR  \n",
       "11490    8073738.0  splice acceptor variant  CLINVAR  \n",
       "11511    8064140.0     splice donor variant  CLINVAR  \n",
       "11546   71297938.0    splice region variant  CLINVAR  \n",
       "11548   71298509.0     splice donor variant  CLINVAR  \n",
       "\n",
       "[746 rows x 9 columns]"
      ],
      "text/html": "<div>\n<style scoped>\n    .dataframe tbody tr th:only-of-type {\n        vertical-align: middle;\n    }\n\n    .dataframe tbody tr th {\n        vertical-align: top;\n    }\n\n    .dataframe thead th {\n        text-align: right;\n    }\n</style>\n<table border=\"1\" class=\"dataframe\">\n  <thead>\n    <tr style=\"text-align: right;\">\n      <th></th>\n      <th>uniprot</th>\n      <th>hgnc_id</th>\n      <th>gene_id</th>\n      <th>gene_name</th>\n      <th>snp_id</th>\n      <th>chromosome</th>\n      <th>position</th>\n      <th>consequence</th>\n      <th>source</th>\n    </tr>\n  </thead>\n  <tbody>\n    <tr>\n      <th>12</th>\n      <td>O95613</td>\n      <td>HGNC:16068</td>\n      <td>5116</td>\n      <td>PCNT</td>\n      <td>1555954786</td>\n      <td>21</td>\n      <td>46353985.0</td>\n      <td>splice acceptor variant</td>\n      <td>CLINVAR</td>\n    </tr>\n    <tr>\n      <th>14</th>\n      <td>O95613</td>\n      <td>HGNC:16068</td>\n      <td>5116</td>\n      <td>PCNT</td>\n      <td>1555959737</td>\n      <td>21</td>\n      <td>46363457.0</td>\n      <td>splice acceptor variant</td>\n      <td>CLINVAR</td>\n    </tr>\n    <tr>\n      <th>18</th>\n      <td>O95613</td>\n      <td>HGNC:16068</td>\n      <td>5116</td>\n      <td>PCNT</td>\n      <td>1569178877</td>\n      <td>21</td>\n      <td>46347513.0</td>\n      <td>splice donor variant</td>\n      <td>CLINVAR</td>\n    </tr>\n    <tr>\n      <th>33</th>\n      <td>O95613</td>\n      <td>HGNC:16068</td>\n      <td>5116</td>\n      <td>PCNT</td>\n      <td>755084205</td>\n      <td>21</td>\n      <td>46388741.0</td>\n      <td>splice acceptor variant</td>\n      <td>CLINVAR</td>\n    </tr>\n    <tr>\n      <th>52</th>\n      <td>P38159</td>\n      <td>HGNC:9910</td>\n      <td>27316</td>\n      <td>RBMX</td>\n      <td>181515589</td>\n      <td>X</td>\n      <td>136876663.0</td>\n      <td>splice region variant</td>\n      <td>CLINVAR</td>\n    </tr>\n    <tr>\n      <th>...</th>\n      <td>...</td>\n      <td>...</td>\n      <td>...</td>\n      <td>...</td>\n      <td>...</td>\n      <td>...</td>\n      <td>...</td>\n      <td>...</td>\n      <td>...</td>\n    </tr>\n    <tr>\n      <th>11338</th>\n      <td>P03372</td>\n      <td>HGNC:3467</td>\n      <td>2099</td>\n      <td>ESR1</td>\n      <td>1562787582</td>\n      <td>6</td>\n      <td>152099207.0</td>\n      <td>3 prime UTR variant</td>\n      <td>CLINVAR</td>\n    </tr>\n    <tr>\n      <th>11490</th>\n      <td>P23771</td>\n      <td>HGNC:4172</td>\n      <td>2625</td>\n      <td>GATA3</td>\n      <td>112417755</td>\n      <td>10</td>\n      <td>8073738.0</td>\n      <td>splice acceptor variant</td>\n      <td>CLINVAR</td>\n    </tr>\n    <tr>\n      <th>11511</th>\n      <td>P23771</td>\n      <td>HGNC:4172</td>\n      <td>2625</td>\n      <td>GATA3</td>\n      <td>387906551</td>\n      <td>10</td>\n      <td>8064140.0</td>\n      <td>splice donor variant</td>\n      <td>CLINVAR</td>\n    </tr>\n    <tr>\n      <th>11546</th>\n      <td>Q15233</td>\n      <td>HGNC:7871</td>\n      <td>4841</td>\n      <td>NONO</td>\n      <td>869025343</td>\n      <td>X</td>\n      <td>71297938.0</td>\n      <td>splice region variant</td>\n      <td>CLINVAR</td>\n    </tr>\n    <tr>\n      <th>11548</th>\n      <td>Q15233</td>\n      <td>HGNC:7871</td>\n      <td>4841</td>\n      <td>NONO</td>\n      <td>876661316</td>\n      <td>X</td>\n      <td>71298509.0</td>\n      <td>splice donor variant</td>\n      <td>CLINVAR</td>\n    </tr>\n  </tbody>\n</table>\n<p>746 rows × 9 columns</p>\n</div>"
     },
     "metadata": {},
     "execution_count": 349
    }
   ],
   "source": [
    "keep = ~disgenet_subset_clinvar.snp_id.isin(disgenet_en_clinvar.snp_id) # get only what is unique (or not in) disgenet_en_clinvar\n",
    "entradas_disgenet_eliminar = disgenet_subset_clinvar[keep]  \n",
    "entradas_disgenet_eliminar # si bien estan en clinvar, al buscar estos snps se ve que no tienen efecto en proteina (Protein change)\n",
    "                           # por lo tanto hay que eliminarlas del dataset de disgenet"
   ]
  },
  {
   "cell_type": "code",
   "execution_count": 407,
   "metadata": {},
   "outputs": [
    {
     "output_type": "execute_result",
     "data": {
      "text/plain": [
       "splice donor variant                  239\n",
       "splice acceptor variant               196\n",
       "frameshift variant                    146\n",
       "splice region variant                  66\n",
       "missense variant                       29\n",
       "intron variant                         22\n",
       "stop gained                            15\n",
       "synonymous variant                      7\n",
       "3 prime UTR variant                     6\n",
       "5 prime UTR variant                     5\n",
       "inframe deletion                        4\n",
       "non coding transcript exon variant      4\n",
       "coding sequence variant                 3\n",
       "upstream gene variant                   2\n",
       "inframe insertion                       1\n",
       "protein altering variant                1\n",
       "Name: consequence, dtype: int64"
      ]
     },
     "metadata": {},
     "execution_count": 407
    }
   ],
   "source": [
    "entradas_disgenet_eliminar.consequence.value_counts()"
   ]
  },
  {
   "cell_type": "code",
   "execution_count": 406,
   "metadata": {},
   "outputs": [
    {
     "output_type": "execute_result",
     "data": {
      "text/plain": [
       "Index(['uniprot', 'organism', 'mlo', 'hgnc_id', 'length', 'sequence', 'snp_id',\n",
       "       'chromosome', 'position', 'dsi', 'dpi', 'diseaseid', 'diseasename',\n",
       "       'diseasetype', 'diseaseclass', 'diseasesemantictype', 'score', 'ei',\n",
       "       'yearinitial', 'yearfinal', 'nofpmids', 'source', 'gene_name',\n",
       "       'gene_id', 'consequence', 'alleles', 'class', 'af_exome',\n",
       "       'alt_ref_exome', 'af_genome', 'alt_ref_genome', 'source_id'],\n",
       "      dtype='object')"
      ]
     },
     "metadata": {},
     "execution_count": 406
    }
   ],
   "source": [
    "disgenet.columns"
   ]
  },
  {
   "cell_type": "code",
   "execution_count": 405,
   "metadata": {},
   "outputs": [
    {
     "output_type": "execute_result",
     "data": {
      "text/plain": [
       "   uniprot      organism                           mlo     hgnc_id  length  \\\n",
       "12  O95613  Homo sapiens  centrosome/spindle pole body  HGNC:16068    3336   \n",
       "\n",
       "                                             sequence      snp_id chromosome  \\\n",
       "12  MEVEQEQRRRKVEAGRTKLAHFRQRKTKGDSSHSEKKTAKRKGSAV...  1555954786         21   \n",
       "\n",
       "      position  dsi  ...  gene_name gene_id              consequence alleles  \\\n",
       "12  46353985.0  1.0  ...       PCNT    5116  splice acceptor variant     A/G   \n",
       "\n",
       "   class af_exome  alt_ref_exome  af_genome  alt_ref_genome  source_id  \n",
       "12   snv      NaN            NaN        NaN             NaN        VEP  \n",
       "\n",
       "[1 rows x 32 columns]"
      ],
      "text/html": "<div>\n<style scoped>\n    .dataframe tbody tr th:only-of-type {\n        vertical-align: middle;\n    }\n\n    .dataframe tbody tr th {\n        vertical-align: top;\n    }\n\n    .dataframe thead th {\n        text-align: right;\n    }\n</style>\n<table border=\"1\" class=\"dataframe\">\n  <thead>\n    <tr style=\"text-align: right;\">\n      <th></th>\n      <th>uniprot</th>\n      <th>organism</th>\n      <th>mlo</th>\n      <th>hgnc_id</th>\n      <th>length</th>\n      <th>sequence</th>\n      <th>snp_id</th>\n      <th>chromosome</th>\n      <th>position</th>\n      <th>dsi</th>\n      <th>...</th>\n      <th>gene_name</th>\n      <th>gene_id</th>\n      <th>consequence</th>\n      <th>alleles</th>\n      <th>class</th>\n      <th>af_exome</th>\n      <th>alt_ref_exome</th>\n      <th>af_genome</th>\n      <th>alt_ref_genome</th>\n      <th>source_id</th>\n    </tr>\n  </thead>\n  <tbody>\n    <tr>\n      <th>12</th>\n      <td>O95613</td>\n      <td>Homo sapiens</td>\n      <td>centrosome/spindle pole body</td>\n      <td>HGNC:16068</td>\n      <td>3336</td>\n      <td>MEVEQEQRRRKVEAGRTKLAHFRQRKTKGDSSHSEKKTAKRKGSAV...</td>\n      <td>1555954786</td>\n      <td>21</td>\n      <td>46353985.0</td>\n      <td>1.0</td>\n      <td>...</td>\n      <td>PCNT</td>\n      <td>5116</td>\n      <td>splice acceptor variant</td>\n      <td>A/G</td>\n      <td>snv</td>\n      <td>NaN</td>\n      <td>NaN</td>\n      <td>NaN</td>\n      <td>NaN</td>\n      <td>VEP</td>\n    </tr>\n  </tbody>\n</table>\n<p>1 rows × 32 columns</p>\n</div>"
     },
     "metadata": {},
     "execution_count": 405
    }
   ],
   "source": [
    "disgenet[disgenet.snp_id == 1555954786]"
   ]
  },
  {
   "cell_type": "code",
   "execution_count": 350,
   "metadata": {},
   "outputs": [
    {
     "output_type": "execute_result",
     "data": {
      "text/plain": [
       "      uniprot     hgnc_id  gene_id gene_name      snp_id chromosome  \\\n",
       "12     O95613  HGNC:16068     5116      PCNT  1555954786         21   \n",
       "14     O95613  HGNC:16068     5116      PCNT  1555959737         21   \n",
       "18     O95613  HGNC:16068     5116      PCNT  1569178877         21   \n",
       "33     O95613  HGNC:16068     5116      PCNT   755084205         21   \n",
       "52     P38159   HGNC:9910    27316      RBMX   181515589          X   \n",
       "...       ...         ...      ...       ...         ...        ...   \n",
       "11338  P03372   HGNC:3467     2099      ESR1  1562787582          6   \n",
       "11490  P23771   HGNC:4172     2625     GATA3   112417755         10   \n",
       "11511  P23771   HGNC:4172     2625     GATA3   387906551         10   \n",
       "11546  Q15233   HGNC:7871     4841      NONO   869025343          X   \n",
       "11548  Q15233   HGNC:7871     4841      NONO   876661316          X   \n",
       "\n",
       "          position              consequence   source  \n",
       "12      46353985.0  splice acceptor variant  CLINVAR  \n",
       "14      46363457.0  splice acceptor variant  CLINVAR  \n",
       "18      46347513.0     splice donor variant  CLINVAR  \n",
       "33      46388741.0  splice acceptor variant  CLINVAR  \n",
       "52     136876663.0    splice region variant  CLINVAR  \n",
       "...            ...                      ...      ...  \n",
       "11338  152099207.0      3 prime UTR variant  CLINVAR  \n",
       "11490    8073738.0  splice acceptor variant  CLINVAR  \n",
       "11511    8064140.0     splice donor variant  CLINVAR  \n",
       "11546   71297938.0    splice region variant  CLINVAR  \n",
       "11548   71298509.0     splice donor variant  CLINVAR  \n",
       "\n",
       "[746 rows x 9 columns]"
      ],
      "text/html": "<div>\n<style scoped>\n    .dataframe tbody tr th:only-of-type {\n        vertical-align: middle;\n    }\n\n    .dataframe tbody tr th {\n        vertical-align: top;\n    }\n\n    .dataframe thead th {\n        text-align: right;\n    }\n</style>\n<table border=\"1\" class=\"dataframe\">\n  <thead>\n    <tr style=\"text-align: right;\">\n      <th></th>\n      <th>uniprot</th>\n      <th>hgnc_id</th>\n      <th>gene_id</th>\n      <th>gene_name</th>\n      <th>snp_id</th>\n      <th>chromosome</th>\n      <th>position</th>\n      <th>consequence</th>\n      <th>source</th>\n    </tr>\n  </thead>\n  <tbody>\n    <tr>\n      <th>12</th>\n      <td>O95613</td>\n      <td>HGNC:16068</td>\n      <td>5116</td>\n      <td>PCNT</td>\n      <td>1555954786</td>\n      <td>21</td>\n      <td>46353985.0</td>\n      <td>splice acceptor variant</td>\n      <td>CLINVAR</td>\n    </tr>\n    <tr>\n      <th>14</th>\n      <td>O95613</td>\n      <td>HGNC:16068</td>\n      <td>5116</td>\n      <td>PCNT</td>\n      <td>1555959737</td>\n      <td>21</td>\n      <td>46363457.0</td>\n      <td>splice acceptor variant</td>\n      <td>CLINVAR</td>\n    </tr>\n    <tr>\n      <th>18</th>\n      <td>O95613</td>\n      <td>HGNC:16068</td>\n      <td>5116</td>\n      <td>PCNT</td>\n      <td>1569178877</td>\n      <td>21</td>\n      <td>46347513.0</td>\n      <td>splice donor variant</td>\n      <td>CLINVAR</td>\n    </tr>\n    <tr>\n      <th>33</th>\n      <td>O95613</td>\n      <td>HGNC:16068</td>\n      <td>5116</td>\n      <td>PCNT</td>\n      <td>755084205</td>\n      <td>21</td>\n      <td>46388741.0</td>\n      <td>splice acceptor variant</td>\n      <td>CLINVAR</td>\n    </tr>\n    <tr>\n      <th>52</th>\n      <td>P38159</td>\n      <td>HGNC:9910</td>\n      <td>27316</td>\n      <td>RBMX</td>\n      <td>181515589</td>\n      <td>X</td>\n      <td>136876663.0</td>\n      <td>splice region variant</td>\n      <td>CLINVAR</td>\n    </tr>\n    <tr>\n      <th>...</th>\n      <td>...</td>\n      <td>...</td>\n      <td>...</td>\n      <td>...</td>\n      <td>...</td>\n      <td>...</td>\n      <td>...</td>\n      <td>...</td>\n      <td>...</td>\n    </tr>\n    <tr>\n      <th>11338</th>\n      <td>P03372</td>\n      <td>HGNC:3467</td>\n      <td>2099</td>\n      <td>ESR1</td>\n      <td>1562787582</td>\n      <td>6</td>\n      <td>152099207.0</td>\n      <td>3 prime UTR variant</td>\n      <td>CLINVAR</td>\n    </tr>\n    <tr>\n      <th>11490</th>\n      <td>P23771</td>\n      <td>HGNC:4172</td>\n      <td>2625</td>\n      <td>GATA3</td>\n      <td>112417755</td>\n      <td>10</td>\n      <td>8073738.0</td>\n      <td>splice acceptor variant</td>\n      <td>CLINVAR</td>\n    </tr>\n    <tr>\n      <th>11511</th>\n      <td>P23771</td>\n      <td>HGNC:4172</td>\n      <td>2625</td>\n      <td>GATA3</td>\n      <td>387906551</td>\n      <td>10</td>\n      <td>8064140.0</td>\n      <td>splice donor variant</td>\n      <td>CLINVAR</td>\n    </tr>\n    <tr>\n      <th>11546</th>\n      <td>Q15233</td>\n      <td>HGNC:7871</td>\n      <td>4841</td>\n      <td>NONO</td>\n      <td>869025343</td>\n      <td>X</td>\n      <td>71297938.0</td>\n      <td>splice region variant</td>\n      <td>CLINVAR</td>\n    </tr>\n    <tr>\n      <th>11548</th>\n      <td>Q15233</td>\n      <td>HGNC:7871</td>\n      <td>4841</td>\n      <td>NONO</td>\n      <td>876661316</td>\n      <td>X</td>\n      <td>71298509.0</td>\n      <td>splice donor variant</td>\n      <td>CLINVAR</td>\n    </tr>\n  </tbody>\n</table>\n<p>746 rows × 9 columns</p>\n</div>"
     },
     "metadata": {},
     "execution_count": 350
    }
   ],
   "source": [
    "# da lo mismo de esta forma\n",
    "cond = disgenet_subset_clinvar.snp_id.isin(disgenet_en_clivar.snp_id)                           # es un array de bool\n",
    "disgenet_subset_clinvar.drop(disgenet_subset_clinvar[cond].index)   # drop esas filas\n"
   ]
  },
  {
   "source": [
    "# Uniprot con Clinvar"
   ],
   "cell_type": "markdown",
   "metadata": {}
  },
  {
   "cell_type": "code",
   "execution_count": 351,
   "metadata": {},
   "outputs": [
    {
     "output_type": "execute_result",
     "data": {
      "text/plain": [
       "2554"
      ]
     },
     "metadata": {},
     "execution_count": 351
    }
   ],
   "source": [
    "len(uniprot.snp_id.unique())"
   ]
  },
  {
   "cell_type": "code",
   "execution_count": 352,
   "metadata": {},
   "outputs": [
    {
     "output_type": "execute_result",
     "data": {
      "text/plain": [
       "     uniprot     hgnc_id gene_name     snp_id       change aa1  pos aa2\n",
       "0     O15527   HGNC:8125      OGG1  104893751   p.Arg46Gln   R   46   Q\n",
       "1     O15527   HGNC:8125      OGG1   56053615  p.Arg154His   R  154   H\n",
       "2     O15527   HGNC:8125      OGG1    1052133  p.Ser326Cys   S  326   C\n",
       "3     O15527   HGNC:8125      OGG1    1805373  p.Arg229Gln   R  229   Q\n",
       "4     O15527   HGNC:8125      OGG1    1801128  p.Ser320Thr   S  320   T\n",
       "...      ...         ...       ...        ...          ...  ..  ...  ..\n",
       "4087  P04156   HGNC:9449      PRNP   74315410  p.Gly131Val   G  131   V\n",
       "4088  P04156   HGNC:9449      PRNP  267606980  p.Gly127Val   G  127   V\n",
       "4089  P23771   HGNC:4172     GATA3  104894163  p.Trp274Arg   W  274   R\n",
       "4090  P23771   HGNC:4172     GATA3   11567901  p.Gly242Ser   G  242   S\n",
       "4093  Q8NE35  HGNC:21746     CPEB3   17853616  p.Arg324Trp   R  324   W\n",
       "\n",
       "[2553 rows x 8 columns]"
      ],
      "text/html": "<div>\n<style scoped>\n    .dataframe tbody tr th:only-of-type {\n        vertical-align: middle;\n    }\n\n    .dataframe tbody tr th {\n        vertical-align: top;\n    }\n\n    .dataframe thead th {\n        text-align: right;\n    }\n</style>\n<table border=\"1\" class=\"dataframe\">\n  <thead>\n    <tr style=\"text-align: right;\">\n      <th></th>\n      <th>uniprot</th>\n      <th>hgnc_id</th>\n      <th>gene_name</th>\n      <th>snp_id</th>\n      <th>change</th>\n      <th>aa1</th>\n      <th>pos</th>\n      <th>aa2</th>\n    </tr>\n  </thead>\n  <tbody>\n    <tr>\n      <th>0</th>\n      <td>O15527</td>\n      <td>HGNC:8125</td>\n      <td>OGG1</td>\n      <td>104893751</td>\n      <td>p.Arg46Gln</td>\n      <td>R</td>\n      <td>46</td>\n      <td>Q</td>\n    </tr>\n    <tr>\n      <th>1</th>\n      <td>O15527</td>\n      <td>HGNC:8125</td>\n      <td>OGG1</td>\n      <td>56053615</td>\n      <td>p.Arg154His</td>\n      <td>R</td>\n      <td>154</td>\n      <td>H</td>\n    </tr>\n    <tr>\n      <th>2</th>\n      <td>O15527</td>\n      <td>HGNC:8125</td>\n      <td>OGG1</td>\n      <td>1052133</td>\n      <td>p.Ser326Cys</td>\n      <td>S</td>\n      <td>326</td>\n      <td>C</td>\n    </tr>\n    <tr>\n      <th>3</th>\n      <td>O15527</td>\n      <td>HGNC:8125</td>\n      <td>OGG1</td>\n      <td>1805373</td>\n      <td>p.Arg229Gln</td>\n      <td>R</td>\n      <td>229</td>\n      <td>Q</td>\n    </tr>\n    <tr>\n      <th>4</th>\n      <td>O15527</td>\n      <td>HGNC:8125</td>\n      <td>OGG1</td>\n      <td>1801128</td>\n      <td>p.Ser320Thr</td>\n      <td>S</td>\n      <td>320</td>\n      <td>T</td>\n    </tr>\n    <tr>\n      <th>...</th>\n      <td>...</td>\n      <td>...</td>\n      <td>...</td>\n      <td>...</td>\n      <td>...</td>\n      <td>...</td>\n      <td>...</td>\n      <td>...</td>\n    </tr>\n    <tr>\n      <th>4087</th>\n      <td>P04156</td>\n      <td>HGNC:9449</td>\n      <td>PRNP</td>\n      <td>74315410</td>\n      <td>p.Gly131Val</td>\n      <td>G</td>\n      <td>131</td>\n      <td>V</td>\n    </tr>\n    <tr>\n      <th>4088</th>\n      <td>P04156</td>\n      <td>HGNC:9449</td>\n      <td>PRNP</td>\n      <td>267606980</td>\n      <td>p.Gly127Val</td>\n      <td>G</td>\n      <td>127</td>\n      <td>V</td>\n    </tr>\n    <tr>\n      <th>4089</th>\n      <td>P23771</td>\n      <td>HGNC:4172</td>\n      <td>GATA3</td>\n      <td>104894163</td>\n      <td>p.Trp274Arg</td>\n      <td>W</td>\n      <td>274</td>\n      <td>R</td>\n    </tr>\n    <tr>\n      <th>4090</th>\n      <td>P23771</td>\n      <td>HGNC:4172</td>\n      <td>GATA3</td>\n      <td>11567901</td>\n      <td>p.Gly242Ser</td>\n      <td>G</td>\n      <td>242</td>\n      <td>S</td>\n    </tr>\n    <tr>\n      <th>4093</th>\n      <td>Q8NE35</td>\n      <td>HGNC:21746</td>\n      <td>CPEB3</td>\n      <td>17853616</td>\n      <td>p.Arg324Trp</td>\n      <td>R</td>\n      <td>324</td>\n      <td>W</td>\n    </tr>\n  </tbody>\n</table>\n<p>2553 rows × 8 columns</p>\n</div>"
     },
     "metadata": {},
     "execution_count": 352
    }
   ],
   "source": [
    "uniprot_subset = uniprot[~(uniprot.snp_id == -1)] # snps que no son -1\n",
    "uniprot_subset = uniprot_subset[['uniprot', 'hgnc_id', 'gene_name', 'snp_id', 'change', 'aa1',\t'pos', 'aa2']]\n",
    "uniprot_subset = uniprot_subset.drop_duplicates(subset=['snp_id']) # elimino los snp repetidos (xq tienen mas de un disease)\n",
    "uniprot_subset"
   ]
  },
  {
   "cell_type": "code",
   "execution_count": 353,
   "metadata": {},
   "outputs": [
    {
     "output_type": "execute_result",
     "data": {
      "text/plain": [
       "      uniprot     hgnc_id  gene_id gene_name     snp_id chromosome  \\\n",
       "3552   O15527   HGNC:8125     4968      OGG1  104893751          3   \n",
       "3553   O43663   HGNC:9341     9055      PRC1   12911192         15   \n",
       "3555   O95613  HGNC:16068     5116      PCNT   35940413         21   \n",
       "3557   O95613  HGNC:16068     5116      PCNT   34268261         21   \n",
       "3559   O95613  HGNC:16068     5116      PCNT    2839256         21   \n",
       "...       ...         ...      ...       ...        ...        ...   \n",
       "22635  P60484   HGNC:9588     5728      PTEN  121909224         10   \n",
       "22642  P60484   HGNC:9588     5728      PTEN  587782603         10   \n",
       "22681  P60484   HGNC:9588     5728      PTEN  562015640         10   \n",
       "22710  P60484   HGNC:9588     5728      PTEN  786202398         10   \n",
       "22936  P00441  HGNC:11179     6647      SOD1  121912454         21   \n",
       "\n",
       "       start_genomic  end_genomic      cambio consequence  start_aa  end_aa  \\\n",
       "3552         9750423      9750423    Arg46Gln    missense        46     NaN   \n",
       "3553        90970444     90970444   Tyr511Cys    missense       511     NaN   \n",
       "3555        46411595     46411595  Asn1841Ser    missense      1841     NaN   \n",
       "3557        46411931     46411931  Arg1953His    missense      1953     NaN   \n",
       "3559        46428545     46428545  Ala2549Thr    missense      2549     NaN   \n",
       "...              ...          ...         ...         ...       ...     ...   \n",
       "22635       87933147     87933147   Arg130Ter    nonsense       130     NaN   \n",
       "22642       87952118     87952118   Gly165Ter    nonsense       165     NaN   \n",
       "22681       87960957     87960957   Lys289Ter    nonsense       289     NaN   \n",
       "22710       87925518     87925518    Leu57Ter    nonsense        57     NaN   \n",
       "22936       31668493     31668493   Leu127Ter    nonsense       127     NaN   \n",
       "\n",
       "      from_aa to_aa   source  \n",
       "3552      Arg   Gln  clinvar  \n",
       "3553      Tyr   Cys  clinvar  \n",
       "3555      Asn   Ser  clinvar  \n",
       "3557      Arg   His  clinvar  \n",
       "3559      Ala   Thr  clinvar  \n",
       "...       ...   ...      ...  \n",
       "22635     Arg   Ter  clinvar  \n",
       "22642     Gly   Ter  clinvar  \n",
       "22681     Lys   Ter  clinvar  \n",
       "22710     Leu   Ter  clinvar  \n",
       "22936     Leu   Ter  clinvar  \n",
       "\n",
       "[2064 rows x 15 columns]"
      ],
      "text/html": "<div>\n<style scoped>\n    .dataframe tbody tr th:only-of-type {\n        vertical-align: middle;\n    }\n\n    .dataframe tbody tr th {\n        vertical-align: top;\n    }\n\n    .dataframe thead th {\n        text-align: right;\n    }\n</style>\n<table border=\"1\" class=\"dataframe\">\n  <thead>\n    <tr style=\"text-align: right;\">\n      <th></th>\n      <th>uniprot</th>\n      <th>hgnc_id</th>\n      <th>gene_id</th>\n      <th>gene_name</th>\n      <th>snp_id</th>\n      <th>chromosome</th>\n      <th>start_genomic</th>\n      <th>end_genomic</th>\n      <th>cambio</th>\n      <th>consequence</th>\n      <th>start_aa</th>\n      <th>end_aa</th>\n      <th>from_aa</th>\n      <th>to_aa</th>\n      <th>source</th>\n    </tr>\n  </thead>\n  <tbody>\n    <tr>\n      <th>3552</th>\n      <td>O15527</td>\n      <td>HGNC:8125</td>\n      <td>4968</td>\n      <td>OGG1</td>\n      <td>104893751</td>\n      <td>3</td>\n      <td>9750423</td>\n      <td>9750423</td>\n      <td>Arg46Gln</td>\n      <td>missense</td>\n      <td>46</td>\n      <td>NaN</td>\n      <td>Arg</td>\n      <td>Gln</td>\n      <td>clinvar</td>\n    </tr>\n    <tr>\n      <th>3553</th>\n      <td>O43663</td>\n      <td>HGNC:9341</td>\n      <td>9055</td>\n      <td>PRC1</td>\n      <td>12911192</td>\n      <td>15</td>\n      <td>90970444</td>\n      <td>90970444</td>\n      <td>Tyr511Cys</td>\n      <td>missense</td>\n      <td>511</td>\n      <td>NaN</td>\n      <td>Tyr</td>\n      <td>Cys</td>\n      <td>clinvar</td>\n    </tr>\n    <tr>\n      <th>3555</th>\n      <td>O95613</td>\n      <td>HGNC:16068</td>\n      <td>5116</td>\n      <td>PCNT</td>\n      <td>35940413</td>\n      <td>21</td>\n      <td>46411595</td>\n      <td>46411595</td>\n      <td>Asn1841Ser</td>\n      <td>missense</td>\n      <td>1841</td>\n      <td>NaN</td>\n      <td>Asn</td>\n      <td>Ser</td>\n      <td>clinvar</td>\n    </tr>\n    <tr>\n      <th>3557</th>\n      <td>O95613</td>\n      <td>HGNC:16068</td>\n      <td>5116</td>\n      <td>PCNT</td>\n      <td>34268261</td>\n      <td>21</td>\n      <td>46411931</td>\n      <td>46411931</td>\n      <td>Arg1953His</td>\n      <td>missense</td>\n      <td>1953</td>\n      <td>NaN</td>\n      <td>Arg</td>\n      <td>His</td>\n      <td>clinvar</td>\n    </tr>\n    <tr>\n      <th>3559</th>\n      <td>O95613</td>\n      <td>HGNC:16068</td>\n      <td>5116</td>\n      <td>PCNT</td>\n      <td>2839256</td>\n      <td>21</td>\n      <td>46428545</td>\n      <td>46428545</td>\n      <td>Ala2549Thr</td>\n      <td>missense</td>\n      <td>2549</td>\n      <td>NaN</td>\n      <td>Ala</td>\n      <td>Thr</td>\n      <td>clinvar</td>\n    </tr>\n    <tr>\n      <th>...</th>\n      <td>...</td>\n      <td>...</td>\n      <td>...</td>\n      <td>...</td>\n      <td>...</td>\n      <td>...</td>\n      <td>...</td>\n      <td>...</td>\n      <td>...</td>\n      <td>...</td>\n      <td>...</td>\n      <td>...</td>\n      <td>...</td>\n      <td>...</td>\n      <td>...</td>\n    </tr>\n    <tr>\n      <th>22635</th>\n      <td>P60484</td>\n      <td>HGNC:9588</td>\n      <td>5728</td>\n      <td>PTEN</td>\n      <td>121909224</td>\n      <td>10</td>\n      <td>87933147</td>\n      <td>87933147</td>\n      <td>Arg130Ter</td>\n      <td>nonsense</td>\n      <td>130</td>\n      <td>NaN</td>\n      <td>Arg</td>\n      <td>Ter</td>\n      <td>clinvar</td>\n    </tr>\n    <tr>\n      <th>22642</th>\n      <td>P60484</td>\n      <td>HGNC:9588</td>\n      <td>5728</td>\n      <td>PTEN</td>\n      <td>587782603</td>\n      <td>10</td>\n      <td>87952118</td>\n      <td>87952118</td>\n      <td>Gly165Ter</td>\n      <td>nonsense</td>\n      <td>165</td>\n      <td>NaN</td>\n      <td>Gly</td>\n      <td>Ter</td>\n      <td>clinvar</td>\n    </tr>\n    <tr>\n      <th>22681</th>\n      <td>P60484</td>\n      <td>HGNC:9588</td>\n      <td>5728</td>\n      <td>PTEN</td>\n      <td>562015640</td>\n      <td>10</td>\n      <td>87960957</td>\n      <td>87960957</td>\n      <td>Lys289Ter</td>\n      <td>nonsense</td>\n      <td>289</td>\n      <td>NaN</td>\n      <td>Lys</td>\n      <td>Ter</td>\n      <td>clinvar</td>\n    </tr>\n    <tr>\n      <th>22710</th>\n      <td>P60484</td>\n      <td>HGNC:9588</td>\n      <td>5728</td>\n      <td>PTEN</td>\n      <td>786202398</td>\n      <td>10</td>\n      <td>87925518</td>\n      <td>87925518</td>\n      <td>Leu57Ter</td>\n      <td>nonsense</td>\n      <td>57</td>\n      <td>NaN</td>\n      <td>Leu</td>\n      <td>Ter</td>\n      <td>clinvar</td>\n    </tr>\n    <tr>\n      <th>22936</th>\n      <td>P00441</td>\n      <td>HGNC:11179</td>\n      <td>6647</td>\n      <td>SOD1</td>\n      <td>121912454</td>\n      <td>21</td>\n      <td>31668493</td>\n      <td>31668493</td>\n      <td>Leu127Ter</td>\n      <td>nonsense</td>\n      <td>127</td>\n      <td>NaN</td>\n      <td>Leu</td>\n      <td>Ter</td>\n      <td>clinvar</td>\n    </tr>\n  </tbody>\n</table>\n<p>2064 rows × 15 columns</p>\n</div>"
     },
     "metadata": {},
     "execution_count": 353
    }
   ],
   "source": [
    "# con isin\n",
    "uniprot_subset_clinvar = clinvar_subset[clinvar_subset.snp_id.isin(uniprot_subset.snp_id)] # estoy subseteando clinvar, no fusionando las tablas\n",
    "uniprot_subset_clinvar\n"
   ]
  },
  {
   "cell_type": "code",
   "execution_count": 354,
   "metadata": {},
   "outputs": [],
   "source": [
    "#clinvar_subset.merge(uniprot_subset, on='snp_id') # da lo mismo,\n",
    "#clinvar_subset.merge(uniprot_subset, left_on=['snp_id'], right_on=['snp_id']) # da lo mismo"
   ]
  },
  {
   "cell_type": "code",
   "execution_count": 355,
   "metadata": {},
   "outputs": [
    {
     "output_type": "execute_result",
     "data": {
      "text/plain": [
       "1567"
      ]
     },
     "metadata": {},
     "execution_count": 355
    }
   ],
   "source": [
    "len(uniprot_subset_clinvar.snp_id.unique()) # 1567 snps unicos de uniprot en clinvar, por lo tanto no hay que agregarlos"
   ]
  },
  {
   "cell_type": "code",
   "execution_count": 356,
   "metadata": {},
   "outputs": [
    {
     "output_type": "execute_result",
     "data": {
      "text/plain": [
       "     uniprot     hgnc_id gene_name     snp_id       change aa1  pos aa2\n",
       "1     O15527   HGNC:8125      OGG1   56053615  p.Arg154His   R  154   H\n",
       "2     O15527   HGNC:8125      OGG1    1052133  p.Ser326Cys   S  326   C\n",
       "3     O15527   HGNC:8125      OGG1    1805373  p.Arg229Gln   R  229   Q\n",
       "4     O15527   HGNC:8125      OGG1    1801128  p.Ser320Thr   S  320   T\n",
       "5     O15527   HGNC:8125      OGG1    3219012  p.Ala288Val   A  288   V\n",
       "...      ...         ...       ...        ...          ...  ..  ...  ..\n",
       "4082  P04156   HGNC:9449      PRNP  761807915  p.Asp202Asn   D  202   N\n",
       "4083  P04156   HGNC:9449      PRNP  776593792  p.Val203Ile   V  203   I\n",
       "4085  P04156   HGNC:9449      PRNP  751882709  p.Gln212Pro   Q  212   P\n",
       "4090  P23771   HGNC:4172     GATA3   11567901  p.Gly242Ser   G  242   S\n",
       "4093  Q8NE35  HGNC:21746     CPEB3   17853616  p.Arg324Trp   R  324   W\n",
       "\n",
       "[986 rows x 8 columns]"
      ],
      "text/html": "<div>\n<style scoped>\n    .dataframe tbody tr th:only-of-type {\n        vertical-align: middle;\n    }\n\n    .dataframe tbody tr th {\n        vertical-align: top;\n    }\n\n    .dataframe thead th {\n        text-align: right;\n    }\n</style>\n<table border=\"1\" class=\"dataframe\">\n  <thead>\n    <tr style=\"text-align: right;\">\n      <th></th>\n      <th>uniprot</th>\n      <th>hgnc_id</th>\n      <th>gene_name</th>\n      <th>snp_id</th>\n      <th>change</th>\n      <th>aa1</th>\n      <th>pos</th>\n      <th>aa2</th>\n    </tr>\n  </thead>\n  <tbody>\n    <tr>\n      <th>1</th>\n      <td>O15527</td>\n      <td>HGNC:8125</td>\n      <td>OGG1</td>\n      <td>56053615</td>\n      <td>p.Arg154His</td>\n      <td>R</td>\n      <td>154</td>\n      <td>H</td>\n    </tr>\n    <tr>\n      <th>2</th>\n      <td>O15527</td>\n      <td>HGNC:8125</td>\n      <td>OGG1</td>\n      <td>1052133</td>\n      <td>p.Ser326Cys</td>\n      <td>S</td>\n      <td>326</td>\n      <td>C</td>\n    </tr>\n    <tr>\n      <th>3</th>\n      <td>O15527</td>\n      <td>HGNC:8125</td>\n      <td>OGG1</td>\n      <td>1805373</td>\n      <td>p.Arg229Gln</td>\n      <td>R</td>\n      <td>229</td>\n      <td>Q</td>\n    </tr>\n    <tr>\n      <th>4</th>\n      <td>O15527</td>\n      <td>HGNC:8125</td>\n      <td>OGG1</td>\n      <td>1801128</td>\n      <td>p.Ser320Thr</td>\n      <td>S</td>\n      <td>320</td>\n      <td>T</td>\n    </tr>\n    <tr>\n      <th>5</th>\n      <td>O15527</td>\n      <td>HGNC:8125</td>\n      <td>OGG1</td>\n      <td>3219012</td>\n      <td>p.Ala288Val</td>\n      <td>A</td>\n      <td>288</td>\n      <td>V</td>\n    </tr>\n    <tr>\n      <th>...</th>\n      <td>...</td>\n      <td>...</td>\n      <td>...</td>\n      <td>...</td>\n      <td>...</td>\n      <td>...</td>\n      <td>...</td>\n      <td>...</td>\n    </tr>\n    <tr>\n      <th>4082</th>\n      <td>P04156</td>\n      <td>HGNC:9449</td>\n      <td>PRNP</td>\n      <td>761807915</td>\n      <td>p.Asp202Asn</td>\n      <td>D</td>\n      <td>202</td>\n      <td>N</td>\n    </tr>\n    <tr>\n      <th>4083</th>\n      <td>P04156</td>\n      <td>HGNC:9449</td>\n      <td>PRNP</td>\n      <td>776593792</td>\n      <td>p.Val203Ile</td>\n      <td>V</td>\n      <td>203</td>\n      <td>I</td>\n    </tr>\n    <tr>\n      <th>4085</th>\n      <td>P04156</td>\n      <td>HGNC:9449</td>\n      <td>PRNP</td>\n      <td>751882709</td>\n      <td>p.Gln212Pro</td>\n      <td>Q</td>\n      <td>212</td>\n      <td>P</td>\n    </tr>\n    <tr>\n      <th>4090</th>\n      <td>P23771</td>\n      <td>HGNC:4172</td>\n      <td>GATA3</td>\n      <td>11567901</td>\n      <td>p.Gly242Ser</td>\n      <td>G</td>\n      <td>242</td>\n      <td>S</td>\n    </tr>\n    <tr>\n      <th>4093</th>\n      <td>Q8NE35</td>\n      <td>HGNC:21746</td>\n      <td>CPEB3</td>\n      <td>17853616</td>\n      <td>p.Arg324Trp</td>\n      <td>R</td>\n      <td>324</td>\n      <td>W</td>\n    </tr>\n  </tbody>\n</table>\n<p>986 rows × 8 columns</p>\n</div>"
     },
     "metadata": {},
     "execution_count": 356
    }
   ],
   "source": [
    "# esta diferencia son los snps de Uniprot que NO estan en clinvar\n",
    "# entonces hay que agregarlos a la tabla de mutaciones\n",
    "cond = ~uniprot_subset.snp_id.isin(uniprot_subset_clinvar.snp_id)  # get only what is unique (or not in) disgenet_en_clinvar\n",
    "entradas_solo_uniprot = uniprot_subset[cond]  \n",
    "entradas_solo_uniprot"
   ]
  },
  {
   "cell_type": "code",
   "execution_count": 357,
   "metadata": {},
   "outputs": [
    {
     "output_type": "execute_result",
     "data": {
      "text/plain": [
       "     uniprot      organism                          mlo     hgnc_id  length  \\\n",
       "1     O15527  Homo sapiens              nuclear speckle   HGNC:8125     345   \n",
       "2     O15527  Homo sapiens              nuclear speckle   HGNC:8125     345   \n",
       "3     O15527  Homo sapiens              nuclear speckle   HGNC:8125     345   \n",
       "4     O15527  Homo sapiens              nuclear speckle   HGNC:8125     345   \n",
       "5     O15527  Homo sapiens              nuclear speckle   HGNC:8125     345   \n",
       "...      ...           ...                          ...         ...     ...   \n",
       "4082  P04156  Homo sapiens  cytoplasmic protein granule   HGNC:9449     253   \n",
       "4083  P04156  Homo sapiens  cytoplasmic protein granule   HGNC:9449     253   \n",
       "4085  P04156  Homo sapiens  cytoplasmic protein granule   HGNC:9449     253   \n",
       "4090  P23771  Homo sapiens                 enhanceosome   HGNC:4172     443   \n",
       "4093  Q8NE35  Homo sapiens                       p-body  HGNC:21746     698   \n",
       "\n",
       "                                               sequence gene_name       ft_id  \\\n",
       "1     MPARALLPRRMGHRTLASTPALWASIPCPRSELRLDLVLPSGQSFR...      OGG1  VAR_009520   \n",
       "2     MPARALLPRRMGHRTLASTPALWASIPCPRSELRLDLVLPSGQSFR...      OGG1  VAR_009521   \n",
       "3     MPARALLPRRMGHRTLASTPALWASIPCPRSELRLDLVLPSGQSFR...      OGG1  VAR_014487   \n",
       "4     MPARALLPRRMGHRTLASTPALWASIPCPRSELRLDLVLPSGQSFR...      OGG1  VAR_014488   \n",
       "5     MPARALLPRRMGHRTLASTPALWASIPCPRSELRLDLVLPSGQSFR...      OGG1  VAR_018890   \n",
       "...                                                 ...       ...         ...   \n",
       "4082  MANLGCWMLVLFVATWSDLGLCKKRPKPGGWNTGGSRYPGQGSPGG...      PRNP  VAR_008750   \n",
       "4083  MANLGCWMLVLFVATWSDLGLCKKRPKPGGWNTGGSRYPGQGSPGG...      PRNP  VAR_008751   \n",
       "4085  MANLGCWMLVLFVATWSDLGLCKKRPKPGGWNTGGSRYPGQGSPGG...      PRNP  VAR_008753   \n",
       "4090  MEVTADQPRWVSHHHPAVLNGQHPDTHHPGLSHSYMDAAQYPLPEE...     GATA3  VAR_019202   \n",
       "4093  MQDDLLMDKSKTQPQPQQQQRQQQQPQPESSVSEAPSTPLSSETPK...     CPEB3  VAR_029776   \n",
       "\n",
       "           change category     snp_id         mim  \\\n",
       "1     p.Arg154His     LB/B   56053615         NaN   \n",
       "2     p.Ser326Cys     LB/B    1052133         NaN   \n",
       "3     p.Arg229Gln     LB/B    1805373         NaN   \n",
       "4     p.Ser320Thr     LB/B    1801128         NaN   \n",
       "5     p.Ala288Val     LB/B    3219012         NaN   \n",
       "...           ...      ...        ...         ...   \n",
       "4082  p.Asp202Asn     LP/P  761807915  MIM:137440   \n",
       "4083  p.Val203Ile       US  776593792  MIM:123400   \n",
       "4085  p.Gln212Pro     LP/P  751882709  MIM:137440   \n",
       "4090  p.Gly242Ser     LB/B   11567901         NaN   \n",
       "4093  p.Arg324Trp     LB/B   17853616         NaN   \n",
       "\n",
       "                                 disease aa1  pos aa2  \n",
       "1                                      -   R  154   H  \n",
       "2                                      -   S  326   C  \n",
       "3                                      -   R  229   Q  \n",
       "4                                      -   S  320   T  \n",
       "5                                      -   A  288   V  \n",
       "...                                  ...  ..  ...  ..  \n",
       "4082  Gerstmann-Straussler disease (GSD)   D  202   N  \n",
       "4083     Creutzfeldt-Jakob disease (CJD)   V  203   I  \n",
       "4085  Gerstmann-Straussler disease (GSD)   Q  212   P  \n",
       "4090                                   -   G  242   S  \n",
       "4093                                   -   R  324   W  \n",
       "\n",
       "[1002 rows x 16 columns]"
      ],
      "text/html": "<div>\n<style scoped>\n    .dataframe tbody tr th:only-of-type {\n        vertical-align: middle;\n    }\n\n    .dataframe tbody tr th {\n        vertical-align: top;\n    }\n\n    .dataframe thead th {\n        text-align: right;\n    }\n</style>\n<table border=\"1\" class=\"dataframe\">\n  <thead>\n    <tr style=\"text-align: right;\">\n      <th></th>\n      <th>uniprot</th>\n      <th>organism</th>\n      <th>mlo</th>\n      <th>hgnc_id</th>\n      <th>length</th>\n      <th>sequence</th>\n      <th>gene_name</th>\n      <th>ft_id</th>\n      <th>change</th>\n      <th>category</th>\n      <th>snp_id</th>\n      <th>mim</th>\n      <th>disease</th>\n      <th>aa1</th>\n      <th>pos</th>\n      <th>aa2</th>\n    </tr>\n  </thead>\n  <tbody>\n    <tr>\n      <th>1</th>\n      <td>O15527</td>\n      <td>Homo sapiens</td>\n      <td>nuclear speckle</td>\n      <td>HGNC:8125</td>\n      <td>345</td>\n      <td>MPARALLPRRMGHRTLASTPALWASIPCPRSELRLDLVLPSGQSFR...</td>\n      <td>OGG1</td>\n      <td>VAR_009520</td>\n      <td>p.Arg154His</td>\n      <td>LB/B</td>\n      <td>56053615</td>\n      <td>NaN</td>\n      <td>-</td>\n      <td>R</td>\n      <td>154</td>\n      <td>H</td>\n    </tr>\n    <tr>\n      <th>2</th>\n      <td>O15527</td>\n      <td>Homo sapiens</td>\n      <td>nuclear speckle</td>\n      <td>HGNC:8125</td>\n      <td>345</td>\n      <td>MPARALLPRRMGHRTLASTPALWASIPCPRSELRLDLVLPSGQSFR...</td>\n      <td>OGG1</td>\n      <td>VAR_009521</td>\n      <td>p.Ser326Cys</td>\n      <td>LB/B</td>\n      <td>1052133</td>\n      <td>NaN</td>\n      <td>-</td>\n      <td>S</td>\n      <td>326</td>\n      <td>C</td>\n    </tr>\n    <tr>\n      <th>3</th>\n      <td>O15527</td>\n      <td>Homo sapiens</td>\n      <td>nuclear speckle</td>\n      <td>HGNC:8125</td>\n      <td>345</td>\n      <td>MPARALLPRRMGHRTLASTPALWASIPCPRSELRLDLVLPSGQSFR...</td>\n      <td>OGG1</td>\n      <td>VAR_014487</td>\n      <td>p.Arg229Gln</td>\n      <td>LB/B</td>\n      <td>1805373</td>\n      <td>NaN</td>\n      <td>-</td>\n      <td>R</td>\n      <td>229</td>\n      <td>Q</td>\n    </tr>\n    <tr>\n      <th>4</th>\n      <td>O15527</td>\n      <td>Homo sapiens</td>\n      <td>nuclear speckle</td>\n      <td>HGNC:8125</td>\n      <td>345</td>\n      <td>MPARALLPRRMGHRTLASTPALWASIPCPRSELRLDLVLPSGQSFR...</td>\n      <td>OGG1</td>\n      <td>VAR_014488</td>\n      <td>p.Ser320Thr</td>\n      <td>LB/B</td>\n      <td>1801128</td>\n      <td>NaN</td>\n      <td>-</td>\n      <td>S</td>\n      <td>320</td>\n      <td>T</td>\n    </tr>\n    <tr>\n      <th>5</th>\n      <td>O15527</td>\n      <td>Homo sapiens</td>\n      <td>nuclear speckle</td>\n      <td>HGNC:8125</td>\n      <td>345</td>\n      <td>MPARALLPRRMGHRTLASTPALWASIPCPRSELRLDLVLPSGQSFR...</td>\n      <td>OGG1</td>\n      <td>VAR_018890</td>\n      <td>p.Ala288Val</td>\n      <td>LB/B</td>\n      <td>3219012</td>\n      <td>NaN</td>\n      <td>-</td>\n      <td>A</td>\n      <td>288</td>\n      <td>V</td>\n    </tr>\n    <tr>\n      <th>...</th>\n      <td>...</td>\n      <td>...</td>\n      <td>...</td>\n      <td>...</td>\n      <td>...</td>\n      <td>...</td>\n      <td>...</td>\n      <td>...</td>\n      <td>...</td>\n      <td>...</td>\n      <td>...</td>\n      <td>...</td>\n      <td>...</td>\n      <td>...</td>\n      <td>...</td>\n      <td>...</td>\n    </tr>\n    <tr>\n      <th>4082</th>\n      <td>P04156</td>\n      <td>Homo sapiens</td>\n      <td>cytoplasmic protein granule</td>\n      <td>HGNC:9449</td>\n      <td>253</td>\n      <td>MANLGCWMLVLFVATWSDLGLCKKRPKPGGWNTGGSRYPGQGSPGG...</td>\n      <td>PRNP</td>\n      <td>VAR_008750</td>\n      <td>p.Asp202Asn</td>\n      <td>LP/P</td>\n      <td>761807915</td>\n      <td>MIM:137440</td>\n      <td>Gerstmann-Straussler disease (GSD)</td>\n      <td>D</td>\n      <td>202</td>\n      <td>N</td>\n    </tr>\n    <tr>\n      <th>4083</th>\n      <td>P04156</td>\n      <td>Homo sapiens</td>\n      <td>cytoplasmic protein granule</td>\n      <td>HGNC:9449</td>\n      <td>253</td>\n      <td>MANLGCWMLVLFVATWSDLGLCKKRPKPGGWNTGGSRYPGQGSPGG...</td>\n      <td>PRNP</td>\n      <td>VAR_008751</td>\n      <td>p.Val203Ile</td>\n      <td>US</td>\n      <td>776593792</td>\n      <td>MIM:123400</td>\n      <td>Creutzfeldt-Jakob disease (CJD)</td>\n      <td>V</td>\n      <td>203</td>\n      <td>I</td>\n    </tr>\n    <tr>\n      <th>4085</th>\n      <td>P04156</td>\n      <td>Homo sapiens</td>\n      <td>cytoplasmic protein granule</td>\n      <td>HGNC:9449</td>\n      <td>253</td>\n      <td>MANLGCWMLVLFVATWSDLGLCKKRPKPGGWNTGGSRYPGQGSPGG...</td>\n      <td>PRNP</td>\n      <td>VAR_008753</td>\n      <td>p.Gln212Pro</td>\n      <td>LP/P</td>\n      <td>751882709</td>\n      <td>MIM:137440</td>\n      <td>Gerstmann-Straussler disease (GSD)</td>\n      <td>Q</td>\n      <td>212</td>\n      <td>P</td>\n    </tr>\n    <tr>\n      <th>4090</th>\n      <td>P23771</td>\n      <td>Homo sapiens</td>\n      <td>enhanceosome</td>\n      <td>HGNC:4172</td>\n      <td>443</td>\n      <td>MEVTADQPRWVSHHHPAVLNGQHPDTHHPGLSHSYMDAAQYPLPEE...</td>\n      <td>GATA3</td>\n      <td>VAR_019202</td>\n      <td>p.Gly242Ser</td>\n      <td>LB/B</td>\n      <td>11567901</td>\n      <td>NaN</td>\n      <td>-</td>\n      <td>G</td>\n      <td>242</td>\n      <td>S</td>\n    </tr>\n    <tr>\n      <th>4093</th>\n      <td>Q8NE35</td>\n      <td>Homo sapiens</td>\n      <td>p-body</td>\n      <td>HGNC:21746</td>\n      <td>698</td>\n      <td>MQDDLLMDKSKTQPQPQQQQRQQQQPQPESSVSEAPSTPLSSETPK...</td>\n      <td>CPEB3</td>\n      <td>VAR_029776</td>\n      <td>p.Arg324Trp</td>\n      <td>LB/B</td>\n      <td>17853616</td>\n      <td>NaN</td>\n      <td>-</td>\n      <td>R</td>\n      <td>324</td>\n      <td>W</td>\n    </tr>\n  </tbody>\n</table>\n<p>1002 rows × 16 columns</p>\n</div>"
     },
     "metadata": {},
     "execution_count": 357
    }
   ],
   "source": [
    "uniprot[uniprot.snp_id.isin(entradas_solo_uniprot.snp_id)] # estas son las entradas en la tabla original de uniprot"
   ]
  },
  {
   "source": [
    "# Generar tabla de mutaciones"
   ],
   "cell_type": "markdown",
   "metadata": {}
  },
  {
   "cell_type": "code",
   "execution_count": 382,
   "metadata": {},
   "outputs": [],
   "source": [
    "mutations = clinvar[['snp_id', 'chromosome', 'start_genomic', 'end_genomic', 'start_aa', 'end_aa', 'from_aa', 'to_aa', 'consequence', 'source']]"
   ]
  },
  {
   "source": [
    "## agrego uniprot"
   ],
   "cell_type": "markdown",
   "metadata": {}
  },
  {
   "cell_type": "code",
   "execution_count": 358,
   "metadata": {},
   "outputs": [
    {
     "output_type": "stream",
     "name": "stderr",
     "text": [
      "<ipython-input-358-7a4c91be6a79>:2: SettingWithCopyWarning: \nA value is trying to be set on a copy of a slice from a DataFrame.\nTry using .loc[row_indexer,col_indexer] = value instead\n\nSee the caveats in the documentation: https://pandas.pydata.org/pandas-docs/stable/user_guide/indexing.html#returning-a-view-versus-a-copy\n  entradas_solo_uniprot['consequence'] = 'missense' # todo el dataset humsavar de uniprot son missense variants\n<ipython-input-358-7a4c91be6a79>:3: SettingWithCopyWarning: \nA value is trying to be set on a copy of a slice from a DataFrame.\nTry using .loc[row_indexer,col_indexer] = value instead\n\nSee the caveats in the documentation: https://pandas.pydata.org/pandas-docs/stable/user_guide/indexing.html#returning-a-view-versus-a-copy\n  entradas_solo_uniprot['source'] = 'uniprot'\n"
     ]
    }
   ],
   "source": [
    "# doy formato para la db\n",
    "entradas_solo_uniprot['consequence'] = 'missense' # todo el dataset humsavar.txt de uniprot son missense variants\n",
    "entradas_solo_uniprot['source'] = 'uniprot'\n",
    "entradas_solo_uniprot = entradas_solo_uniprot.rename(columns={'pos': 'start_aa', 'aa1': 'from_aa', 'aa2': 'to_aa', 'change': 'cambio'})\n",
    "entradas_solo_uniprot.cambio = entradas_solo_uniprot.cambio.str.lstrip('p.')"
   ]
  },
  {
   "cell_type": "code",
   "execution_count": 359,
   "metadata": {},
   "outputs": [
    {
     "output_type": "execute_result",
     "data": {
      "text/plain": [
       "     uniprot     hgnc_id gene_name     snp_id     cambio from_aa  start_aa  \\\n",
       "1     O15527   HGNC:8125      OGG1   56053615  Arg154His     Arg       154   \n",
       "2     O15527   HGNC:8125      OGG1    1052133  Ser326Cys     Ser       326   \n",
       "3     O15527   HGNC:8125      OGG1    1805373  Arg229Gln     Arg       229   \n",
       "4     O15527   HGNC:8125      OGG1    1801128  Ser320Thr     Ser       320   \n",
       "5     O15527   HGNC:8125      OGG1    3219012  Ala288Val     Ala       288   \n",
       "...      ...         ...       ...        ...        ...     ...       ...   \n",
       "4082  P04156   HGNC:9449      PRNP  761807915  Asp202Asn     Asp       202   \n",
       "4083  P04156   HGNC:9449      PRNP  776593792  Val203Ile     Val       203   \n",
       "4085  P04156   HGNC:9449      PRNP  751882709  Gln212Pro     Gln       212   \n",
       "4090  P23771   HGNC:4172     GATA3   11567901  Gly242Ser     Gly       242   \n",
       "4093  Q8NE35  HGNC:21746     CPEB3   17853616  Arg324Trp     Arg       324   \n",
       "\n",
       "     to_aa consequence   source  \n",
       "1      His    missense  uniprot  \n",
       "2      Cys    missense  uniprot  \n",
       "3      Gln    missense  uniprot  \n",
       "4      Thr    missense  uniprot  \n",
       "5      Val    missense  uniprot  \n",
       "...    ...         ...      ...  \n",
       "4082   Asn    missense  uniprot  \n",
       "4083   Ile    missense  uniprot  \n",
       "4085   Pro    missense  uniprot  \n",
       "4090   Ser    missense  uniprot  \n",
       "4093   Trp    missense  uniprot  \n",
       "\n",
       "[986 rows x 10 columns]"
      ],
      "text/html": "<div>\n<style scoped>\n    .dataframe tbody tr th:only-of-type {\n        vertical-align: middle;\n    }\n\n    .dataframe tbody tr th {\n        vertical-align: top;\n    }\n\n    .dataframe thead th {\n        text-align: right;\n    }\n</style>\n<table border=\"1\" class=\"dataframe\">\n  <thead>\n    <tr style=\"text-align: right;\">\n      <th></th>\n      <th>uniprot</th>\n      <th>hgnc_id</th>\n      <th>gene_name</th>\n      <th>snp_id</th>\n      <th>cambio</th>\n      <th>from_aa</th>\n      <th>start_aa</th>\n      <th>to_aa</th>\n      <th>consequence</th>\n      <th>source</th>\n    </tr>\n  </thead>\n  <tbody>\n    <tr>\n      <th>1</th>\n      <td>O15527</td>\n      <td>HGNC:8125</td>\n      <td>OGG1</td>\n      <td>56053615</td>\n      <td>Arg154His</td>\n      <td>Arg</td>\n      <td>154</td>\n      <td>His</td>\n      <td>missense</td>\n      <td>uniprot</td>\n    </tr>\n    <tr>\n      <th>2</th>\n      <td>O15527</td>\n      <td>HGNC:8125</td>\n      <td>OGG1</td>\n      <td>1052133</td>\n      <td>Ser326Cys</td>\n      <td>Ser</td>\n      <td>326</td>\n      <td>Cys</td>\n      <td>missense</td>\n      <td>uniprot</td>\n    </tr>\n    <tr>\n      <th>3</th>\n      <td>O15527</td>\n      <td>HGNC:8125</td>\n      <td>OGG1</td>\n      <td>1805373</td>\n      <td>Arg229Gln</td>\n      <td>Arg</td>\n      <td>229</td>\n      <td>Gln</td>\n      <td>missense</td>\n      <td>uniprot</td>\n    </tr>\n    <tr>\n      <th>4</th>\n      <td>O15527</td>\n      <td>HGNC:8125</td>\n      <td>OGG1</td>\n      <td>1801128</td>\n      <td>Ser320Thr</td>\n      <td>Ser</td>\n      <td>320</td>\n      <td>Thr</td>\n      <td>missense</td>\n      <td>uniprot</td>\n    </tr>\n    <tr>\n      <th>5</th>\n      <td>O15527</td>\n      <td>HGNC:8125</td>\n      <td>OGG1</td>\n      <td>3219012</td>\n      <td>Ala288Val</td>\n      <td>Ala</td>\n      <td>288</td>\n      <td>Val</td>\n      <td>missense</td>\n      <td>uniprot</td>\n    </tr>\n    <tr>\n      <th>...</th>\n      <td>...</td>\n      <td>...</td>\n      <td>...</td>\n      <td>...</td>\n      <td>...</td>\n      <td>...</td>\n      <td>...</td>\n      <td>...</td>\n      <td>...</td>\n      <td>...</td>\n    </tr>\n    <tr>\n      <th>4082</th>\n      <td>P04156</td>\n      <td>HGNC:9449</td>\n      <td>PRNP</td>\n      <td>761807915</td>\n      <td>Asp202Asn</td>\n      <td>Asp</td>\n      <td>202</td>\n      <td>Asn</td>\n      <td>missense</td>\n      <td>uniprot</td>\n    </tr>\n    <tr>\n      <th>4083</th>\n      <td>P04156</td>\n      <td>HGNC:9449</td>\n      <td>PRNP</td>\n      <td>776593792</td>\n      <td>Val203Ile</td>\n      <td>Val</td>\n      <td>203</td>\n      <td>Ile</td>\n      <td>missense</td>\n      <td>uniprot</td>\n    </tr>\n    <tr>\n      <th>4085</th>\n      <td>P04156</td>\n      <td>HGNC:9449</td>\n      <td>PRNP</td>\n      <td>751882709</td>\n      <td>Gln212Pro</td>\n      <td>Gln</td>\n      <td>212</td>\n      <td>Pro</td>\n      <td>missense</td>\n      <td>uniprot</td>\n    </tr>\n    <tr>\n      <th>4090</th>\n      <td>P23771</td>\n      <td>HGNC:4172</td>\n      <td>GATA3</td>\n      <td>11567901</td>\n      <td>Gly242Ser</td>\n      <td>Gly</td>\n      <td>242</td>\n      <td>Ser</td>\n      <td>missense</td>\n      <td>uniprot</td>\n    </tr>\n    <tr>\n      <th>4093</th>\n      <td>Q8NE35</td>\n      <td>HGNC:21746</td>\n      <td>CPEB3</td>\n      <td>17853616</td>\n      <td>Arg324Trp</td>\n      <td>Arg</td>\n      <td>324</td>\n      <td>Trp</td>\n      <td>missense</td>\n      <td>uniprot</td>\n    </tr>\n  </tbody>\n</table>\n<p>986 rows × 10 columns</p>\n</div>"
     },
     "metadata": {},
     "execution_count": 359
    }
   ],
   "source": [
    "# pasar aa en tres letras\n",
    "entradas_solo_uniprot['from_aa'] = entradas_solo_uniprot['from_aa'].map(lambda x: seq3(x))\n",
    "entradas_solo_uniprot['to_aa'] = entradas_solo_uniprot['to_aa'].map(lambda x: seq3(x))\n",
    "entradas_solo_uniprot"
   ]
  },
  {
   "cell_type": "code",
   "execution_count": 361,
   "metadata": {},
   "outputs": [],
   "source": [
    "mutations_uniprot = entradas_solo_uniprot.copy()"
   ]
  },
  {
   "cell_type": "code",
   "execution_count": 365,
   "metadata": {},
   "outputs": [
    {
     "output_type": "execute_result",
     "data": {
      "text/plain": [
       "         snp_id  start_aa from_aa to_aa consequence   source\n",
       "1      56053615       154     Arg   His    missense  uniprot\n",
       "2       1052133       326     Ser   Cys    missense  uniprot\n",
       "3       1805373       229     Arg   Gln    missense  uniprot\n",
       "4       1801128       320     Ser   Thr    missense  uniprot\n",
       "5       3219012       288     Ala   Val    missense  uniprot\n",
       "...         ...       ...     ...   ...         ...      ...\n",
       "4082  761807915       202     Asp   Asn    missense  uniprot\n",
       "4083  776593792       203     Val   Ile    missense  uniprot\n",
       "4085  751882709       212     Gln   Pro    missense  uniprot\n",
       "4090   11567901       242     Gly   Ser    missense  uniprot\n",
       "4093   17853616       324     Arg   Trp    missense  uniprot\n",
       "\n",
       "[986 rows x 6 columns]"
      ],
      "text/html": "<div>\n<style scoped>\n    .dataframe tbody tr th:only-of-type {\n        vertical-align: middle;\n    }\n\n    .dataframe tbody tr th {\n        vertical-align: top;\n    }\n\n    .dataframe thead th {\n        text-align: right;\n    }\n</style>\n<table border=\"1\" class=\"dataframe\">\n  <thead>\n    <tr style=\"text-align: right;\">\n      <th></th>\n      <th>snp_id</th>\n      <th>start_aa</th>\n      <th>from_aa</th>\n      <th>to_aa</th>\n      <th>consequence</th>\n      <th>source</th>\n    </tr>\n  </thead>\n  <tbody>\n    <tr>\n      <th>1</th>\n      <td>56053615</td>\n      <td>154</td>\n      <td>Arg</td>\n      <td>His</td>\n      <td>missense</td>\n      <td>uniprot</td>\n    </tr>\n    <tr>\n      <th>2</th>\n      <td>1052133</td>\n      <td>326</td>\n      <td>Ser</td>\n      <td>Cys</td>\n      <td>missense</td>\n      <td>uniprot</td>\n    </tr>\n    <tr>\n      <th>3</th>\n      <td>1805373</td>\n      <td>229</td>\n      <td>Arg</td>\n      <td>Gln</td>\n      <td>missense</td>\n      <td>uniprot</td>\n    </tr>\n    <tr>\n      <th>4</th>\n      <td>1801128</td>\n      <td>320</td>\n      <td>Ser</td>\n      <td>Thr</td>\n      <td>missense</td>\n      <td>uniprot</td>\n    </tr>\n    <tr>\n      <th>5</th>\n      <td>3219012</td>\n      <td>288</td>\n      <td>Ala</td>\n      <td>Val</td>\n      <td>missense</td>\n      <td>uniprot</td>\n    </tr>\n    <tr>\n      <th>...</th>\n      <td>...</td>\n      <td>...</td>\n      <td>...</td>\n      <td>...</td>\n      <td>...</td>\n      <td>...</td>\n    </tr>\n    <tr>\n      <th>4082</th>\n      <td>761807915</td>\n      <td>202</td>\n      <td>Asp</td>\n      <td>Asn</td>\n      <td>missense</td>\n      <td>uniprot</td>\n    </tr>\n    <tr>\n      <th>4083</th>\n      <td>776593792</td>\n      <td>203</td>\n      <td>Val</td>\n      <td>Ile</td>\n      <td>missense</td>\n      <td>uniprot</td>\n    </tr>\n    <tr>\n      <th>4085</th>\n      <td>751882709</td>\n      <td>212</td>\n      <td>Gln</td>\n      <td>Pro</td>\n      <td>missense</td>\n      <td>uniprot</td>\n    </tr>\n    <tr>\n      <th>4090</th>\n      <td>11567901</td>\n      <td>242</td>\n      <td>Gly</td>\n      <td>Ser</td>\n      <td>missense</td>\n      <td>uniprot</td>\n    </tr>\n    <tr>\n      <th>4093</th>\n      <td>17853616</td>\n      <td>324</td>\n      <td>Arg</td>\n      <td>Trp</td>\n      <td>missense</td>\n      <td>uniprot</td>\n    </tr>\n  </tbody>\n</table>\n<p>986 rows × 6 columns</p>\n</div>"
     },
     "metadata": {},
     "execution_count": 365
    }
   ],
   "source": [
    "mutations_uniprot = mutations_uniprot[['snp_id', 'start_aa', 'from_aa', 'to_aa', 'consequence', 'source']] # formato para tabla db\n",
    "mutations_uniprot"
   ]
  },
  {
   "cell_type": "code",
   "execution_count": 386,
   "metadata": {},
   "outputs": [
    {
     "output_type": "execute_result",
     "data": {
      "text/plain": [
       "           snp_id chromosome  start_genomic  end_genomic  start_aa  end_aa  \\\n",
       "0       587784306         21     46334558.0   46334596.0       156   168.0   \n",
       "1      1555945478         21     46334536.0   46334613.0       148   173.0   \n",
       "2       562568796         21     46435981.0   46435983.0      2944     NaN   \n",
       "3       759470656         21     46385936.0   46385938.0      1141     NaN   \n",
       "4       398123423          X     77652292.0   77652294.0      1464     NaN   \n",
       "...           ...        ...            ...          ...       ...     ...   \n",
       "24107   761807915        NaN            NaN          NaN       202     NaN   \n",
       "24108   776593792        NaN            NaN          NaN       203     NaN   \n",
       "24109   751882709        NaN            NaN          NaN       212     NaN   \n",
       "24110    11567901        NaN            NaN          NaN       242     NaN   \n",
       "24111    17853616        NaN            NaN          NaN       324     NaN   \n",
       "\n",
       "      from_aa to_aa consequence   source  \n",
       "0      HisGln   NaN    deletion  clinvar  \n",
       "1      ValThr   NaN    deletion  clinvar  \n",
       "2         Lys   NaN    deletion  clinvar  \n",
       "3         Leu   NaN    deletion  clinvar  \n",
       "4         Glu   NaN    deletion  clinvar  \n",
       "...       ...   ...         ...      ...  \n",
       "24107     Asp   Asn    missense  uniprot  \n",
       "24108     Val   Ile    missense  uniprot  \n",
       "24109     Gln   Pro    missense  uniprot  \n",
       "24110     Gly   Ser    missense  uniprot  \n",
       "24111     Arg   Trp    missense  uniprot  \n",
       "\n",
       "[24112 rows x 10 columns]"
      ],
      "text/html": "<div>\n<style scoped>\n    .dataframe tbody tr th:only-of-type {\n        vertical-align: middle;\n    }\n\n    .dataframe tbody tr th {\n        vertical-align: top;\n    }\n\n    .dataframe thead th {\n        text-align: right;\n    }\n</style>\n<table border=\"1\" class=\"dataframe\">\n  <thead>\n    <tr style=\"text-align: right;\">\n      <th></th>\n      <th>snp_id</th>\n      <th>chromosome</th>\n      <th>start_genomic</th>\n      <th>end_genomic</th>\n      <th>start_aa</th>\n      <th>end_aa</th>\n      <th>from_aa</th>\n      <th>to_aa</th>\n      <th>consequence</th>\n      <th>source</th>\n    </tr>\n  </thead>\n  <tbody>\n    <tr>\n      <th>0</th>\n      <td>587784306</td>\n      <td>21</td>\n      <td>46334558.0</td>\n      <td>46334596.0</td>\n      <td>156</td>\n      <td>168.0</td>\n      <td>HisGln</td>\n      <td>NaN</td>\n      <td>deletion</td>\n      <td>clinvar</td>\n    </tr>\n    <tr>\n      <th>1</th>\n      <td>1555945478</td>\n      <td>21</td>\n      <td>46334536.0</td>\n      <td>46334613.0</td>\n      <td>148</td>\n      <td>173.0</td>\n      <td>ValThr</td>\n      <td>NaN</td>\n      <td>deletion</td>\n      <td>clinvar</td>\n    </tr>\n    <tr>\n      <th>2</th>\n      <td>562568796</td>\n      <td>21</td>\n      <td>46435981.0</td>\n      <td>46435983.0</td>\n      <td>2944</td>\n      <td>NaN</td>\n      <td>Lys</td>\n      <td>NaN</td>\n      <td>deletion</td>\n      <td>clinvar</td>\n    </tr>\n    <tr>\n      <th>3</th>\n      <td>759470656</td>\n      <td>21</td>\n      <td>46385936.0</td>\n      <td>46385938.0</td>\n      <td>1141</td>\n      <td>NaN</td>\n      <td>Leu</td>\n      <td>NaN</td>\n      <td>deletion</td>\n      <td>clinvar</td>\n    </tr>\n    <tr>\n      <th>4</th>\n      <td>398123423</td>\n      <td>X</td>\n      <td>77652292.0</td>\n      <td>77652294.0</td>\n      <td>1464</td>\n      <td>NaN</td>\n      <td>Glu</td>\n      <td>NaN</td>\n      <td>deletion</td>\n      <td>clinvar</td>\n    </tr>\n    <tr>\n      <th>...</th>\n      <td>...</td>\n      <td>...</td>\n      <td>...</td>\n      <td>...</td>\n      <td>...</td>\n      <td>...</td>\n      <td>...</td>\n      <td>...</td>\n      <td>...</td>\n      <td>...</td>\n    </tr>\n    <tr>\n      <th>24107</th>\n      <td>761807915</td>\n      <td>NaN</td>\n      <td>NaN</td>\n      <td>NaN</td>\n      <td>202</td>\n      <td>NaN</td>\n      <td>Asp</td>\n      <td>Asn</td>\n      <td>missense</td>\n      <td>uniprot</td>\n    </tr>\n    <tr>\n      <th>24108</th>\n      <td>776593792</td>\n      <td>NaN</td>\n      <td>NaN</td>\n      <td>NaN</td>\n      <td>203</td>\n      <td>NaN</td>\n      <td>Val</td>\n      <td>Ile</td>\n      <td>missense</td>\n      <td>uniprot</td>\n    </tr>\n    <tr>\n      <th>24109</th>\n      <td>751882709</td>\n      <td>NaN</td>\n      <td>NaN</td>\n      <td>NaN</td>\n      <td>212</td>\n      <td>NaN</td>\n      <td>Gln</td>\n      <td>Pro</td>\n      <td>missense</td>\n      <td>uniprot</td>\n    </tr>\n    <tr>\n      <th>24110</th>\n      <td>11567901</td>\n      <td>NaN</td>\n      <td>NaN</td>\n      <td>NaN</td>\n      <td>242</td>\n      <td>NaN</td>\n      <td>Gly</td>\n      <td>Ser</td>\n      <td>missense</td>\n      <td>uniprot</td>\n    </tr>\n    <tr>\n      <th>24111</th>\n      <td>17853616</td>\n      <td>NaN</td>\n      <td>NaN</td>\n      <td>NaN</td>\n      <td>324</td>\n      <td>NaN</td>\n      <td>Arg</td>\n      <td>Trp</td>\n      <td>missense</td>\n      <td>uniprot</td>\n    </tr>\n  </tbody>\n</table>\n<p>24112 rows × 10 columns</p>\n</div>"
     },
     "metadata": {},
     "execution_count": 386
    }
   ],
   "source": [
    "mutations = pd.concat([mutations, mutations_uniprot], ignore_index=True) # Clear the existing index and reset it in the result\n",
    "mutations"
   ]
  },
  {
   "cell_type": "code",
   "execution_count": 371,
   "metadata": {},
   "outputs": [
    {
     "output_type": "execute_result",
     "data": {
      "text/plain": [
       "0       46334558\n",
       "1       46334536\n",
       "2       46435981\n",
       "3       46385936\n",
       "4       77652292\n",
       "          ...   \n",
       "4082        <NA>\n",
       "4083        <NA>\n",
       "4085        <NA>\n",
       "4090        <NA>\n",
       "4093        <NA>\n",
       "Name: start_genomic, Length: 24112, dtype: Int64"
      ]
     },
     "metadata": {},
     "execution_count": 371
    }
   ],
   "source": [
    "mutations.start_genomic.astype('Int64')"
   ]
  },
  {
   "source": [
    "## agrego disgenet"
   ],
   "cell_type": "markdown",
   "metadata": {}
  },
  {
   "cell_type": "code",
   "execution_count": null,
   "metadata": {},
   "outputs": [],
   "source": [
    "disgenet_subset_clinvar[['uniprot', 'hgnc_id','gene_id', 'gene_name', 'snp_id', 'chromosome', 'position', 'consequence', 'source']]"
   ]
  },
  {
   "cell_type": "code",
   "execution_count": 403,
   "metadata": {},
   "outputs": [
    {
     "output_type": "execute_result",
     "data": {
      "text/plain": [
       "      uniprot     hgnc_id  gene_id gene_name      snp_id chromosome  \\\n",
       "0      O15527   HGNC:8125     4968      OGG1   104893751          3   \n",
       "1      O75494  HGNC:16713    10772    SRSF10    35233638          1   \n",
       "2      O75494  HGNC:16713    10772    SRSF10    35233638          1   \n",
       "3      O95613  HGNC:16068     5116      PCNT   119479061         21   \n",
       "4      O95613  HGNC:16068     5116      PCNT   119479062         21   \n",
       "...       ...         ...      ...       ...         ...        ...   \n",
       "11544  P26368  HGNC:23156    11338     U2AF2    79546472         19   \n",
       "11545  Q15233   HGNC:7871     4841      NONO  1114167441          X   \n",
       "11546  Q15233   HGNC:7871     4841      NONO   869025343          X   \n",
       "11547  Q15233   HGNC:7871     4841      NONO   869025345          X   \n",
       "11548  Q15233   HGNC:7871     4841      NONO   876661316          X   \n",
       "\n",
       "         position                         consequence   source  \n",
       "0       9750423.0                    missense variant  CLINVAR  \n",
       "1      23968097.0                 3 prime UTR variant  GWASCAT  \n",
       "2      23968097.0                 3 prime UTR variant  GWASCAT  \n",
       "3      46346146.0                         stop gained  CLINVAR  \n",
       "4      46411840.0                         stop gained  CLINVAR  \n",
       "...           ...                                 ...      ...  \n",
       "11544  55662011.0  non coding transcript exon variant  GWASCAT  \n",
       "11545  71298508.0                    missense variant  CLINVAR  \n",
       "11546  71297938.0               splice region variant  CLINVAR  \n",
       "11547  71297900.0                         stop gained  CLINVAR  \n",
       "11548  71298509.0                splice donor variant  CLINVAR  \n",
       "\n",
       "[11549 rows x 9 columns]"
      ],
      "text/html": "<div>\n<style scoped>\n    .dataframe tbody tr th:only-of-type {\n        vertical-align: middle;\n    }\n\n    .dataframe tbody tr th {\n        vertical-align: top;\n    }\n\n    .dataframe thead th {\n        text-align: right;\n    }\n</style>\n<table border=\"1\" class=\"dataframe\">\n  <thead>\n    <tr style=\"text-align: right;\">\n      <th></th>\n      <th>uniprot</th>\n      <th>hgnc_id</th>\n      <th>gene_id</th>\n      <th>gene_name</th>\n      <th>snp_id</th>\n      <th>chromosome</th>\n      <th>position</th>\n      <th>consequence</th>\n      <th>source</th>\n    </tr>\n  </thead>\n  <tbody>\n    <tr>\n      <th>0</th>\n      <td>O15527</td>\n      <td>HGNC:8125</td>\n      <td>4968</td>\n      <td>OGG1</td>\n      <td>104893751</td>\n      <td>3</td>\n      <td>9750423.0</td>\n      <td>missense variant</td>\n      <td>CLINVAR</td>\n    </tr>\n    <tr>\n      <th>1</th>\n      <td>O75494</td>\n      <td>HGNC:16713</td>\n      <td>10772</td>\n      <td>SRSF10</td>\n      <td>35233638</td>\n      <td>1</td>\n      <td>23968097.0</td>\n      <td>3 prime UTR variant</td>\n      <td>GWASCAT</td>\n    </tr>\n    <tr>\n      <th>2</th>\n      <td>O75494</td>\n      <td>HGNC:16713</td>\n      <td>10772</td>\n      <td>SRSF10</td>\n      <td>35233638</td>\n      <td>1</td>\n      <td>23968097.0</td>\n      <td>3 prime UTR variant</td>\n      <td>GWASCAT</td>\n    </tr>\n    <tr>\n      <th>3</th>\n      <td>O95613</td>\n      <td>HGNC:16068</td>\n      <td>5116</td>\n      <td>PCNT</td>\n      <td>119479061</td>\n      <td>21</td>\n      <td>46346146.0</td>\n      <td>stop gained</td>\n      <td>CLINVAR</td>\n    </tr>\n    <tr>\n      <th>4</th>\n      <td>O95613</td>\n      <td>HGNC:16068</td>\n      <td>5116</td>\n      <td>PCNT</td>\n      <td>119479062</td>\n      <td>21</td>\n      <td>46411840.0</td>\n      <td>stop gained</td>\n      <td>CLINVAR</td>\n    </tr>\n    <tr>\n      <th>...</th>\n      <td>...</td>\n      <td>...</td>\n      <td>...</td>\n      <td>...</td>\n      <td>...</td>\n      <td>...</td>\n      <td>...</td>\n      <td>...</td>\n      <td>...</td>\n    </tr>\n    <tr>\n      <th>11544</th>\n      <td>P26368</td>\n      <td>HGNC:23156</td>\n      <td>11338</td>\n      <td>U2AF2</td>\n      <td>79546472</td>\n      <td>19</td>\n      <td>55662011.0</td>\n      <td>non coding transcript exon variant</td>\n      <td>GWASCAT</td>\n    </tr>\n    <tr>\n      <th>11545</th>\n      <td>Q15233</td>\n      <td>HGNC:7871</td>\n      <td>4841</td>\n      <td>NONO</td>\n      <td>1114167441</td>\n      <td>X</td>\n      <td>71298508.0</td>\n      <td>missense variant</td>\n      <td>CLINVAR</td>\n    </tr>\n    <tr>\n      <th>11546</th>\n      <td>Q15233</td>\n      <td>HGNC:7871</td>\n      <td>4841</td>\n      <td>NONO</td>\n      <td>869025343</td>\n      <td>X</td>\n      <td>71297938.0</td>\n      <td>splice region variant</td>\n      <td>CLINVAR</td>\n    </tr>\n    <tr>\n      <th>11547</th>\n      <td>Q15233</td>\n      <td>HGNC:7871</td>\n      <td>4841</td>\n      <td>NONO</td>\n      <td>869025345</td>\n      <td>X</td>\n      <td>71297900.0</td>\n      <td>stop gained</td>\n      <td>CLINVAR</td>\n    </tr>\n    <tr>\n      <th>11548</th>\n      <td>Q15233</td>\n      <td>HGNC:7871</td>\n      <td>4841</td>\n      <td>NONO</td>\n      <td>876661316</td>\n      <td>X</td>\n      <td>71298509.0</td>\n      <td>splice donor variant</td>\n      <td>CLINVAR</td>\n    </tr>\n  </tbody>\n</table>\n<p>11549 rows × 9 columns</p>\n</div>"
     },
     "metadata": {},
     "execution_count": 403
    }
   ],
   "source": [
    "disgenet[['uniprot', 'hgnc_id','gene_id', 'gene_name', 'snp_id', 'chromosome', 'position', 'consequence', 'source']]"
   ]
  },
  {
   "cell_type": "code",
   "execution_count": 401,
   "metadata": {},
   "outputs": [
    {
     "output_type": "execute_result",
     "data": {
      "text/plain": [
       "      uniprot     hgnc_id  gene_id gene_name      snp_id chromosome  \\\n",
       "12     O95613  HGNC:16068     5116      PCNT  1555954786         21   \n",
       "14     O95613  HGNC:16068     5116      PCNT  1555959737         21   \n",
       "18     O95613  HGNC:16068     5116      PCNT  1569178877         21   \n",
       "33     O95613  HGNC:16068     5116      PCNT   755084205         21   \n",
       "52     P38159   HGNC:9910    27316      RBMX   181515589          X   \n",
       "...       ...         ...      ...       ...         ...        ...   \n",
       "11338  P03372   HGNC:3467     2099      ESR1  1562787582          6   \n",
       "11490  P23771   HGNC:4172     2625     GATA3   112417755         10   \n",
       "11511  P23771   HGNC:4172     2625     GATA3   387906551         10   \n",
       "11546  Q15233   HGNC:7871     4841      NONO   869025343          X   \n",
       "11548  Q15233   HGNC:7871     4841      NONO   876661316          X   \n",
       "\n",
       "          position              consequence   source  \n",
       "12      46353985.0  splice acceptor variant  CLINVAR  \n",
       "14      46363457.0  splice acceptor variant  CLINVAR  \n",
       "18      46347513.0     splice donor variant  CLINVAR  \n",
       "33      46388741.0  splice acceptor variant  CLINVAR  \n",
       "52     136876663.0    splice region variant  CLINVAR  \n",
       "...            ...                      ...      ...  \n",
       "11338  152099207.0      3 prime UTR variant  CLINVAR  \n",
       "11490    8073738.0  splice acceptor variant  CLINVAR  \n",
       "11511    8064140.0     splice donor variant  CLINVAR  \n",
       "11546   71297938.0    splice region variant  CLINVAR  \n",
       "11548   71298509.0     splice donor variant  CLINVAR  \n",
       "\n",
       "[746 rows x 9 columns]"
      ],
      "text/html": "<div>\n<style scoped>\n    .dataframe tbody tr th:only-of-type {\n        vertical-align: middle;\n    }\n\n    .dataframe tbody tr th {\n        vertical-align: top;\n    }\n\n    .dataframe thead th {\n        text-align: right;\n    }\n</style>\n<table border=\"1\" class=\"dataframe\">\n  <thead>\n    <tr style=\"text-align: right;\">\n      <th></th>\n      <th>uniprot</th>\n      <th>hgnc_id</th>\n      <th>gene_id</th>\n      <th>gene_name</th>\n      <th>snp_id</th>\n      <th>chromosome</th>\n      <th>position</th>\n      <th>consequence</th>\n      <th>source</th>\n    </tr>\n  </thead>\n  <tbody>\n    <tr>\n      <th>12</th>\n      <td>O95613</td>\n      <td>HGNC:16068</td>\n      <td>5116</td>\n      <td>PCNT</td>\n      <td>1555954786</td>\n      <td>21</td>\n      <td>46353985.0</td>\n      <td>splice acceptor variant</td>\n      <td>CLINVAR</td>\n    </tr>\n    <tr>\n      <th>14</th>\n      <td>O95613</td>\n      <td>HGNC:16068</td>\n      <td>5116</td>\n      <td>PCNT</td>\n      <td>1555959737</td>\n      <td>21</td>\n      <td>46363457.0</td>\n      <td>splice acceptor variant</td>\n      <td>CLINVAR</td>\n    </tr>\n    <tr>\n      <th>18</th>\n      <td>O95613</td>\n      <td>HGNC:16068</td>\n      <td>5116</td>\n      <td>PCNT</td>\n      <td>1569178877</td>\n      <td>21</td>\n      <td>46347513.0</td>\n      <td>splice donor variant</td>\n      <td>CLINVAR</td>\n    </tr>\n    <tr>\n      <th>33</th>\n      <td>O95613</td>\n      <td>HGNC:16068</td>\n      <td>5116</td>\n      <td>PCNT</td>\n      <td>755084205</td>\n      <td>21</td>\n      <td>46388741.0</td>\n      <td>splice acceptor variant</td>\n      <td>CLINVAR</td>\n    </tr>\n    <tr>\n      <th>52</th>\n      <td>P38159</td>\n      <td>HGNC:9910</td>\n      <td>27316</td>\n      <td>RBMX</td>\n      <td>181515589</td>\n      <td>X</td>\n      <td>136876663.0</td>\n      <td>splice region variant</td>\n      <td>CLINVAR</td>\n    </tr>\n    <tr>\n      <th>...</th>\n      <td>...</td>\n      <td>...</td>\n      <td>...</td>\n      <td>...</td>\n      <td>...</td>\n      <td>...</td>\n      <td>...</td>\n      <td>...</td>\n      <td>...</td>\n    </tr>\n    <tr>\n      <th>11338</th>\n      <td>P03372</td>\n      <td>HGNC:3467</td>\n      <td>2099</td>\n      <td>ESR1</td>\n      <td>1562787582</td>\n      <td>6</td>\n      <td>152099207.0</td>\n      <td>3 prime UTR variant</td>\n      <td>CLINVAR</td>\n    </tr>\n    <tr>\n      <th>11490</th>\n      <td>P23771</td>\n      <td>HGNC:4172</td>\n      <td>2625</td>\n      <td>GATA3</td>\n      <td>112417755</td>\n      <td>10</td>\n      <td>8073738.0</td>\n      <td>splice acceptor variant</td>\n      <td>CLINVAR</td>\n    </tr>\n    <tr>\n      <th>11511</th>\n      <td>P23771</td>\n      <td>HGNC:4172</td>\n      <td>2625</td>\n      <td>GATA3</td>\n      <td>387906551</td>\n      <td>10</td>\n      <td>8064140.0</td>\n      <td>splice donor variant</td>\n      <td>CLINVAR</td>\n    </tr>\n    <tr>\n      <th>11546</th>\n      <td>Q15233</td>\n      <td>HGNC:7871</td>\n      <td>4841</td>\n      <td>NONO</td>\n      <td>869025343</td>\n      <td>X</td>\n      <td>71297938.0</td>\n      <td>splice region variant</td>\n      <td>CLINVAR</td>\n    </tr>\n    <tr>\n      <th>11548</th>\n      <td>Q15233</td>\n      <td>HGNC:7871</td>\n      <td>4841</td>\n      <td>NONO</td>\n      <td>876661316</td>\n      <td>X</td>\n      <td>71298509.0</td>\n      <td>splice donor variant</td>\n      <td>CLINVAR</td>\n    </tr>\n  </tbody>\n</table>\n<p>746 rows × 9 columns</p>\n</div>"
     },
     "metadata": {},
     "execution_count": 401
    }
   ],
   "source": [
    "# son mutaciones que estan en clinvar pero no tienen efecto en proteina (Protein change)\r\n",
    "# por lo tanto hay que eliminarlas del dataset de disgenet\r\n",
    "entradas_disgenet_eliminar"
   ]
  },
  {
   "cell_type": "code",
   "execution_count": 395,
   "metadata": {},
   "outputs": [
    {
     "output_type": "execute_result",
     "data": {
      "text/plain": [
       "range(1, 24112)"
      ]
     },
     "metadata": {},
     "execution_count": 395
    }
   ],
   "source": [
    "# crear un rango para asignar un id INT a cada mutacion\n",
    "range(1, len(mutations))"
   ]
  },
  {
   "cell_type": "code",
   "execution_count": 17,
   "metadata": {},
   "outputs": [],
   "source": [
    "# col id_mutation INT\n",
    "clinvar['id_mutation'] = range(1, len(clinvar)+1)"
   ]
  },
  {
   "cell_type": "code",
   "execution_count": 93,
   "metadata": {},
   "outputs": [],
   "source": [
    "mutation.to_csv('datasets/mutations_table.csv', index= False)"
   ]
  },
  {
   "cell_type": "code",
   "execution_count": 30,
   "metadata": {},
   "outputs": [
    {
     "output_type": "execute_result",
     "data": {
      "text/plain": [
       "       id_mutation      snp_id chromosome     start      stop  start_aa  \\\n",
       "0                1   587784306         21  46334558  46334596       156   \n",
       "1                2  1555945478         21  46334536  46334613       148   \n",
       "2                3   562568796         21  46435981  46435983      2944   \n",
       "3                4   759470656         21  46385936  46385938      1141   \n",
       "4                5   398123423          X  77652292  77652294      1464   \n",
       "...            ...         ...        ...       ...       ...       ...   \n",
       "23121        23122  1057524408          X  71290740  71290740        35   \n",
       "23122        23123  1085307870          X  71297442  71297442       337   \n",
       "23123        23124  1555949215          X  71291841  71291841        73   \n",
       "23124        23125  1602387702          X  71294428  71294428       184   \n",
       "23125        23126          -1          X  71294335  71294335       153   \n",
       "\n",
       "       end_aa    from   to consequence   source  \n",
       "0       168.0  HisGln  NaN    deletion  clinvar  \n",
       "1       173.0  ValThr  NaN    deletion  clinvar  \n",
       "2         NaN     Lys  NaN    deletion  clinvar  \n",
       "3         NaN     Leu  NaN    deletion  clinvar  \n",
       "4         NaN     Glu  NaN    deletion  clinvar  \n",
       "...       ...     ...  ...         ...      ...  \n",
       "23121     NaN     Gln  Ter    nonsense  clinvar  \n",
       "23122     NaN     Arg  Ter    nonsense  clinvar  \n",
       "23123     NaN     Arg  Ter    nonsense  clinvar  \n",
       "23124     NaN     Arg  Ter    nonsense  clinvar  \n",
       "23125     NaN     Arg  Ter    nonsense  clinvar  \n",
       "\n",
       "[23126 rows x 11 columns]"
      ],
      "text/html": "<div>\n<style scoped>\n    .dataframe tbody tr th:only-of-type {\n        vertical-align: middle;\n    }\n\n    .dataframe tbody tr th {\n        vertical-align: top;\n    }\n\n    .dataframe thead th {\n        text-align: right;\n    }\n</style>\n<table border=\"1\" class=\"dataframe\">\n  <thead>\n    <tr style=\"text-align: right;\">\n      <th></th>\n      <th>id_mutation</th>\n      <th>snp_id</th>\n      <th>chromosome</th>\n      <th>start</th>\n      <th>stop</th>\n      <th>start_aa</th>\n      <th>end_aa</th>\n      <th>from</th>\n      <th>to</th>\n      <th>consequence</th>\n      <th>source</th>\n    </tr>\n  </thead>\n  <tbody>\n    <tr>\n      <th>0</th>\n      <td>1</td>\n      <td>587784306</td>\n      <td>21</td>\n      <td>46334558</td>\n      <td>46334596</td>\n      <td>156</td>\n      <td>168.0</td>\n      <td>HisGln</td>\n      <td>NaN</td>\n      <td>deletion</td>\n      <td>clinvar</td>\n    </tr>\n    <tr>\n      <th>1</th>\n      <td>2</td>\n      <td>1555945478</td>\n      <td>21</td>\n      <td>46334536</td>\n      <td>46334613</td>\n      <td>148</td>\n      <td>173.0</td>\n      <td>ValThr</td>\n      <td>NaN</td>\n      <td>deletion</td>\n      <td>clinvar</td>\n    </tr>\n    <tr>\n      <th>2</th>\n      <td>3</td>\n      <td>562568796</td>\n      <td>21</td>\n      <td>46435981</td>\n      <td>46435983</td>\n      <td>2944</td>\n      <td>NaN</td>\n      <td>Lys</td>\n      <td>NaN</td>\n      <td>deletion</td>\n      <td>clinvar</td>\n    </tr>\n    <tr>\n      <th>3</th>\n      <td>4</td>\n      <td>759470656</td>\n      <td>21</td>\n      <td>46385936</td>\n      <td>46385938</td>\n      <td>1141</td>\n      <td>NaN</td>\n      <td>Leu</td>\n      <td>NaN</td>\n      <td>deletion</td>\n      <td>clinvar</td>\n    </tr>\n    <tr>\n      <th>4</th>\n      <td>5</td>\n      <td>398123423</td>\n      <td>X</td>\n      <td>77652292</td>\n      <td>77652294</td>\n      <td>1464</td>\n      <td>NaN</td>\n      <td>Glu</td>\n      <td>NaN</td>\n      <td>deletion</td>\n      <td>clinvar</td>\n    </tr>\n    <tr>\n      <th>...</th>\n      <td>...</td>\n      <td>...</td>\n      <td>...</td>\n      <td>...</td>\n      <td>...</td>\n      <td>...</td>\n      <td>...</td>\n      <td>...</td>\n      <td>...</td>\n      <td>...</td>\n      <td>...</td>\n    </tr>\n    <tr>\n      <th>23121</th>\n      <td>23122</td>\n      <td>1057524408</td>\n      <td>X</td>\n      <td>71290740</td>\n      <td>71290740</td>\n      <td>35</td>\n      <td>NaN</td>\n      <td>Gln</td>\n      <td>Ter</td>\n      <td>nonsense</td>\n      <td>clinvar</td>\n    </tr>\n    <tr>\n      <th>23122</th>\n      <td>23123</td>\n      <td>1085307870</td>\n      <td>X</td>\n      <td>71297442</td>\n      <td>71297442</td>\n      <td>337</td>\n      <td>NaN</td>\n      <td>Arg</td>\n      <td>Ter</td>\n      <td>nonsense</td>\n      <td>clinvar</td>\n    </tr>\n    <tr>\n      <th>23123</th>\n      <td>23124</td>\n      <td>1555949215</td>\n      <td>X</td>\n      <td>71291841</td>\n      <td>71291841</td>\n      <td>73</td>\n      <td>NaN</td>\n      <td>Arg</td>\n      <td>Ter</td>\n      <td>nonsense</td>\n      <td>clinvar</td>\n    </tr>\n    <tr>\n      <th>23124</th>\n      <td>23125</td>\n      <td>1602387702</td>\n      <td>X</td>\n      <td>71294428</td>\n      <td>71294428</td>\n      <td>184</td>\n      <td>NaN</td>\n      <td>Arg</td>\n      <td>Ter</td>\n      <td>nonsense</td>\n      <td>clinvar</td>\n    </tr>\n    <tr>\n      <th>23125</th>\n      <td>23126</td>\n      <td>-1</td>\n      <td>X</td>\n      <td>71294335</td>\n      <td>71294335</td>\n      <td>153</td>\n      <td>NaN</td>\n      <td>Arg</td>\n      <td>Ter</td>\n      <td>nonsense</td>\n      <td>clinvar</td>\n    </tr>\n  </tbody>\n</table>\n<p>23126 rows × 11 columns</p>\n</div>"
     },
     "metadata": {},
     "execution_count": 30
    }
   ],
   "source": [
    "mutation"
   ]
  },
  {
   "cell_type": "code",
   "execution_count": 23,
   "metadata": {},
   "outputs": [
    {
     "output_type": "execute_result",
     "data": {
      "text/plain": [
       "missense       17953\n",
       "frameshift      2759\n",
       "nonsense        1621\n",
       "deletion         430\n",
       "insertion        146\n",
       "duplication      120\n",
       "delins            97\n",
       "Name: consequence, dtype: int64"
      ]
     },
     "metadata": {},
     "execution_count": 23
    }
   ],
   "source": [
    "clinvar.consequence.value_counts()"
   ]
  },
  {
   "cell_type": "code",
   "execution_count": 24,
   "metadata": {},
   "outputs": [
    {
     "output_type": "execute_result",
     "data": {
      "text/plain": [
       "single nucleotide variant    19351\n",
       "Deletion                      2028\n",
       "Duplication                    880\n",
       "Microsatellite                 424\n",
       "Indel                          279\n",
       "Insertion                      146\n",
       "Inversion                       18\n",
       "Name: type, dtype: int64"
      ]
     },
     "metadata": {},
     "execution_count": 24
    }
   ],
   "source": [
    "clinvar.type.value_counts()"
   ]
  },
  {
   "cell_type": "code",
   "execution_count": null,
   "metadata": {},
   "outputs": [],
   "source": []
  }
 ]
}